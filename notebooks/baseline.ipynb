{
 "cells": [
  {
   "cell_type": "markdown",
   "metadata": {
    "cell_id": "00001-1800e7bd-c754-4151-9d53-0acde7035dd8",
    "deepnote_cell_type": "markdown"
   },
   "source": [
    "# Baseline model for progression prediction"
   ]
  },
  {
   "cell_type": "markdown",
   "metadata": {},
   "source": [
    "## Set-up"
   ]
  },
  {
   "cell_type": "markdown",
   "metadata": {},
   "source": [
    "### Import librairies"
   ]
  },
  {
   "cell_type": "code",
   "execution_count": 2,
   "metadata": {
    "cell_id": "00003-985b5122-dda6-4102-9e6e-e7e678f7053d",
    "deepnote_cell_type": "code",
    "deepnote_to_be_reexecuted": false,
    "execution_millis": 6215,
    "execution_start": 1633527040792,
    "source_hash": "6212ef44"
   },
   "outputs": [],
   "source": [
    "import os, sys\n",
    "\n",
    "from tqdm.notebook import tqdm\n",
    "from typing import List, Dict\n",
    "\n",
    "import pandas as pd\n",
    "import numpy as np\n",
    "import networkx as nx\n",
    "\n",
    "import plotly.express as px\n",
    "import plotly.io as pio\n",
    "\n",
    "pio.templates.default = 'seaborn'"
   ]
  },
  {
   "cell_type": "code",
   "execution_count": 3,
   "metadata": {
    "cell_id": "00005-54c98b3e-0f68-4cef-8053-756836fa5466",
    "deepnote_cell_type": "code",
    "deepnote_to_be_reexecuted": false,
    "execution_millis": 694,
    "execution_start": 1633527057803,
    "source_hash": "20fe91fc"
   },
   "outputs": [],
   "source": [
    "sys.path.append(os.path.abspath('..'))\n",
    "sys.path.append(os.path.abspath('../src'))"
   ]
  },
  {
   "cell_type": "markdown",
   "metadata": {},
   "source": [
    "### Fetch data"
   ]
  },
  {
   "cell_type": "code",
   "execution_count": 79,
   "metadata": {},
   "outputs": [
    {
     "name": "stdout",
     "output_type": "stream",
     "text": [
      "Post-1 study lesions extracted for 88 patients\n",
      "Post-1 study labels added for 88 patients\n",
      "The intersection of datasets showed 88 potential datapoints.\n"
     ]
    }
   ],
   "source": [
    "from utils import fetch_data\n",
    "\n",
    "labels, lesions, patients = fetch_data(verbose=1)\n",
    "\n",
    "include_radiomics = True"
   ]
  },
  {
   "cell_type": "markdown",
   "metadata": {},
   "source": [
    "### Prepare data"
   ]
  },
  {
   "cell_type": "code",
   "execution_count": 80,
   "metadata": {},
   "outputs": [],
   "source": [
    "lesions_agg = lesions.groupby('gpcr_id').agg({\n",
    "    'voxels': np.sum,\n",
    "    'max_suv_val': np.mean,\n",
    "    'mean_suv_val': np.mean,\n",
    "    'min_suv_val': np.mean,\n",
    "    'sd_suv_val': np.mean,\n",
    "    'assigned_organ': pd.Series.tolist\n",
    "}).reset_index()\n",
    "\n",
    "dataset = lesions_agg.merge(patients, on='gpcr_id', how='inner')\n",
    "dataset.set_index('gpcr_id', inplace=True)"
   ]
  },
  {
   "cell_type": "code",
   "execution_count": 81,
   "metadata": {},
   "outputs": [],
   "source": [
    "if not include_radiomics:\n",
    "    valid_columns = [column for column in dataset.columns if column not in ['voxels', 'max_suv_val', 'mean_suv_val', 'min_suv_val', 'sd_suv_val', 'assigned_organ']]\n",
    "    dataset = dataset[valid_columns]"
   ]
  },
  {
   "cell_type": "code",
   "execution_count": 82,
   "metadata": {},
   "outputs": [],
   "source": [
    "from utils import Preprocessor\n",
    "\n",
    "# Separate features by type\n",
    "numerical = list(dataset.select_dtypes(np.number).columns)\n",
    "categorical = list(dataset.select_dtypes([bool, object]).columns)\n",
    "multivalue = ['immuno_therapy_type']\n",
    "\n",
    "if include_radiomics:\n",
    "    multivalue.append('assigned_organ')\n",
    "\n",
    "# Remove multivalue features from categorical ones\n",
    "for feature in multivalue:\n",
    "    categorical.remove(feature)\n",
    "    \n",
    "features_range = list(range(len(numerical) + len(categorical) + len(multivalue)))\n",
    "bp = np.cumsum([len(numerical), len(categorical), len(multivalue)])\n",
    "\n",
    "# Build PipeLine of ColumnTransformers\n",
    "from sklearn.compose import ColumnTransformer\n",
    "from sklearn.pipeline import Pipeline\n",
    "from sklearn.feature_extraction.text import CountVectorizer\n",
    "from sklearn.preprocessing import OneHotEncoder, StandardScaler\n",
    "from sklearn.impute import SimpleImputer\n",
    "\n",
    "if include_radiomics:\n",
    "    ct = Pipeline([\n",
    "        ('imputers', ColumnTransformer([\n",
    "            ('median', SimpleImputer(strategy='median'), numerical),\n",
    "            ('frequent', SimpleImputer(strategy='most_frequent'), categorical)\n",
    "        ], remainder='passthrough')),\n",
    "        ('preprocess', ColumnTransformer([\n",
    "            ('scaler', StandardScaler(), features_range[0:bp[0]]),\n",
    "            ('one-hot', OneHotEncoder(handle_unknown='ignore'), features_range[bp[0]:bp[1]]),\n",
    "            ('count-vec1', CountVectorizer(analyzer=set), features_range[bp[1]:bp[2]][0]),\n",
    "            ('count-vec2', CountVectorizer(analyzer=set), features_range[bp[1]:bp[2]][1])\n",
    "        ], remainder='passthrough')),\n",
    "    ])\n",
    "else:\n",
    "    ct = Pipeline([\n",
    "        ('imputers', ColumnTransformer([\n",
    "            ('median', SimpleImputer(strategy='median'), numerical),\n",
    "            ('frequent', SimpleImputer(strategy='most_frequent'), categorical)\n",
    "        ], remainder='passthrough')),\n",
    "        ('preprocess', ColumnTransformer([\n",
    "            ('scaler', StandardScaler(), features_range[0:bp[0]]),\n",
    "            ('one-hot', OneHotEncoder(handle_unknown='ignore'), features_range[bp[0]:bp[1]]),\n",
    "            ('count-vec1', CountVectorizer(analyzer=set), features_range[bp[1]:bp[2]][0])\n",
    "        ], remainder='passthrough')),\n",
    "    ])\n",
    "\n",
    "ppor = Preprocessor(\n",
    "    pipe=ct,\n",
    "    feats_out_fn=lambda ct: ct.named_steps['imputers'].transformers_[0][2] \\\n",
    "        + list(ct.named_steps['preprocess'].transformers_[1][1].get_feature_names_out()) \\\n",
    "        + list(ct.named_steps['preprocess'].transformers_[2][1].get_feature_names_out())\n",
    "        + list(ct.named_steps['preprocess'].transformers_[3][1].get_feature_names_out()) if include_radiomics else None)\n"
   ]
  },
  {
   "cell_type": "markdown",
   "metadata": {},
   "source": [
    "## Testing different classifiers"
   ]
  },
  {
   "cell_type": "code",
   "execution_count": 83,
   "metadata": {},
   "outputs": [],
   "source": [
    "from sklearn.neural_network import MLPClassifier\n",
    "from sklearn.neighbors import KNeighborsClassifier\n",
    "from sklearn.svm import SVC\n",
    "from sklearn.gaussian_process import GaussianProcessClassifier\n",
    "from sklearn.gaussian_process.kernels import RBF\n",
    "from sklearn.tree import DecisionTreeClassifier\n",
    "from sklearn.ensemble import RandomForestClassifier, AdaBoostClassifier\n",
    "from sklearn.naive_bayes import GaussianNB\n",
    "from sklearn.discriminant_analysis import QuadraticDiscriminantAnalysis\n",
    "from sklearn.linear_model import LogisticRegression\n",
    "\n",
    "names = [\"Nearest Neighbors\", \"Linear SVM\", \"RBF SVM\", \"Gaussian Process\",\n",
    "         \"Decision Tree\", \"Random Forest\", \"Neural Net\", \"AdaBoost\",\n",
    "         \"Naive Bayes\", \"Logistic Regression\"]\n",
    "\n",
    "classifiers = [\n",
    "    KNeighborsClassifier(3),\n",
    "    SVC(kernel=\"linear\", C=0.025),\n",
    "    SVC(gamma=2, C=1),\n",
    "    GaussianProcessClassifier(1.0 * RBF(1.0)),\n",
    "    DecisionTreeClassifier(max_depth=7),\n",
    "    RandomForestClassifier(max_depth=5, n_estimators=10, max_features=1),\n",
    "    MLPClassifier(alpha=.01, max_iter=1000),\n",
    "    AdaBoostClassifier(),\n",
    "    GaussianNB(),\n",
    "    LogisticRegression(penalty='l2', solver='liblinear')]"
   ]
  },
  {
   "cell_type": "code",
   "execution_count": 84,
   "metadata": {},
   "outputs": [
    {
     "data": {
      "application/vnd.jupyter.widget-view+json": {
       "model_id": "d451316ff6e94be2b949385a74a87daa",
       "version_major": 2,
       "version_minor": 0
      },
      "text/plain": [
       "  0%|          | 0/5 [00:00<?, ?it/s]"
      ]
     },
     "metadata": {},
     "output_type": "display_data"
    },
    {
     "name": "stdout",
     "output_type": "stream",
     "text": [
      "[ 0  1  3  4  7  8 11 12 14 15 16 17 18 21 22 23 24 25 26 27 28 29 30 31\n",
      " 32 33 34 35 37 38 41 42 43 44 45 46 47 48 49 51 53 54 55 56 57 58 59 60\n",
      " 61 62 63 64 66 67 68 69 71 73 74 75 76 77 79 80 82 83 84 85 86 87]\n",
      "[ 2  5  6  9 10 13 19 20 36 39 40 50 52 65 70 72 78 81]\n"
     ]
    },
    {
     "name": "stderr",
     "output_type": "stream",
     "text": [
      "/Users/adhaene/miniconda3/envs/ds/lib/python3.8/site-packages/sklearn/base.py:441: UserWarning:\n",
      "\n",
      "X does not have valid feature names, but KNeighborsClassifier was fitted with feature names\n",
      "\n",
      "/Users/adhaene/miniconda3/envs/ds/lib/python3.8/site-packages/sklearn/metrics/_classification.py:1308: UndefinedMetricWarning:\n",
      "\n",
      "Precision and F-score are ill-defined and being set to 0.0 due to no predicted samples. Use `zero_division` parameter to control this behavior.\n",
      "\n",
      "/Users/adhaene/miniconda3/envs/ds/lib/python3.8/site-packages/sklearn/base.py:441: UserWarning:\n",
      "\n",
      "X does not have valid feature names, but AdaBoostClassifier was fitted with feature names\n",
      "\n",
      "/Users/adhaene/miniconda3/envs/ds/lib/python3.8/site-packages/sklearn/base.py:441: UserWarning:\n",
      "\n",
      "X does not have valid feature names, but KNeighborsClassifier was fitted with feature names\n",
      "\n",
      "/Users/adhaene/miniconda3/envs/ds/lib/python3.8/site-packages/sklearn/metrics/_classification.py:1308: UndefinedMetricWarning:\n",
      "\n",
      "Precision and F-score are ill-defined and being set to 0.0 due to no predicted samples. Use `zero_division` parameter to control this behavior.\n",
      "\n"
     ]
    },
    {
     "name": "stdout",
     "output_type": "stream",
     "text": [
      "[ 0  1  2  3  4  5  6  9 10 11 12 13 14 17 18 19 20 21 22 23 24 26 27 28\n",
      " 29 30 32 33 35 36 37 39 40 41 43 44 45 46 47 48 50 51 52 54 55 57 58 59\n",
      " 60 62 63 64 65 66 68 69 70 72 73 74 76 77 78 79 80 81 83 84 85 86]\n",
      "[ 7  8 15 16 25 31 34 38 42 49 53 56 61 67 71 75 82 87]\n"
     ]
    },
    {
     "name": "stderr",
     "output_type": "stream",
     "text": [
      "/Users/adhaene/miniconda3/envs/ds/lib/python3.8/site-packages/sklearn/base.py:441: UserWarning:\n",
      "\n",
      "X does not have valid feature names, but AdaBoostClassifier was fitted with feature names\n",
      "\n",
      "/Users/adhaene/miniconda3/envs/ds/lib/python3.8/site-packages/sklearn/base.py:441: UserWarning:\n",
      "\n",
      "X does not have valid feature names, but KNeighborsClassifier was fitted with feature names\n",
      "\n",
      "/Users/adhaene/miniconda3/envs/ds/lib/python3.8/site-packages/sklearn/metrics/_classification.py:1308: UndefinedMetricWarning:\n",
      "\n",
      "Precision and F-score are ill-defined and being set to 0.0 due to no predicted samples. Use `zero_division` parameter to control this behavior.\n",
      "\n",
      "/Users/adhaene/miniconda3/envs/ds/lib/python3.8/site-packages/sklearn/metrics/_classification.py:1308: UndefinedMetricWarning:\n",
      "\n",
      "Precision and F-score are ill-defined and being set to 0.0 due to no predicted samples. Use `zero_division` parameter to control this behavior.\n",
      "\n"
     ]
    },
    {
     "name": "stdout",
     "output_type": "stream",
     "text": [
      "[ 0  1  2  3  4  5  6  7  8  9 10 12 13 14 15 16 18 19 20 21 22 23 25 28\n",
      " 29 30 31 32 33 34 36 38 39 40 41 42 43 44 45 46 48 49 50 51 52 53 56 60\n",
      " 61 62 65 66 67 68 69 70 71 72 73 74 75 76 77 78 81 82 84 85 86 87]\n",
      "[11 17 24 26 27 35 37 47 54 55 57 58 59 63 64 79 80 83]\n"
     ]
    },
    {
     "name": "stderr",
     "output_type": "stream",
     "text": [
      "/Users/adhaene/miniconda3/envs/ds/lib/python3.8/site-packages/sklearn/base.py:441: UserWarning:\n",
      "\n",
      "X does not have valid feature names, but AdaBoostClassifier was fitted with feature names\n",
      "\n",
      "/Users/adhaene/miniconda3/envs/ds/lib/python3.8/site-packages/sklearn/base.py:441: UserWarning:\n",
      "\n",
      "X does not have valid feature names, but KNeighborsClassifier was fitted with feature names\n",
      "\n",
      "/Users/adhaene/miniconda3/envs/ds/lib/python3.8/site-packages/sklearn/metrics/_classification.py:1308: UndefinedMetricWarning:\n",
      "\n",
      "Precision and F-score are ill-defined and being set to 0.0 due to no predicted samples. Use `zero_division` parameter to control this behavior.\n",
      "\n"
     ]
    },
    {
     "name": "stdout",
     "output_type": "stream",
     "text": [
      "[ 1  2  3  5  6  7  8  9 10 11 12 13 15 16 17 18 19 20 22 24 25 26 27 29\n",
      " 31 32 34 35 36 37 38 39 40 41 42 43 44 45 47 49 50 52 53 54 55 56 57 58\n",
      " 59 60 61 63 64 65 67 68 69 70 71 72 75 77 78 79 80 81 82 83 84 85 87]\n",
      "[ 0  4 14 21 23 28 30 33 46 48 51 62 66 73 74 76 86]\n"
     ]
    },
    {
     "name": "stderr",
     "output_type": "stream",
     "text": [
      "/Users/adhaene/miniconda3/envs/ds/lib/python3.8/site-packages/sklearn/base.py:441: UserWarning:\n",
      "\n",
      "X does not have valid feature names, but AdaBoostClassifier was fitted with feature names\n",
      "\n",
      "/Users/adhaene/miniconda3/envs/ds/lib/python3.8/site-packages/sklearn/base.py:441: UserWarning:\n",
      "\n",
      "X does not have valid feature names, but KNeighborsClassifier was fitted with feature names\n",
      "\n",
      "/Users/adhaene/miniconda3/envs/ds/lib/python3.8/site-packages/sklearn/metrics/_classification.py:1308: UndefinedMetricWarning:\n",
      "\n",
      "Precision and F-score are ill-defined and being set to 0.0 due to no predicted samples. Use `zero_division` parameter to control this behavior.\n",
      "\n"
     ]
    },
    {
     "name": "stdout",
     "output_type": "stream",
     "text": [
      "[ 0  2  4  5  6  7  8  9 10 11 13 14 15 16 17 19 20 21 23 24 25 26 27 28\n",
      " 30 31 33 34 35 36 37 38 39 40 42 46 47 48 49 50 51 52 53 54 55 56 57 58\n",
      " 59 61 62 63 64 65 66 67 70 71 72 73 74 75 76 78 79 80 81 82 83 86 87]\n",
      "[ 1  3 12 18 22 29 32 41 43 44 45 60 68 69 77 84 85]\n"
     ]
    },
    {
     "name": "stderr",
     "output_type": "stream",
     "text": [
      "/Users/adhaene/miniconda3/envs/ds/lib/python3.8/site-packages/sklearn/base.py:441: UserWarning:\n",
      "\n",
      "X does not have valid feature names, but AdaBoostClassifier was fitted with feature names\n",
      "\n"
     ]
    }
   ],
   "source": [
    "from sklearn.model_selection import KFold\n",
    "from sklearn.metrics import accuracy_score, precision_recall_fscore_support, confusion_matrix, roc_auc_score\n",
    "\n",
    "storage = []\n",
    "\n",
    "kfold = KFold(n_splits=5, shuffle=True)\n",
    "\n",
    "pbar = tqdm(enumerate(kfold.split(labels.index)), total=5)\n",
    "for fold, (I_train, I_test) in pbar:\n",
    "    pbar.set_description(f'Fold {fold}')\n",
    "    \n",
    "    print(I_train)\n",
    "    print(I_test)\n",
    "    \n",
    "    ppor.fit(dataset.iloc[I_train])\n",
    "\n",
    "    X_train = ppor.transform(dataset.iloc[I_train]) \n",
    "    X_test = ppor.transform(dataset.iloc[I_test]) \n",
    "\n",
    "    y_train = labels.iloc[I_train]\n",
    "    y_test = labels.iloc[I_test]\n",
    "    \n",
    "    for name, clf in zip(names, classifiers):\n",
    "\n",
    "        clf.fit(X_train, y_train)\n",
    "    \n",
    "        y_pred = clf.predict(X_test)\n",
    "        \n",
    "        # Add testing accuracy\n",
    "        storage.append(\n",
    "            dict(model=name,\n",
    "                 metric='Accuracy - testing',\n",
    "                 value=accuracy_score(y_test, y_pred))\n",
    "        )\n",
    "        \n",
    "        # Add ROC AUC score\n",
    "        storage.append(\n",
    "            dict(model=name,\n",
    "                 metric='ROC AUC - testing',\n",
    "                 value=roc_auc_score(y_test, y_pred))\n",
    "        )\n",
    "        \n",
    "        # Add other binary classification metrics\n",
    "        bin_class_metrics = precision_recall_fscore_support(y_test, y_pred, average='binary')\n",
    "        for value, metric in zip(list(bin_class_metrics)[:-1], ['precision', 'recall', 'fscore']):\n",
    "            storage.append(dict(model=name, metric=(metric.capitalize() + ' - testing'), value=value))\n",
    "        "
   ]
  },
  {
   "cell_type": "code",
   "execution_count": 85,
   "metadata": {},
   "outputs": [],
   "source": [
    "top_h_legend = dict(orientation='h', yanchor=\"bottom\", y=1.02)"
   ]
  },
  {
   "cell_type": "code",
   "execution_count": 86,
   "metadata": {},
   "outputs": [
    {
     "data": {
      "application/vnd.plotly.v1+json": {
       "config": {
        "plotlyServerURL": "https://plot.ly"
       },
       "data": [
        {
         "alignmentgroup": "True",
         "error_y": {
          "array": [
           0.09590264475568457,
           0.12052365559131292,
           0.14760368583664282,
           0.08382110672787882,
           0.10566574389605446
          ]
         },
         "hovertemplate": "model_=Logistic Regression<br>metric_=%{x}<br>value_mean=%{y}<extra></extra>",
         "legendgroup": "Logistic Regression",
         "marker": {
          "color": "rgb(76,114,176)",
          "pattern": {
           "shape": ""
          }
         },
         "name": "Logistic Regression",
         "offsetgroup": "Logistic Regression",
         "orientation": "v",
         "showlegend": true,
         "textposition": "auto",
         "type": "bar",
         "x": [
          "Accuracy - testing",
          "Fscore - testing",
          "Precision - testing",
          "ROC AUC - testing",
          "Recall - testing"
         ],
         "xaxis": "x",
         "y": [
          0.634640522875817,
          0.5407843137254902,
          0.5361904761904762,
          0.6107326007326007,
          0.5526190476190476
         ],
         "yaxis": "y"
        },
        {
         "alignmentgroup": "True",
         "error_y": {
          "array": [
           0.11212532121957489,
           0.21926328668723566,
           0.19414327177969434,
           0.1366154322889111,
           0.30559569928010005
          ]
         },
         "hovertemplate": "model_=Decision Tree<br>metric_=%{x}<br>value_mean=%{y}<extra></extra>",
         "legendgroup": "Decision Tree",
         "marker": {
          "color": "rgb(221,132,82)",
          "pattern": {
           "shape": ""
          }
         },
         "name": "Decision Tree",
         "offsetgroup": "Decision Tree",
         "orientation": "v",
         "showlegend": true,
         "textposition": "auto",
         "type": "bar",
         "x": [
          "Accuracy - testing",
          "Fscore - testing",
          "Precision - testing",
          "ROC AUC - testing",
          "Recall - testing"
         ],
         "xaxis": "x",
         "y": [
          0.6117647058823529,
          0.5033333333333334,
          0.4795238095238096,
          0.6009310134310134,
          0.5613492063492064
         ],
         "yaxis": "y"
        },
        {
         "alignmentgroup": "True",
         "error_y": {
          "array": [
           0.10874057172855119,
           0.13945959842132322,
           0.230227138164449,
           0.06117635974297847,
           0.15506269101762882
          ]
         },
         "hovertemplate": "model_=Linear SVM<br>metric_=%{x}<br>value_mean=%{y}<extra></extra>",
         "legendgroup": "Linear SVM",
         "marker": {
          "color": "rgb(85,168,104)",
          "pattern": {
           "shape": ""
          }
         },
         "name": "Linear SVM",
         "offsetgroup": "Linear SVM",
         "orientation": "v",
         "showlegend": true,
         "textposition": "auto",
         "type": "bar",
         "x": [
          "Accuracy - testing",
          "Fscore - testing",
          "Precision - testing",
          "ROC AUC - testing",
          "Recall - testing"
         ],
         "xaxis": "x",
         "y": [
          0.6117647058823529,
          0.3157142857142857,
          0.619047619047619,
          0.5571092796092796,
          0.24626984126984128
         ],
         "yaxis": "y"
        },
        {
         "alignmentgroup": "True",
         "error_y": {
          "array": [
           0.09284727245531903,
           0.20875763149496018,
           0.18103381626200524,
           0.1146700462453229,
           0.2441417420766835
          ]
         },
         "hovertemplate": "model_=Neural Net<br>metric_=%{x}<br>value_mean=%{y}<extra></extra>",
         "legendgroup": "Neural Net",
         "marker": {
          "color": "rgb(196,78,82)",
          "pattern": {
           "shape": ""
          }
         },
         "name": "Neural Net",
         "offsetgroup": "Neural Net",
         "orientation": "v",
         "showlegend": true,
         "textposition": "auto",
         "type": "bar",
         "x": [
          "Accuracy - testing",
          "Fscore - testing",
          "Precision - testing",
          "ROC AUC - testing",
          "Recall - testing"
         ],
         "xaxis": "x",
         "y": [
          0.6019607843137255,
          0.4555735492577598,
          0.45666666666666667,
          0.5697466422466422,
          0.46603174603174596
         ],
         "yaxis": "y"
        },
        {
         "alignmentgroup": "True",
         "error_y": {
          "array": [
           0.09777742826123262,
           0,
           0,
           0,
           0
          ]
         },
         "hovertemplate": "model_=RBF SVM<br>metric_=%{x}<br>value_mean=%{y}<extra></extra>",
         "legendgroup": "RBF SVM",
         "marker": {
          "color": "rgb(129,114,179)",
          "pattern": {
           "shape": ""
          }
         },
         "name": "RBF SVM",
         "offsetgroup": "RBF SVM",
         "orientation": "v",
         "showlegend": true,
         "textposition": "auto",
         "type": "bar",
         "x": [
          "Accuracy - testing",
          "Fscore - testing",
          "Precision - testing",
          "ROC AUC - testing",
          "Recall - testing"
         ],
         "xaxis": "x",
         "y": [
          0.6006535947712418,
          0,
          0,
          0.5,
          0
         ],
         "yaxis": "y"
        },
        {
         "alignmentgroup": "True",
         "error_y": {
          "array": [
           0.07738269513988673,
           0.08188572546304616,
           0.1563471919941143,
           0.0583758492224102,
           0.08770182425311497
          ]
         },
         "hovertemplate": "model_=Random Forest<br>metric_=%{x}<br>value_mean=%{y}<extra></extra>",
         "legendgroup": "Random Forest",
         "marker": {
          "color": "rgb(147,120,96)",
          "pattern": {
           "shape": ""
          }
         },
         "name": "Random Forest",
         "offsetgroup": "Random Forest",
         "orientation": "v",
         "showlegend": true,
         "textposition": "auto",
         "type": "bar",
         "x": [
          "Accuracy - testing",
          "Fscore - testing",
          "Precision - testing",
          "ROC AUC - testing",
          "Recall - testing"
         ],
         "xaxis": "x",
         "y": [
          0.5777777777777777,
          0.3444244644244644,
          0.4666666666666666,
          0.5288278388278388,
          0.28714285714285714
         ],
         "yaxis": "y"
        },
        {
         "alignmentgroup": "True",
         "error_y": {
          "array": [
           0.12272536331989095,
           0.1381038804961139,
           0.07671161793516525,
           0.1130609455835573,
           0.21037914638950247
          ]
         },
         "hovertemplate": "model_=AdaBoost<br>metric_=%{x}<br>value_mean=%{y}<extra></extra>",
         "legendgroup": "AdaBoost",
         "marker": {
          "color": "rgb(218,139,195)",
          "pattern": {
           "shape": ""
          }
         },
         "name": "AdaBoost",
         "offsetgroup": "AdaBoost",
         "orientation": "v",
         "showlegend": true,
         "textposition": "auto",
         "type": "bar",
         "x": [
          "Accuracy - testing",
          "Fscore - testing",
          "Precision - testing",
          "ROC AUC - testing",
          "Recall - testing"
         ],
         "xaxis": "x",
         "y": [
          0.5542483660130719,
          0.438090681248576,
          0.4271861471861472,
          0.5376434676434677,
          0.46682539682539687
         ],
         "yaxis": "y"
        },
        {
         "alignmentgroup": "True",
         "error_y": {
          "array": [
           0.05489807020139533,
           0.19413427407546735,
           0.24096779563462623,
           0.052361325342876915,
           0.22182958510399925
          ]
         },
         "hovertemplate": "model_=Gaussian Process<br>metric_=%{x}<br>value_mean=%{y}<extra></extra>",
         "legendgroup": "Gaussian Process",
         "marker": {
          "color": "rgb(140,140,140)",
          "pattern": {
           "shape": ""
          }
         },
         "name": "Gaussian Process",
         "offsetgroup": "Gaussian Process",
         "orientation": "v",
         "showlegend": true,
         "textposition": "auto",
         "type": "bar",
         "x": [
          "Accuracy - testing",
          "Fscore - testing",
          "Precision - testing",
          "ROC AUC - testing",
          "Recall - testing"
         ],
         "xaxis": "x",
         "y": [
          0.5235294117647059,
          0.30987179487179484,
          0.325021645021645,
          0.5081440781440781,
          0.33269841269841266
         ],
         "yaxis": "y"
        },
        {
         "alignmentgroup": "True",
         "error_y": {
          "array": [
           0.08489187198230415,
           0.09678651964756003,
           0.1331050042213302,
           0.07266698025228446,
           0.15899967198585654
          ]
         },
         "hovertemplate": "model_=Nearest Neighbors<br>metric_=%{x}<br>value_mean=%{y}<extra></extra>",
         "legendgroup": "Nearest Neighbors",
         "marker": {
          "color": "rgb(204,185,116)",
          "pattern": {
           "shape": ""
          }
         },
         "name": "Nearest Neighbors",
         "offsetgroup": "Nearest Neighbors",
         "orientation": "v",
         "showlegend": true,
         "textposition": "auto",
         "type": "bar",
         "x": [
          "Accuracy - testing",
          "Fscore - testing",
          "Precision - testing",
          "ROC AUC - testing",
          "Recall - testing"
         ],
         "xaxis": "x",
         "y": [
          0.47581699346405226,
          0.33404761904761904,
          0.35454545454545455,
          0.462032967032967,
          0.35214285714285715
         ],
         "yaxis": "y"
        },
        {
         "alignmentgroup": "True",
         "error_y": {
          "array": [
           0.09777742826123262,
           0.08286227867796622,
           0.10065096036761649,
           0.0126561797699528,
           0.10384398243680082
          ]
         },
         "hovertemplate": "model_=Naive Bayes<br>metric_=%{x}<br>value_mean=%{y}<extra></extra>",
         "legendgroup": "Naive Bayes",
         "marker": {
          "color": "rgb(100,181,205)",
          "pattern": {
           "shape": ""
          }
         },
         "name": "Naive Bayes",
         "offsetgroup": "Naive Bayes",
         "orientation": "v",
         "showlegend": true,
         "textposition": "auto",
         "type": "bar",
         "x": [
          "Accuracy - testing",
          "Fscore - testing",
          "Precision - testing",
          "ROC AUC - testing",
          "Recall - testing"
         ],
         "xaxis": "x",
         "y": [
          0.3993464052287582,
          0.5463970811796899,
          0.3988034188034188,
          0.4984920634920635,
          0.9269841269841269
         ],
         "yaxis": "y"
        }
       ],
       "layout": {
        "barmode": "group",
        "legend": {
         "orientation": "h",
         "title": {
          "text": "model_"
         },
         "tracegroupgap": 0,
         "y": 1.02,
         "yanchor": "bottom"
        },
        "margin": {
         "t": 60
        },
        "template": {
         "data": {
          "bar": [
           {
            "error_x": {
             "color": "rgb(36,36,36)"
            },
            "error_y": {
             "color": "rgb(36,36,36)"
            },
            "marker": {
             "line": {
              "color": "rgb(234,234,242)",
              "width": 0.5
             },
             "pattern": {
              "fillmode": "overlay",
              "size": 10,
              "solidity": 0.2
             }
            },
            "type": "bar"
           }
          ],
          "barpolar": [
           {
            "marker": {
             "line": {
              "color": "rgb(234,234,242)",
              "width": 0.5
             },
             "pattern": {
              "fillmode": "overlay",
              "size": 10,
              "solidity": 0.2
             }
            },
            "type": "barpolar"
           }
          ],
          "carpet": [
           {
            "aaxis": {
             "endlinecolor": "rgb(36,36,36)",
             "gridcolor": "white",
             "linecolor": "white",
             "minorgridcolor": "white",
             "startlinecolor": "rgb(36,36,36)"
            },
            "baxis": {
             "endlinecolor": "rgb(36,36,36)",
             "gridcolor": "white",
             "linecolor": "white",
             "minorgridcolor": "white",
             "startlinecolor": "rgb(36,36,36)"
            },
            "type": "carpet"
           }
          ],
          "choropleth": [
           {
            "colorbar": {
             "outlinewidth": 0,
             "tickcolor": "rgb(36,36,36)",
             "ticklen": 8,
             "ticks": "outside",
             "tickwidth": 2
            },
            "type": "choropleth"
           }
          ],
          "contour": [
           {
            "colorbar": {
             "outlinewidth": 0,
             "tickcolor": "rgb(36,36,36)",
             "ticklen": 8,
             "ticks": "outside",
             "tickwidth": 2
            },
            "colorscale": [
             [
              0,
              "rgb(2,4,25)"
             ],
             [
              0.06274509803921569,
              "rgb(24,15,41)"
             ],
             [
              0.12549019607843137,
              "rgb(47,23,57)"
             ],
             [
              0.18823529411764706,
              "rgb(71,28,72)"
             ],
             [
              0.25098039215686274,
              "rgb(97,30,82)"
             ],
             [
              0.3137254901960784,
              "rgb(123,30,89)"
             ],
             [
              0.3764705882352941,
              "rgb(150,27,91)"
             ],
             [
              0.4392156862745098,
              "rgb(177,22,88)"
             ],
             [
              0.5019607843137255,
              "rgb(203,26,79)"
             ],
             [
              0.5647058823529412,
              "rgb(223,47,67)"
             ],
             [
              0.6274509803921569,
              "rgb(236,76,61)"
             ],
             [
              0.6901960784313725,
              "rgb(242,107,73)"
             ],
             [
              0.7529411764705882,
              "rgb(244,135,95)"
             ],
             [
              0.8156862745098039,
              "rgb(245,162,122)"
             ],
             [
              0.8784313725490196,
              "rgb(246,188,153)"
             ],
             [
              0.9411764705882353,
              "rgb(247,212,187)"
             ],
             [
              1,
              "rgb(250,234,220)"
             ]
            ],
            "type": "contour"
           }
          ],
          "contourcarpet": [
           {
            "colorbar": {
             "outlinewidth": 0,
             "tickcolor": "rgb(36,36,36)",
             "ticklen": 8,
             "ticks": "outside",
             "tickwidth": 2
            },
            "type": "contourcarpet"
           }
          ],
          "heatmap": [
           {
            "colorbar": {
             "outlinewidth": 0,
             "tickcolor": "rgb(36,36,36)",
             "ticklen": 8,
             "ticks": "outside",
             "tickwidth": 2
            },
            "colorscale": [
             [
              0,
              "rgb(2,4,25)"
             ],
             [
              0.06274509803921569,
              "rgb(24,15,41)"
             ],
             [
              0.12549019607843137,
              "rgb(47,23,57)"
             ],
             [
              0.18823529411764706,
              "rgb(71,28,72)"
             ],
             [
              0.25098039215686274,
              "rgb(97,30,82)"
             ],
             [
              0.3137254901960784,
              "rgb(123,30,89)"
             ],
             [
              0.3764705882352941,
              "rgb(150,27,91)"
             ],
             [
              0.4392156862745098,
              "rgb(177,22,88)"
             ],
             [
              0.5019607843137255,
              "rgb(203,26,79)"
             ],
             [
              0.5647058823529412,
              "rgb(223,47,67)"
             ],
             [
              0.6274509803921569,
              "rgb(236,76,61)"
             ],
             [
              0.6901960784313725,
              "rgb(242,107,73)"
             ],
             [
              0.7529411764705882,
              "rgb(244,135,95)"
             ],
             [
              0.8156862745098039,
              "rgb(245,162,122)"
             ],
             [
              0.8784313725490196,
              "rgb(246,188,153)"
             ],
             [
              0.9411764705882353,
              "rgb(247,212,187)"
             ],
             [
              1,
              "rgb(250,234,220)"
             ]
            ],
            "type": "heatmap"
           }
          ],
          "heatmapgl": [
           {
            "colorbar": {
             "outlinewidth": 0,
             "tickcolor": "rgb(36,36,36)",
             "ticklen": 8,
             "ticks": "outside",
             "tickwidth": 2
            },
            "colorscale": [
             [
              0,
              "rgb(2,4,25)"
             ],
             [
              0.06274509803921569,
              "rgb(24,15,41)"
             ],
             [
              0.12549019607843137,
              "rgb(47,23,57)"
             ],
             [
              0.18823529411764706,
              "rgb(71,28,72)"
             ],
             [
              0.25098039215686274,
              "rgb(97,30,82)"
             ],
             [
              0.3137254901960784,
              "rgb(123,30,89)"
             ],
             [
              0.3764705882352941,
              "rgb(150,27,91)"
             ],
             [
              0.4392156862745098,
              "rgb(177,22,88)"
             ],
             [
              0.5019607843137255,
              "rgb(203,26,79)"
             ],
             [
              0.5647058823529412,
              "rgb(223,47,67)"
             ],
             [
              0.6274509803921569,
              "rgb(236,76,61)"
             ],
             [
              0.6901960784313725,
              "rgb(242,107,73)"
             ],
             [
              0.7529411764705882,
              "rgb(244,135,95)"
             ],
             [
              0.8156862745098039,
              "rgb(245,162,122)"
             ],
             [
              0.8784313725490196,
              "rgb(246,188,153)"
             ],
             [
              0.9411764705882353,
              "rgb(247,212,187)"
             ],
             [
              1,
              "rgb(250,234,220)"
             ]
            ],
            "type": "heatmapgl"
           }
          ],
          "histogram": [
           {
            "marker": {
             "pattern": {
              "fillmode": "overlay",
              "size": 10,
              "solidity": 0.2
             }
            },
            "type": "histogram"
           }
          ],
          "histogram2d": [
           {
            "colorbar": {
             "outlinewidth": 0,
             "tickcolor": "rgb(36,36,36)",
             "ticklen": 8,
             "ticks": "outside",
             "tickwidth": 2
            },
            "colorscale": [
             [
              0,
              "rgb(2,4,25)"
             ],
             [
              0.06274509803921569,
              "rgb(24,15,41)"
             ],
             [
              0.12549019607843137,
              "rgb(47,23,57)"
             ],
             [
              0.18823529411764706,
              "rgb(71,28,72)"
             ],
             [
              0.25098039215686274,
              "rgb(97,30,82)"
             ],
             [
              0.3137254901960784,
              "rgb(123,30,89)"
             ],
             [
              0.3764705882352941,
              "rgb(150,27,91)"
             ],
             [
              0.4392156862745098,
              "rgb(177,22,88)"
             ],
             [
              0.5019607843137255,
              "rgb(203,26,79)"
             ],
             [
              0.5647058823529412,
              "rgb(223,47,67)"
             ],
             [
              0.6274509803921569,
              "rgb(236,76,61)"
             ],
             [
              0.6901960784313725,
              "rgb(242,107,73)"
             ],
             [
              0.7529411764705882,
              "rgb(244,135,95)"
             ],
             [
              0.8156862745098039,
              "rgb(245,162,122)"
             ],
             [
              0.8784313725490196,
              "rgb(246,188,153)"
             ],
             [
              0.9411764705882353,
              "rgb(247,212,187)"
             ],
             [
              1,
              "rgb(250,234,220)"
             ]
            ],
            "type": "histogram2d"
           }
          ],
          "histogram2dcontour": [
           {
            "colorbar": {
             "outlinewidth": 0,
             "tickcolor": "rgb(36,36,36)",
             "ticklen": 8,
             "ticks": "outside",
             "tickwidth": 2
            },
            "colorscale": [
             [
              0,
              "rgb(2,4,25)"
             ],
             [
              0.06274509803921569,
              "rgb(24,15,41)"
             ],
             [
              0.12549019607843137,
              "rgb(47,23,57)"
             ],
             [
              0.18823529411764706,
              "rgb(71,28,72)"
             ],
             [
              0.25098039215686274,
              "rgb(97,30,82)"
             ],
             [
              0.3137254901960784,
              "rgb(123,30,89)"
             ],
             [
              0.3764705882352941,
              "rgb(150,27,91)"
             ],
             [
              0.4392156862745098,
              "rgb(177,22,88)"
             ],
             [
              0.5019607843137255,
              "rgb(203,26,79)"
             ],
             [
              0.5647058823529412,
              "rgb(223,47,67)"
             ],
             [
              0.6274509803921569,
              "rgb(236,76,61)"
             ],
             [
              0.6901960784313725,
              "rgb(242,107,73)"
             ],
             [
              0.7529411764705882,
              "rgb(244,135,95)"
             ],
             [
              0.8156862745098039,
              "rgb(245,162,122)"
             ],
             [
              0.8784313725490196,
              "rgb(246,188,153)"
             ],
             [
              0.9411764705882353,
              "rgb(247,212,187)"
             ],
             [
              1,
              "rgb(250,234,220)"
             ]
            ],
            "type": "histogram2dcontour"
           }
          ],
          "mesh3d": [
           {
            "colorbar": {
             "outlinewidth": 0,
             "tickcolor": "rgb(36,36,36)",
             "ticklen": 8,
             "ticks": "outside",
             "tickwidth": 2
            },
            "type": "mesh3d"
           }
          ],
          "parcoords": [
           {
            "line": {
             "colorbar": {
              "outlinewidth": 0,
              "tickcolor": "rgb(36,36,36)",
              "ticklen": 8,
              "ticks": "outside",
              "tickwidth": 2
             }
            },
            "type": "parcoords"
           }
          ],
          "pie": [
           {
            "automargin": true,
            "type": "pie"
           }
          ],
          "scatter": [
           {
            "marker": {
             "colorbar": {
              "outlinewidth": 0,
              "tickcolor": "rgb(36,36,36)",
              "ticklen": 8,
              "ticks": "outside",
              "tickwidth": 2
             }
            },
            "type": "scatter"
           }
          ],
          "scatter3d": [
           {
            "line": {
             "colorbar": {
              "outlinewidth": 0,
              "tickcolor": "rgb(36,36,36)",
              "ticklen": 8,
              "ticks": "outside",
              "tickwidth": 2
             }
            },
            "marker": {
             "colorbar": {
              "outlinewidth": 0,
              "tickcolor": "rgb(36,36,36)",
              "ticklen": 8,
              "ticks": "outside",
              "tickwidth": 2
             }
            },
            "type": "scatter3d"
           }
          ],
          "scattercarpet": [
           {
            "marker": {
             "colorbar": {
              "outlinewidth": 0,
              "tickcolor": "rgb(36,36,36)",
              "ticklen": 8,
              "ticks": "outside",
              "tickwidth": 2
             }
            },
            "type": "scattercarpet"
           }
          ],
          "scattergeo": [
           {
            "marker": {
             "colorbar": {
              "outlinewidth": 0,
              "tickcolor": "rgb(36,36,36)",
              "ticklen": 8,
              "ticks": "outside",
              "tickwidth": 2
             }
            },
            "type": "scattergeo"
           }
          ],
          "scattergl": [
           {
            "marker": {
             "colorbar": {
              "outlinewidth": 0,
              "tickcolor": "rgb(36,36,36)",
              "ticklen": 8,
              "ticks": "outside",
              "tickwidth": 2
             }
            },
            "type": "scattergl"
           }
          ],
          "scattermapbox": [
           {
            "marker": {
             "colorbar": {
              "outlinewidth": 0,
              "tickcolor": "rgb(36,36,36)",
              "ticklen": 8,
              "ticks": "outside",
              "tickwidth": 2
             }
            },
            "type": "scattermapbox"
           }
          ],
          "scatterpolar": [
           {
            "marker": {
             "colorbar": {
              "outlinewidth": 0,
              "tickcolor": "rgb(36,36,36)",
              "ticklen": 8,
              "ticks": "outside",
              "tickwidth": 2
             }
            },
            "type": "scatterpolar"
           }
          ],
          "scatterpolargl": [
           {
            "marker": {
             "colorbar": {
              "outlinewidth": 0,
              "tickcolor": "rgb(36,36,36)",
              "ticklen": 8,
              "ticks": "outside",
              "tickwidth": 2
             }
            },
            "type": "scatterpolargl"
           }
          ],
          "scatterternary": [
           {
            "marker": {
             "colorbar": {
              "outlinewidth": 0,
              "tickcolor": "rgb(36,36,36)",
              "ticklen": 8,
              "ticks": "outside",
              "tickwidth": 2
             }
            },
            "type": "scatterternary"
           }
          ],
          "surface": [
           {
            "colorbar": {
             "outlinewidth": 0,
             "tickcolor": "rgb(36,36,36)",
             "ticklen": 8,
             "ticks": "outside",
             "tickwidth": 2
            },
            "colorscale": [
             [
              0,
              "rgb(2,4,25)"
             ],
             [
              0.06274509803921569,
              "rgb(24,15,41)"
             ],
             [
              0.12549019607843137,
              "rgb(47,23,57)"
             ],
             [
              0.18823529411764706,
              "rgb(71,28,72)"
             ],
             [
              0.25098039215686274,
              "rgb(97,30,82)"
             ],
             [
              0.3137254901960784,
              "rgb(123,30,89)"
             ],
             [
              0.3764705882352941,
              "rgb(150,27,91)"
             ],
             [
              0.4392156862745098,
              "rgb(177,22,88)"
             ],
             [
              0.5019607843137255,
              "rgb(203,26,79)"
             ],
             [
              0.5647058823529412,
              "rgb(223,47,67)"
             ],
             [
              0.6274509803921569,
              "rgb(236,76,61)"
             ],
             [
              0.6901960784313725,
              "rgb(242,107,73)"
             ],
             [
              0.7529411764705882,
              "rgb(244,135,95)"
             ],
             [
              0.8156862745098039,
              "rgb(245,162,122)"
             ],
             [
              0.8784313725490196,
              "rgb(246,188,153)"
             ],
             [
              0.9411764705882353,
              "rgb(247,212,187)"
             ],
             [
              1,
              "rgb(250,234,220)"
             ]
            ],
            "type": "surface"
           }
          ],
          "table": [
           {
            "cells": {
             "fill": {
              "color": "rgb(231,231,240)"
             },
             "line": {
              "color": "white"
             }
            },
            "header": {
             "fill": {
              "color": "rgb(183,183,191)"
             },
             "line": {
              "color": "white"
             }
            },
            "type": "table"
           }
          ]
         },
         "layout": {
          "annotationdefaults": {
           "arrowcolor": "rgb(67,103,167)"
          },
          "autotypenumbers": "strict",
          "coloraxis": {
           "colorbar": {
            "outlinewidth": 0,
            "tickcolor": "rgb(36,36,36)",
            "ticklen": 8,
            "ticks": "outside",
            "tickwidth": 2
           }
          },
          "colorscale": {
           "sequential": [
            [
             0,
             "rgb(2,4,25)"
            ],
            [
             0.06274509803921569,
             "rgb(24,15,41)"
            ],
            [
             0.12549019607843137,
             "rgb(47,23,57)"
            ],
            [
             0.18823529411764706,
             "rgb(71,28,72)"
            ],
            [
             0.25098039215686274,
             "rgb(97,30,82)"
            ],
            [
             0.3137254901960784,
             "rgb(123,30,89)"
            ],
            [
             0.3764705882352941,
             "rgb(150,27,91)"
            ],
            [
             0.4392156862745098,
             "rgb(177,22,88)"
            ],
            [
             0.5019607843137255,
             "rgb(203,26,79)"
            ],
            [
             0.5647058823529412,
             "rgb(223,47,67)"
            ],
            [
             0.6274509803921569,
             "rgb(236,76,61)"
            ],
            [
             0.6901960784313725,
             "rgb(242,107,73)"
            ],
            [
             0.7529411764705882,
             "rgb(244,135,95)"
            ],
            [
             0.8156862745098039,
             "rgb(245,162,122)"
            ],
            [
             0.8784313725490196,
             "rgb(246,188,153)"
            ],
            [
             0.9411764705882353,
             "rgb(247,212,187)"
            ],
            [
             1,
             "rgb(250,234,220)"
            ]
           ],
           "sequentialminus": [
            [
             0,
             "rgb(2,4,25)"
            ],
            [
             0.06274509803921569,
             "rgb(24,15,41)"
            ],
            [
             0.12549019607843137,
             "rgb(47,23,57)"
            ],
            [
             0.18823529411764706,
             "rgb(71,28,72)"
            ],
            [
             0.25098039215686274,
             "rgb(97,30,82)"
            ],
            [
             0.3137254901960784,
             "rgb(123,30,89)"
            ],
            [
             0.3764705882352941,
             "rgb(150,27,91)"
            ],
            [
             0.4392156862745098,
             "rgb(177,22,88)"
            ],
            [
             0.5019607843137255,
             "rgb(203,26,79)"
            ],
            [
             0.5647058823529412,
             "rgb(223,47,67)"
            ],
            [
             0.6274509803921569,
             "rgb(236,76,61)"
            ],
            [
             0.6901960784313725,
             "rgb(242,107,73)"
            ],
            [
             0.7529411764705882,
             "rgb(244,135,95)"
            ],
            [
             0.8156862745098039,
             "rgb(245,162,122)"
            ],
            [
             0.8784313725490196,
             "rgb(246,188,153)"
            ],
            [
             0.9411764705882353,
             "rgb(247,212,187)"
            ],
            [
             1,
             "rgb(250,234,220)"
            ]
           ]
          },
          "colorway": [
           "rgb(76,114,176)",
           "rgb(221,132,82)",
           "rgb(85,168,104)",
           "rgb(196,78,82)",
           "rgb(129,114,179)",
           "rgb(147,120,96)",
           "rgb(218,139,195)",
           "rgb(140,140,140)",
           "rgb(204,185,116)",
           "rgb(100,181,205)"
          ],
          "font": {
           "color": "rgb(36,36,36)"
          },
          "geo": {
           "bgcolor": "white",
           "lakecolor": "white",
           "landcolor": "rgb(234,234,242)",
           "showlakes": true,
           "showland": true,
           "subunitcolor": "white"
          },
          "hoverlabel": {
           "align": "left"
          },
          "hovermode": "closest",
          "paper_bgcolor": "white",
          "plot_bgcolor": "rgb(234,234,242)",
          "polar": {
           "angularaxis": {
            "gridcolor": "white",
            "linecolor": "white",
            "showgrid": true,
            "ticks": ""
           },
           "bgcolor": "rgb(234,234,242)",
           "radialaxis": {
            "gridcolor": "white",
            "linecolor": "white",
            "showgrid": true,
            "ticks": ""
           }
          },
          "scene": {
           "xaxis": {
            "backgroundcolor": "rgb(234,234,242)",
            "gridcolor": "white",
            "gridwidth": 2,
            "linecolor": "white",
            "showbackground": true,
            "showgrid": true,
            "ticks": "",
            "zerolinecolor": "white"
           },
           "yaxis": {
            "backgroundcolor": "rgb(234,234,242)",
            "gridcolor": "white",
            "gridwidth": 2,
            "linecolor": "white",
            "showbackground": true,
            "showgrid": true,
            "ticks": "",
            "zerolinecolor": "white"
           },
           "zaxis": {
            "backgroundcolor": "rgb(234,234,242)",
            "gridcolor": "white",
            "gridwidth": 2,
            "linecolor": "white",
            "showbackground": true,
            "showgrid": true,
            "ticks": "",
            "zerolinecolor": "white"
           }
          },
          "shapedefaults": {
           "fillcolor": "rgb(67,103,167)",
           "line": {
            "width": 0
           },
           "opacity": 0.5
          },
          "ternary": {
           "aaxis": {
            "gridcolor": "white",
            "linecolor": "white",
            "showgrid": true,
            "ticks": ""
           },
           "baxis": {
            "gridcolor": "white",
            "linecolor": "white",
            "showgrid": true,
            "ticks": ""
           },
           "bgcolor": "rgb(234,234,242)",
           "caxis": {
            "gridcolor": "white",
            "linecolor": "white",
            "showgrid": true,
            "ticks": ""
           }
          },
          "xaxis": {
           "automargin": true,
           "gridcolor": "white",
           "linecolor": "white",
           "showgrid": true,
           "ticks": "",
           "title": {
            "standoff": 15
           },
           "zerolinecolor": "white"
          },
          "yaxis": {
           "automargin": true,
           "gridcolor": "white",
           "linecolor": "white",
           "showgrid": true,
           "ticks": "",
           "title": {
            "standoff": 15
           },
           "zerolinecolor": "white"
          }
         }
        },
        "xaxis": {
         "anchor": "y",
         "domain": [
          0,
          1
         ],
         "title": {
          "text": "Evaluation metric"
         }
        },
        "yaxis": {
         "anchor": "x",
         "domain": [
          0,
          1
         ],
         "title": {
          "text": "Performance"
         }
        }
       }
      }
     },
     "metadata": {},
     "output_type": "display_data"
    }
   ],
   "source": [
    "import plotly.express as px\n",
    "\n",
    "results = pd.DataFrame(storage)\n",
    "\n",
    "results_agg = results.groupby(['metric', 'model']).agg({'value':['mean', 'std']}).reset_index()\n",
    "results_agg.columns = list(map('_'.join, results_agg.columns.values))\n",
    "\n",
    "px.bar(results_agg.sort_values(['metric_', 'value_mean'], ascending=[True, False]),\n",
    "       x='metric_', y='value_mean', color='model_', error_y='value_std', barmode='group') \\\n",
    "       .update_layout(legend=top_h_legend, xaxis_title='Evaluation metric', yaxis_title='Performance')"
   ]
  },
  {
   "cell_type": "code",
   "execution_count": 68,
   "metadata": {},
   "outputs": [],
   "source": [
    "def get_best_worst_coefs(classifier):\n",
    "    for feature, coef in list(sorted(zip(ppor.get_feature_names_out(), classifier.coef_.reshape(-1)), key=lambda x: x[1], reverse=True))[:5]:\n",
    "        print(f'{feature:<35} {coef:,.4f}')\n",
    "        \n",
    "    for feature, coef in list(sorted(zip(ppor.get_feature_names_out(), classifier.coef_.reshape(-1)), key=lambda x: x[1], reverse=False))[:5]:\n",
    "        print(f'{feature:<35} {coef:,.4f}')"
   ]
  },
  {
   "cell_type": "code",
   "execution_count": 69,
   "metadata": {},
   "outputs": [
    {
     "data": {
      "text/plain": [
       "['sex',\n",
       " 'NRAS_MUTATION',\n",
       " 'BRAF_MUTATION',\n",
       " 'concomittant_tvec',\n",
       " 'concomittant_LAG3',\n",
       " 'prior_targeted_therapy',\n",
       " 'prior_treatment',\n",
       " 'nivo_maintenance']"
      ]
     },
     "execution_count": 69,
     "metadata": {},
     "output_type": "execute_result"
    }
   ],
   "source": [
    "categorical"
   ]
  },
  {
   "cell_type": "code",
   "execution_count": 70,
   "metadata": {},
   "outputs": [
    {
     "name": "stdout",
     "output_type": "stream",
     "text": [
      "ldh_sang_ul                         0.2170\n",
      "lympho_absolus_gl                   0.1817\n",
      "nivo                                0.1754\n",
      "x7_True                             0.1584\n",
      "lymphnode_lowerlimb                 0.1573\n",
      "sd_suv_val                          -0.1965\n",
      "x7_False                            -0.1584\n",
      "x0_female                           -0.1482\n",
      "max_suv_val                         -0.1244\n",
      "lymphnode_abdomen                   -0.1208\n"
     ]
    }
   ],
   "source": [
    "lsvm = dict(zip(names, classifiers))['Linear SVM']\n",
    "\n",
    "get_best_worst_coefs(lsvm)"
   ]
  },
  {
   "cell_type": "code",
   "execution_count": 71,
   "metadata": {},
   "outputs": [
    {
     "name": "stdout",
     "output_type": "stream",
     "text": [
      "lymphnode_lowerlimb                 1.3171\n",
      "lympho_absolus_gl                   0.9642\n",
      "x0_male                             0.8294\n",
      "ldh_sang_ul                         0.7808\n",
      "other_abdomen                       0.5028\n",
      "liver                               -1.0753\n",
      "x0_female                           -0.9000\n",
      "sd_suv_val                          -0.8586\n",
      "voxels                              -0.5900\n",
      "lymphnode_abdomen                   -0.5793\n"
     ]
    }
   ],
   "source": [
    "logreg = dict(zip(names, classifiers))['Logistic Regression']\n",
    "\n",
    "get_best_worst_coefs(logreg)"
   ]
  },
  {
   "cell_type": "code",
   "execution_count": 73,
   "metadata": {},
   "outputs": [
    {
     "name": "stdout",
     "output_type": "stream",
     "text": [
      "sd_suv_val                          0.3113\n",
      "bmi                                 0.1471\n",
      "eosini_absolus_gl                   0.1447\n",
      "lung                                0.0896\n",
      "x0_male                             0.0837\n",
      "ldh_sang_ul                         0.0746\n",
      "lympho_absolus_gl                   0.0533\n",
      "x6_False                            0.0495\n",
      "mean_suv_val                        0.0462\n",
      "voxels                              0.0000\n"
     ]
    }
   ],
   "source": [
    "dtc = dict(zip(names, classifiers))['Decision Tree']\n",
    "\n",
    "for feature, coef in list(sorted(zip(ppor.get_feature_names_out(), dtc.feature_importances_.reshape(-1)), key=lambda x: x[1], reverse=True))[:10]:\n",
    "    print(f'{feature:<35} {coef:,.4f}')\n"
   ]
  },
  {
   "cell_type": "code",
   "execution_count": null,
   "metadata": {},
   "outputs": [],
   "source": []
  }
 ],
 "metadata": {
  "interpreter": {
   "hash": "947aba3e9b2ee8e94b9a4f86dd9db3bac2e8c16055cb5eb2c317ce168f84ce4b"
  },
  "kernelspec": {
   "display_name": "Python 3.8.10 64-bit ('ds': conda)",
   "name": "python3"
  },
  "language_info": {
   "codemirror_mode": {
    "name": "ipython",
    "version": 3
   },
   "file_extension": ".py",
   "mimetype": "text/x-python",
   "name": "python",
   "nbconvert_exporter": "python",
   "pygments_lexer": "ipython3",
   "version": "3.8.12"
  },
  "orig_nbformat": 4
 },
 "nbformat": 4,
 "nbformat_minor": 2
}
