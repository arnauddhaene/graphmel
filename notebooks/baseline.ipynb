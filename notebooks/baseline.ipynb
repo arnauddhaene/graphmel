{
 "cells": [
  {
   "cell_type": "markdown",
   "metadata": {
    "cell_id": "00001-1800e7bd-c754-4151-9d53-0acde7035dd8",
    "deepnote_cell_type": "markdown"
   },
   "source": [
    "# Baseline model for progression prediction"
   ]
  },
  {
   "cell_type": "markdown",
   "metadata": {},
   "source": [
    "## Set-up"
   ]
  },
  {
   "cell_type": "markdown",
   "metadata": {},
   "source": [
    "### Import librairies"
   ]
  },
  {
   "cell_type": "code",
   "execution_count": 1,
   "metadata": {
    "cell_id": "00003-985b5122-dda6-4102-9e6e-e7e678f7053d",
    "deepnote_cell_type": "code",
    "deepnote_to_be_reexecuted": false,
    "execution_millis": 6215,
    "execution_start": 1633527040792,
    "source_hash": "6212ef44"
   },
   "outputs": [],
   "source": [
    "import os, sys\n",
    "\n",
    "from tqdm.notebook import tqdm\n",
    "from typing import List, Dict\n",
    "\n",
    "import pandas as pd\n",
    "import numpy as np\n",
    "import networkx as nx\n",
    "\n",
    "import plotly.express as px\n",
    "import plotly.io as pio\n",
    "\n",
    "pio.templates.default = 'seaborn'"
   ]
  },
  {
   "cell_type": "code",
   "execution_count": 2,
   "metadata": {
    "cell_id": "00005-54c98b3e-0f68-4cef-8053-756836fa5466",
    "deepnote_cell_type": "code",
    "deepnote_to_be_reexecuted": false,
    "execution_millis": 694,
    "execution_start": 1633527057803,
    "source_hash": "20fe91fc"
   },
   "outputs": [],
   "source": [
    "sys.path.append(os.path.abspath('..'))\n",
    "sys.path.append(os.path.abspath('../src'))"
   ]
  },
  {
   "cell_type": "markdown",
   "metadata": {},
   "source": [
    "### Fetch data"
   ]
  },
  {
   "cell_type": "code",
   "execution_count": 3,
   "metadata": {},
   "outputs": [
    {
     "name": "stdout",
     "output_type": "stream",
     "text": [
      "Post-1 study lesions extracted for 107 patients\n",
      "Post-2 study labels added for 67 patients\n",
      "The intersection of datasets showed 58 potential datapoints.\n"
     ]
    },
    {
     "data": {
      "text/plain": [
       "(58, 58, 58)"
      ]
     },
     "execution_count": 3,
     "metadata": {},
     "output_type": "execute_result"
    }
   ],
   "source": [
    "from utils import fetch_data\n",
    "\n",
    "labels, lesions, patients = fetch_data(suspicious=0.4, verbose=1)\n",
    "\n",
    "len(labels.index.unique()), len(lesions.reset_index().gpcr_id.unique()), len(patients.reset_index().gpcr_id.unique())"
   ]
  },
  {
   "cell_type": "code",
   "execution_count": 13,
   "metadata": {},
   "outputs": [],
   "source": [
    "import itertools\n",
    "\n",
    "numerical_feats = list(lesions.select_dtypes(np.number).columns)\n",
    "numerical_feats.remove('mtv')\n",
    "\n",
    "lesions_agg = lesions.groupby(['gpcr_id', 'study_name']).agg({\n",
    "        'mtv': np.sum,\n",
    "        **{feat: np.mean for feat in numerical_feats},\n",
    "        'assigned_organ': pd.Series.tolist,\n",
    "    }).reset_index()\n",
    "\n",
    "studies = lesions_agg.merge(patients, on=['gpcr_id', 'study_name'], how='inner')\n",
    "\n",
    "studies['prior_targeted_therapy'] = studies['prior_targeted_therapy'].astype(bool)\n",
    "studies['BRAF_MUTATION'] = studies['BRAF_MUTATION'].eq('y')\n",
    "studies['NRAS_MUTATION'] = studies['NRAS_MUTATION'].eq('y')"
   ]
  },
  {
   "cell_type": "code",
   "execution_count": 14,
   "metadata": {},
   "outputs": [],
   "source": [
    "patients_agg = studies.groupby('gpcr_id').agg({\n",
    "        'mtv': np.mean,\n",
    "        **{feat: np.mean for feat in numerical_feats},\n",
    "        'assigned_organ': pd.Series.tolist,\n",
    "        'sex': pd.Series.mode,\n",
    "        'NRAS_MUTATION': pd.Series.mode,\n",
    "        'BRAF_MUTATION': pd.Series.mode,\n",
    "        'immuno_therapy_type': pd.Series.tolist,\n",
    "        'concomittant_tvec': pd.Series.mode,\n",
    "        'prior_treatment': pd.Series.mode,\n",
    "        'nivo_maintenance': pd.Series.mode\n",
    "    }).reset_index()"
   ]
  },
  {
   "cell_type": "code",
   "execution_count": 15,
   "metadata": {},
   "outputs": [],
   "source": [
    "patients_agg.assigned_organ = patients_agg.assigned_organ \\\n",
    "    .apply(lambda l: itertools.chain(*l)).apply(set).apply(list)\n",
    "patients_agg.immuno_therapy_type = patients_agg.immuno_therapy_type \\\n",
    "    .apply(lambda l: itertools.chain(*l)).apply(set).apply(list)"
   ]
  },
  {
   "cell_type": "markdown",
   "metadata": {},
   "source": [
    "### Prepare data"
   ]
  },
  {
   "cell_type": "code",
   "execution_count": 16,
   "metadata": {},
   "outputs": [],
   "source": [
    "dataset = patients_agg.set_index('gpcr_id')"
   ]
  },
  {
   "cell_type": "code",
   "execution_count": 17,
   "metadata": {},
   "outputs": [],
   "source": [
    "from utils import Preprocessor\n",
    "\n",
    "# Separate features by type\n",
    "numerical = list(dataset.select_dtypes(np.number).columns)\n",
    "categorical = list(dataset.select_dtypes([bool, object]).columns)\n",
    "multivalue = ['immuno_therapy_type', 'assigned_organ']\n",
    "\n",
    "# Remove multivalue features from categorical ones\n",
    "for feature in multivalue:\n",
    "    categorical.remove(feature)\n",
    "    \n",
    "features_range = list(range(len(numerical) + len(categorical) + len(multivalue)))\n",
    "bp = np.cumsum([len(numerical), len(categorical), len(multivalue)])\n",
    "\n",
    "# Build PipeLine of ColumnTransformers\n",
    "from sklearn.compose import ColumnTransformer\n",
    "from sklearn.pipeline import Pipeline\n",
    "from sklearn.feature_extraction.text import CountVectorizer\n",
    "from sklearn.preprocessing import OneHotEncoder, StandardScaler\n",
    "from sklearn.impute import SimpleImputer\n",
    "\n",
    "\n",
    "ct = Pipeline([\n",
    "    ('imputers', ColumnTransformer([\n",
    "        ('median', SimpleImputer(strategy='median'), numerical),\n",
    "        ('frequent', SimpleImputer(strategy='most_frequent'), categorical)\n",
    "    ], remainder='passthrough')),\n",
    "    ('preprocess', ColumnTransformer([\n",
    "        ('scaler', StandardScaler(), features_range[0:bp[0]]),\n",
    "        ('one-hot', OneHotEncoder(handle_unknown='ignore'), features_range[bp[0]:bp[1]]),\n",
    "        ('count-vec1', CountVectorizer(analyzer=set), features_range[bp[1]:bp[2]][0]),\n",
    "        ('count-vec2', CountVectorizer(analyzer=set), features_range[bp[1]:bp[2]][1])\n",
    "    ], remainder='passthrough')),\n",
    "])\n",
    "\n",
    "\n",
    "ppor = Preprocessor(\n",
    "    pipe=ct,\n",
    "    feats_out_fn=lambda ct: ct.named_steps['imputers'].transformers_[0][2] \\\n",
    "        + list(ct.named_steps['preprocess'].transformers_[1][1].get_feature_names_out()) \\\n",
    "        + list(ct.named_steps['preprocess'].transformers_[2][1].get_feature_names_out())\n",
    "        + list(ct.named_steps['preprocess'].transformers_[3][1].get_feature_names_out()))\n"
   ]
  },
  {
   "cell_type": "markdown",
   "metadata": {},
   "source": [
    "## Testing different classifiers"
   ]
  },
  {
   "cell_type": "code",
   "execution_count": 18,
   "metadata": {},
   "outputs": [],
   "source": [
    "from sklearn.neural_network import MLPClassifier\n",
    "from sklearn.neighbors import KNeighborsClassifier\n",
    "from sklearn.svm import SVC\n",
    "from sklearn.gaussian_process import GaussianProcessClassifier\n",
    "from sklearn.gaussian_process.kernels import RBF\n",
    "from sklearn.tree import DecisionTreeClassifier\n",
    "from sklearn.ensemble import RandomForestClassifier, AdaBoostClassifier\n",
    "from sklearn.naive_bayes import GaussianNB\n",
    "from sklearn.discriminant_analysis import QuadraticDiscriminantAnalysis\n",
    "from sklearn.linear_model import LogisticRegression\n",
    "\n",
    "names = [\"Nearest Neighbors\", \"Linear SVM\", \"RBF SVM\", \"Gaussian Process\",\n",
    "         \"Decision Tree\", \"Random Forest\", \"Neural Net\", \"AdaBoost\",\n",
    "         \"Naive Bayes\", \"Logistic Regression\"]\n",
    "\n",
    "classifiers = [\n",
    "    KNeighborsClassifier(3),\n",
    "    SVC(kernel=\"linear\", C=0.025),\n",
    "    SVC(gamma=2, C=1),\n",
    "    GaussianProcessClassifier(1.0 * RBF(1.0)),\n",
    "    DecisionTreeClassifier(max_depth=7),\n",
    "    RandomForestClassifier(max_depth=5, n_estimators=10, max_features=1),\n",
    "    MLPClassifier(alpha=.01, max_iter=1000),\n",
    "    AdaBoostClassifier(),\n",
    "    GaussianNB(),\n",
    "    LogisticRegression(penalty='l2', solver='liblinear')]"
   ]
  },
  {
   "cell_type": "code",
   "execution_count": 19,
   "metadata": {},
   "outputs": [
    {
     "data": {
      "application/vnd.jupyter.widget-view+json": {
       "model_id": "e2d86420b028441b913fa41f420de93d",
       "version_major": 2,
       "version_minor": 0
      },
      "text/plain": [
       "  0%|          | 0/5 [00:00<?, ?it/s]"
      ]
     },
     "metadata": {},
     "output_type": "display_data"
    }
   ],
   "source": [
    "from sklearn.model_selection import KFold\n",
    "from sklearn.metrics import accuracy_score, precision_recall_fscore_support, confusion_matrix, roc_auc_score\n",
    "\n",
    "storage = []\n",
    "\n",
    "labels = labels.loc[dataset.index]\n",
    "\n",
    "kfold = KFold(n_splits=5, shuffle=True)\n",
    "\n",
    "pbar = tqdm(enumerate(kfold.split(labels.index)), total=5)\n",
    "for fold, (I_train, I_test) in pbar:\n",
    "    pbar.set_description(f'Fold {fold}')\n",
    "    \n",
    "    ppor.fit(dataset.iloc[I_train])\n",
    "\n",
    "    X_train = ppor.transform(dataset.iloc[I_train]) \n",
    "    X_test = ppor.transform(dataset.iloc[I_test]) \n",
    "\n",
    "    y_train = labels.iloc[I_train]\n",
    "    y_test = labels.iloc[I_test]\n",
    "    \n",
    "    for name, clf in zip(names, classifiers):\n",
    "\n",
    "        clf.fit(X_train, y_train)\n",
    "    \n",
    "        y_pred = clf.predict(X_test)\n",
    "        \n",
    "        # Add testing accuracy\n",
    "        storage.append(\n",
    "            dict(model=name,\n",
    "                 metric='Accuracy - testing',\n",
    "                 value=accuracy_score(y_test, y_pred))\n",
    "        )\n",
    "        \n",
    "        # Add ROC AUC score\n",
    "        storage.append(\n",
    "            dict(model=name,\n",
    "                 metric='ROC AUC - testing',\n",
    "                 value=roc_auc_score(y_test, y_pred))\n",
    "        )\n",
    "        \n",
    "        # Add other binary classification metrics\n",
    "        bin_class_metrics = precision_recall_fscore_support(y_test, y_pred, average='binary')\n",
    "        for value, metric in zip(list(bin_class_metrics)[:-1], ['precision', 'recall', 'fscore']):\n",
    "            storage.append(dict(model=name, metric=(metric.capitalize() + ' - testing'), value=value))\n",
    "        "
   ]
  },
  {
   "cell_type": "code",
   "execution_count": 20,
   "metadata": {},
   "outputs": [],
   "source": [
    "top_h_legend = dict(orientation='h', yanchor=\"bottom\", y=1.02)"
   ]
  },
  {
   "cell_type": "code",
   "execution_count": 25,
   "metadata": {},
   "outputs": [
    {
     "data": {
      "text/html": [
       "<div>\n",
       "<style scoped>\n",
       "    .dataframe tbody tr th:only-of-type {\n",
       "        vertical-align: middle;\n",
       "    }\n",
       "\n",
       "    .dataframe tbody tr th {\n",
       "        vertical-align: top;\n",
       "    }\n",
       "\n",
       "    .dataframe thead tr th {\n",
       "        text-align: left;\n",
       "    }\n",
       "\n",
       "    .dataframe thead tr:last-of-type th {\n",
       "        text-align: right;\n",
       "    }\n",
       "</style>\n",
       "<table border=\"1\" class=\"dataframe\">\n",
       "  <thead>\n",
       "    <tr>\n",
       "      <th></th>\n",
       "      <th colspan=\"5\" halign=\"left\">value_mean</th>\n",
       "      <th colspan=\"5\" halign=\"left\">value_std</th>\n",
       "    </tr>\n",
       "    <tr>\n",
       "      <th>metric_</th>\n",
       "      <th>Accuracy - testing</th>\n",
       "      <th>Fscore - testing</th>\n",
       "      <th>Precision - testing</th>\n",
       "      <th>ROC AUC - testing</th>\n",
       "      <th>Recall - testing</th>\n",
       "      <th>Accuracy - testing</th>\n",
       "      <th>Fscore - testing</th>\n",
       "      <th>Precision - testing</th>\n",
       "      <th>ROC AUC - testing</th>\n",
       "      <th>Recall - testing</th>\n",
       "    </tr>\n",
       "    <tr>\n",
       "      <th>model_</th>\n",
       "      <th></th>\n",
       "      <th></th>\n",
       "      <th></th>\n",
       "      <th></th>\n",
       "      <th></th>\n",
       "      <th></th>\n",
       "      <th></th>\n",
       "      <th></th>\n",
       "      <th></th>\n",
       "      <th></th>\n",
       "    </tr>\n",
       "  </thead>\n",
       "  <tbody>\n",
       "    <tr>\n",
       "      <th>Decision Tree</th>\n",
       "      <td>0.581818</td>\n",
       "      <td>0.598992</td>\n",
       "      <td>0.682540</td>\n",
       "      <td>0.583214</td>\n",
       "      <td>0.599286</td>\n",
       "      <td>0.134072</td>\n",
       "      <td>0.206626</td>\n",
       "      <td>0.155523</td>\n",
       "      <td>0.076848</td>\n",
       "      <td>0.289687</td>\n",
       "    </tr>\n",
       "    <tr>\n",
       "      <th>Linear SVM</th>\n",
       "      <td>0.528788</td>\n",
       "      <td>0.678012</td>\n",
       "      <td>0.576407</td>\n",
       "      <td>0.430000</td>\n",
       "      <td>0.860000</td>\n",
       "      <td>0.172787</td>\n",
       "      <td>0.152448</td>\n",
       "      <td>0.133884</td>\n",
       "      <td>0.109545</td>\n",
       "      <td>0.219089</td>\n",
       "    </tr>\n",
       "    <tr>\n",
       "      <th>RBF SVM</th>\n",
       "      <td>0.618182</td>\n",
       "      <td>0.757413</td>\n",
       "      <td>0.618182</td>\n",
       "      <td>0.500000</td>\n",
       "      <td>1.000000</td>\n",
       "      <td>0.128409</td>\n",
       "      <td>0.104648</td>\n",
       "      <td>0.128409</td>\n",
       "      <td>0.000000</td>\n",
       "      <td>0.000000</td>\n",
       "    </tr>\n",
       "  </tbody>\n",
       "</table>\n",
       "</div>"
      ],
      "text/plain": [
       "                      value_mean                                       \\\n",
       "metric_       Accuracy - testing Fscore - testing Precision - testing   \n",
       "model_                                                                  \n",
       "Decision Tree           0.581818         0.598992            0.682540   \n",
       "Linear SVM              0.528788         0.678012            0.576407   \n",
       "RBF SVM                 0.618182         0.757413            0.618182   \n",
       "\n",
       "                                                          value_std  \\\n",
       "metric_       ROC AUC - testing Recall - testing Accuracy - testing   \n",
       "model_                                                                \n",
       "Decision Tree          0.583214         0.599286           0.134072   \n",
       "Linear SVM             0.430000         0.860000           0.172787   \n",
       "RBF SVM                0.500000         1.000000           0.128409   \n",
       "\n",
       "                                                                      \\\n",
       "metric_       Fscore - testing Precision - testing ROC AUC - testing   \n",
       "model_                                                                 \n",
       "Decision Tree         0.206626            0.155523          0.076848   \n",
       "Linear SVM            0.152448            0.133884          0.109545   \n",
       "RBF SVM               0.104648            0.128409          0.000000   \n",
       "\n",
       "                                \n",
       "metric_       Recall - testing  \n",
       "model_                          \n",
       "Decision Tree         0.289687  \n",
       "Linear SVM            0.219089  \n",
       "RBF SVM               0.000000  "
      ]
     },
     "execution_count": 25,
     "metadata": {},
     "output_type": "execute_result"
    }
   ],
   "source": [
    "results_agg.pivot(index='model_', columns='metric_')"
   ]
  },
  {
   "cell_type": "code",
   "execution_count": 21,
   "metadata": {},
   "outputs": [
    {
     "data": {
      "application/vnd.plotly.v1+json": {
       "config": {
        "plotlyServerURL": "https://plot.ly"
       },
       "data": [
        {
         "alignmentgroup": "True",
         "error_y": {
          "array": [
           0.1340716473068421,
           0.20662565188511314,
           0.15552315827194782,
           0.07684844244729994,
           0.2896866709859789
          ]
         },
         "hovertemplate": "model_=Decision Tree<br>metric_=%{x}<br>value_mean=%{y}<extra></extra>",
         "legendgroup": "Decision Tree",
         "marker": {
          "color": "rgb(76,114,176)",
          "pattern": {
           "shape": ""
          }
         },
         "name": "Decision Tree",
         "offsetgroup": "Decision Tree",
         "orientation": "v",
         "showlegend": true,
         "textposition": "auto",
         "type": "bar",
         "x": [
          "Accuracy - testing",
          "Fscore - testing",
          "Precision - testing",
          "ROC AUC - testing",
          "Recall - testing"
         ],
         "xaxis": "x",
         "y": [
          0.5818181818181818,
          0.5989915966386554,
          0.6825396825396826,
          0.5832142857142857,
          0.5992857142857143
         ],
         "yaxis": "y"
        },
        {
         "alignmentgroup": "True",
         "error_y": {
          "array": [
           0.17278707098862012,
           0.15244751510492663,
           0.13388368874942833,
           0.10954451150103321,
           0.21908902300206642
          ]
         },
         "hovertemplate": "model_=Linear SVM<br>metric_=%{x}<br>value_mean=%{y}<extra></extra>",
         "legendgroup": "Linear SVM",
         "marker": {
          "color": "rgb(221,132,82)",
          "pattern": {
           "shape": ""
          }
         },
         "name": "Linear SVM",
         "offsetgroup": "Linear SVM",
         "orientation": "v",
         "showlegend": true,
         "textposition": "auto",
         "type": "bar",
         "x": [
          "Accuracy - testing",
          "Fscore - testing",
          "Precision - testing",
          "ROC AUC - testing",
          "Recall - testing"
         ],
         "xaxis": "x",
         "y": [
          0.5287878787878788,
          0.6780116959064328,
          0.5764069264069265,
          0.43,
          0.86
         ],
         "yaxis": "y"
        },
        {
         "alignmentgroup": "True",
         "error_y": {
          "array": [
           0.1284085322236886,
           0.10464767189161647,
           0.1284085322236886,
           0,
           0
          ]
         },
         "hovertemplate": "model_=RBF SVM<br>metric_=%{x}<br>value_mean=%{y}<extra></extra>",
         "legendgroup": "RBF SVM",
         "marker": {
          "color": "rgb(85,168,104)",
          "pattern": {
           "shape": ""
          }
         },
         "name": "RBF SVM",
         "offsetgroup": "RBF SVM",
         "orientation": "v",
         "showlegend": true,
         "textposition": "auto",
         "type": "bar",
         "x": [
          "Accuracy - testing",
          "Fscore - testing",
          "Precision - testing",
          "ROC AUC - testing",
          "Recall - testing"
         ],
         "xaxis": "x",
         "y": [
          0.6181818181818182,
          0.7574131406948744,
          0.6181818181818182,
          0.5,
          1
         ],
         "yaxis": "y"
        }
       ],
       "layout": {
        "barmode": "group",
        "legend": {
         "orientation": "h",
         "title": {
          "text": "model_"
         },
         "tracegroupgap": 0,
         "y": 1.02,
         "yanchor": "bottom"
        },
        "margin": {
         "t": 60
        },
        "template": {
         "data": {
          "bar": [
           {
            "error_x": {
             "color": "rgb(36,36,36)"
            },
            "error_y": {
             "color": "rgb(36,36,36)"
            },
            "marker": {
             "line": {
              "color": "rgb(234,234,242)",
              "width": 0.5
             },
             "pattern": {
              "fillmode": "overlay",
              "size": 10,
              "solidity": 0.2
             }
            },
            "type": "bar"
           }
          ],
          "barpolar": [
           {
            "marker": {
             "line": {
              "color": "rgb(234,234,242)",
              "width": 0.5
             },
             "pattern": {
              "fillmode": "overlay",
              "size": 10,
              "solidity": 0.2
             }
            },
            "type": "barpolar"
           }
          ],
          "carpet": [
           {
            "aaxis": {
             "endlinecolor": "rgb(36,36,36)",
             "gridcolor": "white",
             "linecolor": "white",
             "minorgridcolor": "white",
             "startlinecolor": "rgb(36,36,36)"
            },
            "baxis": {
             "endlinecolor": "rgb(36,36,36)",
             "gridcolor": "white",
             "linecolor": "white",
             "minorgridcolor": "white",
             "startlinecolor": "rgb(36,36,36)"
            },
            "type": "carpet"
           }
          ],
          "choropleth": [
           {
            "colorbar": {
             "outlinewidth": 0,
             "tickcolor": "rgb(36,36,36)",
             "ticklen": 8,
             "ticks": "outside",
             "tickwidth": 2
            },
            "type": "choropleth"
           }
          ],
          "contour": [
           {
            "colorbar": {
             "outlinewidth": 0,
             "tickcolor": "rgb(36,36,36)",
             "ticklen": 8,
             "ticks": "outside",
             "tickwidth": 2
            },
            "colorscale": [
             [
              0,
              "rgb(2,4,25)"
             ],
             [
              0.06274509803921569,
              "rgb(24,15,41)"
             ],
             [
              0.12549019607843137,
              "rgb(47,23,57)"
             ],
             [
              0.18823529411764706,
              "rgb(71,28,72)"
             ],
             [
              0.25098039215686274,
              "rgb(97,30,82)"
             ],
             [
              0.3137254901960784,
              "rgb(123,30,89)"
             ],
             [
              0.3764705882352941,
              "rgb(150,27,91)"
             ],
             [
              0.4392156862745098,
              "rgb(177,22,88)"
             ],
             [
              0.5019607843137255,
              "rgb(203,26,79)"
             ],
             [
              0.5647058823529412,
              "rgb(223,47,67)"
             ],
             [
              0.6274509803921569,
              "rgb(236,76,61)"
             ],
             [
              0.6901960784313725,
              "rgb(242,107,73)"
             ],
             [
              0.7529411764705882,
              "rgb(244,135,95)"
             ],
             [
              0.8156862745098039,
              "rgb(245,162,122)"
             ],
             [
              0.8784313725490196,
              "rgb(246,188,153)"
             ],
             [
              0.9411764705882353,
              "rgb(247,212,187)"
             ],
             [
              1,
              "rgb(250,234,220)"
             ]
            ],
            "type": "contour"
           }
          ],
          "contourcarpet": [
           {
            "colorbar": {
             "outlinewidth": 0,
             "tickcolor": "rgb(36,36,36)",
             "ticklen": 8,
             "ticks": "outside",
             "tickwidth": 2
            },
            "type": "contourcarpet"
           }
          ],
          "heatmap": [
           {
            "colorbar": {
             "outlinewidth": 0,
             "tickcolor": "rgb(36,36,36)",
             "ticklen": 8,
             "ticks": "outside",
             "tickwidth": 2
            },
            "colorscale": [
             [
              0,
              "rgb(2,4,25)"
             ],
             [
              0.06274509803921569,
              "rgb(24,15,41)"
             ],
             [
              0.12549019607843137,
              "rgb(47,23,57)"
             ],
             [
              0.18823529411764706,
              "rgb(71,28,72)"
             ],
             [
              0.25098039215686274,
              "rgb(97,30,82)"
             ],
             [
              0.3137254901960784,
              "rgb(123,30,89)"
             ],
             [
              0.3764705882352941,
              "rgb(150,27,91)"
             ],
             [
              0.4392156862745098,
              "rgb(177,22,88)"
             ],
             [
              0.5019607843137255,
              "rgb(203,26,79)"
             ],
             [
              0.5647058823529412,
              "rgb(223,47,67)"
             ],
             [
              0.6274509803921569,
              "rgb(236,76,61)"
             ],
             [
              0.6901960784313725,
              "rgb(242,107,73)"
             ],
             [
              0.7529411764705882,
              "rgb(244,135,95)"
             ],
             [
              0.8156862745098039,
              "rgb(245,162,122)"
             ],
             [
              0.8784313725490196,
              "rgb(246,188,153)"
             ],
             [
              0.9411764705882353,
              "rgb(247,212,187)"
             ],
             [
              1,
              "rgb(250,234,220)"
             ]
            ],
            "type": "heatmap"
           }
          ],
          "heatmapgl": [
           {
            "colorbar": {
             "outlinewidth": 0,
             "tickcolor": "rgb(36,36,36)",
             "ticklen": 8,
             "ticks": "outside",
             "tickwidth": 2
            },
            "colorscale": [
             [
              0,
              "rgb(2,4,25)"
             ],
             [
              0.06274509803921569,
              "rgb(24,15,41)"
             ],
             [
              0.12549019607843137,
              "rgb(47,23,57)"
             ],
             [
              0.18823529411764706,
              "rgb(71,28,72)"
             ],
             [
              0.25098039215686274,
              "rgb(97,30,82)"
             ],
             [
              0.3137254901960784,
              "rgb(123,30,89)"
             ],
             [
              0.3764705882352941,
              "rgb(150,27,91)"
             ],
             [
              0.4392156862745098,
              "rgb(177,22,88)"
             ],
             [
              0.5019607843137255,
              "rgb(203,26,79)"
             ],
             [
              0.5647058823529412,
              "rgb(223,47,67)"
             ],
             [
              0.6274509803921569,
              "rgb(236,76,61)"
             ],
             [
              0.6901960784313725,
              "rgb(242,107,73)"
             ],
             [
              0.7529411764705882,
              "rgb(244,135,95)"
             ],
             [
              0.8156862745098039,
              "rgb(245,162,122)"
             ],
             [
              0.8784313725490196,
              "rgb(246,188,153)"
             ],
             [
              0.9411764705882353,
              "rgb(247,212,187)"
             ],
             [
              1,
              "rgb(250,234,220)"
             ]
            ],
            "type": "heatmapgl"
           }
          ],
          "histogram": [
           {
            "marker": {
             "pattern": {
              "fillmode": "overlay",
              "size": 10,
              "solidity": 0.2
             }
            },
            "type": "histogram"
           }
          ],
          "histogram2d": [
           {
            "colorbar": {
             "outlinewidth": 0,
             "tickcolor": "rgb(36,36,36)",
             "ticklen": 8,
             "ticks": "outside",
             "tickwidth": 2
            },
            "colorscale": [
             [
              0,
              "rgb(2,4,25)"
             ],
             [
              0.06274509803921569,
              "rgb(24,15,41)"
             ],
             [
              0.12549019607843137,
              "rgb(47,23,57)"
             ],
             [
              0.18823529411764706,
              "rgb(71,28,72)"
             ],
             [
              0.25098039215686274,
              "rgb(97,30,82)"
             ],
             [
              0.3137254901960784,
              "rgb(123,30,89)"
             ],
             [
              0.3764705882352941,
              "rgb(150,27,91)"
             ],
             [
              0.4392156862745098,
              "rgb(177,22,88)"
             ],
             [
              0.5019607843137255,
              "rgb(203,26,79)"
             ],
             [
              0.5647058823529412,
              "rgb(223,47,67)"
             ],
             [
              0.6274509803921569,
              "rgb(236,76,61)"
             ],
             [
              0.6901960784313725,
              "rgb(242,107,73)"
             ],
             [
              0.7529411764705882,
              "rgb(244,135,95)"
             ],
             [
              0.8156862745098039,
              "rgb(245,162,122)"
             ],
             [
              0.8784313725490196,
              "rgb(246,188,153)"
             ],
             [
              0.9411764705882353,
              "rgb(247,212,187)"
             ],
             [
              1,
              "rgb(250,234,220)"
             ]
            ],
            "type": "histogram2d"
           }
          ],
          "histogram2dcontour": [
           {
            "colorbar": {
             "outlinewidth": 0,
             "tickcolor": "rgb(36,36,36)",
             "ticklen": 8,
             "ticks": "outside",
             "tickwidth": 2
            },
            "colorscale": [
             [
              0,
              "rgb(2,4,25)"
             ],
             [
              0.06274509803921569,
              "rgb(24,15,41)"
             ],
             [
              0.12549019607843137,
              "rgb(47,23,57)"
             ],
             [
              0.18823529411764706,
              "rgb(71,28,72)"
             ],
             [
              0.25098039215686274,
              "rgb(97,30,82)"
             ],
             [
              0.3137254901960784,
              "rgb(123,30,89)"
             ],
             [
              0.3764705882352941,
              "rgb(150,27,91)"
             ],
             [
              0.4392156862745098,
              "rgb(177,22,88)"
             ],
             [
              0.5019607843137255,
              "rgb(203,26,79)"
             ],
             [
              0.5647058823529412,
              "rgb(223,47,67)"
             ],
             [
              0.6274509803921569,
              "rgb(236,76,61)"
             ],
             [
              0.6901960784313725,
              "rgb(242,107,73)"
             ],
             [
              0.7529411764705882,
              "rgb(244,135,95)"
             ],
             [
              0.8156862745098039,
              "rgb(245,162,122)"
             ],
             [
              0.8784313725490196,
              "rgb(246,188,153)"
             ],
             [
              0.9411764705882353,
              "rgb(247,212,187)"
             ],
             [
              1,
              "rgb(250,234,220)"
             ]
            ],
            "type": "histogram2dcontour"
           }
          ],
          "mesh3d": [
           {
            "colorbar": {
             "outlinewidth": 0,
             "tickcolor": "rgb(36,36,36)",
             "ticklen": 8,
             "ticks": "outside",
             "tickwidth": 2
            },
            "type": "mesh3d"
           }
          ],
          "parcoords": [
           {
            "line": {
             "colorbar": {
              "outlinewidth": 0,
              "tickcolor": "rgb(36,36,36)",
              "ticklen": 8,
              "ticks": "outside",
              "tickwidth": 2
             }
            },
            "type": "parcoords"
           }
          ],
          "pie": [
           {
            "automargin": true,
            "type": "pie"
           }
          ],
          "scatter": [
           {
            "marker": {
             "colorbar": {
              "outlinewidth": 0,
              "tickcolor": "rgb(36,36,36)",
              "ticklen": 8,
              "ticks": "outside",
              "tickwidth": 2
             }
            },
            "type": "scatter"
           }
          ],
          "scatter3d": [
           {
            "line": {
             "colorbar": {
              "outlinewidth": 0,
              "tickcolor": "rgb(36,36,36)",
              "ticklen": 8,
              "ticks": "outside",
              "tickwidth": 2
             }
            },
            "marker": {
             "colorbar": {
              "outlinewidth": 0,
              "tickcolor": "rgb(36,36,36)",
              "ticklen": 8,
              "ticks": "outside",
              "tickwidth": 2
             }
            },
            "type": "scatter3d"
           }
          ],
          "scattercarpet": [
           {
            "marker": {
             "colorbar": {
              "outlinewidth": 0,
              "tickcolor": "rgb(36,36,36)",
              "ticklen": 8,
              "ticks": "outside",
              "tickwidth": 2
             }
            },
            "type": "scattercarpet"
           }
          ],
          "scattergeo": [
           {
            "marker": {
             "colorbar": {
              "outlinewidth": 0,
              "tickcolor": "rgb(36,36,36)",
              "ticklen": 8,
              "ticks": "outside",
              "tickwidth": 2
             }
            },
            "type": "scattergeo"
           }
          ],
          "scattergl": [
           {
            "marker": {
             "colorbar": {
              "outlinewidth": 0,
              "tickcolor": "rgb(36,36,36)",
              "ticklen": 8,
              "ticks": "outside",
              "tickwidth": 2
             }
            },
            "type": "scattergl"
           }
          ],
          "scattermapbox": [
           {
            "marker": {
             "colorbar": {
              "outlinewidth": 0,
              "tickcolor": "rgb(36,36,36)",
              "ticklen": 8,
              "ticks": "outside",
              "tickwidth": 2
             }
            },
            "type": "scattermapbox"
           }
          ],
          "scatterpolar": [
           {
            "marker": {
             "colorbar": {
              "outlinewidth": 0,
              "tickcolor": "rgb(36,36,36)",
              "ticklen": 8,
              "ticks": "outside",
              "tickwidth": 2
             }
            },
            "type": "scatterpolar"
           }
          ],
          "scatterpolargl": [
           {
            "marker": {
             "colorbar": {
              "outlinewidth": 0,
              "tickcolor": "rgb(36,36,36)",
              "ticklen": 8,
              "ticks": "outside",
              "tickwidth": 2
             }
            },
            "type": "scatterpolargl"
           }
          ],
          "scatterternary": [
           {
            "marker": {
             "colorbar": {
              "outlinewidth": 0,
              "tickcolor": "rgb(36,36,36)",
              "ticklen": 8,
              "ticks": "outside",
              "tickwidth": 2
             }
            },
            "type": "scatterternary"
           }
          ],
          "surface": [
           {
            "colorbar": {
             "outlinewidth": 0,
             "tickcolor": "rgb(36,36,36)",
             "ticklen": 8,
             "ticks": "outside",
             "tickwidth": 2
            },
            "colorscale": [
             [
              0,
              "rgb(2,4,25)"
             ],
             [
              0.06274509803921569,
              "rgb(24,15,41)"
             ],
             [
              0.12549019607843137,
              "rgb(47,23,57)"
             ],
             [
              0.18823529411764706,
              "rgb(71,28,72)"
             ],
             [
              0.25098039215686274,
              "rgb(97,30,82)"
             ],
             [
              0.3137254901960784,
              "rgb(123,30,89)"
             ],
             [
              0.3764705882352941,
              "rgb(150,27,91)"
             ],
             [
              0.4392156862745098,
              "rgb(177,22,88)"
             ],
             [
              0.5019607843137255,
              "rgb(203,26,79)"
             ],
             [
              0.5647058823529412,
              "rgb(223,47,67)"
             ],
             [
              0.6274509803921569,
              "rgb(236,76,61)"
             ],
             [
              0.6901960784313725,
              "rgb(242,107,73)"
             ],
             [
              0.7529411764705882,
              "rgb(244,135,95)"
             ],
             [
              0.8156862745098039,
              "rgb(245,162,122)"
             ],
             [
              0.8784313725490196,
              "rgb(246,188,153)"
             ],
             [
              0.9411764705882353,
              "rgb(247,212,187)"
             ],
             [
              1,
              "rgb(250,234,220)"
             ]
            ],
            "type": "surface"
           }
          ],
          "table": [
           {
            "cells": {
             "fill": {
              "color": "rgb(231,231,240)"
             },
             "line": {
              "color": "white"
             }
            },
            "header": {
             "fill": {
              "color": "rgb(183,183,191)"
             },
             "line": {
              "color": "white"
             }
            },
            "type": "table"
           }
          ]
         },
         "layout": {
          "annotationdefaults": {
           "arrowcolor": "rgb(67,103,167)"
          },
          "autotypenumbers": "strict",
          "coloraxis": {
           "colorbar": {
            "outlinewidth": 0,
            "tickcolor": "rgb(36,36,36)",
            "ticklen": 8,
            "ticks": "outside",
            "tickwidth": 2
           }
          },
          "colorscale": {
           "sequential": [
            [
             0,
             "rgb(2,4,25)"
            ],
            [
             0.06274509803921569,
             "rgb(24,15,41)"
            ],
            [
             0.12549019607843137,
             "rgb(47,23,57)"
            ],
            [
             0.18823529411764706,
             "rgb(71,28,72)"
            ],
            [
             0.25098039215686274,
             "rgb(97,30,82)"
            ],
            [
             0.3137254901960784,
             "rgb(123,30,89)"
            ],
            [
             0.3764705882352941,
             "rgb(150,27,91)"
            ],
            [
             0.4392156862745098,
             "rgb(177,22,88)"
            ],
            [
             0.5019607843137255,
             "rgb(203,26,79)"
            ],
            [
             0.5647058823529412,
             "rgb(223,47,67)"
            ],
            [
             0.6274509803921569,
             "rgb(236,76,61)"
            ],
            [
             0.6901960784313725,
             "rgb(242,107,73)"
            ],
            [
             0.7529411764705882,
             "rgb(244,135,95)"
            ],
            [
             0.8156862745098039,
             "rgb(245,162,122)"
            ],
            [
             0.8784313725490196,
             "rgb(246,188,153)"
            ],
            [
             0.9411764705882353,
             "rgb(247,212,187)"
            ],
            [
             1,
             "rgb(250,234,220)"
            ]
           ],
           "sequentialminus": [
            [
             0,
             "rgb(2,4,25)"
            ],
            [
             0.06274509803921569,
             "rgb(24,15,41)"
            ],
            [
             0.12549019607843137,
             "rgb(47,23,57)"
            ],
            [
             0.18823529411764706,
             "rgb(71,28,72)"
            ],
            [
             0.25098039215686274,
             "rgb(97,30,82)"
            ],
            [
             0.3137254901960784,
             "rgb(123,30,89)"
            ],
            [
             0.3764705882352941,
             "rgb(150,27,91)"
            ],
            [
             0.4392156862745098,
             "rgb(177,22,88)"
            ],
            [
             0.5019607843137255,
             "rgb(203,26,79)"
            ],
            [
             0.5647058823529412,
             "rgb(223,47,67)"
            ],
            [
             0.6274509803921569,
             "rgb(236,76,61)"
            ],
            [
             0.6901960784313725,
             "rgb(242,107,73)"
            ],
            [
             0.7529411764705882,
             "rgb(244,135,95)"
            ],
            [
             0.8156862745098039,
             "rgb(245,162,122)"
            ],
            [
             0.8784313725490196,
             "rgb(246,188,153)"
            ],
            [
             0.9411764705882353,
             "rgb(247,212,187)"
            ],
            [
             1,
             "rgb(250,234,220)"
            ]
           ]
          },
          "colorway": [
           "rgb(76,114,176)",
           "rgb(221,132,82)",
           "rgb(85,168,104)",
           "rgb(196,78,82)",
           "rgb(129,114,179)",
           "rgb(147,120,96)",
           "rgb(218,139,195)",
           "rgb(140,140,140)",
           "rgb(204,185,116)",
           "rgb(100,181,205)"
          ],
          "font": {
           "color": "rgb(36,36,36)"
          },
          "geo": {
           "bgcolor": "white",
           "lakecolor": "white",
           "landcolor": "rgb(234,234,242)",
           "showlakes": true,
           "showland": true,
           "subunitcolor": "white"
          },
          "hoverlabel": {
           "align": "left"
          },
          "hovermode": "closest",
          "paper_bgcolor": "white",
          "plot_bgcolor": "rgb(234,234,242)",
          "polar": {
           "angularaxis": {
            "gridcolor": "white",
            "linecolor": "white",
            "showgrid": true,
            "ticks": ""
           },
           "bgcolor": "rgb(234,234,242)",
           "radialaxis": {
            "gridcolor": "white",
            "linecolor": "white",
            "showgrid": true,
            "ticks": ""
           }
          },
          "scene": {
           "xaxis": {
            "backgroundcolor": "rgb(234,234,242)",
            "gridcolor": "white",
            "gridwidth": 2,
            "linecolor": "white",
            "showbackground": true,
            "showgrid": true,
            "ticks": "",
            "zerolinecolor": "white"
           },
           "yaxis": {
            "backgroundcolor": "rgb(234,234,242)",
            "gridcolor": "white",
            "gridwidth": 2,
            "linecolor": "white",
            "showbackground": true,
            "showgrid": true,
            "ticks": "",
            "zerolinecolor": "white"
           },
           "zaxis": {
            "backgroundcolor": "rgb(234,234,242)",
            "gridcolor": "white",
            "gridwidth": 2,
            "linecolor": "white",
            "showbackground": true,
            "showgrid": true,
            "ticks": "",
            "zerolinecolor": "white"
           }
          },
          "shapedefaults": {
           "fillcolor": "rgb(67,103,167)",
           "line": {
            "width": 0
           },
           "opacity": 0.5
          },
          "ternary": {
           "aaxis": {
            "gridcolor": "white",
            "linecolor": "white",
            "showgrid": true,
            "ticks": ""
           },
           "baxis": {
            "gridcolor": "white",
            "linecolor": "white",
            "showgrid": true,
            "ticks": ""
           },
           "bgcolor": "rgb(234,234,242)",
           "caxis": {
            "gridcolor": "white",
            "linecolor": "white",
            "showgrid": true,
            "ticks": ""
           }
          },
          "xaxis": {
           "automargin": true,
           "gridcolor": "white",
           "linecolor": "white",
           "showgrid": true,
           "ticks": "",
           "title": {
            "standoff": 15
           },
           "zerolinecolor": "white"
          },
          "yaxis": {
           "automargin": true,
           "gridcolor": "white",
           "linecolor": "white",
           "showgrid": true,
           "ticks": "",
           "title": {
            "standoff": 15
           },
           "zerolinecolor": "white"
          }
         }
        },
        "xaxis": {
         "anchor": "y",
         "domain": [
          0,
          1
         ],
         "title": {
          "text": "Evaluation metric"
         }
        },
        "yaxis": {
         "anchor": "x",
         "domain": [
          0,
          1
         ],
         "title": {
          "text": "Performance"
         }
        }
       }
      }
     },
     "metadata": {},
     "output_type": "display_data"
    }
   ],
   "source": [
    "import plotly.express as px\n",
    "\n",
    "results = pd.DataFrame(storage)\n",
    "\n",
    "top_three = ['RBF SVM', 'Linear SVM', 'Decision Tree']\n",
    "\n",
    "results = results[results.model.isin(top_three)]\n",
    "\n",
    "results_agg = results.groupby(['metric', 'model']).agg({'value':['mean', 'std']}).reset_index()\n",
    "results_agg.columns = list(map('_'.join, results_agg.columns.values))\n",
    "\n",
    "px.bar(results_agg, #.sort_values(['metric_', 'value_mean'], ascending=[True, False]),\n",
    "       x='metric_', y='value_mean', color='model_', error_y='value_std', barmode='group') \\\n",
    "       .update_layout(legend=top_h_legend, xaxis_title='Evaluation metric', yaxis_title='Performance')"
   ]
  },
  {
   "cell_type": "code",
   "execution_count": 26,
   "metadata": {},
   "outputs": [],
   "source": [
    "def get_best_worst_coefs(classifier):\n",
    "    for feature, coef in list(sorted(zip(ppor.get_feature_names_out(), classifier.coef_.reshape(-1)), key=lambda x: x[1], reverse=True))[:5]:\n",
    "        print(f'{feature:<35} {coef:,.4f}')\n",
    "        \n",
    "    for feature, coef in list(sorted(zip(ppor.get_feature_names_out(), classifier.coef_.reshape(-1)), key=lambda x: x[1], reverse=False))[:5]:\n",
    "        print(f'{feature:<35} {coef:,.4f}')"
   ]
  },
  {
   "cell_type": "code",
   "execution_count": 27,
   "metadata": {},
   "outputs": [
    {
     "data": {
      "text/plain": [
       "[('sex', 0),\n",
       " ('NRAS_MUTATION', 1),\n",
       " ('BRAF_MUTATION', 2),\n",
       " ('concomittant_tvec', 3),\n",
       " ('prior_treatment', 4),\n",
       " ('nivo_maintenance', 5)]"
      ]
     },
     "execution_count": 27,
     "metadata": {},
     "output_type": "execute_result"
    }
   ],
   "source": [
    "list(zip(categorical, range(len(categorical))))"
   ]
  },
  {
   "cell_type": "code",
   "execution_count": 31,
   "metadata": {},
   "outputs": [
    {
     "name": "stdout",
     "output_type": "stream",
     "text": [
      "\n",
      "Logistic Regression:\n",
      "====\n",
      "original_shape_majoraxislength      0.6227\n",
      "spleen                              0.5880\n",
      "lung                                0.5630\n",
      "suv_uniformity                      0.5551\n",
      "other_lowerlimb                     0.4784\n",
      "other_thorax                        -1.0213\n",
      "mtv                                 -0.7341\n",
      "original_shape_maximum2ddiametercolumn -0.6651\n",
      "suv_skewness                        -0.5640\n",
      "nivo                                -0.4589\n",
      "None\n",
      "\n",
      "Linear SVM:\n",
      "====\n",
      "suv_energy                          0.0642\n",
      "other_lowerlimb                     0.0609\n",
      "suv_uniformity                      0.0605\n",
      "x1_True                             0.0498\n",
      "x0_female                           0.0465\n",
      "mtv                                 -0.1591\n",
      "original_shape_maximum2ddiametercolumn -0.1209\n",
      "other_thorax                        -0.0846\n",
      "original_shape_maximum2ddiameterrow -0.0741\n",
      "original_shape_surfacearea          -0.0701\n",
      "None\n"
     ]
    }
   ],
   "source": [
    "for classifier in ['Logistic Regression', 'Linear SVM']:\n",
    "    \n",
    "    print(f'\\n{classifier}:\\n====')\n",
    "    print(get_best_worst_coefs(dict(zip(names, classifiers))[classifier]))"
   ]
  },
  {
   "cell_type": "code",
   "execution_count": 29,
   "metadata": {},
   "outputs": [
    {
     "name": "stdout",
     "output_type": "stream",
     "text": [
      "Decision Tree\n",
      "====\n",
      "original_shape_maximum3ddiameter    0.2130\n",
      "mtv                                 0.1997\n",
      "original_shape_meshvolume           0.1660\n",
      "suv_energy                          0.1068\n",
      "original_shape_flatness             0.0890\n",
      "original_shape_majoraxislength      0.0774\n",
      "original_shape_voxelvolume          0.0708\n",
      "original_shape_minoraxislength      0.0442\n",
      "original_shape_maximum2ddiameterslice 0.0332\n",
      "original_shape_elongation           0.0000\n"
     ]
    }
   ],
   "source": [
    "dtc = dict(zip(names, classifiers))['Decision Tree']\n",
    "\n",
    "print('Decision Tree\\n====')\n",
    "\n",
    "for feature, coef in list(sorted(zip(ppor.get_feature_names_out(), dtc.feature_importances_.reshape(-1)), key=lambda x: x[1], reverse=True))[:10]:\n",
    "    print(f'{feature:<35} {coef:,.4f}')\n"
   ]
  },
  {
   "cell_type": "code",
   "execution_count": null,
   "metadata": {},
   "outputs": [],
   "source": []
  }
 ],
 "metadata": {
  "interpreter": {
   "hash": "947aba3e9b2ee8e94b9a4f86dd9db3bac2e8c16055cb5eb2c317ce168f84ce4b"
  },
  "kernelspec": {
   "display_name": "Python 3.8.10 64-bit ('ds': conda)",
   "name": "python3"
  },
  "language_info": {
   "codemirror_mode": {
    "name": "ipython",
    "version": 3
   },
   "file_extension": ".py",
   "mimetype": "text/x-python",
   "name": "python",
   "nbconvert_exporter": "python",
   "pygments_lexer": "ipython3",
   "version": "3.8.12"
  },
  "orig_nbformat": 4
 },
 "nbformat": 4,
 "nbformat_minor": 2
}
