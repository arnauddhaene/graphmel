{
 "cells": [
  {
   "cell_type": "markdown",
   "metadata": {
    "cell_id": "00001-1800e7bd-c754-4151-9d53-0acde7035dd8",
    "deepnote_cell_type": "markdown"
   },
   "source": [
    "# Baseline model for progression prediction"
   ]
  },
  {
   "cell_type": "markdown",
   "metadata": {},
   "source": [
    "## Set-up"
   ]
  },
  {
   "cell_type": "markdown",
   "metadata": {},
   "source": [
    "### Import librairies"
   ]
  },
  {
   "cell_type": "code",
   "execution_count": 5,
   "metadata": {
    "cell_id": "00003-985b5122-dda6-4102-9e6e-e7e678f7053d",
    "deepnote_cell_type": "code",
    "deepnote_to_be_reexecuted": false,
    "execution_millis": 6215,
    "execution_start": 1633527040792,
    "source_hash": "6212ef44"
   },
   "outputs": [],
   "source": [
    "import os, sys\n",
    "\n",
    "from tqdm.notebook import tqdm\n",
    "from typing import List, Dict\n",
    "\n",
    "import pandas as pd\n",
    "import numpy as np\n",
    "import networkx as nx\n",
    "\n",
    "import plotly.express as px\n",
    "import plotly.io as pio\n",
    "\n",
    "pio.templates.default = 'seaborn'"
   ]
  },
  {
   "cell_type": "code",
   "execution_count": 6,
   "metadata": {
    "cell_id": "00005-54c98b3e-0f68-4cef-8053-756836fa5466",
    "deepnote_cell_type": "code",
    "deepnote_to_be_reexecuted": false,
    "execution_millis": 694,
    "execution_start": 1633527057803,
    "source_hash": "20fe91fc"
   },
   "outputs": [],
   "source": [
    "sys.path.append(os.path.abspath('..'))\n",
    "sys.path.append(os.path.abspath('../src'))"
   ]
  },
  {
   "cell_type": "markdown",
   "metadata": {},
   "source": [
    "### Fetch data"
   ]
  },
  {
   "cell_type": "code",
   "execution_count": 7,
   "metadata": {},
   "outputs": [
    {
     "name": "stdout",
     "output_type": "stream",
     "text": [
      "Post-1 study lesions extracted for 88 patients\n",
      "Post-1 study labels added for 88 patients\n",
      "The intersection of datasets showed 88 potential datapoints.\n"
     ]
    }
   ],
   "source": [
    "from utils import fetch_data\n",
    "\n",
    "labels, lesions, patients = fetch_data(verbose=1)"
   ]
  },
  {
   "cell_type": "markdown",
   "metadata": {},
   "source": [
    "### Prepare data"
   ]
  },
  {
   "cell_type": "code",
   "execution_count": 8,
   "metadata": {},
   "outputs": [],
   "source": [
    "lesions_agg = lesions.groupby('gpcr_id').agg({\n",
    "    'voxels': np.sum,\n",
    "    'max_suv_val': np.mean,\n",
    "    'mean_suv_val': np.mean,\n",
    "    'min_suv_val': np.mean,\n",
    "    'sd_suv_val': np.mean,\n",
    "    'assigned_organ': pd.Series.tolist\n",
    "}).reset_index()\n",
    "\n",
    "dataset = lesions_agg.merge(patients, on='gpcr_id', how='inner')\n",
    "dataset.set_index('gpcr_id', inplace=True)"
   ]
  },
  {
   "cell_type": "code",
   "execution_count": 9,
   "metadata": {},
   "outputs": [],
   "source": [
    "from utils import Preprocessor\n",
    "\n",
    "# Separate features by type\n",
    "numerical = list(dataset.select_dtypes(np.number).columns)\n",
    "categorical = list(dataset.select_dtypes([bool, object]).columns)\n",
    "multivalue = ['assigned_organ', 'immuno_therapy_type']\n",
    "\n",
    "# Remove multivalue features from categorical ones\n",
    "for feature in multivalue:\n",
    "    categorical.remove(feature)\n",
    "    \n",
    "features_range = list(range(len(numerical) + len(categorical) + len(multivalue)))\n",
    "bp = np.cumsum([len(numerical), len(categorical), len(multivalue)])\n",
    "\n",
    "# Build PipeLine of ColumnTransformers\n",
    "from sklearn.compose import ColumnTransformer\n",
    "from sklearn.pipeline import Pipeline\n",
    "from sklearn.feature_extraction.text import CountVectorizer\n",
    "from sklearn.preprocessing import OneHotEncoder, StandardScaler\n",
    "from sklearn.impute import SimpleImputer\n",
    "\n",
    "ct = Pipeline([\n",
    "    ('imputers', ColumnTransformer([\n",
    "        ('median', SimpleImputer(strategy='median'), numerical),\n",
    "        ('frequent', SimpleImputer(strategy='most_frequent'), categorical)\n",
    "    ], remainder='passthrough')),\n",
    "    ('preprocess', ColumnTransformer([\n",
    "        ('scaler', StandardScaler(), features_range[0:bp[0]]),\n",
    "        ('one-hot', OneHotEncoder(handle_unknown='ignore'), features_range[bp[0]:bp[1]]),\n",
    "        ('count-vec1', CountVectorizer(analyzer=set), features_range[bp[1]:bp[2]][0]),\n",
    "        ('count-vec2', CountVectorizer(analyzer=set), features_range[bp[1]:bp[2]][1])\n",
    "    ], remainder='passthrough')),\n",
    "])\n",
    "\n",
    "ppor = Preprocessor(\n",
    "    pipe=ct,\n",
    "    feats_out_fn=lambda ct: ct.named_steps['imputers'].transformers_[0][2] \\\n",
    "        + list(ct.named_steps['preprocess'].transformers_[1][1].get_feature_names()) \\\n",
    "        + ct.named_steps['preprocess'].transformers_[2][1].get_feature_names() \\\n",
    "        + ct.named_steps['preprocess'].transformers_[3][1].get_feature_names())\n"
   ]
  },
  {
   "cell_type": "code",
   "execution_count": 10,
   "metadata": {},
   "outputs": [],
   "source": [
    "from sklearn.model_selection import train_test_split\n",
    "\n",
    "I_train, I_test, y_train, y_test = \\\n",
    "    train_test_split(labels.index, labels, test_size=0.2, random_state=27)\n",
    "    \n",
    "ppor.fit(dataset.loc[I_train])\n",
    "\n",
    "X_train = ppor.transform(dataset.loc[I_train]) \n",
    "X_test = ppor.transform(dataset.loc[I_test]) \n",
    "\n",
    "y_train = labels.loc[I_train]\n",
    "y_test = labels.loc[I_test]"
   ]
  },
  {
   "cell_type": "markdown",
   "metadata": {},
   "source": [
    "## Testing different classifiers"
   ]
  },
  {
   "cell_type": "markdown",
   "metadata": {},
   "source": []
  },
  {
   "cell_type": "code",
   "execution_count": 11,
   "metadata": {},
   "outputs": [],
   "source": [
    "from sklearn.neural_network import MLPClassifier\n",
    "from sklearn.neighbors import KNeighborsClassifier\n",
    "from sklearn.svm import SVC\n",
    "from sklearn.gaussian_process import GaussianProcessClassifier\n",
    "from sklearn.gaussian_process.kernels import RBF\n",
    "from sklearn.tree import DecisionTreeClassifier\n",
    "from sklearn.ensemble import RandomForestClassifier, AdaBoostClassifier\n",
    "from sklearn.naive_bayes import GaussianNB\n",
    "from sklearn.discriminant_analysis import QuadraticDiscriminantAnalysis\n",
    "from sklearn.linear_model import LogisticRegression\n",
    "\n",
    "names = [\"Nearest Neighbors\", \"Linear SVM\", \"RBF SVM\", \"Gaussian Process\",\n",
    "         \"Decision Tree\", \"Random Forest\", \"Neural Net\", \"AdaBoost\",\n",
    "         \"Naive Bayes\", \"Logistic Regression\"]\n",
    "\n",
    "classifiers = [\n",
    "    KNeighborsClassifier(3),\n",
    "    SVC(kernel=\"linear\", C=0.025),\n",
    "    SVC(gamma=2, C=1),\n",
    "    GaussianProcessClassifier(1.0 * RBF(1.0)),\n",
    "    DecisionTreeClassifier(max_depth=7),\n",
    "    RandomForestClassifier(max_depth=5, n_estimators=10, max_features=1),\n",
    "    MLPClassifier(alpha=.01, max_iter=1000),\n",
    "    AdaBoostClassifier(),\n",
    "    GaussianNB(),\n",
    "    LogisticRegression(penalty='l2', solver='liblinear')]"
   ]
  },
  {
   "cell_type": "code",
   "execution_count": 21,
   "metadata": {},
   "outputs": [
    {
     "data": {
      "application/vnd.jupyter.widget-view+json": {
       "model_id": "226556eb91584bcc99294792b16365c7",
       "version_major": 2,
       "version_minor": 0
      },
      "text/plain": [
       "  0%|          | 0/10 [00:00<?, ?it/s]"
      ]
     },
     "metadata": {},
     "output_type": "display_data"
    },
    {
     "name": "stdout",
     "output_type": "stream",
     "text": [
      "Nearest Neighbors    0.5000\n",
      "Linear SVM           0.5556\n",
      "RBF SVM              0.5556\n",
      "Gaussian Process     0.4444\n",
      "Decision Tree        0.7222\n",
      "Random Forest        0.3333\n",
      "Neural Net           0.7222\n",
      "AdaBoost             0.5556\n",
      "Naive Bayes          0.3889\n",
      "Logistic Regression  0.8333\n"
     ]
    }
   ],
   "source": [
    "scores = []\n",
    "\n",
    "for name, clf in tqdm(zip(names, classifiers), total=len(names)):\n",
    "    \n",
    "    clf.fit(X_train, y_train)\n",
    "    \n",
    "    y_pred = clf.predict(X_test)\n",
    "    \n",
    "    print(f'{name:<20} {accuracy_score(y_test, y_pred):,.4f}')\n",
    "    \n",
    "    scores.append((name, clf.score(X_test, y_test)))\n"
   ]
  },
  {
   "cell_type": "code",
   "execution_count": 22,
   "metadata": {},
   "outputs": [
    {
     "name": "stdout",
     "output_type": "stream",
     "text": [
      "Nearest Neighbors    0.5000\n",
      "Linear SVM           0.5556\n",
      "RBF SVM              0.5556\n",
      "Gaussian Process     0.4444\n",
      "Decision Tree        0.7222\n",
      "Random Forest        0.3333\n",
      "Neural Net           0.7222\n",
      "AdaBoost             0.5556\n",
      "Naive Bayes          0.3889\n",
      "Logistic Regression  0.8333\n"
     ]
    }
   ],
   "source": [
    "for method, score in list(scores):\n",
    "    print(f'{method:<20} {score:,.4f}')"
   ]
  },
  {
   "cell_type": "code",
   "execution_count": 13,
   "metadata": {},
   "outputs": [],
   "source": [
    "from sklearn.metrics import confusion_matrix, accuracy_score, roc_auc_score, precision_recall_fscore_support\n",
    "import seaborn as sns\n",
    "import matplotlib.pyplot as plt\n",
    "\n",
    "def plot_cm(y_true, y_pred, fig, ax):\n",
    "    \n",
    "    storage = []\n",
    "    \n",
    "    # Add testing accuracy\n",
    "    storage.append(\n",
    "        dict(metric='Accuracy', value=accuracy_score(y_true, y_pred))\n",
    "    )\n",
    "    \n",
    "    # Add ROC AUC score\n",
    "    # storage.append(\n",
    "    #     dict(metric='ROC AUC', value=roc_auc_score(y_true, y_pred))\n",
    "    # )\n",
    "    \n",
    "    # Add other binary classification metrics\n",
    "    bin_class_metrics = precision_recall_fscore_support(y_true, y_pred, average='binary')\n",
    "    for value, metric in zip(list(bin_class_metrics)[:-2], ['precision', 'recall']):\n",
    "        storage.append(dict(metric=(metric.capitalize() + ' - testing'), value=value))\n",
    "\n",
    "    mf = pd.DataFrame(confusion_matrix(y_true, y_pred))\n",
    "\n",
    "    mf.columns, mf.index = ['NPD', 'PD'], ['NPD', 'PD']\n",
    "\n",
    "    sns.heatmap(mf, annot=True, cmap='Blues', cbar=False, fmt='g', ax=ax)\n",
    "\n",
    "    ax.set_xlabel('Predicted')\n",
    "    ax.set_ylabel('Ground Truth')\n",
    "    \n",
    "    return [f\"{entry['metric'].split(' ')[0]}: {entry['value']:,.3f}\" for entry in storage]"
   ]
  },
  {
   "cell_type": "code",
   "execution_count": null,
   "metadata": {},
   "outputs": [
    {
     "data": {
      "text/plain": [
       "['font.cursive',\n",
       " 'font.family',\n",
       " 'font.fantasy',\n",
       " 'font.monospace',\n",
       " 'font.sans-serif',\n",
       " 'font.serif',\n",
       " 'font.size',\n",
       " 'font.stretch',\n",
       " 'font.style',\n",
       " 'font.variant',\n",
       " 'font.weight',\n",
       " 'legend.fontsize',\n",
       " 'legend.title_fontsize',\n",
       " 'mathtext.fontset',\n",
       " 'pdf.fonttype',\n",
       " 'pdf.use14corefonts',\n",
       " 'pgf.rcfonts',\n",
       " 'ps.fonttype',\n",
       " 'svg.fonttype']"
      ]
     },
     "execution_count": 50,
     "metadata": {},
     "output_type": "execute_result"
    }
   ],
   "source": [
    "[key for key in mpl.rcParams.keys() if 'font' in key ]"
   ]
  },
  {
   "cell_type": "code",
   "execution_count": 23,
   "metadata": {},
   "outputs": [
    {
     "data": {
      "text/plain": [
       "Text(0.7, 0.95, 'Accuracy: 0.722 | Precision: 0.667 | Recall: 0.750')"
      ]
     },
     "execution_count": 23,
     "metadata": {},
     "output_type": "execute_result"
    },
    {
     "data": {
      "image/png": "[encoded data removed]",
      "text/plain": [
       "<Figure size 1008x432 with 2 Axes>"
      ]
     },
     "metadata": {
      "needs_background": "light"
     },
     "output_type": "display_data"
    }
   ],
   "source": [
    "import matplotlib as mpl\n",
    "\n",
    "mpl.rcParams['font.size'] = 16\n",
    "\n",
    "fig, ax = plt.subplots(1, 2, figsize=(14, 6))\n",
    "\n",
    "y_pred = dict(zip(names, classifiers))['Logistic Regression'].predict(X_test)\n",
    "\n",
    "clean = plot_cm(y_test, y_pred, fig, ax[0])\n",
    "fig.text(.3, .95, ' | '.join(clean), ha='center', va='center')\n",
    "\n",
    "y_pred = dict(zip(names, classifiers))['Decision Tree'].predict(X_test)\n",
    "\n",
    "clean = plot_cm(y_test, y_pred, fig, ax[1])\n",
    "fig.text(.7, .95, ' | '.join(clean), ha='center', va='center')"
   ]
  },
  {
   "cell_type": "code",
   "execution_count": 42,
   "metadata": {},
   "outputs": [],
   "source": [
    "def get_best_worst_coefs(classifier):\n",
    "    for feature, coef in list(sorted(zip(ppor.get_feature_names(), classifier.coef_.reshape(-1)), key=lambda x: x[1], reverse=True))[:5]:\n",
    "        print(f'{feature:<35} {coef:,.4f}')\n",
    "        \n",
    "    for feature, coef in list(sorted(zip(ppor.get_feature_names(), classifier.coef_.reshape(-1)), key=lambda x: x[1], reverse=False))[:5]:\n",
    "        print(f'{feature:<35} {coef:,.4f}')"
   ]
  },
  {
   "cell_type": "code",
   "execution_count": 31,
   "metadata": {},
   "outputs": [
    {
     "data": {
      "text/plain": [
       "['sex',\n",
       " 'NRAS_MUTATION',\n",
       " 'BRAF_MUTATION',\n",
       " 'concomittant_tvec',\n",
       " 'concomittant_LAG3',\n",
       " 'prior_targeted_therapy',\n",
       " 'prior_treatment',\n",
       " 'nivo_maintenance']"
      ]
     },
     "execution_count": 31,
     "metadata": {},
     "output_type": "execute_result"
    }
   ],
   "source": [
    "categorical"
   ]
  },
  {
   "cell_type": "code",
   "execution_count": 43,
   "metadata": {},
   "outputs": [
    {
     "name": "stdout",
     "output_type": "stream",
     "text": [
      "lympho_absolus_gl                   0.2113\n",
      "lymphnode_lowerlimb                 0.1500\n",
      "ldh_sang_ul                         0.1235\n",
      "bmi                                 0.1161\n",
      "x7_True                             0.1149\n",
      "sd_suv_val                          -0.1794\n",
      "x7_False                            -0.1149\n",
      "bones_thorax                        -0.1049\n",
      "liver                               -0.1001\n",
      "lymphnode_abdomen                   -0.1000\n"
     ]
    }
   ],
   "source": [
    "lsvm = dict(zip(names, classifiers))['Linear SVM']\n",
    "\n",
    "get_best_worst_coefs(lsvm)"
   ]
  },
  {
   "cell_type": "code",
   "execution_count": 47,
   "metadata": {},
   "outputs": [
    {
     "name": "stdout",
     "output_type": "stream",
     "text": [
      "lymphnode_lowerlimb                 0.9021\n",
      "min_suv_val                         0.7391\n",
      "lympho_absolus_gl                   0.5376\n",
      "ipi                                 0.4876\n",
      "spleen                              0.4683\n",
      "sd_suv_val                          -1.2611\n",
      "liver                               -0.8778\n",
      "vol_ccm                             -0.7178\n",
      "x0_female                           -0.5521\n",
      "pembro                              -0.4450\n"
     ]
    }
   ],
   "source": [
    "logreg = dict(zip(names, classifiers))['Logistic Regression']\n",
    "\n",
    "get_best_worst_coefs(logreg)"
   ]
  },
  {
   "cell_type": "code",
   "execution_count": 56,
   "metadata": {},
   "outputs": [
    {
     "name": "stdout",
     "output_type": "stream",
     "text": [
      "bmi                                 0.2467\n",
      "sd_suv_val                          0.2085\n",
      "eosini_absolus_gl                   0.1549\n",
      "age_at_treatment_start_in_years     0.0927\n",
      "vol_ccm                             0.0864\n",
      "x0_male                             0.0833\n",
      "lymphnode_thorax                    0.0583\n",
      "lympho_absolus_gl                   0.0437\n",
      "x7_True                             0.0255\n",
      "max_suv_val                         0.0000\n"
     ]
    }
   ],
   "source": [
    "dtc = dict(zip(names, classifiers))['Decision Tree']\n",
    "\n",
    "for feature, coef in list(sorted(zip(ppor.get_feature_names(), dtc.feature_importances_.reshape(-1)), key=lambda x: x[1], reverse=True))[:10]:\n",
    "    print(f'{feature:<35} {coef:,.4f}')\n"
   ]
  },
  {
   "cell_type": "code",
   "execution_count": null,
   "metadata": {},
   "outputs": [],
   "source": []
  }
 ],
 "metadata": {
  "interpreter": {
   "hash": "947aba3e9b2ee8e94b9a4f86dd9db3bac2e8c16055cb5eb2c317ce168f84ce4b"
  },
  "kernelspec": {
   "display_name": "Python 3.8.10 64-bit ('ds': conda)",
   "name": "python3"
  },
  "language_info": {
   "codemirror_mode": {
    "name": "ipython",
    "version": 3
   },
   "file_extension": ".py",
   "mimetype": "text/x-python",
   "name": "python",
   "nbconvert_exporter": "python",
   "pygments_lexer": "ipython3",
   "version": "3.8.10"
  },
  "orig_nbformat": 4
 },
 "nbformat": 4,
 "nbformat_minor": 2
}
