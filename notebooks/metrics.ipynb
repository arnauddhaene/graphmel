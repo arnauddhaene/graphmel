{
 "cells": [
  {
   "cell_type": "markdown",
   "metadata": {},
   "source": [
    "# Testing and creation notebook for Metrics"
   ]
  },
  {
   "cell_type": "markdown",
   "metadata": {},
   "source": [
    "### Import libraries"
   ]
  },
  {
   "cell_type": "code",
   "execution_count": 1,
   "id": "b67a0916-2989-4479-b091-c2263447e106",
   "metadata": {},
   "outputs": [],
   "source": [
    "import os, sys\n",
    "from typing import List, Tuple\n",
    "from collections.abc import Callable\n",
    "import time\n",
    "import datetime as dt\n",
    "from tqdm.notebook import tqdm"
   ]
  },
  {
   "cell_type": "code",
   "execution_count": 2,
   "id": "3fd71b21-e509-4781-863c-afe3b98a5b2a",
   "metadata": {},
   "outputs": [],
   "source": [
    "import pandas as pd\n",
    "import numpy as np"
   ]
  },
  {
   "cell_type": "code",
   "execution_count": 3,
   "id": "74b4572d-a189-4915-bb5d-930d5593c03b",
   "metadata": {},
   "outputs": [],
   "source": [
    "from scipy.stats import wasserstein_distance"
   ]
  },
  {
   "cell_type": "code",
   "execution_count": 27,
   "id": "d989082f-b8e4-4625-84e3-91f698c641a3",
   "metadata": {},
   "outputs": [],
   "source": [
    "from sklearn.preprocessing import OneHotEncoder, StandardScaler, MultiLabelBinarizer\n",
    "from sklearn.base import BaseEstimator, TransformerMixin\n",
    "from sklearn.impute import SimpleImputer\n",
    "from sklearn.model_selection import train_test_split\n",
    "from sklearn.pipeline import Pipeline\n",
    "from sklearn.model_selection import KFold\n",
    "from sklearn.compose import ColumnTransformer, make_column_selector\n",
    "from sklearn.feature_extraction.text import CountVectorizer\n",
    "from sklearn.metrics import ConfusionMatrixDisplay, confusion_matrix"
   ]
  },
  {
   "cell_type": "code",
   "execution_count": 17,
   "id": "1503fd5d-0c95-4112-95ba-df1549c750da",
   "metadata": {},
   "outputs": [],
   "source": [
    "import torch\n",
    "from torch_geometric.data import Data\n",
    "from torch_geometric.loader import DataLoader, DenseDataLoader\n",
    "\n",
    "from torch_geometric.nn import GraphConv, global_add_pool, DenseGraphConv, dense_diff_pool\n",
    "import torch.nn.functional as F\n",
    "from torch.nn import NLLLoss\n",
    "from torch.utils.data import SubsetRandomSampler\n",
    "\n",
    "from torch_geometric.utils import to_dense_adj\n",
    "from torch_geometric.transforms import ToDense"
   ]
  },
  {
   "cell_type": "code",
   "execution_count": 42,
   "id": "12f57fad-f38b-4fe2-988b-1770f196486f",
   "metadata": {},
   "outputs": [],
   "source": [
    "import matplotlib.pyplot as plt\n",
    "from matplotlib import rcParams\n",
    "import matplotlib as mpl\n",
    "\n",
    "import seaborn as sns\n",
    "import plotly.express as px\n",
    "import plotly.io as pio\n",
    "pio.templates.default = 'seaborn'"
   ]
  },
  {
   "cell_type": "code",
   "execution_count": 7,
   "metadata": {},
   "outputs": [],
   "source": [
    "# Update rc parameters\n",
    "SMALL_SIZE = 10\n",
    "MEDIUM_SIZE = 12\n",
    "LARGE_SIZE = 16\n",
    "\n",
    "rcParams['font.family'] = 'serif'\n",
    "rcParams['font.size'] = SMALL_SIZE\n",
    "rcParams['axes.titlesize'] = SMALL_SIZE\n",
    "rcParams['axes.labelsize'] = MEDIUM_SIZE\n",
    "rcParams['xtick.labelsize'] = SMALL_SIZE\n",
    "rcParams['ytick.labelsize'] = SMALL_SIZE\n",
    "rcParams['legend.fontsize'] = SMALL_SIZE\n",
    "rcParams['figure.titlesize'] = LARGE_SIZE\n",
    "\n",
    "rcParams['figure.figsize'] = [8.3, 5.1]\n",
    "\n",
    "rcParams['axes.grid'] = True\n",
    "rcParams['axes.facecolor'] = '#F5F5F5'\n",
    "rcParams['axes.axisbelow'] = True\n",
    "rcParams['grid.linestyle'] = ':'"
   ]
  },
  {
   "cell_type": "code",
   "execution_count": 8,
   "id": "7d7a647c-a585-4eaa-a74f-5ebb94eedc18",
   "metadata": {},
   "outputs": [],
   "source": [
    "from ipywidgets import interact, interact_manual, FloatSlider"
   ]
  },
  {
   "cell_type": "code",
   "execution_count": 54,
   "id": "837c40be-b6e2-4a26-948e-4eb0268cc031",
   "metadata": {},
   "outputs": [],
   "source": [
    "sys.path.append(os.path.abspath('../'))\n",
    "sys.path.append(os.path.abspath('../src/'))\n",
    "\n",
    "from src.utils import load_dataset\n",
    "from src.models import BaselineGNN\n",
    "from src.train import train\n",
    "from src.metrics import evaluate_accuracy, TrainingMetrics, TestingMetrics, compute_predictions, Metrics\n",
    "\n",
    "CONNECTION_DIR = '/Users/arnauddhaene/Downloads/'"
   ]
  },
  {
   "cell_type": "markdown",
   "metadata": {},
   "source": [
    "## Figures"
   ]
  },
  {
   "cell_type": "markdown",
   "metadata": {},
   "source": [
    "Setting up a baseline model just for testing purposes"
   ]
  },
  {
   "cell_type": "code",
   "execution_count": 32,
   "metadata": {},
   "outputs": [],
   "source": [
    "dataset_train, dataset_test = \\\n",
    "        load_dataset(connectivity='wasserstein', test_size=.2, seed=42,\n",
    "                dense=model.is_dense(), verbose=0)"
   ]
  },
  {
   "cell_type": "code",
   "execution_count": 108,
   "metadata": {},
   "outputs": [
    {
     "name": "stderr",
     "output_type": "stream",
     "text": [
      "100%|██████████| 25/25 [00:03<00:00,  7.11it/s]\n",
      "100%|██████████| 25/25 [00:03<00:00,  6.25it/s]\n",
      "100%|██████████| 25/25 [00:03<00:00,  6.46it/s]\n"
     ]
    }
   ],
   "source": [
    "model = BaselineGNN(2, 16, 43)\n",
    "\n",
    "metrics = TrainingMetrics()\n",
    "    \n",
    "kfold = KFold(n_splits=3, shuffle=True)\n",
    "\n",
    "for fold, (I_train, I_valid) in enumerate(kfold.split(dataset_train)):\n",
    "\n",
    "        metrics.set_run(fold)\n",
    "\n",
    "        model.reset()\n",
    "\n",
    "        sampler_train = SubsetRandomSampler(I_train)\n",
    "        sampler_valid = SubsetRandomSampler(I_valid)\n",
    "\n",
    "        loader_train_args = dict(dataset=dataset_train, batch_size=8, sampler=sampler_train)\n",
    "        loader_valid_args = dict(dataset=dataset_train, batch_size=8, sampler=sampler_valid)\n",
    "\n",
    "        loader_train = DenseDataLoader(**loader_train_args) if model.is_dense() \\\n",
    "                else DataLoader(**loader_train_args)\n",
    "        loader_valid = DenseDataLoader(**loader_valid_args) if model.is_dense() \\\n",
    "                else DataLoader(**loader_valid_args)\n",
    "                \n",
    "        train(model, loader_train, loader_valid, metrics)"
   ]
  },
  {
   "cell_type": "code",
   "execution_count": 37,
   "metadata": {},
   "outputs": [],
   "source": [
    "loader_test_args = dict(dataset=dataset_test, batch_size=len(dataset_test))\n",
    "    \n",
    "loader_test = DenseDataLoader(**loader_test_args) if model.is_dense() \\\n",
    "    else DataLoader(**loader_test_args)"
   ]
  },
  {
   "cell_type": "markdown",
   "metadata": {},
   "source": [
    "Analyzing the stored data to generate plots"
   ]
  },
  {
   "cell_type": "code",
   "execution_count": 101,
   "metadata": {},
   "outputs": [],
   "source": [
    "test_metrics = TestingMetrics(epoch=25)\n",
    "test_metrics.compute_metrics(model, loader_test)"
   ]
  },
  {
   "cell_type": "code",
   "execution_count": 107,
   "metadata": {},
   "outputs": [],
   "source": [
    "class TrainingMetrics(Metrics):\n",
    "\n",
    "    def __init__(self):\n",
    "        \n",
    "        super(TrainingMetrics, self).__init__()\n",
    "        self.run = 0\n",
    "    \n",
    "    def log_metric(self, metric: str, value: float, step: int = 0):\n",
    "        \n",
    "        self.storage.append(dict(metric=metric, value=value, step=step, run=self.run))\n",
    "    \n",
    "    def incr_run(self):\n",
    "        \n",
    "        self.run += 1\n",
    "    \n",
    "    def set_run(self, run: int = 0):\n",
    "        \n",
    "        self.run = run\n",
    "    \n",
    "    def send_log(self, timestamp: dt.datetime):\n",
    "    \n",
    "        df = pd.DataFrame(self.storage)\n",
    "        \n",
    "        mean = df.groupby(['metric', 'step']).value.mean().reset_index()\n",
    "        \n",
    "        for _, feature in mean.iterrows():\n",
    "            mlflow.log_metric(feature.metric + ' - avg', feature.value, feature.step)\n",
    "        \n",
    "        std = df.groupby(['metric', 'step']).value.std().reset_index()\n",
    "        \n",
    "        for _, feature in std.iterrows():\n",
    "            mlflow.log_metric(feature.metric + ' - std', feature.value, feature.step)\n",
    "            \n",
    "    def plot(self, fpath: str):\n",
    "        pass"
   ]
  },
  {
   "cell_type": "code",
   "execution_count": 111,
   "metadata": {},
   "outputs": [
    {
     "data": {
      "text/html": [
       "<div>\n",
       "<style scoped>\n",
       "    .dataframe tbody tr th:only-of-type {\n",
       "        vertical-align: middle;\n",
       "    }\n",
       "\n",
       "    .dataframe tbody tr th {\n",
       "        vertical-align: top;\n",
       "    }\n",
       "\n",
       "    .dataframe thead th {\n",
       "        text-align: right;\n",
       "    }\n",
       "</style>\n",
       "<table border=\"1\" class=\"dataframe\">\n",
       "  <thead>\n",
       "    <tr style=\"text-align: right;\">\n",
       "      <th></th>\n",
       "      <th>metric</th>\n",
       "      <th>value</th>\n",
       "      <th>step</th>\n",
       "      <th>run</th>\n",
       "    </tr>\n",
       "  </thead>\n",
       "  <tbody>\n",
       "    <tr>\n",
       "      <th>0</th>\n",
       "      <td>Loss - training</td>\n",
       "      <td>18.963058</td>\n",
       "      <td>0</td>\n",
       "      <td>0</td>\n",
       "    </tr>\n",
       "    <tr>\n",
       "      <th>1</th>\n",
       "      <td>Accuracy - training</td>\n",
       "      <td>0.574468</td>\n",
       "      <td>0</td>\n",
       "      <td>0</td>\n",
       "    </tr>\n",
       "    <tr>\n",
       "      <th>2</th>\n",
       "      <td>Accuracy - validation</td>\n",
       "      <td>0.291667</td>\n",
       "      <td>0</td>\n",
       "      <td>0</td>\n",
       "    </tr>\n",
       "    <tr>\n",
       "      <th>3</th>\n",
       "      <td>Loss - training</td>\n",
       "      <td>26.744211</td>\n",
       "      <td>1</td>\n",
       "      <td>0</td>\n",
       "    </tr>\n",
       "    <tr>\n",
       "      <th>4</th>\n",
       "      <td>Accuracy - training</td>\n",
       "      <td>0.553191</td>\n",
       "      <td>1</td>\n",
       "      <td>0</td>\n",
       "    </tr>\n",
       "    <tr>\n",
       "      <th>...</th>\n",
       "      <td>...</td>\n",
       "      <td>...</td>\n",
       "      <td>...</td>\n",
       "      <td>...</td>\n",
       "    </tr>\n",
       "    <tr>\n",
       "      <th>220</th>\n",
       "      <td>Accuracy - training</td>\n",
       "      <td>0.645833</td>\n",
       "      <td>23</td>\n",
       "      <td>2</td>\n",
       "    </tr>\n",
       "    <tr>\n",
       "      <th>221</th>\n",
       "      <td>Accuracy - validation</td>\n",
       "      <td>0.608696</td>\n",
       "      <td>23</td>\n",
       "      <td>2</td>\n",
       "    </tr>\n",
       "    <tr>\n",
       "      <th>222</th>\n",
       "      <td>Loss - training</td>\n",
       "      <td>3.385343</td>\n",
       "      <td>24</td>\n",
       "      <td>2</td>\n",
       "    </tr>\n",
       "    <tr>\n",
       "      <th>223</th>\n",
       "      <td>Accuracy - training</td>\n",
       "      <td>0.687500</td>\n",
       "      <td>24</td>\n",
       "      <td>2</td>\n",
       "    </tr>\n",
       "    <tr>\n",
       "      <th>224</th>\n",
       "      <td>Accuracy - validation</td>\n",
       "      <td>0.695652</td>\n",
       "      <td>24</td>\n",
       "      <td>2</td>\n",
       "    </tr>\n",
       "  </tbody>\n",
       "</table>\n",
       "<p>225 rows × 4 columns</p>\n",
       "</div>"
      ],
      "text/plain": [
       "                    metric      value  step  run\n",
       "0          Loss - training  18.963058     0    0\n",
       "1      Accuracy - training   0.574468     0    0\n",
       "2    Accuracy - validation   0.291667     0    0\n",
       "3          Loss - training  26.744211     1    0\n",
       "4      Accuracy - training   0.553191     1    0\n",
       "..                     ...        ...   ...  ...\n",
       "220    Accuracy - training   0.645833    23    2\n",
       "221  Accuracy - validation   0.608696    23    2\n",
       "222        Loss - training   3.385343    24    2\n",
       "223    Accuracy - training   0.687500    24    2\n",
       "224  Accuracy - validation   0.695652    24    2\n",
       "\n",
       "[225 rows x 4 columns]"
      ]
     },
     "execution_count": 111,
     "metadata": {},
     "output_type": "execute_result"
    }
   ],
   "source": [
    "df = pd.DataFrame(metrics.storage)\n",
    "df"
   ]
  },
  {
   "cell_type": "code",
   "execution_count": 118,
   "metadata": {},
   "outputs": [
    {
     "data": {
      "text/plain": [
       "['Accuracy - training', 'Accuracy - validation']"
      ]
     },
     "execution_count": 118,
     "metadata": {},
     "output_type": "execute_result"
    }
   ],
   "source": [
    "[m for m in df.metric.unique() if 'acc' in m.lower()]"
   ]
  },
  {
   "cell_type": "code",
   "execution_count": 130,
   "metadata": {},
   "outputs": [
    {
     "data": {
      "text/plain": [
       "Text(0.5, 0.98, 'Training loss and accuracy')"
      ]
     },
     "execution_count": 130,
     "metadata": {},
     "output_type": "execute_result"
    },
    {
     "data": {
      "image/png": "[encoded data removed]",
      "text/plain": [
       "<Figure size 597.6x367.2 with 2 Axes>"
      ]
     },
     "metadata": {
      "needs_background": "light"
     },
     "output_type": "display_data"
    }
   ],
   "source": [
    "accs = [m for m in df.metric.unique() if 'acc' in m.lower()]\n",
    "loss = [m for m in df.metric.unique() if 'loss' in m.lower()]\n",
    "\n",
    "fig = plt.figure()\n",
    "\n",
    "ax_acc = fig.add_subplot(111)\n",
    "\n",
    "for acc in accs:\n",
    "    sns.lineplot(data=df[df.metric.isin([acc])], x='step', y='value', hue='metric', estimator='mean', ci='sd', \n",
    "                 legend=False, label=acc, ax=ax_acc)\n",
    "\n",
    "ax_loss = ax_acc.twinx()\n",
    "\n",
    "sns.lineplot(data=df[df.metric.isin(loss)], x='step', y='value', hue='metric', estimator='mean', ci='sd', \n",
    "             legend=False, label='Loss',ax=ax_loss)\n",
    "\n",
    "fig.legend(loc=\"upper center\", bbox_to_anchor=(0.5, 1), bbox_transform=ax_acc.transAxes, ncol=2)\n",
    "\n",
    "plt.suptitle(\"Training loss and accuracy\")\n"
   ]
  },
  {
   "cell_type": "code",
   "execution_count": null,
   "metadata": {},
   "outputs": [],
   "source": []
  }
 ],
 "metadata": {
  "interpreter": {
   "hash": "947aba3e9b2ee8e94b9a4f86dd9db3bac2e8c16055cb5eb2c317ce168f84ce4b"
  },
  "kernelspec": {
   "display_name": "Python 3.8.10 64-bit ('ds': conda)",
   "name": "python3"
  },
  "language_info": {
   "codemirror_mode": {
    "name": "ipython",
    "version": 3
   },
   "file_extension": ".py",
   "mimetype": "text/x-python",
   "name": "python",
   "nbconvert_exporter": "python",
   "pygments_lexer": "ipython3",
   "version": "3.8.10"
  },
  "orig_nbformat": 4
 },
 "nbformat": 4,
 "nbformat_minor": 2
}
