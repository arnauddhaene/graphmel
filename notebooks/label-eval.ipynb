{
 "cells": [
  {
   "cell_type": "markdown",
   "id": "d1b928e6-8cda-4b6c-9bfe-09fc7a1f81f0",
   "metadata": {
    "tags": []
   },
   "source": [
    "# Outcome metric\n",
    "Evaluating baselines"
   ]
  },
  {
   "cell_type": "markdown",
   "id": "f9af8305-db48-445a-afd4-89daa6870ca2",
   "metadata": {},
   "source": [
    "### Import libraries"
   ]
  },
  {
   "cell_type": "code",
   "execution_count": 1,
   "id": "4632d844-9ef2-4db5-b408-dea28e368524",
   "metadata": {},
   "outputs": [],
   "source": [
    "import os, sys\n",
    "from typing import List\n",
    "from collections.abc import Callable"
   ]
  },
  {
   "cell_type": "code",
   "execution_count": 2,
   "id": "c88de422-5a40-439a-9339-6d9069668ba3",
   "metadata": {},
   "outputs": [],
   "source": [
    "import pandas as pd\n",
    "import numpy as np"
   ]
  },
  {
   "cell_type": "code",
   "execution_count": 67,
   "id": "e458dae3-54b8-473d-bf3d-621e413ad9e2",
   "metadata": {},
   "outputs": [],
   "source": [
    "from sklearn.preprocessing import OneHotEncoder, StandardScaler, MultiLabelBinarizer\n",
    "from sklearn.base import BaseEstimator, TransformerMixin\n",
    "from sklearn.impute import SimpleImputer\n",
    "from sklearn.model_selection import train_test_split\n",
    "from sklearn.pipeline import Pipeline\n",
    "from sklearn.compose import ColumnTransformer, make_column_selector\n",
    "from sklearn.feature_extraction.text import CountVectorizer\n",
    "from sklearn.metrics import ConfusionMatrixDisplay, confusion_matrix"
   ]
  },
  {
   "cell_type": "code",
   "execution_count": 4,
   "id": "961a567f-2d8d-49b1-b4ea-7b53b66eafbc",
   "metadata": {},
   "outputs": [],
   "source": [
    "import torch\n",
    "from torch_geometric.data import Data\n",
    "from torch_geometric.loader import DataLoader"
   ]
  },
  {
   "cell_type": "code",
   "execution_count": 5,
   "id": "a2b8b3e0-7ead-46b9-91fe-886559fca601",
   "metadata": {},
   "outputs": [],
   "source": [
    "import matplotlib.pyplot as plt\n",
    "from matplotlib import rcParams\n",
    "rcParams['figure.figsize'] = 15, 8.27\n",
    "import seaborn as sns\n",
    "import plotly.express as px\n",
    "import plotly.io as pio\n",
    "pio.templates.default = 'seaborn'"
   ]
  },
  {
   "cell_type": "code",
   "execution_count": 6,
   "id": "969edb52-c499-459d-9843-91cc760401f1",
   "metadata": {},
   "outputs": [],
   "source": [
    "from ipywidgets import interact, interact_manual, FloatSlider"
   ]
  },
  {
   "cell_type": "code",
   "execution_count": 7,
   "id": "c91de5f5-2c6f-44f2-8e2a-8a24da7a2ef4",
   "metadata": {},
   "outputs": [],
   "source": [
    "sys.path.append(os.path.abspath('..'))\n",
    "\n",
    "from src.utils import FILES, DATA_FOLDERS, extract_study_phase, load_dataset, fetch_data, preprocess, create_dataset\n",
    "\n",
    "CONNECTION_DIR = '/Users/arnauddhaene/Downloads/'"
   ]
  },
  {
   "cell_type": "markdown",
   "id": "3c16fdf1-2aa8-462b-ad5c-c919960027b7",
   "metadata": {},
   "source": [
    "### Fetch data"
   ]
  },
  {
   "cell_type": "code",
   "execution_count": 100,
   "id": "b40059ae-3662-468b-9685-5b4caf826565",
   "metadata": {},
   "outputs": [],
   "source": [
    "progression = pd.read_csv(os.path.join(CONNECTION_DIR + DATA_FOLDERS[1],\n",
    "                                       FILES[DATA_FOLDERS[1]]['progression']))\n",
    "\n",
    "progression['study_phase'] = progression.study_name.apply(extract_study_phase)"
   ]
  },
  {
   "cell_type": "code",
   "execution_count": 25,
   "id": "f4d90d3c-898c-46d2-990f-a7d3334c3a9b",
   "metadata": {},
   "outputs": [],
   "source": [
    "labels = ['prediction_score', 'pseudorecist']"
   ]
  },
  {
   "cell_type": "code",
   "execution_count": 26,
   "id": "7900eb1d-eabc-4454-a941-fc5ff81fd0e3",
   "metadata": {},
   "outputs": [
    {
     "data": {
      "image/png": "[encoded data removed]",
      "text/plain": [
       "<Figure size 1080x595.44 with 2 Axes>"
      ]
     },
     "metadata": {
      "needs_background": "light"
     },
     "output_type": "display_data"
    },
    {
     "data": {
      "text/plain": [
       "(None, None)"
      ]
     },
     "execution_count": 26,
     "metadata": {},
     "output_type": "execute_result"
    }
   ],
   "source": [
    "fig, ax = plt.subplots()\n",
    "\n",
    "sns.heatmap(progression[labels].isna(), ax=ax)\n",
    "\n",
    "ax.set_title('Label NaN presence')\n",
    "ax.set_ylabel('Study ID')\n",
    "\n",
    "plt.savefig('label-nan.png', dpi=200), plt.show()"
   ]
  },
  {
   "cell_type": "code",
   "execution_count": 28,
   "id": "b0a67196-2717-4099-8dbf-3412591f2ccf",
   "metadata": {},
   "outputs": [
    {
     "data": {
      "text/html": [
       "<div>\n",
       "<style scoped>\n",
       "    .dataframe tbody tr th:only-of-type {\n",
       "        vertical-align: middle;\n",
       "    }\n",
       "\n",
       "    .dataframe tbody tr th {\n",
       "        vertical-align: top;\n",
       "    }\n",
       "\n",
       "    .dataframe thead th {\n",
       "        text-align: right;\n",
       "    }\n",
       "</style>\n",
       "<table border=\"1\" class=\"dataframe\">\n",
       "  <thead>\n",
       "    <tr style=\"text-align: right;\">\n",
       "      <th></th>\n",
       "      <th>prediction_score</th>\n",
       "      <th>pseudorecist</th>\n",
       "    </tr>\n",
       "  </thead>\n",
       "  <tbody>\n",
       "    <tr>\n",
       "      <th>NPD</th>\n",
       "      <td>290</td>\n",
       "      <td>206</td>\n",
       "    </tr>\n",
       "    <tr>\n",
       "      <th>PD</th>\n",
       "      <td>183</td>\n",
       "      <td>91</td>\n",
       "    </tr>\n",
       "    <tr>\n",
       "      <th>NaN</th>\n",
       "      <td>58</td>\n",
       "      <td>234</td>\n",
       "    </tr>\n",
       "  </tbody>\n",
       "</table>\n",
       "</div>"
      ],
      "text/plain": [
       "     prediction_score  pseudorecist\n",
       "NPD               290           206\n",
       "PD                183            91\n",
       "NaN                58           234"
      ]
     },
     "execution_count": 28,
     "metadata": {},
     "output_type": "execute_result"
    }
   ],
   "source": [
    "counts = pd.DataFrame({feature: progression[feature].value_counts().append(\n",
    "    pd.Series([progression[feature].isna().sum()], index=['NaN'])) for feature in labels})\n",
    "counts"
   ]
  },
  {
   "cell_type": "code",
   "execution_count": 32,
   "id": "2bff427f-79ba-49f9-a066-70e020a8ce7f",
   "metadata": {},
   "outputs": [
    {
     "name": "stdout",
     "output_type": "stream",
     "text": [
      "Studies containing: \n",
      "  Both: 297\n",
      "  Only pseudorecist: 0\n",
      "  Only prediction score: 176\n",
      "  None: 58\n"
     ]
    }
   ],
   "source": [
    "both = progression[labels][(progression.pseudorecist.notna()) & (progression.prediction_score.notna())].shape[0]\n",
    "only_pseudo = progression[labels][(progression.pseudorecist.notna()) & (progression.prediction_score.isna())].shape[0]\n",
    "only_predic = progression[labels][(progression.pseudorecist.isna()) & (progression.prediction_score.notna())].shape[0]\n",
    "none = progression[labels][(progression.pseudorecist.isna()) & (progression.prediction_score.isna())].shape[0]\n",
    "\n",
    "print(f'Studies containing: \\n'\n",
    "      f'  Both: {both}\\n'\n",
    "      f'  Only pseudorecist: {only_pseudo}\\n'\n",
    "      f'  Only prediction score: {only_predic}\\n'\n",
    "      f'  None: {none}')"
   ]
  },
  {
   "cell_type": "code",
   "execution_count": 98,
   "id": "6b109287-19a9-4cdf-a9b6-efb6e1ba56a7",
   "metadata": {},
   "outputs": [],
   "source": [
    "lesions = pd.read_csv(os.path.join(CONNECTION_DIR + DATA_FOLDERS[2], FILES[DATA_FOLDERS[2]]['lesions']))\n",
    "lesions['study_phase'] = lesions.study_name.apply(extract_study_phase)\n",
    "lesions = lesions[(lesions.pars_classification_petct != 'benign')]"
   ]
  },
  {
   "cell_type": "code",
   "execution_count": 46,
   "id": "579b3cd6-edec-4395-9ea6-59688dcb1f07",
   "metadata": {
    "cell_id": "00025-265a3e59-eda1-45fa-b4ee-60ee6c4b5c90",
    "deepnote_cell_type": "code",
    "deepnote_to_be_reexecuted": false,
    "execution_millis": 1,
    "execution_start": 1633940163721,
    "source_hash": "8ed74a47",
    "tags": []
   },
   "outputs": [],
   "source": [
    "def classify_response(row):\n",
    "    # Compare current vs. baseline\n",
    "    if row.tmtv < row.baseline:\n",
    "        return 'NPD'\n",
    "    elif row.tmtv == row.baseline:\n",
    "        return np.nan\n",
    "    else:\n",
    "        return 'PD'"
   ]
  },
  {
   "cell_type": "code",
   "execution_count": 99,
   "id": "f7aef7d3-5dec-4dee-b94c-c883321f0add",
   "metadata": {
    "cell_id": "00036-3cceff1f-4e75-411b-99e5-13faf259d66e",
    "deepnote_app_coordinates": {
     "h": 5,
     "w": 12,
     "x": 0,
     "y": 216
    },
    "deepnote_app_is_code_hidden": true,
    "deepnote_cell_type": "code",
    "deepnote_to_be_reexecuted": false,
    "execution_millis": 89,
    "execution_start": 1633940164039,
    "source_hash": "e443b8ed"
   },
   "outputs": [
    {
     "name": "stdout",
     "output_type": "stream",
     "text": [
      "Response computed for 395 studies: \n",
      "PD     144\n",
      "NPD    126\n",
      "Name: response, dtype: int64\n"
     ]
    }
   ],
   "source": [
    "# Compute TMTV by summing `vol_ccm` per study\n",
    "labels = lesions.groupby(['gpcr_id', 'study_phase']).vol_ccm.sum().to_frame('tmtv').reset_index()\n",
    "\n",
    "# Find `labels` id of each patient's baseline TMTV\n",
    "baseline_idx = labels.groupby('gpcr_id').study_phase.idxmin().to_dict()\n",
    "labels['baseline'] = labels.gpcr_id.apply(lambda i: labels.loc[baseline_idx[i]].tmtv)\n",
    "labels['response'] = labels.apply(classify_response, axis=1)\n",
    "\n",
    "print(f'Response computed for {labels.shape[0]} studies: \\n{labels.response.value_counts()}')"
   ]
  },
  {
   "cell_type": "code",
   "execution_count": 101,
   "id": "5ebfa356-80a3-4628-bae3-918a558f02fd",
   "metadata": {
    "cell_id": "00029-9cfa196a-32c9-4324-947d-06075574f5d4",
    "deepnote_app_coordinates": {
     "h": 5,
     "w": 12,
     "x": 0,
     "y": 0
    },
    "deepnote_app_is_code_hidden": true,
    "deepnote_cell_type": "code",
    "deepnote_to_be_reexecuted": false,
    "execution_millis": 5,
    "execution_start": 1633940164471,
    "source_hash": "94e9d40c",
    "tags": []
   },
   "outputs": [],
   "source": [
    "labels = progression.merge(labels, on=['gpcr_id', 'study_phase'], how='outer')"
   ]
  },
  {
   "cell_type": "code",
   "execution_count": 104,
   "id": "04cd355a-75a9-4414-94f3-b8843df4623e",
   "metadata": {},
   "outputs": [],
   "source": [
    "flabels = labels.loc[labels.groupby('gpcr_id').study_phase.idxmax()]"
   ]
  },
  {
   "cell_type": "code",
   "execution_count": 102,
   "id": "47b99550-5ff5-46fc-b6cd-5d78ecdc358e",
   "metadata": {},
   "outputs": [],
   "source": [
    "flabels = labels[labels.study_phase == 1]"
   ]
  },
  {
   "cell_type": "code",
   "execution_count": 105,
   "id": "de3432fc-e7d9-43e4-8f17-09ca21f8b0ee",
   "metadata": {},
   "outputs": [
    {
     "data": {
      "image/png": "[encoded data removed]",
      "text/plain": [
       "<Figure size 1080x288 with 6 Axes>"
      ]
     },
     "metadata": {
      "needs_background": "light"
     },
     "output_type": "display_data"
    }
   ],
   "source": [
    "fig, ax = plt.subplots(1, 3)\n",
    "\n",
    "cm = confusion_matrix(flabels[['prediction_score', 'pseudorecist']].dropna().prediction_score, \n",
    "                      flabels[['prediction_score', 'pseudorecist']].dropna().pseudorecist,\n",
    "                      labels=['PD', 'NPD'])\n",
    "\n",
    "CM = ConfusionMatrixDisplay(cm, display_labels=['PD', 'NPD']).plot(ax=ax[0])\n",
    "\n",
    "ax[0].set_xlabel('Pseudorecist'), ax[0].set_ylabel('Prediction score')\n",
    "\n",
    "\n",
    "cm = confusion_matrix(flabels[['prediction_score', 'response']].dropna().prediction_score, \n",
    "                      flabels[['prediction_score', 'response']].dropna().response,\n",
    "                      labels=['PD', 'NPD'])\n",
    "\n",
    "CM = ConfusionMatrixDisplay(cm, display_labels=['PD', 'NPD']).plot(ax=ax[1])\n",
    "\n",
    "ax[1].set_xlabel('TMTV Response'), ax[1].set_ylabel('Prediction score')\n",
    "\n",
    "cm = confusion_matrix(flabels[['pseudorecist', 'response']].dropna().pseudorecist, \n",
    "                      flabels[['pseudorecist', 'response']].dropna().response,\n",
    "                      labels=['PD', 'NPD'])\n",
    "\n",
    "CM = ConfusionMatrixDisplay(cm, display_labels=['PD', 'NPD']).plot(ax=ax[2])\n",
    "\n",
    "ax[2].set_xlabel('TMTV Response'), ax[2].set_ylabel('Pseudorecist')\n",
    "\n",
    "plt.gcf().set_size_inches(15, 4)\n",
    "plt.show()"
   ]
  },
  {
   "cell_type": "code",
   "execution_count": 33,
   "id": "b717459e-4177-4ac1-a3e0-147239eb8190",
   "metadata": {},
   "outputs": [],
   "source": [
    "patients = pd.read_csv(os.path.join(CONNECTION_DIR + DATA_FOLDERS[2], FILES[DATA_FOLDERS[2]]['patients']))"
   ]
  },
  {
   "cell_type": "code",
   "execution_count": 37,
   "id": "60994271-d38f-4cd5-87b9-444ae5ff6b47",
   "metadata": {},
   "outputs": [
    {
     "data": {
      "text/plain": [
       "Index(['gpcr_id', 'age_at_treatment_start_in_years',\n",
       "       'duration_treatment_in_days', 'death_event_observed',\n",
       "       'survival_in_days', 'n_imgs_before_treatment',\n",
       "       'n_imgs_during_treatment', 'n_imgs_after_treatment_end',\n",
       "       'n_imgs_after_treatment_start'],\n",
       "      dtype='object')"
      ]
     },
     "execution_count": 37,
     "metadata": {},
     "output_type": "execute_result"
    }
   ],
   "source": [
    "patients.columns"
   ]
  },
  {
   "cell_type": "code",
   "execution_count": 36,
   "id": "0a42ba16-f239-4274-8947-b7115db19c04",
   "metadata": {},
   "outputs": [
    {
     "data": {
      "text/html": [
       "<div>\n",
       "<style scoped>\n",
       "    .dataframe tbody tr th:only-of-type {\n",
       "        vertical-align: middle;\n",
       "    }\n",
       "\n",
       "    .dataframe tbody tr th {\n",
       "        vertical-align: top;\n",
       "    }\n",
       "\n",
       "    .dataframe thead th {\n",
       "        text-align: right;\n",
       "    }\n",
       "</style>\n",
       "<table border=\"1\" class=\"dataframe\">\n",
       "  <thead>\n",
       "    <tr style=\"text-align: right;\">\n",
       "      <th></th>\n",
       "      <th>death_event_observed</th>\n",
       "    </tr>\n",
       "  </thead>\n",
       "  <tbody>\n",
       "    <tr>\n",
       "      <th>False</th>\n",
       "      <td>72</td>\n",
       "    </tr>\n",
       "    <tr>\n",
       "      <th>True</th>\n",
       "      <td>61</td>\n",
       "    </tr>\n",
       "    <tr>\n",
       "      <th>NaN</th>\n",
       "      <td>0</td>\n",
       "    </tr>\n",
       "  </tbody>\n",
       "</table>\n",
       "</div>"
      ],
      "text/plain": [
       "       death_event_observed\n",
       "False                    72\n",
       "True                     61\n",
       "NaN                       0"
      ]
     },
     "execution_count": 36,
     "metadata": {},
     "output_type": "execute_result"
    }
   ],
   "source": [
    "counts = pd.DataFrame({feature: patients[feature].value_counts().append(\n",
    "    pd.Series([patients[feature].isna().sum()], index=['NaN'])) for feature in ['death_event_observed']})\n",
    "counts"
   ]
  },
  {
   "cell_type": "code",
   "execution_count": 44,
   "id": "592f22dd-03a9-4642-a065-1086450bf35a",
   "metadata": {},
   "outputs": [
    {
     "data": {
      "text/plain": [
       "<seaborn.axisgrid.FacetGrid at 0x7f8cef6e39a0>"
      ]
     },
     "execution_count": 44,
     "metadata": {},
     "output_type": "execute_result"
    },
    {
     "data": {
      "image/png": "[encoded data removed]",
      "text/plain": [
       "<Figure size 440x216 with 2 Axes>"
      ]
     },
     "metadata": {
      "needs_background": "light"
     },
     "output_type": "display_data"
    }
   ],
   "source": [
    "g = sns.FacetGrid(patients, col='death_event_observed')\n",
    "g.map_dataframe(sns.histplot, 'survival_in_days')\n",
    "g.add_legend()"
   ]
  },
  {
   "cell_type": "code",
   "execution_count": 107,
   "id": "ae342d40-dd0c-438f-96e3-349d1e21a7da",
   "metadata": {},
   "outputs": [],
   "source": [
    "blood = pd.read_csv(os.path.join(CONNECTION_DIR + DATA_FOLDERS[1], FILES[DATA_FOLDERS[1]]['blood']))\n",
    "blood.rename(columns={feature: feature.replace('-', '_') for feature in blood.columns}, inplace=True)\n",
    "# Listify immunotherapy type to create multi-feature encoding\n",
    "blood['immuno_therapy_type'] = blood.immuno_therapy_type \\\n",
    "    .apply(lambda t: ['ipi', 'nivo'] if t == 'ipinivo' else [t])"
   ]
  },
  {
   "cell_type": "code",
   "execution_count": 108,
   "id": "f0b17663-a3a8-4a80-b723-1c7a6cfa5886",
   "metadata": {},
   "outputs": [
    {
     "data": {
      "text/plain": [
       "Index(['gpcr_id', 'n_days_to_treatment_start', 'n_days_to_treatment_end',\n",
       "       'sex', 'bmi', 'has_brain_mets', 'performance_score_ecog',\n",
       "       'asat_sang_ul', 'bili_totale_sang_umoll', 'mono_absolus_gl',\n",
       "       'alat_sang_ul', 'plaquettes_sang_gl', 'lympho_absolus_gl',\n",
       "       'albumine_sang_gl', 'proteine_c_reacsang_mgl', 'potassium_sang_mmoll',\n",
       "       'hemoglobine_sang_gl', 'calcium_sang_mmoll', 'ldh_sang_ul',\n",
       "       'creatinine_sang_umoll', 'pal_sang_ul', 'neutro_absolus_gl',\n",
       "       'eosini_absolus_gl', 'baso_absolus_gl', 'ggt_sang_ul',\n",
       "       'gfr_cal_mlmin173m2', 'leucocytes_sang_gl', 'eGFRCKD2', 'eGFRCG', 'X67',\n",
       "       'NRAS_MUTATION', 'NRAS_MUT_TYPE', 'BRAF_MUTATION', 'BRAF_MUT_TYPE',\n",
       "       'concomittant_tvec', 'concomittant_LAG3', 'prior_targeted_therapy',\n",
       "       'prior_treatment', 'immuno_therapy_type', 'nivo_maintenance'],\n",
       "      dtype='object')"
      ]
     },
     "execution_count": 108,
     "metadata": {},
     "output_type": "execute_result"
    }
   ],
   "source": [
    "blood.columns"
   ]
  },
  {
   "cell_type": "code",
   "execution_count": 118,
   "id": "8ae320aa-5433-45ae-97ac-4e959c8b426a",
   "metadata": {},
   "outputs": [
    {
     "data": {
      "application/vnd.jupyter.widget-view+json": {
       "model_id": "2c36cfe47ddb45f694d9dd7358c6d986",
       "version_major": 2,
       "version_minor": 0
      },
      "text/plain": [
       "interactive(children=(Dropdown(description='feature', options=('gpcr_id', 'n_days_to_treatment_start', 'n_days…"
      ]
     },
     "metadata": {},
     "output_type": "display_data"
    }
   ],
   "source": [
    "@interact(feature=list(blood.columns))\n",
    "def show_distribution(feature: str):\n",
    "    sns.displot(blood, x=feature)\n",
    "    plt.show()"
   ]
  },
  {
   "cell_type": "code",
   "execution_count": 136,
   "id": "8e242058-2ac9-4a58-80bc-bb7544fd89f0",
   "metadata": {},
   "outputs": [
    {
     "data": {
      "text/plain": [
       "False"
      ]
     },
     "execution_count": 136,
     "metadata": {},
     "output_type": "execute_result"
    }
   ],
   "source": [
    "all(blood.leucocytes_sang_gl.value_counts().keys() == [0, 1])"
   ]
  },
  {
   "cell_type": "code",
   "execution_count": 125,
   "id": "b909dc16-0d4d-48c1-96c6-65ea946ffbc5",
   "metadata": {},
   "outputs": [],
   "source": [
    "blood['nivo_maintenance'] = blood.nivo_maintenance.astype(bool)"
   ]
  },
  {
   "cell_type": "code",
   "execution_count": 129,
   "id": "66a629ef-eec9-4d38-a539-a029ef36a4dd",
   "metadata": {},
   "outputs": [
    {
     "data": {
      "text/plain": [
       "['sex',\n",
       " 'has_brain_mets',\n",
       " 'NRAS_MUTATION',\n",
       " 'NRAS_MUT_TYPE',\n",
       " 'BRAF_MUTATION',\n",
       " 'BRAF_MUT_TYPE',\n",
       " 'immuno_therapy_type',\n",
       " 'nivo_maintenance']"
      ]
     },
     "execution_count": 129,
     "metadata": {},
     "output_type": "execute_result"
    }
   ],
   "source": [
    "list(blood.select_dtypes([bool, object]).columns)"
   ]
  },
  {
   "cell_type": "code",
   "execution_count": 128,
   "id": "004d4a81-af32-4141-b064-9ed58625800c",
   "metadata": {},
   "outputs": [
    {
     "data": {
      "text/plain": [
       "['sex',\n",
       " 'has_brain_mets',\n",
       " 'NRAS_MUTATION',\n",
       " 'NRAS_MUT_TYPE',\n",
       " 'BRAF_MUTATION',\n",
       " 'BRAF_MUT_TYPE',\n",
       " 'immuno_therapy_type']"
      ]
     },
     "execution_count": 128,
     "metadata": {},
     "output_type": "execute_result"
    }
   ],
   "source": [
    "[*blood.select_dtypes(object).columns]"
   ]
  },
  {
   "cell_type": "code",
   "execution_count": null,
   "id": "7ff3fab9-41ab-4de0-87d4-196307d7fac7",
   "metadata": {},
   "outputs": [],
   "source": []
  }
 ],
 "metadata": {
  "kernelspec": {
   "display_name": "Datascience",
   "language": "python",
   "name": "datascience"
  },
  "language_info": {
   "codemirror_mode": {
    "name": "ipython",
    "version": 3
   },
   "file_extension": ".py",
   "mimetype": "text/x-python",
   "name": "python",
   "nbconvert_exporter": "python",
   "pygments_lexer": "ipython3",
   "version": "3.8.10"
  }
 },
 "nbformat": 4,
 "nbformat_minor": 5
}
