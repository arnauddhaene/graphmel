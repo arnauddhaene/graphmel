{
 "cells": [
  {
   "cell_type": "markdown",
   "source": "# Exploratory Data Analysis",
   "metadata": {
    "cell_id": "00001-8856a0e4-8b87-4171-b95a-03319be86d45",
    "deepnote_app_coordinates": {
     "h": 2,
     "w": 12,
     "x": 0,
     "y": 238
    },
    "is_collapsed": false,
    "tags": [],
    "deepnote_cell_type": "text-cell-h1"
   }
  },
  {
   "cell_type": "markdown",
   "source": "## Libraries and data import",
   "metadata": {
    "cell_id": "00001-5ea9cdbc-817b-4337-9482-e679749166a7",
    "is_collapsed": false,
    "jp-MarkdownHeadingCollapsed": true,
    "tags": [],
    "deepnote_cell_type": "text-cell-h2"
   }
  },
  {
   "cell_type": "code",
   "source": "!pip install -q -r ../requirements.txt",
   "metadata": {
    "tags": [],
    "deepnote_app_coordinates": {
     "x": 0,
     "y": 0,
     "w": 12,
     "h": 5
    },
    "cell_id": "00002-a5e107a7-cefa-4b16-86d2-7670a9e5c224",
    "deepnote_to_be_reexecuted": false,
    "source_hash": "337d4b46",
    "execution_start": 1633526573628,
    "execution_millis": 1008343,
    "deepnote_cell_type": "code"
   },
   "outputs": [],
   "execution_count": null
  },
  {
   "cell_type": "code",
   "metadata": {
    "cell_id": "00000-207be0c3-1fda-4ef8-bf43-49b770dfafdf",
    "deepnote_app_is_code_hidden": false,
    "deepnote_app_is_output_hidden": false,
    "deepnote_to_be_reexecuted": false,
    "execution_millis": 0,
    "execution_start": 1633526119557,
    "is_output_hidden": false,
    "source_hash": "843e4602",
    "deepnote_cell_type": "code"
   },
   "source": "import os, sys\n\nimport pandas as pd\nimport numpy as np\n\nimport matplotlib.pyplot as plt\nimport seaborn as sns\n\nimport plotly.express as px\nimport plotly.io as pio\npio.templates.default = 'seaborn'\n\nsys.path.append(os.path.abspath('..'))",
   "outputs": [],
   "execution_count": null
  },
  {
   "cell_type": "code",
   "metadata": {
    "cell_id": "00002-e468c095-ba0f-4a27-a338-ec13d6b00703",
    "deepnote_to_be_reexecuted": false,
    "execution_millis": 1,
    "execution_start": 1633015211493,
    "source_hash": "d88af069",
    "deepnote_cell_type": "code"
   },
   "source": "DATA_DIR = '/datasets/data2021-09-20/'\n\nlesions_file = 'melanoma_lesion-info_organ-overlap_2021-09-17_anonymized_cleaned_all.csv'\nlesion_mapping_file = 'melanoma_lesion_mapping_2021-09-20_anonymized.csv'\npatients_file = 'melanoma_patient-level_summary_anonymized.csv'\nstudies_file = 'melanoma_study_level_summary_anonymized.csv'",
   "outputs": [],
   "execution_count": null
  },
  {
   "cell_type": "markdown",
   "source": "## Lesions",
   "metadata": {
    "cell_id": "00004-70994b0c-2d24-489e-9413-7bd572e1d9e4",
    "deepnote_app_coordinates": {
     "h": 2,
     "w": 12,
     "x": 0,
     "y": 0
    },
    "is_collapsed": false,
    "jp-MarkdownHeadingCollapsed": true,
    "tags": [],
    "deepnote_cell_type": "text-cell-h2"
   }
  },
  {
   "cell_type": "markdown",
   "source": "### Dataset information",
   "metadata": {
    "cell_id": "00005-537db762-4f10-4f10-8067-c3b8092832e6",
    "deepnote_app_coordinates": {
     "h": 2,
     "w": 12,
     "x": 0,
     "y": 0
    },
    "is_collapsed": false,
    "tags": [],
    "deepnote_cell_type": "text-cell-h3"
   }
  },
  {
   "cell_type": "markdown",
   "source": "The lesions dataset contains the following features:\n\n* Each patient is attributed to a unique `gpcr_id [int]` \n* Each study is identified relative to the start of treatment with `study_name [str]` and the processed `study_phase [int]`\n* `roi_id [int]` is an identifier for the lesion's ROI (Region Of Interest)\n* `roi_name [str]` is a textual identifier for the lesion\n* `lesion_label_id [int]` is an identifier for the lesion's label\n* `pars_bodypart_petct [str]`, `pars_region_petct [str]`, `pars_subregion_petct [str]`, `pars_laterality_petct [str]` are categorical values output by PARS that help identify the location of the lesion\n* `pars_classification_petct [str]` is a categorical variable (either `benign` or `suspicious`)\n* `vol_ccm [float]` is the lesion volume in cubic centimeters\n* `max_suv_val [float]`, `mean_suv_val [float]`, `min_suv_val [float]`, and `sd_suv_val [float]` are relative to the lesions [SUV  (Standardized Uptake Values)](https://www.ncbi.nlm.nih.gov/pmc/articles/PMC3026294/)\n* `is_malignant [bool]` is the boolean value of `pars_classification_petct == 'suspicious'`\n*  `assigned_organ [str]` is the lesion's assigned organ (which is PARS output)",
   "metadata": {
    "cell_id": "00003-a5070c98-da1e-4c95-83ba-e7954b82fb4e",
    "deepnote_app_coordinates": {
     "h": 5,
     "w": 12,
     "x": 0,
     "y": 18
    },
    "deepnote_cell_type": "markdown"
   }
  },
  {
   "cell_type": "markdown",
   "source": "### Preprocessing",
   "metadata": {
    "cell_id": "00007-ece1ee9e-3af4-4fca-89bb-a829ba4d8888",
    "deepnote_app_coordinates": {
     "h": 2,
     "w": 12,
     "x": 0,
     "y": 0
    },
    "is_collapsed": false,
    "tags": [],
    "deepnote_cell_type": "text-cell-h3"
   }
  },
  {
   "cell_type": "code",
   "metadata": {
    "cell_id": "00012-18c706d7-d061-4b1c-a11a-962dbdd6adc8",
    "deepnote_to_be_reexecuted": false,
    "execution_millis": 8281,
    "execution_start": 1633526274116,
    "source_hash": "37a6942",
    "deepnote_cell_type": "code"
   },
   "source": "from src.utils import extract_study_phase",
   "outputs": [
    {
     "output_type": "error",
     "ename": "ModuleNotFoundError",
     "evalue": "No module named 'torch_geometric'",
     "traceback": [
      "\u001b[0;31m---------------------------------------------------------------------------\u001b[0m",
      "\u001b[0;31mModuleNotFoundError\u001b[0m                       Traceback (most recent call last)",
      "\u001b[0;32m/tmp/ipykernel_80/1279911139.py\u001b[0m in \u001b[0;36m<module>\u001b[0;34m\u001b[0m\n\u001b[0;32m----> 1\u001b[0;31m \u001b[0;32mfrom\u001b[0m \u001b[0msrc\u001b[0m\u001b[0;34m.\u001b[0m\u001b[0mutils\u001b[0m \u001b[0;32mimport\u001b[0m \u001b[0mextract_study_phase\u001b[0m\u001b[0;34m\u001b[0m\u001b[0;34m\u001b[0m\u001b[0m\n\u001b[0m",
      "\u001b[0;32m/work/graphmel/src/utils.py\u001b[0m in \u001b[0;36m<module>\u001b[0;34m\u001b[0m\n\u001b[1;32m     13\u001b[0m \u001b[0;34m\u001b[0m\u001b[0m\n\u001b[1;32m     14\u001b[0m \u001b[0;32mimport\u001b[0m \u001b[0mtorch\u001b[0m\u001b[0;34m\u001b[0m\u001b[0;34m\u001b[0m\u001b[0m\n\u001b[0;32m---> 15\u001b[0;31m \u001b[0;32mfrom\u001b[0m \u001b[0mtorch_geometric\u001b[0m\u001b[0;34m.\u001b[0m\u001b[0mdata\u001b[0m \u001b[0;32mimport\u001b[0m \u001b[0mData\u001b[0m\u001b[0;34m\u001b[0m\u001b[0;34m\u001b[0m\u001b[0m\n\u001b[0m\u001b[1;32m     16\u001b[0m \u001b[0;32mfrom\u001b[0m \u001b[0mtorch_geometric\u001b[0m\u001b[0;34m.\u001b[0m\u001b[0mloader\u001b[0m \u001b[0;32mimport\u001b[0m \u001b[0mDataLoader\u001b[0m\u001b[0;34m\u001b[0m\u001b[0;34m\u001b[0m\u001b[0m\n\u001b[1;32m     17\u001b[0m \u001b[0;34m\u001b[0m\u001b[0m\n",
      "\u001b[0;31mModuleNotFoundError\u001b[0m: No module named 'torch_geometric'"
     ]
    }
   ],
   "execution_count": null
  },
  {
   "cell_type": "code",
   "metadata": {
    "cell_id": "00004-8f346c84-cd1d-48fc-bfd2-e9b780e1a32a",
    "deepnote_app_coordinates": {
     "h": 5,
     "w": 12,
     "x": 0,
     "y": 24
    },
    "deepnote_app_is_code_hidden": true,
    "deepnote_to_be_reexecuted": true,
    "execution_millis": 173,
    "execution_start": 1633016889591,
    "source_hash": "70d56afd",
    "deepnote_cell_type": "code"
   },
   "source": "lesions = pd.read_csv(os.path.join(DATA_DIR, lesions_file))\nlesions['study_phase'] = lesions.study_name.apply(extract_study_phase)\nlesions = lesions[lesions.pars_classification_petct != 'benign']\n\n# Sorting by PARS classification allows for visualization consistency\nlesions.sort_values(by='pars_classification_petct', inplace=True)\nn_lesions, f_lesions = lesions.shape\n\nprint(f'Imported {n_lesions} lesions with {f_lesions} features. Null values: {lesions.isna().sum().sum()}')",
   "outputs": [
    {
     "name": "stdout",
     "text": "Imported 3251 lesions with 18 features. Null values: 0\n",
     "output_type": "stream"
    }
   ],
   "execution_count": null
  },
  {
   "cell_type": "code",
   "metadata": {
    "cell_id": "00007-cb25c1ed-e830-43de-a63c-9e46c845a88f",
    "deepnote_app_coordinates": {
     "h": 14,
     "w": 12,
     "x": 0,
     "y": 241
    },
    "deepnote_app_is_code_hidden": true,
    "deepnote_to_be_reexecuted": false,
    "execution_millis": 188,
    "execution_start": 1633016892410,
    "source_hash": "f5d0014a",
    "tags": [],
    "deepnote_cell_type": "code"
   },
   "source": "lesions.head()",
   "outputs": [
    {
     "output_type": "execute_result",
     "execution_count": 34,
     "data": {
      "application/vnd.deepnote.dataframe.v2+json": {
       "row_count": 3251,
       "column_count": 18,
       "columns": [
        {
         "name": "gpcr_id",
         "dtype": "int64",
         "stats": {
          "unique_count": 119,
          "nan_count": 0,
          "min": "34610002",
          "max": "34610149",
          "histogram": [
           {
            "bin_start": 34610002,
            "bin_end": 34610016.7,
            "count": 377
           },
           {
            "bin_start": 34610016.7,
            "bin_end": 34610031.4,
            "count": 450
           },
           {
            "bin_start": 34610031.4,
            "bin_end": 34610046.1,
            "count": 492
           },
           {
            "bin_start": 34610046.1,
            "bin_end": 34610060.8,
            "count": 184
           },
           {
            "bin_start": 34610060.8,
            "bin_end": 34610075.5,
            "count": 217
           },
           {
            "bin_start": 34610075.5,
            "bin_end": 34610090.2,
            "count": 187
           },
           {
            "bin_start": 34610090.2,
            "bin_end": 34610104.9,
            "count": 276
           },
           {
            "bin_start": 34610104.9,
            "bin_end": 34610119.6,
            "count": 312
           },
           {
            "bin_start": 34610119.6,
            "bin_end": 34610134.3,
            "count": 207
           },
           {
            "bin_start": 34610134.3,
            "bin_end": 34610149,
            "count": 549
           }
          ]
         }
        },
        {
         "name": "study_name",
         "dtype": "object",
         "stats": {
          "unique_count": 16,
          "nan_count": 0,
          "categories": [
           {
            "name": "post-01",
            "count": 1128
           },
           {
            "name": "pre-01",
            "count": 846
           },
           {
            "name": "14 others",
            "count": 1277
           }
          ]
         }
        },
        {
         "name": "roi_id",
         "dtype": "int64",
         "stats": {
          "unique_count": 228,
          "nan_count": 0,
          "min": "0",
          "max": "275",
          "histogram": [
           {
            "bin_start": 0,
            "bin_end": 27.5,
            "count": 1363
           },
           {
            "bin_start": 27.5,
            "bin_end": 55,
            "count": 860
           },
           {
            "bin_start": 55,
            "bin_end": 82.5,
            "count": 470
           },
           {
            "bin_start": 82.5,
            "bin_end": 110,
            "count": 227
           },
           {
            "bin_start": 110,
            "bin_end": 137.5,
            "count": 121
           },
           {
            "bin_start": 137.5,
            "bin_end": 165,
            "count": 88
           },
           {
            "bin_start": 165,
            "bin_end": 192.5,
            "count": 66
           },
           {
            "bin_start": 192.5,
            "bin_end": 220,
            "count": 37
           },
           {
            "bin_start": 220,
            "bin_end": 247.5,
            "count": 7
           },
           {
            "bin_start": 247.5,
            "bin_end": 275,
            "count": 12
           }
          ]
         }
        },
        {
         "name": "roi_name",
         "dtype": "object",
         "stats": {
          "unique_count": 382,
          "nan_count": 0,
          "categories": [
           {
            "name": "LymphNodes1",
            "count": 208
           },
           {
            "name": "LymphNodes2",
            "count": 152
           },
           {
            "name": "380 others",
            "count": 2891
           }
          ]
         }
        },
        {
         "name": "lesion_label_id",
         "dtype": "int64",
         "stats": {
          "unique_count": 228,
          "nan_count": 0,
          "min": "1",
          "max": "276",
          "histogram": [
           {
            "bin_start": 1,
            "bin_end": 28.5,
            "count": 1363
           },
           {
            "bin_start": 28.5,
            "bin_end": 56,
            "count": 860
           },
           {
            "bin_start": 56,
            "bin_end": 83.5,
            "count": 470
           },
           {
            "bin_start": 83.5,
            "bin_end": 111,
            "count": 227
           },
           {
            "bin_start": 111,
            "bin_end": 138.5,
            "count": 121
           },
           {
            "bin_start": 138.5,
            "bin_end": 166,
            "count": 88
           },
           {
            "bin_start": 166,
            "bin_end": 193.5,
            "count": 66
           },
           {
            "bin_start": 193.5,
            "bin_end": 221,
            "count": 37
           },
           {
            "bin_start": 221,
            "bin_end": 248.5,
            "count": 7
           },
           {
            "bin_start": 248.5,
            "bin_end": 276,
            "count": 12
           }
          ]
         }
        },
        {
         "name": "pars_bodypart_petct",
         "dtype": "object",
         "stats": {
          "unique_count": 3,
          "nan_count": 0,
          "categories": [
           {
            "name": "abdomen",
            "count": 1449
           },
           {
            "name": "thorax",
            "count": 1435
           },
           {
            "name": "lower limb",
            "count": 367
           }
          ]
         }
        },
        {
         "name": "pars_region_petct",
         "dtype": "object",
         "stats": {
          "unique_count": 18,
          "nan_count": 0,
          "categories": [
           {
            "name": "lymph nodes",
            "count": 1451
           },
           {
            "name": "bones",
            "count": 684
           },
           {
            "name": "16 others",
            "count": 1116
           }
          ]
         }
        },
        {
         "name": "pars_subregion_petct",
         "dtype": "object",
         "stats": {
          "unique_count": 43,
          "nan_count": 0,
          "categories": [
           {
            "name": "not specified",
            "count": 777
           },
           {
            "name": "IASLC station 10",
            "count": 268
           },
           {
            "name": "41 others",
            "count": 2206
           }
          ]
         }
        },
        {
         "name": "pars_laterality_petct",
         "dtype": "object",
         "stats": {
          "unique_count": 3,
          "nan_count": 0,
          "categories": [
           {
            "name": "not specified",
            "count": 1433
           },
           {
            "name": "right",
            "count": 1008
           },
           {
            "name": "left",
            "count": 810
           }
          ]
         }
        },
        {
         "name": "pars_classification_petct",
         "dtype": "object",
         "stats": {
          "unique_count": 1,
          "nan_count": 0,
          "categories": [
           {
            "name": "suspicious",
            "count": 3251
           }
          ]
         }
        },
        {
         "name": "vol_ccm",
         "dtype": "float64",
         "stats": {
          "unique_count": 856,
          "nan_count": 0,
          "min": "0.5",
          "max": "384.05",
          "histogram": [
           {
            "bin_start": 0.5,
            "bin_end": 38.855000000000004,
            "count": 3161
           },
           {
            "bin_start": 38.855000000000004,
            "bin_end": 77.21000000000001,
            "count": 43
           },
           {
            "bin_start": 77.21000000000001,
            "bin_end": 115.56500000000001,
            "count": 18
           },
           {
            "bin_start": 115.56500000000001,
            "bin_end": 153.92000000000002,
            "count": 14
           },
           {
            "bin_start": 153.92000000000002,
            "bin_end": 192.27500000000003,
            "count": 8
           },
           {
            "bin_start": 192.27500000000003,
            "bin_end": 230.63000000000002,
            "count": 3
           },
           {
            "bin_start": 230.63000000000002,
            "bin_end": 268.985,
            "count": 1
           },
           {
            "bin_start": 268.985,
            "bin_end": 307.34000000000003,
            "count": 2
           },
           {
            "bin_start": 307.34000000000003,
            "bin_end": 345.69500000000005,
            "count": 0
           },
           {
            "bin_start": 345.69500000000005,
            "bin_end": 384.05,
            "count": 1
           }
          ]
         }
        },
        {
         "name": "max_suv_val",
         "dtype": "float64",
         "stats": {
          "unique_count": 1267,
          "nan_count": 0,
          "min": "2.66",
          "max": "1240.61",
          "histogram": [
           {
            "bin_start": 2.66,
            "bin_end": 126.45499999999998,
            "count": 3248
           },
           {
            "bin_start": 126.45499999999998,
            "bin_end": 250.24999999999997,
            "count": 1
           },
           {
            "bin_start": 250.24999999999997,
            "bin_end": 374.045,
            "count": 0
           },
           {
            "bin_start": 374.045,
            "bin_end": 497.84,
            "count": 1
           },
           {
            "bin_start": 497.84,
            "bin_end": 621.6349999999999,
            "count": 0
           },
           {
            "bin_start": 621.6349999999999,
            "bin_end": 745.43,
            "count": 0
           },
           {
            "bin_start": 745.43,
            "bin_end": 869.2249999999999,
            "count": 0
           },
           {
            "bin_start": 869.2249999999999,
            "bin_end": 993.0199999999999,
            "count": 0
           },
           {
            "bin_start": 993.0199999999999,
            "bin_end": 1116.815,
            "count": 0
           },
           {
            "bin_start": 1116.815,
            "bin_end": 1240.61,
            "count": 1
           }
          ]
         }
        },
        {
         "name": "mean_suv_val",
         "dtype": "float64",
         "stats": {
          "unique_count": 966,
          "nan_count": 0,
          "min": "1.56",
          "max": "714.83",
          "histogram": [
           {
            "bin_start": 1.56,
            "bin_end": 72.88700000000001,
            "count": 3248
           },
           {
            "bin_start": 72.88700000000001,
            "bin_end": 144.21400000000003,
            "count": 1
           },
           {
            "bin_start": 144.21400000000003,
            "bin_end": 215.54100000000005,
            "count": 0
           },
           {
            "bin_start": 215.54100000000005,
            "bin_end": 286.86800000000005,
            "count": 0
           },
           {
            "bin_start": 286.86800000000005,
            "bin_end": 358.19500000000005,
            "count": 1
           },
           {
            "bin_start": 358.19500000000005,
            "bin_end": 429.5220000000001,
            "count": 0
           },
           {
            "bin_start": 429.5220000000001,
            "bin_end": 500.8490000000001,
            "count": 0
           },
           {
            "bin_start": 500.8490000000001,
            "bin_end": 572.176,
            "count": 0
           },
           {
            "bin_start": 572.176,
            "bin_end": 643.503,
            "count": 0
           },
           {
            "bin_start": 643.503,
            "bin_end": 714.83,
            "count": 1
           }
          ]
         }
        },
        {
         "name": "min_suv_val",
         "dtype": "float64",
         "stats": {
          "unique_count": 781,
          "nan_count": 0,
          "min": "1.12",
          "max": "521.14",
          "histogram": [
           {
            "bin_start": 1.12,
            "bin_end": 53.12199999999999,
            "count": 3248
           },
           {
            "bin_start": 53.12199999999999,
            "bin_end": 105.124,
            "count": 1
           },
           {
            "bin_start": 105.124,
            "bin_end": 157.12599999999998,
            "count": 0
           },
           {
            "bin_start": 157.12599999999998,
            "bin_end": 209.128,
            "count": 0
           },
           {
            "bin_start": 209.128,
            "bin_end": 261.13,
            "count": 0
           },
           {
            "bin_start": 261.13,
            "bin_end": 313.13199999999995,
            "count": 1
           },
           {
            "bin_start": 313.13199999999995,
            "bin_end": 365.13399999999996,
            "count": 0
           },
           {
            "bin_start": 365.13399999999996,
            "bin_end": 417.13599999999997,
            "count": 0
           },
           {
            "bin_start": 417.13599999999997,
            "bin_end": 469.138,
            "count": 0
           },
           {
            "bin_start": 469.138,
            "bin_end": 521.14,
            "count": 1
           }
          ]
         }
        },
        {
         "name": "sd_suv_val",
         "dtype": "float64",
         "stats": {
          "unique_count": 382,
          "nan_count": 0,
          "min": "0.17",
          "max": "159.7",
          "histogram": [
           {
            "bin_start": 0.17,
            "bin_end": 16.123,
            "count": 3248
           },
           {
            "bin_start": 16.123,
            "bin_end": 32.076,
            "count": 2
           },
           {
            "bin_start": 32.076,
            "bin_end": 48.028999999999996,
            "count": 0
           },
           {
            "bin_start": 48.028999999999996,
            "bin_end": 63.982,
            "count": 0
           },
           {
            "bin_start": 63.982,
            "bin_end": 79.935,
            "count": 0
           },
           {
            "bin_start": 79.935,
            "bin_end": 95.88799999999999,
            "count": 0
           },
           {
            "bin_start": 95.88799999999999,
            "bin_end": 111.841,
            "count": 0
           },
           {
            "bin_start": 111.841,
            "bin_end": 127.794,
            "count": 0
           },
           {
            "bin_start": 127.794,
            "bin_end": 143.74699999999999,
            "count": 0
           },
           {
            "bin_start": 143.74699999999999,
            "bin_end": 159.7,
            "count": 1
           }
          ]
         }
        },
        {
         "name": "is_malignant",
         "dtype": "bool",
         "stats": {
          "unique_count": 1,
          "nan_count": 0,
          "categories": [
           {
            "name": "True",
            "count": 3251
           }
          ]
         }
        },
        {
         "name": "assigned_organ",
         "dtype": "object",
         "stats": {
          "unique_count": 13,
          "nan_count": 0,
          "categories": [
           {
            "name": "lymphnode_abdomen",
            "count": 499
           },
           {
            "name": "other_thorax",
            "count": 481
           },
           {
            "name": "11 others",
            "count": 2271
           }
          ]
         }
        },
        {
         "name": "study_phase",
         "dtype": "int64",
         "stats": {
          "unique_count": 16,
          "nan_count": 0,
          "min": "-2",
          "max": "14",
          "histogram": [
           {
            "bin_start": -2,
            "bin_end": -0.3999999999999999,
            "count": 916
           },
           {
            "bin_start": -0.3999999999999999,
            "bin_end": 1.2000000000000002,
            "count": 1128
           },
           {
            "bin_start": 1.2000000000000002,
            "bin_end": 2.8000000000000007,
            "count": 441
           },
           {
            "bin_start": 2.8000000000000007,
            "bin_end": 4.4,
            "count": 396
           },
           {
            "bin_start": 4.4,
            "bin_end": 6,
            "count": 144
           },
           {
            "bin_start": 6,
            "bin_end": 7.600000000000001,
            "count": 146
           },
           {
            "bin_start": 7.600000000000001,
            "bin_end": 9.200000000000001,
            "count": 64
           },
           {
            "bin_start": 9.200000000000001,
            "bin_end": 10.8,
            "count": 8
           },
           {
            "bin_start": 10.8,
            "bin_end": 12.4,
            "count": 2
           },
           {
            "bin_start": 12.4,
            "bin_end": 14,
            "count": 6
           }
          ]
         }
        },
        {
         "name": "_deepnote_index_column",
         "dtype": "int64"
        }
       ],
       "rows_top": [
        {
         "gpcr_id": 34610002,
         "study_name": "pre-01",
         "roi_id": 0,
         "roi_name": "Muscles1",
         "lesion_label_id": 1,
         "pars_bodypart_petct": "lower limb",
         "pars_region_petct": "muscles",
         "pars_subregion_petct": "upper leg group",
         "pars_laterality_petct": "right",
         "pars_classification_petct": "suspicious",
         "vol_ccm": 1,
         "max_suv_val": 5.58,
         "mean_suv_val": 3.37,
         "min_suv_val": 2.36,
         "sd_suv_val": 0.92,
         "is_malignant": "True",
         "assigned_organ": "other_lowerlimb",
         "study_phase": -1,
         "_deepnote_index_column": 0
        },
        {
         "gpcr_id": 34610104,
         "study_name": "post-01",
         "roi_id": 23,
         "roi_name": "Liver1",
         "lesion_label_id": 24,
         "pars_bodypart_petct": "abdomen",
         "pars_region_petct": "liver",
         "pars_subregion_petct": "not specified",
         "pars_laterality_petct": "right",
         "pars_classification_petct": "suspicious",
         "vol_ccm": 1.03,
         "max_suv_val": 3.66,
         "mean_suv_val": 3.13,
         "min_suv_val": 2.82,
         "sd_suv_val": 0.21,
         "is_malignant": "True",
         "assigned_organ": "liver",
         "study_phase": 1,
         "_deepnote_index_column": 16135
        },
        {
         "gpcr_id": 34610104,
         "study_name": "post-01",
         "roi_id": 25,
         "roi_name": "Liver2",
         "lesion_label_id": 26,
         "pars_bodypart_petct": "abdomen",
         "pars_region_petct": "liver",
         "pars_subregion_petct": "not specified",
         "pars_laterality_petct": "right",
         "pars_classification_petct": "suspicious",
         "vol_ccm": 2.91,
         "max_suv_val": 7.23,
         "mean_suv_val": 4.16,
         "min_suv_val": 3.05,
         "sd_suv_val": 0.98,
         "is_malignant": "True",
         "assigned_organ": "liver",
         "study_phase": 1,
         "_deepnote_index_column": 16137
        },
        {
         "gpcr_id": 34610104,
         "study_name": "post-01",
         "roi_id": 26,
         "roi_name": "Liver3",
         "lesion_label_id": 27,
         "pars_bodypart_petct": "abdomen",
         "pars_region_petct": "liver",
         "pars_subregion_petct": "not specified",
         "pars_laterality_petct": "left",
         "pars_classification_petct": "suspicious",
         "vol_ccm": 3.89,
         "max_suv_val": 4.41,
         "mean_suv_val": 2.96,
         "min_suv_val": 2.51,
         "sd_suv_val": 0.43,
         "is_malignant": "True",
         "assigned_organ": "liver",
         "study_phase": 1,
         "_deepnote_index_column": 16138
        },
        {
         "gpcr_id": 34610104,
         "study_name": "post-01",
         "roi_id": 30,
         "roi_name": "Spleen1",
         "lesion_label_id": 31,
         "pars_bodypart_petct": "abdomen",
         "pars_region_petct": "spleen",
         "pars_subregion_petct": "not specified",
         "pars_laterality_petct": "not specified",
         "pars_classification_petct": "suspicious",
         "vol_ccm": 13.54,
         "max_suv_val": 16.34,
         "mean_suv_val": 10.14,
         "min_suv_val": 6.87,
         "sd_suv_val": 2.08,
         "is_malignant": "True",
         "assigned_organ": "spleen",
         "study_phase": 1,
         "_deepnote_index_column": 16142
        },
        {
         "gpcr_id": 34610104,
         "study_name": "post-01",
         "roi_id": 34,
         "roi_name": "Liver4",
         "lesion_label_id": 35,
         "pars_bodypart_petct": "abdomen",
         "pars_region_petct": "liver",
         "pars_subregion_petct": "not specified",
         "pars_laterality_petct": "left",
         "pars_classification_petct": "suspicious",
         "vol_ccm": 23.64,
         "max_suv_val": 16.77,
         "mean_suv_val": 9.07,
         "min_suv_val": 7.05,
         "sd_suv_val": 1.85,
         "is_malignant": "True",
         "assigned_organ": "other_abdomen",
         "study_phase": 1,
         "_deepnote_index_column": 16146
        },
        {
         "gpcr_id": 34610104,
         "study_name": "post-01",
         "roi_id": 41,
         "roi_name": "Kidney11",
         "lesion_label_id": 42,
         "pars_bodypart_petct": "abdomen",
         "pars_region_petct": "kidney",
         "pars_subregion_petct": "not specified",
         "pars_laterality_petct": "left",
         "pars_classification_petct": "suspicious",
         "vol_ccm": 3.99,
         "max_suv_val": 6.18,
         "mean_suv_val": 4.68,
         "min_suv_val": 3.83,
         "sd_suv_val": 0.63,
         "is_malignant": "True",
         "assigned_organ": "spleen",
         "study_phase": 1,
         "_deepnote_index_column": 16153
        },
        {
         "gpcr_id": 34610104,
         "study_name": "post-01",
         "roi_id": 43,
         "roi_name": "Spleen2",
         "lesion_label_id": 44,
         "pars_bodypart_petct": "abdomen",
         "pars_region_petct": "spleen",
         "pars_subregion_petct": "not specified",
         "pars_laterality_petct": "not specified",
         "pars_classification_petct": "suspicious",
         "vol_ccm": 23.5,
         "max_suv_val": 18.61,
         "mean_suv_val": 11.73,
         "min_suv_val": 8.75,
         "sd_suv_val": 2.06,
         "is_malignant": "True",
         "assigned_organ": "spleen",
         "study_phase": 1,
         "_deepnote_index_column": 16155
        },
        {
         "gpcr_id": 34610104,
         "study_name": "post-01",
         "roi_id": 45,
         "roi_name": "LymphNodes8",
         "lesion_label_id": 46,
         "pars_bodypart_petct": "abdomen",
         "pars_region_petct": "lymph nodes",
         "pars_subregion_petct": "para-aortic",
         "pars_laterality_petct": "right",
         "pars_classification_petct": "suspicious",
         "vol_ccm": 1.25,
         "max_suv_val": 9.89,
         "mean_suv_val": 8.06,
         "min_suv_val": 7.13,
         "sd_suv_val": 0.72,
         "is_malignant": "True",
         "assigned_organ": "lymphnode_abdomen",
         "study_phase": 1,
         "_deepnote_index_column": 16157
        },
        {
         "gpcr_id": 34610104,
         "study_name": "post-01",
         "roi_id": 46,
         "roi_name": "Spleen3",
         "lesion_label_id": 47,
         "pars_bodypart_petct": "abdomen",
         "pars_region_petct": "spleen",
         "pars_subregion_petct": "not specified",
         "pars_laterality_petct": "not specified",
         "pars_classification_petct": "suspicious",
         "vol_ccm": 17.36,
         "max_suv_val": 15.72,
         "mean_suv_val": 9.85,
         "min_suv_val": 6.61,
         "sd_suv_val": 2.52,
         "is_malignant": "True",
         "assigned_organ": "spleen",
         "study_phase": 1,
         "_deepnote_index_column": 16158
        },
        {
         "gpcr_id": 34610104,
         "study_name": "post-01",
         "roi_id": 48,
         "roi_name": "LymphNodes9",
         "lesion_label_id": 49,
         "pars_bodypart_petct": "abdomen",
         "pars_region_petct": "lymph nodes",
         "pars_subregion_petct": "para-aortic",
         "pars_laterality_petct": "left",
         "pars_classification_petct": "suspicious",
         "vol_ccm": 2.3,
         "max_suv_val": 9.94,
         "mean_suv_val": 7.07,
         "min_suv_val": 5.67,
         "sd_suv_val": 0.93,
         "is_malignant": "True",
         "assigned_organ": "liver",
         "study_phase": 1,
         "_deepnote_index_column": 16160
        },
        {
         "gpcr_id": 34610104,
         "study_name": "post-01",
         "roi_id": 49,
         "roi_name": "Spleen4",
         "lesion_label_id": 50,
         "pars_bodypart_petct": "abdomen",
         "pars_region_petct": "spleen",
         "pars_subregion_petct": "not specified",
         "pars_laterality_petct": "not specified",
         "pars_classification_petct": "suspicious",
         "vol_ccm": 1,
         "max_suv_val": 9.2,
         "mean_suv_val": 7.36,
         "min_suv_val": 6.62,
         "sd_suv_val": 0.61,
         "is_malignant": "True",
         "assigned_organ": "spleen",
         "study_phase": 1,
         "_deepnote_index_column": 16161
        },
        {
         "gpcr_id": 34610104,
         "study_name": "post-01",
         "roi_id": 50,
         "roi_name": "Liver5",
         "lesion_label_id": 51,
         "pars_bodypart_petct": "abdomen",
         "pars_region_petct": "liver",
         "pars_subregion_petct": "not specified",
         "pars_laterality_petct": "right",
         "pars_classification_petct": "suspicious",
         "vol_ccm": 13.4,
         "max_suv_val": 7.41,
         "mean_suv_val": 4.11,
         "min_suv_val": 3.12,
         "sd_suv_val": 0.84,
         "is_malignant": "True",
         "assigned_organ": "liver",
         "study_phase": 1,
         "_deepnote_index_column": 16162
        },
        {
         "gpcr_id": 34610104,
         "study_name": "post-01",
         "roi_id": 51,
         "roi_name": "LymphNodes10",
         "lesion_label_id": 52,
         "pars_bodypart_petct": "abdomen",
         "pars_region_petct": "lymph nodes",
         "pars_subregion_petct": "para-aortic",
         "pars_laterality_petct": "not specified",
         "pars_classification_petct": "suspicious",
         "vol_ccm": 2.08,
         "max_suv_val": 10.26,
         "mean_suv_val": 6.29,
         "min_suv_val": 4.32,
         "sd_suv_val": 1.49,
         "is_malignant": "True",
         "assigned_organ": "liver",
         "study_phase": 1,
         "_deepnote_index_column": 16163
        },
        {
         "gpcr_id": 34610104,
         "study_name": "post-01",
         "roi_id": 52,
         "roi_name": "Spleen5",
         "lesion_label_id": 53,
         "pars_bodypart_petct": "abdomen",
         "pars_region_petct": "spleen",
         "pars_subregion_petct": "not specified",
         "pars_laterality_petct": "not specified",
         "pars_classification_petct": "suspicious",
         "vol_ccm": 0.76,
         "max_suv_val": 10.48,
         "mean_suv_val": 8.95,
         "min_suv_val": 8.1,
         "sd_suv_val": 0.64,
         "is_malignant": "True",
         "assigned_organ": "spleen",
         "study_phase": 1,
         "_deepnote_index_column": 16164
        },
        {
         "gpcr_id": 34610104,
         "study_name": "post-01",
         "roi_id": 53,
         "roi_name": "LymphNodes11",
         "lesion_label_id": 54,
         "pars_bodypart_petct": "thorax",
         "pars_region_petct": "lymph nodes",
         "pars_subregion_petct": "IASLC station 3",
         "pars_laterality_petct": "not specified",
         "pars_classification_petct": "suspicious",
         "vol_ccm": 2.44,
         "max_suv_val": 5.85,
         "mean_suv_val": 3.65,
         "min_suv_val": 2.75,
         "sd_suv_val": 0.79,
         "is_malignant": "True",
         "assigned_organ": "liver",
         "study_phase": 1,
         "_deepnote_index_column": 16165
        },
        {
         "gpcr_id": 34610104,
         "study_name": "post-01",
         "roi_id": 54,
         "roi_name": "LymphNodes12",
         "lesion_label_id": 55,
         "pars_bodypart_petct": "abdomen",
         "pars_region_petct": "lymph nodes",
         "pars_subregion_petct": "peri-splenic",
         "pars_laterality_petct": "not specified",
         "pars_classification_petct": "suspicious",
         "vol_ccm": 6.8,
         "max_suv_val": 13.41,
         "mean_suv_val": 9.99,
         "min_suv_val": 7.01,
         "sd_suv_val": 1.82,
         "is_malignant": "True",
         "assigned_organ": "spleen",
         "study_phase": 1,
         "_deepnote_index_column": 16166
        },
        {
         "gpcr_id": 34610104,
         "study_name": "post-01",
         "roi_id": 55,
         "roi_name": "Spleen6",
         "lesion_label_id": 56,
         "pars_bodypart_petct": "abdomen",
         "pars_region_petct": "spleen",
         "pars_subregion_petct": "not specified",
         "pars_laterality_petct": "not specified",
         "pars_classification_petct": "suspicious",
         "vol_ccm": 118.82,
         "max_suv_val": 19.53,
         "mean_suv_val": 10.99,
         "min_suv_val": 8.2,
         "sd_suv_val": 2.19,
         "is_malignant": "True",
         "assigned_organ": "spleen",
         "study_phase": 1,
         "_deepnote_index_column": 16167
        },
        {
         "gpcr_id": 34610104,
         "study_name": "post-01",
         "roi_id": 56,
         "roi_name": "Liver6",
         "lesion_label_id": 57,
         "pars_bodypart_petct": "abdomen",
         "pars_region_petct": "liver",
         "pars_subregion_petct": "not specified",
         "pars_laterality_petct": "left",
         "pars_classification_petct": "suspicious",
         "vol_ccm": 5.21,
         "max_suv_val": 4.81,
         "mean_suv_val": 3.19,
         "min_suv_val": 2.74,
         "sd_suv_val": 0.42,
         "is_malignant": "True",
         "assigned_organ": "liver",
         "study_phase": 1,
         "_deepnote_index_column": 16168
        },
        {
         "gpcr_id": 34610104,
         "study_name": "post-01",
         "roi_id": 57,
         "roi_name": "Spleen7",
         "lesion_label_id": 58,
         "pars_bodypart_petct": "abdomen",
         "pars_region_petct": "spleen",
         "pars_subregion_petct": "not specified",
         "pars_laterality_petct": "not specified",
         "pars_classification_petct": "suspicious",
         "vol_ccm": 19,
         "max_suv_val": 10.56,
         "mean_suv_val": 7,
         "min_suv_val": 4.44,
         "sd_suv_val": 1.63,
         "is_malignant": "True",
         "assigned_organ": "spleen",
         "study_phase": 1,
         "_deepnote_index_column": 16169
        },
        {
         "gpcr_id": 34610104,
         "study_name": "post-01",
         "roi_id": 58,
         "roi_name": "LymphNodes13",
         "lesion_label_id": 59,
         "pars_bodypart_petct": "thorax",
         "pars_region_petct": "lymph nodes",
         "pars_subregion_petct": "IASLC station 8",
         "pars_laterality_petct": "not specified",
         "pars_classification_petct": "suspicious",
         "vol_ccm": 1.37,
         "max_suv_val": 13.36,
         "mean_suv_val": 8.19,
         "min_suv_val": 5.62,
         "sd_suv_val": 2.02,
         "is_malignant": "True",
         "assigned_organ": "bones_thorax",
         "study_phase": 1,
         "_deepnote_index_column": 16170
        },
        {
         "gpcr_id": 34610104,
         "study_name": "post-01",
         "roi_id": 59,
         "roi_name": "LymphNodes14",
         "lesion_label_id": 60,
         "pars_bodypart_petct": "thorax",
         "pars_region_petct": "lymph nodes",
         "pars_subregion_petct": "IASLC station 7",
         "pars_laterality_petct": "not specified",
         "pars_classification_petct": "suspicious",
         "vol_ccm": 9.85,
         "max_suv_val": 13.65,
         "mean_suv_val": 9.14,
         "min_suv_val": 5.73,
         "sd_suv_val": 2.03,
         "is_malignant": "True",
         "assigned_organ": "other_thorax",
         "study_phase": 1,
         "_deepnote_index_column": 16171
        },
        {
         "gpcr_id": 34610104,
         "study_name": "post-01",
         "roi_id": 21,
         "roi_name": "LymphNodes6",
         "lesion_label_id": 22,
         "pars_bodypart_petct": "abdomen",
         "pars_region_petct": "lymph nodes",
         "pars_subregion_petct": "para-aortic",
         "pars_laterality_petct": "right",
         "pars_classification_petct": "suspicious",
         "vol_ccm": 1.71,
         "max_suv_val": 7.22,
         "mean_suv_val": 4.33,
         "min_suv_val": 3.04,
         "sd_suv_val": 1.12,
         "is_malignant": "True",
         "assigned_organ": "lymphnode_abdomen",
         "study_phase": 1,
         "_deepnote_index_column": 16133
        },
        {
         "gpcr_id": 34610104,
         "study_name": "post-01",
         "roi_id": 60,
         "roi_name": "Lung1",
         "lesion_label_id": 61,
         "pars_bodypart_petct": "thorax",
         "pars_region_petct": "lung",
         "pars_subregion_petct": "upper lobe",
         "pars_laterality_petct": "right",
         "pars_classification_petct": "suspicious",
         "vol_ccm": 0.66,
         "max_suv_val": 10.05,
         "mean_suv_val": 6.15,
         "min_suv_val": 4.33,
         "sd_suv_val": 1.52,
         "is_malignant": "True",
         "assigned_organ": "lung",
         "study_phase": 1,
         "_deepnote_index_column": 16172
        },
        {
         "gpcr_id": 34610104,
         "study_name": "post-01",
         "roi_id": 18,
         "roi_name": "LymphNodes5",
         "lesion_label_id": 19,
         "pars_bodypart_petct": "abdomen",
         "pars_region_petct": "lymph nodes",
         "pars_subregion_petct": "iliacal",
         "pars_laterality_petct": "right",
         "pars_classification_petct": "suspicious",
         "vol_ccm": 3.4,
         "max_suv_val": 4.76,
         "mean_suv_val": 2.77,
         "min_suv_val": 2,
         "sd_suv_val": 0.67,
         "is_malignant": "True",
         "assigned_organ": "lymphnode_abdomen",
         "study_phase": 1,
         "_deepnote_index_column": 16130
        },
        {
         "gpcr_id": 34610104,
         "study_name": "post-01",
         "roi_id": 16,
         "roi_name": "LymphNodes4",
         "lesion_label_id": 17,
         "pars_bodypart_petct": "abdomen",
         "pars_region_petct": "lymph nodes",
         "pars_subregion_petct": "iliacal",
         "pars_laterality_petct": "left",
         "pars_classification_petct": "suspicious",
         "vol_ccm": 7.48,
         "max_suv_val": 8.05,
         "mean_suv_val": 4.57,
         "min_suv_val": 3.4,
         "sd_suv_val": 0.94,
         "is_malignant": "True",
         "assigned_organ": "lymphnode_abdomen",
         "study_phase": 1,
         "_deepnote_index_column": 16128
        },
        {
         "gpcr_id": 34610104,
         "study_name": "pre-01",
         "roi_id": 14,
         "roi_name": "LymphNodes5",
         "lesion_label_id": 15,
         "pars_bodypart_petct": "abdomen",
         "pars_region_petct": "lymph nodes",
         "pars_subregion_petct": "para-aortic",
         "pars_laterality_petct": "right",
         "pars_classification_petct": "suspicious",
         "vol_ccm": 25.3,
         "max_suv_val": 12.72,
         "mean_suv_val": 7.73,
         "min_suv_val": 5.35,
         "sd_suv_val": 1.82,
         "is_malignant": "True",
         "assigned_organ": "lymphnode_abdomen",
         "study_phase": -1,
         "_deepnote_index_column": 16094
        }
       ],
       "rows_bottom": [
        {
         "gpcr_id": 34610044,
         "study_name": "post-03",
         "roi_id": 56,
         "roi_name": "Bones14",
         "lesion_label_id": 57,
         "pars_bodypart_petct": "thorax",
         "pars_region_petct": "bones",
         "pars_subregion_petct": "ribs",
         "pars_laterality_petct": "not specified",
         "pars_classification_petct": "suspicious",
         "vol_ccm": 2.18,
         "max_suv_val": 5.68,
         "mean_suv_val": 3.53,
         "min_suv_val": 2.41,
         "sd_suv_val": 0.79,
         "is_malignant": "True",
         "assigned_organ": "bones_thorax",
         "study_phase": 3,
         "_deepnote_index_column": 8149
        },
        {
         "gpcr_id": 34610044,
         "study_name": "post-03",
         "roi_id": 55,
         "roi_name": "Bones13",
         "lesion_label_id": 56,
         "pars_bodypart_petct": "thorax",
         "pars_region_petct": "bones",
         "pars_subregion_petct": "spine",
         "pars_laterality_petct": "not specified",
         "pars_classification_petct": "suspicious",
         "vol_ccm": 1.12,
         "max_suv_val": 9.15,
         "mean_suv_val": 5.65,
         "min_suv_val": 3.85,
         "sd_suv_val": 1.46,
         "is_malignant": "True",
         "assigned_organ": "bones_thorax",
         "study_phase": 3,
         "_deepnote_index_column": 8148
        },
        {
         "gpcr_id": 34610044,
         "study_name": "post-03",
         "roi_id": 53,
         "roi_name": "LymphNodes12",
         "lesion_label_id": 54,
         "pars_bodypart_petct": "thorax",
         "pars_region_petct": "lymph nodes",
         "pars_subregion_petct": "IASLC station 3",
         "pars_laterality_petct": "not specified",
         "pars_classification_petct": "suspicious",
         "vol_ccm": 1.47,
         "max_suv_val": 12.69,
         "mean_suv_val": 8.04,
         "min_suv_val": 5.59,
         "sd_suv_val": 1.86,
         "is_malignant": "True",
         "assigned_organ": "other_thorax",
         "study_phase": 3,
         "_deepnote_index_column": 8147
        },
        {
         "gpcr_id": 34610044,
         "study_name": "post-03",
         "roi_id": 52,
         "roi_name": "Pleura3",
         "lesion_label_id": 53,
         "pars_bodypart_petct": "thorax",
         "pars_region_petct": "pleura",
         "pars_subregion_petct": "not specified",
         "pars_laterality_petct": "left",
         "pars_classification_petct": "suspicious",
         "vol_ccm": 1.17,
         "max_suv_val": 2.99,
         "mean_suv_val": 2.18,
         "min_suv_val": 1.86,
         "sd_suv_val": 0.28,
         "is_malignant": "True",
         "assigned_organ": "other_thorax",
         "study_phase": 3,
         "_deepnote_index_column": 8146
        },
        {
         "gpcr_id": 34610044,
         "study_name": "post-03",
         "roi_id": 18,
         "roi_name": "LymphNodes5",
         "lesion_label_id": 19,
         "pars_bodypart_petct": "abdomen",
         "pars_region_petct": "lymph nodes",
         "pars_subregion_petct": "para-aortic",
         "pars_laterality_petct": "left",
         "pars_classification_petct": "suspicious",
         "vol_ccm": 1.47,
         "max_suv_val": 4.37,
         "mean_suv_val": 2.56,
         "min_suv_val": 1.85,
         "sd_suv_val": 0.66,
         "is_malignant": "True",
         "assigned_organ": "other_abdomen",
         "study_phase": 3,
         "_deepnote_index_column": 8115
        },
        {
         "gpcr_id": 34610044,
         "study_name": "post-03",
         "roi_id": 19,
         "roi_name": "Spleen1",
         "lesion_label_id": 20,
         "pars_bodypart_petct": "abdomen",
         "pars_region_petct": "spleen",
         "pars_subregion_petct": "not specified",
         "pars_laterality_petct": "not specified",
         "pars_classification_petct": "suspicious",
         "vol_ccm": 0.86,
         "max_suv_val": 2.98,
         "mean_suv_val": 1.81,
         "min_suv_val": 1.42,
         "sd_suv_val": 0.4,
         "is_malignant": "True",
         "assigned_organ": "other_abdomen",
         "study_phase": 3,
         "_deepnote_index_column": 8116
        },
        {
         "gpcr_id": 34610044,
         "study_name": "post-03",
         "roi_id": 20,
         "roi_name": "Bones3",
         "lesion_label_id": 21,
         "pars_bodypart_petct": "thorax",
         "pars_region_petct": "bones",
         "pars_subregion_petct": "ribs",
         "pars_laterality_petct": "not specified",
         "pars_classification_petct": "suspicious",
         "vol_ccm": 4.01,
         "max_suv_val": 3,
         "mean_suv_val": 1.58,
         "min_suv_val": 1.26,
         "sd_suv_val": 0.3,
         "is_malignant": "True",
         "assigned_organ": "bones_thorax",
         "study_phase": 3,
         "_deepnote_index_column": 8117
        },
        {
         "gpcr_id": 34610044,
         "study_name": "post-03",
         "roi_id": 22,
         "roi_name": "Spleen2",
         "lesion_label_id": 23,
         "pars_bodypart_petct": "abdomen",
         "pars_region_petct": "spleen",
         "pars_subregion_petct": "not specified",
         "pars_laterality_petct": "not specified",
         "pars_classification_petct": "suspicious",
         "vol_ccm": 1.78,
         "max_suv_val": 5.78,
         "mean_suv_val": 3.34,
         "min_suv_val": 2.43,
         "sd_suv_val": 0.87,
         "is_malignant": "True",
         "assigned_organ": "bones_abdomen",
         "study_phase": 3,
         "_deepnote_index_column": 8119
        },
        {
         "gpcr_id": 34610044,
         "study_name": "post-03",
         "roi_id": 27,
         "roi_name": "Liver2",
         "lesion_label_id": 28,
         "pars_bodypart_petct": "abdomen",
         "pars_region_petct": "liver",
         "pars_subregion_petct": "not specified",
         "pars_laterality_petct": "left",
         "pars_classification_petct": "suspicious",
         "vol_ccm": 4.13,
         "max_suv_val": 3.52,
         "mean_suv_val": 2.27,
         "min_suv_val": 2.01,
         "sd_suv_val": 0.32,
         "is_malignant": "True",
         "assigned_organ": "liver",
         "study_phase": 3,
         "_deepnote_index_column": 8124
        },
        {
         "gpcr_id": 34610044,
         "study_name": "post-03",
         "roi_id": 28,
         "roi_name": "Bones6",
         "lesion_label_id": 29,
         "pars_bodypart_petct": "thorax",
         "pars_region_petct": "bones",
         "pars_subregion_petct": "ribs",
         "pars_laterality_petct": "not specified",
         "pars_classification_petct": "suspicious",
         "vol_ccm": 0.86,
         "max_suv_val": 4.02,
         "mean_suv_val": 2.59,
         "min_suv_val": 1.94,
         "sd_suv_val": 0.59,
         "is_malignant": "True",
         "assigned_organ": "bones_thorax",
         "study_phase": 3,
         "_deepnote_index_column": 8125
        },
        {
         "gpcr_id": 34610044,
         "study_name": "post-03",
         "roi_id": 29,
         "roi_name": "Bones7",
         "lesion_label_id": 30,
         "pars_bodypart_petct": "thorax",
         "pars_region_petct": "bones",
         "pars_subregion_petct": "ribs",
         "pars_laterality_petct": "not specified",
         "pars_classification_petct": "suspicious",
         "vol_ccm": 0.71,
         "max_suv_val": 2.84,
         "mean_suv_val": 1.97,
         "min_suv_val": 1.5,
         "sd_suv_val": 0.36,
         "is_malignant": "True",
         "assigned_organ": "spleen",
         "study_phase": 3,
         "_deepnote_index_column": 8126
        },
        {
         "gpcr_id": 34610044,
         "study_name": "post-03",
         "roi_id": 31,
         "roi_name": "Spleen3",
         "lesion_label_id": 32,
         "pars_bodypart_petct": "abdomen",
         "pars_region_petct": "spleen",
         "pars_subregion_petct": "not specified",
         "pars_laterality_petct": "not specified",
         "pars_classification_petct": "suspicious",
         "vol_ccm": 1.54,
         "max_suv_val": 3.92,
         "mean_suv_val": 2.31,
         "min_suv_val": 1.68,
         "sd_suv_val": 0.57,
         "is_malignant": "True",
         "assigned_organ": "spleen",
         "study_phase": 3,
         "_deepnote_index_column": 8128
        },
        {
         "gpcr_id": 34610044,
         "study_name": "post-03",
         "roi_id": 32,
         "roi_name": "Spleen4",
         "lesion_label_id": 33,
         "pars_bodypart_petct": "abdomen",
         "pars_region_petct": "spleen",
         "pars_subregion_petct": "not specified",
         "pars_laterality_petct": "not specified",
         "pars_classification_petct": "suspicious",
         "vol_ccm": 0.95,
         "max_suv_val": 5.19,
         "mean_suv_val": 3.09,
         "min_suv_val": 2.18,
         "sd_suv_val": 0.77,
         "is_malignant": "True",
         "assigned_organ": "spleen",
         "study_phase": 3,
         "_deepnote_index_column": 8129
        },
        {
         "gpcr_id": 34610044,
         "study_name": "post-03",
         "roi_id": 33,
         "roi_name": "Liver4",
         "lesion_label_id": 34,
         "pars_bodypart_petct": "abdomen",
         "pars_region_petct": "liver",
         "pars_subregion_petct": "not specified",
         "pars_laterality_petct": "right",
         "pars_classification_petct": "suspicious",
         "vol_ccm": 9.19,
         "max_suv_val": 3.19,
         "mean_suv_val": 2.02,
         "min_suv_val": 1.82,
         "sd_suv_val": 0.24,
         "is_malignant": "True",
         "assigned_organ": "liver",
         "study_phase": 3,
         "_deepnote_index_column": 8130
        },
        {
         "gpcr_id": 34610044,
         "study_name": "post-03",
         "roi_id": 6,
         "roi_name": "Bones2",
         "lesion_label_id": 7,
         "pars_bodypart_petct": "abdomen",
         "pars_region_petct": "bones",
         "pars_subregion_petct": "pelvis",
         "pars_laterality_petct": "right",
         "pars_classification_petct": "suspicious",
         "vol_ccm": 2.74,
         "max_suv_val": 10.76,
         "mean_suv_val": 6.7,
         "min_suv_val": 4.54,
         "sd_suv_val": 1.72,
         "is_malignant": "True",
         "assigned_organ": "kidney",
         "study_phase": 3,
         "_deepnote_index_column": 8103
        },
        {
         "gpcr_id": 34610044,
         "study_name": "post-03",
         "roi_id": 35,
         "roi_name": "Bones8",
         "lesion_label_id": 36,
         "pars_bodypart_petct": "thorax",
         "pars_region_petct": "bones",
         "pars_subregion_petct": "ribs",
         "pars_laterality_petct": "not specified",
         "pars_classification_petct": "suspicious",
         "vol_ccm": 0.51,
         "max_suv_val": 2.66,
         "mean_suv_val": 1.6,
         "min_suv_val": 1.12,
         "sd_suv_val": 0.39,
         "is_malignant": "True",
         "assigned_organ": "other_thorax",
         "study_phase": 3,
         "_deepnote_index_column": 8132
        },
        {
         "gpcr_id": 34610044,
         "study_name": "post-03",
         "roi_id": 40,
         "roi_name": "Stomach3",
         "lesion_label_id": 41,
         "pars_bodypart_petct": "abdomen",
         "pars_region_petct": "stomach",
         "pars_subregion_petct": "cardia / fundus / body",
         "pars_laterality_petct": "not specified",
         "pars_classification_petct": "suspicious",
         "vol_ccm": 107.19,
         "max_suv_val": 7.94,
         "mean_suv_val": 4.86,
         "min_suv_val": 3.73,
         "sd_suv_val": 0.8,
         "is_malignant": "True",
         "assigned_organ": "other_abdomen",
         "study_phase": 3,
         "_deepnote_index_column": 8136
        },
        {
         "gpcr_id": 34610044,
         "study_name": "post-03",
         "roi_id": 41,
         "roi_name": "LymphNodes8",
         "lesion_label_id": 42,
         "pars_bodypart_petct": "thorax",
         "pars_region_petct": "lymph nodes",
         "pars_subregion_petct": "IASLC station 3",
         "pars_laterality_petct": "not specified",
         "pars_classification_petct": "suspicious",
         "vol_ccm": 0.64,
         "max_suv_val": 6.1,
         "mean_suv_val": 3.68,
         "min_suv_val": 2.75,
         "sd_suv_val": 0.84,
         "is_malignant": "True",
         "assigned_organ": "lymphnode_thorax",
         "study_phase": 3,
         "_deepnote_index_column": 8137
        },
        {
         "gpcr_id": 34610044,
         "study_name": "post-03",
         "roi_id": 42,
         "roi_name": "Bones10",
         "lesion_label_id": 43,
         "pars_bodypart_petct": "thorax",
         "pars_region_petct": "bones",
         "pars_subregion_petct": "ribs",
         "pars_laterality_petct": "not specified",
         "pars_classification_petct": "suspicious",
         "vol_ccm": 1.12,
         "max_suv_val": 6.53,
         "mean_suv_val": 3.91,
         "min_suv_val": 2.75,
         "sd_suv_val": 0.92,
         "is_malignant": "True",
         "assigned_organ": "bones_thorax",
         "study_phase": 3,
         "_deepnote_index_column": 8138
        },
        {
         "gpcr_id": 34610044,
         "study_name": "post-03",
         "roi_id": 43,
         "roi_name": "LymphNodes9",
         "lesion_label_id": 44,
         "pars_bodypart_petct": "thorax",
         "pars_region_petct": "lymph nodes",
         "pars_subregion_petct": "IASLC station 3",
         "pars_laterality_petct": "not specified",
         "pars_classification_petct": "suspicious",
         "vol_ccm": 1.03,
         "max_suv_val": 3.39,
         "mean_suv_val": 2.04,
         "min_suv_val": 1.43,
         "sd_suv_val": 0.5,
         "is_malignant": "True",
         "assigned_organ": "lymphnode_thorax",
         "study_phase": 3,
         "_deepnote_index_column": 8139
        },
        {
         "gpcr_id": 34610044,
         "study_name": "post-03",
         "roi_id": 45,
         "roi_name": "Bones11",
         "lesion_label_id": 46,
         "pars_bodypart_petct": "thorax",
         "pars_region_petct": "bones",
         "pars_subregion_petct": "ribs",
         "pars_laterality_petct": "not specified",
         "pars_classification_petct": "suspicious",
         "vol_ccm": 1.66,
         "max_suv_val": 3.86,
         "mean_suv_val": 2.21,
         "min_suv_val": 1.64,
         "sd_suv_val": 0.56,
         "is_malignant": "True",
         "assigned_organ": "bones_thorax",
         "study_phase": 3,
         "_deepnote_index_column": 8140
        },
        {
         "gpcr_id": 34610044,
         "study_name": "post-03",
         "roi_id": 46,
         "roi_name": "LymphNodes10",
         "lesion_label_id": 47,
         "pars_bodypart_petct": "abdomen",
         "pars_region_petct": "lymph nodes",
         "pars_subregion_petct": "peri-splenic",
         "pars_laterality_petct": "not specified",
         "pars_classification_petct": "suspicious",
         "vol_ccm": 2.49,
         "max_suv_val": 4.05,
         "mean_suv_val": 2.37,
         "min_suv_val": 1.91,
         "sd_suv_val": 0.45,
         "is_malignant": "True",
         "assigned_organ": "lymphnode_abdomen",
         "study_phase": 3,
         "_deepnote_index_column": 8141
        },
        {
         "gpcr_id": 34610044,
         "study_name": "post-03",
         "roi_id": 47,
         "roi_name": "Pleura1",
         "lesion_label_id": 48,
         "pars_bodypart_petct": "thorax",
         "pars_region_petct": "pleura",
         "pars_subregion_petct": "not specified",
         "pars_laterality_petct": "not specified",
         "pars_classification_petct": "suspicious",
         "vol_ccm": 0.73,
         "max_suv_val": 5.31,
         "mean_suv_val": 3.51,
         "min_suv_val": 2.63,
         "sd_suv_val": 0.74,
         "is_malignant": "True",
         "assigned_organ": "other_thorax",
         "study_phase": 3,
         "_deepnote_index_column": 8142
        },
        {
         "gpcr_id": 34610044,
         "study_name": "post-03",
         "roi_id": 49,
         "roi_name": "Bones12",
         "lesion_label_id": 50,
         "pars_bodypart_petct": "thorax",
         "pars_region_petct": "bones",
         "pars_subregion_petct": "ribs",
         "pars_laterality_petct": "not specified",
         "pars_classification_petct": "suspicious",
         "vol_ccm": 0.51,
         "max_suv_val": 3.43,
         "mean_suv_val": 2.35,
         "min_suv_val": 1.81,
         "sd_suv_val": 0.46,
         "is_malignant": "True",
         "assigned_organ": "other_thorax",
         "study_phase": 3,
         "_deepnote_index_column": 8143
        },
        {
         "gpcr_id": 34610044,
         "study_name": "post-03",
         "roi_id": 50,
         "roi_name": "Pleura2",
         "lesion_label_id": 51,
         "pars_bodypart_petct": "thorax",
         "pars_region_petct": "pleura",
         "pars_subregion_petct": "not specified",
         "pars_laterality_petct": "not specified",
         "pars_classification_petct": "suspicious",
         "vol_ccm": 5.82,
         "max_suv_val": 11.6,
         "mean_suv_val": 7.23,
         "min_suv_val": 4.89,
         "sd_suv_val": 1.65,
         "is_malignant": "True",
         "assigned_organ": "other_thorax",
         "study_phase": 3,
         "_deepnote_index_column": 8144
        },
        {
         "gpcr_id": 34610044,
         "study_name": "post-03",
         "roi_id": 51,
         "roi_name": "LymphNodes11",
         "lesion_label_id": 52,
         "pars_bodypart_petct": "thorax",
         "pars_region_petct": "lymph nodes",
         "pars_subregion_petct": "IASLC station 10",
         "pars_laterality_petct": "left",
         "pars_classification_petct": "suspicious",
         "vol_ccm": 0.66,
         "max_suv_val": 4.59,
         "mean_suv_val": 3.86,
         "min_suv_val": 3.54,
         "sd_suv_val": 0.3,
         "is_malignant": "True",
         "assigned_organ": "lymphnode_thorax",
         "study_phase": 3,
         "_deepnote_index_column": 8145
        },
        {
         "gpcr_id": 34610044,
         "study_name": "post-03",
         "roi_id": 39,
         "roi_name": "Bones9",
         "lesion_label_id": 40,
         "pars_bodypart_petct": "thorax",
         "pars_region_petct": "bones",
         "pars_subregion_petct": "ribs",
         "pars_laterality_petct": "not specified",
         "pars_classification_petct": "suspicious",
         "vol_ccm": 0.88,
         "max_suv_val": 4.2,
         "mean_suv_val": 2.6,
         "min_suv_val": 1.78,
         "sd_suv_val": 0.66,
         "is_malignant": "True",
         "assigned_organ": "bones_thorax",
         "study_phase": 3,
         "_deepnote_index_column": 8135
        },
        {
         "gpcr_id": 34610149,
         "study_name": "post-02",
         "roi_id": 25,
         "roi_name": "Bones6",
         "lesion_label_id": 26,
         "pars_bodypart_petct": "thorax",
         "pars_region_petct": "bones",
         "pars_subregion_petct": "spine",
         "pars_laterality_petct": "not specified",
         "pars_classification_petct": "suspicious",
         "vol_ccm": 0.54,
         "max_suv_val": 6.76,
         "mean_suv_val": 4.31,
         "min_suv_val": 2.87,
         "sd_suv_val": 1.05,
         "is_malignant": "True",
         "assigned_organ": "bones_thorax",
         "study_phase": 2,
         "_deepnote_index_column": 20819
        }
       ]
      },
      "text/plain": "        gpcr_id study_name  roi_id      roi_name  lesion_label_id  \\\n0      34610002     pre-01       0      Muscles1                1   \n16135  34610104    post-01      23        Liver1               24   \n16137  34610104    post-01      25        Liver2               26   \n16138  34610104    post-01      26        Liver3               27   \n16142  34610104    post-01      30       Spleen1               31   \n...         ...        ...     ...           ...              ...   \n8143   34610044    post-03      49       Bones12               50   \n8144   34610044    post-03      50       Pleura2               51   \n8145   34610044    post-03      51  LymphNodes11               52   \n8135   34610044    post-03      39        Bones9               40   \n20819  34610149    post-02      25        Bones6               26   \n\n      pars_bodypart_petct pars_region_petct pars_subregion_petct  \\\n0              lower limb           muscles      upper leg group   \n16135             abdomen             liver        not specified   \n16137             abdomen             liver        not specified   \n16138             abdomen             liver        not specified   \n16142             abdomen            spleen        not specified   \n...                   ...               ...                  ...   \n8143               thorax             bones                 ribs   \n8144               thorax            pleura        not specified   \n8145               thorax       lymph nodes     IASLC station 10   \n8135               thorax             bones                 ribs   \n20819              thorax             bones                spine   \n\n      pars_laterality_petct pars_classification_petct  vol_ccm  max_suv_val  \\\n0                     right                suspicious     1.00         5.58   \n16135                 right                suspicious     1.03         3.66   \n16137                 right                suspicious     2.91         7.23   \n16138                  left                suspicious     3.89         4.41   \n16142         not specified                suspicious    13.54        16.34   \n...                     ...                       ...      ...          ...   \n8143          not specified                suspicious     0.51         3.43   \n8144          not specified                suspicious     5.82        11.60   \n8145                   left                suspicious     0.66         4.59   \n8135          not specified                suspicious     0.88         4.20   \n20819         not specified                suspicious     0.54         6.76   \n\n       mean_suv_val  min_suv_val  sd_suv_val  is_malignant    assigned_organ  \\\n0              3.37         2.36        0.92          True   other_lowerlimb   \n16135          3.13         2.82        0.21          True             liver   \n16137          4.16         3.05        0.98          True             liver   \n16138          2.96         2.51        0.43          True             liver   \n16142         10.14         6.87        2.08          True            spleen   \n...             ...          ...         ...           ...               ...   \n8143           2.35         1.81        0.46          True      other_thorax   \n8144           7.23         4.89        1.65          True      other_thorax   \n8145           3.86         3.54        0.30          True  lymphnode_thorax   \n8135           2.60         1.78        0.66          True      bones_thorax   \n20819          4.31         2.87        1.05          True      bones_thorax   \n\n       study_phase  \n0               -1  \n16135            1  \n16137            1  \n16138            1  \n16142            1  \n...            ...  \n8143             3  \n8144             3  \n8145             3  \n8135             3  \n20819            2  \n\n[3251 rows x 18 columns]",
      "text/html": "<div>\n<style scoped>\n    .dataframe tbody tr th:only-of-type {\n        vertical-align: middle;\n    }\n\n    .dataframe tbody tr th {\n        vertical-align: top;\n    }\n\n    .dataframe thead th {\n        text-align: right;\n    }\n</style>\n<table border=\"1\" class=\"dataframe\">\n  <thead>\n    <tr style=\"text-align: right;\">\n      <th></th>\n      <th>gpcr_id</th>\n      <th>study_name</th>\n      <th>roi_id</th>\n      <th>roi_name</th>\n      <th>lesion_label_id</th>\n      <th>pars_bodypart_petct</th>\n      <th>pars_region_petct</th>\n      <th>pars_subregion_petct</th>\n      <th>pars_laterality_petct</th>\n      <th>pars_classification_petct</th>\n      <th>vol_ccm</th>\n      <th>max_suv_val</th>\n      <th>mean_suv_val</th>\n      <th>min_suv_val</th>\n      <th>sd_suv_val</th>\n      <th>is_malignant</th>\n      <th>assigned_organ</th>\n      <th>study_phase</th>\n    </tr>\n  </thead>\n  <tbody>\n    <tr>\n      <th>0</th>\n      <td>34610002</td>\n      <td>pre-01</td>\n      <td>0</td>\n      <td>Muscles1</td>\n      <td>1</td>\n      <td>lower limb</td>\n      <td>muscles</td>\n      <td>upper leg group</td>\n      <td>right</td>\n      <td>suspicious</td>\n      <td>1.00</td>\n      <td>5.58</td>\n      <td>3.37</td>\n      <td>2.36</td>\n      <td>0.92</td>\n      <td>True</td>\n      <td>other_lowerlimb</td>\n      <td>-1</td>\n    </tr>\n    <tr>\n      <th>16135</th>\n      <td>34610104</td>\n      <td>post-01</td>\n      <td>23</td>\n      <td>Liver1</td>\n      <td>24</td>\n      <td>abdomen</td>\n      <td>liver</td>\n      <td>not specified</td>\n      <td>right</td>\n      <td>suspicious</td>\n      <td>1.03</td>\n      <td>3.66</td>\n      <td>3.13</td>\n      <td>2.82</td>\n      <td>0.21</td>\n      <td>True</td>\n      <td>liver</td>\n      <td>1</td>\n    </tr>\n    <tr>\n      <th>16137</th>\n      <td>34610104</td>\n      <td>post-01</td>\n      <td>25</td>\n      <td>Liver2</td>\n      <td>26</td>\n      <td>abdomen</td>\n      <td>liver</td>\n      <td>not specified</td>\n      <td>right</td>\n      <td>suspicious</td>\n      <td>2.91</td>\n      <td>7.23</td>\n      <td>4.16</td>\n      <td>3.05</td>\n      <td>0.98</td>\n      <td>True</td>\n      <td>liver</td>\n      <td>1</td>\n    </tr>\n    <tr>\n      <th>16138</th>\n      <td>34610104</td>\n      <td>post-01</td>\n      <td>26</td>\n      <td>Liver3</td>\n      <td>27</td>\n      <td>abdomen</td>\n      <td>liver</td>\n      <td>not specified</td>\n      <td>left</td>\n      <td>suspicious</td>\n      <td>3.89</td>\n      <td>4.41</td>\n      <td>2.96</td>\n      <td>2.51</td>\n      <td>0.43</td>\n      <td>True</td>\n      <td>liver</td>\n      <td>1</td>\n    </tr>\n    <tr>\n      <th>16142</th>\n      <td>34610104</td>\n      <td>post-01</td>\n      <td>30</td>\n      <td>Spleen1</td>\n      <td>31</td>\n      <td>abdomen</td>\n      <td>spleen</td>\n      <td>not specified</td>\n      <td>not specified</td>\n      <td>suspicious</td>\n      <td>13.54</td>\n      <td>16.34</td>\n      <td>10.14</td>\n      <td>6.87</td>\n      <td>2.08</td>\n      <td>True</td>\n      <td>spleen</td>\n      <td>1</td>\n    </tr>\n    <tr>\n      <th>...</th>\n      <td>...</td>\n      <td>...</td>\n      <td>...</td>\n      <td>...</td>\n      <td>...</td>\n      <td>...</td>\n      <td>...</td>\n      <td>...</td>\n      <td>...</td>\n      <td>...</td>\n      <td>...</td>\n      <td>...</td>\n      <td>...</td>\n      <td>...</td>\n      <td>...</td>\n      <td>...</td>\n      <td>...</td>\n      <td>...</td>\n    </tr>\n    <tr>\n      <th>8143</th>\n      <td>34610044</td>\n      <td>post-03</td>\n      <td>49</td>\n      <td>Bones12</td>\n      <td>50</td>\n      <td>thorax</td>\n      <td>bones</td>\n      <td>ribs</td>\n      <td>not specified</td>\n      <td>suspicious</td>\n      <td>0.51</td>\n      <td>3.43</td>\n      <td>2.35</td>\n      <td>1.81</td>\n      <td>0.46</td>\n      <td>True</td>\n      <td>other_thorax</td>\n      <td>3</td>\n    </tr>\n    <tr>\n      <th>8144</th>\n      <td>34610044</td>\n      <td>post-03</td>\n      <td>50</td>\n      <td>Pleura2</td>\n      <td>51</td>\n      <td>thorax</td>\n      <td>pleura</td>\n      <td>not specified</td>\n      <td>not specified</td>\n      <td>suspicious</td>\n      <td>5.82</td>\n      <td>11.60</td>\n      <td>7.23</td>\n      <td>4.89</td>\n      <td>1.65</td>\n      <td>True</td>\n      <td>other_thorax</td>\n      <td>3</td>\n    </tr>\n    <tr>\n      <th>8145</th>\n      <td>34610044</td>\n      <td>post-03</td>\n      <td>51</td>\n      <td>LymphNodes11</td>\n      <td>52</td>\n      <td>thorax</td>\n      <td>lymph nodes</td>\n      <td>IASLC station 10</td>\n      <td>left</td>\n      <td>suspicious</td>\n      <td>0.66</td>\n      <td>4.59</td>\n      <td>3.86</td>\n      <td>3.54</td>\n      <td>0.30</td>\n      <td>True</td>\n      <td>lymphnode_thorax</td>\n      <td>3</td>\n    </tr>\n    <tr>\n      <th>8135</th>\n      <td>34610044</td>\n      <td>post-03</td>\n      <td>39</td>\n      <td>Bones9</td>\n      <td>40</td>\n      <td>thorax</td>\n      <td>bones</td>\n      <td>ribs</td>\n      <td>not specified</td>\n      <td>suspicious</td>\n      <td>0.88</td>\n      <td>4.20</td>\n      <td>2.60</td>\n      <td>1.78</td>\n      <td>0.66</td>\n      <td>True</td>\n      <td>bones_thorax</td>\n      <td>3</td>\n    </tr>\n    <tr>\n      <th>20819</th>\n      <td>34610149</td>\n      <td>post-02</td>\n      <td>25</td>\n      <td>Bones6</td>\n      <td>26</td>\n      <td>thorax</td>\n      <td>bones</td>\n      <td>spine</td>\n      <td>not specified</td>\n      <td>suspicious</td>\n      <td>0.54</td>\n      <td>6.76</td>\n      <td>4.31</td>\n      <td>2.87</td>\n      <td>1.05</td>\n      <td>True</td>\n      <td>bones_thorax</td>\n      <td>2</td>\n    </tr>\n  </tbody>\n</table>\n<p>3251 rows × 18 columns</p>\n</div>"
     },
     "metadata": {}
    }
   ],
   "execution_count": null
  },
  {
   "cell_type": "code",
   "metadata": {
    "cell_id": "00010-340c18b8-512a-4494-85d2-6bc7583bab6b",
    "deepnote_to_be_reexecuted": false,
    "execution_millis": 3,
    "execution_start": 1633015354390,
    "source_hash": "4aef478d",
    "tags": [],
    "deepnote_cell_type": "code"
   },
   "source": "lesions_labels = {\n    'vol_ccm': 'Lesion volume (ccm)',\n    'pars_classification_petct': 'PARS lesion classification',\n    'study_phase': 'Study phase (relative to treatment start)',\n    'assigned_organ': 'Assigned organ'\n}",
   "outputs": [],
   "execution_count": null
  },
  {
   "cell_type": "code",
   "metadata": {
    "cell_id": "00008-6c244907-d497-4d38-8aa2-acfd7a1460e6",
    "deepnote_to_be_reexecuted": false,
    "execution_millis": 0,
    "execution_start": 1633015553407,
    "source_hash": "968c7544",
    "tags": [],
    "deepnote_cell_type": "code"
   },
   "source": "top_h_legend = dict(orientation='h', yanchor=\"bottom\", y=1.02)",
   "outputs": [],
   "execution_count": null
  },
  {
   "cell_type": "markdown",
   "source": "### Visualisations",
   "metadata": {
    "cell_id": "00011-172383a9-ef7f-4969-98a3-7905b311b347",
    "deepnote_app_coordinates": {
     "h": 2,
     "w": 12,
     "x": 0,
     "y": 0
    },
    "is_collapsed": false,
    "tags": [],
    "deepnote_cell_type": "text-cell-h3"
   }
  },
  {
   "cell_type": "code",
   "metadata": {
    "cell_id": "00008-17506ace-ab04-49f0-b7ea-50fb5f3e5596",
    "deepnote_app_coordinates": {
     "h": 5,
     "w": 12,
     "x": 0,
     "y": 0
    },
    "deepnote_app_is_code_hidden": true,
    "deepnote_to_be_reexecuted": false,
    "execution_millis": 292,
    "execution_start": 1633017877519,
    "source_hash": "1d883bd6",
    "tags": [],
    "deepnote_cell_type": "code"
   },
   "source": "px.histogram(lesions, x='study_phase', color='pars_classification_petct',\n             labels=lesions_labels) \\\n    .update_layout(legend=top_h_legend, yaxis_title='Lesions')",
   "outputs": [
    {
     "data": {
      "text/html": "<html>\n<head><meta charset=\"utf-8\" /></head>\n<body>\n    <div>            <script src=\"https://cdnjs.cloudflare.com/ajax/libs/mathjax/2.7.5/MathJax.js?config=TeX-AMS-MML_SVG\"></script><script type=\"text/javascript\">if (window.MathJax) {MathJax.Hub.Config({SVG: {font: \"STIX-Web\"}});}</script>                <script type=\"text/javascript\">window.PlotlyConfig = {MathJaxConfig: 'local'};</script>\n        <script src=\"https://cdn.plot.ly/plotly-2.4.2.min.js\"></script>                <div id=\"f81e0013-b822-417c-85e6-3850faac6ec5\" class=\"plotly-graph-div\" style=\"height:525px; width:100%;\"></div>            <script type=\"text/javascript\">                                    window.PLOTLYENV=window.PLOTLYENV || {};                                    if (document.getElementById(\"f81e0013-b822-417c-85e6-3850faac6ec5\")) {                    Plotly.newPlot(                        \"f81e0013-b822-417c-85e6-3850faac6ec5\",                        [{\"alignmentgroup\":\"True\",\"bingroup\":\"x\",\"hovertemplate\":\"PARS lesion classification=suspicious<br>Study phase (relative to treatment start)=%{x}<br>count=%{y}<extra></extra>\",\"legendgroup\":\"suspicious\",\"marker\":{\"color\":\"rgb(76,114,176)\",\"pattern\":{\"shape\":\"\"}},\"name\":\"suspicious\",\"offsetgroup\":\"suspicious\",\"orientation\":\"v\",\"showlegend\":true,\"type\":\"histogram\",\"x\":[-1,1,1,1,1,1,1,1,1,1,1,1,1,1,1,1,1,1,1,1,1,1,1,1,1,1,-1,-1,-1,-1,-1,-1,-1,-1,-1,-1,-1,-1,-1,-1,1,1,1,1,1,1,1,1,-1,-1,-1,3,3,3,3,3,3,-1,-1,-1,-1,-1,-1,-1,-1,-1,-1,-1,-1,-1,-1,-1,3,3,3,3,-1,-1,-1,1,1,1,1,1,1,1,-1,1,1,1,1,1,1,1,1,1,1,2,1,-1,-1,-1,1,1,1,1,1,-1,-1,1,1,1,1,1,-1,-1,-1,-1,-1,-1,-1,-1,-1,1,1,1,1,1,1,1,1,1,1,1,1,1,1,-1,1,1,1,1,1,1,1,1,1,1,1,1,-1,-1,-1,3,3,3,3,-1,-1,-1,1,1,1,1,1,1,1,1,1,1,1,1,1,1,3,3,3,3,-1,-1,-1,-1,-1,-1,-1,-1,-1,-1,-1,-1,2,2,3,3,1,2,2,2,3,3,1,1,-1,-1,4,-2,-2,-1,-1,-1,-1,-1,-1,-1,-1,-1,-1,-1,-1,1,1,1,1,1,1,4,1,4,4,2,2,2,2,3,3,3,3,3,3,3,3,3,3,3,3,3,3,3,4,4,4,1,1,1,5,5,5,5,5,5,5,5,5,5,5,5,5,5,5,5,5,5,5,6,6,5,4,4,4,2,2,2,2,2,2,3,3,3,3,2,3,3,3,4,4,4,4,4,4,4,4,3,2,2,2,-1,-1,-1,-1,-1,-1,-1,-1,-1,-1,-1,-1,-1,-1,1,-2,-1,3,3,1,1,-1,-1,-1,-1,-1,-1,-1,-1,-1,-1,-1,-1,-1,-1,3,-1,-1,-1,-1,-1,-1,-1,-1,-1,-1,-1,-1,-1,1,2,-1,-1,-1,-1,-1,-1,-1,-1,-1,1,1,1,1,1,1,1,1,2,2,2,2,-1,-1,-1,-1,2,2,3,3,-2,-2,-2,-2,-2,-2,1,-2,-2,-2,-2,-2,-2,-2,-2,-2,-2,-2,-2,5,5,4,2,2,2,2,3,3,3,3,3,3,3,3,3,4,4,4,4,4,4,4,4,2,4,2,1,-1,-1,-1,-1,-1,-1,-1,1,1,1,1,1,1,1,1,1,2,2,2,1,1,1,5,5,5,1,1,1,1,1,1,1,1,2,2,2,2,3,3,3,3,3,3,3,3,3,1,1,1,1,5,5,4,4,4,-1,-1,-1,-1,-1,-1,-1,-1,-1,-1,-1,-1,-1,-1,-1,-1,-1,-1,-1,-1,1,1,1,2,2,1,2,6,-1,-1,-1,-1,-1,-1,-1,-1,-1,-1,-1,-1,-1,-1,1,1,1,1,2,3,3,3,3,3,3,3,3,3,-1,3,3,3,3,3,3,-1,1,1,1,1,3,4,-1,1,1,1,1,1,1,1,1,1,1,1,1,1,1,1,1,1,-2,-1,5,5,1,1,1,1,1,1,1,1,1,1,1,1,1,1,1,1,1,1,1,1,1,1,1,1,1,1,1,1,4,4,-2,4,-1,-1,-1,-1,-1,-1,-1,-1,-1,-1,-1,-1,-1,-1,-1,-1,-1,-1,-1,-1,4,4,4,3,1,1,2,2,2,2,2,2,2,2,-1,2,1,1,2,2,2,2,2,2,2,3,-1,1,-1,-1,1,1,1,1,1,1,1,2,2,2,2,2,2,2,2,3,3,-1,1,3,4,1,1,1,1,-1,-1,-1,-1,-1,-1,-1,-1,-1,-1,-1,-1,-1,-1,-1,-1,-1,1,1,1,1,1,-1,6,1,1,1,1,1,1,1,1,1,1,1,1,1,1,2,2,3,3,3,3,5,5,5,1,1,1,1,-2,-2,-2,-2,-2,-2,-2,-2,-2,-2,5,-1,1,1,1,1,1,1,1,1,1,1,-1,1,5,1,-1,-1,-1,-1,-1,-1,-1,-1,-1,-1,-1,-1,-1,-1,-1,-1,-1,-1,1,1,1,4,4,3,3,1,1,1,1,1,1,1,1,-1,-1,1,-1,-1,-1,-1,1,1,1,1,1,1,2,-1,2,6,6,-1,-1,-1,-1,-1,-1,-1,-1,-1,-1,-1,-1,-1,-1,-1,1,1,1,1,1,1,-1,1,-1,-1,-1,1,-1,1,1,1,1,-1,-1,-1,-1,-1,-1,-1,-1,-1,-1,-1,-1,-1,-1,-1,1,1,1,1,1,1,1,1,1,1,1,1,1,1,1,1,1,1,1,1,1,1,1,1,1,1,1,1,1,1,1,1,1,1,1,1,1,1,-1,1,1,1,1,1,1,1,1,1,1,1,1,-1,-1,-1,-1,-1,-1,-1,-1,-1,-1,-1,-1,-1,-1,-1,-1,-1,-1,-1,-1,-1,1,1,1,-1,-1,-1,-1,-1,-1,-1,-1,-1,-1,-1,-1,-1,-1,1,-1,-1,-1,-1,-1,-1,-1,-1,-1,-1,-1,-1,1,1,1,2,2,2,2,2,2,3,3,3,3,3,3,3,3,3,3,3,3,3,-2,-2,1,1,1,1,1,1,1,1,1,1,1,1,1,1,1,1,1,1,1,1,1,1,1,1,1,1,1,-1,1,1,1,1,1,1,3,3,3,3,3,3,3,3,3,-1,-1,-1,-1,-1,-1,-1,-1,1,-1,1,1,1,1,2,2,2,2,2,2,2,2,2,-2,-1,1,1,1,1,1,1,1,1,1,-1,-1,-1,2,2,2,3,-1,1,1,1,1,1,1,1,2,2,2,2,2,2,2,2,2,2,2,2,2,-1,-1,-1,-1,-1,1,1,1,1,1,1,1,1,1,2,2,2,2,2,2,2,2,1,1,1,1,1,1,1,1,1,1,1,1,1,1,1,1,1,1,1,1,1,1,1,1,1,1,1,1,1,1,1,1,1,1,1,1,1,1,1,1,1,1,1,1,1,1,1,1,1,1,1,1,1,1,1,-1,-1,-1,-1,-1,1,1,1,1,1,1,1,1,1,1,1,1,1,1,1,3,-1,-1,-1,-1,1,1,1,1,1,1,1,1,1,1,1,-1,-1,-1,-1,-1,-1,-1,-1,-1,-1,-1,-1,-1,-1,-1,1,2,2,2,-1,-1,-1,-1,-1,-1,-1,-1,-1,-1,-1,-1,-1,-1,-1,-1,-1,1,-1,1,-1,1,1,1,1,2,2,2,2,2,2,3,3,3,5,5,5,6,-2,-2,-2,-1,-1,-1,-1,-1,3,3,3,3,-1,-1,-1,-1,-1,-1,-1,-1,-1,-1,-1,-1,-1,-1,-1,-1,-1,3,3,3,3,-1,-1,1,1,1,2,2,2,2,2,1,2,2,2,2,2,2,2,2,2,2,3,2,1,1,1,6,6,-1,-1,-1,-1,-1,-1,-1,-1,-1,1,1,1,1,2,2,2,3,3,3,6,6,6,6,6,6,6,6,6,6,6,6,6,6,3,6,6,6,6,6,6,6,6,6,6,6,6,-1,4,5,2,2,2,-1,-1,-1,1,1,1,1,1,-1,-1,-1,2,1,2,2,3,3,1,2,2,2,2,5,5,5,5,-1,-1,-1,-1,-1,-1,4,-1,-1,-1,1,1,1,1,1,1,1,2,-1,-1,-1,-1,-1,-1,-1,-1,-1,-1,-1,-1,-1,-1,-1,-1,-1,-1,-1,-1,-1,-1,-1,-1,-1,-1,-1,-1,-1,-1,-1,-1,-1,-1,-1,-1,-1,-1,-1,-1,-1,-1,-1,-1,-1,-1,-1,-1,-1,-1,-1,-1,-1,-1,-1,-1,-1,-1,-1,-1,-1,-1,-1,-1,-1,-1,-1,-1,-1,-1,-1,-1,-1,-1,-1,-1,-1,-1,-1,-1,-1,-1,-1,-1,-1,-1,-1,-1,-1,-1,-1,-1,-1,-1,-1,-1,-1,-1,-1,-1,-1,-1,-1,6,-1,-1,1,1,1,1,1,1,1,1,1,1,1,1,1,1,1,1,1,1,1,-1,1,1,1,1,1,-1,-1,-1,-1,-1,-1,-1,-1,-1,-1,1,-1,-1,-1,-1,-1,-1,-1,1,1,1,1,-1,-1,1,2,-1,-1,-1,-1,-1,-1,-1,-1,-1,-1,-1,-1,-1,-1,-1,-1,-1,-1,-1,-1,-1,-1,-1,-1,-1,2,2,2,2,2,2,2,2,-1,-1,1,-1,-1,-1,-1,-1,-1,-1,-1,-1,-1,-1,-1,2,2,2,1,1,1,-1,-1,-1,-1,-1,-1,-1,-1,-1,-1,-1,-1,-1,-1,-1,1,1,1,1,1,1,1,1,2,2,2,2,2,3,-1,-1,-1,-1,-1,-1,-1,1,1,1,1,1,1,1,1,1,1,1,1,1,1,1,1,1,1,1,1,1,1,2,2,2,2,2,2,2,2,2,3,1,1,1,1,1,1,1,1,1,1,1,1,1,-1,1,-1,-1,-1,-1,1,1,1,1,1,1,1,-1,1,6,6,-1,-1,1,1,1,1,1,1,1,1,1,2,2,2,2,2,2,2,2,2,2,-1,-1,-1,-1,-1,-1,-1,-1,-1,-1,-1,-1,-1,-1,2,-1,-1,-1,-1,-1,-1,-1,-1,-1,-1,-1,-1,3,2,2,2,2,2,2,2,2,2,3,3,3,3,3,3,3,5,5,5,5,6,6,6,2,2,2,2,2,2,2,1,1,1,1,1,2,2,2,2,2,2,2,2,2,2,2,2,2,2,2,-1,3,4,2,3,3,3,3,3,3,3,3,3,3,3,3,3,3,3,3,1,1,1,1,2,1,2,2,1,1,1,1,1,1,2,2,2,2,2,2,2,2,2,2,2,2,2,2,2,2,1,2,2,4,5,5,5,6,6,6,7,7,7,7,8,8,8,8,9,9,9,9,9,9,4,4,4,3,5,5,-1,-1,-1,-1,-1,-1,-1,-1,1,1,1,1,1,1,1,2,2,2,2,3,1,1,1,1,1,1,1,1,1,1,1,1,1,1,1,1,1,1,1,1,1,3,3,3,3,1,1,1,1,4,5,5,5,5,5,6,6,7,7,3,7,7,8,9,9,9,9,9,9,9,9,7,4,4,5,-2,-2,-2,-2,-2,-2,-2,-2,-2,-2,-2,-2,-2,-2,1,1,1,1,1,1,1,-2,-2,-2,-2,5,5,5,6,7,7,7,7,7,7,4,8,8,8,8,8,9,9,9,10,10,10,8,-1,-1,2,10,10,10,-1,-1,-1,-1,-1,1,1,1,1,2,2,2,3,3,3,3,4,4,9,4,9,8,3,3,4,4,5,6,7,1,2,2,2,4,5,7,7,7,8,8,8,8,8,8,4,4,5,1,1,1,1,1,1,1,1,1,1,1,1,1,1,1,1,1,1,1,2,2,1,1,1,1,5,5,6,6,6,6,7,7,7,7,2,7,8,8,-1,-1,-1,-1,-1,-1,-1,-1,7,2,2,2,1,1,1,1,1,1,1,1,1,1,1,1,1,1,1,1,1,1,1,1,1,1,1,1,1,-1,-1,-1,-1,-1,-1,-1,-1,-1,-1,1,-1,-1,1,1,1,1,1,1,1,1,1,-1,2,1,1,-2,-2,-2,-2,-2,-2,-2,-2,-2,-1,-1,-1,-1,-1,1,1,1,1,1,1,2,-2,1,1,1,1,1,1,1,1,1,1,1,1,1,1,1,1,1,1,1,1,1,1,1,1,1,1,2,2,2,2,2,2,2,2,2,2,2,2,2,2,2,2,2,2,2,2,2,2,2,2,2,2,2,2,5,5,1,1,1,1,1,1,1,1,2,1,1,1,1,1,1,2,2,2,2,2,1,5,2,2,2,2,2,2,2,2,2,2,2,2,2,2,2,2,2,2,2,2,2,2,2,2,2,1,1,2,-1,-1,-1,1,1,1,1,1,1,2,1,1,1,1,2,2,-1,-1,-1,1,1,1,9,5,3,1,1,1,1,1,1,1,1,1,1,1,1,1,1,1,1,1,1,1,1,1,1,1,1,1,2,2,2,2,2,2,2,2,2,2,1,2,2,2,2,2,3,4,4,1,1,1,2,4,1,1,4,4,4,5,7,8,9,10,11,12,13,13,13,13,13,14,1,1,1,2,3,4,4,2,2,3,3,3,3,3,3,4,5,5,5,1,1,1,1,1,1,1,1,1,2,2,2,1,2,9,9,1,1,1,1,1,1,1,1,1,1,1,1,1,1,1,1,1,1,1,1,1,1,1,1,1,-2,-1,-1,-1,-1,-1,-1,-1,-1,-1,-1,1,1,1,1,1,1,1,1,1,1,1,1,1,1,1,1,1,1,1,1,1,1,1,1,1,1,1,1,1,1,-1,-1,-1,-1,-1,1,1,1,1,1,1,1,1,1,1,1,1,1,1,1,1,1,1,1,1,1,1,1,1,1,1,1,1,1,1,6,6,6,6,6,6,6,6,6,6,6,6,6,6,6,6,6,6,6,6,6,6,6,6,6,5,5,5,5,5,5,5,5,5,5,6,5,5,5,5,5,5,5,6,6,6,6,5,-1,6,6,-1,1,1,1,1,4,4,5,-1,-1,-1,1,1,1,1,1,1,1,1,1,2,-1,-1,-2,-2,6,6,6,6,6,6,6,6,6,6,6,6,6,6,6,6,6,6,6,6,6,6,6,5,-1,-1,8,6,1,1,1,1,1,1,1,1,1,1,1,1,1,1,2,2,2,2,2,8,2,8,8,2,2,1,3,3,3,3,-1,-1,-1,1,4,5,5,6,7,7,7,7,7,8,8,2,2,2,1,1,1,1,1,1,1,1,1,1,1,1,1,2,2,2,2,2,2,2,2,1,1,1,1,2,2,3,-1,-1,-1,-1,-1,-1,-1,2,-1,1,1,1,1,1,1,2,-1,-1,-1,1,2,2,2,-1,-1,-1,-1,-1,-1,1,1,1,1,1,1,1,1,1,1,1,1,1,1,4,-1,-1,-1,-1,-1,1,1,1,1,1,1,1,1,1,-1,1,1,1,1,-1,-1,-1,-1,-1,-1,-1,1,-1,-1,-1,5,10,1,1,1,1,1,1,1,1,1,2,2,2,2,2,2,2,2,2,2,4,-1,-1,2,-1,-1,-1,-1,-1,-1,-1,-1,-1,-1,-1,-1,-1,-1,-1,-1,-1,-1,-1,1,1,2,-1,5,5,5,1,1,1,1,1,1,1,1,1,1,1,1,1,1,1,2,2,2,2,2,3,1,4,1,1,-1,-1,-1,1,1,1,1,1,1,1,1,1,1,1,1,1,1,1,1,1,1,1,5,5,5,-1,-1,-1,-1,1,1,1,1,1,1,1,1,1,1,1,1,1,1,1,1,1,-1,-1,-1,-1,5,5,5,5,6,6,6,6,7,7,3,-1,-1,-1,-1,-1,-1,-1,-1,-1,-1,-1,-1,1,1,1,1,1,-1,-1,-1,-1,-1,-1,-1,-1,-1,1,1,1,2,3,-1,-1,-1,-1,-1,1,1,1,1,9,9,9,9,9,9,9,9,9,9,-1,9,9,1,1,1,1,1,1,1,1,1,9,1,1,1,1,1,2,2,2,3,3,3,3,3,3,3,4,4,5,5,5,5,-1,-1,1,1,1,1,1,1,1,1,1,1,1,1,1,1,1,1,1,1,-1,-1,-1,-1,-1,-1,-1,1,1,1,1,1,1,4,4,4,4,4,4,4,4,4,4,4,4,4,4,4,4,4,4,4,4,4,4,4,4,4,3,4,4,4,4,4,4,4,4,4,4,4,4,4,4,4,4,4,4,4,4,4,4,3,4,4,5,5,5,5,5,5,5,5,5,5,5,5,5,5,5,5,5,5,5,5,5,5,5,5,5,4,4,4,4,4,4,4,4,4,4,4,4,4,5,5,5,5,5,5,5,5,5,4,9,3,3,2,2,2,2,2,2,2,2,2,2,2,2,2,2,2,2,2,2,2,2,2,2,2,2,2,1,2,2,2,2,2,2,2,2,2,2,2,2,2,2,2,2,2,2,2,2,2,2,3,3,3,3,3,3,3,3,3,3,3,3,3,3,3,3,3,3,3,3,3,3,3,3,3,3,3,3,3,3,3,3,3,3,3,3,3,3,3,3,3,3,3,3,3,3,3,3,3,3,3,2],\"xaxis\":\"x\",\"yaxis\":\"y\"}],                        {\"barmode\":\"relative\",\"legend\":{\"orientation\":\"h\",\"title\":{\"text\":\"PARS lesion classification\"},\"tracegroupgap\":0,\"y\":1.02,\"yanchor\":\"bottom\"},\"margin\":{\"t\":60},\"template\":{\"data\":{\"bar\":[{\"error_x\":{\"color\":\"rgb(36,36,36)\"},\"error_y\":{\"color\":\"rgb(36,36,36)\"},\"marker\":{\"line\":{\"color\":\"rgb(234,234,242)\",\"width\":0.5},\"pattern\":{\"fillmode\":\"overlay\",\"size\":10,\"solidity\":0.2}},\"type\":\"bar\"}],\"barpolar\":[{\"marker\":{\"line\":{\"color\":\"rgb(234,234,242)\",\"width\":0.5},\"pattern\":{\"fillmode\":\"overlay\",\"size\":10,\"solidity\":0.2}},\"type\":\"barpolar\"}],\"carpet\":[{\"aaxis\":{\"endlinecolor\":\"rgb(36,36,36)\",\"gridcolor\":\"white\",\"linecolor\":\"white\",\"minorgridcolor\":\"white\",\"startlinecolor\":\"rgb(36,36,36)\"},\"baxis\":{\"endlinecolor\":\"rgb(36,36,36)\",\"gridcolor\":\"white\",\"linecolor\":\"white\",\"minorgridcolor\":\"white\",\"startlinecolor\":\"rgb(36,36,36)\"},\"type\":\"carpet\"}],\"choropleth\":[{\"colorbar\":{\"outlinewidth\":0,\"tickcolor\":\"rgb(36,36,36)\",\"ticklen\":8,\"ticks\":\"outside\",\"tickwidth\":2},\"type\":\"choropleth\"}],\"contour\":[{\"colorbar\":{\"outlinewidth\":0,\"tickcolor\":\"rgb(36,36,36)\",\"ticklen\":8,\"ticks\":\"outside\",\"tickwidth\":2},\"colorscale\":[[0.0,\"rgb(2,4,25)\"],[0.06274509803921569,\"rgb(24,15,41)\"],[0.12549019607843137,\"rgb(47,23,57)\"],[0.18823529411764706,\"rgb(71,28,72)\"],[0.25098039215686274,\"rgb(97,30,82)\"],[0.3137254901960784,\"rgb(123,30,89)\"],[0.3764705882352941,\"rgb(150,27,91)\"],[0.4392156862745098,\"rgb(177,22,88)\"],[0.5019607843137255,\"rgb(203,26,79)\"],[0.5647058823529412,\"rgb(223,47,67)\"],[0.6274509803921569,\"rgb(236,76,61)\"],[0.6901960784313725,\"rgb(242,107,73)\"],[0.7529411764705882,\"rgb(244,135,95)\"],[0.8156862745098039,\"rgb(245,162,122)\"],[0.8784313725490196,\"rgb(246,188,153)\"],[0.9411764705882353,\"rgb(247,212,187)\"],[1.0,\"rgb(250,234,220)\"]],\"type\":\"contour\"}],\"contourcarpet\":[{\"colorbar\":{\"outlinewidth\":0,\"tickcolor\":\"rgb(36,36,36)\",\"ticklen\":8,\"ticks\":\"outside\",\"tickwidth\":2},\"type\":\"contourcarpet\"}],\"heatmap\":[{\"colorbar\":{\"outlinewidth\":0,\"tickcolor\":\"rgb(36,36,36)\",\"ticklen\":8,\"ticks\":\"outside\",\"tickwidth\":2},\"colorscale\":[[0.0,\"rgb(2,4,25)\"],[0.06274509803921569,\"rgb(24,15,41)\"],[0.12549019607843137,\"rgb(47,23,57)\"],[0.18823529411764706,\"rgb(71,28,72)\"],[0.25098039215686274,\"rgb(97,30,82)\"],[0.3137254901960784,\"rgb(123,30,89)\"],[0.3764705882352941,\"rgb(150,27,91)\"],[0.4392156862745098,\"rgb(177,22,88)\"],[0.5019607843137255,\"rgb(203,26,79)\"],[0.5647058823529412,\"rgb(223,47,67)\"],[0.6274509803921569,\"rgb(236,76,61)\"],[0.6901960784313725,\"rgb(242,107,73)\"],[0.7529411764705882,\"rgb(244,135,95)\"],[0.8156862745098039,\"rgb(245,162,122)\"],[0.8784313725490196,\"rgb(246,188,153)\"],[0.9411764705882353,\"rgb(247,212,187)\"],[1.0,\"rgb(250,234,220)\"]],\"type\":\"heatmap\"}],\"heatmapgl\":[{\"colorbar\":{\"outlinewidth\":0,\"tickcolor\":\"rgb(36,36,36)\",\"ticklen\":8,\"ticks\":\"outside\",\"tickwidth\":2},\"colorscale\":[[0.0,\"rgb(2,4,25)\"],[0.06274509803921569,\"rgb(24,15,41)\"],[0.12549019607843137,\"rgb(47,23,57)\"],[0.18823529411764706,\"rgb(71,28,72)\"],[0.25098039215686274,\"rgb(97,30,82)\"],[0.3137254901960784,\"rgb(123,30,89)\"],[0.3764705882352941,\"rgb(150,27,91)\"],[0.4392156862745098,\"rgb(177,22,88)\"],[0.5019607843137255,\"rgb(203,26,79)\"],[0.5647058823529412,\"rgb(223,47,67)\"],[0.6274509803921569,\"rgb(236,76,61)\"],[0.6901960784313725,\"rgb(242,107,73)\"],[0.7529411764705882,\"rgb(244,135,95)\"],[0.8156862745098039,\"rgb(245,162,122)\"],[0.8784313725490196,\"rgb(246,188,153)\"],[0.9411764705882353,\"rgb(247,212,187)\"],[1.0,\"rgb(250,234,220)\"]],\"type\":\"heatmapgl\"}],\"histogram\":[{\"marker\":{\"pattern\":{\"fillmode\":\"overlay\",\"size\":10,\"solidity\":0.2}},\"type\":\"histogram\"}],\"histogram2d\":[{\"colorbar\":{\"outlinewidth\":0,\"tickcolor\":\"rgb(36,36,36)\",\"ticklen\":8,\"ticks\":\"outside\",\"tickwidth\":2},\"colorscale\":[[0.0,\"rgb(2,4,25)\"],[0.06274509803921569,\"rgb(24,15,41)\"],[0.12549019607843137,\"rgb(47,23,57)\"],[0.18823529411764706,\"rgb(71,28,72)\"],[0.25098039215686274,\"rgb(97,30,82)\"],[0.3137254901960784,\"rgb(123,30,89)\"],[0.3764705882352941,\"rgb(150,27,91)\"],[0.4392156862745098,\"rgb(177,22,88)\"],[0.5019607843137255,\"rgb(203,26,79)\"],[0.5647058823529412,\"rgb(223,47,67)\"],[0.6274509803921569,\"rgb(236,76,61)\"],[0.6901960784313725,\"rgb(242,107,73)\"],[0.7529411764705882,\"rgb(244,135,95)\"],[0.8156862745098039,\"rgb(245,162,122)\"],[0.8784313725490196,\"rgb(246,188,153)\"],[0.9411764705882353,\"rgb(247,212,187)\"],[1.0,\"rgb(250,234,220)\"]],\"type\":\"histogram2d\"}],\"histogram2dcontour\":[{\"colorbar\":{\"outlinewidth\":0,\"tickcolor\":\"rgb(36,36,36)\",\"ticklen\":8,\"ticks\":\"outside\",\"tickwidth\":2},\"colorscale\":[[0.0,\"rgb(2,4,25)\"],[0.06274509803921569,\"rgb(24,15,41)\"],[0.12549019607843137,\"rgb(47,23,57)\"],[0.18823529411764706,\"rgb(71,28,72)\"],[0.25098039215686274,\"rgb(97,30,82)\"],[0.3137254901960784,\"rgb(123,30,89)\"],[0.3764705882352941,\"rgb(150,27,91)\"],[0.4392156862745098,\"rgb(177,22,88)\"],[0.5019607843137255,\"rgb(203,26,79)\"],[0.5647058823529412,\"rgb(223,47,67)\"],[0.6274509803921569,\"rgb(236,76,61)\"],[0.6901960784313725,\"rgb(242,107,73)\"],[0.7529411764705882,\"rgb(244,135,95)\"],[0.8156862745098039,\"rgb(245,162,122)\"],[0.8784313725490196,\"rgb(246,188,153)\"],[0.9411764705882353,\"rgb(247,212,187)\"],[1.0,\"rgb(250,234,220)\"]],\"type\":\"histogram2dcontour\"}],\"mesh3d\":[{\"colorbar\":{\"outlinewidth\":0,\"tickcolor\":\"rgb(36,36,36)\",\"ticklen\":8,\"ticks\":\"outside\",\"tickwidth\":2},\"type\":\"mesh3d\"}],\"parcoords\":[{\"line\":{\"colorbar\":{\"outlinewidth\":0,\"tickcolor\":\"rgb(36,36,36)\",\"ticklen\":8,\"ticks\":\"outside\",\"tickwidth\":2}},\"type\":\"parcoords\"}],\"pie\":[{\"automargin\":true,\"type\":\"pie\"}],\"scatter\":[{\"marker\":{\"colorbar\":{\"outlinewidth\":0,\"tickcolor\":\"rgb(36,36,36)\",\"ticklen\":8,\"ticks\":\"outside\",\"tickwidth\":2}},\"type\":\"scatter\"}],\"scatter3d\":[{\"line\":{\"colorbar\":{\"outlinewidth\":0,\"tickcolor\":\"rgb(36,36,36)\",\"ticklen\":8,\"ticks\":\"outside\",\"tickwidth\":2}},\"marker\":{\"colorbar\":{\"outlinewidth\":0,\"tickcolor\":\"rgb(36,36,36)\",\"ticklen\":8,\"ticks\":\"outside\",\"tickwidth\":2}},\"type\":\"scatter3d\"}],\"scattercarpet\":[{\"marker\":{\"colorbar\":{\"outlinewidth\":0,\"tickcolor\":\"rgb(36,36,36)\",\"ticklen\":8,\"ticks\":\"outside\",\"tickwidth\":2}},\"type\":\"scattercarpet\"}],\"scattergeo\":[{\"marker\":{\"colorbar\":{\"outlinewidth\":0,\"tickcolor\":\"rgb(36,36,36)\",\"ticklen\":8,\"ticks\":\"outside\",\"tickwidth\":2}},\"type\":\"scattergeo\"}],\"scattergl\":[{\"marker\":{\"colorbar\":{\"outlinewidth\":0,\"tickcolor\":\"rgb(36,36,36)\",\"ticklen\":8,\"ticks\":\"outside\",\"tickwidth\":2}},\"type\":\"scattergl\"}],\"scattermapbox\":[{\"marker\":{\"colorbar\":{\"outlinewidth\":0,\"tickcolor\":\"rgb(36,36,36)\",\"ticklen\":8,\"ticks\":\"outside\",\"tickwidth\":2}},\"type\":\"scattermapbox\"}],\"scatterpolar\":[{\"marker\":{\"colorbar\":{\"outlinewidth\":0,\"tickcolor\":\"rgb(36,36,36)\",\"ticklen\":8,\"ticks\":\"outside\",\"tickwidth\":2}},\"type\":\"scatterpolar\"}],\"scatterpolargl\":[{\"marker\":{\"colorbar\":{\"outlinewidth\":0,\"tickcolor\":\"rgb(36,36,36)\",\"ticklen\":8,\"ticks\":\"outside\",\"tickwidth\":2}},\"type\":\"scatterpolargl\"}],\"scatterternary\":[{\"marker\":{\"colorbar\":{\"outlinewidth\":0,\"tickcolor\":\"rgb(36,36,36)\",\"ticklen\":8,\"ticks\":\"outside\",\"tickwidth\":2}},\"type\":\"scatterternary\"}],\"surface\":[{\"colorbar\":{\"outlinewidth\":0,\"tickcolor\":\"rgb(36,36,36)\",\"ticklen\":8,\"ticks\":\"outside\",\"tickwidth\":2},\"colorscale\":[[0.0,\"rgb(2,4,25)\"],[0.06274509803921569,\"rgb(24,15,41)\"],[0.12549019607843137,\"rgb(47,23,57)\"],[0.18823529411764706,\"rgb(71,28,72)\"],[0.25098039215686274,\"rgb(97,30,82)\"],[0.3137254901960784,\"rgb(123,30,89)\"],[0.3764705882352941,\"rgb(150,27,91)\"],[0.4392156862745098,\"rgb(177,22,88)\"],[0.5019607843137255,\"rgb(203,26,79)\"],[0.5647058823529412,\"rgb(223,47,67)\"],[0.6274509803921569,\"rgb(236,76,61)\"],[0.6901960784313725,\"rgb(242,107,73)\"],[0.7529411764705882,\"rgb(244,135,95)\"],[0.8156862745098039,\"rgb(245,162,122)\"],[0.8784313725490196,\"rgb(246,188,153)\"],[0.9411764705882353,\"rgb(247,212,187)\"],[1.0,\"rgb(250,234,220)\"]],\"type\":\"surface\"}],\"table\":[{\"cells\":{\"fill\":{\"color\":\"rgb(231,231,240)\"},\"line\":{\"color\":\"white\"}},\"header\":{\"fill\":{\"color\":\"rgb(183,183,191)\"},\"line\":{\"color\":\"white\"}},\"type\":\"table\"}]},\"layout\":{\"annotationdefaults\":{\"arrowcolor\":\"rgb(67,103,167)\"},\"autotypenumbers\":\"strict\",\"coloraxis\":{\"colorbar\":{\"outlinewidth\":0,\"tickcolor\":\"rgb(36,36,36)\",\"ticklen\":8,\"ticks\":\"outside\",\"tickwidth\":2}},\"colorscale\":{\"sequential\":[[0.0,\"rgb(2,4,25)\"],[0.06274509803921569,\"rgb(24,15,41)\"],[0.12549019607843137,\"rgb(47,23,57)\"],[0.18823529411764706,\"rgb(71,28,72)\"],[0.25098039215686274,\"rgb(97,30,82)\"],[0.3137254901960784,\"rgb(123,30,89)\"],[0.3764705882352941,\"rgb(150,27,91)\"],[0.4392156862745098,\"rgb(177,22,88)\"],[0.5019607843137255,\"rgb(203,26,79)\"],[0.5647058823529412,\"rgb(223,47,67)\"],[0.6274509803921569,\"rgb(236,76,61)\"],[0.6901960784313725,\"rgb(242,107,73)\"],[0.7529411764705882,\"rgb(244,135,95)\"],[0.8156862745098039,\"rgb(245,162,122)\"],[0.8784313725490196,\"rgb(246,188,153)\"],[0.9411764705882353,\"rgb(247,212,187)\"],[1.0,\"rgb(250,234,220)\"]],\"sequentialminus\":[[0.0,\"rgb(2,4,25)\"],[0.06274509803921569,\"rgb(24,15,41)\"],[0.12549019607843137,\"rgb(47,23,57)\"],[0.18823529411764706,\"rgb(71,28,72)\"],[0.25098039215686274,\"rgb(97,30,82)\"],[0.3137254901960784,\"rgb(123,30,89)\"],[0.3764705882352941,\"rgb(150,27,91)\"],[0.4392156862745098,\"rgb(177,22,88)\"],[0.5019607843137255,\"rgb(203,26,79)\"],[0.5647058823529412,\"rgb(223,47,67)\"],[0.6274509803921569,\"rgb(236,76,61)\"],[0.6901960784313725,\"rgb(242,107,73)\"],[0.7529411764705882,\"rgb(244,135,95)\"],[0.8156862745098039,\"rgb(245,162,122)\"],[0.8784313725490196,\"rgb(246,188,153)\"],[0.9411764705882353,\"rgb(247,212,187)\"],[1.0,\"rgb(250,234,220)\"]]},\"colorway\":[\"rgb(76,114,176)\",\"rgb(221,132,82)\",\"rgb(85,168,104)\",\"rgb(196,78,82)\",\"rgb(129,114,179)\",\"rgb(147,120,96)\",\"rgb(218,139,195)\",\"rgb(140,140,140)\",\"rgb(204,185,116)\",\"rgb(100,181,205)\"],\"font\":{\"color\":\"rgb(36,36,36)\"},\"geo\":{\"bgcolor\":\"white\",\"lakecolor\":\"white\",\"landcolor\":\"rgb(234,234,242)\",\"showlakes\":true,\"showland\":true,\"subunitcolor\":\"white\"},\"hoverlabel\":{\"align\":\"left\"},\"hovermode\":\"closest\",\"paper_bgcolor\":\"white\",\"plot_bgcolor\":\"rgb(234,234,242)\",\"polar\":{\"angularaxis\":{\"gridcolor\":\"white\",\"linecolor\":\"white\",\"showgrid\":true,\"ticks\":\"\"},\"bgcolor\":\"rgb(234,234,242)\",\"radialaxis\":{\"gridcolor\":\"white\",\"linecolor\":\"white\",\"showgrid\":true,\"ticks\":\"\"}},\"scene\":{\"xaxis\":{\"backgroundcolor\":\"rgb(234,234,242)\",\"gridcolor\":\"white\",\"gridwidth\":2,\"linecolor\":\"white\",\"showbackground\":true,\"showgrid\":true,\"ticks\":\"\",\"zerolinecolor\":\"white\"},\"yaxis\":{\"backgroundcolor\":\"rgb(234,234,242)\",\"gridcolor\":\"white\",\"gridwidth\":2,\"linecolor\":\"white\",\"showbackground\":true,\"showgrid\":true,\"ticks\":\"\",\"zerolinecolor\":\"white\"},\"zaxis\":{\"backgroundcolor\":\"rgb(234,234,242)\",\"gridcolor\":\"white\",\"gridwidth\":2,\"linecolor\":\"white\",\"showbackground\":true,\"showgrid\":true,\"ticks\":\"\",\"zerolinecolor\":\"white\"}},\"shapedefaults\":{\"fillcolor\":\"rgb(67,103,167)\",\"line\":{\"width\":0},\"opacity\":0.5},\"ternary\":{\"aaxis\":{\"gridcolor\":\"white\",\"linecolor\":\"white\",\"showgrid\":true,\"ticks\":\"\"},\"baxis\":{\"gridcolor\":\"white\",\"linecolor\":\"white\",\"showgrid\":true,\"ticks\":\"\"},\"bgcolor\":\"rgb(234,234,242)\",\"caxis\":{\"gridcolor\":\"white\",\"linecolor\":\"white\",\"showgrid\":true,\"ticks\":\"\"}},\"xaxis\":{\"automargin\":true,\"gridcolor\":\"white\",\"linecolor\":\"white\",\"showgrid\":true,\"ticks\":\"\",\"title\":{\"standoff\":15},\"zerolinecolor\":\"white\"},\"yaxis\":{\"automargin\":true,\"gridcolor\":\"white\",\"linecolor\":\"white\",\"showgrid\":true,\"ticks\":\"\",\"title\":{\"standoff\":15},\"zerolinecolor\":\"white\"}}},\"xaxis\":{\"anchor\":\"y\",\"domain\":[0.0,1.0],\"title\":{\"text\":\"Study phase (relative to treatment start)\"}},\"yaxis\":{\"anchor\":\"x\",\"domain\":[0.0,1.0],\"title\":{\"text\":\"Lesions\"}}},                        {\"responsive\": true}                    ).then(function(){\n                            \nvar gd = document.getElementById('f81e0013-b822-417c-85e6-3850faac6ec5');\nvar x = new MutationObserver(function (mutations, observer) {{\n        var display = window.getComputedStyle(gd).display;\n        if (!display || display === 'none') {{\n            console.log([gd, 'removed!']);\n            Plotly.purge(gd);\n            observer.disconnect();\n        }}\n}});\n\n// Listen for the removal of the full notebook cells\nvar notebookContainer = gd.closest('#notebook-container');\nif (notebookContainer) {{\n    x.observe(notebookContainer, {childList: true});\n}}\n\n// Listen for the clearing of the current output cell\nvar outputEl = gd.closest('.output');\nif (outputEl) {{\n    x.observe(outputEl, {childList: true});\n}}\n\n                        })                };                            </script>        </div>\n</body>\n</html>"
     },
     "metadata": {},
     "output_type": "display_data"
    }
   ],
   "execution_count": null
  },
  {
   "cell_type": "code",
   "metadata": {
    "cell_id": "00011-65f7c76a-797d-44ec-8112-f67efb100e46",
    "deepnote_app_coordinates": {
     "h": 5,
     "w": 12,
     "x": 0,
     "y": 0
    },
    "deepnote_app_is_code_hidden": true,
    "deepnote_to_be_reexecuted": false,
    "execution_millis": 662,
    "execution_start": 1633017890256,
    "source_hash": "4abdcd78",
    "tags": [],
    "deepnote_cell_type": "code"
   },
   "source": "descending_organs = list(lesions.groupby('assigned_organ').size().sort_values(ascending=False).index)\n\npx.histogram(lesions, x='assigned_organ', color='pars_classification_petct', \n             category_orders={'assigned_organ': descending_organs},\n             labels=lesions_labels) \\\n    .update_layout(legend=top_h_legend, yaxis_title='Lesions')",
   "outputs": [
    {
     "data": {
      "text/html": "<html>\n<head><meta charset=\"utf-8\" /></head>\n<body>\n    <div>            <script src=\"https://cdnjs.cloudflare.com/ajax/libs/mathjax/2.7.5/MathJax.js?config=TeX-AMS-MML_SVG\"></script><script type=\"text/javascript\">if (window.MathJax) {MathJax.Hub.Config({SVG: {font: \"STIX-Web\"}});}</script>                <script type=\"text/javascript\">window.PlotlyConfig = {MathJaxConfig: 'local'};</script>\n        <script src=\"https://cdn.plot.ly/plotly-2.4.2.min.js\"></script>                <div id=\"2ff65965-3266-42d5-ad1d-1d46aeb8a6df\" class=\"plotly-graph-div\" style=\"height:525px; width:100%;\"></div>            <script type=\"text/javascript\">                                    window.PLOTLYENV=window.PLOTLYENV || {};                                    if (document.getElementById(\"2ff65965-3266-42d5-ad1d-1d46aeb8a6df\")) {                    Plotly.newPlot(                        \"2ff65965-3266-42d5-ad1d-1d46aeb8a6df\",                        [{\"alignmentgroup\":\"True\",\"bingroup\":\"x\",\"hovertemplate\":\"PARS lesion classification=suspicious<br>Assigned organ=%{x}<br>count=%{y}<extra></extra>\",\"legendgroup\":\"suspicious\",\"marker\":{\"color\":\"rgb(76,114,176)\",\"pattern\":{\"shape\":\"\"}},\"name\":\"suspicious\",\"offsetgroup\":\"suspicious\",\"orientation\":\"v\",\"showlegend\":true,\"type\":\"histogram\",\"x\":[\"other_lowerlimb\",\"liver\",\"liver\",\"liver\",\"spleen\",\"other_abdomen\",\"spleen\",\"spleen\",\"lymphnode_abdomen\",\"spleen\",\"liver\",\"spleen\",\"liver\",\"liver\",\"spleen\",\"liver\",\"spleen\",\"spleen\",\"liver\",\"spleen\",\"bones_thorax\",\"other_thorax\",\"lymphnode_abdomen\",\"lung\",\"lymphnode_abdomen\",\"lymphnode_abdomen\",\"lymphnode_abdomen\",\"spleen\",\"spleen\",\"liver\",\"liver\",\"lymphnode_abdomen\",\"spleen\",\"spleen\",\"spleen\",\"liver\",\"spleen\",\"spleen\",\"other_thorax\",\"lung\",\"other_lowerlimb\",\"lymphnode_abdomen\",\"other_abdomen\",\"other_abdomen\",\"other_abdomen\",\"lymphnode_abdomen\",\"lymphnode_abdomen\",\"other_abdomen\",\"lymphnode_abdomen\",\"lymphnode_abdomen\",\"other_abdomen\",\"other_abdomen\",\"lymphnode_abdomen\",\"other_thorax\",\"other_thorax\",\"other_thorax\",\"other_thorax\",\"lymphnode_abdomen\",\"other_abdomen\",\"other_abdomen\",\"lymphnode_abdomen\",\"other_lowerlimb\",\"lymphnode_abdomen\",\"lymphnode_abdomen\",\"other_abdomen\",\"lymphnode_abdomen\",\"bones_abdomen\",\"lymphnode_abdomen\",\"other_abdomen\",\"other_abdomen\",\"lymphnode_abdomen\",\"lymphnode_abdomen\",\"lymphnode_abdomen\",\"other_lowerlimb\",\"other_lowerlimb\",\"other_abdomen\",\"lung\",\"other_thorax\",\"lymphnode_thorax\",\"lymphnode_abdomen\",\"spleen\",\"liver\",\"lymphnode_abdomen\",\"lung\",\"lung\",\"lymphnode_thorax\",\"lymphnode_abdomen\",\"lymphnode_thorax\",\"lymphnode_thorax\",\"lymphnode_thorax\",\"lymphnode_thorax\",\"lymphnode_thorax\",\"lymphnode_thorax\",\"lymphnode_abdomen\",\"other_abdomen\",\"other_thorax\",\"other_thorax\",\"other_abdomen\",\"other_thorax\",\"lymphnode_abdomen\",\"lymphnode_abdomen\",\"other_abdomen\",\"lymphnode_thorax\",\"lymphnode_thorax\",\"lymphnode_thorax\",\"lymphnode_thorax\",\"other_thorax\",\"liver\",\"lymphnode_thorax\",\"bones_lowerlimb\",\"other_abdomen\",\"lymphnode_abdomen\",\"bones_lowerlimb\",\"liver\",\"lymphnode_abdomen\",\"lymphnode_abdomen\",\"lymphnode_abdomen\",\"other_abdomen\",\"lymphnode_abdomen\",\"bones_abdomen\",\"lymphnode_abdomen\",\"other_abdomen\",\"liver\",\"bones_thorax\",\"lung\",\"lymphnode_thorax\",\"other_thorax\",\"liver\",\"liver\",\"liver\",\"liver\",\"other_abdomen\",\"liver\",\"bones_thorax\",\"liver\",\"kidney\",\"other_thorax\",\"liver\",\"bones_thorax\",\"lung\",\"lung\",\"lymphnode_thorax\",\"bones_thorax\",\"other_thorax\",\"other_thorax\",\"lymphnode_thorax\",\"lymphnode_thorax\",\"lung\",\"lung\",\"other_thorax\",\"lymphnode_abdomen\",\"liver\",\"liver\",\"other_abdomen\",\"other_abdomen\",\"other_thorax\",\"other_thorax\",\"lymphnode_abdomen\",\"lymphnode_abdomen\",\"other_thorax\",\"lymphnode_abdomen\",\"lymphnode_abdomen\",\"lymphnode_abdomen\",\"lymphnode_abdomen\",\"lymphnode_abdomen\",\"lymphnode_abdomen\",\"lymphnode_abdomen\",\"lymphnode_abdomen\",\"lymphnode_abdomen\",\"lymphnode_abdomen\",\"lymphnode_abdomen\",\"other_abdomen\",\"liver\",\"other_thorax\",\"other_abdomen\",\"bones_abdomen\",\"lymphnode_abdomen\",\"lymphnode_abdomen\",\"liver\",\"liver\",\"liver\",\"liver\",\"liver\",\"liver\",\"bones_thorax\",\"lung\",\"other_thorax\",\"lymphnode_thorax\",\"liver\",\"lymphnode_thorax\",\"lymphnode_lowerlimb\",\"other_thorax\",\"lymphnode_abdomen\",\"other_thorax\",\"bones_lowerlimb\",\"lymphnode_abdomen\",\"lymphnode_abdomen\",\"bones_abdomen\",\"bones_lowerlimb\",\"lymphnode_abdomen\",\"liver\",\"other_thorax\",\"other_abdomen\",\"other_abdomen\",\"lymphnode_thorax\",\"lymphnode_lowerlimb\",\"lymphnode_abdomen\",\"lymphnode_lowerlimb\",\"lymphnode_lowerlimb\",\"other_lowerlimb\",\"bones_lowerlimb\",\"lymphnode_abdomen\",\"lymphnode_abdomen\",\"lymphnode_abdomen\",\"liver\",\"other_thorax\",\"other_thorax\",\"lymphnode_thorax\",\"lymphnode_thorax\",\"bones_lowerlimb\",\"lymphnode_lowerlimb\",\"lymphnode_lowerlimb\",\"lymphnode_lowerlimb\",\"lymphnode_abdomen\",\"lymphnode_abdomen\",\"other_thorax\",\"lymphnode_abdomen\",\"other_thorax\",\"lymphnode_thorax\",\"lung\",\"other_thorax\",\"other_thorax\",\"lymphnode_thorax\",\"lymphnode_lowerlimb\",\"bones_lowerlimb\",\"lymphnode_lowerlimb\",\"other_abdomen\",\"liver\",\"lung\",\"lung\",\"lung\",\"lymphnode_thorax\",\"other_thorax\",\"lymphnode_thorax\",\"other_thorax\",\"other_thorax\",\"lymphnode_thorax\",\"lymphnode_thorax\",\"lung\",\"other_thorax\",\"lung\",\"other_abdomen\",\"other_thorax\",\"bones_thorax\",\"lymphnode_abdomen\",\"lymphnode_abdomen\",\"bones_lowerlimb\",\"bones_lowerlimb\",\"other_lowerlimb\",\"bones_lowerlimb\",\"bones_lowerlimb\",\"bones_abdomen\",\"bones_abdomen\",\"bones_abdomen\",\"bones_abdomen\",\"bones_abdomen\",\"other_abdomen\",\"other_abdomen\",\"bones_thorax\",\"bones_thorax\",\"bones_thorax\",\"bones_thorax\",\"bones_thorax\",\"lymphnode_abdomen\",\"bones_abdomen\",\"lymphnode_lowerlimb\",\"other_abdomen\",\"other_thorax\",\"kidney\",\"other_abdomen\",\"bones_abdomen\",\"lymphnode_abdomen\",\"other_abdomen\",\"other_abdomen\",\"lymphnode_thorax\",\"lymphnode_lowerlimb\",\"other_abdomen\",\"lymphnode_abdomen\",\"other_abdomen\",\"other_thorax\",\"other_abdomen\",\"lymphnode_thorax\",\"lymphnode_thorax\",\"other_abdomen\",\"lymphnode_abdomen\",\"other_lowerlimb\",\"bones_abdomen\",\"bones_abdomen\",\"bones_abdomen\",\"other_abdomen\",\"other_abdomen\",\"other_thorax\",\"lymphnode_thorax\",\"lung\",\"lung\",\"other_thorax\",\"lymphnode_abdomen\",\"kidney\",\"other_abdomen\",\"lymphnode_abdomen\",\"other_abdomen\",\"other_abdomen\",\"other_thorax\",\"other_abdomen\",\"lymphnode_thorax\",\"lung\",\"lymphnode_thorax\",\"lymphnode_thorax\",\"lymphnode_thorax\",\"other_abdomen\",\"spleen\",\"spleen\",\"lung\",\"lymphnode_thorax\",\"other_abdomen\",\"bones_thorax\",\"other_abdomen\",\"other_abdomen\",\"other_abdomen\",\"kidney\",\"bones_abdomen\",\"other_abdomen\",\"other_abdomen\",\"other_abdomen\",\"lymphnode_abdomen\",\"lymphnode_abdomen\",\"lymphnode_abdomen\",\"lymphnode_abdomen\",\"lymphnode_abdomen\",\"other_abdomen\",\"other_thorax\",\"other_abdomen\",\"lymphnode_abdomen\",\"other_abdomen\",\"lymphnode_abdomen\",\"other_abdomen\",\"lymphnode_abdomen\",\"other_abdomen\",\"other_abdomen\",\"other_abdomen\",\"other_abdomen\",\"lymphnode_abdomen\",\"other_abdomen\",\"other_abdomen\",\"other_thorax\",\"bones_lowerlimb\",\"other_thorax\",\"bones_thorax\",\"lymphnode_thorax\",\"other_thorax\",\"lung\",\"lymphnode_thorax\",\"lymphnode_thorax\",\"lung\",\"lymphnode_thorax\",\"lymphnode_abdomen\",\"lymphnode_thorax\",\"other_thorax\",\"other_thorax\",\"lymphnode_thorax\",\"lymphnode_thorax\",\"lymphnode_thorax\",\"other_thorax\",\"other_lowerlimb\",\"other_lowerlimb\",\"bones_lowerlimb\",\"other_abdomen\",\"bones_thorax\",\"liver\",\"other_abdomen\",\"bones_abdomen\",\"other_thorax\",\"bones_thorax\",\"lymphnode_abdomen\",\"lung\",\"bones_abdomen\",\"bones_abdomen\",\"bones_abdomen\",\"bones_abdomen\",\"lymphnode_abdomen\",\"bones_abdomen\",\"bones_thorax\",\"liver\",\"bones_thorax\",\"bones_thorax\",\"lung\",\"lung\",\"other_thorax\",\"lymphnode_thorax\",\"other_thorax\",\"other_thorax\",\"lung\",\"lymphnode_thorax\",\"bones_thorax\",\"other_lowerlimb\",\"lymphnode_abdomen\",\"lymphnode_lowerlimb\",\"lung\",\"lymphnode_thorax\",\"lymphnode_thorax\",\"bones_thorax\",\"other_lowerlimb\",\"bones_thorax\",\"lung\",\"lung\",\"lung\",\"lung\",\"lymphnode_thorax\",\"lung\",\"other_abdomen\",\"liver\",\"lung\",\"lung\",\"lung\",\"lung\",\"lung\",\"bones_thorax\",\"lymphnode_thorax\",\"other_abdomen\",\"bones_thorax\",\"kidney\",\"lung\",\"lymphnode_lowerlimb\",\"bones_lowerlimb\",\"lymphnode_abdomen\",\"bones_thorax\",\"bones_thorax\",\"other_thorax\",\"lung\",\"bones_lowerlimb\",\"bones_lowerlimb\",\"lymphnode_lowerlimb\",\"lymphnode_abdomen\",\"lymphnode_abdomen\",\"bones_thorax\",\"bones_thorax\",\"lung\",\"lymphnode_thorax\",\"lymphnode_lowerlimb\",\"lymphnode_lowerlimb\",\"other_abdomen\",\"lymphnode_abdomen\",\"bones_abdomen\",\"lymphnode_thorax\",\"liver\",\"lung\",\"lung\",\"lymphnode_abdomen\",\"bones_abdomen\",\"bones_thorax\",\"lymphnode_abdomen\",\"liver\",\"lung\",\"lymphnode_thorax\",\"lymphnode_thorax\",\"lymphnode_lowerlimb\",\"lymphnode_abdomen\",\"lymphnode_abdomen\",\"lung\",\"bones_lowerlimb\",\"lymphnode_lowerlimb\",\"lymphnode_lowerlimb\",\"other_lowerlimb\",\"lymphnode_abdomen\",\"bones_thorax\",\"other_thorax\",\"lung\",\"other_thorax\",\"lymphnode_abdomen\",\"lymphnode_lowerlimb\",\"bones_lowerlimb\",\"bones_lowerlimb\",\"lung\",\"bones_thorax\",\"lymphnode_abdomen\",\"other_thorax\",\"lymphnode_thorax\",\"bones_abdomen\",\"liver\",\"liver\",\"lymphnode_abdomen\",\"liver\",\"lymphnode_lowerlimb\",\"lymphnode_thorax\",\"bones_thorax\",\"other_thorax\",\"other_thorax\",\"lung\",\"lymphnode_thorax\",\"bones_thorax\",\"lymphnode_thorax\",\"bones_thorax\",\"bones_thorax\",\"bones_thorax\",\"bones_thorax\",\"other_thorax\",\"lymphnode_abdomen\",\"liver\",\"lung\",\"lung\",\"lung\",\"lung\",\"lymphnode_thorax\",\"other_abdomen\",\"other_abdomen\",\"lymphnode_abdomen\",\"bones_abdomen\",\"bones_abdomen\",\"liver\",\"lymphnode_abdomen\",\"liver\",\"liver\",\"liver\",\"liver\",\"liver\",\"liver\",\"liver\",\"liver\",\"liver\",\"lung\",\"lung\",\"lung\",\"lung\",\"lymphnode_thorax\",\"bones_lowerlimb\",\"lymphnode_abdomen\",\"bones_abdomen\",\"bones_abdomen\",\"spleen\",\"lymphnode_thorax\",\"lymphnode_thorax\",\"lymphnode_thorax\",\"lymphnode_thorax\",\"liver\",\"lymphnode_thorax\",\"lymphnode_thorax\",\"lymphnode_thorax\",\"lymphnode_thorax\",\"lymphnode_thorax\",\"lymphnode_thorax\",\"bones_abdomen\",\"bones_thorax\",\"lung\",\"lung\",\"lung\",\"lymphnode_thorax\",\"lymphnode_abdomen\",\"bones_thorax\",\"bones_abdomen\",\"other_thorax\",\"bones_thorax\",\"other_thorax\",\"other_thorax\",\"bones_thorax\",\"bones_thorax\",\"bones_thorax\",\"lung\",\"bones_thorax\",\"lymphnode_thorax\",\"bones_thorax\",\"bones_thorax\",\"bones_thorax\",\"bones_thorax\",\"bones_thorax\",\"lymphnode_thorax\",\"bones_thorax\",\"bones_thorax\",\"bones_abdomen\",\"bones_thorax\",\"lymphnode_abdomen\",\"bones_thorax\",\"liver\",\"bones_thorax\",\"spleen\",\"bones_abdomen\",\"bones_abdomen\",\"bones_abdomen\",\"bones_abdomen\",\"bones_abdomen\",\"bones_abdomen\",\"bones_abdomen\",\"bones_abdomen\",\"bones_abdomen\",\"bones_abdomen\",\"bones_lowerlimb\",\"bones_abdomen\",\"other_abdomen\",\"lymphnode_abdomen\",\"liver\",\"liver\",\"other_abdomen\",\"liver\",\"liver\",\"spleen\",\"liver\",\"liver\",\"bones_abdomen\",\"lymphnode_abdomen\",\"lymphnode_thorax\",\"lymphnode_lowerlimb\",\"other_thorax\",\"lymphnode_lowerlimb\",\"other_abdomen\",\"other_abdomen\",\"other_abdomen\",\"other_lowerlimb\",\"lymphnode_abdomen\",\"other_abdomen\",\"other_abdomen\",\"lymphnode_abdomen\",\"other_abdomen\",\"other_abdomen\",\"other_abdomen\",\"other_abdomen\",\"lymphnode_abdomen\",\"lymphnode_abdomen\",\"lymphnode_abdomen\",\"other_abdomen\",\"other_abdomen\",\"lymphnode_abdomen\",\"liver\",\"lymphnode_thorax\",\"lung\",\"lung\",\"lymphnode_thorax\",\"lymphnode_thorax\",\"lymphnode_thorax\",\"lymphnode_lowerlimb\",\"bones_abdomen\",\"other_abdomen\",\"bones_abdomen\",\"other_thorax\",\"other_thorax\",\"other_thorax\",\"lung\",\"lymphnode_abdomen\",\"lymphnode_thorax\",\"lymphnode_abdomen\",\"lymphnode_thorax\",\"lymphnode_abdomen\",\"lymphnode_abdomen\",\"lymphnode_abdomen\",\"lymphnode_abdomen\",\"lymphnode_abdomen\",\"lung\",\"lymphnode_thorax\",\"other_thorax\",\"lymphnode_thorax\",\"lymphnode_thorax\",\"lymphnode_abdomen\",\"other_abdomen\",\"other_thorax\",\"lung\",\"lung\",\"lung\",\"other_thorax\",\"other_thorax\",\"other_thorax\",\"lymphnode_lowerlimb\",\"lymphnode_lowerlimb\",\"lymphnode_lowerlimb\",\"lymphnode_abdomen\",\"other_lowerlimb\",\"other_abdomen\",\"other_abdomen\",\"lung\",\"bones_lowerlimb\",\"bones_abdomen\",\"lymphnode_abdomen\",\"lymphnode_abdomen\",\"liver\",\"other_lowerlimb\",\"lymphnode_thorax\",\"lung\",\"lung\",\"liver\",\"other_abdomen\",\"other_thorax\",\"lymphnode_abdomen\",\"other_abdomen\",\"other_abdomen\",\"liver\",\"spleen\",\"kidney\",\"other_abdomen\",\"other_thorax\",\"other_abdomen\",\"other_abdomen\",\"other_thorax\",\"other_thorax\",\"lymphnode_thorax\",\"lung\",\"other_thorax\",\"lymphnode_abdomen\",\"other_lowerlimb\",\"other_abdomen\",\"lymphnode_abdomen\",\"lymphnode_abdomen\",\"liver\",\"other_lowerlimb\",\"lung\",\"bones_thorax\",\"lung\",\"other_thorax\",\"lung\",\"lung\",\"other_thorax\",\"other_thorax\",\"other_thorax\",\"other_thorax\",\"lymphnode_thorax\",\"lymphnode_thorax\",\"other_thorax\",\"other_thorax\",\"bones_abdomen\",\"bones_abdomen\",\"lymphnode_lowerlimb\",\"other_abdomen\",\"lymphnode_abdomen\",\"bones_abdomen\",\"other_abdomen\",\"bones_abdomen\",\"bones_abdomen\",\"other_abdomen\",\"spleen\",\"other_thorax\",\"other_thorax\",\"lymphnode_lowerlimb\",\"lymphnode_lowerlimb\",\"bones_lowerlimb\",\"lymphnode_abdomen\",\"bones_abdomen\",\"bones_abdomen\",\"kidney\",\"bones_thorax\",\"other_thorax\",\"lymphnode_thorax\",\"lymphnode_thorax\",\"lymphnode_abdomen\",\"bones_lowerlimb\",\"bones_abdomen\",\"bones_lowerlimb\",\"bones_lowerlimb\",\"lymphnode_abdomen\",\"other_lowerlimb\",\"bones_abdomen\",\"bones_abdomen\",\"other_abdomen\",\"bones_abdomen\",\"other_thorax\",\"other_thorax\",\"other_thorax\",\"bones_lowerlimb\",\"lymphnode_abdomen\",\"other_thorax\",\"liver\",\"spleen\",\"liver\",\"lymphnode_thorax\",\"other_thorax\",\"other_lowerlimb\",\"lymphnode_lowerlimb\",\"other_lowerlimb\",\"bones_lowerlimb\",\"bones_lowerlimb\",\"bones_abdomen\",\"other_thorax\",\"lung\",\"other_thorax\",\"lymphnode_thorax\",\"lymphnode_thorax\",\"bones_lowerlimb\",\"bones_lowerlimb\",\"other_lowerlimb\",\"other_thorax\",\"lymphnode_lowerlimb\",\"lymphnode_thorax\",\"other_thorax\",\"bones_abdomen\",\"lung\",\"lymphnode_thorax\",\"lung\",\"lymphnode_thorax\",\"lymphnode_thorax\",\"lymphnode_thorax\",\"lymphnode_thorax\",\"lymphnode_abdomen\",\"lymphnode_abdomen\",\"bones_abdomen\",\"kidney\",\"other_thorax\",\"other_thorax\",\"bones_thorax\",\"lymphnode_lowerlimb\",\"other_thorax\",\"lymphnode_thorax\",\"other_thorax\",\"other_thorax\",\"other_thorax\",\"lymphnode_thorax\",\"bones_thorax\",\"lymphnode_thorax\",\"bones_lowerlimb\",\"other_abdomen\",\"lymphnode_abdomen\",\"other_abdomen\",\"lymphnode_abdomen\",\"lymphnode_abdomen\",\"lymphnode_abdomen\",\"lymphnode_abdomen\",\"lymphnode_abdomen\",\"lymphnode_abdomen\",\"lymphnode_abdomen\",\"lymphnode_abdomen\",\"lymphnode_abdomen\",\"bones_abdomen\",\"lymphnode_abdomen\",\"lymphnode_abdomen\",\"other_abdomen\",\"lymphnode_lowerlimb\",\"lymphnode_lowerlimb\",\"lymphnode_lowerlimb\",\"lymphnode_lowerlimb\",\"lymphnode_lowerlimb\",\"lymphnode_lowerlimb\",\"lymphnode_abdomen\",\"lymphnode_lowerlimb\",\"lymphnode_abdomen\",\"other_lowerlimb\",\"spleen\",\"other_lowerlimb\",\"other_lowerlimb\",\"other_lowerlimb\",\"lymphnode_lowerlimb\",\"lymphnode_lowerlimb\",\"lymphnode_abdomen\",\"lymphnode_lowerlimb\",\"lymphnode_lowerlimb\",\"lymphnode_lowerlimb\",\"lymphnode_lowerlimb\",\"other_lowerlimb\",\"lymphnode_abdomen\",\"other_lowerlimb\",\"lymphnode_lowerlimb\",\"lymphnode_abdomen\",\"lymphnode_lowerlimb\",\"other_lowerlimb\",\"other_lowerlimb\",\"lymphnode_abdomen\",\"other_abdomen\",\"lymphnode_lowerlimb\",\"lymphnode_lowerlimb\",\"lymphnode_lowerlimb\",\"lymphnode_lowerlimb\",\"lymphnode_lowerlimb\",\"lymphnode_lowerlimb\",\"lymphnode_lowerlimb\",\"other_lowerlimb\",\"other_lowerlimb\",\"lymphnode_abdomen\",\"lymphnode_lowerlimb\",\"lymphnode_lowerlimb\",\"lymphnode_abdomen\",\"lymphnode_lowerlimb\",\"lymphnode_abdomen\",\"lymphnode_abdomen\",\"lymphnode_abdomen\",\"lymphnode_abdomen\",\"other_abdomen\",\"lymphnode_abdomen\",\"lymphnode_abdomen\",\"other_lowerlimb\",\"lymphnode_abdomen\",\"lymphnode_abdomen\",\"lymphnode_abdomen\",\"other_lowerlimb\",\"lymphnode_lowerlimb\",\"lymphnode_lowerlimb\",\"lymphnode_abdomen\",\"lymphnode_lowerlimb\",\"lymphnode_lowerlimb\",\"lymphnode_lowerlimb\",\"lymphnode_lowerlimb\",\"lymphnode_lowerlimb\",\"lymphnode_lowerlimb\",\"lymphnode_lowerlimb\",\"lymphnode_lowerlimb\",\"lymphnode_lowerlimb\",\"lymphnode_lowerlimb\",\"other_thorax\",\"lymphnode_lowerlimb\",\"lymphnode_lowerlimb\",\"lymphnode_lowerlimb\",\"lymphnode_lowerlimb\",\"lymphnode_lowerlimb\",\"lymphnode_lowerlimb\",\"lymphnode_lowerlimb\",\"lymphnode_abdomen\",\"other_lowerlimb\",\"lymphnode_lowerlimb\",\"lymphnode_abdomen\",\"lymphnode_lowerlimb\",\"bones_abdomen\",\"lymphnode_abdomen\",\"other_lowerlimb\",\"bones_thorax\",\"bones_thorax\",\"bones_thorax\",\"bones_thorax\",\"bones_thorax\",\"bones_thorax\",\"bones_thorax\",\"lymphnode_lowerlimb\",\"lymphnode_lowerlimb\",\"lymphnode_lowerlimb\",\"other_abdomen\",\"other_abdomen\",\"liver\",\"other_abdomen\",\"liver\",\"liver\",\"lymphnode_lowerlimb\",\"lymphnode_lowerlimb\",\"lymphnode_abdomen\",\"lymphnode_abdomen\",\"lymphnode_abdomen\",\"bones_thorax\",\"bones_thorax\",\"bones_thorax\",\"bones_thorax\",\"bones_thorax\",\"bones_thorax\",\"bones_thorax\",\"bones_thorax\",\"lymphnode_thorax\",\"lymphnode_thorax\",\"bones_thorax\",\"bones_thorax\",\"lung\",\"bones_thorax\",\"lymphnode_abdomen\",\"bones_thorax\",\"bones_thorax\",\"bones_thorax\",\"bones_thorax\",\"bones_thorax\",\"bones_thorax\",\"bones_thorax\",\"bones_thorax\",\"bones_thorax\",\"bones_thorax\",\"bones_thorax\",\"bones_thorax\",\"lymphnode_abdomen\",\"liver\",\"liver\",\"other_abdomen\",\"other_thorax\",\"other_thorax\",\"other_thorax\",\"other_thorax\",\"other_thorax\",\"other_abdomen\",\"bones_abdomen\",\"lymphnode_abdomen\",\"bones_abdomen\",\"bones_thorax\",\"bones_thorax\",\"bones_thorax\",\"lung\",\"lung\",\"other_thorax\",\"other_thorax\",\"lymphnode_thorax\",\"lung\",\"lymphnode_abdomen\",\"lymphnode_abdomen\",\"other_thorax\",\"bones_thorax\",\"other_thorax\",\"lung\",\"liver\",\"liver\",\"liver\",\"liver\",\"liver\",\"liver\",\"liver\",\"liver\",\"kidney\",\"lymphnode_abdomen\",\"bones_abdomen\",\"liver\",\"liver\",\"other_abdomen\",\"other_abdomen\",\"liver\",\"liver\",\"other_thorax\",\"liver\",\"lymphnode_thorax\",\"other_abdomen\",\"other_thorax\",\"liver\",\"bones_thorax\",\"lymphnode_abdomen\",\"other_lowerlimb\",\"lymphnode_thorax\",\"lung\",\"lymphnode_thorax\",\"lymphnode_thorax\",\"other_abdomen\",\"other_abdomen\",\"other_abdomen\",\"lymphnode_abdomen\",\"liver\",\"other_thorax\",\"lung\",\"other_thorax\",\"lung\",\"lymphnode_lowerlimb\",\"lymphnode_lowerlimb\",\"lymphnode_lowerlimb\",\"lymphnode_lowerlimb\",\"lymphnode_lowerlimb\",\"lymphnode_lowerlimb\",\"lymphnode_lowerlimb\",\"lymphnode_lowerlimb\",\"bones_thorax\",\"lymphnode_lowerlimb\",\"lymphnode_thorax\",\"liver\",\"lymphnode_thorax\",\"lymphnode_thorax\",\"other_thorax\",\"other_thorax\",\"other_thorax\",\"lymphnode_thorax\",\"lymphnode_thorax\",\"lymphnode_thorax\",\"lymphnode_thorax\",\"lymphnode_thorax\",\"lymphnode_thorax\",\"spleen\",\"lymphnode_abdomen\",\"lymphnode_lowerlimb\",\"lymphnode_abdomen\",\"lymphnode_abdomen\",\"kidney\",\"lymphnode_abdomen\",\"liver\",\"other_thorax\",\"bones_abdomen\",\"bones_thorax\",\"lymphnode_lowerlimb\",\"lymphnode_lowerlimb\",\"lymphnode_lowerlimb\",\"other_abdomen\",\"bones_thorax\",\"lymphnode_thorax\",\"bones_abdomen\",\"bones_abdomen\",\"bones_abdomen\",\"lung\",\"other_thorax\",\"other_thorax\",\"bones_thorax\",\"lung\",\"lung\",\"bones_lowerlimb\",\"liver\",\"bones_thorax\",\"bones_thorax\",\"other_thorax\",\"lung\",\"lung\",\"lung\",\"lung\",\"lymphnode_abdomen\",\"lymphnode_abdomen\",\"lymphnode_abdomen\",\"other_abdomen\",\"lymphnode_lowerlimb\",\"lymphnode_abdomen\",\"lymphnode_abdomen\",\"lymphnode_abdomen\",\"lymphnode_abdomen\",\"lymphnode_abdomen\",\"lymphnode_abdomen\",\"lymphnode_abdomen\",\"other_abdomen\",\"lymphnode_abdomen\",\"lymphnode_thorax\",\"lymphnode_abdomen\",\"liver\",\"bones_thorax\",\"other_lowerlimb\",\"lymphnode_abdomen\",\"bones_abdomen\",\"other_abdomen\",\"other_abdomen\",\"other_abdomen\",\"lymphnode_abdomen\",\"lymphnode_abdomen\",\"other_thorax\",\"lymphnode_thorax\",\"other_thorax\",\"liver\",\"other_lowerlimb\",\"lymphnode_abdomen\",\"lymphnode_abdomen\",\"lymphnode_abdomen\",\"lymphnode_abdomen\",\"lymphnode_abdomen\",\"lymphnode_abdomen\",\"lymphnode_abdomen\",\"lymphnode_abdomen\",\"lymphnode_abdomen\",\"lymphnode_abdomen\",\"lymphnode_abdomen\",\"lymphnode_abdomen\",\"lymphnode_abdomen\",\"lymphnode_abdomen\",\"lymphnode_abdomen\",\"lymphnode_abdomen\",\"lymphnode_abdomen\",\"lymphnode_abdomen\",\"lymphnode_abdomen\",\"other_abdomen\",\"lymphnode_abdomen\",\"other_lowerlimb\",\"other_abdomen\",\"lymphnode_abdomen\",\"lymphnode_abdomen\",\"lymphnode_lowerlimb\",\"lymphnode_abdomen\",\"lymphnode_abdomen\",\"lymphnode_abdomen\",\"lymphnode_abdomen\",\"lymphnode_abdomen\",\"lymphnode_lowerlimb\",\"lymphnode_abdomen\",\"lymphnode_abdomen\",\"other_abdomen\",\"lymphnode_abdomen\",\"lymphnode_abdomen\",\"lymphnode_abdomen\",\"lymphnode_abdomen\",\"other_abdomen\",\"lymphnode_abdomen\",\"lymphnode_abdomen\",\"lymphnode_abdomen\",\"lymphnode_abdomen\",\"lymphnode_abdomen\",\"lymphnode_abdomen\",\"lymphnode_abdomen\",\"lymphnode_abdomen\",\"bones_abdomen\",\"other_abdomen\",\"bones_thorax\",\"lymphnode_thorax\",\"other_lowerlimb\",\"bones_thorax\",\"other_thorax\",\"other_lowerlimb\",\"other_lowerlimb\",\"lung\",\"lung\",\"lung\",\"lung\",\"lung\",\"other_thorax\",\"lung\",\"lymphnode_thorax\",\"lymphnode_thorax\",\"lymphnode_thorax\",\"other_thorax\",\"lymphnode_thorax\",\"lymphnode_thorax\",\"other_thorax\",\"other_thorax\",\"lymphnode_thorax\",\"lung\",\"other_thorax\",\"other_abdomen\",\"lymphnode_abdomen\",\"other_abdomen\",\"other_abdomen\",\"lymphnode_abdomen\",\"other_abdomen\",\"liver\",\"lung\",\"lung\",\"lung\",\"other_abdomen\",\"other_lowerlimb\",\"bones_lowerlimb\",\"other_abdomen\",\"bones_abdomen\",\"other_abdomen\",\"other_abdomen\",\"lymphnode_abdomen\",\"liver\",\"liver\",\"other_thorax\",\"lung\",\"bones_lowerlimb\",\"bones_thorax\",\"bones_thorax\",\"other_thorax\",\"lymphnode_thorax\",\"other_thorax\",\"other_thorax\",\"lymphnode_thorax\",\"lymphnode_lowerlimb\",\"lymphnode_lowerlimb\",\"bones_lowerlimb\",\"bones_abdomen\",\"other_lowerlimb\",\"bones_abdomen\",\"bones_abdomen\",\"bones_abdomen\",\"lymphnode_abdomen\",\"lymphnode_abdomen\",\"liver\",\"lymphnode_abdomen\",\"liver\",\"other_abdomen\",\"liver\",\"liver\",\"liver\",\"lymphnode_thorax\",\"liver\",\"other_thorax\",\"lung\",\"lymphnode_abdomen\",\"other_abdomen\",\"lymphnode_thorax\",\"bones_thorax\",\"bones_lowerlimb\",\"lymphnode_abdomen\",\"lymphnode_abdomen\",\"lymphnode_abdomen\",\"lymphnode_abdomen\",\"lymphnode_thorax\",\"lymphnode_abdomen\",\"lymphnode_abdomen\",\"lymphnode_thorax\",\"bones_lowerlimb\",\"lymphnode_abdomen\",\"bones_abdomen\",\"bones_lowerlimb\",\"other_thorax\",\"lymphnode_thorax\",\"lymphnode_thorax\",\"lymphnode_thorax\",\"lymphnode_thorax\",\"liver\",\"bones_thorax\",\"bones_lowerlimb\",\"other_thorax\",\"other_thorax\",\"other_thorax\",\"lymphnode_thorax\",\"bones_lowerlimb\",\"lymphnode_abdomen\",\"lymphnode_abdomen\",\"lymphnode_abdomen\",\"other_abdomen\",\"lymphnode_abdomen\",\"lymphnode_abdomen\",\"lymphnode_abdomen\",\"lymphnode_abdomen\",\"lymphnode_abdomen\",\"lymphnode_abdomen\",\"lymphnode_abdomen\",\"other_abdomen\",\"other_abdomen\",\"lymphnode_abdomen\",\"lymphnode_abdomen\",\"other_abdomen\",\"other_thorax\",\"lung\",\"lymphnode_abdomen\",\"bones_lowerlimb\",\"bones_lowerlimb\",\"lymphnode_thorax\",\"other_lowerlimb\",\"other_lowerlimb\",\"lymphnode_thorax\",\"bones_lowerlimb\",\"bones_lowerlimb\",\"bones_lowerlimb\",\"lung\",\"lung\",\"lymphnode_abdomen\",\"other_thorax\",\"other_thorax\",\"lymphnode_thorax\",\"other_thorax\",\"lymphnode_thorax\",\"other_thorax\",\"lung\",\"lymphnode_thorax\",\"bones_thorax\",\"lymphnode_thorax\",\"bones_lowerlimb\",\"lymphnode_thorax\",\"other_abdomen\",\"other_abdomen\",\"lymphnode_abdomen\",\"bones_thorax\",\"lymphnode_thorax\",\"other_abdomen\",\"other_abdomen\",\"liver\",\"liver\",\"liver\",\"lung\",\"other_thorax\",\"lung\",\"lymphnode_thorax\",\"lymphnode_abdomen\",\"other_abdomen\",\"liver\",\"lymphnode_thorax\",\"lymphnode_thorax\",\"other_thorax\",\"bones_thorax\",\"lymphnode_abdomen\",\"lymphnode_abdomen\",\"liver\",\"bones_thorax\",\"bones_thorax\",\"bones_thorax\",\"bones_thorax\",\"bones_abdomen\",\"bones_abdomen\",\"bones_abdomen\",\"bones_abdomen\",\"bones_abdomen\",\"bones_abdomen\",\"bones_abdomen\",\"bones_abdomen\",\"bones_abdomen\",\"bones_abdomen\",\"lymphnode_thorax\",\"other_abdomen\",\"bones_abdomen\",\"other_abdomen\",\"other_abdomen\",\"liver\",\"bones_thorax\",\"bones_thorax\",\"bones_thorax\",\"bones_thorax\",\"bones_thorax\",\"bones_thorax\",\"bones_abdomen\",\"other_abdomen\",\"lymphnode_abdomen\",\"other_abdomen\",\"kidney\",\"other_abdomen\",\"other_thorax\",\"other_lowerlimb\",\"lymphnode_thorax\",\"lung\",\"lymphnode_abdomen\",\"other_thorax\",\"other_thorax\",\"lung\",\"lung\",\"lymphnode_lowerlimb\",\"other_abdomen\",\"bones_thorax\",\"spleen\",\"lymphnode_lowerlimb\",\"bones_lowerlimb\",\"other_abdomen\",\"other_thorax\",\"other_thorax\",\"bones_abdomen\",\"other_abdomen\",\"kidney\",\"bones_lowerlimb\",\"lymphnode_lowerlimb\",\"lymphnode_abdomen\",\"lymphnode_abdomen\",\"other_abdomen\",\"lymphnode_abdomen\",\"other_lowerlimb\",\"lymphnode_abdomen\",\"bones_abdomen\",\"other_abdomen\",\"other_abdomen\",\"liver\",\"lymphnode_thorax\",\"liver\",\"other_thorax\",\"other_thorax\",\"bones_abdomen\",\"kidney\",\"lung\",\"other_thorax\",\"lung\",\"other_thorax\",\"lymphnode_lowerlimb\",\"bones_lowerlimb\",\"bones_thorax\",\"other_abdomen\",\"other_abdomen\",\"other_abdomen\",\"liver\",\"liver\",\"bones_abdomen\",\"liver\",\"liver\",\"liver\",\"bones_abdomen\",\"liver\",\"liver\",\"liver\",\"bones_thorax\",\"liver\",\"liver\",\"liver\",\"bones_abdomen\",\"liver\",\"liver\",\"liver\",\"liver\",\"liver\",\"liver\",\"liver\",\"liver\",\"bones_abdomen\",\"liver\",\"bones_abdomen\",\"bones_abdomen\",\"bones_abdomen\",\"bones_abdomen\",\"other_abdomen\",\"lymphnode_abdomen\",\"bones_abdomen\",\"lymphnode_abdomen\",\"bones_abdomen\",\"bones_abdomen\",\"bones_thorax\",\"lymphnode_abdomen\",\"lymphnode_abdomen\",\"bones_abdomen\",\"bones_abdomen\",\"lymphnode_abdomen\",\"liver\",\"bones_thorax\",\"bones_abdomen\",\"liver\",\"liver\",\"liver\",\"bones_abdomen\",\"bones_abdomen\",\"liver\",\"liver\",\"bones_thorax\",\"liver\",\"spleen\",\"liver\",\"liver\",\"spleen\",\"liver\",\"liver\",\"liver\",\"bones_thorax\",\"bones_thorax\",\"liver\",\"liver\",\"liver\",\"spleen\",\"liver\",\"bones_thorax\",\"bones_thorax\",\"bones_thorax\",\"bones_thorax\",\"bones_thorax\",\"liver\",\"liver\",\"bones_thorax\",\"liver\",\"bones_thorax\",\"spleen\",\"bones_thorax\",\"liver\",\"liver\",\"liver\",\"liver\",\"liver\",\"liver\",\"spleen\",\"bones_thorax\",\"liver\",\"liver\",\"liver\",\"liver\",\"spleen\",\"spleen\",\"liver\",\"liver\",\"liver\",\"liver\",\"bones_thorax\",\"spleen\",\"bones_abdomen\",\"bones_abdomen\",\"bones_abdomen\",\"lymphnode_abdomen\",\"lymphnode_abdomen\",\"other_abdomen\",\"other_abdomen\",\"spleen\",\"spleen\",\"spleen\",\"liver\",\"lung\",\"lung\",\"lung\",\"lung\",\"lung\",\"other_thorax\",\"lung\",\"lung\",\"lung\",\"lung\",\"bones_thorax\",\"other_thorax\",\"lymphnode_abdomen\",\"lymphnode_abdomen\",\"lymphnode_abdomen\",\"other_abdomen\",\"bones_abdomen\",\"other_abdomen\",\"other_abdomen\",\"other_abdomen\",\"lymphnode_abdomen\",\"bones_abdomen\",\"other_abdomen\",\"other_abdomen\",\"other_abdomen\",\"lymphnode_abdomen\",\"lymphnode_abdomen\",\"other_abdomen\",\"spleen\",\"lung\",\"lymphnode_thorax\",\"other_thorax\",\"lymphnode_thorax\",\"lung\",\"other_thorax\",\"lymphnode_abdomen\",\"other_abdomen\",\"lymphnode_abdomen\",\"other_abdomen\",\"other_abdomen\",\"bones_abdomen\",\"other_thorax\",\"lymphnode_thorax\",\"bones_abdomen\",\"bones_abdomen\",\"bones_abdomen\",\"bones_abdomen\",\"bones_abdomen\",\"bones_abdomen\",\"bones_abdomen\",\"lymphnode_abdomen\",\"lymphnode_abdomen\",\"lymphnode_abdomen\",\"bones_abdomen\",\"bones_abdomen\",\"bones_abdomen\",\"bones_abdomen\",\"bones_abdomen\",\"bones_abdomen\",\"other_abdomen\",\"bones_abdomen\",\"bones_abdomen\",\"bones_abdomen\",\"bones_abdomen\",\"lymphnode_abdomen\",\"bones_abdomen\",\"bones_abdomen\",\"bones_abdomen\",\"lymphnode_thorax\",\"lymphnode_thorax\",\"lymphnode_thorax\",\"lymphnode_thorax\",\"lymphnode_thorax\",\"lymphnode_thorax\",\"lymphnode_thorax\",\"other_thorax\",\"other_lowerlimb\",\"bones_lowerlimb\",\"other_thorax\",\"bones_lowerlimb\",\"bones_abdomen\",\"bones_abdomen\",\"lymphnode_abdomen\",\"bones_lowerlimb\",\"bones_lowerlimb\",\"bones_abdomen\",\"bones_lowerlimb\",\"bones_abdomen\",\"bones_abdomen\",\"bones_abdomen\",\"bones_lowerlimb\",\"lung\",\"lymphnode_thorax\",\"lymphnode_thorax\",\"lung\",\"lung\",\"bones_thorax\",\"other_thorax\",\"spleen\",\"lymphnode_abdomen\",\"other_thorax\",\"other_abdomen\",\"other_abdomen\",\"other_thorax\",\"other_thorax\",\"other_thorax\",\"other_thorax\",\"other_thorax\",\"lymphnode_thorax\",\"lymphnode_thorax\",\"other_thorax\",\"other_thorax\",\"lymphnode_abdomen\",\"other_abdomen\",\"lymphnode_thorax\",\"lung\",\"liver\",\"other_thorax\",\"liver\",\"lymphnode_abdomen\",\"lymphnode_abdomen\",\"spleen\",\"liver\",\"other_thorax\",\"other_thorax\",\"bones_thorax\",\"lymphnode_abdomen\",\"lymphnode_abdomen\",\"spleen\",\"lung\",\"liver\",\"liver\",\"other_thorax\",\"bones_lowerlimb\",\"lymphnode_abdomen\",\"other_thorax\",\"spleen\",\"liver\",\"liver\",\"liver\",\"lung\",\"bones_thorax\",\"other_abdomen\",\"other_abdomen\",\"other_thorax\",\"lymphnode_thorax\",\"bones_lowerlimb\",\"lymphnode_abdomen\",\"lymphnode_abdomen\",\"lymphnode_abdomen\",\"lymphnode_abdomen\",\"lymphnode_abdomen\",\"other_abdomen\",\"lymphnode_abdomen\",\"lymphnode_thorax\",\"bones_abdomen\",\"lymphnode_abdomen\",\"other_abdomen\",\"lymphnode_abdomen\",\"lung\",\"lung\",\"other_thorax\",\"other_thorax\",\"other_thorax\",\"other_abdomen\",\"bones_thorax\",\"lung\",\"lung\",\"lung\",\"other_thorax\",\"other_thorax\",\"lymphnode_thorax\",\"bones_thorax\",\"lymphnode_thorax\",\"other_thorax\",\"other_thorax\",\"other_thorax\",\"other_thorax\",\"bones_lowerlimb\",\"lymphnode_abdomen\",\"lymphnode_abdomen\",\"other_thorax\",\"lymphnode_thorax\",\"other_thorax\",\"other_lowerlimb\",\"other_lowerlimb\",\"lymphnode_abdomen\",\"liver\",\"liver\",\"lymphnode_thorax\",\"other_thorax\",\"liver\",\"lymphnode_abdomen\",\"other_thorax\",\"lymphnode_thorax\",\"bones_thorax\",\"other_abdomen\",\"other_abdomen\",\"bones_abdomen\",\"other_thorax\",\"other_thorax\",\"lung\",\"lung\",\"lung\",\"lymphnode_thorax\",\"lymphnode_thorax\",\"other_abdomen\",\"bones_abdomen\",\"other_abdomen\",\"bones_abdomen\",\"bones_abdomen\",\"bones_abdomen\",\"bones_abdomen\",\"bones_abdomen\",\"bones_thorax\",\"other_abdomen\",\"liver\",\"liver\",\"liver\",\"liver\",\"lung\",\"lymphnode_lowerlimb\",\"lymphnode_lowerlimb\",\"bones_abdomen\",\"other_lowerlimb\",\"bones_abdomen\",\"other_abdomen\",\"bones_abdomen\",\"liver\",\"liver\",\"spleen\",\"liver\",\"liver\",\"liver\",\"liver\",\"liver\",\"liver\",\"liver\",\"liver\",\"liver\",\"liver\",\"liver\",\"liver\",\"lymphnode_abdomen\",\"bones_thorax\",\"bones_thorax\",\"other_thorax\",\"lymphnode_thorax\",\"lymphnode_thorax\",\"lymphnode_thorax\",\"lymphnode_thorax\",\"other_thorax\",\"lymphnode_thorax\",\"lymphnode_abdomen\",\"other_abdomen\",\"lymphnode_thorax\",\"other_thorax\",\"lymphnode_thorax\",\"lymphnode_thorax\",\"bones_thorax\",\"lymphnode_abdomen\",\"other_thorax\",\"other_thorax\",\"lymphnode_thorax\",\"lymphnode_abdomen\",\"lymphnode_abdomen\",\"other_thorax\",\"lymphnode_thorax\",\"lymphnode_thorax\",\"other_thorax\",\"lymphnode_thorax\",\"other_thorax\",\"other_thorax\",\"lymphnode_thorax\",\"lymphnode_thorax\",\"lung\",\"lymphnode_thorax\",\"other_thorax\",\"other_thorax\",\"lymphnode_abdomen\",\"lymphnode_abdomen\",\"other_thorax\",\"lymphnode_abdomen\",\"other_thorax\",\"other_thorax\",\"lung\",\"lymphnode_thorax\",\"other_thorax\",\"lung\",\"other_thorax\",\"lymphnode_thorax\",\"lymphnode_thorax\",\"lymphnode_thorax\",\"liver\",\"other_thorax\",\"lymphnode_thorax\",\"lymphnode_abdomen\",\"other_thorax\",\"bones_abdomen\",\"lymphnode_abdomen\",\"other_abdomen\",\"bones_thorax\",\"other_abdomen\",\"other_thorax\",\"other_thorax\",\"bones_thorax\",\"lung\",\"lung\",\"other_thorax\",\"other_thorax\",\"lung\",\"bones_thorax\",\"bones_thorax\",\"lymphnode_thorax\",\"liver\",\"bones_thorax\",\"lung\",\"lung\",\"lymphnode_thorax\",\"lung\",\"lymphnode_thorax\",\"lymphnode_thorax\",\"lung\",\"lymphnode_thorax\",\"lymphnode_thorax\",\"other_thorax\",\"lymphnode_thorax\",\"bones_thorax\",\"bones_lowerlimb\",\"bones_lowerlimb\",\"lymphnode_lowerlimb\",\"lymphnode_lowerlimb\",\"other_lowerlimb\",\"other_abdomen\",\"kidney\",\"bones_abdomen\",\"other_thorax\",\"other_thorax\",\"lung\",\"other_thorax\",\"lymphnode_thorax\",\"lung\",\"lymphnode_thorax\",\"other_thorax\",\"lung\",\"liver\",\"lung\",\"lymphnode_thorax\",\"bones_abdomen\",\"lymphnode_abdomen\",\"lung\",\"other_abdomen\",\"lung\",\"other_thorax\",\"bones_abdomen\",\"lymphnode_abdomen\",\"lung\",\"lung\",\"bones_abdomen\",\"lymphnode_abdomen\",\"lung\",\"lung\",\"other_abdomen\",\"bones_abdomen\",\"bones_abdomen\",\"bones_abdomen\",\"liver\",\"kidney\",\"lung\",\"other_thorax\",\"bones_abdomen\",\"lymphnode_thorax\",\"lymphnode_abdomen\",\"liver\",\"other_thorax\",\"liver\",\"other_abdomen\",\"lung\",\"lung\",\"bones_thorax\",\"lymphnode_thorax\",\"lymphnode_thorax\",\"lymphnode_thorax\",\"other_lowerlimb\",\"other_thorax\",\"other_thorax\",\"other_thorax\",\"lymphnode_thorax\",\"lymphnode_thorax\",\"bones_abdomen\",\"other_abdomen\",\"lymphnode_abdomen\",\"lung\",\"lung\",\"other_abdomen\",\"other_thorax\",\"lung\",\"lung\",\"lymphnode_abdomen\",\"lymphnode_abdomen\",\"lung\",\"lung\",\"lung\",\"other_thorax\",\"other_thorax\",\"other_thorax\",\"lung\",\"lung\",\"lung\",\"lymphnode_thorax\",\"other_thorax\",\"other_thorax\",\"lymphnode_thorax\",\"lymphnode_thorax\",\"lymphnode_thorax\",\"lymphnode_lowerlimb\",\"lymphnode_lowerlimb\",\"bones_abdomen\",\"lymphnode_abdomen\",\"other_abdomen\",\"lymphnode_abdomen\",\"bones_lowerlimb\",\"bones_abdomen\",\"other_thorax\",\"lymphnode_abdomen\",\"lymphnode_abdomen\",\"other_abdomen\",\"other_abdomen\",\"lymphnode_thorax\",\"lymphnode_abdomen\",\"other_thorax\",\"lymphnode_lowerlimb\",\"bones_abdomen\",\"lymphnode_abdomen\",\"lymphnode_abdomen\",\"lymphnode_thorax\",\"lymphnode_abdomen\",\"bones_lowerlimb\",\"lymphnode_abdomen\",\"lymphnode_abdomen\",\"other_abdomen\",\"other_abdomen\",\"other_thorax\",\"lymphnode_thorax\",\"lymphnode_thorax\",\"other_thorax\",\"lymphnode_abdomen\",\"lymphnode_lowerlimb\",\"bones_abdomen\",\"lymphnode_thorax\",\"other_thorax\",\"lymphnode_thorax\",\"lymphnode_thorax\",\"lymphnode_thorax\",\"lymphnode_thorax\",\"lymphnode_thorax\",\"other_thorax\",\"lymphnode_thorax\",\"other_thorax\",\"lymphnode_thorax\",\"other_thorax\",\"other_thorax\",\"other_abdomen\",\"lymphnode_lowerlimb\",\"other_lowerlimb\",\"kidney\",\"lung\",\"lung\",\"lung\",\"lung\",\"lymphnode_abdomen\",\"kidney\",\"other_abdomen\",\"other_lowerlimb\",\"lymphnode_abdomen\",\"other_abdomen\",\"other_abdomen\",\"other_thorax\",\"bones_lowerlimb\",\"lymphnode_abdomen\",\"other_abdomen\",\"other_abdomen\",\"other_abdomen\",\"liver\",\"other_abdomen\",\"lymphnode_lowerlimb\",\"other_abdomen\",\"other_abdomen\",\"other_abdomen\",\"other_abdomen\",\"lymphnode_lowerlimb\",\"bones_abdomen\",\"other_abdomen\",\"bones_abdomen\",\"other_abdomen\",\"other_abdomen\",\"lymphnode_abdomen\",\"lung\",\"bones_abdomen\",\"other_thorax\",\"other_lowerlimb\",\"other_lowerlimb\",\"other_thorax\",\"bones_abdomen\",\"bones_lowerlimb\",\"bones_lowerlimb\",\"lymphnode_abdomen\",\"other_abdomen\",\"other_lowerlimb\",\"other_abdomen\",\"bones_lowerlimb\",\"lymphnode_thorax\",\"other_abdomen\",\"other_lowerlimb\",\"liver\",\"other_lowerlimb\",\"other_abdomen\",\"liver\",\"other_thorax\",\"bones_lowerlimb\",\"bones_abdomen\",\"other_thorax\",\"bones_lowerlimb\",\"liver\",\"other_thorax\",\"other_abdomen\",\"liver\",\"lymphnode_abdomen\",\"other_abdomen\",\"other_thorax\",\"liver\",\"other_abdomen\",\"bones_thorax\",\"lymphnode_abdomen\",\"lung\",\"other_thorax\",\"other_thorax\",\"lung\",\"lung\",\"lung\",\"other_thorax\",\"lymphnode_lowerlimb\",\"lymphnode_lowerlimb\",\"bones_lowerlimb\",\"bones_lowerlimb\",\"other_thorax\",\"lymphnode_thorax\",\"bones_lowerlimb\",\"liver\",\"bones_lowerlimb\",\"lymphnode_lowerlimb\",\"bones_abdomen\",\"liver\",\"other_abdomen\",\"bones_thorax\",\"lung\",\"lung\",\"other_thorax\",\"other_thorax\",\"lymphnode_thorax\",\"lymphnode_thorax\",\"other_thorax\",\"lymphnode_thorax\",\"other_thorax\",\"other_thorax\",\"other_thorax\",\"lymphnode_thorax\",\"lymphnode_thorax\",\"lymphnode_thorax\",\"lymphnode_lowerlimb\",\"lymphnode_lowerlimb\",\"lymphnode_lowerlimb\",\"lymphnode_lowerlimb\",\"lymphnode_lowerlimb\",\"lymphnode_lowerlimb\",\"bones_lowerlimb\",\"bones_thorax\",\"bones_lowerlimb\",\"other_lowerlimb\",\"bones_lowerlimb\",\"lymphnode_abdomen\",\"bones_lowerlimb\",\"bones_lowerlimb\",\"bones_abdomen\",\"bones_lowerlimb\",\"other_abdomen\",\"bones_lowerlimb\",\"bones_abdomen\",\"bones_lowerlimb\",\"lymphnode_lowerlimb\",\"lymphnode_lowerlimb\",\"lymphnode_lowerlimb\",\"lymphnode_abdomen\",\"other_abdomen\",\"other_abdomen\",\"other_thorax\",\"other_abdomen\",\"other_thorax\",\"liver\",\"liver\",\"liver\",\"other_lowerlimb\",\"lymphnode_abdomen\",\"lymphnode_abdomen\",\"other_lowerlimb\",\"other_abdomen\",\"lymphnode_abdomen\",\"lymphnode_abdomen\",\"bones_abdomen\",\"lymphnode_abdomen\",\"lymphnode_abdomen\",\"lymphnode_abdomen\",\"bones_abdomen\",\"bones_abdomen\",\"bones_abdomen\",\"other_abdomen\",\"other_abdomen\",\"other_abdomen\",\"other_abdomen\",\"other_abdomen\",\"other_abdomen\",\"other_abdomen\",\"lymphnode_abdomen\",\"other_abdomen\",\"other_lowerlimb\",\"other_lowerlimb\",\"other_lowerlimb\",\"lymphnode_abdomen\",\"other_abdomen\",\"lymphnode_abdomen\",\"lymphnode_abdomen\",\"lymphnode_abdomen\",\"other_abdomen\",\"other_abdomen\",\"other_thorax\",\"lymphnode_thorax\",\"lymphnode_abdomen\",\"lymphnode_thorax\",\"bones_thorax\",\"bones_lowerlimb\",\"other_lowerlimb\",\"other_lowerlimb\",\"other_lowerlimb\",\"other_lowerlimb\",\"other_lowerlimb\",\"other_lowerlimb\",\"other_lowerlimb\",\"other_lowerlimb\",\"lymphnode_thorax\",\"other_abdomen\",\"other_abdomen\",\"lymphnode_abdomen\",\"lymphnode_lowerlimb\",\"lymphnode_lowerlimb\",\"other_lowerlimb\",\"lymphnode_abdomen\",\"other_abdomen\",\"lymphnode_abdomen\",\"liver\",\"other_thorax\",\"other_thorax\",\"other_lowerlimb\",\"lymphnode_abdomen\",\"lymphnode_abdomen\",\"other_abdomen\",\"liver\",\"other_lowerlimb\",\"other_lowerlimb\",\"other_lowerlimb\",\"lymphnode_abdomen\",\"liver\",\"liver\",\"bones_lowerlimb\",\"bones_lowerlimb\",\"other_thorax\",\"other_thorax\",\"other_thorax\",\"other_abdomen\",\"liver\",\"liver\",\"lymphnode_abdomen\",\"liver\",\"bones_thorax\",\"other_thorax\",\"lung\",\"other_thorax\",\"lung\",\"lymphnode_abdomen\",\"other_thorax\",\"lymphnode_thorax\",\"bones_thorax\",\"other_thorax\",\"lung\",\"lymphnode_thorax\",\"other_thorax\",\"other_thorax\",\"bones_thorax\",\"bones_thorax\",\"lymphnode_thorax\",\"other_thorax\",\"other_abdomen\",\"liver\",\"other_abdomen\",\"lymphnode_abdomen\",\"other_abdomen\",\"lymphnode_abdomen\",\"lymphnode_abdomen\",\"lymphnode_abdomen\",\"lymphnode_abdomen\",\"lymphnode_abdomen\",\"spleen\",\"liver\",\"bones_thorax\",\"lung\",\"other_thorax\",\"lymphnode_thorax\",\"lymphnode_thorax\",\"lymphnode_thorax\",\"other_thorax\",\"lymphnode_thorax\",\"lymphnode_thorax\",\"bones_thorax\",\"lymphnode_thorax\",\"lymphnode_thorax\",\"bones_lowerlimb\",\"bones_lowerlimb\",\"lymphnode_abdomen\",\"lymphnode_abdomen\",\"lymphnode_abdomen\",\"other_thorax\",\"bones_lowerlimb\",\"bones_lowerlimb\",\"bones_lowerlimb\",\"bones_lowerlimb\",\"bones_lowerlimb\",\"lymphnode_abdomen\",\"lymphnode_abdomen\",\"lymphnode_abdomen\",\"other_thorax\",\"lymphnode_abdomen\",\"lymphnode_abdomen\",\"lymphnode_abdomen\",\"other_thorax\",\"lymphnode_thorax\",\"lymphnode_thorax\",\"bones_lowerlimb\",\"bones_lowerlimb\",\"lymphnode_abdomen\",\"lymphnode_abdomen\",\"lymphnode_abdomen\",\"lymphnode_abdomen\",\"lymphnode_abdomen\",\"lymphnode_thorax\",\"bones_thorax\",\"bones_lowerlimb\",\"other_abdomen\",\"other_abdomen\",\"lymphnode_abdomen\",\"other_abdomen\",\"lymphnode_abdomen\",\"lymphnode_abdomen\",\"other_abdomen\",\"lymphnode_abdomen\",\"liver\",\"liver\",\"liver\",\"liver\",\"spleen\",\"liver\",\"lung\",\"lung\",\"other_thorax\",\"lung\",\"lung\",\"lymphnode_thorax\",\"bones_lowerlimb\",\"bones_lowerlimb\",\"liver\",\"liver\",\"bones_thorax\",\"lymphnode_abdomen\",\"lymphnode_abdomen\",\"lymphnode_abdomen\",\"other_abdomen\",\"lymphnode_abdomen\",\"other_abdomen\",\"lymphnode_abdomen\",\"other_abdomen\",\"other_abdomen\",\"bones_thorax\",\"other_abdomen\",\"lymphnode_abdomen\",\"other_abdomen\",\"other_abdomen\",\"other_abdomen\",\"lymphnode_abdomen\",\"liver\",\"lymphnode_thorax\",\"lymphnode_thorax\",\"bones_lowerlimb\",\"lymphnode_abdomen\",\"lymphnode_abdomen\",\"liver\",\"lymphnode_lowerlimb\",\"other_thorax\",\"lung\",\"other_thorax\",\"lung\",\"lung\",\"lymphnode_thorax\",\"lung\",\"lung\",\"lymphnode_thorax\",\"bones_thorax\",\"bones_thorax\",\"other_lowerlimb\",\"other_lowerlimb\",\"bones_lowerlimb\",\"bones_lowerlimb\",\"other_lowerlimb\",\"other_abdomen\",\"other_abdomen\",\"other_abdomen\",\"other_abdomen\",\"lymphnode_abdomen\",\"lung\",\"lung\",\"lung\",\"lung\",\"lung\",\"other_abdomen\",\"lymphnode_abdomen\",\"lymphnode_abdomen\",\"other_thorax\",\"other_abdomen\",\"other_thorax\",\"other_thorax\",\"other_thorax\",\"other_thorax\",\"other_thorax\",\"lung\",\"lymphnode_thorax\",\"lymphnode_thorax\",\"other_thorax\",\"other_thorax\",\"lymphnode_thorax\",\"lymphnode_lowerlimb\",\"bones_thorax\",\"other_thorax\",\"other_abdomen\",\"lung\",\"lung\",\"lymphnode_thorax\",\"lymphnode_abdomen\",\"lung\",\"other_thorax\",\"lymphnode_abdomen\",\"liver\",\"bones_thorax\",\"liver\",\"lymphnode_abdomen\",\"lymphnode_abdomen\",\"lymphnode_abdomen\",\"lymphnode_abdomen\",\"bones_lowerlimb\",\"bones_abdomen\",\"lymphnode_abdomen\",\"lymphnode_abdomen\",\"bones_abdomen\",\"bones_abdomen\",\"liver\",\"liver\",\"lymphnode_abdomen\",\"lymphnode_abdomen\",\"lung\",\"lymphnode_abdomen\",\"other_thorax\",\"lymphnode_abdomen\",\"lymphnode_abdomen\",\"other_thorax\",\"other_thorax\",\"other_lowerlimb\",\"other_abdomen\",\"bones_thorax\",\"lymphnode_abdomen\",\"bones_thorax\",\"bones_abdomen\",\"bones_thorax\",\"bones_abdomen\",\"lymphnode_abdomen\",\"bones_abdomen\",\"bones_thorax\",\"other_abdomen\",\"lymphnode_thorax\",\"lymphnode_thorax\",\"other_thorax\",\"lymphnode_thorax\",\"other_thorax\",\"lymphnode_thorax\",\"lymphnode_thorax\",\"other_lowerlimb\",\"bones_abdomen\",\"other_abdomen\",\"lymphnode_thorax\",\"lymphnode_thorax\",\"liver\",\"liver\",\"bones_thorax\",\"lymphnode_thorax\",\"lymphnode_thorax\",\"lymphnode_thorax\",\"lymphnode_thorax\",\"lymphnode_thorax\",\"lymphnode_thorax\",\"bones_thorax\",\"bones_thorax\",\"bones_thorax\",\"lymphnode_thorax\",\"bones_thorax\",\"bones_lowerlimb\",\"lymphnode_lowerlimb\",\"bones_abdomen\",\"bones_abdomen\",\"liver\",\"liver\",\"liver\",\"liver\",\"liver\",\"lymphnode_thorax\",\"liver\",\"other_thorax\",\"liver\",\"lung\",\"lymphnode_lowerlimb\",\"bones_lowerlimb\",\"other_abdomen\",\"lung\",\"other_thorax\",\"bones_thorax\",\"lung\",\"other_thorax\",\"lymphnode_thorax\",\"other_thorax\",\"other_lowerlimb\",\"bones_lowerlimb\",\"bones_abdomen\",\"bones_lowerlimb\",\"bones_lowerlimb\",\"lymphnode_abdomen\",\"bones_abdomen\",\"other_abdomen\",\"bones_abdomen\",\"kidney\",\"liver\",\"liver\",\"liver\",\"liver\",\"liver\",\"liver\",\"liver\",\"liver\",\"liver\",\"liver\",\"liver\",\"lung\",\"bones_thorax\",\"lung\",\"lung\",\"lung\",\"lung\",\"lung\",\"lung\",\"other_thorax\",\"lymphnode_abdomen\",\"bones_thorax\",\"lung\",\"bones_thorax\",\"other_thorax\",\"lung\",\"liver\",\"liver\",\"liver\",\"liver\",\"liver\",\"liver\",\"liver\",\"liver\",\"liver\",\"liver\",\"liver\",\"liver\",\"liver\",\"lymphnode_thorax\",\"liver\",\"liver\",\"liver\",\"liver\",\"liver\",\"liver\",\"liver\",\"liver\",\"liver\",\"liver\",\"liver\",\"liver\",\"bones_thorax\",\"bones_abdomen\",\"lymphnode_abdomen\",\"liver\",\"other_thorax\",\"bones_thorax\",\"liver\",\"other_abdomen\",\"other_thorax\",\"bones_thorax\",\"liver\",\"other_abdomen\",\"bones_thorax\",\"bones_thorax\",\"bones_thorax\",\"other_thorax\",\"other_thorax\",\"other_thorax\",\"other_thorax\",\"other_thorax\",\"other_thorax\",\"other_thorax\",\"other_thorax\",\"other_thorax\",\"bones_abdomen\",\"bones_abdomen\",\"lymphnode_abdomen\",\"lymphnode_abdomen\",\"other_thorax\",\"other_thorax\",\"other_thorax\",\"other_thorax\",\"other_thorax\",\"bones_thorax\",\"other_thorax\",\"other_thorax\",\"lymphnode_thorax\",\"other_thorax\",\"lymphnode_thorax\",\"other_thorax\",\"other_thorax\",\"bones_thorax\",\"other_thorax\",\"bones_thorax\",\"bones_thorax\",\"lymphnode_thorax\",\"kidney\",\"kidney\",\"kidney\",\"liver\",\"bones_thorax\",\"other_thorax\",\"lymphnode_thorax\",\"other_thorax\",\"lung\",\"lymphnode_lowerlimb\",\"bones_lowerlimb\",\"bones_thorax\",\"lung\",\"lymphnode_abdomen\",\"lung\",\"other_thorax\",\"bones_abdomen\",\"lymphnode_abdomen\",\"lymphnode_thorax\",\"bones_lowerlimb\",\"bones_lowerlimb\",\"bones_lowerlimb\",\"bones_abdomen\",\"lymphnode_abdomen\",\"lymphnode_abdomen\",\"lymphnode_abdomen\",\"lung\",\"other_thorax\",\"lung\",\"other_thorax\",\"bones_abdomen\",\"lung\",\"other_thorax\",\"other_thorax\",\"bones_thorax\",\"bones_thorax\",\"bones_thorax\",\"lymphnode_thorax\",\"bones_thorax\",\"bones_thorax\",\"bones_thorax\",\"other_thorax\",\"lymphnode_thorax\",\"bones_thorax\",\"other_thorax\",\"bones_thorax\",\"bones_thorax\",\"other_thorax\",\"other_thorax\",\"other_thorax\",\"bones_thorax\",\"bones_thorax\",\"other_thorax\",\"other_thorax\",\"other_thorax\",\"lymphnode_thorax\",\"other_thorax\",\"lymphnode_thorax\",\"bones_thorax\",\"other_thorax\",\"bones_thorax\",\"other_abdomen\",\"other_thorax\",\"lung\",\"lung\",\"lung\",\"other_thorax\",\"lung\",\"lymphnode_thorax\",\"lung\",\"lymphnode_thorax\",\"lung\",\"other_thorax\",\"other_thorax\",\"lymphnode_thorax\",\"lung\",\"lung\",\"lung\",\"other_thorax\",\"lung\",\"other_abdomen\",\"lymphnode_thorax\",\"lymphnode_abdomen\",\"other_abdomen\",\"other_thorax\",\"lymphnode_thorax\",\"lymphnode_thorax\",\"other_lowerlimb\",\"other_thorax\",\"other_thorax\",\"lymphnode_thorax\",\"bones_lowerlimb\",\"liver\",\"lymphnode_abdomen\",\"liver\",\"liver\",\"lymphnode_thorax\",\"other_thorax\",\"lymphnode_abdomen\",\"liver\",\"other_abdomen\",\"lymphnode_abdomen\",\"other_abdomen\",\"other_thorax\",\"lymphnode_lowerlimb\",\"lymphnode_abdomen\",\"lymphnode_thorax\",\"other_thorax\",\"lymphnode_thorax\",\"lymphnode_thorax\",\"lymphnode_thorax\",\"other_thorax\",\"lymphnode_thorax\",\"lymphnode_thorax\",\"other_abdomen\",\"lymphnode_thorax\",\"lymphnode_thorax\",\"lymphnode_thorax\",\"lymphnode_thorax\",\"lymphnode_thorax\",\"lymphnode_thorax\",\"lymphnode_thorax\",\"bones_lowerlimb\",\"lymphnode_abdomen\",\"lymphnode_abdomen\",\"bones_abdomen\",\"bones_abdomen\",\"spleen\",\"spleen\",\"lymphnode_thorax\",\"bones_abdomen\",\"bones_abdomen\",\"bones_abdomen\",\"lymphnode_abdomen\",\"lymphnode_thorax\",\"lymphnode_thorax\",\"lymphnode_thorax\",\"liver\",\"liver\",\"liver\",\"liver\",\"bones_thorax\",\"other_thorax\",\"lung\",\"other_thorax\",\"lymphnode_thorax\",\"lung\",\"other_thorax\",\"lung\",\"lymphnode_thorax\",\"other_thorax\",\"lymphnode_thorax\",\"lung\",\"bones_lowerlimb\",\"bones_lowerlimb\",\"lymphnode_abdomen\",\"lymphnode_abdomen\",\"other_thorax\",\"other_thorax\",\"other_thorax\",\"lymphnode_abdomen\",\"other_abdomen\",\"other_abdomen\",\"lymphnode_abdomen\",\"lymphnode_abdomen\",\"bones_thorax\",\"other_abdomen\",\"lymphnode_abdomen\",\"lymphnode_abdomen\",\"lymphnode_abdomen\",\"lymphnode_abdomen\",\"lymphnode_abdomen\",\"bones_abdomen\",\"lymphnode_abdomen\",\"other_abdomen\",\"lymphnode_abdomen\",\"lymphnode_abdomen\",\"lymphnode_abdomen\",\"other_abdomen\",\"lymphnode_abdomen\",\"other_thorax\",\"lymphnode_abdomen\",\"lymphnode_abdomen\",\"lymphnode_abdomen\",\"bones_abdomen\",\"bones_thorax\",\"bones_lowerlimb\",\"lymphnode_abdomen\",\"other_abdomen\",\"lymphnode_abdomen\",\"bones_abdomen\",\"bones_abdomen\",\"lymphnode_abdomen\",\"bones_abdomen\",\"bones_thorax\",\"other_lowerlimb\",\"other_thorax\",\"lymphnode_thorax\",\"lymphnode_thorax\",\"bones_thorax\",\"lymphnode_abdomen\",\"lymphnode_abdomen\",\"lymphnode_abdomen\",\"lymphnode_abdomen\",\"lymphnode_abdomen\",\"lymphnode_abdomen\",\"lymphnode_abdomen\",\"bones_thorax\",\"lymphnode_thorax\",\"lymphnode_lowerlimb\",\"lymphnode_lowerlimb\",\"other_abdomen\",\"other_abdomen\",\"other_thorax\",\"bones_thorax\",\"bones_thorax\",\"bones_thorax\",\"lung\",\"lung\",\"other_thorax\",\"lung\",\"lung\",\"bones_abdomen\",\"bones_abdomen\",\"bones_abdomen\",\"other_abdomen\",\"spleen\",\"other_thorax\",\"other_thorax\",\"other_thorax\",\"other_thorax\",\"other_thorax\",\"bones_abdomen\",\"lymphnode_abdomen\",\"lymphnode_abdomen\",\"other_thorax\",\"other_lowerlimb\",\"bones_abdomen\",\"other_lowerlimb\",\"bones_abdomen\",\"bones_abdomen\",\"other_abdomen\",\"bones_abdomen\",\"other_abdomen\",\"liver\",\"other_thorax\",\"bones_lowerlimb\",\"lung\",\"other_thorax\",\"lymphnode_thorax\",\"lymphnode_thorax\",\"other_thorax\",\"lymphnode_thorax\",\"bones_thorax\",\"bones_thorax\",\"other_thorax\",\"other_thorax\",\"other_thorax\",\"lymphnode_thorax\",\"lymphnode_thorax\",\"lymphnode_thorax\",\"other_thorax\",\"lymphnode_thorax\",\"bones_thorax\",\"lymphnode_thorax\",\"other_thorax\",\"lymphnode_thorax\",\"bones_thorax\",\"other_abdomen\",\"lymphnode_abdomen\",\"spleen\",\"liver\",\"liver\",\"liver\",\"liver\",\"other_thorax\",\"lymphnode_thorax\",\"other_abdomen\",\"lymphnode_abdomen\",\"liver\",\"lung\",\"other_thorax\",\"lung\",\"lymphnode_thorax\",\"lung\",\"other_thorax\",\"lung\",\"other_abdomen\",\"other_abdomen\",\"lung\",\"bones_lowerlimb\",\"lymphnode_abdomen\",\"lymphnode_abdomen\",\"lymphnode_abdomen\",\"other_abdomen\",\"lymphnode_abdomen\",\"lymphnode_abdomen\",\"other_abdomen\",\"other_abdomen\",\"bones_abdomen\",\"bones_abdomen\",\"bones_abdomen\",\"spleen\",\"other_thorax\",\"lymphnode_thorax\",\"other_thorax\",\"lung\",\"lung\",\"lung\",\"lymphnode_lowerlimb\",\"other_lowerlimb\",\"lymphnode_abdomen\",\"lymphnode_thorax\",\"bones_thorax\",\"lung\",\"bones_thorax\",\"bones_abdomen\",\"kidney\",\"kidney\",\"lymphnode_abdomen\",\"lymphnode_abdomen\",\"other_thorax\",\"bones_thorax\",\"other_thorax\",\"other_thorax\",\"bones_thorax\",\"other_thorax\",\"bones_thorax\",\"bones_thorax\",\"lung\",\"lung\",\"lung\",\"other_thorax\",\"bones_thorax\",\"bones_thorax\",\"lung\",\"lymphnode_thorax\",\"bones_abdomen\",\"other_thorax\",\"lung\",\"other_thorax\",\"bones_abdomen\",\"lung\",\"lymphnode_thorax\",\"other_thorax\",\"lung\",\"other_thorax\",\"bones_thorax\",\"bones_abdomen\",\"kidney\",\"bones_thorax\",\"bones_thorax\",\"other_thorax\",\"lung\",\"bones_thorax\",\"lymphnode_thorax\",\"lymphnode_thorax\",\"lymphnode_thorax\",\"lymphnode_thorax\",\"bones_abdomen\",\"bones_abdomen\",\"lymphnode_abdomen\",\"lymphnode_abdomen\",\"lymphnode_lowerlimb\",\"lymphnode_lowerlimb\",\"lymphnode_lowerlimb\",\"lymphnode_lowerlimb\",\"lymphnode_lowerlimb\",\"lymphnode_abdomen\",\"other_abdomen\",\"lung\",\"lung\",\"lung\",\"other_thorax\",\"lymphnode_lowerlimb\",\"other_abdomen\",\"other_abdomen\",\"lymphnode_lowerlimb\",\"lymphnode_lowerlimb\",\"lymphnode_abdomen\",\"other_abdomen\",\"lymphnode_abdomen\",\"liver\",\"liver\",\"lymphnode_lowerlimb\",\"lymphnode_lowerlimb\",\"lymphnode_lowerlimb\",\"lymphnode_lowerlimb\",\"liver\",\"liver\",\"liver\",\"bones_abdomen\",\"liver\",\"other_abdomen\",\"liver\",\"other_thorax\",\"lung\",\"lung\",\"other_thorax\",\"bones_thorax\",\"bones_thorax\",\"other_abdomen\",\"bones_abdomen\",\"bones_abdomen\",\"liver\",\"liver\",\"liver\",\"liver\",\"other_thorax\",\"lymphnode_lowerlimb\",\"bones_thorax\",\"bones_thorax\",\"bones_lowerlimb\",\"other_lowerlimb\",\"lung\",\"other_thorax\",\"lymphnode_abdomen\",\"lymphnode_abdomen\",\"other_abdomen\",\"bones_abdomen\",\"lymphnode_abdomen\",\"lung\",\"lymphnode_thorax\",\"lymphnode_thorax\",\"lymphnode_thorax\",\"bones_thorax\",\"lymphnode_abdomen\",\"other_abdomen\",\"bones_abdomen\",\"other_thorax\",\"lymphnode_thorax\",\"lymphnode_thorax\",\"lymphnode_abdomen\",\"other_abdomen\",\"bones_lowerlimb\",\"other_thorax\",\"lung\",\"lung\",\"bones_abdomen\",\"lymphnode_lowerlimb\",\"lymphnode_abdomen\",\"lymphnode_abdomen\",\"lymphnode_abdomen\",\"other_abdomen\",\"other_abdomen\",\"other_abdomen\",\"other_abdomen\",\"other_thorax\",\"other_abdomen\",\"other_lowerlimb\",\"other_thorax\",\"other_thorax\",\"lymphnode_abdomen\",\"lymphnode_abdomen\",\"lymphnode_abdomen\",\"lung\",\"lung\",\"other_thorax\",\"other_thorax\",\"bones_abdomen\",\"bones_lowerlimb\",\"other_thorax\",\"other_thorax\",\"lung\",\"other_thorax\",\"other_abdomen\",\"lymphnode_thorax\",\"other_thorax\",\"lymphnode_thorax\",\"other_thorax\",\"bones_thorax\",\"lymphnode_thorax\",\"bones_thorax\",\"bones_thorax\",\"other_thorax\",\"other_thorax\",\"lymphnode_thorax\",\"other_thorax\",\"other_thorax\",\"lymphnode_thorax\",\"bones_thorax\",\"lymphnode_thorax\",\"other_thorax\",\"other_thorax\",\"bones_thorax\",\"other_thorax\",\"bones_thorax\",\"lymphnode_thorax\",\"other_thorax\",\"lymphnode_thorax\",\"lymphnode_thorax\",\"lymphnode_abdomen\",\"bones_abdomen\",\"lymphnode_abdomen\",\"lymphnode_abdomen\",\"spleen\",\"bones_abdomen\",\"liver\",\"other_thorax\",\"bones_thorax\",\"bones_thorax\",\"other_thorax\",\"liver\",\"spleen\",\"other_thorax\",\"other_thorax\",\"spleen\",\"other_abdomen\",\"other_abdomen\",\"other_thorax\",\"lymphnode_thorax\",\"bones_thorax\",\"bones_thorax\",\"other_thorax\",\"other_thorax\",\"other_thorax\",\"bones_thorax\",\"lymphnode_thorax\",\"other_thorax\",\"bones_thorax\",\"other_thorax\",\"other_thorax\",\"other_thorax\",\"other_thorax\",\"lymphnode_thorax\",\"lymphnode_thorax\",\"lymphnode_thorax\",\"bones_thorax\",\"other_thorax\",\"other_thorax\",\"other_thorax\",\"other_thorax\",\"lymphnode_thorax\",\"lymphnode_thorax\",\"lymphnode_thorax\",\"other_thorax\",\"lymphnode_thorax\",\"lymphnode_thorax\",\"other_abdomen\",\"other_thorax\",\"liver\",\"other_thorax\",\"lymphnode_thorax\",\"other_thorax\",\"other_thorax\",\"bones_thorax\",\"other_thorax\",\"bones_thorax\",\"bones_thorax\",\"other_thorax\",\"other_thorax\",\"lymphnode_thorax\",\"other_thorax\",\"lymphnode_thorax\",\"kidney\",\"other_abdomen\",\"bones_abdomen\",\"other_abdomen\",\"other_thorax\",\"other_abdomen\",\"liver\",\"other_thorax\",\"other_thorax\",\"lymphnode_thorax\",\"liver\",\"bones_thorax\",\"bones_thorax\",\"lung\",\"other_thorax\",\"lymphnode_thorax\",\"lymphnode_thorax\",\"lymphnode_thorax\",\"lymphnode_thorax\",\"bones_thorax\",\"bones_thorax\",\"other_thorax\",\"other_thorax\",\"lymphnode_thorax\",\"lung\",\"other_thorax\",\"lung\",\"lymphnode_thorax\",\"lung\",\"other_thorax\",\"lung\",\"other_thorax\",\"other_thorax\",\"other_thorax\",\"bones_thorax\",\"bones_thorax\",\"other_thorax\",\"other_thorax\",\"lymphnode_thorax\",\"other_abdomen\",\"bones_abdomen\",\"kidney\",\"lymphnode_abdomen\",\"liver\",\"other_thorax\",\"other_thorax\",\"spleen\",\"bones_thorax\",\"lymphnode_thorax\",\"other_thorax\",\"other_thorax\",\"bones_thorax\",\"other_thorax\",\"bones_thorax\",\"bones_thorax\",\"lung\",\"lymphnode_thorax\",\"other_thorax\",\"other_thorax\",\"other_thorax\",\"bones_thorax\",\"other_thorax\",\"bones_abdomen\",\"lymphnode_abdomen\",\"bones_thorax\",\"other_thorax\",\"lymphnode_thorax\",\"other_thorax\",\"other_thorax\",\"lymphnode_thorax\",\"lymphnode_thorax\",\"lymphnode_thorax\",\"other_thorax\",\"other_thorax\",\"other_thorax\",\"other_thorax\",\"other_thorax\",\"lymphnode_thorax\",\"lymphnode_thorax\",\"lymphnode_thorax\",\"lymphnode_thorax\",\"other_thorax\",\"other_thorax\",\"lymphnode_thorax\",\"other_thorax\",\"bones_thorax\",\"bones_thorax\",\"other_thorax\",\"other_thorax\",\"other_abdomen\",\"other_abdomen\",\"bones_thorax\",\"bones_abdomen\",\"liver\",\"bones_thorax\",\"spleen\",\"spleen\",\"spleen\",\"liver\",\"kidney\",\"other_thorax\",\"other_abdomen\",\"lymphnode_thorax\",\"bones_thorax\",\"lymphnode_thorax\",\"bones_thorax\",\"lymphnode_abdomen\",\"other_thorax\",\"other_thorax\",\"other_thorax\",\"lymphnode_thorax\",\"bones_thorax\",\"bones_thorax\"],\"xaxis\":\"x\",\"yaxis\":\"y\"}],                        {\"barmode\":\"relative\",\"legend\":{\"orientation\":\"h\",\"title\":{\"text\":\"PARS lesion classification\"},\"tracegroupgap\":0,\"y\":1.02,\"yanchor\":\"bottom\"},\"margin\":{\"t\":60},\"template\":{\"data\":{\"bar\":[{\"error_x\":{\"color\":\"rgb(36,36,36)\"},\"error_y\":{\"color\":\"rgb(36,36,36)\"},\"marker\":{\"line\":{\"color\":\"rgb(234,234,242)\",\"width\":0.5},\"pattern\":{\"fillmode\":\"overlay\",\"size\":10,\"solidity\":0.2}},\"type\":\"bar\"}],\"barpolar\":[{\"marker\":{\"line\":{\"color\":\"rgb(234,234,242)\",\"width\":0.5},\"pattern\":{\"fillmode\":\"overlay\",\"size\":10,\"solidity\":0.2}},\"type\":\"barpolar\"}],\"carpet\":[{\"aaxis\":{\"endlinecolor\":\"rgb(36,36,36)\",\"gridcolor\":\"white\",\"linecolor\":\"white\",\"minorgridcolor\":\"white\",\"startlinecolor\":\"rgb(36,36,36)\"},\"baxis\":{\"endlinecolor\":\"rgb(36,36,36)\",\"gridcolor\":\"white\",\"linecolor\":\"white\",\"minorgridcolor\":\"white\",\"startlinecolor\":\"rgb(36,36,36)\"},\"type\":\"carpet\"}],\"choropleth\":[{\"colorbar\":{\"outlinewidth\":0,\"tickcolor\":\"rgb(36,36,36)\",\"ticklen\":8,\"ticks\":\"outside\",\"tickwidth\":2},\"type\":\"choropleth\"}],\"contour\":[{\"colorbar\":{\"outlinewidth\":0,\"tickcolor\":\"rgb(36,36,36)\",\"ticklen\":8,\"ticks\":\"outside\",\"tickwidth\":2},\"colorscale\":[[0.0,\"rgb(2,4,25)\"],[0.06274509803921569,\"rgb(24,15,41)\"],[0.12549019607843137,\"rgb(47,23,57)\"],[0.18823529411764706,\"rgb(71,28,72)\"],[0.25098039215686274,\"rgb(97,30,82)\"],[0.3137254901960784,\"rgb(123,30,89)\"],[0.3764705882352941,\"rgb(150,27,91)\"],[0.4392156862745098,\"rgb(177,22,88)\"],[0.5019607843137255,\"rgb(203,26,79)\"],[0.5647058823529412,\"rgb(223,47,67)\"],[0.6274509803921569,\"rgb(236,76,61)\"],[0.6901960784313725,\"rgb(242,107,73)\"],[0.7529411764705882,\"rgb(244,135,95)\"],[0.8156862745098039,\"rgb(245,162,122)\"],[0.8784313725490196,\"rgb(246,188,153)\"],[0.9411764705882353,\"rgb(247,212,187)\"],[1.0,\"rgb(250,234,220)\"]],\"type\":\"contour\"}],\"contourcarpet\":[{\"colorbar\":{\"outlinewidth\":0,\"tickcolor\":\"rgb(36,36,36)\",\"ticklen\":8,\"ticks\":\"outside\",\"tickwidth\":2},\"type\":\"contourcarpet\"}],\"heatmap\":[{\"colorbar\":{\"outlinewidth\":0,\"tickcolor\":\"rgb(36,36,36)\",\"ticklen\":8,\"ticks\":\"outside\",\"tickwidth\":2},\"colorscale\":[[0.0,\"rgb(2,4,25)\"],[0.06274509803921569,\"rgb(24,15,41)\"],[0.12549019607843137,\"rgb(47,23,57)\"],[0.18823529411764706,\"rgb(71,28,72)\"],[0.25098039215686274,\"rgb(97,30,82)\"],[0.3137254901960784,\"rgb(123,30,89)\"],[0.3764705882352941,\"rgb(150,27,91)\"],[0.4392156862745098,\"rgb(177,22,88)\"],[0.5019607843137255,\"rgb(203,26,79)\"],[0.5647058823529412,\"rgb(223,47,67)\"],[0.6274509803921569,\"rgb(236,76,61)\"],[0.6901960784313725,\"rgb(242,107,73)\"],[0.7529411764705882,\"rgb(244,135,95)\"],[0.8156862745098039,\"rgb(245,162,122)\"],[0.8784313725490196,\"rgb(246,188,153)\"],[0.9411764705882353,\"rgb(247,212,187)\"],[1.0,\"rgb(250,234,220)\"]],\"type\":\"heatmap\"}],\"heatmapgl\":[{\"colorbar\":{\"outlinewidth\":0,\"tickcolor\":\"rgb(36,36,36)\",\"ticklen\":8,\"ticks\":\"outside\",\"tickwidth\":2},\"colorscale\":[[0.0,\"rgb(2,4,25)\"],[0.06274509803921569,\"rgb(24,15,41)\"],[0.12549019607843137,\"rgb(47,23,57)\"],[0.18823529411764706,\"rgb(71,28,72)\"],[0.25098039215686274,\"rgb(97,30,82)\"],[0.3137254901960784,\"rgb(123,30,89)\"],[0.3764705882352941,\"rgb(150,27,91)\"],[0.4392156862745098,\"rgb(177,22,88)\"],[0.5019607843137255,\"rgb(203,26,79)\"],[0.5647058823529412,\"rgb(223,47,67)\"],[0.6274509803921569,\"rgb(236,76,61)\"],[0.6901960784313725,\"rgb(242,107,73)\"],[0.7529411764705882,\"rgb(244,135,95)\"],[0.8156862745098039,\"rgb(245,162,122)\"],[0.8784313725490196,\"rgb(246,188,153)\"],[0.9411764705882353,\"rgb(247,212,187)\"],[1.0,\"rgb(250,234,220)\"]],\"type\":\"heatmapgl\"}],\"histogram\":[{\"marker\":{\"pattern\":{\"fillmode\":\"overlay\",\"size\":10,\"solidity\":0.2}},\"type\":\"histogram\"}],\"histogram2d\":[{\"colorbar\":{\"outlinewidth\":0,\"tickcolor\":\"rgb(36,36,36)\",\"ticklen\":8,\"ticks\":\"outside\",\"tickwidth\":2},\"colorscale\":[[0.0,\"rgb(2,4,25)\"],[0.06274509803921569,\"rgb(24,15,41)\"],[0.12549019607843137,\"rgb(47,23,57)\"],[0.18823529411764706,\"rgb(71,28,72)\"],[0.25098039215686274,\"rgb(97,30,82)\"],[0.3137254901960784,\"rgb(123,30,89)\"],[0.3764705882352941,\"rgb(150,27,91)\"],[0.4392156862745098,\"rgb(177,22,88)\"],[0.5019607843137255,\"rgb(203,26,79)\"],[0.5647058823529412,\"rgb(223,47,67)\"],[0.6274509803921569,\"rgb(236,76,61)\"],[0.6901960784313725,\"rgb(242,107,73)\"],[0.7529411764705882,\"rgb(244,135,95)\"],[0.8156862745098039,\"rgb(245,162,122)\"],[0.8784313725490196,\"rgb(246,188,153)\"],[0.9411764705882353,\"rgb(247,212,187)\"],[1.0,\"rgb(250,234,220)\"]],\"type\":\"histogram2d\"}],\"histogram2dcontour\":[{\"colorbar\":{\"outlinewidth\":0,\"tickcolor\":\"rgb(36,36,36)\",\"ticklen\":8,\"ticks\":\"outside\",\"tickwidth\":2},\"colorscale\":[[0.0,\"rgb(2,4,25)\"],[0.06274509803921569,\"rgb(24,15,41)\"],[0.12549019607843137,\"rgb(47,23,57)\"],[0.18823529411764706,\"rgb(71,28,72)\"],[0.25098039215686274,\"rgb(97,30,82)\"],[0.3137254901960784,\"rgb(123,30,89)\"],[0.3764705882352941,\"rgb(150,27,91)\"],[0.4392156862745098,\"rgb(177,22,88)\"],[0.5019607843137255,\"rgb(203,26,79)\"],[0.5647058823529412,\"rgb(223,47,67)\"],[0.6274509803921569,\"rgb(236,76,61)\"],[0.6901960784313725,\"rgb(242,107,73)\"],[0.7529411764705882,\"rgb(244,135,95)\"],[0.8156862745098039,\"rgb(245,162,122)\"],[0.8784313725490196,\"rgb(246,188,153)\"],[0.9411764705882353,\"rgb(247,212,187)\"],[1.0,\"rgb(250,234,220)\"]],\"type\":\"histogram2dcontour\"}],\"mesh3d\":[{\"colorbar\":{\"outlinewidth\":0,\"tickcolor\":\"rgb(36,36,36)\",\"ticklen\":8,\"ticks\":\"outside\",\"tickwidth\":2},\"type\":\"mesh3d\"}],\"parcoords\":[{\"line\":{\"colorbar\":{\"outlinewidth\":0,\"tickcolor\":\"rgb(36,36,36)\",\"ticklen\":8,\"ticks\":\"outside\",\"tickwidth\":2}},\"type\":\"parcoords\"}],\"pie\":[{\"automargin\":true,\"type\":\"pie\"}],\"scatter\":[{\"marker\":{\"colorbar\":{\"outlinewidth\":0,\"tickcolor\":\"rgb(36,36,36)\",\"ticklen\":8,\"ticks\":\"outside\",\"tickwidth\":2}},\"type\":\"scatter\"}],\"scatter3d\":[{\"line\":{\"colorbar\":{\"outlinewidth\":0,\"tickcolor\":\"rgb(36,36,36)\",\"ticklen\":8,\"ticks\":\"outside\",\"tickwidth\":2}},\"marker\":{\"colorbar\":{\"outlinewidth\":0,\"tickcolor\":\"rgb(36,36,36)\",\"ticklen\":8,\"ticks\":\"outside\",\"tickwidth\":2}},\"type\":\"scatter3d\"}],\"scattercarpet\":[{\"marker\":{\"colorbar\":{\"outlinewidth\":0,\"tickcolor\":\"rgb(36,36,36)\",\"ticklen\":8,\"ticks\":\"outside\",\"tickwidth\":2}},\"type\":\"scattercarpet\"}],\"scattergeo\":[{\"marker\":{\"colorbar\":{\"outlinewidth\":0,\"tickcolor\":\"rgb(36,36,36)\",\"ticklen\":8,\"ticks\":\"outside\",\"tickwidth\":2}},\"type\":\"scattergeo\"}],\"scattergl\":[{\"marker\":{\"colorbar\":{\"outlinewidth\":0,\"tickcolor\":\"rgb(36,36,36)\",\"ticklen\":8,\"ticks\":\"outside\",\"tickwidth\":2}},\"type\":\"scattergl\"}],\"scattermapbox\":[{\"marker\":{\"colorbar\":{\"outlinewidth\":0,\"tickcolor\":\"rgb(36,36,36)\",\"ticklen\":8,\"ticks\":\"outside\",\"tickwidth\":2}},\"type\":\"scattermapbox\"}],\"scatterpolar\":[{\"marker\":{\"colorbar\":{\"outlinewidth\":0,\"tickcolor\":\"rgb(36,36,36)\",\"ticklen\":8,\"ticks\":\"outside\",\"tickwidth\":2}},\"type\":\"scatterpolar\"}],\"scatterpolargl\":[{\"marker\":{\"colorbar\":{\"outlinewidth\":0,\"tickcolor\":\"rgb(36,36,36)\",\"ticklen\":8,\"ticks\":\"outside\",\"tickwidth\":2}},\"type\":\"scatterpolargl\"}],\"scatterternary\":[{\"marker\":{\"colorbar\":{\"outlinewidth\":0,\"tickcolor\":\"rgb(36,36,36)\",\"ticklen\":8,\"ticks\":\"outside\",\"tickwidth\":2}},\"type\":\"scatterternary\"}],\"surface\":[{\"colorbar\":{\"outlinewidth\":0,\"tickcolor\":\"rgb(36,36,36)\",\"ticklen\":8,\"ticks\":\"outside\",\"tickwidth\":2},\"colorscale\":[[0.0,\"rgb(2,4,25)\"],[0.06274509803921569,\"rgb(24,15,41)\"],[0.12549019607843137,\"rgb(47,23,57)\"],[0.18823529411764706,\"rgb(71,28,72)\"],[0.25098039215686274,\"rgb(97,30,82)\"],[0.3137254901960784,\"rgb(123,30,89)\"],[0.3764705882352941,\"rgb(150,27,91)\"],[0.4392156862745098,\"rgb(177,22,88)\"],[0.5019607843137255,\"rgb(203,26,79)\"],[0.5647058823529412,\"rgb(223,47,67)\"],[0.6274509803921569,\"rgb(236,76,61)\"],[0.6901960784313725,\"rgb(242,107,73)\"],[0.7529411764705882,\"rgb(244,135,95)\"],[0.8156862745098039,\"rgb(245,162,122)\"],[0.8784313725490196,\"rgb(246,188,153)\"],[0.9411764705882353,\"rgb(247,212,187)\"],[1.0,\"rgb(250,234,220)\"]],\"type\":\"surface\"}],\"table\":[{\"cells\":{\"fill\":{\"color\":\"rgb(231,231,240)\"},\"line\":{\"color\":\"white\"}},\"header\":{\"fill\":{\"color\":\"rgb(183,183,191)\"},\"line\":{\"color\":\"white\"}},\"type\":\"table\"}]},\"layout\":{\"annotationdefaults\":{\"arrowcolor\":\"rgb(67,103,167)\"},\"autotypenumbers\":\"strict\",\"coloraxis\":{\"colorbar\":{\"outlinewidth\":0,\"tickcolor\":\"rgb(36,36,36)\",\"ticklen\":8,\"ticks\":\"outside\",\"tickwidth\":2}},\"colorscale\":{\"sequential\":[[0.0,\"rgb(2,4,25)\"],[0.06274509803921569,\"rgb(24,15,41)\"],[0.12549019607843137,\"rgb(47,23,57)\"],[0.18823529411764706,\"rgb(71,28,72)\"],[0.25098039215686274,\"rgb(97,30,82)\"],[0.3137254901960784,\"rgb(123,30,89)\"],[0.3764705882352941,\"rgb(150,27,91)\"],[0.4392156862745098,\"rgb(177,22,88)\"],[0.5019607843137255,\"rgb(203,26,79)\"],[0.5647058823529412,\"rgb(223,47,67)\"],[0.6274509803921569,\"rgb(236,76,61)\"],[0.6901960784313725,\"rgb(242,107,73)\"],[0.7529411764705882,\"rgb(244,135,95)\"],[0.8156862745098039,\"rgb(245,162,122)\"],[0.8784313725490196,\"rgb(246,188,153)\"],[0.9411764705882353,\"rgb(247,212,187)\"],[1.0,\"rgb(250,234,220)\"]],\"sequentialminus\":[[0.0,\"rgb(2,4,25)\"],[0.06274509803921569,\"rgb(24,15,41)\"],[0.12549019607843137,\"rgb(47,23,57)\"],[0.18823529411764706,\"rgb(71,28,72)\"],[0.25098039215686274,\"rgb(97,30,82)\"],[0.3137254901960784,\"rgb(123,30,89)\"],[0.3764705882352941,\"rgb(150,27,91)\"],[0.4392156862745098,\"rgb(177,22,88)\"],[0.5019607843137255,\"rgb(203,26,79)\"],[0.5647058823529412,\"rgb(223,47,67)\"],[0.6274509803921569,\"rgb(236,76,61)\"],[0.6901960784313725,\"rgb(242,107,73)\"],[0.7529411764705882,\"rgb(244,135,95)\"],[0.8156862745098039,\"rgb(245,162,122)\"],[0.8784313725490196,\"rgb(246,188,153)\"],[0.9411764705882353,\"rgb(247,212,187)\"],[1.0,\"rgb(250,234,220)\"]]},\"colorway\":[\"rgb(76,114,176)\",\"rgb(221,132,82)\",\"rgb(85,168,104)\",\"rgb(196,78,82)\",\"rgb(129,114,179)\",\"rgb(147,120,96)\",\"rgb(218,139,195)\",\"rgb(140,140,140)\",\"rgb(204,185,116)\",\"rgb(100,181,205)\"],\"font\":{\"color\":\"rgb(36,36,36)\"},\"geo\":{\"bgcolor\":\"white\",\"lakecolor\":\"white\",\"landcolor\":\"rgb(234,234,242)\",\"showlakes\":true,\"showland\":true,\"subunitcolor\":\"white\"},\"hoverlabel\":{\"align\":\"left\"},\"hovermode\":\"closest\",\"paper_bgcolor\":\"white\",\"plot_bgcolor\":\"rgb(234,234,242)\",\"polar\":{\"angularaxis\":{\"gridcolor\":\"white\",\"linecolor\":\"white\",\"showgrid\":true,\"ticks\":\"\"},\"bgcolor\":\"rgb(234,234,242)\",\"radialaxis\":{\"gridcolor\":\"white\",\"linecolor\":\"white\",\"showgrid\":true,\"ticks\":\"\"}},\"scene\":{\"xaxis\":{\"backgroundcolor\":\"rgb(234,234,242)\",\"gridcolor\":\"white\",\"gridwidth\":2,\"linecolor\":\"white\",\"showbackground\":true,\"showgrid\":true,\"ticks\":\"\",\"zerolinecolor\":\"white\"},\"yaxis\":{\"backgroundcolor\":\"rgb(234,234,242)\",\"gridcolor\":\"white\",\"gridwidth\":2,\"linecolor\":\"white\",\"showbackground\":true,\"showgrid\":true,\"ticks\":\"\",\"zerolinecolor\":\"white\"},\"zaxis\":{\"backgroundcolor\":\"rgb(234,234,242)\",\"gridcolor\":\"white\",\"gridwidth\":2,\"linecolor\":\"white\",\"showbackground\":true,\"showgrid\":true,\"ticks\":\"\",\"zerolinecolor\":\"white\"}},\"shapedefaults\":{\"fillcolor\":\"rgb(67,103,167)\",\"line\":{\"width\":0},\"opacity\":0.5},\"ternary\":{\"aaxis\":{\"gridcolor\":\"white\",\"linecolor\":\"white\",\"showgrid\":true,\"ticks\":\"\"},\"baxis\":{\"gridcolor\":\"white\",\"linecolor\":\"white\",\"showgrid\":true,\"ticks\":\"\"},\"bgcolor\":\"rgb(234,234,242)\",\"caxis\":{\"gridcolor\":\"white\",\"linecolor\":\"white\",\"showgrid\":true,\"ticks\":\"\"}},\"xaxis\":{\"automargin\":true,\"gridcolor\":\"white\",\"linecolor\":\"white\",\"showgrid\":true,\"ticks\":\"\",\"title\":{\"standoff\":15},\"zerolinecolor\":\"white\"},\"yaxis\":{\"automargin\":true,\"gridcolor\":\"white\",\"linecolor\":\"white\",\"showgrid\":true,\"ticks\":\"\",\"title\":{\"standoff\":15},\"zerolinecolor\":\"white\"}}},\"xaxis\":{\"anchor\":\"y\",\"categoryarray\":[\"lymphnode_abdomen\",\"other_thorax\",\"lymphnode_thorax\",\"other_abdomen\",\"liver\",\"lung\",\"bones_thorax\",\"bones_abdomen\",\"lymphnode_lowerlimb\",\"bones_lowerlimb\",\"other_lowerlimb\",\"spleen\",\"kidney\"],\"categoryorder\":\"array\",\"domain\":[0.0,1.0],\"title\":{\"text\":\"Assigned organ\"}},\"yaxis\":{\"anchor\":\"x\",\"domain\":[0.0,1.0],\"title\":{\"text\":\"Lesions\"}}},                        {\"responsive\": true}                    ).then(function(){\n                            \nvar gd = document.getElementById('2ff65965-3266-42d5-ad1d-1d46aeb8a6df');\nvar x = new MutationObserver(function (mutations, observer) {{\n        var display = window.getComputedStyle(gd).display;\n        if (!display || display === 'none') {{\n            console.log([gd, 'removed!']);\n            Plotly.purge(gd);\n            observer.disconnect();\n        }}\n}});\n\n// Listen for the removal of the full notebook cells\nvar notebookContainer = gd.closest('#notebook-container');\nif (notebookContainer) {{\n    x.observe(notebookContainer, {childList: true});\n}}\n\n// Listen for the clearing of the current output cell\nvar outputEl = gd.closest('.output');\nif (outputEl) {{\n    x.observe(outputEl, {childList: true});\n}}\n\n                        })                };                            </script>        </div>\n</body>\n</html>"
     },
     "metadata": {},
     "output_type": "display_data"
    }
   ],
   "execution_count": null
  },
  {
   "cell_type": "code",
   "metadata": {
    "cell_id": "00009-2f7e7eea-94ef-4df9-aca0-480e7a3ded69",
    "deepnote_app_coordinates": {
     "h": 5,
     "w": 12,
     "x": 0,
     "y": 0
    },
    "deepnote_app_is_code_hidden": true,
    "deepnote_to_be_reexecuted": false,
    "execution_millis": 103,
    "execution_start": 1633016915731,
    "source_hash": "ae27c2da",
    "tags": [],
    "deepnote_cell_type": "code"
   },
   "source": "avg_lesion_vol = lesions.groupby(['gpcr_id', 'study_phase', 'pars_classification_petct']) \\\n    .vol_ccm.mean().to_frame('vol_ccm').reset_index() \\\n\npx.box(avg_lesion_vol, x='study_phase', y='vol_ccm', color='pars_classification_petct', \n       labels={**lesions_labels, 'vol_ccm': 'Average lesion volume (ccm)'}) \\\n    .update_layout(legend=top_h_legend)",
   "outputs": [
    {
     "data": {
      "text/html": "<html>\n<head><meta charset=\"utf-8\" /></head>\n<body>\n    <div>            <script src=\"https://cdnjs.cloudflare.com/ajax/libs/mathjax/2.7.5/MathJax.js?config=TeX-AMS-MML_SVG\"></script><script type=\"text/javascript\">if (window.MathJax) {MathJax.Hub.Config({SVG: {font: \"STIX-Web\"}});}</script>                <script type=\"text/javascript\">window.PlotlyConfig = {MathJaxConfig: 'local'};</script>\n        <script src=\"https://cdn.plot.ly/plotly-2.4.2.min.js\"></script>                <div id=\"f8a73759-9e15-440d-8fcf-8beaea7b412b\" class=\"plotly-graph-div\" style=\"height:525px; width:100%;\"></div>            <script type=\"text/javascript\">                                    window.PLOTLYENV=window.PLOTLYENV || {};                                    if (document.getElementById(\"f8a73759-9e15-440d-8fcf-8beaea7b412b\")) {                    Plotly.newPlot(                        \"f8a73759-9e15-440d-8fcf-8beaea7b412b\",                        [{\"alignmentgroup\":\"True\",\"hovertemplate\":\"PARS lesion classification=suspicious<br>Study phase (relative to treatment start)=%{x}<br>Average lesion volume (ccm)=%{y}<extra></extra>\",\"legendgroup\":\"suspicious\",\"marker\":{\"color\":\"rgb(76,114,176)\"},\"name\":\"suspicious\",\"notched\":false,\"offsetgroup\":\"suspicious\",\"orientation\":\"v\",\"showlegend\":true,\"type\":\"box\",\"x\":[-1,1,-2,-1,1,2,3,4,5,6,7,1,2,4,5,7,8,9,10,-1,1,2,3,4,5,6,7,8,-1,1,2,3,4,1,1,3,4,5,1,2,4,5,7,8,9,10,11,12,13,14,1,1,2,3,4,5,1,2,-1,1,2,-1,1,2,-1,-1,1,2,1,2,3,5,6,1,2,3,-1,1,-1,1,-1,1,1,2,3,4,5,6,7,8,9,1,3,4,5,6,7,8,9,10,-2,1,2,3,1,2,5,-1,1,2,3,4,5,6,7,8,9,1,1,-1,1,2,3,-1,1,-1,1,2,3,4,5,-1,1,3,-1,1,1,2,3,4,5,6,7,-1,1,2,3,4,5,6,-2,-1,1,4,5,-1,1,2,1,-2,-1,1,1,-1,1,-1,1,4,-1,1,2,-1,4,5,10,1,2,1,3,-1,1,4,5,6,7,8,6,1,2,3,-1,1,2,-1,1,2,3,-1,1,2,1,2,6,-1,1,-2,-1,5,1,-1,-1,1,2,1,2,3,4,5,4,-1,1,2,3,4,-2,-1,1,2,3,5,1,-1,1,2,3,4,-1,-1,1,2,-1,1,2,3,4,-1,1,2,3,-1,1,3,4,5,1,1,-1,1,-1,1,2,3,1,2,3,-1,1,-1,1,-1,1,1,1,2,3,-1,1,-2,-1,3,1,3,1,2,3,-2,-1,1,2,3,4,-2,-1,1,2,3,4,5,6,-1,1,2,3,4,5,-1,1,2,-1,1,-1,2,1,2,3,1,2,3,5,6,-2,-1,1,2,-1,-1,1,2,3,-1,-1,1,-1,1,2,-1,-1,1,2,3,-2,-1,-1,1,-1,1,-1,1,-1,-1,1,3,1,2,-2,-1,1,1,3,-1,1,2,3,-1,1,2],\"x0\":\" \",\"xaxis\":\"x\",\"y\":[2.5985714285714288,4.0633333333333335,1.6150000000000002,3.346,3.8416666666666663,6.968000000000001,3.115,1.435,4.16,1.42,0.66,0.88,9.006666666666666,9.76,8.88,6.733333333333333,18.360000000000003,16.785,22.069999999999997,11.553999999999998,5.6175,2.8866666666666667,67.07749999999999,1.1300000000000001,6.91,1.06,1.2033333333333334,5.085,2.3687500000000004,3.4143478260869564,3.2286363636363635,2.59,2.2249999999999996,6.25,4.0793333333333335,6.343333333333333,15.99,6.0,3.3777777777777778,13.228,4.292,8.83,0.81,1.25,1.08,0.86,18.14,1.78,35.414,1.66,1.55,1.25,1.64,39.010000000000005,0.54,6.307500000000001,2.1613333333333338,1.8242857142857136,1.9466666666666665,4.429090909090909,9.84,3.44,2.08,8.385416666666666,51.989999999999995,2.9499999999999997,6.7,3.7894117647058825,10.370000000000001,2.9964,26.361428571428572,25.195,4.337999999999999,2.8633333333333333,4.202,10.51,13.284285714285716,2.2078571428571427,15.391333333333332,2.00875,6.498333333333332,6.123076923076923,9.36,3.9522222222222214,3.186666666666667,47.526666666666664,18.674,47.8,26.646000000000004,3.91,5.7425,4.331428571428571,4.709999999999999,7.52,4.902500000000001,4.3,3.121666666666666,4.498333333333334,11.823333333333332,2.3066666666666666,1.8577777777777778,2.0905882352941174,2.0135,3.35125,4.74,11.745000000000001,2.385,3.23625,10.314285714285715,2.8400000000000003,2.665,22.695,2.063333333333333,7.896666666666666,1.8475000000000001,3.3425,12.910434782608698,15.57,3.685,19.634444444444444,7.013333333333333,29.61,1.71,7.531666666666667,2.530625,6.202857142857143,12.74625,2.8766666666666665,17.95285714285714,0.8200000000000001,11.5525,1.405,2.55,1.83,19.046666666666667,4.028928571428572,8.971111111111112,22.919999999999998,7.26,7.24,10.36,2.4075,2.075,2.5424999999999995,3.9736363636363636,2.2206382978723407,4.165999999999999,2.5385714285714287,3.0898214285714287,5.068545454545453,5.035,5.02,11.4275,1.77,0.51,3.8000000000000003,4.487777777777778,4.84,0.8025,5.89,17.616000000000003,6.015,7.305454545454545,10.651,9.487857142857143,6.066470588235294,10.632857142857143,2.42,3.0526086956521743,0.87,9.9,1.555,2.22,114.79,130.71,2.7200000000000006,10.401875,3.35,6.51,13.18,12.98,1.81,2.76,0.95,3.6,1.4166666666666667,7.77,3.716428571428572,3.6709090909090913,12.79,10.452500000000002,8.895714285714286,5.57,3.973333333333333,6.9,11.7,14.6825,1.37,10.577,19.13,6.19,0.9,0.88,1.97375,2.113409090909091,2.27,3.79,2.405,6.199999999999999,39.43,2.5137500000000004,2.4977777777777774,1.2066666666666668,4.765,1.2033333333333334,5.153333333333333,1.8733333333333333,2.514,2.2666666666666666,2.051176470588235,2.8666666666666667,2.6975000000000002,6.593333333333334,0.6633333333333332,4.401818181818181,0.975,1.69,3.8850000000000002,25.207500000000003,4.901999999999999,4.786,1.0571428571428572,1.7400000000000002,2.59,2.705,13.795,4.735714285714286,5.732727272727273,2.7099999999999995,6.745555555555556,0.69,3.14,1.1685714285714286,1.685,1.195,2.622926829268293,1.9975,1.8150000000000002,45.22,2.54,1.34,21.03,3.3899999999999997,8.875,4.068076923076923,6.858333333333333,2.2,11.322,6.072916666666667,167.13,129.285,7.845,7.82,1.0733333333333333,3.2369999999999997,10.986666666666665,21.867142857142856,5.172222222222222,9.464242424242423,51.99166666666665,2.37,19.178888888888892,6.6674999999999995,4.96,12.960999999999999,7.731525423728814,3.57,8.63,2.74,9.425,1.575,3.4,7.295,4.8999999999999995,6.04,12.184444444444445,20.497692307692304,2.67375,2.7533333333333325,3.7913333333333328,2.177142857142857,5.635,8.3925,12.061000000000003,1.9866666666666666,8.623750000000001,5.298181818181819,5.175,3.198823529411765,2.4877777777777776,3.4175000000000004,2.25,63.7525,2.775,2.146,22.412,4.154285714285715,3.48625,12.713333333333333,10.084,30.566666666666663,132.56,0.64,4.29,5.355,2.8755555555555556,1.1183333333333334,1.32,2.3000000000000003,2.0,3.66,6.073333333333333,11.076666666666668,13.833333333333334,3.4975,2.313333333333333,130.60999999999999,2.810625,6.096666666666666,9.434999999999999,3.958918918918918,9.232962962962963,3.3,5.1775,2.9311111111111114,2.2254494382022485,26.26181818181818,7.775757575757576,8.145000000000001,4.043846153846155,1.415,1.2775,9.9,0.54,0.51,1.7075,2.7221212121212126,3.9981147540983613,8.636666666666667,1.4000000000000001,6.299333333333333,132.83,14.566666666666668,1.1466666666666667,9.46,0.86,22.432857142857138,3.1999999999999993,14.645555555555555,2.0723529411764705,3.9899999999999998,37.01599999999999,1.15,3.03,3.7657142857142865,2.5245454545454544],\"y0\":\" \",\"yaxis\":\"y\"}],                        {\"boxmode\":\"group\",\"legend\":{\"orientation\":\"h\",\"title\":{\"text\":\"PARS lesion classification\"},\"tracegroupgap\":0,\"y\":1.02,\"yanchor\":\"bottom\"},\"margin\":{\"t\":60},\"template\":{\"data\":{\"bar\":[{\"error_x\":{\"color\":\"rgb(36,36,36)\"},\"error_y\":{\"color\":\"rgb(36,36,36)\"},\"marker\":{\"line\":{\"color\":\"rgb(234,234,242)\",\"width\":0.5},\"pattern\":{\"fillmode\":\"overlay\",\"size\":10,\"solidity\":0.2}},\"type\":\"bar\"}],\"barpolar\":[{\"marker\":{\"line\":{\"color\":\"rgb(234,234,242)\",\"width\":0.5},\"pattern\":{\"fillmode\":\"overlay\",\"size\":10,\"solidity\":0.2}},\"type\":\"barpolar\"}],\"carpet\":[{\"aaxis\":{\"endlinecolor\":\"rgb(36,36,36)\",\"gridcolor\":\"white\",\"linecolor\":\"white\",\"minorgridcolor\":\"white\",\"startlinecolor\":\"rgb(36,36,36)\"},\"baxis\":{\"endlinecolor\":\"rgb(36,36,36)\",\"gridcolor\":\"white\",\"linecolor\":\"white\",\"minorgridcolor\":\"white\",\"startlinecolor\":\"rgb(36,36,36)\"},\"type\":\"carpet\"}],\"choropleth\":[{\"colorbar\":{\"outlinewidth\":0,\"tickcolor\":\"rgb(36,36,36)\",\"ticklen\":8,\"ticks\":\"outside\",\"tickwidth\":2},\"type\":\"choropleth\"}],\"contour\":[{\"colorbar\":{\"outlinewidth\":0,\"tickcolor\":\"rgb(36,36,36)\",\"ticklen\":8,\"ticks\":\"outside\",\"tickwidth\":2},\"colorscale\":[[0.0,\"rgb(2,4,25)\"],[0.06274509803921569,\"rgb(24,15,41)\"],[0.12549019607843137,\"rgb(47,23,57)\"],[0.18823529411764706,\"rgb(71,28,72)\"],[0.25098039215686274,\"rgb(97,30,82)\"],[0.3137254901960784,\"rgb(123,30,89)\"],[0.3764705882352941,\"rgb(150,27,91)\"],[0.4392156862745098,\"rgb(177,22,88)\"],[0.5019607843137255,\"rgb(203,26,79)\"],[0.5647058823529412,\"rgb(223,47,67)\"],[0.6274509803921569,\"rgb(236,76,61)\"],[0.6901960784313725,\"rgb(242,107,73)\"],[0.7529411764705882,\"rgb(244,135,95)\"],[0.8156862745098039,\"rgb(245,162,122)\"],[0.8784313725490196,\"rgb(246,188,153)\"],[0.9411764705882353,\"rgb(247,212,187)\"],[1.0,\"rgb(250,234,220)\"]],\"type\":\"contour\"}],\"contourcarpet\":[{\"colorbar\":{\"outlinewidth\":0,\"tickcolor\":\"rgb(36,36,36)\",\"ticklen\":8,\"ticks\":\"outside\",\"tickwidth\":2},\"type\":\"contourcarpet\"}],\"heatmap\":[{\"colorbar\":{\"outlinewidth\":0,\"tickcolor\":\"rgb(36,36,36)\",\"ticklen\":8,\"ticks\":\"outside\",\"tickwidth\":2},\"colorscale\":[[0.0,\"rgb(2,4,25)\"],[0.06274509803921569,\"rgb(24,15,41)\"],[0.12549019607843137,\"rgb(47,23,57)\"],[0.18823529411764706,\"rgb(71,28,72)\"],[0.25098039215686274,\"rgb(97,30,82)\"],[0.3137254901960784,\"rgb(123,30,89)\"],[0.3764705882352941,\"rgb(150,27,91)\"],[0.4392156862745098,\"rgb(177,22,88)\"],[0.5019607843137255,\"rgb(203,26,79)\"],[0.5647058823529412,\"rgb(223,47,67)\"],[0.6274509803921569,\"rgb(236,76,61)\"],[0.6901960784313725,\"rgb(242,107,73)\"],[0.7529411764705882,\"rgb(244,135,95)\"],[0.8156862745098039,\"rgb(245,162,122)\"],[0.8784313725490196,\"rgb(246,188,153)\"],[0.9411764705882353,\"rgb(247,212,187)\"],[1.0,\"rgb(250,234,220)\"]],\"type\":\"heatmap\"}],\"heatmapgl\":[{\"colorbar\":{\"outlinewidth\":0,\"tickcolor\":\"rgb(36,36,36)\",\"ticklen\":8,\"ticks\":\"outside\",\"tickwidth\":2},\"colorscale\":[[0.0,\"rgb(2,4,25)\"],[0.06274509803921569,\"rgb(24,15,41)\"],[0.12549019607843137,\"rgb(47,23,57)\"],[0.18823529411764706,\"rgb(71,28,72)\"],[0.25098039215686274,\"rgb(97,30,82)\"],[0.3137254901960784,\"rgb(123,30,89)\"],[0.3764705882352941,\"rgb(150,27,91)\"],[0.4392156862745098,\"rgb(177,22,88)\"],[0.5019607843137255,\"rgb(203,26,79)\"],[0.5647058823529412,\"rgb(223,47,67)\"],[0.6274509803921569,\"rgb(236,76,61)\"],[0.6901960784313725,\"rgb(242,107,73)\"],[0.7529411764705882,\"rgb(244,135,95)\"],[0.8156862745098039,\"rgb(245,162,122)\"],[0.8784313725490196,\"rgb(246,188,153)\"],[0.9411764705882353,\"rgb(247,212,187)\"],[1.0,\"rgb(250,234,220)\"]],\"type\":\"heatmapgl\"}],\"histogram\":[{\"marker\":{\"pattern\":{\"fillmode\":\"overlay\",\"size\":10,\"solidity\":0.2}},\"type\":\"histogram\"}],\"histogram2d\":[{\"colorbar\":{\"outlinewidth\":0,\"tickcolor\":\"rgb(36,36,36)\",\"ticklen\":8,\"ticks\":\"outside\",\"tickwidth\":2},\"colorscale\":[[0.0,\"rgb(2,4,25)\"],[0.06274509803921569,\"rgb(24,15,41)\"],[0.12549019607843137,\"rgb(47,23,57)\"],[0.18823529411764706,\"rgb(71,28,72)\"],[0.25098039215686274,\"rgb(97,30,82)\"],[0.3137254901960784,\"rgb(123,30,89)\"],[0.3764705882352941,\"rgb(150,27,91)\"],[0.4392156862745098,\"rgb(177,22,88)\"],[0.5019607843137255,\"rgb(203,26,79)\"],[0.5647058823529412,\"rgb(223,47,67)\"],[0.6274509803921569,\"rgb(236,76,61)\"],[0.6901960784313725,\"rgb(242,107,73)\"],[0.7529411764705882,\"rgb(244,135,95)\"],[0.8156862745098039,\"rgb(245,162,122)\"],[0.8784313725490196,\"rgb(246,188,153)\"],[0.9411764705882353,\"rgb(247,212,187)\"],[1.0,\"rgb(250,234,220)\"]],\"type\":\"histogram2d\"}],\"histogram2dcontour\":[{\"colorbar\":{\"outlinewidth\":0,\"tickcolor\":\"rgb(36,36,36)\",\"ticklen\":8,\"ticks\":\"outside\",\"tickwidth\":2},\"colorscale\":[[0.0,\"rgb(2,4,25)\"],[0.06274509803921569,\"rgb(24,15,41)\"],[0.12549019607843137,\"rgb(47,23,57)\"],[0.18823529411764706,\"rgb(71,28,72)\"],[0.25098039215686274,\"rgb(97,30,82)\"],[0.3137254901960784,\"rgb(123,30,89)\"],[0.3764705882352941,\"rgb(150,27,91)\"],[0.4392156862745098,\"rgb(177,22,88)\"],[0.5019607843137255,\"rgb(203,26,79)\"],[0.5647058823529412,\"rgb(223,47,67)\"],[0.6274509803921569,\"rgb(236,76,61)\"],[0.6901960784313725,\"rgb(242,107,73)\"],[0.7529411764705882,\"rgb(244,135,95)\"],[0.8156862745098039,\"rgb(245,162,122)\"],[0.8784313725490196,\"rgb(246,188,153)\"],[0.9411764705882353,\"rgb(247,212,187)\"],[1.0,\"rgb(250,234,220)\"]],\"type\":\"histogram2dcontour\"}],\"mesh3d\":[{\"colorbar\":{\"outlinewidth\":0,\"tickcolor\":\"rgb(36,36,36)\",\"ticklen\":8,\"ticks\":\"outside\",\"tickwidth\":2},\"type\":\"mesh3d\"}],\"parcoords\":[{\"line\":{\"colorbar\":{\"outlinewidth\":0,\"tickcolor\":\"rgb(36,36,36)\",\"ticklen\":8,\"ticks\":\"outside\",\"tickwidth\":2}},\"type\":\"parcoords\"}],\"pie\":[{\"automargin\":true,\"type\":\"pie\"}],\"scatter\":[{\"marker\":{\"colorbar\":{\"outlinewidth\":0,\"tickcolor\":\"rgb(36,36,36)\",\"ticklen\":8,\"ticks\":\"outside\",\"tickwidth\":2}},\"type\":\"scatter\"}],\"scatter3d\":[{\"line\":{\"colorbar\":{\"outlinewidth\":0,\"tickcolor\":\"rgb(36,36,36)\",\"ticklen\":8,\"ticks\":\"outside\",\"tickwidth\":2}},\"marker\":{\"colorbar\":{\"outlinewidth\":0,\"tickcolor\":\"rgb(36,36,36)\",\"ticklen\":8,\"ticks\":\"outside\",\"tickwidth\":2}},\"type\":\"scatter3d\"}],\"scattercarpet\":[{\"marker\":{\"colorbar\":{\"outlinewidth\":0,\"tickcolor\":\"rgb(36,36,36)\",\"ticklen\":8,\"ticks\":\"outside\",\"tickwidth\":2}},\"type\":\"scattercarpet\"}],\"scattergeo\":[{\"marker\":{\"colorbar\":{\"outlinewidth\":0,\"tickcolor\":\"rgb(36,36,36)\",\"ticklen\":8,\"ticks\":\"outside\",\"tickwidth\":2}},\"type\":\"scattergeo\"}],\"scattergl\":[{\"marker\":{\"colorbar\":{\"outlinewidth\":0,\"tickcolor\":\"rgb(36,36,36)\",\"ticklen\":8,\"ticks\":\"outside\",\"tickwidth\":2}},\"type\":\"scattergl\"}],\"scattermapbox\":[{\"marker\":{\"colorbar\":{\"outlinewidth\":0,\"tickcolor\":\"rgb(36,36,36)\",\"ticklen\":8,\"ticks\":\"outside\",\"tickwidth\":2}},\"type\":\"scattermapbox\"}],\"scatterpolar\":[{\"marker\":{\"colorbar\":{\"outlinewidth\":0,\"tickcolor\":\"rgb(36,36,36)\",\"ticklen\":8,\"ticks\":\"outside\",\"tickwidth\":2}},\"type\":\"scatterpolar\"}],\"scatterpolargl\":[{\"marker\":{\"colorbar\":{\"outlinewidth\":0,\"tickcolor\":\"rgb(36,36,36)\",\"ticklen\":8,\"ticks\":\"outside\",\"tickwidth\":2}},\"type\":\"scatterpolargl\"}],\"scatterternary\":[{\"marker\":{\"colorbar\":{\"outlinewidth\":0,\"tickcolor\":\"rgb(36,36,36)\",\"ticklen\":8,\"ticks\":\"outside\",\"tickwidth\":2}},\"type\":\"scatterternary\"}],\"surface\":[{\"colorbar\":{\"outlinewidth\":0,\"tickcolor\":\"rgb(36,36,36)\",\"ticklen\":8,\"ticks\":\"outside\",\"tickwidth\":2},\"colorscale\":[[0.0,\"rgb(2,4,25)\"],[0.06274509803921569,\"rgb(24,15,41)\"],[0.12549019607843137,\"rgb(47,23,57)\"],[0.18823529411764706,\"rgb(71,28,72)\"],[0.25098039215686274,\"rgb(97,30,82)\"],[0.3137254901960784,\"rgb(123,30,89)\"],[0.3764705882352941,\"rgb(150,27,91)\"],[0.4392156862745098,\"rgb(177,22,88)\"],[0.5019607843137255,\"rgb(203,26,79)\"],[0.5647058823529412,\"rgb(223,47,67)\"],[0.6274509803921569,\"rgb(236,76,61)\"],[0.6901960784313725,\"rgb(242,107,73)\"],[0.7529411764705882,\"rgb(244,135,95)\"],[0.8156862745098039,\"rgb(245,162,122)\"],[0.8784313725490196,\"rgb(246,188,153)\"],[0.9411764705882353,\"rgb(247,212,187)\"],[1.0,\"rgb(250,234,220)\"]],\"type\":\"surface\"}],\"table\":[{\"cells\":{\"fill\":{\"color\":\"rgb(231,231,240)\"},\"line\":{\"color\":\"white\"}},\"header\":{\"fill\":{\"color\":\"rgb(183,183,191)\"},\"line\":{\"color\":\"white\"}},\"type\":\"table\"}]},\"layout\":{\"annotationdefaults\":{\"arrowcolor\":\"rgb(67,103,167)\"},\"autotypenumbers\":\"strict\",\"coloraxis\":{\"colorbar\":{\"outlinewidth\":0,\"tickcolor\":\"rgb(36,36,36)\",\"ticklen\":8,\"ticks\":\"outside\",\"tickwidth\":2}},\"colorscale\":{\"sequential\":[[0.0,\"rgb(2,4,25)\"],[0.06274509803921569,\"rgb(24,15,41)\"],[0.12549019607843137,\"rgb(47,23,57)\"],[0.18823529411764706,\"rgb(71,28,72)\"],[0.25098039215686274,\"rgb(97,30,82)\"],[0.3137254901960784,\"rgb(123,30,89)\"],[0.3764705882352941,\"rgb(150,27,91)\"],[0.4392156862745098,\"rgb(177,22,88)\"],[0.5019607843137255,\"rgb(203,26,79)\"],[0.5647058823529412,\"rgb(223,47,67)\"],[0.6274509803921569,\"rgb(236,76,61)\"],[0.6901960784313725,\"rgb(242,107,73)\"],[0.7529411764705882,\"rgb(244,135,95)\"],[0.8156862745098039,\"rgb(245,162,122)\"],[0.8784313725490196,\"rgb(246,188,153)\"],[0.9411764705882353,\"rgb(247,212,187)\"],[1.0,\"rgb(250,234,220)\"]],\"sequentialminus\":[[0.0,\"rgb(2,4,25)\"],[0.06274509803921569,\"rgb(24,15,41)\"],[0.12549019607843137,\"rgb(47,23,57)\"],[0.18823529411764706,\"rgb(71,28,72)\"],[0.25098039215686274,\"rgb(97,30,82)\"],[0.3137254901960784,\"rgb(123,30,89)\"],[0.3764705882352941,\"rgb(150,27,91)\"],[0.4392156862745098,\"rgb(177,22,88)\"],[0.5019607843137255,\"rgb(203,26,79)\"],[0.5647058823529412,\"rgb(223,47,67)\"],[0.6274509803921569,\"rgb(236,76,61)\"],[0.6901960784313725,\"rgb(242,107,73)\"],[0.7529411764705882,\"rgb(244,135,95)\"],[0.8156862745098039,\"rgb(245,162,122)\"],[0.8784313725490196,\"rgb(246,188,153)\"],[0.9411764705882353,\"rgb(247,212,187)\"],[1.0,\"rgb(250,234,220)\"]]},\"colorway\":[\"rgb(76,114,176)\",\"rgb(221,132,82)\",\"rgb(85,168,104)\",\"rgb(196,78,82)\",\"rgb(129,114,179)\",\"rgb(147,120,96)\",\"rgb(218,139,195)\",\"rgb(140,140,140)\",\"rgb(204,185,116)\",\"rgb(100,181,205)\"],\"font\":{\"color\":\"rgb(36,36,36)\"},\"geo\":{\"bgcolor\":\"white\",\"lakecolor\":\"white\",\"landcolor\":\"rgb(234,234,242)\",\"showlakes\":true,\"showland\":true,\"subunitcolor\":\"white\"},\"hoverlabel\":{\"align\":\"left\"},\"hovermode\":\"closest\",\"paper_bgcolor\":\"white\",\"plot_bgcolor\":\"rgb(234,234,242)\",\"polar\":{\"angularaxis\":{\"gridcolor\":\"white\",\"linecolor\":\"white\",\"showgrid\":true,\"ticks\":\"\"},\"bgcolor\":\"rgb(234,234,242)\",\"radialaxis\":{\"gridcolor\":\"white\",\"linecolor\":\"white\",\"showgrid\":true,\"ticks\":\"\"}},\"scene\":{\"xaxis\":{\"backgroundcolor\":\"rgb(234,234,242)\",\"gridcolor\":\"white\",\"gridwidth\":2,\"linecolor\":\"white\",\"showbackground\":true,\"showgrid\":true,\"ticks\":\"\",\"zerolinecolor\":\"white\"},\"yaxis\":{\"backgroundcolor\":\"rgb(234,234,242)\",\"gridcolor\":\"white\",\"gridwidth\":2,\"linecolor\":\"white\",\"showbackground\":true,\"showgrid\":true,\"ticks\":\"\",\"zerolinecolor\":\"white\"},\"zaxis\":{\"backgroundcolor\":\"rgb(234,234,242)\",\"gridcolor\":\"white\",\"gridwidth\":2,\"linecolor\":\"white\",\"showbackground\":true,\"showgrid\":true,\"ticks\":\"\",\"zerolinecolor\":\"white\"}},\"shapedefaults\":{\"fillcolor\":\"rgb(67,103,167)\",\"line\":{\"width\":0},\"opacity\":0.5},\"ternary\":{\"aaxis\":{\"gridcolor\":\"white\",\"linecolor\":\"white\",\"showgrid\":true,\"ticks\":\"\"},\"baxis\":{\"gridcolor\":\"white\",\"linecolor\":\"white\",\"showgrid\":true,\"ticks\":\"\"},\"bgcolor\":\"rgb(234,234,242)\",\"caxis\":{\"gridcolor\":\"white\",\"linecolor\":\"white\",\"showgrid\":true,\"ticks\":\"\"}},\"xaxis\":{\"automargin\":true,\"gridcolor\":\"white\",\"linecolor\":\"white\",\"showgrid\":true,\"ticks\":\"\",\"title\":{\"standoff\":15},\"zerolinecolor\":\"white\"},\"yaxis\":{\"automargin\":true,\"gridcolor\":\"white\",\"linecolor\":\"white\",\"showgrid\":true,\"ticks\":\"\",\"title\":{\"standoff\":15},\"zerolinecolor\":\"white\"}}},\"xaxis\":{\"anchor\":\"y\",\"domain\":[0.0,1.0],\"title\":{\"text\":\"Study phase (relative to treatment start)\"}},\"yaxis\":{\"anchor\":\"x\",\"domain\":[0.0,1.0],\"title\":{\"text\":\"Average lesion volume (ccm)\"}}},                        {\"responsive\": true}                    ).then(function(){\n                            \nvar gd = document.getElementById('f8a73759-9e15-440d-8fcf-8beaea7b412b');\nvar x = new MutationObserver(function (mutations, observer) {{\n        var display = window.getComputedStyle(gd).display;\n        if (!display || display === 'none') {{\n            console.log([gd, 'removed!']);\n            Plotly.purge(gd);\n            observer.disconnect();\n        }}\n}});\n\n// Listen for the removal of the full notebook cells\nvar notebookContainer = gd.closest('#notebook-container');\nif (notebookContainer) {{\n    x.observe(notebookContainer, {childList: true});\n}}\n\n// Listen for the clearing of the current output cell\nvar outputEl = gd.closest('.output');\nif (outputEl) {{\n    x.observe(outputEl, {childList: true});\n}}\n\n                        })                };                            </script>        </div>\n</body>\n</html>"
     },
     "metadata": {},
     "output_type": "display_data"
    }
   ],
   "execution_count": null
  },
  {
   "cell_type": "code",
   "metadata": {
    "cell_id": "00016-b46b1969-5dac-4f73-af91-290855530dc4",
    "deepnote_app_coordinates": {
     "h": 5,
     "w": 12,
     "x": 0,
     "y": 0
    },
    "deepnote_app_is_code_hidden": true,
    "deepnote_to_be_reexecuted": false,
    "execution_millis": 369,
    "execution_start": 1633017923270,
    "source_hash": "c92f6512",
    "tags": [],
    "deepnote_cell_type": "code"
   },
   "source": "location_hierarchy = ['pars_bodypart_petct', 'pars_region_petct', 'pars_subregion_petct', 'pars_classification_petct']\nlocations = lesions.groupby(location_hierarchy).size().to_frame('lesions').reset_index()\n\npx.sunburst(locations, path=location_hierarchy, values='lesions') \\\n    .update_layout(title='Sunburst chart of lesion location')",
   "outputs": [
    {
     "data": {
      "text/html": "<html>\n<head><meta charset=\"utf-8\" /></head>\n<body>\n    <div>            <script src=\"https://cdnjs.cloudflare.com/ajax/libs/mathjax/2.7.5/MathJax.js?config=TeX-AMS-MML_SVG\"></script><script type=\"text/javascript\">if (window.MathJax) {MathJax.Hub.Config({SVG: {font: \"STIX-Web\"}});}</script>                <script type=\"text/javascript\">window.PlotlyConfig = {MathJaxConfig: 'local'};</script>\n        <script src=\"https://cdn.plot.ly/plotly-2.4.2.min.js\"></script>                <div id=\"e0b31e81-c89c-42a6-9362-bcd4ff982309\" class=\"plotly-graph-div\" style=\"height:525px; width:100%;\"></div>            <script type=\"text/javascript\">                                    window.PLOTLYENV=window.PLOTLYENV || {};                                    if (document.getElementById(\"e0b31e81-c89c-42a6-9362-bcd4ff982309\")) {                    Plotly.newPlot(                        \"e0b31e81-c89c-42a6-9362-bcd4ff982309\",                        [{\"branchvalues\":\"total\",\"domain\":{\"x\":[0.0,1.0],\"y\":[0.0,1.0]},\"hovertemplate\":\"labels=%{label}<br>lesions=%{value}<br>parent=%{parent}<br>id=%{id}<extra></extra>\",\"ids\":[\"thorax/lymph nodes/IASLC station 1\",\"thorax/lymph nodes/IASLC station 10\",\"thorax/lymph nodes/IASLC station 11\",\"thorax/lymph nodes/IASLC station 2\",\"thorax/lymph nodes/IASLC station 3\",\"thorax/lymph nodes/IASLC station 4\",\"thorax/lymph nodes/IASLC station 5\",\"thorax/lymph nodes/IASLC station 6\",\"thorax/lymph nodes/IASLC station 7\",\"thorax/lymph nodes/IASLC station 8\",\"abdomen/colon/ascending colon\",\"thorax/heart/atrium\",\"thorax/lymph nodes/axillary\",\"abdomen/colon/caecum\",\"abdomen/stomach/cardia / fundus / body\",\"thorax/bones/clavicle\",\"abdomen/lymph nodes/coeliacal\",\"abdomen/colon/descending colon\",\"abdomen/small intestine/duodenum\",\"lower limb/bones/femur\",\"abdomen/lymph nodes/iliacal\",\"abdomen/lymph nodes/inguinal / femoral\",\"abdomen/small intestine/jejunum / ileum\",\"lower limb/muscles/lower leg group\",\"thorax/lung/lower lobe\",\"abdomen/lymph nodes/mesenterial\",\"thorax/lung/middle lobe\",\"abdomen/muscles/muscle group\",\"thorax/muscles/muscle group\",\"abdomen/adrenal gland/not specified\",\"abdomen/kidney/not specified\",\"abdomen/liver/not specified\",\"lower limb/lymph nodes/not specified\",\"thorax/oesophagus/not specified\",\"thorax/pleura/not specified\",\"abdomen/prostate/not specified\",\"abdomen/rectum/not specified\",\"abdomen/spleen/not specified\",\"abdomen/testis/not specified\",\"abdomen/ureter/not specified\",\"abdomen/lymph nodes/para-aortic\",\"abdomen/bones/pelvis\",\"abdomen/lymph nodes/peri-hepatic\",\"abdomen/lymph nodes/peri-splenic\",\"thorax/bones/ribs\",\"abdomen/bones/sacrum\",\"thorax/bones/scapula\",\"abdomen/colon/sigmoid colon\",\"abdomen/bones/spine\",\"thorax/bones/spine\",\"thorax/bones/sternum\",\"abdomen/colon/transverse colon\",\"lower limb/muscles/upper leg group\",\"thorax/lung/upper lobe\",\"thorax/heart/ventricle\",\"abdomen/adrenal gland\",\"abdomen/bones\",\"lower limb/bones\",\"thorax/bones\",\"abdomen/colon\",\"thorax/heart\",\"abdomen/kidney\",\"abdomen/liver\",\"thorax/lung\",\"abdomen/lymph nodes\",\"lower limb/lymph nodes\",\"thorax/lymph nodes\",\"abdomen/muscles\",\"lower limb/muscles\",\"thorax/muscles\",\"thorax/oesophagus\",\"thorax/pleura\",\"abdomen/prostate\",\"abdomen/rectum\",\"abdomen/small intestine\",\"abdomen/spleen\",\"abdomen/stomach\",\"abdomen/testis\",\"abdomen/ureter\",\"abdomen\",\"lower limb\",\"thorax\"],\"labels\":[\"IASLC station 1\",\"IASLC station 10\",\"IASLC station 11\",\"IASLC station 2\",\"IASLC station 3\",\"IASLC station 4\",\"IASLC station 5\",\"IASLC station 6\",\"IASLC station 7\",\"IASLC station 8\",\"ascending colon\",\"atrium\",\"axillary\",\"caecum\",\"cardia / fundus / body\",\"clavicle\",\"coeliacal\",\"descending colon\",\"duodenum\",\"femur\",\"iliacal\",\"inguinal / femoral\",\"jejunum / ileum\",\"lower leg group\",\"lower lobe\",\"mesenterial\",\"middle lobe\",\"muscle group\",\"muscle group\",\"not specified\",\"not specified\",\"not specified\",\"not specified\",\"not specified\",\"not specified\",\"not specified\",\"not specified\",\"not specified\",\"not specified\",\"not specified\",\"para-aortic\",\"pelvis\",\"peri-hepatic\",\"peri-splenic\",\"ribs\",\"sacrum\",\"scapula\",\"sigmoid colon\",\"spine\",\"spine\",\"sternum\",\"transverse colon\",\"upper leg group\",\"upper lobe\",\"ventricle\",\"adrenal gland\",\"bones\",\"bones\",\"bones\",\"colon\",\"heart\",\"kidney\",\"liver\",\"lung\",\"lymph nodes\",\"lymph nodes\",\"lymph nodes\",\"muscles\",\"muscles\",\"muscles\",\"oesophagus\",\"pleura\",\"prostate\",\"rectum\",\"small intestine\",\"spleen\",\"stomach\",\"testis\",\"ureter\",\"abdomen\",\"lower limb\",\"thorax\"],\"name\":\"\",\"parents\":[\"thorax/lymph nodes\",\"thorax/lymph nodes\",\"thorax/lymph nodes\",\"thorax/lymph nodes\",\"thorax/lymph nodes\",\"thorax/lymph nodes\",\"thorax/lymph nodes\",\"thorax/lymph nodes\",\"thorax/lymph nodes\",\"thorax/lymph nodes\",\"abdomen/colon\",\"thorax/heart\",\"thorax/lymph nodes\",\"abdomen/colon\",\"abdomen/stomach\",\"thorax/bones\",\"abdomen/lymph nodes\",\"abdomen/colon\",\"abdomen/small intestine\",\"lower limb/bones\",\"abdomen/lymph nodes\",\"abdomen/lymph nodes\",\"abdomen/small intestine\",\"lower limb/muscles\",\"thorax/lung\",\"abdomen/lymph nodes\",\"thorax/lung\",\"abdomen/muscles\",\"thorax/muscles\",\"abdomen/adrenal gland\",\"abdomen/kidney\",\"abdomen/liver\",\"lower limb/lymph nodes\",\"thorax/oesophagus\",\"thorax/pleura\",\"abdomen/prostate\",\"abdomen/rectum\",\"abdomen/spleen\",\"abdomen/testis\",\"abdomen/ureter\",\"abdomen/lymph nodes\",\"abdomen/bones\",\"abdomen/lymph nodes\",\"abdomen/lymph nodes\",\"thorax/bones\",\"abdomen/bones\",\"thorax/bones\",\"abdomen/colon\",\"abdomen/bones\",\"thorax/bones\",\"thorax/bones\",\"abdomen/colon\",\"lower limb/muscles\",\"thorax/lung\",\"thorax/heart\",\"abdomen\",\"abdomen\",\"lower limb\",\"thorax\",\"abdomen\",\"thorax\",\"abdomen\",\"abdomen\",\"thorax\",\"abdomen\",\"lower limb\",\"thorax\",\"abdomen\",\"lower limb\",\"thorax\",\"thorax\",\"thorax\",\"abdomen\",\"abdomen\",\"abdomen\",\"abdomen\",\"abdomen\",\"abdomen\",\"abdomen\",\"\",\"\",\"\"],\"type\":\"sunburst\",\"values\":[76,268,1,13,57,82,11,15,57,10,6,4,104,7,11,9,2,16,2,121,107,227,68,2,114,98,11,35,33,33,24,311,192,2,105,1,1,90,7,11,106,107,20,5,170,42,41,7,91,93,10,14,52,123,26,33,240,121,323,50,30,24,311,248,565,192,694,35,54,33,2,105,1,1,70,90,11,7,11,1449,367,1435]}],                        {\"legend\":{\"tracegroupgap\":0},\"margin\":{\"t\":60},\"template\":{\"data\":{\"bar\":[{\"error_x\":{\"color\":\"rgb(36,36,36)\"},\"error_y\":{\"color\":\"rgb(36,36,36)\"},\"marker\":{\"line\":{\"color\":\"rgb(234,234,242)\",\"width\":0.5},\"pattern\":{\"fillmode\":\"overlay\",\"size\":10,\"solidity\":0.2}},\"type\":\"bar\"}],\"barpolar\":[{\"marker\":{\"line\":{\"color\":\"rgb(234,234,242)\",\"width\":0.5},\"pattern\":{\"fillmode\":\"overlay\",\"size\":10,\"solidity\":0.2}},\"type\":\"barpolar\"}],\"carpet\":[{\"aaxis\":{\"endlinecolor\":\"rgb(36,36,36)\",\"gridcolor\":\"white\",\"linecolor\":\"white\",\"minorgridcolor\":\"white\",\"startlinecolor\":\"rgb(36,36,36)\"},\"baxis\":{\"endlinecolor\":\"rgb(36,36,36)\",\"gridcolor\":\"white\",\"linecolor\":\"white\",\"minorgridcolor\":\"white\",\"startlinecolor\":\"rgb(36,36,36)\"},\"type\":\"carpet\"}],\"choropleth\":[{\"colorbar\":{\"outlinewidth\":0,\"tickcolor\":\"rgb(36,36,36)\",\"ticklen\":8,\"ticks\":\"outside\",\"tickwidth\":2},\"type\":\"choropleth\"}],\"contour\":[{\"colorbar\":{\"outlinewidth\":0,\"tickcolor\":\"rgb(36,36,36)\",\"ticklen\":8,\"ticks\":\"outside\",\"tickwidth\":2},\"colorscale\":[[0.0,\"rgb(2,4,25)\"],[0.06274509803921569,\"rgb(24,15,41)\"],[0.12549019607843137,\"rgb(47,23,57)\"],[0.18823529411764706,\"rgb(71,28,72)\"],[0.25098039215686274,\"rgb(97,30,82)\"],[0.3137254901960784,\"rgb(123,30,89)\"],[0.3764705882352941,\"rgb(150,27,91)\"],[0.4392156862745098,\"rgb(177,22,88)\"],[0.5019607843137255,\"rgb(203,26,79)\"],[0.5647058823529412,\"rgb(223,47,67)\"],[0.6274509803921569,\"rgb(236,76,61)\"],[0.6901960784313725,\"rgb(242,107,73)\"],[0.7529411764705882,\"rgb(244,135,95)\"],[0.8156862745098039,\"rgb(245,162,122)\"],[0.8784313725490196,\"rgb(246,188,153)\"],[0.9411764705882353,\"rgb(247,212,187)\"],[1.0,\"rgb(250,234,220)\"]],\"type\":\"contour\"}],\"contourcarpet\":[{\"colorbar\":{\"outlinewidth\":0,\"tickcolor\":\"rgb(36,36,36)\",\"ticklen\":8,\"ticks\":\"outside\",\"tickwidth\":2},\"type\":\"contourcarpet\"}],\"heatmap\":[{\"colorbar\":{\"outlinewidth\":0,\"tickcolor\":\"rgb(36,36,36)\",\"ticklen\":8,\"ticks\":\"outside\",\"tickwidth\":2},\"colorscale\":[[0.0,\"rgb(2,4,25)\"],[0.06274509803921569,\"rgb(24,15,41)\"],[0.12549019607843137,\"rgb(47,23,57)\"],[0.18823529411764706,\"rgb(71,28,72)\"],[0.25098039215686274,\"rgb(97,30,82)\"],[0.3137254901960784,\"rgb(123,30,89)\"],[0.3764705882352941,\"rgb(150,27,91)\"],[0.4392156862745098,\"rgb(177,22,88)\"],[0.5019607843137255,\"rgb(203,26,79)\"],[0.5647058823529412,\"rgb(223,47,67)\"],[0.6274509803921569,\"rgb(236,76,61)\"],[0.6901960784313725,\"rgb(242,107,73)\"],[0.7529411764705882,\"rgb(244,135,95)\"],[0.8156862745098039,\"rgb(245,162,122)\"],[0.8784313725490196,\"rgb(246,188,153)\"],[0.9411764705882353,\"rgb(247,212,187)\"],[1.0,\"rgb(250,234,220)\"]],\"type\":\"heatmap\"}],\"heatmapgl\":[{\"colorbar\":{\"outlinewidth\":0,\"tickcolor\":\"rgb(36,36,36)\",\"ticklen\":8,\"ticks\":\"outside\",\"tickwidth\":2},\"colorscale\":[[0.0,\"rgb(2,4,25)\"],[0.06274509803921569,\"rgb(24,15,41)\"],[0.12549019607843137,\"rgb(47,23,57)\"],[0.18823529411764706,\"rgb(71,28,72)\"],[0.25098039215686274,\"rgb(97,30,82)\"],[0.3137254901960784,\"rgb(123,30,89)\"],[0.3764705882352941,\"rgb(150,27,91)\"],[0.4392156862745098,\"rgb(177,22,88)\"],[0.5019607843137255,\"rgb(203,26,79)\"],[0.5647058823529412,\"rgb(223,47,67)\"],[0.6274509803921569,\"rgb(236,76,61)\"],[0.6901960784313725,\"rgb(242,107,73)\"],[0.7529411764705882,\"rgb(244,135,95)\"],[0.8156862745098039,\"rgb(245,162,122)\"],[0.8784313725490196,\"rgb(246,188,153)\"],[0.9411764705882353,\"rgb(247,212,187)\"],[1.0,\"rgb(250,234,220)\"]],\"type\":\"heatmapgl\"}],\"histogram\":[{\"marker\":{\"pattern\":{\"fillmode\":\"overlay\",\"size\":10,\"solidity\":0.2}},\"type\":\"histogram\"}],\"histogram2d\":[{\"colorbar\":{\"outlinewidth\":0,\"tickcolor\":\"rgb(36,36,36)\",\"ticklen\":8,\"ticks\":\"outside\",\"tickwidth\":2},\"colorscale\":[[0.0,\"rgb(2,4,25)\"],[0.06274509803921569,\"rgb(24,15,41)\"],[0.12549019607843137,\"rgb(47,23,57)\"],[0.18823529411764706,\"rgb(71,28,72)\"],[0.25098039215686274,\"rgb(97,30,82)\"],[0.3137254901960784,\"rgb(123,30,89)\"],[0.3764705882352941,\"rgb(150,27,91)\"],[0.4392156862745098,\"rgb(177,22,88)\"],[0.5019607843137255,\"rgb(203,26,79)\"],[0.5647058823529412,\"rgb(223,47,67)\"],[0.6274509803921569,\"rgb(236,76,61)\"],[0.6901960784313725,\"rgb(242,107,73)\"],[0.7529411764705882,\"rgb(244,135,95)\"],[0.8156862745098039,\"rgb(245,162,122)\"],[0.8784313725490196,\"rgb(246,188,153)\"],[0.9411764705882353,\"rgb(247,212,187)\"],[1.0,\"rgb(250,234,220)\"]],\"type\":\"histogram2d\"}],\"histogram2dcontour\":[{\"colorbar\":{\"outlinewidth\":0,\"tickcolor\":\"rgb(36,36,36)\",\"ticklen\":8,\"ticks\":\"outside\",\"tickwidth\":2},\"colorscale\":[[0.0,\"rgb(2,4,25)\"],[0.06274509803921569,\"rgb(24,15,41)\"],[0.12549019607843137,\"rgb(47,23,57)\"],[0.18823529411764706,\"rgb(71,28,72)\"],[0.25098039215686274,\"rgb(97,30,82)\"],[0.3137254901960784,\"rgb(123,30,89)\"],[0.3764705882352941,\"rgb(150,27,91)\"],[0.4392156862745098,\"rgb(177,22,88)\"],[0.5019607843137255,\"rgb(203,26,79)\"],[0.5647058823529412,\"rgb(223,47,67)\"],[0.6274509803921569,\"rgb(236,76,61)\"],[0.6901960784313725,\"rgb(242,107,73)\"],[0.7529411764705882,\"rgb(244,135,95)\"],[0.8156862745098039,\"rgb(245,162,122)\"],[0.8784313725490196,\"rgb(246,188,153)\"],[0.9411764705882353,\"rgb(247,212,187)\"],[1.0,\"rgb(250,234,220)\"]],\"type\":\"histogram2dcontour\"}],\"mesh3d\":[{\"colorbar\":{\"outlinewidth\":0,\"tickcolor\":\"rgb(36,36,36)\",\"ticklen\":8,\"ticks\":\"outside\",\"tickwidth\":2},\"type\":\"mesh3d\"}],\"parcoords\":[{\"line\":{\"colorbar\":{\"outlinewidth\":0,\"tickcolor\":\"rgb(36,36,36)\",\"ticklen\":8,\"ticks\":\"outside\",\"tickwidth\":2}},\"type\":\"parcoords\"}],\"pie\":[{\"automargin\":true,\"type\":\"pie\"}],\"scatter\":[{\"marker\":{\"colorbar\":{\"outlinewidth\":0,\"tickcolor\":\"rgb(36,36,36)\",\"ticklen\":8,\"ticks\":\"outside\",\"tickwidth\":2}},\"type\":\"scatter\"}],\"scatter3d\":[{\"line\":{\"colorbar\":{\"outlinewidth\":0,\"tickcolor\":\"rgb(36,36,36)\",\"ticklen\":8,\"ticks\":\"outside\",\"tickwidth\":2}},\"marker\":{\"colorbar\":{\"outlinewidth\":0,\"tickcolor\":\"rgb(36,36,36)\",\"ticklen\":8,\"ticks\":\"outside\",\"tickwidth\":2}},\"type\":\"scatter3d\"}],\"scattercarpet\":[{\"marker\":{\"colorbar\":{\"outlinewidth\":0,\"tickcolor\":\"rgb(36,36,36)\",\"ticklen\":8,\"ticks\":\"outside\",\"tickwidth\":2}},\"type\":\"scattercarpet\"}],\"scattergeo\":[{\"marker\":{\"colorbar\":{\"outlinewidth\":0,\"tickcolor\":\"rgb(36,36,36)\",\"ticklen\":8,\"ticks\":\"outside\",\"tickwidth\":2}},\"type\":\"scattergeo\"}],\"scattergl\":[{\"marker\":{\"colorbar\":{\"outlinewidth\":0,\"tickcolor\":\"rgb(36,36,36)\",\"ticklen\":8,\"ticks\":\"outside\",\"tickwidth\":2}},\"type\":\"scattergl\"}],\"scattermapbox\":[{\"marker\":{\"colorbar\":{\"outlinewidth\":0,\"tickcolor\":\"rgb(36,36,36)\",\"ticklen\":8,\"ticks\":\"outside\",\"tickwidth\":2}},\"type\":\"scattermapbox\"}],\"scatterpolar\":[{\"marker\":{\"colorbar\":{\"outlinewidth\":0,\"tickcolor\":\"rgb(36,36,36)\",\"ticklen\":8,\"ticks\":\"outside\",\"tickwidth\":2}},\"type\":\"scatterpolar\"}],\"scatterpolargl\":[{\"marker\":{\"colorbar\":{\"outlinewidth\":0,\"tickcolor\":\"rgb(36,36,36)\",\"ticklen\":8,\"ticks\":\"outside\",\"tickwidth\":2}},\"type\":\"scatterpolargl\"}],\"scatterternary\":[{\"marker\":{\"colorbar\":{\"outlinewidth\":0,\"tickcolor\":\"rgb(36,36,36)\",\"ticklen\":8,\"ticks\":\"outside\",\"tickwidth\":2}},\"type\":\"scatterternary\"}],\"surface\":[{\"colorbar\":{\"outlinewidth\":0,\"tickcolor\":\"rgb(36,36,36)\",\"ticklen\":8,\"ticks\":\"outside\",\"tickwidth\":2},\"colorscale\":[[0.0,\"rgb(2,4,25)\"],[0.06274509803921569,\"rgb(24,15,41)\"],[0.12549019607843137,\"rgb(47,23,57)\"],[0.18823529411764706,\"rgb(71,28,72)\"],[0.25098039215686274,\"rgb(97,30,82)\"],[0.3137254901960784,\"rgb(123,30,89)\"],[0.3764705882352941,\"rgb(150,27,91)\"],[0.4392156862745098,\"rgb(177,22,88)\"],[0.5019607843137255,\"rgb(203,26,79)\"],[0.5647058823529412,\"rgb(223,47,67)\"],[0.6274509803921569,\"rgb(236,76,61)\"],[0.6901960784313725,\"rgb(242,107,73)\"],[0.7529411764705882,\"rgb(244,135,95)\"],[0.8156862745098039,\"rgb(245,162,122)\"],[0.8784313725490196,\"rgb(246,188,153)\"],[0.9411764705882353,\"rgb(247,212,187)\"],[1.0,\"rgb(250,234,220)\"]],\"type\":\"surface\"}],\"table\":[{\"cells\":{\"fill\":{\"color\":\"rgb(231,231,240)\"},\"line\":{\"color\":\"white\"}},\"header\":{\"fill\":{\"color\":\"rgb(183,183,191)\"},\"line\":{\"color\":\"white\"}},\"type\":\"table\"}]},\"layout\":{\"annotationdefaults\":{\"arrowcolor\":\"rgb(67,103,167)\"},\"autotypenumbers\":\"strict\",\"coloraxis\":{\"colorbar\":{\"outlinewidth\":0,\"tickcolor\":\"rgb(36,36,36)\",\"ticklen\":8,\"ticks\":\"outside\",\"tickwidth\":2}},\"colorscale\":{\"sequential\":[[0.0,\"rgb(2,4,25)\"],[0.06274509803921569,\"rgb(24,15,41)\"],[0.12549019607843137,\"rgb(47,23,57)\"],[0.18823529411764706,\"rgb(71,28,72)\"],[0.25098039215686274,\"rgb(97,30,82)\"],[0.3137254901960784,\"rgb(123,30,89)\"],[0.3764705882352941,\"rgb(150,27,91)\"],[0.4392156862745098,\"rgb(177,22,88)\"],[0.5019607843137255,\"rgb(203,26,79)\"],[0.5647058823529412,\"rgb(223,47,67)\"],[0.6274509803921569,\"rgb(236,76,61)\"],[0.6901960784313725,\"rgb(242,107,73)\"],[0.7529411764705882,\"rgb(244,135,95)\"],[0.8156862745098039,\"rgb(245,162,122)\"],[0.8784313725490196,\"rgb(246,188,153)\"],[0.9411764705882353,\"rgb(247,212,187)\"],[1.0,\"rgb(250,234,220)\"]],\"sequentialminus\":[[0.0,\"rgb(2,4,25)\"],[0.06274509803921569,\"rgb(24,15,41)\"],[0.12549019607843137,\"rgb(47,23,57)\"],[0.18823529411764706,\"rgb(71,28,72)\"],[0.25098039215686274,\"rgb(97,30,82)\"],[0.3137254901960784,\"rgb(123,30,89)\"],[0.3764705882352941,\"rgb(150,27,91)\"],[0.4392156862745098,\"rgb(177,22,88)\"],[0.5019607843137255,\"rgb(203,26,79)\"],[0.5647058823529412,\"rgb(223,47,67)\"],[0.6274509803921569,\"rgb(236,76,61)\"],[0.6901960784313725,\"rgb(242,107,73)\"],[0.7529411764705882,\"rgb(244,135,95)\"],[0.8156862745098039,\"rgb(245,162,122)\"],[0.8784313725490196,\"rgb(246,188,153)\"],[0.9411764705882353,\"rgb(247,212,187)\"],[1.0,\"rgb(250,234,220)\"]]},\"colorway\":[\"rgb(76,114,176)\",\"rgb(221,132,82)\",\"rgb(85,168,104)\",\"rgb(196,78,82)\",\"rgb(129,114,179)\",\"rgb(147,120,96)\",\"rgb(218,139,195)\",\"rgb(140,140,140)\",\"rgb(204,185,116)\",\"rgb(100,181,205)\"],\"font\":{\"color\":\"rgb(36,36,36)\"},\"geo\":{\"bgcolor\":\"white\",\"lakecolor\":\"white\",\"landcolor\":\"rgb(234,234,242)\",\"showlakes\":true,\"showland\":true,\"subunitcolor\":\"white\"},\"hoverlabel\":{\"align\":\"left\"},\"hovermode\":\"closest\",\"paper_bgcolor\":\"white\",\"plot_bgcolor\":\"rgb(234,234,242)\",\"polar\":{\"angularaxis\":{\"gridcolor\":\"white\",\"linecolor\":\"white\",\"showgrid\":true,\"ticks\":\"\"},\"bgcolor\":\"rgb(234,234,242)\",\"radialaxis\":{\"gridcolor\":\"white\",\"linecolor\":\"white\",\"showgrid\":true,\"ticks\":\"\"}},\"scene\":{\"xaxis\":{\"backgroundcolor\":\"rgb(234,234,242)\",\"gridcolor\":\"white\",\"gridwidth\":2,\"linecolor\":\"white\",\"showbackground\":true,\"showgrid\":true,\"ticks\":\"\",\"zerolinecolor\":\"white\"},\"yaxis\":{\"backgroundcolor\":\"rgb(234,234,242)\",\"gridcolor\":\"white\",\"gridwidth\":2,\"linecolor\":\"white\",\"showbackground\":true,\"showgrid\":true,\"ticks\":\"\",\"zerolinecolor\":\"white\"},\"zaxis\":{\"backgroundcolor\":\"rgb(234,234,242)\",\"gridcolor\":\"white\",\"gridwidth\":2,\"linecolor\":\"white\",\"showbackground\":true,\"showgrid\":true,\"ticks\":\"\",\"zerolinecolor\":\"white\"}},\"shapedefaults\":{\"fillcolor\":\"rgb(67,103,167)\",\"line\":{\"width\":0},\"opacity\":0.5},\"ternary\":{\"aaxis\":{\"gridcolor\":\"white\",\"linecolor\":\"white\",\"showgrid\":true,\"ticks\":\"\"},\"baxis\":{\"gridcolor\":\"white\",\"linecolor\":\"white\",\"showgrid\":true,\"ticks\":\"\"},\"bgcolor\":\"rgb(234,234,242)\",\"caxis\":{\"gridcolor\":\"white\",\"linecolor\":\"white\",\"showgrid\":true,\"ticks\":\"\"}},\"xaxis\":{\"automargin\":true,\"gridcolor\":\"white\",\"linecolor\":\"white\",\"showgrid\":true,\"ticks\":\"\",\"title\":{\"standoff\":15},\"zerolinecolor\":\"white\"},\"yaxis\":{\"automargin\":true,\"gridcolor\":\"white\",\"linecolor\":\"white\",\"showgrid\":true,\"ticks\":\"\",\"title\":{\"standoff\":15},\"zerolinecolor\":\"white\"}}},\"title\":{\"text\":\"Sunburst chart of lesion location\"}},                        {\"responsive\": true}                    ).then(function(){\n                            \nvar gd = document.getElementById('e0b31e81-c89c-42a6-9362-bcd4ff982309');\nvar x = new MutationObserver(function (mutations, observer) {{\n        var display = window.getComputedStyle(gd).display;\n        if (!display || display === 'none') {{\n            console.log([gd, 'removed!']);\n            Plotly.purge(gd);\n            observer.disconnect();\n        }}\n}});\n\n// Listen for the removal of the full notebook cells\nvar notebookContainer = gd.closest('#notebook-container');\nif (notebookContainer) {{\n    x.observe(notebookContainer, {childList: true});\n}}\n\n// Listen for the clearing of the current output cell\nvar outputEl = gd.closest('.output');\nif (outputEl) {{\n    x.observe(outputEl, {childList: true});\n}}\n\n                        })                };                            </script>        </div>\n</body>\n</html>"
     },
     "metadata": {},
     "output_type": "display_data"
    }
   ],
   "execution_count": null
  },
  {
   "cell_type": "markdown",
   "source": "## Studies",
   "metadata": {
    "cell_id": "00018-f6cbfd71-a55a-4225-94df-f68f0b4debb7",
    "deepnote_app_coordinates": {
     "h": 2,
     "w": 12,
     "x": 0,
     "y": 0
    },
    "is_collapsed": false,
    "jp-MarkdownHeadingCollapsed": true,
    "tags": [],
    "deepnote_cell_type": "text-cell-h2"
   }
  },
  {
   "cell_type": "markdown",
   "source": "### Dataset information",
   "metadata": {
    "cell_id": "00019-addac8d2-f82d-4abe-8ebb-82f933ec633d",
    "deepnote_app_coordinates": {
     "h": 2,
     "w": 12,
     "x": 0,
     "y": 0
    },
    "is_collapsed": false,
    "tags": [],
    "deepnote_cell_type": "text-cell-h3"
   }
  },
  {
   "cell_type": "markdown",
   "source": "* Each patient is attributed to a unique `gpcr_id [int]` \n* Each study is identified relative to the start of treatment with `study_name [str]` and the processed `study_phase [int]`\n* `is_before_treatment [bool]`, `is_during_treatment [bool]`, and `is_after_treatment_end [bool]` are boolean values that explain when the study occured relative to treatment start and end\n* `nth_before_treatment [float]`, `nth_after_treatment_start [float]`, `nth_during_treatment [float]`, and `nth_after_treatment_end [float]` is the scan number relative to treatment start and end\n* `n_days_to_treatment_start [int]` and `n_days_to_treatment_end [int]` are the number of days to treatment start and end\n* `is_malignant [int]` is the aggregate number of malignant lesions in the exam, which is renamed to `malignant_lesions [int]` during preprocessing\n* Boolean values about segmentation existance are contained in `brain_seg_exists [bool]`, `bones_seg_exists [bool]`, `spleen_seg_exists [bool]`, `aorta_seg_exists [bool]`, `heart_seg_exists [bool]`, `kidney_right_seg_exists [bool]`, `kidney_left_seg_exists [bool]`, `lung_right_seg_exists [bool]`, `lung_left_seg_exists [bool]`, and `liver_seg_exists [bool]`",
   "metadata": {
    "cell_id": "00020-a41411e5-79cc-4680-bd83-e82da4f1401e",
    "deepnote_app_coordinates": {
     "h": 5,
     "w": 12,
     "x": 0,
     "y": 0
    },
    "tags": [],
    "deepnote_cell_type": "markdown"
   }
  },
  {
   "cell_type": "markdown",
   "source": "### Preprocessing",
   "metadata": {
    "cell_id": "00021-5cdef17b-aae1-4e6b-a439-d461b6c750d1",
    "deepnote_app_coordinates": {
     "h": 2,
     "w": 12,
     "x": 0,
     "y": 0
    },
    "is_collapsed": false,
    "jp-MarkdownHeadingCollapsed": true,
    "tags": [],
    "deepnote_cell_type": "text-cell-h3"
   }
  },
  {
   "cell_type": "code",
   "metadata": {
    "cell_id": "00030-2c60a701-1af5-40b9-96a2-0cb5e778f1df",
    "deepnote_app_coordinates": {
     "h": 5,
     "w": 12,
     "x": 0,
     "y": 180
    },
    "deepnote_app_is_code_hidden": true,
    "deepnote_to_be_reexecuted": false,
    "execution_millis": 90,
    "execution_start": 1633024066094,
    "source_hash": "2246af0b",
    "deepnote_cell_type": "code"
   },
   "source": "studies = pd.read_csv(os.path.join(DATA_DIR, studies_file))\nstudies.rename(columns={'is_malignant': 'malignant_lesions'}, inplace=True)\nstudies['study_phase'] = studies.study_name.apply(extract_study_phase)\n\nn_studies, f_studies = studies.shape\n\nprint(f'Imported {n_studies} studies with {f_studies} features. Null values: {studies.isna().sum().sum()}')",
   "outputs": [
    {
     "name": "stdout",
     "text": "Imported 472 studies with 23 features. Null values: 1043\n",
     "output_type": "stream"
    }
   ],
   "execution_count": null
  },
  {
   "cell_type": "code",
   "metadata": {
    "cell_id": "00031-23d9ac0a-89c0-4036-9381-c05269b4dab9",
    "deepnote_app_coordinates": {
     "h": 5,
     "w": 12,
     "x": 0,
     "y": 186
    },
    "deepnote_app_is_code_hidden": true,
    "deepnote_to_be_reexecuted": false,
    "execution_millis": 41,
    "execution_start": 1633024066933,
    "source_hash": "73424cc6",
    "deepnote_cell_type": "code"
   },
   "source": "studies.head()",
   "outputs": [
    {
     "output_type": "execute_result",
     "execution_count": 31,
     "data": {
      "application/vnd.deepnote.dataframe.v2+json": {
       "row_count": 472,
       "column_count": 23,
       "columns": [
        {
         "name": "gpcr_id",
         "dtype": "int64",
         "stats": {
          "unique_count": 126,
          "nan_count": 0,
          "min": "34610001",
          "max": "34610150",
          "histogram": [
           {
            "bin_start": 34610001,
            "bin_end": 34610015.9,
            "count": 78
           },
           {
            "bin_start": 34610015.9,
            "bin_end": 34610030.8,
            "count": 52
           },
           {
            "bin_start": 34610030.8,
            "bin_end": 34610045.7,
            "count": 53
           },
           {
            "bin_start": 34610045.7,
            "bin_end": 34610060.6,
            "count": 38
           },
           {
            "bin_start": 34610060.6,
            "bin_end": 34610075.5,
            "count": 43
           },
           {
            "bin_start": 34610075.5,
            "bin_end": 34610090.4,
            "count": 47
           },
           {
            "bin_start": 34610090.4,
            "bin_end": 34610105.3,
            "count": 40
           },
           {
            "bin_start": 34610105.3,
            "bin_end": 34610120.2,
            "count": 48
           },
           {
            "bin_start": 34610120.2,
            "bin_end": 34610135.1,
            "count": 33
           },
           {
            "bin_start": 34610135.1,
            "bin_end": 34610150,
            "count": 40
           }
          ]
         }
        },
        {
         "name": "study_name",
         "dtype": "object",
         "stats": {
          "unique_count": 16,
          "nan_count": 0,
          "categories": [
           {
            "name": "post-01",
            "count": 109
           },
           {
            "name": "pre-01",
            "count": 84
           },
           {
            "name": "14 others",
            "count": 279
           }
          ]
         }
        },
        {
         "name": "is_before_treatment",
         "dtype": "bool",
         "stats": {
          "unique_count": 2,
          "nan_count": 0,
          "categories": [
           {
            "name": "False",
            "count": 373
           },
           {
            "name": "True",
            "count": 99
           }
          ]
         }
        },
        {
         "name": "is_during_treatment",
         "dtype": "bool",
         "stats": {
          "unique_count": 2,
          "nan_count": 0,
          "categories": [
           {
            "name": "False",
            "count": 376
           },
           {
            "name": "True",
            "count": 96
           }
          ]
         }
        },
        {
         "name": "is_after_treatment_end",
         "dtype": "bool",
         "stats": {
          "unique_count": 2,
          "nan_count": 0,
          "categories": [
           {
            "name": "True",
            "count": 277
           },
           {
            "name": "False",
            "count": 195
           }
          ]
         }
        },
        {
         "name": "nth_before_treatment",
         "dtype": "float64",
         "stats": {
          "unique_count": 2,
          "nan_count": 373,
          "min": "1.0",
          "max": "2.0",
          "histogram": [
           {
            "bin_start": 1,
            "bin_end": 1.1,
            "count": 84
           },
           {
            "bin_start": 1.1,
            "bin_end": 1.2,
            "count": 0
           },
           {
            "bin_start": 1.2,
            "bin_end": 1.3,
            "count": 0
           },
           {
            "bin_start": 1.3,
            "bin_end": 1.4,
            "count": 0
           },
           {
            "bin_start": 1.4,
            "bin_end": 1.5,
            "count": 0
           },
           {
            "bin_start": 1.5,
            "bin_end": 1.6,
            "count": 0
           },
           {
            "bin_start": 1.6,
            "bin_end": 1.7000000000000002,
            "count": 0
           },
           {
            "bin_start": 1.7000000000000002,
            "bin_end": 1.8,
            "count": 0
           },
           {
            "bin_start": 1.8,
            "bin_end": 1.9,
            "count": 0
           },
           {
            "bin_start": 1.9,
            "bin_end": 2,
            "count": 15
           }
          ]
         }
        },
        {
         "name": "nth_after_treatment_start",
         "dtype": "float64",
         "stats": {
          "unique_count": 14,
          "nan_count": 99,
          "min": "1.0",
          "max": "14.0",
          "histogram": [
           {
            "bin_start": 1,
            "bin_end": 2.3,
            "count": 183
           },
           {
            "bin_start": 2.3,
            "bin_end": 3.6,
            "count": 61
           },
           {
            "bin_start": 3.6,
            "bin_end": 4.9,
            "count": 45
           },
           {
            "bin_start": 4.9,
            "bin_end": 6.2,
            "count": 46
           },
           {
            "bin_start": 6.2,
            "bin_end": 7.5,
            "count": 11
           },
           {
            "bin_start": 7.5,
            "bin_end": 8.8,
            "count": 9
           },
           {
            "bin_start": 8.8,
            "bin_end": 10.1,
            "count": 13
           },
           {
            "bin_start": 10.1,
            "bin_end": 11.4,
            "count": 2
           },
           {
            "bin_start": 11.4,
            "bin_end": 12.700000000000001,
            "count": 1
           },
           {
            "bin_start": 12.700000000000001,
            "bin_end": 14,
            "count": 2
           }
          ]
         }
        },
        {
         "name": "nth_during_treatment",
         "dtype": "float64",
         "stats": {
          "unique_count": 8,
          "nan_count": 376,
          "min": "1.0",
          "max": "8.0",
          "histogram": [
           {
            "bin_start": 1,
            "bin_end": 1.7,
            "count": 45
           },
           {
            "bin_start": 1.7,
            "bin_end": 2.4,
            "count": 17
           },
           {
            "bin_start": 2.4,
            "bin_end": 3.0999999999999996,
            "count": 14
           },
           {
            "bin_start": 3.0999999999999996,
            "bin_end": 3.8,
            "count": 0
           },
           {
            "bin_start": 3.8,
            "bin_end": 4.5,
            "count": 8
           },
           {
            "bin_start": 4.5,
            "bin_end": 5.199999999999999,
            "count": 5
           },
           {
            "bin_start": 5.199999999999999,
            "bin_end": 5.8999999999999995,
            "count": 0
           },
           {
            "bin_start": 5.8999999999999995,
            "bin_end": 6.6,
            "count": 4
           },
           {
            "bin_start": 6.6,
            "bin_end": 7.3,
            "count": 2
           },
           {
            "bin_start": 7.3,
            "bin_end": 8,
            "count": 1
           }
          ]
         }
        },
        {
         "name": "nth_after_treatment_end",
         "dtype": "float64",
         "stats": {
          "unique_count": 14,
          "nan_count": 195,
          "min": "1.0",
          "max": "14.0",
          "histogram": [
           {
            "bin_start": 1,
            "bin_end": 2.3,
            "count": 147
           },
           {
            "bin_start": 2.3,
            "bin_end": 3.6,
            "count": 43
           },
           {
            "bin_start": 3.6,
            "bin_end": 4.9,
            "count": 35
           },
           {
            "bin_start": 4.9,
            "bin_end": 6.2,
            "count": 25
           },
           {
            "bin_start": 6.2,
            "bin_end": 7.5,
            "count": 7
           },
           {
            "bin_start": 7.5,
            "bin_end": 8.8,
            "count": 5
           },
           {
            "bin_start": 8.8,
            "bin_end": 10.1,
            "count": 10
           },
           {
            "bin_start": 10.1,
            "bin_end": 11.4,
            "count": 2
           },
           {
            "bin_start": 11.4,
            "bin_end": 12.700000000000001,
            "count": 1
           },
           {
            "bin_start": 12.700000000000001,
            "bin_end": 14,
            "count": 2
           }
          ]
         }
        },
        {
         "name": "n_days_to_treatment_start",
         "dtype": "int64",
         "stats": {
          "unique_count": 316,
          "nan_count": 0,
          "min": "-84",
          "max": "1248",
          "histogram": [
           {
            "bin_start": -84,
            "bin_end": 49.19999999999999,
            "count": 126
           },
           {
            "bin_start": 49.19999999999999,
            "bin_end": 182.39999999999998,
            "count": 141
           },
           {
            "bin_start": 182.39999999999998,
            "bin_end": 315.59999999999997,
            "count": 71
           },
           {
            "bin_start": 315.59999999999997,
            "bin_end": 448.79999999999995,
            "count": 63
           },
           {
            "bin_start": 448.79999999999995,
            "bin_end": 582,
            "count": 30
           },
           {
            "bin_start": 582,
            "bin_end": 715.1999999999999,
            "count": 15
           },
           {
            "bin_start": 715.1999999999999,
            "bin_end": 848.3999999999999,
            "count": 12
           },
           {
            "bin_start": 848.3999999999999,
            "bin_end": 981.5999999999999,
            "count": 7
           },
           {
            "bin_start": 981.5999999999999,
            "bin_end": 1114.8,
            "count": 5
           },
           {
            "bin_start": 1114.8,
            "bin_end": 1248,
            "count": 2
           }
          ]
         }
        },
        {
         "name": "n_days_to_treatment_end",
         "dtype": "int64",
         "stats": {
          "unique_count": 341,
          "nan_count": 0,
          "min": "-775",
          "max": "1185",
          "histogram": [
           {
            "bin_start": -775,
            "bin_end": -579,
            "count": 11
           },
           {
            "bin_start": -579,
            "bin_end": -383,
            "count": 18
           },
           {
            "bin_start": -383,
            "bin_end": -187,
            "count": 28
           },
           {
            "bin_start": -187,
            "bin_end": 9,
            "count": 154
           },
           {
            "bin_start": 9,
            "bin_end": 205,
            "count": 141
           },
           {
            "bin_start": 205,
            "bin_end": 401,
            "count": 78
           },
           {
            "bin_start": 401,
            "bin_end": 597,
            "count": 18
           },
           {
            "bin_start": 597,
            "bin_end": 793,
            "count": 12
           },
           {
            "bin_start": 793,
            "bin_end": 989,
            "count": 7
           },
           {
            "bin_start": 989,
            "bin_end": 1185,
            "count": 5
           }
          ]
         }
        },
        {
         "name": "malignant_lesions",
         "dtype": "int64",
         "stats": {
          "unique_count": 46,
          "nan_count": 0,
          "min": "0",
          "max": "193",
          "histogram": [
           {
            "bin_start": 0,
            "bin_end": 19.3,
            "count": 429
           },
           {
            "bin_start": 19.3,
            "bin_end": 38.6,
            "count": 27
           },
           {
            "bin_start": 38.6,
            "bin_end": 57.900000000000006,
            "count": 7
           },
           {
            "bin_start": 57.900000000000006,
            "bin_end": 77.2,
            "count": 7
           },
           {
            "bin_start": 77.2,
            "bin_end": 96.5,
            "count": 0
           },
           {
            "bin_start": 96.5,
            "bin_end": 115.80000000000001,
            "count": 0
           },
           {
            "bin_start": 115.80000000000001,
            "bin_end": 135.1,
            "count": 1
           },
           {
            "bin_start": 135.1,
            "bin_end": 154.4,
            "count": 0
           },
           {
            "bin_start": 154.4,
            "bin_end": 173.70000000000002,
            "count": 0
           },
           {
            "bin_start": 173.70000000000002,
            "bin_end": 193,
            "count": 1
           }
          ]
         }
        },
        {
         "name": "brain_seg_exists",
         "dtype": "bool",
         "stats": {
          "unique_count": 2,
          "nan_count": 0,
          "categories": [
           {
            "name": "True",
            "count": 368
           },
           {
            "name": "False",
            "count": 104
           }
          ]
         }
        },
        {
         "name": "bones_seg_exists",
         "dtype": "bool",
         "stats": {
          "unique_count": 2,
          "nan_count": 0,
          "categories": [
           {
            "name": "True",
            "count": 441
           },
           {
            "name": "False",
            "count": 31
           }
          ]
         }
        },
        {
         "name": "spleen_seg_exists",
         "dtype": "bool",
         "stats": {
          "unique_count": 2,
          "nan_count": 0,
          "categories": [
           {
            "name": "True",
            "count": 459
           },
           {
            "name": "False",
            "count": 13
           }
          ]
         }
        },
        {
         "name": "aorta_seg_exists",
         "dtype": "bool",
         "stats": {
          "unique_count": 2,
          "nan_count": 0,
          "categories": [
           {
            "name": "True",
            "count": 461
           },
           {
            "name": "False",
            "count": 11
           }
          ]
         }
        },
        {
         "name": "heart_seg_exists",
         "dtype": "bool",
         "stats": {
          "unique_count": 2,
          "nan_count": 0,
          "categories": [
           {
            "name": "True",
            "count": 464
           },
           {
            "name": "False",
            "count": 8
           }
          ]
         }
        },
        {
         "name": "kidney_right_seg_exists",
         "dtype": "bool",
         "stats": {
          "unique_count": 2,
          "nan_count": 0,
          "categories": [
           {
            "name": "True",
            "count": 456
           },
           {
            "name": "False",
            "count": 16
           }
          ]
         }
        },
        {
         "name": "kidney_left_seg_exists",
         "dtype": "bool",
         "stats": {
          "unique_count": 2,
          "nan_count": 0,
          "categories": [
           {
            "name": "True",
            "count": 455
           },
           {
            "name": "False",
            "count": 17
           }
          ]
         }
        },
        {
         "name": "lung_right_seg_exists",
         "dtype": "bool",
         "stats": {
          "unique_count": 2,
          "nan_count": 0,
          "categories": [
           {
            "name": "True",
            "count": 444
           },
           {
            "name": "False",
            "count": 28
           }
          ]
         }
        },
        {
         "name": "lung_left_seg_exists",
         "dtype": "bool",
         "stats": {
          "unique_count": 2,
          "nan_count": 0,
          "categories": [
           {
            "name": "True",
            "count": 444
           },
           {
            "name": "False",
            "count": 28
           }
          ]
         }
        },
        {
         "name": "liver_seg_exists",
         "dtype": "bool",
         "stats": {
          "unique_count": 2,
          "nan_count": 0,
          "categories": [
           {
            "name": "True",
            "count": 455
           },
           {
            "name": "False",
            "count": 17
           }
          ]
         }
        },
        {
         "name": "study_phase",
         "dtype": "int64",
         "stats": {
          "unique_count": 16,
          "nan_count": 0,
          "min": "-2",
          "max": "14",
          "histogram": [
           {
            "bin_start": -2,
            "bin_end": -0.3999999999999999,
            "count": 99
           },
           {
            "bin_start": -0.3999999999999999,
            "bin_end": 1.2000000000000002,
            "count": 109
           },
           {
            "bin_start": 1.2000000000000002,
            "bin_end": 2.8000000000000007,
            "count": 74
           },
           {
            "bin_start": 2.8000000000000007,
            "bin_end": 4.4,
            "count": 106
           },
           {
            "bin_start": 4.4,
            "bin_end": 6,
            "count": 29
           },
           {
            "bin_start": 6,
            "bin_end": 7.600000000000001,
            "count": 28
           },
           {
            "bin_start": 7.600000000000001,
            "bin_end": 9.200000000000001,
            "count": 16
           },
           {
            "bin_start": 9.200000000000001,
            "bin_end": 10.8,
            "count": 6
           },
           {
            "bin_start": 10.8,
            "bin_end": 12.4,
            "count": 3
           },
           {
            "bin_start": 12.4,
            "bin_end": 14,
            "count": 2
           }
          ]
         }
        },
        {
         "name": "_deepnote_index_column",
         "dtype": "int64"
        }
       ],
       "rows_top": [
        {
         "gpcr_id": 34610001,
         "study_name": "pre-02",
         "is_before_treatment": "True",
         "is_during_treatment": "False",
         "is_after_treatment_end": "False",
         "nth_before_treatment": 2,
         "nth_after_treatment_start": "nan",
         "nth_during_treatment": "nan",
         "nth_after_treatment_end": "nan",
         "n_days_to_treatment_start": -43,
         "n_days_to_treatment_end": -106,
         "malignant_lesions": 8,
         "brain_seg_exists": "True",
         "bones_seg_exists": "True",
         "spleen_seg_exists": "True",
         "aorta_seg_exists": "True",
         "heart_seg_exists": "True",
         "kidney_right_seg_exists": "True",
         "kidney_left_seg_exists": "True",
         "lung_right_seg_exists": "True",
         "lung_left_seg_exists": "True",
         "liver_seg_exists": "True",
         "study_phase": -2,
         "_deepnote_index_column": 0
        },
        {
         "gpcr_id": 34610001,
         "study_name": "pre-01",
         "is_before_treatment": "True",
         "is_during_treatment": "False",
         "is_after_treatment_end": "False",
         "nth_before_treatment": 1,
         "nth_after_treatment_start": "nan",
         "nth_during_treatment": "nan",
         "nth_after_treatment_end": "nan",
         "n_days_to_treatment_start": -7,
         "n_days_to_treatment_end": -70,
         "malignant_lesions": 54,
         "brain_seg_exists": "True",
         "bones_seg_exists": "True",
         "spleen_seg_exists": "True",
         "aorta_seg_exists": "True",
         "heart_seg_exists": "True",
         "kidney_right_seg_exists": "True",
         "kidney_left_seg_exists": "True",
         "lung_right_seg_exists": "True",
         "lung_left_seg_exists": "True",
         "liver_seg_exists": "True",
         "study_phase": -1,
         "_deepnote_index_column": 1
        },
        {
         "gpcr_id": 34610001,
         "study_name": "post-01",
         "is_before_treatment": "False",
         "is_during_treatment": "False",
         "is_after_treatment_end": "True",
         "nth_before_treatment": "nan",
         "nth_after_treatment_start": 1,
         "nth_during_treatment": "nan",
         "nth_after_treatment_end": 1,
         "n_days_to_treatment_start": 87,
         "n_days_to_treatment_end": 24,
         "malignant_lesions": 4,
         "brain_seg_exists": "True",
         "bones_seg_exists": "True",
         "spleen_seg_exists": "True",
         "aorta_seg_exists": "True",
         "heart_seg_exists": "True",
         "kidney_right_seg_exists": "True",
         "kidney_left_seg_exists": "True",
         "lung_right_seg_exists": "True",
         "lung_left_seg_exists": "True",
         "liver_seg_exists": "True",
         "study_phase": 1,
         "_deepnote_index_column": 2
        },
        {
         "gpcr_id": 34610001,
         "study_name": "post-02",
         "is_before_treatment": "False",
         "is_during_treatment": "False",
         "is_after_treatment_end": "True",
         "nth_before_treatment": "nan",
         "nth_after_treatment_start": 2,
         "nth_during_treatment": "nan",
         "nth_after_treatment_end": 2,
         "n_days_to_treatment_start": 183,
         "n_days_to_treatment_end": 120,
         "malignant_lesions": 4,
         "brain_seg_exists": "True",
         "bones_seg_exists": "True",
         "spleen_seg_exists": "True",
         "aorta_seg_exists": "True",
         "heart_seg_exists": "True",
         "kidney_right_seg_exists": "False",
         "kidney_left_seg_exists": "False",
         "lung_right_seg_exists": "True",
         "lung_left_seg_exists": "True",
         "liver_seg_exists": "True",
         "study_phase": 2,
         "_deepnote_index_column": 3
        },
        {
         "gpcr_id": 34610001,
         "study_name": "post-03",
         "is_before_treatment": "False",
         "is_during_treatment": "False",
         "is_after_treatment_end": "True",
         "nth_before_treatment": "nan",
         "nth_after_treatment_start": 3,
         "nth_during_treatment": "nan",
         "nth_after_treatment_end": 3,
         "n_days_to_treatment_start": 275,
         "n_days_to_treatment_end": 212,
         "malignant_lesions": 11,
         "brain_seg_exists": "True",
         "bones_seg_exists": "True",
         "spleen_seg_exists": "True",
         "aorta_seg_exists": "True",
         "heart_seg_exists": "True",
         "kidney_right_seg_exists": "True",
         "kidney_left_seg_exists": "True",
         "lung_right_seg_exists": "True",
         "lung_left_seg_exists": "True",
         "liver_seg_exists": "True",
         "study_phase": 3,
         "_deepnote_index_column": 4
        },
        {
         "gpcr_id": 34610001,
         "study_name": "post-04",
         "is_before_treatment": "False",
         "is_during_treatment": "False",
         "is_after_treatment_end": "True",
         "nth_before_treatment": "nan",
         "nth_after_treatment_start": 4,
         "nth_during_treatment": "nan",
         "nth_after_treatment_end": 4,
         "n_days_to_treatment_start": 364,
         "n_days_to_treatment_end": 301,
         "malignant_lesions": 5,
         "brain_seg_exists": "True",
         "bones_seg_exists": "True",
         "spleen_seg_exists": "True",
         "aorta_seg_exists": "True",
         "heart_seg_exists": "True",
         "kidney_right_seg_exists": "True",
         "kidney_left_seg_exists": "True",
         "lung_right_seg_exists": "True",
         "lung_left_seg_exists": "True",
         "liver_seg_exists": "True",
         "study_phase": 4,
         "_deepnote_index_column": 5
        },
        {
         "gpcr_id": 34610001,
         "study_name": "post-05",
         "is_before_treatment": "False",
         "is_during_treatment": "False",
         "is_after_treatment_end": "True",
         "nth_before_treatment": "nan",
         "nth_after_treatment_start": 5,
         "nth_during_treatment": "nan",
         "nth_after_treatment_end": 5,
         "n_days_to_treatment_start": 447,
         "n_days_to_treatment_end": 384,
         "malignant_lesions": 9,
         "brain_seg_exists": "True",
         "bones_seg_exists": "True",
         "spleen_seg_exists": "True",
         "aorta_seg_exists": "True",
         "heart_seg_exists": "True",
         "kidney_right_seg_exists": "True",
         "kidney_left_seg_exists": "True",
         "lung_right_seg_exists": "True",
         "lung_left_seg_exists": "True",
         "liver_seg_exists": "True",
         "study_phase": 5,
         "_deepnote_index_column": 6
        },
        {
         "gpcr_id": 34610002,
         "study_name": "pre-01",
         "is_before_treatment": "True",
         "is_during_treatment": "False",
         "is_after_treatment_end": "False",
         "nth_before_treatment": 1,
         "nth_after_treatment_start": "nan",
         "nth_during_treatment": "nan",
         "nth_after_treatment_end": "nan",
         "n_days_to_treatment_start": -29,
         "n_days_to_treatment_end": -78,
         "malignant_lesions": 18,
         "brain_seg_exists": "True",
         "bones_seg_exists": "True",
         "spleen_seg_exists": "True",
         "aorta_seg_exists": "True",
         "heart_seg_exists": "True",
         "kidney_right_seg_exists": "True",
         "kidney_left_seg_exists": "True",
         "lung_right_seg_exists": "True",
         "lung_left_seg_exists": "True",
         "liver_seg_exists": "True",
         "study_phase": -1,
         "_deepnote_index_column": 7
        },
        {
         "gpcr_id": 34610002,
         "study_name": "post-01",
         "is_before_treatment": "False",
         "is_during_treatment": "False",
         "is_after_treatment_end": "True",
         "nth_before_treatment": "nan",
         "nth_after_treatment_start": 1,
         "nth_during_treatment": "nan",
         "nth_after_treatment_end": 1,
         "n_days_to_treatment_start": 64,
         "n_days_to_treatment_end": 15,
         "malignant_lesions": 73,
         "brain_seg_exists": "True",
         "bones_seg_exists": "True",
         "spleen_seg_exists": "True",
         "aorta_seg_exists": "True",
         "heart_seg_exists": "True",
         "kidney_right_seg_exists": "True",
         "kidney_left_seg_exists": "True",
         "lung_right_seg_exists": "True",
         "lung_left_seg_exists": "True",
         "liver_seg_exists": "True",
         "study_phase": 1,
         "_deepnote_index_column": 8
        },
        {
         "gpcr_id": 34610004,
         "study_name": "pre-02",
         "is_before_treatment": "True",
         "is_during_treatment": "False",
         "is_after_treatment_end": "False",
         "nth_before_treatment": 2,
         "nth_after_treatment_start": "nan",
         "nth_during_treatment": "nan",
         "nth_after_treatment_end": "nan",
         "n_days_to_treatment_start": -62,
         "n_days_to_treatment_end": -433,
         "malignant_lesions": 12,
         "brain_seg_exists": "True",
         "bones_seg_exists": "True",
         "spleen_seg_exists": "True",
         "aorta_seg_exists": "True",
         "heart_seg_exists": "True",
         "kidney_right_seg_exists": "True",
         "kidney_left_seg_exists": "True",
         "lung_right_seg_exists": "True",
         "lung_left_seg_exists": "True",
         "liver_seg_exists": "True",
         "study_phase": -2,
         "_deepnote_index_column": 9
        },
        {
         "gpcr_id": 34610004,
         "study_name": "pre-01",
         "is_before_treatment": "True",
         "is_during_treatment": "False",
         "is_after_treatment_end": "False",
         "nth_before_treatment": 1,
         "nth_after_treatment_start": "nan",
         "nth_during_treatment": "nan",
         "nth_after_treatment_end": "nan",
         "n_days_to_treatment_start": 0,
         "n_days_to_treatment_end": -371,
         "malignant_lesions": 5,
         "brain_seg_exists": "True",
         "bones_seg_exists": "True",
         "spleen_seg_exists": "True",
         "aorta_seg_exists": "True",
         "heart_seg_exists": "True",
         "kidney_right_seg_exists": "True",
         "kidney_left_seg_exists": "True",
         "lung_right_seg_exists": "True",
         "lung_left_seg_exists": "True",
         "liver_seg_exists": "True",
         "study_phase": -1,
         "_deepnote_index_column": 10
        },
        {
         "gpcr_id": 34610004,
         "study_name": "post-01",
         "is_before_treatment": "False",
         "is_during_treatment": "True",
         "is_after_treatment_end": "False",
         "nth_before_treatment": "nan",
         "nth_after_treatment_start": 1,
         "nth_during_treatment": 1,
         "nth_after_treatment_end": "nan",
         "n_days_to_treatment_start": 84,
         "n_days_to_treatment_end": -287,
         "malignant_lesions": 7,
         "brain_seg_exists": "True",
         "bones_seg_exists": "False",
         "spleen_seg_exists": "True",
         "aorta_seg_exists": "True",
         "heart_seg_exists": "True",
         "kidney_right_seg_exists": "True",
         "kidney_left_seg_exists": "True",
         "lung_right_seg_exists": "False",
         "lung_left_seg_exists": "False",
         "liver_seg_exists": "True",
         "study_phase": 1,
         "_deepnote_index_column": 11
        },
        {
         "gpcr_id": 34610004,
         "study_name": "post-02",
         "is_before_treatment": "False",
         "is_during_treatment": "True",
         "is_after_treatment_end": "False",
         "nth_before_treatment": "nan",
         "nth_after_treatment_start": 2,
         "nth_during_treatment": 2,
         "nth_after_treatment_end": "nan",
         "n_days_to_treatment_start": 196,
         "n_days_to_treatment_end": -175,
         "malignant_lesions": 6,
         "brain_seg_exists": "True",
         "bones_seg_exists": "True",
         "spleen_seg_exists": "True",
         "aorta_seg_exists": "True",
         "heart_seg_exists": "True",
         "kidney_right_seg_exists": "True",
         "kidney_left_seg_exists": "True",
         "lung_right_seg_exists": "True",
         "lung_left_seg_exists": "True",
         "liver_seg_exists": "True",
         "study_phase": 2,
         "_deepnote_index_column": 12
        },
        {
         "gpcr_id": 34610004,
         "study_name": "post-03",
         "is_before_treatment": "False",
         "is_during_treatment": "True",
         "is_after_treatment_end": "False",
         "nth_before_treatment": "nan",
         "nth_after_treatment_start": 3,
         "nth_during_treatment": 3,
         "nth_after_treatment_end": "nan",
         "n_days_to_treatment_start": 301,
         "n_days_to_treatment_end": -70,
         "malignant_lesions": 3,
         "brain_seg_exists": "True",
         "bones_seg_exists": "True",
         "spleen_seg_exists": "True",
         "aorta_seg_exists": "True",
         "heart_seg_exists": "True",
         "kidney_right_seg_exists": "True",
         "kidney_left_seg_exists": "True",
         "lung_right_seg_exists": "True",
         "lung_left_seg_exists": "True",
         "liver_seg_exists": "True",
         "study_phase": 3,
         "_deepnote_index_column": 13
        },
        {
         "gpcr_id": 34610004,
         "study_name": "post-04",
         "is_before_treatment": "False",
         "is_during_treatment": "False",
         "is_after_treatment_end": "True",
         "nth_before_treatment": "nan",
         "nth_after_treatment_start": 4,
         "nth_during_treatment": "nan",
         "nth_after_treatment_end": 1,
         "n_days_to_treatment_start": 391,
         "n_days_to_treatment_end": 20,
         "malignant_lesions": 3,
         "brain_seg_exists": "True",
         "bones_seg_exists": "True",
         "spleen_seg_exists": "True",
         "aorta_seg_exists": "True",
         "heart_seg_exists": "True",
         "kidney_right_seg_exists": "True",
         "kidney_left_seg_exists": "True",
         "lung_right_seg_exists": "True",
         "lung_left_seg_exists": "True",
         "liver_seg_exists": "True",
         "study_phase": 4,
         "_deepnote_index_column": 14
        },
        {
         "gpcr_id": 34610004,
         "study_name": "post-05",
         "is_before_treatment": "False",
         "is_during_treatment": "False",
         "is_after_treatment_end": "True",
         "nth_before_treatment": "nan",
         "nth_after_treatment_start": 5,
         "nth_during_treatment": "nan",
         "nth_after_treatment_end": 2,
         "n_days_to_treatment_start": 469,
         "n_days_to_treatment_end": 98,
         "malignant_lesions": 1,
         "brain_seg_exists": "True",
         "bones_seg_exists": "True",
         "spleen_seg_exists": "True",
         "aorta_seg_exists": "True",
         "heart_seg_exists": "True",
         "kidney_right_seg_exists": "True",
         "kidney_left_seg_exists": "True",
         "lung_right_seg_exists": "True",
         "lung_left_seg_exists": "True",
         "liver_seg_exists": "True",
         "study_phase": 5,
         "_deepnote_index_column": 15
        },
        {
         "gpcr_id": 34610004,
         "study_name": "post-06",
         "is_before_treatment": "False",
         "is_during_treatment": "False",
         "is_after_treatment_end": "True",
         "nth_before_treatment": "nan",
         "nth_after_treatment_start": 6,
         "nth_during_treatment": "nan",
         "nth_after_treatment_end": 3,
         "n_days_to_treatment_start": 560,
         "n_days_to_treatment_end": 189,
         "malignant_lesions": 1,
         "brain_seg_exists": "True",
         "bones_seg_exists": "True",
         "spleen_seg_exists": "True",
         "aorta_seg_exists": "True",
         "heart_seg_exists": "True",
         "kidney_right_seg_exists": "True",
         "kidney_left_seg_exists": "True",
         "lung_right_seg_exists": "True",
         "lung_left_seg_exists": "True",
         "liver_seg_exists": "True",
         "study_phase": 6,
         "_deepnote_index_column": 16
        },
        {
         "gpcr_id": 34610004,
         "study_name": "post-07",
         "is_before_treatment": "False",
         "is_during_treatment": "False",
         "is_after_treatment_end": "True",
         "nth_before_treatment": "nan",
         "nth_after_treatment_start": 7,
         "nth_during_treatment": "nan",
         "nth_after_treatment_end": 4,
         "n_days_to_treatment_start": 665,
         "n_days_to_treatment_end": 294,
         "malignant_lesions": 1,
         "brain_seg_exists": "True",
         "bones_seg_exists": "True",
         "spleen_seg_exists": "True",
         "aorta_seg_exists": "True",
         "heart_seg_exists": "True",
         "kidney_right_seg_exists": "True",
         "kidney_left_seg_exists": "True",
         "lung_right_seg_exists": "True",
         "lung_left_seg_exists": "True",
         "liver_seg_exists": "True",
         "study_phase": 7,
         "_deepnote_index_column": 17
        },
        {
         "gpcr_id": 34610005,
         "study_name": "post-01",
         "is_before_treatment": "False",
         "is_during_treatment": "False",
         "is_after_treatment_end": "True",
         "nth_before_treatment": "nan",
         "nth_after_treatment_start": 1,
         "nth_during_treatment": "nan",
         "nth_after_treatment_end": 1,
         "n_days_to_treatment_start": 79,
         "n_days_to_treatment_end": 16,
         "malignant_lesions": 1,
         "brain_seg_exists": "True",
         "bones_seg_exists": "True",
         "spleen_seg_exists": "True",
         "aorta_seg_exists": "True",
         "heart_seg_exists": "True",
         "kidney_right_seg_exists": "True",
         "kidney_left_seg_exists": "True",
         "lung_right_seg_exists": "True",
         "lung_left_seg_exists": "True",
         "liver_seg_exists": "True",
         "study_phase": 1,
         "_deepnote_index_column": 18
        },
        {
         "gpcr_id": 34610005,
         "study_name": "post-02",
         "is_before_treatment": "False",
         "is_during_treatment": "False",
         "is_after_treatment_end": "True",
         "nth_before_treatment": "nan",
         "nth_after_treatment_start": 2,
         "nth_during_treatment": "nan",
         "nth_after_treatment_end": 2,
         "n_days_to_treatment_start": 169,
         "n_days_to_treatment_end": 106,
         "malignant_lesions": 3,
         "brain_seg_exists": "False",
         "bones_seg_exists": "True",
         "spleen_seg_exists": "True",
         "aorta_seg_exists": "True",
         "heart_seg_exists": "True",
         "kidney_right_seg_exists": "True",
         "kidney_left_seg_exists": "True",
         "lung_right_seg_exists": "True",
         "lung_left_seg_exists": "True",
         "liver_seg_exists": "True",
         "study_phase": 2,
         "_deepnote_index_column": 19
        },
        {
         "gpcr_id": 34610005,
         "study_name": "post-03",
         "is_before_treatment": "False",
         "is_during_treatment": "False",
         "is_after_treatment_end": "True",
         "nth_before_treatment": "nan",
         "nth_after_treatment_start": 3,
         "nth_during_treatment": "nan",
         "nth_after_treatment_end": 3,
         "n_days_to_treatment_start": 261,
         "n_days_to_treatment_end": 198,
         "malignant_lesions": 0,
         "brain_seg_exists": "False",
         "bones_seg_exists": "True",
         "spleen_seg_exists": "True",
         "aorta_seg_exists": "True",
         "heart_seg_exists": "True",
         "kidney_right_seg_exists": "True",
         "kidney_left_seg_exists": "True",
         "lung_right_seg_exists": "True",
         "lung_left_seg_exists": "True",
         "liver_seg_exists": "True",
         "study_phase": 3,
         "_deepnote_index_column": 20
        }
       ],
       "rows_bottom": [
        {
         "gpcr_id": 34610143,
         "study_name": "post-04",
         "is_before_treatment": "False",
         "is_during_treatment": "False",
         "is_after_treatment_end": "True",
         "nth_before_treatment": "nan",
         "nth_after_treatment_start": 4,
         "nth_during_treatment": "nan",
         "nth_after_treatment_end": 4,
         "n_days_to_treatment_start": 356,
         "n_days_to_treatment_end": 293,
         "malignant_lesions": 0,
         "brain_seg_exists": "False",
         "bones_seg_exists": "True",
         "spleen_seg_exists": "True",
         "aorta_seg_exists": "True",
         "heart_seg_exists": "True",
         "kidney_right_seg_exists": "True",
         "kidney_left_seg_exists": "True",
         "lung_right_seg_exists": "True",
         "lung_left_seg_exists": "True",
         "liver_seg_exists": "True",
         "study_phase": 4,
         "_deepnote_index_column": 450
        },
        {
         "gpcr_id": 34610144,
         "study_name": "pre-01",
         "is_before_treatment": "True",
         "is_during_treatment": "False",
         "is_after_treatment_end": "False",
         "nth_before_treatment": 1,
         "nth_after_treatment_start": "nan",
         "nth_during_treatment": "nan",
         "nth_after_treatment_end": "nan",
         "n_days_to_treatment_start": -34,
         "n_days_to_treatment_end": -97,
         "malignant_lesions": 0,
         "brain_seg_exists": "False",
         "bones_seg_exists": "False",
         "spleen_seg_exists": "True",
         "aorta_seg_exists": "True",
         "heart_seg_exists": "True",
         "kidney_right_seg_exists": "True",
         "kidney_left_seg_exists": "True",
         "lung_right_seg_exists": "True",
         "lung_left_seg_exists": "True",
         "liver_seg_exists": "True",
         "study_phase": -1,
         "_deepnote_index_column": 451
        },
        {
         "gpcr_id": 34610144,
         "study_name": "post-01",
         "is_before_treatment": "False",
         "is_during_treatment": "True",
         "is_after_treatment_end": "False",
         "nth_before_treatment": "nan",
         "nth_after_treatment_start": 1,
         "nth_during_treatment": 1,
         "nth_after_treatment_end": "nan",
         "n_days_to_treatment_start": 36,
         "n_days_to_treatment_end": -27,
         "malignant_lesions": 6,
         "brain_seg_exists": "True",
         "bones_seg_exists": "True",
         "spleen_seg_exists": "True",
         "aorta_seg_exists": "True",
         "heart_seg_exists": "True",
         "kidney_right_seg_exists": "True",
         "kidney_left_seg_exists": "True",
         "lung_right_seg_exists": "True",
         "lung_left_seg_exists": "True",
         "liver_seg_exists": "True",
         "study_phase": 1,
         "_deepnote_index_column": 452
        },
        {
         "gpcr_id": 34610144,
         "study_name": "post-02",
         "is_before_treatment": "False",
         "is_during_treatment": "False",
         "is_after_treatment_end": "True",
         "nth_before_treatment": "nan",
         "nth_after_treatment_start": 2,
         "nth_during_treatment": "nan",
         "nth_after_treatment_end": 1,
         "n_days_to_treatment_start": 76,
         "n_days_to_treatment_end": 13,
         "malignant_lesions": 9,
         "brain_seg_exists": "True",
         "bones_seg_exists": "True",
         "spleen_seg_exists": "True",
         "aorta_seg_exists": "True",
         "heart_seg_exists": "True",
         "kidney_right_seg_exists": "True",
         "kidney_left_seg_exists": "True",
         "lung_right_seg_exists": "True",
         "lung_left_seg_exists": "True",
         "liver_seg_exists": "True",
         "study_phase": 2,
         "_deepnote_index_column": 453
        },
        {
         "gpcr_id": 34610145,
         "study_name": "pre-02",
         "is_before_treatment": "True",
         "is_during_treatment": "False",
         "is_after_treatment_end": "False",
         "nth_before_treatment": 2,
         "nth_after_treatment_start": "nan",
         "nth_during_treatment": "nan",
         "nth_after_treatment_end": "nan",
         "n_days_to_treatment_start": -41,
         "n_days_to_treatment_end": -62,
         "malignant_lesions": 1,
         "brain_seg_exists": "True",
         "bones_seg_exists": "True",
         "spleen_seg_exists": "True",
         "aorta_seg_exists": "True",
         "heart_seg_exists": "True",
         "kidney_right_seg_exists": "True",
         "kidney_left_seg_exists": "True",
         "lung_right_seg_exists": "True",
         "lung_left_seg_exists": "True",
         "liver_seg_exists": "True",
         "study_phase": -2,
         "_deepnote_index_column": 454
        },
        {
         "gpcr_id": 34610145,
         "study_name": "pre-01",
         "is_before_treatment": "True",
         "is_during_treatment": "False",
         "is_after_treatment_end": "False",
         "nth_before_treatment": 1,
         "nth_after_treatment_start": "nan",
         "nth_during_treatment": "nan",
         "nth_after_treatment_end": "nan",
         "n_days_to_treatment_start": -8,
         "n_days_to_treatment_end": -29,
         "malignant_lesions": 3,
         "brain_seg_exists": "True",
         "bones_seg_exists": "True",
         "spleen_seg_exists": "True",
         "aorta_seg_exists": "True",
         "heart_seg_exists": "True",
         "kidney_right_seg_exists": "True",
         "kidney_left_seg_exists": "True",
         "lung_right_seg_exists": "True",
         "lung_left_seg_exists": "True",
         "liver_seg_exists": "True",
         "study_phase": -1,
         "_deepnote_index_column": 455
        },
        {
         "gpcr_id": 34610145,
         "study_name": "post-01",
         "is_before_treatment": "False",
         "is_during_treatment": "False",
         "is_after_treatment_end": "True",
         "nth_before_treatment": "nan",
         "nth_after_treatment_start": 1,
         "nth_during_treatment": "nan",
         "nth_after_treatment_end": 1,
         "n_days_to_treatment_start": 58,
         "n_days_to_treatment_end": 37,
         "malignant_lesions": 8,
         "brain_seg_exists": "False",
         "bones_seg_exists": "False",
         "spleen_seg_exists": "True",
         "aorta_seg_exists": "True",
         "heart_seg_exists": "True",
         "kidney_right_seg_exists": "True",
         "kidney_left_seg_exists": "True",
         "lung_right_seg_exists": "False",
         "lung_left_seg_exists": "False",
         "liver_seg_exists": "True",
         "study_phase": 1,
         "_deepnote_index_column": 456
        },
        {
         "gpcr_id": 34610146,
         "study_name": "post-01",
         "is_before_treatment": "False",
         "is_during_treatment": "False",
         "is_after_treatment_end": "True",
         "nth_before_treatment": "nan",
         "nth_after_treatment_start": 1,
         "nth_during_treatment": "nan",
         "nth_after_treatment_end": 1,
         "n_days_to_treatment_start": 84,
         "n_days_to_treatment_end": 12,
         "malignant_lesions": 9,
         "brain_seg_exists": "True",
         "bones_seg_exists": "True",
         "spleen_seg_exists": "True",
         "aorta_seg_exists": "True",
         "heart_seg_exists": "True",
         "kidney_right_seg_exists": "True",
         "kidney_left_seg_exists": "True",
         "lung_right_seg_exists": "True",
         "lung_left_seg_exists": "True",
         "liver_seg_exists": "True",
         "study_phase": 1,
         "_deepnote_index_column": 457
        },
        {
         "gpcr_id": 34610146,
         "study_name": "post-03",
         "is_before_treatment": "False",
         "is_during_treatment": "False",
         "is_after_treatment_end": "True",
         "nth_before_treatment": "nan",
         "nth_after_treatment_start": 3,
         "nth_during_treatment": "nan",
         "nth_after_treatment_end": 3,
         "n_days_to_treatment_start": 169,
         "n_days_to_treatment_end": 97,
         "malignant_lesions": 10,
         "brain_seg_exists": "False",
         "bones_seg_exists": "True",
         "spleen_seg_exists": "True",
         "aorta_seg_exists": "True",
         "heart_seg_exists": "True",
         "kidney_right_seg_exists": "True",
         "kidney_left_seg_exists": "True",
         "lung_right_seg_exists": "True",
         "lung_left_seg_exists": "True",
         "liver_seg_exists": "True",
         "study_phase": 3,
         "_deepnote_index_column": 458
        },
        {
         "gpcr_id": 34610147,
         "study_name": "pre-01",
         "is_before_treatment": "True",
         "is_during_treatment": "False",
         "is_after_treatment_end": "False",
         "nth_before_treatment": 1,
         "nth_after_treatment_start": "nan",
         "nth_during_treatment": "nan",
         "nth_after_treatment_end": "nan",
         "n_days_to_treatment_start": -31,
         "n_days_to_treatment_end": -445,
         "malignant_lesions": 17,
         "brain_seg_exists": "False",
         "bones_seg_exists": "True",
         "spleen_seg_exists": "True",
         "aorta_seg_exists": "True",
         "heart_seg_exists": "True",
         "kidney_right_seg_exists": "True",
         "kidney_left_seg_exists": "True",
         "lung_right_seg_exists": "True",
         "lung_left_seg_exists": "True",
         "liver_seg_exists": "True",
         "study_phase": -1,
         "_deepnote_index_column": 459
        },
        {
         "gpcr_id": 34610148,
         "study_name": "post-01",
         "is_before_treatment": "False",
         "is_during_treatment": "True",
         "is_after_treatment_end": "False",
         "nth_before_treatment": "nan",
         "nth_after_treatment_start": 1,
         "nth_during_treatment": 1,
         "nth_after_treatment_end": "nan",
         "n_days_to_treatment_start": 6,
         "n_days_to_treatment_end": -15,
         "malignant_lesions": 14,
         "brain_seg_exists": "True",
         "bones_seg_exists": "True",
         "spleen_seg_exists": "True",
         "aorta_seg_exists": "True",
         "heart_seg_exists": "True",
         "kidney_right_seg_exists": "True",
         "kidney_left_seg_exists": "True",
         "lung_right_seg_exists": "True",
         "lung_left_seg_exists": "True",
         "liver_seg_exists": "True",
         "study_phase": 1,
         "_deepnote_index_column": 460
        },
        {
         "gpcr_id": 34610148,
         "study_name": "post-02",
         "is_before_treatment": "False",
         "is_during_treatment": "False",
         "is_after_treatment_end": "True",
         "nth_before_treatment": "nan",
         "nth_after_treatment_start": 2,
         "nth_during_treatment": "nan",
         "nth_after_treatment_end": 1,
         "n_days_to_treatment_start": 65,
         "n_days_to_treatment_end": 44,
         "malignant_lesions": 16,
         "brain_seg_exists": "True",
         "bones_seg_exists": "True",
         "spleen_seg_exists": "True",
         "aorta_seg_exists": "True",
         "heart_seg_exists": "True",
         "kidney_right_seg_exists": "True",
         "kidney_left_seg_exists": "True",
         "lung_right_seg_exists": "True",
         "lung_left_seg_exists": "True",
         "liver_seg_exists": "True",
         "study_phase": 2,
         "_deepnote_index_column": 461
        },
        {
         "gpcr_id": 34610148,
         "study_name": "post-03",
         "is_before_treatment": "False",
         "is_during_treatment": "False",
         "is_after_treatment_end": "True",
         "nth_before_treatment": "nan",
         "nth_after_treatment_start": 3,
         "nth_during_treatment": "nan",
         "nth_after_treatment_end": 2,
         "n_days_to_treatment_start": 154,
         "n_days_to_treatment_end": 133,
         "malignant_lesions": 1,
         "brain_seg_exists": "True",
         "bones_seg_exists": "True",
         "spleen_seg_exists": "True",
         "aorta_seg_exists": "True",
         "heart_seg_exists": "True",
         "kidney_right_seg_exists": "True",
         "kidney_left_seg_exists": "True",
         "lung_right_seg_exists": "True",
         "lung_left_seg_exists": "True",
         "liver_seg_exists": "True",
         "study_phase": 3,
         "_deepnote_index_column": 462
        },
        {
         "gpcr_id": 34610148,
         "study_name": "post-04",
         "is_before_treatment": "False",
         "is_during_treatment": "False",
         "is_after_treatment_end": "True",
         "nth_before_treatment": "nan",
         "nth_after_treatment_start": 4,
         "nth_during_treatment": "nan",
         "nth_after_treatment_end": 3,
         "n_days_to_treatment_start": 239,
         "n_days_to_treatment_end": 218,
         "malignant_lesions": 0,
         "brain_seg_exists": "True",
         "bones_seg_exists": "True",
         "spleen_seg_exists": "True",
         "aorta_seg_exists": "True",
         "heart_seg_exists": "True",
         "kidney_right_seg_exists": "True",
         "kidney_left_seg_exists": "True",
         "lung_right_seg_exists": "True",
         "lung_left_seg_exists": "True",
         "liver_seg_exists": "True",
         "study_phase": 4,
         "_deepnote_index_column": 463
        },
        {
         "gpcr_id": 34610148,
         "study_name": "post-05",
         "is_before_treatment": "False",
         "is_during_treatment": "False",
         "is_after_treatment_end": "True",
         "nth_before_treatment": "nan",
         "nth_after_treatment_start": 5,
         "nth_during_treatment": "nan",
         "nth_after_treatment_end": 4,
         "n_days_to_treatment_start": 336,
         "n_days_to_treatment_end": 315,
         "malignant_lesions": 1,
         "brain_seg_exists": "True",
         "bones_seg_exists": "True",
         "spleen_seg_exists": "True",
         "aorta_seg_exists": "True",
         "heart_seg_exists": "True",
         "kidney_right_seg_exists": "True",
         "kidney_left_seg_exists": "True",
         "lung_right_seg_exists": "True",
         "lung_left_seg_exists": "True",
         "liver_seg_exists": "True",
         "study_phase": 5,
         "_deepnote_index_column": 464
        },
        {
         "gpcr_id": 34610149,
         "study_name": "pre-01",
         "is_before_treatment": "True",
         "is_during_treatment": "False",
         "is_after_treatment_end": "False",
         "nth_before_treatment": 1,
         "nth_after_treatment_start": "nan",
         "nth_during_treatment": "nan",
         "nth_after_treatment_end": "nan",
         "n_days_to_treatment_start": -29,
         "n_days_to_treatment_end": -95,
         "malignant_lesions": 1,
         "brain_seg_exists": "True",
         "bones_seg_exists": "True",
         "spleen_seg_exists": "True",
         "aorta_seg_exists": "True",
         "heart_seg_exists": "True",
         "kidney_right_seg_exists": "True",
         "kidney_left_seg_exists": "True",
         "lung_right_seg_exists": "True",
         "lung_left_seg_exists": "True",
         "liver_seg_exists": "True",
         "study_phase": -1,
         "_deepnote_index_column": 465
        },
        {
         "gpcr_id": 34610149,
         "study_name": "post-01",
         "is_before_treatment": "False",
         "is_during_treatment": "False",
         "is_after_treatment_end": "True",
         "nth_before_treatment": "nan",
         "nth_after_treatment_start": 1,
         "nth_during_treatment": "nan",
         "nth_after_treatment_end": 1,
         "n_days_to_treatment_start": 80,
         "n_days_to_treatment_end": 14,
         "malignant_lesions": 7,
         "brain_seg_exists": "True",
         "bones_seg_exists": "True",
         "spleen_seg_exists": "True",
         "aorta_seg_exists": "True",
         "heart_seg_exists": "True",
         "kidney_right_seg_exists": "True",
         "kidney_left_seg_exists": "True",
         "lung_right_seg_exists": "True",
         "lung_left_seg_exists": "True",
         "liver_seg_exists": "True",
         "study_phase": 1,
         "_deepnote_index_column": 466
        },
        {
         "gpcr_id": 34610149,
         "study_name": "post-02",
         "is_before_treatment": "False",
         "is_during_treatment": "False",
         "is_after_treatment_end": "True",
         "nth_before_treatment": "nan",
         "nth_after_treatment_start": 2,
         "nth_during_treatment": "nan",
         "nth_after_treatment_end": 2,
         "n_days_to_treatment_start": 136,
         "n_days_to_treatment_end": 70,
         "malignant_lesions": 12,
         "brain_seg_exists": "True",
         "bones_seg_exists": "True",
         "spleen_seg_exists": "True",
         "aorta_seg_exists": "True",
         "heart_seg_exists": "True",
         "kidney_right_seg_exists": "True",
         "kidney_left_seg_exists": "True",
         "lung_right_seg_exists": "True",
         "lung_left_seg_exists": "True",
         "liver_seg_exists": "True",
         "study_phase": 2,
         "_deepnote_index_column": 467
        },
        {
         "gpcr_id": 34610150,
         "study_name": "post-01",
         "is_before_treatment": "False",
         "is_during_treatment": "False",
         "is_after_treatment_end": "True",
         "nth_before_treatment": "nan",
         "nth_after_treatment_start": 1,
         "nth_during_treatment": "nan",
         "nth_after_treatment_end": 1,
         "n_days_to_treatment_start": 63,
         "n_days_to_treatment_end": 42,
         "malignant_lesions": 0,
         "brain_seg_exists": "False",
         "bones_seg_exists": "False",
         "spleen_seg_exists": "True",
         "aorta_seg_exists": "True",
         "heart_seg_exists": "True",
         "kidney_right_seg_exists": "True",
         "kidney_left_seg_exists": "True",
         "lung_right_seg_exists": "True",
         "lung_left_seg_exists": "True",
         "liver_seg_exists": "True",
         "study_phase": 1,
         "_deepnote_index_column": 468
        },
        {
         "gpcr_id": 34610150,
         "study_name": "post-02",
         "is_before_treatment": "False",
         "is_during_treatment": "False",
         "is_after_treatment_end": "True",
         "nth_before_treatment": "nan",
         "nth_after_treatment_start": 2,
         "nth_during_treatment": "nan",
         "nth_after_treatment_end": 2,
         "n_days_to_treatment_start": 147,
         "n_days_to_treatment_end": 126,
         "malignant_lesions": 0,
         "brain_seg_exists": "True",
         "bones_seg_exists": "True",
         "spleen_seg_exists": "True",
         "aorta_seg_exists": "True",
         "heart_seg_exists": "True",
         "kidney_right_seg_exists": "True",
         "kidney_left_seg_exists": "True",
         "lung_right_seg_exists": "True",
         "lung_left_seg_exists": "True",
         "liver_seg_exists": "True",
         "study_phase": 2,
         "_deepnote_index_column": 469
        },
        {
         "gpcr_id": 34610150,
         "study_name": "post-03",
         "is_before_treatment": "False",
         "is_during_treatment": "False",
         "is_after_treatment_end": "True",
         "nth_before_treatment": "nan",
         "nth_after_treatment_start": 3,
         "nth_during_treatment": "nan",
         "nth_after_treatment_end": 3,
         "n_days_to_treatment_start": 247,
         "n_days_to_treatment_end": 226,
         "malignant_lesions": 0,
         "brain_seg_exists": "True",
         "bones_seg_exists": "True",
         "spleen_seg_exists": "True",
         "aorta_seg_exists": "True",
         "heart_seg_exists": "True",
         "kidney_right_seg_exists": "True",
         "kidney_left_seg_exists": "True",
         "lung_right_seg_exists": "True",
         "lung_left_seg_exists": "True",
         "liver_seg_exists": "True",
         "study_phase": 3,
         "_deepnote_index_column": 470
        },
        {
         "gpcr_id": 34610150,
         "study_name": "post-04",
         "is_before_treatment": "False",
         "is_during_treatment": "False",
         "is_after_treatment_end": "True",
         "nth_before_treatment": "nan",
         "nth_after_treatment_start": 4,
         "nth_during_treatment": "nan",
         "nth_after_treatment_end": 4,
         "n_days_to_treatment_start": 335,
         "n_days_to_treatment_end": 314,
         "malignant_lesions": 0,
         "brain_seg_exists": "True",
         "bones_seg_exists": "True",
         "spleen_seg_exists": "True",
         "aorta_seg_exists": "True",
         "heart_seg_exists": "True",
         "kidney_right_seg_exists": "True",
         "kidney_left_seg_exists": "True",
         "lung_right_seg_exists": "True",
         "lung_left_seg_exists": "True",
         "liver_seg_exists": "True",
         "study_phase": 4,
         "_deepnote_index_column": 471
        }
       ]
      },
      "text/plain": "      gpcr_id study_name  is_before_treatment  is_during_treatment  \\\n0    34610001     pre-02                 True                False   \n1    34610001     pre-01                 True                False   \n2    34610001    post-01                False                False   \n3    34610001    post-02                False                False   \n4    34610001    post-03                False                False   \n..        ...        ...                  ...                  ...   \n467  34610149    post-02                False                False   \n468  34610150    post-01                False                False   \n469  34610150    post-02                False                False   \n470  34610150    post-03                False                False   \n471  34610150    post-04                False                False   \n\n     is_after_treatment_end  nth_before_treatment  nth_after_treatment_start  \\\n0                     False                   2.0                        NaN   \n1                     False                   1.0                        NaN   \n2                      True                   NaN                        1.0   \n3                      True                   NaN                        2.0   \n4                      True                   NaN                        3.0   \n..                      ...                   ...                        ...   \n467                    True                   NaN                        2.0   \n468                    True                   NaN                        1.0   \n469                    True                   NaN                        2.0   \n470                    True                   NaN                        3.0   \n471                    True                   NaN                        4.0   \n\n     nth_during_treatment  nth_after_treatment_end  n_days_to_treatment_start  \\\n0                     NaN                      NaN                        -43   \n1                     NaN                      NaN                         -7   \n2                     NaN                      1.0                         87   \n3                     NaN                      2.0                        183   \n4                     NaN                      3.0                        275   \n..                    ...                      ...                        ...   \n467                   NaN                      2.0                        136   \n468                   NaN                      1.0                         63   \n469                   NaN                      2.0                        147   \n470                   NaN                      3.0                        247   \n471                   NaN                      4.0                        335   \n\n     ...  bones_seg_exists  spleen_seg_exists  aorta_seg_exists  \\\n0    ...              True               True              True   \n1    ...              True               True              True   \n2    ...              True               True              True   \n3    ...              True               True              True   \n4    ...              True               True              True   \n..   ...               ...                ...               ...   \n467  ...              True               True              True   \n468  ...             False               True              True   \n469  ...              True               True              True   \n470  ...              True               True              True   \n471  ...              True               True              True   \n\n     heart_seg_exists  kidney_right_seg_exists  kidney_left_seg_exists  \\\n0                True                     True                    True   \n1                True                     True                    True   \n2                True                     True                    True   \n3                True                    False                   False   \n4                True                     True                    True   \n..                ...                      ...                     ...   \n467              True                     True                    True   \n468              True                     True                    True   \n469              True                     True                    True   \n470              True                     True                    True   \n471              True                     True                    True   \n\n     lung_right_seg_exists  lung_left_seg_exists  liver_seg_exists  \\\n0                     True                  True              True   \n1                     True                  True              True   \n2                     True                  True              True   \n3                     True                  True              True   \n4                     True                  True              True   \n..                     ...                   ...               ...   \n467                   True                  True              True   \n468                   True                  True              True   \n469                   True                  True              True   \n470                   True                  True              True   \n471                   True                  True              True   \n\n     study_phase  \n0             -2  \n1             -1  \n2              1  \n3              2  \n4              3  \n..           ...  \n467            2  \n468            1  \n469            2  \n470            3  \n471            4  \n\n[472 rows x 23 columns]",
      "text/html": "<div>\n<style scoped>\n    .dataframe tbody tr th:only-of-type {\n        vertical-align: middle;\n    }\n\n    .dataframe tbody tr th {\n        vertical-align: top;\n    }\n\n    .dataframe thead th {\n        text-align: right;\n    }\n</style>\n<table border=\"1\" class=\"dataframe\">\n  <thead>\n    <tr style=\"text-align: right;\">\n      <th></th>\n      <th>gpcr_id</th>\n      <th>study_name</th>\n      <th>is_before_treatment</th>\n      <th>is_during_treatment</th>\n      <th>is_after_treatment_end</th>\n      <th>nth_before_treatment</th>\n      <th>nth_after_treatment_start</th>\n      <th>nth_during_treatment</th>\n      <th>nth_after_treatment_end</th>\n      <th>n_days_to_treatment_start</th>\n      <th>...</th>\n      <th>bones_seg_exists</th>\n      <th>spleen_seg_exists</th>\n      <th>aorta_seg_exists</th>\n      <th>heart_seg_exists</th>\n      <th>kidney_right_seg_exists</th>\n      <th>kidney_left_seg_exists</th>\n      <th>lung_right_seg_exists</th>\n      <th>lung_left_seg_exists</th>\n      <th>liver_seg_exists</th>\n      <th>study_phase</th>\n    </tr>\n  </thead>\n  <tbody>\n    <tr>\n      <th>0</th>\n      <td>34610001</td>\n      <td>pre-02</td>\n      <td>True</td>\n      <td>False</td>\n      <td>False</td>\n      <td>2.0</td>\n      <td>NaN</td>\n      <td>NaN</td>\n      <td>NaN</td>\n      <td>-43</td>\n      <td>...</td>\n      <td>True</td>\n      <td>True</td>\n      <td>True</td>\n      <td>True</td>\n      <td>True</td>\n      <td>True</td>\n      <td>True</td>\n      <td>True</td>\n      <td>True</td>\n      <td>-2</td>\n    </tr>\n    <tr>\n      <th>1</th>\n      <td>34610001</td>\n      <td>pre-01</td>\n      <td>True</td>\n      <td>False</td>\n      <td>False</td>\n      <td>1.0</td>\n      <td>NaN</td>\n      <td>NaN</td>\n      <td>NaN</td>\n      <td>-7</td>\n      <td>...</td>\n      <td>True</td>\n      <td>True</td>\n      <td>True</td>\n      <td>True</td>\n      <td>True</td>\n      <td>True</td>\n      <td>True</td>\n      <td>True</td>\n      <td>True</td>\n      <td>-1</td>\n    </tr>\n    <tr>\n      <th>2</th>\n      <td>34610001</td>\n      <td>post-01</td>\n      <td>False</td>\n      <td>False</td>\n      <td>True</td>\n      <td>NaN</td>\n      <td>1.0</td>\n      <td>NaN</td>\n      <td>1.0</td>\n      <td>87</td>\n      <td>...</td>\n      <td>True</td>\n      <td>True</td>\n      <td>True</td>\n      <td>True</td>\n      <td>True</td>\n      <td>True</td>\n      <td>True</td>\n      <td>True</td>\n      <td>True</td>\n      <td>1</td>\n    </tr>\n    <tr>\n      <th>3</th>\n      <td>34610001</td>\n      <td>post-02</td>\n      <td>False</td>\n      <td>False</td>\n      <td>True</td>\n      <td>NaN</td>\n      <td>2.0</td>\n      <td>NaN</td>\n      <td>2.0</td>\n      <td>183</td>\n      <td>...</td>\n      <td>True</td>\n      <td>True</td>\n      <td>True</td>\n      <td>True</td>\n      <td>False</td>\n      <td>False</td>\n      <td>True</td>\n      <td>True</td>\n      <td>True</td>\n      <td>2</td>\n    </tr>\n    <tr>\n      <th>4</th>\n      <td>34610001</td>\n      <td>post-03</td>\n      <td>False</td>\n      <td>False</td>\n      <td>True</td>\n      <td>NaN</td>\n      <td>3.0</td>\n      <td>NaN</td>\n      <td>3.0</td>\n      <td>275</td>\n      <td>...</td>\n      <td>True</td>\n      <td>True</td>\n      <td>True</td>\n      <td>True</td>\n      <td>True</td>\n      <td>True</td>\n      <td>True</td>\n      <td>True</td>\n      <td>True</td>\n      <td>3</td>\n    </tr>\n    <tr>\n      <th>...</th>\n      <td>...</td>\n      <td>...</td>\n      <td>...</td>\n      <td>...</td>\n      <td>...</td>\n      <td>...</td>\n      <td>...</td>\n      <td>...</td>\n      <td>...</td>\n      <td>...</td>\n      <td>...</td>\n      <td>...</td>\n      <td>...</td>\n      <td>...</td>\n      <td>...</td>\n      <td>...</td>\n      <td>...</td>\n      <td>...</td>\n      <td>...</td>\n      <td>...</td>\n      <td>...</td>\n    </tr>\n    <tr>\n      <th>467</th>\n      <td>34610149</td>\n      <td>post-02</td>\n      <td>False</td>\n      <td>False</td>\n      <td>True</td>\n      <td>NaN</td>\n      <td>2.0</td>\n      <td>NaN</td>\n      <td>2.0</td>\n      <td>136</td>\n      <td>...</td>\n      <td>True</td>\n      <td>True</td>\n      <td>True</td>\n      <td>True</td>\n      <td>True</td>\n      <td>True</td>\n      <td>True</td>\n      <td>True</td>\n      <td>True</td>\n      <td>2</td>\n    </tr>\n    <tr>\n      <th>468</th>\n      <td>34610150</td>\n      <td>post-01</td>\n      <td>False</td>\n      <td>False</td>\n      <td>True</td>\n      <td>NaN</td>\n      <td>1.0</td>\n      <td>NaN</td>\n      <td>1.0</td>\n      <td>63</td>\n      <td>...</td>\n      <td>False</td>\n      <td>True</td>\n      <td>True</td>\n      <td>True</td>\n      <td>True</td>\n      <td>True</td>\n      <td>True</td>\n      <td>True</td>\n      <td>True</td>\n      <td>1</td>\n    </tr>\n    <tr>\n      <th>469</th>\n      <td>34610150</td>\n      <td>post-02</td>\n      <td>False</td>\n      <td>False</td>\n      <td>True</td>\n      <td>NaN</td>\n      <td>2.0</td>\n      <td>NaN</td>\n      <td>2.0</td>\n      <td>147</td>\n      <td>...</td>\n      <td>True</td>\n      <td>True</td>\n      <td>True</td>\n      <td>True</td>\n      <td>True</td>\n      <td>True</td>\n      <td>True</td>\n      <td>True</td>\n      <td>True</td>\n      <td>2</td>\n    </tr>\n    <tr>\n      <th>470</th>\n      <td>34610150</td>\n      <td>post-03</td>\n      <td>False</td>\n      <td>False</td>\n      <td>True</td>\n      <td>NaN</td>\n      <td>3.0</td>\n      <td>NaN</td>\n      <td>3.0</td>\n      <td>247</td>\n      <td>...</td>\n      <td>True</td>\n      <td>True</td>\n      <td>True</td>\n      <td>True</td>\n      <td>True</td>\n      <td>True</td>\n      <td>True</td>\n      <td>True</td>\n      <td>True</td>\n      <td>3</td>\n    </tr>\n    <tr>\n      <th>471</th>\n      <td>34610150</td>\n      <td>post-04</td>\n      <td>False</td>\n      <td>False</td>\n      <td>True</td>\n      <td>NaN</td>\n      <td>4.0</td>\n      <td>NaN</td>\n      <td>4.0</td>\n      <td>335</td>\n      <td>...</td>\n      <td>True</td>\n      <td>True</td>\n      <td>True</td>\n      <td>True</td>\n      <td>True</td>\n      <td>True</td>\n      <td>True</td>\n      <td>True</td>\n      <td>True</td>\n      <td>4</td>\n    </tr>\n  </tbody>\n</table>\n<p>472 rows × 23 columns</p>\n</div>"
     },
     "metadata": {}
    }
   ],
   "execution_count": null
  },
  {
   "cell_type": "code",
   "metadata": {
    "cell_id": "00023-976fe673-3158-42a5-8da9-0ac01fdcdf50",
    "deepnote_to_be_reexecuted": false,
    "execution_millis": 1,
    "execution_start": 1633024067777,
    "source_hash": "1544ff05",
    "tags": [],
    "deepnote_cell_type": "code"
   },
   "source": "studies_labels = {\n    **lesions_labels,\n    'response': 'Immunotherapeutic response',\n    'tmtv': 'Total Metabolic Tumor Volume (ccm)',\n    'baseline': 'Baseline TMTV (ccm)'\n}",
   "outputs": [],
   "execution_count": null
  },
  {
   "cell_type": "markdown",
   "source": "#### Creating temporary labels using TMTV (Total Metabolic Tumor Volume)\n\n\n* If TMTV is non-zero, but lower compared to baseline: Partial response\n* If TMTV is zero / no lesions detected: Complete response\n* If TMTV > 'best' previous response: progressive disease.\n     'Best' previous responds means minimum TMTV in previous time points\n* Otherwise: stable disease",
   "metadata": {
    "cell_id": "00024-66767ab4-d85e-42f3-a458-abd5c3748409",
    "deepnote_app_coordinates": {
     "h": 5,
     "w": 12,
     "x": 0,
     "y": 0
    },
    "tags": [],
    "deepnote_cell_type": "markdown"
   }
  },
  {
   "cell_type": "markdown",
   "source": "e.g. for 4 timepoints, TMTV in arbitrary units, just to illustrate the trend:\n- TMTV = 10, 11, 14, 11 -> baseline, progressing, progressing, progressing, progressing\n- TMTV = 10, 8, 5, 4, 4   -> baseline, responding, responding, responding, responding/stable (not sure)\n- TMTV = 10, 8, 5, 8, 10 -> baseline, responding, responding, progressing, progressing",
   "metadata": {
    "cell_id": "00026-426e10a6-0e0a-4aed-bfd6-422900261f25",
    "tags": [],
    "deepnote_cell_type": "markdown"
   }
  },
  {
   "cell_type": "code",
   "metadata": {
    "cell_id": "00025-265a3e59-eda1-45fa-b4ee-60ee6c4b5c90",
    "deepnote_to_be_reexecuted": false,
    "execution_millis": 2,
    "execution_start": 1633024069901,
    "source_hash": "76c23983",
    "tags": [],
    "deepnote_cell_type": "code"
   },
   "source": "def classify_response(row):\n    # Compare current vs. baseline\n    if row.tmtv < row.baseline:\n        return 'response'\n    elif row.tmtv == row.baseline:\n        return 'baseline'\n    else:\n        return 'progression'",
   "outputs": [],
   "execution_count": null
  },
  {
   "cell_type": "code",
   "metadata": {
    "cell_id": "00036-3cceff1f-4e75-411b-99e5-13faf259d66e",
    "deepnote_app_coordinates": {
     "h": 5,
     "w": 12,
     "x": 0,
     "y": 216
    },
    "deepnote_app_is_code_hidden": true,
    "deepnote_to_be_reexecuted": false,
    "execution_millis": 173,
    "execution_start": 1633024070558,
    "source_hash": "e443b8ed",
    "deepnote_cell_type": "code"
   },
   "source": "# Compute TMTV by summing `vol_ccm` per study\nlabels = lesions.groupby(['gpcr_id', 'study_phase']).vol_ccm.sum().to_frame('tmtv').reset_index()\n\n# Find `labels` id of each patient's baseline TMTV\nbaseline_idx = labels.groupby('gpcr_id').study_phase.idxmin().to_dict()\nlabels['baseline'] = labels.gpcr_id.apply(\n    lambda i: labels.loc[baseline_idx[i]].tmtv)\nlabels['response'] = labels.apply(classify_response, axis=1)\n\nprint(f'Response computed for {labels.shape[0]} studies: \\n{labels.response.value_counts()}')",
   "outputs": [
    {
     "name": "stdout",
     "text": "Response computed for 366 studies: \nprogression    124\nresponse       123\nbaseline       119\nName: response, dtype: int64\n",
     "output_type": "stream"
    }
   ],
   "execution_count": null
  },
  {
   "cell_type": "code",
   "metadata": {
    "cell_id": "00029-9cfa196a-32c9-4324-947d-06075574f5d4",
    "deepnote_app_coordinates": {
     "h": 5,
     "w": 12,
     "x": 0,
     "y": 0
    },
    "deepnote_app_is_code_hidden": true,
    "deepnote_to_be_reexecuted": false,
    "execution_millis": 14,
    "execution_start": 1633024071678,
    "source_hash": "8355433f",
    "tags": [],
    "deepnote_cell_type": "code"
   },
   "source": "labels.head()",
   "outputs": [
    {
     "output_type": "execute_result",
     "execution_count": 43,
     "data": {
      "application/vnd.deepnote.dataframe.v2+json": {
       "row_count": 366,
       "column_count": 5,
       "columns": [
        {
         "name": "gpcr_id",
         "dtype": "int64",
         "stats": {
          "unique_count": 119,
          "nan_count": 0,
          "min": "34610002",
          "max": "34610149",
          "histogram": [
           {
            "bin_start": 34610002,
            "bin_end": 34610016.7,
            "count": 62
           },
           {
            "bin_start": 34610016.7,
            "bin_end": 34610031.4,
            "count": 55
           },
           {
            "bin_start": 34610031.4,
            "bin_end": 34610046.1,
            "count": 41
           },
           {
            "bin_start": 34610046.1,
            "bin_end": 34610060.8,
            "count": 17
           },
           {
            "bin_start": 34610060.8,
            "bin_end": 34610075.5,
            "count": 30
           },
           {
            "bin_start": 34610075.5,
            "bin_end": 34610090.2,
            "count": 31
           },
           {
            "bin_start": 34610090.2,
            "bin_end": 34610104.9,
            "count": 33
           },
           {
            "bin_start": 34610104.9,
            "bin_end": 34610119.6,
            "count": 36
           },
           {
            "bin_start": 34610119.6,
            "bin_end": 34610134.3,
            "count": 30
           },
           {
            "bin_start": 34610134.3,
            "bin_end": 34610149,
            "count": 31
           }
          ]
         }
        },
        {
         "name": "study_phase",
         "dtype": "int64",
         "stats": {
          "unique_count": 16,
          "nan_count": 0,
          "min": "-2",
          "max": "14",
          "histogram": [
           {
            "bin_start": -2,
            "bin_end": -0.3999999999999999,
            "count": 83
           },
           {
            "bin_start": -0.3999999999999999,
            "bin_end": 1.2000000000000002,
            "count": 95
           },
           {
            "bin_start": 1.2000000000000002,
            "bin_end": 2.8000000000000007,
            "count": 54
           },
           {
            "bin_start": 2.8000000000000007,
            "bin_end": 4.4,
            "count": 68
           },
           {
            "bin_start": 4.4,
            "bin_end": 6,
            "count": 24
           },
           {
            "bin_start": 6,
            "bin_end": 7.600000000000001,
            "count": 22
           },
           {
            "bin_start": 7.600000000000001,
            "bin_end": 9.200000000000001,
            "count": 12
           },
           {
            "bin_start": 9.200000000000001,
            "bin_end": 10.8,
            "count": 4
           },
           {
            "bin_start": 10.8,
            "bin_end": 12.4,
            "count": 2
           },
           {
            "bin_start": 12.4,
            "bin_end": 14,
            "count": 2
           }
          ]
         }
        },
        {
         "name": "tmtv",
         "dtype": "float64",
         "stats": {
          "unique_count": 354,
          "nan_count": 0,
          "min": "0.51",
          "max": "555.2399999999999",
          "histogram": [
           {
            "bin_start": 0.51,
            "bin_end": 55.98299999999999,
            "count": 252
           },
           {
            "bin_start": 55.98299999999999,
            "bin_end": 111.45599999999999,
            "count": 56
           },
           {
            "bin_start": 111.45599999999999,
            "bin_end": 166.92899999999997,
            "count": 24
           },
           {
            "bin_start": 166.92899999999997,
            "bin_end": 222.40199999999996,
            "count": 11
           },
           {
            "bin_start": 222.40199999999996,
            "bin_end": 277.87499999999994,
            "count": 11
           },
           {
            "bin_start": 277.87499999999994,
            "bin_end": 333.34799999999996,
            "count": 6
           },
           {
            "bin_start": 333.34799999999996,
            "bin_end": 388.8209999999999,
            "count": 0
           },
           {
            "bin_start": 388.8209999999999,
            "bin_end": 444.2939999999999,
            "count": 3
           },
           {
            "bin_start": 444.2939999999999,
            "bin_end": 499.76699999999994,
            "count": 2
           },
           {
            "bin_start": 499.76699999999994,
            "bin_end": 555.2399999999999,
            "count": 1
           }
          ]
         }
        },
        {
         "name": "baseline",
         "dtype": "float64",
         "stats": {
          "unique_count": 119,
          "nan_count": 0,
          "min": "0.51",
          "max": "456.16",
          "histogram": [
           {
            "bin_start": 0.51,
            "bin_end": 46.075,
            "count": 235
           },
           {
            "bin_start": 46.075,
            "bin_end": 91.64000000000001,
            "count": 80
           },
           {
            "bin_start": 91.64000000000001,
            "bin_end": 137.205,
            "count": 19
           },
           {
            "bin_start": 137.205,
            "bin_end": 182.77,
            "count": 13
           },
           {
            "bin_start": 182.77,
            "bin_end": 228.335,
            "count": 9
           },
           {
            "bin_start": 228.335,
            "bin_end": 273.90000000000003,
            "count": 2
           },
           {
            "bin_start": 273.90000000000003,
            "bin_end": 319.46500000000003,
            "count": 4
           },
           {
            "bin_start": 319.46500000000003,
            "bin_end": 365.03000000000003,
            "count": 0
           },
           {
            "bin_start": 365.03000000000003,
            "bin_end": 410.595,
            "count": 2
           },
           {
            "bin_start": 410.595,
            "bin_end": 456.16,
            "count": 2
           }
          ]
         }
        },
        {
         "name": "response",
         "dtype": "object",
         "stats": {
          "unique_count": 3,
          "nan_count": 0,
          "categories": [
           {
            "name": "progression",
            "count": 124
           },
           {
            "name": "response",
            "count": 123
           },
           {
            "name": "baseline",
            "count": 119
           }
          ]
         }
        },
        {
         "name": "_deepnote_index_column",
         "dtype": "int64"
        }
       ],
       "rows_top": [
        {
         "gpcr_id": 34610002,
         "study_phase": -1,
         "tmtv": 36.38,
         "baseline": 36.38,
         "response": "baseline",
         "_deepnote_index_column": 0
        },
        {
         "gpcr_id": 34610002,
         "study_phase": 1,
         "tmtv": 255.98999999999998,
         "baseline": 36.38,
         "response": "progression",
         "_deepnote_index_column": 1
        },
        {
         "gpcr_id": 34610004,
         "study_phase": -2,
         "tmtv": 16.150000000000002,
         "baseline": 16.150000000000002,
         "response": "baseline",
         "_deepnote_index_column": 2
        },
        {
         "gpcr_id": 34610004,
         "study_phase": -1,
         "tmtv": 16.73,
         "baseline": 16.150000000000002,
         "response": "progression",
         "_deepnote_index_column": 3
        },
        {
         "gpcr_id": 34610004,
         "study_phase": 1,
         "tmtv": 23.049999999999997,
         "baseline": 16.150000000000002,
         "response": "progression",
         "_deepnote_index_column": 4
        },
        {
         "gpcr_id": 34610004,
         "study_phase": 2,
         "tmtv": 34.84,
         "baseline": 16.150000000000002,
         "response": "progression",
         "_deepnote_index_column": 5
        },
        {
         "gpcr_id": 34610004,
         "study_phase": 3,
         "tmtv": 6.23,
         "baseline": 16.150000000000002,
         "response": "response",
         "_deepnote_index_column": 6
        },
        {
         "gpcr_id": 34610004,
         "study_phase": 4,
         "tmtv": 2.87,
         "baseline": 16.150000000000002,
         "response": "response",
         "_deepnote_index_column": 7
        },
        {
         "gpcr_id": 34610004,
         "study_phase": 5,
         "tmtv": 4.16,
         "baseline": 16.150000000000002,
         "response": "response",
         "_deepnote_index_column": 8
        },
        {
         "gpcr_id": 34610004,
         "study_phase": 6,
         "tmtv": 1.42,
         "baseline": 16.150000000000002,
         "response": "response",
         "_deepnote_index_column": 9
        },
        {
         "gpcr_id": 34610004,
         "study_phase": 7,
         "tmtv": 0.66,
         "baseline": 16.150000000000002,
         "response": "response",
         "_deepnote_index_column": 10
        },
        {
         "gpcr_id": 34610005,
         "study_phase": 1,
         "tmtv": 0.88,
         "baseline": 0.88,
         "response": "baseline",
         "_deepnote_index_column": 11
        },
        {
         "gpcr_id": 34610005,
         "study_phase": 2,
         "tmtv": 27.019999999999996,
         "baseline": 0.88,
         "response": "progression",
         "_deepnote_index_column": 12
        },
        {
         "gpcr_id": 34610005,
         "study_phase": 4,
         "tmtv": 9.76,
         "baseline": 0.88,
         "response": "progression",
         "_deepnote_index_column": 13
        },
        {
         "gpcr_id": 34610005,
         "study_phase": 5,
         "tmtv": 8.88,
         "baseline": 0.88,
         "response": "progression",
         "_deepnote_index_column": 14
        },
        {
         "gpcr_id": 34610005,
         "study_phase": 7,
         "tmtv": 20.2,
         "baseline": 0.88,
         "response": "progression",
         "_deepnote_index_column": 15
        },
        {
         "gpcr_id": 34610005,
         "study_phase": 8,
         "tmtv": 128.52,
         "baseline": 0.88,
         "response": "progression",
         "_deepnote_index_column": 16
        },
        {
         "gpcr_id": 34610005,
         "study_phase": 9,
         "tmtv": 33.57,
         "baseline": 0.88,
         "response": "progression",
         "_deepnote_index_column": 17
        },
        {
         "gpcr_id": 34610005,
         "study_phase": 10,
         "tmtv": 66.21,
         "baseline": 0.88,
         "response": "progression",
         "_deepnote_index_column": 18
        },
        {
         "gpcr_id": 34610006,
         "study_phase": -1,
         "tmtv": 57.769999999999996,
         "baseline": 57.769999999999996,
         "response": "baseline",
         "_deepnote_index_column": 19
        },
        {
         "gpcr_id": 34610006,
         "study_phase": 1,
         "tmtv": 22.47,
         "baseline": 57.769999999999996,
         "response": "response",
         "_deepnote_index_column": 20
        },
        {
         "gpcr_id": 34610006,
         "study_phase": 2,
         "tmtv": 8.66,
         "baseline": 57.769999999999996,
         "response": "response",
         "_deepnote_index_column": 21
        },
        {
         "gpcr_id": 34610006,
         "study_phase": 3,
         "tmtv": 268.30999999999995,
         "baseline": 57.769999999999996,
         "response": "progression",
         "_deepnote_index_column": 22
        },
        {
         "gpcr_id": 34610006,
         "study_phase": 4,
         "tmtv": 5.65,
         "baseline": 57.769999999999996,
         "response": "response",
         "_deepnote_index_column": 23
        },
        {
         "gpcr_id": 34610006,
         "study_phase": 5,
         "tmtv": 20.73,
         "baseline": 57.769999999999996,
         "response": "response",
         "_deepnote_index_column": 24
        },
        {
         "gpcr_id": 34610006,
         "study_phase": 6,
         "tmtv": 4.24,
         "baseline": 57.769999999999996,
         "response": "response",
         "_deepnote_index_column": 25
        },
        {
         "gpcr_id": 34610006,
         "study_phase": 7,
         "tmtv": 7.220000000000001,
         "baseline": 57.769999999999996,
         "response": "response",
         "_deepnote_index_column": 26
        },
        {
         "gpcr_id": 34610006,
         "study_phase": 8,
         "tmtv": 10.17,
         "baseline": 57.769999999999996,
         "response": "response",
         "_deepnote_index_column": 27
        },
        {
         "gpcr_id": 34610007,
         "study_phase": -1,
         "tmtv": 18.950000000000003,
         "baseline": 18.950000000000003,
         "response": "baseline",
         "_deepnote_index_column": 28
        },
        {
         "gpcr_id": 34610007,
         "study_phase": 1,
         "tmtv": 78.53,
         "baseline": 18.950000000000003,
         "response": "progression",
         "_deepnote_index_column": 29
        },
        {
         "gpcr_id": 34610007,
         "study_phase": 2,
         "tmtv": 71.03,
         "baseline": 18.950000000000003,
         "response": "progression",
         "_deepnote_index_column": 30
        },
        {
         "gpcr_id": 34610007,
         "study_phase": 3,
         "tmtv": 2.59,
         "baseline": 18.950000000000003,
         "response": "response",
         "_deepnote_index_column": 31
        },
        {
         "gpcr_id": 34610007,
         "study_phase": 4,
         "tmtv": 4.449999999999999,
         "baseline": 18.950000000000003,
         "response": "response",
         "_deepnote_index_column": 32
        },
        {
         "gpcr_id": 34610009,
         "study_phase": 1,
         "tmtv": 106.25,
         "baseline": 106.25,
         "response": "baseline",
         "_deepnote_index_column": 33
        },
        {
         "gpcr_id": 34610010,
         "study_phase": 1,
         "tmtv": 61.19,
         "baseline": 61.19,
         "response": "baseline",
         "_deepnote_index_column": 34
        },
        {
         "gpcr_id": 34610010,
         "study_phase": 3,
         "tmtv": 38.059999999999995,
         "baseline": 61.19,
         "response": "response",
         "_deepnote_index_column": 35
        },
        {
         "gpcr_id": 34610010,
         "study_phase": 4,
         "tmtv": 15.99,
         "baseline": 61.19,
         "response": "response",
         "_deepnote_index_column": 36
        },
        {
         "gpcr_id": 34610010,
         "study_phase": 5,
         "tmtv": 18,
         "baseline": 61.19,
         "response": "response",
         "_deepnote_index_column": 37
        },
        {
         "gpcr_id": 34610011,
         "study_phase": 1,
         "tmtv": 30.4,
         "baseline": 30.4,
         "response": "baseline",
         "_deepnote_index_column": 38
        },
        {
         "gpcr_id": 34610011,
         "study_phase": 2,
         "tmtv": 66.14,
         "baseline": 30.4,
         "response": "progression",
         "_deepnote_index_column": 39
        },
        {
         "gpcr_id": 34610011,
         "study_phase": 4,
         "tmtv": 21.46,
         "baseline": 30.4,
         "response": "response",
         "_deepnote_index_column": 40
        },
        {
         "gpcr_id": 34610011,
         "study_phase": 5,
         "tmtv": 8.83,
         "baseline": 30.4,
         "response": "response",
         "_deepnote_index_column": 41
        },
        {
         "gpcr_id": 34610011,
         "study_phase": 7,
         "tmtv": 0.81,
         "baseline": 30.4,
         "response": "response",
         "_deepnote_index_column": 42
        },
        {
         "gpcr_id": 34610011,
         "study_phase": 8,
         "tmtv": 1.25,
         "baseline": 30.4,
         "response": "response",
         "_deepnote_index_column": 43
        },
        {
         "gpcr_id": 34610011,
         "study_phase": 9,
         "tmtv": 1.08,
         "baseline": 30.4,
         "response": "response",
         "_deepnote_index_column": 44
        },
        {
         "gpcr_id": 34610011,
         "study_phase": 10,
         "tmtv": 0.86,
         "baseline": 30.4,
         "response": "response",
         "_deepnote_index_column": 45
        },
        {
         "gpcr_id": 34610011,
         "study_phase": 11,
         "tmtv": 18.14,
         "baseline": 30.4,
         "response": "response",
         "_deepnote_index_column": 46
        },
        {
         "gpcr_id": 34610011,
         "study_phase": 12,
         "tmtv": 1.78,
         "baseline": 30.4,
         "response": "response",
         "_deepnote_index_column": 47
        },
        {
         "gpcr_id": 34610011,
         "study_phase": 13,
         "tmtv": 177.07,
         "baseline": 30.4,
         "response": "progression",
         "_deepnote_index_column": 48
        },
        {
         "gpcr_id": 34610011,
         "study_phase": 14,
         "tmtv": 1.66,
         "baseline": 30.4,
         "response": "response",
         "_deepnote_index_column": 49
        },
        {
         "gpcr_id": 34610012,
         "study_phase": 1,
         "tmtv": 3.1,
         "baseline": 3.1,
         "response": "baseline",
         "_deepnote_index_column": 50
        },
        {
         "gpcr_id": 34610013,
         "study_phase": 1,
         "tmtv": 1.25,
         "baseline": 1.25,
         "response": "baseline",
         "_deepnote_index_column": 51
        },
        {
         "gpcr_id": 34610013,
         "study_phase": 2,
         "tmtv": 1.64,
         "baseline": 1.25,
         "response": "progression",
         "_deepnote_index_column": 52
        },
        {
         "gpcr_id": 34610013,
         "study_phase": 3,
         "tmtv": 78.02000000000001,
         "baseline": 1.25,
         "response": "progression",
         "_deepnote_index_column": 53
        },
        {
         "gpcr_id": 34610013,
         "study_phase": 4,
         "tmtv": 0.54,
         "baseline": 1.25,
         "response": "response",
         "_deepnote_index_column": 54
        },
        {
         "gpcr_id": 34610013,
         "study_phase": 5,
         "tmtv": 25.230000000000004,
         "baseline": 1.25,
         "response": "progression",
         "_deepnote_index_column": 55
        },
        {
         "gpcr_id": 34610014,
         "study_phase": 1,
         "tmtv": 32.42000000000001,
         "baseline": 32.42000000000001,
         "response": "baseline",
         "_deepnote_index_column": 56
        },
        {
         "gpcr_id": 34610014,
         "study_phase": 2,
         "tmtv": 63.84999999999998,
         "baseline": 32.42000000000001,
         "response": "progression",
         "_deepnote_index_column": 57
        },
        {
         "gpcr_id": 34610015,
         "study_phase": -1,
         "tmtv": 5.84,
         "baseline": 5.84,
         "response": "baseline",
         "_deepnote_index_column": 58
        },
        {
         "gpcr_id": 34610015,
         "study_phase": 1,
         "tmtv": 48.72,
         "baseline": 5.84,
         "response": "progression",
         "_deepnote_index_column": 59
        },
        {
         "gpcr_id": 34610015,
         "study_phase": 2,
         "tmtv": 19.68,
         "baseline": 5.84,
         "response": "progression",
         "_deepnote_index_column": 60
        },
        {
         "gpcr_id": 34610016,
         "study_phase": -1,
         "tmtv": 10.32,
         "baseline": 10.32,
         "response": "baseline",
         "_deepnote_index_column": 61
        },
        {
         "gpcr_id": 34610017,
         "study_phase": 1,
         "tmtv": 8.32,
         "baseline": 8.32,
         "response": "baseline",
         "_deepnote_index_column": 62
        },
        {
         "gpcr_id": 34610017,
         "study_phase": 2,
         "tmtv": 201.24999999999997,
         "baseline": 8.32,
         "response": "progression",
         "_deepnote_index_column": 63
        },
        {
         "gpcr_id": 34610018,
         "study_phase": -1,
         "tmtv": 207.95999999999998,
         "baseline": 207.95999999999998,
         "response": "baseline",
         "_deepnote_index_column": 64
        },
        {
         "gpcr_id": 34610020,
         "study_phase": -1,
         "tmtv": 79.64999999999999,
         "baseline": 79.64999999999999,
         "response": "baseline",
         "_deepnote_index_column": 65
        },
        {
         "gpcr_id": 34610020,
         "study_phase": 1,
         "tmtv": 60.300000000000004,
         "baseline": 79.64999999999999,
         "response": "response",
         "_deepnote_index_column": 66
        },
        {
         "gpcr_id": 34610020,
         "study_phase": 2,
         "tmtv": 64.42,
         "baseline": 79.64999999999999,
         "response": "response",
         "_deepnote_index_column": 67
        },
        {
         "gpcr_id": 34610021,
         "study_phase": 1,
         "tmtv": 51.85,
         "baseline": 51.85,
         "response": "baseline",
         "_deepnote_index_column": 68
        },
        {
         "gpcr_id": 34610021,
         "study_phase": 2,
         "tmtv": 74.91,
         "baseline": 51.85,
         "response": "progression",
         "_deepnote_index_column": 69
        },
        {
         "gpcr_id": 34610021,
         "study_phase": 3,
         "tmtv": 184.53,
         "baseline": 51.85,
         "response": "progression",
         "_deepnote_index_column": 70
        },
        {
         "gpcr_id": 34610021,
         "study_phase": 5,
         "tmtv": 100.78,
         "baseline": 51.85,
         "response": "progression",
         "_deepnote_index_column": 71
        },
        {
         "gpcr_id": 34610021,
         "study_phase": 6,
         "tmtv": 21.689999999999998,
         "baseline": 51.85,
         "response": "response",
         "_deepnote_index_column": 72
        },
        {
         "gpcr_id": 34610022,
         "study_phase": 1,
         "tmtv": 8.59,
         "baseline": 8.59,
         "response": "baseline",
         "_deepnote_index_column": 73
        },
        {
         "gpcr_id": 34610022,
         "study_phase": 2,
         "tmtv": 21.009999999999998,
         "baseline": 8.59,
         "response": "progression",
         "_deepnote_index_column": 74
        },
        {
         "gpcr_id": 34610022,
         "study_phase": 3,
         "tmtv": 10.51,
         "baseline": 8.59,
         "response": "progression",
         "_deepnote_index_column": 75
        },
        {
         "gpcr_id": 34610023,
         "study_phase": -1,
         "tmtv": 92.99000000000001,
         "baseline": 92.99000000000001,
         "response": "baseline",
         "_deepnote_index_column": 76
        },
        {
         "gpcr_id": 34610023,
         "study_phase": 1,
         "tmtv": 30.91,
         "baseline": 92.99000000000001,
         "response": "response",
         "_deepnote_index_column": 77
        },
        {
         "gpcr_id": 34610024,
         "study_phase": -1,
         "tmtv": 230.86999999999998,
         "baseline": 230.86999999999998,
         "response": "baseline",
         "_deepnote_index_column": 78
        },
        {
         "gpcr_id": 34610024,
         "study_phase": 1,
         "tmtv": 32.14,
         "baseline": 230.86999999999998,
         "response": "response",
         "_deepnote_index_column": 79
        },
        {
         "gpcr_id": 34610025,
         "study_phase": -1,
         "tmtv": 38.989999999999995,
         "baseline": 38.989999999999995,
         "response": "baseline",
         "_deepnote_index_column": 80
        },
        {
         "gpcr_id": 34610025,
         "study_phase": 1,
         "tmtv": 79.6,
         "baseline": 38.989999999999995,
         "response": "progression",
         "_deepnote_index_column": 81
        },
        {
         "gpcr_id": 34610026,
         "study_phase": 1,
         "tmtv": 84.24,
         "baseline": 84.24,
         "response": "baseline",
         "_deepnote_index_column": 82
        },
        {
         "gpcr_id": 34610026,
         "study_phase": 2,
         "tmtv": 35.56999999999999,
         "baseline": 84.24,
         "response": "response",
         "_deepnote_index_column": 83
        },
        {
         "gpcr_id": 34610026,
         "study_phase": 3,
         "tmtv": 9.56,
         "baseline": 84.24,
         "response": "response",
         "_deepnote_index_column": 84
        },
        {
         "gpcr_id": 34610026,
         "study_phase": 4,
         "tmtv": 142.57999999999998,
         "baseline": 84.24,
         "response": "progression",
         "_deepnote_index_column": 85
        },
        {
         "gpcr_id": 34610026,
         "study_phase": 5,
         "tmtv": 93.37,
         "baseline": 84.24,
         "response": "progression",
         "_deepnote_index_column": 86
        },
        {
         "gpcr_id": 34610026,
         "study_phase": 6,
         "tmtv": 95.6,
         "baseline": 84.24,
         "response": "progression",
         "_deepnote_index_column": 87
        },
        {
         "gpcr_id": 34610026,
         "study_phase": 7,
         "tmtv": 133.23000000000002,
         "baseline": 84.24,
         "response": "progression",
         "_deepnote_index_column": 88
        },
        {
         "gpcr_id": 34610026,
         "study_phase": 8,
         "tmtv": 3.91,
         "baseline": 84.24,
         "response": "response",
         "_deepnote_index_column": 89
        },
        {
         "gpcr_id": 34610026,
         "study_phase": 9,
         "tmtv": 45.94,
         "baseline": 84.24,
         "response": "response",
         "_deepnote_index_column": 90
        },
        {
         "gpcr_id": 34610027,
         "study_phase": 1,
         "tmtv": 90.96,
         "baseline": 90.96,
         "response": "baseline",
         "_deepnote_index_column": 91
        },
        {
         "gpcr_id": 34610027,
         "study_phase": 3,
         "tmtv": 23.549999999999997,
         "baseline": 90.96,
         "response": "response",
         "_deepnote_index_column": 92
        },
        {
         "gpcr_id": 34610027,
         "study_phase": 4,
         "tmtv": 15.04,
         "baseline": 90.96,
         "response": "response",
         "_deepnote_index_column": 93
        },
        {
         "gpcr_id": 34610027,
         "study_phase": 5,
         "tmtv": 19.610000000000003,
         "baseline": 90.96,
         "response": "response",
         "_deepnote_index_column": 94
        },
        {
         "gpcr_id": 34610027,
         "study_phase": 6,
         "tmtv": 4.3,
         "baseline": 90.96,
         "response": "response",
         "_deepnote_index_column": 95
        },
        {
         "gpcr_id": 34610027,
         "study_phase": 7,
         "tmtv": 18.729999999999997,
         "baseline": 90.96,
         "response": "response",
         "_deepnote_index_column": 96
        },
        {
         "gpcr_id": 34610027,
         "study_phase": 8,
         "tmtv": 26.990000000000002,
         "baseline": 90.96,
         "response": "response",
         "_deepnote_index_column": 97
        },
        {
         "gpcr_id": 34610027,
         "study_phase": 9,
         "tmtv": 35.47,
         "baseline": 90.96,
         "response": "response",
         "_deepnote_index_column": 98
        },
        {
         "gpcr_id": 34610027,
         "study_phase": 10,
         "tmtv": 6.92,
         "baseline": 90.96,
         "response": "response",
         "_deepnote_index_column": 99
        }
       ],
       "rows_bottom": [
        {
         "gpcr_id": 34610102,
         "study_phase": 1,
         "tmtv": 306.14,
         "baseline": 32.959999999999994,
         "response": "progression",
         "_deepnote_index_column": 266
        },
        {
         "gpcr_id": 34610104,
         "study_phase": -1,
         "tmtv": 93.1,
         "baseline": 93.1,
         "response": "baseline",
         "_deepnote_index_column": 267
        },
        {
         "gpcr_id": 34610104,
         "study_phase": 1,
         "tmtv": 312.31999999999994,
         "baseline": 93.1,
         "response": "progression",
         "_deepnote_index_column": 268
        },
        {
         "gpcr_id": 34610105,
         "study_phase": -1,
         "tmtv": 311.94999999999993,
         "baseline": 311.94999999999993,
         "response": "baseline",
         "_deepnote_index_column": 269
        },
        {
         "gpcr_id": 34610105,
         "study_phase": 1,
         "tmtv": 11.850000000000001,
         "baseline": 311.94999999999993,
         "response": "response",
         "_deepnote_index_column": 270
        },
        {
         "gpcr_id": 34610109,
         "study_phase": 1,
         "tmtv": 172.61,
         "baseline": 172.61,
         "response": "baseline",
         "_deepnote_index_column": 271
        },
        {
         "gpcr_id": 34610111,
         "study_phase": 1,
         "tmtv": 26.669999999999998,
         "baseline": 26.669999999999998,
         "response": "baseline",
         "_deepnote_index_column": 272
        },
        {
         "gpcr_id": 34610111,
         "study_phase": 2,
         "tmtv": 4.96,
         "baseline": 26.669999999999998,
         "response": "response",
         "_deepnote_index_column": 273
        },
        {
         "gpcr_id": 34610111,
         "study_phase": 3,
         "tmtv": 129.60999999999999,
         "baseline": 26.669999999999998,
         "response": "progression",
         "_deepnote_index_column": 274
        },
        {
         "gpcr_id": 34610112,
         "study_phase": -1,
         "tmtv": 456.16,
         "baseline": 456.16,
         "response": "baseline",
         "_deepnote_index_column": 275
        },
        {
         "gpcr_id": 34610112,
         "study_phase": 1,
         "tmtv": 3.57,
         "baseline": 456.16,
         "response": "response",
         "_deepnote_index_column": 276
        },
        {
         "gpcr_id": 34610113,
         "study_phase": -2,
         "tmtv": 8.63,
         "baseline": 8.63,
         "response": "baseline",
         "_deepnote_index_column": 277
        },
        {
         "gpcr_id": 34610113,
         "study_phase": -1,
         "tmtv": 2.74,
         "baseline": 8.63,
         "response": "response",
         "_deepnote_index_column": 278
        },
        {
         "gpcr_id": 34610113,
         "study_phase": 3,
         "tmtv": 18.85,
         "baseline": 8.63,
         "response": "progression",
         "_deepnote_index_column": 279
        },
        {
         "gpcr_id": 34610114,
         "study_phase": 1,
         "tmtv": 3.15,
         "baseline": 3.15,
         "response": "baseline",
         "_deepnote_index_column": 280
        },
        {
         "gpcr_id": 34610114,
         "study_phase": 3,
         "tmtv": 3.4,
         "baseline": 3.15,
         "response": "progression",
         "_deepnote_index_column": 281
        },
        {
         "gpcr_id": 34610115,
         "study_phase": 1,
         "tmtv": 14.59,
         "baseline": 14.59,
         "response": "baseline",
         "_deepnote_index_column": 282
        },
        {
         "gpcr_id": 34610115,
         "study_phase": 2,
         "tmtv": 14.7,
         "baseline": 14.59,
         "response": "progression",
         "_deepnote_index_column": 283
        },
        {
         "gpcr_id": 34610115,
         "study_phase": 3,
         "tmtv": 12.08,
         "baseline": 14.59,
         "response": "response",
         "_deepnote_index_column": 284
        },
        {
         "gpcr_id": 34610116,
         "study_phase": -2,
         "tmtv": 219.32000000000002,
         "baseline": 219.32000000000002,
         "response": "baseline",
         "_deepnote_index_column": 285
        },
        {
         "gpcr_id": 34610116,
         "study_phase": -1,
         "tmtv": 266.46999999999997,
         "baseline": 219.32000000000002,
         "response": "progression",
         "_deepnote_index_column": 286
        },
        {
         "gpcr_id": 34610116,
         "study_phase": 1,
         "tmtv": 21.39,
         "baseline": 219.32000000000002,
         "response": "response",
         "_deepnote_index_column": 287
        },
        {
         "gpcr_id": 34610116,
         "study_phase": 2,
         "tmtv": 33.03999999999999,
         "baseline": 219.32000000000002,
         "response": "response",
         "_deepnote_index_column": 288
        },
        {
         "gpcr_id": 34610116,
         "study_phase": 3,
         "tmtv": 56.86999999999999,
         "baseline": 219.32000000000002,
         "response": "response",
         "_deepnote_index_column": 289
        },
        {
         "gpcr_id": 34610116,
         "study_phase": 4,
         "tmtv": 15.24,
         "baseline": 219.32000000000002,
         "response": "response",
         "_deepnote_index_column": 290
        },
        {
         "gpcr_id": 34610118,
         "study_phase": -2,
         "tmtv": 11.27,
         "baseline": 11.27,
         "response": "baseline",
         "_deepnote_index_column": 291
        },
        {
         "gpcr_id": 34610118,
         "study_phase": -1,
         "tmtv": 100.71000000000001,
         "baseline": 11.27,
         "response": "progression",
         "_deepnote_index_column": 292
        },
        {
         "gpcr_id": 34610118,
         "study_phase": 1,
         "tmtv": 120.61000000000003,
         "baseline": 11.27,
         "response": "progression",
         "_deepnote_index_column": 293
        },
        {
         "gpcr_id": 34610118,
         "study_phase": 2,
         "tmtv": 11.92,
         "baseline": 11.27,
         "response": "progression",
         "_deepnote_index_column": 294
        },
        {
         "gpcr_id": 34610118,
         "study_phase": 3,
         "tmtv": 68.99000000000001,
         "baseline": 11.27,
         "response": "progression",
         "_deepnote_index_column": 295
        },
        {
         "gpcr_id": 34610118,
         "study_phase": 4,
         "tmtv": 58.28000000000001,
         "baseline": 11.27,
         "response": "progression",
         "_deepnote_index_column": 296
        },
        {
         "gpcr_id": 34610118,
         "study_phase": 5,
         "tmtv": 103.5,
         "baseline": 11.27,
         "response": "progression",
         "_deepnote_index_column": 297
        },
        {
         "gpcr_id": 34610118,
         "study_phase": 6,
         "tmtv": 108.76000000000002,
         "baseline": 11.27,
         "response": "progression",
         "_deepnote_index_column": 298
        },
        {
         "gpcr_id": 34610119,
         "study_phase": -1,
         "tmtv": 22.389999999999997,
         "baseline": 22.389999999999997,
         "response": "baseline",
         "_deepnote_index_column": 299
        },
        {
         "gpcr_id": 34610119,
         "study_phase": 1,
         "tmtv": 13.670000000000002,
         "baseline": 22.389999999999997,
         "response": "response",
         "_deepnote_index_column": 300
        },
        {
         "gpcr_id": 34610119,
         "study_phase": 2,
         "tmtv": 6.75,
         "baseline": 22.389999999999997,
         "response": "response",
         "_deepnote_index_column": 301
        },
        {
         "gpcr_id": 34610119,
         "study_phase": 3,
         "tmtv": 255.01,
         "baseline": 22.389999999999997,
         "response": "progression",
         "_deepnote_index_column": 302
        },
        {
         "gpcr_id": 34610119,
         "study_phase": 4,
         "tmtv": 5.55,
         "baseline": 22.389999999999997,
         "response": "response",
         "_deepnote_index_column": 303
        },
        {
         "gpcr_id": 34610119,
         "study_phase": 5,
         "tmtv": 10.729999999999999,
         "baseline": 22.389999999999997,
         "response": "response",
         "_deepnote_index_column": 304
        },
        {
         "gpcr_id": 34610120,
         "study_phase": -1,
         "tmtv": 224.12,
         "baseline": 224.12,
         "response": "baseline",
         "_deepnote_index_column": 305
        },
        {
         "gpcr_id": 34610121,
         "study_phase": 1,
         "tmtv": 29.080000000000002,
         "baseline": 29.080000000000002,
         "response": "baseline",
         "_deepnote_index_column": 306
        },
        {
         "gpcr_id": 34610121,
         "study_phase": 2,
         "tmtv": 27.89,
         "baseline": 29.080000000000002,
         "response": "response",
         "_deepnote_index_column": 307
        },
        {
         "gpcr_id": 34610122,
         "study_phase": -1,
         "tmtv": 38.14,
         "baseline": 38.14,
         "response": "baseline",
         "_deepnote_index_column": 308
        },
        {
         "gpcr_id": 34610122,
         "study_phase": 1,
         "tmtv": 50.42,
         "baseline": 38.14,
         "response": "progression",
         "_deepnote_index_column": 309
        },
        {
         "gpcr_id": 34610123,
         "study_phase": -1,
         "tmtv": 91.69999999999999,
         "baseline": 91.69999999999999,
         "response": "baseline",
         "_deepnote_index_column": 310
        },
        {
         "gpcr_id": 34610123,
         "study_phase": 2,
         "tmtv": 132.56,
         "baseline": 91.69999999999999,
         "response": "progression",
         "_deepnote_index_column": 311
        },
        {
         "gpcr_id": 34610124,
         "study_phase": 1,
         "tmtv": 0.64,
         "baseline": 0.64,
         "response": "baseline",
         "_deepnote_index_column": 312
        },
        {
         "gpcr_id": 34610124,
         "study_phase": 2,
         "tmtv": 8.58,
         "baseline": 0.64,
         "response": "progression",
         "_deepnote_index_column": 313
        },
        {
         "gpcr_id": 34610124,
         "study_phase": 3,
         "tmtv": 10.71,
         "baseline": 0.64,
         "response": "progression",
         "_deepnote_index_column": 314
        },
        {
         "gpcr_id": 34610125,
         "study_phase": 1,
         "tmtv": 25.88,
         "baseline": 25.88,
         "response": "baseline",
         "_deepnote_index_column": 315
        },
        {
         "gpcr_id": 34610125,
         "study_phase": 2,
         "tmtv": 6.71,
         "baseline": 25.88,
         "response": "response",
         "_deepnote_index_column": 316
        },
        {
         "gpcr_id": 34610125,
         "study_phase": 3,
         "tmtv": 3.96,
         "baseline": 25.88,
         "response": "response",
         "_deepnote_index_column": 317
        },
        {
         "gpcr_id": 34610125,
         "study_phase": 5,
         "tmtv": 6.9,
         "baseline": 25.88,
         "response": "response",
         "_deepnote_index_column": 318
        },
        {
         "gpcr_id": 34610125,
         "study_phase": 6,
         "tmtv": 2,
         "baseline": 25.88,
         "response": "response",
         "_deepnote_index_column": 319
        },
        {
         "gpcr_id": 34610126,
         "study_phase": -2,
         "tmtv": 10.98,
         "baseline": 10.98,
         "response": "baseline",
         "_deepnote_index_column": 320
        },
        {
         "gpcr_id": 34610126,
         "study_phase": -1,
         "tmtv": 18.22,
         "baseline": 10.98,
         "response": "progression",
         "_deepnote_index_column": 321
        },
        {
         "gpcr_id": 34610126,
         "study_phase": 1,
         "tmtv": 33.230000000000004,
         "baseline": 10.98,
         "response": "progression",
         "_deepnote_index_column": 322
        },
        {
         "gpcr_id": 34610126,
         "study_phase": 2,
         "tmtv": 41.5,
         "baseline": 10.98,
         "response": "progression",
         "_deepnote_index_column": 323
        },
        {
         "gpcr_id": 34610127,
         "study_phase": -1,
         "tmtv": 69.95,
         "baseline": 69.95,
         "response": "baseline",
         "_deepnote_index_column": 324
        },
        {
         "gpcr_id": 34610131,
         "study_phase": -1,
         "tmtv": 6.9399999999999995,
         "baseline": 6.9399999999999995,
         "response": "baseline",
         "_deepnote_index_column": 325
        },
        {
         "gpcr_id": 34610131,
         "study_phase": 1,
         "tmtv": 391.83,
         "baseline": 6.9399999999999995,
         "response": "progression",
         "_deepnote_index_column": 326
        },
        {
         "gpcr_id": 34610131,
         "study_phase": 2,
         "tmtv": 44.97,
         "baseline": 6.9399999999999995,
         "response": "progression",
         "_deepnote_index_column": 327
        },
        {
         "gpcr_id": 34610131,
         "study_phase": 3,
         "tmtv": 54.86999999999999,
         "baseline": 6.9399999999999995,
         "response": "progression",
         "_deepnote_index_column": 328
        },
        {
         "gpcr_id": 34610132,
         "study_phase": -1,
         "tmtv": 18.869999999999997,
         "baseline": 18.869999999999997,
         "response": "baseline",
         "_deepnote_index_column": 329
        },
        {
         "gpcr_id": 34610133,
         "study_phase": -1,
         "tmtv": 146.47999999999996,
         "baseline": 146.47999999999996,
         "response": "baseline",
         "_deepnote_index_column": 330
        },
        {
         "gpcr_id": 34610133,
         "study_phase": 1,
         "tmtv": 249.29,
         "baseline": 146.47999999999996,
         "response": "progression",
         "_deepnote_index_column": 331
        },
        {
         "gpcr_id": 34610134,
         "study_phase": -1,
         "tmtv": 3.3,
         "baseline": 3.3,
         "response": "baseline",
         "_deepnote_index_column": 332
        },
        {
         "gpcr_id": 34610134,
         "study_phase": 1,
         "tmtv": 20.71,
         "baseline": 3.3,
         "response": "progression",
         "_deepnote_index_column": 333
        },
        {
         "gpcr_id": 34610134,
         "study_phase": 2,
         "tmtv": 26.380000000000003,
         "baseline": 3.3,
         "response": "progression",
         "_deepnote_index_column": 334
        },
        {
         "gpcr_id": 34610135,
         "study_phase": -1,
         "tmtv": 396.1300000000002,
         "baseline": 396.1300000000002,
         "response": "baseline",
         "_deepnote_index_column": 335
        },
        {
         "gpcr_id": 34610136,
         "study_phase": -1,
         "tmtv": 288.88,
         "baseline": 288.88,
         "response": "baseline",
         "_deepnote_index_column": 336
        },
        {
         "gpcr_id": 34610136,
         "study_phase": 1,
         "tmtv": 256.6,
         "baseline": 288.88,
         "response": "response",
         "_deepnote_index_column": 337
        },
        {
         "gpcr_id": 34610137,
         "study_phase": 2,
         "tmtv": 48.870000000000005,
         "baseline": 48.870000000000005,
         "response": "baseline",
         "_deepnote_index_column": 338
        },
        {
         "gpcr_id": 34610137,
         "study_phase": 3,
         "tmtv": 52.57000000000001,
         "baseline": 48.870000000000005,
         "response": "progression",
         "_deepnote_index_column": 339
        },
        {
         "gpcr_id": 34610138,
         "study_phase": -2,
         "tmtv": 2.83,
         "baseline": 2.83,
         "response": "baseline",
         "_deepnote_index_column": 340
        },
        {
         "gpcr_id": 34610138,
         "study_phase": -1,
         "tmtv": 5.11,
         "baseline": 2.83,
         "response": "progression",
         "_deepnote_index_column": 341
        },
        {
         "gpcr_id": 34610139,
         "study_phase": -1,
         "tmtv": 9.9,
         "baseline": 9.9,
         "response": "baseline",
         "_deepnote_index_column": 342
        },
        {
         "gpcr_id": 34610139,
         "study_phase": 1,
         "tmtv": 0.54,
         "baseline": 9.9,
         "response": "response",
         "_deepnote_index_column": 343
        },
        {
         "gpcr_id": 34610140,
         "study_phase": -1,
         "tmtv": 0.51,
         "baseline": 0.51,
         "response": "baseline",
         "_deepnote_index_column": 344
        },
        {
         "gpcr_id": 34610140,
         "study_phase": 1,
         "tmtv": 6.83,
         "baseline": 0.51,
         "response": "progression",
         "_deepnote_index_column": 345
        },
        {
         "gpcr_id": 34610141,
         "study_phase": -1,
         "tmtv": 89.83000000000001,
         "baseline": 89.83000000000001,
         "response": "baseline",
         "_deepnote_index_column": 346
        },
        {
         "gpcr_id": 34610141,
         "study_phase": 1,
         "tmtv": 487.7700000000001,
         "baseline": 89.83000000000001,
         "response": "progression",
         "_deepnote_index_column": 347
        },
        {
         "gpcr_id": 34610142,
         "study_phase": -1,
         "tmtv": 155.46,
         "baseline": 155.46,
         "response": "baseline",
         "_deepnote_index_column": 348
        },
        {
         "gpcr_id": 34610143,
         "study_phase": -1,
         "tmtv": 4.2,
         "baseline": 4.2,
         "response": "baseline",
         "_deepnote_index_column": 349
        },
        {
         "gpcr_id": 34610143,
         "study_phase": 1,
         "tmtv": 94.49,
         "baseline": 4.2,
         "response": "progression",
         "_deepnote_index_column": 350
        },
        {
         "gpcr_id": 34610143,
         "study_phase": 3,
         "tmtv": 132.83,
         "baseline": 4.2,
         "response": "progression",
         "_deepnote_index_column": 351
        },
        {
         "gpcr_id": 34610144,
         "study_phase": 1,
         "tmtv": 87.4,
         "baseline": 87.4,
         "response": "baseline",
         "_deepnote_index_column": 352
        },
        {
         "gpcr_id": 34610144,
         "study_phase": 2,
         "tmtv": 10.32,
         "baseline": 87.4,
         "response": "response",
         "_deepnote_index_column": 353
        },
        {
         "gpcr_id": 34610145,
         "study_phase": -2,
         "tmtv": 9.46,
         "baseline": 9.46,
         "response": "baseline",
         "_deepnote_index_column": 354
        },
        {
         "gpcr_id": 34610145,
         "study_phase": -1,
         "tmtv": 0.86,
         "baseline": 9.46,
         "response": "response",
         "_deepnote_index_column": 355
        },
        {
         "gpcr_id": 34610145,
         "study_phase": 1,
         "tmtv": 157.02999999999997,
         "baseline": 9.46,
         "response": "progression",
         "_deepnote_index_column": 356
        },
        {
         "gpcr_id": 34610146,
         "study_phase": 1,
         "tmtv": 28.799999999999994,
         "baseline": 28.799999999999994,
         "response": "baseline",
         "_deepnote_index_column": 357
        },
        {
         "gpcr_id": 34610146,
         "study_phase": 3,
         "tmtv": 131.81,
         "baseline": 28.799999999999994,
         "response": "progression",
         "_deepnote_index_column": 358
        },
        {
         "gpcr_id": 34610147,
         "study_phase": -1,
         "tmtv": 35.23,
         "baseline": 35.23,
         "response": "baseline",
         "_deepnote_index_column": 359
        },
        {
         "gpcr_id": 34610148,
         "study_phase": 1,
         "tmtv": 35.91,
         "baseline": 35.91,
         "response": "baseline",
         "_deepnote_index_column": 360
        },
        {
         "gpcr_id": 34610148,
         "study_phase": 2,
         "tmtv": 555.2399999999999,
         "baseline": 35.91,
         "response": "progression",
         "_deepnote_index_column": 361
        },
        {
         "gpcr_id": 34610148,
         "study_phase": 3,
         "tmtv": 1.15,
         "baseline": 35.91,
         "response": "response",
         "_deepnote_index_column": 362
        },
        {
         "gpcr_id": 34610149,
         "study_phase": -1,
         "tmtv": 3.03,
         "baseline": 3.03,
         "response": "baseline",
         "_deepnote_index_column": 363
        },
        {
         "gpcr_id": 34610149,
         "study_phase": 1,
         "tmtv": 26.360000000000007,
         "baseline": 3.03,
         "response": "progression",
         "_deepnote_index_column": 364
        },
        {
         "gpcr_id": 34610149,
         "study_phase": 2,
         "tmtv": 27.77,
         "baseline": 3.03,
         "response": "progression",
         "_deepnote_index_column": 365
        }
       ]
      },
      "text/plain": "      gpcr_id  study_phase    tmtv  baseline     response\n0    34610002           -1   36.38     36.38     baseline\n1    34610002            1  255.99     36.38  progression\n2    34610004           -2   16.15     16.15     baseline\n3    34610004           -1   16.73     16.15  progression\n4    34610004            1   23.05     16.15  progression\n..        ...          ...     ...       ...          ...\n361  34610148            2  555.24     35.91  progression\n362  34610148            3    1.15     35.91     response\n363  34610149           -1    3.03      3.03     baseline\n364  34610149            1   26.36      3.03  progression\n365  34610149            2   27.77      3.03  progression\n\n[366 rows x 5 columns]",
      "text/html": "<div>\n<style scoped>\n    .dataframe tbody tr th:only-of-type {\n        vertical-align: middle;\n    }\n\n    .dataframe tbody tr th {\n        vertical-align: top;\n    }\n\n    .dataframe thead th {\n        text-align: right;\n    }\n</style>\n<table border=\"1\" class=\"dataframe\">\n  <thead>\n    <tr style=\"text-align: right;\">\n      <th></th>\n      <th>gpcr_id</th>\n      <th>study_phase</th>\n      <th>tmtv</th>\n      <th>baseline</th>\n      <th>response</th>\n    </tr>\n  </thead>\n  <tbody>\n    <tr>\n      <th>0</th>\n      <td>34610002</td>\n      <td>-1</td>\n      <td>36.38</td>\n      <td>36.38</td>\n      <td>baseline</td>\n    </tr>\n    <tr>\n      <th>1</th>\n      <td>34610002</td>\n      <td>1</td>\n      <td>255.99</td>\n      <td>36.38</td>\n      <td>progression</td>\n    </tr>\n    <tr>\n      <th>2</th>\n      <td>34610004</td>\n      <td>-2</td>\n      <td>16.15</td>\n      <td>16.15</td>\n      <td>baseline</td>\n    </tr>\n    <tr>\n      <th>3</th>\n      <td>34610004</td>\n      <td>-1</td>\n      <td>16.73</td>\n      <td>16.15</td>\n      <td>progression</td>\n    </tr>\n    <tr>\n      <th>4</th>\n      <td>34610004</td>\n      <td>1</td>\n      <td>23.05</td>\n      <td>16.15</td>\n      <td>progression</td>\n    </tr>\n    <tr>\n      <th>...</th>\n      <td>...</td>\n      <td>...</td>\n      <td>...</td>\n      <td>...</td>\n      <td>...</td>\n    </tr>\n    <tr>\n      <th>361</th>\n      <td>34610148</td>\n      <td>2</td>\n      <td>555.24</td>\n      <td>35.91</td>\n      <td>progression</td>\n    </tr>\n    <tr>\n      <th>362</th>\n      <td>34610148</td>\n      <td>3</td>\n      <td>1.15</td>\n      <td>35.91</td>\n      <td>response</td>\n    </tr>\n    <tr>\n      <th>363</th>\n      <td>34610149</td>\n      <td>-1</td>\n      <td>3.03</td>\n      <td>3.03</td>\n      <td>baseline</td>\n    </tr>\n    <tr>\n      <th>364</th>\n      <td>34610149</td>\n      <td>1</td>\n      <td>26.36</td>\n      <td>3.03</td>\n      <td>progression</td>\n    </tr>\n    <tr>\n      <th>365</th>\n      <td>34610149</td>\n      <td>2</td>\n      <td>27.77</td>\n      <td>3.03</td>\n      <td>progression</td>\n    </tr>\n  </tbody>\n</table>\n<p>366 rows × 5 columns</p>\n</div>"
     },
     "metadata": {}
    }
   ],
   "execution_count": null
  },
  {
   "cell_type": "markdown",
   "source": "### Visualisations",
   "metadata": {
    "cell_id": "00029-11e15914-873d-4f44-ab8c-ceceb11bf1a5",
    "deepnote_app_coordinates": {
     "h": 2,
     "w": 12,
     "x": 0,
     "y": 0
    },
    "is_collapsed": false,
    "tags": [],
    "deepnote_cell_type": "text-cell-h3"
   }
  },
  {
   "cell_type": "code",
   "metadata": {
    "cell_id": "00030-b956e402-56a8-40d2-97dc-42c17bb92880",
    "deepnote_app_coordinates": {
     "h": 5,
     "w": 12,
     "x": 0,
     "y": 0
    },
    "deepnote_app_is_code_hidden": true,
    "deepnote_to_be_reexecuted": false,
    "execution_millis": 96,
    "execution_start": 1633024072923,
    "source_hash": "ba58b5d7",
    "tags": [],
    "deepnote_cell_type": "code"
   },
   "source": "px.scatter(labels, x='study_phase', y='tmtv', color='response',\n           labels=studies_labels) \\\n    .update_layout(legend=top_h_legend)",
   "outputs": [
    {
     "data": {
      "text/html": "<html>\n<head><meta charset=\"utf-8\" /></head>\n<body>\n    <div>            <script src=\"https://cdnjs.cloudflare.com/ajax/libs/mathjax/2.7.5/MathJax.js?config=TeX-AMS-MML_SVG\"></script><script type=\"text/javascript\">if (window.MathJax) {MathJax.Hub.Config({SVG: {font: \"STIX-Web\"}});}</script>                <script type=\"text/javascript\">window.PlotlyConfig = {MathJaxConfig: 'local'};</script>\n        <script src=\"https://cdn.plot.ly/plotly-2.4.2.min.js\"></script>                <div id=\"999f2caa-144e-4686-b81a-a17855d376ad\" class=\"plotly-graph-div\" style=\"height:525px; width:100%;\"></div>            <script type=\"text/javascript\">                                    window.PLOTLYENV=window.PLOTLYENV || {};                                    if (document.getElementById(\"999f2caa-144e-4686-b81a-a17855d376ad\")) {                    Plotly.newPlot(                        \"999f2caa-144e-4686-b81a-a17855d376ad\",                        [{\"hovertemplate\":\"Immunotherapeutic response=baseline<br>Study phase (relative to treatment start)=%{x}<br>Total Metabolic Tumor Volume (ccm)=%{y}<extra></extra>\",\"legendgroup\":\"baseline\",\"marker\":{\"color\":\"rgb(76,114,176)\",\"symbol\":\"circle\"},\"mode\":\"markers\",\"name\":\"baseline\",\"orientation\":\"v\",\"showlegend\":true,\"type\":\"scatter\",\"x\":[-1,-2,1,-1,-1,1,1,1,1,1,1,-1,-1,1,-1,-1,1,1,-1,-1,-1,1,1,-2,1,-1,1,1,-1,-1,-1,-1,-1,1,-1,1,-2,-1,1,-2,1,1,-1,-1,4,-1,1,-1,1,1,-1,6,1,-1,-1,1,-1,1,-1,-2,1,-1,-1,1,4,-1,1,-2,1,-1,-1,-1,-1,-1,-1,1,1,-1,-1,1,-1,-1,-1,1,1,-1,-2,1,1,-2,-2,-1,-1,1,-1,-1,1,1,-2,-1,-1,-1,-1,-1,-1,-1,2,-2,-1,-1,-1,-1,-1,1,-2,1,-1,1,-1],\"xaxis\":\"x\",\"y\":[36.38,16.150000000000002,0.88,57.769999999999996,18.950000000000003,106.25,61.19,30.4,3.1,1.25,32.42000000000001,5.84,10.32,8.32,207.95999999999998,79.64999999999999,51.85,8.59,92.99000000000001,230.86999999999998,38.989999999999995,84.24,90.96,33.44,28.44,25.89,202.41,7.37,176.71,45.190000000000005,43.42,2.81,57.14,80.74000000000001,50.849999999999994,87.42,10.07,11.4,3.21,5.89,156.39,401.79999999999995,106.50999999999999,103.13,2.42,70.21000000000001,1.74,3.11,24.480000000000004,3.35,39.54,7.77,52.03000000000001,83.62000000000002,11.92,117.30000000000001,1.37,6.19,31.58,2.27,12.399999999999999,78.86,20.110000000000003,19.06,6.8,34.87,34.4,48.419999999999995,47.85999999999999,7.4,33.15,63.06000000000001,0.69,107.54,2.54,105.77,41.15,4.4,145.75,7.82,32.959999999999994,93.1,311.94999999999993,172.61,26.669999999999998,456.16,8.63,3.15,14.59,219.32000000000002,11.27,22.389999999999997,224.12,29.080000000000002,38.14,91.69999999999999,0.64,25.88,10.98,69.95,6.9399999999999995,18.869999999999997,146.47999999999996,3.3,396.1300000000002,288.88,48.870000000000005,2.83,9.9,0.51,89.83000000000001,155.46,4.2,87.4,9.46,28.799999999999994,35.23,35.91,3.03],\"yaxis\":\"y\"},{\"hovertemplate\":\"Immunotherapeutic response=progression<br>Study phase (relative to treatment start)=%{x}<br>Total Metabolic Tumor Volume (ccm)=%{y}<extra></extra>\",\"legendgroup\":\"progression\",\"marker\":{\"color\":\"rgb(221,132,82)\",\"symbol\":\"circle\"},\"mode\":\"markers\",\"name\":\"progression\",\"orientation\":\"v\",\"showlegend\":true,\"type\":\"scatter\",\"x\":[1,-1,1,2,2,4,5,7,8,9,10,3,1,2,2,13,2,3,5,2,1,2,2,2,3,5,2,3,1,4,5,6,7,1,2,3,1,4,9,1,3,5,1,1,2,2,3,4,5,6,-1,1,1,-1,1,1,2,5,10,2,3,2,3,1,2,1,-1,5,1,3,3,3,1,4,1,2,3,4,3,4,5,1,1,2,3,1,1,3,3,3,2,-1,-1,1,2,3,4,5,6,3,1,2,2,3,-1,1,2,1,2,3,1,1,2,3,-1,1,1,1,3,1,3,2,1,2],\"xaxis\":\"x\",\"y\":[255.98999999999998,16.73,23.049999999999997,34.84,27.019999999999996,9.76,8.88,20.2,128.52,33.57,66.21,268.30999999999995,78.53,71.03,66.14,177.07,1.64,78.02000000000001,25.230000000000004,63.84999999999998,48.72,19.68,201.24999999999997,74.91,184.53,100.78,21.009999999999998,10.51,79.6,142.57999999999998,93.37,95.6,133.23000000000002,35.54,40.27,53.62,72.2,90.78,296.94000000000005,101.97,125.66999999999999,46.21,10.2,112.81,114.6,104.37,229.12999999999994,159.93,173.03,278.7699999999999,15.059999999999999,45.71,40.39,176.16000000000003,132.83,148.85999999999999,19.8,114.79,130.71,166.43,26.04,152.1,234.92,105.77,38.26,92.99,3.79,4.81,22.479999999999997,46.38,59.34,100.83000000000001,10.440000000000001,27.59,6.28,8.18,3.37,4.78,21.03,6.779999999999999,17.75,56.61,167.13,258.57,32.37,306.14,312.31999999999994,129.60999999999999,18.85,3.4,14.7,266.46999999999997,100.71000000000001,120.61000000000003,11.92,68.99000000000001,58.28000000000001,103.5,108.76000000000002,255.01,50.42,132.56,8.58,10.71,18.22,33.230000000000004,41.5,391.83,44.97,54.86999999999999,249.29,20.71,26.380000000000003,52.57000000000001,5.11,6.83,487.7700000000001,94.49,132.83,157.02999999999997,131.81,555.2399999999999,26.360000000000007,27.77],\"yaxis\":\"y\"},{\"hovertemplate\":\"Immunotherapeutic response=response<br>Study phase (relative to treatment start)=%{x}<br>Total Metabolic Tumor Volume (ccm)=%{y}<extra></extra>\",\"legendgroup\":\"response\",\"marker\":{\"color\":\"rgb(85,168,104)\",\"symbol\":\"circle\"},\"mode\":\"markers\",\"name\":\"response\",\"orientation\":\"v\",\"showlegend\":true,\"type\":\"scatter\",\"x\":[3,4,5,6,7,1,2,4,5,6,7,8,3,4,3,4,5,4,5,7,8,9,10,11,12,14,4,1,2,6,1,1,2,3,8,9,3,4,5,6,7,8,9,10,2,5,2,3,5,6,7,8,1,2,3,1,2,4,3,3,4,5,6,7,4,5,2,4,1,4,5,6,7,8,2,3,1,2,2,6,2,2,4,5,2,4,-1,1,2,5,2,3,1,2,1,2,3,1,3,2,1,2,1,-1,3,1,2,3,4,1,2,4,5,2,2,3,5,6,1,1,2,-1,3],\"xaxis\":\"x\",\"y\":[6.23,2.87,4.16,1.42,0.66,22.47,8.66,5.65,20.73,4.24,7.220000000000001,10.17,2.59,4.449999999999999,38.059999999999995,15.99,18.0,21.46,8.83,0.81,1.25,1.08,0.86,18.14,1.78,1.66,0.54,60.300000000000004,64.42,21.689999999999998,30.91,32.14,35.56999999999999,9.56,3.91,45.94,23.549999999999997,15.04,19.610000000000003,4.3,18.729999999999997,26.990000000000002,35.47,6.92,23.490000000000002,4.77,11.360000000000001,5.33,6.1899999999999995,23.689999999999998,7.390000000000001,13.37,21.04,29.61,1.71,40.49,8.629999999999999,1.6400000000000001,1.83,7.26,7.24,72.52,9.63,4.15,3.54,0.51,4.84,2.22,12.98,1.81,5.52,0.95,18.0,8.5,40.38,12.79,62.269999999999996,5.57,0.9,0.88,3.62,7.220000000000001,16.86,12.569999999999999,10.790000000000001,1.9899999999999998,1.95,43.94,7.7700000000000005,24.509999999999998,2.59,5.41,24.389999999999997,60.71,31.96,14.520000000000001,90.44,1.34,15.69,3.2199999999999998,11.850000000000001,4.96,3.57,2.74,12.08,21.39,33.03999999999999,56.86999999999999,15.24,13.670000000000002,6.75,5.55,10.729999999999999,27.89,6.71,3.96,6.9,2.0,256.6,0.54,10.32,0.86,1.15],\"yaxis\":\"y\"}],                        {\"legend\":{\"orientation\":\"h\",\"title\":{\"text\":\"Immunotherapeutic response\"},\"tracegroupgap\":0,\"y\":1.02,\"yanchor\":\"bottom\"},\"margin\":{\"t\":60},\"template\":{\"data\":{\"bar\":[{\"error_x\":{\"color\":\"rgb(36,36,36)\"},\"error_y\":{\"color\":\"rgb(36,36,36)\"},\"marker\":{\"line\":{\"color\":\"rgb(234,234,242)\",\"width\":0.5},\"pattern\":{\"fillmode\":\"overlay\",\"size\":10,\"solidity\":0.2}},\"type\":\"bar\"}],\"barpolar\":[{\"marker\":{\"line\":{\"color\":\"rgb(234,234,242)\",\"width\":0.5},\"pattern\":{\"fillmode\":\"overlay\",\"size\":10,\"solidity\":0.2}},\"type\":\"barpolar\"}],\"carpet\":[{\"aaxis\":{\"endlinecolor\":\"rgb(36,36,36)\",\"gridcolor\":\"white\",\"linecolor\":\"white\",\"minorgridcolor\":\"white\",\"startlinecolor\":\"rgb(36,36,36)\"},\"baxis\":{\"endlinecolor\":\"rgb(36,36,36)\",\"gridcolor\":\"white\",\"linecolor\":\"white\",\"minorgridcolor\":\"white\",\"startlinecolor\":\"rgb(36,36,36)\"},\"type\":\"carpet\"}],\"choropleth\":[{\"colorbar\":{\"outlinewidth\":0,\"tickcolor\":\"rgb(36,36,36)\",\"ticklen\":8,\"ticks\":\"outside\",\"tickwidth\":2},\"type\":\"choropleth\"}],\"contour\":[{\"colorbar\":{\"outlinewidth\":0,\"tickcolor\":\"rgb(36,36,36)\",\"ticklen\":8,\"ticks\":\"outside\",\"tickwidth\":2},\"colorscale\":[[0.0,\"rgb(2,4,25)\"],[0.06274509803921569,\"rgb(24,15,41)\"],[0.12549019607843137,\"rgb(47,23,57)\"],[0.18823529411764706,\"rgb(71,28,72)\"],[0.25098039215686274,\"rgb(97,30,82)\"],[0.3137254901960784,\"rgb(123,30,89)\"],[0.3764705882352941,\"rgb(150,27,91)\"],[0.4392156862745098,\"rgb(177,22,88)\"],[0.5019607843137255,\"rgb(203,26,79)\"],[0.5647058823529412,\"rgb(223,47,67)\"],[0.6274509803921569,\"rgb(236,76,61)\"],[0.6901960784313725,\"rgb(242,107,73)\"],[0.7529411764705882,\"rgb(244,135,95)\"],[0.8156862745098039,\"rgb(245,162,122)\"],[0.8784313725490196,\"rgb(246,188,153)\"],[0.9411764705882353,\"rgb(247,212,187)\"],[1.0,\"rgb(250,234,220)\"]],\"type\":\"contour\"}],\"contourcarpet\":[{\"colorbar\":{\"outlinewidth\":0,\"tickcolor\":\"rgb(36,36,36)\",\"ticklen\":8,\"ticks\":\"outside\",\"tickwidth\":2},\"type\":\"contourcarpet\"}],\"heatmap\":[{\"colorbar\":{\"outlinewidth\":0,\"tickcolor\":\"rgb(36,36,36)\",\"ticklen\":8,\"ticks\":\"outside\",\"tickwidth\":2},\"colorscale\":[[0.0,\"rgb(2,4,25)\"],[0.06274509803921569,\"rgb(24,15,41)\"],[0.12549019607843137,\"rgb(47,23,57)\"],[0.18823529411764706,\"rgb(71,28,72)\"],[0.25098039215686274,\"rgb(97,30,82)\"],[0.3137254901960784,\"rgb(123,30,89)\"],[0.3764705882352941,\"rgb(150,27,91)\"],[0.4392156862745098,\"rgb(177,22,88)\"],[0.5019607843137255,\"rgb(203,26,79)\"],[0.5647058823529412,\"rgb(223,47,67)\"],[0.6274509803921569,\"rgb(236,76,61)\"],[0.6901960784313725,\"rgb(242,107,73)\"],[0.7529411764705882,\"rgb(244,135,95)\"],[0.8156862745098039,\"rgb(245,162,122)\"],[0.8784313725490196,\"rgb(246,188,153)\"],[0.9411764705882353,\"rgb(247,212,187)\"],[1.0,\"rgb(250,234,220)\"]],\"type\":\"heatmap\"}],\"heatmapgl\":[{\"colorbar\":{\"outlinewidth\":0,\"tickcolor\":\"rgb(36,36,36)\",\"ticklen\":8,\"ticks\":\"outside\",\"tickwidth\":2},\"colorscale\":[[0.0,\"rgb(2,4,25)\"],[0.06274509803921569,\"rgb(24,15,41)\"],[0.12549019607843137,\"rgb(47,23,57)\"],[0.18823529411764706,\"rgb(71,28,72)\"],[0.25098039215686274,\"rgb(97,30,82)\"],[0.3137254901960784,\"rgb(123,30,89)\"],[0.3764705882352941,\"rgb(150,27,91)\"],[0.4392156862745098,\"rgb(177,22,88)\"],[0.5019607843137255,\"rgb(203,26,79)\"],[0.5647058823529412,\"rgb(223,47,67)\"],[0.6274509803921569,\"rgb(236,76,61)\"],[0.6901960784313725,\"rgb(242,107,73)\"],[0.7529411764705882,\"rgb(244,135,95)\"],[0.8156862745098039,\"rgb(245,162,122)\"],[0.8784313725490196,\"rgb(246,188,153)\"],[0.9411764705882353,\"rgb(247,212,187)\"],[1.0,\"rgb(250,234,220)\"]],\"type\":\"heatmapgl\"}],\"histogram\":[{\"marker\":{\"pattern\":{\"fillmode\":\"overlay\",\"size\":10,\"solidity\":0.2}},\"type\":\"histogram\"}],\"histogram2d\":[{\"colorbar\":{\"outlinewidth\":0,\"tickcolor\":\"rgb(36,36,36)\",\"ticklen\":8,\"ticks\":\"outside\",\"tickwidth\":2},\"colorscale\":[[0.0,\"rgb(2,4,25)\"],[0.06274509803921569,\"rgb(24,15,41)\"],[0.12549019607843137,\"rgb(47,23,57)\"],[0.18823529411764706,\"rgb(71,28,72)\"],[0.25098039215686274,\"rgb(97,30,82)\"],[0.3137254901960784,\"rgb(123,30,89)\"],[0.3764705882352941,\"rgb(150,27,91)\"],[0.4392156862745098,\"rgb(177,22,88)\"],[0.5019607843137255,\"rgb(203,26,79)\"],[0.5647058823529412,\"rgb(223,47,67)\"],[0.6274509803921569,\"rgb(236,76,61)\"],[0.6901960784313725,\"rgb(242,107,73)\"],[0.7529411764705882,\"rgb(244,135,95)\"],[0.8156862745098039,\"rgb(245,162,122)\"],[0.8784313725490196,\"rgb(246,188,153)\"],[0.9411764705882353,\"rgb(247,212,187)\"],[1.0,\"rgb(250,234,220)\"]],\"type\":\"histogram2d\"}],\"histogram2dcontour\":[{\"colorbar\":{\"outlinewidth\":0,\"tickcolor\":\"rgb(36,36,36)\",\"ticklen\":8,\"ticks\":\"outside\",\"tickwidth\":2},\"colorscale\":[[0.0,\"rgb(2,4,25)\"],[0.06274509803921569,\"rgb(24,15,41)\"],[0.12549019607843137,\"rgb(47,23,57)\"],[0.18823529411764706,\"rgb(71,28,72)\"],[0.25098039215686274,\"rgb(97,30,82)\"],[0.3137254901960784,\"rgb(123,30,89)\"],[0.3764705882352941,\"rgb(150,27,91)\"],[0.4392156862745098,\"rgb(177,22,88)\"],[0.5019607843137255,\"rgb(203,26,79)\"],[0.5647058823529412,\"rgb(223,47,67)\"],[0.6274509803921569,\"rgb(236,76,61)\"],[0.6901960784313725,\"rgb(242,107,73)\"],[0.7529411764705882,\"rgb(244,135,95)\"],[0.8156862745098039,\"rgb(245,162,122)\"],[0.8784313725490196,\"rgb(246,188,153)\"],[0.9411764705882353,\"rgb(247,212,187)\"],[1.0,\"rgb(250,234,220)\"]],\"type\":\"histogram2dcontour\"}],\"mesh3d\":[{\"colorbar\":{\"outlinewidth\":0,\"tickcolor\":\"rgb(36,36,36)\",\"ticklen\":8,\"ticks\":\"outside\",\"tickwidth\":2},\"type\":\"mesh3d\"}],\"parcoords\":[{\"line\":{\"colorbar\":{\"outlinewidth\":0,\"tickcolor\":\"rgb(36,36,36)\",\"ticklen\":8,\"ticks\":\"outside\",\"tickwidth\":2}},\"type\":\"parcoords\"}],\"pie\":[{\"automargin\":true,\"type\":\"pie\"}],\"scatter\":[{\"marker\":{\"colorbar\":{\"outlinewidth\":0,\"tickcolor\":\"rgb(36,36,36)\",\"ticklen\":8,\"ticks\":\"outside\",\"tickwidth\":2}},\"type\":\"scatter\"}],\"scatter3d\":[{\"line\":{\"colorbar\":{\"outlinewidth\":0,\"tickcolor\":\"rgb(36,36,36)\",\"ticklen\":8,\"ticks\":\"outside\",\"tickwidth\":2}},\"marker\":{\"colorbar\":{\"outlinewidth\":0,\"tickcolor\":\"rgb(36,36,36)\",\"ticklen\":8,\"ticks\":\"outside\",\"tickwidth\":2}},\"type\":\"scatter3d\"}],\"scattercarpet\":[{\"marker\":{\"colorbar\":{\"outlinewidth\":0,\"tickcolor\":\"rgb(36,36,36)\",\"ticklen\":8,\"ticks\":\"outside\",\"tickwidth\":2}},\"type\":\"scattercarpet\"}],\"scattergeo\":[{\"marker\":{\"colorbar\":{\"outlinewidth\":0,\"tickcolor\":\"rgb(36,36,36)\",\"ticklen\":8,\"ticks\":\"outside\",\"tickwidth\":2}},\"type\":\"scattergeo\"}],\"scattergl\":[{\"marker\":{\"colorbar\":{\"outlinewidth\":0,\"tickcolor\":\"rgb(36,36,36)\",\"ticklen\":8,\"ticks\":\"outside\",\"tickwidth\":2}},\"type\":\"scattergl\"}],\"scattermapbox\":[{\"marker\":{\"colorbar\":{\"outlinewidth\":0,\"tickcolor\":\"rgb(36,36,36)\",\"ticklen\":8,\"ticks\":\"outside\",\"tickwidth\":2}},\"type\":\"scattermapbox\"}],\"scatterpolar\":[{\"marker\":{\"colorbar\":{\"outlinewidth\":0,\"tickcolor\":\"rgb(36,36,36)\",\"ticklen\":8,\"ticks\":\"outside\",\"tickwidth\":2}},\"type\":\"scatterpolar\"}],\"scatterpolargl\":[{\"marker\":{\"colorbar\":{\"outlinewidth\":0,\"tickcolor\":\"rgb(36,36,36)\",\"ticklen\":8,\"ticks\":\"outside\",\"tickwidth\":2}},\"type\":\"scatterpolargl\"}],\"scatterternary\":[{\"marker\":{\"colorbar\":{\"outlinewidth\":0,\"tickcolor\":\"rgb(36,36,36)\",\"ticklen\":8,\"ticks\":\"outside\",\"tickwidth\":2}},\"type\":\"scatterternary\"}],\"surface\":[{\"colorbar\":{\"outlinewidth\":0,\"tickcolor\":\"rgb(36,36,36)\",\"ticklen\":8,\"ticks\":\"outside\",\"tickwidth\":2},\"colorscale\":[[0.0,\"rgb(2,4,25)\"],[0.06274509803921569,\"rgb(24,15,41)\"],[0.12549019607843137,\"rgb(47,23,57)\"],[0.18823529411764706,\"rgb(71,28,72)\"],[0.25098039215686274,\"rgb(97,30,82)\"],[0.3137254901960784,\"rgb(123,30,89)\"],[0.3764705882352941,\"rgb(150,27,91)\"],[0.4392156862745098,\"rgb(177,22,88)\"],[0.5019607843137255,\"rgb(203,26,79)\"],[0.5647058823529412,\"rgb(223,47,67)\"],[0.6274509803921569,\"rgb(236,76,61)\"],[0.6901960784313725,\"rgb(242,107,73)\"],[0.7529411764705882,\"rgb(244,135,95)\"],[0.8156862745098039,\"rgb(245,162,122)\"],[0.8784313725490196,\"rgb(246,188,153)\"],[0.9411764705882353,\"rgb(247,212,187)\"],[1.0,\"rgb(250,234,220)\"]],\"type\":\"surface\"}],\"table\":[{\"cells\":{\"fill\":{\"color\":\"rgb(231,231,240)\"},\"line\":{\"color\":\"white\"}},\"header\":{\"fill\":{\"color\":\"rgb(183,183,191)\"},\"line\":{\"color\":\"white\"}},\"type\":\"table\"}]},\"layout\":{\"annotationdefaults\":{\"arrowcolor\":\"rgb(67,103,167)\"},\"autotypenumbers\":\"strict\",\"coloraxis\":{\"colorbar\":{\"outlinewidth\":0,\"tickcolor\":\"rgb(36,36,36)\",\"ticklen\":8,\"ticks\":\"outside\",\"tickwidth\":2}},\"colorscale\":{\"sequential\":[[0.0,\"rgb(2,4,25)\"],[0.06274509803921569,\"rgb(24,15,41)\"],[0.12549019607843137,\"rgb(47,23,57)\"],[0.18823529411764706,\"rgb(71,28,72)\"],[0.25098039215686274,\"rgb(97,30,82)\"],[0.3137254901960784,\"rgb(123,30,89)\"],[0.3764705882352941,\"rgb(150,27,91)\"],[0.4392156862745098,\"rgb(177,22,88)\"],[0.5019607843137255,\"rgb(203,26,79)\"],[0.5647058823529412,\"rgb(223,47,67)\"],[0.6274509803921569,\"rgb(236,76,61)\"],[0.6901960784313725,\"rgb(242,107,73)\"],[0.7529411764705882,\"rgb(244,135,95)\"],[0.8156862745098039,\"rgb(245,162,122)\"],[0.8784313725490196,\"rgb(246,188,153)\"],[0.9411764705882353,\"rgb(247,212,187)\"],[1.0,\"rgb(250,234,220)\"]],\"sequentialminus\":[[0.0,\"rgb(2,4,25)\"],[0.06274509803921569,\"rgb(24,15,41)\"],[0.12549019607843137,\"rgb(47,23,57)\"],[0.18823529411764706,\"rgb(71,28,72)\"],[0.25098039215686274,\"rgb(97,30,82)\"],[0.3137254901960784,\"rgb(123,30,89)\"],[0.3764705882352941,\"rgb(150,27,91)\"],[0.4392156862745098,\"rgb(177,22,88)\"],[0.5019607843137255,\"rgb(203,26,79)\"],[0.5647058823529412,\"rgb(223,47,67)\"],[0.6274509803921569,\"rgb(236,76,61)\"],[0.6901960784313725,\"rgb(242,107,73)\"],[0.7529411764705882,\"rgb(244,135,95)\"],[0.8156862745098039,\"rgb(245,162,122)\"],[0.8784313725490196,\"rgb(246,188,153)\"],[0.9411764705882353,\"rgb(247,212,187)\"],[1.0,\"rgb(250,234,220)\"]]},\"colorway\":[\"rgb(76,114,176)\",\"rgb(221,132,82)\",\"rgb(85,168,104)\",\"rgb(196,78,82)\",\"rgb(129,114,179)\",\"rgb(147,120,96)\",\"rgb(218,139,195)\",\"rgb(140,140,140)\",\"rgb(204,185,116)\",\"rgb(100,181,205)\"],\"font\":{\"color\":\"rgb(36,36,36)\"},\"geo\":{\"bgcolor\":\"white\",\"lakecolor\":\"white\",\"landcolor\":\"rgb(234,234,242)\",\"showlakes\":true,\"showland\":true,\"subunitcolor\":\"white\"},\"hoverlabel\":{\"align\":\"left\"},\"hovermode\":\"closest\",\"paper_bgcolor\":\"white\",\"plot_bgcolor\":\"rgb(234,234,242)\",\"polar\":{\"angularaxis\":{\"gridcolor\":\"white\",\"linecolor\":\"white\",\"showgrid\":true,\"ticks\":\"\"},\"bgcolor\":\"rgb(234,234,242)\",\"radialaxis\":{\"gridcolor\":\"white\",\"linecolor\":\"white\",\"showgrid\":true,\"ticks\":\"\"}},\"scene\":{\"xaxis\":{\"backgroundcolor\":\"rgb(234,234,242)\",\"gridcolor\":\"white\",\"gridwidth\":2,\"linecolor\":\"white\",\"showbackground\":true,\"showgrid\":true,\"ticks\":\"\",\"zerolinecolor\":\"white\"},\"yaxis\":{\"backgroundcolor\":\"rgb(234,234,242)\",\"gridcolor\":\"white\",\"gridwidth\":2,\"linecolor\":\"white\",\"showbackground\":true,\"showgrid\":true,\"ticks\":\"\",\"zerolinecolor\":\"white\"},\"zaxis\":{\"backgroundcolor\":\"rgb(234,234,242)\",\"gridcolor\":\"white\",\"gridwidth\":2,\"linecolor\":\"white\",\"showbackground\":true,\"showgrid\":true,\"ticks\":\"\",\"zerolinecolor\":\"white\"}},\"shapedefaults\":{\"fillcolor\":\"rgb(67,103,167)\",\"line\":{\"width\":0},\"opacity\":0.5},\"ternary\":{\"aaxis\":{\"gridcolor\":\"white\",\"linecolor\":\"white\",\"showgrid\":true,\"ticks\":\"\"},\"baxis\":{\"gridcolor\":\"white\",\"linecolor\":\"white\",\"showgrid\":true,\"ticks\":\"\"},\"bgcolor\":\"rgb(234,234,242)\",\"caxis\":{\"gridcolor\":\"white\",\"linecolor\":\"white\",\"showgrid\":true,\"ticks\":\"\"}},\"xaxis\":{\"automargin\":true,\"gridcolor\":\"white\",\"linecolor\":\"white\",\"showgrid\":true,\"ticks\":\"\",\"title\":{\"standoff\":15},\"zerolinecolor\":\"white\"},\"yaxis\":{\"automargin\":true,\"gridcolor\":\"white\",\"linecolor\":\"white\",\"showgrid\":true,\"ticks\":\"\",\"title\":{\"standoff\":15},\"zerolinecolor\":\"white\"}}},\"xaxis\":{\"anchor\":\"y\",\"domain\":[0.0,1.0],\"title\":{\"text\":\"Study phase (relative to treatment start)\"}},\"yaxis\":{\"anchor\":\"x\",\"domain\":[0.0,1.0],\"title\":{\"text\":\"Total Metabolic Tumor Volume (ccm)\"}}},                        {\"responsive\": true}                    ).then(function(){\n                            \nvar gd = document.getElementById('999f2caa-144e-4686-b81a-a17855d376ad');\nvar x = new MutationObserver(function (mutations, observer) {{\n        var display = window.getComputedStyle(gd).display;\n        if (!display || display === 'none') {{\n            console.log([gd, 'removed!']);\n            Plotly.purge(gd);\n            observer.disconnect();\n        }}\n}});\n\n// Listen for the removal of the full notebook cells\nvar notebookContainer = gd.closest('#notebook-container');\nif (notebookContainer) {{\n    x.observe(notebookContainer, {childList: true});\n}}\n\n// Listen for the clearing of the current output cell\nvar outputEl = gd.closest('.output');\nif (outputEl) {{\n    x.observe(outputEl, {childList: true});\n}}\n\n                        })                };                            </script>        </div>\n</body>\n</html>"
     },
     "metadata": {},
     "output_type": "display_data"
    }
   ],
   "execution_count": null
  },
  {
   "cell_type": "code",
   "metadata": {
    "cell_id": "00029-9e9621e0-34f6-491a-ad48-d413ddc45fb4",
    "deepnote_app_coordinates": {
     "h": 5,
     "w": 12,
     "x": 0,
     "y": 0
    },
    "deepnote_app_is_code_hidden": true,
    "deepnote_to_be_reexecuted": false,
    "execution_millis": 7,
    "execution_start": 1633023195842,
    "source_hash": "863c9a17",
    "tags": [],
    "deepnote_cell_type": "code"
   },
   "source": "# Checking post-1 label imbalance\npost_1_response = labels[labels.study_phase == 1].response.value_counts()\n\nprint(f'Response imbalance for post-1 studies: \\n{post_1_response}')",
   "outputs": [
    {
     "name": "stdout",
     "text": "Response imbalance for post-1 studies: \nbaseline       43\nprogression    34\nresponse       18\nName: response, dtype: int64\n",
     "output_type": "stream"
    }
   ],
   "execution_count": null
  },
  {
   "cell_type": "code",
   "metadata": {
    "cell_id": "00031-6e56ce54-4432-4419-80f2-95561400a619",
    "deepnote_app_coordinates": {
     "h": 5,
     "w": 12,
     "x": 0,
     "y": 0
    },
    "deepnote_app_is_code_hidden": true,
    "deepnote_to_be_reexecuted": false,
    "execution_millis": 93,
    "execution_start": 1633023721908,
    "source_hash": "e5de121a",
    "tags": [],
    "deepnote_cell_type": "code"
   },
   "source": "px.histogram(labels[labels.study_phase == 1], x='tmtv', color='response',\n             nbins= 40, marginal=\"rug\",\n             labels=studies_labels) \\\n    .update_layout(legend={**top_h_legend, 'y': 1.0},\n                   yaxis_title='Studies (count)',\n                   title='Post-1 study phase response distribution') \\\n    .update_traces(opacity=0.7)",
   "outputs": [
    {
     "data": {
      "text/html": "<html>\n<head><meta charset=\"utf-8\" /></head>\n<body>\n    <div>            <script src=\"https://cdnjs.cloudflare.com/ajax/libs/mathjax/2.7.5/MathJax.js?config=TeX-AMS-MML_SVG\"></script><script type=\"text/javascript\">if (window.MathJax) {MathJax.Hub.Config({SVG: {font: \"STIX-Web\"}});}</script>                <script type=\"text/javascript\">window.PlotlyConfig = {MathJaxConfig: 'local'};</script>\n        <script src=\"https://cdn.plot.ly/plotly-2.4.2.min.js\"></script>                <div id=\"aa138fbb-9698-46ef-840f-b007c219a980\" class=\"plotly-graph-div\" style=\"height:525px; width:100%;\"></div>            <script type=\"text/javascript\">                                    window.PLOTLYENV=window.PLOTLYENV || {};                                    if (document.getElementById(\"aa138fbb-9698-46ef-840f-b007c219a980\")) {                    Plotly.newPlot(                        \"aa138fbb-9698-46ef-840f-b007c219a980\",                        [{\"alignmentgroup\":\"True\",\"bingroup\":\"x\",\"hovertemplate\":\"Immunotherapeutic response=progression<br>Total Metabolic Tumor Volume (ccm)=%{x}<br>count=%{y}<extra></extra>\",\"legendgroup\":\"progression\",\"marker\":{\"color\":\"rgb(76,114,176)\",\"pattern\":{\"shape\":\"\"}},\"name\":\"progression\",\"nbinsx\":40,\"offsetgroup\":\"progression\",\"opacity\":0.7,\"orientation\":\"v\",\"showlegend\":true,\"type\":\"histogram\",\"x\":[255.98999999999998,23.049999999999997,78.53,48.72,79.6,35.54,72.2,101.97,10.2,112.81,45.71,40.39,132.83,148.85999999999999,105.77,92.99,22.479999999999997,10.440000000000001,6.28,56.61,167.13,306.14,312.31999999999994,120.61000000000003,50.42,33.230000000000004,391.83,249.29,20.71,6.83,487.7700000000001,94.49,157.02999999999997,26.360000000000007],\"xaxis\":\"x\",\"yaxis\":\"y\"},{\"alignmentgroup\":\"True\",\"boxpoints\":\"all\",\"fillcolor\":\"rgba(255,255,255,0)\",\"hoveron\":\"points\",\"hovertemplate\":\"Immunotherapeutic response=progression<br>Total Metabolic Tumor Volume (ccm)=%{x}<extra></extra>\",\"jitter\":0,\"legendgroup\":\"progression\",\"line\":{\"color\":\"rgba(255,255,255,0)\"},\"marker\":{\"color\":\"rgb(76,114,176)\",\"symbol\":\"line-ns-open\"},\"name\":\"progression\",\"offsetgroup\":\"progression\",\"opacity\":0.7,\"showlegend\":false,\"type\":\"box\",\"x\":[255.98999999999998,23.049999999999997,78.53,48.72,79.6,35.54,72.2,101.97,10.2,112.81,45.71,40.39,132.83,148.85999999999999,105.77,92.99,22.479999999999997,10.440000000000001,6.28,56.61,167.13,306.14,312.31999999999994,120.61000000000003,50.42,33.230000000000004,391.83,249.29,20.71,6.83,487.7700000000001,94.49,157.02999999999997,26.360000000000007],\"xaxis\":\"x2\",\"yaxis\":\"y2\"},{\"alignmentgroup\":\"True\",\"bingroup\":\"x\",\"hovertemplate\":\"Immunotherapeutic response=baseline<br>Total Metabolic Tumor Volume (ccm)=%{x}<br>count=%{y}<extra></extra>\",\"legendgroup\":\"baseline\",\"marker\":{\"color\":\"rgb(221,132,82)\",\"pattern\":{\"shape\":\"\"}},\"name\":\"baseline\",\"nbinsx\":40,\"offsetgroup\":\"baseline\",\"opacity\":0.7,\"orientation\":\"v\",\"showlegend\":true,\"type\":\"histogram\",\"x\":[0.88,106.25,61.19,30.4,3.1,1.25,32.42000000000001,8.32,51.85,8.59,84.24,90.96,28.44,202.41,7.37,80.74000000000001,87.42,3.21,156.39,401.79999999999995,1.74,24.480000000000004,3.35,52.03000000000001,117.30000000000001,6.19,12.399999999999999,19.06,34.4,47.85999999999999,105.77,41.15,7.82,172.61,26.669999999999998,3.15,14.59,29.080000000000002,0.64,25.88,87.4,28.799999999999994,35.91],\"xaxis\":\"x\",\"yaxis\":\"y\"},{\"alignmentgroup\":\"True\",\"boxpoints\":\"all\",\"fillcolor\":\"rgba(255,255,255,0)\",\"hoveron\":\"points\",\"hovertemplate\":\"Immunotherapeutic response=baseline<br>Total Metabolic Tumor Volume (ccm)=%{x}<extra></extra>\",\"jitter\":0,\"legendgroup\":\"baseline\",\"line\":{\"color\":\"rgba(255,255,255,0)\"},\"marker\":{\"color\":\"rgb(221,132,82)\",\"symbol\":\"line-ns-open\"},\"name\":\"baseline\",\"offsetgroup\":\"baseline\",\"opacity\":0.7,\"showlegend\":false,\"type\":\"box\",\"x\":[0.88,106.25,61.19,30.4,3.1,1.25,32.42000000000001,8.32,51.85,8.59,84.24,90.96,28.44,202.41,7.37,80.74000000000001,87.42,3.21,156.39,401.79999999999995,1.74,24.480000000000004,3.35,52.03000000000001,117.30000000000001,6.19,12.399999999999999,19.06,34.4,47.85999999999999,105.77,41.15,7.82,172.61,26.669999999999998,3.15,14.59,29.080000000000002,0.64,25.88,87.4,28.799999999999994,35.91],\"xaxis\":\"x2\",\"yaxis\":\"y2\"},{\"alignmentgroup\":\"True\",\"bingroup\":\"x\",\"hovertemplate\":\"Immunotherapeutic response=response<br>Total Metabolic Tumor Volume (ccm)=%{x}<br>count=%{y}<extra></extra>\",\"legendgroup\":\"response\",\"marker\":{\"color\":\"rgb(85,168,104)\",\"pattern\":{\"shape\":\"\"}},\"name\":\"response\",\"nbinsx\":40,\"offsetgroup\":\"response\",\"opacity\":0.7,\"orientation\":\"v\",\"showlegend\":true,\"type\":\"histogram\",\"x\":[22.47,60.300000000000004,30.91,32.14,21.04,40.49,12.98,62.269999999999996,43.94,24.389999999999997,31.96,1.34,11.850000000000001,3.57,21.39,13.670000000000002,256.6,0.54],\"xaxis\":\"x\",\"yaxis\":\"y\"},{\"alignmentgroup\":\"True\",\"boxpoints\":\"all\",\"fillcolor\":\"rgba(255,255,255,0)\",\"hoveron\":\"points\",\"hovertemplate\":\"Immunotherapeutic response=response<br>Total Metabolic Tumor Volume (ccm)=%{x}<extra></extra>\",\"jitter\":0,\"legendgroup\":\"response\",\"line\":{\"color\":\"rgba(255,255,255,0)\"},\"marker\":{\"color\":\"rgb(85,168,104)\",\"symbol\":\"line-ns-open\"},\"name\":\"response\",\"offsetgroup\":\"response\",\"opacity\":0.7,\"showlegend\":false,\"type\":\"box\",\"x\":[22.47,60.300000000000004,30.91,32.14,21.04,40.49,12.98,62.269999999999996,43.94,24.389999999999997,31.96,1.34,11.850000000000001,3.57,21.39,13.670000000000002,256.6,0.54],\"xaxis\":\"x2\",\"yaxis\":\"y2\"}],                        {\"barmode\":\"relative\",\"legend\":{\"orientation\":\"h\",\"title\":{\"text\":\"Immunotherapeutic response\"},\"tracegroupgap\":0,\"y\":1.0,\"yanchor\":\"bottom\"},\"margin\":{\"t\":60},\"template\":{\"data\":{\"bar\":[{\"error_x\":{\"color\":\"rgb(36,36,36)\"},\"error_y\":{\"color\":\"rgb(36,36,36)\"},\"marker\":{\"line\":{\"color\":\"rgb(234,234,242)\",\"width\":0.5},\"pattern\":{\"fillmode\":\"overlay\",\"size\":10,\"solidity\":0.2}},\"type\":\"bar\"}],\"barpolar\":[{\"marker\":{\"line\":{\"color\":\"rgb(234,234,242)\",\"width\":0.5},\"pattern\":{\"fillmode\":\"overlay\",\"size\":10,\"solidity\":0.2}},\"type\":\"barpolar\"}],\"carpet\":[{\"aaxis\":{\"endlinecolor\":\"rgb(36,36,36)\",\"gridcolor\":\"white\",\"linecolor\":\"white\",\"minorgridcolor\":\"white\",\"startlinecolor\":\"rgb(36,36,36)\"},\"baxis\":{\"endlinecolor\":\"rgb(36,36,36)\",\"gridcolor\":\"white\",\"linecolor\":\"white\",\"minorgridcolor\":\"white\",\"startlinecolor\":\"rgb(36,36,36)\"},\"type\":\"carpet\"}],\"choropleth\":[{\"colorbar\":{\"outlinewidth\":0,\"tickcolor\":\"rgb(36,36,36)\",\"ticklen\":8,\"ticks\":\"outside\",\"tickwidth\":2},\"type\":\"choropleth\"}],\"contour\":[{\"colorbar\":{\"outlinewidth\":0,\"tickcolor\":\"rgb(36,36,36)\",\"ticklen\":8,\"ticks\":\"outside\",\"tickwidth\":2},\"colorscale\":[[0.0,\"rgb(2,4,25)\"],[0.06274509803921569,\"rgb(24,15,41)\"],[0.12549019607843137,\"rgb(47,23,57)\"],[0.18823529411764706,\"rgb(71,28,72)\"],[0.25098039215686274,\"rgb(97,30,82)\"],[0.3137254901960784,\"rgb(123,30,89)\"],[0.3764705882352941,\"rgb(150,27,91)\"],[0.4392156862745098,\"rgb(177,22,88)\"],[0.5019607843137255,\"rgb(203,26,79)\"],[0.5647058823529412,\"rgb(223,47,67)\"],[0.6274509803921569,\"rgb(236,76,61)\"],[0.6901960784313725,\"rgb(242,107,73)\"],[0.7529411764705882,\"rgb(244,135,95)\"],[0.8156862745098039,\"rgb(245,162,122)\"],[0.8784313725490196,\"rgb(246,188,153)\"],[0.9411764705882353,\"rgb(247,212,187)\"],[1.0,\"rgb(250,234,220)\"]],\"type\":\"contour\"}],\"contourcarpet\":[{\"colorbar\":{\"outlinewidth\":0,\"tickcolor\":\"rgb(36,36,36)\",\"ticklen\":8,\"ticks\":\"outside\",\"tickwidth\":2},\"type\":\"contourcarpet\"}],\"heatmap\":[{\"colorbar\":{\"outlinewidth\":0,\"tickcolor\":\"rgb(36,36,36)\",\"ticklen\":8,\"ticks\":\"outside\",\"tickwidth\":2},\"colorscale\":[[0.0,\"rgb(2,4,25)\"],[0.06274509803921569,\"rgb(24,15,41)\"],[0.12549019607843137,\"rgb(47,23,57)\"],[0.18823529411764706,\"rgb(71,28,72)\"],[0.25098039215686274,\"rgb(97,30,82)\"],[0.3137254901960784,\"rgb(123,30,89)\"],[0.3764705882352941,\"rgb(150,27,91)\"],[0.4392156862745098,\"rgb(177,22,88)\"],[0.5019607843137255,\"rgb(203,26,79)\"],[0.5647058823529412,\"rgb(223,47,67)\"],[0.6274509803921569,\"rgb(236,76,61)\"],[0.6901960784313725,\"rgb(242,107,73)\"],[0.7529411764705882,\"rgb(244,135,95)\"],[0.8156862745098039,\"rgb(245,162,122)\"],[0.8784313725490196,\"rgb(246,188,153)\"],[0.9411764705882353,\"rgb(247,212,187)\"],[1.0,\"rgb(250,234,220)\"]],\"type\":\"heatmap\"}],\"heatmapgl\":[{\"colorbar\":{\"outlinewidth\":0,\"tickcolor\":\"rgb(36,36,36)\",\"ticklen\":8,\"ticks\":\"outside\",\"tickwidth\":2},\"colorscale\":[[0.0,\"rgb(2,4,25)\"],[0.06274509803921569,\"rgb(24,15,41)\"],[0.12549019607843137,\"rgb(47,23,57)\"],[0.18823529411764706,\"rgb(71,28,72)\"],[0.25098039215686274,\"rgb(97,30,82)\"],[0.3137254901960784,\"rgb(123,30,89)\"],[0.3764705882352941,\"rgb(150,27,91)\"],[0.4392156862745098,\"rgb(177,22,88)\"],[0.5019607843137255,\"rgb(203,26,79)\"],[0.5647058823529412,\"rgb(223,47,67)\"],[0.6274509803921569,\"rgb(236,76,61)\"],[0.6901960784313725,\"rgb(242,107,73)\"],[0.7529411764705882,\"rgb(244,135,95)\"],[0.8156862745098039,\"rgb(245,162,122)\"],[0.8784313725490196,\"rgb(246,188,153)\"],[0.9411764705882353,\"rgb(247,212,187)\"],[1.0,\"rgb(250,234,220)\"]],\"type\":\"heatmapgl\"}],\"histogram\":[{\"marker\":{\"pattern\":{\"fillmode\":\"overlay\",\"size\":10,\"solidity\":0.2}},\"type\":\"histogram\"}],\"histogram2d\":[{\"colorbar\":{\"outlinewidth\":0,\"tickcolor\":\"rgb(36,36,36)\",\"ticklen\":8,\"ticks\":\"outside\",\"tickwidth\":2},\"colorscale\":[[0.0,\"rgb(2,4,25)\"],[0.06274509803921569,\"rgb(24,15,41)\"],[0.12549019607843137,\"rgb(47,23,57)\"],[0.18823529411764706,\"rgb(71,28,72)\"],[0.25098039215686274,\"rgb(97,30,82)\"],[0.3137254901960784,\"rgb(123,30,89)\"],[0.3764705882352941,\"rgb(150,27,91)\"],[0.4392156862745098,\"rgb(177,22,88)\"],[0.5019607843137255,\"rgb(203,26,79)\"],[0.5647058823529412,\"rgb(223,47,67)\"],[0.6274509803921569,\"rgb(236,76,61)\"],[0.6901960784313725,\"rgb(242,107,73)\"],[0.7529411764705882,\"rgb(244,135,95)\"],[0.8156862745098039,\"rgb(245,162,122)\"],[0.8784313725490196,\"rgb(246,188,153)\"],[0.9411764705882353,\"rgb(247,212,187)\"],[1.0,\"rgb(250,234,220)\"]],\"type\":\"histogram2d\"}],\"histogram2dcontour\":[{\"colorbar\":{\"outlinewidth\":0,\"tickcolor\":\"rgb(36,36,36)\",\"ticklen\":8,\"ticks\":\"outside\",\"tickwidth\":2},\"colorscale\":[[0.0,\"rgb(2,4,25)\"],[0.06274509803921569,\"rgb(24,15,41)\"],[0.12549019607843137,\"rgb(47,23,57)\"],[0.18823529411764706,\"rgb(71,28,72)\"],[0.25098039215686274,\"rgb(97,30,82)\"],[0.3137254901960784,\"rgb(123,30,89)\"],[0.3764705882352941,\"rgb(150,27,91)\"],[0.4392156862745098,\"rgb(177,22,88)\"],[0.5019607843137255,\"rgb(203,26,79)\"],[0.5647058823529412,\"rgb(223,47,67)\"],[0.6274509803921569,\"rgb(236,76,61)\"],[0.6901960784313725,\"rgb(242,107,73)\"],[0.7529411764705882,\"rgb(244,135,95)\"],[0.8156862745098039,\"rgb(245,162,122)\"],[0.8784313725490196,\"rgb(246,188,153)\"],[0.9411764705882353,\"rgb(247,212,187)\"],[1.0,\"rgb(250,234,220)\"]],\"type\":\"histogram2dcontour\"}],\"mesh3d\":[{\"colorbar\":{\"outlinewidth\":0,\"tickcolor\":\"rgb(36,36,36)\",\"ticklen\":8,\"ticks\":\"outside\",\"tickwidth\":2},\"type\":\"mesh3d\"}],\"parcoords\":[{\"line\":{\"colorbar\":{\"outlinewidth\":0,\"tickcolor\":\"rgb(36,36,36)\",\"ticklen\":8,\"ticks\":\"outside\",\"tickwidth\":2}},\"type\":\"parcoords\"}],\"pie\":[{\"automargin\":true,\"type\":\"pie\"}],\"scatter\":[{\"marker\":{\"colorbar\":{\"outlinewidth\":0,\"tickcolor\":\"rgb(36,36,36)\",\"ticklen\":8,\"ticks\":\"outside\",\"tickwidth\":2}},\"type\":\"scatter\"}],\"scatter3d\":[{\"line\":{\"colorbar\":{\"outlinewidth\":0,\"tickcolor\":\"rgb(36,36,36)\",\"ticklen\":8,\"ticks\":\"outside\",\"tickwidth\":2}},\"marker\":{\"colorbar\":{\"outlinewidth\":0,\"tickcolor\":\"rgb(36,36,36)\",\"ticklen\":8,\"ticks\":\"outside\",\"tickwidth\":2}},\"type\":\"scatter3d\"}],\"scattercarpet\":[{\"marker\":{\"colorbar\":{\"outlinewidth\":0,\"tickcolor\":\"rgb(36,36,36)\",\"ticklen\":8,\"ticks\":\"outside\",\"tickwidth\":2}},\"type\":\"scattercarpet\"}],\"scattergeo\":[{\"marker\":{\"colorbar\":{\"outlinewidth\":0,\"tickcolor\":\"rgb(36,36,36)\",\"ticklen\":8,\"ticks\":\"outside\",\"tickwidth\":2}},\"type\":\"scattergeo\"}],\"scattergl\":[{\"marker\":{\"colorbar\":{\"outlinewidth\":0,\"tickcolor\":\"rgb(36,36,36)\",\"ticklen\":8,\"ticks\":\"outside\",\"tickwidth\":2}},\"type\":\"scattergl\"}],\"scattermapbox\":[{\"marker\":{\"colorbar\":{\"outlinewidth\":0,\"tickcolor\":\"rgb(36,36,36)\",\"ticklen\":8,\"ticks\":\"outside\",\"tickwidth\":2}},\"type\":\"scattermapbox\"}],\"scatterpolar\":[{\"marker\":{\"colorbar\":{\"outlinewidth\":0,\"tickcolor\":\"rgb(36,36,36)\",\"ticklen\":8,\"ticks\":\"outside\",\"tickwidth\":2}},\"type\":\"scatterpolar\"}],\"scatterpolargl\":[{\"marker\":{\"colorbar\":{\"outlinewidth\":0,\"tickcolor\":\"rgb(36,36,36)\",\"ticklen\":8,\"ticks\":\"outside\",\"tickwidth\":2}},\"type\":\"scatterpolargl\"}],\"scatterternary\":[{\"marker\":{\"colorbar\":{\"outlinewidth\":0,\"tickcolor\":\"rgb(36,36,36)\",\"ticklen\":8,\"ticks\":\"outside\",\"tickwidth\":2}},\"type\":\"scatterternary\"}],\"surface\":[{\"colorbar\":{\"outlinewidth\":0,\"tickcolor\":\"rgb(36,36,36)\",\"ticklen\":8,\"ticks\":\"outside\",\"tickwidth\":2},\"colorscale\":[[0.0,\"rgb(2,4,25)\"],[0.06274509803921569,\"rgb(24,15,41)\"],[0.12549019607843137,\"rgb(47,23,57)\"],[0.18823529411764706,\"rgb(71,28,72)\"],[0.25098039215686274,\"rgb(97,30,82)\"],[0.3137254901960784,\"rgb(123,30,89)\"],[0.3764705882352941,\"rgb(150,27,91)\"],[0.4392156862745098,\"rgb(177,22,88)\"],[0.5019607843137255,\"rgb(203,26,79)\"],[0.5647058823529412,\"rgb(223,47,67)\"],[0.6274509803921569,\"rgb(236,76,61)\"],[0.6901960784313725,\"rgb(242,107,73)\"],[0.7529411764705882,\"rgb(244,135,95)\"],[0.8156862745098039,\"rgb(245,162,122)\"],[0.8784313725490196,\"rgb(246,188,153)\"],[0.9411764705882353,\"rgb(247,212,187)\"],[1.0,\"rgb(250,234,220)\"]],\"type\":\"surface\"}],\"table\":[{\"cells\":{\"fill\":{\"color\":\"rgb(231,231,240)\"},\"line\":{\"color\":\"white\"}},\"header\":{\"fill\":{\"color\":\"rgb(183,183,191)\"},\"line\":{\"color\":\"white\"}},\"type\":\"table\"}]},\"layout\":{\"annotationdefaults\":{\"arrowcolor\":\"rgb(67,103,167)\"},\"autotypenumbers\":\"strict\",\"coloraxis\":{\"colorbar\":{\"outlinewidth\":0,\"tickcolor\":\"rgb(36,36,36)\",\"ticklen\":8,\"ticks\":\"outside\",\"tickwidth\":2}},\"colorscale\":{\"sequential\":[[0.0,\"rgb(2,4,25)\"],[0.06274509803921569,\"rgb(24,15,41)\"],[0.12549019607843137,\"rgb(47,23,57)\"],[0.18823529411764706,\"rgb(71,28,72)\"],[0.25098039215686274,\"rgb(97,30,82)\"],[0.3137254901960784,\"rgb(123,30,89)\"],[0.3764705882352941,\"rgb(150,27,91)\"],[0.4392156862745098,\"rgb(177,22,88)\"],[0.5019607843137255,\"rgb(203,26,79)\"],[0.5647058823529412,\"rgb(223,47,67)\"],[0.6274509803921569,\"rgb(236,76,61)\"],[0.6901960784313725,\"rgb(242,107,73)\"],[0.7529411764705882,\"rgb(244,135,95)\"],[0.8156862745098039,\"rgb(245,162,122)\"],[0.8784313725490196,\"rgb(246,188,153)\"],[0.9411764705882353,\"rgb(247,212,187)\"],[1.0,\"rgb(250,234,220)\"]],\"sequentialminus\":[[0.0,\"rgb(2,4,25)\"],[0.06274509803921569,\"rgb(24,15,41)\"],[0.12549019607843137,\"rgb(47,23,57)\"],[0.18823529411764706,\"rgb(71,28,72)\"],[0.25098039215686274,\"rgb(97,30,82)\"],[0.3137254901960784,\"rgb(123,30,89)\"],[0.3764705882352941,\"rgb(150,27,91)\"],[0.4392156862745098,\"rgb(177,22,88)\"],[0.5019607843137255,\"rgb(203,26,79)\"],[0.5647058823529412,\"rgb(223,47,67)\"],[0.6274509803921569,\"rgb(236,76,61)\"],[0.6901960784313725,\"rgb(242,107,73)\"],[0.7529411764705882,\"rgb(244,135,95)\"],[0.8156862745098039,\"rgb(245,162,122)\"],[0.8784313725490196,\"rgb(246,188,153)\"],[0.9411764705882353,\"rgb(247,212,187)\"],[1.0,\"rgb(250,234,220)\"]]},\"colorway\":[\"rgb(76,114,176)\",\"rgb(221,132,82)\",\"rgb(85,168,104)\",\"rgb(196,78,82)\",\"rgb(129,114,179)\",\"rgb(147,120,96)\",\"rgb(218,139,195)\",\"rgb(140,140,140)\",\"rgb(204,185,116)\",\"rgb(100,181,205)\"],\"font\":{\"color\":\"rgb(36,36,36)\"},\"geo\":{\"bgcolor\":\"white\",\"lakecolor\":\"white\",\"landcolor\":\"rgb(234,234,242)\",\"showlakes\":true,\"showland\":true,\"subunitcolor\":\"white\"},\"hoverlabel\":{\"align\":\"left\"},\"hovermode\":\"closest\",\"paper_bgcolor\":\"white\",\"plot_bgcolor\":\"rgb(234,234,242)\",\"polar\":{\"angularaxis\":{\"gridcolor\":\"white\",\"linecolor\":\"white\",\"showgrid\":true,\"ticks\":\"\"},\"bgcolor\":\"rgb(234,234,242)\",\"radialaxis\":{\"gridcolor\":\"white\",\"linecolor\":\"white\",\"showgrid\":true,\"ticks\":\"\"}},\"scene\":{\"xaxis\":{\"backgroundcolor\":\"rgb(234,234,242)\",\"gridcolor\":\"white\",\"gridwidth\":2,\"linecolor\":\"white\",\"showbackground\":true,\"showgrid\":true,\"ticks\":\"\",\"zerolinecolor\":\"white\"},\"yaxis\":{\"backgroundcolor\":\"rgb(234,234,242)\",\"gridcolor\":\"white\",\"gridwidth\":2,\"linecolor\":\"white\",\"showbackground\":true,\"showgrid\":true,\"ticks\":\"\",\"zerolinecolor\":\"white\"},\"zaxis\":{\"backgroundcolor\":\"rgb(234,234,242)\",\"gridcolor\":\"white\",\"gridwidth\":2,\"linecolor\":\"white\",\"showbackground\":true,\"showgrid\":true,\"ticks\":\"\",\"zerolinecolor\":\"white\"}},\"shapedefaults\":{\"fillcolor\":\"rgb(67,103,167)\",\"line\":{\"width\":0},\"opacity\":0.5},\"ternary\":{\"aaxis\":{\"gridcolor\":\"white\",\"linecolor\":\"white\",\"showgrid\":true,\"ticks\":\"\"},\"baxis\":{\"gridcolor\":\"white\",\"linecolor\":\"white\",\"showgrid\":true,\"ticks\":\"\"},\"bgcolor\":\"rgb(234,234,242)\",\"caxis\":{\"gridcolor\":\"white\",\"linecolor\":\"white\",\"showgrid\":true,\"ticks\":\"\"}},\"xaxis\":{\"automargin\":true,\"gridcolor\":\"white\",\"linecolor\":\"white\",\"showgrid\":true,\"ticks\":\"\",\"title\":{\"standoff\":15},\"zerolinecolor\":\"white\"},\"yaxis\":{\"automargin\":true,\"gridcolor\":\"white\",\"linecolor\":\"white\",\"showgrid\":true,\"ticks\":\"\",\"title\":{\"standoff\":15},\"zerolinecolor\":\"white\"}}},\"title\":{\"text\":\"Post-1 study phase response distribution\"},\"xaxis\":{\"anchor\":\"y\",\"domain\":[0.0,1.0],\"title\":{\"text\":\"Total Metabolic Tumor Volume (ccm)\"}},\"xaxis2\":{\"anchor\":\"y2\",\"domain\":[0.0,1.0],\"matches\":\"x\",\"showticklabels\":false},\"yaxis\":{\"anchor\":\"x\",\"domain\":[0.0,0.7326],\"title\":{\"text\":\"Studies (count)\"}},\"yaxis2\":{\"anchor\":\"x2\",\"domain\":[0.7426,1.0],\"matches\":\"y2\",\"showline\":false,\"showticklabels\":false,\"ticks\":\"\"}},                        {\"responsive\": true}                    ).then(function(){\n                            \nvar gd = document.getElementById('aa138fbb-9698-46ef-840f-b007c219a980');\nvar x = new MutationObserver(function (mutations, observer) {{\n        var display = window.getComputedStyle(gd).display;\n        if (!display || display === 'none') {{\n            console.log([gd, 'removed!']);\n            Plotly.purge(gd);\n            observer.disconnect();\n        }}\n}});\n\n// Listen for the removal of the full notebook cells\nvar notebookContainer = gd.closest('#notebook-container');\nif (notebookContainer) {{\n    x.observe(notebookContainer, {childList: true});\n}}\n\n// Listen for the clearing of the current output cell\nvar outputEl = gd.closest('.output');\nif (outputEl) {{\n    x.observe(outputEl, {childList: true});\n}}\n\n                        })                };                            </script>        </div>\n</body>\n</html>"
     },
     "metadata": {},
     "output_type": "display_data"
    }
   ],
   "execution_count": null
  },
  {
   "cell_type": "markdown",
   "source": "## Patients",
   "metadata": {
    "cell_id": "00031-593ef611-ee8b-4964-9a3e-b90d8f1ffca1",
    "deepnote_app_coordinates": {
     "h": 2,
     "w": 12,
     "x": 0,
     "y": 0
    },
    "is_collapsed": false,
    "tags": [],
    "deepnote_cell_type": "text-cell-h2"
   }
  },
  {
   "cell_type": "markdown",
   "source": "### Dataset information",
   "metadata": {
    "cell_id": "00033-322bbc7b-3606-4a3b-8bf0-ff27407f79eb",
    "deepnote_app_coordinates": {
     "h": 2,
     "w": 12,
     "x": 0,
     "y": 0
    },
    "is_collapsed": false,
    "tags": [],
    "deepnote_cell_type": "text-cell-h3"
   }
  },
  {
   "cell_type": "markdown",
   "source": "### Preprocessing",
   "metadata": {
    "cell_id": "00034-4cd341ab-e7b3-4121-b236-7c1693b895ff",
    "deepnote_app_coordinates": {
     "h": 2,
     "w": 12,
     "x": 0,
     "y": 0
    },
    "is_collapsed": false,
    "tags": [],
    "deepnote_cell_type": "text-cell-h3"
   }
  },
  {
   "cell_type": "code",
   "metadata": {
    "cell_id": "00035-4a432704-c37c-458a-b100-1d13ab25fa6e",
    "deepnote_app_coordinates": {
     "h": 5,
     "w": 12,
     "x": 0,
     "y": 0
    },
    "deepnote_app_is_code_hidden": true,
    "deepnote_to_be_reexecuted": false,
    "execution_millis": 127,
    "execution_start": 1633022096202,
    "source_hash": "dc4a9b82",
    "tags": [],
    "deepnote_cell_type": "code"
   },
   "source": "patients = pd.read_csv(os.path.join(DATA_DIR, patients_file))\n\npatients['age_at_treatment_start_in_years'] = \\\n    patients.age_at_treatment_start_in_years.apply(\n        lambda a: 90 if a == '90 or older' else int(a))\n\nn_patients, f_patients = patients.shape\n\nprint(f'Imported {n_patients} patients with {f_studies} features. Null values: {patients.isna().sum().sum()}')",
   "outputs": [
    {
     "name": "stdout",
     "text": "Imported 129 patients with 9 features. Null values: 0\n",
     "output_type": "stream"
    }
   ],
   "execution_count": null
  },
  {
   "cell_type": "code",
   "metadata": {
    "cell_id": "00036-289611e3-8309-47e6-87e3-3242df4f2c64",
    "deepnote_app_coordinates": {
     "h": 5,
     "w": 12,
     "x": 0,
     "y": 0
    },
    "deepnote_app_is_code_hidden": true,
    "deepnote_to_be_reexecuted": false,
    "execution_millis": 42,
    "execution_start": 1633022099103,
    "source_hash": "a8a192d9",
    "tags": [],
    "deepnote_cell_type": "code"
   },
   "source": "patients.head()",
   "outputs": [
    {
     "output_type": "execute_result",
     "execution_count": 32,
     "data": {
      "application/vnd.deepnote.dataframe.v2+json": {
       "row_count": 129,
       "column_count": 9,
       "columns": [
        {
         "name": "gpcr_id",
         "dtype": "int64",
         "stats": {
          "unique_count": 129,
          "nan_count": 0,
          "min": "34610001",
          "max": "34610150",
          "histogram": [
           {
            "bin_start": 34610001,
            "bin_end": 34610015.9,
            "count": 14
           },
           {
            "bin_start": 34610015.9,
            "bin_end": 34610030.8,
            "count": 14
           },
           {
            "bin_start": 34610030.8,
            "bin_end": 34610045.7,
            "count": 13
           },
           {
            "bin_start": 34610045.7,
            "bin_end": 34610060.6,
            "count": 11
           },
           {
            "bin_start": 34610060.6,
            "bin_end": 34610075.5,
            "count": 12
           },
           {
            "bin_start": 34610075.5,
            "bin_end": 34610090.4,
            "count": 13
           },
           {
            "bin_start": 34610090.4,
            "bin_end": 34610105.3,
            "count": 13
           },
           {
            "bin_start": 34610105.3,
            "bin_end": 34610120.2,
            "count": 11
           },
           {
            "bin_start": 34610120.2,
            "bin_end": 34610135.1,
            "count": 13
           },
           {
            "bin_start": 34610135.1,
            "bin_end": 34610150,
            "count": 15
           }
          ]
         }
        },
        {
         "name": "age_at_treatment_start_in_years",
         "dtype": "int64",
         "stats": {
          "unique_count": 48,
          "nan_count": 0,
          "min": "27",
          "max": "90",
          "histogram": [
           {
            "bin_start": 27,
            "bin_end": 33.3,
            "count": 3
           },
           {
            "bin_start": 33.3,
            "bin_end": 39.6,
            "count": 3
           },
           {
            "bin_start": 39.6,
            "bin_end": 45.9,
            "count": 8
           },
           {
            "bin_start": 45.9,
            "bin_end": 52.2,
            "count": 8
           },
           {
            "bin_start": 52.2,
            "bin_end": 58.5,
            "count": 14
           },
           {
            "bin_start": 58.5,
            "bin_end": 64.8,
            "count": 15
           },
           {
            "bin_start": 64.8,
            "bin_end": 71.1,
            "count": 24
           },
           {
            "bin_start": 71.1,
            "bin_end": 77.4,
            "count": 32
           },
           {
            "bin_start": 77.4,
            "bin_end": 83.69999999999999,
            "count": 15
           },
           {
            "bin_start": 83.69999999999999,
            "bin_end": 90,
            "count": 7
           }
          ]
         }
        },
        {
         "name": "duration_treatment_in_days",
         "dtype": "int64",
         "stats": {
          "unique_count": 52,
          "nan_count": 0,
          "min": "0",
          "max": "771",
          "histogram": [
           {
            "bin_start": 0,
            "bin_end": 77.1,
            "count": 87
           },
           {
            "bin_start": 77.1,
            "bin_end": 154.2,
            "count": 18
           },
           {
            "bin_start": 154.2,
            "bin_end": 231.29999999999998,
            "count": 5
           },
           {
            "bin_start": 231.29999999999998,
            "bin_end": 308.4,
            "count": 2
           },
           {
            "bin_start": 308.4,
            "bin_end": 385.5,
            "count": 7
           },
           {
            "bin_start": 385.5,
            "bin_end": 462.59999999999997,
            "count": 1
           },
           {
            "bin_start": 462.59999999999997,
            "bin_end": 539.6999999999999,
            "count": 2
           },
           {
            "bin_start": 539.6999999999999,
            "bin_end": 616.8,
            "count": 2
           },
           {
            "bin_start": 616.8,
            "bin_end": 693.9,
            "count": 0
           },
           {
            "bin_start": 693.9,
            "bin_end": 771,
            "count": 5
           }
          ]
         }
        },
        {
         "name": "death_event_observed",
         "dtype": "bool",
         "stats": {
          "unique_count": 2,
          "nan_count": 0,
          "categories": [
           {
            "name": "False",
            "count": 71
           },
           {
            "name": "True",
            "count": 58
           }
          ]
         }
        },
        {
         "name": "survival_in_days",
         "dtype": "int64",
         "stats": {
          "unique_count": 127,
          "nan_count": 0,
          "min": "22",
          "max": "2444",
          "histogram": [
           {
            "bin_start": 22,
            "bin_end": 264.2,
            "count": 20
           },
           {
            "bin_start": 264.2,
            "bin_end": 506.4,
            "count": 32
           },
           {
            "bin_start": 506.4,
            "bin_end": 748.5999999999999,
            "count": 17
           },
           {
            "bin_start": 748.5999999999999,
            "bin_end": 990.8,
            "count": 15
           },
           {
            "bin_start": 990.8,
            "bin_end": 1233,
            "count": 16
           },
           {
            "bin_start": 1233,
            "bin_end": 1475.1999999999998,
            "count": 11
           },
           {
            "bin_start": 1475.1999999999998,
            "bin_end": 1717.3999999999999,
            "count": 7
           },
           {
            "bin_start": 1717.3999999999999,
            "bin_end": 1959.6,
            "count": 5
           },
           {
            "bin_start": 1959.6,
            "bin_end": 2201.7999999999997,
            "count": 4
           },
           {
            "bin_start": 2201.7999999999997,
            "bin_end": 2444,
            "count": 2
           }
          ]
         }
        },
        {
         "name": "n_imgs_before_treatment",
         "dtype": "int64",
         "stats": {
          "unique_count": 3,
          "nan_count": 0,
          "min": "0",
          "max": "2",
          "histogram": [
           {
            "bin_start": 0,
            "bin_end": 0.2,
            "count": 41
           },
           {
            "bin_start": 0.2,
            "bin_end": 0.4,
            "count": 0
           },
           {
            "bin_start": 0.4,
            "bin_end": 0.6000000000000001,
            "count": 0
           },
           {
            "bin_start": 0.6000000000000001,
            "bin_end": 0.8,
            "count": 0
           },
           {
            "bin_start": 0.8,
            "bin_end": 1,
            "count": 0
           },
           {
            "bin_start": 1,
            "bin_end": 1.2000000000000002,
            "count": 73
           },
           {
            "bin_start": 1.2000000000000002,
            "bin_end": 1.4000000000000001,
            "count": 0
           },
           {
            "bin_start": 1.4000000000000001,
            "bin_end": 1.6,
            "count": 0
           },
           {
            "bin_start": 1.6,
            "bin_end": 1.8,
            "count": 0
           },
           {
            "bin_start": 1.8,
            "bin_end": 2,
            "count": 15
           }
          ]
         }
        },
        {
         "name": "n_imgs_during_treatment",
         "dtype": "int64",
         "stats": {
          "unique_count": 9,
          "nan_count": 0,
          "min": "0",
          "max": "8",
          "histogram": [
           {
            "bin_start": 0,
            "bin_end": 0.8,
            "count": 84
           },
           {
            "bin_start": 0.8,
            "bin_end": 1.6,
            "count": 28
           },
           {
            "bin_start": 1.6,
            "bin_end": 2.4000000000000004,
            "count": 3
           },
           {
            "bin_start": 2.4000000000000004,
            "bin_end": 3.2,
            "count": 6
           },
           {
            "bin_start": 3.2,
            "bin_end": 4,
            "count": 0
           },
           {
            "bin_start": 4,
            "bin_end": 4.800000000000001,
            "count": 3
           },
           {
            "bin_start": 4.800000000000001,
            "bin_end": 5.6000000000000005,
            "count": 1
           },
           {
            "bin_start": 5.6000000000000005,
            "bin_end": 6.4,
            "count": 2
           },
           {
            "bin_start": 6.4,
            "bin_end": 7.2,
            "count": 1
           },
           {
            "bin_start": 7.2,
            "bin_end": 8,
            "count": 1
           }
          ]
         }
        },
        {
         "name": "n_imgs_after_treatment_end",
         "dtype": "int64",
         "stats": {
          "unique_count": 11,
          "nan_count": 0,
          "min": "0",
          "max": "14",
          "histogram": [
           {
            "bin_start": 0,
            "bin_end": 1.4,
            "count": 69
           },
           {
            "bin_start": 1.4,
            "bin_end": 2.8,
            "count": 13
           },
           {
            "bin_start": 2.8,
            "bin_end": 4.199999999999999,
            "count": 32
           },
           {
            "bin_start": 4.199999999999999,
            "bin_end": 5.6,
            "count": 6
           },
           {
            "bin_start": 5.6,
            "bin_end": 7,
            "count": 2
           },
           {
            "bin_start": 7,
            "bin_end": 8.399999999999999,
            "count": 2
           },
           {
            "bin_start": 8.399999999999999,
            "bin_end": 9.799999999999999,
            "count": 2
           },
           {
            "bin_start": 9.799999999999999,
            "bin_end": 11.2,
            "count": 2
           },
           {
            "bin_start": 11.2,
            "bin_end": 12.6,
            "count": 0
           },
           {
            "bin_start": 12.6,
            "bin_end": 14,
            "count": 1
           }
          ]
         }
        },
        {
         "name": "n_imgs_after_treatment_start",
         "dtype": "int64",
         "stats": {
          "unique_count": 12,
          "nan_count": 0,
          "min": "0",
          "max": "14",
          "histogram": [
           {
            "bin_start": 0,
            "bin_end": 1.4,
            "count": 46
           },
           {
            "bin_start": 1.4,
            "bin_end": 2.8,
            "count": 21
           },
           {
            "bin_start": 2.8,
            "bin_end": 4.199999999999999,
            "count": 33
           },
           {
            "bin_start": 4.199999999999999,
            "bin_end": 5.6,
            "count": 13
           },
           {
            "bin_start": 5.6,
            "bin_end": 7,
            "count": 5
           },
           {
            "bin_start": 7,
            "bin_end": 8.399999999999999,
            "count": 4
           },
           {
            "bin_start": 8.399999999999999,
            "bin_end": 9.799999999999999,
            "count": 3
           },
           {
            "bin_start": 9.799999999999999,
            "bin_end": 11.2,
            "count": 3
           },
           {
            "bin_start": 11.2,
            "bin_end": 12.6,
            "count": 0
           },
           {
            "bin_start": 12.6,
            "bin_end": 14,
            "count": 1
           }
          ]
         }
        },
        {
         "name": "_deepnote_index_column",
         "dtype": "int64"
        }
       ],
       "rows_top": [
        {
         "gpcr_id": 34610039,
         "age_at_treatment_start_in_years": 64,
         "duration_treatment_in_days": 63,
         "death_event_observed": "False",
         "survival_in_days": 768,
         "n_imgs_before_treatment": 1,
         "n_imgs_during_treatment": 0,
         "n_imgs_after_treatment_end": 1,
         "n_imgs_after_treatment_start": 1,
         "_deepnote_index_column": 0
        },
        {
         "gpcr_id": 34610116,
         "age_at_treatment_start_in_years": 80,
         "duration_treatment_in_days": 22,
         "death_event_observed": "False",
         "survival_in_days": 1312,
         "n_imgs_before_treatment": 2,
         "n_imgs_during_treatment": 0,
         "n_imgs_after_treatment_end": 4,
         "n_imgs_after_treatment_start": 4,
         "_deepnote_index_column": 1
        },
        {
         "gpcr_id": 34610117,
         "age_at_treatment_start_in_years": 55,
         "duration_treatment_in_days": 0,
         "death_event_observed": "False",
         "survival_in_days": 1145,
         "n_imgs_before_treatment": 0,
         "n_imgs_during_treatment": 0,
         "n_imgs_after_treatment_end": 4,
         "n_imgs_after_treatment_start": 4,
         "_deepnote_index_column": 2
        },
        {
         "gpcr_id": 34610118,
         "age_at_treatment_start_in_years": 68,
         "duration_treatment_in_days": 63,
         "death_event_observed": "True",
         "survival_in_days": 639,
         "n_imgs_before_treatment": 2,
         "n_imgs_during_treatment": 0,
         "n_imgs_after_treatment_end": 6,
         "n_imgs_after_treatment_start": 6,
         "_deepnote_index_column": 3
        },
        {
         "gpcr_id": 34610042,
         "age_at_treatment_start_in_years": 52,
         "duration_treatment_in_days": 60,
         "death_event_observed": "False",
         "survival_in_days": 707,
         "n_imgs_before_treatment": 0,
         "n_imgs_during_treatment": 0,
         "n_imgs_after_treatment_end": 7,
         "n_imgs_after_treatment_start": 7,
         "_deepnote_index_column": 4
        },
        {
         "gpcr_id": 34610099,
         "age_at_treatment_start_in_years": 36,
         "duration_treatment_in_days": 72,
         "death_event_observed": "True",
         "survival_in_days": 744,
         "n_imgs_before_treatment": 1,
         "n_imgs_during_treatment": 0,
         "n_imgs_after_treatment_end": 1,
         "n_imgs_after_treatment_start": 1,
         "_deepnote_index_column": 5
        },
        {
         "gpcr_id": 34610006,
         "age_at_treatment_start_in_years": 76,
         "duration_treatment_in_days": 734,
         "death_event_observed": "False",
         "survival_in_days": 980,
         "n_imgs_before_treatment": 1,
         "n_imgs_during_treatment": 7,
         "n_imgs_after_treatment_end": 1,
         "n_imgs_after_treatment_start": 8,
         "_deepnote_index_column": 6
        },
        {
         "gpcr_id": 34610007,
         "age_at_treatment_start_in_years": 82,
         "duration_treatment_in_days": 252,
         "death_event_observed": "True",
         "survival_in_days": 340,
         "n_imgs_before_treatment": 1,
         "n_imgs_during_treatment": 3,
         "n_imgs_after_treatment_end": 1,
         "n_imgs_after_treatment_start": 4,
         "_deepnote_index_column": 7
        },
        {
         "gpcr_id": 34610008,
         "age_at_treatment_start_in_years": 80,
         "duration_treatment_in_days": 316,
         "death_event_observed": "False",
         "survival_in_days": 1135,
         "n_imgs_before_treatment": 0,
         "n_imgs_during_treatment": 3,
         "n_imgs_after_treatment_end": 1,
         "n_imgs_after_treatment_start": 4,
         "_deepnote_index_column": 8
        },
        {
         "gpcr_id": 34610009,
         "age_at_treatment_start_in_years": 49,
         "duration_treatment_in_days": 89,
         "death_event_observed": "False",
         "survival_in_days": 505,
         "n_imgs_before_treatment": 1,
         "n_imgs_during_treatment": 1,
         "n_imgs_after_treatment_end": 0,
         "n_imgs_after_treatment_start": 1,
         "_deepnote_index_column": 9
        },
        {
         "gpcr_id": 34610100,
         "age_at_treatment_start_in_years": 65,
         "duration_treatment_in_days": 0,
         "death_event_observed": "False",
         "survival_in_days": 1745,
         "n_imgs_before_treatment": 1,
         "n_imgs_during_treatment": 0,
         "n_imgs_after_treatment_end": 4,
         "n_imgs_after_treatment_start": 4,
         "_deepnote_index_column": 10
        },
        {
         "gpcr_id": 34610010,
         "age_at_treatment_start_in_years": 81,
         "duration_treatment_in_days": 83,
         "death_event_observed": "False",
         "survival_in_days": 245,
         "n_imgs_before_treatment": 0,
         "n_imgs_during_treatment": 1,
         "n_imgs_after_treatment_end": 3,
         "n_imgs_after_treatment_start": 4,
         "_deepnote_index_column": 11
        },
        {
         "gpcr_id": 34610011,
         "age_at_treatment_start_in_years": 82,
         "duration_treatment_in_days": 63,
         "death_event_observed": "False",
         "survival_in_days": 2098,
         "n_imgs_before_treatment": 0,
         "n_imgs_during_treatment": 0,
         "n_imgs_after_treatment_end": 14,
         "n_imgs_after_treatment_start": 14,
         "_deepnote_index_column": 12
        },
        {
         "gpcr_id": 34610012,
         "age_at_treatment_start_in_years": 57,
         "duration_treatment_in_days": 84,
         "death_event_observed": "False",
         "survival_in_days": 1116,
         "n_imgs_before_treatment": 2,
         "n_imgs_during_treatment": 0,
         "n_imgs_after_treatment_end": 1,
         "n_imgs_after_treatment_start": 1,
         "_deepnote_index_column": 13
        },
        {
         "gpcr_id": 34610043,
         "age_at_treatment_start_in_years": 67,
         "duration_treatment_in_days": 0,
         "death_event_observed": "True",
         "survival_in_days": 22,
         "n_imgs_before_treatment": 1,
         "n_imgs_during_treatment": 0,
         "n_imgs_after_treatment_end": 0,
         "n_imgs_after_treatment_start": 0,
         "_deepnote_index_column": 14
        },
        {
         "gpcr_id": 34610044,
         "age_at_treatment_start_in_years": 54,
         "duration_treatment_in_days": 77,
         "death_event_observed": "True",
         "survival_in_days": 953,
         "n_imgs_before_treatment": 0,
         "n_imgs_during_treatment": 0,
         "n_imgs_after_treatment_end": 6,
         "n_imgs_after_treatment_start": 6,
         "_deepnote_index_column": 15
        },
        {
         "gpcr_id": 34610045,
         "age_at_treatment_start_in_years": 45,
         "duration_treatment_in_days": 77,
         "death_event_observed": "False",
         "survival_in_days": 634,
         "n_imgs_before_treatment": 2,
         "n_imgs_during_treatment": 0,
         "n_imgs_after_treatment_end": 5,
         "n_imgs_after_treatment_start": 5,
         "_deepnote_index_column": 16
        },
        {
         "gpcr_id": 34610119,
         "age_at_treatment_start_in_years": 73,
         "duration_treatment_in_days": 55,
         "death_event_observed": "True",
         "survival_in_days": 2101,
         "n_imgs_before_treatment": 1,
         "n_imgs_during_treatment": 0,
         "n_imgs_after_treatment_end": 5,
         "n_imgs_after_treatment_start": 5,
         "_deepnote_index_column": 17
        },
        {
         "gpcr_id": 34610046,
         "age_at_treatment_start_in_years": 61,
         "duration_treatment_in_days": 49,
         "death_event_observed": "False",
         "survival_in_days": 476,
         "n_imgs_before_treatment": 1,
         "n_imgs_during_treatment": 0,
         "n_imgs_after_treatment_end": 2,
         "n_imgs_after_treatment_start": 2,
         "_deepnote_index_column": 18
        },
        {
         "gpcr_id": 34610047,
         "age_at_treatment_start_in_years": 33,
         "duration_treatment_in_days": 61,
         "death_event_observed": "True",
         "survival_in_days": 367,
         "n_imgs_before_treatment": 0,
         "n_imgs_during_treatment": 0,
         "n_imgs_after_treatment_end": 1,
         "n_imgs_after_treatment_start": 1,
         "_deepnote_index_column": 19
        },
        {
         "gpcr_id": 34610013,
         "age_at_treatment_start_in_years": 66,
         "duration_treatment_in_days": 756,
         "death_event_observed": "False",
         "survival_in_days": 1160,
         "n_imgs_before_treatment": 0,
         "n_imgs_during_treatment": 4,
         "n_imgs_after_treatment_end": 1,
         "n_imgs_after_treatment_start": 5,
         "_deepnote_index_column": 20
        },
        {
         "gpcr_id": 34610120,
         "age_at_treatment_start_in_years": 76,
         "duration_treatment_in_days": 210,
         "death_event_observed": "False",
         "survival_in_days": 1549,
         "n_imgs_before_treatment": 1,
         "n_imgs_during_treatment": 0,
         "n_imgs_after_treatment_end": 0,
         "n_imgs_after_treatment_start": 0,
         "_deepnote_index_column": 21
        },
        {
         "gpcr_id": 34610101,
         "age_at_treatment_start_in_years": 68,
         "duration_treatment_in_days": 231,
         "death_event_observed": "True",
         "survival_in_days": 1338,
         "n_imgs_before_treatment": 0,
         "n_imgs_during_treatment": 2,
         "n_imgs_after_treatment_end": 1,
         "n_imgs_after_treatment_start": 3,
         "_deepnote_index_column": 22
        },
        {
         "gpcr_id": 34610048,
         "age_at_treatment_start_in_years": 76,
         "duration_treatment_in_days": 0,
         "death_event_observed": "False",
         "survival_in_days": 438,
         "n_imgs_before_treatment": 2,
         "n_imgs_during_treatment": 0,
         "n_imgs_after_treatment_end": 0,
         "n_imgs_after_treatment_start": 0,
         "_deepnote_index_column": 23
        },
        {
         "gpcr_id": 34610049,
         "age_at_treatment_start_in_years": 76,
         "duration_treatment_in_days": 63,
         "death_event_observed": "False",
         "survival_in_days": 1021,
         "n_imgs_before_treatment": 0,
         "n_imgs_during_treatment": 0,
         "n_imgs_after_treatment_end": 1,
         "n_imgs_after_treatment_start": 1,
         "_deepnote_index_column": 24
        },
        {
         "gpcr_id": 34610102,
         "age_at_treatment_start_in_years": 60,
         "duration_treatment_in_days": 42,
         "death_event_observed": "True",
         "survival_in_days": 455,
         "n_imgs_before_treatment": 1,
         "n_imgs_during_treatment": 1,
         "n_imgs_after_treatment_end": 0,
         "n_imgs_after_treatment_start": 1,
         "_deepnote_index_column": 25
        },
        {
         "gpcr_id": 34610051,
         "age_at_treatment_start_in_years": 79,
         "duration_treatment_in_days": 21,
         "death_event_observed": "True",
         "survival_in_days": 437,
         "n_imgs_before_treatment": 0,
         "n_imgs_during_treatment": 0,
         "n_imgs_after_treatment_end": 1,
         "n_imgs_after_treatment_start": 1,
         "_deepnote_index_column": 26
        },
        {
         "gpcr_id": 34610052,
         "age_at_treatment_start_in_years": 82,
         "duration_treatment_in_days": 93,
         "death_event_observed": "True",
         "survival_in_days": 1072,
         "n_imgs_before_treatment": 1,
         "n_imgs_during_treatment": 1,
         "n_imgs_after_treatment_end": 0,
         "n_imgs_after_treatment_start": 1,
         "_deepnote_index_column": 27
        },
        {
         "gpcr_id": 34610121,
         "age_at_treatment_start_in_years": 70,
         "duration_treatment_in_days": 104,
         "death_event_observed": "True",
         "survival_in_days": 154,
         "n_imgs_before_treatment": 1,
         "n_imgs_during_treatment": 1,
         "n_imgs_after_treatment_end": 1,
         "n_imgs_after_treatment_start": 2,
         "_deepnote_index_column": 28
        },
        {
         "gpcr_id": 34610122,
         "age_at_treatment_start_in_years": 47,
         "duration_treatment_in_days": 0,
         "death_event_observed": "True",
         "survival_in_days": 419,
         "n_imgs_before_treatment": 1,
         "n_imgs_during_treatment": 0,
         "n_imgs_after_treatment_end": 1,
         "n_imgs_after_treatment_start": 1,
         "_deepnote_index_column": 29
        },
        {
         "gpcr_id": 34610123,
         "age_at_treatment_start_in_years": 76,
         "duration_treatment_in_days": 126,
         "death_event_observed": "True",
         "survival_in_days": 1359,
         "n_imgs_before_treatment": 1,
         "n_imgs_during_treatment": 1,
         "n_imgs_after_treatment_end": 1,
         "n_imgs_after_treatment_start": 2,
         "_deepnote_index_column": 30
        },
        {
         "gpcr_id": 34610054,
         "age_at_treatment_start_in_years": 64,
         "duration_treatment_in_days": 63,
         "death_event_observed": "True",
         "survival_in_days": 457,
         "n_imgs_before_treatment": 1,
         "n_imgs_during_treatment": 0,
         "n_imgs_after_treatment_end": 1,
         "n_imgs_after_treatment_start": 1,
         "_deepnote_index_column": 31
        },
        {
         "gpcr_id": 34610124,
         "age_at_treatment_start_in_years": 63,
         "duration_treatment_in_days": 84,
         "death_event_observed": "True",
         "survival_in_days": 961,
         "n_imgs_before_treatment": 0,
         "n_imgs_during_treatment": 0,
         "n_imgs_after_treatment_end": 3,
         "n_imgs_after_treatment_start": 3,
         "_deepnote_index_column": 32
        },
        {
         "gpcr_id": 34610125,
         "age_at_treatment_start_in_years": 69,
         "duration_treatment_in_days": 63,
         "death_event_observed": "False",
         "survival_in_days": 1926,
         "n_imgs_before_treatment": 0,
         "n_imgs_during_treatment": 1,
         "n_imgs_after_treatment_end": 4,
         "n_imgs_after_treatment_start": 5,
         "_deepnote_index_column": 33
        },
        {
         "gpcr_id": 34610056,
         "age_at_treatment_start_in_years": 42,
         "duration_treatment_in_days": 192,
         "death_event_observed": "False",
         "survival_in_days": 971,
         "n_imgs_before_treatment": 0,
         "n_imgs_during_treatment": 0,
         "n_imgs_after_treatment_end": 4,
         "n_imgs_after_treatment_start": 4,
         "_deepnote_index_column": 34
        },
        {
         "gpcr_id": 34610057,
         "age_at_treatment_start_in_years": 90,
         "duration_treatment_in_days": 42,
         "death_event_observed": "True",
         "survival_in_days": 213,
         "n_imgs_before_treatment": 1,
         "n_imgs_during_treatment": 0,
         "n_imgs_after_treatment_end": 0,
         "n_imgs_after_treatment_start": 0,
         "_deepnote_index_column": 35
        },
        {
         "gpcr_id": 34610126,
         "age_at_treatment_start_in_years": 76,
         "duration_treatment_in_days": 63,
         "death_event_observed": "True",
         "survival_in_days": 714,
         "n_imgs_before_treatment": 2,
         "n_imgs_during_treatment": 1,
         "n_imgs_after_treatment_end": 1,
         "n_imgs_after_treatment_start": 2,
         "_deepnote_index_column": 36
        },
        {
         "gpcr_id": 34610127,
         "age_at_treatment_start_in_years": 74,
         "duration_treatment_in_days": 364,
         "death_event_observed": "False",
         "survival_in_days": 925,
         "n_imgs_before_treatment": 1,
         "n_imgs_during_treatment": 0,
         "n_imgs_after_treatment_end": 0,
         "n_imgs_after_treatment_start": 0,
         "_deepnote_index_column": 37
        },
        {
         "gpcr_id": 34610059,
         "age_at_treatment_start_in_years": 49,
         "duration_treatment_in_days": 20,
         "death_event_observed": "False",
         "survival_in_days": 1112,
         "n_imgs_before_treatment": 0,
         "n_imgs_during_treatment": 0,
         "n_imgs_after_treatment_end": 10,
         "n_imgs_after_treatment_start": 10,
         "_deepnote_index_column": 38
        },
        {
         "gpcr_id": 34610060,
         "age_at_treatment_start_in_years": 73,
         "duration_treatment_in_days": 555,
         "death_event_observed": "False",
         "survival_in_days": 587,
         "n_imgs_before_treatment": 1,
         "n_imgs_during_treatment": 6,
         "n_imgs_after_treatment_end": 4,
         "n_imgs_after_treatment_start": 10,
         "_deepnote_index_column": 39
        },
        {
         "gpcr_id": 34610128,
         "age_at_treatment_start_in_years": 30,
         "duration_treatment_in_days": 49,
         "death_event_observed": "False",
         "survival_in_days": 1189,
         "n_imgs_before_treatment": 0,
         "n_imgs_during_treatment": 1,
         "n_imgs_after_treatment_end": 1,
         "n_imgs_after_treatment_start": 2,
         "_deepnote_index_column": 40
        },
        {
         "gpcr_id": 34610062,
         "age_at_treatment_start_in_years": 65,
         "duration_treatment_in_days": 84,
         "death_event_observed": "False",
         "survival_in_days": 1703,
         "n_imgs_before_treatment": 0,
         "n_imgs_during_treatment": 1,
         "n_imgs_after_treatment_end": 1,
         "n_imgs_after_treatment_start": 2,
         "_deepnote_index_column": 41
        },
        {
         "gpcr_id": 34610131,
         "age_at_treatment_start_in_years": 73,
         "duration_treatment_in_days": 21,
         "death_event_observed": "True",
         "survival_in_days": 594,
         "n_imgs_before_treatment": 1,
         "n_imgs_during_treatment": 0,
         "n_imgs_after_treatment_end": 3,
         "n_imgs_after_treatment_start": 3,
         "_deepnote_index_column": 42
        },
        {
         "gpcr_id": 34610132,
         "age_at_treatment_start_in_years": 52,
         "duration_treatment_in_days": 63,
         "death_event_observed": "True",
         "survival_in_days": 498,
         "n_imgs_before_treatment": 1,
         "n_imgs_during_treatment": 0,
         "n_imgs_after_treatment_end": 0,
         "n_imgs_after_treatment_start": 0,
         "_deepnote_index_column": 43
        },
        {
         "gpcr_id": 34610133,
         "age_at_treatment_start_in_years": 76,
         "duration_treatment_in_days": 92,
         "death_event_observed": "True",
         "survival_in_days": 115,
         "n_imgs_before_treatment": 1,
         "n_imgs_during_treatment": 1,
         "n_imgs_after_treatment_end": 0,
         "n_imgs_after_treatment_start": 1,
         "_deepnote_index_column": 44
        },
        {
         "gpcr_id": 34610134,
         "age_at_treatment_start_in_years": 76,
         "duration_treatment_in_days": 98,
         "death_event_observed": "False",
         "survival_in_days": 2419,
         "n_imgs_before_treatment": 1,
         "n_imgs_during_treatment": 1,
         "n_imgs_after_treatment_end": 1,
         "n_imgs_after_treatment_start": 2,
         "_deepnote_index_column": 45
        },
        {
         "gpcr_id": 34610063,
         "age_at_treatment_start_in_years": 54,
         "duration_treatment_in_days": 62,
         "death_event_observed": "True",
         "survival_in_days": 1492,
         "n_imgs_before_treatment": 0,
         "n_imgs_during_treatment": 1,
         "n_imgs_after_treatment_end": 1,
         "n_imgs_after_treatment_start": 2,
         "_deepnote_index_column": 46
        },
        {
         "gpcr_id": 34610135,
         "age_at_treatment_start_in_years": 75,
         "duration_treatment_in_days": 0,
         "death_event_observed": "True",
         "survival_in_days": 26,
         "n_imgs_before_treatment": 1,
         "n_imgs_during_treatment": 0,
         "n_imgs_after_treatment_end": 0,
         "n_imgs_after_treatment_start": 0,
         "_deepnote_index_column": 47
        },
        {
         "gpcr_id": 34610064,
         "age_at_treatment_start_in_years": 66,
         "duration_treatment_in_days": 91,
         "death_event_observed": "True",
         "survival_in_days": 1428,
         "n_imgs_before_treatment": 1,
         "n_imgs_during_treatment": 1,
         "n_imgs_after_treatment_end": 7,
         "n_imgs_after_treatment_start": 8,
         "_deepnote_index_column": 48
        },
        {
         "gpcr_id": 34610136,
         "age_at_treatment_start_in_years": 66,
         "duration_treatment_in_days": 42,
         "death_event_observed": "True",
         "survival_in_days": 90,
         "n_imgs_before_treatment": 1,
         "n_imgs_during_treatment": 1,
         "n_imgs_after_treatment_end": 0,
         "n_imgs_after_treatment_start": 1,
         "_deepnote_index_column": 49
        },
        {
         "gpcr_id": 34610065,
         "age_at_treatment_start_in_years": 52,
         "duration_treatment_in_days": 357,
         "death_event_observed": "False",
         "survival_in_days": 858,
         "n_imgs_before_treatment": 0,
         "n_imgs_during_treatment": 3,
         "n_imgs_after_treatment_end": 3,
         "n_imgs_after_treatment_start": 6,
         "_deepnote_index_column": 50
        },
        {
         "gpcr_id": 34610137,
         "age_at_treatment_start_in_years": 88,
         "duration_treatment_in_days": 21,
         "death_event_observed": "True",
         "survival_in_days": 208,
         "n_imgs_before_treatment": 0,
         "n_imgs_during_treatment": 0,
         "n_imgs_after_treatment_end": 3,
         "n_imgs_after_treatment_start": 3,
         "_deepnote_index_column": 51
        },
        {
         "gpcr_id": 34610067,
         "age_at_treatment_start_in_years": 34,
         "duration_treatment_in_days": 63,
         "death_event_observed": "True",
         "survival_in_days": 559,
         "n_imgs_before_treatment": 0,
         "n_imgs_during_treatment": 0,
         "n_imgs_after_treatment_end": 3,
         "n_imgs_after_treatment_start": 3,
         "_deepnote_index_column": 52
        },
        {
         "gpcr_id": 34610138,
         "age_at_treatment_start_in_years": 80,
         "duration_treatment_in_days": 21,
         "death_event_observed": "True",
         "survival_in_days": 65,
         "n_imgs_before_treatment": 2,
         "n_imgs_during_treatment": 0,
         "n_imgs_after_treatment_end": 0,
         "n_imgs_after_treatment_start": 0,
         "_deepnote_index_column": 53
        },
        {
         "gpcr_id": 34610068,
         "age_at_treatment_start_in_years": 60,
         "duration_treatment_in_days": 70,
         "death_event_observed": "False",
         "survival_in_days": 1993,
         "n_imgs_before_treatment": 1,
         "n_imgs_during_treatment": 0,
         "n_imgs_after_treatment_end": 4,
         "n_imgs_after_treatment_start": 4,
         "_deepnote_index_column": 54
        }
       ],
       "rows_bottom": [
        {
         "gpcr_id": 34610076,
         "age_at_treatment_start_in_years": 55,
         "duration_treatment_in_days": 63,
         "death_event_observed": "False",
         "survival_in_days": 1014,
         "n_imgs_before_treatment": 2,
         "n_imgs_during_treatment": 0,
         "n_imgs_after_treatment_end": 4,
         "n_imgs_after_treatment_start": 4,
         "_deepnote_index_column": 73
        },
        {
         "gpcr_id": 34610077,
         "age_at_treatment_start_in_years": 43,
         "duration_treatment_in_days": 77,
         "death_event_observed": "True",
         "survival_in_days": 617,
         "n_imgs_before_treatment": 0,
         "n_imgs_during_treatment": 0,
         "n_imgs_after_treatment_end": 1,
         "n_imgs_after_treatment_start": 1,
         "_deepnote_index_column": 74
        },
        {
         "gpcr_id": 34610078,
         "age_at_treatment_start_in_years": 58,
         "duration_treatment_in_days": 42,
         "death_event_observed": "False",
         "survival_in_days": 74,
         "n_imgs_before_treatment": 1,
         "n_imgs_during_treatment": 0,
         "n_imgs_after_treatment_end": 3,
         "n_imgs_after_treatment_start": 3,
         "_deepnote_index_column": 75
        },
        {
         "gpcr_id": 34610079,
         "age_at_treatment_start_in_years": 71,
         "duration_treatment_in_days": 105,
         "death_event_observed": "False",
         "survival_in_days": 929,
         "n_imgs_before_treatment": 1,
         "n_imgs_during_treatment": 1,
         "n_imgs_after_treatment_end": 1,
         "n_imgs_after_treatment_start": 2,
         "_deepnote_index_column": 76
        },
        {
         "gpcr_id": 34610080,
         "age_at_treatment_start_in_years": 77,
         "duration_treatment_in_days": 59,
         "death_event_observed": "False",
         "survival_in_days": 605,
         "n_imgs_before_treatment": 1,
         "n_imgs_during_treatment": 0,
         "n_imgs_after_treatment_end": 5,
         "n_imgs_after_treatment_start": 5,
         "_deepnote_index_column": 77
        },
        {
         "gpcr_id": 34610081,
         "age_at_treatment_start_in_years": 77,
         "duration_treatment_in_days": 69,
         "death_event_observed": "False",
         "survival_in_days": 416,
         "n_imgs_before_treatment": 0,
         "n_imgs_during_treatment": 0,
         "n_imgs_after_treatment_end": 3,
         "n_imgs_after_treatment_start": 3,
         "_deepnote_index_column": 78
        },
        {
         "gpcr_id": 34610082,
         "age_at_treatment_start_in_years": 72,
         "duration_treatment_in_days": 0,
         "death_event_observed": "True",
         "survival_in_days": 378,
         "n_imgs_before_treatment": 1,
         "n_imgs_during_treatment": 0,
         "n_imgs_after_treatment_end": 1,
         "n_imgs_after_treatment_start": 1,
         "_deepnote_index_column": 79
        },
        {
         "gpcr_id": 34610084,
         "age_at_treatment_start_in_years": 70,
         "duration_treatment_in_days": 62,
         "death_event_observed": "True",
         "survival_in_days": 100,
         "n_imgs_before_treatment": 1,
         "n_imgs_during_treatment": 0,
         "n_imgs_after_treatment_end": 1,
         "n_imgs_after_treatment_start": 1,
         "_deepnote_index_column": 80
        },
        {
         "gpcr_id": 34610085,
         "age_at_treatment_start_in_years": 58,
         "duration_treatment_in_days": 21,
         "death_event_observed": "False",
         "survival_in_days": 824,
         "n_imgs_before_treatment": 0,
         "n_imgs_during_treatment": 0,
         "n_imgs_after_treatment_end": 2,
         "n_imgs_after_treatment_start": 2,
         "_deepnote_index_column": 81
        },
        {
         "gpcr_id": 34610086,
         "age_at_treatment_start_in_years": 41,
         "duration_treatment_in_days": 62,
         "death_event_observed": "False",
         "survival_in_days": 700,
         "n_imgs_before_treatment": 2,
         "n_imgs_during_treatment": 0,
         "n_imgs_after_treatment_end": 4,
         "n_imgs_after_treatment_start": 4,
         "_deepnote_index_column": 82
        },
        {
         "gpcr_id": 34610087,
         "age_at_treatment_start_in_years": 68,
         "duration_treatment_in_days": 532,
         "death_event_observed": "False",
         "survival_in_days": 351,
         "n_imgs_before_treatment": 2,
         "n_imgs_during_treatment": 5,
         "n_imgs_after_treatment_end": 0,
         "n_imgs_after_treatment_start": 5,
         "_deepnote_index_column": 83
        },
        {
         "gpcr_id": 34610088,
         "age_at_treatment_start_in_years": 83,
         "duration_treatment_in_days": 63,
         "death_event_observed": "True",
         "survival_in_days": 252,
         "n_imgs_before_treatment": 1,
         "n_imgs_during_treatment": 0,
         "n_imgs_after_treatment_end": 1,
         "n_imgs_after_treatment_start": 1,
         "_deepnote_index_column": 84
        },
        {
         "gpcr_id": 34610089,
         "age_at_treatment_start_in_years": 54,
         "duration_treatment_in_days": 0,
         "death_event_observed": "False",
         "survival_in_days": 469,
         "n_imgs_before_treatment": 1,
         "n_imgs_during_treatment": 0,
         "n_imgs_after_treatment_end": 5,
         "n_imgs_after_treatment_start": 5,
         "_deepnote_index_column": 85
        },
        {
         "gpcr_id": 34610091,
         "age_at_treatment_start_in_years": 73,
         "duration_treatment_in_days": 20,
         "death_event_observed": "True",
         "survival_in_days": 63,
         "n_imgs_before_treatment": 1,
         "n_imgs_during_treatment": 0,
         "n_imgs_after_treatment_end": 0,
         "n_imgs_after_treatment_start": 0,
         "_deepnote_index_column": 86
        },
        {
         "gpcr_id": 34610093,
         "age_at_treatment_start_in_years": 87,
         "duration_treatment_in_days": 105,
         "death_event_observed": "False",
         "survival_in_days": 479,
         "n_imgs_before_treatment": 1,
         "n_imgs_during_treatment": 1,
         "n_imgs_after_treatment_end": 1,
         "n_imgs_after_treatment_start": 2,
         "_deepnote_index_column": 87
        },
        {
         "gpcr_id": 34610094,
         "age_at_treatment_start_in_years": 80,
         "duration_treatment_in_days": 489,
         "death_event_observed": "False",
         "survival_in_days": 655,
         "n_imgs_before_treatment": 1,
         "n_imgs_during_treatment": 4,
         "n_imgs_after_treatment_end": 0,
         "n_imgs_after_treatment_start": 4,
         "_deepnote_index_column": 88
        },
        {
         "gpcr_id": 34610104,
         "age_at_treatment_start_in_years": 84,
         "duration_treatment_in_days": 63,
         "death_event_observed": "True",
         "survival_in_days": 242,
         "n_imgs_before_treatment": 1,
         "n_imgs_during_treatment": 0,
         "n_imgs_after_treatment_end": 1,
         "n_imgs_after_treatment_start": 1,
         "_deepnote_index_column": 89
        },
        {
         "gpcr_id": 34610095,
         "age_at_treatment_start_in_years": 61,
         "duration_treatment_in_days": 84,
         "death_event_observed": "False",
         "survival_in_days": 487,
         "n_imgs_before_treatment": 1,
         "n_imgs_during_treatment": 0,
         "n_imgs_after_treatment_end": 3,
         "n_imgs_after_treatment_start": 3,
         "_deepnote_index_column": 90
        },
        {
         "gpcr_id": 34610014,
         "age_at_treatment_start_in_years": 77,
         "duration_treatment_in_days": 126,
         "death_event_observed": "False",
         "survival_in_days": 526,
         "n_imgs_before_treatment": 1,
         "n_imgs_during_treatment": 1,
         "n_imgs_after_treatment_end": 1,
         "n_imgs_after_treatment_start": 2,
         "_deepnote_index_column": 91
        },
        {
         "gpcr_id": 34610105,
         "age_at_treatment_start_in_years": 62,
         "duration_treatment_in_days": 63,
         "death_event_observed": "False",
         "survival_in_days": 1577,
         "n_imgs_before_treatment": 1,
         "n_imgs_during_treatment": 0,
         "n_imgs_after_treatment_end": 4,
         "n_imgs_after_treatment_start": 4,
         "_deepnote_index_column": 92
        },
        {
         "gpcr_id": 34610001,
         "age_at_treatment_start_in_years": 68,
         "duration_treatment_in_days": 63,
         "death_event_observed": "False",
         "survival_in_days": 1814,
         "n_imgs_before_treatment": 2,
         "n_imgs_during_treatment": 0,
         "n_imgs_after_treatment_end": 5,
         "n_imgs_after_treatment_start": 5,
         "_deepnote_index_column": 93
        },
        {
         "gpcr_id": 34610096,
         "age_at_treatment_start_in_years": 68,
         "duration_treatment_in_days": 63,
         "death_event_observed": "False",
         "survival_in_days": 1791,
         "n_imgs_before_treatment": 1,
         "n_imgs_during_treatment": 1,
         "n_imgs_after_treatment_end": 4,
         "n_imgs_after_treatment_start": 5,
         "_deepnote_index_column": 94
        },
        {
         "gpcr_id": 34610015,
         "age_at_treatment_start_in_years": 90,
         "duration_treatment_in_days": 0,
         "death_event_observed": "False",
         "survival_in_days": 973,
         "n_imgs_before_treatment": 1,
         "n_imgs_during_treatment": 0,
         "n_imgs_after_treatment_end": 2,
         "n_imgs_after_treatment_start": 2,
         "_deepnote_index_column": 95
        },
        {
         "gpcr_id": 34610002,
         "age_at_treatment_start_in_years": 43,
         "duration_treatment_in_days": 49,
         "death_event_observed": "True",
         "survival_in_days": 337,
         "n_imgs_before_treatment": 1,
         "n_imgs_during_treatment": 0,
         "n_imgs_after_treatment_end": 1,
         "n_imgs_after_treatment_start": 1,
         "_deepnote_index_column": 96
        },
        {
         "gpcr_id": 34610016,
         "age_at_treatment_start_in_years": 41,
         "duration_treatment_in_days": 63,
         "death_event_observed": "True",
         "survival_in_days": 498,
         "n_imgs_before_treatment": 1,
         "n_imgs_during_treatment": 0,
         "n_imgs_after_treatment_end": 0,
         "n_imgs_after_treatment_start": 0,
         "_deepnote_index_column": 97
        },
        {
         "gpcr_id": 34610017,
         "age_at_treatment_start_in_years": 73,
         "duration_treatment_in_days": 0,
         "death_event_observed": "False",
         "survival_in_days": 455,
         "n_imgs_before_treatment": 0,
         "n_imgs_during_treatment": 0,
         "n_imgs_after_treatment_end": 2,
         "n_imgs_after_treatment_start": 2,
         "_deepnote_index_column": 98
        },
        {
         "gpcr_id": 34610018,
         "age_at_treatment_start_in_years": 56,
         "duration_treatment_in_days": 63,
         "death_event_observed": "False",
         "survival_in_days": 1212,
         "n_imgs_before_treatment": 1,
         "n_imgs_during_treatment": 0,
         "n_imgs_after_treatment_end": 2,
         "n_imgs_after_treatment_start": 2,
         "_deepnote_index_column": 99
        },
        {
         "gpcr_id": 34610019,
         "age_at_treatment_start_in_years": 74,
         "duration_treatment_in_days": 63,
         "death_event_observed": "True",
         "survival_in_days": 97,
         "n_imgs_before_treatment": 0,
         "n_imgs_during_treatment": 0,
         "n_imgs_after_treatment_end": 1,
         "n_imgs_after_treatment_start": 1,
         "_deepnote_index_column": 100
        },
        {
         "gpcr_id": 34610020,
         "age_at_treatment_start_in_years": 74,
         "duration_treatment_in_days": 70,
         "death_event_observed": "True",
         "survival_in_days": 248,
         "n_imgs_before_treatment": 1,
         "n_imgs_during_treatment": 0,
         "n_imgs_after_treatment_end": 2,
         "n_imgs_after_treatment_start": 2,
         "_deepnote_index_column": 101
        },
        {
         "gpcr_id": 34610021,
         "age_at_treatment_start_in_years": 84,
         "duration_treatment_in_days": 737,
         "death_event_observed": "True",
         "survival_in_days": 1057,
         "n_imgs_before_treatment": 0,
         "n_imgs_during_treatment": 6,
         "n_imgs_after_treatment_end": 0,
         "n_imgs_after_treatment_start": 6,
         "_deepnote_index_column": 102
        },
        {
         "gpcr_id": 34610109,
         "age_at_treatment_start_in_years": 59,
         "duration_treatment_in_days": 42,
         "death_event_observed": "True",
         "survival_in_days": 354,
         "n_imgs_before_treatment": 0,
         "n_imgs_during_treatment": 1,
         "n_imgs_after_treatment_end": 0,
         "n_imgs_after_treatment_start": 1,
         "_deepnote_index_column": 103
        },
        {
         "gpcr_id": 34610022,
         "age_at_treatment_start_in_years": 56,
         "duration_treatment_in_days": 196,
         "death_event_observed": "True",
         "survival_in_days": 894,
         "n_imgs_before_treatment": 0,
         "n_imgs_during_treatment": 1,
         "n_imgs_after_treatment_end": 2,
         "n_imgs_after_treatment_start": 3,
         "_deepnote_index_column": 104
        },
        {
         "gpcr_id": 34610023,
         "age_at_treatment_start_in_years": 65,
         "duration_treatment_in_days": 727,
         "death_event_observed": "False",
         "survival_in_days": 1024,
         "n_imgs_before_treatment": 1,
         "n_imgs_during_treatment": 1,
         "n_imgs_after_treatment_end": 0,
         "n_imgs_after_treatment_start": 1,
         "_deepnote_index_column": 105
        },
        {
         "gpcr_id": 34610024,
         "age_at_treatment_start_in_years": 68,
         "duration_treatment_in_days": 61,
         "death_event_observed": "True",
         "survival_in_days": 114,
         "n_imgs_before_treatment": 1,
         "n_imgs_during_treatment": 0,
         "n_imgs_after_treatment_end": 1,
         "n_imgs_after_treatment_start": 1,
         "_deepnote_index_column": 106
        },
        {
         "gpcr_id": 34610097,
         "age_at_treatment_start_in_years": 75,
         "duration_treatment_in_days": 78,
         "death_event_observed": "True",
         "survival_in_days": 1029,
         "n_imgs_before_treatment": 0,
         "n_imgs_during_treatment": 0,
         "n_imgs_after_treatment_end": 1,
         "n_imgs_after_treatment_start": 1,
         "_deepnote_index_column": 107
        },
        {
         "gpcr_id": 34610025,
         "age_at_treatment_start_in_years": 77,
         "duration_treatment_in_days": 70,
         "death_event_observed": "True",
         "survival_in_days": 645,
         "n_imgs_before_treatment": 1,
         "n_imgs_during_treatment": 0,
         "n_imgs_after_treatment_end": 1,
         "n_imgs_after_treatment_start": 1,
         "_deepnote_index_column": 108
        },
        {
         "gpcr_id": 34610111,
         "age_at_treatment_start_in_years": 80,
         "duration_treatment_in_days": 21,
         "death_event_observed": "False",
         "survival_in_days": 2444,
         "n_imgs_before_treatment": 1,
         "n_imgs_during_treatment": 1,
         "n_imgs_after_treatment_end": 2,
         "n_imgs_after_treatment_start": 3,
         "_deepnote_index_column": 109
        },
        {
         "gpcr_id": 34610026,
         "age_at_treatment_start_in_years": 77,
         "duration_treatment_in_days": 70,
         "death_event_observed": "False",
         "survival_in_days": 1414,
         "n_imgs_before_treatment": 0,
         "n_imgs_during_treatment": 0,
         "n_imgs_after_treatment_end": 9,
         "n_imgs_after_treatment_start": 9,
         "_deepnote_index_column": 110
        },
        {
         "gpcr_id": 34610027,
         "age_at_treatment_start_in_years": 75,
         "duration_treatment_in_days": 63,
         "death_event_observed": "False",
         "survival_in_days": 944,
         "n_imgs_before_treatment": 0,
         "n_imgs_during_treatment": 0,
         "n_imgs_after_treatment_end": 9,
         "n_imgs_after_treatment_start": 9,
         "_deepnote_index_column": 111
        },
        {
         "gpcr_id": 34610029,
         "age_at_treatment_start_in_years": 72,
         "duration_treatment_in_days": 20,
         "death_event_observed": "True",
         "survival_in_days": 370,
         "n_imgs_before_treatment": 2,
         "n_imgs_during_treatment": 0,
         "n_imgs_after_treatment_end": 3,
         "n_imgs_after_treatment_start": 3,
         "_deepnote_index_column": 112
        },
        {
         "gpcr_id": 34610112,
         "age_at_treatment_start_in_years": 77,
         "duration_treatment_in_days": 0,
         "death_event_observed": "True",
         "survival_in_days": 1355,
         "n_imgs_before_treatment": 1,
         "n_imgs_during_treatment": 0,
         "n_imgs_after_treatment_end": 4,
         "n_imgs_after_treatment_start": 4,
         "_deepnote_index_column": 113
        },
        {
         "gpcr_id": 34610030,
         "age_at_treatment_start_in_years": 58,
         "duration_treatment_in_days": 63,
         "death_event_observed": "False",
         "survival_in_days": 1910,
         "n_imgs_before_treatment": 1,
         "n_imgs_during_treatment": 1,
         "n_imgs_after_treatment_end": 4,
         "n_imgs_after_treatment_start": 5,
         "_deepnote_index_column": 114
        },
        {
         "gpcr_id": 34610031,
         "age_at_treatment_start_in_years": 79,
         "duration_treatment_in_days": 602,
         "death_event_observed": "True",
         "survival_in_days": 1142,
         "n_imgs_before_treatment": 1,
         "n_imgs_during_treatment": 8,
         "n_imgs_after_treatment_end": 1,
         "n_imgs_after_treatment_start": 9,
         "_deepnote_index_column": 115
        },
        {
         "gpcr_id": 34610032,
         "age_at_treatment_start_in_years": 63,
         "duration_treatment_in_days": 42,
         "death_event_observed": "False",
         "survival_in_days": 1198,
         "n_imgs_before_treatment": 0,
         "n_imgs_during_treatment": 0,
         "n_imgs_after_treatment_end": 1,
         "n_imgs_after_treatment_start": 1,
         "_deepnote_index_column": 116
        },
        {
         "gpcr_id": 34610033,
         "age_at_treatment_start_in_years": 54,
         "duration_treatment_in_days": 42,
         "death_event_observed": "False",
         "survival_in_days": 972,
         "n_imgs_before_treatment": 0,
         "n_imgs_during_treatment": 0,
         "n_imgs_after_treatment_end": 2,
         "n_imgs_after_treatment_start": 2,
         "_deepnote_index_column": 117
        },
        {
         "gpcr_id": 34610098,
         "age_at_treatment_start_in_years": 77,
         "duration_treatment_in_days": 231,
         "death_event_observed": "True",
         "survival_in_days": 483,
         "n_imgs_before_treatment": 0,
         "n_imgs_during_treatment": 1,
         "n_imgs_after_treatment_end": 0,
         "n_imgs_after_treatment_start": 1,
         "_deepnote_index_column": 118
        },
        {
         "gpcr_id": 34610004,
         "age_at_treatment_start_in_years": 62,
         "duration_treatment_in_days": 371,
         "death_event_observed": "False",
         "survival_in_days": 650,
         "n_imgs_before_treatment": 2,
         "n_imgs_during_treatment": 3,
         "n_imgs_after_treatment_end": 4,
         "n_imgs_after_treatment_start": 7,
         "_deepnote_index_column": 119
        },
        {
         "gpcr_id": 34610034,
         "age_at_treatment_start_in_years": 81,
         "duration_treatment_in_days": 324,
         "death_event_observed": "False",
         "survival_in_days": 909,
         "n_imgs_before_treatment": 1,
         "n_imgs_during_treatment": 3,
         "n_imgs_after_treatment_end": 1,
         "n_imgs_after_treatment_start": 4,
         "_deepnote_index_column": 120
        },
        {
         "gpcr_id": 34610113,
         "age_at_treatment_start_in_years": 70,
         "duration_treatment_in_days": 322,
         "death_event_observed": "True",
         "survival_in_days": 343,
         "n_imgs_before_treatment": 2,
         "n_imgs_during_treatment": 3,
         "n_imgs_after_treatment_end": 0,
         "n_imgs_after_treatment_start": 3,
         "_deepnote_index_column": 121
        },
        {
         "gpcr_id": 34610035,
         "age_at_treatment_start_in_years": 71,
         "duration_treatment_in_days": 84,
         "death_event_observed": "True",
         "survival_in_days": 192,
         "n_imgs_before_treatment": 1,
         "n_imgs_during_treatment": 0,
         "n_imgs_after_treatment_end": 1,
         "n_imgs_after_treatment_start": 1,
         "_deepnote_index_column": 122
        },
        {
         "gpcr_id": 34610036,
         "age_at_treatment_start_in_years": 68,
         "duration_treatment_in_days": 22,
         "death_event_observed": "False",
         "survival_in_days": 231,
         "n_imgs_before_treatment": 1,
         "n_imgs_during_treatment": 0,
         "n_imgs_after_treatment_end": 1,
         "n_imgs_after_treatment_start": 1,
         "_deepnote_index_column": 123
        },
        {
         "gpcr_id": 34610037,
         "age_at_treatment_start_in_years": 88,
         "duration_treatment_in_days": 261,
         "death_event_observed": "True",
         "survival_in_days": 747,
         "n_imgs_before_treatment": 1,
         "n_imgs_during_treatment": 2,
         "n_imgs_after_treatment_end": 3,
         "n_imgs_after_treatment_start": 5,
         "_deepnote_index_column": 124
        },
        {
         "gpcr_id": 34610114,
         "age_at_treatment_start_in_years": 77,
         "duration_treatment_in_days": 21,
         "death_event_observed": "False",
         "survival_in_days": 1343,
         "n_imgs_before_treatment": 1,
         "n_imgs_during_treatment": 0,
         "n_imgs_after_treatment_end": 4,
         "n_imgs_after_treatment_start": 4,
         "_deepnote_index_column": 125
        },
        {
         "gpcr_id": 34610005,
         "age_at_treatment_start_in_years": 51,
         "duration_treatment_in_days": 63,
         "death_event_observed": "False",
         "survival_in_days": 1619,
         "n_imgs_before_treatment": 0,
         "n_imgs_during_treatment": 0,
         "n_imgs_after_treatment_end": 10,
         "n_imgs_after_treatment_start": 10,
         "_deepnote_index_column": 126
        },
        {
         "gpcr_id": 34610115,
         "age_at_treatment_start_in_years": 71,
         "duration_treatment_in_days": 0,
         "death_event_observed": "False",
         "survival_in_days": 1690,
         "n_imgs_before_treatment": 0,
         "n_imgs_during_treatment": 0,
         "n_imgs_after_treatment_end": 3,
         "n_imgs_after_treatment_start": 3,
         "_deepnote_index_column": 127
        },
        {
         "gpcr_id": 34610038,
         "age_at_treatment_start_in_years": 78,
         "duration_treatment_in_days": 153,
         "death_event_observed": "False",
         "survival_in_days": 395,
         "n_imgs_before_treatment": 1,
         "n_imgs_during_treatment": 2,
         "n_imgs_after_treatment_end": 1,
         "n_imgs_after_treatment_start": 3,
         "_deepnote_index_column": 128
        }
       ]
      },
      "text/plain": "      gpcr_id  age_at_treatment_start_in_years  duration_treatment_in_days  \\\n0    34610039                               64                          63   \n1    34610116                               80                          22   \n2    34610117                               55                           0   \n3    34610118                               68                          63   \n4    34610042                               52                          60   \n..        ...                              ...                         ...   \n124  34610037                               88                         261   \n125  34610114                               77                          21   \n126  34610005                               51                          63   \n127  34610115                               71                           0   \n128  34610038                               78                         153   \n\n     death_event_observed  survival_in_days  n_imgs_before_treatment  \\\n0                   False               768                        1   \n1                   False              1312                        2   \n2                   False              1145                        0   \n3                    True               639                        2   \n4                   False               707                        0   \n..                    ...               ...                      ...   \n124                  True               747                        1   \n125                 False              1343                        1   \n126                 False              1619                        0   \n127                 False              1690                        0   \n128                 False               395                        1   \n\n     n_imgs_during_treatment  n_imgs_after_treatment_end  \\\n0                          0                           1   \n1                          0                           4   \n2                          0                           4   \n3                          0                           6   \n4                          0                           7   \n..                       ...                         ...   \n124                        2                           3   \n125                        0                           4   \n126                        0                          10   \n127                        0                           3   \n128                        2                           1   \n\n     n_imgs_after_treatment_start  \n0                               1  \n1                               4  \n2                               4  \n3                               6  \n4                               7  \n..                            ...  \n124                             5  \n125                             4  \n126                            10  \n127                             3  \n128                             3  \n\n[129 rows x 9 columns]",
      "text/html": "<div>\n<style scoped>\n    .dataframe tbody tr th:only-of-type {\n        vertical-align: middle;\n    }\n\n    .dataframe tbody tr th {\n        vertical-align: top;\n    }\n\n    .dataframe thead th {\n        text-align: right;\n    }\n</style>\n<table border=\"1\" class=\"dataframe\">\n  <thead>\n    <tr style=\"text-align: right;\">\n      <th></th>\n      <th>gpcr_id</th>\n      <th>age_at_treatment_start_in_years</th>\n      <th>duration_treatment_in_days</th>\n      <th>death_event_observed</th>\n      <th>survival_in_days</th>\n      <th>n_imgs_before_treatment</th>\n      <th>n_imgs_during_treatment</th>\n      <th>n_imgs_after_treatment_end</th>\n      <th>n_imgs_after_treatment_start</th>\n    </tr>\n  </thead>\n  <tbody>\n    <tr>\n      <th>0</th>\n      <td>34610039</td>\n      <td>64</td>\n      <td>63</td>\n      <td>False</td>\n      <td>768</td>\n      <td>1</td>\n      <td>0</td>\n      <td>1</td>\n      <td>1</td>\n    </tr>\n    <tr>\n      <th>1</th>\n      <td>34610116</td>\n      <td>80</td>\n      <td>22</td>\n      <td>False</td>\n      <td>1312</td>\n      <td>2</td>\n      <td>0</td>\n      <td>4</td>\n      <td>4</td>\n    </tr>\n    <tr>\n      <th>2</th>\n      <td>34610117</td>\n      <td>55</td>\n      <td>0</td>\n      <td>False</td>\n      <td>1145</td>\n      <td>0</td>\n      <td>0</td>\n      <td>4</td>\n      <td>4</td>\n    </tr>\n    <tr>\n      <th>3</th>\n      <td>34610118</td>\n      <td>68</td>\n      <td>63</td>\n      <td>True</td>\n      <td>639</td>\n      <td>2</td>\n      <td>0</td>\n      <td>6</td>\n      <td>6</td>\n    </tr>\n    <tr>\n      <th>4</th>\n      <td>34610042</td>\n      <td>52</td>\n      <td>60</td>\n      <td>False</td>\n      <td>707</td>\n      <td>0</td>\n      <td>0</td>\n      <td>7</td>\n      <td>7</td>\n    </tr>\n    <tr>\n      <th>...</th>\n      <td>...</td>\n      <td>...</td>\n      <td>...</td>\n      <td>...</td>\n      <td>...</td>\n      <td>...</td>\n      <td>...</td>\n      <td>...</td>\n      <td>...</td>\n    </tr>\n    <tr>\n      <th>124</th>\n      <td>34610037</td>\n      <td>88</td>\n      <td>261</td>\n      <td>True</td>\n      <td>747</td>\n      <td>1</td>\n      <td>2</td>\n      <td>3</td>\n      <td>5</td>\n    </tr>\n    <tr>\n      <th>125</th>\n      <td>34610114</td>\n      <td>77</td>\n      <td>21</td>\n      <td>False</td>\n      <td>1343</td>\n      <td>1</td>\n      <td>0</td>\n      <td>4</td>\n      <td>4</td>\n    </tr>\n    <tr>\n      <th>126</th>\n      <td>34610005</td>\n      <td>51</td>\n      <td>63</td>\n      <td>False</td>\n      <td>1619</td>\n      <td>0</td>\n      <td>0</td>\n      <td>10</td>\n      <td>10</td>\n    </tr>\n    <tr>\n      <th>127</th>\n      <td>34610115</td>\n      <td>71</td>\n      <td>0</td>\n      <td>False</td>\n      <td>1690</td>\n      <td>0</td>\n      <td>0</td>\n      <td>3</td>\n      <td>3</td>\n    </tr>\n    <tr>\n      <th>128</th>\n      <td>34610038</td>\n      <td>78</td>\n      <td>153</td>\n      <td>False</td>\n      <td>395</td>\n      <td>1</td>\n      <td>2</td>\n      <td>1</td>\n      <td>3</td>\n    </tr>\n  </tbody>\n</table>\n<p>129 rows × 9 columns</p>\n</div>"
     },
     "metadata": {}
    }
   ],
   "execution_count": null
  },
  {
   "cell_type": "code",
   "metadata": {
    "cell_id": "00037-670feaf7-a615-4859-8488-a2360024835f",
    "deepnote_to_be_reexecuted": false,
    "execution_millis": 0,
    "execution_start": 1633022873804,
    "source_hash": "4bf44ce1",
    "tags": [],
    "deepnote_cell_type": "code"
   },
   "source": "patients_labels = {\n    **studies_labels,\n    'age_at_treatment_start_in_years': 'Age (treatment start, years)',\n    'duration_treatment_in_days': 'Treatment duration (days)',\n    'death_event_observed': 'Death observed',\n    'survival_in_days': 'Survival time (days)',\n    'time': 'Time (days)',\n    'survival_probability': 'Survival probability'\n}",
   "outputs": [],
   "execution_count": null
  },
  {
   "cell_type": "markdown",
   "source": "### Visualisations",
   "metadata": {
    "cell_id": "00038-b9375573-4e1c-4687-a116-d397c0ad13eb",
    "deepnote_app_coordinates": {
     "h": 2,
     "w": 12,
     "x": 0,
     "y": 0
    },
    "is_collapsed": false,
    "tags": [],
    "deepnote_cell_type": "text-cell-h3"
   }
  },
  {
   "cell_type": "code",
   "metadata": {
    "cell_id": "00037-debdbfdd-58bb-42ba-8edd-a9237a08483d",
    "deepnote_app_coordinates": {
     "h": 5,
     "w": 12,
     "x": 0,
     "y": 0
    },
    "deepnote_app_is_code_hidden": true,
    "deepnote_to_be_reexecuted": false,
    "execution_millis": 114,
    "execution_start": 1633022145048,
    "source_hash": "a3beaf15",
    "tags": [],
    "deepnote_cell_type": "code"
   },
   "source": "px.histogram(patients, x='age_at_treatment_start_in_years',\n             labels=patients_labels) \\\n    .update_layout(legend=top_h_legend, yaxis_title='Patients (count)')",
   "outputs": [
    {
     "data": {
      "text/html": "<html>\n<head><meta charset=\"utf-8\" /></head>\n<body>\n    <div>            <script src=\"https://cdnjs.cloudflare.com/ajax/libs/mathjax/2.7.5/MathJax.js?config=TeX-AMS-MML_SVG\"></script><script type=\"text/javascript\">if (window.MathJax) {MathJax.Hub.Config({SVG: {font: \"STIX-Web\"}});}</script>                <script type=\"text/javascript\">window.PlotlyConfig = {MathJaxConfig: 'local'};</script>\n        <script src=\"https://cdn.plot.ly/plotly-2.4.2.min.js\"></script>                <div id=\"954b201f-dd2a-4a53-9792-9a3c7b2ab780\" class=\"plotly-graph-div\" style=\"height:525px; width:100%;\"></div>            <script type=\"text/javascript\">                                    window.PLOTLYENV=window.PLOTLYENV || {};                                    if (document.getElementById(\"954b201f-dd2a-4a53-9792-9a3c7b2ab780\")) {                    Plotly.newPlot(                        \"954b201f-dd2a-4a53-9792-9a3c7b2ab780\",                        [{\"alignmentgroup\":\"True\",\"bingroup\":\"x\",\"hovertemplate\":\"Age (treatment start, years)=%{x}<br>count=%{y}<extra></extra>\",\"legendgroup\":\"\",\"marker\":{\"color\":\"rgb(76,114,176)\",\"pattern\":{\"shape\":\"\"}},\"name\":\"\",\"offsetgroup\":\"\",\"orientation\":\"v\",\"showlegend\":false,\"type\":\"histogram\",\"x\":[64,80,55,68,52,36,76,82,80,49,65,81,82,57,67,54,45,73,61,33,66,76,68,76,76,60,79,82,70,47,76,64,63,69,42,90,76,74,49,73,30,65,73,52,76,76,54,75,66,66,52,88,34,80,60,65,49,55,42,73,57,59,39,66,59,77,45,80,61,27,64,77,70,55,43,58,71,77,77,72,70,58,41,68,83,54,73,87,80,84,61,77,62,68,68,90,43,41,73,56,74,74,84,59,56,65,68,75,77,80,77,75,72,77,58,79,63,54,77,62,81,70,71,68,88,77,51,71,78],\"xaxis\":\"x\",\"yaxis\":\"y\"}],                        {\"barmode\":\"relative\",\"legend\":{\"orientation\":\"h\",\"tracegroupgap\":0,\"y\":1.02,\"yanchor\":\"bottom\"},\"margin\":{\"t\":60},\"template\":{\"data\":{\"bar\":[{\"error_x\":{\"color\":\"rgb(36,36,36)\"},\"error_y\":{\"color\":\"rgb(36,36,36)\"},\"marker\":{\"line\":{\"color\":\"rgb(234,234,242)\",\"width\":0.5},\"pattern\":{\"fillmode\":\"overlay\",\"size\":10,\"solidity\":0.2}},\"type\":\"bar\"}],\"barpolar\":[{\"marker\":{\"line\":{\"color\":\"rgb(234,234,242)\",\"width\":0.5},\"pattern\":{\"fillmode\":\"overlay\",\"size\":10,\"solidity\":0.2}},\"type\":\"barpolar\"}],\"carpet\":[{\"aaxis\":{\"endlinecolor\":\"rgb(36,36,36)\",\"gridcolor\":\"white\",\"linecolor\":\"white\",\"minorgridcolor\":\"white\",\"startlinecolor\":\"rgb(36,36,36)\"},\"baxis\":{\"endlinecolor\":\"rgb(36,36,36)\",\"gridcolor\":\"white\",\"linecolor\":\"white\",\"minorgridcolor\":\"white\",\"startlinecolor\":\"rgb(36,36,36)\"},\"type\":\"carpet\"}],\"choropleth\":[{\"colorbar\":{\"outlinewidth\":0,\"tickcolor\":\"rgb(36,36,36)\",\"ticklen\":8,\"ticks\":\"outside\",\"tickwidth\":2},\"type\":\"choropleth\"}],\"contour\":[{\"colorbar\":{\"outlinewidth\":0,\"tickcolor\":\"rgb(36,36,36)\",\"ticklen\":8,\"ticks\":\"outside\",\"tickwidth\":2},\"colorscale\":[[0.0,\"rgb(2,4,25)\"],[0.06274509803921569,\"rgb(24,15,41)\"],[0.12549019607843137,\"rgb(47,23,57)\"],[0.18823529411764706,\"rgb(71,28,72)\"],[0.25098039215686274,\"rgb(97,30,82)\"],[0.3137254901960784,\"rgb(123,30,89)\"],[0.3764705882352941,\"rgb(150,27,91)\"],[0.4392156862745098,\"rgb(177,22,88)\"],[0.5019607843137255,\"rgb(203,26,79)\"],[0.5647058823529412,\"rgb(223,47,67)\"],[0.6274509803921569,\"rgb(236,76,61)\"],[0.6901960784313725,\"rgb(242,107,73)\"],[0.7529411764705882,\"rgb(244,135,95)\"],[0.8156862745098039,\"rgb(245,162,122)\"],[0.8784313725490196,\"rgb(246,188,153)\"],[0.9411764705882353,\"rgb(247,212,187)\"],[1.0,\"rgb(250,234,220)\"]],\"type\":\"contour\"}],\"contourcarpet\":[{\"colorbar\":{\"outlinewidth\":0,\"tickcolor\":\"rgb(36,36,36)\",\"ticklen\":8,\"ticks\":\"outside\",\"tickwidth\":2},\"type\":\"contourcarpet\"}],\"heatmap\":[{\"colorbar\":{\"outlinewidth\":0,\"tickcolor\":\"rgb(36,36,36)\",\"ticklen\":8,\"ticks\":\"outside\",\"tickwidth\":2},\"colorscale\":[[0.0,\"rgb(2,4,25)\"],[0.06274509803921569,\"rgb(24,15,41)\"],[0.12549019607843137,\"rgb(47,23,57)\"],[0.18823529411764706,\"rgb(71,28,72)\"],[0.25098039215686274,\"rgb(97,30,82)\"],[0.3137254901960784,\"rgb(123,30,89)\"],[0.3764705882352941,\"rgb(150,27,91)\"],[0.4392156862745098,\"rgb(177,22,88)\"],[0.5019607843137255,\"rgb(203,26,79)\"],[0.5647058823529412,\"rgb(223,47,67)\"],[0.6274509803921569,\"rgb(236,76,61)\"],[0.6901960784313725,\"rgb(242,107,73)\"],[0.7529411764705882,\"rgb(244,135,95)\"],[0.8156862745098039,\"rgb(245,162,122)\"],[0.8784313725490196,\"rgb(246,188,153)\"],[0.9411764705882353,\"rgb(247,212,187)\"],[1.0,\"rgb(250,234,220)\"]],\"type\":\"heatmap\"}],\"heatmapgl\":[{\"colorbar\":{\"outlinewidth\":0,\"tickcolor\":\"rgb(36,36,36)\",\"ticklen\":8,\"ticks\":\"outside\",\"tickwidth\":2},\"colorscale\":[[0.0,\"rgb(2,4,25)\"],[0.06274509803921569,\"rgb(24,15,41)\"],[0.12549019607843137,\"rgb(47,23,57)\"],[0.18823529411764706,\"rgb(71,28,72)\"],[0.25098039215686274,\"rgb(97,30,82)\"],[0.3137254901960784,\"rgb(123,30,89)\"],[0.3764705882352941,\"rgb(150,27,91)\"],[0.4392156862745098,\"rgb(177,22,88)\"],[0.5019607843137255,\"rgb(203,26,79)\"],[0.5647058823529412,\"rgb(223,47,67)\"],[0.6274509803921569,\"rgb(236,76,61)\"],[0.6901960784313725,\"rgb(242,107,73)\"],[0.7529411764705882,\"rgb(244,135,95)\"],[0.8156862745098039,\"rgb(245,162,122)\"],[0.8784313725490196,\"rgb(246,188,153)\"],[0.9411764705882353,\"rgb(247,212,187)\"],[1.0,\"rgb(250,234,220)\"]],\"type\":\"heatmapgl\"}],\"histogram\":[{\"marker\":{\"pattern\":{\"fillmode\":\"overlay\",\"size\":10,\"solidity\":0.2}},\"type\":\"histogram\"}],\"histogram2d\":[{\"colorbar\":{\"outlinewidth\":0,\"tickcolor\":\"rgb(36,36,36)\",\"ticklen\":8,\"ticks\":\"outside\",\"tickwidth\":2},\"colorscale\":[[0.0,\"rgb(2,4,25)\"],[0.06274509803921569,\"rgb(24,15,41)\"],[0.12549019607843137,\"rgb(47,23,57)\"],[0.18823529411764706,\"rgb(71,28,72)\"],[0.25098039215686274,\"rgb(97,30,82)\"],[0.3137254901960784,\"rgb(123,30,89)\"],[0.3764705882352941,\"rgb(150,27,91)\"],[0.4392156862745098,\"rgb(177,22,88)\"],[0.5019607843137255,\"rgb(203,26,79)\"],[0.5647058823529412,\"rgb(223,47,67)\"],[0.6274509803921569,\"rgb(236,76,61)\"],[0.6901960784313725,\"rgb(242,107,73)\"],[0.7529411764705882,\"rgb(244,135,95)\"],[0.8156862745098039,\"rgb(245,162,122)\"],[0.8784313725490196,\"rgb(246,188,153)\"],[0.9411764705882353,\"rgb(247,212,187)\"],[1.0,\"rgb(250,234,220)\"]],\"type\":\"histogram2d\"}],\"histogram2dcontour\":[{\"colorbar\":{\"outlinewidth\":0,\"tickcolor\":\"rgb(36,36,36)\",\"ticklen\":8,\"ticks\":\"outside\",\"tickwidth\":2},\"colorscale\":[[0.0,\"rgb(2,4,25)\"],[0.06274509803921569,\"rgb(24,15,41)\"],[0.12549019607843137,\"rgb(47,23,57)\"],[0.18823529411764706,\"rgb(71,28,72)\"],[0.25098039215686274,\"rgb(97,30,82)\"],[0.3137254901960784,\"rgb(123,30,89)\"],[0.3764705882352941,\"rgb(150,27,91)\"],[0.4392156862745098,\"rgb(177,22,88)\"],[0.5019607843137255,\"rgb(203,26,79)\"],[0.5647058823529412,\"rgb(223,47,67)\"],[0.6274509803921569,\"rgb(236,76,61)\"],[0.6901960784313725,\"rgb(242,107,73)\"],[0.7529411764705882,\"rgb(244,135,95)\"],[0.8156862745098039,\"rgb(245,162,122)\"],[0.8784313725490196,\"rgb(246,188,153)\"],[0.9411764705882353,\"rgb(247,212,187)\"],[1.0,\"rgb(250,234,220)\"]],\"type\":\"histogram2dcontour\"}],\"mesh3d\":[{\"colorbar\":{\"outlinewidth\":0,\"tickcolor\":\"rgb(36,36,36)\",\"ticklen\":8,\"ticks\":\"outside\",\"tickwidth\":2},\"type\":\"mesh3d\"}],\"parcoords\":[{\"line\":{\"colorbar\":{\"outlinewidth\":0,\"tickcolor\":\"rgb(36,36,36)\",\"ticklen\":8,\"ticks\":\"outside\",\"tickwidth\":2}},\"type\":\"parcoords\"}],\"pie\":[{\"automargin\":true,\"type\":\"pie\"}],\"scatter\":[{\"marker\":{\"colorbar\":{\"outlinewidth\":0,\"tickcolor\":\"rgb(36,36,36)\",\"ticklen\":8,\"ticks\":\"outside\",\"tickwidth\":2}},\"type\":\"scatter\"}],\"scatter3d\":[{\"line\":{\"colorbar\":{\"outlinewidth\":0,\"tickcolor\":\"rgb(36,36,36)\",\"ticklen\":8,\"ticks\":\"outside\",\"tickwidth\":2}},\"marker\":{\"colorbar\":{\"outlinewidth\":0,\"tickcolor\":\"rgb(36,36,36)\",\"ticklen\":8,\"ticks\":\"outside\",\"tickwidth\":2}},\"type\":\"scatter3d\"}],\"scattercarpet\":[{\"marker\":{\"colorbar\":{\"outlinewidth\":0,\"tickcolor\":\"rgb(36,36,36)\",\"ticklen\":8,\"ticks\":\"outside\",\"tickwidth\":2}},\"type\":\"scattercarpet\"}],\"scattergeo\":[{\"marker\":{\"colorbar\":{\"outlinewidth\":0,\"tickcolor\":\"rgb(36,36,36)\",\"ticklen\":8,\"ticks\":\"outside\",\"tickwidth\":2}},\"type\":\"scattergeo\"}],\"scattergl\":[{\"marker\":{\"colorbar\":{\"outlinewidth\":0,\"tickcolor\":\"rgb(36,36,36)\",\"ticklen\":8,\"ticks\":\"outside\",\"tickwidth\":2}},\"type\":\"scattergl\"}],\"scattermapbox\":[{\"marker\":{\"colorbar\":{\"outlinewidth\":0,\"tickcolor\":\"rgb(36,36,36)\",\"ticklen\":8,\"ticks\":\"outside\",\"tickwidth\":2}},\"type\":\"scattermapbox\"}],\"scatterpolar\":[{\"marker\":{\"colorbar\":{\"outlinewidth\":0,\"tickcolor\":\"rgb(36,36,36)\",\"ticklen\":8,\"ticks\":\"outside\",\"tickwidth\":2}},\"type\":\"scatterpolar\"}],\"scatterpolargl\":[{\"marker\":{\"colorbar\":{\"outlinewidth\":0,\"tickcolor\":\"rgb(36,36,36)\",\"ticklen\":8,\"ticks\":\"outside\",\"tickwidth\":2}},\"type\":\"scatterpolargl\"}],\"scatterternary\":[{\"marker\":{\"colorbar\":{\"outlinewidth\":0,\"tickcolor\":\"rgb(36,36,36)\",\"ticklen\":8,\"ticks\":\"outside\",\"tickwidth\":2}},\"type\":\"scatterternary\"}],\"surface\":[{\"colorbar\":{\"outlinewidth\":0,\"tickcolor\":\"rgb(36,36,36)\",\"ticklen\":8,\"ticks\":\"outside\",\"tickwidth\":2},\"colorscale\":[[0.0,\"rgb(2,4,25)\"],[0.06274509803921569,\"rgb(24,15,41)\"],[0.12549019607843137,\"rgb(47,23,57)\"],[0.18823529411764706,\"rgb(71,28,72)\"],[0.25098039215686274,\"rgb(97,30,82)\"],[0.3137254901960784,\"rgb(123,30,89)\"],[0.3764705882352941,\"rgb(150,27,91)\"],[0.4392156862745098,\"rgb(177,22,88)\"],[0.5019607843137255,\"rgb(203,26,79)\"],[0.5647058823529412,\"rgb(223,47,67)\"],[0.6274509803921569,\"rgb(236,76,61)\"],[0.6901960784313725,\"rgb(242,107,73)\"],[0.7529411764705882,\"rgb(244,135,95)\"],[0.8156862745098039,\"rgb(245,162,122)\"],[0.8784313725490196,\"rgb(246,188,153)\"],[0.9411764705882353,\"rgb(247,212,187)\"],[1.0,\"rgb(250,234,220)\"]],\"type\":\"surface\"}],\"table\":[{\"cells\":{\"fill\":{\"color\":\"rgb(231,231,240)\"},\"line\":{\"color\":\"white\"}},\"header\":{\"fill\":{\"color\":\"rgb(183,183,191)\"},\"line\":{\"color\":\"white\"}},\"type\":\"table\"}]},\"layout\":{\"annotationdefaults\":{\"arrowcolor\":\"rgb(67,103,167)\"},\"autotypenumbers\":\"strict\",\"coloraxis\":{\"colorbar\":{\"outlinewidth\":0,\"tickcolor\":\"rgb(36,36,36)\",\"ticklen\":8,\"ticks\":\"outside\",\"tickwidth\":2}},\"colorscale\":{\"sequential\":[[0.0,\"rgb(2,4,25)\"],[0.06274509803921569,\"rgb(24,15,41)\"],[0.12549019607843137,\"rgb(47,23,57)\"],[0.18823529411764706,\"rgb(71,28,72)\"],[0.25098039215686274,\"rgb(97,30,82)\"],[0.3137254901960784,\"rgb(123,30,89)\"],[0.3764705882352941,\"rgb(150,27,91)\"],[0.4392156862745098,\"rgb(177,22,88)\"],[0.5019607843137255,\"rgb(203,26,79)\"],[0.5647058823529412,\"rgb(223,47,67)\"],[0.6274509803921569,\"rgb(236,76,61)\"],[0.6901960784313725,\"rgb(242,107,73)\"],[0.7529411764705882,\"rgb(244,135,95)\"],[0.8156862745098039,\"rgb(245,162,122)\"],[0.8784313725490196,\"rgb(246,188,153)\"],[0.9411764705882353,\"rgb(247,212,187)\"],[1.0,\"rgb(250,234,220)\"]],\"sequentialminus\":[[0.0,\"rgb(2,4,25)\"],[0.06274509803921569,\"rgb(24,15,41)\"],[0.12549019607843137,\"rgb(47,23,57)\"],[0.18823529411764706,\"rgb(71,28,72)\"],[0.25098039215686274,\"rgb(97,30,82)\"],[0.3137254901960784,\"rgb(123,30,89)\"],[0.3764705882352941,\"rgb(150,27,91)\"],[0.4392156862745098,\"rgb(177,22,88)\"],[0.5019607843137255,\"rgb(203,26,79)\"],[0.5647058823529412,\"rgb(223,47,67)\"],[0.6274509803921569,\"rgb(236,76,61)\"],[0.6901960784313725,\"rgb(242,107,73)\"],[0.7529411764705882,\"rgb(244,135,95)\"],[0.8156862745098039,\"rgb(245,162,122)\"],[0.8784313725490196,\"rgb(246,188,153)\"],[0.9411764705882353,\"rgb(247,212,187)\"],[1.0,\"rgb(250,234,220)\"]]},\"colorway\":[\"rgb(76,114,176)\",\"rgb(221,132,82)\",\"rgb(85,168,104)\",\"rgb(196,78,82)\",\"rgb(129,114,179)\",\"rgb(147,120,96)\",\"rgb(218,139,195)\",\"rgb(140,140,140)\",\"rgb(204,185,116)\",\"rgb(100,181,205)\"],\"font\":{\"color\":\"rgb(36,36,36)\"},\"geo\":{\"bgcolor\":\"white\",\"lakecolor\":\"white\",\"landcolor\":\"rgb(234,234,242)\",\"showlakes\":true,\"showland\":true,\"subunitcolor\":\"white\"},\"hoverlabel\":{\"align\":\"left\"},\"hovermode\":\"closest\",\"paper_bgcolor\":\"white\",\"plot_bgcolor\":\"rgb(234,234,242)\",\"polar\":{\"angularaxis\":{\"gridcolor\":\"white\",\"linecolor\":\"white\",\"showgrid\":true,\"ticks\":\"\"},\"bgcolor\":\"rgb(234,234,242)\",\"radialaxis\":{\"gridcolor\":\"white\",\"linecolor\":\"white\",\"showgrid\":true,\"ticks\":\"\"}},\"scene\":{\"xaxis\":{\"backgroundcolor\":\"rgb(234,234,242)\",\"gridcolor\":\"white\",\"gridwidth\":2,\"linecolor\":\"white\",\"showbackground\":true,\"showgrid\":true,\"ticks\":\"\",\"zerolinecolor\":\"white\"},\"yaxis\":{\"backgroundcolor\":\"rgb(234,234,242)\",\"gridcolor\":\"white\",\"gridwidth\":2,\"linecolor\":\"white\",\"showbackground\":true,\"showgrid\":true,\"ticks\":\"\",\"zerolinecolor\":\"white\"},\"zaxis\":{\"backgroundcolor\":\"rgb(234,234,242)\",\"gridcolor\":\"white\",\"gridwidth\":2,\"linecolor\":\"white\",\"showbackground\":true,\"showgrid\":true,\"ticks\":\"\",\"zerolinecolor\":\"white\"}},\"shapedefaults\":{\"fillcolor\":\"rgb(67,103,167)\",\"line\":{\"width\":0},\"opacity\":0.5},\"ternary\":{\"aaxis\":{\"gridcolor\":\"white\",\"linecolor\":\"white\",\"showgrid\":true,\"ticks\":\"\"},\"baxis\":{\"gridcolor\":\"white\",\"linecolor\":\"white\",\"showgrid\":true,\"ticks\":\"\"},\"bgcolor\":\"rgb(234,234,242)\",\"caxis\":{\"gridcolor\":\"white\",\"linecolor\":\"white\",\"showgrid\":true,\"ticks\":\"\"}},\"xaxis\":{\"automargin\":true,\"gridcolor\":\"white\",\"linecolor\":\"white\",\"showgrid\":true,\"ticks\":\"\",\"title\":{\"standoff\":15},\"zerolinecolor\":\"white\"},\"yaxis\":{\"automargin\":true,\"gridcolor\":\"white\",\"linecolor\":\"white\",\"showgrid\":true,\"ticks\":\"\",\"title\":{\"standoff\":15},\"zerolinecolor\":\"white\"}}},\"xaxis\":{\"anchor\":\"y\",\"domain\":[0.0,1.0],\"title\":{\"text\":\"Age (treatment start, years)\"}},\"yaxis\":{\"anchor\":\"x\",\"domain\":[0.0,1.0],\"title\":{\"text\":\"Patients (count)\"}}},                        {\"responsive\": true}                    ).then(function(){\n                            \nvar gd = document.getElementById('954b201f-dd2a-4a53-9792-9a3c7b2ab780');\nvar x = new MutationObserver(function (mutations, observer) {{\n        var display = window.getComputedStyle(gd).display;\n        if (!display || display === 'none') {{\n            console.log([gd, 'removed!']);\n            Plotly.purge(gd);\n            observer.disconnect();\n        }}\n}});\n\n// Listen for the removal of the full notebook cells\nvar notebookContainer = gd.closest('#notebook-container');\nif (notebookContainer) {{\n    x.observe(notebookContainer, {childList: true});\n}}\n\n// Listen for the clearing of the current output cell\nvar outputEl = gd.closest('.output');\nif (outputEl) {{\n    x.observe(outputEl, {childList: true});\n}}\n\n                        })                };                            </script>        </div>\n</body>\n</html>"
     },
     "metadata": {},
     "output_type": "display_data"
    }
   ],
   "execution_count": null
  },
  {
   "cell_type": "code",
   "metadata": {
    "cell_id": "00039-494015d5-4dd7-40da-bec4-6566123e8a1d",
    "deepnote_app_coordinates": {
     "h": 5,
     "w": 12,
     "x": 0,
     "y": 0
    },
    "deepnote_app_is_code_hidden": true,
    "deepnote_to_be_reexecuted": false,
    "execution_millis": 95,
    "execution_start": 1633022204922,
    "source_hash": "7aea37b9",
    "tags": [],
    "deepnote_cell_type": "code"
   },
   "source": "px.histogram(patients, x='duration_treatment_in_days', facet_col='death_event_observed',\n             labels=patients_labels) \\\n    .update_layout(legend=top_h_legend, yaxis_title='Patients (count)')",
   "outputs": [
    {
     "data": {
      "text/html": "<html>\n<head><meta charset=\"utf-8\" /></head>\n<body>\n    <div>            <script src=\"https://cdnjs.cloudflare.com/ajax/libs/mathjax/2.7.5/MathJax.js?config=TeX-AMS-MML_SVG\"></script><script type=\"text/javascript\">if (window.MathJax) {MathJax.Hub.Config({SVG: {font: \"STIX-Web\"}});}</script>                <script type=\"text/javascript\">window.PlotlyConfig = {MathJaxConfig: 'local'};</script>\n        <script src=\"https://cdn.plot.ly/plotly-2.4.2.min.js\"></script>                <div id=\"6633fb26-d90d-4666-bda0-4b8e3800edc3\" class=\"plotly-graph-div\" style=\"height:525px; width:100%;\"></div>            <script type=\"text/javascript\">                                    window.PLOTLYENV=window.PLOTLYENV || {};                                    if (document.getElementById(\"6633fb26-d90d-4666-bda0-4b8e3800edc3\")) {                    Plotly.newPlot(                        \"6633fb26-d90d-4666-bda0-4b8e3800edc3\",                        [{\"alignmentgroup\":\"True\",\"bingroup\":\"x\",\"hovertemplate\":\"Death observed=False<br>Treatment duration (days)=%{x}<br>count=%{y}<extra></extra>\",\"legendgroup\":\"\",\"marker\":{\"color\":\"rgb(76,114,176)\",\"pattern\":{\"shape\":\"\"}},\"name\":\"\",\"offsetgroup\":\"\",\"orientation\":\"v\",\"showlegend\":false,\"type\":\"histogram\",\"x\":[63,22,0,60,734,316,89,0,83,63,84,77,49,756,210,0,63,63,192,364,20,555,49,84,98,357,70,771,21,63,21,414,21,63,21,42,378,21,63,42,105,59,69,21,62,532,0,105,489,84,126,63,63,63,0,0,63,727,21,70,63,63,42,42,371,324,22,21,63,0,153],\"xaxis\":\"x\",\"yaxis\":\"y\"},{\"alignmentgroup\":\"True\",\"bingroup\":\"x\",\"hovertemplate\":\"Death observed=True<br>Treatment duration (days)=%{x}<br>count=%{y}<extra></extra>\",\"legendgroup\":\"\",\"marker\":{\"color\":\"rgb(76,114,176)\",\"pattern\":{\"shape\":\"\"}},\"name\":\"\",\"offsetgroup\":\"\",\"orientation\":\"v\",\"showlegend\":false,\"type\":\"histogram\",\"x\":[63,72,252,0,77,55,61,231,42,21,93,104,0,126,63,84,42,63,21,63,92,62,0,91,42,21,63,21,21,63,42,63,21,72,66,77,0,62,63,20,63,49,63,63,70,737,42,196,61,78,70,20,0,602,231,322,84,261],\"xaxis\":\"x2\",\"yaxis\":\"y2\"}],                        {\"annotations\":[{\"font\":{},\"showarrow\":false,\"text\":\"Death observed=False\",\"x\":0.245,\"xanchor\":\"center\",\"xref\":\"paper\",\"y\":1.0,\"yanchor\":\"bottom\",\"yref\":\"paper\"},{\"font\":{},\"showarrow\":false,\"text\":\"Death observed=True\",\"x\":0.755,\"xanchor\":\"center\",\"xref\":\"paper\",\"y\":1.0,\"yanchor\":\"bottom\",\"yref\":\"paper\"}],\"barmode\":\"relative\",\"legend\":{\"orientation\":\"h\",\"tracegroupgap\":0,\"y\":1.02,\"yanchor\":\"bottom\"},\"margin\":{\"t\":60},\"template\":{\"data\":{\"bar\":[{\"error_x\":{\"color\":\"rgb(36,36,36)\"},\"error_y\":{\"color\":\"rgb(36,36,36)\"},\"marker\":{\"line\":{\"color\":\"rgb(234,234,242)\",\"width\":0.5},\"pattern\":{\"fillmode\":\"overlay\",\"size\":10,\"solidity\":0.2}},\"type\":\"bar\"}],\"barpolar\":[{\"marker\":{\"line\":{\"color\":\"rgb(234,234,242)\",\"width\":0.5},\"pattern\":{\"fillmode\":\"overlay\",\"size\":10,\"solidity\":0.2}},\"type\":\"barpolar\"}],\"carpet\":[{\"aaxis\":{\"endlinecolor\":\"rgb(36,36,36)\",\"gridcolor\":\"white\",\"linecolor\":\"white\",\"minorgridcolor\":\"white\",\"startlinecolor\":\"rgb(36,36,36)\"},\"baxis\":{\"endlinecolor\":\"rgb(36,36,36)\",\"gridcolor\":\"white\",\"linecolor\":\"white\",\"minorgridcolor\":\"white\",\"startlinecolor\":\"rgb(36,36,36)\"},\"type\":\"carpet\"}],\"choropleth\":[{\"colorbar\":{\"outlinewidth\":0,\"tickcolor\":\"rgb(36,36,36)\",\"ticklen\":8,\"ticks\":\"outside\",\"tickwidth\":2},\"type\":\"choropleth\"}],\"contour\":[{\"colorbar\":{\"outlinewidth\":0,\"tickcolor\":\"rgb(36,36,36)\",\"ticklen\":8,\"ticks\":\"outside\",\"tickwidth\":2},\"colorscale\":[[0.0,\"rgb(2,4,25)\"],[0.06274509803921569,\"rgb(24,15,41)\"],[0.12549019607843137,\"rgb(47,23,57)\"],[0.18823529411764706,\"rgb(71,28,72)\"],[0.25098039215686274,\"rgb(97,30,82)\"],[0.3137254901960784,\"rgb(123,30,89)\"],[0.3764705882352941,\"rgb(150,27,91)\"],[0.4392156862745098,\"rgb(177,22,88)\"],[0.5019607843137255,\"rgb(203,26,79)\"],[0.5647058823529412,\"rgb(223,47,67)\"],[0.6274509803921569,\"rgb(236,76,61)\"],[0.6901960784313725,\"rgb(242,107,73)\"],[0.7529411764705882,\"rgb(244,135,95)\"],[0.8156862745098039,\"rgb(245,162,122)\"],[0.8784313725490196,\"rgb(246,188,153)\"],[0.9411764705882353,\"rgb(247,212,187)\"],[1.0,\"rgb(250,234,220)\"]],\"type\":\"contour\"}],\"contourcarpet\":[{\"colorbar\":{\"outlinewidth\":0,\"tickcolor\":\"rgb(36,36,36)\",\"ticklen\":8,\"ticks\":\"outside\",\"tickwidth\":2},\"type\":\"contourcarpet\"}],\"heatmap\":[{\"colorbar\":{\"outlinewidth\":0,\"tickcolor\":\"rgb(36,36,36)\",\"ticklen\":8,\"ticks\":\"outside\",\"tickwidth\":2},\"colorscale\":[[0.0,\"rgb(2,4,25)\"],[0.06274509803921569,\"rgb(24,15,41)\"],[0.12549019607843137,\"rgb(47,23,57)\"],[0.18823529411764706,\"rgb(71,28,72)\"],[0.25098039215686274,\"rgb(97,30,82)\"],[0.3137254901960784,\"rgb(123,30,89)\"],[0.3764705882352941,\"rgb(150,27,91)\"],[0.4392156862745098,\"rgb(177,22,88)\"],[0.5019607843137255,\"rgb(203,26,79)\"],[0.5647058823529412,\"rgb(223,47,67)\"],[0.6274509803921569,\"rgb(236,76,61)\"],[0.6901960784313725,\"rgb(242,107,73)\"],[0.7529411764705882,\"rgb(244,135,95)\"],[0.8156862745098039,\"rgb(245,162,122)\"],[0.8784313725490196,\"rgb(246,188,153)\"],[0.9411764705882353,\"rgb(247,212,187)\"],[1.0,\"rgb(250,234,220)\"]],\"type\":\"heatmap\"}],\"heatmapgl\":[{\"colorbar\":{\"outlinewidth\":0,\"tickcolor\":\"rgb(36,36,36)\",\"ticklen\":8,\"ticks\":\"outside\",\"tickwidth\":2},\"colorscale\":[[0.0,\"rgb(2,4,25)\"],[0.06274509803921569,\"rgb(24,15,41)\"],[0.12549019607843137,\"rgb(47,23,57)\"],[0.18823529411764706,\"rgb(71,28,72)\"],[0.25098039215686274,\"rgb(97,30,82)\"],[0.3137254901960784,\"rgb(123,30,89)\"],[0.3764705882352941,\"rgb(150,27,91)\"],[0.4392156862745098,\"rgb(177,22,88)\"],[0.5019607843137255,\"rgb(203,26,79)\"],[0.5647058823529412,\"rgb(223,47,67)\"],[0.6274509803921569,\"rgb(236,76,61)\"],[0.6901960784313725,\"rgb(242,107,73)\"],[0.7529411764705882,\"rgb(244,135,95)\"],[0.8156862745098039,\"rgb(245,162,122)\"],[0.8784313725490196,\"rgb(246,188,153)\"],[0.9411764705882353,\"rgb(247,212,187)\"],[1.0,\"rgb(250,234,220)\"]],\"type\":\"heatmapgl\"}],\"histogram\":[{\"marker\":{\"pattern\":{\"fillmode\":\"overlay\",\"size\":10,\"solidity\":0.2}},\"type\":\"histogram\"}],\"histogram2d\":[{\"colorbar\":{\"outlinewidth\":0,\"tickcolor\":\"rgb(36,36,36)\",\"ticklen\":8,\"ticks\":\"outside\",\"tickwidth\":2},\"colorscale\":[[0.0,\"rgb(2,4,25)\"],[0.06274509803921569,\"rgb(24,15,41)\"],[0.12549019607843137,\"rgb(47,23,57)\"],[0.18823529411764706,\"rgb(71,28,72)\"],[0.25098039215686274,\"rgb(97,30,82)\"],[0.3137254901960784,\"rgb(123,30,89)\"],[0.3764705882352941,\"rgb(150,27,91)\"],[0.4392156862745098,\"rgb(177,22,88)\"],[0.5019607843137255,\"rgb(203,26,79)\"],[0.5647058823529412,\"rgb(223,47,67)\"],[0.6274509803921569,\"rgb(236,76,61)\"],[0.6901960784313725,\"rgb(242,107,73)\"],[0.7529411764705882,\"rgb(244,135,95)\"],[0.8156862745098039,\"rgb(245,162,122)\"],[0.8784313725490196,\"rgb(246,188,153)\"],[0.9411764705882353,\"rgb(247,212,187)\"],[1.0,\"rgb(250,234,220)\"]],\"type\":\"histogram2d\"}],\"histogram2dcontour\":[{\"colorbar\":{\"outlinewidth\":0,\"tickcolor\":\"rgb(36,36,36)\",\"ticklen\":8,\"ticks\":\"outside\",\"tickwidth\":2},\"colorscale\":[[0.0,\"rgb(2,4,25)\"],[0.06274509803921569,\"rgb(24,15,41)\"],[0.12549019607843137,\"rgb(47,23,57)\"],[0.18823529411764706,\"rgb(71,28,72)\"],[0.25098039215686274,\"rgb(97,30,82)\"],[0.3137254901960784,\"rgb(123,30,89)\"],[0.3764705882352941,\"rgb(150,27,91)\"],[0.4392156862745098,\"rgb(177,22,88)\"],[0.5019607843137255,\"rgb(203,26,79)\"],[0.5647058823529412,\"rgb(223,47,67)\"],[0.6274509803921569,\"rgb(236,76,61)\"],[0.6901960784313725,\"rgb(242,107,73)\"],[0.7529411764705882,\"rgb(244,135,95)\"],[0.8156862745098039,\"rgb(245,162,122)\"],[0.8784313725490196,\"rgb(246,188,153)\"],[0.9411764705882353,\"rgb(247,212,187)\"],[1.0,\"rgb(250,234,220)\"]],\"type\":\"histogram2dcontour\"}],\"mesh3d\":[{\"colorbar\":{\"outlinewidth\":0,\"tickcolor\":\"rgb(36,36,36)\",\"ticklen\":8,\"ticks\":\"outside\",\"tickwidth\":2},\"type\":\"mesh3d\"}],\"parcoords\":[{\"line\":{\"colorbar\":{\"outlinewidth\":0,\"tickcolor\":\"rgb(36,36,36)\",\"ticklen\":8,\"ticks\":\"outside\",\"tickwidth\":2}},\"type\":\"parcoords\"}],\"pie\":[{\"automargin\":true,\"type\":\"pie\"}],\"scatter\":[{\"marker\":{\"colorbar\":{\"outlinewidth\":0,\"tickcolor\":\"rgb(36,36,36)\",\"ticklen\":8,\"ticks\":\"outside\",\"tickwidth\":2}},\"type\":\"scatter\"}],\"scatter3d\":[{\"line\":{\"colorbar\":{\"outlinewidth\":0,\"tickcolor\":\"rgb(36,36,36)\",\"ticklen\":8,\"ticks\":\"outside\",\"tickwidth\":2}},\"marker\":{\"colorbar\":{\"outlinewidth\":0,\"tickcolor\":\"rgb(36,36,36)\",\"ticklen\":8,\"ticks\":\"outside\",\"tickwidth\":2}},\"type\":\"scatter3d\"}],\"scattercarpet\":[{\"marker\":{\"colorbar\":{\"outlinewidth\":0,\"tickcolor\":\"rgb(36,36,36)\",\"ticklen\":8,\"ticks\":\"outside\",\"tickwidth\":2}},\"type\":\"scattercarpet\"}],\"scattergeo\":[{\"marker\":{\"colorbar\":{\"outlinewidth\":0,\"tickcolor\":\"rgb(36,36,36)\",\"ticklen\":8,\"ticks\":\"outside\",\"tickwidth\":2}},\"type\":\"scattergeo\"}],\"scattergl\":[{\"marker\":{\"colorbar\":{\"outlinewidth\":0,\"tickcolor\":\"rgb(36,36,36)\",\"ticklen\":8,\"ticks\":\"outside\",\"tickwidth\":2}},\"type\":\"scattergl\"}],\"scattermapbox\":[{\"marker\":{\"colorbar\":{\"outlinewidth\":0,\"tickcolor\":\"rgb(36,36,36)\",\"ticklen\":8,\"ticks\":\"outside\",\"tickwidth\":2}},\"type\":\"scattermapbox\"}],\"scatterpolar\":[{\"marker\":{\"colorbar\":{\"outlinewidth\":0,\"tickcolor\":\"rgb(36,36,36)\",\"ticklen\":8,\"ticks\":\"outside\",\"tickwidth\":2}},\"type\":\"scatterpolar\"}],\"scatterpolargl\":[{\"marker\":{\"colorbar\":{\"outlinewidth\":0,\"tickcolor\":\"rgb(36,36,36)\",\"ticklen\":8,\"ticks\":\"outside\",\"tickwidth\":2}},\"type\":\"scatterpolargl\"}],\"scatterternary\":[{\"marker\":{\"colorbar\":{\"outlinewidth\":0,\"tickcolor\":\"rgb(36,36,36)\",\"ticklen\":8,\"ticks\":\"outside\",\"tickwidth\":2}},\"type\":\"scatterternary\"}],\"surface\":[{\"colorbar\":{\"outlinewidth\":0,\"tickcolor\":\"rgb(36,36,36)\",\"ticklen\":8,\"ticks\":\"outside\",\"tickwidth\":2},\"colorscale\":[[0.0,\"rgb(2,4,25)\"],[0.06274509803921569,\"rgb(24,15,41)\"],[0.12549019607843137,\"rgb(47,23,57)\"],[0.18823529411764706,\"rgb(71,28,72)\"],[0.25098039215686274,\"rgb(97,30,82)\"],[0.3137254901960784,\"rgb(123,30,89)\"],[0.3764705882352941,\"rgb(150,27,91)\"],[0.4392156862745098,\"rgb(177,22,88)\"],[0.5019607843137255,\"rgb(203,26,79)\"],[0.5647058823529412,\"rgb(223,47,67)\"],[0.6274509803921569,\"rgb(236,76,61)\"],[0.6901960784313725,\"rgb(242,107,73)\"],[0.7529411764705882,\"rgb(244,135,95)\"],[0.8156862745098039,\"rgb(245,162,122)\"],[0.8784313725490196,\"rgb(246,188,153)\"],[0.9411764705882353,\"rgb(247,212,187)\"],[1.0,\"rgb(250,234,220)\"]],\"type\":\"surface\"}],\"table\":[{\"cells\":{\"fill\":{\"color\":\"rgb(231,231,240)\"},\"line\":{\"color\":\"white\"}},\"header\":{\"fill\":{\"color\":\"rgb(183,183,191)\"},\"line\":{\"color\":\"white\"}},\"type\":\"table\"}]},\"layout\":{\"annotationdefaults\":{\"arrowcolor\":\"rgb(67,103,167)\"},\"autotypenumbers\":\"strict\",\"coloraxis\":{\"colorbar\":{\"outlinewidth\":0,\"tickcolor\":\"rgb(36,36,36)\",\"ticklen\":8,\"ticks\":\"outside\",\"tickwidth\":2}},\"colorscale\":{\"sequential\":[[0.0,\"rgb(2,4,25)\"],[0.06274509803921569,\"rgb(24,15,41)\"],[0.12549019607843137,\"rgb(47,23,57)\"],[0.18823529411764706,\"rgb(71,28,72)\"],[0.25098039215686274,\"rgb(97,30,82)\"],[0.3137254901960784,\"rgb(123,30,89)\"],[0.3764705882352941,\"rgb(150,27,91)\"],[0.4392156862745098,\"rgb(177,22,88)\"],[0.5019607843137255,\"rgb(203,26,79)\"],[0.5647058823529412,\"rgb(223,47,67)\"],[0.6274509803921569,\"rgb(236,76,61)\"],[0.6901960784313725,\"rgb(242,107,73)\"],[0.7529411764705882,\"rgb(244,135,95)\"],[0.8156862745098039,\"rgb(245,162,122)\"],[0.8784313725490196,\"rgb(246,188,153)\"],[0.9411764705882353,\"rgb(247,212,187)\"],[1.0,\"rgb(250,234,220)\"]],\"sequentialminus\":[[0.0,\"rgb(2,4,25)\"],[0.06274509803921569,\"rgb(24,15,41)\"],[0.12549019607843137,\"rgb(47,23,57)\"],[0.18823529411764706,\"rgb(71,28,72)\"],[0.25098039215686274,\"rgb(97,30,82)\"],[0.3137254901960784,\"rgb(123,30,89)\"],[0.3764705882352941,\"rgb(150,27,91)\"],[0.4392156862745098,\"rgb(177,22,88)\"],[0.5019607843137255,\"rgb(203,26,79)\"],[0.5647058823529412,\"rgb(223,47,67)\"],[0.6274509803921569,\"rgb(236,76,61)\"],[0.6901960784313725,\"rgb(242,107,73)\"],[0.7529411764705882,\"rgb(244,135,95)\"],[0.8156862745098039,\"rgb(245,162,122)\"],[0.8784313725490196,\"rgb(246,188,153)\"],[0.9411764705882353,\"rgb(247,212,187)\"],[1.0,\"rgb(250,234,220)\"]]},\"colorway\":[\"rgb(76,114,176)\",\"rgb(221,132,82)\",\"rgb(85,168,104)\",\"rgb(196,78,82)\",\"rgb(129,114,179)\",\"rgb(147,120,96)\",\"rgb(218,139,195)\",\"rgb(140,140,140)\",\"rgb(204,185,116)\",\"rgb(100,181,205)\"],\"font\":{\"color\":\"rgb(36,36,36)\"},\"geo\":{\"bgcolor\":\"white\",\"lakecolor\":\"white\",\"landcolor\":\"rgb(234,234,242)\",\"showlakes\":true,\"showland\":true,\"subunitcolor\":\"white\"},\"hoverlabel\":{\"align\":\"left\"},\"hovermode\":\"closest\",\"paper_bgcolor\":\"white\",\"plot_bgcolor\":\"rgb(234,234,242)\",\"polar\":{\"angularaxis\":{\"gridcolor\":\"white\",\"linecolor\":\"white\",\"showgrid\":true,\"ticks\":\"\"},\"bgcolor\":\"rgb(234,234,242)\",\"radialaxis\":{\"gridcolor\":\"white\",\"linecolor\":\"white\",\"showgrid\":true,\"ticks\":\"\"}},\"scene\":{\"xaxis\":{\"backgroundcolor\":\"rgb(234,234,242)\",\"gridcolor\":\"white\",\"gridwidth\":2,\"linecolor\":\"white\",\"showbackground\":true,\"showgrid\":true,\"ticks\":\"\",\"zerolinecolor\":\"white\"},\"yaxis\":{\"backgroundcolor\":\"rgb(234,234,242)\",\"gridcolor\":\"white\",\"gridwidth\":2,\"linecolor\":\"white\",\"showbackground\":true,\"showgrid\":true,\"ticks\":\"\",\"zerolinecolor\":\"white\"},\"zaxis\":{\"backgroundcolor\":\"rgb(234,234,242)\",\"gridcolor\":\"white\",\"gridwidth\":2,\"linecolor\":\"white\",\"showbackground\":true,\"showgrid\":true,\"ticks\":\"\",\"zerolinecolor\":\"white\"}},\"shapedefaults\":{\"fillcolor\":\"rgb(67,103,167)\",\"line\":{\"width\":0},\"opacity\":0.5},\"ternary\":{\"aaxis\":{\"gridcolor\":\"white\",\"linecolor\":\"white\",\"showgrid\":true,\"ticks\":\"\"},\"baxis\":{\"gridcolor\":\"white\",\"linecolor\":\"white\",\"showgrid\":true,\"ticks\":\"\"},\"bgcolor\":\"rgb(234,234,242)\",\"caxis\":{\"gridcolor\":\"white\",\"linecolor\":\"white\",\"showgrid\":true,\"ticks\":\"\"}},\"xaxis\":{\"automargin\":true,\"gridcolor\":\"white\",\"linecolor\":\"white\",\"showgrid\":true,\"ticks\":\"\",\"title\":{\"standoff\":15},\"zerolinecolor\":\"white\"},\"yaxis\":{\"automargin\":true,\"gridcolor\":\"white\",\"linecolor\":\"white\",\"showgrid\":true,\"ticks\":\"\",\"title\":{\"standoff\":15},\"zerolinecolor\":\"white\"}}},\"xaxis\":{\"anchor\":\"y\",\"domain\":[0.0,0.49],\"title\":{\"text\":\"Treatment duration (days)\"}},\"xaxis2\":{\"anchor\":\"y2\",\"domain\":[0.51,1.0],\"matches\":\"x\",\"title\":{\"text\":\"Treatment duration (days)\"}},\"yaxis\":{\"anchor\":\"x\",\"domain\":[0.0,1.0],\"title\":{\"text\":\"Patients (count)\"}},\"yaxis2\":{\"anchor\":\"x2\",\"domain\":[0.0,1.0],\"matches\":\"y\",\"showticklabels\":false}},                        {\"responsive\": true}                    ).then(function(){\n                            \nvar gd = document.getElementById('6633fb26-d90d-4666-bda0-4b8e3800edc3');\nvar x = new MutationObserver(function (mutations, observer) {{\n        var display = window.getComputedStyle(gd).display;\n        if (!display || display === 'none') {{\n            console.log([gd, 'removed!']);\n            Plotly.purge(gd);\n            observer.disconnect();\n        }}\n}});\n\n// Listen for the removal of the full notebook cells\nvar notebookContainer = gd.closest('#notebook-container');\nif (notebookContainer) {{\n    x.observe(notebookContainer, {childList: true});\n}}\n\n// Listen for the clearing of the current output cell\nvar outputEl = gd.closest('.output');\nif (outputEl) {{\n    x.observe(outputEl, {childList: true});\n}}\n\n                        })                };                            </script>        </div>\n</body>\n</html>"
     },
     "metadata": {},
     "output_type": "display_data"
    }
   ],
   "execution_count": null
  },
  {
   "cell_type": "code",
   "metadata": {
    "cell_id": "00040-a159565c-b003-4df3-93c0-a7c7837fe18d",
    "deepnote_app_coordinates": {
     "h": 5,
     "w": 12,
     "x": 0,
     "y": 0
    },
    "deepnote_app_is_code_hidden": true,
    "deepnote_to_be_reexecuted": false,
    "execution_millis": 83,
    "execution_start": 1633022315713,
    "source_hash": "a6faafb3",
    "tags": [],
    "deepnote_cell_type": "code"
   },
   "source": "px.scatter(patients, x='age_at_treatment_start_in_years', \n           y='survival_in_days', color='death_event_observed',\n           labels=patients_labels) \\\n    .update_layout(legend=top_h_legend)",
   "outputs": [
    {
     "data": {
      "text/html": "<html>\n<head><meta charset=\"utf-8\" /></head>\n<body>\n    <div>            <script src=\"https://cdnjs.cloudflare.com/ajax/libs/mathjax/2.7.5/MathJax.js?config=TeX-AMS-MML_SVG\"></script><script type=\"text/javascript\">if (window.MathJax) {MathJax.Hub.Config({SVG: {font: \"STIX-Web\"}});}</script>                <script type=\"text/javascript\">window.PlotlyConfig = {MathJaxConfig: 'local'};</script>\n        <script src=\"https://cdn.plot.ly/plotly-2.4.2.min.js\"></script>                <div id=\"9de862e1-a923-4bef-9fac-92198b593973\" class=\"plotly-graph-div\" style=\"height:525px; width:100%;\"></div>            <script type=\"text/javascript\">                                    window.PLOTLYENV=window.PLOTLYENV || {};                                    if (document.getElementById(\"9de862e1-a923-4bef-9fac-92198b593973\")) {                    Plotly.newPlot(                        \"9de862e1-a923-4bef-9fac-92198b593973\",                        [{\"hovertemplate\":\"Death observed=False<br>Age (treatment start, years)=%{x}<br>Survival time (days)=%{y}<extra></extra>\",\"legendgroup\":\"False\",\"marker\":{\"color\":\"rgb(76,114,176)\",\"symbol\":\"circle\"},\"mode\":\"markers\",\"name\":\"False\",\"orientation\":\"v\",\"showlegend\":true,\"type\":\"scatter\",\"x\":[64,80,55,52,76,80,49,65,81,82,57,45,61,66,76,76,76,69,42,74,49,73,30,65,76,52,60,49,42,57,59,77,45,80,27,64,77,70,55,58,71,77,77,58,41,68,54,87,80,61,77,62,68,68,90,73,56,65,80,77,75,58,63,54,62,81,68,77,51,71,78],\"xaxis\":\"x\",\"y\":[768,1312,1145,707,980,1135,505,1745,245,2098,1116,634,476,1160,1549,438,1021,1926,971,925,1112,587,1189,1703,2419,858,1993,2066,420,1238,504,1617,1420,1368,1447,683,319,424,1014,74,929,605,416,824,700,351,469,479,655,487,526,1577,1814,1791,973,455,1212,1024,2444,1414,944,1910,1198,972,650,909,231,1343,1619,1690,395],\"yaxis\":\"y\"},{\"hovertemplate\":\"Death observed=True<br>Age (treatment start, years)=%{x}<br>Survival time (days)=%{y}<extra></extra>\",\"legendgroup\":\"True\",\"marker\":{\"color\":\"rgb(221,132,82)\",\"symbol\":\"circle\"},\"mode\":\"markers\",\"name\":\"True\",\"orientation\":\"v\",\"showlegend\":true,\"type\":\"scatter\",\"x\":[68,36,82,67,54,73,33,68,60,79,82,70,47,76,64,63,90,76,73,52,76,54,75,66,66,88,34,80,65,55,73,59,39,66,61,43,72,70,83,73,84,43,41,74,74,84,59,56,68,75,77,72,77,79,77,70,71,88],\"xaxis\":\"x\",\"y\":[639,744,340,22,953,2101,367,1338,455,437,1072,154,419,1359,457,961,213,714,594,498,115,1492,26,1428,90,208,559,65,782,77,341,441,266,997,284,617,378,100,252,63,242,337,498,97,248,1057,354,894,114,1029,645,370,1355,1142,483,343,192,747],\"yaxis\":\"y\"}],                        {\"legend\":{\"orientation\":\"h\",\"title\":{\"text\":\"Death observed\"},\"tracegroupgap\":0,\"y\":1.02,\"yanchor\":\"bottom\"},\"margin\":{\"t\":60},\"template\":{\"data\":{\"bar\":[{\"error_x\":{\"color\":\"rgb(36,36,36)\"},\"error_y\":{\"color\":\"rgb(36,36,36)\"},\"marker\":{\"line\":{\"color\":\"rgb(234,234,242)\",\"width\":0.5},\"pattern\":{\"fillmode\":\"overlay\",\"size\":10,\"solidity\":0.2}},\"type\":\"bar\"}],\"barpolar\":[{\"marker\":{\"line\":{\"color\":\"rgb(234,234,242)\",\"width\":0.5},\"pattern\":{\"fillmode\":\"overlay\",\"size\":10,\"solidity\":0.2}},\"type\":\"barpolar\"}],\"carpet\":[{\"aaxis\":{\"endlinecolor\":\"rgb(36,36,36)\",\"gridcolor\":\"white\",\"linecolor\":\"white\",\"minorgridcolor\":\"white\",\"startlinecolor\":\"rgb(36,36,36)\"},\"baxis\":{\"endlinecolor\":\"rgb(36,36,36)\",\"gridcolor\":\"white\",\"linecolor\":\"white\",\"minorgridcolor\":\"white\",\"startlinecolor\":\"rgb(36,36,36)\"},\"type\":\"carpet\"}],\"choropleth\":[{\"colorbar\":{\"outlinewidth\":0,\"tickcolor\":\"rgb(36,36,36)\",\"ticklen\":8,\"ticks\":\"outside\",\"tickwidth\":2},\"type\":\"choropleth\"}],\"contour\":[{\"colorbar\":{\"outlinewidth\":0,\"tickcolor\":\"rgb(36,36,36)\",\"ticklen\":8,\"ticks\":\"outside\",\"tickwidth\":2},\"colorscale\":[[0.0,\"rgb(2,4,25)\"],[0.06274509803921569,\"rgb(24,15,41)\"],[0.12549019607843137,\"rgb(47,23,57)\"],[0.18823529411764706,\"rgb(71,28,72)\"],[0.25098039215686274,\"rgb(97,30,82)\"],[0.3137254901960784,\"rgb(123,30,89)\"],[0.3764705882352941,\"rgb(150,27,91)\"],[0.4392156862745098,\"rgb(177,22,88)\"],[0.5019607843137255,\"rgb(203,26,79)\"],[0.5647058823529412,\"rgb(223,47,67)\"],[0.6274509803921569,\"rgb(236,76,61)\"],[0.6901960784313725,\"rgb(242,107,73)\"],[0.7529411764705882,\"rgb(244,135,95)\"],[0.8156862745098039,\"rgb(245,162,122)\"],[0.8784313725490196,\"rgb(246,188,153)\"],[0.9411764705882353,\"rgb(247,212,187)\"],[1.0,\"rgb(250,234,220)\"]],\"type\":\"contour\"}],\"contourcarpet\":[{\"colorbar\":{\"outlinewidth\":0,\"tickcolor\":\"rgb(36,36,36)\",\"ticklen\":8,\"ticks\":\"outside\",\"tickwidth\":2},\"type\":\"contourcarpet\"}],\"heatmap\":[{\"colorbar\":{\"outlinewidth\":0,\"tickcolor\":\"rgb(36,36,36)\",\"ticklen\":8,\"ticks\":\"outside\",\"tickwidth\":2},\"colorscale\":[[0.0,\"rgb(2,4,25)\"],[0.06274509803921569,\"rgb(24,15,41)\"],[0.12549019607843137,\"rgb(47,23,57)\"],[0.18823529411764706,\"rgb(71,28,72)\"],[0.25098039215686274,\"rgb(97,30,82)\"],[0.3137254901960784,\"rgb(123,30,89)\"],[0.3764705882352941,\"rgb(150,27,91)\"],[0.4392156862745098,\"rgb(177,22,88)\"],[0.5019607843137255,\"rgb(203,26,79)\"],[0.5647058823529412,\"rgb(223,47,67)\"],[0.6274509803921569,\"rgb(236,76,61)\"],[0.6901960784313725,\"rgb(242,107,73)\"],[0.7529411764705882,\"rgb(244,135,95)\"],[0.8156862745098039,\"rgb(245,162,122)\"],[0.8784313725490196,\"rgb(246,188,153)\"],[0.9411764705882353,\"rgb(247,212,187)\"],[1.0,\"rgb(250,234,220)\"]],\"type\":\"heatmap\"}],\"heatmapgl\":[{\"colorbar\":{\"outlinewidth\":0,\"tickcolor\":\"rgb(36,36,36)\",\"ticklen\":8,\"ticks\":\"outside\",\"tickwidth\":2},\"colorscale\":[[0.0,\"rgb(2,4,25)\"],[0.06274509803921569,\"rgb(24,15,41)\"],[0.12549019607843137,\"rgb(47,23,57)\"],[0.18823529411764706,\"rgb(71,28,72)\"],[0.25098039215686274,\"rgb(97,30,82)\"],[0.3137254901960784,\"rgb(123,30,89)\"],[0.3764705882352941,\"rgb(150,27,91)\"],[0.4392156862745098,\"rgb(177,22,88)\"],[0.5019607843137255,\"rgb(203,26,79)\"],[0.5647058823529412,\"rgb(223,47,67)\"],[0.6274509803921569,\"rgb(236,76,61)\"],[0.6901960784313725,\"rgb(242,107,73)\"],[0.7529411764705882,\"rgb(244,135,95)\"],[0.8156862745098039,\"rgb(245,162,122)\"],[0.8784313725490196,\"rgb(246,188,153)\"],[0.9411764705882353,\"rgb(247,212,187)\"],[1.0,\"rgb(250,234,220)\"]],\"type\":\"heatmapgl\"}],\"histogram\":[{\"marker\":{\"pattern\":{\"fillmode\":\"overlay\",\"size\":10,\"solidity\":0.2}},\"type\":\"histogram\"}],\"histogram2d\":[{\"colorbar\":{\"outlinewidth\":0,\"tickcolor\":\"rgb(36,36,36)\",\"ticklen\":8,\"ticks\":\"outside\",\"tickwidth\":2},\"colorscale\":[[0.0,\"rgb(2,4,25)\"],[0.06274509803921569,\"rgb(24,15,41)\"],[0.12549019607843137,\"rgb(47,23,57)\"],[0.18823529411764706,\"rgb(71,28,72)\"],[0.25098039215686274,\"rgb(97,30,82)\"],[0.3137254901960784,\"rgb(123,30,89)\"],[0.3764705882352941,\"rgb(150,27,91)\"],[0.4392156862745098,\"rgb(177,22,88)\"],[0.5019607843137255,\"rgb(203,26,79)\"],[0.5647058823529412,\"rgb(223,47,67)\"],[0.6274509803921569,\"rgb(236,76,61)\"],[0.6901960784313725,\"rgb(242,107,73)\"],[0.7529411764705882,\"rgb(244,135,95)\"],[0.8156862745098039,\"rgb(245,162,122)\"],[0.8784313725490196,\"rgb(246,188,153)\"],[0.9411764705882353,\"rgb(247,212,187)\"],[1.0,\"rgb(250,234,220)\"]],\"type\":\"histogram2d\"}],\"histogram2dcontour\":[{\"colorbar\":{\"outlinewidth\":0,\"tickcolor\":\"rgb(36,36,36)\",\"ticklen\":8,\"ticks\":\"outside\",\"tickwidth\":2},\"colorscale\":[[0.0,\"rgb(2,4,25)\"],[0.06274509803921569,\"rgb(24,15,41)\"],[0.12549019607843137,\"rgb(47,23,57)\"],[0.18823529411764706,\"rgb(71,28,72)\"],[0.25098039215686274,\"rgb(97,30,82)\"],[0.3137254901960784,\"rgb(123,30,89)\"],[0.3764705882352941,\"rgb(150,27,91)\"],[0.4392156862745098,\"rgb(177,22,88)\"],[0.5019607843137255,\"rgb(203,26,79)\"],[0.5647058823529412,\"rgb(223,47,67)\"],[0.6274509803921569,\"rgb(236,76,61)\"],[0.6901960784313725,\"rgb(242,107,73)\"],[0.7529411764705882,\"rgb(244,135,95)\"],[0.8156862745098039,\"rgb(245,162,122)\"],[0.8784313725490196,\"rgb(246,188,153)\"],[0.9411764705882353,\"rgb(247,212,187)\"],[1.0,\"rgb(250,234,220)\"]],\"type\":\"histogram2dcontour\"}],\"mesh3d\":[{\"colorbar\":{\"outlinewidth\":0,\"tickcolor\":\"rgb(36,36,36)\",\"ticklen\":8,\"ticks\":\"outside\",\"tickwidth\":2},\"type\":\"mesh3d\"}],\"parcoords\":[{\"line\":{\"colorbar\":{\"outlinewidth\":0,\"tickcolor\":\"rgb(36,36,36)\",\"ticklen\":8,\"ticks\":\"outside\",\"tickwidth\":2}},\"type\":\"parcoords\"}],\"pie\":[{\"automargin\":true,\"type\":\"pie\"}],\"scatter\":[{\"marker\":{\"colorbar\":{\"outlinewidth\":0,\"tickcolor\":\"rgb(36,36,36)\",\"ticklen\":8,\"ticks\":\"outside\",\"tickwidth\":2}},\"type\":\"scatter\"}],\"scatter3d\":[{\"line\":{\"colorbar\":{\"outlinewidth\":0,\"tickcolor\":\"rgb(36,36,36)\",\"ticklen\":8,\"ticks\":\"outside\",\"tickwidth\":2}},\"marker\":{\"colorbar\":{\"outlinewidth\":0,\"tickcolor\":\"rgb(36,36,36)\",\"ticklen\":8,\"ticks\":\"outside\",\"tickwidth\":2}},\"type\":\"scatter3d\"}],\"scattercarpet\":[{\"marker\":{\"colorbar\":{\"outlinewidth\":0,\"tickcolor\":\"rgb(36,36,36)\",\"ticklen\":8,\"ticks\":\"outside\",\"tickwidth\":2}},\"type\":\"scattercarpet\"}],\"scattergeo\":[{\"marker\":{\"colorbar\":{\"outlinewidth\":0,\"tickcolor\":\"rgb(36,36,36)\",\"ticklen\":8,\"ticks\":\"outside\",\"tickwidth\":2}},\"type\":\"scattergeo\"}],\"scattergl\":[{\"marker\":{\"colorbar\":{\"outlinewidth\":0,\"tickcolor\":\"rgb(36,36,36)\",\"ticklen\":8,\"ticks\":\"outside\",\"tickwidth\":2}},\"type\":\"scattergl\"}],\"scattermapbox\":[{\"marker\":{\"colorbar\":{\"outlinewidth\":0,\"tickcolor\":\"rgb(36,36,36)\",\"ticklen\":8,\"ticks\":\"outside\",\"tickwidth\":2}},\"type\":\"scattermapbox\"}],\"scatterpolar\":[{\"marker\":{\"colorbar\":{\"outlinewidth\":0,\"tickcolor\":\"rgb(36,36,36)\",\"ticklen\":8,\"ticks\":\"outside\",\"tickwidth\":2}},\"type\":\"scatterpolar\"}],\"scatterpolargl\":[{\"marker\":{\"colorbar\":{\"outlinewidth\":0,\"tickcolor\":\"rgb(36,36,36)\",\"ticklen\":8,\"ticks\":\"outside\",\"tickwidth\":2}},\"type\":\"scatterpolargl\"}],\"scatterternary\":[{\"marker\":{\"colorbar\":{\"outlinewidth\":0,\"tickcolor\":\"rgb(36,36,36)\",\"ticklen\":8,\"ticks\":\"outside\",\"tickwidth\":2}},\"type\":\"scatterternary\"}],\"surface\":[{\"colorbar\":{\"outlinewidth\":0,\"tickcolor\":\"rgb(36,36,36)\",\"ticklen\":8,\"ticks\":\"outside\",\"tickwidth\":2},\"colorscale\":[[0.0,\"rgb(2,4,25)\"],[0.06274509803921569,\"rgb(24,15,41)\"],[0.12549019607843137,\"rgb(47,23,57)\"],[0.18823529411764706,\"rgb(71,28,72)\"],[0.25098039215686274,\"rgb(97,30,82)\"],[0.3137254901960784,\"rgb(123,30,89)\"],[0.3764705882352941,\"rgb(150,27,91)\"],[0.4392156862745098,\"rgb(177,22,88)\"],[0.5019607843137255,\"rgb(203,26,79)\"],[0.5647058823529412,\"rgb(223,47,67)\"],[0.6274509803921569,\"rgb(236,76,61)\"],[0.6901960784313725,\"rgb(242,107,73)\"],[0.7529411764705882,\"rgb(244,135,95)\"],[0.8156862745098039,\"rgb(245,162,122)\"],[0.8784313725490196,\"rgb(246,188,153)\"],[0.9411764705882353,\"rgb(247,212,187)\"],[1.0,\"rgb(250,234,220)\"]],\"type\":\"surface\"}],\"table\":[{\"cells\":{\"fill\":{\"color\":\"rgb(231,231,240)\"},\"line\":{\"color\":\"white\"}},\"header\":{\"fill\":{\"color\":\"rgb(183,183,191)\"},\"line\":{\"color\":\"white\"}},\"type\":\"table\"}]},\"layout\":{\"annotationdefaults\":{\"arrowcolor\":\"rgb(67,103,167)\"},\"autotypenumbers\":\"strict\",\"coloraxis\":{\"colorbar\":{\"outlinewidth\":0,\"tickcolor\":\"rgb(36,36,36)\",\"ticklen\":8,\"ticks\":\"outside\",\"tickwidth\":2}},\"colorscale\":{\"sequential\":[[0.0,\"rgb(2,4,25)\"],[0.06274509803921569,\"rgb(24,15,41)\"],[0.12549019607843137,\"rgb(47,23,57)\"],[0.18823529411764706,\"rgb(71,28,72)\"],[0.25098039215686274,\"rgb(97,30,82)\"],[0.3137254901960784,\"rgb(123,30,89)\"],[0.3764705882352941,\"rgb(150,27,91)\"],[0.4392156862745098,\"rgb(177,22,88)\"],[0.5019607843137255,\"rgb(203,26,79)\"],[0.5647058823529412,\"rgb(223,47,67)\"],[0.6274509803921569,\"rgb(236,76,61)\"],[0.6901960784313725,\"rgb(242,107,73)\"],[0.7529411764705882,\"rgb(244,135,95)\"],[0.8156862745098039,\"rgb(245,162,122)\"],[0.8784313725490196,\"rgb(246,188,153)\"],[0.9411764705882353,\"rgb(247,212,187)\"],[1.0,\"rgb(250,234,220)\"]],\"sequentialminus\":[[0.0,\"rgb(2,4,25)\"],[0.06274509803921569,\"rgb(24,15,41)\"],[0.12549019607843137,\"rgb(47,23,57)\"],[0.18823529411764706,\"rgb(71,28,72)\"],[0.25098039215686274,\"rgb(97,30,82)\"],[0.3137254901960784,\"rgb(123,30,89)\"],[0.3764705882352941,\"rgb(150,27,91)\"],[0.4392156862745098,\"rgb(177,22,88)\"],[0.5019607843137255,\"rgb(203,26,79)\"],[0.5647058823529412,\"rgb(223,47,67)\"],[0.6274509803921569,\"rgb(236,76,61)\"],[0.6901960784313725,\"rgb(242,107,73)\"],[0.7529411764705882,\"rgb(244,135,95)\"],[0.8156862745098039,\"rgb(245,162,122)\"],[0.8784313725490196,\"rgb(246,188,153)\"],[0.9411764705882353,\"rgb(247,212,187)\"],[1.0,\"rgb(250,234,220)\"]]},\"colorway\":[\"rgb(76,114,176)\",\"rgb(221,132,82)\",\"rgb(85,168,104)\",\"rgb(196,78,82)\",\"rgb(129,114,179)\",\"rgb(147,120,96)\",\"rgb(218,139,195)\",\"rgb(140,140,140)\",\"rgb(204,185,116)\",\"rgb(100,181,205)\"],\"font\":{\"color\":\"rgb(36,36,36)\"},\"geo\":{\"bgcolor\":\"white\",\"lakecolor\":\"white\",\"landcolor\":\"rgb(234,234,242)\",\"showlakes\":true,\"showland\":true,\"subunitcolor\":\"white\"},\"hoverlabel\":{\"align\":\"left\"},\"hovermode\":\"closest\",\"paper_bgcolor\":\"white\",\"plot_bgcolor\":\"rgb(234,234,242)\",\"polar\":{\"angularaxis\":{\"gridcolor\":\"white\",\"linecolor\":\"white\",\"showgrid\":true,\"ticks\":\"\"},\"bgcolor\":\"rgb(234,234,242)\",\"radialaxis\":{\"gridcolor\":\"white\",\"linecolor\":\"white\",\"showgrid\":true,\"ticks\":\"\"}},\"scene\":{\"xaxis\":{\"backgroundcolor\":\"rgb(234,234,242)\",\"gridcolor\":\"white\",\"gridwidth\":2,\"linecolor\":\"white\",\"showbackground\":true,\"showgrid\":true,\"ticks\":\"\",\"zerolinecolor\":\"white\"},\"yaxis\":{\"backgroundcolor\":\"rgb(234,234,242)\",\"gridcolor\":\"white\",\"gridwidth\":2,\"linecolor\":\"white\",\"showbackground\":true,\"showgrid\":true,\"ticks\":\"\",\"zerolinecolor\":\"white\"},\"zaxis\":{\"backgroundcolor\":\"rgb(234,234,242)\",\"gridcolor\":\"white\",\"gridwidth\":2,\"linecolor\":\"white\",\"showbackground\":true,\"showgrid\":true,\"ticks\":\"\",\"zerolinecolor\":\"white\"}},\"shapedefaults\":{\"fillcolor\":\"rgb(67,103,167)\",\"line\":{\"width\":0},\"opacity\":0.5},\"ternary\":{\"aaxis\":{\"gridcolor\":\"white\",\"linecolor\":\"white\",\"showgrid\":true,\"ticks\":\"\"},\"baxis\":{\"gridcolor\":\"white\",\"linecolor\":\"white\",\"showgrid\":true,\"ticks\":\"\"},\"bgcolor\":\"rgb(234,234,242)\",\"caxis\":{\"gridcolor\":\"white\",\"linecolor\":\"white\",\"showgrid\":true,\"ticks\":\"\"}},\"xaxis\":{\"automargin\":true,\"gridcolor\":\"white\",\"linecolor\":\"white\",\"showgrid\":true,\"ticks\":\"\",\"title\":{\"standoff\":15},\"zerolinecolor\":\"white\"},\"yaxis\":{\"automargin\":true,\"gridcolor\":\"white\",\"linecolor\":\"white\",\"showgrid\":true,\"ticks\":\"\",\"title\":{\"standoff\":15},\"zerolinecolor\":\"white\"}}},\"xaxis\":{\"anchor\":\"y\",\"domain\":[0.0,1.0],\"title\":{\"text\":\"Age (treatment start, years)\"}},\"yaxis\":{\"anchor\":\"x\",\"domain\":[0.0,1.0],\"title\":{\"text\":\"Survival time (days)\"}}},                        {\"responsive\": true}                    ).then(function(){\n                            \nvar gd = document.getElementById('9de862e1-a923-4bef-9fac-92198b593973');\nvar x = new MutationObserver(function (mutations, observer) {{\n        var display = window.getComputedStyle(gd).display;\n        if (!display || display === 'none') {{\n            console.log([gd, 'removed!']);\n            Plotly.purge(gd);\n            observer.disconnect();\n        }}\n}});\n\n// Listen for the removal of the full notebook cells\nvar notebookContainer = gd.closest('#notebook-container');\nif (notebookContainer) {{\n    x.observe(notebookContainer, {childList: true});\n}}\n\n// Listen for the clearing of the current output cell\nvar outputEl = gd.closest('.output');\nif (outputEl) {{\n    x.observe(outputEl, {childList: true});\n}}\n\n                        })                };                            </script>        </div>\n</body>\n</html>"
     },
     "metadata": {},
     "output_type": "display_data"
    }
   ],
   "execution_count": null
  },
  {
   "cell_type": "code",
   "metadata": {
    "cell_id": "00041-b4c901f1-e11f-4292-b497-a5977ad0a1ac",
    "deepnote_app_is_code_hidden": false,
    "deepnote_to_be_reexecuted": false,
    "execution_millis": 4624,
    "execution_start": 1633022860563,
    "is_output_hidden": true,
    "source_hash": "5f04cc56",
    "tags": [],
    "deepnote_cell_type": "code"
   },
   "source": "!pip install scikit-survival\nfrom sksurv.nonparametric import kaplan_meier_estimator\n\n# Kaplan-Meier\ntime, s_prob = kaplan_meier_estimator(patients.death_event_observed, patients.survival_in_days)\nkm_df = pd.DataFrame(np.array([time, s_prob]).T, columns=['time', 'survival_probability'])",
   "outputs": [
    {
     "name": "stdout",
     "text": "Collecting scikit-survival\n  Downloading scikit-survival-0.15.0.post0.tar.gz (2.4 MB)\n\u001b[K     |████████████████████████████████| 2.4 MB 18.8 MB/s \n\u001b[?25h  Installing build dependencies ... \u001b[?25ldone\n\u001b[?25h  Getting requirements to build wheel ... \u001b[?25ldone\n\u001b[?25h    Preparing wheel metadata ... \u001b[?25ldone\n\u001b[?25hRequirement already satisfied: joblib in /shared-libs/python3.7/py/lib/python3.7/site-packages (from scikit-survival) (1.0.1)\nRequirement already satisfied: scipy!=1.3.0,>=1.0 in /shared-libs/python3.7/py/lib/python3.7/site-packages (from scikit-survival) (1.7.1)\nCollecting ecos\n  Downloading ecos-2.0.7.post1-cp37-cp37m-manylinux1_x86_64.whl (147 kB)\n\u001b[K     |████████████████████████████████| 147 kB 40.0 MB/s \n\u001b[?25hCollecting numexpr\n  Downloading numexpr-2.7.3-cp37-cp37m-manylinux2010_x86_64.whl (471 kB)\n\u001b[K     |████████████████████████████████| 471 kB 49.5 MB/s \n\u001b[?25hRequirement already satisfied: scikit-learn<0.25,>=0.24.0 in /shared-libs/python3.7/py/lib/python3.7/site-packages (from scikit-survival) (0.24.2)\nRequirement already satisfied: pandas>=0.25 in /shared-libs/python3.7/py/lib/python3.7/site-packages (from scikit-survival) (1.2.5)\nCollecting osqp!=0.6.0,!=0.6.1\n  Downloading osqp-0.6.2.post0-cp37-cp37m-manylinux2014_x86_64.whl (212 kB)\n\u001b[K     |████████████████████████████████| 212 kB 37.7 MB/s \n\u001b[?25hRequirement already satisfied: numpy in /shared-libs/python3.7/py/lib/python3.7/site-packages (from scikit-survival) (1.19.5)\nCollecting qdldl\n  Downloading qdldl-0.1.5.post0-cp37-cp37m-manylinux2014_x86_64.whl (941 kB)\n\u001b[K     |████████████████████████████████| 941 kB 46.3 MB/s \n\u001b[?25hRequirement already satisfied: pytz>=2017.3 in /shared-libs/python3.7/py/lib/python3.7/site-packages (from pandas>=0.25->scikit-survival) (2021.1)\nRequirement already satisfied: python-dateutil>=2.7.3 in /shared-libs/python3.7/py-core/lib/python3.7/site-packages (from pandas>=0.25->scikit-survival) (2.8.2)\nRequirement already satisfied: six>=1.5 in /shared-libs/python3.7/py-core/lib/python3.7/site-packages (from python-dateutil>=2.7.3->pandas>=0.25->scikit-survival) (1.16.0)\nRequirement already satisfied: threadpoolctl>=2.0.0 in /shared-libs/python3.7/py/lib/python3.7/site-packages (from scikit-learn<0.25,>=0.24.0->scikit-survival) (2.2.0)\nBuilding wheels for collected packages: scikit-survival\n  Building wheel for scikit-survival (PEP 517) ... \u001b[?25ldone\n\u001b[?25h  Created wheel for scikit-survival: filename=scikit_survival-0.15.0.post0-cp37-cp37m-linux_x86_64.whl size=2560979 sha256=bbcfac7452de058ba554cd85be089fc6eb0d4050dfbcfc605b2e2fe87a56c570\n  Stored in directory: /root/.cache/pip/wheels/18/8d/37/1c15bd2cfef9e7c5c81f3742b66f6656d99d29c104a10a8b68\nSuccessfully built scikit-survival\nInstalling collected packages: qdldl, osqp, numexpr, ecos, scikit-survival\nSuccessfully installed ecos-2.0.7.post1 numexpr-2.7.3 osqp-0.6.2.post0 qdldl-0.1.5.post0 scikit-survival-0.15.0.post0\n",
     "output_type": "stream"
    }
   ],
   "execution_count": null
  },
  {
   "cell_type": "code",
   "metadata": {
    "cell_id": "00042-8b55dfb5-6ab4-4dd0-bf95-ddf70458c38d",
    "deepnote_app_coordinates": {
     "h": 5,
     "w": 12,
     "x": 0,
     "y": 0
    },
    "deepnote_app_is_code_hidden": true,
    "deepnote_to_be_reexecuted": false,
    "execution_millis": 63,
    "execution_start": 1633022876905,
    "source_hash": "ecb1676b",
    "tags": [],
    "deepnote_cell_type": "code"
   },
   "source": "px.line(km_df, x='time', y='survival_probability', line_shape='hv',\n        labels=patients_labels)",
   "outputs": [
    {
     "data": {
      "text/html": "<html>\n<head><meta charset=\"utf-8\" /></head>\n<body>\n    <div>            <script src=\"https://cdnjs.cloudflare.com/ajax/libs/mathjax/2.7.5/MathJax.js?config=TeX-AMS-MML_SVG\"></script><script type=\"text/javascript\">if (window.MathJax) {MathJax.Hub.Config({SVG: {font: \"STIX-Web\"}});}</script>                <script type=\"text/javascript\">window.PlotlyConfig = {MathJaxConfig: 'local'};</script>\n        <script src=\"https://cdn.plot.ly/plotly-2.4.2.min.js\"></script>                <div id=\"1bd452b2-48df-4204-921e-c798296c3e41\" class=\"plotly-graph-div\" style=\"height:525px; width:100%;\"></div>            <script type=\"text/javascript\">                                    window.PLOTLYENV=window.PLOTLYENV || {};                                    if (document.getElementById(\"1bd452b2-48df-4204-921e-c798296c3e41\")) {                    Plotly.newPlot(                        \"1bd452b2-48df-4204-921e-c798296c3e41\",                        [{\"hovertemplate\":\"Time (days)=%{x}<br>Survival probability=%{y}<extra></extra>\",\"legendgroup\":\"\",\"line\":{\"color\":\"rgb(76,114,176)\",\"dash\":\"solid\",\"shape\":\"hv\"},\"marker\":{\"symbol\":\"circle\"},\"mode\":\"lines\",\"name\":\"\",\"orientation\":\"v\",\"showlegend\":false,\"type\":\"scatter\",\"x\":[22.0,26.0,63.0,65.0,74.0,77.0,90.0,97.0,100.0,114.0,115.0,154.0,192.0,208.0,213.0,231.0,242.0,245.0,248.0,252.0,266.0,284.0,319.0,337.0,340.0,341.0,343.0,351.0,354.0,367.0,370.0,378.0,395.0,416.0,419.0,420.0,424.0,437.0,438.0,441.0,455.0,457.0,469.0,476.0,479.0,483.0,487.0,498.0,504.0,505.0,526.0,559.0,587.0,594.0,605.0,617.0,634.0,639.0,645.0,650.0,655.0,683.0,700.0,707.0,714.0,744.0,747.0,768.0,782.0,824.0,858.0,894.0,909.0,925.0,929.0,944.0,953.0,961.0,971.0,972.0,973.0,980.0,997.0,1014.0,1021.0,1024.0,1029.0,1057.0,1072.0,1112.0,1116.0,1135.0,1142.0,1145.0,1160.0,1189.0,1198.0,1212.0,1238.0,1312.0,1338.0,1343.0,1355.0,1359.0,1368.0,1414.0,1420.0,1428.0,1447.0,1492.0,1549.0,1577.0,1617.0,1619.0,1690.0,1703.0,1745.0,1791.0,1814.0,1910.0,1926.0,1993.0,2066.0,2098.0,2101.0,2419.0,2444.0],\"xaxis\":\"x\",\"y\":[0.9922480620155039,0.9844961240310077,0.9767441860465116,0.9689922480620154,0.9689922480620154,0.9611777944486121,0.9533633408352087,0.9455488872218053,0.937734433608402,0.9299199799949988,0.9221055263815955,0.9142910727681921,0.9064766191547888,0.8986621655413856,0.8908477119279823,0.8908477119279823,0.8829641038578231,0.8829641038578231,0.8750094722915364,0.8670548407252497,0.8591002091589631,0.8511455775926764,0.8511455775926764,0.8431159023323681,0.8350862270720598,0.8270565518117515,0.8190268765514432,0.8190268765514432,0.8109176995558844,0.8028085225603256,0.7946993455647668,0.7865901685692079,0.7865901685692079,0.7865901685692079,0.7783102720579531,0.7783102720579531,0.7783102720579531,0.7698503777964536,0.7698503777964536,0.7612964847098264,0.7527425916231991,0.7440903779263808,0.7440903779263808,0.7440903779263808,0.7440903779263808,0.7351254336140147,0.7351254336140147,0.7169741883395946,0.7169741883395946,0.7169741883395946,0.7169741883395946,0.7075403174403894,0.7075403174403894,0.6979789617993031,0.6979789617993031,0.6882848095520906,0.6882848095520906,0.6784521694156322,0.6686195292791738,0.6686195292791738,0.6686195292791738,0.6686195292791738,0.6686195292791738,0.6686195292791738,0.6580065208779171,0.6473935124766604,0.6367805040754037,0.6367805040754037,0.6259876141758206,0.6259876141758206,0.6259876141758206,0.6148092639226809,0.6148092639226809,0.6148092639226809,0.6148092639226809,0.6148092639226809,0.6027541803163537,0.5906990967100266,0.5906990967100266,0.5906990967100266,0.5906990967100266,0.5906990967100266,0.5775724501164705,0.5775724501164705,0.5775724501164705,0.5775724501164705,0.5634853171868005,0.5493981842571305,0.5353110513274605,0.5353110513274605,0.5353110513274605,0.5353110513274605,0.5200164498609616,0.5200164498609616,0.5200164498609616,0.5200164498609616,0.5200164498609616,0.5200164498609616,0.5200164498609616,0.5200164498609616,0.5007565813475927,0.5007565813475927,0.480726318093689,0.4606960548397853,0.4606960548397853,0.4606960548397853,0.4606960548397853,0.43766125209779605,0.43766125209779605,0.41334673809236294,0.41334673809236294,0.41334673809236294,0.41334673809236294,0.41334673809236294,0.41334673809236294,0.41334673809236294,0.41334673809236294,0.41334673809236294,0.41334673809236294,0.41334673809236294,0.41334673809236294,0.41334673809236294,0.41334673809236294,0.41334673809236294,0.27556449206157535,0.27556449206157535,0.27556449206157535],\"yaxis\":\"y\"}],                        {\"legend\":{\"tracegroupgap\":0},\"margin\":{\"t\":60},\"template\":{\"data\":{\"bar\":[{\"error_x\":{\"color\":\"rgb(36,36,36)\"},\"error_y\":{\"color\":\"rgb(36,36,36)\"},\"marker\":{\"line\":{\"color\":\"rgb(234,234,242)\",\"width\":0.5},\"pattern\":{\"fillmode\":\"overlay\",\"size\":10,\"solidity\":0.2}},\"type\":\"bar\"}],\"barpolar\":[{\"marker\":{\"line\":{\"color\":\"rgb(234,234,242)\",\"width\":0.5},\"pattern\":{\"fillmode\":\"overlay\",\"size\":10,\"solidity\":0.2}},\"type\":\"barpolar\"}],\"carpet\":[{\"aaxis\":{\"endlinecolor\":\"rgb(36,36,36)\",\"gridcolor\":\"white\",\"linecolor\":\"white\",\"minorgridcolor\":\"white\",\"startlinecolor\":\"rgb(36,36,36)\"},\"baxis\":{\"endlinecolor\":\"rgb(36,36,36)\",\"gridcolor\":\"white\",\"linecolor\":\"white\",\"minorgridcolor\":\"white\",\"startlinecolor\":\"rgb(36,36,36)\"},\"type\":\"carpet\"}],\"choropleth\":[{\"colorbar\":{\"outlinewidth\":0,\"tickcolor\":\"rgb(36,36,36)\",\"ticklen\":8,\"ticks\":\"outside\",\"tickwidth\":2},\"type\":\"choropleth\"}],\"contour\":[{\"colorbar\":{\"outlinewidth\":0,\"tickcolor\":\"rgb(36,36,36)\",\"ticklen\":8,\"ticks\":\"outside\",\"tickwidth\":2},\"colorscale\":[[0.0,\"rgb(2,4,25)\"],[0.06274509803921569,\"rgb(24,15,41)\"],[0.12549019607843137,\"rgb(47,23,57)\"],[0.18823529411764706,\"rgb(71,28,72)\"],[0.25098039215686274,\"rgb(97,30,82)\"],[0.3137254901960784,\"rgb(123,30,89)\"],[0.3764705882352941,\"rgb(150,27,91)\"],[0.4392156862745098,\"rgb(177,22,88)\"],[0.5019607843137255,\"rgb(203,26,79)\"],[0.5647058823529412,\"rgb(223,47,67)\"],[0.6274509803921569,\"rgb(236,76,61)\"],[0.6901960784313725,\"rgb(242,107,73)\"],[0.7529411764705882,\"rgb(244,135,95)\"],[0.8156862745098039,\"rgb(245,162,122)\"],[0.8784313725490196,\"rgb(246,188,153)\"],[0.9411764705882353,\"rgb(247,212,187)\"],[1.0,\"rgb(250,234,220)\"]],\"type\":\"contour\"}],\"contourcarpet\":[{\"colorbar\":{\"outlinewidth\":0,\"tickcolor\":\"rgb(36,36,36)\",\"ticklen\":8,\"ticks\":\"outside\",\"tickwidth\":2},\"type\":\"contourcarpet\"}],\"heatmap\":[{\"colorbar\":{\"outlinewidth\":0,\"tickcolor\":\"rgb(36,36,36)\",\"ticklen\":8,\"ticks\":\"outside\",\"tickwidth\":2},\"colorscale\":[[0.0,\"rgb(2,4,25)\"],[0.06274509803921569,\"rgb(24,15,41)\"],[0.12549019607843137,\"rgb(47,23,57)\"],[0.18823529411764706,\"rgb(71,28,72)\"],[0.25098039215686274,\"rgb(97,30,82)\"],[0.3137254901960784,\"rgb(123,30,89)\"],[0.3764705882352941,\"rgb(150,27,91)\"],[0.4392156862745098,\"rgb(177,22,88)\"],[0.5019607843137255,\"rgb(203,26,79)\"],[0.5647058823529412,\"rgb(223,47,67)\"],[0.6274509803921569,\"rgb(236,76,61)\"],[0.6901960784313725,\"rgb(242,107,73)\"],[0.7529411764705882,\"rgb(244,135,95)\"],[0.8156862745098039,\"rgb(245,162,122)\"],[0.8784313725490196,\"rgb(246,188,153)\"],[0.9411764705882353,\"rgb(247,212,187)\"],[1.0,\"rgb(250,234,220)\"]],\"type\":\"heatmap\"}],\"heatmapgl\":[{\"colorbar\":{\"outlinewidth\":0,\"tickcolor\":\"rgb(36,36,36)\",\"ticklen\":8,\"ticks\":\"outside\",\"tickwidth\":2},\"colorscale\":[[0.0,\"rgb(2,4,25)\"],[0.06274509803921569,\"rgb(24,15,41)\"],[0.12549019607843137,\"rgb(47,23,57)\"],[0.18823529411764706,\"rgb(71,28,72)\"],[0.25098039215686274,\"rgb(97,30,82)\"],[0.3137254901960784,\"rgb(123,30,89)\"],[0.3764705882352941,\"rgb(150,27,91)\"],[0.4392156862745098,\"rgb(177,22,88)\"],[0.5019607843137255,\"rgb(203,26,79)\"],[0.5647058823529412,\"rgb(223,47,67)\"],[0.6274509803921569,\"rgb(236,76,61)\"],[0.6901960784313725,\"rgb(242,107,73)\"],[0.7529411764705882,\"rgb(244,135,95)\"],[0.8156862745098039,\"rgb(245,162,122)\"],[0.8784313725490196,\"rgb(246,188,153)\"],[0.9411764705882353,\"rgb(247,212,187)\"],[1.0,\"rgb(250,234,220)\"]],\"type\":\"heatmapgl\"}],\"histogram\":[{\"marker\":{\"pattern\":{\"fillmode\":\"overlay\",\"size\":10,\"solidity\":0.2}},\"type\":\"histogram\"}],\"histogram2d\":[{\"colorbar\":{\"outlinewidth\":0,\"tickcolor\":\"rgb(36,36,36)\",\"ticklen\":8,\"ticks\":\"outside\",\"tickwidth\":2},\"colorscale\":[[0.0,\"rgb(2,4,25)\"],[0.06274509803921569,\"rgb(24,15,41)\"],[0.12549019607843137,\"rgb(47,23,57)\"],[0.18823529411764706,\"rgb(71,28,72)\"],[0.25098039215686274,\"rgb(97,30,82)\"],[0.3137254901960784,\"rgb(123,30,89)\"],[0.3764705882352941,\"rgb(150,27,91)\"],[0.4392156862745098,\"rgb(177,22,88)\"],[0.5019607843137255,\"rgb(203,26,79)\"],[0.5647058823529412,\"rgb(223,47,67)\"],[0.6274509803921569,\"rgb(236,76,61)\"],[0.6901960784313725,\"rgb(242,107,73)\"],[0.7529411764705882,\"rgb(244,135,95)\"],[0.8156862745098039,\"rgb(245,162,122)\"],[0.8784313725490196,\"rgb(246,188,153)\"],[0.9411764705882353,\"rgb(247,212,187)\"],[1.0,\"rgb(250,234,220)\"]],\"type\":\"histogram2d\"}],\"histogram2dcontour\":[{\"colorbar\":{\"outlinewidth\":0,\"tickcolor\":\"rgb(36,36,36)\",\"ticklen\":8,\"ticks\":\"outside\",\"tickwidth\":2},\"colorscale\":[[0.0,\"rgb(2,4,25)\"],[0.06274509803921569,\"rgb(24,15,41)\"],[0.12549019607843137,\"rgb(47,23,57)\"],[0.18823529411764706,\"rgb(71,28,72)\"],[0.25098039215686274,\"rgb(97,30,82)\"],[0.3137254901960784,\"rgb(123,30,89)\"],[0.3764705882352941,\"rgb(150,27,91)\"],[0.4392156862745098,\"rgb(177,22,88)\"],[0.5019607843137255,\"rgb(203,26,79)\"],[0.5647058823529412,\"rgb(223,47,67)\"],[0.6274509803921569,\"rgb(236,76,61)\"],[0.6901960784313725,\"rgb(242,107,73)\"],[0.7529411764705882,\"rgb(244,135,95)\"],[0.8156862745098039,\"rgb(245,162,122)\"],[0.8784313725490196,\"rgb(246,188,153)\"],[0.9411764705882353,\"rgb(247,212,187)\"],[1.0,\"rgb(250,234,220)\"]],\"type\":\"histogram2dcontour\"}],\"mesh3d\":[{\"colorbar\":{\"outlinewidth\":0,\"tickcolor\":\"rgb(36,36,36)\",\"ticklen\":8,\"ticks\":\"outside\",\"tickwidth\":2},\"type\":\"mesh3d\"}],\"parcoords\":[{\"line\":{\"colorbar\":{\"outlinewidth\":0,\"tickcolor\":\"rgb(36,36,36)\",\"ticklen\":8,\"ticks\":\"outside\",\"tickwidth\":2}},\"type\":\"parcoords\"}],\"pie\":[{\"automargin\":true,\"type\":\"pie\"}],\"scatter\":[{\"marker\":{\"colorbar\":{\"outlinewidth\":0,\"tickcolor\":\"rgb(36,36,36)\",\"ticklen\":8,\"ticks\":\"outside\",\"tickwidth\":2}},\"type\":\"scatter\"}],\"scatter3d\":[{\"line\":{\"colorbar\":{\"outlinewidth\":0,\"tickcolor\":\"rgb(36,36,36)\",\"ticklen\":8,\"ticks\":\"outside\",\"tickwidth\":2}},\"marker\":{\"colorbar\":{\"outlinewidth\":0,\"tickcolor\":\"rgb(36,36,36)\",\"ticklen\":8,\"ticks\":\"outside\",\"tickwidth\":2}},\"type\":\"scatter3d\"}],\"scattercarpet\":[{\"marker\":{\"colorbar\":{\"outlinewidth\":0,\"tickcolor\":\"rgb(36,36,36)\",\"ticklen\":8,\"ticks\":\"outside\",\"tickwidth\":2}},\"type\":\"scattercarpet\"}],\"scattergeo\":[{\"marker\":{\"colorbar\":{\"outlinewidth\":0,\"tickcolor\":\"rgb(36,36,36)\",\"ticklen\":8,\"ticks\":\"outside\",\"tickwidth\":2}},\"type\":\"scattergeo\"}],\"scattergl\":[{\"marker\":{\"colorbar\":{\"outlinewidth\":0,\"tickcolor\":\"rgb(36,36,36)\",\"ticklen\":8,\"ticks\":\"outside\",\"tickwidth\":2}},\"type\":\"scattergl\"}],\"scattermapbox\":[{\"marker\":{\"colorbar\":{\"outlinewidth\":0,\"tickcolor\":\"rgb(36,36,36)\",\"ticklen\":8,\"ticks\":\"outside\",\"tickwidth\":2}},\"type\":\"scattermapbox\"}],\"scatterpolar\":[{\"marker\":{\"colorbar\":{\"outlinewidth\":0,\"tickcolor\":\"rgb(36,36,36)\",\"ticklen\":8,\"ticks\":\"outside\",\"tickwidth\":2}},\"type\":\"scatterpolar\"}],\"scatterpolargl\":[{\"marker\":{\"colorbar\":{\"outlinewidth\":0,\"tickcolor\":\"rgb(36,36,36)\",\"ticklen\":8,\"ticks\":\"outside\",\"tickwidth\":2}},\"type\":\"scatterpolargl\"}],\"scatterternary\":[{\"marker\":{\"colorbar\":{\"outlinewidth\":0,\"tickcolor\":\"rgb(36,36,36)\",\"ticklen\":8,\"ticks\":\"outside\",\"tickwidth\":2}},\"type\":\"scatterternary\"}],\"surface\":[{\"colorbar\":{\"outlinewidth\":0,\"tickcolor\":\"rgb(36,36,36)\",\"ticklen\":8,\"ticks\":\"outside\",\"tickwidth\":2},\"colorscale\":[[0.0,\"rgb(2,4,25)\"],[0.06274509803921569,\"rgb(24,15,41)\"],[0.12549019607843137,\"rgb(47,23,57)\"],[0.18823529411764706,\"rgb(71,28,72)\"],[0.25098039215686274,\"rgb(97,30,82)\"],[0.3137254901960784,\"rgb(123,30,89)\"],[0.3764705882352941,\"rgb(150,27,91)\"],[0.4392156862745098,\"rgb(177,22,88)\"],[0.5019607843137255,\"rgb(203,26,79)\"],[0.5647058823529412,\"rgb(223,47,67)\"],[0.6274509803921569,\"rgb(236,76,61)\"],[0.6901960784313725,\"rgb(242,107,73)\"],[0.7529411764705882,\"rgb(244,135,95)\"],[0.8156862745098039,\"rgb(245,162,122)\"],[0.8784313725490196,\"rgb(246,188,153)\"],[0.9411764705882353,\"rgb(247,212,187)\"],[1.0,\"rgb(250,234,220)\"]],\"type\":\"surface\"}],\"table\":[{\"cells\":{\"fill\":{\"color\":\"rgb(231,231,240)\"},\"line\":{\"color\":\"white\"}},\"header\":{\"fill\":{\"color\":\"rgb(183,183,191)\"},\"line\":{\"color\":\"white\"}},\"type\":\"table\"}]},\"layout\":{\"annotationdefaults\":{\"arrowcolor\":\"rgb(67,103,167)\"},\"autotypenumbers\":\"strict\",\"coloraxis\":{\"colorbar\":{\"outlinewidth\":0,\"tickcolor\":\"rgb(36,36,36)\",\"ticklen\":8,\"ticks\":\"outside\",\"tickwidth\":2}},\"colorscale\":{\"sequential\":[[0.0,\"rgb(2,4,25)\"],[0.06274509803921569,\"rgb(24,15,41)\"],[0.12549019607843137,\"rgb(47,23,57)\"],[0.18823529411764706,\"rgb(71,28,72)\"],[0.25098039215686274,\"rgb(97,30,82)\"],[0.3137254901960784,\"rgb(123,30,89)\"],[0.3764705882352941,\"rgb(150,27,91)\"],[0.4392156862745098,\"rgb(177,22,88)\"],[0.5019607843137255,\"rgb(203,26,79)\"],[0.5647058823529412,\"rgb(223,47,67)\"],[0.6274509803921569,\"rgb(236,76,61)\"],[0.6901960784313725,\"rgb(242,107,73)\"],[0.7529411764705882,\"rgb(244,135,95)\"],[0.8156862745098039,\"rgb(245,162,122)\"],[0.8784313725490196,\"rgb(246,188,153)\"],[0.9411764705882353,\"rgb(247,212,187)\"],[1.0,\"rgb(250,234,220)\"]],\"sequentialminus\":[[0.0,\"rgb(2,4,25)\"],[0.06274509803921569,\"rgb(24,15,41)\"],[0.12549019607843137,\"rgb(47,23,57)\"],[0.18823529411764706,\"rgb(71,28,72)\"],[0.25098039215686274,\"rgb(97,30,82)\"],[0.3137254901960784,\"rgb(123,30,89)\"],[0.3764705882352941,\"rgb(150,27,91)\"],[0.4392156862745098,\"rgb(177,22,88)\"],[0.5019607843137255,\"rgb(203,26,79)\"],[0.5647058823529412,\"rgb(223,47,67)\"],[0.6274509803921569,\"rgb(236,76,61)\"],[0.6901960784313725,\"rgb(242,107,73)\"],[0.7529411764705882,\"rgb(244,135,95)\"],[0.8156862745098039,\"rgb(245,162,122)\"],[0.8784313725490196,\"rgb(246,188,153)\"],[0.9411764705882353,\"rgb(247,212,187)\"],[1.0,\"rgb(250,234,220)\"]]},\"colorway\":[\"rgb(76,114,176)\",\"rgb(221,132,82)\",\"rgb(85,168,104)\",\"rgb(196,78,82)\",\"rgb(129,114,179)\",\"rgb(147,120,96)\",\"rgb(218,139,195)\",\"rgb(140,140,140)\",\"rgb(204,185,116)\",\"rgb(100,181,205)\"],\"font\":{\"color\":\"rgb(36,36,36)\"},\"geo\":{\"bgcolor\":\"white\",\"lakecolor\":\"white\",\"landcolor\":\"rgb(234,234,242)\",\"showlakes\":true,\"showland\":true,\"subunitcolor\":\"white\"},\"hoverlabel\":{\"align\":\"left\"},\"hovermode\":\"closest\",\"paper_bgcolor\":\"white\",\"plot_bgcolor\":\"rgb(234,234,242)\",\"polar\":{\"angularaxis\":{\"gridcolor\":\"white\",\"linecolor\":\"white\",\"showgrid\":true,\"ticks\":\"\"},\"bgcolor\":\"rgb(234,234,242)\",\"radialaxis\":{\"gridcolor\":\"white\",\"linecolor\":\"white\",\"showgrid\":true,\"ticks\":\"\"}},\"scene\":{\"xaxis\":{\"backgroundcolor\":\"rgb(234,234,242)\",\"gridcolor\":\"white\",\"gridwidth\":2,\"linecolor\":\"white\",\"showbackground\":true,\"showgrid\":true,\"ticks\":\"\",\"zerolinecolor\":\"white\"},\"yaxis\":{\"backgroundcolor\":\"rgb(234,234,242)\",\"gridcolor\":\"white\",\"gridwidth\":2,\"linecolor\":\"white\",\"showbackground\":true,\"showgrid\":true,\"ticks\":\"\",\"zerolinecolor\":\"white\"},\"zaxis\":{\"backgroundcolor\":\"rgb(234,234,242)\",\"gridcolor\":\"white\",\"gridwidth\":2,\"linecolor\":\"white\",\"showbackground\":true,\"showgrid\":true,\"ticks\":\"\",\"zerolinecolor\":\"white\"}},\"shapedefaults\":{\"fillcolor\":\"rgb(67,103,167)\",\"line\":{\"width\":0},\"opacity\":0.5},\"ternary\":{\"aaxis\":{\"gridcolor\":\"white\",\"linecolor\":\"white\",\"showgrid\":true,\"ticks\":\"\"},\"baxis\":{\"gridcolor\":\"white\",\"linecolor\":\"white\",\"showgrid\":true,\"ticks\":\"\"},\"bgcolor\":\"rgb(234,234,242)\",\"caxis\":{\"gridcolor\":\"white\",\"linecolor\":\"white\",\"showgrid\":true,\"ticks\":\"\"}},\"xaxis\":{\"automargin\":true,\"gridcolor\":\"white\",\"linecolor\":\"white\",\"showgrid\":true,\"ticks\":\"\",\"title\":{\"standoff\":15},\"zerolinecolor\":\"white\"},\"yaxis\":{\"automargin\":true,\"gridcolor\":\"white\",\"linecolor\":\"white\",\"showgrid\":true,\"ticks\":\"\",\"title\":{\"standoff\":15},\"zerolinecolor\":\"white\"}}},\"xaxis\":{\"anchor\":\"y\",\"domain\":[0.0,1.0],\"title\":{\"text\":\"Time (days)\"}},\"yaxis\":{\"anchor\":\"x\",\"domain\":[0.0,1.0],\"title\":{\"text\":\"Survival probability\"}}},                        {\"responsive\": true}                    ).then(function(){\n                            \nvar gd = document.getElementById('1bd452b2-48df-4204-921e-c798296c3e41');\nvar x = new MutationObserver(function (mutations, observer) {{\n        var display = window.getComputedStyle(gd).display;\n        if (!display || display === 'none') {{\n            console.log([gd, 'removed!']);\n            Plotly.purge(gd);\n            observer.disconnect();\n        }}\n}});\n\n// Listen for the removal of the full notebook cells\nvar notebookContainer = gd.closest('#notebook-container');\nif (notebookContainer) {{\n    x.observe(notebookContainer, {childList: true});\n}}\n\n// Listen for the clearing of the current output cell\nvar outputEl = gd.closest('.output');\nif (outputEl) {{\n    x.observe(outputEl, {childList: true});\n}}\n\n                        })                };                            </script>        </div>\n</body>\n</html>"
     },
     "metadata": {},
     "output_type": "display_data"
    }
   ],
   "execution_count": null
  },
  {
   "cell_type": "markdown",
   "source": "<a style='text-decoration:none;line-height:16px;display:flex;color:#5B5B62;padding:10px;justify-content:end;' href='https://deepnote.com?utm_source=created-in-deepnote-cell&projectId=7360151b-146e-499a-b01b-835ca18c34fa' target=\"_blank\">\n<img alt='Created in deepnote.com' style='display:inline;max-height:16px;margin:0px;margin-right:7.5px;' src='data:image/svg+xml;base64,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' > </img>\nCreated in <span style='font-weight:600;margin-left:4px;'>Deepnote</span></a>",
   "metadata": {
    "tags": [],
    "created_in_deepnote_cell": true,
    "deepnote_cell_type": "markdown"
   }
  }
 ],
 "nbformat": 4,
 "nbformat_minor": 5,
 "metadata": {
  "deepnote": {},
  "deepnote_app_layout": "article",
  "deepnote_execution_queue": [],
  "deepnote_notebook_id": "bc024147-2b8e-436a-ba0d-2495ff57ca3e",
  "kernelspec": {
   "display_name": "Datascience",
   "language": "python",
   "name": "datascience"
  },
  "language_info": {
   "codemirror_mode": {
    "name": "ipython",
    "version": 3
   },
   "file_extension": ".py",
   "mimetype": "text/x-python",
   "name": "python",
   "nbconvert_exporter": "python",
   "pygments_lexer": "ipython3",
   "version": "3.8.10"
  }
 }
}