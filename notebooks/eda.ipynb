{
 "cells": [
  {
   "cell_type": "markdown",
   "id": "f18a6993",
   "metadata": {
    "cell_id": "00001-8856a0e4-8b87-4171-b95a-03319be86d45",
    "deepnote_app_coordinates": {
     "h": 2,
     "w": 12,
     "x": 0,
     "y": 238
    },
    "deepnote_cell_type": "text-cell-h1",
    "is_collapsed": false,
    "tags": []
   },
   "source": [
    "# Exploratory Data Analysis"
   ]
  },
  {
   "cell_type": "markdown",
   "id": "eaec7be0",
   "metadata": {
    "cell_id": "00001-5ea9cdbc-817b-4337-9482-e679749166a7",
    "deepnote_cell_type": "text-cell-h2",
    "is_collapsed": false,
    "tags": []
   },
   "source": [
    "## Libraries and data import"
   ]
  },
  {
   "cell_type": "code",
   "execution_count": null,
   "id": "31e75f20",
   "metadata": {
    "cell_id": "00000-207be0c3-1fda-4ef8-bf43-49b770dfafdf",
    "deepnote_app_is_code_hidden": false,
    "deepnote_app_is_output_hidden": false,
    "deepnote_cell_type": "code",
    "deepnote_to_be_reexecuted": false,
    "execution_millis": 5,
    "execution_start": 1633939663324,
    "is_output_hidden": false,
    "source_hash": "a3d0962"
   },
   "outputs": [],
   "source": [
    "import os, sys\n",
    "\n",
    "import pandas as pd\n",
    "import numpy as np\n",
    "\n",
    "import matplotlib.pyplot as plt\n",
    "import seaborn as sns\n",
    "\n",
    "from sklearn.metrics import confusion_matrix, ConfusionMatrixDisplay\n",
    "\n",
    "import plotly.express as px\n",
    "import plotly.io as pio\n",
    "pio.templates.default = 'seaborn'\n",
    "\n",
    "sys.path.append(os.path.abspath('..'))"
   ]
  },
  {
   "cell_type": "code",
   "execution_count": null,
   "id": "aebbc50e",
   "metadata": {
    "cell_id": "00002-e468c095-ba0f-4a27-a338-ec13d6b00703",
    "deepnote_cell_type": "code",
    "deepnote_to_be_reexecuted": false,
    "execution_millis": 6,
    "execution_start": 1633938571784,
    "source_hash": "69b39e3"
   },
   "outputs": [],
   "source": [
    "from src.utils import FILES, extract_study_phase, CONNECTION_DIR, DATA_FOLDERS"
   ]
  },
  {
   "cell_type": "markdown",
   "id": "cdd9bb5d",
   "metadata": {
    "cell_id": "00004-70994b0c-2d24-489e-9413-7bd572e1d9e4",
    "deepnote_app_coordinates": {
     "h": 2,
     "w": 12,
     "x": 0,
     "y": 0
    },
    "deepnote_cell_type": "text-cell-h2",
    "is_collapsed": false,
    "jp-MarkdownHeadingCollapsed": true,
    "tags": []
   },
   "source": [
    "## Lesions"
   ]
  },
  {
   "cell_type": "markdown",
   "id": "5644f9f2",
   "metadata": {
    "cell_id": "00005-537db762-4f10-4f10-8067-c3b8092832e6",
    "deepnote_app_coordinates": {
     "h": 2,
     "w": 12,
     "x": 0,
     "y": 0
    },
    "deepnote_cell_type": "text-cell-h3",
    "is_collapsed": false,
    "tags": []
   },
   "source": [
    "### Dataset information"
   ]
  },
  {
   "cell_type": "markdown",
   "id": "13946014",
   "metadata": {
    "cell_id": "00003-a5070c98-da1e-4c95-83ba-e7954b82fb4e",
    "deepnote_app_coordinates": {
     "h": 5,
     "w": 12,
     "x": 0,
     "y": 18
    },
    "deepnote_cell_type": "markdown"
   },
   "source": [
    "The lesions dataset contains the following features:\n",
    "\n",
    "* Each patient is attributed to a unique `gpcr_id [int]` \n",
    "* Each study is identified relative to the start of treatment with `study_name [str]` and the processed `study_phase [int]`\n",
    "* `roi_id [int]` is an identifier for the lesion's ROI (Region Of Interest)\n",
    "* `roi_name [str]` is a textual identifier for the lesion\n",
    "* `lesion_label_id [int]` is an identifier for the lesion's label\n",
    "* `pars_bodypart_petct [str]`, `pars_region_petct [str]`, `pars_subregion_petct [str]`, `pars_laterality_petct [str]` are categorical values output by PARS that help identify the location of the lesion\n",
    "* `pars_classification_petct [str]` is a categorical variable (either `benign` or `suspicious`)\n",
    "* `vol_ccm [float]` is the lesion volume in cubic centimeters\n",
    "* `max_suv_val [float]`, `mean_suv_val [float]`, `min_suv_val [float]`, and `sd_suv_val [float]` are relative to the lesions [SUV  (Standardized Uptake Values)](https://www.ncbi.nlm.nih.gov/pmc/articles/PMC3026294/)\n",
    "* `is_malignant [bool]` is the boolean value of `pars_classification_petct == 'suspicious'`\n",
    "*  `assigned_organ [str]` is the lesion's assigned organ (which is PARS output)"
   ]
  },
  {
   "cell_type": "markdown",
   "id": "721d849f",
   "metadata": {
    "cell_id": "00007-ece1ee9e-3af4-4fca-89bb-a829ba4d8888",
    "deepnote_app_coordinates": {
     "h": 2,
     "w": 12,
     "x": 0,
     "y": 0
    },
    "deepnote_cell_type": "text-cell-h3",
    "is_collapsed": false,
    "tags": []
   },
   "source": [
    "### Preprocessing"
   ]
  },
  {
   "cell_type": "code",
   "execution_count": null,
   "id": "4d4c21f6",
   "metadata": {
    "cell_id": "00004-8f346c84-cd1d-48fc-bfd2-e9b780e1a32a",
    "deepnote_app_coordinates": {
     "h": 5,
     "w": 12,
     "x": 0,
     "y": 24
    },
    "deepnote_app_is_code_hidden": true,
    "deepnote_cell_type": "code",
    "deepnote_to_be_reexecuted": false,
    "execution_millis": 392,
    "execution_start": 1633938574484,
    "source_hash": "9db30b8b"
   },
   "outputs": [],
   "source": [
    "lesions = pd.read_csv(os.path.join(CONNECTION_DIR, DATA_FOLDERS[2], FILES[DATA_FOLDERS[2]]['lesions']))\n",
    "lesions['study_phase'] = lesions.study_name.apply(extract_study_phase)\n",
    "lesions = lesions[lesions.pars_classification_petct != 'benign']\n",
    "\n",
    "# Sorting by PARS classification allows for visualization consistency\n",
    "lesions.sort_values(by='pars_classification_petct', inplace=True)\n",
    "n_lesions, f_lesions = lesions.shape\n",
    "\n",
    "print(f'Imported {n_lesions} lesions with {f_lesions} features. Null values: {lesions.isna().sum().sum()}')"
   ]
  },
  {
   "cell_type": "code",
   "execution_count": null,
   "id": "991ad98f",
   "metadata": {
    "cell_id": "00007-cb25c1ed-e830-43de-a63c-9e46c845a88f",
    "deepnote_app_coordinates": {
     "h": 14,
     "w": 12,
     "x": 0,
     "y": 241
    },
    "deepnote_app_is_code_hidden": true,
    "deepnote_cell_type": "code",
    "deepnote_to_be_reexecuted": false,
    "execution_millis": 216,
    "execution_start": 1633938587172,
    "source_hash": "4804e93",
    "tags": []
   },
   "outputs": [],
   "source": [
    "lesions"
   ]
  },
  {
   "cell_type": "code",
   "execution_count": null,
   "id": "139c4564",
   "metadata": {
    "cell_id": "00010-340c18b8-512a-4494-85d2-6bc7583bab6b",
    "deepnote_cell_type": "code",
    "deepnote_to_be_reexecuted": false,
    "execution_millis": 0,
    "execution_start": 1633938607842,
    "source_hash": "4aef478d",
    "tags": []
   },
   "outputs": [],
   "source": [
    "lesions_labels = {\n",
    "    'vol_ccm': 'Lesion volume (ccm)',\n",
    "    'pars_classification_petct': 'PARS lesion classification',\n",
    "    'study_phase': 'Study phase (relative to treatment start)',\n",
    "    'assigned_organ': 'Assigned organ'\n",
    "}"
   ]
  },
  {
   "cell_type": "code",
   "execution_count": null,
   "id": "1f009c3b",
   "metadata": {
    "cell_id": "00008-6c244907-d497-4d38-8aa2-acfd7a1460e6",
    "deepnote_cell_type": "code",
    "deepnote_to_be_reexecuted": false,
    "execution_millis": 3,
    "execution_start": 1633938609190,
    "source_hash": "968c7544",
    "tags": []
   },
   "outputs": [],
   "source": [
    "top_h_legend = dict(orientation='h', yanchor=\"bottom\", y=1.02)"
   ]
  },
  {
   "cell_type": "markdown",
   "id": "9d4872be",
   "metadata": {
    "cell_id": "00011-172383a9-ef7f-4969-98a3-7905b311b347",
    "deepnote_app_coordinates": {
     "h": 2,
     "w": 12,
     "x": 0,
     "y": 0
    },
    "deepnote_cell_type": "text-cell-h3",
    "is_collapsed": false,
    "tags": []
   },
   "source": [
    "### Visualisations"
   ]
  },
  {
   "cell_type": "code",
   "execution_count": null,
   "id": "70bb70ba",
   "metadata": {
    "cell_id": "00011-65f7c76a-797d-44ec-8112-f67efb100e46",
    "deepnote_app_coordinates": {
     "h": 5,
     "w": 12,
     "x": 0,
     "y": 0
    },
    "deepnote_app_is_code_hidden": true,
    "deepnote_cell_type": "code",
    "deepnote_to_be_reexecuted": false,
    "execution_millis": 60,
    "execution_start": 1633938629245,
    "source_hash": "4abdcd78",
    "tags": []
   },
   "outputs": [],
   "source": [
    "descending_organs = list(lesions.groupby('assigned_organ').size().sort_values(ascending=False).index)\n",
    "\n",
    "px.histogram(lesions, x='assigned_organ', color='pars_classification_petct', \n",
    "             category_orders={'assigned_organ': descending_organs},\n",
    "             labels=lesions_labels) \\\n",
    "    .update_layout(legend=top_h_legend, yaxis_title='Lesions')"
   ]
  },
  {
   "cell_type": "code",
   "execution_count": null,
   "id": "a10c5c95",
   "metadata": {
    "cell_id": "00016-2558b6b9-1236-43d9-ace2-3232a830c07e",
    "deepnote_app_coordinates": {
     "h": 5,
     "w": 12,
     "x": 0,
     "y": 0
    },
    "deepnote_cell_type": "code",
    "deepnote_to_be_reexecuted": false,
    "execution_millis": 43,
    "execution_start": 1633938804985,
    "source_hash": "1ab1451",
    "tags": []
   },
   "outputs": [],
   "source": [
    "progression = pd.read_csv(os.path.join(CONNECTION_DIR + DATA_FOLDERS[1], FILES['progression']))\n",
    "progression['study_phase'] = progression.study_name.apply(extract_study_phase)"
   ]
  },
  {
   "cell_type": "code",
   "execution_count": null,
   "id": "b32be9a6",
   "metadata": {
    "cell_id": "00009-2f7e7eea-94ef-4df9-aca0-480e7a3ded69",
    "deepnote_app_coordinates": {
     "h": 5,
     "w": 12,
     "x": 0,
     "y": 0
    },
    "deepnote_app_is_code_hidden": true,
    "deepnote_cell_type": "code",
    "deepnote_to_be_reexecuted": false,
    "execution_millis": 45,
    "execution_start": 1633939219945,
    "source_hash": "2991a9d6",
    "tags": []
   },
   "outputs": [],
   "source": [
    "avg_lesion_vol_w_na = lesions.groupby(['gpcr_id', 'study_phase']) \\\n",
    "    .vol_ccm.mean().to_frame('vol_ccm').reset_index() \\\n",
    "    .merge(progression[['gpcr_id', 'prediction_score', 'study_phase']],\n",
    "           on=['gpcr_id', 'study_phase'], how='inner')\n",
    "    \n",
    "avg_lesion_vol = avg_lesion_vol_w_na.dropna()\n",
    "\n",
    "print(f'All studies with progression: {progression.shape[0]} \\n'\n",
    "      f'Aggregated lesions per study from lesions df: {avg_lesion_vol_w_na.shape[0]} \\n'\n",
    "      f'Inner merge with dropped NA progression values: {avg_lesion_vol.shape[0]}')\n",
    "\n",
    "px.box(avg_lesion_vol, x='study_phase', y='vol_ccm', color='prediction_score', \n",
    "       labels={**lesions_labels,\n",
    "               'vol_ccm': 'Average lesion volume (ccm)',\n",
    "               'prediction_score': 'Response'}) \\\n",
    "    .update_layout(legend=top_h_legend)"
   ]
  },
  {
   "cell_type": "code",
   "execution_count": null,
   "id": "3789811c",
   "metadata": {
    "cell_id": "00016-b46b1969-5dac-4f73-af91-290855530dc4",
    "deepnote_app_coordinates": {
     "h": 5,
     "w": 12,
     "x": 0,
     "y": 0
    },
    "deepnote_app_is_code_hidden": true,
    "deepnote_cell_type": "code",
    "deepnote_to_be_reexecuted": false,
    "execution_millis": 112,
    "execution_start": 1633939248110,
    "source_hash": "903e584b",
    "tags": []
   },
   "outputs": [],
   "source": [
    "location_hierarchy = ['pars_bodypart_petct', 'pars_region_petct', 'pars_subregion_petct']\n",
    "locations = lesions.groupby(location_hierarchy).size().to_frame('lesions').reset_index()\n",
    "\n",
    "px.sunburst(locations, path=location_hierarchy, values='lesions') \\\n",
    "    .update_layout(title='Sunburst chart of lesion location')"
   ]
  },
  {
   "cell_type": "markdown",
   "id": "e68ee714",
   "metadata": {
    "cell_id": "00018-f6cbfd71-a55a-4225-94df-f68f0b4debb7",
    "deepnote_app_coordinates": {
     "h": 2,
     "w": 12,
     "x": 0,
     "y": 0
    },
    "deepnote_cell_type": "text-cell-h2",
    "is_collapsed": false,
    "jp-MarkdownHeadingCollapsed": true,
    "tags": []
   },
   "source": [
    "## Studies"
   ]
  },
  {
   "cell_type": "markdown",
   "id": "06ede3ec",
   "metadata": {
    "cell_id": "00019-addac8d2-f82d-4abe-8ebb-82f933ec633d",
    "deepnote_app_coordinates": {
     "h": 2,
     "w": 12,
     "x": 0,
     "y": 0
    },
    "deepnote_cell_type": "text-cell-h3",
    "is_collapsed": false,
    "tags": []
   },
   "source": [
    "### Dataset information"
   ]
  },
  {
   "cell_type": "markdown",
   "id": "bb6b5b0d",
   "metadata": {
    "cell_id": "00020-a41411e5-79cc-4680-bd83-e82da4f1401e",
    "deepnote_app_coordinates": {
     "h": 5,
     "w": 12,
     "x": 0,
     "y": 0
    },
    "deepnote_cell_type": "markdown",
    "tags": []
   },
   "source": [
    "* Each patient is attributed to a unique `gpcr_id [int]` \n",
    "* Each study is identified relative to the start of treatment with `study_name [str]` and the processed `study_phase [int]`\n",
    "* `is_before_treatment [bool]`, `is_during_treatment [bool]`, and `is_after_treatment_end [bool]` are boolean values that explain when the study occured relative to treatment start and end\n",
    "* `nth_before_treatment [float]`, `nth_after_treatment_start [float]`, `nth_during_treatment [float]`, and `nth_after_treatment_end [float]` is the scan number relative to treatment start and end\n",
    "* `n_days_to_treatment_start [int]` and `n_days_to_treatment_end [int]` are the number of days to treatment start and end\n",
    "* `is_malignant [int]` is the aggregate number of malignant lesions in the exam, which is renamed to `malignant_lesions [int]` during preprocessing\n",
    "* Boolean values about segmentation existance are contained in `brain_seg_exists [bool]`, `bones_seg_exists [bool]`, `spleen_seg_exists [bool]`, `aorta_seg_exists [bool]`, `heart_seg_exists [bool]`, `kidney_right_seg_exists [bool]`, `kidney_left_seg_exists [bool]`, `lung_right_seg_exists [bool]`, `lung_left_seg_exists [bool]`, and `liver_seg_exists [bool]`"
   ]
  },
  {
   "cell_type": "markdown",
   "id": "a316c98b",
   "metadata": {
    "cell_id": "00021-5cdef17b-aae1-4e6b-a439-d461b6c750d1",
    "deepnote_app_coordinates": {
     "h": 2,
     "w": 12,
     "x": 0,
     "y": 0
    },
    "deepnote_cell_type": "text-cell-h3",
    "is_collapsed": false,
    "jp-MarkdownHeadingCollapsed": true,
    "tags": []
   },
   "source": [
    "### Preprocessing"
   ]
  },
  {
   "cell_type": "code",
   "execution_count": null,
   "id": "099696a7",
   "metadata": {
    "cell_id": "00030-2c60a701-1af5-40b9-96a2-0cb5e778f1df",
    "deepnote_app_coordinates": {
     "h": 5,
     "w": 12,
     "x": 0,
     "y": 180
    },
    "deepnote_app_is_code_hidden": true,
    "deepnote_cell_type": "code",
    "deepnote_to_be_reexecuted": false,
    "execution_millis": 36,
    "execution_start": 1633939398134,
    "source_hash": "7615eadc"
   },
   "outputs": [],
   "source": [
    "studies = pd.read_csv(os.path.join(CONNECTION_DIR + DATA_FOLDERS[0], FILES['studies']))\n",
    "studies.rename(columns={'is_malignant': 'malignant_lesions'}, inplace=True)\n",
    "studies = studies.merge(progression, on=['gpcr_id', 'study_name'], how='inner')\n",
    "\n",
    "n_studies, f_studies = studies.shape\n",
    "\n",
    "print(f'Imported {n_studies} studies with {f_studies} features. Null values: {studies.isna().sum().sum()}')"
   ]
  },
  {
   "cell_type": "code",
   "execution_count": null,
   "id": "0394d9d8",
   "metadata": {
    "cell_id": "00031-23d9ac0a-89c0-4036-9381-c05269b4dab9",
    "deepnote_app_coordinates": {
     "h": 5,
     "w": 12,
     "x": 0,
     "y": 186
    },
    "deepnote_app_is_code_hidden": true,
    "deepnote_cell_type": "code",
    "deepnote_to_be_reexecuted": false,
    "execution_millis": 100,
    "execution_start": 1633939398798,
    "source_hash": "63d8b8c4"
   },
   "outputs": [],
   "source": [
    "studies"
   ]
  },
  {
   "cell_type": "code",
   "execution_count": null,
   "id": "afec8aea",
   "metadata": {
    "cell_id": "00023-976fe673-3158-42a5-8da9-0ac01fdcdf50",
    "deepnote_cell_type": "code",
    "deepnote_to_be_reexecuted": false,
    "execution_millis": 0,
    "execution_start": 1633940303511,
    "source_hash": "3a11c5dd",
    "tags": []
   },
   "outputs": [],
   "source": [
    "studies_labels = {\n",
    "    **lesions_labels,\n",
    "    'prediction_score': 'Immunotherapeutic response',\n",
    "    'response': 'TMTV response',\n",
    "    'tmtv': 'Total Metabolic Tumor Volume (ccm)',\n",
    "    'baseline': 'Baseline TMTV (ccm)'\n",
    "}"
   ]
  },
  {
   "cell_type": "markdown",
   "id": "43ff3f39",
   "metadata": {
    "cell_id": "00024-66767ab4-d85e-42f3-a458-abd5c3748409",
    "deepnote_app_coordinates": {
     "h": 5,
     "w": 12,
     "x": 0,
     "y": 0
    },
    "deepnote_cell_type": "markdown",
    "tags": []
   },
   "source": [
    "#### Creating temporary labels using TMTV (Total Metabolic Tumor Volume)\n",
    "\n",
    "\n",
    "* If TMTV is non-zero, but lower compared to baseline: Partial response\n",
    "* If TMTV is zero / no lesions detected: Complete response\n",
    "* If TMTV > 'best' previous response: progressive disease.\n",
    "     'Best' previous responds means minimum TMTV in previous time points\n",
    "* Otherwise: stable disease"
   ]
  },
  {
   "cell_type": "code",
   "execution_count": null,
   "id": "5ff78656",
   "metadata": {
    "cell_id": "00025-265a3e59-eda1-45fa-b4ee-60ee6c4b5c90",
    "deepnote_cell_type": "code",
    "deepnote_to_be_reexecuted": false,
    "execution_millis": 1,
    "execution_start": 1633940163721,
    "source_hash": "8ed74a47",
    "tags": []
   },
   "outputs": [],
   "source": [
    "def classify_response(row):\n",
    "    # Compare current vs. baseline\n",
    "    if row.tmtv < row.baseline:\n",
    "        return 'NPD'\n",
    "    elif row.tmtv == row.baseline:\n",
    "        return np.nan\n",
    "    else:\n",
    "        return 'PD'"
   ]
  },
  {
   "cell_type": "code",
   "execution_count": null,
   "id": "1d8d8625",
   "metadata": {
    "cell_id": "00036-3cceff1f-4e75-411b-99e5-13faf259d66e",
    "deepnote_app_coordinates": {
     "h": 5,
     "w": 12,
     "x": 0,
     "y": 216
    },
    "deepnote_app_is_code_hidden": true,
    "deepnote_cell_type": "code",
    "deepnote_to_be_reexecuted": false,
    "execution_millis": 89,
    "execution_start": 1633940164039,
    "source_hash": "e443b8ed"
   },
   "outputs": [],
   "source": [
    "# Compute TMTV by summing `vol_ccm` per study\n",
    "labels = lesions.groupby(['gpcr_id', 'study_phase']).vol_ccm.sum().to_frame('tmtv').reset_index()\n",
    "\n",
    "# Find `labels` id of each patient's baseline TMTV\n",
    "baseline_idx = labels.groupby('gpcr_id').study_phase.idxmin().to_dict()\n",
    "labels['baseline'] = labels.gpcr_id.apply(\n",
    "    lambda i: labels.loc[baseline_idx[i]].tmtv)\n",
    "labels['response'] = labels.apply(classify_response, axis=1)\n",
    "\n",
    "print(f'Response computed for {labels.shape[0]} studies: \\n{labels.response.value_counts()}')"
   ]
  },
  {
   "cell_type": "code",
   "execution_count": null,
   "id": "674e3112",
   "metadata": {
    "cell_id": "00029-9cfa196a-32c9-4324-947d-06075574f5d4",
    "deepnote_app_coordinates": {
     "h": 5,
     "w": 12,
     "x": 0,
     "y": 0
    },
    "deepnote_app_is_code_hidden": true,
    "deepnote_cell_type": "code",
    "deepnote_to_be_reexecuted": false,
    "execution_millis": 5,
    "execution_start": 1633940164471,
    "source_hash": "94e9d40c",
    "tags": []
   },
   "outputs": [],
   "source": [
    "labels = labels.merge(progression[['gpcr_id', 'study_phase', 'prediction_score', 'pseudorecist']],\n",
    "             on=['gpcr_id', 'study_phase'], how='inner')"
   ]
  },
  {
   "cell_type": "code",
   "execution_count": null,
   "id": "c3c4c13c",
   "metadata": {
    "cell_id": "00029-374bf2b3-f839-4d6a-9638-beb6932a6710",
    "deepnote_app_coordinates": {
     "h": 5,
     "w": 12,
     "x": 0,
     "y": 0
    },
    "deepnote_cell_type": "code",
    "deepnote_to_be_reexecuted": false,
    "execution_millis": 422,
    "execution_start": 1633940164946,
    "source_hash": "a0076ca6",
    "tags": []
   },
   "outputs": [],
   "source": [
    "fig, ax = plt.subplots(1, 2)\n",
    "\n",
    "cm = confusion_matrix(progression[['prediction_score', 'pseudorecist']].dropna().prediction_score, \n",
    "                      progression[['prediction_score', 'pseudorecist']].dropna().pseudorecist,\n",
    "                      labels=['PD', 'NPD'])\n",
    "\n",
    "CM = ConfusionMatrixDisplay(cm, display_labels=['PD', 'NPD']).plot(ax=ax[0])\n",
    "\n",
    "ax[0].set_xlabel('Pseudorecist'), ax[0].set_ylabel('Prediction score')\n",
    "\n",
    "\n",
    "cm = confusion_matrix(labels[['prediction_score', 'response']].dropna().prediction_score, \n",
    "                      labels[['prediction_score', 'response']].dropna().response,\n",
    "                      labels=['PD', 'NPD'])\n",
    "\n",
    "CM = ConfusionMatrixDisplay(cm, display_labels=['PD', 'NPD']).plot(ax=ax[1])\n",
    "\n",
    "ax[1].set_xlabel('TMTV Response'), ax[1].set_ylabel('Prediction score')\n",
    "\n",
    "plt.gcf().set_size_inches(15, 6)\n",
    "plt.show()"
   ]
  },
  {
   "cell_type": "markdown",
   "id": "827520f7",
   "metadata": {
    "cell_id": "00029-11e15914-873d-4f44-ab8c-ceceb11bf1a5",
    "deepnote_app_coordinates": {
     "h": 2,
     "w": 12,
     "x": 0,
     "y": 0
    },
    "deepnote_cell_type": "text-cell-h3",
    "is_collapsed": false,
    "tags": []
   },
   "source": [
    "### Visualisations"
   ]
  },
  {
   "cell_type": "code",
   "execution_count": null,
   "id": "8771032c",
   "metadata": {
    "cell_id": "00031-c4345a87-6678-4d70-9f8e-a0383425c8fa",
    "deepnote_app_coordinates": {
     "h": 5,
     "w": 12,
     "x": 0,
     "y": 0
    },
    "deepnote_cell_type": "code",
    "deepnote_to_be_reexecuted": false,
    "execution_millis": 35,
    "execution_start": 1633940254692,
    "source_hash": "39bbc68c",
    "tags": []
   },
   "outputs": [],
   "source": [
    "labels"
   ]
  },
  {
   "cell_type": "code",
   "execution_count": null,
   "id": "ffd378a4",
   "metadata": {
    "cell_id": "00030-b956e402-56a8-40d2-97dc-42c17bb92880",
    "deepnote_app_coordinates": {
     "h": 5,
     "w": 12,
     "x": 0,
     "y": 0
    },
    "deepnote_app_is_code_hidden": true,
    "deepnote_cell_type": "code",
    "deepnote_to_be_reexecuted": false,
    "execution_millis": 88,
    "execution_start": 1633940347798,
    "source_hash": "7fef31c9",
    "tags": []
   },
   "outputs": [],
   "source": [
    "px.scatter(labels[labels['prediction_score'].notna()], x='study_phase', y='tmtv', color='prediction_score',\n",
    "           labels=studies_labels) \\\n",
    "    .update_layout(legend=top_h_legend)"
   ]
  },
  {
   "cell_type": "code",
   "execution_count": null,
   "id": "25e8c1da",
   "metadata": {
    "cell_id": "00029-9e9621e0-34f6-491a-ad48-d413ddc45fb4",
    "deepnote_app_coordinates": {
     "h": 5,
     "w": 12,
     "x": 0,
     "y": 0
    },
    "deepnote_app_is_code_hidden": true,
    "deepnote_cell_type": "code",
    "deepnote_to_be_reexecuted": false,
    "execution_millis": 0,
    "execution_start": 1633940373101,
    "source_hash": "10fc324c",
    "tags": []
   },
   "outputs": [],
   "source": [
    "# Checking post-1 label imbalance\n",
    "post_1_response = labels[labels.study_phase == 1].prediction_score.value_counts()\n",
    "\n",
    "print(f'Response imbalance for post-1 studies: \\n{post_1_response}')"
   ]
  },
  {
   "cell_type": "code",
   "execution_count": null,
   "id": "f1f50326",
   "metadata": {
    "cell_id": "00031-6e56ce54-4432-4419-80f2-95561400a619",
    "deepnote_app_coordinates": {
     "h": 5,
     "w": 12,
     "x": 0,
     "y": 0
    },
    "deepnote_app_is_code_hidden": true,
    "deepnote_cell_type": "code",
    "deepnote_to_be_reexecuted": false,
    "execution_millis": 84,
    "execution_start": 1633940418946,
    "source_hash": "85c8bb88",
    "tags": []
   },
   "outputs": [],
   "source": [
    "px.histogram(labels[(labels.study_phase == 1) & (labels['prediction_score'].notna())], \n",
    "             x='tmtv', color='prediction_score',\n",
    "             nbins= 40, marginal=\"rug\",\n",
    "             labels=studies_labels) \\\n",
    "    .update_layout(legend={**top_h_legend, 'y': 1.0},\n",
    "                   yaxis_title='Studies (count)',\n",
    "                   title='Post-1 study phase response distribution') \\\n",
    "    .update_traces(opacity=0.7)"
   ]
  },
  {
   "cell_type": "markdown",
   "id": "0b6d0adb",
   "metadata": {
    "cell_id": "00031-593ef611-ee8b-4964-9a3e-b90d8f1ffca1",
    "deepnote_app_coordinates": {
     "h": 2,
     "w": 12,
     "x": 0,
     "y": 0
    },
    "deepnote_cell_type": "text-cell-h2",
    "is_collapsed": false,
    "tags": []
   },
   "source": [
    "## Patients"
   ]
  },
  {
   "cell_type": "markdown",
   "id": "11f21eb6",
   "metadata": {
    "cell_id": "00033-322bbc7b-3606-4a3b-8bf0-ff27407f79eb",
    "deepnote_app_coordinates": {
     "h": 2,
     "w": 12,
     "x": 0,
     "y": 0
    },
    "deepnote_cell_type": "text-cell-h3",
    "is_collapsed": false,
    "tags": []
   },
   "source": [
    "### Dataset information"
   ]
  },
  {
   "cell_type": "markdown",
   "id": "953c65e8",
   "metadata": {
    "cell_id": "00034-4cd341ab-e7b3-4121-b236-7c1693b895ff",
    "deepnote_app_coordinates": {
     "h": 2,
     "w": 12,
     "x": 0,
     "y": 0
    },
    "deepnote_cell_type": "text-cell-h3",
    "is_collapsed": false,
    "tags": []
   },
   "source": [
    "### Preprocessing"
   ]
  },
  {
   "cell_type": "code",
   "execution_count": null,
   "id": "c5fe9a6c",
   "metadata": {
    "cell_id": "00035-4a432704-c37c-458a-b100-1d13ab25fa6e",
    "deepnote_app_coordinates": {
     "h": 5,
     "w": 12,
     "x": 0,
     "y": 0
    },
    "deepnote_app_is_code_hidden": true,
    "deepnote_cell_type": "code",
    "deepnote_to_be_reexecuted": false,
    "execution_millis": 85,
    "execution_start": 1633941816166,
    "source_hash": "8d99a846",
    "tags": []
   },
   "outputs": [],
   "source": [
    "patients = pd.read_csv(os.path.join(CONNECTION_DIR + DATA_FOLDERS[0], FILES['patients']))\n",
    "\n",
    "patients['age_at_treatment_start_in_years'] = \\\n",
    "    patients.age_at_treatment_start_in_years.apply(\n",
    "        lambda a: 90 if a == '90 or older' else int(a))\n",
    "\n",
    "patients['survival_1_year'] = (patients.survival_in_days > 365)\n",
    "\n",
    "blood = pd.read_csv(os.path.join(CONNECTION_DIR + DATA_FOLDERS[1], FILES['blood']))\n",
    "blood.drop(columns=['n_days_to_treatment_start', 'n_days_to_treatment_end'], inplace=True)\n",
    "blood.rename(columns={feature: feature.replace('-', '_') for feature in blood.columns}, inplace=True)\n",
    "\n",
    "patients = patients.merge(blood, on='gpcr_id', how='inner')\n",
    "\n",
    "n_patients, f_patients = patients.shape\n",
    "\n",
    "print(f'Imported {n_patients} patients with {f_studies} features. Null values: {patients.isna().sum().sum()}')"
   ]
  },
  {
   "cell_type": "code",
   "execution_count": null,
   "id": "75d78090",
   "metadata": {
    "cell_id": "00036-289611e3-8309-47e6-87e3-3242df4f2c64",
    "deepnote_app_coordinates": {
     "h": 5,
     "w": 12,
     "x": 0,
     "y": 0
    },
    "deepnote_app_is_code_hidden": true,
    "deepnote_cell_type": "code",
    "deepnote_to_be_reexecuted": false,
    "execution_millis": 142,
    "execution_start": 1633941817025,
    "source_hash": "a8ec5b8d",
    "tags": []
   },
   "outputs": [],
   "source": [
    "patients"
   ]
  },
  {
   "cell_type": "code",
   "execution_count": null,
   "id": "8ac95c4f",
   "metadata": {
    "cell_id": "00037-670feaf7-a615-4859-8488-a2360024835f",
    "deepnote_cell_type": "code",
    "deepnote_to_be_reexecuted": false,
    "execution_millis": 0,
    "execution_start": 1633941851251,
    "source_hash": "3eac0eaf",
    "tags": []
   },
   "outputs": [],
   "source": [
    "patients_labels = {\n",
    "    **studies_labels,\n",
    "    'age_at_treatment_start_in_years': 'Age (treatment start, years)',\n",
    "    'duration_treatment_in_days': 'Treatment duration (days)',\n",
    "    'death_event_observed': 'Death observed',\n",
    "    'survival_in_days': 'Survival time (days)',\n",
    "    'time': 'Time (days)',\n",
    "    'survival_probability': 'Survival probability',\n",
    "    'survival_1_year': '1-year Survival',\n",
    "    'bmi': 'Body-Mass Index',\n",
    "    'sex': 'Sex'\n",
    "}"
   ]
  },
  {
   "cell_type": "markdown",
   "id": "a4b707c8",
   "metadata": {
    "cell_id": "00038-b9375573-4e1c-4687-a116-d397c0ad13eb",
    "deepnote_app_coordinates": {
     "h": 2,
     "w": 12,
     "x": 0,
     "y": 0
    },
    "deepnote_cell_type": "text-cell-h3",
    "is_collapsed": false,
    "tags": []
   },
   "source": [
    "### Visualisations"
   ]
  },
  {
   "cell_type": "code",
   "execution_count": null,
   "id": "7b1a167c",
   "metadata": {
    "cell_id": "00037-debdbfdd-58bb-42ba-8edd-a9237a08483d",
    "deepnote_app_coordinates": {
     "h": 5,
     "w": 12,
     "x": 0,
     "y": 0
    },
    "deepnote_app_is_code_hidden": true,
    "deepnote_cell_type": "code",
    "deepnote_to_be_reexecuted": false,
    "execution_millis": 69,
    "execution_start": 1633941822490,
    "source_hash": "72e6dc4a",
    "tags": []
   },
   "outputs": [],
   "source": [
    "px.histogram(patients, x='age_at_treatment_start_in_years', color='survival_1_year',\n",
    "             labels=patients_labels) \\\n",
    "    .update_layout(legend=top_h_legend, yaxis_title='Patients (count)', barmode='overlay') \\\n",
    "    .update_traces(opacity=0.5)"
   ]
  },
  {
   "cell_type": "code",
   "execution_count": null,
   "id": "b9718092",
   "metadata": {
    "cell_id": "00039-494015d5-4dd7-40da-bec4-6566123e8a1d",
    "deepnote_app_coordinates": {
     "h": 5,
     "w": 12,
     "x": 0,
     "y": 0
    },
    "deepnote_app_is_code_hidden": true,
    "deepnote_cell_type": "code",
    "deepnote_to_be_reexecuted": false,
    "execution_millis": 233,
    "execution_start": 1633941826207,
    "source_hash": "2550a31c",
    "tags": []
   },
   "outputs": [],
   "source": [
    "px.histogram(patients, x='duration_treatment_in_days', facet_col='survival_1_year',\n",
    "             labels=patients_labels) \\\n",
    "    .update_layout(legend=top_h_legend, yaxis_title='Patients (count)')"
   ]
  },
  {
   "cell_type": "code",
   "execution_count": null,
   "id": "700d9607",
   "metadata": {
    "cell_id": "00040-a159565c-b003-4df3-93c0-a7c7837fe18d",
    "deepnote_app_coordinates": {
     "h": 5,
     "w": 12,
     "x": 0,
     "y": 0
    },
    "deepnote_app_is_code_hidden": true,
    "deepnote_cell_type": "code",
    "deepnote_to_be_reexecuted": false,
    "execution_millis": 36,
    "execution_start": 1633941828825,
    "source_hash": "79093f4a",
    "tags": []
   },
   "outputs": [],
   "source": [
    "px.scatter(patients, x='age_at_treatment_start_in_years', \n",
    "           y='survival_in_days', color='survival_1_year',\n",
    "           labels=patients_labels) \\\n",
    "    .update_layout(legend=top_h_legend)"
   ]
  },
  {
   "cell_type": "code",
   "execution_count": null,
   "id": "47462245",
   "metadata": {
    "cell_id": "00041-b4c901f1-e11f-4292-b497-a5977ad0a1ac",
    "deepnote_app_is_code_hidden": false,
    "deepnote_cell_type": "code",
    "deepnote_to_be_reexecuted": false,
    "execution_millis": 3184,
    "execution_start": 1633940701283,
    "is_output_hidden": false,
    "source_hash": "92107c24",
    "tags": []
   },
   "outputs": [],
   "source": [
    "!pip install -q scikit-survival\n",
    "from sksurv.nonparametric import kaplan_meier_estimator\n",
    "\n",
    "# Kaplan-Meier\n",
    "time, s_prob = kaplan_meier_estimator(patients.death_event_observed, patients.survival_in_days)\n",
    "km_df = pd.DataFrame(np.array([time, s_prob]).T, columns=['time', 'survival_probability'])"
   ]
  },
  {
   "cell_type": "code",
   "execution_count": null,
   "id": "1b4e96cc",
   "metadata": {
    "cell_id": "00042-8b55dfb5-6ab4-4dd0-bf95-ddf70458c38d",
    "deepnote_app_coordinates": {
     "h": 5,
     "w": 12,
     "x": 0,
     "y": 0
    },
    "deepnote_app_is_code_hidden": true,
    "deepnote_cell_type": "code",
    "deepnote_to_be_reexecuted": true,
    "execution_millis": 63,
    "execution_start": 1633022876905,
    "source_hash": "ecb1676b",
    "tags": []
   },
   "outputs": [],
   "source": [
    "px.line(km_df, x='time', y='survival_probability', line_shape='hv',\n",
    "        labels=patients_labels)"
   ]
  },
  {
   "cell_type": "code",
   "execution_count": null,
   "id": "4d562722",
   "metadata": {
    "cell_id": "00047-234c01b9-8457-435a-9e12-073f752509a6",
    "deepnote_app_coordinates": {
     "h": 5,
     "w": 12,
     "x": 0,
     "y": 0
    },
    "deepnote_cell_type": "code",
    "deepnote_to_be_reexecuted": false,
    "execution_millis": 74,
    "execution_start": 1633941834928,
    "source_hash": "4b4bd104",
    "tags": []
   },
   "outputs": [],
   "source": [
    "px.scatter(patients, x='bmi', y='age_at_treatment_start_in_years', color='sex',\n",
    "           labels=patients_labels) \\\n",
    "    .update_layout(legend=top_h_legend)"
   ]
  },
  {
   "cell_type": "code",
   "execution_count": null,
   "id": "021bd243",
   "metadata": {
    "cell_id": "00048-fd1ce390-7c7b-43d7-9b7b-3439ece7065a",
    "deepnote_app_coordinates": {
     "h": 5,
     "w": 12,
     "x": 0,
     "y": 0
    },
    "deepnote_cell_type": "code",
    "deepnote_to_be_reexecuted": false,
    "execution_millis": 76,
    "execution_start": 1633941447534,
    "source_hash": "a2bb42d5",
    "tags": []
   },
   "outputs": [],
   "source": [
    "px.scatter_matrix(patients, \n",
    "                  dimensions=['asat_sang_ul', 'bili_totale_sang_umoll', 'mono_absolus_gl',\n",
    "       'alat_sang_ul', 'plaquettes_sang_gl', 'lympho_absolus_gl',\n",
    "       'albumine_sang_gl', 'proteine_c_reacsang_mgl', 'potassium_sang_mmoll',\n",
    "       'hemoglobine_sang_gl']) \\\n",
    "    .update_layout(legend=top_h_legend)"
   ]
  },
  {
   "cell_type": "code",
   "execution_count": null,
   "id": "ece2ffd4",
   "metadata": {
    "cell_id": "00049-649d6693-bdb7-4b8e-a45b-1aa435a74e88",
    "deepnote_app_coordinates": {
     "h": 5,
     "w": 12,
     "x": 0,
     "y": 0
    },
    "deepnote_cell_type": "code",
    "deepnote_to_be_reexecuted": false,
    "execution_millis": 43,
    "execution_start": 1633941472797,
    "source_hash": "b0b176ba",
    "tags": []
   },
   "outputs": [],
   "source": [
    "px.scatter_matrix(patients, \n",
    "                  dimensions=['calcium_sang_mmoll', 'ldh_sang_ul',\n",
    "       'creatinine_sang_umoll', 'pal_sang_ul', 'neutro_absolus_gl',\n",
    "       'eosini_absolus_gl', 'baso_absolus_gl', 'ggt_sang_ul',\n",
    "       'gfr_cal_mlmin173m2', 'leucocytes_sang_gl']) \\\n",
    "    .update_layout(legend=top_h_legend)"
   ]
  },
  {
   "cell_type": "code",
   "execution_count": null,
   "id": "9f2849d9",
   "metadata": {
    "allow_embed": false,
    "cell_id": "00050-254e96b5-1a9e-4c58-9dd7-43a38fb41a94",
    "deepnote_app_coordinates": {
     "h": 5,
     "w": 12,
     "x": 0,
     "y": 0
    },
    "deepnote_cell_type": "code",
    "deepnote_to_be_reexecuted": false,
    "execution_millis": 38,
    "execution_start": 1633941557025,
    "source_hash": "1f4e2efe",
    "tags": []
   },
   "outputs": [],
   "source": [
    "px.scatter_matrix(patients, \n",
    "                  dimensions=['eGFRCKD2', 'eGFRCG', 'X67',\n",
    "       'NRAS_MUTATION', 'NRAS_MUT_TYPE', 'BRAF_MUTATION', 'BRAF_MUT_TYPE',\n",
    "       'concomittant_tvec', 'concomittant_LAG3', 'prior_targeted_therapy',\n",
    "       'prior_treatment', 'immuno_therapy_type', 'nivo_maintenance']) \\\n",
    "    .update_layout(legend=top_h_legend)"
   ]
  },
  {
   "cell_type": "code",
   "execution_count": null,
   "id": "8f7b4ec7",
   "metadata": {
    "cell_id": "00050-ddf9a943-c90c-4955-b7fc-d2f8d546aef1",
    "deepnote_app_coordinates": {
     "h": 5,
     "w": 12,
     "x": 0,
     "y": 0
    },
    "deepnote_cell_type": "code",
    "tags": []
   },
   "outputs": [],
   "source": []
  },
  {
   "cell_type": "markdown",
   "id": "9e9192b6",
   "metadata": {
    "created_in_deepnote_cell": true,
    "deepnote_cell_type": "markdown",
    "tags": []
   },
   "source": [
    "<a style='text-decoration:none;line-height:16px;display:flex;color:#5B5B62;padding:10px;justify-content:end;' href='https://deepnote.com?utm_source=created-in-deepnote-cell&projectId=7360151b-146e-499a-b01b-835ca18c34fa' target=\"_blank\">\n",
    "<img alt='Created in deepnote.com' style='display:inline;max-height:16px;margin:0px;margin-right:7.5px;' src='data:image/svg+xml;base64,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' > </img>\n",
    "Created in <span style='font-weight:600;margin-left:4px;'>Deepnote</span></a>"
   ]
  }
 ],
 "metadata": {
  "deepnote": {},
  "deepnote_app_layout": "article",
  "deepnote_execution_queue": [],
  "deepnote_notebook_id": "bc024147-2b8e-436a-ba0d-2495ff57ca3e",
  "interpreter": {
   "hash": "947aba3e9b2ee8e94b9a4f86dd9db3bac2e8c16055cb5eb2c317ce168f84ce4b"
  },
  "kernelspec": {
   "display_name": "Python 3.8.10 64-bit ('ds': conda)",
   "name": "python3"
  },
  "language_info": {
   "codemirror_mode": {
    "name": "ipython",
    "version": 3
   },
   "file_extension": ".py",
   "mimetype": "text/x-python",
   "name": "python",
   "nbconvert_exporter": "python",
   "pygments_lexer": "ipython3",
   "version": "3.8.10"
  }
 },
 "nbformat": 4,
 "nbformat_minor": 5
}
