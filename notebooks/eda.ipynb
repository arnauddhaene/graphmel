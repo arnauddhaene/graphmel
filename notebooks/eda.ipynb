{
 "cells": [
  {
   "cell_type": "markdown",
   "source": "# Exploratory Data Analysis",
   "metadata": {
    "cell_id": "00001-8856a0e4-8b87-4171-b95a-03319be86d45",
    "deepnote_app_coordinates": {
     "h": 2,
     "w": 12,
     "x": 0,
     "y": 238
    },
    "is_collapsed": false,
    "tags": [],
    "deepnote_cell_type": "text-cell-h1"
   }
  },
  {
   "cell_type": "markdown",
   "source": "## Libraries and data import",
   "metadata": {
    "cell_id": "00001-5ea9cdbc-817b-4337-9482-e679749166a7",
    "is_collapsed": false,
    "jp-MarkdownHeadingCollapsed": true,
    "tags": [],
    "deepnote_cell_type": "text-cell-h2"
   }
  },
  {
   "cell_type": "code",
   "source": "!pip install -q networkx\n!pip install -q mlflow\n!pip install -q torch-scatter -f https://pytorch-geometric.com/whl/torch-1.9.0+cu102.html\n!pip install -q torch-sparse -f https://pytorch-geometric.com/whl/torch-1.9.0+cu102.html\n!pip install -q git+https://github.com/rusty1s/pytorch_geometric.git",
   "metadata": {
    "tags": [],
    "deepnote_app_coordinates": {
     "x": 0,
     "y": 0,
     "w": 12,
     "h": 5
    },
    "cell_id": "00002-936947e8-94d3-4c18-a6e9-a939506741cd",
    "deepnote_to_be_reexecuted": false,
    "source_hash": "1979be3c",
    "execution_start": 1633938495235,
    "execution_millis": 16191,
    "deepnote_cell_type": "code"
   },
   "outputs": [],
   "execution_count": null
  },
  {
   "cell_type": "code",
   "metadata": {
    "cell_id": "00000-207be0c3-1fda-4ef8-bf43-49b770dfafdf",
    "deepnote_app_is_code_hidden": false,
    "deepnote_app_is_output_hidden": false,
    "deepnote_to_be_reexecuted": false,
    "execution_millis": 5,
    "execution_start": 1633939663324,
    "is_output_hidden": false,
    "source_hash": "a3d0962",
    "deepnote_cell_type": "code"
   },
   "source": "import os, sys\n\nimport pandas as pd\nimport numpy as np\n\nimport matplotlib.pyplot as plt\nimport seaborn as sns\n\nfrom sklearn.metrics import confusion_matrix, ConfusionMatrixDisplay\n\nimport plotly.express as px\nimport plotly.io as pio\npio.templates.default = 'seaborn'\n\nsys.path.append(os.path.abspath('..'))",
   "outputs": [],
   "execution_count": null
  },
  {
   "cell_type": "code",
   "metadata": {
    "cell_id": "00002-e468c095-ba0f-4a27-a338-ec13d6b00703",
    "deepnote_to_be_reexecuted": false,
    "execution_millis": 6,
    "execution_start": 1633938571784,
    "source_hash": "69b39e3",
    "deepnote_cell_type": "code"
   },
   "source": "from src.utils import FILES, extract_study_phase\n\nCONNECTION_DIR = '/datasets/'\nDATA_FOLDERS = ['data2021-09-20', 'data2021-10-04']",
   "outputs": [],
   "execution_count": null
  },
  {
   "cell_type": "markdown",
   "source": "## Lesions",
   "metadata": {
    "cell_id": "00004-70994b0c-2d24-489e-9413-7bd572e1d9e4",
    "deepnote_app_coordinates": {
     "h": 2,
     "w": 12,
     "x": 0,
     "y": 0
    },
    "is_collapsed": false,
    "jp-MarkdownHeadingCollapsed": true,
    "tags": [],
    "deepnote_cell_type": "text-cell-h2"
   }
  },
  {
   "cell_type": "markdown",
   "source": "### Dataset information",
   "metadata": {
    "cell_id": "00005-537db762-4f10-4f10-8067-c3b8092832e6",
    "deepnote_app_coordinates": {
     "h": 2,
     "w": 12,
     "x": 0,
     "y": 0
    },
    "is_collapsed": false,
    "tags": [],
    "deepnote_cell_type": "text-cell-h3"
   }
  },
  {
   "cell_type": "markdown",
   "source": "The lesions dataset contains the following features:\n\n* Each patient is attributed to a unique `gpcr_id [int]` \n* Each study is identified relative to the start of treatment with `study_name [str]` and the processed `study_phase [int]`\n* `roi_id [int]` is an identifier for the lesion's ROI (Region Of Interest)\n* `roi_name [str]` is a textual identifier for the lesion\n* `lesion_label_id [int]` is an identifier for the lesion's label\n* `pars_bodypart_petct [str]`, `pars_region_petct [str]`, `pars_subregion_petct [str]`, `pars_laterality_petct [str]` are categorical values output by PARS that help identify the location of the lesion\n* `pars_classification_petct [str]` is a categorical variable (either `benign` or `suspicious`)\n* `vol_ccm [float]` is the lesion volume in cubic centimeters\n* `max_suv_val [float]`, `mean_suv_val [float]`, `min_suv_val [float]`, and `sd_suv_val [float]` are relative to the lesions [SUV  (Standardized Uptake Values)](https://www.ncbi.nlm.nih.gov/pmc/articles/PMC3026294/)\n* `is_malignant [bool]` is the boolean value of `pars_classification_petct == 'suspicious'`\n*  `assigned_organ [str]` is the lesion's assigned organ (which is PARS output)",
   "metadata": {
    "cell_id": "00003-a5070c98-da1e-4c95-83ba-e7954b82fb4e",
    "deepnote_app_coordinates": {
     "h": 5,
     "w": 12,
     "x": 0,
     "y": 18
    },
    "deepnote_cell_type": "markdown"
   }
  },
  {
   "cell_type": "markdown",
   "source": "### Preprocessing",
   "metadata": {
    "cell_id": "00007-ece1ee9e-3af4-4fca-89bb-a829ba4d8888",
    "deepnote_app_coordinates": {
     "h": 2,
     "w": 12,
     "x": 0,
     "y": 0
    },
    "is_collapsed": false,
    "tags": [],
    "deepnote_cell_type": "text-cell-h3"
   }
  },
  {
   "cell_type": "code",
   "metadata": {
    "cell_id": "00004-8f346c84-cd1d-48fc-bfd2-e9b780e1a32a",
    "deepnote_app_coordinates": {
     "h": 5,
     "w": 12,
     "x": 0,
     "y": 24
    },
    "deepnote_app_is_code_hidden": true,
    "deepnote_to_be_reexecuted": false,
    "execution_millis": 392,
    "execution_start": 1633938574484,
    "source_hash": "9db30b8b",
    "deepnote_cell_type": "code"
   },
   "source": "lesions = pd.read_csv(os.path.join(CONNECTION_DIR + DATA_FOLDERS[0], FILES['lesions']))\nlesions['study_phase'] = lesions.study_name.apply(extract_study_phase)\nlesions = lesions[lesions.pars_classification_petct != 'benign']\n\n# Sorting by PARS classification allows for visualization consistency\nlesions.sort_values(by='pars_classification_petct', inplace=True)\nn_lesions, f_lesions = lesions.shape\n\nprint(f'Imported {n_lesions} lesions with {f_lesions} features. Null values: {lesions.isna().sum().sum()}')",
   "outputs": [
    {
     "name": "stdout",
     "text": "Imported 3251 lesions with 18 features. Null values: 0\n",
     "output_type": "stream"
    }
   ],
   "execution_count": null
  },
  {
   "cell_type": "code",
   "metadata": {
    "cell_id": "00007-cb25c1ed-e830-43de-a63c-9e46c845a88f",
    "deepnote_app_coordinates": {
     "h": 14,
     "w": 12,
     "x": 0,
     "y": 241
    },
    "deepnote_app_is_code_hidden": true,
    "deepnote_to_be_reexecuted": false,
    "execution_millis": 216,
    "execution_start": 1633938587172,
    "source_hash": "4804e93",
    "tags": [],
    "deepnote_cell_type": "code"
   },
   "source": "lesions",
   "outputs": [
    {
     "output_type": "execute_result",
     "execution_count": 18,
     "data": {
      "application/vnd.deepnote.dataframe.v2+json": {
       "row_count": 3251,
       "column_count": 18,
       "columns": [
        {
         "name": "gpcr_id",
         "dtype": "int64",
         "stats": {
          "unique_count": 119,
          "nan_count": 0,
          "min": "34610002",
          "max": "34610149",
          "histogram": [
           {
            "bin_start": 34610002,
            "bin_end": 34610016.7,
            "count": 377
           },
           {
            "bin_start": 34610016.7,
            "bin_end": 34610031.4,
            "count": 450
           },
           {
            "bin_start": 34610031.4,
            "bin_end": 34610046.1,
            "count": 492
           },
           {
            "bin_start": 34610046.1,
            "bin_end": 34610060.8,
            "count": 184
           },
           {
            "bin_start": 34610060.8,
            "bin_end": 34610075.5,
            "count": 217
           },
           {
            "bin_start": 34610075.5,
            "bin_end": 34610090.2,
            "count": 187
           },
           {
            "bin_start": 34610090.2,
            "bin_end": 34610104.9,
            "count": 276
           },
           {
            "bin_start": 34610104.9,
            "bin_end": 34610119.6,
            "count": 312
           },
           {
            "bin_start": 34610119.6,
            "bin_end": 34610134.3,
            "count": 207
           },
           {
            "bin_start": 34610134.3,
            "bin_end": 34610149,
            "count": 549
           }
          ]
         }
        },
        {
         "name": "study_name",
         "dtype": "object",
         "stats": {
          "unique_count": 16,
          "nan_count": 0,
          "categories": [
           {
            "name": "post-01",
            "count": 1128
           },
           {
            "name": "pre-01",
            "count": 846
           },
           {
            "name": "14 others",
            "count": 1277
           }
          ]
         }
        },
        {
         "name": "roi_id",
         "dtype": "int64",
         "stats": {
          "unique_count": 228,
          "nan_count": 0,
          "min": "0",
          "max": "275",
          "histogram": [
           {
            "bin_start": 0,
            "bin_end": 27.5,
            "count": 1363
           },
           {
            "bin_start": 27.5,
            "bin_end": 55,
            "count": 860
           },
           {
            "bin_start": 55,
            "bin_end": 82.5,
            "count": 470
           },
           {
            "bin_start": 82.5,
            "bin_end": 110,
            "count": 227
           },
           {
            "bin_start": 110,
            "bin_end": 137.5,
            "count": 121
           },
           {
            "bin_start": 137.5,
            "bin_end": 165,
            "count": 88
           },
           {
            "bin_start": 165,
            "bin_end": 192.5,
            "count": 66
           },
           {
            "bin_start": 192.5,
            "bin_end": 220,
            "count": 37
           },
           {
            "bin_start": 220,
            "bin_end": 247.5,
            "count": 7
           },
           {
            "bin_start": 247.5,
            "bin_end": 275,
            "count": 12
           }
          ]
         }
        },
        {
         "name": "roi_name",
         "dtype": "object",
         "stats": {
          "unique_count": 382,
          "nan_count": 0,
          "categories": [
           {
            "name": "LymphNodes1",
            "count": 208
           },
           {
            "name": "LymphNodes2",
            "count": 152
           },
           {
            "name": "380 others",
            "count": 2891
           }
          ]
         }
        },
        {
         "name": "lesion_label_id",
         "dtype": "int64",
         "stats": {
          "unique_count": 228,
          "nan_count": 0,
          "min": "1",
          "max": "276",
          "histogram": [
           {
            "bin_start": 1,
            "bin_end": 28.5,
            "count": 1363
           },
           {
            "bin_start": 28.5,
            "bin_end": 56,
            "count": 860
           },
           {
            "bin_start": 56,
            "bin_end": 83.5,
            "count": 470
           },
           {
            "bin_start": 83.5,
            "bin_end": 111,
            "count": 227
           },
           {
            "bin_start": 111,
            "bin_end": 138.5,
            "count": 121
           },
           {
            "bin_start": 138.5,
            "bin_end": 166,
            "count": 88
           },
           {
            "bin_start": 166,
            "bin_end": 193.5,
            "count": 66
           },
           {
            "bin_start": 193.5,
            "bin_end": 221,
            "count": 37
           },
           {
            "bin_start": 221,
            "bin_end": 248.5,
            "count": 7
           },
           {
            "bin_start": 248.5,
            "bin_end": 276,
            "count": 12
           }
          ]
         }
        },
        {
         "name": "pars_bodypart_petct",
         "dtype": "object",
         "stats": {
          "unique_count": 3,
          "nan_count": 0,
          "categories": [
           {
            "name": "abdomen",
            "count": 1449
           },
           {
            "name": "thorax",
            "count": 1435
           },
           {
            "name": "lower limb",
            "count": 367
           }
          ]
         }
        },
        {
         "name": "pars_region_petct",
         "dtype": "object",
         "stats": {
          "unique_count": 18,
          "nan_count": 0,
          "categories": [
           {
            "name": "lymph nodes",
            "count": 1451
           },
           {
            "name": "bones",
            "count": 684
           },
           {
            "name": "16 others",
            "count": 1116
           }
          ]
         }
        },
        {
         "name": "pars_subregion_petct",
         "dtype": "object",
         "stats": {
          "unique_count": 43,
          "nan_count": 0,
          "categories": [
           {
            "name": "not specified",
            "count": 777
           },
           {
            "name": "IASLC station 10",
            "count": 268
           },
           {
            "name": "41 others",
            "count": 2206
           }
          ]
         }
        },
        {
         "name": "pars_laterality_petct",
         "dtype": "object",
         "stats": {
          "unique_count": 3,
          "nan_count": 0,
          "categories": [
           {
            "name": "not specified",
            "count": 1433
           },
           {
            "name": "right",
            "count": 1008
           },
           {
            "name": "left",
            "count": 810
           }
          ]
         }
        },
        {
         "name": "pars_classification_petct",
         "dtype": "object",
         "stats": {
          "unique_count": 1,
          "nan_count": 0,
          "categories": [
           {
            "name": "suspicious",
            "count": 3251
           }
          ]
         }
        },
        {
         "name": "vol_ccm",
         "dtype": "float64",
         "stats": {
          "unique_count": 856,
          "nan_count": 0,
          "min": "0.5",
          "max": "384.05",
          "histogram": [
           {
            "bin_start": 0.5,
            "bin_end": 38.855000000000004,
            "count": 3161
           },
           {
            "bin_start": 38.855000000000004,
            "bin_end": 77.21000000000001,
            "count": 43
           },
           {
            "bin_start": 77.21000000000001,
            "bin_end": 115.56500000000001,
            "count": 18
           },
           {
            "bin_start": 115.56500000000001,
            "bin_end": 153.92000000000002,
            "count": 14
           },
           {
            "bin_start": 153.92000000000002,
            "bin_end": 192.27500000000003,
            "count": 8
           },
           {
            "bin_start": 192.27500000000003,
            "bin_end": 230.63000000000002,
            "count": 3
           },
           {
            "bin_start": 230.63000000000002,
            "bin_end": 268.985,
            "count": 1
           },
           {
            "bin_start": 268.985,
            "bin_end": 307.34000000000003,
            "count": 2
           },
           {
            "bin_start": 307.34000000000003,
            "bin_end": 345.69500000000005,
            "count": 0
           },
           {
            "bin_start": 345.69500000000005,
            "bin_end": 384.05,
            "count": 1
           }
          ]
         }
        },
        {
         "name": "max_suv_val",
         "dtype": "float64",
         "stats": {
          "unique_count": 1267,
          "nan_count": 0,
          "min": "2.66",
          "max": "1240.61",
          "histogram": [
           {
            "bin_start": 2.66,
            "bin_end": 126.45499999999998,
            "count": 3248
           },
           {
            "bin_start": 126.45499999999998,
            "bin_end": 250.24999999999997,
            "count": 1
           },
           {
            "bin_start": 250.24999999999997,
            "bin_end": 374.045,
            "count": 0
           },
           {
            "bin_start": 374.045,
            "bin_end": 497.84,
            "count": 1
           },
           {
            "bin_start": 497.84,
            "bin_end": 621.6349999999999,
            "count": 0
           },
           {
            "bin_start": 621.6349999999999,
            "bin_end": 745.43,
            "count": 0
           },
           {
            "bin_start": 745.43,
            "bin_end": 869.2249999999999,
            "count": 0
           },
           {
            "bin_start": 869.2249999999999,
            "bin_end": 993.0199999999999,
            "count": 0
           },
           {
            "bin_start": 993.0199999999999,
            "bin_end": 1116.815,
            "count": 0
           },
           {
            "bin_start": 1116.815,
            "bin_end": 1240.61,
            "count": 1
           }
          ]
         }
        },
        {
         "name": "mean_suv_val",
         "dtype": "float64",
         "stats": {
          "unique_count": 966,
          "nan_count": 0,
          "min": "1.56",
          "max": "714.83",
          "histogram": [
           {
            "bin_start": 1.56,
            "bin_end": 72.88700000000001,
            "count": 3248
           },
           {
            "bin_start": 72.88700000000001,
            "bin_end": 144.21400000000003,
            "count": 1
           },
           {
            "bin_start": 144.21400000000003,
            "bin_end": 215.54100000000005,
            "count": 0
           },
           {
            "bin_start": 215.54100000000005,
            "bin_end": 286.86800000000005,
            "count": 0
           },
           {
            "bin_start": 286.86800000000005,
            "bin_end": 358.19500000000005,
            "count": 1
           },
           {
            "bin_start": 358.19500000000005,
            "bin_end": 429.5220000000001,
            "count": 0
           },
           {
            "bin_start": 429.5220000000001,
            "bin_end": 500.8490000000001,
            "count": 0
           },
           {
            "bin_start": 500.8490000000001,
            "bin_end": 572.176,
            "count": 0
           },
           {
            "bin_start": 572.176,
            "bin_end": 643.503,
            "count": 0
           },
           {
            "bin_start": 643.503,
            "bin_end": 714.83,
            "count": 1
           }
          ]
         }
        },
        {
         "name": "min_suv_val",
         "dtype": "float64",
         "stats": {
          "unique_count": 781,
          "nan_count": 0,
          "min": "1.12",
          "max": "521.14",
          "histogram": [
           {
            "bin_start": 1.12,
            "bin_end": 53.12199999999999,
            "count": 3248
           },
           {
            "bin_start": 53.12199999999999,
            "bin_end": 105.124,
            "count": 1
           },
           {
            "bin_start": 105.124,
            "bin_end": 157.12599999999998,
            "count": 0
           },
           {
            "bin_start": 157.12599999999998,
            "bin_end": 209.128,
            "count": 0
           },
           {
            "bin_start": 209.128,
            "bin_end": 261.13,
            "count": 0
           },
           {
            "bin_start": 261.13,
            "bin_end": 313.13199999999995,
            "count": 1
           },
           {
            "bin_start": 313.13199999999995,
            "bin_end": 365.13399999999996,
            "count": 0
           },
           {
            "bin_start": 365.13399999999996,
            "bin_end": 417.13599999999997,
            "count": 0
           },
           {
            "bin_start": 417.13599999999997,
            "bin_end": 469.138,
            "count": 0
           },
           {
            "bin_start": 469.138,
            "bin_end": 521.14,
            "count": 1
           }
          ]
         }
        },
        {
         "name": "sd_suv_val",
         "dtype": "float64",
         "stats": {
          "unique_count": 382,
          "nan_count": 0,
          "min": "0.17",
          "max": "159.7",
          "histogram": [
           {
            "bin_start": 0.17,
            "bin_end": 16.123,
            "count": 3248
           },
           {
            "bin_start": 16.123,
            "bin_end": 32.076,
            "count": 2
           },
           {
            "bin_start": 32.076,
            "bin_end": 48.028999999999996,
            "count": 0
           },
           {
            "bin_start": 48.028999999999996,
            "bin_end": 63.982,
            "count": 0
           },
           {
            "bin_start": 63.982,
            "bin_end": 79.935,
            "count": 0
           },
           {
            "bin_start": 79.935,
            "bin_end": 95.88799999999999,
            "count": 0
           },
           {
            "bin_start": 95.88799999999999,
            "bin_end": 111.841,
            "count": 0
           },
           {
            "bin_start": 111.841,
            "bin_end": 127.794,
            "count": 0
           },
           {
            "bin_start": 127.794,
            "bin_end": 143.74699999999999,
            "count": 0
           },
           {
            "bin_start": 143.74699999999999,
            "bin_end": 159.7,
            "count": 1
           }
          ]
         }
        },
        {
         "name": "is_malignant",
         "dtype": "bool",
         "stats": {
          "unique_count": 1,
          "nan_count": 0,
          "categories": [
           {
            "name": "True",
            "count": 3251
           }
          ]
         }
        },
        {
         "name": "assigned_organ",
         "dtype": "object",
         "stats": {
          "unique_count": 13,
          "nan_count": 0,
          "categories": [
           {
            "name": "lymphnode_abdomen",
            "count": 499
           },
           {
            "name": "other_thorax",
            "count": 481
           },
           {
            "name": "11 others",
            "count": 2271
           }
          ]
         }
        },
        {
         "name": "study_phase",
         "dtype": "int64",
         "stats": {
          "unique_count": 16,
          "nan_count": 0,
          "min": "-2",
          "max": "14",
          "histogram": [
           {
            "bin_start": -2,
            "bin_end": -0.3999999999999999,
            "count": 916
           },
           {
            "bin_start": -0.3999999999999999,
            "bin_end": 1.2000000000000002,
            "count": 1128
           },
           {
            "bin_start": 1.2000000000000002,
            "bin_end": 2.8000000000000007,
            "count": 441
           },
           {
            "bin_start": 2.8000000000000007,
            "bin_end": 4.4,
            "count": 396
           },
           {
            "bin_start": 4.4,
            "bin_end": 6,
            "count": 144
           },
           {
            "bin_start": 6,
            "bin_end": 7.600000000000001,
            "count": 146
           },
           {
            "bin_start": 7.600000000000001,
            "bin_end": 9.200000000000001,
            "count": 64
           },
           {
            "bin_start": 9.200000000000001,
            "bin_end": 10.8,
            "count": 8
           },
           {
            "bin_start": 10.8,
            "bin_end": 12.4,
            "count": 2
           },
           {
            "bin_start": 12.4,
            "bin_end": 14,
            "count": 6
           }
          ]
         }
        },
        {
         "name": "_deepnote_index_column",
         "dtype": "int64"
        }
       ],
       "rows_top": [
        {
         "gpcr_id": 34610002,
         "study_name": "pre-01",
         "roi_id": 0,
         "roi_name": "Muscles1",
         "lesion_label_id": 1,
         "pars_bodypart_petct": "lower limb",
         "pars_region_petct": "muscles",
         "pars_subregion_petct": "upper leg group",
         "pars_laterality_petct": "right",
         "pars_classification_petct": "suspicious",
         "vol_ccm": 1,
         "max_suv_val": 5.58,
         "mean_suv_val": 3.37,
         "min_suv_val": 2.36,
         "sd_suv_val": 0.92,
         "is_malignant": true,
         "assigned_organ": "other_lowerlimb",
         "study_phase": -1,
         "_deepnote_index_column": 0
        },
        {
         "gpcr_id": 34610104,
         "study_name": "post-01",
         "roi_id": 23,
         "roi_name": "Liver1",
         "lesion_label_id": 24,
         "pars_bodypart_petct": "abdomen",
         "pars_region_petct": "liver",
         "pars_subregion_petct": "not specified",
         "pars_laterality_petct": "right",
         "pars_classification_petct": "suspicious",
         "vol_ccm": 1.03,
         "max_suv_val": 3.66,
         "mean_suv_val": 3.13,
         "min_suv_val": 2.82,
         "sd_suv_val": 0.21,
         "is_malignant": true,
         "assigned_organ": "liver",
         "study_phase": 1,
         "_deepnote_index_column": 16135
        },
        {
         "gpcr_id": 34610104,
         "study_name": "post-01",
         "roi_id": 25,
         "roi_name": "Liver2",
         "lesion_label_id": 26,
         "pars_bodypart_petct": "abdomen",
         "pars_region_petct": "liver",
         "pars_subregion_petct": "not specified",
         "pars_laterality_petct": "right",
         "pars_classification_petct": "suspicious",
         "vol_ccm": 2.91,
         "max_suv_val": 7.23,
         "mean_suv_val": 4.16,
         "min_suv_val": 3.05,
         "sd_suv_val": 0.98,
         "is_malignant": true,
         "assigned_organ": "liver",
         "study_phase": 1,
         "_deepnote_index_column": 16137
        },
        {
         "gpcr_id": 34610104,
         "study_name": "post-01",
         "roi_id": 26,
         "roi_name": "Liver3",
         "lesion_label_id": 27,
         "pars_bodypart_petct": "abdomen",
         "pars_region_petct": "liver",
         "pars_subregion_petct": "not specified",
         "pars_laterality_petct": "left",
         "pars_classification_petct": "suspicious",
         "vol_ccm": 3.89,
         "max_suv_val": 4.41,
         "mean_suv_val": 2.96,
         "min_suv_val": 2.51,
         "sd_suv_val": 0.43,
         "is_malignant": true,
         "assigned_organ": "liver",
         "study_phase": 1,
         "_deepnote_index_column": 16138
        },
        {
         "gpcr_id": 34610104,
         "study_name": "post-01",
         "roi_id": 30,
         "roi_name": "Spleen1",
         "lesion_label_id": 31,
         "pars_bodypart_petct": "abdomen",
         "pars_region_petct": "spleen",
         "pars_subregion_petct": "not specified",
         "pars_laterality_petct": "not specified",
         "pars_classification_petct": "suspicious",
         "vol_ccm": 13.54,
         "max_suv_val": 16.34,
         "mean_suv_val": 10.14,
         "min_suv_val": 6.87,
         "sd_suv_val": 2.08,
         "is_malignant": true,
         "assigned_organ": "spleen",
         "study_phase": 1,
         "_deepnote_index_column": 16142
        },
        {
         "gpcr_id": 34610104,
         "study_name": "post-01",
         "roi_id": 34,
         "roi_name": "Liver4",
         "lesion_label_id": 35,
         "pars_bodypart_petct": "abdomen",
         "pars_region_petct": "liver",
         "pars_subregion_petct": "not specified",
         "pars_laterality_petct": "left",
         "pars_classification_petct": "suspicious",
         "vol_ccm": 23.64,
         "max_suv_val": 16.77,
         "mean_suv_val": 9.07,
         "min_suv_val": 7.05,
         "sd_suv_val": 1.85,
         "is_malignant": true,
         "assigned_organ": "other_abdomen",
         "study_phase": 1,
         "_deepnote_index_column": 16146
        },
        {
         "gpcr_id": 34610104,
         "study_name": "post-01",
         "roi_id": 41,
         "roi_name": "Kidney11",
         "lesion_label_id": 42,
         "pars_bodypart_petct": "abdomen",
         "pars_region_petct": "kidney",
         "pars_subregion_petct": "not specified",
         "pars_laterality_petct": "left",
         "pars_classification_petct": "suspicious",
         "vol_ccm": 3.99,
         "max_suv_val": 6.18,
         "mean_suv_val": 4.68,
         "min_suv_val": 3.83,
         "sd_suv_val": 0.63,
         "is_malignant": true,
         "assigned_organ": "spleen",
         "study_phase": 1,
         "_deepnote_index_column": 16153
        },
        {
         "gpcr_id": 34610104,
         "study_name": "post-01",
         "roi_id": 43,
         "roi_name": "Spleen2",
         "lesion_label_id": 44,
         "pars_bodypart_petct": "abdomen",
         "pars_region_petct": "spleen",
         "pars_subregion_petct": "not specified",
         "pars_laterality_petct": "not specified",
         "pars_classification_petct": "suspicious",
         "vol_ccm": 23.5,
         "max_suv_val": 18.61,
         "mean_suv_val": 11.73,
         "min_suv_val": 8.75,
         "sd_suv_val": 2.06,
         "is_malignant": true,
         "assigned_organ": "spleen",
         "study_phase": 1,
         "_deepnote_index_column": 16155
        },
        {
         "gpcr_id": 34610104,
         "study_name": "post-01",
         "roi_id": 45,
         "roi_name": "LymphNodes8",
         "lesion_label_id": 46,
         "pars_bodypart_petct": "abdomen",
         "pars_region_petct": "lymph nodes",
         "pars_subregion_petct": "para-aortic",
         "pars_laterality_petct": "right",
         "pars_classification_petct": "suspicious",
         "vol_ccm": 1.25,
         "max_suv_val": 9.89,
         "mean_suv_val": 8.06,
         "min_suv_val": 7.13,
         "sd_suv_val": 0.72,
         "is_malignant": true,
         "assigned_organ": "lymphnode_abdomen",
         "study_phase": 1,
         "_deepnote_index_column": 16157
        },
        {
         "gpcr_id": 34610104,
         "study_name": "post-01",
         "roi_id": 46,
         "roi_name": "Spleen3",
         "lesion_label_id": 47,
         "pars_bodypart_petct": "abdomen",
         "pars_region_petct": "spleen",
         "pars_subregion_petct": "not specified",
         "pars_laterality_petct": "not specified",
         "pars_classification_petct": "suspicious",
         "vol_ccm": 17.36,
         "max_suv_val": 15.72,
         "mean_suv_val": 9.85,
         "min_suv_val": 6.61,
         "sd_suv_val": 2.52,
         "is_malignant": true,
         "assigned_organ": "spleen",
         "study_phase": 1,
         "_deepnote_index_column": 16158
        },
        {
         "gpcr_id": 34610104,
         "study_name": "post-01",
         "roi_id": 48,
         "roi_name": "LymphNodes9",
         "lesion_label_id": 49,
         "pars_bodypart_petct": "abdomen",
         "pars_region_petct": "lymph nodes",
         "pars_subregion_petct": "para-aortic",
         "pars_laterality_petct": "left",
         "pars_classification_petct": "suspicious",
         "vol_ccm": 2.3,
         "max_suv_val": 9.94,
         "mean_suv_val": 7.07,
         "min_suv_val": 5.67,
         "sd_suv_val": 0.93,
         "is_malignant": true,
         "assigned_organ": "liver",
         "study_phase": 1,
         "_deepnote_index_column": 16160
        },
        {
         "gpcr_id": 34610104,
         "study_name": "post-01",
         "roi_id": 49,
         "roi_name": "Spleen4",
         "lesion_label_id": 50,
         "pars_bodypart_petct": "abdomen",
         "pars_region_petct": "spleen",
         "pars_subregion_petct": "not specified",
         "pars_laterality_petct": "not specified",
         "pars_classification_petct": "suspicious",
         "vol_ccm": 1,
         "max_suv_val": 9.2,
         "mean_suv_val": 7.36,
         "min_suv_val": 6.62,
         "sd_suv_val": 0.61,
         "is_malignant": true,
         "assigned_organ": "spleen",
         "study_phase": 1,
         "_deepnote_index_column": 16161
        },
        {
         "gpcr_id": 34610104,
         "study_name": "post-01",
         "roi_id": 50,
         "roi_name": "Liver5",
         "lesion_label_id": 51,
         "pars_bodypart_petct": "abdomen",
         "pars_region_petct": "liver",
         "pars_subregion_petct": "not specified",
         "pars_laterality_petct": "right",
         "pars_classification_petct": "suspicious",
         "vol_ccm": 13.4,
         "max_suv_val": 7.41,
         "mean_suv_val": 4.11,
         "min_suv_val": 3.12,
         "sd_suv_val": 0.84,
         "is_malignant": true,
         "assigned_organ": "liver",
         "study_phase": 1,
         "_deepnote_index_column": 16162
        },
        {
         "gpcr_id": 34610104,
         "study_name": "post-01",
         "roi_id": 51,
         "roi_name": "LymphNodes10",
         "lesion_label_id": 52,
         "pars_bodypart_petct": "abdomen",
         "pars_region_petct": "lymph nodes",
         "pars_subregion_petct": "para-aortic",
         "pars_laterality_petct": "not specified",
         "pars_classification_petct": "suspicious",
         "vol_ccm": 2.08,
         "max_suv_val": 10.26,
         "mean_suv_val": 6.29,
         "min_suv_val": 4.32,
         "sd_suv_val": 1.49,
         "is_malignant": true,
         "assigned_organ": "liver",
         "study_phase": 1,
         "_deepnote_index_column": 16163
        },
        {
         "gpcr_id": 34610104,
         "study_name": "post-01",
         "roi_id": 52,
         "roi_name": "Spleen5",
         "lesion_label_id": 53,
         "pars_bodypart_petct": "abdomen",
         "pars_region_petct": "spleen",
         "pars_subregion_petct": "not specified",
         "pars_laterality_petct": "not specified",
         "pars_classification_petct": "suspicious",
         "vol_ccm": 0.76,
         "max_suv_val": 10.48,
         "mean_suv_val": 8.95,
         "min_suv_val": 8.1,
         "sd_suv_val": 0.64,
         "is_malignant": true,
         "assigned_organ": "spleen",
         "study_phase": 1,
         "_deepnote_index_column": 16164
        },
        {
         "gpcr_id": 34610104,
         "study_name": "post-01",
         "roi_id": 53,
         "roi_name": "LymphNodes11",
         "lesion_label_id": 54,
         "pars_bodypart_petct": "thorax",
         "pars_region_petct": "lymph nodes",
         "pars_subregion_petct": "IASLC station 3",
         "pars_laterality_petct": "not specified",
         "pars_classification_petct": "suspicious",
         "vol_ccm": 2.44,
         "max_suv_val": 5.85,
         "mean_suv_val": 3.65,
         "min_suv_val": 2.75,
         "sd_suv_val": 0.79,
         "is_malignant": true,
         "assigned_organ": "liver",
         "study_phase": 1,
         "_deepnote_index_column": 16165
        },
        {
         "gpcr_id": 34610104,
         "study_name": "post-01",
         "roi_id": 54,
         "roi_name": "LymphNodes12",
         "lesion_label_id": 55,
         "pars_bodypart_petct": "abdomen",
         "pars_region_petct": "lymph nodes",
         "pars_subregion_petct": "peri-splenic",
         "pars_laterality_petct": "not specified",
         "pars_classification_petct": "suspicious",
         "vol_ccm": 6.8,
         "max_suv_val": 13.41,
         "mean_suv_val": 9.99,
         "min_suv_val": 7.01,
         "sd_suv_val": 1.82,
         "is_malignant": true,
         "assigned_organ": "spleen",
         "study_phase": 1,
         "_deepnote_index_column": 16166
        },
        {
         "gpcr_id": 34610104,
         "study_name": "post-01",
         "roi_id": 55,
         "roi_name": "Spleen6",
         "lesion_label_id": 56,
         "pars_bodypart_petct": "abdomen",
         "pars_region_petct": "spleen",
         "pars_subregion_petct": "not specified",
         "pars_laterality_petct": "not specified",
         "pars_classification_petct": "suspicious",
         "vol_ccm": 118.82,
         "max_suv_val": 19.53,
         "mean_suv_val": 10.99,
         "min_suv_val": 8.2,
         "sd_suv_val": 2.19,
         "is_malignant": true,
         "assigned_organ": "spleen",
         "study_phase": 1,
         "_deepnote_index_column": 16167
        },
        {
         "gpcr_id": 34610104,
         "study_name": "post-01",
         "roi_id": 56,
         "roi_name": "Liver6",
         "lesion_label_id": 57,
         "pars_bodypart_petct": "abdomen",
         "pars_region_petct": "liver",
         "pars_subregion_petct": "not specified",
         "pars_laterality_petct": "left",
         "pars_classification_petct": "suspicious",
         "vol_ccm": 5.21,
         "max_suv_val": 4.81,
         "mean_suv_val": 3.19,
         "min_suv_val": 2.74,
         "sd_suv_val": 0.42,
         "is_malignant": true,
         "assigned_organ": "liver",
         "study_phase": 1,
         "_deepnote_index_column": 16168
        },
        {
         "gpcr_id": 34610104,
         "study_name": "post-01",
         "roi_id": 57,
         "roi_name": "Spleen7",
         "lesion_label_id": 58,
         "pars_bodypart_petct": "abdomen",
         "pars_region_petct": "spleen",
         "pars_subregion_petct": "not specified",
         "pars_laterality_petct": "not specified",
         "pars_classification_petct": "suspicious",
         "vol_ccm": 19,
         "max_suv_val": 10.56,
         "mean_suv_val": 7,
         "min_suv_val": 4.44,
         "sd_suv_val": 1.63,
         "is_malignant": true,
         "assigned_organ": "spleen",
         "study_phase": 1,
         "_deepnote_index_column": 16169
        },
        {
         "gpcr_id": 34610104,
         "study_name": "post-01",
         "roi_id": 58,
         "roi_name": "LymphNodes13",
         "lesion_label_id": 59,
         "pars_bodypart_petct": "thorax",
         "pars_region_petct": "lymph nodes",
         "pars_subregion_petct": "IASLC station 8",
         "pars_laterality_petct": "not specified",
         "pars_classification_petct": "suspicious",
         "vol_ccm": 1.37,
         "max_suv_val": 13.36,
         "mean_suv_val": 8.19,
         "min_suv_val": 5.62,
         "sd_suv_val": 2.02,
         "is_malignant": true,
         "assigned_organ": "bones_thorax",
         "study_phase": 1,
         "_deepnote_index_column": 16170
        },
        {
         "gpcr_id": 34610104,
         "study_name": "post-01",
         "roi_id": 59,
         "roi_name": "LymphNodes14",
         "lesion_label_id": 60,
         "pars_bodypart_petct": "thorax",
         "pars_region_petct": "lymph nodes",
         "pars_subregion_petct": "IASLC station 7",
         "pars_laterality_petct": "not specified",
         "pars_classification_petct": "suspicious",
         "vol_ccm": 9.85,
         "max_suv_val": 13.65,
         "mean_suv_val": 9.14,
         "min_suv_val": 5.73,
         "sd_suv_val": 2.03,
         "is_malignant": true,
         "assigned_organ": "other_thorax",
         "study_phase": 1,
         "_deepnote_index_column": 16171
        },
        {
         "gpcr_id": 34610104,
         "study_name": "post-01",
         "roi_id": 21,
         "roi_name": "LymphNodes6",
         "lesion_label_id": 22,
         "pars_bodypart_petct": "abdomen",
         "pars_region_petct": "lymph nodes",
         "pars_subregion_petct": "para-aortic",
         "pars_laterality_petct": "right",
         "pars_classification_petct": "suspicious",
         "vol_ccm": 1.71,
         "max_suv_val": 7.22,
         "mean_suv_val": 4.33,
         "min_suv_val": 3.04,
         "sd_suv_val": 1.12,
         "is_malignant": true,
         "assigned_organ": "lymphnode_abdomen",
         "study_phase": 1,
         "_deepnote_index_column": 16133
        },
        {
         "gpcr_id": 34610104,
         "study_name": "post-01",
         "roi_id": 60,
         "roi_name": "Lung1",
         "lesion_label_id": 61,
         "pars_bodypart_petct": "thorax",
         "pars_region_petct": "lung",
         "pars_subregion_petct": "upper lobe",
         "pars_laterality_petct": "right",
         "pars_classification_petct": "suspicious",
         "vol_ccm": 0.66,
         "max_suv_val": 10.05,
         "mean_suv_val": 6.15,
         "min_suv_val": 4.33,
         "sd_suv_val": 1.52,
         "is_malignant": true,
         "assigned_organ": "lung",
         "study_phase": 1,
         "_deepnote_index_column": 16172
        },
        {
         "gpcr_id": 34610104,
         "study_name": "post-01",
         "roi_id": 18,
         "roi_name": "LymphNodes5",
         "lesion_label_id": 19,
         "pars_bodypart_petct": "abdomen",
         "pars_region_petct": "lymph nodes",
         "pars_subregion_petct": "iliacal",
         "pars_laterality_petct": "right",
         "pars_classification_petct": "suspicious",
         "vol_ccm": 3.4,
         "max_suv_val": 4.76,
         "mean_suv_val": 2.77,
         "min_suv_val": 2,
         "sd_suv_val": 0.67,
         "is_malignant": true,
         "assigned_organ": "lymphnode_abdomen",
         "study_phase": 1,
         "_deepnote_index_column": 16130
        },
        {
         "gpcr_id": 34610104,
         "study_name": "post-01",
         "roi_id": 16,
         "roi_name": "LymphNodes4",
         "lesion_label_id": 17,
         "pars_bodypart_petct": "abdomen",
         "pars_region_petct": "lymph nodes",
         "pars_subregion_petct": "iliacal",
         "pars_laterality_petct": "left",
         "pars_classification_petct": "suspicious",
         "vol_ccm": 7.48,
         "max_suv_val": 8.05,
         "mean_suv_val": 4.57,
         "min_suv_val": 3.4,
         "sd_suv_val": 0.94,
         "is_malignant": true,
         "assigned_organ": "lymphnode_abdomen",
         "study_phase": 1,
         "_deepnote_index_column": 16128
        },
        {
         "gpcr_id": 34610104,
         "study_name": "pre-01",
         "roi_id": 14,
         "roi_name": "LymphNodes5",
         "lesion_label_id": 15,
         "pars_bodypart_petct": "abdomen",
         "pars_region_petct": "lymph nodes",
         "pars_subregion_petct": "para-aortic",
         "pars_laterality_petct": "right",
         "pars_classification_petct": "suspicious",
         "vol_ccm": 25.3,
         "max_suv_val": 12.72,
         "mean_suv_val": 7.73,
         "min_suv_val": 5.35,
         "sd_suv_val": 1.82,
         "is_malignant": true,
         "assigned_organ": "lymphnode_abdomen",
         "study_phase": -1,
         "_deepnote_index_column": 16094
        }
       ],
       "rows_bottom": [
        {
         "gpcr_id": 34610044,
         "study_name": "post-03",
         "roi_id": 56,
         "roi_name": "Bones14",
         "lesion_label_id": 57,
         "pars_bodypart_petct": "thorax",
         "pars_region_petct": "bones",
         "pars_subregion_petct": "ribs",
         "pars_laterality_petct": "not specified",
         "pars_classification_petct": "suspicious",
         "vol_ccm": 2.18,
         "max_suv_val": 5.68,
         "mean_suv_val": 3.53,
         "min_suv_val": 2.41,
         "sd_suv_val": 0.79,
         "is_malignant": true,
         "assigned_organ": "bones_thorax",
         "study_phase": 3,
         "_deepnote_index_column": 8149
        },
        {
         "gpcr_id": 34610044,
         "study_name": "post-03",
         "roi_id": 55,
         "roi_name": "Bones13",
         "lesion_label_id": 56,
         "pars_bodypart_petct": "thorax",
         "pars_region_petct": "bones",
         "pars_subregion_petct": "spine",
         "pars_laterality_petct": "not specified",
         "pars_classification_petct": "suspicious",
         "vol_ccm": 1.12,
         "max_suv_val": 9.15,
         "mean_suv_val": 5.65,
         "min_suv_val": 3.85,
         "sd_suv_val": 1.46,
         "is_malignant": true,
         "assigned_organ": "bones_thorax",
         "study_phase": 3,
         "_deepnote_index_column": 8148
        },
        {
         "gpcr_id": 34610044,
         "study_name": "post-03",
         "roi_id": 53,
         "roi_name": "LymphNodes12",
         "lesion_label_id": 54,
         "pars_bodypart_petct": "thorax",
         "pars_region_petct": "lymph nodes",
         "pars_subregion_petct": "IASLC station 3",
         "pars_laterality_petct": "not specified",
         "pars_classification_petct": "suspicious",
         "vol_ccm": 1.47,
         "max_suv_val": 12.69,
         "mean_suv_val": 8.04,
         "min_suv_val": 5.59,
         "sd_suv_val": 1.86,
         "is_malignant": true,
         "assigned_organ": "other_thorax",
         "study_phase": 3,
         "_deepnote_index_column": 8147
        },
        {
         "gpcr_id": 34610044,
         "study_name": "post-03",
         "roi_id": 52,
         "roi_name": "Pleura3",
         "lesion_label_id": 53,
         "pars_bodypart_petct": "thorax",
         "pars_region_petct": "pleura",
         "pars_subregion_petct": "not specified",
         "pars_laterality_petct": "left",
         "pars_classification_petct": "suspicious",
         "vol_ccm": 1.17,
         "max_suv_val": 2.99,
         "mean_suv_val": 2.18,
         "min_suv_val": 1.86,
         "sd_suv_val": 0.28,
         "is_malignant": true,
         "assigned_organ": "other_thorax",
         "study_phase": 3,
         "_deepnote_index_column": 8146
        },
        {
         "gpcr_id": 34610044,
         "study_name": "post-03",
         "roi_id": 18,
         "roi_name": "LymphNodes5",
         "lesion_label_id": 19,
         "pars_bodypart_petct": "abdomen",
         "pars_region_petct": "lymph nodes",
         "pars_subregion_petct": "para-aortic",
         "pars_laterality_petct": "left",
         "pars_classification_petct": "suspicious",
         "vol_ccm": 1.47,
         "max_suv_val": 4.37,
         "mean_suv_val": 2.56,
         "min_suv_val": 1.85,
         "sd_suv_val": 0.66,
         "is_malignant": true,
         "assigned_organ": "other_abdomen",
         "study_phase": 3,
         "_deepnote_index_column": 8115
        },
        {
         "gpcr_id": 34610044,
         "study_name": "post-03",
         "roi_id": 19,
         "roi_name": "Spleen1",
         "lesion_label_id": 20,
         "pars_bodypart_petct": "abdomen",
         "pars_region_petct": "spleen",
         "pars_subregion_petct": "not specified",
         "pars_laterality_petct": "not specified",
         "pars_classification_petct": "suspicious",
         "vol_ccm": 0.86,
         "max_suv_val": 2.98,
         "mean_suv_val": 1.81,
         "min_suv_val": 1.42,
         "sd_suv_val": 0.4,
         "is_malignant": true,
         "assigned_organ": "other_abdomen",
         "study_phase": 3,
         "_deepnote_index_column": 8116
        },
        {
         "gpcr_id": 34610044,
         "study_name": "post-03",
         "roi_id": 20,
         "roi_name": "Bones3",
         "lesion_label_id": 21,
         "pars_bodypart_petct": "thorax",
         "pars_region_petct": "bones",
         "pars_subregion_petct": "ribs",
         "pars_laterality_petct": "not specified",
         "pars_classification_petct": "suspicious",
         "vol_ccm": 4.01,
         "max_suv_val": 3,
         "mean_suv_val": 1.58,
         "min_suv_val": 1.26,
         "sd_suv_val": 0.3,
         "is_malignant": true,
         "assigned_organ": "bones_thorax",
         "study_phase": 3,
         "_deepnote_index_column": 8117
        },
        {
         "gpcr_id": 34610044,
         "study_name": "post-03",
         "roi_id": 22,
         "roi_name": "Spleen2",
         "lesion_label_id": 23,
         "pars_bodypart_petct": "abdomen",
         "pars_region_petct": "spleen",
         "pars_subregion_petct": "not specified",
         "pars_laterality_petct": "not specified",
         "pars_classification_petct": "suspicious",
         "vol_ccm": 1.78,
         "max_suv_val": 5.78,
         "mean_suv_val": 3.34,
         "min_suv_val": 2.43,
         "sd_suv_val": 0.87,
         "is_malignant": true,
         "assigned_organ": "bones_abdomen",
         "study_phase": 3,
         "_deepnote_index_column": 8119
        },
        {
         "gpcr_id": 34610044,
         "study_name": "post-03",
         "roi_id": 27,
         "roi_name": "Liver2",
         "lesion_label_id": 28,
         "pars_bodypart_petct": "abdomen",
         "pars_region_petct": "liver",
         "pars_subregion_petct": "not specified",
         "pars_laterality_petct": "left",
         "pars_classification_petct": "suspicious",
         "vol_ccm": 4.13,
         "max_suv_val": 3.52,
         "mean_suv_val": 2.27,
         "min_suv_val": 2.01,
         "sd_suv_val": 0.32,
         "is_malignant": true,
         "assigned_organ": "liver",
         "study_phase": 3,
         "_deepnote_index_column": 8124
        },
        {
         "gpcr_id": 34610044,
         "study_name": "post-03",
         "roi_id": 28,
         "roi_name": "Bones6",
         "lesion_label_id": 29,
         "pars_bodypart_petct": "thorax",
         "pars_region_petct": "bones",
         "pars_subregion_petct": "ribs",
         "pars_laterality_petct": "not specified",
         "pars_classification_petct": "suspicious",
         "vol_ccm": 0.86,
         "max_suv_val": 4.02,
         "mean_suv_val": 2.59,
         "min_suv_val": 1.94,
         "sd_suv_val": 0.59,
         "is_malignant": true,
         "assigned_organ": "bones_thorax",
         "study_phase": 3,
         "_deepnote_index_column": 8125
        },
        {
         "gpcr_id": 34610044,
         "study_name": "post-03",
         "roi_id": 29,
         "roi_name": "Bones7",
         "lesion_label_id": 30,
         "pars_bodypart_petct": "thorax",
         "pars_region_petct": "bones",
         "pars_subregion_petct": "ribs",
         "pars_laterality_petct": "not specified",
         "pars_classification_petct": "suspicious",
         "vol_ccm": 0.71,
         "max_suv_val": 2.84,
         "mean_suv_val": 1.97,
         "min_suv_val": 1.5,
         "sd_suv_val": 0.36,
         "is_malignant": true,
         "assigned_organ": "spleen",
         "study_phase": 3,
         "_deepnote_index_column": 8126
        },
        {
         "gpcr_id": 34610044,
         "study_name": "post-03",
         "roi_id": 31,
         "roi_name": "Spleen3",
         "lesion_label_id": 32,
         "pars_bodypart_petct": "abdomen",
         "pars_region_petct": "spleen",
         "pars_subregion_petct": "not specified",
         "pars_laterality_petct": "not specified",
         "pars_classification_petct": "suspicious",
         "vol_ccm": 1.54,
         "max_suv_val": 3.92,
         "mean_suv_val": 2.31,
         "min_suv_val": 1.68,
         "sd_suv_val": 0.57,
         "is_malignant": true,
         "assigned_organ": "spleen",
         "study_phase": 3,
         "_deepnote_index_column": 8128
        },
        {
         "gpcr_id": 34610044,
         "study_name": "post-03",
         "roi_id": 32,
         "roi_name": "Spleen4",
         "lesion_label_id": 33,
         "pars_bodypart_petct": "abdomen",
         "pars_region_petct": "spleen",
         "pars_subregion_petct": "not specified",
         "pars_laterality_petct": "not specified",
         "pars_classification_petct": "suspicious",
         "vol_ccm": 0.95,
         "max_suv_val": 5.19,
         "mean_suv_val": 3.09,
         "min_suv_val": 2.18,
         "sd_suv_val": 0.77,
         "is_malignant": true,
         "assigned_organ": "spleen",
         "study_phase": 3,
         "_deepnote_index_column": 8129
        },
        {
         "gpcr_id": 34610044,
         "study_name": "post-03",
         "roi_id": 33,
         "roi_name": "Liver4",
         "lesion_label_id": 34,
         "pars_bodypart_petct": "abdomen",
         "pars_region_petct": "liver",
         "pars_subregion_petct": "not specified",
         "pars_laterality_petct": "right",
         "pars_classification_petct": "suspicious",
         "vol_ccm": 9.19,
         "max_suv_val": 3.19,
         "mean_suv_val": 2.02,
         "min_suv_val": 1.82,
         "sd_suv_val": 0.24,
         "is_malignant": true,
         "assigned_organ": "liver",
         "study_phase": 3,
         "_deepnote_index_column": 8130
        },
        {
         "gpcr_id": 34610044,
         "study_name": "post-03",
         "roi_id": 6,
         "roi_name": "Bones2",
         "lesion_label_id": 7,
         "pars_bodypart_petct": "abdomen",
         "pars_region_petct": "bones",
         "pars_subregion_petct": "pelvis",
         "pars_laterality_petct": "right",
         "pars_classification_petct": "suspicious",
         "vol_ccm": 2.74,
         "max_suv_val": 10.76,
         "mean_suv_val": 6.7,
         "min_suv_val": 4.54,
         "sd_suv_val": 1.72,
         "is_malignant": true,
         "assigned_organ": "kidney",
         "study_phase": 3,
         "_deepnote_index_column": 8103
        },
        {
         "gpcr_id": 34610044,
         "study_name": "post-03",
         "roi_id": 35,
         "roi_name": "Bones8",
         "lesion_label_id": 36,
         "pars_bodypart_petct": "thorax",
         "pars_region_petct": "bones",
         "pars_subregion_petct": "ribs",
         "pars_laterality_petct": "not specified",
         "pars_classification_petct": "suspicious",
         "vol_ccm": 0.51,
         "max_suv_val": 2.66,
         "mean_suv_val": 1.6,
         "min_suv_val": 1.12,
         "sd_suv_val": 0.39,
         "is_malignant": true,
         "assigned_organ": "other_thorax",
         "study_phase": 3,
         "_deepnote_index_column": 8132
        },
        {
         "gpcr_id": 34610044,
         "study_name": "post-03",
         "roi_id": 40,
         "roi_name": "Stomach3",
         "lesion_label_id": 41,
         "pars_bodypart_petct": "abdomen",
         "pars_region_petct": "stomach",
         "pars_subregion_petct": "cardia / fundus / body",
         "pars_laterality_petct": "not specified",
         "pars_classification_petct": "suspicious",
         "vol_ccm": 107.19,
         "max_suv_val": 7.94,
         "mean_suv_val": 4.86,
         "min_suv_val": 3.73,
         "sd_suv_val": 0.8,
         "is_malignant": true,
         "assigned_organ": "other_abdomen",
         "study_phase": 3,
         "_deepnote_index_column": 8136
        },
        {
         "gpcr_id": 34610044,
         "study_name": "post-03",
         "roi_id": 41,
         "roi_name": "LymphNodes8",
         "lesion_label_id": 42,
         "pars_bodypart_petct": "thorax",
         "pars_region_petct": "lymph nodes",
         "pars_subregion_petct": "IASLC station 3",
         "pars_laterality_petct": "not specified",
         "pars_classification_petct": "suspicious",
         "vol_ccm": 0.64,
         "max_suv_val": 6.1,
         "mean_suv_val": 3.68,
         "min_suv_val": 2.75,
         "sd_suv_val": 0.84,
         "is_malignant": true,
         "assigned_organ": "lymphnode_thorax",
         "study_phase": 3,
         "_deepnote_index_column": 8137
        },
        {
         "gpcr_id": 34610044,
         "study_name": "post-03",
         "roi_id": 42,
         "roi_name": "Bones10",
         "lesion_label_id": 43,
         "pars_bodypart_petct": "thorax",
         "pars_region_petct": "bones",
         "pars_subregion_petct": "ribs",
         "pars_laterality_petct": "not specified",
         "pars_classification_petct": "suspicious",
         "vol_ccm": 1.12,
         "max_suv_val": 6.53,
         "mean_suv_val": 3.91,
         "min_suv_val": 2.75,
         "sd_suv_val": 0.92,
         "is_malignant": true,
         "assigned_organ": "bones_thorax",
         "study_phase": 3,
         "_deepnote_index_column": 8138
        },
        {
         "gpcr_id": 34610044,
         "study_name": "post-03",
         "roi_id": 43,
         "roi_name": "LymphNodes9",
         "lesion_label_id": 44,
         "pars_bodypart_petct": "thorax",
         "pars_region_petct": "lymph nodes",
         "pars_subregion_petct": "IASLC station 3",
         "pars_laterality_petct": "not specified",
         "pars_classification_petct": "suspicious",
         "vol_ccm": 1.03,
         "max_suv_val": 3.39,
         "mean_suv_val": 2.04,
         "min_suv_val": 1.43,
         "sd_suv_val": 0.5,
         "is_malignant": true,
         "assigned_organ": "lymphnode_thorax",
         "study_phase": 3,
         "_deepnote_index_column": 8139
        },
        {
         "gpcr_id": 34610044,
         "study_name": "post-03",
         "roi_id": 45,
         "roi_name": "Bones11",
         "lesion_label_id": 46,
         "pars_bodypart_petct": "thorax",
         "pars_region_petct": "bones",
         "pars_subregion_petct": "ribs",
         "pars_laterality_petct": "not specified",
         "pars_classification_petct": "suspicious",
         "vol_ccm": 1.66,
         "max_suv_val": 3.86,
         "mean_suv_val": 2.21,
         "min_suv_val": 1.64,
         "sd_suv_val": 0.56,
         "is_malignant": true,
         "assigned_organ": "bones_thorax",
         "study_phase": 3,
         "_deepnote_index_column": 8140
        },
        {
         "gpcr_id": 34610044,
         "study_name": "post-03",
         "roi_id": 46,
         "roi_name": "LymphNodes10",
         "lesion_label_id": 47,
         "pars_bodypart_petct": "abdomen",
         "pars_region_petct": "lymph nodes",
         "pars_subregion_petct": "peri-splenic",
         "pars_laterality_petct": "not specified",
         "pars_classification_petct": "suspicious",
         "vol_ccm": 2.49,
         "max_suv_val": 4.05,
         "mean_suv_val": 2.37,
         "min_suv_val": 1.91,
         "sd_suv_val": 0.45,
         "is_malignant": true,
         "assigned_organ": "lymphnode_abdomen",
         "study_phase": 3,
         "_deepnote_index_column": 8141
        },
        {
         "gpcr_id": 34610044,
         "study_name": "post-03",
         "roi_id": 47,
         "roi_name": "Pleura1",
         "lesion_label_id": 48,
         "pars_bodypart_petct": "thorax",
         "pars_region_petct": "pleura",
         "pars_subregion_petct": "not specified",
         "pars_laterality_petct": "not specified",
         "pars_classification_petct": "suspicious",
         "vol_ccm": 0.73,
         "max_suv_val": 5.31,
         "mean_suv_val": 3.51,
         "min_suv_val": 2.63,
         "sd_suv_val": 0.74,
         "is_malignant": true,
         "assigned_organ": "other_thorax",
         "study_phase": 3,
         "_deepnote_index_column": 8142
        },
        {
         "gpcr_id": 34610044,
         "study_name": "post-03",
         "roi_id": 49,
         "roi_name": "Bones12",
         "lesion_label_id": 50,
         "pars_bodypart_petct": "thorax",
         "pars_region_petct": "bones",
         "pars_subregion_petct": "ribs",
         "pars_laterality_petct": "not specified",
         "pars_classification_petct": "suspicious",
         "vol_ccm": 0.51,
         "max_suv_val": 3.43,
         "mean_suv_val": 2.35,
         "min_suv_val": 1.81,
         "sd_suv_val": 0.46,
         "is_malignant": true,
         "assigned_organ": "other_thorax",
         "study_phase": 3,
         "_deepnote_index_column": 8143
        },
        {
         "gpcr_id": 34610044,
         "study_name": "post-03",
         "roi_id": 50,
         "roi_name": "Pleura2",
         "lesion_label_id": 51,
         "pars_bodypart_petct": "thorax",
         "pars_region_petct": "pleura",
         "pars_subregion_petct": "not specified",
         "pars_laterality_petct": "not specified",
         "pars_classification_petct": "suspicious",
         "vol_ccm": 5.82,
         "max_suv_val": 11.6,
         "mean_suv_val": 7.23,
         "min_suv_val": 4.89,
         "sd_suv_val": 1.65,
         "is_malignant": true,
         "assigned_organ": "other_thorax",
         "study_phase": 3,
         "_deepnote_index_column": 8144
        },
        {
         "gpcr_id": 34610044,
         "study_name": "post-03",
         "roi_id": 51,
         "roi_name": "LymphNodes11",
         "lesion_label_id": 52,
         "pars_bodypart_petct": "thorax",
         "pars_region_petct": "lymph nodes",
         "pars_subregion_petct": "IASLC station 10",
         "pars_laterality_petct": "left",
         "pars_classification_petct": "suspicious",
         "vol_ccm": 0.66,
         "max_suv_val": 4.59,
         "mean_suv_val": 3.86,
         "min_suv_val": 3.54,
         "sd_suv_val": 0.3,
         "is_malignant": true,
         "assigned_organ": "lymphnode_thorax",
         "study_phase": 3,
         "_deepnote_index_column": 8145
        },
        {
         "gpcr_id": 34610044,
         "study_name": "post-03",
         "roi_id": 39,
         "roi_name": "Bones9",
         "lesion_label_id": 40,
         "pars_bodypart_petct": "thorax",
         "pars_region_petct": "bones",
         "pars_subregion_petct": "ribs",
         "pars_laterality_petct": "not specified",
         "pars_classification_petct": "suspicious",
         "vol_ccm": 0.88,
         "max_suv_val": 4.2,
         "mean_suv_val": 2.6,
         "min_suv_val": 1.78,
         "sd_suv_val": 0.66,
         "is_malignant": true,
         "assigned_organ": "bones_thorax",
         "study_phase": 3,
         "_deepnote_index_column": 8135
        },
        {
         "gpcr_id": 34610149,
         "study_name": "post-02",
         "roi_id": 25,
         "roi_name": "Bones6",
         "lesion_label_id": 26,
         "pars_bodypart_petct": "thorax",
         "pars_region_petct": "bones",
         "pars_subregion_petct": "spine",
         "pars_laterality_petct": "not specified",
         "pars_classification_petct": "suspicious",
         "vol_ccm": 0.54,
         "max_suv_val": 6.76,
         "mean_suv_val": 4.31,
         "min_suv_val": 2.87,
         "sd_suv_val": 1.05,
         "is_malignant": true,
         "assigned_organ": "bones_thorax",
         "study_phase": 2,
         "_deepnote_index_column": 20819
        }
       ]
      },
      "text/plain": "        gpcr_id study_name  roi_id      roi_name  lesion_label_id  \\\n0      34610002     pre-01       0      Muscles1                1   \n16135  34610104    post-01      23        Liver1               24   \n16137  34610104    post-01      25        Liver2               26   \n16138  34610104    post-01      26        Liver3               27   \n16142  34610104    post-01      30       Spleen1               31   \n...         ...        ...     ...           ...              ...   \n8143   34610044    post-03      49       Bones12               50   \n8144   34610044    post-03      50       Pleura2               51   \n8145   34610044    post-03      51  LymphNodes11               52   \n8135   34610044    post-03      39        Bones9               40   \n20819  34610149    post-02      25        Bones6               26   \n\n      pars_bodypart_petct pars_region_petct pars_subregion_petct  \\\n0              lower limb           muscles      upper leg group   \n16135             abdomen             liver        not specified   \n16137             abdomen             liver        not specified   \n16138             abdomen             liver        not specified   \n16142             abdomen            spleen        not specified   \n...                   ...               ...                  ...   \n8143               thorax             bones                 ribs   \n8144               thorax            pleura        not specified   \n8145               thorax       lymph nodes     IASLC station 10   \n8135               thorax             bones                 ribs   \n20819              thorax             bones                spine   \n\n      pars_laterality_petct pars_classification_petct  vol_ccm  max_suv_val  \\\n0                     right                suspicious     1.00         5.58   \n16135                 right                suspicious     1.03         3.66   \n16137                 right                suspicious     2.91         7.23   \n16138                  left                suspicious     3.89         4.41   \n16142         not specified                suspicious    13.54        16.34   \n...                     ...                       ...      ...          ...   \n8143          not specified                suspicious     0.51         3.43   \n8144          not specified                suspicious     5.82        11.60   \n8145                   left                suspicious     0.66         4.59   \n8135          not specified                suspicious     0.88         4.20   \n20819         not specified                suspicious     0.54         6.76   \n\n       mean_suv_val  min_suv_val  sd_suv_val  is_malignant    assigned_organ  \\\n0              3.37         2.36        0.92          True   other_lowerlimb   \n16135          3.13         2.82        0.21          True             liver   \n16137          4.16         3.05        0.98          True             liver   \n16138          2.96         2.51        0.43          True             liver   \n16142         10.14         6.87        2.08          True            spleen   \n...             ...          ...         ...           ...               ...   \n8143           2.35         1.81        0.46          True      other_thorax   \n8144           7.23         4.89        1.65          True      other_thorax   \n8145           3.86         3.54        0.30          True  lymphnode_thorax   \n8135           2.60         1.78        0.66          True      bones_thorax   \n20819          4.31         2.87        1.05          True      bones_thorax   \n\n       study_phase  \n0               -1  \n16135            1  \n16137            1  \n16138            1  \n16142            1  \n...            ...  \n8143             3  \n8144             3  \n8145             3  \n8135             3  \n20819            2  \n\n[3251 rows x 18 columns]",
      "text/html": "<div>\n<style scoped>\n    .dataframe tbody tr th:only-of-type {\n        vertical-align: middle;\n    }\n\n    .dataframe tbody tr th {\n        vertical-align: top;\n    }\n\n    .dataframe thead th {\n        text-align: right;\n    }\n</style>\n<table border=\"1\" class=\"dataframe\">\n  <thead>\n    <tr style=\"text-align: right;\">\n      <th></th>\n      <th>gpcr_id</th>\n      <th>study_name</th>\n      <th>roi_id</th>\n      <th>roi_name</th>\n      <th>lesion_label_id</th>\n      <th>pars_bodypart_petct</th>\n      <th>pars_region_petct</th>\n      <th>pars_subregion_petct</th>\n      <th>pars_laterality_petct</th>\n      <th>pars_classification_petct</th>\n      <th>vol_ccm</th>\n      <th>max_suv_val</th>\n      <th>mean_suv_val</th>\n      <th>min_suv_val</th>\n      <th>sd_suv_val</th>\n      <th>is_malignant</th>\n      <th>assigned_organ</th>\n      <th>study_phase</th>\n    </tr>\n  </thead>\n  <tbody>\n    <tr>\n      <th>0</th>\n      <td>34610002</td>\n      <td>pre-01</td>\n      <td>0</td>\n      <td>Muscles1</td>\n      <td>1</td>\n      <td>lower limb</td>\n      <td>muscles</td>\n      <td>upper leg group</td>\n      <td>right</td>\n      <td>suspicious</td>\n      <td>1.00</td>\n      <td>5.58</td>\n      <td>3.37</td>\n      <td>2.36</td>\n      <td>0.92</td>\n      <td>True</td>\n      <td>other_lowerlimb</td>\n      <td>-1</td>\n    </tr>\n    <tr>\n      <th>16135</th>\n      <td>34610104</td>\n      <td>post-01</td>\n      <td>23</td>\n      <td>Liver1</td>\n      <td>24</td>\n      <td>abdomen</td>\n      <td>liver</td>\n      <td>not specified</td>\n      <td>right</td>\n      <td>suspicious</td>\n      <td>1.03</td>\n      <td>3.66</td>\n      <td>3.13</td>\n      <td>2.82</td>\n      <td>0.21</td>\n      <td>True</td>\n      <td>liver</td>\n      <td>1</td>\n    </tr>\n    <tr>\n      <th>16137</th>\n      <td>34610104</td>\n      <td>post-01</td>\n      <td>25</td>\n      <td>Liver2</td>\n      <td>26</td>\n      <td>abdomen</td>\n      <td>liver</td>\n      <td>not specified</td>\n      <td>right</td>\n      <td>suspicious</td>\n      <td>2.91</td>\n      <td>7.23</td>\n      <td>4.16</td>\n      <td>3.05</td>\n      <td>0.98</td>\n      <td>True</td>\n      <td>liver</td>\n      <td>1</td>\n    </tr>\n    <tr>\n      <th>16138</th>\n      <td>34610104</td>\n      <td>post-01</td>\n      <td>26</td>\n      <td>Liver3</td>\n      <td>27</td>\n      <td>abdomen</td>\n      <td>liver</td>\n      <td>not specified</td>\n      <td>left</td>\n      <td>suspicious</td>\n      <td>3.89</td>\n      <td>4.41</td>\n      <td>2.96</td>\n      <td>2.51</td>\n      <td>0.43</td>\n      <td>True</td>\n      <td>liver</td>\n      <td>1</td>\n    </tr>\n    <tr>\n      <th>16142</th>\n      <td>34610104</td>\n      <td>post-01</td>\n      <td>30</td>\n      <td>Spleen1</td>\n      <td>31</td>\n      <td>abdomen</td>\n      <td>spleen</td>\n      <td>not specified</td>\n      <td>not specified</td>\n      <td>suspicious</td>\n      <td>13.54</td>\n      <td>16.34</td>\n      <td>10.14</td>\n      <td>6.87</td>\n      <td>2.08</td>\n      <td>True</td>\n      <td>spleen</td>\n      <td>1</td>\n    </tr>\n    <tr>\n      <th>...</th>\n      <td>...</td>\n      <td>...</td>\n      <td>...</td>\n      <td>...</td>\n      <td>...</td>\n      <td>...</td>\n      <td>...</td>\n      <td>...</td>\n      <td>...</td>\n      <td>...</td>\n      <td>...</td>\n      <td>...</td>\n      <td>...</td>\n      <td>...</td>\n      <td>...</td>\n      <td>...</td>\n      <td>...</td>\n      <td>...</td>\n    </tr>\n    <tr>\n      <th>8143</th>\n      <td>34610044</td>\n      <td>post-03</td>\n      <td>49</td>\n      <td>Bones12</td>\n      <td>50</td>\n      <td>thorax</td>\n      <td>bones</td>\n      <td>ribs</td>\n      <td>not specified</td>\n      <td>suspicious</td>\n      <td>0.51</td>\n      <td>3.43</td>\n      <td>2.35</td>\n      <td>1.81</td>\n      <td>0.46</td>\n      <td>True</td>\n      <td>other_thorax</td>\n      <td>3</td>\n    </tr>\n    <tr>\n      <th>8144</th>\n      <td>34610044</td>\n      <td>post-03</td>\n      <td>50</td>\n      <td>Pleura2</td>\n      <td>51</td>\n      <td>thorax</td>\n      <td>pleura</td>\n      <td>not specified</td>\n      <td>not specified</td>\n      <td>suspicious</td>\n      <td>5.82</td>\n      <td>11.60</td>\n      <td>7.23</td>\n      <td>4.89</td>\n      <td>1.65</td>\n      <td>True</td>\n      <td>other_thorax</td>\n      <td>3</td>\n    </tr>\n    <tr>\n      <th>8145</th>\n      <td>34610044</td>\n      <td>post-03</td>\n      <td>51</td>\n      <td>LymphNodes11</td>\n      <td>52</td>\n      <td>thorax</td>\n      <td>lymph nodes</td>\n      <td>IASLC station 10</td>\n      <td>left</td>\n      <td>suspicious</td>\n      <td>0.66</td>\n      <td>4.59</td>\n      <td>3.86</td>\n      <td>3.54</td>\n      <td>0.30</td>\n      <td>True</td>\n      <td>lymphnode_thorax</td>\n      <td>3</td>\n    </tr>\n    <tr>\n      <th>8135</th>\n      <td>34610044</td>\n      <td>post-03</td>\n      <td>39</td>\n      <td>Bones9</td>\n      <td>40</td>\n      <td>thorax</td>\n      <td>bones</td>\n      <td>ribs</td>\n      <td>not specified</td>\n      <td>suspicious</td>\n      <td>0.88</td>\n      <td>4.20</td>\n      <td>2.60</td>\n      <td>1.78</td>\n      <td>0.66</td>\n      <td>True</td>\n      <td>bones_thorax</td>\n      <td>3</td>\n    </tr>\n    <tr>\n      <th>20819</th>\n      <td>34610149</td>\n      <td>post-02</td>\n      <td>25</td>\n      <td>Bones6</td>\n      <td>26</td>\n      <td>thorax</td>\n      <td>bones</td>\n      <td>spine</td>\n      <td>not specified</td>\n      <td>suspicious</td>\n      <td>0.54</td>\n      <td>6.76</td>\n      <td>4.31</td>\n      <td>2.87</td>\n      <td>1.05</td>\n      <td>True</td>\n      <td>bones_thorax</td>\n      <td>2</td>\n    </tr>\n  </tbody>\n</table>\n<p>3251 rows × 18 columns</p>\n</div>"
     },
     "metadata": {}
    }
   ],
   "execution_count": null
  },
  {
   "cell_type": "code",
   "metadata": {
    "cell_id": "00010-340c18b8-512a-4494-85d2-6bc7583bab6b",
    "deepnote_to_be_reexecuted": false,
    "execution_millis": 0,
    "execution_start": 1633938607842,
    "source_hash": "4aef478d",
    "tags": [],
    "deepnote_cell_type": "code"
   },
   "source": "lesions_labels = {\n    'vol_ccm': 'Lesion volume (ccm)',\n    'pars_classification_petct': 'PARS lesion classification',\n    'study_phase': 'Study phase (relative to treatment start)',\n    'assigned_organ': 'Assigned organ'\n}",
   "outputs": [],
   "execution_count": null
  },
  {
   "cell_type": "code",
   "metadata": {
    "cell_id": "00008-6c244907-d497-4d38-8aa2-acfd7a1460e6",
    "deepnote_to_be_reexecuted": false,
    "execution_millis": 3,
    "execution_start": 1633938609190,
    "source_hash": "968c7544",
    "tags": [],
    "deepnote_cell_type": "code"
   },
   "source": "top_h_legend = dict(orientation='h', yanchor=\"bottom\", y=1.02)",
   "outputs": [],
   "execution_count": null
  },
  {
   "cell_type": "markdown",
   "source": "### Visualisations",
   "metadata": {
    "cell_id": "00011-172383a9-ef7f-4969-98a3-7905b311b347",
    "deepnote_app_coordinates": {
     "h": 2,
     "w": 12,
     "x": 0,
     "y": 0
    },
    "is_collapsed": false,
    "tags": [],
    "deepnote_cell_type": "text-cell-h3"
   }
  },
  {
   "cell_type": "code",
   "metadata": {
    "cell_id": "00011-65f7c76a-797d-44ec-8112-f67efb100e46",
    "deepnote_app_coordinates": {
     "h": 5,
     "w": 12,
     "x": 0,
     "y": 0
    },
    "deepnote_app_is_code_hidden": true,
    "deepnote_to_be_reexecuted": false,
    "execution_millis": 60,
    "execution_start": 1633938629245,
    "source_hash": "4abdcd78",
    "tags": [],
    "deepnote_cell_type": "code"
   },
   "source": "descending_organs = list(lesions.groupby('assigned_organ').size().sort_values(ascending=False).index)\n\npx.histogram(lesions, x='assigned_organ', color='pars_classification_petct', \n             category_orders={'assigned_organ': descending_organs},\n             labels=lesions_labels) \\\n    .update_layout(legend=top_h_legend, yaxis_title='Lesions')",
   "outputs": [
    {
     "data": {
      "text/html": "<html>\n<head><meta charset=\"utf-8\" /></head>\n<body>\n    <div>            <script src=\"https://cdnjs.cloudflare.com/ajax/libs/mathjax/2.7.5/MathJax.js?config=TeX-AMS-MML_SVG\"></script><script type=\"text/javascript\">if (window.MathJax) {MathJax.Hub.Config({SVG: {font: \"STIX-Web\"}});}</script>                <script type=\"text/javascript\">window.PlotlyConfig = {MathJaxConfig: 'local'};</script>\n        <script src=\"https://cdn.plot.ly/plotly-2.4.2.min.js\"></script>                <div id=\"62924298-9f8b-4837-b1f9-39e8a7405338\" class=\"plotly-graph-div\" style=\"height:525px; width:100%;\"></div>            <script type=\"text/javascript\">                                    window.PLOTLYENV=window.PLOTLYENV || {};                                    if (document.getElementById(\"62924298-9f8b-4837-b1f9-39e8a7405338\")) {                    Plotly.newPlot(                        \"62924298-9f8b-4837-b1f9-39e8a7405338\",                        [{\"alignmentgroup\":\"True\",\"bingroup\":\"x\",\"hovertemplate\":\"PARS lesion classification=suspicious<br>Assigned organ=%{x}<br>count=%{y}<extra></extra>\",\"legendgroup\":\"suspicious\",\"marker\":{\"color\":\"rgb(76,114,176)\",\"pattern\":{\"shape\":\"\"}},\"name\":\"suspicious\",\"offsetgroup\":\"suspicious\",\"orientation\":\"v\",\"showlegend\":true,\"type\":\"histogram\",\"x\":[\"other_lowerlimb\",\"liver\",\"liver\",\"liver\",\"spleen\",\"other_abdomen\",\"spleen\",\"spleen\",\"lymphnode_abdomen\",\"spleen\",\"liver\",\"spleen\",\"liver\",\"liver\",\"spleen\",\"liver\",\"spleen\",\"spleen\",\"liver\",\"spleen\",\"bones_thorax\",\"other_thorax\",\"lymphnode_abdomen\",\"lung\",\"lymphnode_abdomen\",\"lymphnode_abdomen\",\"lymphnode_abdomen\",\"spleen\",\"spleen\",\"liver\",\"liver\",\"lymphnode_abdomen\",\"spleen\",\"spleen\",\"spleen\",\"liver\",\"spleen\",\"spleen\",\"other_thorax\",\"lung\",\"other_lowerlimb\",\"lymphnode_abdomen\",\"other_abdomen\",\"other_abdomen\",\"other_abdomen\",\"lymphnode_abdomen\",\"lymphnode_abdomen\",\"other_abdomen\",\"lymphnode_abdomen\",\"lymphnode_abdomen\",\"other_abdomen\",\"other_abdomen\",\"lymphnode_abdomen\",\"other_thorax\",\"other_thorax\",\"other_thorax\",\"other_thorax\",\"lymphnode_abdomen\",\"other_abdomen\",\"other_abdomen\",\"lymphnode_abdomen\",\"other_lowerlimb\",\"lymphnode_abdomen\",\"lymphnode_abdomen\",\"other_abdomen\",\"lymphnode_abdomen\",\"bones_abdomen\",\"lymphnode_abdomen\",\"other_abdomen\",\"other_abdomen\",\"lymphnode_abdomen\",\"lymphnode_abdomen\",\"lymphnode_abdomen\",\"other_lowerlimb\",\"other_lowerlimb\",\"other_abdomen\",\"lung\",\"other_thorax\",\"lymphnode_thorax\",\"lymphnode_abdomen\",\"spleen\",\"liver\",\"lymphnode_abdomen\",\"lung\",\"lung\",\"lymphnode_thorax\",\"lymphnode_abdomen\",\"lymphnode_thorax\",\"lymphnode_thorax\",\"lymphnode_thorax\",\"lymphnode_thorax\",\"lymphnode_thorax\",\"lymphnode_thorax\",\"lymphnode_abdomen\",\"other_abdomen\",\"other_thorax\",\"other_thorax\",\"other_abdomen\",\"other_thorax\",\"lymphnode_abdomen\",\"lymphnode_abdomen\",\"other_abdomen\",\"lymphnode_thorax\",\"lymphnode_thorax\",\"lymphnode_thorax\",\"lymphnode_thorax\",\"other_thorax\",\"liver\",\"lymphnode_thorax\",\"bones_lowerlimb\",\"other_abdomen\",\"lymphnode_abdomen\",\"bones_lowerlimb\",\"liver\",\"lymphnode_abdomen\",\"lymphnode_abdomen\",\"lymphnode_abdomen\",\"other_abdomen\",\"lymphnode_abdomen\",\"bones_abdomen\",\"lymphnode_abdomen\",\"other_abdomen\",\"liver\",\"bones_thorax\",\"lung\",\"lymphnode_thorax\",\"other_thorax\",\"liver\",\"liver\",\"liver\",\"liver\",\"other_abdomen\",\"liver\",\"bones_thorax\",\"liver\",\"kidney\",\"other_thorax\",\"liver\",\"bones_thorax\",\"lung\",\"lung\",\"lymphnode_thorax\",\"bones_thorax\",\"other_thorax\",\"other_thorax\",\"lymphnode_thorax\",\"lymphnode_thorax\",\"lung\",\"lung\",\"other_thorax\",\"lymphnode_abdomen\",\"liver\",\"liver\",\"other_abdomen\",\"other_abdomen\",\"other_thorax\",\"other_thorax\",\"lymphnode_abdomen\",\"lymphnode_abdomen\",\"other_thorax\",\"lymphnode_abdomen\",\"lymphnode_abdomen\",\"lymphnode_abdomen\",\"lymphnode_abdomen\",\"lymphnode_abdomen\",\"lymphnode_abdomen\",\"lymphnode_abdomen\",\"lymphnode_abdomen\",\"lymphnode_abdomen\",\"lymphnode_abdomen\",\"lymphnode_abdomen\",\"other_abdomen\",\"liver\",\"other_thorax\",\"other_abdomen\",\"bones_abdomen\",\"lymphnode_abdomen\",\"lymphnode_abdomen\",\"liver\",\"liver\",\"liver\",\"liver\",\"liver\",\"liver\",\"bones_thorax\",\"lung\",\"other_thorax\",\"lymphnode_thorax\",\"liver\",\"lymphnode_thorax\",\"lymphnode_lowerlimb\",\"other_thorax\",\"lymphnode_abdomen\",\"other_thorax\",\"bones_lowerlimb\",\"lymphnode_abdomen\",\"lymphnode_abdomen\",\"bones_abdomen\",\"bones_lowerlimb\",\"lymphnode_abdomen\",\"liver\",\"other_thorax\",\"other_abdomen\",\"other_abdomen\",\"lymphnode_thorax\",\"lymphnode_lowerlimb\",\"lymphnode_abdomen\",\"lymphnode_lowerlimb\",\"lymphnode_lowerlimb\",\"other_lowerlimb\",\"bones_lowerlimb\",\"lymphnode_abdomen\",\"lymphnode_abdomen\",\"lymphnode_abdomen\",\"liver\",\"other_thorax\",\"other_thorax\",\"lymphnode_thorax\",\"lymphnode_thorax\",\"bones_lowerlimb\",\"lymphnode_lowerlimb\",\"lymphnode_lowerlimb\",\"lymphnode_lowerlimb\",\"lymphnode_abdomen\",\"lymphnode_abdomen\",\"other_thorax\",\"lymphnode_abdomen\",\"other_thorax\",\"lymphnode_thorax\",\"lung\",\"other_thorax\",\"other_thorax\",\"lymphnode_thorax\",\"lymphnode_lowerlimb\",\"bones_lowerlimb\",\"lymphnode_lowerlimb\",\"other_abdomen\",\"liver\",\"lung\",\"lung\",\"lung\",\"lymphnode_thorax\",\"other_thorax\",\"lymphnode_thorax\",\"other_thorax\",\"other_thorax\",\"lymphnode_thorax\",\"lymphnode_thorax\",\"lung\",\"other_thorax\",\"lung\",\"other_abdomen\",\"other_thorax\",\"bones_thorax\",\"lymphnode_abdomen\",\"lymphnode_abdomen\",\"bones_lowerlimb\",\"bones_lowerlimb\",\"other_lowerlimb\",\"bones_lowerlimb\",\"bones_lowerlimb\",\"bones_abdomen\",\"bones_abdomen\",\"bones_abdomen\",\"bones_abdomen\",\"bones_abdomen\",\"other_abdomen\",\"other_abdomen\",\"bones_thorax\",\"bones_thorax\",\"bones_thorax\",\"bones_thorax\",\"bones_thorax\",\"lymphnode_abdomen\",\"bones_abdomen\",\"lymphnode_lowerlimb\",\"other_abdomen\",\"other_thorax\",\"kidney\",\"other_abdomen\",\"bones_abdomen\",\"lymphnode_abdomen\",\"other_abdomen\",\"other_abdomen\",\"lymphnode_thorax\",\"lymphnode_lowerlimb\",\"other_abdomen\",\"lymphnode_abdomen\",\"other_abdomen\",\"other_thorax\",\"other_abdomen\",\"lymphnode_thorax\",\"lymphnode_thorax\",\"other_abdomen\",\"lymphnode_abdomen\",\"other_lowerlimb\",\"bones_abdomen\",\"bones_abdomen\",\"bones_abdomen\",\"other_abdomen\",\"other_abdomen\",\"other_thorax\",\"lymphnode_thorax\",\"lung\",\"lung\",\"other_thorax\",\"lymphnode_abdomen\",\"kidney\",\"other_abdomen\",\"lymphnode_abdomen\",\"other_abdomen\",\"other_abdomen\",\"other_thorax\",\"other_abdomen\",\"lymphnode_thorax\",\"lung\",\"lymphnode_thorax\",\"lymphnode_thorax\",\"lymphnode_thorax\",\"other_abdomen\",\"spleen\",\"spleen\",\"lung\",\"lymphnode_thorax\",\"other_abdomen\",\"bones_thorax\",\"other_abdomen\",\"other_abdomen\",\"other_abdomen\",\"kidney\",\"bones_abdomen\",\"other_abdomen\",\"other_abdomen\",\"other_abdomen\",\"lymphnode_abdomen\",\"lymphnode_abdomen\",\"lymphnode_abdomen\",\"lymphnode_abdomen\",\"lymphnode_abdomen\",\"other_abdomen\",\"other_thorax\",\"other_abdomen\",\"lymphnode_abdomen\",\"other_abdomen\",\"lymphnode_abdomen\",\"other_abdomen\",\"lymphnode_abdomen\",\"other_abdomen\",\"other_abdomen\",\"other_abdomen\",\"other_abdomen\",\"lymphnode_abdomen\",\"other_abdomen\",\"other_abdomen\",\"other_thorax\",\"bones_lowerlimb\",\"other_thorax\",\"bones_thorax\",\"lymphnode_thorax\",\"other_thorax\",\"lung\",\"lymphnode_thorax\",\"lymphnode_thorax\",\"lung\",\"lymphnode_thorax\",\"lymphnode_abdomen\",\"lymphnode_thorax\",\"other_thorax\",\"other_thorax\",\"lymphnode_thorax\",\"lymphnode_thorax\",\"lymphnode_thorax\",\"other_thorax\",\"other_lowerlimb\",\"other_lowerlimb\",\"bones_lowerlimb\",\"other_abdomen\",\"bones_thorax\",\"liver\",\"other_abdomen\",\"bones_abdomen\",\"other_thorax\",\"bones_thorax\",\"lymphnode_abdomen\",\"lung\",\"bones_abdomen\",\"bones_abdomen\",\"bones_abdomen\",\"bones_abdomen\",\"lymphnode_abdomen\",\"bones_abdomen\",\"bones_thorax\",\"liver\",\"bones_thorax\",\"bones_thorax\",\"lung\",\"lung\",\"other_thorax\",\"lymphnode_thorax\",\"other_thorax\",\"other_thorax\",\"lung\",\"lymphnode_thorax\",\"bones_thorax\",\"other_lowerlimb\",\"lymphnode_abdomen\",\"lymphnode_lowerlimb\",\"lung\",\"lymphnode_thorax\",\"lymphnode_thorax\",\"bones_thorax\",\"other_lowerlimb\",\"bones_thorax\",\"lung\",\"lung\",\"lung\",\"lung\",\"lymphnode_thorax\",\"lung\",\"other_abdomen\",\"liver\",\"lung\",\"lung\",\"lung\",\"lung\",\"lung\",\"bones_thorax\",\"lymphnode_thorax\",\"other_abdomen\",\"bones_thorax\",\"kidney\",\"lung\",\"lymphnode_lowerlimb\",\"bones_lowerlimb\",\"lymphnode_abdomen\",\"bones_thorax\",\"bones_thorax\",\"other_thorax\",\"lung\",\"bones_lowerlimb\",\"bones_lowerlimb\",\"lymphnode_lowerlimb\",\"lymphnode_abdomen\",\"lymphnode_abdomen\",\"bones_thorax\",\"bones_thorax\",\"lung\",\"lymphnode_thorax\",\"lymphnode_lowerlimb\",\"lymphnode_lowerlimb\",\"other_abdomen\",\"lymphnode_abdomen\",\"bones_abdomen\",\"lymphnode_thorax\",\"liver\",\"lung\",\"lung\",\"lymphnode_abdomen\",\"bones_abdomen\",\"bones_thorax\",\"lymphnode_abdomen\",\"liver\",\"lung\",\"lymphnode_thorax\",\"lymphnode_thorax\",\"lymphnode_lowerlimb\",\"lymphnode_abdomen\",\"lymphnode_abdomen\",\"lung\",\"bones_lowerlimb\",\"lymphnode_lowerlimb\",\"lymphnode_lowerlimb\",\"other_lowerlimb\",\"lymphnode_abdomen\",\"bones_thorax\",\"other_thorax\",\"lung\",\"other_thorax\",\"lymphnode_abdomen\",\"lymphnode_lowerlimb\",\"bones_lowerlimb\",\"bones_lowerlimb\",\"lung\",\"bones_thorax\",\"lymphnode_abdomen\",\"other_thorax\",\"lymphnode_thorax\",\"bones_abdomen\",\"liver\",\"liver\",\"lymphnode_abdomen\",\"liver\",\"lymphnode_lowerlimb\",\"lymphnode_thorax\",\"bones_thorax\",\"other_thorax\",\"other_thorax\",\"lung\",\"lymphnode_thorax\",\"bones_thorax\",\"lymphnode_thorax\",\"bones_thorax\",\"bones_thorax\",\"bones_thorax\",\"bones_thorax\",\"other_thorax\",\"lymphnode_abdomen\",\"liver\",\"lung\",\"lung\",\"lung\",\"lung\",\"lymphnode_thorax\",\"other_abdomen\",\"other_abdomen\",\"lymphnode_abdomen\",\"bones_abdomen\",\"bones_abdomen\",\"liver\",\"lymphnode_abdomen\",\"liver\",\"liver\",\"liver\",\"liver\",\"liver\",\"liver\",\"liver\",\"liver\",\"liver\",\"lung\",\"lung\",\"lung\",\"lung\",\"lymphnode_thorax\",\"bones_lowerlimb\",\"lymphnode_abdomen\",\"bones_abdomen\",\"bones_abdomen\",\"spleen\",\"lymphnode_thorax\",\"lymphnode_thorax\",\"lymphnode_thorax\",\"lymphnode_thorax\",\"liver\",\"lymphnode_thorax\",\"lymphnode_thorax\",\"lymphnode_thorax\",\"lymphnode_thorax\",\"lymphnode_thorax\",\"lymphnode_thorax\",\"bones_abdomen\",\"bones_thorax\",\"lung\",\"lung\",\"lung\",\"lymphnode_thorax\",\"lymphnode_abdomen\",\"bones_thorax\",\"bones_abdomen\",\"other_thorax\",\"bones_thorax\",\"other_thorax\",\"other_thorax\",\"bones_thorax\",\"bones_thorax\",\"bones_thorax\",\"lung\",\"bones_thorax\",\"lymphnode_thorax\",\"bones_thorax\",\"bones_thorax\",\"bones_thorax\",\"bones_thorax\",\"bones_thorax\",\"lymphnode_thorax\",\"bones_thorax\",\"bones_thorax\",\"bones_abdomen\",\"bones_thorax\",\"lymphnode_abdomen\",\"bones_thorax\",\"liver\",\"bones_thorax\",\"spleen\",\"bones_abdomen\",\"bones_abdomen\",\"bones_abdomen\",\"bones_abdomen\",\"bones_abdomen\",\"bones_abdomen\",\"bones_abdomen\",\"bones_abdomen\",\"bones_abdomen\",\"bones_abdomen\",\"bones_lowerlimb\",\"bones_abdomen\",\"other_abdomen\",\"lymphnode_abdomen\",\"liver\",\"liver\",\"other_abdomen\",\"liver\",\"liver\",\"spleen\",\"liver\",\"liver\",\"bones_abdomen\",\"lymphnode_abdomen\",\"lymphnode_thorax\",\"lymphnode_lowerlimb\",\"other_thorax\",\"lymphnode_lowerlimb\",\"other_abdomen\",\"other_abdomen\",\"other_abdomen\",\"other_lowerlimb\",\"lymphnode_abdomen\",\"other_abdomen\",\"other_abdomen\",\"lymphnode_abdomen\",\"other_abdomen\",\"other_abdomen\",\"other_abdomen\",\"other_abdomen\",\"lymphnode_abdomen\",\"lymphnode_abdomen\",\"lymphnode_abdomen\",\"other_abdomen\",\"other_abdomen\",\"lymphnode_abdomen\",\"liver\",\"lymphnode_thorax\",\"lung\",\"lung\",\"lymphnode_thorax\",\"lymphnode_thorax\",\"lymphnode_thorax\",\"lymphnode_lowerlimb\",\"bones_abdomen\",\"other_abdomen\",\"bones_abdomen\",\"other_thorax\",\"other_thorax\",\"other_thorax\",\"lung\",\"lymphnode_abdomen\",\"lymphnode_thorax\",\"lymphnode_abdomen\",\"lymphnode_thorax\",\"lymphnode_abdomen\",\"lymphnode_abdomen\",\"lymphnode_abdomen\",\"lymphnode_abdomen\",\"lymphnode_abdomen\",\"lung\",\"lymphnode_thorax\",\"other_thorax\",\"lymphnode_thorax\",\"lymphnode_thorax\",\"lymphnode_abdomen\",\"other_abdomen\",\"other_thorax\",\"lung\",\"lung\",\"lung\",\"other_thorax\",\"other_thorax\",\"other_thorax\",\"lymphnode_lowerlimb\",\"lymphnode_lowerlimb\",\"lymphnode_lowerlimb\",\"lymphnode_abdomen\",\"other_lowerlimb\",\"other_abdomen\",\"other_abdomen\",\"lung\",\"bones_lowerlimb\",\"bones_abdomen\",\"lymphnode_abdomen\",\"lymphnode_abdomen\",\"liver\",\"other_lowerlimb\",\"lymphnode_thorax\",\"lung\",\"lung\",\"liver\",\"other_abdomen\",\"other_thorax\",\"lymphnode_abdomen\",\"other_abdomen\",\"other_abdomen\",\"liver\",\"spleen\",\"kidney\",\"other_abdomen\",\"other_thorax\",\"other_abdomen\",\"other_abdomen\",\"other_thorax\",\"other_thorax\",\"lymphnode_thorax\",\"lung\",\"other_thorax\",\"lymphnode_abdomen\",\"other_lowerlimb\",\"other_abdomen\",\"lymphnode_abdomen\",\"lymphnode_abdomen\",\"liver\",\"other_lowerlimb\",\"lung\",\"bones_thorax\",\"lung\",\"other_thorax\",\"lung\",\"lung\",\"other_thorax\",\"other_thorax\",\"other_thorax\",\"other_thorax\",\"lymphnode_thorax\",\"lymphnode_thorax\",\"other_thorax\",\"other_thorax\",\"bones_abdomen\",\"bones_abdomen\",\"lymphnode_lowerlimb\",\"other_abdomen\",\"lymphnode_abdomen\",\"bones_abdomen\",\"other_abdomen\",\"bones_abdomen\",\"bones_abdomen\",\"other_abdomen\",\"spleen\",\"other_thorax\",\"other_thorax\",\"lymphnode_lowerlimb\",\"lymphnode_lowerlimb\",\"bones_lowerlimb\",\"lymphnode_abdomen\",\"bones_abdomen\",\"bones_abdomen\",\"kidney\",\"bones_thorax\",\"other_thorax\",\"lymphnode_thorax\",\"lymphnode_thorax\",\"lymphnode_abdomen\",\"bones_lowerlimb\",\"bones_abdomen\",\"bones_lowerlimb\",\"bones_lowerlimb\",\"lymphnode_abdomen\",\"other_lowerlimb\",\"bones_abdomen\",\"bones_abdomen\",\"other_abdomen\",\"bones_abdomen\",\"other_thorax\",\"other_thorax\",\"other_thorax\",\"bones_lowerlimb\",\"lymphnode_abdomen\",\"other_thorax\",\"liver\",\"spleen\",\"liver\",\"lymphnode_thorax\",\"other_thorax\",\"other_lowerlimb\",\"lymphnode_lowerlimb\",\"other_lowerlimb\",\"bones_lowerlimb\",\"bones_lowerlimb\",\"bones_abdomen\",\"other_thorax\",\"lung\",\"other_thorax\",\"lymphnode_thorax\",\"lymphnode_thorax\",\"bones_lowerlimb\",\"bones_lowerlimb\",\"other_lowerlimb\",\"other_thorax\",\"lymphnode_lowerlimb\",\"lymphnode_thorax\",\"other_thorax\",\"bones_abdomen\",\"lung\",\"lymphnode_thorax\",\"lung\",\"lymphnode_thorax\",\"lymphnode_thorax\",\"lymphnode_thorax\",\"lymphnode_thorax\",\"lymphnode_abdomen\",\"lymphnode_abdomen\",\"bones_abdomen\",\"kidney\",\"other_thorax\",\"other_thorax\",\"bones_thorax\",\"lymphnode_lowerlimb\",\"other_thorax\",\"lymphnode_thorax\",\"other_thorax\",\"other_thorax\",\"other_thorax\",\"lymphnode_thorax\",\"bones_thorax\",\"lymphnode_thorax\",\"bones_lowerlimb\",\"other_abdomen\",\"lymphnode_abdomen\",\"other_abdomen\",\"lymphnode_abdomen\",\"lymphnode_abdomen\",\"lymphnode_abdomen\",\"lymphnode_abdomen\",\"lymphnode_abdomen\",\"lymphnode_abdomen\",\"lymphnode_abdomen\",\"lymphnode_abdomen\",\"lymphnode_abdomen\",\"bones_abdomen\",\"lymphnode_abdomen\",\"lymphnode_abdomen\",\"other_abdomen\",\"lymphnode_lowerlimb\",\"lymphnode_lowerlimb\",\"lymphnode_lowerlimb\",\"lymphnode_lowerlimb\",\"lymphnode_lowerlimb\",\"lymphnode_lowerlimb\",\"lymphnode_abdomen\",\"lymphnode_lowerlimb\",\"lymphnode_abdomen\",\"other_lowerlimb\",\"spleen\",\"other_lowerlimb\",\"other_lowerlimb\",\"other_lowerlimb\",\"lymphnode_lowerlimb\",\"lymphnode_lowerlimb\",\"lymphnode_abdomen\",\"lymphnode_lowerlimb\",\"lymphnode_lowerlimb\",\"lymphnode_lowerlimb\",\"lymphnode_lowerlimb\",\"other_lowerlimb\",\"lymphnode_abdomen\",\"other_lowerlimb\",\"lymphnode_lowerlimb\",\"lymphnode_abdomen\",\"lymphnode_lowerlimb\",\"other_lowerlimb\",\"other_lowerlimb\",\"lymphnode_abdomen\",\"other_abdomen\",\"lymphnode_lowerlimb\",\"lymphnode_lowerlimb\",\"lymphnode_lowerlimb\",\"lymphnode_lowerlimb\",\"lymphnode_lowerlimb\",\"lymphnode_lowerlimb\",\"lymphnode_lowerlimb\",\"other_lowerlimb\",\"other_lowerlimb\",\"lymphnode_abdomen\",\"lymphnode_lowerlimb\",\"lymphnode_lowerlimb\",\"lymphnode_abdomen\",\"lymphnode_lowerlimb\",\"lymphnode_abdomen\",\"lymphnode_abdomen\",\"lymphnode_abdomen\",\"lymphnode_abdomen\",\"other_abdomen\",\"lymphnode_abdomen\",\"lymphnode_abdomen\",\"other_lowerlimb\",\"lymphnode_abdomen\",\"lymphnode_abdomen\",\"lymphnode_abdomen\",\"other_lowerlimb\",\"lymphnode_lowerlimb\",\"lymphnode_lowerlimb\",\"lymphnode_abdomen\",\"lymphnode_lowerlimb\",\"lymphnode_lowerlimb\",\"lymphnode_lowerlimb\",\"lymphnode_lowerlimb\",\"lymphnode_lowerlimb\",\"lymphnode_lowerlimb\",\"lymphnode_lowerlimb\",\"lymphnode_lowerlimb\",\"lymphnode_lowerlimb\",\"lymphnode_lowerlimb\",\"other_thorax\",\"lymphnode_lowerlimb\",\"lymphnode_lowerlimb\",\"lymphnode_lowerlimb\",\"lymphnode_lowerlimb\",\"lymphnode_lowerlimb\",\"lymphnode_lowerlimb\",\"lymphnode_lowerlimb\",\"lymphnode_abdomen\",\"other_lowerlimb\",\"lymphnode_lowerlimb\",\"lymphnode_abdomen\",\"lymphnode_lowerlimb\",\"bones_abdomen\",\"lymphnode_abdomen\",\"other_lowerlimb\",\"bones_thorax\",\"bones_thorax\",\"bones_thorax\",\"bones_thorax\",\"bones_thorax\",\"bones_thorax\",\"bones_thorax\",\"lymphnode_lowerlimb\",\"lymphnode_lowerlimb\",\"lymphnode_lowerlimb\",\"other_abdomen\",\"other_abdomen\",\"liver\",\"other_abdomen\",\"liver\",\"liver\",\"lymphnode_lowerlimb\",\"lymphnode_lowerlimb\",\"lymphnode_abdomen\",\"lymphnode_abdomen\",\"lymphnode_abdomen\",\"bones_thorax\",\"bones_thorax\",\"bones_thorax\",\"bones_thorax\",\"bones_thorax\",\"bones_thorax\",\"bones_thorax\",\"bones_thorax\",\"lymphnode_thorax\",\"lymphnode_thorax\",\"bones_thorax\",\"bones_thorax\",\"lung\",\"bones_thorax\",\"lymphnode_abdomen\",\"bones_thorax\",\"bones_thorax\",\"bones_thorax\",\"bones_thorax\",\"bones_thorax\",\"bones_thorax\",\"bones_thorax\",\"bones_thorax\",\"bones_thorax\",\"bones_thorax\",\"bones_thorax\",\"bones_thorax\",\"lymphnode_abdomen\",\"liver\",\"liver\",\"other_abdomen\",\"other_thorax\",\"other_thorax\",\"other_thorax\",\"other_thorax\",\"other_thorax\",\"other_abdomen\",\"bones_abdomen\",\"lymphnode_abdomen\",\"bones_abdomen\",\"bones_thorax\",\"bones_thorax\",\"bones_thorax\",\"lung\",\"lung\",\"other_thorax\",\"other_thorax\",\"lymphnode_thorax\",\"lung\",\"lymphnode_abdomen\",\"lymphnode_abdomen\",\"other_thorax\",\"bones_thorax\",\"other_thorax\",\"lung\",\"liver\",\"liver\",\"liver\",\"liver\",\"liver\",\"liver\",\"liver\",\"liver\",\"kidney\",\"lymphnode_abdomen\",\"bones_abdomen\",\"liver\",\"liver\",\"other_abdomen\",\"other_abdomen\",\"liver\",\"liver\",\"other_thorax\",\"liver\",\"lymphnode_thorax\",\"other_abdomen\",\"other_thorax\",\"liver\",\"bones_thorax\",\"lymphnode_abdomen\",\"other_lowerlimb\",\"lymphnode_thorax\",\"lung\",\"lymphnode_thorax\",\"lymphnode_thorax\",\"other_abdomen\",\"other_abdomen\",\"other_abdomen\",\"lymphnode_abdomen\",\"liver\",\"other_thorax\",\"lung\",\"other_thorax\",\"lung\",\"lymphnode_lowerlimb\",\"lymphnode_lowerlimb\",\"lymphnode_lowerlimb\",\"lymphnode_lowerlimb\",\"lymphnode_lowerlimb\",\"lymphnode_lowerlimb\",\"lymphnode_lowerlimb\",\"lymphnode_lowerlimb\",\"bones_thorax\",\"lymphnode_lowerlimb\",\"lymphnode_thorax\",\"liver\",\"lymphnode_thorax\",\"lymphnode_thorax\",\"other_thorax\",\"other_thorax\",\"other_thorax\",\"lymphnode_thorax\",\"lymphnode_thorax\",\"lymphnode_thorax\",\"lymphnode_thorax\",\"lymphnode_thorax\",\"lymphnode_thorax\",\"spleen\",\"lymphnode_abdomen\",\"lymphnode_lowerlimb\",\"lymphnode_abdomen\",\"lymphnode_abdomen\",\"kidney\",\"lymphnode_abdomen\",\"liver\",\"other_thorax\",\"bones_abdomen\",\"bones_thorax\",\"lymphnode_lowerlimb\",\"lymphnode_lowerlimb\",\"lymphnode_lowerlimb\",\"other_abdomen\",\"bones_thorax\",\"lymphnode_thorax\",\"bones_abdomen\",\"bones_abdomen\",\"bones_abdomen\",\"lung\",\"other_thorax\",\"other_thorax\",\"bones_thorax\",\"lung\",\"lung\",\"bones_lowerlimb\",\"liver\",\"bones_thorax\",\"bones_thorax\",\"other_thorax\",\"lung\",\"lung\",\"lung\",\"lung\",\"lymphnode_abdomen\",\"lymphnode_abdomen\",\"lymphnode_abdomen\",\"other_abdomen\",\"lymphnode_lowerlimb\",\"lymphnode_abdomen\",\"lymphnode_abdomen\",\"lymphnode_abdomen\",\"lymphnode_abdomen\",\"lymphnode_abdomen\",\"lymphnode_abdomen\",\"lymphnode_abdomen\",\"other_abdomen\",\"lymphnode_abdomen\",\"lymphnode_thorax\",\"lymphnode_abdomen\",\"liver\",\"bones_thorax\",\"other_lowerlimb\",\"lymphnode_abdomen\",\"bones_abdomen\",\"other_abdomen\",\"other_abdomen\",\"other_abdomen\",\"lymphnode_abdomen\",\"lymphnode_abdomen\",\"other_thorax\",\"lymphnode_thorax\",\"other_thorax\",\"liver\",\"other_lowerlimb\",\"lymphnode_abdomen\",\"lymphnode_abdomen\",\"lymphnode_abdomen\",\"lymphnode_abdomen\",\"lymphnode_abdomen\",\"lymphnode_abdomen\",\"lymphnode_abdomen\",\"lymphnode_abdomen\",\"lymphnode_abdomen\",\"lymphnode_abdomen\",\"lymphnode_abdomen\",\"lymphnode_abdomen\",\"lymphnode_abdomen\",\"lymphnode_abdomen\",\"lymphnode_abdomen\",\"lymphnode_abdomen\",\"lymphnode_abdomen\",\"lymphnode_abdomen\",\"lymphnode_abdomen\",\"other_abdomen\",\"lymphnode_abdomen\",\"other_lowerlimb\",\"other_abdomen\",\"lymphnode_abdomen\",\"lymphnode_abdomen\",\"lymphnode_lowerlimb\",\"lymphnode_abdomen\",\"lymphnode_abdomen\",\"lymphnode_abdomen\",\"lymphnode_abdomen\",\"lymphnode_abdomen\",\"lymphnode_lowerlimb\",\"lymphnode_abdomen\",\"lymphnode_abdomen\",\"other_abdomen\",\"lymphnode_abdomen\",\"lymphnode_abdomen\",\"lymphnode_abdomen\",\"lymphnode_abdomen\",\"other_abdomen\",\"lymphnode_abdomen\",\"lymphnode_abdomen\",\"lymphnode_abdomen\",\"lymphnode_abdomen\",\"lymphnode_abdomen\",\"lymphnode_abdomen\",\"lymphnode_abdomen\",\"lymphnode_abdomen\",\"bones_abdomen\",\"other_abdomen\",\"bones_thorax\",\"lymphnode_thorax\",\"other_lowerlimb\",\"bones_thorax\",\"other_thorax\",\"other_lowerlimb\",\"other_lowerlimb\",\"lung\",\"lung\",\"lung\",\"lung\",\"lung\",\"other_thorax\",\"lung\",\"lymphnode_thorax\",\"lymphnode_thorax\",\"lymphnode_thorax\",\"other_thorax\",\"lymphnode_thorax\",\"lymphnode_thorax\",\"other_thorax\",\"other_thorax\",\"lymphnode_thorax\",\"lung\",\"other_thorax\",\"other_abdomen\",\"lymphnode_abdomen\",\"other_abdomen\",\"other_abdomen\",\"lymphnode_abdomen\",\"other_abdomen\",\"liver\",\"lung\",\"lung\",\"lung\",\"other_abdomen\",\"other_lowerlimb\",\"bones_lowerlimb\",\"other_abdomen\",\"bones_abdomen\",\"other_abdomen\",\"other_abdomen\",\"lymphnode_abdomen\",\"liver\",\"liver\",\"other_thorax\",\"lung\",\"bones_lowerlimb\",\"bones_thorax\",\"bones_thorax\",\"other_thorax\",\"lymphnode_thorax\",\"other_thorax\",\"other_thorax\",\"lymphnode_thorax\",\"lymphnode_lowerlimb\",\"lymphnode_lowerlimb\",\"bones_lowerlimb\",\"bones_abdomen\",\"other_lowerlimb\",\"bones_abdomen\",\"bones_abdomen\",\"bones_abdomen\",\"lymphnode_abdomen\",\"lymphnode_abdomen\",\"liver\",\"lymphnode_abdomen\",\"liver\",\"other_abdomen\",\"liver\",\"liver\",\"liver\",\"lymphnode_thorax\",\"liver\",\"other_thorax\",\"lung\",\"lymphnode_abdomen\",\"other_abdomen\",\"lymphnode_thorax\",\"bones_thorax\",\"bones_lowerlimb\",\"lymphnode_abdomen\",\"lymphnode_abdomen\",\"lymphnode_abdomen\",\"lymphnode_abdomen\",\"lymphnode_thorax\",\"lymphnode_abdomen\",\"lymphnode_abdomen\",\"lymphnode_thorax\",\"bones_lowerlimb\",\"lymphnode_abdomen\",\"bones_abdomen\",\"bones_lowerlimb\",\"other_thorax\",\"lymphnode_thorax\",\"lymphnode_thorax\",\"lymphnode_thorax\",\"lymphnode_thorax\",\"liver\",\"bones_thorax\",\"bones_lowerlimb\",\"other_thorax\",\"other_thorax\",\"other_thorax\",\"lymphnode_thorax\",\"bones_lowerlimb\",\"lymphnode_abdomen\",\"lymphnode_abdomen\",\"lymphnode_abdomen\",\"other_abdomen\",\"lymphnode_abdomen\",\"lymphnode_abdomen\",\"lymphnode_abdomen\",\"lymphnode_abdomen\",\"lymphnode_abdomen\",\"lymphnode_abdomen\",\"lymphnode_abdomen\",\"other_abdomen\",\"other_abdomen\",\"lymphnode_abdomen\",\"lymphnode_abdomen\",\"other_abdomen\",\"other_thorax\",\"lung\",\"lymphnode_abdomen\",\"bones_lowerlimb\",\"bones_lowerlimb\",\"lymphnode_thorax\",\"other_lowerlimb\",\"other_lowerlimb\",\"lymphnode_thorax\",\"bones_lowerlimb\",\"bones_lowerlimb\",\"bones_lowerlimb\",\"lung\",\"lung\",\"lymphnode_abdomen\",\"other_thorax\",\"other_thorax\",\"lymphnode_thorax\",\"other_thorax\",\"lymphnode_thorax\",\"other_thorax\",\"lung\",\"lymphnode_thorax\",\"bones_thorax\",\"lymphnode_thorax\",\"bones_lowerlimb\",\"lymphnode_thorax\",\"other_abdomen\",\"other_abdomen\",\"lymphnode_abdomen\",\"bones_thorax\",\"lymphnode_thorax\",\"other_abdomen\",\"other_abdomen\",\"liver\",\"liver\",\"liver\",\"lung\",\"other_thorax\",\"lung\",\"lymphnode_thorax\",\"lymphnode_abdomen\",\"other_abdomen\",\"liver\",\"lymphnode_thorax\",\"lymphnode_thorax\",\"other_thorax\",\"bones_thorax\",\"lymphnode_abdomen\",\"lymphnode_abdomen\",\"liver\",\"bones_thorax\",\"bones_thorax\",\"bones_thorax\",\"bones_thorax\",\"bones_abdomen\",\"bones_abdomen\",\"bones_abdomen\",\"bones_abdomen\",\"bones_abdomen\",\"bones_abdomen\",\"bones_abdomen\",\"bones_abdomen\",\"bones_abdomen\",\"bones_abdomen\",\"lymphnode_thorax\",\"other_abdomen\",\"bones_abdomen\",\"other_abdomen\",\"other_abdomen\",\"liver\",\"bones_thorax\",\"bones_thorax\",\"bones_thorax\",\"bones_thorax\",\"bones_thorax\",\"bones_thorax\",\"bones_abdomen\",\"other_abdomen\",\"lymphnode_abdomen\",\"other_abdomen\",\"kidney\",\"other_abdomen\",\"other_thorax\",\"other_lowerlimb\",\"lymphnode_thorax\",\"lung\",\"lymphnode_abdomen\",\"other_thorax\",\"other_thorax\",\"lung\",\"lung\",\"lymphnode_lowerlimb\",\"other_abdomen\",\"bones_thorax\",\"spleen\",\"lymphnode_lowerlimb\",\"bones_lowerlimb\",\"other_abdomen\",\"other_thorax\",\"other_thorax\",\"bones_abdomen\",\"other_abdomen\",\"kidney\",\"bones_lowerlimb\",\"lymphnode_lowerlimb\",\"lymphnode_abdomen\",\"lymphnode_abdomen\",\"other_abdomen\",\"lymphnode_abdomen\",\"other_lowerlimb\",\"lymphnode_abdomen\",\"bones_abdomen\",\"other_abdomen\",\"other_abdomen\",\"liver\",\"lymphnode_thorax\",\"liver\",\"other_thorax\",\"other_thorax\",\"bones_abdomen\",\"kidney\",\"lung\",\"other_thorax\",\"lung\",\"other_thorax\",\"lymphnode_lowerlimb\",\"bones_lowerlimb\",\"bones_thorax\",\"other_abdomen\",\"other_abdomen\",\"other_abdomen\",\"liver\",\"liver\",\"bones_abdomen\",\"liver\",\"liver\",\"liver\",\"bones_abdomen\",\"liver\",\"liver\",\"liver\",\"bones_thorax\",\"liver\",\"liver\",\"liver\",\"bones_abdomen\",\"liver\",\"liver\",\"liver\",\"liver\",\"liver\",\"liver\",\"liver\",\"liver\",\"bones_abdomen\",\"liver\",\"bones_abdomen\",\"bones_abdomen\",\"bones_abdomen\",\"bones_abdomen\",\"other_abdomen\",\"lymphnode_abdomen\",\"bones_abdomen\",\"lymphnode_abdomen\",\"bones_abdomen\",\"bones_abdomen\",\"bones_thorax\",\"lymphnode_abdomen\",\"lymphnode_abdomen\",\"bones_abdomen\",\"bones_abdomen\",\"lymphnode_abdomen\",\"liver\",\"bones_thorax\",\"bones_abdomen\",\"liver\",\"liver\",\"liver\",\"bones_abdomen\",\"bones_abdomen\",\"liver\",\"liver\",\"bones_thorax\",\"liver\",\"spleen\",\"liver\",\"liver\",\"spleen\",\"liver\",\"liver\",\"liver\",\"bones_thorax\",\"bones_thorax\",\"liver\",\"liver\",\"liver\",\"spleen\",\"liver\",\"bones_thorax\",\"bones_thorax\",\"bones_thorax\",\"bones_thorax\",\"bones_thorax\",\"liver\",\"liver\",\"bones_thorax\",\"liver\",\"bones_thorax\",\"spleen\",\"bones_thorax\",\"liver\",\"liver\",\"liver\",\"liver\",\"liver\",\"liver\",\"spleen\",\"bones_thorax\",\"liver\",\"liver\",\"liver\",\"liver\",\"spleen\",\"spleen\",\"liver\",\"liver\",\"liver\",\"liver\",\"bones_thorax\",\"spleen\",\"bones_abdomen\",\"bones_abdomen\",\"bones_abdomen\",\"lymphnode_abdomen\",\"lymphnode_abdomen\",\"other_abdomen\",\"other_abdomen\",\"spleen\",\"spleen\",\"spleen\",\"liver\",\"lung\",\"lung\",\"lung\",\"lung\",\"lung\",\"other_thorax\",\"lung\",\"lung\",\"lung\",\"lung\",\"bones_thorax\",\"other_thorax\",\"lymphnode_abdomen\",\"lymphnode_abdomen\",\"lymphnode_abdomen\",\"other_abdomen\",\"bones_abdomen\",\"other_abdomen\",\"other_abdomen\",\"other_abdomen\",\"lymphnode_abdomen\",\"bones_abdomen\",\"other_abdomen\",\"other_abdomen\",\"other_abdomen\",\"lymphnode_abdomen\",\"lymphnode_abdomen\",\"other_abdomen\",\"spleen\",\"lung\",\"lymphnode_thorax\",\"other_thorax\",\"lymphnode_thorax\",\"lung\",\"other_thorax\",\"lymphnode_abdomen\",\"other_abdomen\",\"lymphnode_abdomen\",\"other_abdomen\",\"other_abdomen\",\"bones_abdomen\",\"other_thorax\",\"lymphnode_thorax\",\"bones_abdomen\",\"bones_abdomen\",\"bones_abdomen\",\"bones_abdomen\",\"bones_abdomen\",\"bones_abdomen\",\"bones_abdomen\",\"lymphnode_abdomen\",\"lymphnode_abdomen\",\"lymphnode_abdomen\",\"bones_abdomen\",\"bones_abdomen\",\"bones_abdomen\",\"bones_abdomen\",\"bones_abdomen\",\"bones_abdomen\",\"other_abdomen\",\"bones_abdomen\",\"bones_abdomen\",\"bones_abdomen\",\"bones_abdomen\",\"lymphnode_abdomen\",\"bones_abdomen\",\"bones_abdomen\",\"bones_abdomen\",\"lymphnode_thorax\",\"lymphnode_thorax\",\"lymphnode_thorax\",\"lymphnode_thorax\",\"lymphnode_thorax\",\"lymphnode_thorax\",\"lymphnode_thorax\",\"other_thorax\",\"other_lowerlimb\",\"bones_lowerlimb\",\"other_thorax\",\"bones_lowerlimb\",\"bones_abdomen\",\"bones_abdomen\",\"lymphnode_abdomen\",\"bones_lowerlimb\",\"bones_lowerlimb\",\"bones_abdomen\",\"bones_lowerlimb\",\"bones_abdomen\",\"bones_abdomen\",\"bones_abdomen\",\"bones_lowerlimb\",\"lung\",\"lymphnode_thorax\",\"lymphnode_thorax\",\"lung\",\"lung\",\"bones_thorax\",\"other_thorax\",\"spleen\",\"lymphnode_abdomen\",\"other_thorax\",\"other_abdomen\",\"other_abdomen\",\"other_thorax\",\"other_thorax\",\"other_thorax\",\"other_thorax\",\"other_thorax\",\"lymphnode_thorax\",\"lymphnode_thorax\",\"other_thorax\",\"other_thorax\",\"lymphnode_abdomen\",\"other_abdomen\",\"lymphnode_thorax\",\"lung\",\"liver\",\"other_thorax\",\"liver\",\"lymphnode_abdomen\",\"lymphnode_abdomen\",\"spleen\",\"liver\",\"other_thorax\",\"other_thorax\",\"bones_thorax\",\"lymphnode_abdomen\",\"lymphnode_abdomen\",\"spleen\",\"lung\",\"liver\",\"liver\",\"other_thorax\",\"bones_lowerlimb\",\"lymphnode_abdomen\",\"other_thorax\",\"spleen\",\"liver\",\"liver\",\"liver\",\"lung\",\"bones_thorax\",\"other_abdomen\",\"other_abdomen\",\"other_thorax\",\"lymphnode_thorax\",\"bones_lowerlimb\",\"lymphnode_abdomen\",\"lymphnode_abdomen\",\"lymphnode_abdomen\",\"lymphnode_abdomen\",\"lymphnode_abdomen\",\"other_abdomen\",\"lymphnode_abdomen\",\"lymphnode_thorax\",\"bones_abdomen\",\"lymphnode_abdomen\",\"other_abdomen\",\"lymphnode_abdomen\",\"lung\",\"lung\",\"other_thorax\",\"other_thorax\",\"other_thorax\",\"other_abdomen\",\"bones_thorax\",\"lung\",\"lung\",\"lung\",\"other_thorax\",\"other_thorax\",\"lymphnode_thorax\",\"bones_thorax\",\"lymphnode_thorax\",\"other_thorax\",\"other_thorax\",\"other_thorax\",\"other_thorax\",\"bones_lowerlimb\",\"lymphnode_abdomen\",\"lymphnode_abdomen\",\"other_thorax\",\"lymphnode_thorax\",\"other_thorax\",\"other_lowerlimb\",\"other_lowerlimb\",\"lymphnode_abdomen\",\"liver\",\"liver\",\"lymphnode_thorax\",\"other_thorax\",\"liver\",\"lymphnode_abdomen\",\"other_thorax\",\"lymphnode_thorax\",\"bones_thorax\",\"other_abdomen\",\"other_abdomen\",\"bones_abdomen\",\"other_thorax\",\"other_thorax\",\"lung\",\"lung\",\"lung\",\"lymphnode_thorax\",\"lymphnode_thorax\",\"other_abdomen\",\"bones_abdomen\",\"other_abdomen\",\"bones_abdomen\",\"bones_abdomen\",\"bones_abdomen\",\"bones_abdomen\",\"bones_abdomen\",\"bones_thorax\",\"other_abdomen\",\"liver\",\"liver\",\"liver\",\"liver\",\"lung\",\"lymphnode_lowerlimb\",\"lymphnode_lowerlimb\",\"bones_abdomen\",\"other_lowerlimb\",\"bones_abdomen\",\"other_abdomen\",\"bones_abdomen\",\"liver\",\"liver\",\"spleen\",\"liver\",\"liver\",\"liver\",\"liver\",\"liver\",\"liver\",\"liver\",\"liver\",\"liver\",\"liver\",\"liver\",\"liver\",\"lymphnode_abdomen\",\"bones_thorax\",\"bones_thorax\",\"other_thorax\",\"lymphnode_thorax\",\"lymphnode_thorax\",\"lymphnode_thorax\",\"lymphnode_thorax\",\"other_thorax\",\"lymphnode_thorax\",\"lymphnode_abdomen\",\"other_abdomen\",\"lymphnode_thorax\",\"other_thorax\",\"lymphnode_thorax\",\"lymphnode_thorax\",\"bones_thorax\",\"lymphnode_abdomen\",\"other_thorax\",\"other_thorax\",\"lymphnode_thorax\",\"lymphnode_abdomen\",\"lymphnode_abdomen\",\"other_thorax\",\"lymphnode_thorax\",\"lymphnode_thorax\",\"other_thorax\",\"lymphnode_thorax\",\"other_thorax\",\"other_thorax\",\"lymphnode_thorax\",\"lymphnode_thorax\",\"lung\",\"lymphnode_thorax\",\"other_thorax\",\"other_thorax\",\"lymphnode_abdomen\",\"lymphnode_abdomen\",\"other_thorax\",\"lymphnode_abdomen\",\"other_thorax\",\"other_thorax\",\"lung\",\"lymphnode_thorax\",\"other_thorax\",\"lung\",\"other_thorax\",\"lymphnode_thorax\",\"lymphnode_thorax\",\"lymphnode_thorax\",\"liver\",\"other_thorax\",\"lymphnode_thorax\",\"lymphnode_abdomen\",\"other_thorax\",\"bones_abdomen\",\"lymphnode_abdomen\",\"other_abdomen\",\"bones_thorax\",\"other_abdomen\",\"other_thorax\",\"other_thorax\",\"bones_thorax\",\"lung\",\"lung\",\"other_thorax\",\"other_thorax\",\"lung\",\"bones_thorax\",\"bones_thorax\",\"lymphnode_thorax\",\"liver\",\"bones_thorax\",\"lung\",\"lung\",\"lymphnode_thorax\",\"lung\",\"lymphnode_thorax\",\"lymphnode_thorax\",\"lung\",\"lymphnode_thorax\",\"lymphnode_thorax\",\"other_thorax\",\"lymphnode_thorax\",\"bones_thorax\",\"bones_lowerlimb\",\"bones_lowerlimb\",\"lymphnode_lowerlimb\",\"lymphnode_lowerlimb\",\"other_lowerlimb\",\"other_abdomen\",\"kidney\",\"bones_abdomen\",\"other_thorax\",\"other_thorax\",\"lung\",\"other_thorax\",\"lymphnode_thorax\",\"lung\",\"lymphnode_thorax\",\"other_thorax\",\"lung\",\"liver\",\"lung\",\"lymphnode_thorax\",\"bones_abdomen\",\"lymphnode_abdomen\",\"lung\",\"other_abdomen\",\"lung\",\"other_thorax\",\"bones_abdomen\",\"lymphnode_abdomen\",\"lung\",\"lung\",\"bones_abdomen\",\"lymphnode_abdomen\",\"lung\",\"lung\",\"other_abdomen\",\"bones_abdomen\",\"bones_abdomen\",\"bones_abdomen\",\"liver\",\"kidney\",\"lung\",\"other_thorax\",\"bones_abdomen\",\"lymphnode_thorax\",\"lymphnode_abdomen\",\"liver\",\"other_thorax\",\"liver\",\"other_abdomen\",\"lung\",\"lung\",\"bones_thorax\",\"lymphnode_thorax\",\"lymphnode_thorax\",\"lymphnode_thorax\",\"other_lowerlimb\",\"other_thorax\",\"other_thorax\",\"other_thorax\",\"lymphnode_thorax\",\"lymphnode_thorax\",\"bones_abdomen\",\"other_abdomen\",\"lymphnode_abdomen\",\"lung\",\"lung\",\"other_abdomen\",\"other_thorax\",\"lung\",\"lung\",\"lymphnode_abdomen\",\"lymphnode_abdomen\",\"lung\",\"lung\",\"lung\",\"other_thorax\",\"other_thorax\",\"other_thorax\",\"lung\",\"lung\",\"lung\",\"lymphnode_thorax\",\"other_thorax\",\"other_thorax\",\"lymphnode_thorax\",\"lymphnode_thorax\",\"lymphnode_thorax\",\"lymphnode_lowerlimb\",\"lymphnode_lowerlimb\",\"bones_abdomen\",\"lymphnode_abdomen\",\"other_abdomen\",\"lymphnode_abdomen\",\"bones_lowerlimb\",\"bones_abdomen\",\"other_thorax\",\"lymphnode_abdomen\",\"lymphnode_abdomen\",\"other_abdomen\",\"other_abdomen\",\"lymphnode_thorax\",\"lymphnode_abdomen\",\"other_thorax\",\"lymphnode_lowerlimb\",\"bones_abdomen\",\"lymphnode_abdomen\",\"lymphnode_abdomen\",\"lymphnode_thorax\",\"lymphnode_abdomen\",\"bones_lowerlimb\",\"lymphnode_abdomen\",\"lymphnode_abdomen\",\"other_abdomen\",\"other_abdomen\",\"other_thorax\",\"lymphnode_thorax\",\"lymphnode_thorax\",\"other_thorax\",\"lymphnode_abdomen\",\"lymphnode_lowerlimb\",\"bones_abdomen\",\"lymphnode_thorax\",\"other_thorax\",\"lymphnode_thorax\",\"lymphnode_thorax\",\"lymphnode_thorax\",\"lymphnode_thorax\",\"lymphnode_thorax\",\"other_thorax\",\"lymphnode_thorax\",\"other_thorax\",\"lymphnode_thorax\",\"other_thorax\",\"other_thorax\",\"other_abdomen\",\"lymphnode_lowerlimb\",\"other_lowerlimb\",\"kidney\",\"lung\",\"lung\",\"lung\",\"lung\",\"lymphnode_abdomen\",\"kidney\",\"other_abdomen\",\"other_lowerlimb\",\"lymphnode_abdomen\",\"other_abdomen\",\"other_abdomen\",\"other_thorax\",\"bones_lowerlimb\",\"lymphnode_abdomen\",\"other_abdomen\",\"other_abdomen\",\"other_abdomen\",\"liver\",\"other_abdomen\",\"lymphnode_lowerlimb\",\"other_abdomen\",\"other_abdomen\",\"other_abdomen\",\"other_abdomen\",\"lymphnode_lowerlimb\",\"bones_abdomen\",\"other_abdomen\",\"bones_abdomen\",\"other_abdomen\",\"other_abdomen\",\"lymphnode_abdomen\",\"lung\",\"bones_abdomen\",\"other_thorax\",\"other_lowerlimb\",\"other_lowerlimb\",\"other_thorax\",\"bones_abdomen\",\"bones_lowerlimb\",\"bones_lowerlimb\",\"lymphnode_abdomen\",\"other_abdomen\",\"other_lowerlimb\",\"other_abdomen\",\"bones_lowerlimb\",\"lymphnode_thorax\",\"other_abdomen\",\"other_lowerlimb\",\"liver\",\"other_lowerlimb\",\"other_abdomen\",\"liver\",\"other_thorax\",\"bones_lowerlimb\",\"bones_abdomen\",\"other_thorax\",\"bones_lowerlimb\",\"liver\",\"other_thorax\",\"other_abdomen\",\"liver\",\"lymphnode_abdomen\",\"other_abdomen\",\"other_thorax\",\"liver\",\"other_abdomen\",\"bones_thorax\",\"lymphnode_abdomen\",\"lung\",\"other_thorax\",\"other_thorax\",\"lung\",\"lung\",\"lung\",\"other_thorax\",\"lymphnode_lowerlimb\",\"lymphnode_lowerlimb\",\"bones_lowerlimb\",\"bones_lowerlimb\",\"other_thorax\",\"lymphnode_thorax\",\"bones_lowerlimb\",\"liver\",\"bones_lowerlimb\",\"lymphnode_lowerlimb\",\"bones_abdomen\",\"liver\",\"other_abdomen\",\"bones_thorax\",\"lung\",\"lung\",\"other_thorax\",\"other_thorax\",\"lymphnode_thorax\",\"lymphnode_thorax\",\"other_thorax\",\"lymphnode_thorax\",\"other_thorax\",\"other_thorax\",\"other_thorax\",\"lymphnode_thorax\",\"lymphnode_thorax\",\"lymphnode_thorax\",\"lymphnode_lowerlimb\",\"lymphnode_lowerlimb\",\"lymphnode_lowerlimb\",\"lymphnode_lowerlimb\",\"lymphnode_lowerlimb\",\"lymphnode_lowerlimb\",\"bones_lowerlimb\",\"bones_thorax\",\"bones_lowerlimb\",\"other_lowerlimb\",\"bones_lowerlimb\",\"lymphnode_abdomen\",\"bones_lowerlimb\",\"bones_lowerlimb\",\"bones_abdomen\",\"bones_lowerlimb\",\"other_abdomen\",\"bones_lowerlimb\",\"bones_abdomen\",\"bones_lowerlimb\",\"lymphnode_lowerlimb\",\"lymphnode_lowerlimb\",\"lymphnode_lowerlimb\",\"lymphnode_abdomen\",\"other_abdomen\",\"other_abdomen\",\"other_thorax\",\"other_abdomen\",\"other_thorax\",\"liver\",\"liver\",\"liver\",\"other_lowerlimb\",\"lymphnode_abdomen\",\"lymphnode_abdomen\",\"other_lowerlimb\",\"other_abdomen\",\"lymphnode_abdomen\",\"lymphnode_abdomen\",\"bones_abdomen\",\"lymphnode_abdomen\",\"lymphnode_abdomen\",\"lymphnode_abdomen\",\"bones_abdomen\",\"bones_abdomen\",\"bones_abdomen\",\"other_abdomen\",\"other_abdomen\",\"other_abdomen\",\"other_abdomen\",\"other_abdomen\",\"other_abdomen\",\"other_abdomen\",\"lymphnode_abdomen\",\"other_abdomen\",\"other_lowerlimb\",\"other_lowerlimb\",\"other_lowerlimb\",\"lymphnode_abdomen\",\"other_abdomen\",\"lymphnode_abdomen\",\"lymphnode_abdomen\",\"lymphnode_abdomen\",\"other_abdomen\",\"other_abdomen\",\"other_thorax\",\"lymphnode_thorax\",\"lymphnode_abdomen\",\"lymphnode_thorax\",\"bones_thorax\",\"bones_lowerlimb\",\"other_lowerlimb\",\"other_lowerlimb\",\"other_lowerlimb\",\"other_lowerlimb\",\"other_lowerlimb\",\"other_lowerlimb\",\"other_lowerlimb\",\"other_lowerlimb\",\"lymphnode_thorax\",\"other_abdomen\",\"other_abdomen\",\"lymphnode_abdomen\",\"lymphnode_lowerlimb\",\"lymphnode_lowerlimb\",\"other_lowerlimb\",\"lymphnode_abdomen\",\"other_abdomen\",\"lymphnode_abdomen\",\"liver\",\"other_thorax\",\"other_thorax\",\"other_lowerlimb\",\"lymphnode_abdomen\",\"lymphnode_abdomen\",\"other_abdomen\",\"liver\",\"other_lowerlimb\",\"other_lowerlimb\",\"other_lowerlimb\",\"lymphnode_abdomen\",\"liver\",\"liver\",\"bones_lowerlimb\",\"bones_lowerlimb\",\"other_thorax\",\"other_thorax\",\"other_thorax\",\"other_abdomen\",\"liver\",\"liver\",\"lymphnode_abdomen\",\"liver\",\"bones_thorax\",\"other_thorax\",\"lung\",\"other_thorax\",\"lung\",\"lymphnode_abdomen\",\"other_thorax\",\"lymphnode_thorax\",\"bones_thorax\",\"other_thorax\",\"lung\",\"lymphnode_thorax\",\"other_thorax\",\"other_thorax\",\"bones_thorax\",\"bones_thorax\",\"lymphnode_thorax\",\"other_thorax\",\"other_abdomen\",\"liver\",\"other_abdomen\",\"lymphnode_abdomen\",\"other_abdomen\",\"lymphnode_abdomen\",\"lymphnode_abdomen\",\"lymphnode_abdomen\",\"lymphnode_abdomen\",\"lymphnode_abdomen\",\"spleen\",\"liver\",\"bones_thorax\",\"lung\",\"other_thorax\",\"lymphnode_thorax\",\"lymphnode_thorax\",\"lymphnode_thorax\",\"other_thorax\",\"lymphnode_thorax\",\"lymphnode_thorax\",\"bones_thorax\",\"lymphnode_thorax\",\"lymphnode_thorax\",\"bones_lowerlimb\",\"bones_lowerlimb\",\"lymphnode_abdomen\",\"lymphnode_abdomen\",\"lymphnode_abdomen\",\"other_thorax\",\"bones_lowerlimb\",\"bones_lowerlimb\",\"bones_lowerlimb\",\"bones_lowerlimb\",\"bones_lowerlimb\",\"lymphnode_abdomen\",\"lymphnode_abdomen\",\"lymphnode_abdomen\",\"other_thorax\",\"lymphnode_abdomen\",\"lymphnode_abdomen\",\"lymphnode_abdomen\",\"other_thorax\",\"lymphnode_thorax\",\"lymphnode_thorax\",\"bones_lowerlimb\",\"bones_lowerlimb\",\"lymphnode_abdomen\",\"lymphnode_abdomen\",\"lymphnode_abdomen\",\"lymphnode_abdomen\",\"lymphnode_abdomen\",\"lymphnode_thorax\",\"bones_thorax\",\"bones_lowerlimb\",\"other_abdomen\",\"other_abdomen\",\"lymphnode_abdomen\",\"other_abdomen\",\"lymphnode_abdomen\",\"lymphnode_abdomen\",\"other_abdomen\",\"lymphnode_abdomen\",\"liver\",\"liver\",\"liver\",\"liver\",\"spleen\",\"liver\",\"lung\",\"lung\",\"other_thorax\",\"lung\",\"lung\",\"lymphnode_thorax\",\"bones_lowerlimb\",\"bones_lowerlimb\",\"liver\",\"liver\",\"bones_thorax\",\"lymphnode_abdomen\",\"lymphnode_abdomen\",\"lymphnode_abdomen\",\"other_abdomen\",\"lymphnode_abdomen\",\"other_abdomen\",\"lymphnode_abdomen\",\"other_abdomen\",\"other_abdomen\",\"bones_thorax\",\"other_abdomen\",\"lymphnode_abdomen\",\"other_abdomen\",\"other_abdomen\",\"other_abdomen\",\"lymphnode_abdomen\",\"liver\",\"lymphnode_thorax\",\"lymphnode_thorax\",\"bones_lowerlimb\",\"lymphnode_abdomen\",\"lymphnode_abdomen\",\"liver\",\"lymphnode_lowerlimb\",\"other_thorax\",\"lung\",\"other_thorax\",\"lung\",\"lung\",\"lymphnode_thorax\",\"lung\",\"lung\",\"lymphnode_thorax\",\"bones_thorax\",\"bones_thorax\",\"other_lowerlimb\",\"other_lowerlimb\",\"bones_lowerlimb\",\"bones_lowerlimb\",\"other_lowerlimb\",\"other_abdomen\",\"other_abdomen\",\"other_abdomen\",\"other_abdomen\",\"lymphnode_abdomen\",\"lung\",\"lung\",\"lung\",\"lung\",\"lung\",\"other_abdomen\",\"lymphnode_abdomen\",\"lymphnode_abdomen\",\"other_thorax\",\"other_abdomen\",\"other_thorax\",\"other_thorax\",\"other_thorax\",\"other_thorax\",\"other_thorax\",\"lung\",\"lymphnode_thorax\",\"lymphnode_thorax\",\"other_thorax\",\"other_thorax\",\"lymphnode_thorax\",\"lymphnode_lowerlimb\",\"bones_thorax\",\"other_thorax\",\"other_abdomen\",\"lung\",\"lung\",\"lymphnode_thorax\",\"lymphnode_abdomen\",\"lung\",\"other_thorax\",\"lymphnode_abdomen\",\"liver\",\"bones_thorax\",\"liver\",\"lymphnode_abdomen\",\"lymphnode_abdomen\",\"lymphnode_abdomen\",\"lymphnode_abdomen\",\"bones_lowerlimb\",\"bones_abdomen\",\"lymphnode_abdomen\",\"lymphnode_abdomen\",\"bones_abdomen\",\"bones_abdomen\",\"liver\",\"liver\",\"lymphnode_abdomen\",\"lymphnode_abdomen\",\"lung\",\"lymphnode_abdomen\",\"other_thorax\",\"lymphnode_abdomen\",\"lymphnode_abdomen\",\"other_thorax\",\"other_thorax\",\"other_lowerlimb\",\"other_abdomen\",\"bones_thorax\",\"lymphnode_abdomen\",\"bones_thorax\",\"bones_abdomen\",\"bones_thorax\",\"bones_abdomen\",\"lymphnode_abdomen\",\"bones_abdomen\",\"bones_thorax\",\"other_abdomen\",\"lymphnode_thorax\",\"lymphnode_thorax\",\"other_thorax\",\"lymphnode_thorax\",\"other_thorax\",\"lymphnode_thorax\",\"lymphnode_thorax\",\"other_lowerlimb\",\"bones_abdomen\",\"other_abdomen\",\"lymphnode_thorax\",\"lymphnode_thorax\",\"liver\",\"liver\",\"bones_thorax\",\"lymphnode_thorax\",\"lymphnode_thorax\",\"lymphnode_thorax\",\"lymphnode_thorax\",\"lymphnode_thorax\",\"lymphnode_thorax\",\"bones_thorax\",\"bones_thorax\",\"bones_thorax\",\"lymphnode_thorax\",\"bones_thorax\",\"bones_lowerlimb\",\"lymphnode_lowerlimb\",\"bones_abdomen\",\"bones_abdomen\",\"liver\",\"liver\",\"liver\",\"liver\",\"liver\",\"lymphnode_thorax\",\"liver\",\"other_thorax\",\"liver\",\"lung\",\"lymphnode_lowerlimb\",\"bones_lowerlimb\",\"other_abdomen\",\"lung\",\"other_thorax\",\"bones_thorax\",\"lung\",\"other_thorax\",\"lymphnode_thorax\",\"other_thorax\",\"other_lowerlimb\",\"bones_lowerlimb\",\"bones_abdomen\",\"bones_lowerlimb\",\"bones_lowerlimb\",\"lymphnode_abdomen\",\"bones_abdomen\",\"other_abdomen\",\"bones_abdomen\",\"kidney\",\"liver\",\"liver\",\"liver\",\"liver\",\"liver\",\"liver\",\"liver\",\"liver\",\"liver\",\"liver\",\"liver\",\"lung\",\"bones_thorax\",\"lung\",\"lung\",\"lung\",\"lung\",\"lung\",\"lung\",\"other_thorax\",\"lymphnode_abdomen\",\"bones_thorax\",\"lung\",\"bones_thorax\",\"other_thorax\",\"lung\",\"liver\",\"liver\",\"liver\",\"liver\",\"liver\",\"liver\",\"liver\",\"liver\",\"liver\",\"liver\",\"liver\",\"liver\",\"liver\",\"lymphnode_thorax\",\"liver\",\"liver\",\"liver\",\"liver\",\"liver\",\"liver\",\"liver\",\"liver\",\"liver\",\"liver\",\"liver\",\"liver\",\"bones_thorax\",\"bones_abdomen\",\"lymphnode_abdomen\",\"liver\",\"other_thorax\",\"bones_thorax\",\"liver\",\"other_abdomen\",\"other_thorax\",\"bones_thorax\",\"liver\",\"other_abdomen\",\"bones_thorax\",\"bones_thorax\",\"bones_thorax\",\"other_thorax\",\"other_thorax\",\"other_thorax\",\"other_thorax\",\"other_thorax\",\"other_thorax\",\"other_thorax\",\"other_thorax\",\"other_thorax\",\"bones_abdomen\",\"bones_abdomen\",\"lymphnode_abdomen\",\"lymphnode_abdomen\",\"other_thorax\",\"other_thorax\",\"other_thorax\",\"other_thorax\",\"other_thorax\",\"bones_thorax\",\"other_thorax\",\"other_thorax\",\"lymphnode_thorax\",\"other_thorax\",\"lymphnode_thorax\",\"other_thorax\",\"other_thorax\",\"bones_thorax\",\"other_thorax\",\"bones_thorax\",\"bones_thorax\",\"lymphnode_thorax\",\"kidney\",\"kidney\",\"kidney\",\"liver\",\"bones_thorax\",\"other_thorax\",\"lymphnode_thorax\",\"other_thorax\",\"lung\",\"lymphnode_lowerlimb\",\"bones_lowerlimb\",\"bones_thorax\",\"lung\",\"lymphnode_abdomen\",\"lung\",\"other_thorax\",\"bones_abdomen\",\"lymphnode_abdomen\",\"lymphnode_thorax\",\"bones_lowerlimb\",\"bones_lowerlimb\",\"bones_lowerlimb\",\"bones_abdomen\",\"lymphnode_abdomen\",\"lymphnode_abdomen\",\"lymphnode_abdomen\",\"lung\",\"other_thorax\",\"lung\",\"other_thorax\",\"bones_abdomen\",\"lung\",\"other_thorax\",\"other_thorax\",\"bones_thorax\",\"bones_thorax\",\"bones_thorax\",\"lymphnode_thorax\",\"bones_thorax\",\"bones_thorax\",\"bones_thorax\",\"other_thorax\",\"lymphnode_thorax\",\"bones_thorax\",\"other_thorax\",\"bones_thorax\",\"bones_thorax\",\"other_thorax\",\"other_thorax\",\"other_thorax\",\"bones_thorax\",\"bones_thorax\",\"other_thorax\",\"other_thorax\",\"other_thorax\",\"lymphnode_thorax\",\"other_thorax\",\"lymphnode_thorax\",\"bones_thorax\",\"other_thorax\",\"bones_thorax\",\"other_abdomen\",\"other_thorax\",\"lung\",\"lung\",\"lung\",\"other_thorax\",\"lung\",\"lymphnode_thorax\",\"lung\",\"lymphnode_thorax\",\"lung\",\"other_thorax\",\"other_thorax\",\"lymphnode_thorax\",\"lung\",\"lung\",\"lung\",\"other_thorax\",\"lung\",\"other_abdomen\",\"lymphnode_thorax\",\"lymphnode_abdomen\",\"other_abdomen\",\"other_thorax\",\"lymphnode_thorax\",\"lymphnode_thorax\",\"other_lowerlimb\",\"other_thorax\",\"other_thorax\",\"lymphnode_thorax\",\"bones_lowerlimb\",\"liver\",\"lymphnode_abdomen\",\"liver\",\"liver\",\"lymphnode_thorax\",\"other_thorax\",\"lymphnode_abdomen\",\"liver\",\"other_abdomen\",\"lymphnode_abdomen\",\"other_abdomen\",\"other_thorax\",\"lymphnode_lowerlimb\",\"lymphnode_abdomen\",\"lymphnode_thorax\",\"other_thorax\",\"lymphnode_thorax\",\"lymphnode_thorax\",\"lymphnode_thorax\",\"other_thorax\",\"lymphnode_thorax\",\"lymphnode_thorax\",\"other_abdomen\",\"lymphnode_thorax\",\"lymphnode_thorax\",\"lymphnode_thorax\",\"lymphnode_thorax\",\"lymphnode_thorax\",\"lymphnode_thorax\",\"lymphnode_thorax\",\"bones_lowerlimb\",\"lymphnode_abdomen\",\"lymphnode_abdomen\",\"bones_abdomen\",\"bones_abdomen\",\"spleen\",\"spleen\",\"lymphnode_thorax\",\"bones_abdomen\",\"bones_abdomen\",\"bones_abdomen\",\"lymphnode_abdomen\",\"lymphnode_thorax\",\"lymphnode_thorax\",\"lymphnode_thorax\",\"liver\",\"liver\",\"liver\",\"liver\",\"bones_thorax\",\"other_thorax\",\"lung\",\"other_thorax\",\"lymphnode_thorax\",\"lung\",\"other_thorax\",\"lung\",\"lymphnode_thorax\",\"other_thorax\",\"lymphnode_thorax\",\"lung\",\"bones_lowerlimb\",\"bones_lowerlimb\",\"lymphnode_abdomen\",\"lymphnode_abdomen\",\"other_thorax\",\"other_thorax\",\"other_thorax\",\"lymphnode_abdomen\",\"other_abdomen\",\"other_abdomen\",\"lymphnode_abdomen\",\"lymphnode_abdomen\",\"bones_thorax\",\"other_abdomen\",\"lymphnode_abdomen\",\"lymphnode_abdomen\",\"lymphnode_abdomen\",\"lymphnode_abdomen\",\"lymphnode_abdomen\",\"bones_abdomen\",\"lymphnode_abdomen\",\"other_abdomen\",\"lymphnode_abdomen\",\"lymphnode_abdomen\",\"lymphnode_abdomen\",\"other_abdomen\",\"lymphnode_abdomen\",\"other_thorax\",\"lymphnode_abdomen\",\"lymphnode_abdomen\",\"lymphnode_abdomen\",\"bones_abdomen\",\"bones_thorax\",\"bones_lowerlimb\",\"lymphnode_abdomen\",\"other_abdomen\",\"lymphnode_abdomen\",\"bones_abdomen\",\"bones_abdomen\",\"lymphnode_abdomen\",\"bones_abdomen\",\"bones_thorax\",\"other_lowerlimb\",\"other_thorax\",\"lymphnode_thorax\",\"lymphnode_thorax\",\"bones_thorax\",\"lymphnode_abdomen\",\"lymphnode_abdomen\",\"lymphnode_abdomen\",\"lymphnode_abdomen\",\"lymphnode_abdomen\",\"lymphnode_abdomen\",\"lymphnode_abdomen\",\"bones_thorax\",\"lymphnode_thorax\",\"lymphnode_lowerlimb\",\"lymphnode_lowerlimb\",\"other_abdomen\",\"other_abdomen\",\"other_thorax\",\"bones_thorax\",\"bones_thorax\",\"bones_thorax\",\"lung\",\"lung\",\"other_thorax\",\"lung\",\"lung\",\"bones_abdomen\",\"bones_abdomen\",\"bones_abdomen\",\"other_abdomen\",\"spleen\",\"other_thorax\",\"other_thorax\",\"other_thorax\",\"other_thorax\",\"other_thorax\",\"bones_abdomen\",\"lymphnode_abdomen\",\"lymphnode_abdomen\",\"other_thorax\",\"other_lowerlimb\",\"bones_abdomen\",\"other_lowerlimb\",\"bones_abdomen\",\"bones_abdomen\",\"other_abdomen\",\"bones_abdomen\",\"other_abdomen\",\"liver\",\"other_thorax\",\"bones_lowerlimb\",\"lung\",\"other_thorax\",\"lymphnode_thorax\",\"lymphnode_thorax\",\"other_thorax\",\"lymphnode_thorax\",\"bones_thorax\",\"bones_thorax\",\"other_thorax\",\"other_thorax\",\"other_thorax\",\"lymphnode_thorax\",\"lymphnode_thorax\",\"lymphnode_thorax\",\"other_thorax\",\"lymphnode_thorax\",\"bones_thorax\",\"lymphnode_thorax\",\"other_thorax\",\"lymphnode_thorax\",\"bones_thorax\",\"other_abdomen\",\"lymphnode_abdomen\",\"spleen\",\"liver\",\"liver\",\"liver\",\"liver\",\"other_thorax\",\"lymphnode_thorax\",\"other_abdomen\",\"lymphnode_abdomen\",\"liver\",\"lung\",\"other_thorax\",\"lung\",\"lymphnode_thorax\",\"lung\",\"other_thorax\",\"lung\",\"other_abdomen\",\"other_abdomen\",\"lung\",\"bones_lowerlimb\",\"lymphnode_abdomen\",\"lymphnode_abdomen\",\"lymphnode_abdomen\",\"other_abdomen\",\"lymphnode_abdomen\",\"lymphnode_abdomen\",\"other_abdomen\",\"other_abdomen\",\"bones_abdomen\",\"bones_abdomen\",\"bones_abdomen\",\"spleen\",\"other_thorax\",\"lymphnode_thorax\",\"other_thorax\",\"lung\",\"lung\",\"lung\",\"lymphnode_lowerlimb\",\"other_lowerlimb\",\"lymphnode_abdomen\",\"lymphnode_thorax\",\"bones_thorax\",\"lung\",\"bones_thorax\",\"bones_abdomen\",\"kidney\",\"kidney\",\"lymphnode_abdomen\",\"lymphnode_abdomen\",\"other_thorax\",\"bones_thorax\",\"other_thorax\",\"other_thorax\",\"bones_thorax\",\"other_thorax\",\"bones_thorax\",\"bones_thorax\",\"lung\",\"lung\",\"lung\",\"other_thorax\",\"bones_thorax\",\"bones_thorax\",\"lung\",\"lymphnode_thorax\",\"bones_abdomen\",\"other_thorax\",\"lung\",\"other_thorax\",\"bones_abdomen\",\"lung\",\"lymphnode_thorax\",\"other_thorax\",\"lung\",\"other_thorax\",\"bones_thorax\",\"bones_abdomen\",\"kidney\",\"bones_thorax\",\"bones_thorax\",\"other_thorax\",\"lung\",\"bones_thorax\",\"lymphnode_thorax\",\"lymphnode_thorax\",\"lymphnode_thorax\",\"lymphnode_thorax\",\"bones_abdomen\",\"bones_abdomen\",\"lymphnode_abdomen\",\"lymphnode_abdomen\",\"lymphnode_lowerlimb\",\"lymphnode_lowerlimb\",\"lymphnode_lowerlimb\",\"lymphnode_lowerlimb\",\"lymphnode_lowerlimb\",\"lymphnode_abdomen\",\"other_abdomen\",\"lung\",\"lung\",\"lung\",\"other_thorax\",\"lymphnode_lowerlimb\",\"other_abdomen\",\"other_abdomen\",\"lymphnode_lowerlimb\",\"lymphnode_lowerlimb\",\"lymphnode_abdomen\",\"other_abdomen\",\"lymphnode_abdomen\",\"liver\",\"liver\",\"lymphnode_lowerlimb\",\"lymphnode_lowerlimb\",\"lymphnode_lowerlimb\",\"lymphnode_lowerlimb\",\"liver\",\"liver\",\"liver\",\"bones_abdomen\",\"liver\",\"other_abdomen\",\"liver\",\"other_thorax\",\"lung\",\"lung\",\"other_thorax\",\"bones_thorax\",\"bones_thorax\",\"other_abdomen\",\"bones_abdomen\",\"bones_abdomen\",\"liver\",\"liver\",\"liver\",\"liver\",\"other_thorax\",\"lymphnode_lowerlimb\",\"bones_thorax\",\"bones_thorax\",\"bones_lowerlimb\",\"other_lowerlimb\",\"lung\",\"other_thorax\",\"lymphnode_abdomen\",\"lymphnode_abdomen\",\"other_abdomen\",\"bones_abdomen\",\"lymphnode_abdomen\",\"lung\",\"lymphnode_thorax\",\"lymphnode_thorax\",\"lymphnode_thorax\",\"bones_thorax\",\"lymphnode_abdomen\",\"other_abdomen\",\"bones_abdomen\",\"other_thorax\",\"lymphnode_thorax\",\"lymphnode_thorax\",\"lymphnode_abdomen\",\"other_abdomen\",\"bones_lowerlimb\",\"other_thorax\",\"lung\",\"lung\",\"bones_abdomen\",\"lymphnode_lowerlimb\",\"lymphnode_abdomen\",\"lymphnode_abdomen\",\"lymphnode_abdomen\",\"other_abdomen\",\"other_abdomen\",\"other_abdomen\",\"other_abdomen\",\"other_thorax\",\"other_abdomen\",\"other_lowerlimb\",\"other_thorax\",\"other_thorax\",\"lymphnode_abdomen\",\"lymphnode_abdomen\",\"lymphnode_abdomen\",\"lung\",\"lung\",\"other_thorax\",\"other_thorax\",\"bones_abdomen\",\"bones_lowerlimb\",\"other_thorax\",\"other_thorax\",\"lung\",\"other_thorax\",\"other_abdomen\",\"lymphnode_thorax\",\"other_thorax\",\"lymphnode_thorax\",\"other_thorax\",\"bones_thorax\",\"lymphnode_thorax\",\"bones_thorax\",\"bones_thorax\",\"other_thorax\",\"other_thorax\",\"lymphnode_thorax\",\"other_thorax\",\"other_thorax\",\"lymphnode_thorax\",\"bones_thorax\",\"lymphnode_thorax\",\"other_thorax\",\"other_thorax\",\"bones_thorax\",\"other_thorax\",\"bones_thorax\",\"lymphnode_thorax\",\"other_thorax\",\"lymphnode_thorax\",\"lymphnode_thorax\",\"lymphnode_abdomen\",\"bones_abdomen\",\"lymphnode_abdomen\",\"lymphnode_abdomen\",\"spleen\",\"bones_abdomen\",\"liver\",\"other_thorax\",\"bones_thorax\",\"bones_thorax\",\"other_thorax\",\"liver\",\"spleen\",\"other_thorax\",\"other_thorax\",\"spleen\",\"other_abdomen\",\"other_abdomen\",\"other_thorax\",\"lymphnode_thorax\",\"bones_thorax\",\"bones_thorax\",\"other_thorax\",\"other_thorax\",\"other_thorax\",\"bones_thorax\",\"lymphnode_thorax\",\"other_thorax\",\"bones_thorax\",\"other_thorax\",\"other_thorax\",\"other_thorax\",\"other_thorax\",\"lymphnode_thorax\",\"lymphnode_thorax\",\"lymphnode_thorax\",\"bones_thorax\",\"other_thorax\",\"other_thorax\",\"other_thorax\",\"other_thorax\",\"lymphnode_thorax\",\"lymphnode_thorax\",\"lymphnode_thorax\",\"other_thorax\",\"lymphnode_thorax\",\"lymphnode_thorax\",\"other_abdomen\",\"other_thorax\",\"liver\",\"other_thorax\",\"lymphnode_thorax\",\"other_thorax\",\"other_thorax\",\"bones_thorax\",\"other_thorax\",\"bones_thorax\",\"bones_thorax\",\"other_thorax\",\"other_thorax\",\"lymphnode_thorax\",\"other_thorax\",\"lymphnode_thorax\",\"kidney\",\"other_abdomen\",\"bones_abdomen\",\"other_abdomen\",\"other_thorax\",\"other_abdomen\",\"liver\",\"other_thorax\",\"other_thorax\",\"lymphnode_thorax\",\"liver\",\"bones_thorax\",\"bones_thorax\",\"lung\",\"other_thorax\",\"lymphnode_thorax\",\"lymphnode_thorax\",\"lymphnode_thorax\",\"lymphnode_thorax\",\"bones_thorax\",\"bones_thorax\",\"other_thorax\",\"other_thorax\",\"lymphnode_thorax\",\"lung\",\"other_thorax\",\"lung\",\"lymphnode_thorax\",\"lung\",\"other_thorax\",\"lung\",\"other_thorax\",\"other_thorax\",\"other_thorax\",\"bones_thorax\",\"bones_thorax\",\"other_thorax\",\"other_thorax\",\"lymphnode_thorax\",\"other_abdomen\",\"bones_abdomen\",\"kidney\",\"lymphnode_abdomen\",\"liver\",\"other_thorax\",\"other_thorax\",\"spleen\",\"bones_thorax\",\"lymphnode_thorax\",\"other_thorax\",\"other_thorax\",\"bones_thorax\",\"other_thorax\",\"bones_thorax\",\"bones_thorax\",\"lung\",\"lymphnode_thorax\",\"other_thorax\",\"other_thorax\",\"other_thorax\",\"bones_thorax\",\"other_thorax\",\"bones_abdomen\",\"lymphnode_abdomen\",\"bones_thorax\",\"other_thorax\",\"lymphnode_thorax\",\"other_thorax\",\"other_thorax\",\"lymphnode_thorax\",\"lymphnode_thorax\",\"lymphnode_thorax\",\"other_thorax\",\"other_thorax\",\"other_thorax\",\"other_thorax\",\"other_thorax\",\"lymphnode_thorax\",\"lymphnode_thorax\",\"lymphnode_thorax\",\"lymphnode_thorax\",\"other_thorax\",\"other_thorax\",\"lymphnode_thorax\",\"other_thorax\",\"bones_thorax\",\"bones_thorax\",\"other_thorax\",\"other_thorax\",\"other_abdomen\",\"other_abdomen\",\"bones_thorax\",\"bones_abdomen\",\"liver\",\"bones_thorax\",\"spleen\",\"spleen\",\"spleen\",\"liver\",\"kidney\",\"other_thorax\",\"other_abdomen\",\"lymphnode_thorax\",\"bones_thorax\",\"lymphnode_thorax\",\"bones_thorax\",\"lymphnode_abdomen\",\"other_thorax\",\"other_thorax\",\"other_thorax\",\"lymphnode_thorax\",\"bones_thorax\",\"bones_thorax\"],\"xaxis\":\"x\",\"yaxis\":\"y\"}],                        {\"barmode\":\"relative\",\"legend\":{\"orientation\":\"h\",\"title\":{\"text\":\"PARS lesion classification\"},\"tracegroupgap\":0,\"y\":1.02,\"yanchor\":\"bottom\"},\"margin\":{\"t\":60},\"template\":{\"data\":{\"bar\":[{\"error_x\":{\"color\":\"rgb(36,36,36)\"},\"error_y\":{\"color\":\"rgb(36,36,36)\"},\"marker\":{\"line\":{\"color\":\"rgb(234,234,242)\",\"width\":0.5},\"pattern\":{\"fillmode\":\"overlay\",\"size\":10,\"solidity\":0.2}},\"type\":\"bar\"}],\"barpolar\":[{\"marker\":{\"line\":{\"color\":\"rgb(234,234,242)\",\"width\":0.5},\"pattern\":{\"fillmode\":\"overlay\",\"size\":10,\"solidity\":0.2}},\"type\":\"barpolar\"}],\"carpet\":[{\"aaxis\":{\"endlinecolor\":\"rgb(36,36,36)\",\"gridcolor\":\"white\",\"linecolor\":\"white\",\"minorgridcolor\":\"white\",\"startlinecolor\":\"rgb(36,36,36)\"},\"baxis\":{\"endlinecolor\":\"rgb(36,36,36)\",\"gridcolor\":\"white\",\"linecolor\":\"white\",\"minorgridcolor\":\"white\",\"startlinecolor\":\"rgb(36,36,36)\"},\"type\":\"carpet\"}],\"choropleth\":[{\"colorbar\":{\"outlinewidth\":0,\"tickcolor\":\"rgb(36,36,36)\",\"ticklen\":8,\"ticks\":\"outside\",\"tickwidth\":2},\"type\":\"choropleth\"}],\"contour\":[{\"colorbar\":{\"outlinewidth\":0,\"tickcolor\":\"rgb(36,36,36)\",\"ticklen\":8,\"ticks\":\"outside\",\"tickwidth\":2},\"colorscale\":[[0.0,\"rgb(2,4,25)\"],[0.06274509803921569,\"rgb(24,15,41)\"],[0.12549019607843137,\"rgb(47,23,57)\"],[0.18823529411764706,\"rgb(71,28,72)\"],[0.25098039215686274,\"rgb(97,30,82)\"],[0.3137254901960784,\"rgb(123,30,89)\"],[0.3764705882352941,\"rgb(150,27,91)\"],[0.4392156862745098,\"rgb(177,22,88)\"],[0.5019607843137255,\"rgb(203,26,79)\"],[0.5647058823529412,\"rgb(223,47,67)\"],[0.6274509803921569,\"rgb(236,76,61)\"],[0.6901960784313725,\"rgb(242,107,73)\"],[0.7529411764705882,\"rgb(244,135,95)\"],[0.8156862745098039,\"rgb(245,162,122)\"],[0.8784313725490196,\"rgb(246,188,153)\"],[0.9411764705882353,\"rgb(247,212,187)\"],[1.0,\"rgb(250,234,220)\"]],\"type\":\"contour\"}],\"contourcarpet\":[{\"colorbar\":{\"outlinewidth\":0,\"tickcolor\":\"rgb(36,36,36)\",\"ticklen\":8,\"ticks\":\"outside\",\"tickwidth\":2},\"type\":\"contourcarpet\"}],\"heatmap\":[{\"colorbar\":{\"outlinewidth\":0,\"tickcolor\":\"rgb(36,36,36)\",\"ticklen\":8,\"ticks\":\"outside\",\"tickwidth\":2},\"colorscale\":[[0.0,\"rgb(2,4,25)\"],[0.06274509803921569,\"rgb(24,15,41)\"],[0.12549019607843137,\"rgb(47,23,57)\"],[0.18823529411764706,\"rgb(71,28,72)\"],[0.25098039215686274,\"rgb(97,30,82)\"],[0.3137254901960784,\"rgb(123,30,89)\"],[0.3764705882352941,\"rgb(150,27,91)\"],[0.4392156862745098,\"rgb(177,22,88)\"],[0.5019607843137255,\"rgb(203,26,79)\"],[0.5647058823529412,\"rgb(223,47,67)\"],[0.6274509803921569,\"rgb(236,76,61)\"],[0.6901960784313725,\"rgb(242,107,73)\"],[0.7529411764705882,\"rgb(244,135,95)\"],[0.8156862745098039,\"rgb(245,162,122)\"],[0.8784313725490196,\"rgb(246,188,153)\"],[0.9411764705882353,\"rgb(247,212,187)\"],[1.0,\"rgb(250,234,220)\"]],\"type\":\"heatmap\"}],\"heatmapgl\":[{\"colorbar\":{\"outlinewidth\":0,\"tickcolor\":\"rgb(36,36,36)\",\"ticklen\":8,\"ticks\":\"outside\",\"tickwidth\":2},\"colorscale\":[[0.0,\"rgb(2,4,25)\"],[0.06274509803921569,\"rgb(24,15,41)\"],[0.12549019607843137,\"rgb(47,23,57)\"],[0.18823529411764706,\"rgb(71,28,72)\"],[0.25098039215686274,\"rgb(97,30,82)\"],[0.3137254901960784,\"rgb(123,30,89)\"],[0.3764705882352941,\"rgb(150,27,91)\"],[0.4392156862745098,\"rgb(177,22,88)\"],[0.5019607843137255,\"rgb(203,26,79)\"],[0.5647058823529412,\"rgb(223,47,67)\"],[0.6274509803921569,\"rgb(236,76,61)\"],[0.6901960784313725,\"rgb(242,107,73)\"],[0.7529411764705882,\"rgb(244,135,95)\"],[0.8156862745098039,\"rgb(245,162,122)\"],[0.8784313725490196,\"rgb(246,188,153)\"],[0.9411764705882353,\"rgb(247,212,187)\"],[1.0,\"rgb(250,234,220)\"]],\"type\":\"heatmapgl\"}],\"histogram\":[{\"marker\":{\"pattern\":{\"fillmode\":\"overlay\",\"size\":10,\"solidity\":0.2}},\"type\":\"histogram\"}],\"histogram2d\":[{\"colorbar\":{\"outlinewidth\":0,\"tickcolor\":\"rgb(36,36,36)\",\"ticklen\":8,\"ticks\":\"outside\",\"tickwidth\":2},\"colorscale\":[[0.0,\"rgb(2,4,25)\"],[0.06274509803921569,\"rgb(24,15,41)\"],[0.12549019607843137,\"rgb(47,23,57)\"],[0.18823529411764706,\"rgb(71,28,72)\"],[0.25098039215686274,\"rgb(97,30,82)\"],[0.3137254901960784,\"rgb(123,30,89)\"],[0.3764705882352941,\"rgb(150,27,91)\"],[0.4392156862745098,\"rgb(177,22,88)\"],[0.5019607843137255,\"rgb(203,26,79)\"],[0.5647058823529412,\"rgb(223,47,67)\"],[0.6274509803921569,\"rgb(236,76,61)\"],[0.6901960784313725,\"rgb(242,107,73)\"],[0.7529411764705882,\"rgb(244,135,95)\"],[0.8156862745098039,\"rgb(245,162,122)\"],[0.8784313725490196,\"rgb(246,188,153)\"],[0.9411764705882353,\"rgb(247,212,187)\"],[1.0,\"rgb(250,234,220)\"]],\"type\":\"histogram2d\"}],\"histogram2dcontour\":[{\"colorbar\":{\"outlinewidth\":0,\"tickcolor\":\"rgb(36,36,36)\",\"ticklen\":8,\"ticks\":\"outside\",\"tickwidth\":2},\"colorscale\":[[0.0,\"rgb(2,4,25)\"],[0.06274509803921569,\"rgb(24,15,41)\"],[0.12549019607843137,\"rgb(47,23,57)\"],[0.18823529411764706,\"rgb(71,28,72)\"],[0.25098039215686274,\"rgb(97,30,82)\"],[0.3137254901960784,\"rgb(123,30,89)\"],[0.3764705882352941,\"rgb(150,27,91)\"],[0.4392156862745098,\"rgb(177,22,88)\"],[0.5019607843137255,\"rgb(203,26,79)\"],[0.5647058823529412,\"rgb(223,47,67)\"],[0.6274509803921569,\"rgb(236,76,61)\"],[0.6901960784313725,\"rgb(242,107,73)\"],[0.7529411764705882,\"rgb(244,135,95)\"],[0.8156862745098039,\"rgb(245,162,122)\"],[0.8784313725490196,\"rgb(246,188,153)\"],[0.9411764705882353,\"rgb(247,212,187)\"],[1.0,\"rgb(250,234,220)\"]],\"type\":\"histogram2dcontour\"}],\"mesh3d\":[{\"colorbar\":{\"outlinewidth\":0,\"tickcolor\":\"rgb(36,36,36)\",\"ticklen\":8,\"ticks\":\"outside\",\"tickwidth\":2},\"type\":\"mesh3d\"}],\"parcoords\":[{\"line\":{\"colorbar\":{\"outlinewidth\":0,\"tickcolor\":\"rgb(36,36,36)\",\"ticklen\":8,\"ticks\":\"outside\",\"tickwidth\":2}},\"type\":\"parcoords\"}],\"pie\":[{\"automargin\":true,\"type\":\"pie\"}],\"scatter\":[{\"marker\":{\"colorbar\":{\"outlinewidth\":0,\"tickcolor\":\"rgb(36,36,36)\",\"ticklen\":8,\"ticks\":\"outside\",\"tickwidth\":2}},\"type\":\"scatter\"}],\"scatter3d\":[{\"line\":{\"colorbar\":{\"outlinewidth\":0,\"tickcolor\":\"rgb(36,36,36)\",\"ticklen\":8,\"ticks\":\"outside\",\"tickwidth\":2}},\"marker\":{\"colorbar\":{\"outlinewidth\":0,\"tickcolor\":\"rgb(36,36,36)\",\"ticklen\":8,\"ticks\":\"outside\",\"tickwidth\":2}},\"type\":\"scatter3d\"}],\"scattercarpet\":[{\"marker\":{\"colorbar\":{\"outlinewidth\":0,\"tickcolor\":\"rgb(36,36,36)\",\"ticklen\":8,\"ticks\":\"outside\",\"tickwidth\":2}},\"type\":\"scattercarpet\"}],\"scattergeo\":[{\"marker\":{\"colorbar\":{\"outlinewidth\":0,\"tickcolor\":\"rgb(36,36,36)\",\"ticklen\":8,\"ticks\":\"outside\",\"tickwidth\":2}},\"type\":\"scattergeo\"}],\"scattergl\":[{\"marker\":{\"colorbar\":{\"outlinewidth\":0,\"tickcolor\":\"rgb(36,36,36)\",\"ticklen\":8,\"ticks\":\"outside\",\"tickwidth\":2}},\"type\":\"scattergl\"}],\"scattermapbox\":[{\"marker\":{\"colorbar\":{\"outlinewidth\":0,\"tickcolor\":\"rgb(36,36,36)\",\"ticklen\":8,\"ticks\":\"outside\",\"tickwidth\":2}},\"type\":\"scattermapbox\"}],\"scatterpolar\":[{\"marker\":{\"colorbar\":{\"outlinewidth\":0,\"tickcolor\":\"rgb(36,36,36)\",\"ticklen\":8,\"ticks\":\"outside\",\"tickwidth\":2}},\"type\":\"scatterpolar\"}],\"scatterpolargl\":[{\"marker\":{\"colorbar\":{\"outlinewidth\":0,\"tickcolor\":\"rgb(36,36,36)\",\"ticklen\":8,\"ticks\":\"outside\",\"tickwidth\":2}},\"type\":\"scatterpolargl\"}],\"scatterternary\":[{\"marker\":{\"colorbar\":{\"outlinewidth\":0,\"tickcolor\":\"rgb(36,36,36)\",\"ticklen\":8,\"ticks\":\"outside\",\"tickwidth\":2}},\"type\":\"scatterternary\"}],\"surface\":[{\"colorbar\":{\"outlinewidth\":0,\"tickcolor\":\"rgb(36,36,36)\",\"ticklen\":8,\"ticks\":\"outside\",\"tickwidth\":2},\"colorscale\":[[0.0,\"rgb(2,4,25)\"],[0.06274509803921569,\"rgb(24,15,41)\"],[0.12549019607843137,\"rgb(47,23,57)\"],[0.18823529411764706,\"rgb(71,28,72)\"],[0.25098039215686274,\"rgb(97,30,82)\"],[0.3137254901960784,\"rgb(123,30,89)\"],[0.3764705882352941,\"rgb(150,27,91)\"],[0.4392156862745098,\"rgb(177,22,88)\"],[0.5019607843137255,\"rgb(203,26,79)\"],[0.5647058823529412,\"rgb(223,47,67)\"],[0.6274509803921569,\"rgb(236,76,61)\"],[0.6901960784313725,\"rgb(242,107,73)\"],[0.7529411764705882,\"rgb(244,135,95)\"],[0.8156862745098039,\"rgb(245,162,122)\"],[0.8784313725490196,\"rgb(246,188,153)\"],[0.9411764705882353,\"rgb(247,212,187)\"],[1.0,\"rgb(250,234,220)\"]],\"type\":\"surface\"}],\"table\":[{\"cells\":{\"fill\":{\"color\":\"rgb(231,231,240)\"},\"line\":{\"color\":\"white\"}},\"header\":{\"fill\":{\"color\":\"rgb(183,183,191)\"},\"line\":{\"color\":\"white\"}},\"type\":\"table\"}]},\"layout\":{\"annotationdefaults\":{\"arrowcolor\":\"rgb(67,103,167)\"},\"autotypenumbers\":\"strict\",\"coloraxis\":{\"colorbar\":{\"outlinewidth\":0,\"tickcolor\":\"rgb(36,36,36)\",\"ticklen\":8,\"ticks\":\"outside\",\"tickwidth\":2}},\"colorscale\":{\"sequential\":[[0.0,\"rgb(2,4,25)\"],[0.06274509803921569,\"rgb(24,15,41)\"],[0.12549019607843137,\"rgb(47,23,57)\"],[0.18823529411764706,\"rgb(71,28,72)\"],[0.25098039215686274,\"rgb(97,30,82)\"],[0.3137254901960784,\"rgb(123,30,89)\"],[0.3764705882352941,\"rgb(150,27,91)\"],[0.4392156862745098,\"rgb(177,22,88)\"],[0.5019607843137255,\"rgb(203,26,79)\"],[0.5647058823529412,\"rgb(223,47,67)\"],[0.6274509803921569,\"rgb(236,76,61)\"],[0.6901960784313725,\"rgb(242,107,73)\"],[0.7529411764705882,\"rgb(244,135,95)\"],[0.8156862745098039,\"rgb(245,162,122)\"],[0.8784313725490196,\"rgb(246,188,153)\"],[0.9411764705882353,\"rgb(247,212,187)\"],[1.0,\"rgb(250,234,220)\"]],\"sequentialminus\":[[0.0,\"rgb(2,4,25)\"],[0.06274509803921569,\"rgb(24,15,41)\"],[0.12549019607843137,\"rgb(47,23,57)\"],[0.18823529411764706,\"rgb(71,28,72)\"],[0.25098039215686274,\"rgb(97,30,82)\"],[0.3137254901960784,\"rgb(123,30,89)\"],[0.3764705882352941,\"rgb(150,27,91)\"],[0.4392156862745098,\"rgb(177,22,88)\"],[0.5019607843137255,\"rgb(203,26,79)\"],[0.5647058823529412,\"rgb(223,47,67)\"],[0.6274509803921569,\"rgb(236,76,61)\"],[0.6901960784313725,\"rgb(242,107,73)\"],[0.7529411764705882,\"rgb(244,135,95)\"],[0.8156862745098039,\"rgb(245,162,122)\"],[0.8784313725490196,\"rgb(246,188,153)\"],[0.9411764705882353,\"rgb(247,212,187)\"],[1.0,\"rgb(250,234,220)\"]]},\"colorway\":[\"rgb(76,114,176)\",\"rgb(221,132,82)\",\"rgb(85,168,104)\",\"rgb(196,78,82)\",\"rgb(129,114,179)\",\"rgb(147,120,96)\",\"rgb(218,139,195)\",\"rgb(140,140,140)\",\"rgb(204,185,116)\",\"rgb(100,181,205)\"],\"font\":{\"color\":\"rgb(36,36,36)\"},\"geo\":{\"bgcolor\":\"white\",\"lakecolor\":\"white\",\"landcolor\":\"rgb(234,234,242)\",\"showlakes\":true,\"showland\":true,\"subunitcolor\":\"white\"},\"hoverlabel\":{\"align\":\"left\"},\"hovermode\":\"closest\",\"paper_bgcolor\":\"white\",\"plot_bgcolor\":\"rgb(234,234,242)\",\"polar\":{\"angularaxis\":{\"gridcolor\":\"white\",\"linecolor\":\"white\",\"showgrid\":true,\"ticks\":\"\"},\"bgcolor\":\"rgb(234,234,242)\",\"radialaxis\":{\"gridcolor\":\"white\",\"linecolor\":\"white\",\"showgrid\":true,\"ticks\":\"\"}},\"scene\":{\"xaxis\":{\"backgroundcolor\":\"rgb(234,234,242)\",\"gridcolor\":\"white\",\"gridwidth\":2,\"linecolor\":\"white\",\"showbackground\":true,\"showgrid\":true,\"ticks\":\"\",\"zerolinecolor\":\"white\"},\"yaxis\":{\"backgroundcolor\":\"rgb(234,234,242)\",\"gridcolor\":\"white\",\"gridwidth\":2,\"linecolor\":\"white\",\"showbackground\":true,\"showgrid\":true,\"ticks\":\"\",\"zerolinecolor\":\"white\"},\"zaxis\":{\"backgroundcolor\":\"rgb(234,234,242)\",\"gridcolor\":\"white\",\"gridwidth\":2,\"linecolor\":\"white\",\"showbackground\":true,\"showgrid\":true,\"ticks\":\"\",\"zerolinecolor\":\"white\"}},\"shapedefaults\":{\"fillcolor\":\"rgb(67,103,167)\",\"line\":{\"width\":0},\"opacity\":0.5},\"ternary\":{\"aaxis\":{\"gridcolor\":\"white\",\"linecolor\":\"white\",\"showgrid\":true,\"ticks\":\"\"},\"baxis\":{\"gridcolor\":\"white\",\"linecolor\":\"white\",\"showgrid\":true,\"ticks\":\"\"},\"bgcolor\":\"rgb(234,234,242)\",\"caxis\":{\"gridcolor\":\"white\",\"linecolor\":\"white\",\"showgrid\":true,\"ticks\":\"\"}},\"xaxis\":{\"automargin\":true,\"gridcolor\":\"white\",\"linecolor\":\"white\",\"showgrid\":true,\"ticks\":\"\",\"title\":{\"standoff\":15},\"zerolinecolor\":\"white\"},\"yaxis\":{\"automargin\":true,\"gridcolor\":\"white\",\"linecolor\":\"white\",\"showgrid\":true,\"ticks\":\"\",\"title\":{\"standoff\":15},\"zerolinecolor\":\"white\"}}},\"xaxis\":{\"anchor\":\"y\",\"categoryarray\":[\"lymphnode_abdomen\",\"other_thorax\",\"lymphnode_thorax\",\"other_abdomen\",\"liver\",\"lung\",\"bones_thorax\",\"bones_abdomen\",\"lymphnode_lowerlimb\",\"bones_lowerlimb\",\"other_lowerlimb\",\"spleen\",\"kidney\"],\"categoryorder\":\"array\",\"domain\":[0.0,1.0],\"title\":{\"text\":\"Assigned organ\"}},\"yaxis\":{\"anchor\":\"x\",\"domain\":[0.0,1.0],\"title\":{\"text\":\"Lesions\"}}},                        {\"responsive\": true}                    ).then(function(){\n                            \nvar gd = document.getElementById('62924298-9f8b-4837-b1f9-39e8a7405338');\nvar x = new MutationObserver(function (mutations, observer) {{\n        var display = window.getComputedStyle(gd).display;\n        if (!display || display === 'none') {{\n            console.log([gd, 'removed!']);\n            Plotly.purge(gd);\n            observer.disconnect();\n        }}\n}});\n\n// Listen for the removal of the full notebook cells\nvar notebookContainer = gd.closest('#notebook-container');\nif (notebookContainer) {{\n    x.observe(notebookContainer, {childList: true});\n}}\n\n// Listen for the clearing of the current output cell\nvar outputEl = gd.closest('.output');\nif (outputEl) {{\n    x.observe(outputEl, {childList: true});\n}}\n\n                        })                };                            </script>        </div>\n</body>\n</html>"
     },
     "metadata": {},
     "output_type": "display_data"
    }
   ],
   "execution_count": null
  },
  {
   "cell_type": "code",
   "source": "progression = pd.read_csv(os.path.join(CONNECTION_DIR + DATA_FOLDERS[1], FILES['progression']))\nprogression['study_phase'] = progression.study_name.apply(extract_study_phase)",
   "metadata": {
    "tags": [],
    "deepnote_app_coordinates": {
     "x": 0,
     "y": 0,
     "w": 12,
     "h": 5
    },
    "cell_id": "00016-2558b6b9-1236-43d9-ace2-3232a830c07e",
    "deepnote_to_be_reexecuted": false,
    "source_hash": "1ab1451",
    "execution_start": 1633938804985,
    "execution_millis": 43,
    "deepnote_cell_type": "code"
   },
   "outputs": [],
   "execution_count": null
  },
  {
   "cell_type": "code",
   "metadata": {
    "cell_id": "00009-2f7e7eea-94ef-4df9-aca0-480e7a3ded69",
    "deepnote_app_coordinates": {
     "h": 5,
     "w": 12,
     "x": 0,
     "y": 0
    },
    "deepnote_app_is_code_hidden": true,
    "deepnote_to_be_reexecuted": false,
    "execution_millis": 45,
    "execution_start": 1633939219945,
    "source_hash": "2991a9d6",
    "tags": [],
    "deepnote_cell_type": "code"
   },
   "source": "avg_lesion_vol_w_na = lesions.groupby(['gpcr_id', 'study_phase']) \\\n    .vol_ccm.mean().to_frame('vol_ccm').reset_index() \\\n    .merge(progression[['gpcr_id', 'prediction_score', 'study_phase']],\n           on=['gpcr_id', 'study_phase'], how='inner')\n    \navg_lesion_vol = avg_lesion_vol_w_na.dropna()\n\nprint(f'All studies with progression: {progression.shape[0]} \\n'\n      f'Aggregated lesions per study from lesions df: {avg_lesion_vol_w_na.shape[0]} \\n'\n      f'Inner merge with dropped NA progression values: {avg_lesion_vol.shape[0]}')\n\npx.box(avg_lesion_vol, x='study_phase', y='vol_ccm', color='prediction_score', \n       labels={**lesions_labels,\n               'vol_ccm': 'Average lesion volume (ccm)',\n               'prediction_score': 'Response'}) \\\n    .update_layout(legend=top_h_legend)",
   "outputs": [
    {
     "name": "stdout",
     "text": "All studies with progression: 531 \nAggregated lesions per study from lesions df: 366 \nInner merge with dropped NA progression values: 331\n",
     "output_type": "stream"
    },
    {
     "data": {
      "text/html": "<html>\n<head><meta charset=\"utf-8\" /></head>\n<body>\n    <div>            <script src=\"https://cdnjs.cloudflare.com/ajax/libs/mathjax/2.7.5/MathJax.js?config=TeX-AMS-MML_SVG\"></script><script type=\"text/javascript\">if (window.MathJax) {MathJax.Hub.Config({SVG: {font: \"STIX-Web\"}});}</script>                <script type=\"text/javascript\">window.PlotlyConfig = {MathJaxConfig: 'local'};</script>\n        <script src=\"https://cdn.plot.ly/plotly-2.4.2.min.js\"></script>                <div id=\"5e9dddc0-d7cb-4675-aa27-a5a90102aec1\" class=\"plotly-graph-div\" style=\"height:525px; width:100%;\"></div>            <script type=\"text/javascript\">                                    window.PLOTLYENV=window.PLOTLYENV || {};                                    if (document.getElementById(\"5e9dddc0-d7cb-4675-aa27-a5a90102aec1\")) {                    Plotly.newPlot(                        \"5e9dddc0-d7cb-4675-aa27-a5a90102aec1\",                        [{\"alignmentgroup\":\"True\",\"hovertemplate\":\"Response=PD<br>Study phase (relative to treatment start)=%{x}<br>Average lesion volume (ccm)=%{y}<extra></extra>\",\"legendgroup\":\"PD\",\"marker\":{\"color\":\"rgb(76,114,176)\"},\"name\":\"PD\",\"notched\":false,\"offsetgroup\":\"PD\",\"orientation\":\"v\",\"showlegend\":true,\"type\":\"box\",\"x\":[-1,1,-2,-1,3,7,-1,5,-1,1,1,8,2,3,4,5,2,-1,-1,1,2,-1,-1,1,2,6,1,-1,1,-1,1,8,9,-2,2,3,1,7,8,-1,1,-1,-1,1,-1,-1,1,2,4,-2,-1,1,2,1,-2,-1,1,1,1,-1,2,1,3,6,7,8,1,-1,-1,1,3,1,2,1,-1,-1,2,1,2,4,-1,4,-2,-1,1,2,1,-1,1,2,-1,1,2,3,-1,-1,5,1,-1,-1,3,1,-1,1,-1,1,-1,-1,-2,-2,-1,2,5,6,-1,-1,1,-1,3,-2,1,-1,-1,2,-1,-1,1,1,2,-1,1,3,-1,-1,1,1,-1,1,-1,-1,1,2,-1,1,1,-1,1,-1],\"x0\":\" \",\"xaxis\":\"x\",\"y\":[2.5985714285714288,4.0633333333333335,1.6150000000000002,3.346,3.115,0.66,11.553999999999998,6.91,2.3687500000000004,4.0793333333333335,3.3777777777777778,1.25,1.64,39.010000000000005,0.54,6.307500000000001,1.8242857142857136,1.9466666666666665,3.44,2.08,8.385416666666666,51.989999999999995,2.9499999999999997,10.370000000000001,2.9964,4.337999999999999,2.2078571428571427,15.391333333333332,2.00875,6.498333333333332,6.123076923076923,3.91,5.7425,1.8577777777777778,2.0135,3.35125,4.74,1.8475000000000001,3.3425,7.531666666666667,2.530625,6.202857142857143,1.405,2.55,19.046666666666667,2.5424999999999995,3.9736363636363636,2.2206382978723407,2.5385714285714287,5.035,5.02,4.487777777777778,4.84,0.8025,5.89,17.616000000000003,7.305454545454545,9.487857142857143,10.632857142857143,3.0526086956521743,10.401875,3.35,6.51,0.95,3.6,1.4166666666666667,3.716428571428572,10.452500000000002,3.973333333333333,6.9,14.6825,10.577,19.13,2.113409090909091,3.79,39.43,1.2066666666666668,4.765,1.2033333333333334,2.2666666666666666,2.051176470588235,0.6633333333333332,4.401818181818181,0.975,1.69,3.8850000000000002,4.786,5.732727272727273,2.7099999999999995,6.745555555555556,0.69,3.14,1.1685714285714286,1.685,2.622926829268293,2.54,8.875,6.858333333333333,2.2,6.072916666666667,7.845,21.867142857142856,5.172222222222222,9.464242424242423,51.99166666666665,19.178888888888892,7.731525423728814,2.74,12.184444444444445,5.635,8.3925,1.9866666666666666,5.175,3.198823529411765,2.4877777777777776,12.713333333333333,10.084,30.566666666666663,5.355,3.66,11.076666666666668,3.4975,2.313333333333333,2.810625,9.434999999999999,3.958918918918918,9.232962962962963,5.1775,2.9311111111111114,2.2254494382022485,7.775757575757576,4.043846153846155,1.2775,9.9,0.54,1.7075,2.7221212121212126,3.9981147540983613,8.636666666666667,1.4000000000000001,14.566666666666668,1.1466666666666667,0.86,22.432857142857138,3.1999999999999993,2.0723529411764705,3.9899999999999998,3.03],\"y0\":\" \",\"yaxis\":\"y\"},{\"alignmentgroup\":\"True\",\"hovertemplate\":\"Response=NPD<br>Study phase (relative to treatment start)=%{x}<br>Average lesion volume (ccm)=%{y}<extra></extra>\",\"legendgroup\":\"NPD\",\"marker\":{\"color\":\"rgb(221,132,82)\"},\"name\":\"NPD\",\"notched\":false,\"offsetgroup\":\"NPD\",\"orientation\":\"v\",\"showlegend\":true,\"type\":\"box\",\"x\":[1,2,4,5,6,1,4,7,8,10,2,3,4,6,7,8,1,2,3,4,1,3,4,5,2,4,5,7,9,11,12,13,14,1,1,2,1,2,3,2,3,1,2,3,4,6,7,3,4,5,6,7,8,9,10,1,2,5,-1,1,2,3,6,9,1,1,1,2,3,1,2,3,4,5,3,1,1,2,3,4,5,6,7,5,6,1,4,5,-1,1,-1,-1,4,4,10,1,1,4,5,6,2,3,1,2,1,2,6,-1,5,-1,1,3,4,5,1,2,3,3,5,-1,1,2,3,4,-1,4,1,2,3,1,3,4,1,1,1,2,2,3,-1,1,1,2,3,1,-2,3,1,1,2,3,-1,1,3,4,1,1,2,3,4,5,1,2,2,1,2,3,5,6,-1,2,1,3,-1,-1,2,-2,-1,1,3,-2,3,2,3],\"x0\":\" \",\"xaxis\":\"x\",\"y\":[3.8416666666666663,6.968000000000001,1.435,4.16,1.42,0.88,9.76,6.733333333333333,18.360000000000003,22.069999999999997,2.8866666666666667,67.07749999999999,1.1300000000000001,1.06,1.2033333333333334,5.085,3.4143478260869564,3.2286363636363635,2.59,2.2249999999999996,6.25,6.343333333333333,15.99,6.0,13.228,4.292,8.83,0.81,1.08,18.14,1.78,35.414,1.66,2.1613333333333338,4.429090909090909,9.84,6.7,3.7894117647058825,26.361428571428572,4.202,10.51,9.36,3.9522222222222214,3.186666666666667,47.526666666666664,47.8,26.646000000000004,4.709999999999999,7.52,4.902500000000001,4.3,3.121666666666666,4.498333333333334,11.823333333333332,2.3066666666666666,2.0905882352941174,11.745000000000001,2.385,3.23625,10.314285714285715,2.8400000000000003,2.665,7.896666666666666,12.910434782608698,15.57,3.685,7.013333333333333,29.61,1.71,12.74625,2.8766666666666665,17.95285714285714,0.8200000000000001,11.5525,1.83,4.028928571428572,8.971111111111112,22.919999999999998,7.26,7.24,10.36,2.4075,2.075,3.0898214285714287,5.068545454545453,11.4275,1.77,0.51,3.8000000000000003,6.015,10.651,6.066470588235294,2.42,2.22,130.71,2.7200000000000006,12.98,1.81,2.76,7.77,3.6709090909090913,12.79,8.895714285714286,5.57,6.19,0.9,0.88,1.97375,2.405,2.5137500000000004,2.4977777777777774,5.153333333333333,1.8733333333333333,2.514,2.8666666666666667,2.6975000000000002,6.593333333333334,25.207500000000003,4.901999999999999,1.0571428571428572,1.7400000000000002,2.59,2.705,13.795,4.735714285714286,1.195,1.9975,1.8150000000000002,45.22,1.34,21.03,3.3899999999999997,4.068076923076923,11.322,167.13,129.285,1.0733333333333333,3.2369999999999997,10.986666666666665,2.37,6.6674999999999995,4.96,12.960999999999999,3.57,8.63,9.425,1.575,7.295,4.8999999999999995,6.04,20.497692307692304,2.67375,3.7913333333333328,2.177142857142857,12.061000000000003,3.4175000000000004,2.25,63.7525,2.775,2.146,4.154285714285715,3.48625,132.56,2.8755555555555556,1.1183333333333334,1.32,2.3000000000000003,2.0,6.073333333333333,13.833333333333334,130.60999999999999,6.096666666666666,3.3,26.26181818181818,8.145000000000001,1.415,0.51,6.299333333333333,132.83,9.46,14.645555555555555,37.01599999999999,1.15],\"y0\":\" \",\"yaxis\":\"y\"}],                        {\"boxmode\":\"group\",\"legend\":{\"orientation\":\"h\",\"title\":{\"text\":\"Response\"},\"tracegroupgap\":0,\"y\":1.02,\"yanchor\":\"bottom\"},\"margin\":{\"t\":60},\"template\":{\"data\":{\"bar\":[{\"error_x\":{\"color\":\"rgb(36,36,36)\"},\"error_y\":{\"color\":\"rgb(36,36,36)\"},\"marker\":{\"line\":{\"color\":\"rgb(234,234,242)\",\"width\":0.5},\"pattern\":{\"fillmode\":\"overlay\",\"size\":10,\"solidity\":0.2}},\"type\":\"bar\"}],\"barpolar\":[{\"marker\":{\"line\":{\"color\":\"rgb(234,234,242)\",\"width\":0.5},\"pattern\":{\"fillmode\":\"overlay\",\"size\":10,\"solidity\":0.2}},\"type\":\"barpolar\"}],\"carpet\":[{\"aaxis\":{\"endlinecolor\":\"rgb(36,36,36)\",\"gridcolor\":\"white\",\"linecolor\":\"white\",\"minorgridcolor\":\"white\",\"startlinecolor\":\"rgb(36,36,36)\"},\"baxis\":{\"endlinecolor\":\"rgb(36,36,36)\",\"gridcolor\":\"white\",\"linecolor\":\"white\",\"minorgridcolor\":\"white\",\"startlinecolor\":\"rgb(36,36,36)\"},\"type\":\"carpet\"}],\"choropleth\":[{\"colorbar\":{\"outlinewidth\":0,\"tickcolor\":\"rgb(36,36,36)\",\"ticklen\":8,\"ticks\":\"outside\",\"tickwidth\":2},\"type\":\"choropleth\"}],\"contour\":[{\"colorbar\":{\"outlinewidth\":0,\"tickcolor\":\"rgb(36,36,36)\",\"ticklen\":8,\"ticks\":\"outside\",\"tickwidth\":2},\"colorscale\":[[0.0,\"rgb(2,4,25)\"],[0.06274509803921569,\"rgb(24,15,41)\"],[0.12549019607843137,\"rgb(47,23,57)\"],[0.18823529411764706,\"rgb(71,28,72)\"],[0.25098039215686274,\"rgb(97,30,82)\"],[0.3137254901960784,\"rgb(123,30,89)\"],[0.3764705882352941,\"rgb(150,27,91)\"],[0.4392156862745098,\"rgb(177,22,88)\"],[0.5019607843137255,\"rgb(203,26,79)\"],[0.5647058823529412,\"rgb(223,47,67)\"],[0.6274509803921569,\"rgb(236,76,61)\"],[0.6901960784313725,\"rgb(242,107,73)\"],[0.7529411764705882,\"rgb(244,135,95)\"],[0.8156862745098039,\"rgb(245,162,122)\"],[0.8784313725490196,\"rgb(246,188,153)\"],[0.9411764705882353,\"rgb(247,212,187)\"],[1.0,\"rgb(250,234,220)\"]],\"type\":\"contour\"}],\"contourcarpet\":[{\"colorbar\":{\"outlinewidth\":0,\"tickcolor\":\"rgb(36,36,36)\",\"ticklen\":8,\"ticks\":\"outside\",\"tickwidth\":2},\"type\":\"contourcarpet\"}],\"heatmap\":[{\"colorbar\":{\"outlinewidth\":0,\"tickcolor\":\"rgb(36,36,36)\",\"ticklen\":8,\"ticks\":\"outside\",\"tickwidth\":2},\"colorscale\":[[0.0,\"rgb(2,4,25)\"],[0.06274509803921569,\"rgb(24,15,41)\"],[0.12549019607843137,\"rgb(47,23,57)\"],[0.18823529411764706,\"rgb(71,28,72)\"],[0.25098039215686274,\"rgb(97,30,82)\"],[0.3137254901960784,\"rgb(123,30,89)\"],[0.3764705882352941,\"rgb(150,27,91)\"],[0.4392156862745098,\"rgb(177,22,88)\"],[0.5019607843137255,\"rgb(203,26,79)\"],[0.5647058823529412,\"rgb(223,47,67)\"],[0.6274509803921569,\"rgb(236,76,61)\"],[0.6901960784313725,\"rgb(242,107,73)\"],[0.7529411764705882,\"rgb(244,135,95)\"],[0.8156862745098039,\"rgb(245,162,122)\"],[0.8784313725490196,\"rgb(246,188,153)\"],[0.9411764705882353,\"rgb(247,212,187)\"],[1.0,\"rgb(250,234,220)\"]],\"type\":\"heatmap\"}],\"heatmapgl\":[{\"colorbar\":{\"outlinewidth\":0,\"tickcolor\":\"rgb(36,36,36)\",\"ticklen\":8,\"ticks\":\"outside\",\"tickwidth\":2},\"colorscale\":[[0.0,\"rgb(2,4,25)\"],[0.06274509803921569,\"rgb(24,15,41)\"],[0.12549019607843137,\"rgb(47,23,57)\"],[0.18823529411764706,\"rgb(71,28,72)\"],[0.25098039215686274,\"rgb(97,30,82)\"],[0.3137254901960784,\"rgb(123,30,89)\"],[0.3764705882352941,\"rgb(150,27,91)\"],[0.4392156862745098,\"rgb(177,22,88)\"],[0.5019607843137255,\"rgb(203,26,79)\"],[0.5647058823529412,\"rgb(223,47,67)\"],[0.6274509803921569,\"rgb(236,76,61)\"],[0.6901960784313725,\"rgb(242,107,73)\"],[0.7529411764705882,\"rgb(244,135,95)\"],[0.8156862745098039,\"rgb(245,162,122)\"],[0.8784313725490196,\"rgb(246,188,153)\"],[0.9411764705882353,\"rgb(247,212,187)\"],[1.0,\"rgb(250,234,220)\"]],\"type\":\"heatmapgl\"}],\"histogram\":[{\"marker\":{\"pattern\":{\"fillmode\":\"overlay\",\"size\":10,\"solidity\":0.2}},\"type\":\"histogram\"}],\"histogram2d\":[{\"colorbar\":{\"outlinewidth\":0,\"tickcolor\":\"rgb(36,36,36)\",\"ticklen\":8,\"ticks\":\"outside\",\"tickwidth\":2},\"colorscale\":[[0.0,\"rgb(2,4,25)\"],[0.06274509803921569,\"rgb(24,15,41)\"],[0.12549019607843137,\"rgb(47,23,57)\"],[0.18823529411764706,\"rgb(71,28,72)\"],[0.25098039215686274,\"rgb(97,30,82)\"],[0.3137254901960784,\"rgb(123,30,89)\"],[0.3764705882352941,\"rgb(150,27,91)\"],[0.4392156862745098,\"rgb(177,22,88)\"],[0.5019607843137255,\"rgb(203,26,79)\"],[0.5647058823529412,\"rgb(223,47,67)\"],[0.6274509803921569,\"rgb(236,76,61)\"],[0.6901960784313725,\"rgb(242,107,73)\"],[0.7529411764705882,\"rgb(244,135,95)\"],[0.8156862745098039,\"rgb(245,162,122)\"],[0.8784313725490196,\"rgb(246,188,153)\"],[0.9411764705882353,\"rgb(247,212,187)\"],[1.0,\"rgb(250,234,220)\"]],\"type\":\"histogram2d\"}],\"histogram2dcontour\":[{\"colorbar\":{\"outlinewidth\":0,\"tickcolor\":\"rgb(36,36,36)\",\"ticklen\":8,\"ticks\":\"outside\",\"tickwidth\":2},\"colorscale\":[[0.0,\"rgb(2,4,25)\"],[0.06274509803921569,\"rgb(24,15,41)\"],[0.12549019607843137,\"rgb(47,23,57)\"],[0.18823529411764706,\"rgb(71,28,72)\"],[0.25098039215686274,\"rgb(97,30,82)\"],[0.3137254901960784,\"rgb(123,30,89)\"],[0.3764705882352941,\"rgb(150,27,91)\"],[0.4392156862745098,\"rgb(177,22,88)\"],[0.5019607843137255,\"rgb(203,26,79)\"],[0.5647058823529412,\"rgb(223,47,67)\"],[0.6274509803921569,\"rgb(236,76,61)\"],[0.6901960784313725,\"rgb(242,107,73)\"],[0.7529411764705882,\"rgb(244,135,95)\"],[0.8156862745098039,\"rgb(245,162,122)\"],[0.8784313725490196,\"rgb(246,188,153)\"],[0.9411764705882353,\"rgb(247,212,187)\"],[1.0,\"rgb(250,234,220)\"]],\"type\":\"histogram2dcontour\"}],\"mesh3d\":[{\"colorbar\":{\"outlinewidth\":0,\"tickcolor\":\"rgb(36,36,36)\",\"ticklen\":8,\"ticks\":\"outside\",\"tickwidth\":2},\"type\":\"mesh3d\"}],\"parcoords\":[{\"line\":{\"colorbar\":{\"outlinewidth\":0,\"tickcolor\":\"rgb(36,36,36)\",\"ticklen\":8,\"ticks\":\"outside\",\"tickwidth\":2}},\"type\":\"parcoords\"}],\"pie\":[{\"automargin\":true,\"type\":\"pie\"}],\"scatter\":[{\"marker\":{\"colorbar\":{\"outlinewidth\":0,\"tickcolor\":\"rgb(36,36,36)\",\"ticklen\":8,\"ticks\":\"outside\",\"tickwidth\":2}},\"type\":\"scatter\"}],\"scatter3d\":[{\"line\":{\"colorbar\":{\"outlinewidth\":0,\"tickcolor\":\"rgb(36,36,36)\",\"ticklen\":8,\"ticks\":\"outside\",\"tickwidth\":2}},\"marker\":{\"colorbar\":{\"outlinewidth\":0,\"tickcolor\":\"rgb(36,36,36)\",\"ticklen\":8,\"ticks\":\"outside\",\"tickwidth\":2}},\"type\":\"scatter3d\"}],\"scattercarpet\":[{\"marker\":{\"colorbar\":{\"outlinewidth\":0,\"tickcolor\":\"rgb(36,36,36)\",\"ticklen\":8,\"ticks\":\"outside\",\"tickwidth\":2}},\"type\":\"scattercarpet\"}],\"scattergeo\":[{\"marker\":{\"colorbar\":{\"outlinewidth\":0,\"tickcolor\":\"rgb(36,36,36)\",\"ticklen\":8,\"ticks\":\"outside\",\"tickwidth\":2}},\"type\":\"scattergeo\"}],\"scattergl\":[{\"marker\":{\"colorbar\":{\"outlinewidth\":0,\"tickcolor\":\"rgb(36,36,36)\",\"ticklen\":8,\"ticks\":\"outside\",\"tickwidth\":2}},\"type\":\"scattergl\"}],\"scattermapbox\":[{\"marker\":{\"colorbar\":{\"outlinewidth\":0,\"tickcolor\":\"rgb(36,36,36)\",\"ticklen\":8,\"ticks\":\"outside\",\"tickwidth\":2}},\"type\":\"scattermapbox\"}],\"scatterpolar\":[{\"marker\":{\"colorbar\":{\"outlinewidth\":0,\"tickcolor\":\"rgb(36,36,36)\",\"ticklen\":8,\"ticks\":\"outside\",\"tickwidth\":2}},\"type\":\"scatterpolar\"}],\"scatterpolargl\":[{\"marker\":{\"colorbar\":{\"outlinewidth\":0,\"tickcolor\":\"rgb(36,36,36)\",\"ticklen\":8,\"ticks\":\"outside\",\"tickwidth\":2}},\"type\":\"scatterpolargl\"}],\"scatterternary\":[{\"marker\":{\"colorbar\":{\"outlinewidth\":0,\"tickcolor\":\"rgb(36,36,36)\",\"ticklen\":8,\"ticks\":\"outside\",\"tickwidth\":2}},\"type\":\"scatterternary\"}],\"surface\":[{\"colorbar\":{\"outlinewidth\":0,\"tickcolor\":\"rgb(36,36,36)\",\"ticklen\":8,\"ticks\":\"outside\",\"tickwidth\":2},\"colorscale\":[[0.0,\"rgb(2,4,25)\"],[0.06274509803921569,\"rgb(24,15,41)\"],[0.12549019607843137,\"rgb(47,23,57)\"],[0.18823529411764706,\"rgb(71,28,72)\"],[0.25098039215686274,\"rgb(97,30,82)\"],[0.3137254901960784,\"rgb(123,30,89)\"],[0.3764705882352941,\"rgb(150,27,91)\"],[0.4392156862745098,\"rgb(177,22,88)\"],[0.5019607843137255,\"rgb(203,26,79)\"],[0.5647058823529412,\"rgb(223,47,67)\"],[0.6274509803921569,\"rgb(236,76,61)\"],[0.6901960784313725,\"rgb(242,107,73)\"],[0.7529411764705882,\"rgb(244,135,95)\"],[0.8156862745098039,\"rgb(245,162,122)\"],[0.8784313725490196,\"rgb(246,188,153)\"],[0.9411764705882353,\"rgb(247,212,187)\"],[1.0,\"rgb(250,234,220)\"]],\"type\":\"surface\"}],\"table\":[{\"cells\":{\"fill\":{\"color\":\"rgb(231,231,240)\"},\"line\":{\"color\":\"white\"}},\"header\":{\"fill\":{\"color\":\"rgb(183,183,191)\"},\"line\":{\"color\":\"white\"}},\"type\":\"table\"}]},\"layout\":{\"annotationdefaults\":{\"arrowcolor\":\"rgb(67,103,167)\"},\"autotypenumbers\":\"strict\",\"coloraxis\":{\"colorbar\":{\"outlinewidth\":0,\"tickcolor\":\"rgb(36,36,36)\",\"ticklen\":8,\"ticks\":\"outside\",\"tickwidth\":2}},\"colorscale\":{\"sequential\":[[0.0,\"rgb(2,4,25)\"],[0.06274509803921569,\"rgb(24,15,41)\"],[0.12549019607843137,\"rgb(47,23,57)\"],[0.18823529411764706,\"rgb(71,28,72)\"],[0.25098039215686274,\"rgb(97,30,82)\"],[0.3137254901960784,\"rgb(123,30,89)\"],[0.3764705882352941,\"rgb(150,27,91)\"],[0.4392156862745098,\"rgb(177,22,88)\"],[0.5019607843137255,\"rgb(203,26,79)\"],[0.5647058823529412,\"rgb(223,47,67)\"],[0.6274509803921569,\"rgb(236,76,61)\"],[0.6901960784313725,\"rgb(242,107,73)\"],[0.7529411764705882,\"rgb(244,135,95)\"],[0.8156862745098039,\"rgb(245,162,122)\"],[0.8784313725490196,\"rgb(246,188,153)\"],[0.9411764705882353,\"rgb(247,212,187)\"],[1.0,\"rgb(250,234,220)\"]],\"sequentialminus\":[[0.0,\"rgb(2,4,25)\"],[0.06274509803921569,\"rgb(24,15,41)\"],[0.12549019607843137,\"rgb(47,23,57)\"],[0.18823529411764706,\"rgb(71,28,72)\"],[0.25098039215686274,\"rgb(97,30,82)\"],[0.3137254901960784,\"rgb(123,30,89)\"],[0.3764705882352941,\"rgb(150,27,91)\"],[0.4392156862745098,\"rgb(177,22,88)\"],[0.5019607843137255,\"rgb(203,26,79)\"],[0.5647058823529412,\"rgb(223,47,67)\"],[0.6274509803921569,\"rgb(236,76,61)\"],[0.6901960784313725,\"rgb(242,107,73)\"],[0.7529411764705882,\"rgb(244,135,95)\"],[0.8156862745098039,\"rgb(245,162,122)\"],[0.8784313725490196,\"rgb(246,188,153)\"],[0.9411764705882353,\"rgb(247,212,187)\"],[1.0,\"rgb(250,234,220)\"]]},\"colorway\":[\"rgb(76,114,176)\",\"rgb(221,132,82)\",\"rgb(85,168,104)\",\"rgb(196,78,82)\",\"rgb(129,114,179)\",\"rgb(147,120,96)\",\"rgb(218,139,195)\",\"rgb(140,140,140)\",\"rgb(204,185,116)\",\"rgb(100,181,205)\"],\"font\":{\"color\":\"rgb(36,36,36)\"},\"geo\":{\"bgcolor\":\"white\",\"lakecolor\":\"white\",\"landcolor\":\"rgb(234,234,242)\",\"showlakes\":true,\"showland\":true,\"subunitcolor\":\"white\"},\"hoverlabel\":{\"align\":\"left\"},\"hovermode\":\"closest\",\"paper_bgcolor\":\"white\",\"plot_bgcolor\":\"rgb(234,234,242)\",\"polar\":{\"angularaxis\":{\"gridcolor\":\"white\",\"linecolor\":\"white\",\"showgrid\":true,\"ticks\":\"\"},\"bgcolor\":\"rgb(234,234,242)\",\"radialaxis\":{\"gridcolor\":\"white\",\"linecolor\":\"white\",\"showgrid\":true,\"ticks\":\"\"}},\"scene\":{\"xaxis\":{\"backgroundcolor\":\"rgb(234,234,242)\",\"gridcolor\":\"white\",\"gridwidth\":2,\"linecolor\":\"white\",\"showbackground\":true,\"showgrid\":true,\"ticks\":\"\",\"zerolinecolor\":\"white\"},\"yaxis\":{\"backgroundcolor\":\"rgb(234,234,242)\",\"gridcolor\":\"white\",\"gridwidth\":2,\"linecolor\":\"white\",\"showbackground\":true,\"showgrid\":true,\"ticks\":\"\",\"zerolinecolor\":\"white\"},\"zaxis\":{\"backgroundcolor\":\"rgb(234,234,242)\",\"gridcolor\":\"white\",\"gridwidth\":2,\"linecolor\":\"white\",\"showbackground\":true,\"showgrid\":true,\"ticks\":\"\",\"zerolinecolor\":\"white\"}},\"shapedefaults\":{\"fillcolor\":\"rgb(67,103,167)\",\"line\":{\"width\":0},\"opacity\":0.5},\"ternary\":{\"aaxis\":{\"gridcolor\":\"white\",\"linecolor\":\"white\",\"showgrid\":true,\"ticks\":\"\"},\"baxis\":{\"gridcolor\":\"white\",\"linecolor\":\"white\",\"showgrid\":true,\"ticks\":\"\"},\"bgcolor\":\"rgb(234,234,242)\",\"caxis\":{\"gridcolor\":\"white\",\"linecolor\":\"white\",\"showgrid\":true,\"ticks\":\"\"}},\"xaxis\":{\"automargin\":true,\"gridcolor\":\"white\",\"linecolor\":\"white\",\"showgrid\":true,\"ticks\":\"\",\"title\":{\"standoff\":15},\"zerolinecolor\":\"white\"},\"yaxis\":{\"automargin\":true,\"gridcolor\":\"white\",\"linecolor\":\"white\",\"showgrid\":true,\"ticks\":\"\",\"title\":{\"standoff\":15},\"zerolinecolor\":\"white\"}}},\"xaxis\":{\"anchor\":\"y\",\"domain\":[0.0,1.0],\"title\":{\"text\":\"Study phase (relative to treatment start)\"}},\"yaxis\":{\"anchor\":\"x\",\"domain\":[0.0,1.0],\"title\":{\"text\":\"Average lesion volume (ccm)\"}}},                        {\"responsive\": true}                    ).then(function(){\n                            \nvar gd = document.getElementById('5e9dddc0-d7cb-4675-aa27-a5a90102aec1');\nvar x = new MutationObserver(function (mutations, observer) {{\n        var display = window.getComputedStyle(gd).display;\n        if (!display || display === 'none') {{\n            console.log([gd, 'removed!']);\n            Plotly.purge(gd);\n            observer.disconnect();\n        }}\n}});\n\n// Listen for the removal of the full notebook cells\nvar notebookContainer = gd.closest('#notebook-container');\nif (notebookContainer) {{\n    x.observe(notebookContainer, {childList: true});\n}}\n\n// Listen for the clearing of the current output cell\nvar outputEl = gd.closest('.output');\nif (outputEl) {{\n    x.observe(outputEl, {childList: true});\n}}\n\n                        })                };                            </script>        </div>\n</body>\n</html>"
     },
     "metadata": {},
     "output_type": "display_data"
    }
   ],
   "execution_count": null
  },
  {
   "cell_type": "code",
   "metadata": {
    "cell_id": "00016-b46b1969-5dac-4f73-af91-290855530dc4",
    "deepnote_app_coordinates": {
     "h": 5,
     "w": 12,
     "x": 0,
     "y": 0
    },
    "deepnote_app_is_code_hidden": true,
    "deepnote_to_be_reexecuted": false,
    "execution_millis": 112,
    "execution_start": 1633939248110,
    "source_hash": "903e584b",
    "tags": [],
    "deepnote_cell_type": "code"
   },
   "source": "location_hierarchy = ['pars_bodypart_petct', 'pars_region_petct', 'pars_subregion_petct']\nlocations = lesions.groupby(location_hierarchy).size().to_frame('lesions').reset_index()\n\npx.sunburst(locations, path=location_hierarchy, values='lesions') \\\n    .update_layout(title='Sunburst chart of lesion location')",
   "outputs": [
    {
     "data": {
      "text/html": "<html>\n<head><meta charset=\"utf-8\" /></head>\n<body>\n    <div>            <script src=\"https://cdnjs.cloudflare.com/ajax/libs/mathjax/2.7.5/MathJax.js?config=TeX-AMS-MML_SVG\"></script><script type=\"text/javascript\">if (window.MathJax) {MathJax.Hub.Config({SVG: {font: \"STIX-Web\"}});}</script>                <script type=\"text/javascript\">window.PlotlyConfig = {MathJaxConfig: 'local'};</script>\n        <script src=\"https://cdn.plot.ly/plotly-2.4.2.min.js\"></script>                <div id=\"c486ffeb-810c-494c-8cdb-00070bdd96b9\" class=\"plotly-graph-div\" style=\"height:525px; width:100%;\"></div>            <script type=\"text/javascript\">                                    window.PLOTLYENV=window.PLOTLYENV || {};                                    if (document.getElementById(\"c486ffeb-810c-494c-8cdb-00070bdd96b9\")) {                    Plotly.newPlot(                        \"c486ffeb-810c-494c-8cdb-00070bdd96b9\",                        [{\"branchvalues\":\"total\",\"domain\":{\"x\":[0.0,1.0],\"y\":[0.0,1.0]},\"hovertemplate\":\"labels=%{label}<br>lesions=%{value}<br>parent=%{parent}<br>id=%{id}<extra></extra>\",\"ids\":[\"thorax/lymph nodes/IASLC station 1\",\"thorax/lymph nodes/IASLC station 10\",\"thorax/lymph nodes/IASLC station 11\",\"thorax/lymph nodes/IASLC station 2\",\"thorax/lymph nodes/IASLC station 3\",\"thorax/lymph nodes/IASLC station 4\",\"thorax/lymph nodes/IASLC station 5\",\"thorax/lymph nodes/IASLC station 6\",\"thorax/lymph nodes/IASLC station 7\",\"thorax/lymph nodes/IASLC station 8\",\"abdomen/colon/ascending colon\",\"thorax/heart/atrium\",\"thorax/lymph nodes/axillary\",\"abdomen/colon/caecum\",\"abdomen/stomach/cardia / fundus / body\",\"thorax/bones/clavicle\",\"abdomen/lymph nodes/coeliacal\",\"abdomen/colon/descending colon\",\"abdomen/small intestine/duodenum\",\"lower limb/bones/femur\",\"abdomen/lymph nodes/iliacal\",\"abdomen/lymph nodes/inguinal / femoral\",\"abdomen/small intestine/jejunum / ileum\",\"lower limb/muscles/lower leg group\",\"thorax/lung/lower lobe\",\"abdomen/lymph nodes/mesenterial\",\"thorax/lung/middle lobe\",\"abdomen/muscles/muscle group\",\"thorax/muscles/muscle group\",\"abdomen/adrenal gland/not specified\",\"abdomen/kidney/not specified\",\"abdomen/liver/not specified\",\"lower limb/lymph nodes/not specified\",\"thorax/oesophagus/not specified\",\"thorax/pleura/not specified\",\"abdomen/prostate/not specified\",\"abdomen/rectum/not specified\",\"abdomen/spleen/not specified\",\"abdomen/testis/not specified\",\"abdomen/ureter/not specified\",\"abdomen/lymph nodes/para-aortic\",\"abdomen/bones/pelvis\",\"abdomen/lymph nodes/peri-hepatic\",\"abdomen/lymph nodes/peri-splenic\",\"thorax/bones/ribs\",\"abdomen/bones/sacrum\",\"thorax/bones/scapula\",\"abdomen/colon/sigmoid colon\",\"abdomen/bones/spine\",\"thorax/bones/spine\",\"thorax/bones/sternum\",\"abdomen/colon/transverse colon\",\"lower limb/muscles/upper leg group\",\"thorax/lung/upper lobe\",\"thorax/heart/ventricle\",\"abdomen/adrenal gland\",\"abdomen/bones\",\"lower limb/bones\",\"thorax/bones\",\"abdomen/colon\",\"thorax/heart\",\"abdomen/kidney\",\"abdomen/liver\",\"thorax/lung\",\"abdomen/lymph nodes\",\"lower limb/lymph nodes\",\"thorax/lymph nodes\",\"abdomen/muscles\",\"lower limb/muscles\",\"thorax/muscles\",\"thorax/oesophagus\",\"thorax/pleura\",\"abdomen/prostate\",\"abdomen/rectum\",\"abdomen/small intestine\",\"abdomen/spleen\",\"abdomen/stomach\",\"abdomen/testis\",\"abdomen/ureter\",\"abdomen\",\"lower limb\",\"thorax\"],\"labels\":[\"IASLC station 1\",\"IASLC station 10\",\"IASLC station 11\",\"IASLC station 2\",\"IASLC station 3\",\"IASLC station 4\",\"IASLC station 5\",\"IASLC station 6\",\"IASLC station 7\",\"IASLC station 8\",\"ascending colon\",\"atrium\",\"axillary\",\"caecum\",\"cardia / fundus / body\",\"clavicle\",\"coeliacal\",\"descending colon\",\"duodenum\",\"femur\",\"iliacal\",\"inguinal / femoral\",\"jejunum / ileum\",\"lower leg group\",\"lower lobe\",\"mesenterial\",\"middle lobe\",\"muscle group\",\"muscle group\",\"not specified\",\"not specified\",\"not specified\",\"not specified\",\"not specified\",\"not specified\",\"not specified\",\"not specified\",\"not specified\",\"not specified\",\"not specified\",\"para-aortic\",\"pelvis\",\"peri-hepatic\",\"peri-splenic\",\"ribs\",\"sacrum\",\"scapula\",\"sigmoid colon\",\"spine\",\"spine\",\"sternum\",\"transverse colon\",\"upper leg group\",\"upper lobe\",\"ventricle\",\"adrenal gland\",\"bones\",\"bones\",\"bones\",\"colon\",\"heart\",\"kidney\",\"liver\",\"lung\",\"lymph nodes\",\"lymph nodes\",\"lymph nodes\",\"muscles\",\"muscles\",\"muscles\",\"oesophagus\",\"pleura\",\"prostate\",\"rectum\",\"small intestine\",\"spleen\",\"stomach\",\"testis\",\"ureter\",\"abdomen\",\"lower limb\",\"thorax\"],\"name\":\"\",\"parents\":[\"thorax/lymph nodes\",\"thorax/lymph nodes\",\"thorax/lymph nodes\",\"thorax/lymph nodes\",\"thorax/lymph nodes\",\"thorax/lymph nodes\",\"thorax/lymph nodes\",\"thorax/lymph nodes\",\"thorax/lymph nodes\",\"thorax/lymph nodes\",\"abdomen/colon\",\"thorax/heart\",\"thorax/lymph nodes\",\"abdomen/colon\",\"abdomen/stomach\",\"thorax/bones\",\"abdomen/lymph nodes\",\"abdomen/colon\",\"abdomen/small intestine\",\"lower limb/bones\",\"abdomen/lymph nodes\",\"abdomen/lymph nodes\",\"abdomen/small intestine\",\"lower limb/muscles\",\"thorax/lung\",\"abdomen/lymph nodes\",\"thorax/lung\",\"abdomen/muscles\",\"thorax/muscles\",\"abdomen/adrenal gland\",\"abdomen/kidney\",\"abdomen/liver\",\"lower limb/lymph nodes\",\"thorax/oesophagus\",\"thorax/pleura\",\"abdomen/prostate\",\"abdomen/rectum\",\"abdomen/spleen\",\"abdomen/testis\",\"abdomen/ureter\",\"abdomen/lymph nodes\",\"abdomen/bones\",\"abdomen/lymph nodes\",\"abdomen/lymph nodes\",\"thorax/bones\",\"abdomen/bones\",\"thorax/bones\",\"abdomen/colon\",\"abdomen/bones\",\"thorax/bones\",\"thorax/bones\",\"abdomen/colon\",\"lower limb/muscles\",\"thorax/lung\",\"thorax/heart\",\"abdomen\",\"abdomen\",\"lower limb\",\"thorax\",\"abdomen\",\"thorax\",\"abdomen\",\"abdomen\",\"thorax\",\"abdomen\",\"lower limb\",\"thorax\",\"abdomen\",\"lower limb\",\"thorax\",\"thorax\",\"thorax\",\"abdomen\",\"abdomen\",\"abdomen\",\"abdomen\",\"abdomen\",\"abdomen\",\"abdomen\",\"\",\"\",\"\"],\"type\":\"sunburst\",\"values\":[76,268,1,13,57,82,11,15,57,10,6,4,104,7,11,9,2,16,2,121,107,227,68,2,114,98,11,35,33,33,24,311,192,2,105,1,1,90,7,11,106,107,20,5,170,42,41,7,91,93,10,14,52,123,26,33,240,121,323,50,30,24,311,248,565,192,694,35,54,33,2,105,1,1,70,90,11,7,11,1449,367,1435]}],                        {\"legend\":{\"tracegroupgap\":0},\"margin\":{\"t\":60},\"template\":{\"data\":{\"bar\":[{\"error_x\":{\"color\":\"rgb(36,36,36)\"},\"error_y\":{\"color\":\"rgb(36,36,36)\"},\"marker\":{\"line\":{\"color\":\"rgb(234,234,242)\",\"width\":0.5},\"pattern\":{\"fillmode\":\"overlay\",\"size\":10,\"solidity\":0.2}},\"type\":\"bar\"}],\"barpolar\":[{\"marker\":{\"line\":{\"color\":\"rgb(234,234,242)\",\"width\":0.5},\"pattern\":{\"fillmode\":\"overlay\",\"size\":10,\"solidity\":0.2}},\"type\":\"barpolar\"}],\"carpet\":[{\"aaxis\":{\"endlinecolor\":\"rgb(36,36,36)\",\"gridcolor\":\"white\",\"linecolor\":\"white\",\"minorgridcolor\":\"white\",\"startlinecolor\":\"rgb(36,36,36)\"},\"baxis\":{\"endlinecolor\":\"rgb(36,36,36)\",\"gridcolor\":\"white\",\"linecolor\":\"white\",\"minorgridcolor\":\"white\",\"startlinecolor\":\"rgb(36,36,36)\"},\"type\":\"carpet\"}],\"choropleth\":[{\"colorbar\":{\"outlinewidth\":0,\"tickcolor\":\"rgb(36,36,36)\",\"ticklen\":8,\"ticks\":\"outside\",\"tickwidth\":2},\"type\":\"choropleth\"}],\"contour\":[{\"colorbar\":{\"outlinewidth\":0,\"tickcolor\":\"rgb(36,36,36)\",\"ticklen\":8,\"ticks\":\"outside\",\"tickwidth\":2},\"colorscale\":[[0.0,\"rgb(2,4,25)\"],[0.06274509803921569,\"rgb(24,15,41)\"],[0.12549019607843137,\"rgb(47,23,57)\"],[0.18823529411764706,\"rgb(71,28,72)\"],[0.25098039215686274,\"rgb(97,30,82)\"],[0.3137254901960784,\"rgb(123,30,89)\"],[0.3764705882352941,\"rgb(150,27,91)\"],[0.4392156862745098,\"rgb(177,22,88)\"],[0.5019607843137255,\"rgb(203,26,79)\"],[0.5647058823529412,\"rgb(223,47,67)\"],[0.6274509803921569,\"rgb(236,76,61)\"],[0.6901960784313725,\"rgb(242,107,73)\"],[0.7529411764705882,\"rgb(244,135,95)\"],[0.8156862745098039,\"rgb(245,162,122)\"],[0.8784313725490196,\"rgb(246,188,153)\"],[0.9411764705882353,\"rgb(247,212,187)\"],[1.0,\"rgb(250,234,220)\"]],\"type\":\"contour\"}],\"contourcarpet\":[{\"colorbar\":{\"outlinewidth\":0,\"tickcolor\":\"rgb(36,36,36)\",\"ticklen\":8,\"ticks\":\"outside\",\"tickwidth\":2},\"type\":\"contourcarpet\"}],\"heatmap\":[{\"colorbar\":{\"outlinewidth\":0,\"tickcolor\":\"rgb(36,36,36)\",\"ticklen\":8,\"ticks\":\"outside\",\"tickwidth\":2},\"colorscale\":[[0.0,\"rgb(2,4,25)\"],[0.06274509803921569,\"rgb(24,15,41)\"],[0.12549019607843137,\"rgb(47,23,57)\"],[0.18823529411764706,\"rgb(71,28,72)\"],[0.25098039215686274,\"rgb(97,30,82)\"],[0.3137254901960784,\"rgb(123,30,89)\"],[0.3764705882352941,\"rgb(150,27,91)\"],[0.4392156862745098,\"rgb(177,22,88)\"],[0.5019607843137255,\"rgb(203,26,79)\"],[0.5647058823529412,\"rgb(223,47,67)\"],[0.6274509803921569,\"rgb(236,76,61)\"],[0.6901960784313725,\"rgb(242,107,73)\"],[0.7529411764705882,\"rgb(244,135,95)\"],[0.8156862745098039,\"rgb(245,162,122)\"],[0.8784313725490196,\"rgb(246,188,153)\"],[0.9411764705882353,\"rgb(247,212,187)\"],[1.0,\"rgb(250,234,220)\"]],\"type\":\"heatmap\"}],\"heatmapgl\":[{\"colorbar\":{\"outlinewidth\":0,\"tickcolor\":\"rgb(36,36,36)\",\"ticklen\":8,\"ticks\":\"outside\",\"tickwidth\":2},\"colorscale\":[[0.0,\"rgb(2,4,25)\"],[0.06274509803921569,\"rgb(24,15,41)\"],[0.12549019607843137,\"rgb(47,23,57)\"],[0.18823529411764706,\"rgb(71,28,72)\"],[0.25098039215686274,\"rgb(97,30,82)\"],[0.3137254901960784,\"rgb(123,30,89)\"],[0.3764705882352941,\"rgb(150,27,91)\"],[0.4392156862745098,\"rgb(177,22,88)\"],[0.5019607843137255,\"rgb(203,26,79)\"],[0.5647058823529412,\"rgb(223,47,67)\"],[0.6274509803921569,\"rgb(236,76,61)\"],[0.6901960784313725,\"rgb(242,107,73)\"],[0.7529411764705882,\"rgb(244,135,95)\"],[0.8156862745098039,\"rgb(245,162,122)\"],[0.8784313725490196,\"rgb(246,188,153)\"],[0.9411764705882353,\"rgb(247,212,187)\"],[1.0,\"rgb(250,234,220)\"]],\"type\":\"heatmapgl\"}],\"histogram\":[{\"marker\":{\"pattern\":{\"fillmode\":\"overlay\",\"size\":10,\"solidity\":0.2}},\"type\":\"histogram\"}],\"histogram2d\":[{\"colorbar\":{\"outlinewidth\":0,\"tickcolor\":\"rgb(36,36,36)\",\"ticklen\":8,\"ticks\":\"outside\",\"tickwidth\":2},\"colorscale\":[[0.0,\"rgb(2,4,25)\"],[0.06274509803921569,\"rgb(24,15,41)\"],[0.12549019607843137,\"rgb(47,23,57)\"],[0.18823529411764706,\"rgb(71,28,72)\"],[0.25098039215686274,\"rgb(97,30,82)\"],[0.3137254901960784,\"rgb(123,30,89)\"],[0.3764705882352941,\"rgb(150,27,91)\"],[0.4392156862745098,\"rgb(177,22,88)\"],[0.5019607843137255,\"rgb(203,26,79)\"],[0.5647058823529412,\"rgb(223,47,67)\"],[0.6274509803921569,\"rgb(236,76,61)\"],[0.6901960784313725,\"rgb(242,107,73)\"],[0.7529411764705882,\"rgb(244,135,95)\"],[0.8156862745098039,\"rgb(245,162,122)\"],[0.8784313725490196,\"rgb(246,188,153)\"],[0.9411764705882353,\"rgb(247,212,187)\"],[1.0,\"rgb(250,234,220)\"]],\"type\":\"histogram2d\"}],\"histogram2dcontour\":[{\"colorbar\":{\"outlinewidth\":0,\"tickcolor\":\"rgb(36,36,36)\",\"ticklen\":8,\"ticks\":\"outside\",\"tickwidth\":2},\"colorscale\":[[0.0,\"rgb(2,4,25)\"],[0.06274509803921569,\"rgb(24,15,41)\"],[0.12549019607843137,\"rgb(47,23,57)\"],[0.18823529411764706,\"rgb(71,28,72)\"],[0.25098039215686274,\"rgb(97,30,82)\"],[0.3137254901960784,\"rgb(123,30,89)\"],[0.3764705882352941,\"rgb(150,27,91)\"],[0.4392156862745098,\"rgb(177,22,88)\"],[0.5019607843137255,\"rgb(203,26,79)\"],[0.5647058823529412,\"rgb(223,47,67)\"],[0.6274509803921569,\"rgb(236,76,61)\"],[0.6901960784313725,\"rgb(242,107,73)\"],[0.7529411764705882,\"rgb(244,135,95)\"],[0.8156862745098039,\"rgb(245,162,122)\"],[0.8784313725490196,\"rgb(246,188,153)\"],[0.9411764705882353,\"rgb(247,212,187)\"],[1.0,\"rgb(250,234,220)\"]],\"type\":\"histogram2dcontour\"}],\"mesh3d\":[{\"colorbar\":{\"outlinewidth\":0,\"tickcolor\":\"rgb(36,36,36)\",\"ticklen\":8,\"ticks\":\"outside\",\"tickwidth\":2},\"type\":\"mesh3d\"}],\"parcoords\":[{\"line\":{\"colorbar\":{\"outlinewidth\":0,\"tickcolor\":\"rgb(36,36,36)\",\"ticklen\":8,\"ticks\":\"outside\",\"tickwidth\":2}},\"type\":\"parcoords\"}],\"pie\":[{\"automargin\":true,\"type\":\"pie\"}],\"scatter\":[{\"marker\":{\"colorbar\":{\"outlinewidth\":0,\"tickcolor\":\"rgb(36,36,36)\",\"ticklen\":8,\"ticks\":\"outside\",\"tickwidth\":2}},\"type\":\"scatter\"}],\"scatter3d\":[{\"line\":{\"colorbar\":{\"outlinewidth\":0,\"tickcolor\":\"rgb(36,36,36)\",\"ticklen\":8,\"ticks\":\"outside\",\"tickwidth\":2}},\"marker\":{\"colorbar\":{\"outlinewidth\":0,\"tickcolor\":\"rgb(36,36,36)\",\"ticklen\":8,\"ticks\":\"outside\",\"tickwidth\":2}},\"type\":\"scatter3d\"}],\"scattercarpet\":[{\"marker\":{\"colorbar\":{\"outlinewidth\":0,\"tickcolor\":\"rgb(36,36,36)\",\"ticklen\":8,\"ticks\":\"outside\",\"tickwidth\":2}},\"type\":\"scattercarpet\"}],\"scattergeo\":[{\"marker\":{\"colorbar\":{\"outlinewidth\":0,\"tickcolor\":\"rgb(36,36,36)\",\"ticklen\":8,\"ticks\":\"outside\",\"tickwidth\":2}},\"type\":\"scattergeo\"}],\"scattergl\":[{\"marker\":{\"colorbar\":{\"outlinewidth\":0,\"tickcolor\":\"rgb(36,36,36)\",\"ticklen\":8,\"ticks\":\"outside\",\"tickwidth\":2}},\"type\":\"scattergl\"}],\"scattermapbox\":[{\"marker\":{\"colorbar\":{\"outlinewidth\":0,\"tickcolor\":\"rgb(36,36,36)\",\"ticklen\":8,\"ticks\":\"outside\",\"tickwidth\":2}},\"type\":\"scattermapbox\"}],\"scatterpolar\":[{\"marker\":{\"colorbar\":{\"outlinewidth\":0,\"tickcolor\":\"rgb(36,36,36)\",\"ticklen\":8,\"ticks\":\"outside\",\"tickwidth\":2}},\"type\":\"scatterpolar\"}],\"scatterpolargl\":[{\"marker\":{\"colorbar\":{\"outlinewidth\":0,\"tickcolor\":\"rgb(36,36,36)\",\"ticklen\":8,\"ticks\":\"outside\",\"tickwidth\":2}},\"type\":\"scatterpolargl\"}],\"scatterternary\":[{\"marker\":{\"colorbar\":{\"outlinewidth\":0,\"tickcolor\":\"rgb(36,36,36)\",\"ticklen\":8,\"ticks\":\"outside\",\"tickwidth\":2}},\"type\":\"scatterternary\"}],\"surface\":[{\"colorbar\":{\"outlinewidth\":0,\"tickcolor\":\"rgb(36,36,36)\",\"ticklen\":8,\"ticks\":\"outside\",\"tickwidth\":2},\"colorscale\":[[0.0,\"rgb(2,4,25)\"],[0.06274509803921569,\"rgb(24,15,41)\"],[0.12549019607843137,\"rgb(47,23,57)\"],[0.18823529411764706,\"rgb(71,28,72)\"],[0.25098039215686274,\"rgb(97,30,82)\"],[0.3137254901960784,\"rgb(123,30,89)\"],[0.3764705882352941,\"rgb(150,27,91)\"],[0.4392156862745098,\"rgb(177,22,88)\"],[0.5019607843137255,\"rgb(203,26,79)\"],[0.5647058823529412,\"rgb(223,47,67)\"],[0.6274509803921569,\"rgb(236,76,61)\"],[0.6901960784313725,\"rgb(242,107,73)\"],[0.7529411764705882,\"rgb(244,135,95)\"],[0.8156862745098039,\"rgb(245,162,122)\"],[0.8784313725490196,\"rgb(246,188,153)\"],[0.9411764705882353,\"rgb(247,212,187)\"],[1.0,\"rgb(250,234,220)\"]],\"type\":\"surface\"}],\"table\":[{\"cells\":{\"fill\":{\"color\":\"rgb(231,231,240)\"},\"line\":{\"color\":\"white\"}},\"header\":{\"fill\":{\"color\":\"rgb(183,183,191)\"},\"line\":{\"color\":\"white\"}},\"type\":\"table\"}]},\"layout\":{\"annotationdefaults\":{\"arrowcolor\":\"rgb(67,103,167)\"},\"autotypenumbers\":\"strict\",\"coloraxis\":{\"colorbar\":{\"outlinewidth\":0,\"tickcolor\":\"rgb(36,36,36)\",\"ticklen\":8,\"ticks\":\"outside\",\"tickwidth\":2}},\"colorscale\":{\"sequential\":[[0.0,\"rgb(2,4,25)\"],[0.06274509803921569,\"rgb(24,15,41)\"],[0.12549019607843137,\"rgb(47,23,57)\"],[0.18823529411764706,\"rgb(71,28,72)\"],[0.25098039215686274,\"rgb(97,30,82)\"],[0.3137254901960784,\"rgb(123,30,89)\"],[0.3764705882352941,\"rgb(150,27,91)\"],[0.4392156862745098,\"rgb(177,22,88)\"],[0.5019607843137255,\"rgb(203,26,79)\"],[0.5647058823529412,\"rgb(223,47,67)\"],[0.6274509803921569,\"rgb(236,76,61)\"],[0.6901960784313725,\"rgb(242,107,73)\"],[0.7529411764705882,\"rgb(244,135,95)\"],[0.8156862745098039,\"rgb(245,162,122)\"],[0.8784313725490196,\"rgb(246,188,153)\"],[0.9411764705882353,\"rgb(247,212,187)\"],[1.0,\"rgb(250,234,220)\"]],\"sequentialminus\":[[0.0,\"rgb(2,4,25)\"],[0.06274509803921569,\"rgb(24,15,41)\"],[0.12549019607843137,\"rgb(47,23,57)\"],[0.18823529411764706,\"rgb(71,28,72)\"],[0.25098039215686274,\"rgb(97,30,82)\"],[0.3137254901960784,\"rgb(123,30,89)\"],[0.3764705882352941,\"rgb(150,27,91)\"],[0.4392156862745098,\"rgb(177,22,88)\"],[0.5019607843137255,\"rgb(203,26,79)\"],[0.5647058823529412,\"rgb(223,47,67)\"],[0.6274509803921569,\"rgb(236,76,61)\"],[0.6901960784313725,\"rgb(242,107,73)\"],[0.7529411764705882,\"rgb(244,135,95)\"],[0.8156862745098039,\"rgb(245,162,122)\"],[0.8784313725490196,\"rgb(246,188,153)\"],[0.9411764705882353,\"rgb(247,212,187)\"],[1.0,\"rgb(250,234,220)\"]]},\"colorway\":[\"rgb(76,114,176)\",\"rgb(221,132,82)\",\"rgb(85,168,104)\",\"rgb(196,78,82)\",\"rgb(129,114,179)\",\"rgb(147,120,96)\",\"rgb(218,139,195)\",\"rgb(140,140,140)\",\"rgb(204,185,116)\",\"rgb(100,181,205)\"],\"font\":{\"color\":\"rgb(36,36,36)\"},\"geo\":{\"bgcolor\":\"white\",\"lakecolor\":\"white\",\"landcolor\":\"rgb(234,234,242)\",\"showlakes\":true,\"showland\":true,\"subunitcolor\":\"white\"},\"hoverlabel\":{\"align\":\"left\"},\"hovermode\":\"closest\",\"paper_bgcolor\":\"white\",\"plot_bgcolor\":\"rgb(234,234,242)\",\"polar\":{\"angularaxis\":{\"gridcolor\":\"white\",\"linecolor\":\"white\",\"showgrid\":true,\"ticks\":\"\"},\"bgcolor\":\"rgb(234,234,242)\",\"radialaxis\":{\"gridcolor\":\"white\",\"linecolor\":\"white\",\"showgrid\":true,\"ticks\":\"\"}},\"scene\":{\"xaxis\":{\"backgroundcolor\":\"rgb(234,234,242)\",\"gridcolor\":\"white\",\"gridwidth\":2,\"linecolor\":\"white\",\"showbackground\":true,\"showgrid\":true,\"ticks\":\"\",\"zerolinecolor\":\"white\"},\"yaxis\":{\"backgroundcolor\":\"rgb(234,234,242)\",\"gridcolor\":\"white\",\"gridwidth\":2,\"linecolor\":\"white\",\"showbackground\":true,\"showgrid\":true,\"ticks\":\"\",\"zerolinecolor\":\"white\"},\"zaxis\":{\"backgroundcolor\":\"rgb(234,234,242)\",\"gridcolor\":\"white\",\"gridwidth\":2,\"linecolor\":\"white\",\"showbackground\":true,\"showgrid\":true,\"ticks\":\"\",\"zerolinecolor\":\"white\"}},\"shapedefaults\":{\"fillcolor\":\"rgb(67,103,167)\",\"line\":{\"width\":0},\"opacity\":0.5},\"ternary\":{\"aaxis\":{\"gridcolor\":\"white\",\"linecolor\":\"white\",\"showgrid\":true,\"ticks\":\"\"},\"baxis\":{\"gridcolor\":\"white\",\"linecolor\":\"white\",\"showgrid\":true,\"ticks\":\"\"},\"bgcolor\":\"rgb(234,234,242)\",\"caxis\":{\"gridcolor\":\"white\",\"linecolor\":\"white\",\"showgrid\":true,\"ticks\":\"\"}},\"xaxis\":{\"automargin\":true,\"gridcolor\":\"white\",\"linecolor\":\"white\",\"showgrid\":true,\"ticks\":\"\",\"title\":{\"standoff\":15},\"zerolinecolor\":\"white\"},\"yaxis\":{\"automargin\":true,\"gridcolor\":\"white\",\"linecolor\":\"white\",\"showgrid\":true,\"ticks\":\"\",\"title\":{\"standoff\":15},\"zerolinecolor\":\"white\"}}},\"title\":{\"text\":\"Sunburst chart of lesion location\"}},                        {\"responsive\": true}                    ).then(function(){\n                            \nvar gd = document.getElementById('c486ffeb-810c-494c-8cdb-00070bdd96b9');\nvar x = new MutationObserver(function (mutations, observer) {{\n        var display = window.getComputedStyle(gd).display;\n        if (!display || display === 'none') {{\n            console.log([gd, 'removed!']);\n            Plotly.purge(gd);\n            observer.disconnect();\n        }}\n}});\n\n// Listen for the removal of the full notebook cells\nvar notebookContainer = gd.closest('#notebook-container');\nif (notebookContainer) {{\n    x.observe(notebookContainer, {childList: true});\n}}\n\n// Listen for the clearing of the current output cell\nvar outputEl = gd.closest('.output');\nif (outputEl) {{\n    x.observe(outputEl, {childList: true});\n}}\n\n                        })                };                            </script>        </div>\n</body>\n</html>"
     },
     "metadata": {},
     "output_type": "display_data"
    }
   ],
   "execution_count": null
  },
  {
   "cell_type": "markdown",
   "source": "## Studies",
   "metadata": {
    "cell_id": "00018-f6cbfd71-a55a-4225-94df-f68f0b4debb7",
    "deepnote_app_coordinates": {
     "h": 2,
     "w": 12,
     "x": 0,
     "y": 0
    },
    "is_collapsed": false,
    "jp-MarkdownHeadingCollapsed": true,
    "tags": [],
    "deepnote_cell_type": "text-cell-h2"
   }
  },
  {
   "cell_type": "markdown",
   "source": "### Dataset information",
   "metadata": {
    "cell_id": "00019-addac8d2-f82d-4abe-8ebb-82f933ec633d",
    "deepnote_app_coordinates": {
     "h": 2,
     "w": 12,
     "x": 0,
     "y": 0
    },
    "is_collapsed": false,
    "tags": [],
    "deepnote_cell_type": "text-cell-h3"
   }
  },
  {
   "cell_type": "markdown",
   "source": "* Each patient is attributed to a unique `gpcr_id [int]` \n* Each study is identified relative to the start of treatment with `study_name [str]` and the processed `study_phase [int]`\n* `is_before_treatment [bool]`, `is_during_treatment [bool]`, and `is_after_treatment_end [bool]` are boolean values that explain when the study occured relative to treatment start and end\n* `nth_before_treatment [float]`, `nth_after_treatment_start [float]`, `nth_during_treatment [float]`, and `nth_after_treatment_end [float]` is the scan number relative to treatment start and end\n* `n_days_to_treatment_start [int]` and `n_days_to_treatment_end [int]` are the number of days to treatment start and end\n* `is_malignant [int]` is the aggregate number of malignant lesions in the exam, which is renamed to `malignant_lesions [int]` during preprocessing\n* Boolean values about segmentation existance are contained in `brain_seg_exists [bool]`, `bones_seg_exists [bool]`, `spleen_seg_exists [bool]`, `aorta_seg_exists [bool]`, `heart_seg_exists [bool]`, `kidney_right_seg_exists [bool]`, `kidney_left_seg_exists [bool]`, `lung_right_seg_exists [bool]`, `lung_left_seg_exists [bool]`, and `liver_seg_exists [bool]`",
   "metadata": {
    "cell_id": "00020-a41411e5-79cc-4680-bd83-e82da4f1401e",
    "deepnote_app_coordinates": {
     "h": 5,
     "w": 12,
     "x": 0,
     "y": 0
    },
    "tags": [],
    "deepnote_cell_type": "markdown"
   }
  },
  {
   "cell_type": "markdown",
   "source": "### Preprocessing",
   "metadata": {
    "cell_id": "00021-5cdef17b-aae1-4e6b-a439-d461b6c750d1",
    "deepnote_app_coordinates": {
     "h": 2,
     "w": 12,
     "x": 0,
     "y": 0
    },
    "is_collapsed": false,
    "jp-MarkdownHeadingCollapsed": true,
    "tags": [],
    "deepnote_cell_type": "text-cell-h3"
   }
  },
  {
   "cell_type": "code",
   "metadata": {
    "cell_id": "00030-2c60a701-1af5-40b9-96a2-0cb5e778f1df",
    "deepnote_app_coordinates": {
     "h": 5,
     "w": 12,
     "x": 0,
     "y": 180
    },
    "deepnote_app_is_code_hidden": true,
    "deepnote_to_be_reexecuted": false,
    "execution_millis": 36,
    "execution_start": 1633939398134,
    "source_hash": "7615eadc",
    "deepnote_cell_type": "code"
   },
   "source": "studies = pd.read_csv(os.path.join(CONNECTION_DIR + DATA_FOLDERS[0], FILES['studies']))\nstudies.rename(columns={'is_malignant': 'malignant_lesions'}, inplace=True)\nstudies = studies.merge(progression, on=['gpcr_id', 'study_name'], how='inner')\n\nn_studies, f_studies = studies.shape\n\nprint(f'Imported {n_studies} studies with {f_studies} features. Null values: {studies.isna().sum().sum()}')",
   "outputs": [
    {
     "name": "stdout",
     "text": "Imported 472 studies with 27 features. Null values: 1308\n",
     "output_type": "stream"
    }
   ],
   "execution_count": null
  },
  {
   "cell_type": "code",
   "metadata": {
    "cell_id": "00031-23d9ac0a-89c0-4036-9381-c05269b4dab9",
    "deepnote_app_coordinates": {
     "h": 5,
     "w": 12,
     "x": 0,
     "y": 186
    },
    "deepnote_app_is_code_hidden": true,
    "deepnote_to_be_reexecuted": false,
    "execution_millis": 100,
    "execution_start": 1633939398798,
    "source_hash": "63d8b8c4",
    "deepnote_cell_type": "code"
   },
   "source": "studies",
   "outputs": [
    {
     "output_type": "execute_result",
     "execution_count": 49,
     "data": {
      "application/vnd.deepnote.dataframe.v2+json": {
       "row_count": 472,
       "column_count": 27,
       "columns": [
        {
         "name": "gpcr_id",
         "dtype": "int64",
         "stats": {
          "unique_count": 126,
          "nan_count": 0,
          "min": "34610001",
          "max": "34610150",
          "histogram": [
           {
            "bin_start": 34610001,
            "bin_end": 34610015.9,
            "count": 78
           },
           {
            "bin_start": 34610015.9,
            "bin_end": 34610030.8,
            "count": 52
           },
           {
            "bin_start": 34610030.8,
            "bin_end": 34610045.7,
            "count": 53
           },
           {
            "bin_start": 34610045.7,
            "bin_end": 34610060.6,
            "count": 38
           },
           {
            "bin_start": 34610060.6,
            "bin_end": 34610075.5,
            "count": 43
           },
           {
            "bin_start": 34610075.5,
            "bin_end": 34610090.4,
            "count": 47
           },
           {
            "bin_start": 34610090.4,
            "bin_end": 34610105.3,
            "count": 40
           },
           {
            "bin_start": 34610105.3,
            "bin_end": 34610120.2,
            "count": 48
           },
           {
            "bin_start": 34610120.2,
            "bin_end": 34610135.1,
            "count": 33
           },
           {
            "bin_start": 34610135.1,
            "bin_end": 34610150,
            "count": 40
           }
          ]
         }
        },
        {
         "name": "study_name",
         "dtype": "object",
         "stats": {
          "unique_count": 16,
          "nan_count": 0,
          "categories": [
           {
            "name": "post-01",
            "count": 109
           },
           {
            "name": "pre-01",
            "count": 84
           },
           {
            "name": "14 others",
            "count": 279
           }
          ]
         }
        },
        {
         "name": "is_before_treatment",
         "dtype": "bool",
         "stats": {
          "unique_count": 2,
          "nan_count": 0,
          "categories": [
           {
            "name": "False",
            "count": 373
           },
           {
            "name": "True",
            "count": 99
           }
          ]
         }
        },
        {
         "name": "is_during_treatment",
         "dtype": "bool",
         "stats": {
          "unique_count": 2,
          "nan_count": 0,
          "categories": [
           {
            "name": "False",
            "count": 376
           },
           {
            "name": "True",
            "count": 96
           }
          ]
         }
        },
        {
         "name": "is_after_treatment_end",
         "dtype": "bool",
         "stats": {
          "unique_count": 2,
          "nan_count": 0,
          "categories": [
           {
            "name": "True",
            "count": 277
           },
           {
            "name": "False",
            "count": 195
           }
          ]
         }
        },
        {
         "name": "nth_before_treatment",
         "dtype": "float64",
         "stats": {
          "unique_count": 2,
          "nan_count": 373,
          "min": "1.0",
          "max": "2.0",
          "histogram": [
           {
            "bin_start": 1,
            "bin_end": 1.1,
            "count": 84
           },
           {
            "bin_start": 1.1,
            "bin_end": 1.2,
            "count": 0
           },
           {
            "bin_start": 1.2,
            "bin_end": 1.3,
            "count": 0
           },
           {
            "bin_start": 1.3,
            "bin_end": 1.4,
            "count": 0
           },
           {
            "bin_start": 1.4,
            "bin_end": 1.5,
            "count": 0
           },
           {
            "bin_start": 1.5,
            "bin_end": 1.6,
            "count": 0
           },
           {
            "bin_start": 1.6,
            "bin_end": 1.7000000000000002,
            "count": 0
           },
           {
            "bin_start": 1.7000000000000002,
            "bin_end": 1.8,
            "count": 0
           },
           {
            "bin_start": 1.8,
            "bin_end": 1.9,
            "count": 0
           },
           {
            "bin_start": 1.9,
            "bin_end": 2,
            "count": 15
           }
          ]
         }
        },
        {
         "name": "nth_after_treatment_start",
         "dtype": "float64",
         "stats": {
          "unique_count": 14,
          "nan_count": 99,
          "min": "1.0",
          "max": "14.0",
          "histogram": [
           {
            "bin_start": 1,
            "bin_end": 2.3,
            "count": 183
           },
           {
            "bin_start": 2.3,
            "bin_end": 3.6,
            "count": 61
           },
           {
            "bin_start": 3.6,
            "bin_end": 4.9,
            "count": 45
           },
           {
            "bin_start": 4.9,
            "bin_end": 6.2,
            "count": 46
           },
           {
            "bin_start": 6.2,
            "bin_end": 7.5,
            "count": 11
           },
           {
            "bin_start": 7.5,
            "bin_end": 8.8,
            "count": 9
           },
           {
            "bin_start": 8.8,
            "bin_end": 10.1,
            "count": 13
           },
           {
            "bin_start": 10.1,
            "bin_end": 11.4,
            "count": 2
           },
           {
            "bin_start": 11.4,
            "bin_end": 12.700000000000001,
            "count": 1
           },
           {
            "bin_start": 12.700000000000001,
            "bin_end": 14,
            "count": 2
           }
          ]
         }
        },
        {
         "name": "nth_during_treatment",
         "dtype": "float64",
         "stats": {
          "unique_count": 8,
          "nan_count": 376,
          "min": "1.0",
          "max": "8.0",
          "histogram": [
           {
            "bin_start": 1,
            "bin_end": 1.7,
            "count": 45
           },
           {
            "bin_start": 1.7,
            "bin_end": 2.4,
            "count": 17
           },
           {
            "bin_start": 2.4,
            "bin_end": 3.0999999999999996,
            "count": 14
           },
           {
            "bin_start": 3.0999999999999996,
            "bin_end": 3.8,
            "count": 0
           },
           {
            "bin_start": 3.8,
            "bin_end": 4.5,
            "count": 8
           },
           {
            "bin_start": 4.5,
            "bin_end": 5.199999999999999,
            "count": 5
           },
           {
            "bin_start": 5.199999999999999,
            "bin_end": 5.8999999999999995,
            "count": 0
           },
           {
            "bin_start": 5.8999999999999995,
            "bin_end": 6.6,
            "count": 4
           },
           {
            "bin_start": 6.6,
            "bin_end": 7.3,
            "count": 2
           },
           {
            "bin_start": 7.3,
            "bin_end": 8,
            "count": 1
           }
          ]
         }
        },
        {
         "name": "nth_after_treatment_end",
         "dtype": "float64",
         "stats": {
          "unique_count": 14,
          "nan_count": 195,
          "min": "1.0",
          "max": "14.0",
          "histogram": [
           {
            "bin_start": 1,
            "bin_end": 2.3,
            "count": 147
           },
           {
            "bin_start": 2.3,
            "bin_end": 3.6,
            "count": 43
           },
           {
            "bin_start": 3.6,
            "bin_end": 4.9,
            "count": 35
           },
           {
            "bin_start": 4.9,
            "bin_end": 6.2,
            "count": 25
           },
           {
            "bin_start": 6.2,
            "bin_end": 7.5,
            "count": 7
           },
           {
            "bin_start": 7.5,
            "bin_end": 8.8,
            "count": 5
           },
           {
            "bin_start": 8.8,
            "bin_end": 10.1,
            "count": 10
           },
           {
            "bin_start": 10.1,
            "bin_end": 11.4,
            "count": 2
           },
           {
            "bin_start": 11.4,
            "bin_end": 12.700000000000001,
            "count": 1
           },
           {
            "bin_start": 12.700000000000001,
            "bin_end": 14,
            "count": 2
           }
          ]
         }
        },
        {
         "name": "n_days_to_treatment_start_x",
         "dtype": "int64",
         "stats": {
          "unique_count": 316,
          "nan_count": 0,
          "min": "-84",
          "max": "1248",
          "histogram": [
           {
            "bin_start": -84,
            "bin_end": 49.19999999999999,
            "count": 126
           },
           {
            "bin_start": 49.19999999999999,
            "bin_end": 182.39999999999998,
            "count": 141
           },
           {
            "bin_start": 182.39999999999998,
            "bin_end": 315.59999999999997,
            "count": 71
           },
           {
            "bin_start": 315.59999999999997,
            "bin_end": 448.79999999999995,
            "count": 63
           },
           {
            "bin_start": 448.79999999999995,
            "bin_end": 582,
            "count": 30
           },
           {
            "bin_start": 582,
            "bin_end": 715.1999999999999,
            "count": 15
           },
           {
            "bin_start": 715.1999999999999,
            "bin_end": 848.3999999999999,
            "count": 12
           },
           {
            "bin_start": 848.3999999999999,
            "bin_end": 981.5999999999999,
            "count": 7
           },
           {
            "bin_start": 981.5999999999999,
            "bin_end": 1114.8,
            "count": 5
           },
           {
            "bin_start": 1114.8,
            "bin_end": 1248,
            "count": 2
           }
          ]
         }
        },
        {
         "name": "n_days_to_treatment_end_x",
         "dtype": "int64",
         "stats": {
          "unique_count": 341,
          "nan_count": 0,
          "min": "-775",
          "max": "1185",
          "histogram": [
           {
            "bin_start": -775,
            "bin_end": -579,
            "count": 11
           },
           {
            "bin_start": -579,
            "bin_end": -383,
            "count": 18
           },
           {
            "bin_start": -383,
            "bin_end": -187,
            "count": 28
           },
           {
            "bin_start": -187,
            "bin_end": 9,
            "count": 154
           },
           {
            "bin_start": 9,
            "bin_end": 205,
            "count": 141
           },
           {
            "bin_start": 205,
            "bin_end": 401,
            "count": 78
           },
           {
            "bin_start": 401,
            "bin_end": 597,
            "count": 18
           },
           {
            "bin_start": 597,
            "bin_end": 793,
            "count": 12
           },
           {
            "bin_start": 793,
            "bin_end": 989,
            "count": 7
           },
           {
            "bin_start": 989,
            "bin_end": 1185,
            "count": 5
           }
          ]
         }
        },
        {
         "name": "malignant_lesions",
         "dtype": "int64",
         "stats": {
          "unique_count": 46,
          "nan_count": 0,
          "min": "0",
          "max": "193",
          "histogram": [
           {
            "bin_start": 0,
            "bin_end": 19.3,
            "count": 429
           },
           {
            "bin_start": 19.3,
            "bin_end": 38.6,
            "count": 27
           },
           {
            "bin_start": 38.6,
            "bin_end": 57.900000000000006,
            "count": 7
           },
           {
            "bin_start": 57.900000000000006,
            "bin_end": 77.2,
            "count": 7
           },
           {
            "bin_start": 77.2,
            "bin_end": 96.5,
            "count": 0
           },
           {
            "bin_start": 96.5,
            "bin_end": 115.80000000000001,
            "count": 0
           },
           {
            "bin_start": 115.80000000000001,
            "bin_end": 135.1,
            "count": 1
           },
           {
            "bin_start": 135.1,
            "bin_end": 154.4,
            "count": 0
           },
           {
            "bin_start": 154.4,
            "bin_end": 173.70000000000002,
            "count": 0
           },
           {
            "bin_start": 173.70000000000002,
            "bin_end": 193,
            "count": 1
           }
          ]
         }
        },
        {
         "name": "brain_seg_exists",
         "dtype": "bool",
         "stats": {
          "unique_count": 2,
          "nan_count": 0,
          "categories": [
           {
            "name": "True",
            "count": 368
           },
           {
            "name": "False",
            "count": 104
           }
          ]
         }
        },
        {
         "name": "bones_seg_exists",
         "dtype": "bool",
         "stats": {
          "unique_count": 2,
          "nan_count": 0,
          "categories": [
           {
            "name": "True",
            "count": 441
           },
           {
            "name": "False",
            "count": 31
           }
          ]
         }
        },
        {
         "name": "spleen_seg_exists",
         "dtype": "bool",
         "stats": {
          "unique_count": 2,
          "nan_count": 0,
          "categories": [
           {
            "name": "True",
            "count": 459
           },
           {
            "name": "False",
            "count": 13
           }
          ]
         }
        },
        {
         "name": "aorta_seg_exists",
         "dtype": "bool",
         "stats": {
          "unique_count": 2,
          "nan_count": 0,
          "categories": [
           {
            "name": "True",
            "count": 461
           },
           {
            "name": "False",
            "count": 11
           }
          ]
         }
        },
        {
         "name": "heart_seg_exists",
         "dtype": "bool",
         "stats": {
          "unique_count": 2,
          "nan_count": 0,
          "categories": [
           {
            "name": "True",
            "count": 464
           },
           {
            "name": "False",
            "count": 8
           }
          ]
         }
        },
        {
         "name": "kidney_right_seg_exists",
         "dtype": "bool",
         "stats": {
          "unique_count": 2,
          "nan_count": 0,
          "categories": [
           {
            "name": "True",
            "count": 456
           },
           {
            "name": "False",
            "count": 16
           }
          ]
         }
        },
        {
         "name": "kidney_left_seg_exists",
         "dtype": "bool",
         "stats": {
          "unique_count": 2,
          "nan_count": 0,
          "categories": [
           {
            "name": "True",
            "count": 455
           },
           {
            "name": "False",
            "count": 17
           }
          ]
         }
        },
        {
         "name": "lung_right_seg_exists",
         "dtype": "bool",
         "stats": {
          "unique_count": 2,
          "nan_count": 0,
          "categories": [
           {
            "name": "True",
            "count": 444
           },
           {
            "name": "False",
            "count": 28
           }
          ]
         }
        },
        {
         "name": "lung_left_seg_exists",
         "dtype": "bool",
         "stats": {
          "unique_count": 2,
          "nan_count": 0,
          "categories": [
           {
            "name": "True",
            "count": 444
           },
           {
            "name": "False",
            "count": 28
           }
          ]
         }
        },
        {
         "name": "liver_seg_exists",
         "dtype": "bool",
         "stats": {
          "unique_count": 2,
          "nan_count": 0,
          "categories": [
           {
            "name": "True",
            "count": 455
           },
           {
            "name": "False",
            "count": 17
           }
          ]
         }
        },
        {
         "name": "n_days_to_treatment_start_y",
         "dtype": "float64",
         "stats": {
          "unique_count": 316,
          "nan_count": 0,
          "min": "-84.0",
          "max": "1248.0",
          "histogram": [
           {
            "bin_start": -84,
            "bin_end": 49.19999999999999,
            "count": 126
           },
           {
            "bin_start": 49.19999999999999,
            "bin_end": 182.39999999999998,
            "count": 141
           },
           {
            "bin_start": 182.39999999999998,
            "bin_end": 315.59999999999997,
            "count": 71
           },
           {
            "bin_start": 315.59999999999997,
            "bin_end": 448.79999999999995,
            "count": 63
           },
           {
            "bin_start": 448.79999999999995,
            "bin_end": 582,
            "count": 30
           },
           {
            "bin_start": 582,
            "bin_end": 715.1999999999999,
            "count": 15
           },
           {
            "bin_start": 715.1999999999999,
            "bin_end": 848.3999999999999,
            "count": 12
           },
           {
            "bin_start": 848.3999999999999,
            "bin_end": 981.5999999999999,
            "count": 7
           },
           {
            "bin_start": 981.5999999999999,
            "bin_end": 1114.8,
            "count": 5
           },
           {
            "bin_start": 1114.8,
            "bin_end": 1248,
            "count": 2
           }
          ]
         }
        },
        {
         "name": "n_days_to_treatment_end_y",
         "dtype": "float64",
         "stats": {
          "unique_count": 341,
          "nan_count": 0,
          "min": "-775.0",
          "max": "1185.0",
          "histogram": [
           {
            "bin_start": -775,
            "bin_end": -579,
            "count": 11
           },
           {
            "bin_start": -579,
            "bin_end": -383,
            "count": 18
           },
           {
            "bin_start": -383,
            "bin_end": -187,
            "count": 28
           },
           {
            "bin_start": -187,
            "bin_end": 9,
            "count": 154
           },
           {
            "bin_start": 9,
            "bin_end": 205,
            "count": 141
           },
           {
            "bin_start": 205,
            "bin_end": 401,
            "count": 78
           },
           {
            "bin_start": 401,
            "bin_end": 597,
            "count": 18
           },
           {
            "bin_start": 597,
            "bin_end": 793,
            "count": 12
           },
           {
            "bin_start": 793,
            "bin_end": 989,
            "count": 7
           },
           {
            "bin_start": 989,
            "bin_end": 1185,
            "count": 5
           }
          ]
         }
        },
        {
         "name": "prediction_score",
         "dtype": "object",
         "stats": {
          "unique_count": 2,
          "nan_count": 54,
          "categories": [
           {
            "name": "NPD",
            "count": 255
           },
           {
            "name": "PD",
            "count": 163
           },
           {
            "name": "Missing",
            "count": 54
           }
          ]
         }
        },
        {
         "name": "pseudorecist",
         "dtype": "object",
         "stats": {
          "unique_count": 2,
          "nan_count": 211,
          "categories": [
           {
            "name": "NPD",
            "count": 184
           },
           {
            "name": "PD",
            "count": 77
           },
           {
            "name": "Missing",
            "count": 211
           }
          ]
         }
        },
        {
         "name": "study_phase",
         "dtype": "int64",
         "stats": {
          "unique_count": 16,
          "nan_count": 0,
          "min": "-2",
          "max": "14",
          "histogram": [
           {
            "bin_start": -2,
            "bin_end": -0.3999999999999999,
            "count": 99
           },
           {
            "bin_start": -0.3999999999999999,
            "bin_end": 1.2000000000000002,
            "count": 109
           },
           {
            "bin_start": 1.2000000000000002,
            "bin_end": 2.8000000000000007,
            "count": 74
           },
           {
            "bin_start": 2.8000000000000007,
            "bin_end": 4.4,
            "count": 106
           },
           {
            "bin_start": 4.4,
            "bin_end": 6,
            "count": 29
           },
           {
            "bin_start": 6,
            "bin_end": 7.600000000000001,
            "count": 28
           },
           {
            "bin_start": 7.600000000000001,
            "bin_end": 9.200000000000001,
            "count": 16
           },
           {
            "bin_start": 9.200000000000001,
            "bin_end": 10.8,
            "count": 6
           },
           {
            "bin_start": 10.8,
            "bin_end": 12.4,
            "count": 3
           },
           {
            "bin_start": 12.4,
            "bin_end": 14,
            "count": 2
           }
          ]
         }
        },
        {
         "name": "_deepnote_index_column",
         "dtype": "int64"
        }
       ],
       "rows_top": [
        {
         "gpcr_id": 34610001,
         "study_name": "pre-02",
         "is_before_treatment": true,
         "is_during_treatment": false,
         "is_after_treatment_end": false,
         "nth_before_treatment": 2,
         "nth_after_treatment_start": "nan",
         "nth_during_treatment": "nan",
         "nth_after_treatment_end": "nan",
         "n_days_to_treatment_start_x": -43,
         "n_days_to_treatment_end_x": -106,
         "malignant_lesions": 8,
         "brain_seg_exists": true,
         "bones_seg_exists": true,
         "spleen_seg_exists": true,
         "aorta_seg_exists": true,
         "heart_seg_exists": true,
         "kidney_right_seg_exists": true,
         "kidney_left_seg_exists": true,
         "lung_right_seg_exists": true,
         "lung_left_seg_exists": true,
         "liver_seg_exists": true,
         "n_days_to_treatment_start_y": -43,
         "n_days_to_treatment_end_y": -106,
         "prediction_score": "PD",
         "pseudorecist": "nan",
         "study_phase": -2,
         "_deepnote_index_column": 0
        },
        {
         "gpcr_id": 34610001,
         "study_name": "pre-01",
         "is_before_treatment": true,
         "is_during_treatment": false,
         "is_after_treatment_end": false,
         "nth_before_treatment": 1,
         "nth_after_treatment_start": "nan",
         "nth_during_treatment": "nan",
         "nth_after_treatment_end": "nan",
         "n_days_to_treatment_start_x": -7,
         "n_days_to_treatment_end_x": -70,
         "malignant_lesions": 54,
         "brain_seg_exists": true,
         "bones_seg_exists": true,
         "spleen_seg_exists": true,
         "aorta_seg_exists": true,
         "heart_seg_exists": true,
         "kidney_right_seg_exists": true,
         "kidney_left_seg_exists": true,
         "lung_right_seg_exists": true,
         "lung_left_seg_exists": true,
         "liver_seg_exists": true,
         "n_days_to_treatment_start_y": -7,
         "n_days_to_treatment_end_y": -70,
         "prediction_score": "PD",
         "pseudorecist": "nan",
         "study_phase": -1,
         "_deepnote_index_column": 1
        },
        {
         "gpcr_id": 34610001,
         "study_name": "post-01",
         "is_before_treatment": false,
         "is_during_treatment": false,
         "is_after_treatment_end": true,
         "nth_before_treatment": "nan",
         "nth_after_treatment_start": 1,
         "nth_during_treatment": "nan",
         "nth_after_treatment_end": 1,
         "n_days_to_treatment_start_x": 87,
         "n_days_to_treatment_end_x": 24,
         "malignant_lesions": 4,
         "brain_seg_exists": true,
         "bones_seg_exists": true,
         "spleen_seg_exists": true,
         "aorta_seg_exists": true,
         "heart_seg_exists": true,
         "kidney_right_seg_exists": true,
         "kidney_left_seg_exists": true,
         "lung_right_seg_exists": true,
         "lung_left_seg_exists": true,
         "liver_seg_exists": true,
         "n_days_to_treatment_start_y": 87,
         "n_days_to_treatment_end_y": 24,
         "prediction_score": "NPD",
         "pseudorecist": "nan",
         "study_phase": 1,
         "_deepnote_index_column": 2
        },
        {
         "gpcr_id": 34610001,
         "study_name": "post-02",
         "is_before_treatment": false,
         "is_during_treatment": false,
         "is_after_treatment_end": true,
         "nth_before_treatment": "nan",
         "nth_after_treatment_start": 2,
         "nth_during_treatment": "nan",
         "nth_after_treatment_end": 2,
         "n_days_to_treatment_start_x": 183,
         "n_days_to_treatment_end_x": 120,
         "malignant_lesions": 4,
         "brain_seg_exists": true,
         "bones_seg_exists": true,
         "spleen_seg_exists": true,
         "aorta_seg_exists": true,
         "heart_seg_exists": true,
         "kidney_right_seg_exists": false,
         "kidney_left_seg_exists": false,
         "lung_right_seg_exists": true,
         "lung_left_seg_exists": true,
         "liver_seg_exists": true,
         "n_days_to_treatment_start_y": 183,
         "n_days_to_treatment_end_y": 120,
         "prediction_score": "nan",
         "pseudorecist": "nan",
         "study_phase": 2,
         "_deepnote_index_column": 3
        },
        {
         "gpcr_id": 34610001,
         "study_name": "post-03",
         "is_before_treatment": false,
         "is_during_treatment": false,
         "is_after_treatment_end": true,
         "nth_before_treatment": "nan",
         "nth_after_treatment_start": 3,
         "nth_during_treatment": "nan",
         "nth_after_treatment_end": 3,
         "n_days_to_treatment_start_x": 275,
         "n_days_to_treatment_end_x": 212,
         "malignant_lesions": 11,
         "brain_seg_exists": true,
         "bones_seg_exists": true,
         "spleen_seg_exists": true,
         "aorta_seg_exists": true,
         "heart_seg_exists": true,
         "kidney_right_seg_exists": true,
         "kidney_left_seg_exists": true,
         "lung_right_seg_exists": true,
         "lung_left_seg_exists": true,
         "liver_seg_exists": true,
         "n_days_to_treatment_start_y": 275,
         "n_days_to_treatment_end_y": 212,
         "prediction_score": "nan",
         "pseudorecist": "nan",
         "study_phase": 3,
         "_deepnote_index_column": 4
        },
        {
         "gpcr_id": 34610001,
         "study_name": "post-04",
         "is_before_treatment": false,
         "is_during_treatment": false,
         "is_after_treatment_end": true,
         "nth_before_treatment": "nan",
         "nth_after_treatment_start": 4,
         "nth_during_treatment": "nan",
         "nth_after_treatment_end": 4,
         "n_days_to_treatment_start_x": 364,
         "n_days_to_treatment_end_x": 301,
         "malignant_lesions": 5,
         "brain_seg_exists": true,
         "bones_seg_exists": true,
         "spleen_seg_exists": true,
         "aorta_seg_exists": true,
         "heart_seg_exists": true,
         "kidney_right_seg_exists": true,
         "kidney_left_seg_exists": true,
         "lung_right_seg_exists": true,
         "lung_left_seg_exists": true,
         "liver_seg_exists": true,
         "n_days_to_treatment_start_y": 364,
         "n_days_to_treatment_end_y": 301,
         "prediction_score": "nan",
         "pseudorecist": "nan",
         "study_phase": 4,
         "_deepnote_index_column": 5
        },
        {
         "gpcr_id": 34610001,
         "study_name": "post-05",
         "is_before_treatment": false,
         "is_during_treatment": false,
         "is_after_treatment_end": true,
         "nth_before_treatment": "nan",
         "nth_after_treatment_start": 5,
         "nth_during_treatment": "nan",
         "nth_after_treatment_end": 5,
         "n_days_to_treatment_start_x": 447,
         "n_days_to_treatment_end_x": 384,
         "malignant_lesions": 9,
         "brain_seg_exists": true,
         "bones_seg_exists": true,
         "spleen_seg_exists": true,
         "aorta_seg_exists": true,
         "heart_seg_exists": true,
         "kidney_right_seg_exists": true,
         "kidney_left_seg_exists": true,
         "lung_right_seg_exists": true,
         "lung_left_seg_exists": true,
         "liver_seg_exists": true,
         "n_days_to_treatment_start_y": 447,
         "n_days_to_treatment_end_y": 384,
         "prediction_score": "PD",
         "pseudorecist": "PD",
         "study_phase": 5,
         "_deepnote_index_column": 6
        },
        {
         "gpcr_id": 34610002,
         "study_name": "pre-01",
         "is_before_treatment": true,
         "is_during_treatment": false,
         "is_after_treatment_end": false,
         "nth_before_treatment": 1,
         "nth_after_treatment_start": "nan",
         "nth_during_treatment": "nan",
         "nth_after_treatment_end": "nan",
         "n_days_to_treatment_start_x": -29,
         "n_days_to_treatment_end_x": -78,
         "malignant_lesions": 18,
         "brain_seg_exists": true,
         "bones_seg_exists": true,
         "spleen_seg_exists": true,
         "aorta_seg_exists": true,
         "heart_seg_exists": true,
         "kidney_right_seg_exists": true,
         "kidney_left_seg_exists": true,
         "lung_right_seg_exists": true,
         "lung_left_seg_exists": true,
         "liver_seg_exists": true,
         "n_days_to_treatment_start_y": -29,
         "n_days_to_treatment_end_y": -78,
         "prediction_score": "PD",
         "pseudorecist": "PD",
         "study_phase": -1,
         "_deepnote_index_column": 7
        },
        {
         "gpcr_id": 34610002,
         "study_name": "post-01",
         "is_before_treatment": false,
         "is_during_treatment": false,
         "is_after_treatment_end": true,
         "nth_before_treatment": "nan",
         "nth_after_treatment_start": 1,
         "nth_during_treatment": "nan",
         "nth_after_treatment_end": 1,
         "n_days_to_treatment_start_x": 64,
         "n_days_to_treatment_end_x": 15,
         "malignant_lesions": 73,
         "brain_seg_exists": true,
         "bones_seg_exists": true,
         "spleen_seg_exists": true,
         "aorta_seg_exists": true,
         "heart_seg_exists": true,
         "kidney_right_seg_exists": true,
         "kidney_left_seg_exists": true,
         "lung_right_seg_exists": true,
         "lung_left_seg_exists": true,
         "liver_seg_exists": true,
         "n_days_to_treatment_start_y": 64,
         "n_days_to_treatment_end_y": 15,
         "prediction_score": "PD",
         "pseudorecist": "PD",
         "study_phase": 1,
         "_deepnote_index_column": 8
        },
        {
         "gpcr_id": 34610004,
         "study_name": "pre-02",
         "is_before_treatment": true,
         "is_during_treatment": false,
         "is_after_treatment_end": false,
         "nth_before_treatment": 2,
         "nth_after_treatment_start": "nan",
         "nth_during_treatment": "nan",
         "nth_after_treatment_end": "nan",
         "n_days_to_treatment_start_x": -62,
         "n_days_to_treatment_end_x": -433,
         "malignant_lesions": 12,
         "brain_seg_exists": true,
         "bones_seg_exists": true,
         "spleen_seg_exists": true,
         "aorta_seg_exists": true,
         "heart_seg_exists": true,
         "kidney_right_seg_exists": true,
         "kidney_left_seg_exists": true,
         "lung_right_seg_exists": true,
         "lung_left_seg_exists": true,
         "liver_seg_exists": true,
         "n_days_to_treatment_start_y": -62,
         "n_days_to_treatment_end_y": -433,
         "prediction_score": "PD",
         "pseudorecist": "nan",
         "study_phase": -2,
         "_deepnote_index_column": 9
        },
        {
         "gpcr_id": 34610004,
         "study_name": "pre-01",
         "is_before_treatment": true,
         "is_during_treatment": false,
         "is_after_treatment_end": false,
         "nth_before_treatment": 1,
         "nth_after_treatment_start": "nan",
         "nth_during_treatment": "nan",
         "nth_after_treatment_end": "nan",
         "n_days_to_treatment_start_x": 0,
         "n_days_to_treatment_end_x": -371,
         "malignant_lesions": 5,
         "brain_seg_exists": true,
         "bones_seg_exists": true,
         "spleen_seg_exists": true,
         "aorta_seg_exists": true,
         "heart_seg_exists": true,
         "kidney_right_seg_exists": true,
         "kidney_left_seg_exists": true,
         "lung_right_seg_exists": true,
         "lung_left_seg_exists": true,
         "liver_seg_exists": true,
         "n_days_to_treatment_start_y": 0,
         "n_days_to_treatment_end_y": -371,
         "prediction_score": "PD",
         "pseudorecist": "nan",
         "study_phase": -1,
         "_deepnote_index_column": 10
        },
        {
         "gpcr_id": 34610004,
         "study_name": "post-01",
         "is_before_treatment": false,
         "is_during_treatment": true,
         "is_after_treatment_end": false,
         "nth_before_treatment": "nan",
         "nth_after_treatment_start": 1,
         "nth_during_treatment": 1,
         "nth_after_treatment_end": "nan",
         "n_days_to_treatment_start_x": 84,
         "n_days_to_treatment_end_x": -287,
         "malignant_lesions": 7,
         "brain_seg_exists": true,
         "bones_seg_exists": false,
         "spleen_seg_exists": true,
         "aorta_seg_exists": true,
         "heart_seg_exists": true,
         "kidney_right_seg_exists": true,
         "kidney_left_seg_exists": true,
         "lung_right_seg_exists": false,
         "lung_left_seg_exists": false,
         "liver_seg_exists": true,
         "n_days_to_treatment_start_y": 84,
         "n_days_to_treatment_end_y": -287,
         "prediction_score": "NPD",
         "pseudorecist": "NPD",
         "study_phase": 1,
         "_deepnote_index_column": 11
        },
        {
         "gpcr_id": 34610004,
         "study_name": "post-02",
         "is_before_treatment": false,
         "is_during_treatment": true,
         "is_after_treatment_end": false,
         "nth_before_treatment": "nan",
         "nth_after_treatment_start": 2,
         "nth_during_treatment": 2,
         "nth_after_treatment_end": "nan",
         "n_days_to_treatment_start_x": 196,
         "n_days_to_treatment_end_x": -175,
         "malignant_lesions": 6,
         "brain_seg_exists": true,
         "bones_seg_exists": true,
         "spleen_seg_exists": true,
         "aorta_seg_exists": true,
         "heart_seg_exists": true,
         "kidney_right_seg_exists": true,
         "kidney_left_seg_exists": true,
         "lung_right_seg_exists": true,
         "lung_left_seg_exists": true,
         "liver_seg_exists": true,
         "n_days_to_treatment_start_y": 196,
         "n_days_to_treatment_end_y": -175,
         "prediction_score": "NPD",
         "pseudorecist": "NPD",
         "study_phase": 2,
         "_deepnote_index_column": 12
        },
        {
         "gpcr_id": 34610004,
         "study_name": "post-03",
         "is_before_treatment": false,
         "is_during_treatment": true,
         "is_after_treatment_end": false,
         "nth_before_treatment": "nan",
         "nth_after_treatment_start": 3,
         "nth_during_treatment": 3,
         "nth_after_treatment_end": "nan",
         "n_days_to_treatment_start_x": 301,
         "n_days_to_treatment_end_x": -70,
         "malignant_lesions": 3,
         "brain_seg_exists": true,
         "bones_seg_exists": true,
         "spleen_seg_exists": true,
         "aorta_seg_exists": true,
         "heart_seg_exists": true,
         "kidney_right_seg_exists": true,
         "kidney_left_seg_exists": true,
         "lung_right_seg_exists": true,
         "lung_left_seg_exists": true,
         "liver_seg_exists": true,
         "n_days_to_treatment_start_y": 301,
         "n_days_to_treatment_end_y": -70,
         "prediction_score": "PD",
         "pseudorecist": "nan",
         "study_phase": 3,
         "_deepnote_index_column": 13
        },
        {
         "gpcr_id": 34610004,
         "study_name": "post-04",
         "is_before_treatment": false,
         "is_during_treatment": false,
         "is_after_treatment_end": true,
         "nth_before_treatment": "nan",
         "nth_after_treatment_start": 4,
         "nth_during_treatment": "nan",
         "nth_after_treatment_end": 1,
         "n_days_to_treatment_start_x": 391,
         "n_days_to_treatment_end_x": 20,
         "malignant_lesions": 3,
         "brain_seg_exists": true,
         "bones_seg_exists": true,
         "spleen_seg_exists": true,
         "aorta_seg_exists": true,
         "heart_seg_exists": true,
         "kidney_right_seg_exists": true,
         "kidney_left_seg_exists": true,
         "lung_right_seg_exists": true,
         "lung_left_seg_exists": true,
         "liver_seg_exists": true,
         "n_days_to_treatment_start_y": 391,
         "n_days_to_treatment_end_y": 20,
         "prediction_score": "NPD",
         "pseudorecist": "nan",
         "study_phase": 4,
         "_deepnote_index_column": 14
        },
        {
         "gpcr_id": 34610004,
         "study_name": "post-05",
         "is_before_treatment": false,
         "is_during_treatment": false,
         "is_after_treatment_end": true,
         "nth_before_treatment": "nan",
         "nth_after_treatment_start": 5,
         "nth_during_treatment": "nan",
         "nth_after_treatment_end": 2,
         "n_days_to_treatment_start_x": 469,
         "n_days_to_treatment_end_x": 98,
         "malignant_lesions": 1,
         "brain_seg_exists": true,
         "bones_seg_exists": true,
         "spleen_seg_exists": true,
         "aorta_seg_exists": true,
         "heart_seg_exists": true,
         "kidney_right_seg_exists": true,
         "kidney_left_seg_exists": true,
         "lung_right_seg_exists": true,
         "lung_left_seg_exists": true,
         "liver_seg_exists": true,
         "n_days_to_treatment_start_y": 469,
         "n_days_to_treatment_end_y": 98,
         "prediction_score": "NPD",
         "pseudorecist": "NPD",
         "study_phase": 5,
         "_deepnote_index_column": 15
        },
        {
         "gpcr_id": 34610004,
         "study_name": "post-06",
         "is_before_treatment": false,
         "is_during_treatment": false,
         "is_after_treatment_end": true,
         "nth_before_treatment": "nan",
         "nth_after_treatment_start": 6,
         "nth_during_treatment": "nan",
         "nth_after_treatment_end": 3,
         "n_days_to_treatment_start_x": 560,
         "n_days_to_treatment_end_x": 189,
         "malignant_lesions": 1,
         "brain_seg_exists": true,
         "bones_seg_exists": true,
         "spleen_seg_exists": true,
         "aorta_seg_exists": true,
         "heart_seg_exists": true,
         "kidney_right_seg_exists": true,
         "kidney_left_seg_exists": true,
         "lung_right_seg_exists": true,
         "lung_left_seg_exists": true,
         "liver_seg_exists": true,
         "n_days_to_treatment_start_y": 560,
         "n_days_to_treatment_end_y": 189,
         "prediction_score": "NPD",
         "pseudorecist": "nan",
         "study_phase": 6,
         "_deepnote_index_column": 16
        },
        {
         "gpcr_id": 34610004,
         "study_name": "post-07",
         "is_before_treatment": false,
         "is_during_treatment": false,
         "is_after_treatment_end": true,
         "nth_before_treatment": "nan",
         "nth_after_treatment_start": 7,
         "nth_during_treatment": "nan",
         "nth_after_treatment_end": 4,
         "n_days_to_treatment_start_x": 665,
         "n_days_to_treatment_end_x": 294,
         "malignant_lesions": 1,
         "brain_seg_exists": true,
         "bones_seg_exists": true,
         "spleen_seg_exists": true,
         "aorta_seg_exists": true,
         "heart_seg_exists": true,
         "kidney_right_seg_exists": true,
         "kidney_left_seg_exists": true,
         "lung_right_seg_exists": true,
         "lung_left_seg_exists": true,
         "liver_seg_exists": true,
         "n_days_to_treatment_start_y": 665,
         "n_days_to_treatment_end_y": 294,
         "prediction_score": "PD",
         "pseudorecist": "nan",
         "study_phase": 7,
         "_deepnote_index_column": 17
        }
       ],
       "rows_bottom": [
        {
         "gpcr_id": 34610144,
         "study_name": "post-02",
         "is_before_treatment": false,
         "is_during_treatment": false,
         "is_after_treatment_end": true,
         "nth_before_treatment": "nan",
         "nth_after_treatment_start": 2,
         "nth_during_treatment": "nan",
         "nth_after_treatment_end": 1,
         "n_days_to_treatment_start_x": 76,
         "n_days_to_treatment_end_x": 13,
         "malignant_lesions": 9,
         "brain_seg_exists": true,
         "bones_seg_exists": true,
         "spleen_seg_exists": true,
         "aorta_seg_exists": true,
         "heart_seg_exists": true,
         "kidney_right_seg_exists": true,
         "kidney_left_seg_exists": true,
         "lung_right_seg_exists": true,
         "lung_left_seg_exists": true,
         "liver_seg_exists": true,
         "n_days_to_treatment_start_y": 76,
         "n_days_to_treatment_end_y": 13,
         "prediction_score": "PD",
         "pseudorecist": "PD",
         "study_phase": 2,
         "_deepnote_index_column": 453
        },
        {
         "gpcr_id": 34610145,
         "study_name": "pre-02",
         "is_before_treatment": true,
         "is_during_treatment": false,
         "is_after_treatment_end": false,
         "nth_before_treatment": 2,
         "nth_after_treatment_start": "nan",
         "nth_during_treatment": "nan",
         "nth_after_treatment_end": "nan",
         "n_days_to_treatment_start_x": -41,
         "n_days_to_treatment_end_x": -62,
         "malignant_lesions": 1,
         "brain_seg_exists": true,
         "bones_seg_exists": true,
         "spleen_seg_exists": true,
         "aorta_seg_exists": true,
         "heart_seg_exists": true,
         "kidney_right_seg_exists": true,
         "kidney_left_seg_exists": true,
         "lung_right_seg_exists": true,
         "lung_left_seg_exists": true,
         "liver_seg_exists": true,
         "n_days_to_treatment_start_y": -41,
         "n_days_to_treatment_end_y": -62,
         "prediction_score": "NPD",
         "pseudorecist": "nan",
         "study_phase": -2,
         "_deepnote_index_column": 454
        },
        {
         "gpcr_id": 34610145,
         "study_name": "pre-01",
         "is_before_treatment": true,
         "is_during_treatment": false,
         "is_after_treatment_end": false,
         "nth_before_treatment": 1,
         "nth_after_treatment_start": "nan",
         "nth_during_treatment": "nan",
         "nth_after_treatment_end": "nan",
         "n_days_to_treatment_start_x": -8,
         "n_days_to_treatment_end_x": -29,
         "malignant_lesions": 3,
         "brain_seg_exists": true,
         "bones_seg_exists": true,
         "spleen_seg_exists": true,
         "aorta_seg_exists": true,
         "heart_seg_exists": true,
         "kidney_right_seg_exists": true,
         "kidney_left_seg_exists": true,
         "lung_right_seg_exists": true,
         "lung_left_seg_exists": true,
         "liver_seg_exists": true,
         "n_days_to_treatment_start_y": -8,
         "n_days_to_treatment_end_y": -29,
         "prediction_score": "PD",
         "pseudorecist": "nan",
         "study_phase": -1,
         "_deepnote_index_column": 455
        },
        {
         "gpcr_id": 34610145,
         "study_name": "post-01",
         "is_before_treatment": false,
         "is_during_treatment": false,
         "is_after_treatment_end": true,
         "nth_before_treatment": "nan",
         "nth_after_treatment_start": 1,
         "nth_during_treatment": "nan",
         "nth_after_treatment_end": 1,
         "n_days_to_treatment_start_x": 58,
         "n_days_to_treatment_end_x": 37,
         "malignant_lesions": 8,
         "brain_seg_exists": false,
         "bones_seg_exists": false,
         "spleen_seg_exists": true,
         "aorta_seg_exists": true,
         "heart_seg_exists": true,
         "kidney_right_seg_exists": true,
         "kidney_left_seg_exists": true,
         "lung_right_seg_exists": false,
         "lung_left_seg_exists": false,
         "liver_seg_exists": true,
         "n_days_to_treatment_start_y": 58,
         "n_days_to_treatment_end_y": 37,
         "prediction_score": "PD",
         "pseudorecist": "PD",
         "study_phase": 1,
         "_deepnote_index_column": 456
        },
        {
         "gpcr_id": 34610146,
         "study_name": "post-01",
         "is_before_treatment": false,
         "is_during_treatment": false,
         "is_after_treatment_end": true,
         "nth_before_treatment": "nan",
         "nth_after_treatment_start": 1,
         "nth_during_treatment": "nan",
         "nth_after_treatment_end": 1,
         "n_days_to_treatment_start_x": 84,
         "n_days_to_treatment_end_x": 12,
         "malignant_lesions": 9,
         "brain_seg_exists": true,
         "bones_seg_exists": true,
         "spleen_seg_exists": true,
         "aorta_seg_exists": true,
         "heart_seg_exists": true,
         "kidney_right_seg_exists": true,
         "kidney_left_seg_exists": true,
         "lung_right_seg_exists": true,
         "lung_left_seg_exists": true,
         "liver_seg_exists": true,
         "n_days_to_treatment_start_y": 84,
         "n_days_to_treatment_end_y": 12,
         "prediction_score": "PD",
         "pseudorecist": "PD",
         "study_phase": 1,
         "_deepnote_index_column": 457
        },
        {
         "gpcr_id": 34610146,
         "study_name": "post-03",
         "is_before_treatment": false,
         "is_during_treatment": false,
         "is_after_treatment_end": true,
         "nth_before_treatment": "nan",
         "nth_after_treatment_start": 3,
         "nth_during_treatment": "nan",
         "nth_after_treatment_end": 3,
         "n_days_to_treatment_start_x": 169,
         "n_days_to_treatment_end_x": 97,
         "malignant_lesions": 10,
         "brain_seg_exists": false,
         "bones_seg_exists": true,
         "spleen_seg_exists": true,
         "aorta_seg_exists": true,
         "heart_seg_exists": true,
         "kidney_right_seg_exists": true,
         "kidney_left_seg_exists": true,
         "lung_right_seg_exists": true,
         "lung_left_seg_exists": true,
         "liver_seg_exists": true,
         "n_days_to_treatment_start_y": 169,
         "n_days_to_treatment_end_y": 97,
         "prediction_score": "NPD",
         "pseudorecist": "NPD",
         "study_phase": 3,
         "_deepnote_index_column": 458
        },
        {
         "gpcr_id": 34610147,
         "study_name": "pre-01",
         "is_before_treatment": true,
         "is_during_treatment": false,
         "is_after_treatment_end": false,
         "nth_before_treatment": 1,
         "nth_after_treatment_start": "nan",
         "nth_during_treatment": "nan",
         "nth_after_treatment_end": "nan",
         "n_days_to_treatment_start_x": -31,
         "n_days_to_treatment_end_x": -445,
         "malignant_lesions": 17,
         "brain_seg_exists": false,
         "bones_seg_exists": true,
         "spleen_seg_exists": true,
         "aorta_seg_exists": true,
         "heart_seg_exists": true,
         "kidney_right_seg_exists": true,
         "kidney_left_seg_exists": true,
         "lung_right_seg_exists": true,
         "lung_left_seg_exists": true,
         "liver_seg_exists": true,
         "n_days_to_treatment_start_y": -31,
         "n_days_to_treatment_end_y": -445,
         "prediction_score": "PD",
         "pseudorecist": "nan",
         "study_phase": -1,
         "_deepnote_index_column": 459
        },
        {
         "gpcr_id": 34610148,
         "study_name": "post-01",
         "is_before_treatment": false,
         "is_during_treatment": true,
         "is_after_treatment_end": false,
         "nth_before_treatment": "nan",
         "nth_after_treatment_start": 1,
         "nth_during_treatment": 1,
         "nth_after_treatment_end": "nan",
         "n_days_to_treatment_start_x": 6,
         "n_days_to_treatment_end_x": -15,
         "malignant_lesions": 14,
         "brain_seg_exists": true,
         "bones_seg_exists": true,
         "spleen_seg_exists": true,
         "aorta_seg_exists": true,
         "heart_seg_exists": true,
         "kidney_right_seg_exists": true,
         "kidney_left_seg_exists": true,
         "lung_right_seg_exists": true,
         "lung_left_seg_exists": true,
         "liver_seg_exists": true,
         "n_days_to_treatment_start_y": 6,
         "n_days_to_treatment_end_y": -15,
         "prediction_score": "PD",
         "pseudorecist": "nan",
         "study_phase": 1,
         "_deepnote_index_column": 460
        },
        {
         "gpcr_id": 34610148,
         "study_name": "post-02",
         "is_before_treatment": false,
         "is_during_treatment": false,
         "is_after_treatment_end": true,
         "nth_before_treatment": "nan",
         "nth_after_treatment_start": 2,
         "nth_during_treatment": "nan",
         "nth_after_treatment_end": 1,
         "n_days_to_treatment_start_x": 65,
         "n_days_to_treatment_end_x": 44,
         "malignant_lesions": 16,
         "brain_seg_exists": true,
         "bones_seg_exists": true,
         "spleen_seg_exists": true,
         "aorta_seg_exists": true,
         "heart_seg_exists": true,
         "kidney_right_seg_exists": true,
         "kidney_left_seg_exists": true,
         "lung_right_seg_exists": true,
         "lung_left_seg_exists": true,
         "liver_seg_exists": true,
         "n_days_to_treatment_start_y": 65,
         "n_days_to_treatment_end_y": 44,
         "prediction_score": "NPD",
         "pseudorecist": "nan",
         "study_phase": 2,
         "_deepnote_index_column": 461
        },
        {
         "gpcr_id": 34610148,
         "study_name": "post-03",
         "is_before_treatment": false,
         "is_during_treatment": false,
         "is_after_treatment_end": true,
         "nth_before_treatment": "nan",
         "nth_after_treatment_start": 3,
         "nth_during_treatment": "nan",
         "nth_after_treatment_end": 2,
         "n_days_to_treatment_start_x": 154,
         "n_days_to_treatment_end_x": 133,
         "malignant_lesions": 1,
         "brain_seg_exists": true,
         "bones_seg_exists": true,
         "spleen_seg_exists": true,
         "aorta_seg_exists": true,
         "heart_seg_exists": true,
         "kidney_right_seg_exists": true,
         "kidney_left_seg_exists": true,
         "lung_right_seg_exists": true,
         "lung_left_seg_exists": true,
         "liver_seg_exists": true,
         "n_days_to_treatment_start_y": 154,
         "n_days_to_treatment_end_y": 133,
         "prediction_score": "NPD",
         "pseudorecist": "NPD",
         "study_phase": 3,
         "_deepnote_index_column": 462
        },
        {
         "gpcr_id": 34610148,
         "study_name": "post-04",
         "is_before_treatment": false,
         "is_during_treatment": false,
         "is_after_treatment_end": true,
         "nth_before_treatment": "nan",
         "nth_after_treatment_start": 4,
         "nth_during_treatment": "nan",
         "nth_after_treatment_end": 3,
         "n_days_to_treatment_start_x": 239,
         "n_days_to_treatment_end_x": 218,
         "malignant_lesions": 0,
         "brain_seg_exists": true,
         "bones_seg_exists": true,
         "spleen_seg_exists": true,
         "aorta_seg_exists": true,
         "heart_seg_exists": true,
         "kidney_right_seg_exists": true,
         "kidney_left_seg_exists": true,
         "lung_right_seg_exists": true,
         "lung_left_seg_exists": true,
         "liver_seg_exists": true,
         "n_days_to_treatment_start_y": 239,
         "n_days_to_treatment_end_y": 218,
         "prediction_score": "NPD",
         "pseudorecist": "NPD",
         "study_phase": 4,
         "_deepnote_index_column": 463
        },
        {
         "gpcr_id": 34610148,
         "study_name": "post-05",
         "is_before_treatment": false,
         "is_during_treatment": false,
         "is_after_treatment_end": true,
         "nth_before_treatment": "nan",
         "nth_after_treatment_start": 5,
         "nth_during_treatment": "nan",
         "nth_after_treatment_end": 4,
         "n_days_to_treatment_start_x": 336,
         "n_days_to_treatment_end_x": 315,
         "malignant_lesions": 1,
         "brain_seg_exists": true,
         "bones_seg_exists": true,
         "spleen_seg_exists": true,
         "aorta_seg_exists": true,
         "heart_seg_exists": true,
         "kidney_right_seg_exists": true,
         "kidney_left_seg_exists": true,
         "lung_right_seg_exists": true,
         "lung_left_seg_exists": true,
         "liver_seg_exists": true,
         "n_days_to_treatment_start_y": 336,
         "n_days_to_treatment_end_y": 315,
         "prediction_score": "NPD",
         "pseudorecist": "NPD",
         "study_phase": 5,
         "_deepnote_index_column": 464
        },
        {
         "gpcr_id": 34610149,
         "study_name": "pre-01",
         "is_before_treatment": true,
         "is_during_treatment": false,
         "is_after_treatment_end": false,
         "nth_before_treatment": 1,
         "nth_after_treatment_start": "nan",
         "nth_during_treatment": "nan",
         "nth_after_treatment_end": "nan",
         "n_days_to_treatment_start_x": -29,
         "n_days_to_treatment_end_x": -95,
         "malignant_lesions": 1,
         "brain_seg_exists": true,
         "bones_seg_exists": true,
         "spleen_seg_exists": true,
         "aorta_seg_exists": true,
         "heart_seg_exists": true,
         "kidney_right_seg_exists": true,
         "kidney_left_seg_exists": true,
         "lung_right_seg_exists": true,
         "lung_left_seg_exists": true,
         "liver_seg_exists": true,
         "n_days_to_treatment_start_y": -29,
         "n_days_to_treatment_end_y": -95,
         "prediction_score": "PD",
         "pseudorecist": "nan",
         "study_phase": -1,
         "_deepnote_index_column": 465
        },
        {
         "gpcr_id": 34610149,
         "study_name": "post-01",
         "is_before_treatment": false,
         "is_during_treatment": false,
         "is_after_treatment_end": true,
         "nth_before_treatment": "nan",
         "nth_after_treatment_start": 1,
         "nth_during_treatment": "nan",
         "nth_after_treatment_end": 1,
         "n_days_to_treatment_start_x": 80,
         "n_days_to_treatment_end_x": 14,
         "malignant_lesions": 7,
         "brain_seg_exists": true,
         "bones_seg_exists": true,
         "spleen_seg_exists": true,
         "aorta_seg_exists": true,
         "heart_seg_exists": true,
         "kidney_right_seg_exists": true,
         "kidney_left_seg_exists": true,
         "lung_right_seg_exists": true,
         "lung_left_seg_exists": true,
         "liver_seg_exists": true,
         "n_days_to_treatment_start_y": 80,
         "n_days_to_treatment_end_y": 14,
         "prediction_score": "nan",
         "pseudorecist": "nan",
         "study_phase": 1,
         "_deepnote_index_column": 466
        },
        {
         "gpcr_id": 34610149,
         "study_name": "post-02",
         "is_before_treatment": false,
         "is_during_treatment": false,
         "is_after_treatment_end": true,
         "nth_before_treatment": "nan",
         "nth_after_treatment_start": 2,
         "nth_during_treatment": "nan",
         "nth_after_treatment_end": 2,
         "n_days_to_treatment_start_x": 136,
         "n_days_to_treatment_end_x": 70,
         "malignant_lesions": 12,
         "brain_seg_exists": true,
         "bones_seg_exists": true,
         "spleen_seg_exists": true,
         "aorta_seg_exists": true,
         "heart_seg_exists": true,
         "kidney_right_seg_exists": true,
         "kidney_left_seg_exists": true,
         "lung_right_seg_exists": true,
         "lung_left_seg_exists": true,
         "liver_seg_exists": true,
         "n_days_to_treatment_start_y": 136,
         "n_days_to_treatment_end_y": 70,
         "prediction_score": "nan",
         "pseudorecist": "nan",
         "study_phase": 2,
         "_deepnote_index_column": 467
        },
        {
         "gpcr_id": 34610150,
         "study_name": "post-01",
         "is_before_treatment": false,
         "is_during_treatment": false,
         "is_after_treatment_end": true,
         "nth_before_treatment": "nan",
         "nth_after_treatment_start": 1,
         "nth_during_treatment": "nan",
         "nth_after_treatment_end": 1,
         "n_days_to_treatment_start_x": 63,
         "n_days_to_treatment_end_x": 42,
         "malignant_lesions": 0,
         "brain_seg_exists": false,
         "bones_seg_exists": false,
         "spleen_seg_exists": true,
         "aorta_seg_exists": true,
         "heart_seg_exists": true,
         "kidney_right_seg_exists": true,
         "kidney_left_seg_exists": true,
         "lung_right_seg_exists": true,
         "lung_left_seg_exists": true,
         "liver_seg_exists": true,
         "n_days_to_treatment_start_y": 63,
         "n_days_to_treatment_end_y": 42,
         "prediction_score": "nan",
         "pseudorecist": "nan",
         "study_phase": 1,
         "_deepnote_index_column": 468
        },
        {
         "gpcr_id": 34610150,
         "study_name": "post-02",
         "is_before_treatment": false,
         "is_during_treatment": false,
         "is_after_treatment_end": true,
         "nth_before_treatment": "nan",
         "nth_after_treatment_start": 2,
         "nth_during_treatment": "nan",
         "nth_after_treatment_end": 2,
         "n_days_to_treatment_start_x": 147,
         "n_days_to_treatment_end_x": 126,
         "malignant_lesions": 0,
         "brain_seg_exists": true,
         "bones_seg_exists": true,
         "spleen_seg_exists": true,
         "aorta_seg_exists": true,
         "heart_seg_exists": true,
         "kidney_right_seg_exists": true,
         "kidney_left_seg_exists": true,
         "lung_right_seg_exists": true,
         "lung_left_seg_exists": true,
         "liver_seg_exists": true,
         "n_days_to_treatment_start_y": 147,
         "n_days_to_treatment_end_y": 126,
         "prediction_score": "NPD",
         "pseudorecist": "NPD",
         "study_phase": 2,
         "_deepnote_index_column": 469
        },
        {
         "gpcr_id": 34610150,
         "study_name": "post-03",
         "is_before_treatment": false,
         "is_during_treatment": false,
         "is_after_treatment_end": true,
         "nth_before_treatment": "nan",
         "nth_after_treatment_start": 3,
         "nth_during_treatment": "nan",
         "nth_after_treatment_end": 3,
         "n_days_to_treatment_start_x": 247,
         "n_days_to_treatment_end_x": 226,
         "malignant_lesions": 0,
         "brain_seg_exists": true,
         "bones_seg_exists": true,
         "spleen_seg_exists": true,
         "aorta_seg_exists": true,
         "heart_seg_exists": true,
         "kidney_right_seg_exists": true,
         "kidney_left_seg_exists": true,
         "lung_right_seg_exists": true,
         "lung_left_seg_exists": true,
         "liver_seg_exists": true,
         "n_days_to_treatment_start_y": 247,
         "n_days_to_treatment_end_y": 226,
         "prediction_score": "nan",
         "pseudorecist": "nan",
         "study_phase": 3,
         "_deepnote_index_column": 470
        },
        {
         "gpcr_id": 34610150,
         "study_name": "post-04",
         "is_before_treatment": false,
         "is_during_treatment": false,
         "is_after_treatment_end": true,
         "nth_before_treatment": "nan",
         "nth_after_treatment_start": 4,
         "nth_during_treatment": "nan",
         "nth_after_treatment_end": 4,
         "n_days_to_treatment_start_x": 335,
         "n_days_to_treatment_end_x": 314,
         "malignant_lesions": 0,
         "brain_seg_exists": true,
         "bones_seg_exists": true,
         "spleen_seg_exists": true,
         "aorta_seg_exists": true,
         "heart_seg_exists": true,
         "kidney_right_seg_exists": true,
         "kidney_left_seg_exists": true,
         "lung_right_seg_exists": true,
         "lung_left_seg_exists": true,
         "liver_seg_exists": true,
         "n_days_to_treatment_start_y": 335,
         "n_days_to_treatment_end_y": 314,
         "prediction_score": "NPD",
         "pseudorecist": "NPD",
         "study_phase": 4,
         "_deepnote_index_column": 471
        }
       ]
      },
      "text/plain": "      gpcr_id study_name  is_before_treatment  is_during_treatment  \\\n0    34610001     pre-02                 True                False   \n1    34610001     pre-01                 True                False   \n2    34610001    post-01                False                False   \n3    34610001    post-02                False                False   \n4    34610001    post-03                False                False   \n..        ...        ...                  ...                  ...   \n467  34610149    post-02                False                False   \n468  34610150    post-01                False                False   \n469  34610150    post-02                False                False   \n470  34610150    post-03                False                False   \n471  34610150    post-04                False                False   \n\n     is_after_treatment_end  nth_before_treatment  nth_after_treatment_start  \\\n0                     False                   2.0                        NaN   \n1                     False                   1.0                        NaN   \n2                      True                   NaN                        1.0   \n3                      True                   NaN                        2.0   \n4                      True                   NaN                        3.0   \n..                      ...                   ...                        ...   \n467                    True                   NaN                        2.0   \n468                    True                   NaN                        1.0   \n469                    True                   NaN                        2.0   \n470                    True                   NaN                        3.0   \n471                    True                   NaN                        4.0   \n\n     nth_during_treatment  nth_after_treatment_end  \\\n0                     NaN                      NaN   \n1                     NaN                      NaN   \n2                     NaN                      1.0   \n3                     NaN                      2.0   \n4                     NaN                      3.0   \n..                    ...                      ...   \n467                   NaN                      2.0   \n468                   NaN                      1.0   \n469                   NaN                      2.0   \n470                   NaN                      3.0   \n471                   NaN                      4.0   \n\n     n_days_to_treatment_start_x  ...  kidney_right_seg_exists  \\\n0                            -43  ...                     True   \n1                             -7  ...                     True   \n2                             87  ...                     True   \n3                            183  ...                    False   \n4                            275  ...                     True   \n..                           ...  ...                      ...   \n467                          136  ...                     True   \n468                           63  ...                     True   \n469                          147  ...                     True   \n470                          247  ...                     True   \n471                          335  ...                     True   \n\n     kidney_left_seg_exists  lung_right_seg_exists  lung_left_seg_exists  \\\n0                      True                   True                  True   \n1                      True                   True                  True   \n2                      True                   True                  True   \n3                     False                   True                  True   \n4                      True                   True                  True   \n..                      ...                    ...                   ...   \n467                    True                   True                  True   \n468                    True                   True                  True   \n469                    True                   True                  True   \n470                    True                   True                  True   \n471                    True                   True                  True   \n\n     liver_seg_exists  n_days_to_treatment_start_y  n_days_to_treatment_end_y  \\\n0                True                        -43.0                     -106.0   \n1                True                         -7.0                      -70.0   \n2                True                         87.0                       24.0   \n3                True                        183.0                      120.0   \n4                True                        275.0                      212.0   \n..                ...                          ...                        ...   \n467              True                        136.0                       70.0   \n468              True                         63.0                       42.0   \n469              True                        147.0                      126.0   \n470              True                        247.0                      226.0   \n471              True                        335.0                      314.0   \n\n     prediction_score  pseudorecist  study_phase  \n0                  PD           NaN           -2  \n1                  PD           NaN           -1  \n2                 NPD           NaN            1  \n3                 NaN           NaN            2  \n4                 NaN           NaN            3  \n..                ...           ...          ...  \n467               NaN           NaN            2  \n468               NaN           NaN            1  \n469               NPD           NPD            2  \n470               NaN           NaN            3  \n471               NPD           NPD            4  \n\n[472 rows x 27 columns]",
      "text/html": "<div>\n<style scoped>\n    .dataframe tbody tr th:only-of-type {\n        vertical-align: middle;\n    }\n\n    .dataframe tbody tr th {\n        vertical-align: top;\n    }\n\n    .dataframe thead th {\n        text-align: right;\n    }\n</style>\n<table border=\"1\" class=\"dataframe\">\n  <thead>\n    <tr style=\"text-align: right;\">\n      <th></th>\n      <th>gpcr_id</th>\n      <th>study_name</th>\n      <th>is_before_treatment</th>\n      <th>is_during_treatment</th>\n      <th>is_after_treatment_end</th>\n      <th>nth_before_treatment</th>\n      <th>nth_after_treatment_start</th>\n      <th>nth_during_treatment</th>\n      <th>nth_after_treatment_end</th>\n      <th>n_days_to_treatment_start_x</th>\n      <th>...</th>\n      <th>kidney_right_seg_exists</th>\n      <th>kidney_left_seg_exists</th>\n      <th>lung_right_seg_exists</th>\n      <th>lung_left_seg_exists</th>\n      <th>liver_seg_exists</th>\n      <th>n_days_to_treatment_start_y</th>\n      <th>n_days_to_treatment_end_y</th>\n      <th>prediction_score</th>\n      <th>pseudorecist</th>\n      <th>study_phase</th>\n    </tr>\n  </thead>\n  <tbody>\n    <tr>\n      <th>0</th>\n      <td>34610001</td>\n      <td>pre-02</td>\n      <td>True</td>\n      <td>False</td>\n      <td>False</td>\n      <td>2.0</td>\n      <td>NaN</td>\n      <td>NaN</td>\n      <td>NaN</td>\n      <td>-43</td>\n      <td>...</td>\n      <td>True</td>\n      <td>True</td>\n      <td>True</td>\n      <td>True</td>\n      <td>True</td>\n      <td>-43.0</td>\n      <td>-106.0</td>\n      <td>PD</td>\n      <td>NaN</td>\n      <td>-2</td>\n    </tr>\n    <tr>\n      <th>1</th>\n      <td>34610001</td>\n      <td>pre-01</td>\n      <td>True</td>\n      <td>False</td>\n      <td>False</td>\n      <td>1.0</td>\n      <td>NaN</td>\n      <td>NaN</td>\n      <td>NaN</td>\n      <td>-7</td>\n      <td>...</td>\n      <td>True</td>\n      <td>True</td>\n      <td>True</td>\n      <td>True</td>\n      <td>True</td>\n      <td>-7.0</td>\n      <td>-70.0</td>\n      <td>PD</td>\n      <td>NaN</td>\n      <td>-1</td>\n    </tr>\n    <tr>\n      <th>2</th>\n      <td>34610001</td>\n      <td>post-01</td>\n      <td>False</td>\n      <td>False</td>\n      <td>True</td>\n      <td>NaN</td>\n      <td>1.0</td>\n      <td>NaN</td>\n      <td>1.0</td>\n      <td>87</td>\n      <td>...</td>\n      <td>True</td>\n      <td>True</td>\n      <td>True</td>\n      <td>True</td>\n      <td>True</td>\n      <td>87.0</td>\n      <td>24.0</td>\n      <td>NPD</td>\n      <td>NaN</td>\n      <td>1</td>\n    </tr>\n    <tr>\n      <th>3</th>\n      <td>34610001</td>\n      <td>post-02</td>\n      <td>False</td>\n      <td>False</td>\n      <td>True</td>\n      <td>NaN</td>\n      <td>2.0</td>\n      <td>NaN</td>\n      <td>2.0</td>\n      <td>183</td>\n      <td>...</td>\n      <td>False</td>\n      <td>False</td>\n      <td>True</td>\n      <td>True</td>\n      <td>True</td>\n      <td>183.0</td>\n      <td>120.0</td>\n      <td>NaN</td>\n      <td>NaN</td>\n      <td>2</td>\n    </tr>\n    <tr>\n      <th>4</th>\n      <td>34610001</td>\n      <td>post-03</td>\n      <td>False</td>\n      <td>False</td>\n      <td>True</td>\n      <td>NaN</td>\n      <td>3.0</td>\n      <td>NaN</td>\n      <td>3.0</td>\n      <td>275</td>\n      <td>...</td>\n      <td>True</td>\n      <td>True</td>\n      <td>True</td>\n      <td>True</td>\n      <td>True</td>\n      <td>275.0</td>\n      <td>212.0</td>\n      <td>NaN</td>\n      <td>NaN</td>\n      <td>3</td>\n    </tr>\n    <tr>\n      <th>...</th>\n      <td>...</td>\n      <td>...</td>\n      <td>...</td>\n      <td>...</td>\n      <td>...</td>\n      <td>...</td>\n      <td>...</td>\n      <td>...</td>\n      <td>...</td>\n      <td>...</td>\n      <td>...</td>\n      <td>...</td>\n      <td>...</td>\n      <td>...</td>\n      <td>...</td>\n      <td>...</td>\n      <td>...</td>\n      <td>...</td>\n      <td>...</td>\n      <td>...</td>\n      <td>...</td>\n    </tr>\n    <tr>\n      <th>467</th>\n      <td>34610149</td>\n      <td>post-02</td>\n      <td>False</td>\n      <td>False</td>\n      <td>True</td>\n      <td>NaN</td>\n      <td>2.0</td>\n      <td>NaN</td>\n      <td>2.0</td>\n      <td>136</td>\n      <td>...</td>\n      <td>True</td>\n      <td>True</td>\n      <td>True</td>\n      <td>True</td>\n      <td>True</td>\n      <td>136.0</td>\n      <td>70.0</td>\n      <td>NaN</td>\n      <td>NaN</td>\n      <td>2</td>\n    </tr>\n    <tr>\n      <th>468</th>\n      <td>34610150</td>\n      <td>post-01</td>\n      <td>False</td>\n      <td>False</td>\n      <td>True</td>\n      <td>NaN</td>\n      <td>1.0</td>\n      <td>NaN</td>\n      <td>1.0</td>\n      <td>63</td>\n      <td>...</td>\n      <td>True</td>\n      <td>True</td>\n      <td>True</td>\n      <td>True</td>\n      <td>True</td>\n      <td>63.0</td>\n      <td>42.0</td>\n      <td>NaN</td>\n      <td>NaN</td>\n      <td>1</td>\n    </tr>\n    <tr>\n      <th>469</th>\n      <td>34610150</td>\n      <td>post-02</td>\n      <td>False</td>\n      <td>False</td>\n      <td>True</td>\n      <td>NaN</td>\n      <td>2.0</td>\n      <td>NaN</td>\n      <td>2.0</td>\n      <td>147</td>\n      <td>...</td>\n      <td>True</td>\n      <td>True</td>\n      <td>True</td>\n      <td>True</td>\n      <td>True</td>\n      <td>147.0</td>\n      <td>126.0</td>\n      <td>NPD</td>\n      <td>NPD</td>\n      <td>2</td>\n    </tr>\n    <tr>\n      <th>470</th>\n      <td>34610150</td>\n      <td>post-03</td>\n      <td>False</td>\n      <td>False</td>\n      <td>True</td>\n      <td>NaN</td>\n      <td>3.0</td>\n      <td>NaN</td>\n      <td>3.0</td>\n      <td>247</td>\n      <td>...</td>\n      <td>True</td>\n      <td>True</td>\n      <td>True</td>\n      <td>True</td>\n      <td>True</td>\n      <td>247.0</td>\n      <td>226.0</td>\n      <td>NaN</td>\n      <td>NaN</td>\n      <td>3</td>\n    </tr>\n    <tr>\n      <th>471</th>\n      <td>34610150</td>\n      <td>post-04</td>\n      <td>False</td>\n      <td>False</td>\n      <td>True</td>\n      <td>NaN</td>\n      <td>4.0</td>\n      <td>NaN</td>\n      <td>4.0</td>\n      <td>335</td>\n      <td>...</td>\n      <td>True</td>\n      <td>True</td>\n      <td>True</td>\n      <td>True</td>\n      <td>True</td>\n      <td>335.0</td>\n      <td>314.0</td>\n      <td>NPD</td>\n      <td>NPD</td>\n      <td>4</td>\n    </tr>\n  </tbody>\n</table>\n<p>472 rows × 27 columns</p>\n</div>"
     },
     "metadata": {}
    }
   ],
   "execution_count": null
  },
  {
   "cell_type": "code",
   "metadata": {
    "cell_id": "00023-976fe673-3158-42a5-8da9-0ac01fdcdf50",
    "deepnote_to_be_reexecuted": false,
    "execution_millis": 0,
    "execution_start": 1633940303511,
    "source_hash": "3a11c5dd",
    "tags": [],
    "deepnote_cell_type": "code"
   },
   "source": "studies_labels = {\n    **lesions_labels,\n    'prediction_score': 'Immunotherapeutic response',\n    'response': 'TMTV response',\n    'tmtv': 'Total Metabolic Tumor Volume (ccm)',\n    'baseline': 'Baseline TMTV (ccm)'\n}",
   "outputs": [],
   "execution_count": null
  },
  {
   "cell_type": "markdown",
   "source": "#### Creating temporary labels using TMTV (Total Metabolic Tumor Volume)\n\n\n* If TMTV is non-zero, but lower compared to baseline: Partial response\n* If TMTV is zero / no lesions detected: Complete response\n* If TMTV > 'best' previous response: progressive disease.\n     'Best' previous responds means minimum TMTV in previous time points\n* Otherwise: stable disease",
   "metadata": {
    "cell_id": "00024-66767ab4-d85e-42f3-a458-abd5c3748409",
    "deepnote_app_coordinates": {
     "h": 5,
     "w": 12,
     "x": 0,
     "y": 0
    },
    "tags": [],
    "deepnote_cell_type": "markdown"
   }
  },
  {
   "cell_type": "code",
   "metadata": {
    "cell_id": "00025-265a3e59-eda1-45fa-b4ee-60ee6c4b5c90",
    "deepnote_to_be_reexecuted": false,
    "execution_millis": 1,
    "execution_start": 1633940163721,
    "source_hash": "8ed74a47",
    "tags": [],
    "deepnote_cell_type": "code"
   },
   "source": "def classify_response(row):\n    # Compare current vs. baseline\n    if row.tmtv < row.baseline:\n        return 'NPD'\n    elif row.tmtv == row.baseline:\n        return np.nan\n    else:\n        return 'PD'",
   "outputs": [],
   "execution_count": null
  },
  {
   "cell_type": "code",
   "metadata": {
    "cell_id": "00036-3cceff1f-4e75-411b-99e5-13faf259d66e",
    "deepnote_app_coordinates": {
     "h": 5,
     "w": 12,
     "x": 0,
     "y": 216
    },
    "deepnote_app_is_code_hidden": true,
    "deepnote_to_be_reexecuted": false,
    "execution_millis": 89,
    "execution_start": 1633940164039,
    "source_hash": "e443b8ed",
    "deepnote_cell_type": "code"
   },
   "source": "# Compute TMTV by summing `vol_ccm` per study\nlabels = lesions.groupby(['gpcr_id', 'study_phase']).vol_ccm.sum().to_frame('tmtv').reset_index()\n\n# Find `labels` id of each patient's baseline TMTV\nbaseline_idx = labels.groupby('gpcr_id').study_phase.idxmin().to_dict()\nlabels['baseline'] = labels.gpcr_id.apply(\n    lambda i: labels.loc[baseline_idx[i]].tmtv)\nlabels['response'] = labels.apply(classify_response, axis=1)\n\nprint(f'Response computed for {labels.shape[0]} studies: \\n{labels.response.value_counts()}')",
   "outputs": [
    {
     "name": "stdout",
     "text": "Response computed for 366 studies: \nPD     124\nNPD    123\nName: response, dtype: int64\n",
     "output_type": "stream"
    }
   ],
   "execution_count": null
  },
  {
   "cell_type": "code",
   "metadata": {
    "cell_id": "00029-9cfa196a-32c9-4324-947d-06075574f5d4",
    "deepnote_app_coordinates": {
     "h": 5,
     "w": 12,
     "x": 0,
     "y": 0
    },
    "deepnote_app_is_code_hidden": true,
    "deepnote_to_be_reexecuted": false,
    "execution_millis": 5,
    "execution_start": 1633940164471,
    "source_hash": "94e9d40c",
    "tags": [],
    "deepnote_cell_type": "code"
   },
   "source": "labels = labels.merge(progression[['gpcr_id', 'study_phase', 'prediction_score', 'pseudorecist']],\n             on=['gpcr_id', 'study_phase'], how='inner')",
   "outputs": [],
   "execution_count": null
  },
  {
   "cell_type": "code",
   "source": "fig, ax = plt.subplots(1, 2)\n\ncm = confusion_matrix(progression[['prediction_score', 'pseudorecist']].dropna().prediction_score, \n                      progression[['prediction_score', 'pseudorecist']].dropna().pseudorecist,\n                      labels=['PD', 'NPD'])\n\nCM = ConfusionMatrixDisplay(cm, display_labels=['PD', 'NPD']).plot(ax=ax[0])\n\nax[0].set_xlabel('Pseudorecist'), ax[0].set_ylabel('Prediction score')\n\n\ncm = confusion_matrix(labels[['prediction_score', 'response']].dropna().prediction_score, \n                      labels[['prediction_score', 'response']].dropna().response,\n                      labels=['PD', 'NPD'])\n\nCM = ConfusionMatrixDisplay(cm, display_labels=['PD', 'NPD']).plot(ax=ax[1])\n\nax[1].set_xlabel('TMTV Response'), ax[1].set_ylabel('Prediction score')\n\nplt.gcf().set_size_inches(15, 6)\nplt.show()",
   "metadata": {
    "tags": [],
    "deepnote_app_coordinates": {
     "x": 0,
     "y": 0,
     "w": 12,
     "h": 5
    },
    "cell_id": "00029-374bf2b3-f839-4d6a-9638-beb6932a6710",
    "deepnote_to_be_reexecuted": false,
    "source_hash": "a0076ca6",
    "execution_start": 1633940164946,
    "execution_millis": 422,
    "deepnote_cell_type": "code"
   },
   "outputs": [
    {
     "data": {
      "text/plain": "<Figure size 1080x432 with 4 Axes>",
      "image/png": "[encoded data removed]"
     },
     "metadata": {
      "needs_background": "light",
      "image/png": {
       "width": 872,
       "height": 364
      }
     },
     "output_type": "display_data"
    }
   ],
   "execution_count": null
  },
  {
   "cell_type": "markdown",
   "source": "### Visualisations",
   "metadata": {
    "cell_id": "00029-11e15914-873d-4f44-ab8c-ceceb11bf1a5",
    "deepnote_app_coordinates": {
     "h": 2,
     "w": 12,
     "x": 0,
     "y": 0
    },
    "is_collapsed": false,
    "tags": [],
    "deepnote_cell_type": "text-cell-h3"
   }
  },
  {
   "cell_type": "code",
   "source": "labels",
   "metadata": {
    "tags": [],
    "deepnote_app_coordinates": {
     "x": 0,
     "y": 0,
     "w": 12,
     "h": 5
    },
    "cell_id": "00031-c4345a87-6678-4d70-9f8e-a0383425c8fa",
    "deepnote_to_be_reexecuted": false,
    "source_hash": "39bbc68c",
    "execution_start": 1633940254692,
    "execution_millis": 35,
    "deepnote_cell_type": "code"
   },
   "outputs": [
    {
     "output_type": "execute_result",
     "execution_count": 89,
     "data": {
      "application/vnd.deepnote.dataframe.v2+json": {
       "row_count": 366,
       "column_count": 7,
       "columns": [
        {
         "name": "gpcr_id",
         "dtype": "int64",
         "stats": {
          "unique_count": 119,
          "nan_count": 0,
          "min": "34610002",
          "max": "34610149",
          "histogram": [
           {
            "bin_start": 34610002,
            "bin_end": 34610016.7,
            "count": 62
           },
           {
            "bin_start": 34610016.7,
            "bin_end": 34610031.4,
            "count": 55
           },
           {
            "bin_start": 34610031.4,
            "bin_end": 34610046.1,
            "count": 41
           },
           {
            "bin_start": 34610046.1,
            "bin_end": 34610060.8,
            "count": 17
           },
           {
            "bin_start": 34610060.8,
            "bin_end": 34610075.5,
            "count": 30
           },
           {
            "bin_start": 34610075.5,
            "bin_end": 34610090.2,
            "count": 31
           },
           {
            "bin_start": 34610090.2,
            "bin_end": 34610104.9,
            "count": 33
           },
           {
            "bin_start": 34610104.9,
            "bin_end": 34610119.6,
            "count": 36
           },
           {
            "bin_start": 34610119.6,
            "bin_end": 34610134.3,
            "count": 30
           },
           {
            "bin_start": 34610134.3,
            "bin_end": 34610149,
            "count": 31
           }
          ]
         }
        },
        {
         "name": "study_phase",
         "dtype": "int64",
         "stats": {
          "unique_count": 16,
          "nan_count": 0,
          "min": "-2",
          "max": "14",
          "histogram": [
           {
            "bin_start": -2,
            "bin_end": -0.3999999999999999,
            "count": 83
           },
           {
            "bin_start": -0.3999999999999999,
            "bin_end": 1.2000000000000002,
            "count": 95
           },
           {
            "bin_start": 1.2000000000000002,
            "bin_end": 2.8000000000000007,
            "count": 54
           },
           {
            "bin_start": 2.8000000000000007,
            "bin_end": 4.4,
            "count": 68
           },
           {
            "bin_start": 4.4,
            "bin_end": 6,
            "count": 24
           },
           {
            "bin_start": 6,
            "bin_end": 7.600000000000001,
            "count": 22
           },
           {
            "bin_start": 7.600000000000001,
            "bin_end": 9.200000000000001,
            "count": 12
           },
           {
            "bin_start": 9.200000000000001,
            "bin_end": 10.8,
            "count": 4
           },
           {
            "bin_start": 10.8,
            "bin_end": 12.4,
            "count": 2
           },
           {
            "bin_start": 12.4,
            "bin_end": 14,
            "count": 2
           }
          ]
         }
        },
        {
         "name": "tmtv",
         "dtype": "float64",
         "stats": {
          "unique_count": 354,
          "nan_count": 0,
          "min": "0.51",
          "max": "555.2399999999999",
          "histogram": [
           {
            "bin_start": 0.51,
            "bin_end": 55.98299999999999,
            "count": 252
           },
           {
            "bin_start": 55.98299999999999,
            "bin_end": 111.45599999999999,
            "count": 56
           },
           {
            "bin_start": 111.45599999999999,
            "bin_end": 166.92899999999997,
            "count": 24
           },
           {
            "bin_start": 166.92899999999997,
            "bin_end": 222.40199999999996,
            "count": 11
           },
           {
            "bin_start": 222.40199999999996,
            "bin_end": 277.87499999999994,
            "count": 11
           },
           {
            "bin_start": 277.87499999999994,
            "bin_end": 333.34799999999996,
            "count": 6
           },
           {
            "bin_start": 333.34799999999996,
            "bin_end": 388.8209999999999,
            "count": 0
           },
           {
            "bin_start": 388.8209999999999,
            "bin_end": 444.2939999999999,
            "count": 3
           },
           {
            "bin_start": 444.2939999999999,
            "bin_end": 499.76699999999994,
            "count": 2
           },
           {
            "bin_start": 499.76699999999994,
            "bin_end": 555.2399999999999,
            "count": 1
           }
          ]
         }
        },
        {
         "name": "baseline",
         "dtype": "float64",
         "stats": {
          "unique_count": 119,
          "nan_count": 0,
          "min": "0.51",
          "max": "456.16",
          "histogram": [
           {
            "bin_start": 0.51,
            "bin_end": 46.075,
            "count": 235
           },
           {
            "bin_start": 46.075,
            "bin_end": 91.64000000000001,
            "count": 80
           },
           {
            "bin_start": 91.64000000000001,
            "bin_end": 137.205,
            "count": 19
           },
           {
            "bin_start": 137.205,
            "bin_end": 182.77,
            "count": 13
           },
           {
            "bin_start": 182.77,
            "bin_end": 228.335,
            "count": 9
           },
           {
            "bin_start": 228.335,
            "bin_end": 273.90000000000003,
            "count": 2
           },
           {
            "bin_start": 273.90000000000003,
            "bin_end": 319.46500000000003,
            "count": 4
           },
           {
            "bin_start": 319.46500000000003,
            "bin_end": 365.03000000000003,
            "count": 0
           },
           {
            "bin_start": 365.03000000000003,
            "bin_end": 410.595,
            "count": 2
           },
           {
            "bin_start": 410.595,
            "bin_end": 456.16,
            "count": 2
           }
          ]
         }
        },
        {
         "name": "response",
         "dtype": "object",
         "stats": {
          "unique_count": 2,
          "nan_count": 119,
          "categories": [
           {
            "name": "PD",
            "count": 124
           },
           {
            "name": "NPD",
            "count": 123
           },
           {
            "name": "Missing",
            "count": 119
           }
          ]
         }
        },
        {
         "name": "prediction_score",
         "dtype": "object",
         "stats": {
          "unique_count": 2,
          "nan_count": 35,
          "categories": [
           {
            "name": "NPD",
            "count": 183
           },
           {
            "name": "PD",
            "count": 148
           },
           {
            "name": "Missing",
            "count": 35
           }
          ]
         }
        },
        {
         "name": "pseudorecist",
         "dtype": "object",
         "stats": {
          "unique_count": 2,
          "nan_count": 162,
          "categories": [
           {
            "name": "NPD",
            "count": 133
           },
           {
            "name": "PD",
            "count": 71
           },
           {
            "name": "Missing",
            "count": 162
           }
          ]
         }
        },
        {
         "name": "_deepnote_index_column",
         "dtype": "int64"
        }
       ],
       "rows_top": [
        {
         "gpcr_id": 34610002,
         "study_phase": -1,
         "tmtv": 36.38,
         "baseline": 36.38,
         "response": "nan",
         "prediction_score": "PD",
         "pseudorecist": "PD",
         "_deepnote_index_column": 0
        },
        {
         "gpcr_id": 34610002,
         "study_phase": 1,
         "tmtv": 255.98999999999998,
         "baseline": 36.38,
         "response": "PD",
         "prediction_score": "PD",
         "pseudorecist": "PD",
         "_deepnote_index_column": 1
        },
        {
         "gpcr_id": 34610004,
         "study_phase": -2,
         "tmtv": 16.150000000000002,
         "baseline": 16.150000000000002,
         "response": "nan",
         "prediction_score": "PD",
         "pseudorecist": "nan",
         "_deepnote_index_column": 2
        },
        {
         "gpcr_id": 34610004,
         "study_phase": -1,
         "tmtv": 16.73,
         "baseline": 16.150000000000002,
         "response": "PD",
         "prediction_score": "PD",
         "pseudorecist": "nan",
         "_deepnote_index_column": 3
        },
        {
         "gpcr_id": 34610004,
         "study_phase": 1,
         "tmtv": 23.049999999999997,
         "baseline": 16.150000000000002,
         "response": "PD",
         "prediction_score": "NPD",
         "pseudorecist": "NPD",
         "_deepnote_index_column": 4
        },
        {
         "gpcr_id": 34610004,
         "study_phase": 2,
         "tmtv": 34.84,
         "baseline": 16.150000000000002,
         "response": "PD",
         "prediction_score": "NPD",
         "pseudorecist": "NPD",
         "_deepnote_index_column": 5
        },
        {
         "gpcr_id": 34610004,
         "study_phase": 3,
         "tmtv": 6.23,
         "baseline": 16.150000000000002,
         "response": "NPD",
         "prediction_score": "PD",
         "pseudorecist": "nan",
         "_deepnote_index_column": 6
        },
        {
         "gpcr_id": 34610004,
         "study_phase": 4,
         "tmtv": 2.87,
         "baseline": 16.150000000000002,
         "response": "NPD",
         "prediction_score": "NPD",
         "pseudorecist": "nan",
         "_deepnote_index_column": 7
        },
        {
         "gpcr_id": 34610004,
         "study_phase": 5,
         "tmtv": 4.16,
         "baseline": 16.150000000000002,
         "response": "NPD",
         "prediction_score": "NPD",
         "pseudorecist": "NPD",
         "_deepnote_index_column": 8
        },
        {
         "gpcr_id": 34610004,
         "study_phase": 6,
         "tmtv": 1.42,
         "baseline": 16.150000000000002,
         "response": "NPD",
         "prediction_score": "NPD",
         "pseudorecist": "nan",
         "_deepnote_index_column": 9
        },
        {
         "gpcr_id": 34610004,
         "study_phase": 7,
         "tmtv": 0.66,
         "baseline": 16.150000000000002,
         "response": "NPD",
         "prediction_score": "PD",
         "pseudorecist": "nan",
         "_deepnote_index_column": 10
        },
        {
         "gpcr_id": 34610005,
         "study_phase": 1,
         "tmtv": 0.88,
         "baseline": 0.88,
         "response": "nan",
         "prediction_score": "NPD",
         "pseudorecist": "NPD",
         "_deepnote_index_column": 11
        },
        {
         "gpcr_id": 34610005,
         "study_phase": 2,
         "tmtv": 27.019999999999996,
         "baseline": 0.88,
         "response": "PD",
         "prediction_score": "nan",
         "pseudorecist": "nan",
         "_deepnote_index_column": 12
        },
        {
         "gpcr_id": 34610005,
         "study_phase": 4,
         "tmtv": 9.76,
         "baseline": 0.88,
         "response": "PD",
         "prediction_score": "NPD",
         "pseudorecist": "NPD",
         "_deepnote_index_column": 13
        },
        {
         "gpcr_id": 34610005,
         "study_phase": 5,
         "tmtv": 8.88,
         "baseline": 0.88,
         "response": "PD",
         "prediction_score": "nan",
         "pseudorecist": "nan",
         "_deepnote_index_column": 14
        },
        {
         "gpcr_id": 34610005,
         "study_phase": 7,
         "tmtv": 20.2,
         "baseline": 0.88,
         "response": "PD",
         "prediction_score": "NPD",
         "pseudorecist": "nan",
         "_deepnote_index_column": 15
        },
        {
         "gpcr_id": 34610005,
         "study_phase": 8,
         "tmtv": 128.52,
         "baseline": 0.88,
         "response": "PD",
         "prediction_score": "NPD",
         "pseudorecist": "NPD",
         "_deepnote_index_column": 16
        },
        {
         "gpcr_id": 34610005,
         "study_phase": 9,
         "tmtv": 33.57,
         "baseline": 0.88,
         "response": "PD",
         "prediction_score": "nan",
         "pseudorecist": "nan",
         "_deepnote_index_column": 17
        },
        {
         "gpcr_id": 34610005,
         "study_phase": 10,
         "tmtv": 66.21,
         "baseline": 0.88,
         "response": "PD",
         "prediction_score": "NPD",
         "pseudorecist": "NPD",
         "_deepnote_index_column": 18
        },
        {
         "gpcr_id": 34610006,
         "study_phase": -1,
         "tmtv": 57.769999999999996,
         "baseline": 57.769999999999996,
         "response": "nan",
         "prediction_score": "PD",
         "pseudorecist": "nan",
         "_deepnote_index_column": 19
        },
        {
         "gpcr_id": 34610006,
         "study_phase": 1,
         "tmtv": 22.47,
         "baseline": 57.769999999999996,
         "response": "NPD",
         "prediction_score": "nan",
         "pseudorecist": "nan",
         "_deepnote_index_column": 20
        },
        {
         "gpcr_id": 34610006,
         "study_phase": 2,
         "tmtv": 8.66,
         "baseline": 57.769999999999996,
         "response": "NPD",
         "prediction_score": "NPD",
         "pseudorecist": "NPD",
         "_deepnote_index_column": 21
        },
        {
         "gpcr_id": 34610006,
         "study_phase": 3,
         "tmtv": 268.30999999999995,
         "baseline": 57.769999999999996,
         "response": "PD",
         "prediction_score": "NPD",
         "pseudorecist": "NPD",
         "_deepnote_index_column": 22
        },
        {
         "gpcr_id": 34610006,
         "study_phase": 4,
         "tmtv": 5.65,
         "baseline": 57.769999999999996,
         "response": "NPD",
         "prediction_score": "NPD",
         "pseudorecist": "NPD",
         "_deepnote_index_column": 23
        },
        {
         "gpcr_id": 34610006,
         "study_phase": 5,
         "tmtv": 20.73,
         "baseline": 57.769999999999996,
         "response": "NPD",
         "prediction_score": "PD",
         "pseudorecist": "PD",
         "_deepnote_index_column": 24
        },
        {
         "gpcr_id": 34610006,
         "study_phase": 6,
         "tmtv": 4.24,
         "baseline": 57.769999999999996,
         "response": "NPD",
         "prediction_score": "NPD",
         "pseudorecist": "NPD",
         "_deepnote_index_column": 25
        },
        {
         "gpcr_id": 34610006,
         "study_phase": 7,
         "tmtv": 7.220000000000001,
         "baseline": 57.769999999999996,
         "response": "NPD",
         "prediction_score": "NPD",
         "pseudorecist": "nan",
         "_deepnote_index_column": 26
        },
        {
         "gpcr_id": 34610006,
         "study_phase": 8,
         "tmtv": 10.17,
         "baseline": 57.769999999999996,
         "response": "NPD",
         "prediction_score": "NPD",
         "pseudorecist": "nan",
         "_deepnote_index_column": 27
        },
        {
         "gpcr_id": 34610007,
         "study_phase": -1,
         "tmtv": 18.950000000000003,
         "baseline": 18.950000000000003,
         "response": "nan",
         "prediction_score": "PD",
         "pseudorecist": "nan",
         "_deepnote_index_column": 28
        },
        {
         "gpcr_id": 34610007,
         "study_phase": 1,
         "tmtv": 78.53,
         "baseline": 18.950000000000003,
         "response": "PD",
         "prediction_score": "NPD",
         "pseudorecist": "NPD",
         "_deepnote_index_column": 29
        },
        {
         "gpcr_id": 34610007,
         "study_phase": 2,
         "tmtv": 71.03,
         "baseline": 18.950000000000003,
         "response": "PD",
         "prediction_score": "NPD",
         "pseudorecist": "NPD",
         "_deepnote_index_column": 30
        },
        {
         "gpcr_id": 34610007,
         "study_phase": 3,
         "tmtv": 2.59,
         "baseline": 18.950000000000003,
         "response": "NPD",
         "prediction_score": "NPD",
         "pseudorecist": "NPD",
         "_deepnote_index_column": 31
        },
        {
         "gpcr_id": 34610007,
         "study_phase": 4,
         "tmtv": 4.449999999999999,
         "baseline": 18.950000000000003,
         "response": "NPD",
         "prediction_score": "NPD",
         "pseudorecist": "NPD",
         "_deepnote_index_column": 32
        },
        {
         "gpcr_id": 34610009,
         "study_phase": 1,
         "tmtv": 106.25,
         "baseline": 106.25,
         "response": "nan",
         "prediction_score": "NPD",
         "pseudorecist": "nan",
         "_deepnote_index_column": 33
        },
        {
         "gpcr_id": 34610010,
         "study_phase": 1,
         "tmtv": 61.19,
         "baseline": 61.19,
         "response": "nan",
         "prediction_score": "PD",
         "pseudorecist": "nan",
         "_deepnote_index_column": 34
        },
        {
         "gpcr_id": 34610010,
         "study_phase": 3,
         "tmtv": 38.059999999999995,
         "baseline": 61.19,
         "response": "NPD",
         "prediction_score": "NPD",
         "pseudorecist": "NPD",
         "_deepnote_index_column": 35
        },
        {
         "gpcr_id": 34610010,
         "study_phase": 4,
         "tmtv": 15.99,
         "baseline": 61.19,
         "response": "NPD",
         "prediction_score": "NPD",
         "pseudorecist": "NPD",
         "_deepnote_index_column": 36
        },
        {
         "gpcr_id": 34610010,
         "study_phase": 5,
         "tmtv": 18,
         "baseline": 61.19,
         "response": "NPD",
         "prediction_score": "NPD",
         "pseudorecist": "nan",
         "_deepnote_index_column": 37
        },
        {
         "gpcr_id": 34610011,
         "study_phase": 1,
         "tmtv": 30.4,
         "baseline": 30.4,
         "response": "nan",
         "prediction_score": "PD",
         "pseudorecist": "nan",
         "_deepnote_index_column": 38
        },
        {
         "gpcr_id": 34610011,
         "study_phase": 2,
         "tmtv": 66.14,
         "baseline": 30.4,
         "response": "PD",
         "prediction_score": "NPD",
         "pseudorecist": "NPD",
         "_deepnote_index_column": 39
        },
        {
         "gpcr_id": 34610011,
         "study_phase": 4,
         "tmtv": 21.46,
         "baseline": 30.4,
         "response": "NPD",
         "prediction_score": "NPD",
         "pseudorecist": "NPD",
         "_deepnote_index_column": 40
        },
        {
         "gpcr_id": 34610011,
         "study_phase": 5,
         "tmtv": 8.83,
         "baseline": 30.4,
         "response": "NPD",
         "prediction_score": "NPD",
         "pseudorecist": "NPD",
         "_deepnote_index_column": 41
        },
        {
         "gpcr_id": 34610011,
         "study_phase": 7,
         "tmtv": 0.81,
         "baseline": 30.4,
         "response": "NPD",
         "prediction_score": "NPD",
         "pseudorecist": "nan",
         "_deepnote_index_column": 42
        },
        {
         "gpcr_id": 34610011,
         "study_phase": 8,
         "tmtv": 1.25,
         "baseline": 30.4,
         "response": "NPD",
         "prediction_score": "PD",
         "pseudorecist": "nan",
         "_deepnote_index_column": 43
        },
        {
         "gpcr_id": 34610011,
         "study_phase": 9,
         "tmtv": 1.08,
         "baseline": 30.4,
         "response": "NPD",
         "prediction_score": "NPD",
         "pseudorecist": "NPD",
         "_deepnote_index_column": 44
        },
        {
         "gpcr_id": 34610011,
         "study_phase": 10,
         "tmtv": 0.86,
         "baseline": 30.4,
         "response": "NPD",
         "prediction_score": "nan",
         "pseudorecist": "nan",
         "_deepnote_index_column": 45
        },
        {
         "gpcr_id": 34610011,
         "study_phase": 11,
         "tmtv": 18.14,
         "baseline": 30.4,
         "response": "NPD",
         "prediction_score": "NPD",
         "pseudorecist": "NPD",
         "_deepnote_index_column": 46
        },
        {
         "gpcr_id": 34610011,
         "study_phase": 12,
         "tmtv": 1.78,
         "baseline": 30.4,
         "response": "NPD",
         "prediction_score": "NPD",
         "pseudorecist": "NPD",
         "_deepnote_index_column": 47
        },
        {
         "gpcr_id": 34610011,
         "study_phase": 13,
         "tmtv": 177.07,
         "baseline": 30.4,
         "response": "PD",
         "prediction_score": "NPD",
         "pseudorecist": "NPD",
         "_deepnote_index_column": 48
        },
        {
         "gpcr_id": 34610011,
         "study_phase": 14,
         "tmtv": 1.66,
         "baseline": 30.4,
         "response": "NPD",
         "prediction_score": "NPD",
         "pseudorecist": "nan",
         "_deepnote_index_column": 49
        },
        {
         "gpcr_id": 34610012,
         "study_phase": 1,
         "tmtv": 3.1,
         "baseline": 3.1,
         "response": "nan",
         "prediction_score": "nan",
         "pseudorecist": "nan",
         "_deepnote_index_column": 50
        },
        {
         "gpcr_id": 34610013,
         "study_phase": 1,
         "tmtv": 1.25,
         "baseline": 1.25,
         "response": "nan",
         "prediction_score": "nan",
         "pseudorecist": "nan",
         "_deepnote_index_column": 51
        },
        {
         "gpcr_id": 34610013,
         "study_phase": 2,
         "tmtv": 1.64,
         "baseline": 1.25,
         "response": "PD",
         "prediction_score": "PD",
         "pseudorecist": "PD",
         "_deepnote_index_column": 52
        },
        {
         "gpcr_id": 34610013,
         "study_phase": 3,
         "tmtv": 78.02000000000001,
         "baseline": 1.25,
         "response": "PD",
         "prediction_score": "PD",
         "pseudorecist": "PD",
         "_deepnote_index_column": 53
        },
        {
         "gpcr_id": 34610013,
         "study_phase": 4,
         "tmtv": 0.54,
         "baseline": 1.25,
         "response": "NPD",
         "prediction_score": "PD",
         "pseudorecist": "PD",
         "_deepnote_index_column": 54
        },
        {
         "gpcr_id": 34610013,
         "study_phase": 5,
         "tmtv": 25.230000000000004,
         "baseline": 1.25,
         "response": "PD",
         "prediction_score": "PD",
         "pseudorecist": "nan",
         "_deepnote_index_column": 55
        },
        {
         "gpcr_id": 34610014,
         "study_phase": 1,
         "tmtv": 32.42000000000001,
         "baseline": 32.42000000000001,
         "response": "nan",
         "prediction_score": "NPD",
         "pseudorecist": "nan",
         "_deepnote_index_column": 56
        },
        {
         "gpcr_id": 34610014,
         "study_phase": 2,
         "tmtv": 63.84999999999998,
         "baseline": 32.42000000000001,
         "response": "PD",
         "prediction_score": "PD",
         "pseudorecist": "PD",
         "_deepnote_index_column": 57
        },
        {
         "gpcr_id": 34610015,
         "study_phase": -1,
         "tmtv": 5.84,
         "baseline": 5.84,
         "response": "nan",
         "prediction_score": "PD",
         "pseudorecist": "nan",
         "_deepnote_index_column": 58
        },
        {
         "gpcr_id": 34610015,
         "study_phase": 1,
         "tmtv": 48.72,
         "baseline": 5.84,
         "response": "PD",
         "prediction_score": "NPD",
         "pseudorecist": "NPD",
         "_deepnote_index_column": 59
        },
        {
         "gpcr_id": 34610015,
         "study_phase": 2,
         "tmtv": 19.68,
         "baseline": 5.84,
         "response": "PD",
         "prediction_score": "NPD",
         "pseudorecist": "NPD",
         "_deepnote_index_column": 60
        },
        {
         "gpcr_id": 34610016,
         "study_phase": -1,
         "tmtv": 10.32,
         "baseline": 10.32,
         "response": "nan",
         "prediction_score": "PD",
         "pseudorecist": "nan",
         "_deepnote_index_column": 61
        },
        {
         "gpcr_id": 34610017,
         "study_phase": 1,
         "tmtv": 8.32,
         "baseline": 8.32,
         "response": "nan",
         "prediction_score": "PD",
         "pseudorecist": "PD",
         "_deepnote_index_column": 62
        },
        {
         "gpcr_id": 34610017,
         "study_phase": 2,
         "tmtv": 201.24999999999997,
         "baseline": 8.32,
         "response": "PD",
         "prediction_score": "PD",
         "pseudorecist": "nan",
         "_deepnote_index_column": 63
        },
        {
         "gpcr_id": 34610018,
         "study_phase": -1,
         "tmtv": 207.95999999999998,
         "baseline": 207.95999999999998,
         "response": "nan",
         "prediction_score": "PD",
         "pseudorecist": "nan",
         "_deepnote_index_column": 64
        },
        {
         "gpcr_id": 34610020,
         "study_phase": -1,
         "tmtv": 79.64999999999999,
         "baseline": 79.64999999999999,
         "response": "nan",
         "prediction_score": "PD",
         "pseudorecist": "nan",
         "_deepnote_index_column": 65
        },
        {
         "gpcr_id": 34610020,
         "study_phase": 1,
         "tmtv": 60.300000000000004,
         "baseline": 79.64999999999999,
         "response": "NPD",
         "prediction_score": "NPD",
         "pseudorecist": "NPD",
         "_deepnote_index_column": 66
        },
        {
         "gpcr_id": 34610020,
         "study_phase": 2,
         "tmtv": 64.42,
         "baseline": 79.64999999999999,
         "response": "NPD",
         "prediction_score": "NPD",
         "pseudorecist": "NPD",
         "_deepnote_index_column": 67
        },
        {
         "gpcr_id": 34610021,
         "study_phase": 1,
         "tmtv": 51.85,
         "baseline": 51.85,
         "response": "nan",
         "prediction_score": "PD",
         "pseudorecist": "PD",
         "_deepnote_index_column": 68
        },
        {
         "gpcr_id": 34610021,
         "study_phase": 2,
         "tmtv": 74.91,
         "baseline": 51.85,
         "response": "PD",
         "prediction_score": "PD",
         "pseudorecist": "PD",
         "_deepnote_index_column": 69
        },
        {
         "gpcr_id": 34610021,
         "study_phase": 3,
         "tmtv": 184.53,
         "baseline": 51.85,
         "response": "PD",
         "prediction_score": "NPD",
         "pseudorecist": "NPD",
         "_deepnote_index_column": 70
        }
       ],
       "rows_bottom": [
        {
         "gpcr_id": 34610118,
         "study_phase": 3,
         "tmtv": 68.99000000000001,
         "baseline": 11.27,
         "response": "PD",
         "prediction_score": "nan",
         "pseudorecist": "nan",
         "_deepnote_index_column": 295
        },
        {
         "gpcr_id": 34610118,
         "study_phase": 4,
         "tmtv": 58.28000000000001,
         "baseline": 11.27,
         "response": "PD",
         "prediction_score": "nan",
         "pseudorecist": "nan",
         "_deepnote_index_column": 296
        },
        {
         "gpcr_id": 34610118,
         "study_phase": 5,
         "tmtv": 103.5,
         "baseline": 11.27,
         "response": "PD",
         "prediction_score": "PD",
         "pseudorecist": "PD",
         "_deepnote_index_column": 297
        },
        {
         "gpcr_id": 34610118,
         "study_phase": 6,
         "tmtv": 108.76000000000002,
         "baseline": 11.27,
         "response": "PD",
         "prediction_score": "PD",
         "pseudorecist": "PD",
         "_deepnote_index_column": 298
        },
        {
         "gpcr_id": 34610119,
         "study_phase": -1,
         "tmtv": 22.389999999999997,
         "baseline": 22.389999999999997,
         "response": "nan",
         "prediction_score": "PD",
         "pseudorecist": "nan",
         "_deepnote_index_column": 299
        },
        {
         "gpcr_id": 34610119,
         "study_phase": 1,
         "tmtv": 13.670000000000002,
         "baseline": 22.389999999999997,
         "response": "NPD",
         "prediction_score": "NPD",
         "pseudorecist": "NPD",
         "_deepnote_index_column": 300
        },
        {
         "gpcr_id": 34610119,
         "study_phase": 2,
         "tmtv": 6.75,
         "baseline": 22.389999999999997,
         "response": "NPD",
         "prediction_score": "NPD",
         "pseudorecist": "NPD",
         "_deepnote_index_column": 301
        },
        {
         "gpcr_id": 34610119,
         "study_phase": 3,
         "tmtv": 255.01,
         "baseline": 22.389999999999997,
         "response": "PD",
         "prediction_score": "NPD",
         "pseudorecist": "NPD",
         "_deepnote_index_column": 302
        },
        {
         "gpcr_id": 34610119,
         "study_phase": 4,
         "tmtv": 5.55,
         "baseline": 22.389999999999997,
         "response": "NPD",
         "prediction_score": "NPD",
         "pseudorecist": "NPD",
         "_deepnote_index_column": 303
        },
        {
         "gpcr_id": 34610119,
         "study_phase": 5,
         "tmtv": 10.729999999999999,
         "baseline": 22.389999999999997,
         "response": "NPD",
         "prediction_score": "NPD",
         "pseudorecist": "NPD",
         "_deepnote_index_column": 304
        },
        {
         "gpcr_id": 34610120,
         "study_phase": -1,
         "tmtv": 224.12,
         "baseline": 224.12,
         "response": "nan",
         "prediction_score": "nan",
         "pseudorecist": "nan",
         "_deepnote_index_column": 305
        },
        {
         "gpcr_id": 34610121,
         "study_phase": 1,
         "tmtv": 29.080000000000002,
         "baseline": 29.080000000000002,
         "response": "nan",
         "prediction_score": "NPD",
         "pseudorecist": "NPD",
         "_deepnote_index_column": 306
        },
        {
         "gpcr_id": 34610121,
         "study_phase": 2,
         "tmtv": 27.89,
         "baseline": 29.080000000000002,
         "response": "NPD",
         "prediction_score": "NPD",
         "pseudorecist": "NPD",
         "_deepnote_index_column": 307
        },
        {
         "gpcr_id": 34610122,
         "study_phase": -1,
         "tmtv": 38.14,
         "baseline": 38.14,
         "response": "nan",
         "prediction_score": "PD",
         "pseudorecist": "nan",
         "_deepnote_index_column": 308
        },
        {
         "gpcr_id": 34610122,
         "study_phase": 1,
         "tmtv": 50.42,
         "baseline": 38.14,
         "response": "PD",
         "prediction_score": "PD",
         "pseudorecist": "PD",
         "_deepnote_index_column": 309
        },
        {
         "gpcr_id": 34610123,
         "study_phase": -1,
         "tmtv": 91.69999999999999,
         "baseline": 91.69999999999999,
         "response": "nan",
         "prediction_score": "PD",
         "pseudorecist": "nan",
         "_deepnote_index_column": 310
        },
        {
         "gpcr_id": 34610123,
         "study_phase": 2,
         "tmtv": 132.56,
         "baseline": 91.69999999999999,
         "response": "PD",
         "prediction_score": "NPD",
         "pseudorecist": "NPD",
         "_deepnote_index_column": 311
        },
        {
         "gpcr_id": 34610124,
         "study_phase": 1,
         "tmtv": 0.64,
         "baseline": 0.64,
         "response": "nan",
         "prediction_score": "nan",
         "pseudorecist": "nan",
         "_deepnote_index_column": 312
        },
        {
         "gpcr_id": 34610124,
         "study_phase": 2,
         "tmtv": 8.58,
         "baseline": 0.64,
         "response": "PD",
         "prediction_score": "nan",
         "pseudorecist": "nan",
         "_deepnote_index_column": 313
        },
        {
         "gpcr_id": 34610124,
         "study_phase": 3,
         "tmtv": 10.71,
         "baseline": 0.64,
         "response": "PD",
         "prediction_score": "PD",
         "pseudorecist": "PD",
         "_deepnote_index_column": 314
        },
        {
         "gpcr_id": 34610125,
         "study_phase": 1,
         "tmtv": 25.88,
         "baseline": 25.88,
         "response": "nan",
         "prediction_score": "NPD",
         "pseudorecist": "NPD",
         "_deepnote_index_column": 315
        },
        {
         "gpcr_id": 34610125,
         "study_phase": 2,
         "tmtv": 6.71,
         "baseline": 25.88,
         "response": "NPD",
         "prediction_score": "NPD",
         "pseudorecist": "NPD",
         "_deepnote_index_column": 316
        },
        {
         "gpcr_id": 34610125,
         "study_phase": 3,
         "tmtv": 3.96,
         "baseline": 25.88,
         "response": "NPD",
         "prediction_score": "NPD",
         "pseudorecist": "NPD",
         "_deepnote_index_column": 317
        },
        {
         "gpcr_id": 34610125,
         "study_phase": 5,
         "tmtv": 6.9,
         "baseline": 25.88,
         "response": "NPD",
         "prediction_score": "NPD",
         "pseudorecist": "NPD",
         "_deepnote_index_column": 318
        },
        {
         "gpcr_id": 34610125,
         "study_phase": 6,
         "tmtv": 2,
         "baseline": 25.88,
         "response": "NPD",
         "prediction_score": "NPD",
         "pseudorecist": "NPD",
         "_deepnote_index_column": 319
        },
        {
         "gpcr_id": 34610126,
         "study_phase": -2,
         "tmtv": 10.98,
         "baseline": 10.98,
         "response": "nan",
         "prediction_score": "PD",
         "pseudorecist": "nan",
         "_deepnote_index_column": 320
        },
        {
         "gpcr_id": 34610126,
         "study_phase": -1,
         "tmtv": 18.22,
         "baseline": 10.98,
         "response": "PD",
         "prediction_score": "NPD",
         "pseudorecist": "nan",
         "_deepnote_index_column": 321
        },
        {
         "gpcr_id": 34610126,
         "study_phase": 1,
         "tmtv": 33.230000000000004,
         "baseline": 10.98,
         "response": "PD",
         "prediction_score": "PD",
         "pseudorecist": "PD",
         "_deepnote_index_column": 322
        },
        {
         "gpcr_id": 34610126,
         "study_phase": 2,
         "tmtv": 41.5,
         "baseline": 10.98,
         "response": "PD",
         "prediction_score": "NPD",
         "pseudorecist": "NPD",
         "_deepnote_index_column": 323
        },
        {
         "gpcr_id": 34610127,
         "study_phase": -1,
         "tmtv": 69.95,
         "baseline": 69.95,
         "response": "nan",
         "prediction_score": "PD",
         "pseudorecist": "nan",
         "_deepnote_index_column": 324
        },
        {
         "gpcr_id": 34610131,
         "study_phase": -1,
         "tmtv": 6.9399999999999995,
         "baseline": 6.9399999999999995,
         "response": "nan",
         "prediction_score": "PD",
         "pseudorecist": "nan",
         "_deepnote_index_column": 325
        },
        {
         "gpcr_id": 34610131,
         "study_phase": 1,
         "tmtv": 391.83,
         "baseline": 6.9399999999999995,
         "response": "PD",
         "prediction_score": "NPD",
         "pseudorecist": "NPD",
         "_deepnote_index_column": 326
        },
        {
         "gpcr_id": 34610131,
         "study_phase": 2,
         "tmtv": 44.97,
         "baseline": 6.9399999999999995,
         "response": "PD",
         "prediction_score": "PD",
         "pseudorecist": "PD",
         "_deepnote_index_column": 327
        },
        {
         "gpcr_id": 34610131,
         "study_phase": 3,
         "tmtv": 54.86999999999999,
         "baseline": 6.9399999999999995,
         "response": "PD",
         "prediction_score": "NPD",
         "pseudorecist": "NPD",
         "_deepnote_index_column": 328
        },
        {
         "gpcr_id": 34610132,
         "study_phase": -1,
         "tmtv": 18.869999999999997,
         "baseline": 18.869999999999997,
         "response": "nan",
         "prediction_score": "PD",
         "pseudorecist": "nan",
         "_deepnote_index_column": 329
        },
        {
         "gpcr_id": 34610133,
         "study_phase": -1,
         "tmtv": 146.47999999999996,
         "baseline": 146.47999999999996,
         "response": "nan",
         "prediction_score": "PD",
         "pseudorecist": "PD",
         "_deepnote_index_column": 330
        },
        {
         "gpcr_id": 34610133,
         "study_phase": 1,
         "tmtv": 249.29,
         "baseline": 146.47999999999996,
         "response": "PD",
         "prediction_score": "PD",
         "pseudorecist": "PD",
         "_deepnote_index_column": 331
        },
        {
         "gpcr_id": 34610134,
         "study_phase": -1,
         "tmtv": 3.3,
         "baseline": 3.3,
         "response": "nan",
         "prediction_score": "NPD",
         "pseudorecist": "nan",
         "_deepnote_index_column": 332
        },
        {
         "gpcr_id": 34610134,
         "study_phase": 1,
         "tmtv": 20.71,
         "baseline": 3.3,
         "response": "PD",
         "prediction_score": "PD",
         "pseudorecist": "PD",
         "_deepnote_index_column": 333
        },
        {
         "gpcr_id": 34610134,
         "study_phase": 2,
         "tmtv": 26.380000000000003,
         "baseline": 3.3,
         "response": "PD",
         "prediction_score": "PD",
         "pseudorecist": "PD",
         "_deepnote_index_column": 334
        },
        {
         "gpcr_id": 34610135,
         "study_phase": -1,
         "tmtv": 396.1300000000002,
         "baseline": 396.1300000000002,
         "response": "nan",
         "prediction_score": "PD",
         "pseudorecist": "nan",
         "_deepnote_index_column": 335
        },
        {
         "gpcr_id": 34610136,
         "study_phase": -1,
         "tmtv": 288.88,
         "baseline": 288.88,
         "response": "nan",
         "prediction_score": "NPD",
         "pseudorecist": "nan",
         "_deepnote_index_column": 336
        },
        {
         "gpcr_id": 34610136,
         "study_phase": 1,
         "tmtv": 256.6,
         "baseline": 288.88,
         "response": "NPD",
         "prediction_score": "PD",
         "pseudorecist": "PD",
         "_deepnote_index_column": 337
        },
        {
         "gpcr_id": 34610137,
         "study_phase": 2,
         "tmtv": 48.870000000000005,
         "baseline": 48.870000000000005,
         "response": "nan",
         "prediction_score": "NPD",
         "pseudorecist": "nan",
         "_deepnote_index_column": 338
        },
        {
         "gpcr_id": 34610137,
         "study_phase": 3,
         "tmtv": 52.57000000000001,
         "baseline": 48.870000000000005,
         "response": "PD",
         "prediction_score": "PD",
         "pseudorecist": "PD",
         "_deepnote_index_column": 339
        },
        {
         "gpcr_id": 34610138,
         "study_phase": -2,
         "tmtv": 2.83,
         "baseline": 2.83,
         "response": "nan",
         "prediction_score": "NPD",
         "pseudorecist": "nan",
         "_deepnote_index_column": 340
        },
        {
         "gpcr_id": 34610138,
         "study_phase": -1,
         "tmtv": 5.11,
         "baseline": 2.83,
         "response": "PD",
         "prediction_score": "PD",
         "pseudorecist": "nan",
         "_deepnote_index_column": 341
        },
        {
         "gpcr_id": 34610139,
         "study_phase": -1,
         "tmtv": 9.9,
         "baseline": 9.9,
         "response": "nan",
         "prediction_score": "PD",
         "pseudorecist": "nan",
         "_deepnote_index_column": 342
        },
        {
         "gpcr_id": 34610139,
         "study_phase": 1,
         "tmtv": 0.54,
         "baseline": 9.9,
         "response": "NPD",
         "prediction_score": "PD",
         "pseudorecist": "PD",
         "_deepnote_index_column": 343
        },
        {
         "gpcr_id": 34610140,
         "study_phase": -1,
         "tmtv": 0.51,
         "baseline": 0.51,
         "response": "nan",
         "prediction_score": "NPD",
         "pseudorecist": "nan",
         "_deepnote_index_column": 344
        },
        {
         "gpcr_id": 34610140,
         "study_phase": 1,
         "tmtv": 6.83,
         "baseline": 0.51,
         "response": "PD",
         "prediction_score": "PD",
         "pseudorecist": "nan",
         "_deepnote_index_column": 345
        },
        {
         "gpcr_id": 34610141,
         "study_phase": -1,
         "tmtv": 89.83000000000001,
         "baseline": 89.83000000000001,
         "response": "nan",
         "prediction_score": "PD",
         "pseudorecist": "nan",
         "_deepnote_index_column": 346
        },
        {
         "gpcr_id": 34610141,
         "study_phase": 1,
         "tmtv": 487.7700000000001,
         "baseline": 89.83000000000001,
         "response": "PD",
         "prediction_score": "PD",
         "pseudorecist": "PD",
         "_deepnote_index_column": 347
        },
        {
         "gpcr_id": 34610142,
         "study_phase": -1,
         "tmtv": 155.46,
         "baseline": 155.46,
         "response": "nan",
         "prediction_score": "PD",
         "pseudorecist": "nan",
         "_deepnote_index_column": 348
        },
        {
         "gpcr_id": 34610143,
         "study_phase": -1,
         "tmtv": 4.2,
         "baseline": 4.2,
         "response": "nan",
         "prediction_score": "PD",
         "pseudorecist": "nan",
         "_deepnote_index_column": 349
        },
        {
         "gpcr_id": 34610143,
         "study_phase": 1,
         "tmtv": 94.49,
         "baseline": 4.2,
         "response": "PD",
         "prediction_score": "NPD",
         "pseudorecist": "NPD",
         "_deepnote_index_column": 350
        },
        {
         "gpcr_id": 34610143,
         "study_phase": 3,
         "tmtv": 132.83,
         "baseline": 4.2,
         "response": "PD",
         "prediction_score": "NPD",
         "pseudorecist": "NPD",
         "_deepnote_index_column": 351
        },
        {
         "gpcr_id": 34610144,
         "study_phase": 1,
         "tmtv": 87.4,
         "baseline": 87.4,
         "response": "nan",
         "prediction_score": "PD",
         "pseudorecist": "PD",
         "_deepnote_index_column": 352
        },
        {
         "gpcr_id": 34610144,
         "study_phase": 2,
         "tmtv": 10.32,
         "baseline": 87.4,
         "response": "NPD",
         "prediction_score": "PD",
         "pseudorecist": "PD",
         "_deepnote_index_column": 353
        },
        {
         "gpcr_id": 34610145,
         "study_phase": -2,
         "tmtv": 9.46,
         "baseline": 9.46,
         "response": "nan",
         "prediction_score": "NPD",
         "pseudorecist": "nan",
         "_deepnote_index_column": 354
        },
        {
         "gpcr_id": 34610145,
         "study_phase": -1,
         "tmtv": 0.86,
         "baseline": 9.46,
         "response": "NPD",
         "prediction_score": "PD",
         "pseudorecist": "nan",
         "_deepnote_index_column": 355
        },
        {
         "gpcr_id": 34610145,
         "study_phase": 1,
         "tmtv": 157.02999999999997,
         "baseline": 9.46,
         "response": "PD",
         "prediction_score": "PD",
         "pseudorecist": "PD",
         "_deepnote_index_column": 356
        },
        {
         "gpcr_id": 34610146,
         "study_phase": 1,
         "tmtv": 28.799999999999994,
         "baseline": 28.799999999999994,
         "response": "nan",
         "prediction_score": "PD",
         "pseudorecist": "PD",
         "_deepnote_index_column": 357
        },
        {
         "gpcr_id": 34610146,
         "study_phase": 3,
         "tmtv": 131.81,
         "baseline": 28.799999999999994,
         "response": "PD",
         "prediction_score": "NPD",
         "pseudorecist": "NPD",
         "_deepnote_index_column": 358
        },
        {
         "gpcr_id": 34610147,
         "study_phase": -1,
         "tmtv": 35.23,
         "baseline": 35.23,
         "response": "nan",
         "prediction_score": "PD",
         "pseudorecist": "nan",
         "_deepnote_index_column": 359
        },
        {
         "gpcr_id": 34610148,
         "study_phase": 1,
         "tmtv": 35.91,
         "baseline": 35.91,
         "response": "nan",
         "prediction_score": "PD",
         "pseudorecist": "nan",
         "_deepnote_index_column": 360
        },
        {
         "gpcr_id": 34610148,
         "study_phase": 2,
         "tmtv": 555.2399999999999,
         "baseline": 35.91,
         "response": "PD",
         "prediction_score": "NPD",
         "pseudorecist": "nan",
         "_deepnote_index_column": 361
        },
        {
         "gpcr_id": 34610148,
         "study_phase": 3,
         "tmtv": 1.15,
         "baseline": 35.91,
         "response": "NPD",
         "prediction_score": "NPD",
         "pseudorecist": "NPD",
         "_deepnote_index_column": 362
        },
        {
         "gpcr_id": 34610149,
         "study_phase": -1,
         "tmtv": 3.03,
         "baseline": 3.03,
         "response": "nan",
         "prediction_score": "PD",
         "pseudorecist": "nan",
         "_deepnote_index_column": 363
        },
        {
         "gpcr_id": 34610149,
         "study_phase": 1,
         "tmtv": 26.360000000000007,
         "baseline": 3.03,
         "response": "PD",
         "prediction_score": "nan",
         "pseudorecist": "nan",
         "_deepnote_index_column": 364
        },
        {
         "gpcr_id": 34610149,
         "study_phase": 2,
         "tmtv": 27.77,
         "baseline": 3.03,
         "response": "PD",
         "prediction_score": "nan",
         "pseudorecist": "nan",
         "_deepnote_index_column": 365
        }
       ]
      },
      "text/plain": "      gpcr_id  study_phase    tmtv  baseline response prediction_score  \\\n0    34610002           -1   36.38     36.38      NaN               PD   \n1    34610002            1  255.99     36.38       PD               PD   \n2    34610004           -2   16.15     16.15      NaN               PD   \n3    34610004           -1   16.73     16.15       PD               PD   \n4    34610004            1   23.05     16.15       PD              NPD   \n..        ...          ...     ...       ...      ...              ...   \n361  34610148            2  555.24     35.91       PD              NPD   \n362  34610148            3    1.15     35.91      NPD              NPD   \n363  34610149           -1    3.03      3.03      NaN               PD   \n364  34610149            1   26.36      3.03       PD              NaN   \n365  34610149            2   27.77      3.03       PD              NaN   \n\n    pseudorecist  \n0             PD  \n1             PD  \n2            NaN  \n3            NaN  \n4            NPD  \n..           ...  \n361          NaN  \n362          NPD  \n363          NaN  \n364          NaN  \n365          NaN  \n\n[366 rows x 7 columns]",
      "text/html": "<div>\n<style scoped>\n    .dataframe tbody tr th:only-of-type {\n        vertical-align: middle;\n    }\n\n    .dataframe tbody tr th {\n        vertical-align: top;\n    }\n\n    .dataframe thead th {\n        text-align: right;\n    }\n</style>\n<table border=\"1\" class=\"dataframe\">\n  <thead>\n    <tr style=\"text-align: right;\">\n      <th></th>\n      <th>gpcr_id</th>\n      <th>study_phase</th>\n      <th>tmtv</th>\n      <th>baseline</th>\n      <th>response</th>\n      <th>prediction_score</th>\n      <th>pseudorecist</th>\n    </tr>\n  </thead>\n  <tbody>\n    <tr>\n      <th>0</th>\n      <td>34610002</td>\n      <td>-1</td>\n      <td>36.38</td>\n      <td>36.38</td>\n      <td>NaN</td>\n      <td>PD</td>\n      <td>PD</td>\n    </tr>\n    <tr>\n      <th>1</th>\n      <td>34610002</td>\n      <td>1</td>\n      <td>255.99</td>\n      <td>36.38</td>\n      <td>PD</td>\n      <td>PD</td>\n      <td>PD</td>\n    </tr>\n    <tr>\n      <th>2</th>\n      <td>34610004</td>\n      <td>-2</td>\n      <td>16.15</td>\n      <td>16.15</td>\n      <td>NaN</td>\n      <td>PD</td>\n      <td>NaN</td>\n    </tr>\n    <tr>\n      <th>3</th>\n      <td>34610004</td>\n      <td>-1</td>\n      <td>16.73</td>\n      <td>16.15</td>\n      <td>PD</td>\n      <td>PD</td>\n      <td>NaN</td>\n    </tr>\n    <tr>\n      <th>4</th>\n      <td>34610004</td>\n      <td>1</td>\n      <td>23.05</td>\n      <td>16.15</td>\n      <td>PD</td>\n      <td>NPD</td>\n      <td>NPD</td>\n    </tr>\n    <tr>\n      <th>...</th>\n      <td>...</td>\n      <td>...</td>\n      <td>...</td>\n      <td>...</td>\n      <td>...</td>\n      <td>...</td>\n      <td>...</td>\n    </tr>\n    <tr>\n      <th>361</th>\n      <td>34610148</td>\n      <td>2</td>\n      <td>555.24</td>\n      <td>35.91</td>\n      <td>PD</td>\n      <td>NPD</td>\n      <td>NaN</td>\n    </tr>\n    <tr>\n      <th>362</th>\n      <td>34610148</td>\n      <td>3</td>\n      <td>1.15</td>\n      <td>35.91</td>\n      <td>NPD</td>\n      <td>NPD</td>\n      <td>NPD</td>\n    </tr>\n    <tr>\n      <th>363</th>\n      <td>34610149</td>\n      <td>-1</td>\n      <td>3.03</td>\n      <td>3.03</td>\n      <td>NaN</td>\n      <td>PD</td>\n      <td>NaN</td>\n    </tr>\n    <tr>\n      <th>364</th>\n      <td>34610149</td>\n      <td>1</td>\n      <td>26.36</td>\n      <td>3.03</td>\n      <td>PD</td>\n      <td>NaN</td>\n      <td>NaN</td>\n    </tr>\n    <tr>\n      <th>365</th>\n      <td>34610149</td>\n      <td>2</td>\n      <td>27.77</td>\n      <td>3.03</td>\n      <td>PD</td>\n      <td>NaN</td>\n      <td>NaN</td>\n    </tr>\n  </tbody>\n</table>\n<p>366 rows × 7 columns</p>\n</div>"
     },
     "metadata": {}
    }
   ],
   "execution_count": null
  },
  {
   "cell_type": "code",
   "metadata": {
    "cell_id": "00030-b956e402-56a8-40d2-97dc-42c17bb92880",
    "deepnote_app_coordinates": {
     "h": 5,
     "w": 12,
     "x": 0,
     "y": 0
    },
    "deepnote_app_is_code_hidden": true,
    "deepnote_to_be_reexecuted": false,
    "execution_millis": 88,
    "execution_start": 1633940347798,
    "source_hash": "7fef31c9",
    "tags": [],
    "deepnote_cell_type": "code"
   },
   "source": "px.scatter(labels[labels['prediction_score'].notna()], x='study_phase', y='tmtv', color='prediction_score',\n           labels=studies_labels) \\\n    .update_layout(legend=top_h_legend)",
   "outputs": [
    {
     "data": {
      "text/html": "<html>\n<head><meta charset=\"utf-8\" /></head>\n<body>\n    <div>            <script src=\"https://cdnjs.cloudflare.com/ajax/libs/mathjax/2.7.5/MathJax.js?config=TeX-AMS-MML_SVG\"></script><script type=\"text/javascript\">if (window.MathJax) {MathJax.Hub.Config({SVG: {font: \"STIX-Web\"}});}</script>                <script type=\"text/javascript\">window.PlotlyConfig = {MathJaxConfig: 'local'};</script>\n        <script src=\"https://cdn.plot.ly/plotly-2.4.2.min.js\"></script>                <div id=\"e760b77d-93f9-4e05-bb78-20c9c4afa588\" class=\"plotly-graph-div\" style=\"height:525px; width:100%;\"></div>            <script type=\"text/javascript\">                                    window.PLOTLYENV=window.PLOTLYENV || {};                                    if (document.getElementById(\"e760b77d-93f9-4e05-bb78-20c9c4afa588\")) {                    Plotly.newPlot(                        \"e760b77d-93f9-4e05-bb78-20c9c4afa588\",                        [{\"hovertemplate\":\"Immunotherapeutic response=PD<br>Study phase (relative to treatment start)=%{x}<br>Total Metabolic Tumor Volume (ccm)=%{y}<extra></extra>\",\"legendgroup\":\"PD\",\"marker\":{\"color\":\"rgb(76,114,176)\",\"symbol\":\"circle\"},\"mode\":\"markers\",\"name\":\"PD\",\"orientation\":\"v\",\"showlegend\":true,\"type\":\"scatter\",\"x\":[-1,1,-2,-1,3,7,-1,5,-1,1,1,8,2,3,4,5,2,-1,-1,1,2,-1,-1,1,2,6,1,-1,1,-1,1,8,9,-2,2,3,1,7,8,-1,1,-1,-1,1,-1,-1,1,2,4,-2,-1,1,2,1,-2,-1,1,1,1,-1,2,1,3,6,7,8,1,-1,-1,1,3,1,2,1,-1,-1,2,1,2,4,-1,4,-2,-1,1,2,1,-1,1,2,-1,1,2,3,-1,-1,5,1,-1,-1,3,1,-1,1,-1,1,-1,-1,-2,-2,-1,2,5,6,-1,-1,1,-1,3,-2,1,-1,-1,2,-1,-1,1,1,2,-1,1,3,-1,-1,1,1,-1,1,-1,-1,1,2,-1,1,1,-1,1,-1],\"xaxis\":\"x\",\"y\":[36.38,255.98999999999998,16.150000000000002,16.73,6.23,0.66,57.769999999999996,20.73,18.950000000000003,61.19,30.4,1.25,1.64,78.02000000000001,0.54,25.230000000000004,63.84999999999998,5.84,10.32,8.32,201.24999999999997,207.95999999999998,79.64999999999999,51.85,74.91,21.689999999999998,30.91,230.86999999999998,32.14,38.989999999999995,79.6,3.91,45.94,33.44,40.27,53.62,28.44,7.390000000000001,13.37,45.190000000000005,40.49,43.42,2.81,10.2,57.14,50.849999999999994,87.42,104.37,159.93,10.07,15.059999999999999,40.39,4.84,3.21,5.89,176.16000000000003,401.79999999999995,132.83,148.85999999999999,70.21000000000001,166.43,3.35,26.04,0.95,18.0,8.5,52.03000000000001,83.62000000000002,11.92,117.30000000000001,234.92,105.77,38.26,92.99,3.79,78.86,3.62,19.06,7.220000000000001,6.8,34.87,1.9899999999999998,48.419999999999995,1.95,43.94,7.7700000000000005,47.85999999999999,63.06000000000001,24.389999999999997,60.71,0.69,6.28,8.18,3.37,107.54,2.54,17.75,41.15,4.4,145.75,15.69,306.14,93.1,312.31999999999994,311.94999999999993,172.61,456.16,2.74,219.32000000000002,11.27,100.71000000000001,11.92,103.5,108.76000000000002,22.389999999999997,38.14,50.42,91.69999999999999,10.71,10.98,33.230000000000004,69.95,6.9399999999999995,44.97,18.869999999999997,146.47999999999996,249.29,20.71,26.380000000000003,396.1300000000002,256.6,52.57000000000001,5.11,9.9,0.54,6.83,89.83000000000001,487.7700000000001,155.46,4.2,87.4,10.32,0.86,157.02999999999997,28.799999999999994,35.23,35.91,3.03],\"yaxis\":\"y\"},{\"hovertemplate\":\"Immunotherapeutic response=NPD<br>Study phase (relative to treatment start)=%{x}<br>Total Metabolic Tumor Volume (ccm)=%{y}<extra></extra>\",\"legendgroup\":\"NPD\",\"marker\":{\"color\":\"rgb(221,132,82)\",\"symbol\":\"circle\"},\"mode\":\"markers\",\"name\":\"NPD\",\"orientation\":\"v\",\"showlegend\":true,\"type\":\"scatter\",\"x\":[1,2,4,5,6,1,4,7,8,10,2,3,4,6,7,8,1,2,3,4,1,3,4,5,2,4,5,7,9,11,12,13,14,1,1,2,1,2,3,2,3,1,2,3,4,6,7,3,4,5,6,7,8,9,10,1,2,5,-1,1,2,3,6,9,1,1,1,2,3,1,2,3,4,5,3,1,1,2,3,4,5,6,7,5,6,1,4,5,-1,1,-1,-1,4,4,10,1,1,4,5,6,2,3,1,2,1,2,6,-1,5,-1,1,3,4,5,1,2,3,3,5,-1,1,2,3,4,-1,4,1,2,3,1,3,4,1,1,1,2,2,3,-1,1,1,2,3,1,-2,3,1,1,2,3,-1,1,3,4,1,1,2,3,4,5,1,2,2,1,2,3,5,6,-1,2,1,3,-1,-1,2,-2,-1,1,3,-2,3,2,3],\"xaxis\":\"x\",\"y\":[23.049999999999997,34.84,2.87,4.16,1.42,0.88,9.76,20.2,128.52,66.21,8.66,268.30999999999995,5.65,4.24,7.220000000000001,10.17,78.53,71.03,2.59,4.449999999999999,106.25,38.059999999999995,15.99,18.0,66.14,21.46,8.83,0.81,1.08,18.14,1.78,177.07,1.66,32.42000000000001,48.72,19.68,60.300000000000004,64.42,184.53,21.009999999999998,10.51,84.24,35.56999999999999,9.56,142.57999999999998,95.6,133.23000000000002,23.549999999999997,15.04,19.610000000000003,4.3,18.729999999999997,26.990000000000002,35.47,6.92,35.54,23.490000000000002,4.77,25.89,72.2,11.360000000000001,5.33,23.689999999999998,296.94000000000005,202.41,7.37,21.04,29.61,1.71,101.97,8.629999999999999,125.66999999999999,1.6400000000000001,46.21,1.83,112.81,80.74000000000001,114.6,7.26,7.24,72.52,9.63,4.15,173.03,278.7699999999999,45.71,3.54,0.51,11.4,156.39,106.50999999999999,103.13,2.42,2.22,130.71,24.480000000000004,12.98,1.81,5.52,7.77,40.38,12.79,62.269999999999996,5.57,6.19,0.9,0.88,31.58,4.81,20.110000000000003,22.479999999999997,46.38,16.86,12.569999999999999,34.4,10.790000000000001,59.34,100.83000000000001,24.509999999999998,7.4,10.440000000000001,2.59,5.41,27.59,33.15,4.78,31.96,14.520000000000001,90.44,1.34,21.03,6.779999999999999,105.77,56.61,167.13,258.57,3.2199999999999998,32.37,32.959999999999994,11.850000000000001,26.669999999999998,4.96,129.60999999999999,3.57,8.63,18.85,3.15,14.59,14.7,12.08,266.46999999999997,21.39,56.86999999999999,15.24,120.61000000000003,13.670000000000002,6.75,255.01,5.55,10.729999999999999,29.080000000000002,27.89,132.56,25.88,6.71,3.96,6.9,2.0,18.22,41.5,391.83,54.86999999999999,3.3,288.88,48.870000000000005,2.83,0.51,94.49,132.83,9.46,131.81,555.2399999999999,1.15],\"yaxis\":\"y\"}],                        {\"legend\":{\"orientation\":\"h\",\"title\":{\"text\":\"Immunotherapeutic response\"},\"tracegroupgap\":0,\"y\":1.02,\"yanchor\":\"bottom\"},\"margin\":{\"t\":60},\"template\":{\"data\":{\"bar\":[{\"error_x\":{\"color\":\"rgb(36,36,36)\"},\"error_y\":{\"color\":\"rgb(36,36,36)\"},\"marker\":{\"line\":{\"color\":\"rgb(234,234,242)\",\"width\":0.5},\"pattern\":{\"fillmode\":\"overlay\",\"size\":10,\"solidity\":0.2}},\"type\":\"bar\"}],\"barpolar\":[{\"marker\":{\"line\":{\"color\":\"rgb(234,234,242)\",\"width\":0.5},\"pattern\":{\"fillmode\":\"overlay\",\"size\":10,\"solidity\":0.2}},\"type\":\"barpolar\"}],\"carpet\":[{\"aaxis\":{\"endlinecolor\":\"rgb(36,36,36)\",\"gridcolor\":\"white\",\"linecolor\":\"white\",\"minorgridcolor\":\"white\",\"startlinecolor\":\"rgb(36,36,36)\"},\"baxis\":{\"endlinecolor\":\"rgb(36,36,36)\",\"gridcolor\":\"white\",\"linecolor\":\"white\",\"minorgridcolor\":\"white\",\"startlinecolor\":\"rgb(36,36,36)\"},\"type\":\"carpet\"}],\"choropleth\":[{\"colorbar\":{\"outlinewidth\":0,\"tickcolor\":\"rgb(36,36,36)\",\"ticklen\":8,\"ticks\":\"outside\",\"tickwidth\":2},\"type\":\"choropleth\"}],\"contour\":[{\"colorbar\":{\"outlinewidth\":0,\"tickcolor\":\"rgb(36,36,36)\",\"ticklen\":8,\"ticks\":\"outside\",\"tickwidth\":2},\"colorscale\":[[0.0,\"rgb(2,4,25)\"],[0.06274509803921569,\"rgb(24,15,41)\"],[0.12549019607843137,\"rgb(47,23,57)\"],[0.18823529411764706,\"rgb(71,28,72)\"],[0.25098039215686274,\"rgb(97,30,82)\"],[0.3137254901960784,\"rgb(123,30,89)\"],[0.3764705882352941,\"rgb(150,27,91)\"],[0.4392156862745098,\"rgb(177,22,88)\"],[0.5019607843137255,\"rgb(203,26,79)\"],[0.5647058823529412,\"rgb(223,47,67)\"],[0.6274509803921569,\"rgb(236,76,61)\"],[0.6901960784313725,\"rgb(242,107,73)\"],[0.7529411764705882,\"rgb(244,135,95)\"],[0.8156862745098039,\"rgb(245,162,122)\"],[0.8784313725490196,\"rgb(246,188,153)\"],[0.9411764705882353,\"rgb(247,212,187)\"],[1.0,\"rgb(250,234,220)\"]],\"type\":\"contour\"}],\"contourcarpet\":[{\"colorbar\":{\"outlinewidth\":0,\"tickcolor\":\"rgb(36,36,36)\",\"ticklen\":8,\"ticks\":\"outside\",\"tickwidth\":2},\"type\":\"contourcarpet\"}],\"heatmap\":[{\"colorbar\":{\"outlinewidth\":0,\"tickcolor\":\"rgb(36,36,36)\",\"ticklen\":8,\"ticks\":\"outside\",\"tickwidth\":2},\"colorscale\":[[0.0,\"rgb(2,4,25)\"],[0.06274509803921569,\"rgb(24,15,41)\"],[0.12549019607843137,\"rgb(47,23,57)\"],[0.18823529411764706,\"rgb(71,28,72)\"],[0.25098039215686274,\"rgb(97,30,82)\"],[0.3137254901960784,\"rgb(123,30,89)\"],[0.3764705882352941,\"rgb(150,27,91)\"],[0.4392156862745098,\"rgb(177,22,88)\"],[0.5019607843137255,\"rgb(203,26,79)\"],[0.5647058823529412,\"rgb(223,47,67)\"],[0.6274509803921569,\"rgb(236,76,61)\"],[0.6901960784313725,\"rgb(242,107,73)\"],[0.7529411764705882,\"rgb(244,135,95)\"],[0.8156862745098039,\"rgb(245,162,122)\"],[0.8784313725490196,\"rgb(246,188,153)\"],[0.9411764705882353,\"rgb(247,212,187)\"],[1.0,\"rgb(250,234,220)\"]],\"type\":\"heatmap\"}],\"heatmapgl\":[{\"colorbar\":{\"outlinewidth\":0,\"tickcolor\":\"rgb(36,36,36)\",\"ticklen\":8,\"ticks\":\"outside\",\"tickwidth\":2},\"colorscale\":[[0.0,\"rgb(2,4,25)\"],[0.06274509803921569,\"rgb(24,15,41)\"],[0.12549019607843137,\"rgb(47,23,57)\"],[0.18823529411764706,\"rgb(71,28,72)\"],[0.25098039215686274,\"rgb(97,30,82)\"],[0.3137254901960784,\"rgb(123,30,89)\"],[0.3764705882352941,\"rgb(150,27,91)\"],[0.4392156862745098,\"rgb(177,22,88)\"],[0.5019607843137255,\"rgb(203,26,79)\"],[0.5647058823529412,\"rgb(223,47,67)\"],[0.6274509803921569,\"rgb(236,76,61)\"],[0.6901960784313725,\"rgb(242,107,73)\"],[0.7529411764705882,\"rgb(244,135,95)\"],[0.8156862745098039,\"rgb(245,162,122)\"],[0.8784313725490196,\"rgb(246,188,153)\"],[0.9411764705882353,\"rgb(247,212,187)\"],[1.0,\"rgb(250,234,220)\"]],\"type\":\"heatmapgl\"}],\"histogram\":[{\"marker\":{\"pattern\":{\"fillmode\":\"overlay\",\"size\":10,\"solidity\":0.2}},\"type\":\"histogram\"}],\"histogram2d\":[{\"colorbar\":{\"outlinewidth\":0,\"tickcolor\":\"rgb(36,36,36)\",\"ticklen\":8,\"ticks\":\"outside\",\"tickwidth\":2},\"colorscale\":[[0.0,\"rgb(2,4,25)\"],[0.06274509803921569,\"rgb(24,15,41)\"],[0.12549019607843137,\"rgb(47,23,57)\"],[0.18823529411764706,\"rgb(71,28,72)\"],[0.25098039215686274,\"rgb(97,30,82)\"],[0.3137254901960784,\"rgb(123,30,89)\"],[0.3764705882352941,\"rgb(150,27,91)\"],[0.4392156862745098,\"rgb(177,22,88)\"],[0.5019607843137255,\"rgb(203,26,79)\"],[0.5647058823529412,\"rgb(223,47,67)\"],[0.6274509803921569,\"rgb(236,76,61)\"],[0.6901960784313725,\"rgb(242,107,73)\"],[0.7529411764705882,\"rgb(244,135,95)\"],[0.8156862745098039,\"rgb(245,162,122)\"],[0.8784313725490196,\"rgb(246,188,153)\"],[0.9411764705882353,\"rgb(247,212,187)\"],[1.0,\"rgb(250,234,220)\"]],\"type\":\"histogram2d\"}],\"histogram2dcontour\":[{\"colorbar\":{\"outlinewidth\":0,\"tickcolor\":\"rgb(36,36,36)\",\"ticklen\":8,\"ticks\":\"outside\",\"tickwidth\":2},\"colorscale\":[[0.0,\"rgb(2,4,25)\"],[0.06274509803921569,\"rgb(24,15,41)\"],[0.12549019607843137,\"rgb(47,23,57)\"],[0.18823529411764706,\"rgb(71,28,72)\"],[0.25098039215686274,\"rgb(97,30,82)\"],[0.3137254901960784,\"rgb(123,30,89)\"],[0.3764705882352941,\"rgb(150,27,91)\"],[0.4392156862745098,\"rgb(177,22,88)\"],[0.5019607843137255,\"rgb(203,26,79)\"],[0.5647058823529412,\"rgb(223,47,67)\"],[0.6274509803921569,\"rgb(236,76,61)\"],[0.6901960784313725,\"rgb(242,107,73)\"],[0.7529411764705882,\"rgb(244,135,95)\"],[0.8156862745098039,\"rgb(245,162,122)\"],[0.8784313725490196,\"rgb(246,188,153)\"],[0.9411764705882353,\"rgb(247,212,187)\"],[1.0,\"rgb(250,234,220)\"]],\"type\":\"histogram2dcontour\"}],\"mesh3d\":[{\"colorbar\":{\"outlinewidth\":0,\"tickcolor\":\"rgb(36,36,36)\",\"ticklen\":8,\"ticks\":\"outside\",\"tickwidth\":2},\"type\":\"mesh3d\"}],\"parcoords\":[{\"line\":{\"colorbar\":{\"outlinewidth\":0,\"tickcolor\":\"rgb(36,36,36)\",\"ticklen\":8,\"ticks\":\"outside\",\"tickwidth\":2}},\"type\":\"parcoords\"}],\"pie\":[{\"automargin\":true,\"type\":\"pie\"}],\"scatter\":[{\"marker\":{\"colorbar\":{\"outlinewidth\":0,\"tickcolor\":\"rgb(36,36,36)\",\"ticklen\":8,\"ticks\":\"outside\",\"tickwidth\":2}},\"type\":\"scatter\"}],\"scatter3d\":[{\"line\":{\"colorbar\":{\"outlinewidth\":0,\"tickcolor\":\"rgb(36,36,36)\",\"ticklen\":8,\"ticks\":\"outside\",\"tickwidth\":2}},\"marker\":{\"colorbar\":{\"outlinewidth\":0,\"tickcolor\":\"rgb(36,36,36)\",\"ticklen\":8,\"ticks\":\"outside\",\"tickwidth\":2}},\"type\":\"scatter3d\"}],\"scattercarpet\":[{\"marker\":{\"colorbar\":{\"outlinewidth\":0,\"tickcolor\":\"rgb(36,36,36)\",\"ticklen\":8,\"ticks\":\"outside\",\"tickwidth\":2}},\"type\":\"scattercarpet\"}],\"scattergeo\":[{\"marker\":{\"colorbar\":{\"outlinewidth\":0,\"tickcolor\":\"rgb(36,36,36)\",\"ticklen\":8,\"ticks\":\"outside\",\"tickwidth\":2}},\"type\":\"scattergeo\"}],\"scattergl\":[{\"marker\":{\"colorbar\":{\"outlinewidth\":0,\"tickcolor\":\"rgb(36,36,36)\",\"ticklen\":8,\"ticks\":\"outside\",\"tickwidth\":2}},\"type\":\"scattergl\"}],\"scattermapbox\":[{\"marker\":{\"colorbar\":{\"outlinewidth\":0,\"tickcolor\":\"rgb(36,36,36)\",\"ticklen\":8,\"ticks\":\"outside\",\"tickwidth\":2}},\"type\":\"scattermapbox\"}],\"scatterpolar\":[{\"marker\":{\"colorbar\":{\"outlinewidth\":0,\"tickcolor\":\"rgb(36,36,36)\",\"ticklen\":8,\"ticks\":\"outside\",\"tickwidth\":2}},\"type\":\"scatterpolar\"}],\"scatterpolargl\":[{\"marker\":{\"colorbar\":{\"outlinewidth\":0,\"tickcolor\":\"rgb(36,36,36)\",\"ticklen\":8,\"ticks\":\"outside\",\"tickwidth\":2}},\"type\":\"scatterpolargl\"}],\"scatterternary\":[{\"marker\":{\"colorbar\":{\"outlinewidth\":0,\"tickcolor\":\"rgb(36,36,36)\",\"ticklen\":8,\"ticks\":\"outside\",\"tickwidth\":2}},\"type\":\"scatterternary\"}],\"surface\":[{\"colorbar\":{\"outlinewidth\":0,\"tickcolor\":\"rgb(36,36,36)\",\"ticklen\":8,\"ticks\":\"outside\",\"tickwidth\":2},\"colorscale\":[[0.0,\"rgb(2,4,25)\"],[0.06274509803921569,\"rgb(24,15,41)\"],[0.12549019607843137,\"rgb(47,23,57)\"],[0.18823529411764706,\"rgb(71,28,72)\"],[0.25098039215686274,\"rgb(97,30,82)\"],[0.3137254901960784,\"rgb(123,30,89)\"],[0.3764705882352941,\"rgb(150,27,91)\"],[0.4392156862745098,\"rgb(177,22,88)\"],[0.5019607843137255,\"rgb(203,26,79)\"],[0.5647058823529412,\"rgb(223,47,67)\"],[0.6274509803921569,\"rgb(236,76,61)\"],[0.6901960784313725,\"rgb(242,107,73)\"],[0.7529411764705882,\"rgb(244,135,95)\"],[0.8156862745098039,\"rgb(245,162,122)\"],[0.8784313725490196,\"rgb(246,188,153)\"],[0.9411764705882353,\"rgb(247,212,187)\"],[1.0,\"rgb(250,234,220)\"]],\"type\":\"surface\"}],\"table\":[{\"cells\":{\"fill\":{\"color\":\"rgb(231,231,240)\"},\"line\":{\"color\":\"white\"}},\"header\":{\"fill\":{\"color\":\"rgb(183,183,191)\"},\"line\":{\"color\":\"white\"}},\"type\":\"table\"}]},\"layout\":{\"annotationdefaults\":{\"arrowcolor\":\"rgb(67,103,167)\"},\"autotypenumbers\":\"strict\",\"coloraxis\":{\"colorbar\":{\"outlinewidth\":0,\"tickcolor\":\"rgb(36,36,36)\",\"ticklen\":8,\"ticks\":\"outside\",\"tickwidth\":2}},\"colorscale\":{\"sequential\":[[0.0,\"rgb(2,4,25)\"],[0.06274509803921569,\"rgb(24,15,41)\"],[0.12549019607843137,\"rgb(47,23,57)\"],[0.18823529411764706,\"rgb(71,28,72)\"],[0.25098039215686274,\"rgb(97,30,82)\"],[0.3137254901960784,\"rgb(123,30,89)\"],[0.3764705882352941,\"rgb(150,27,91)\"],[0.4392156862745098,\"rgb(177,22,88)\"],[0.5019607843137255,\"rgb(203,26,79)\"],[0.5647058823529412,\"rgb(223,47,67)\"],[0.6274509803921569,\"rgb(236,76,61)\"],[0.6901960784313725,\"rgb(242,107,73)\"],[0.7529411764705882,\"rgb(244,135,95)\"],[0.8156862745098039,\"rgb(245,162,122)\"],[0.8784313725490196,\"rgb(246,188,153)\"],[0.9411764705882353,\"rgb(247,212,187)\"],[1.0,\"rgb(250,234,220)\"]],\"sequentialminus\":[[0.0,\"rgb(2,4,25)\"],[0.06274509803921569,\"rgb(24,15,41)\"],[0.12549019607843137,\"rgb(47,23,57)\"],[0.18823529411764706,\"rgb(71,28,72)\"],[0.25098039215686274,\"rgb(97,30,82)\"],[0.3137254901960784,\"rgb(123,30,89)\"],[0.3764705882352941,\"rgb(150,27,91)\"],[0.4392156862745098,\"rgb(177,22,88)\"],[0.5019607843137255,\"rgb(203,26,79)\"],[0.5647058823529412,\"rgb(223,47,67)\"],[0.6274509803921569,\"rgb(236,76,61)\"],[0.6901960784313725,\"rgb(242,107,73)\"],[0.7529411764705882,\"rgb(244,135,95)\"],[0.8156862745098039,\"rgb(245,162,122)\"],[0.8784313725490196,\"rgb(246,188,153)\"],[0.9411764705882353,\"rgb(247,212,187)\"],[1.0,\"rgb(250,234,220)\"]]},\"colorway\":[\"rgb(76,114,176)\",\"rgb(221,132,82)\",\"rgb(85,168,104)\",\"rgb(196,78,82)\",\"rgb(129,114,179)\",\"rgb(147,120,96)\",\"rgb(218,139,195)\",\"rgb(140,140,140)\",\"rgb(204,185,116)\",\"rgb(100,181,205)\"],\"font\":{\"color\":\"rgb(36,36,36)\"},\"geo\":{\"bgcolor\":\"white\",\"lakecolor\":\"white\",\"landcolor\":\"rgb(234,234,242)\",\"showlakes\":true,\"showland\":true,\"subunitcolor\":\"white\"},\"hoverlabel\":{\"align\":\"left\"},\"hovermode\":\"closest\",\"paper_bgcolor\":\"white\",\"plot_bgcolor\":\"rgb(234,234,242)\",\"polar\":{\"angularaxis\":{\"gridcolor\":\"white\",\"linecolor\":\"white\",\"showgrid\":true,\"ticks\":\"\"},\"bgcolor\":\"rgb(234,234,242)\",\"radialaxis\":{\"gridcolor\":\"white\",\"linecolor\":\"white\",\"showgrid\":true,\"ticks\":\"\"}},\"scene\":{\"xaxis\":{\"backgroundcolor\":\"rgb(234,234,242)\",\"gridcolor\":\"white\",\"gridwidth\":2,\"linecolor\":\"white\",\"showbackground\":true,\"showgrid\":true,\"ticks\":\"\",\"zerolinecolor\":\"white\"},\"yaxis\":{\"backgroundcolor\":\"rgb(234,234,242)\",\"gridcolor\":\"white\",\"gridwidth\":2,\"linecolor\":\"white\",\"showbackground\":true,\"showgrid\":true,\"ticks\":\"\",\"zerolinecolor\":\"white\"},\"zaxis\":{\"backgroundcolor\":\"rgb(234,234,242)\",\"gridcolor\":\"white\",\"gridwidth\":2,\"linecolor\":\"white\",\"showbackground\":true,\"showgrid\":true,\"ticks\":\"\",\"zerolinecolor\":\"white\"}},\"shapedefaults\":{\"fillcolor\":\"rgb(67,103,167)\",\"line\":{\"width\":0},\"opacity\":0.5},\"ternary\":{\"aaxis\":{\"gridcolor\":\"white\",\"linecolor\":\"white\",\"showgrid\":true,\"ticks\":\"\"},\"baxis\":{\"gridcolor\":\"white\",\"linecolor\":\"white\",\"showgrid\":true,\"ticks\":\"\"},\"bgcolor\":\"rgb(234,234,242)\",\"caxis\":{\"gridcolor\":\"white\",\"linecolor\":\"white\",\"showgrid\":true,\"ticks\":\"\"}},\"xaxis\":{\"automargin\":true,\"gridcolor\":\"white\",\"linecolor\":\"white\",\"showgrid\":true,\"ticks\":\"\",\"title\":{\"standoff\":15},\"zerolinecolor\":\"white\"},\"yaxis\":{\"automargin\":true,\"gridcolor\":\"white\",\"linecolor\":\"white\",\"showgrid\":true,\"ticks\":\"\",\"title\":{\"standoff\":15},\"zerolinecolor\":\"white\"}}},\"xaxis\":{\"anchor\":\"y\",\"domain\":[0.0,1.0],\"title\":{\"text\":\"Study phase (relative to treatment start)\"}},\"yaxis\":{\"anchor\":\"x\",\"domain\":[0.0,1.0],\"title\":{\"text\":\"Total Metabolic Tumor Volume (ccm)\"}}},                        {\"responsive\": true}                    ).then(function(){\n                            \nvar gd = document.getElementById('e760b77d-93f9-4e05-bb78-20c9c4afa588');\nvar x = new MutationObserver(function (mutations, observer) {{\n        var display = window.getComputedStyle(gd).display;\n        if (!display || display === 'none') {{\n            console.log([gd, 'removed!']);\n            Plotly.purge(gd);\n            observer.disconnect();\n        }}\n}});\n\n// Listen for the removal of the full notebook cells\nvar notebookContainer = gd.closest('#notebook-container');\nif (notebookContainer) {{\n    x.observe(notebookContainer, {childList: true});\n}}\n\n// Listen for the clearing of the current output cell\nvar outputEl = gd.closest('.output');\nif (outputEl) {{\n    x.observe(outputEl, {childList: true});\n}}\n\n                        })                };                            </script>        </div>\n</body>\n</html>"
     },
     "metadata": {},
     "output_type": "display_data"
    }
   ],
   "execution_count": null
  },
  {
   "cell_type": "code",
   "metadata": {
    "cell_id": "00029-9e9621e0-34f6-491a-ad48-d413ddc45fb4",
    "deepnote_app_coordinates": {
     "h": 5,
     "w": 12,
     "x": 0,
     "y": 0
    },
    "deepnote_app_is_code_hidden": true,
    "deepnote_to_be_reexecuted": false,
    "execution_millis": 0,
    "execution_start": 1633940373101,
    "source_hash": "10fc324c",
    "tags": [],
    "deepnote_cell_type": "code"
   },
   "source": "# Checking post-1 label imbalance\npost_1_response = labels[labels.study_phase == 1].prediction_score.value_counts()\n\nprint(f'Response imbalance for post-1 studies: \\n{post_1_response}')",
   "outputs": [
    {
     "name": "stdout",
     "text": "Response imbalance for post-1 studies: \nPD     43\nNPD    42\nName: prediction_score, dtype: int64\n",
     "output_type": "stream"
    }
   ],
   "execution_count": null
  },
  {
   "cell_type": "code",
   "metadata": {
    "cell_id": "00031-6e56ce54-4432-4419-80f2-95561400a619",
    "deepnote_app_coordinates": {
     "h": 5,
     "w": 12,
     "x": 0,
     "y": 0
    },
    "deepnote_app_is_code_hidden": true,
    "deepnote_to_be_reexecuted": false,
    "execution_millis": 84,
    "execution_start": 1633940418946,
    "source_hash": "85c8bb88",
    "tags": [],
    "deepnote_cell_type": "code"
   },
   "source": "px.histogram(labels[(labels.study_phase == 1) & (labels['prediction_score'].notna())], \n             x='tmtv', color='prediction_score',\n             nbins= 40, marginal=\"rug\",\n             labels=studies_labels) \\\n    .update_layout(legend={**top_h_legend, 'y': 1.0},\n                   yaxis_title='Studies (count)',\n                   title='Post-1 study phase response distribution') \\\n    .update_traces(opacity=0.7)",
   "outputs": [
    {
     "data": {
      "text/html": "<html>\n<head><meta charset=\"utf-8\" /></head>\n<body>\n    <div>            <script src=\"https://cdnjs.cloudflare.com/ajax/libs/mathjax/2.7.5/MathJax.js?config=TeX-AMS-MML_SVG\"></script><script type=\"text/javascript\">if (window.MathJax) {MathJax.Hub.Config({SVG: {font: \"STIX-Web\"}});}</script>                <script type=\"text/javascript\">window.PlotlyConfig = {MathJaxConfig: 'local'};</script>\n        <script src=\"https://cdn.plot.ly/plotly-2.4.2.min.js\"></script>                <div id=\"18e53162-c179-48d6-95ac-cd2bdd77358e\" class=\"plotly-graph-div\" style=\"height:525px; width:100%;\"></div>            <script type=\"text/javascript\">                                    window.PLOTLYENV=window.PLOTLYENV || {};                                    if (document.getElementById(\"18e53162-c179-48d6-95ac-cd2bdd77358e\")) {                    Plotly.newPlot(                        \"18e53162-c179-48d6-95ac-cd2bdd77358e\",                        [{\"alignmentgroup\":\"True\",\"bingroup\":\"x\",\"hovertemplate\":\"Immunotherapeutic response=PD<br>Total Metabolic Tumor Volume (ccm)=%{x}<br>count=%{y}<extra></extra>\",\"legendgroup\":\"PD\",\"marker\":{\"color\":\"rgb(76,114,176)\",\"pattern\":{\"shape\":\"\"}},\"name\":\"PD\",\"nbinsx\":40,\"offsetgroup\":\"PD\",\"opacity\":0.7,\"orientation\":\"v\",\"showlegend\":true,\"type\":\"histogram\",\"x\":[255.98999999999998,61.19,30.4,8.32,51.85,30.91,32.14,79.6,28.44,40.49,10.2,87.42,40.39,3.21,401.79999999999995,132.83,148.85999999999999,3.35,52.03000000000001,117.30000000000001,105.77,92.99,19.06,43.94,47.85999999999999,24.389999999999997,6.28,41.15,306.14,312.31999999999994,172.61,50.42,33.230000000000004,249.29,20.71,256.6,0.54,6.83,487.7700000000001,87.4,157.02999999999997,28.799999999999994,35.91],\"xaxis\":\"x\",\"yaxis\":\"y\"},{\"alignmentgroup\":\"True\",\"boxpoints\":\"all\",\"fillcolor\":\"rgba(255,255,255,0)\",\"hoveron\":\"points\",\"hovertemplate\":\"Immunotherapeutic response=PD<br>Total Metabolic Tumor Volume (ccm)=%{x}<extra></extra>\",\"jitter\":0,\"legendgroup\":\"PD\",\"line\":{\"color\":\"rgba(255,255,255,0)\"},\"marker\":{\"color\":\"rgb(76,114,176)\",\"symbol\":\"line-ns-open\"},\"name\":\"PD\",\"offsetgroup\":\"PD\",\"opacity\":0.7,\"showlegend\":false,\"type\":\"box\",\"x\":[255.98999999999998,61.19,30.4,8.32,51.85,30.91,32.14,79.6,28.44,40.49,10.2,87.42,40.39,3.21,401.79999999999995,132.83,148.85999999999999,3.35,52.03000000000001,117.30000000000001,105.77,92.99,19.06,43.94,47.85999999999999,24.389999999999997,6.28,41.15,306.14,312.31999999999994,172.61,50.42,33.230000000000004,249.29,20.71,256.6,0.54,6.83,487.7700000000001,87.4,157.02999999999997,28.799999999999994,35.91],\"xaxis\":\"x2\",\"yaxis\":\"y2\"},{\"alignmentgroup\":\"True\",\"bingroup\":\"x\",\"hovertemplate\":\"Immunotherapeutic response=NPD<br>Total Metabolic Tumor Volume (ccm)=%{x}<br>count=%{y}<extra></extra>\",\"legendgroup\":\"NPD\",\"marker\":{\"color\":\"rgb(221,132,82)\",\"pattern\":{\"shape\":\"\"}},\"name\":\"NPD\",\"nbinsx\":40,\"offsetgroup\":\"NPD\",\"opacity\":0.7,\"orientation\":\"v\",\"showlegend\":true,\"type\":\"histogram\",\"x\":[23.049999999999997,0.88,78.53,106.25,32.42000000000001,48.72,60.300000000000004,84.24,35.54,72.2,202.41,7.37,21.04,101.97,112.81,80.74000000000001,45.71,156.39,24.480000000000004,12.98,62.269999999999996,6.19,22.479999999999997,34.4,10.440000000000001,31.96,1.34,105.77,56.61,167.13,11.850000000000001,26.669999999999998,3.57,3.15,14.59,21.39,120.61000000000003,13.670000000000002,29.080000000000002,25.88,391.83,94.49],\"xaxis\":\"x\",\"yaxis\":\"y\"},{\"alignmentgroup\":\"True\",\"boxpoints\":\"all\",\"fillcolor\":\"rgba(255,255,255,0)\",\"hoveron\":\"points\",\"hovertemplate\":\"Immunotherapeutic response=NPD<br>Total Metabolic Tumor Volume (ccm)=%{x}<extra></extra>\",\"jitter\":0,\"legendgroup\":\"NPD\",\"line\":{\"color\":\"rgba(255,255,255,0)\"},\"marker\":{\"color\":\"rgb(221,132,82)\",\"symbol\":\"line-ns-open\"},\"name\":\"NPD\",\"offsetgroup\":\"NPD\",\"opacity\":0.7,\"showlegend\":false,\"type\":\"box\",\"x\":[23.049999999999997,0.88,78.53,106.25,32.42000000000001,48.72,60.300000000000004,84.24,35.54,72.2,202.41,7.37,21.04,101.97,112.81,80.74000000000001,45.71,156.39,24.480000000000004,12.98,62.269999999999996,6.19,22.479999999999997,34.4,10.440000000000001,31.96,1.34,105.77,56.61,167.13,11.850000000000001,26.669999999999998,3.57,3.15,14.59,21.39,120.61000000000003,13.670000000000002,29.080000000000002,25.88,391.83,94.49],\"xaxis\":\"x2\",\"yaxis\":\"y2\"}],                        {\"barmode\":\"relative\",\"legend\":{\"orientation\":\"h\",\"title\":{\"text\":\"Immunotherapeutic response\"},\"tracegroupgap\":0,\"y\":1.0,\"yanchor\":\"bottom\"},\"margin\":{\"t\":60},\"template\":{\"data\":{\"bar\":[{\"error_x\":{\"color\":\"rgb(36,36,36)\"},\"error_y\":{\"color\":\"rgb(36,36,36)\"},\"marker\":{\"line\":{\"color\":\"rgb(234,234,242)\",\"width\":0.5},\"pattern\":{\"fillmode\":\"overlay\",\"size\":10,\"solidity\":0.2}},\"type\":\"bar\"}],\"barpolar\":[{\"marker\":{\"line\":{\"color\":\"rgb(234,234,242)\",\"width\":0.5},\"pattern\":{\"fillmode\":\"overlay\",\"size\":10,\"solidity\":0.2}},\"type\":\"barpolar\"}],\"carpet\":[{\"aaxis\":{\"endlinecolor\":\"rgb(36,36,36)\",\"gridcolor\":\"white\",\"linecolor\":\"white\",\"minorgridcolor\":\"white\",\"startlinecolor\":\"rgb(36,36,36)\"},\"baxis\":{\"endlinecolor\":\"rgb(36,36,36)\",\"gridcolor\":\"white\",\"linecolor\":\"white\",\"minorgridcolor\":\"white\",\"startlinecolor\":\"rgb(36,36,36)\"},\"type\":\"carpet\"}],\"choropleth\":[{\"colorbar\":{\"outlinewidth\":0,\"tickcolor\":\"rgb(36,36,36)\",\"ticklen\":8,\"ticks\":\"outside\",\"tickwidth\":2},\"type\":\"choropleth\"}],\"contour\":[{\"colorbar\":{\"outlinewidth\":0,\"tickcolor\":\"rgb(36,36,36)\",\"ticklen\":8,\"ticks\":\"outside\",\"tickwidth\":2},\"colorscale\":[[0.0,\"rgb(2,4,25)\"],[0.06274509803921569,\"rgb(24,15,41)\"],[0.12549019607843137,\"rgb(47,23,57)\"],[0.18823529411764706,\"rgb(71,28,72)\"],[0.25098039215686274,\"rgb(97,30,82)\"],[0.3137254901960784,\"rgb(123,30,89)\"],[0.3764705882352941,\"rgb(150,27,91)\"],[0.4392156862745098,\"rgb(177,22,88)\"],[0.5019607843137255,\"rgb(203,26,79)\"],[0.5647058823529412,\"rgb(223,47,67)\"],[0.6274509803921569,\"rgb(236,76,61)\"],[0.6901960784313725,\"rgb(242,107,73)\"],[0.7529411764705882,\"rgb(244,135,95)\"],[0.8156862745098039,\"rgb(245,162,122)\"],[0.8784313725490196,\"rgb(246,188,153)\"],[0.9411764705882353,\"rgb(247,212,187)\"],[1.0,\"rgb(250,234,220)\"]],\"type\":\"contour\"}],\"contourcarpet\":[{\"colorbar\":{\"outlinewidth\":0,\"tickcolor\":\"rgb(36,36,36)\",\"ticklen\":8,\"ticks\":\"outside\",\"tickwidth\":2},\"type\":\"contourcarpet\"}],\"heatmap\":[{\"colorbar\":{\"outlinewidth\":0,\"tickcolor\":\"rgb(36,36,36)\",\"ticklen\":8,\"ticks\":\"outside\",\"tickwidth\":2},\"colorscale\":[[0.0,\"rgb(2,4,25)\"],[0.06274509803921569,\"rgb(24,15,41)\"],[0.12549019607843137,\"rgb(47,23,57)\"],[0.18823529411764706,\"rgb(71,28,72)\"],[0.25098039215686274,\"rgb(97,30,82)\"],[0.3137254901960784,\"rgb(123,30,89)\"],[0.3764705882352941,\"rgb(150,27,91)\"],[0.4392156862745098,\"rgb(177,22,88)\"],[0.5019607843137255,\"rgb(203,26,79)\"],[0.5647058823529412,\"rgb(223,47,67)\"],[0.6274509803921569,\"rgb(236,76,61)\"],[0.6901960784313725,\"rgb(242,107,73)\"],[0.7529411764705882,\"rgb(244,135,95)\"],[0.8156862745098039,\"rgb(245,162,122)\"],[0.8784313725490196,\"rgb(246,188,153)\"],[0.9411764705882353,\"rgb(247,212,187)\"],[1.0,\"rgb(250,234,220)\"]],\"type\":\"heatmap\"}],\"heatmapgl\":[{\"colorbar\":{\"outlinewidth\":0,\"tickcolor\":\"rgb(36,36,36)\",\"ticklen\":8,\"ticks\":\"outside\",\"tickwidth\":2},\"colorscale\":[[0.0,\"rgb(2,4,25)\"],[0.06274509803921569,\"rgb(24,15,41)\"],[0.12549019607843137,\"rgb(47,23,57)\"],[0.18823529411764706,\"rgb(71,28,72)\"],[0.25098039215686274,\"rgb(97,30,82)\"],[0.3137254901960784,\"rgb(123,30,89)\"],[0.3764705882352941,\"rgb(150,27,91)\"],[0.4392156862745098,\"rgb(177,22,88)\"],[0.5019607843137255,\"rgb(203,26,79)\"],[0.5647058823529412,\"rgb(223,47,67)\"],[0.6274509803921569,\"rgb(236,76,61)\"],[0.6901960784313725,\"rgb(242,107,73)\"],[0.7529411764705882,\"rgb(244,135,95)\"],[0.8156862745098039,\"rgb(245,162,122)\"],[0.8784313725490196,\"rgb(246,188,153)\"],[0.9411764705882353,\"rgb(247,212,187)\"],[1.0,\"rgb(250,234,220)\"]],\"type\":\"heatmapgl\"}],\"histogram\":[{\"marker\":{\"pattern\":{\"fillmode\":\"overlay\",\"size\":10,\"solidity\":0.2}},\"type\":\"histogram\"}],\"histogram2d\":[{\"colorbar\":{\"outlinewidth\":0,\"tickcolor\":\"rgb(36,36,36)\",\"ticklen\":8,\"ticks\":\"outside\",\"tickwidth\":2},\"colorscale\":[[0.0,\"rgb(2,4,25)\"],[0.06274509803921569,\"rgb(24,15,41)\"],[0.12549019607843137,\"rgb(47,23,57)\"],[0.18823529411764706,\"rgb(71,28,72)\"],[0.25098039215686274,\"rgb(97,30,82)\"],[0.3137254901960784,\"rgb(123,30,89)\"],[0.3764705882352941,\"rgb(150,27,91)\"],[0.4392156862745098,\"rgb(177,22,88)\"],[0.5019607843137255,\"rgb(203,26,79)\"],[0.5647058823529412,\"rgb(223,47,67)\"],[0.6274509803921569,\"rgb(236,76,61)\"],[0.6901960784313725,\"rgb(242,107,73)\"],[0.7529411764705882,\"rgb(244,135,95)\"],[0.8156862745098039,\"rgb(245,162,122)\"],[0.8784313725490196,\"rgb(246,188,153)\"],[0.9411764705882353,\"rgb(247,212,187)\"],[1.0,\"rgb(250,234,220)\"]],\"type\":\"histogram2d\"}],\"histogram2dcontour\":[{\"colorbar\":{\"outlinewidth\":0,\"tickcolor\":\"rgb(36,36,36)\",\"ticklen\":8,\"ticks\":\"outside\",\"tickwidth\":2},\"colorscale\":[[0.0,\"rgb(2,4,25)\"],[0.06274509803921569,\"rgb(24,15,41)\"],[0.12549019607843137,\"rgb(47,23,57)\"],[0.18823529411764706,\"rgb(71,28,72)\"],[0.25098039215686274,\"rgb(97,30,82)\"],[0.3137254901960784,\"rgb(123,30,89)\"],[0.3764705882352941,\"rgb(150,27,91)\"],[0.4392156862745098,\"rgb(177,22,88)\"],[0.5019607843137255,\"rgb(203,26,79)\"],[0.5647058823529412,\"rgb(223,47,67)\"],[0.6274509803921569,\"rgb(236,76,61)\"],[0.6901960784313725,\"rgb(242,107,73)\"],[0.7529411764705882,\"rgb(244,135,95)\"],[0.8156862745098039,\"rgb(245,162,122)\"],[0.8784313725490196,\"rgb(246,188,153)\"],[0.9411764705882353,\"rgb(247,212,187)\"],[1.0,\"rgb(250,234,220)\"]],\"type\":\"histogram2dcontour\"}],\"mesh3d\":[{\"colorbar\":{\"outlinewidth\":0,\"tickcolor\":\"rgb(36,36,36)\",\"ticklen\":8,\"ticks\":\"outside\",\"tickwidth\":2},\"type\":\"mesh3d\"}],\"parcoords\":[{\"line\":{\"colorbar\":{\"outlinewidth\":0,\"tickcolor\":\"rgb(36,36,36)\",\"ticklen\":8,\"ticks\":\"outside\",\"tickwidth\":2}},\"type\":\"parcoords\"}],\"pie\":[{\"automargin\":true,\"type\":\"pie\"}],\"scatter\":[{\"marker\":{\"colorbar\":{\"outlinewidth\":0,\"tickcolor\":\"rgb(36,36,36)\",\"ticklen\":8,\"ticks\":\"outside\",\"tickwidth\":2}},\"type\":\"scatter\"}],\"scatter3d\":[{\"line\":{\"colorbar\":{\"outlinewidth\":0,\"tickcolor\":\"rgb(36,36,36)\",\"ticklen\":8,\"ticks\":\"outside\",\"tickwidth\":2}},\"marker\":{\"colorbar\":{\"outlinewidth\":0,\"tickcolor\":\"rgb(36,36,36)\",\"ticklen\":8,\"ticks\":\"outside\",\"tickwidth\":2}},\"type\":\"scatter3d\"}],\"scattercarpet\":[{\"marker\":{\"colorbar\":{\"outlinewidth\":0,\"tickcolor\":\"rgb(36,36,36)\",\"ticklen\":8,\"ticks\":\"outside\",\"tickwidth\":2}},\"type\":\"scattercarpet\"}],\"scattergeo\":[{\"marker\":{\"colorbar\":{\"outlinewidth\":0,\"tickcolor\":\"rgb(36,36,36)\",\"ticklen\":8,\"ticks\":\"outside\",\"tickwidth\":2}},\"type\":\"scattergeo\"}],\"scattergl\":[{\"marker\":{\"colorbar\":{\"outlinewidth\":0,\"tickcolor\":\"rgb(36,36,36)\",\"ticklen\":8,\"ticks\":\"outside\",\"tickwidth\":2}},\"type\":\"scattergl\"}],\"scattermapbox\":[{\"marker\":{\"colorbar\":{\"outlinewidth\":0,\"tickcolor\":\"rgb(36,36,36)\",\"ticklen\":8,\"ticks\":\"outside\",\"tickwidth\":2}},\"type\":\"scattermapbox\"}],\"scatterpolar\":[{\"marker\":{\"colorbar\":{\"outlinewidth\":0,\"tickcolor\":\"rgb(36,36,36)\",\"ticklen\":8,\"ticks\":\"outside\",\"tickwidth\":2}},\"type\":\"scatterpolar\"}],\"scatterpolargl\":[{\"marker\":{\"colorbar\":{\"outlinewidth\":0,\"tickcolor\":\"rgb(36,36,36)\",\"ticklen\":8,\"ticks\":\"outside\",\"tickwidth\":2}},\"type\":\"scatterpolargl\"}],\"scatterternary\":[{\"marker\":{\"colorbar\":{\"outlinewidth\":0,\"tickcolor\":\"rgb(36,36,36)\",\"ticklen\":8,\"ticks\":\"outside\",\"tickwidth\":2}},\"type\":\"scatterternary\"}],\"surface\":[{\"colorbar\":{\"outlinewidth\":0,\"tickcolor\":\"rgb(36,36,36)\",\"ticklen\":8,\"ticks\":\"outside\",\"tickwidth\":2},\"colorscale\":[[0.0,\"rgb(2,4,25)\"],[0.06274509803921569,\"rgb(24,15,41)\"],[0.12549019607843137,\"rgb(47,23,57)\"],[0.18823529411764706,\"rgb(71,28,72)\"],[0.25098039215686274,\"rgb(97,30,82)\"],[0.3137254901960784,\"rgb(123,30,89)\"],[0.3764705882352941,\"rgb(150,27,91)\"],[0.4392156862745098,\"rgb(177,22,88)\"],[0.5019607843137255,\"rgb(203,26,79)\"],[0.5647058823529412,\"rgb(223,47,67)\"],[0.6274509803921569,\"rgb(236,76,61)\"],[0.6901960784313725,\"rgb(242,107,73)\"],[0.7529411764705882,\"rgb(244,135,95)\"],[0.8156862745098039,\"rgb(245,162,122)\"],[0.8784313725490196,\"rgb(246,188,153)\"],[0.9411764705882353,\"rgb(247,212,187)\"],[1.0,\"rgb(250,234,220)\"]],\"type\":\"surface\"}],\"table\":[{\"cells\":{\"fill\":{\"color\":\"rgb(231,231,240)\"},\"line\":{\"color\":\"white\"}},\"header\":{\"fill\":{\"color\":\"rgb(183,183,191)\"},\"line\":{\"color\":\"white\"}},\"type\":\"table\"}]},\"layout\":{\"annotationdefaults\":{\"arrowcolor\":\"rgb(67,103,167)\"},\"autotypenumbers\":\"strict\",\"coloraxis\":{\"colorbar\":{\"outlinewidth\":0,\"tickcolor\":\"rgb(36,36,36)\",\"ticklen\":8,\"ticks\":\"outside\",\"tickwidth\":2}},\"colorscale\":{\"sequential\":[[0.0,\"rgb(2,4,25)\"],[0.06274509803921569,\"rgb(24,15,41)\"],[0.12549019607843137,\"rgb(47,23,57)\"],[0.18823529411764706,\"rgb(71,28,72)\"],[0.25098039215686274,\"rgb(97,30,82)\"],[0.3137254901960784,\"rgb(123,30,89)\"],[0.3764705882352941,\"rgb(150,27,91)\"],[0.4392156862745098,\"rgb(177,22,88)\"],[0.5019607843137255,\"rgb(203,26,79)\"],[0.5647058823529412,\"rgb(223,47,67)\"],[0.6274509803921569,\"rgb(236,76,61)\"],[0.6901960784313725,\"rgb(242,107,73)\"],[0.7529411764705882,\"rgb(244,135,95)\"],[0.8156862745098039,\"rgb(245,162,122)\"],[0.8784313725490196,\"rgb(246,188,153)\"],[0.9411764705882353,\"rgb(247,212,187)\"],[1.0,\"rgb(250,234,220)\"]],\"sequentialminus\":[[0.0,\"rgb(2,4,25)\"],[0.06274509803921569,\"rgb(24,15,41)\"],[0.12549019607843137,\"rgb(47,23,57)\"],[0.18823529411764706,\"rgb(71,28,72)\"],[0.25098039215686274,\"rgb(97,30,82)\"],[0.3137254901960784,\"rgb(123,30,89)\"],[0.3764705882352941,\"rgb(150,27,91)\"],[0.4392156862745098,\"rgb(177,22,88)\"],[0.5019607843137255,\"rgb(203,26,79)\"],[0.5647058823529412,\"rgb(223,47,67)\"],[0.6274509803921569,\"rgb(236,76,61)\"],[0.6901960784313725,\"rgb(242,107,73)\"],[0.7529411764705882,\"rgb(244,135,95)\"],[0.8156862745098039,\"rgb(245,162,122)\"],[0.8784313725490196,\"rgb(246,188,153)\"],[0.9411764705882353,\"rgb(247,212,187)\"],[1.0,\"rgb(250,234,220)\"]]},\"colorway\":[\"rgb(76,114,176)\",\"rgb(221,132,82)\",\"rgb(85,168,104)\",\"rgb(196,78,82)\",\"rgb(129,114,179)\",\"rgb(147,120,96)\",\"rgb(218,139,195)\",\"rgb(140,140,140)\",\"rgb(204,185,116)\",\"rgb(100,181,205)\"],\"font\":{\"color\":\"rgb(36,36,36)\"},\"geo\":{\"bgcolor\":\"white\",\"lakecolor\":\"white\",\"landcolor\":\"rgb(234,234,242)\",\"showlakes\":true,\"showland\":true,\"subunitcolor\":\"white\"},\"hoverlabel\":{\"align\":\"left\"},\"hovermode\":\"closest\",\"paper_bgcolor\":\"white\",\"plot_bgcolor\":\"rgb(234,234,242)\",\"polar\":{\"angularaxis\":{\"gridcolor\":\"white\",\"linecolor\":\"white\",\"showgrid\":true,\"ticks\":\"\"},\"bgcolor\":\"rgb(234,234,242)\",\"radialaxis\":{\"gridcolor\":\"white\",\"linecolor\":\"white\",\"showgrid\":true,\"ticks\":\"\"}},\"scene\":{\"xaxis\":{\"backgroundcolor\":\"rgb(234,234,242)\",\"gridcolor\":\"white\",\"gridwidth\":2,\"linecolor\":\"white\",\"showbackground\":true,\"showgrid\":true,\"ticks\":\"\",\"zerolinecolor\":\"white\"},\"yaxis\":{\"backgroundcolor\":\"rgb(234,234,242)\",\"gridcolor\":\"white\",\"gridwidth\":2,\"linecolor\":\"white\",\"showbackground\":true,\"showgrid\":true,\"ticks\":\"\",\"zerolinecolor\":\"white\"},\"zaxis\":{\"backgroundcolor\":\"rgb(234,234,242)\",\"gridcolor\":\"white\",\"gridwidth\":2,\"linecolor\":\"white\",\"showbackground\":true,\"showgrid\":true,\"ticks\":\"\",\"zerolinecolor\":\"white\"}},\"shapedefaults\":{\"fillcolor\":\"rgb(67,103,167)\",\"line\":{\"width\":0},\"opacity\":0.5},\"ternary\":{\"aaxis\":{\"gridcolor\":\"white\",\"linecolor\":\"white\",\"showgrid\":true,\"ticks\":\"\"},\"baxis\":{\"gridcolor\":\"white\",\"linecolor\":\"white\",\"showgrid\":true,\"ticks\":\"\"},\"bgcolor\":\"rgb(234,234,242)\",\"caxis\":{\"gridcolor\":\"white\",\"linecolor\":\"white\",\"showgrid\":true,\"ticks\":\"\"}},\"xaxis\":{\"automargin\":true,\"gridcolor\":\"white\",\"linecolor\":\"white\",\"showgrid\":true,\"ticks\":\"\",\"title\":{\"standoff\":15},\"zerolinecolor\":\"white\"},\"yaxis\":{\"automargin\":true,\"gridcolor\":\"white\",\"linecolor\":\"white\",\"showgrid\":true,\"ticks\":\"\",\"title\":{\"standoff\":15},\"zerolinecolor\":\"white\"}}},\"title\":{\"text\":\"Post-1 study phase response distribution\"},\"xaxis\":{\"anchor\":\"y\",\"domain\":[0.0,1.0],\"title\":{\"text\":\"Total Metabolic Tumor Volume (ccm)\"}},\"xaxis2\":{\"anchor\":\"y2\",\"domain\":[0.0,1.0],\"matches\":\"x\",\"showticklabels\":false},\"yaxis\":{\"anchor\":\"x\",\"domain\":[0.0,0.7326],\"title\":{\"text\":\"Studies (count)\"}},\"yaxis2\":{\"anchor\":\"x2\",\"domain\":[0.7426,1.0],\"matches\":\"y2\",\"showline\":false,\"showticklabels\":false,\"ticks\":\"\"}},                        {\"responsive\": true}                    ).then(function(){\n                            \nvar gd = document.getElementById('18e53162-c179-48d6-95ac-cd2bdd77358e');\nvar x = new MutationObserver(function (mutations, observer) {{\n        var display = window.getComputedStyle(gd).display;\n        if (!display || display === 'none') {{\n            console.log([gd, 'removed!']);\n            Plotly.purge(gd);\n            observer.disconnect();\n        }}\n}});\n\n// Listen for the removal of the full notebook cells\nvar notebookContainer = gd.closest('#notebook-container');\nif (notebookContainer) {{\n    x.observe(notebookContainer, {childList: true});\n}}\n\n// Listen for the clearing of the current output cell\nvar outputEl = gd.closest('.output');\nif (outputEl) {{\n    x.observe(outputEl, {childList: true});\n}}\n\n                        })                };                            </script>        </div>\n</body>\n</html>"
     },
     "metadata": {},
     "output_type": "display_data"
    }
   ],
   "execution_count": null
  },
  {
   "cell_type": "markdown",
   "source": "## Patients",
   "metadata": {
    "cell_id": "00031-593ef611-ee8b-4964-9a3e-b90d8f1ffca1",
    "deepnote_app_coordinates": {
     "h": 2,
     "w": 12,
     "x": 0,
     "y": 0
    },
    "is_collapsed": false,
    "tags": [],
    "deepnote_cell_type": "text-cell-h2"
   }
  },
  {
   "cell_type": "markdown",
   "source": "### Dataset information",
   "metadata": {
    "cell_id": "00033-322bbc7b-3606-4a3b-8bf0-ff27407f79eb",
    "deepnote_app_coordinates": {
     "h": 2,
     "w": 12,
     "x": 0,
     "y": 0
    },
    "is_collapsed": false,
    "tags": [],
    "deepnote_cell_type": "text-cell-h3"
   }
  },
  {
   "cell_type": "markdown",
   "source": "### Preprocessing",
   "metadata": {
    "cell_id": "00034-4cd341ab-e7b3-4121-b236-7c1693b895ff",
    "deepnote_app_coordinates": {
     "h": 2,
     "w": 12,
     "x": 0,
     "y": 0
    },
    "is_collapsed": false,
    "tags": [],
    "deepnote_cell_type": "text-cell-h3"
   }
  },
  {
   "cell_type": "code",
   "metadata": {
    "cell_id": "00035-4a432704-c37c-458a-b100-1d13ab25fa6e",
    "deepnote_app_coordinates": {
     "h": 5,
     "w": 12,
     "x": 0,
     "y": 0
    },
    "deepnote_app_is_code_hidden": true,
    "deepnote_to_be_reexecuted": false,
    "execution_millis": 85,
    "execution_start": 1633941816166,
    "source_hash": "8d99a846",
    "tags": [],
    "deepnote_cell_type": "code"
   },
   "source": "patients = pd.read_csv(os.path.join(CONNECTION_DIR + DATA_FOLDERS[0], FILES['patients']))\n\npatients['age_at_treatment_start_in_years'] = \\\n    patients.age_at_treatment_start_in_years.apply(\n        lambda a: 90 if a == '90 or older' else int(a))\n\npatients['survival_1_year'] = (patients.survival_in_days > 365)\n\nblood = pd.read_csv(os.path.join(CONNECTION_DIR + DATA_FOLDERS[1], FILES['blood']))\nblood.drop(columns=['n_days_to_treatment_start', 'n_days_to_treatment_end'], inplace=True)\nblood.rename(columns={feature: feature.replace('-', '_') for feature in blood.columns}, inplace=True)\n\npatients = patients.merge(blood, on='gpcr_id', how='inner')\n\nn_patients, f_patients = patients.shape\n\nprint(f'Imported {n_patients} patients with {f_studies} features. Null values: {patients.isna().sum().sum()}')",
   "outputs": [
    {
     "name": "stdout",
     "text": "Imported 129 patients with 27 features. Null values: 1311\n",
     "output_type": "stream"
    }
   ],
   "execution_count": null
  },
  {
   "cell_type": "code",
   "metadata": {
    "cell_id": "00036-289611e3-8309-47e6-87e3-3242df4f2c64",
    "deepnote_app_coordinates": {
     "h": 5,
     "w": 12,
     "x": 0,
     "y": 0
    },
    "deepnote_app_is_code_hidden": true,
    "deepnote_to_be_reexecuted": false,
    "execution_millis": 142,
    "execution_start": 1633941817025,
    "source_hash": "a8ec5b8d",
    "tags": [],
    "deepnote_cell_type": "code"
   },
   "source": "patients",
   "outputs": [
    {
     "output_type": "execute_result",
     "execution_count": 157,
     "data": {
      "application/vnd.deepnote.dataframe.v2+json": {
       "row_count": 129,
       "column_count": 47,
       "columns": [
        {
         "name": "gpcr_id",
         "dtype": "int64",
         "stats": {
          "unique_count": 129,
          "nan_count": 0,
          "min": "34610001",
          "max": "34610150",
          "histogram": [
           {
            "bin_start": 34610001,
            "bin_end": 34610015.9,
            "count": 14
           },
           {
            "bin_start": 34610015.9,
            "bin_end": 34610030.8,
            "count": 14
           },
           {
            "bin_start": 34610030.8,
            "bin_end": 34610045.7,
            "count": 13
           },
           {
            "bin_start": 34610045.7,
            "bin_end": 34610060.6,
            "count": 11
           },
           {
            "bin_start": 34610060.6,
            "bin_end": 34610075.5,
            "count": 12
           },
           {
            "bin_start": 34610075.5,
            "bin_end": 34610090.4,
            "count": 13
           },
           {
            "bin_start": 34610090.4,
            "bin_end": 34610105.3,
            "count": 13
           },
           {
            "bin_start": 34610105.3,
            "bin_end": 34610120.2,
            "count": 11
           },
           {
            "bin_start": 34610120.2,
            "bin_end": 34610135.1,
            "count": 13
           },
           {
            "bin_start": 34610135.1,
            "bin_end": 34610150,
            "count": 15
           }
          ]
         }
        },
        {
         "name": "age_at_treatment_start_in_years",
         "dtype": "int64",
         "stats": {
          "unique_count": 48,
          "nan_count": 0,
          "min": "27",
          "max": "90",
          "histogram": [
           {
            "bin_start": 27,
            "bin_end": 33.3,
            "count": 3
           },
           {
            "bin_start": 33.3,
            "bin_end": 39.6,
            "count": 3
           },
           {
            "bin_start": 39.6,
            "bin_end": 45.9,
            "count": 8
           },
           {
            "bin_start": 45.9,
            "bin_end": 52.2,
            "count": 8
           },
           {
            "bin_start": 52.2,
            "bin_end": 58.5,
            "count": 14
           },
           {
            "bin_start": 58.5,
            "bin_end": 64.8,
            "count": 15
           },
           {
            "bin_start": 64.8,
            "bin_end": 71.1,
            "count": 24
           },
           {
            "bin_start": 71.1,
            "bin_end": 77.4,
            "count": 32
           },
           {
            "bin_start": 77.4,
            "bin_end": 83.69999999999999,
            "count": 15
           },
           {
            "bin_start": 83.69999999999999,
            "bin_end": 90,
            "count": 7
           }
          ]
         }
        },
        {
         "name": "duration_treatment_in_days",
         "dtype": "int64",
         "stats": {
          "unique_count": 52,
          "nan_count": 0,
          "min": "0",
          "max": "771",
          "histogram": [
           {
            "bin_start": 0,
            "bin_end": 77.1,
            "count": 87
           },
           {
            "bin_start": 77.1,
            "bin_end": 154.2,
            "count": 18
           },
           {
            "bin_start": 154.2,
            "bin_end": 231.29999999999998,
            "count": 5
           },
           {
            "bin_start": 231.29999999999998,
            "bin_end": 308.4,
            "count": 2
           },
           {
            "bin_start": 308.4,
            "bin_end": 385.5,
            "count": 7
           },
           {
            "bin_start": 385.5,
            "bin_end": 462.59999999999997,
            "count": 1
           },
           {
            "bin_start": 462.59999999999997,
            "bin_end": 539.6999999999999,
            "count": 2
           },
           {
            "bin_start": 539.6999999999999,
            "bin_end": 616.8,
            "count": 2
           },
           {
            "bin_start": 616.8,
            "bin_end": 693.9,
            "count": 0
           },
           {
            "bin_start": 693.9,
            "bin_end": 771,
            "count": 5
           }
          ]
         }
        },
        {
         "name": "death_event_observed",
         "dtype": "bool",
         "stats": {
          "unique_count": 2,
          "nan_count": 0,
          "categories": [
           {
            "name": "False",
            "count": 71
           },
           {
            "name": "True",
            "count": 58
           }
          ]
         }
        },
        {
         "name": "survival_in_days",
         "dtype": "int64",
         "stats": {
          "unique_count": 127,
          "nan_count": 0,
          "min": "22",
          "max": "2444",
          "histogram": [
           {
            "bin_start": 22,
            "bin_end": 264.2,
            "count": 20
           },
           {
            "bin_start": 264.2,
            "bin_end": 506.4,
            "count": 32
           },
           {
            "bin_start": 506.4,
            "bin_end": 748.5999999999999,
            "count": 17
           },
           {
            "bin_start": 748.5999999999999,
            "bin_end": 990.8,
            "count": 15
           },
           {
            "bin_start": 990.8,
            "bin_end": 1233,
            "count": 16
           },
           {
            "bin_start": 1233,
            "bin_end": 1475.1999999999998,
            "count": 11
           },
           {
            "bin_start": 1475.1999999999998,
            "bin_end": 1717.3999999999999,
            "count": 7
           },
           {
            "bin_start": 1717.3999999999999,
            "bin_end": 1959.6,
            "count": 5
           },
           {
            "bin_start": 1959.6,
            "bin_end": 2201.7999999999997,
            "count": 4
           },
           {
            "bin_start": 2201.7999999999997,
            "bin_end": 2444,
            "count": 2
           }
          ]
         }
        },
        {
         "name": "n_imgs_before_treatment",
         "dtype": "int64",
         "stats": {
          "unique_count": 3,
          "nan_count": 0,
          "min": "0",
          "max": "2",
          "histogram": [
           {
            "bin_start": 0,
            "bin_end": 0.2,
            "count": 41
           },
           {
            "bin_start": 0.2,
            "bin_end": 0.4,
            "count": 0
           },
           {
            "bin_start": 0.4,
            "bin_end": 0.6000000000000001,
            "count": 0
           },
           {
            "bin_start": 0.6000000000000001,
            "bin_end": 0.8,
            "count": 0
           },
           {
            "bin_start": 0.8,
            "bin_end": 1,
            "count": 0
           },
           {
            "bin_start": 1,
            "bin_end": 1.2000000000000002,
            "count": 73
           },
           {
            "bin_start": 1.2000000000000002,
            "bin_end": 1.4000000000000001,
            "count": 0
           },
           {
            "bin_start": 1.4000000000000001,
            "bin_end": 1.6,
            "count": 0
           },
           {
            "bin_start": 1.6,
            "bin_end": 1.8,
            "count": 0
           },
           {
            "bin_start": 1.8,
            "bin_end": 2,
            "count": 15
           }
          ]
         }
        },
        {
         "name": "n_imgs_during_treatment",
         "dtype": "int64",
         "stats": {
          "unique_count": 9,
          "nan_count": 0,
          "min": "0",
          "max": "8",
          "histogram": [
           {
            "bin_start": 0,
            "bin_end": 0.8,
            "count": 84
           },
           {
            "bin_start": 0.8,
            "bin_end": 1.6,
            "count": 28
           },
           {
            "bin_start": 1.6,
            "bin_end": 2.4000000000000004,
            "count": 3
           },
           {
            "bin_start": 2.4000000000000004,
            "bin_end": 3.2,
            "count": 6
           },
           {
            "bin_start": 3.2,
            "bin_end": 4,
            "count": 0
           },
           {
            "bin_start": 4,
            "bin_end": 4.800000000000001,
            "count": 3
           },
           {
            "bin_start": 4.800000000000001,
            "bin_end": 5.6000000000000005,
            "count": 1
           },
           {
            "bin_start": 5.6000000000000005,
            "bin_end": 6.4,
            "count": 2
           },
           {
            "bin_start": 6.4,
            "bin_end": 7.2,
            "count": 1
           },
           {
            "bin_start": 7.2,
            "bin_end": 8,
            "count": 1
           }
          ]
         }
        },
        {
         "name": "n_imgs_after_treatment_end",
         "dtype": "int64",
         "stats": {
          "unique_count": 11,
          "nan_count": 0,
          "min": "0",
          "max": "14",
          "histogram": [
           {
            "bin_start": 0,
            "bin_end": 1.4,
            "count": 69
           },
           {
            "bin_start": 1.4,
            "bin_end": 2.8,
            "count": 13
           },
           {
            "bin_start": 2.8,
            "bin_end": 4.199999999999999,
            "count": 32
           },
           {
            "bin_start": 4.199999999999999,
            "bin_end": 5.6,
            "count": 6
           },
           {
            "bin_start": 5.6,
            "bin_end": 7,
            "count": 2
           },
           {
            "bin_start": 7,
            "bin_end": 8.399999999999999,
            "count": 2
           },
           {
            "bin_start": 8.399999999999999,
            "bin_end": 9.799999999999999,
            "count": 2
           },
           {
            "bin_start": 9.799999999999999,
            "bin_end": 11.2,
            "count": 2
           },
           {
            "bin_start": 11.2,
            "bin_end": 12.6,
            "count": 0
           },
           {
            "bin_start": 12.6,
            "bin_end": 14,
            "count": 1
           }
          ]
         }
        },
        {
         "name": "n_imgs_after_treatment_start",
         "dtype": "int64",
         "stats": {
          "unique_count": 12,
          "nan_count": 0,
          "min": "0",
          "max": "14",
          "histogram": [
           {
            "bin_start": 0,
            "bin_end": 1.4,
            "count": 46
           },
           {
            "bin_start": 1.4,
            "bin_end": 2.8,
            "count": 21
           },
           {
            "bin_start": 2.8,
            "bin_end": 4.199999999999999,
            "count": 33
           },
           {
            "bin_start": 4.199999999999999,
            "bin_end": 5.6,
            "count": 13
           },
           {
            "bin_start": 5.6,
            "bin_end": 7,
            "count": 5
           },
           {
            "bin_start": 7,
            "bin_end": 8.399999999999999,
            "count": 4
           },
           {
            "bin_start": 8.399999999999999,
            "bin_end": 9.799999999999999,
            "count": 3
           },
           {
            "bin_start": 9.799999999999999,
            "bin_end": 11.2,
            "count": 3
           },
           {
            "bin_start": 11.2,
            "bin_end": 12.6,
            "count": 0
           },
           {
            "bin_start": 12.6,
            "bin_end": 14,
            "count": 1
           }
          ]
         }
        },
        {
         "name": "survival_1_year",
         "dtype": "bool",
         "stats": {
          "unique_count": 2,
          "nan_count": 0,
          "categories": [
           {
            "name": "True",
            "count": 100
           },
           {
            "name": "False",
            "count": 29
           }
          ]
         }
        },
        {
         "name": "sex",
         "dtype": "object",
         "stats": {
          "unique_count": 2,
          "nan_count": 0,
          "categories": [
           {
            "name": "male",
            "count": 78
           },
           {
            "name": "female",
            "count": 51
           }
          ]
         }
        },
        {
         "name": "bmi",
         "dtype": "float64",
         "stats": {
          "unique_count": 118,
          "nan_count": 3,
          "min": "16.56",
          "max": "43.28",
          "histogram": [
           {
            "bin_start": 16.56,
            "bin_end": 19.232,
            "count": 2
           },
           {
            "bin_start": 19.232,
            "bin_end": 21.904,
            "count": 22
           },
           {
            "bin_start": 21.904,
            "bin_end": 24.576,
            "count": 24
           },
           {
            "bin_start": 24.576,
            "bin_end": 27.247999999999998,
            "count": 30
           },
           {
            "bin_start": 27.247999999999998,
            "bin_end": 29.92,
            "count": 16
           },
           {
            "bin_start": 29.92,
            "bin_end": 32.592,
            "count": 20
           },
           {
            "bin_start": 32.592,
            "bin_end": 35.263999999999996,
            "count": 4
           },
           {
            "bin_start": 35.263999999999996,
            "bin_end": 37.936,
            "count": 4
           },
           {
            "bin_start": 37.936,
            "bin_end": 40.608000000000004,
            "count": 2
           },
           {
            "bin_start": 40.608000000000004,
            "bin_end": 43.28,
            "count": 2
           }
          ]
         }
        },
        {
         "name": "has_brain_mets",
         "dtype": "object",
         "stats": {
          "unique_count": 2,
          "nan_count": 0,
          "categories": [
           {
            "name": "n",
            "count": 75
           },
           {
            "name": "y",
            "count": 54
           }
          ]
         }
        },
        {
         "name": "performance_score_ecog",
         "dtype": "int64",
         "stats": {
          "unique_count": 4,
          "nan_count": 0,
          "min": "0",
          "max": "4",
          "histogram": [
           {
            "bin_start": 0,
            "bin_end": 0.4,
            "count": 86
           },
           {
            "bin_start": 0.4,
            "bin_end": 0.8,
            "count": 0
           },
           {
            "bin_start": 0.8,
            "bin_end": 1.2000000000000002,
            "count": 35
           },
           {
            "bin_start": 1.2000000000000002,
            "bin_end": 1.6,
            "count": 0
           },
           {
            "bin_start": 1.6,
            "bin_end": 2,
            "count": 0
           },
           {
            "bin_start": 2,
            "bin_end": 2.4000000000000004,
            "count": 7
           },
           {
            "bin_start": 2.4000000000000004,
            "bin_end": 2.8000000000000003,
            "count": 0
           },
           {
            "bin_start": 2.8000000000000003,
            "bin_end": 3.2,
            "count": 0
           },
           {
            "bin_start": 3.2,
            "bin_end": 3.6,
            "count": 0
           },
           {
            "bin_start": 3.6,
            "bin_end": 4,
            "count": 1
           }
          ]
         }
        },
        {
         "name": "asat_sang_ul",
         "dtype": "float64",
         "stats": {
          "unique_count": 32,
          "nan_count": 31,
          "min": "9.0",
          "max": "106.0",
          "histogram": [
           {
            "bin_start": 9,
            "bin_end": 18.7,
            "count": 32
           },
           {
            "bin_start": 18.7,
            "bin_end": 28.4,
            "count": 44
           },
           {
            "bin_start": 28.4,
            "bin_end": 38.099999999999994,
            "count": 16
           },
           {
            "bin_start": 38.099999999999994,
            "bin_end": 47.8,
            "count": 1
           },
           {
            "bin_start": 47.8,
            "bin_end": 57.5,
            "count": 1
           },
           {
            "bin_start": 57.5,
            "bin_end": 67.19999999999999,
            "count": 1
           },
           {
            "bin_start": 67.19999999999999,
            "bin_end": 76.89999999999999,
            "count": 1
           },
           {
            "bin_start": 76.89999999999999,
            "bin_end": 86.6,
            "count": 1
           },
           {
            "bin_start": 86.6,
            "bin_end": 96.3,
            "count": 0
           },
           {
            "bin_start": 96.3,
            "bin_end": 106,
            "count": 1
           }
          ]
         }
        },
        {
         "name": "bili_totale_sang_umoll",
         "dtype": "float64",
         "stats": {
          "unique_count": 21,
          "nan_count": 38,
          "min": "3.0",
          "max": "22.0",
          "histogram": [
           {
            "bin_start": 3,
            "bin_end": 4.9,
            "count": 14
           },
           {
            "bin_start": 4.9,
            "bin_end": 6.8,
            "count": 24
           },
           {
            "bin_start": 6.8,
            "bin_end": 8.7,
            "count": 16
           },
           {
            "bin_start": 8.7,
            "bin_end": 10.6,
            "count": 14
           },
           {
            "bin_start": 10.6,
            "bin_end": 12.5,
            "count": 8
           },
           {
            "bin_start": 12.5,
            "bin_end": 14.399999999999999,
            "count": 4
           },
           {
            "bin_start": 14.399999999999999,
            "bin_end": 16.299999999999997,
            "count": 5
           },
           {
            "bin_start": 16.299999999999997,
            "bin_end": 18.2,
            "count": 2
           },
           {
            "bin_start": 18.2,
            "bin_end": 20.099999999999998,
            "count": 2
           },
           {
            "bin_start": 20.099999999999998,
            "bin_end": 22,
            "count": 2
           }
          ]
         }
        },
        {
         "name": "mono_absolus_gl",
         "dtype": "float64",
         "stats": {
          "unique_count": 55,
          "nan_count": 40,
          "min": "0.2",
          "max": "1.415",
          "histogram": [
           {
            "bin_start": 0.2,
            "bin_end": 0.3215,
            "count": 5
           },
           {
            "bin_start": 0.3215,
            "bin_end": 0.44300000000000006,
            "count": 17
           },
           {
            "bin_start": 0.44300000000000006,
            "bin_end": 0.5645,
            "count": 19
           },
           {
            "bin_start": 0.5645,
            "bin_end": 0.686,
            "count": 14
           },
           {
            "bin_start": 0.686,
            "bin_end": 0.8075000000000001,
            "count": 20
           },
           {
            "bin_start": 0.8075000000000001,
            "bin_end": 0.929,
            "count": 7
           },
           {
            "bin_start": 0.929,
            "bin_end": 1.0505,
            "count": 3
           },
           {
            "bin_start": 1.0505,
            "bin_end": 1.1720000000000002,
            "count": 2
           },
           {
            "bin_start": 1.1720000000000002,
            "bin_end": 1.2935,
            "count": 1
           },
           {
            "bin_start": 1.2935,
            "bin_end": 1.415,
            "count": 1
           }
          ]
         }
        },
        {
         "name": "alat_sang_ul",
         "dtype": "float64",
         "stats": {
          "unique_count": 45,
          "nan_count": 32,
          "min": "7.0",
          "max": "115.0",
          "histogram": [
           {
            "bin_start": 7,
            "bin_end": 17.8,
            "count": 38
           },
           {
            "bin_start": 17.8,
            "bin_end": 28.6,
            "count": 28
           },
           {
            "bin_start": 28.6,
            "bin_end": 39.400000000000006,
            "count": 16
           },
           {
            "bin_start": 39.400000000000006,
            "bin_end": 50.2,
            "count": 7
           },
           {
            "bin_start": 50.2,
            "bin_end": 61,
            "count": 3
           },
           {
            "bin_start": 61,
            "bin_end": 71.80000000000001,
            "count": 3
           },
           {
            "bin_start": 71.80000000000001,
            "bin_end": 82.60000000000001,
            "count": 0
           },
           {
            "bin_start": 82.60000000000001,
            "bin_end": 93.4,
            "count": 0
           },
           {
            "bin_start": 93.4,
            "bin_end": 104.2,
            "count": 1
           },
           {
            "bin_start": 104.2,
            "bin_end": 115,
            "count": 1
           }
          ]
         }
        },
        {
         "name": "plaquettes_sang_gl",
         "dtype": "float64",
         "stats": {
          "unique_count": 79,
          "nan_count": 40,
          "min": "48.0",
          "max": "496.0",
          "histogram": [
           {
            "bin_start": 48,
            "bin_end": 92.8,
            "count": 1
           },
           {
            "bin_start": 92.8,
            "bin_end": 137.6,
            "count": 2
           },
           {
            "bin_start": 137.6,
            "bin_end": 182.39999999999998,
            "count": 6
           },
           {
            "bin_start": 182.39999999999998,
            "bin_end": 227.2,
            "count": 16
           },
           {
            "bin_start": 227.2,
            "bin_end": 272,
            "count": 33
           },
           {
            "bin_start": 272,
            "bin_end": 316.79999999999995,
            "count": 14
           },
           {
            "bin_start": 316.79999999999995,
            "bin_end": 361.59999999999997,
            "count": 5
           },
           {
            "bin_start": 361.59999999999997,
            "bin_end": 406.4,
            "count": 3
           },
           {
            "bin_start": 406.4,
            "bin_end": 451.2,
            "count": 7
           },
           {
            "bin_start": 451.2,
            "bin_end": 496,
            "count": 2
           }
          ]
         }
        },
        {
         "name": "lympho_absolus_gl",
         "dtype": "float64",
         "stats": {
          "unique_count": 73,
          "nan_count": 40,
          "min": "0.44",
          "max": "7.7",
          "histogram": [
           {
            "bin_start": 0.44,
            "bin_end": 1.166,
            "count": 26
           },
           {
            "bin_start": 1.166,
            "bin_end": 1.892,
            "count": 41
           },
           {
            "bin_start": 1.892,
            "bin_end": 2.618,
            "count": 15
           },
           {
            "bin_start": 2.618,
            "bin_end": 3.344,
            "count": 3
           },
           {
            "bin_start": 3.344,
            "bin_end": 4.07,
            "count": 2
           },
           {
            "bin_start": 4.07,
            "bin_end": 4.796,
            "count": 0
           },
           {
            "bin_start": 4.796,
            "bin_end": 5.522,
            "count": 0
           },
           {
            "bin_start": 5.522,
            "bin_end": 6.248,
            "count": 0
           },
           {
            "bin_start": 6.248,
            "bin_end": 6.974,
            "count": 0
           },
           {
            "bin_start": 6.974,
            "bin_end": 7.7,
            "count": 2
           }
          ]
         }
        },
        {
         "name": "albumine_sang_gl",
         "dtype": "float64",
         "stats": {
          "unique_count": 18,
          "nan_count": 76,
          "min": "28.0",
          "max": "49.0",
          "histogram": [
           {
            "bin_start": 28,
            "bin_end": 30.1,
            "count": 2
           },
           {
            "bin_start": 30.1,
            "bin_end": 32.2,
            "count": 1
           },
           {
            "bin_start": 32.2,
            "bin_end": 34.3,
            "count": 1
           },
           {
            "bin_start": 34.3,
            "bin_end": 36.4,
            "count": 1
           },
           {
            "bin_start": 36.4,
            "bin_end": 38.5,
            "count": 5
           },
           {
            "bin_start": 38.5,
            "bin_end": 40.6,
            "count": 10
           },
           {
            "bin_start": 40.6,
            "bin_end": 42.7,
            "count": 11
           },
           {
            "bin_start": 42.7,
            "bin_end": 44.8,
            "count": 10
           },
           {
            "bin_start": 44.8,
            "bin_end": 46.900000000000006,
            "count": 7
           },
           {
            "bin_start": 46.900000000000006,
            "bin_end": 49,
            "count": 5
           }
          ]
         }
        },
        {
         "name": "proteine_c_reacsang_mgl",
         "dtype": "float64",
         "stats": {
          "unique_count": 3,
          "nan_count": 126,
          "min": "3.0",
          "max": "156.0",
          "histogram": [
           {
            "bin_start": 3,
            "bin_end": 18.3,
            "count": 1
           },
           {
            "bin_start": 18.3,
            "bin_end": 33.6,
            "count": 1
           },
           {
            "bin_start": 33.6,
            "bin_end": 48.900000000000006,
            "count": 0
           },
           {
            "bin_start": 48.900000000000006,
            "bin_end": 64.2,
            "count": 0
           },
           {
            "bin_start": 64.2,
            "bin_end": 79.5,
            "count": 0
           },
           {
            "bin_start": 79.5,
            "bin_end": 94.80000000000001,
            "count": 0
           },
           {
            "bin_start": 94.80000000000001,
            "bin_end": 110.10000000000001,
            "count": 0
           },
           {
            "bin_start": 110.10000000000001,
            "bin_end": 125.4,
            "count": 0
           },
           {
            "bin_start": 125.4,
            "bin_end": 140.70000000000002,
            "count": 0
           },
           {
            "bin_start": 140.70000000000002,
            "bin_end": 156,
            "count": 1
           }
          ]
         }
        },
        {
         "name": "potassium_sang_mmoll",
         "dtype": "float64",
         "stats": {
          "unique_count": 20,
          "nan_count": 42,
          "min": "3.0",
          "max": "5.5",
          "histogram": [
           {
            "bin_start": 3,
            "bin_end": 3.25,
            "count": 1
           },
           {
            "bin_start": 3.25,
            "bin_end": 3.5,
            "count": 7
           },
           {
            "bin_start": 3.5,
            "bin_end": 3.75,
            "count": 11
           },
           {
            "bin_start": 3.75,
            "bin_end": 4,
            "count": 19
           },
           {
            "bin_start": 4,
            "bin_end": 4.25,
            "count": 24
           },
           {
            "bin_start": 4.25,
            "bin_end": 4.5,
            "count": 11
           },
           {
            "bin_start": 4.5,
            "bin_end": 4.75,
            "count": 6
           },
           {
            "bin_start": 4.75,
            "bin_end": 5,
            "count": 6
           },
           {
            "bin_start": 5,
            "bin_end": 5.25,
            "count": 0
           },
           {
            "bin_start": 5.25,
            "bin_end": 5.5,
            "count": 2
           }
          ]
         }
        },
        {
         "name": "hemoglobine_sang_gl",
         "dtype": "float64",
         "stats": {
          "unique_count": 49,
          "nan_count": 40,
          "min": "83.0",
          "max": "167.0",
          "histogram": [
           {
            "bin_start": 83,
            "bin_end": 91.4,
            "count": 3
           },
           {
            "bin_start": 91.4,
            "bin_end": 99.8,
            "count": 4
           },
           {
            "bin_start": 99.8,
            "bin_end": 108.2,
            "count": 1
           },
           {
            "bin_start": 108.2,
            "bin_end": 116.6,
            "count": 4
           },
           {
            "bin_start": 116.6,
            "bin_end": 125,
            "count": 13
           },
           {
            "bin_start": 125,
            "bin_end": 133.4,
            "count": 20
           },
           {
            "bin_start": 133.4,
            "bin_end": 141.8,
            "count": 15
           },
           {
            "bin_start": 141.8,
            "bin_end": 150.2,
            "count": 14
           },
           {
            "bin_start": 150.2,
            "bin_end": 158.60000000000002,
            "count": 11
           },
           {
            "bin_start": 158.60000000000002,
            "bin_end": 167,
            "count": 4
           }
          ]
         }
        },
        {
         "name": "calcium_sang_mmoll",
         "dtype": "float64",
         "stats": {
          "unique_count": 23,
          "nan_count": 75,
          "min": "2.12",
          "max": "2.59",
          "histogram": [
           {
            "bin_start": 2.12,
            "bin_end": 2.1670000000000003,
            "count": 3
           },
           {
            "bin_start": 2.1670000000000003,
            "bin_end": 2.214,
            "count": 4
           },
           {
            "bin_start": 2.214,
            "bin_end": 2.261,
            "count": 8
           },
           {
            "bin_start": 2.261,
            "bin_end": 2.308,
            "count": 6
           },
           {
            "bin_start": 2.308,
            "bin_end": 2.355,
            "count": 17
           },
           {
            "bin_start": 2.355,
            "bin_end": 2.402,
            "count": 9
           },
           {
            "bin_start": 2.402,
            "bin_end": 2.449,
            "count": 4
           },
           {
            "bin_start": 2.449,
            "bin_end": 2.496,
            "count": 1
           },
           {
            "bin_start": 2.496,
            "bin_end": 2.5429999999999997,
            "count": 1
           },
           {
            "bin_start": 2.5429999999999997,
            "bin_end": 2.59,
            "count": 1
           }
          ]
         }
        },
        {
         "name": "ldh_sang_ul",
         "dtype": "float64",
         "stats": {
          "unique_count": 69,
          "nan_count": 44,
          "min": "135.0",
          "max": "939.0",
          "histogram": [
           {
            "bin_start": 135,
            "bin_end": 215.4,
            "count": 48
           },
           {
            "bin_start": 215.4,
            "bin_end": 295.8,
            "count": 23
           },
           {
            "bin_start": 295.8,
            "bin_end": 376.20000000000005,
            "count": 5
           },
           {
            "bin_start": 376.20000000000005,
            "bin_end": 456.6,
            "count": 3
           },
           {
            "bin_start": 456.6,
            "bin_end": 537,
            "count": 3
           },
           {
            "bin_start": 537,
            "bin_end": 617.4000000000001,
            "count": 0
           },
           {
            "bin_start": 617.4000000000001,
            "bin_end": 697.8000000000001,
            "count": 1
           },
           {
            "bin_start": 697.8000000000001,
            "bin_end": 778.2,
            "count": 1
           },
           {
            "bin_start": 778.2,
            "bin_end": 858.6,
            "count": 0
           },
           {
            "bin_start": 858.6,
            "bin_end": 939,
            "count": 1
           }
          ]
         }
        },
        {
         "name": "creatinine_sang_umoll",
         "dtype": "float64",
         "stats": {
          "unique_count": 56,
          "nan_count": 33,
          "min": "46.0",
          "max": "492.0",
          "histogram": [
           {
            "bin_start": 46,
            "bin_end": 90.6,
            "count": 76
           },
           {
            "bin_start": 90.6,
            "bin_end": 135.2,
            "count": 16
           },
           {
            "bin_start": 135.2,
            "bin_end": 179.8,
            "count": 2
           },
           {
            "bin_start": 179.8,
            "bin_end": 224.4,
            "count": 0
           },
           {
            "bin_start": 224.4,
            "bin_end": 269,
            "count": 1
           },
           {
            "bin_start": 269,
            "bin_end": 313.6,
            "count": 0
           },
           {
            "bin_start": 313.6,
            "bin_end": 358.2,
            "count": 0
           },
           {
            "bin_start": 358.2,
            "bin_end": 402.8,
            "count": 0
           },
           {
            "bin_start": 402.8,
            "bin_end": 447.40000000000003,
            "count": 0
           },
           {
            "bin_start": 447.40000000000003,
            "bin_end": 492,
            "count": 1
           }
          ]
         }
        },
        {
         "name": "pal_sang_ul",
         "dtype": "float64",
         "stats": {
          "unique_count": 62,
          "nan_count": 34,
          "min": "37.0",
          "max": "343.0",
          "histogram": [
           {
            "bin_start": 37,
            "bin_end": 67.6,
            "count": 39
           },
           {
            "bin_start": 67.6,
            "bin_end": 98.2,
            "count": 34
           },
           {
            "bin_start": 98.2,
            "bin_end": 128.8,
            "count": 13
           },
           {
            "bin_start": 128.8,
            "bin_end": 159.4,
            "count": 4
           },
           {
            "bin_start": 159.4,
            "bin_end": 190,
            "count": 1
           },
           {
            "bin_start": 190,
            "bin_end": 220.60000000000002,
            "count": 2
           },
           {
            "bin_start": 220.60000000000002,
            "bin_end": 251.20000000000002,
            "count": 0
           },
           {
            "bin_start": 251.20000000000002,
            "bin_end": 281.8,
            "count": 1
           },
           {
            "bin_start": 281.8,
            "bin_end": 312.40000000000003,
            "count": 0
           },
           {
            "bin_start": 312.40000000000003,
            "bin_end": 343,
            "count": 1
           }
          ]
         }
        },
        {
         "name": "neutro_absolus_gl",
         "dtype": "float64",
         "stats": {
          "unique_count": 82,
          "nan_count": 40,
          "min": "1.54",
          "max": "21.69",
          "histogram": [
           {
            "bin_start": 1.54,
            "bin_end": 3.555,
            "count": 23
           },
           {
            "bin_start": 3.555,
            "bin_end": 5.57,
            "count": 36
           },
           {
            "bin_start": 5.57,
            "bin_end": 7.585,
            "count": 21
           },
           {
            "bin_start": 7.585,
            "bin_end": 9.600000000000001,
            "count": 3
           },
           {
            "bin_start": 9.600000000000001,
            "bin_end": 11.615000000000002,
            "count": 4
           },
           {
            "bin_start": 11.615000000000002,
            "bin_end": 13.629999999999999,
            "count": 0
           },
           {
            "bin_start": 13.629999999999999,
            "bin_end": 15.645,
            "count": 1
           },
           {
            "bin_start": 15.645,
            "bin_end": 17.66,
            "count": 0
           },
           {
            "bin_start": 17.66,
            "bin_end": 19.675,
            "count": 0
           },
           {
            "bin_start": 19.675,
            "bin_end": 21.69,
            "count": 1
           }
          ]
         }
        },
        {
         "name": "eosini_absolus_gl",
         "dtype": "float64",
         "stats": {
          "unique_count": 43,
          "nan_count": 40,
          "min": "0.0",
          "max": "1.11",
          "histogram": [
           {
            "bin_start": 0,
            "bin_end": 0.11100000000000002,
            "count": 35
           },
           {
            "bin_start": 0.11100000000000002,
            "bin_end": 0.22200000000000003,
            "count": 28
           },
           {
            "bin_start": 0.22200000000000003,
            "bin_end": 0.3330000000000001,
            "count": 15
           },
           {
            "bin_start": 0.3330000000000001,
            "bin_end": 0.44400000000000006,
            "count": 7
           },
           {
            "bin_start": 0.44400000000000006,
            "bin_end": 0.555,
            "count": 3
           },
           {
            "bin_start": 0.555,
            "bin_end": 0.6660000000000001,
            "count": 0
           },
           {
            "bin_start": 0.6660000000000001,
            "bin_end": 0.7770000000000001,
            "count": 0
           },
           {
            "bin_start": 0.7770000000000001,
            "bin_end": 0.8880000000000001,
            "count": 0
           },
           {
            "bin_start": 0.8880000000000001,
            "bin_end": 0.9990000000000001,
            "count": 0
           },
           {
            "bin_start": 0.9990000000000001,
            "bin_end": 1.11,
            "count": 1
           }
          ]
         }
        },
        {
         "name": "baso_absolus_gl",
         "dtype": "float64",
         "stats": {
          "unique_count": 23,
          "nan_count": 40,
          "min": "0.0",
          "max": "0.24",
          "histogram": [
           {
            "bin_start": 0,
            "bin_end": 0.024,
            "count": 31
           },
           {
            "bin_start": 0.024,
            "bin_end": 0.048,
            "count": 5
           },
           {
            "bin_start": 0.048,
            "bin_end": 0.07200000000000001,
            "count": 37
           },
           {
            "bin_start": 0.07200000000000001,
            "bin_end": 0.096,
            "count": 5
           },
           {
            "bin_start": 0.096,
            "bin_end": 0.12,
            "count": 4
           },
           {
            "bin_start": 0.12,
            "bin_end": 0.14400000000000002,
            "count": 3
           },
           {
            "bin_start": 0.14400000000000002,
            "bin_end": 0.168,
            "count": 2
           },
           {
            "bin_start": 0.168,
            "bin_end": 0.192,
            "count": 0
           },
           {
            "bin_start": 0.192,
            "bin_end": 0.216,
            "count": 0
           },
           {
            "bin_start": 0.216,
            "bin_end": 0.24,
            "count": 2
           }
          ]
         }
        },
        {
         "name": "ggt_sang_ul",
         "dtype": "float64",
         "stats": {
          "unique_count": 60,
          "nan_count": 40,
          "min": "8.0",
          "max": "406.0",
          "histogram": [
           {
            "bin_start": 8,
            "bin_end": 47.8,
            "count": 55
           },
           {
            "bin_start": 47.8,
            "bin_end": 87.6,
            "count": 16
           },
           {
            "bin_start": 87.6,
            "bin_end": 127.39999999999999,
            "count": 5
           },
           {
            "bin_start": 127.39999999999999,
            "bin_end": 167.2,
            "count": 3
           },
           {
            "bin_start": 167.2,
            "bin_end": 207,
            "count": 2
           },
           {
            "bin_start": 207,
            "bin_end": 246.79999999999998,
            "count": 2
           },
           {
            "bin_start": 246.79999999999998,
            "bin_end": 286.59999999999997,
            "count": 3
           },
           {
            "bin_start": 286.59999999999997,
            "bin_end": 326.4,
            "count": 1
           },
           {
            "bin_start": 326.4,
            "bin_end": 366.2,
            "count": 1
           },
           {
            "bin_start": 366.2,
            "bin_end": 406,
            "count": 1
           }
          ]
         }
        },
        {
         "name": "gfr_cal_mlmin173m2",
         "dtype": "float64",
         "stats": {
          "unique_count": 6,
          "nan_count": 121,
          "min": "23.0",
          "max": "59.0",
          "histogram": [
           {
            "bin_start": 23,
            "bin_end": 26.6,
            "count": 1
           },
           {
            "bin_start": 26.6,
            "bin_end": 30.2,
            "count": 0
           },
           {
            "bin_start": 30.2,
            "bin_end": 33.8,
            "count": 0
           },
           {
            "bin_start": 33.8,
            "bin_end": 37.4,
            "count": 0
           },
           {
            "bin_start": 37.4,
            "bin_end": 41,
            "count": 1
           },
           {
            "bin_start": 41,
            "bin_end": 44.6,
            "count": 2
           },
           {
            "bin_start": 44.6,
            "bin_end": 48.2,
            "count": 2
           },
           {
            "bin_start": 48.2,
            "bin_end": 51.8,
            "count": 1
           },
           {
            "bin_start": 51.8,
            "bin_end": 55.4,
            "count": 0
           },
           {
            "bin_start": 55.4,
            "bin_end": 59,
            "count": 1
           }
          ]
         }
        },
        {
         "name": "leucocytes_sang_gl",
         "dtype": "float64",
         "stats": {
          "unique_count": 62,
          "nan_count": 40,
          "min": "2.2",
          "max": "24.1",
          "histogram": [
           {
            "bin_start": 2.2,
            "bin_end": 4.390000000000001,
            "count": 5
           },
           {
            "bin_start": 4.390000000000001,
            "bin_end": 6.580000000000001,
            "count": 33
           },
           {
            "bin_start": 6.580000000000001,
            "bin_end": 8.770000000000001,
            "count": 29
           },
           {
            "bin_start": 8.770000000000001,
            "bin_end": 10.96,
            "count": 9
           },
           {
            "bin_start": 10.96,
            "bin_end": 13.150000000000002,
            "count": 9
           },
           {
            "bin_start": 13.150000000000002,
            "bin_end": 15.340000000000003,
            "count": 0
           },
           {
            "bin_start": 15.340000000000003,
            "bin_end": 17.53,
            "count": 2
           },
           {
            "bin_start": 17.53,
            "bin_end": 19.720000000000002,
            "count": 1
           },
           {
            "bin_start": 19.720000000000002,
            "bin_end": 21.910000000000004,
            "count": 0
           },
           {
            "bin_start": 21.910000000000004,
            "bin_end": 24.1,
            "count": 1
           }
          ]
         }
        },
        {
         "name": "eGFRCKD2",
         "dtype": "float64",
         "stats": {
          "unique_count": 96,
          "nan_count": 33,
          "min": "8.28365453034613",
          "max": "120.7986294738",
          "histogram": [
           {
            "bin_start": 8.28365453034613,
            "bin_end": 19.53515202469152,
            "count": 1
           },
           {
            "bin_start": 19.53515202469152,
            "bin_end": 30.786649519036906,
            "count": 1
           },
           {
            "bin_start": 30.786649519036906,
            "bin_end": 42.0381470133823,
            "count": 4
           },
           {
            "bin_start": 42.0381470133823,
            "bin_end": 53.28964450772769,
            "count": 4
           },
           {
            "bin_start": 53.28964450772769,
            "bin_end": 64.54114200207307,
            "count": 4
           },
           {
            "bin_start": 64.54114200207307,
            "bin_end": 75.79263949641846,
            "count": 12
           },
           {
            "bin_start": 75.79263949641846,
            "bin_end": 87.04413699076385,
            "count": 25
           },
           {
            "bin_start": 87.04413699076385,
            "bin_end": 98.29563448510923,
            "count": 31
           },
           {
            "bin_start": 98.29563448510923,
            "bin_end": 109.54713197945462,
            "count": 9
           },
           {
            "bin_start": 109.54713197945462,
            "bin_end": 120.7986294738,
            "count": 5
           }
          ]
         }
        },
        {
         "name": "eGFRCG",
         "dtype": "float64",
         "stats": {
          "unique_count": 95,
          "nan_count": 34,
          "min": "7.44532602739726",
          "max": "162.709014120126",
          "histogram": [
           {
            "bin_start": 7.44532602739726,
            "bin_end": 22.97169483667013,
            "count": 1
           },
           {
            "bin_start": 22.97169483667013,
            "bin_end": 38.498063645943006,
            "count": 3
           },
           {
            "bin_start": 38.498063645943006,
            "bin_end": 54.02443245521587,
            "count": 9
           },
           {
            "bin_start": 54.02443245521587,
            "bin_end": 69.55080126448875,
            "count": 11
           },
           {
            "bin_start": 69.55080126448875,
            "bin_end": 85.07717007376162,
            "count": 25
           },
           {
            "bin_start": 85.07717007376162,
            "bin_end": 100.60353888303449,
            "count": 15
           },
           {
            "bin_start": 100.60353888303449,
            "bin_end": 116.12990769230737,
            "count": 18
           },
           {
            "bin_start": 116.12990769230737,
            "bin_end": 131.65627650158024,
            "count": 8
           },
           {
            "bin_start": 131.65627650158024,
            "bin_end": 147.18264531085313,
            "count": 2
           },
           {
            "bin_start": 147.18264531085313,
            "bin_end": 162.709014120126,
            "count": 3
           }
          ]
         }
        },
        {
         "name": "X67",
         "dtype": "float64",
         "stats": {
          "unique_count": 15,
          "nan_count": 42,
          "min": "130.0",
          "max": "147.0",
          "histogram": [
           {
            "bin_start": 130,
            "bin_end": 131.7,
            "count": 2
           },
           {
            "bin_start": 131.7,
            "bin_end": 133.4,
            "count": 0
           },
           {
            "bin_start": 133.4,
            "bin_end": 135.1,
            "count": 3
           },
           {
            "bin_start": 135.1,
            "bin_end": 136.8,
            "count": 3
           },
           {
            "bin_start": 136.8,
            "bin_end": 138.5,
            "count": 15
           },
           {
            "bin_start": 138.5,
            "bin_end": 140.2,
            "count": 22
           },
           {
            "bin_start": 140.2,
            "bin_end": 141.9,
            "count": 16
           },
           {
            "bin_start": 141.9,
            "bin_end": 143.6,
            "count": 18
           },
           {
            "bin_start": 143.6,
            "bin_end": 145.3,
            "count": 7
           },
           {
            "bin_start": 145.3,
            "bin_end": 147,
            "count": 1
           }
          ]
         }
        },
        {
         "name": "NRAS_MUTATION",
         "dtype": "object",
         "stats": {
          "unique_count": 2,
          "nan_count": 11,
          "categories": [
           {
            "name": "n",
            "count": 82
           },
           {
            "name": "y",
            "count": 36
           },
           {
            "name": "Missing",
            "count": 11
           }
          ]
         }
        },
        {
         "name": "NRAS_MUT_TYPE",
         "dtype": "object",
         "stats": {
          "unique_count": 6,
          "nan_count": 96,
          "categories": [
           {
            "name": "Q61R",
            "count": 13
           },
           {
            "name": "5 others",
            "count": 20
           },
           {
            "name": "Missing",
            "count": 96
           }
          ]
         }
        },
        {
         "name": "BRAF_MUTATION",
         "dtype": "object",
         "stats": {
          "unique_count": 2,
          "nan_count": 4,
          "categories": [
           {
            "name": "n",
            "count": 72
           },
           {
            "name": "y",
            "count": 53
           },
           {
            "name": "Missing",
            "count": 4
           }
          ]
         }
        },
        {
         "name": "BRAF_MUT_TYPE",
         "dtype": "object",
         "stats": {
          "unique_count": 9,
          "nan_count": 76,
          "categories": [
           {
            "name": "V600E",
            "count": 37
           },
           {
            "name": "8 others",
            "count": 16
           },
           {
            "name": "Missing",
            "count": 76
           }
          ]
         }
        },
        {
         "name": "concomittant_tvec",
         "dtype": "int64",
         "stats": {
          "unique_count": 2,
          "nan_count": 0,
          "min": "0",
          "max": "1",
          "histogram": [
           {
            "bin_start": 0,
            "bin_end": 0.1,
            "count": 125
           },
           {
            "bin_start": 0.1,
            "bin_end": 0.2,
            "count": 0
           },
           {
            "bin_start": 0.2,
            "bin_end": 0.30000000000000004,
            "count": 0
           },
           {
            "bin_start": 0.30000000000000004,
            "bin_end": 0.4,
            "count": 0
           },
           {
            "bin_start": 0.4,
            "bin_end": 0.5,
            "count": 0
           },
           {
            "bin_start": 0.5,
            "bin_end": 0.6000000000000001,
            "count": 0
           },
           {
            "bin_start": 0.6000000000000001,
            "bin_end": 0.7000000000000001,
            "count": 0
           },
           {
            "bin_start": 0.7000000000000001,
            "bin_end": 0.8,
            "count": 0
           },
           {
            "bin_start": 0.8,
            "bin_end": 0.9,
            "count": 0
           },
           {
            "bin_start": 0.9,
            "bin_end": 1,
            "count": 4
           }
          ]
         }
        },
        {
         "name": "concomittant_LAG3",
         "dtype": "int64",
         "stats": {
          "unique_count": 1,
          "nan_count": 0,
          "min": "0",
          "max": "0",
          "histogram": [
           {
            "bin_start": -0.5,
            "bin_end": -0.4,
            "count": 0
           },
           {
            "bin_start": -0.4,
            "bin_end": -0.3,
            "count": 0
           },
           {
            "bin_start": -0.3,
            "bin_end": -0.19999999999999996,
            "count": 0
           },
           {
            "bin_start": -0.19999999999999996,
            "bin_end": -0.09999999999999998,
            "count": 0
           },
           {
            "bin_start": -0.09999999999999998,
            "bin_end": 0,
            "count": 0
           },
           {
            "bin_start": 0,
            "bin_end": 0.10000000000000009,
            "count": 129
           },
           {
            "bin_start": 0.10000000000000009,
            "bin_end": 0.20000000000000007,
            "count": 0
           },
           {
            "bin_start": 0.20000000000000007,
            "bin_end": 0.30000000000000004,
            "count": 0
           },
           {
            "bin_start": 0.30000000000000004,
            "bin_end": 0.4,
            "count": 0
           },
           {
            "bin_start": 0.4,
            "bin_end": 0.5,
            "count": 0
           }
          ]
         }
        },
        {
         "name": "prior_targeted_therapy",
         "dtype": "int64",
         "stats": {
          "unique_count": 2,
          "nan_count": 0,
          "min": "0",
          "max": "1",
          "histogram": [
           {
            "bin_start": 0,
            "bin_end": 0.1,
            "count": 125
           },
           {
            "bin_start": 0.1,
            "bin_end": 0.2,
            "count": 0
           },
           {
            "bin_start": 0.2,
            "bin_end": 0.30000000000000004,
            "count": 0
           },
           {
            "bin_start": 0.30000000000000004,
            "bin_end": 0.4,
            "count": 0
           },
           {
            "bin_start": 0.4,
            "bin_end": 0.5,
            "count": 0
           },
           {
            "bin_start": 0.5,
            "bin_end": 0.6000000000000001,
            "count": 0
           },
           {
            "bin_start": 0.6000000000000001,
            "bin_end": 0.7000000000000001,
            "count": 0
           },
           {
            "bin_start": 0.7000000000000001,
            "bin_end": 0.8,
            "count": 0
           },
           {
            "bin_start": 0.8,
            "bin_end": 0.9,
            "count": 0
           },
           {
            "bin_start": 0.9,
            "bin_end": 1,
            "count": 4
           }
          ]
         }
        },
        {
         "name": "prior_treatment",
         "dtype": "int64",
         "stats": {
          "unique_count": 2,
          "nan_count": 0,
          "min": "0",
          "max": "1",
          "histogram": [
           {
            "bin_start": 0,
            "bin_end": 0.1,
            "count": 122
           },
           {
            "bin_start": 0.1,
            "bin_end": 0.2,
            "count": 0
           },
           {
            "bin_start": 0.2,
            "bin_end": 0.30000000000000004,
            "count": 0
           },
           {
            "bin_start": 0.30000000000000004,
            "bin_end": 0.4,
            "count": 0
           },
           {
            "bin_start": 0.4,
            "bin_end": 0.5,
            "count": 0
           },
           {
            "bin_start": 0.5,
            "bin_end": 0.6000000000000001,
            "count": 0
           },
           {
            "bin_start": 0.6000000000000001,
            "bin_end": 0.7000000000000001,
            "count": 0
           },
           {
            "bin_start": 0.7000000000000001,
            "bin_end": 0.8,
            "count": 0
           },
           {
            "bin_start": 0.8,
            "bin_end": 0.9,
            "count": 0
           },
           {
            "bin_start": 0.9,
            "bin_end": 1,
            "count": 7
           }
          ]
         }
        },
        {
         "name": "immuno_therapy_type",
         "dtype": "object",
         "stats": {
          "unique_count": 4,
          "nan_count": 0,
          "categories": [
           {
            "name": "ipinivo",
            "count": 61
           },
           {
            "name": "pembro",
            "count": 39
           },
           {
            "name": "2 others",
            "count": 29
           }
          ]
         }
        },
        {
         "name": "nivo_maintenance",
         "dtype": "int64",
         "stats": {
          "unique_count": 2,
          "nan_count": 0,
          "min": "0",
          "max": "1",
          "histogram": [
           {
            "bin_start": 0,
            "bin_end": 0.1,
            "count": 99
           },
           {
            "bin_start": 0.1,
            "bin_end": 0.2,
            "count": 0
           },
           {
            "bin_start": 0.2,
            "bin_end": 0.30000000000000004,
            "count": 0
           },
           {
            "bin_start": 0.30000000000000004,
            "bin_end": 0.4,
            "count": 0
           },
           {
            "bin_start": 0.4,
            "bin_end": 0.5,
            "count": 0
           },
           {
            "bin_start": 0.5,
            "bin_end": 0.6000000000000001,
            "count": 0
           },
           {
            "bin_start": 0.6000000000000001,
            "bin_end": 0.7000000000000001,
            "count": 0
           },
           {
            "bin_start": 0.7000000000000001,
            "bin_end": 0.8,
            "count": 0
           },
           {
            "bin_start": 0.8,
            "bin_end": 0.9,
            "count": 0
           },
           {
            "bin_start": 0.9,
            "bin_end": 1,
            "count": 30
           }
          ]
         }
        },
        {
         "name": "_deepnote_index_column",
         "dtype": "int64"
        }
       ],
       "rows_top": [
        {
         "gpcr_id": 34610039,
         "age_at_treatment_start_in_years": 64,
         "duration_treatment_in_days": 63,
         "death_event_observed": false,
         "survival_in_days": 768,
         "n_imgs_before_treatment": 1,
         "n_imgs_during_treatment": 0,
         "n_imgs_after_treatment_end": 1,
         "n_imgs_after_treatment_start": 1,
         "survival_1_year": true,
         "sex": "female",
         "bmi": 21.88,
         "has_brain_mets": "y",
         "performance_score_ecog": 1,
         "asat_sang_ul": 19,
         "bili_totale_sang_umoll": 6,
         "mono_absolus_gl": 0.92,
         "alat_sang_ul": 27,
         "plaquettes_sang_gl": 230,
         "lympho_absolus_gl": 1.84,
         "albumine_sang_gl": 44,
         "proteine_c_reacsang_mgl": "nan",
         "potassium_sang_mmoll": 3.9,
         "hemoglobine_sang_gl": 128,
         "calcium_sang_mmoll": 2.26,
         "ldh_sang_ul": 161,
         "creatinine_sang_umoll": 46,
         "pal_sang_ul": 86,
         "neutro_absolus_gl": 7.24,
         "eosini_absolus_gl": 0.2,
         "baso_absolus_gl": 0.1,
         "ggt_sang_ul": 55,
         "gfr_cal_mlmin173m2": "nan",
         "leucocytes_sang_gl": 10.2,
         "eGFRCKD2": 100.926056579341,
         "eGFRCG": 114.310060750447,
         "X67": 137,
         "NRAS_MUTATION": "nan",
         "NRAS_MUT_TYPE": "nan",
         "BRAF_MUTATION": "y",
         "BRAF_MUT_TYPE": "V600E",
         "concomittant_tvec": 0,
         "concomittant_LAG3": 0,
         "prior_targeted_therapy": 0,
         "prior_treatment": 0,
         "immuno_therapy_type": "ipinivo",
         "nivo_maintenance": 1,
         "_deepnote_index_column": 0
        },
        {
         "gpcr_id": 34610116,
         "age_at_treatment_start_in_years": 80,
         "duration_treatment_in_days": 22,
         "death_event_observed": false,
         "survival_in_days": 1312,
         "n_imgs_before_treatment": 2,
         "n_imgs_during_treatment": 0,
         "n_imgs_after_treatment_end": 4,
         "n_imgs_after_treatment_start": 4,
         "survival_1_year": true,
         "sex": "male",
         "bmi": 26.7,
         "has_brain_mets": "n",
         "performance_score_ecog": 1,
         "asat_sang_ul": "nan",
         "bili_totale_sang_umoll": "nan",
         "mono_absolus_gl": "nan",
         "alat_sang_ul": "nan",
         "plaquettes_sang_gl": "nan",
         "lympho_absolus_gl": "nan",
         "albumine_sang_gl": "nan",
         "proteine_c_reacsang_mgl": "nan",
         "potassium_sang_mmoll": "nan",
         "hemoglobine_sang_gl": "nan",
         "calcium_sang_mmoll": "nan",
         "ldh_sang_ul": "nan",
         "creatinine_sang_umoll": "nan",
         "pal_sang_ul": "nan",
         "neutro_absolus_gl": "nan",
         "eosini_absolus_gl": "nan",
         "baso_absolus_gl": "nan",
         "ggt_sang_ul": "nan",
         "gfr_cal_mlmin173m2": "nan",
         "leucocytes_sang_gl": "nan",
         "eGFRCKD2": "nan",
         "eGFRCG": "nan",
         "X67": "nan",
         "NRAS_MUTATION": "nan",
         "NRAS_MUT_TYPE": "nan",
         "BRAF_MUTATION": "n",
         "BRAF_MUT_TYPE": "nan",
         "concomittant_tvec": 0,
         "concomittant_LAG3": 0,
         "prior_targeted_therapy": 0,
         "prior_treatment": 0,
         "immuno_therapy_type": "ipinivo",
         "nivo_maintenance": 0,
         "_deepnote_index_column": 1
        },
        {
         "gpcr_id": 34610117,
         "age_at_treatment_start_in_years": 55,
         "duration_treatment_in_days": 0,
         "death_event_observed": false,
         "survival_in_days": 1145,
         "n_imgs_before_treatment": 0,
         "n_imgs_during_treatment": 0,
         "n_imgs_after_treatment_end": 4,
         "n_imgs_after_treatment_start": 4,
         "survival_1_year": true,
         "sex": "female",
         "bmi": 30.27,
         "has_brain_mets": "n",
         "performance_score_ecog": 1,
         "asat_sang_ul": 31,
         "bili_totale_sang_umoll": 3,
         "mono_absolus_gl": 0.46,
         "alat_sang_ul": 34,
         "plaquettes_sang_gl": 422,
         "lympho_absolus_gl": 1.82,
         "albumine_sang_gl": "nan",
         "proteine_c_reacsang_mgl": "nan",
         "potassium_sang_mmoll": 4.3,
         "hemoglobine_sang_gl": 89,
         "calcium_sang_mmoll": "nan",
         "ldh_sang_ul": 158,
         "creatinine_sang_umoll": 48,
         "pal_sang_ul": "nan",
         "neutro_absolus_gl": 3.9,
         "eosini_absolus_gl": 0.26,
         "baso_absolus_gl": 0.07,
         "ggt_sang_ul": 406,
         "gfr_cal_mlmin173m2": "nan",
         "leucocytes_sang_gl": 6.5,
         "eGFRCKD2": 106.533280369152,
         "eGFRCG": 142.986792237443,
         "X67": 141,
         "NRAS_MUTATION": "n",
         "NRAS_MUT_TYPE": "nan",
         "BRAF_MUTATION": "y",
         "BRAF_MUT_TYPE": "V600E",
         "concomittant_tvec": 0,
         "concomittant_LAG3": 0,
         "prior_targeted_therapy": 0,
         "prior_treatment": 0,
         "immuno_therapy_type": "ipinivo",
         "nivo_maintenance": 0,
         "_deepnote_index_column": 2
        },
        {
         "gpcr_id": 34610118,
         "age_at_treatment_start_in_years": 68,
         "duration_treatment_in_days": 63,
         "death_event_observed": true,
         "survival_in_days": 639,
         "n_imgs_before_treatment": 2,
         "n_imgs_during_treatment": 0,
         "n_imgs_after_treatment_end": 6,
         "n_imgs_after_treatment_start": 6,
         "survival_1_year": true,
         "sex": "male",
         "bmi": 25.61,
         "has_brain_mets": "y",
         "performance_score_ecog": 0,
         "asat_sang_ul": 11,
         "bili_totale_sang_umoll": 6.5,
         "mono_absolus_gl": 0.64,
         "alat_sang_ul": 12,
         "plaquettes_sang_gl": 179.5,
         "lympho_absolus_gl": 1.22,
         "albumine_sang_gl": "nan",
         "proteine_c_reacsang_mgl": "nan",
         "potassium_sang_mmoll": 3.9,
         "hemoglobine_sang_gl": 129,
         "calcium_sang_mmoll": 2.33,
         "ldh_sang_ul": 179,
         "creatinine_sang_umoll": 83.5,
         "pal_sang_ul": 55,
         "neutro_absolus_gl": 4.315,
         "eosini_absolus_gl": 0.13,
         "baso_absolus_gl": 0.065,
         "ggt_sang_ul": 24,
         "gfr_cal_mlmin173m2": "nan",
         "leucocytes_sang_gl": 6.4,
         "eGFRCKD2": 82.5319465586805,
         "eGFRCG": 78.364852760233,
         "X67": 139,
         "NRAS_MUTATION": "n",
         "NRAS_MUT_TYPE": "nan",
         "BRAF_MUTATION": "n",
         "BRAF_MUT_TYPE": "nan",
         "concomittant_tvec": 0,
         "concomittant_LAG3": 0,
         "prior_targeted_therapy": 0,
         "prior_treatment": 0,
         "immuno_therapy_type": "ipinivo",
         "nivo_maintenance": 1,
         "_deepnote_index_column": 3
        },
        {
         "gpcr_id": 34610042,
         "age_at_treatment_start_in_years": 52,
         "duration_treatment_in_days": 60,
         "death_event_observed": false,
         "survival_in_days": 707,
         "n_imgs_before_treatment": 0,
         "n_imgs_during_treatment": 0,
         "n_imgs_after_treatment_end": 7,
         "n_imgs_after_treatment_start": 7,
         "survival_1_year": true,
         "sex": "male",
         "bmi": 25.46,
         "has_brain_mets": "y",
         "performance_score_ecog": 0,
         "asat_sang_ul": "nan",
         "bili_totale_sang_umoll": "nan",
         "mono_absolus_gl": 0.53,
         "alat_sang_ul": "nan",
         "plaquettes_sang_gl": 254,
         "lympho_absolus_gl": 1.87,
         "albumine_sang_gl": "nan",
         "proteine_c_reacsang_mgl": "nan",
         "potassium_sang_mmoll": "nan",
         "hemoglobine_sang_gl": 144,
         "calcium_sang_mmoll": "nan",
         "ldh_sang_ul": "nan",
         "creatinine_sang_umoll": "nan",
         "pal_sang_ul": "nan",
         "neutro_absolus_gl": 6.23,
         "eosini_absolus_gl": 0.18,
         "baso_absolus_gl": 0.09,
         "ggt_sang_ul": "nan",
         "gfr_cal_mlmin173m2": "nan",
         "leucocytes_sang_gl": 8.9,
         "eGFRCKD2": "nan",
         "eGFRCG": "nan",
         "X67": "nan",
         "NRAS_MUTATION": "n",
         "NRAS_MUT_TYPE": "nan",
         "BRAF_MUTATION": "y",
         "BRAF_MUT_TYPE": "G464R",
         "concomittant_tvec": 0,
         "concomittant_LAG3": 0,
         "prior_targeted_therapy": 0,
         "prior_treatment": 0,
         "immuno_therapy_type": "ipinivo",
         "nivo_maintenance": 1,
         "_deepnote_index_column": 4
        },
        {
         "gpcr_id": 34610099,
         "age_at_treatment_start_in_years": 36,
         "duration_treatment_in_days": 72,
         "death_event_observed": true,
         "survival_in_days": 744,
         "n_imgs_before_treatment": 1,
         "n_imgs_during_treatment": 0,
         "n_imgs_after_treatment_end": 1,
         "n_imgs_after_treatment_start": 1,
         "survival_1_year": true,
         "sex": "male",
         "bmi": 30.74,
         "has_brain_mets": "n",
         "performance_score_ecog": 1,
         "asat_sang_ul": "nan",
         "bili_totale_sang_umoll": "nan",
         "mono_absolus_gl": "nan",
         "alat_sang_ul": "nan",
         "plaquettes_sang_gl": "nan",
         "lympho_absolus_gl": "nan",
         "albumine_sang_gl": "nan",
         "proteine_c_reacsang_mgl": "nan",
         "potassium_sang_mmoll": "nan",
         "hemoglobine_sang_gl": "nan",
         "calcium_sang_mmoll": "nan",
         "ldh_sang_ul": "nan",
         "creatinine_sang_umoll": "nan",
         "pal_sang_ul": "nan",
         "neutro_absolus_gl": "nan",
         "eosini_absolus_gl": "nan",
         "baso_absolus_gl": "nan",
         "ggt_sang_ul": "nan",
         "gfr_cal_mlmin173m2": "nan",
         "leucocytes_sang_gl": "nan",
         "eGFRCKD2": "nan",
         "eGFRCG": "nan",
         "X67": "nan",
         "NRAS_MUTATION": "y",
         "NRAS_MUT_TYPE": "Q61K",
         "BRAF_MUTATION": "n",
         "BRAF_MUT_TYPE": "nan",
         "concomittant_tvec": 0,
         "concomittant_LAG3": 0,
         "prior_targeted_therapy": 0,
         "prior_treatment": 0,
         "immuno_therapy_type": "ipi",
         "nivo_maintenance": 0,
         "_deepnote_index_column": 5
        },
        {
         "gpcr_id": 34610006,
         "age_at_treatment_start_in_years": 76,
         "duration_treatment_in_days": 734,
         "death_event_observed": false,
         "survival_in_days": 980,
         "n_imgs_before_treatment": 1,
         "n_imgs_during_treatment": 7,
         "n_imgs_after_treatment_end": 1,
         "n_imgs_after_treatment_start": 8,
         "survival_1_year": true,
         "sex": "female",
         "bmi": 30.82,
         "has_brain_mets": "n",
         "performance_score_ecog": 0,
         "asat_sang_ul": "nan",
         "bili_totale_sang_umoll": "nan",
         "mono_absolus_gl": "nan",
         "alat_sang_ul": "nan",
         "plaquettes_sang_gl": "nan",
         "lympho_absolus_gl": "nan",
         "albumine_sang_gl": "nan",
         "proteine_c_reacsang_mgl": "nan",
         "potassium_sang_mmoll": "nan",
         "hemoglobine_sang_gl": "nan",
         "calcium_sang_mmoll": "nan",
         "ldh_sang_ul": "nan",
         "creatinine_sang_umoll": "nan",
         "pal_sang_ul": "nan",
         "neutro_absolus_gl": "nan",
         "eosini_absolus_gl": "nan",
         "baso_absolus_gl": "nan",
         "ggt_sang_ul": "nan",
         "gfr_cal_mlmin173m2": "nan",
         "leucocytes_sang_gl": "nan",
         "eGFRCKD2": "nan",
         "eGFRCG": "nan",
         "X67": "nan",
         "NRAS_MUTATION": "y",
         "NRAS_MUT_TYPE": "Q61K",
         "BRAF_MUTATION": "n",
         "BRAF_MUT_TYPE": "nan",
         "concomittant_tvec": 0,
         "concomittant_LAG3": 0,
         "prior_targeted_therapy": 0,
         "prior_treatment": 0,
         "immuno_therapy_type": "pembro",
         "nivo_maintenance": 0,
         "_deepnote_index_column": 6
        },
        {
         "gpcr_id": 34610007,
         "age_at_treatment_start_in_years": 82,
         "duration_treatment_in_days": 252,
         "death_event_observed": true,
         "survival_in_days": 340,
         "n_imgs_before_treatment": 1,
         "n_imgs_during_treatment": 3,
         "n_imgs_after_treatment_end": 1,
         "n_imgs_after_treatment_start": 4,
         "survival_1_year": false,
         "sex": "male",
         "bmi": 34.42,
         "has_brain_mets": "n",
         "performance_score_ecog": 0,
         "asat_sang_ul": 37,
         "bili_totale_sang_umoll": 15,
         "mono_absolus_gl": "nan",
         "alat_sang_ul": 23,
         "plaquettes_sang_gl": "nan",
         "lympho_absolus_gl": "nan",
         "albumine_sang_gl": "nan",
         "proteine_c_reacsang_mgl": "nan",
         "potassium_sang_mmoll": "nan",
         "hemoglobine_sang_gl": "nan",
         "calcium_sang_mmoll": "nan",
         "ldh_sang_ul": 237,
         "creatinine_sang_umoll": 101,
         "pal_sang_ul": 91,
         "neutro_absolus_gl": "nan",
         "eosini_absolus_gl": "nan",
         "baso_absolus_gl": "nan",
         "ggt_sang_ul": 56,
         "gfr_cal_mlmin173m2": "nan",
         "leucocytes_sang_gl": "nan",
         "eGFRCKD2": 59.294081586576,
         "eGFRCG": 67.2990337718703,
         "X67": "nan",
         "NRAS_MUTATION": "nan",
         "NRAS_MUT_TYPE": "nan",
         "BRAF_MUTATION": "n",
         "BRAF_MUT_TYPE": "nan",
         "concomittant_tvec": 0,
         "concomittant_LAG3": 0,
         "prior_targeted_therapy": 0,
         "prior_treatment": 0,
         "immuno_therapy_type": "pembro",
         "nivo_maintenance": 0,
         "_deepnote_index_column": 7
        },
        {
         "gpcr_id": 34610008,
         "age_at_treatment_start_in_years": 80,
         "duration_treatment_in_days": 316,
         "death_event_observed": false,
         "survival_in_days": 1135,
         "n_imgs_before_treatment": 0,
         "n_imgs_during_treatment": 3,
         "n_imgs_after_treatment_end": 1,
         "n_imgs_after_treatment_start": 4,
         "survival_1_year": true,
         "sex": "female",
         "bmi": 23.71,
         "has_brain_mets": "n",
         "performance_score_ecog": 0,
         "asat_sang_ul": 17,
         "bili_totale_sang_umoll": 3,
         "mono_absolus_gl": 0.29,
         "alat_sang_ul": "nan",
         "plaquettes_sang_gl": 248,
         "lympho_absolus_gl": 1.18,
         "albumine_sang_gl": 43,
         "proteine_c_reacsang_mgl": "nan",
         "potassium_sang_mmoll": 4,
         "hemoglobine_sang_gl": 123,
         "calcium_sang_mmoll": 2.54,
         "ldh_sang_ul": 145,
         "creatinine_sang_umoll": 55,
         "pal_sang_ul": 140,
         "neutro_absolus_gl": 3.28,
         "eosini_absolus_gl": 0.05,
         "baso_absolus_gl": 0.05,
         "ggt_sang_ul": 17,
         "gfr_cal_mlmin173m2": "nan",
         "leucocytes_sang_gl": 4.9,
         "eGFRCKD2": 85.5428008398449,
         "eGFRCG": 71.8223222914072,
         "X67": 140,
         "NRAS_MUTATION": "nan",
         "NRAS_MUT_TYPE": "nan",
         "BRAF_MUTATION": "n",
         "BRAF_MUT_TYPE": "nan",
         "concomittant_tvec": 0,
         "concomittant_LAG3": 0,
         "prior_targeted_therapy": 0,
         "prior_treatment": 0,
         "immuno_therapy_type": "nivo",
         "nivo_maintenance": 0,
         "_deepnote_index_column": 8
        },
        {
         "gpcr_id": 34610009,
         "age_at_treatment_start_in_years": 49,
         "duration_treatment_in_days": 89,
         "death_event_observed": false,
         "survival_in_days": 505,
         "n_imgs_before_treatment": 1,
         "n_imgs_during_treatment": 1,
         "n_imgs_after_treatment_end": 0,
         "n_imgs_after_treatment_start": 1,
         "survival_1_year": true,
         "sex": "male",
         "bmi": 26.4,
         "has_brain_mets": "y",
         "performance_score_ecog": 0,
         "asat_sang_ul": "nan",
         "bili_totale_sang_umoll": "nan",
         "mono_absolus_gl": "nan",
         "alat_sang_ul": "nan",
         "plaquettes_sang_gl": "nan",
         "lympho_absolus_gl": "nan",
         "albumine_sang_gl": "nan",
         "proteine_c_reacsang_mgl": "nan",
         "potassium_sang_mmoll": "nan",
         "hemoglobine_sang_gl": "nan",
         "calcium_sang_mmoll": "nan",
         "ldh_sang_ul": "nan",
         "creatinine_sang_umoll": "nan",
         "pal_sang_ul": "nan",
         "neutro_absolus_gl": "nan",
         "eosini_absolus_gl": "nan",
         "baso_absolus_gl": "nan",
         "ggt_sang_ul": "nan",
         "gfr_cal_mlmin173m2": "nan",
         "leucocytes_sang_gl": "nan",
         "eGFRCKD2": "nan",
         "eGFRCG": "nan",
         "X67": "nan",
         "NRAS_MUTATION": "n",
         "NRAS_MUT_TYPE": "nan",
         "BRAF_MUTATION": "y",
         "BRAF_MUT_TYPE": "V600E",
         "concomittant_tvec": 0,
         "concomittant_LAG3": 0,
         "prior_targeted_therapy": 0,
         "prior_treatment": 0,
         "immuno_therapy_type": "ipinivo",
         "nivo_maintenance": 1,
         "_deepnote_index_column": 9
        }
       ],
       "rows_bottom": [
        {
         "gpcr_id": 34610098,
         "age_at_treatment_start_in_years": 77,
         "duration_treatment_in_days": 231,
         "death_event_observed": true,
         "survival_in_days": 483,
         "n_imgs_before_treatment": 0,
         "n_imgs_during_treatment": 1,
         "n_imgs_after_treatment_end": 0,
         "n_imgs_after_treatment_start": 1,
         "survival_1_year": true,
         "sex": "male",
         "bmi": 27.7,
         "has_brain_mets": "y",
         "performance_score_ecog": 4,
         "asat_sang_ul": 24,
         "bili_totale_sang_umoll": 5,
         "mono_absolus_gl": 0.77,
         "alat_sang_ul": 64,
         "plaquettes_sang_gl": 178,
         "lympho_absolus_gl": 1.54,
         "albumine_sang_gl": "nan",
         "proteine_c_reacsang_mgl": "nan",
         "potassium_sang_mmoll": 5.3,
         "hemoglobine_sang_gl": 137,
         "calcium_sang_mmoll": "nan",
         "ldh_sang_ul": 209,
         "creatinine_sang_umoll": 73,
         "pal_sang_ul": 52,
         "neutro_absolus_gl": 10.24,
         "eosini_absolus_gl": 0,
         "baso_absolus_gl": 0,
         "ggt_sang_ul": 48,
         "gfr_cal_mlmin173m2": "nan",
         "leucocytes_sang_gl": 12.8,
         "eGFRCKD2": 85.2379387529555,
         "eGFRCG": 106.575379996247,
         "X67": 140,
         "NRAS_MUTATION": "n",
         "NRAS_MUT_TYPE": "nan",
         "BRAF_MUTATION": "y",
         "BRAF_MUT_TYPE": "G469R",
         "concomittant_tvec": 0,
         "concomittant_LAG3": 0,
         "prior_targeted_therapy": 0,
         "prior_treatment": 0,
         "immuno_therapy_type": "pembro",
         "nivo_maintenance": 0,
         "_deepnote_index_column": 118
        },
        {
         "gpcr_id": 34610004,
         "age_at_treatment_start_in_years": 62,
         "duration_treatment_in_days": 371,
         "death_event_observed": false,
         "survival_in_days": 650,
         "n_imgs_before_treatment": 2,
         "n_imgs_during_treatment": 3,
         "n_imgs_after_treatment_end": 4,
         "n_imgs_after_treatment_start": 7,
         "survival_1_year": true,
         "sex": "male",
         "bmi": 29.26,
         "has_brain_mets": "n",
         "performance_score_ecog": 0,
         "asat_sang_ul": 16,
         "bili_totale_sang_umoll": 18,
         "mono_absolus_gl": "nan",
         "alat_sang_ul": 13,
         "plaquettes_sang_gl": "nan",
         "lympho_absolus_gl": "nan",
         "albumine_sang_gl": 46,
         "proteine_c_reacsang_mgl": "nan",
         "potassium_sang_mmoll": 4.2,
         "hemoglobine_sang_gl": "nan",
         "calcium_sang_mmoll": 2.34,
         "ldh_sang_ul": 155,
         "creatinine_sang_umoll": 71,
         "pal_sang_ul": 81,
         "neutro_absolus_gl": "nan",
         "eosini_absolus_gl": "nan",
         "baso_absolus_gl": "nan",
         "ggt_sang_ul": 12,
         "gfr_cal_mlmin173m2": "nan",
         "leucocytes_sang_gl": "nan",
         "eGFRCKD2": 95.2768408381458,
         "eGFRCG": 131.535815550839,
         "X67": 134,
         "NRAS_MUTATION": "y",
         "NRAS_MUT_TYPE": "Q61K",
         "BRAF_MUTATION": "n",
         "BRAF_MUT_TYPE": "nan",
         "concomittant_tvec": 0,
         "concomittant_LAG3": 0,
         "prior_targeted_therapy": 0,
         "prior_treatment": 0,
         "immuno_therapy_type": "pembro",
         "nivo_maintenance": 0,
         "_deepnote_index_column": 119
        },
        {
         "gpcr_id": 34610034,
         "age_at_treatment_start_in_years": 81,
         "duration_treatment_in_days": 324,
         "death_event_observed": false,
         "survival_in_days": 909,
         "n_imgs_before_treatment": 1,
         "n_imgs_during_treatment": 3,
         "n_imgs_after_treatment_end": 1,
         "n_imgs_after_treatment_start": 4,
         "survival_1_year": true,
         "sex": "male",
         "bmi": 29.75,
         "has_brain_mets": "y",
         "performance_score_ecog": 2,
         "asat_sang_ul": 17,
         "bili_totale_sang_umoll": 21,
         "mono_absolus_gl": 0.75,
         "alat_sang_ul": 15,
         "plaquettes_sang_gl": 240,
         "lympho_absolus_gl": 2.74,
         "albumine_sang_gl": 44,
         "proteine_c_reacsang_mgl": "nan",
         "potassium_sang_mmoll": 4.3,
         "hemoglobine_sang_gl": 134,
         "calcium_sang_mmoll": 2.37,
         "ldh_sang_ul": 181,
         "creatinine_sang_umoll": 138,
         "pal_sang_ul": 38,
         "neutro_absolus_gl": 4.57,
         "eosini_absolus_gl": 0.17,
         "baso_absolus_gl": 0,
         "ggt_sang_ul": 49,
         "gfr_cal_mlmin173m2": 43,
         "leucocytes_sang_gl": 8.3,
         "eGFRCKD2": 40.9604823925442,
         "eGFRCG": 42.3264318046456,
         "X67": 138,
         "NRAS_MUTATION": "n",
         "NRAS_MUT_TYPE": "nan",
         "BRAF_MUTATION": "n",
         "BRAF_MUT_TYPE": "nan",
         "concomittant_tvec": 0,
         "concomittant_LAG3": 0,
         "prior_targeted_therapy": 0,
         "prior_treatment": 0,
         "immuno_therapy_type": "pembro",
         "nivo_maintenance": 0,
         "_deepnote_index_column": 120
        },
        {
         "gpcr_id": 34610113,
         "age_at_treatment_start_in_years": 70,
         "duration_treatment_in_days": 322,
         "death_event_observed": true,
         "survival_in_days": 343,
         "n_imgs_before_treatment": 2,
         "n_imgs_during_treatment": 3,
         "n_imgs_after_treatment_end": 0,
         "n_imgs_after_treatment_start": 3,
         "survival_1_year": false,
         "sex": "male",
         "bmi": 36.11,
         "has_brain_mets": "y",
         "performance_score_ecog": 0,
         "asat_sang_ul": 25,
         "bili_totale_sang_umoll": 7,
         "mono_absolus_gl": 0.69,
         "alat_sang_ul": 30,
         "plaquettes_sang_gl": 124,
         "lympho_absolus_gl": 1.705,
         "albumine_sang_gl": "nan",
         "proteine_c_reacsang_mgl": "nan",
         "potassium_sang_mmoll": "nan",
         "hemoglobine_sang_gl": 156,
         "calcium_sang_mmoll": "nan",
         "ldh_sang_ul": 149.5,
         "creatinine_sang_umoll": "nan",
         "pal_sang_ul": 59,
         "neutro_absolus_gl": 4.275,
         "eosini_absolus_gl": 0.435,
         "baso_absolus_gl": 0.075,
         "ggt_sang_ul": 98,
         "gfr_cal_mlmin173m2": "nan",
         "leucocytes_sang_gl": 7.25,
         "eGFRCKD2": "nan",
         "eGFRCG": "nan",
         "X67": "nan",
         "NRAS_MUTATION": "n",
         "NRAS_MUT_TYPE": "nan",
         "BRAF_MUTATION": "y",
         "BRAF_MUT_TYPE": "V600K",
         "concomittant_tvec": 0,
         "concomittant_LAG3": 0,
         "prior_targeted_therapy": 0,
         "prior_treatment": 0,
         "immuno_therapy_type": "pembro",
         "nivo_maintenance": 0,
         "_deepnote_index_column": 121
        },
        {
         "gpcr_id": 34610035,
         "age_at_treatment_start_in_years": 71,
         "duration_treatment_in_days": 84,
         "death_event_observed": true,
         "survival_in_days": 192,
         "n_imgs_before_treatment": 1,
         "n_imgs_during_treatment": 0,
         "n_imgs_after_treatment_end": 1,
         "n_imgs_after_treatment_start": 1,
         "survival_1_year": false,
         "sex": "male",
         "bmi": 33.49,
         "has_brain_mets": "y",
         "performance_score_ecog": 0,
         "asat_sang_ul": 14,
         "bili_totale_sang_umoll": 7,
         "mono_absolus_gl": 0.5,
         "alat_sang_ul": 12,
         "plaquettes_sang_gl": 193,
         "lympho_absolus_gl": 1.66,
         "albumine_sang_gl": 42,
         "proteine_c_reacsang_mgl": "nan",
         "potassium_sang_mmoll": 4.1,
         "hemoglobine_sang_gl": 137,
         "calcium_sang_mmoll": 2.36,
         "ldh_sang_ul": 150,
         "creatinine_sang_umoll": 72,
         "pal_sang_ul": 73,
         "neutro_absolus_gl": 4.75,
         "eosini_absolus_gl": 0.22,
         "baso_absolus_gl": 0,
         "ggt_sang_ul": 74,
         "gfr_cal_mlmin173m2": "nan",
         "leucocytes_sang_gl": 7.2,
         "eGFRCKD2": 89.2477134133144,
         "eGFRCG": 119.506266438356,
         "X67": 139,
         "NRAS_MUTATION": "n",
         "NRAS_MUT_TYPE": "nan",
         "BRAF_MUTATION": "y",
         "BRAF_MUT_TYPE": "K601E",
         "concomittant_tvec": 0,
         "concomittant_LAG3": 0,
         "prior_targeted_therapy": 0,
         "prior_treatment": 0,
         "immuno_therapy_type": "pembro",
         "nivo_maintenance": 0,
         "_deepnote_index_column": 122
        },
        {
         "gpcr_id": 34610036,
         "age_at_treatment_start_in_years": 68,
         "duration_treatment_in_days": 22,
         "death_event_observed": false,
         "survival_in_days": 231,
         "n_imgs_before_treatment": 1,
         "n_imgs_during_treatment": 0,
         "n_imgs_after_treatment_end": 1,
         "n_imgs_after_treatment_start": 1,
         "survival_1_year": false,
         "sex": "male",
         "bmi": 35.49,
         "has_brain_mets": "n",
         "performance_score_ecog": 0,
         "asat_sang_ul": 27,
         "bili_totale_sang_umoll": 4,
         "mono_absolus_gl": 0.68,
         "alat_sang_ul": 25,
         "plaquettes_sang_gl": 228,
         "lympho_absolus_gl": 1.14,
         "albumine_sang_gl": 40,
         "proteine_c_reacsang_mgl": "nan",
         "potassium_sang_mmoll": 3.4,
         "hemoglobine_sang_gl": 133,
         "calcium_sang_mmoll": 2.21,
         "ldh_sang_ul": "nan",
         "creatinine_sang_umoll": 82,
         "pal_sang_ul": "nan",
         "neutro_absolus_gl": 3.17,
         "eosini_absolus_gl": 0.16,
         "baso_absolus_gl": 0,
         "ggt_sang_ul": 64,
         "gfr_cal_mlmin173m2": "nan",
         "leucocytes_sang_gl": 5.2,
         "eGFRCKD2": 84.5215696475019,
         "eGFRCG": 113.654589041096,
         "X67": 142,
         "NRAS_MUTATION": "n",
         "NRAS_MUT_TYPE": "nan",
         "BRAF_MUTATION": "n",
         "BRAF_MUT_TYPE": "nan",
         "concomittant_tvec": 0,
         "concomittant_LAG3": 0,
         "prior_targeted_therapy": 0,
         "prior_treatment": 0,
         "immuno_therapy_type": "ipinivo",
         "nivo_maintenance": 0,
         "_deepnote_index_column": 123
        },
        {
         "gpcr_id": 34610037,
         "age_at_treatment_start_in_years": 88,
         "duration_treatment_in_days": 261,
         "death_event_observed": true,
         "survival_in_days": 747,
         "n_imgs_before_treatment": 1,
         "n_imgs_during_treatment": 2,
         "n_imgs_after_treatment_end": 3,
         "n_imgs_after_treatment_start": 5,
         "survival_1_year": true,
         "sex": "male",
         "bmi": 23.18,
         "has_brain_mets": "n",
         "performance_score_ecog": 1,
         "asat_sang_ul": 22,
         "bili_totale_sang_umoll": 7,
         "mono_absolus_gl": 1.415,
         "alat_sang_ul": 19,
         "plaquettes_sang_gl": 239,
         "lympho_absolus_gl": 2.24,
         "albumine_sang_gl": 40,
         "proteine_c_reacsang_mgl": "nan",
         "potassium_sang_mmoll": 4.3,
         "hemoglobine_sang_gl": 133,
         "calcium_sang_mmoll": 2.36,
         "ldh_sang_ul": 252.5,
         "creatinine_sang_umoll": 135,
         "pal_sang_ul": 74,
         "neutro_absolus_gl": 7.15,
         "eosini_absolus_gl": 0.335,
         "baso_absolus_gl": 0.225,
         "ggt_sang_ul": 50,
         "gfr_cal_mlmin173m2": 43,
         "leucocytes_sang_gl": 11.25,
         "eGFRCKD2": 40.2096592787362,
         "eGFRCG": 31.8718898021309,
         "X67": 147,
         "NRAS_MUTATION": "n",
         "NRAS_MUT_TYPE": "nan",
         "BRAF_MUTATION": "n",
         "BRAF_MUT_TYPE": "nan",
         "concomittant_tvec": 0,
         "concomittant_LAG3": 0,
         "prior_targeted_therapy": 0,
         "prior_treatment": 0,
         "immuno_therapy_type": "nivo",
         "nivo_maintenance": 0,
         "_deepnote_index_column": 124
        },
        {
         "gpcr_id": 34610114,
         "age_at_treatment_start_in_years": 77,
         "duration_treatment_in_days": 21,
         "death_event_observed": false,
         "survival_in_days": 1343,
         "n_imgs_before_treatment": 1,
         "n_imgs_during_treatment": 0,
         "n_imgs_after_treatment_end": 4,
         "n_imgs_after_treatment_start": 4,
         "survival_1_year": true,
         "sex": "male",
         "bmi": 24.86,
         "has_brain_mets": "n",
         "performance_score_ecog": 0,
         "asat_sang_ul": "nan",
         "bili_totale_sang_umoll": "nan",
         "mono_absolus_gl": 0.56,
         "alat_sang_ul": "nan",
         "plaquettes_sang_gl": 234,
         "lympho_absolus_gl": 1.49,
         "albumine_sang_gl": "nan",
         "proteine_c_reacsang_mgl": "nan",
         "potassium_sang_mmoll": "nan",
         "hemoglobine_sang_gl": 127,
         "calcium_sang_mmoll": "nan",
         "ldh_sang_ul": "nan",
         "creatinine_sang_umoll": "nan",
         "pal_sang_ul": "nan",
         "neutro_absolus_gl": 3.97,
         "eosini_absolus_gl": 0.12,
         "baso_absolus_gl": 0.06,
         "ggt_sang_ul": "nan",
         "gfr_cal_mlmin173m2": "nan",
         "leucocytes_sang_gl": 6.2,
         "eGFRCKD2": "nan",
         "eGFRCG": "nan",
         "X67": "nan",
         "NRAS_MUTATION": "n",
         "NRAS_MUT_TYPE": "nan",
         "BRAF_MUTATION": "n",
         "BRAF_MUT_TYPE": "nan",
         "concomittant_tvec": 0,
         "concomittant_LAG3": 0,
         "prior_targeted_therapy": 0,
         "prior_treatment": 0,
         "immuno_therapy_type": "ipinivo",
         "nivo_maintenance": 0,
         "_deepnote_index_column": 125
        },
        {
         "gpcr_id": 34610005,
         "age_at_treatment_start_in_years": 51,
         "duration_treatment_in_days": 63,
         "death_event_observed": false,
         "survival_in_days": 1619,
         "n_imgs_before_treatment": 0,
         "n_imgs_during_treatment": 0,
         "n_imgs_after_treatment_end": 10,
         "n_imgs_after_treatment_start": 10,
         "survival_1_year": true,
         "sex": "female",
         "bmi": 26.18,
         "has_brain_mets": "n",
         "performance_score_ecog": 0,
         "asat_sang_ul": 18,
         "bili_totale_sang_umoll": 3,
         "mono_absolus_gl": 0.82,
         "alat_sang_ul": 14,
         "plaquettes_sang_gl": 249,
         "lympho_absolus_gl": 2.99,
         "albumine_sang_gl": "nan",
         "proteine_c_reacsang_mgl": "nan",
         "potassium_sang_mmoll": "nan",
         "hemoglobine_sang_gl": 132,
         "calcium_sang_mmoll": "nan",
         "ldh_sang_ul": 200,
         "creatinine_sang_umoll": 69,
         "pal_sang_ul": 81,
         "neutro_absolus_gl": 6.18,
         "eosini_absolus_gl": 0.21,
         "baso_absolus_gl": 0,
         "ggt_sang_ul": 13,
         "gfr_cal_mlmin173m2": "nan",
         "leucocytes_sang_gl": 10.3,
         "eGFRCKD2": 88.6107197896835,
         "eGFRCG": 98.4051014492754,
         "X67": "nan",
         "NRAS_MUTATION": "n",
         "NRAS_MUT_TYPE": "nan",
         "BRAF_MUTATION": "y",
         "BRAF_MUT_TYPE": "V600E",
         "concomittant_tvec": 0,
         "concomittant_LAG3": 0,
         "prior_targeted_therapy": 0,
         "prior_treatment": 0,
         "immuno_therapy_type": "ipinivo",
         "nivo_maintenance": 1,
         "_deepnote_index_column": 126
        },
        {
         "gpcr_id": 34610115,
         "age_at_treatment_start_in_years": 71,
         "duration_treatment_in_days": 0,
         "death_event_observed": false,
         "survival_in_days": 1690,
         "n_imgs_before_treatment": 0,
         "n_imgs_during_treatment": 0,
         "n_imgs_after_treatment_end": 3,
         "n_imgs_after_treatment_start": 3,
         "survival_1_year": true,
         "sex": "male",
         "bmi": 25.76,
         "has_brain_mets": "n",
         "performance_score_ecog": 0,
         "asat_sang_ul": 14,
         "bili_totale_sang_umoll": 3,
         "mono_absolus_gl": 1.23,
         "alat_sang_ul": 19.5,
         "plaquettes_sang_gl": 421,
         "lympho_absolus_gl": 1.91,
         "albumine_sang_gl": "nan",
         "proteine_c_reacsang_mgl": "nan",
         "potassium_sang_mmoll": 3.6,
         "hemoglobine_sang_gl": 129.5,
         "calcium_sang_mmoll": "nan",
         "ldh_sang_ul": 169.5,
         "creatinine_sang_umoll": "nan",
         "pal_sang_ul": 81,
         "neutro_absolus_gl": 7.57,
         "eosini_absolus_gl": 0.395,
         "baso_absolus_gl": 0.115,
         "ggt_sang_ul": 38.5,
         "gfr_cal_mlmin173m2": "nan",
         "leucocytes_sang_gl": 11.15,
         "eGFRCKD2": "nan",
         "eGFRCG": "nan",
         "X67": 143,
         "NRAS_MUTATION": "n",
         "NRAS_MUT_TYPE": "nan",
         "BRAF_MUTATION": "y",
         "BRAF_MUT_TYPE": "V600K",
         "concomittant_tvec": 0,
         "concomittant_LAG3": 0,
         "prior_targeted_therapy": 0,
         "prior_treatment": 0,
         "immuno_therapy_type": "ipinivo",
         "nivo_maintenance": 0,
         "_deepnote_index_column": 127
        },
        {
         "gpcr_id": 34610038,
         "age_at_treatment_start_in_years": 78,
         "duration_treatment_in_days": 153,
         "death_event_observed": false,
         "survival_in_days": 395,
         "n_imgs_before_treatment": 1,
         "n_imgs_during_treatment": 2,
         "n_imgs_after_treatment_end": 1,
         "n_imgs_after_treatment_start": 3,
         "survival_1_year": true,
         "sex": "female",
         "bmi": 27.53,
         "has_brain_mets": "y",
         "performance_score_ecog": 1,
         "asat_sang_ul": 21,
         "bili_totale_sang_umoll": 3,
         "mono_absolus_gl": "nan",
         "alat_sang_ul": 20,
         "plaquettes_sang_gl": "nan",
         "lympho_absolus_gl": "nan",
         "albumine_sang_gl": 40,
         "proteine_c_reacsang_mgl": "nan",
         "potassium_sang_mmoll": 4,
         "hemoglobine_sang_gl": "nan",
         "calcium_sang_mmoll": 2.3,
         "ldh_sang_ul": "nan",
         "creatinine_sang_umoll": 50,
         "pal_sang_ul": 74,
         "neutro_absolus_gl": "nan",
         "eosini_absolus_gl": "nan",
         "baso_absolus_gl": "nan",
         "ggt_sang_ul": 136,
         "gfr_cal_mlmin173m2": "nan",
         "leucocytes_sang_gl": "nan",
         "eGFRCKD2": 89.4700108907376,
         "eGFRCG": 82.3048819726028,
         "X67": 139,
         "NRAS_MUTATION": "y",
         "NRAS_MUT_TYPE": "Q61R",
         "BRAF_MUTATION": "n",
         "BRAF_MUT_TYPE": "nan",
         "concomittant_tvec": 0,
         "concomittant_LAG3": 0,
         "prior_targeted_therapy": 0,
         "prior_treatment": 0,
         "immuno_therapy_type": "ipinivo",
         "nivo_maintenance": 0,
         "_deepnote_index_column": 128
        }
       ]
      },
      "text/plain": "      gpcr_id  age_at_treatment_start_in_years  duration_treatment_in_days  \\\n0    34610039                               64                          63   \n1    34610116                               80                          22   \n2    34610117                               55                           0   \n3    34610118                               68                          63   \n4    34610042                               52                          60   \n..        ...                              ...                         ...   \n124  34610037                               88                         261   \n125  34610114                               77                          21   \n126  34610005                               51                          63   \n127  34610115                               71                           0   \n128  34610038                               78                         153   \n\n     death_event_observed  survival_in_days  n_imgs_before_treatment  \\\n0                   False               768                        1   \n1                   False              1312                        2   \n2                   False              1145                        0   \n3                    True               639                        2   \n4                   False               707                        0   \n..                    ...               ...                      ...   \n124                  True               747                        1   \n125                 False              1343                        1   \n126                 False              1619                        0   \n127                 False              1690                        0   \n128                 False               395                        1   \n\n     n_imgs_during_treatment  n_imgs_after_treatment_end  \\\n0                          0                           1   \n1                          0                           4   \n2                          0                           4   \n3                          0                           6   \n4                          0                           7   \n..                       ...                         ...   \n124                        2                           3   \n125                        0                           4   \n126                        0                          10   \n127                        0                           3   \n128                        2                           1   \n\n     n_imgs_after_treatment_start  survival_1_year  ... NRAS_MUTATION  \\\n0                               1             True  ...           NaN   \n1                               4             True  ...           NaN   \n2                               4             True  ...             n   \n3                               6             True  ...             n   \n4                               7             True  ...             n   \n..                            ...              ...  ...           ...   \n124                             5             True  ...             n   \n125                             4             True  ...             n   \n126                            10             True  ...             n   \n127                             3             True  ...             n   \n128                             3             True  ...             y   \n\n     NRAS_MUT_TYPE BRAF_MUTATION  BRAF_MUT_TYPE  concomittant_tvec  \\\n0              NaN             y          V600E                  0   \n1              NaN             n            NaN                  0   \n2              NaN             y          V600E                  0   \n3              NaN             n            NaN                  0   \n4              NaN             y          G464R                  0   \n..             ...           ...            ...                ...   \n124            NaN             n            NaN                  0   \n125            NaN             n            NaN                  0   \n126            NaN             y          V600E                  0   \n127            NaN             y          V600K                  0   \n128           Q61R             n            NaN                  0   \n\n     concomittant_LAG3  prior_targeted_therapy  prior_treatment  \\\n0                    0                       0                0   \n1                    0                       0                0   \n2                    0                       0                0   \n3                    0                       0                0   \n4                    0                       0                0   \n..                 ...                     ...              ...   \n124                  0                       0                0   \n125                  0                       0                0   \n126                  0                       0                0   \n127                  0                       0                0   \n128                  0                       0                0   \n\n     immuno_therapy_type  nivo_maintenance  \n0                ipinivo                 1  \n1                ipinivo                 0  \n2                ipinivo                 0  \n3                ipinivo                 1  \n4                ipinivo                 1  \n..                   ...               ...  \n124                 nivo                 0  \n125              ipinivo                 0  \n126              ipinivo                 1  \n127              ipinivo                 0  \n128              ipinivo                 0  \n\n[129 rows x 47 columns]",
      "text/html": "<div>\n<style scoped>\n    .dataframe tbody tr th:only-of-type {\n        vertical-align: middle;\n    }\n\n    .dataframe tbody tr th {\n        vertical-align: top;\n    }\n\n    .dataframe thead th {\n        text-align: right;\n    }\n</style>\n<table border=\"1\" class=\"dataframe\">\n  <thead>\n    <tr style=\"text-align: right;\">\n      <th></th>\n      <th>gpcr_id</th>\n      <th>age_at_treatment_start_in_years</th>\n      <th>duration_treatment_in_days</th>\n      <th>death_event_observed</th>\n      <th>survival_in_days</th>\n      <th>n_imgs_before_treatment</th>\n      <th>n_imgs_during_treatment</th>\n      <th>n_imgs_after_treatment_end</th>\n      <th>n_imgs_after_treatment_start</th>\n      <th>survival_1_year</th>\n      <th>...</th>\n      <th>NRAS_MUTATION</th>\n      <th>NRAS_MUT_TYPE</th>\n      <th>BRAF_MUTATION</th>\n      <th>BRAF_MUT_TYPE</th>\n      <th>concomittant_tvec</th>\n      <th>concomittant_LAG3</th>\n      <th>prior_targeted_therapy</th>\n      <th>prior_treatment</th>\n      <th>immuno_therapy_type</th>\n      <th>nivo_maintenance</th>\n    </tr>\n  </thead>\n  <tbody>\n    <tr>\n      <th>0</th>\n      <td>34610039</td>\n      <td>64</td>\n      <td>63</td>\n      <td>False</td>\n      <td>768</td>\n      <td>1</td>\n      <td>0</td>\n      <td>1</td>\n      <td>1</td>\n      <td>True</td>\n      <td>...</td>\n      <td>NaN</td>\n      <td>NaN</td>\n      <td>y</td>\n      <td>V600E</td>\n      <td>0</td>\n      <td>0</td>\n      <td>0</td>\n      <td>0</td>\n      <td>ipinivo</td>\n      <td>1</td>\n    </tr>\n    <tr>\n      <th>1</th>\n      <td>34610116</td>\n      <td>80</td>\n      <td>22</td>\n      <td>False</td>\n      <td>1312</td>\n      <td>2</td>\n      <td>0</td>\n      <td>4</td>\n      <td>4</td>\n      <td>True</td>\n      <td>...</td>\n      <td>NaN</td>\n      <td>NaN</td>\n      <td>n</td>\n      <td>NaN</td>\n      <td>0</td>\n      <td>0</td>\n      <td>0</td>\n      <td>0</td>\n      <td>ipinivo</td>\n      <td>0</td>\n    </tr>\n    <tr>\n      <th>2</th>\n      <td>34610117</td>\n      <td>55</td>\n      <td>0</td>\n      <td>False</td>\n      <td>1145</td>\n      <td>0</td>\n      <td>0</td>\n      <td>4</td>\n      <td>4</td>\n      <td>True</td>\n      <td>...</td>\n      <td>n</td>\n      <td>NaN</td>\n      <td>y</td>\n      <td>V600E</td>\n      <td>0</td>\n      <td>0</td>\n      <td>0</td>\n      <td>0</td>\n      <td>ipinivo</td>\n      <td>0</td>\n    </tr>\n    <tr>\n      <th>3</th>\n      <td>34610118</td>\n      <td>68</td>\n      <td>63</td>\n      <td>True</td>\n      <td>639</td>\n      <td>2</td>\n      <td>0</td>\n      <td>6</td>\n      <td>6</td>\n      <td>True</td>\n      <td>...</td>\n      <td>n</td>\n      <td>NaN</td>\n      <td>n</td>\n      <td>NaN</td>\n      <td>0</td>\n      <td>0</td>\n      <td>0</td>\n      <td>0</td>\n      <td>ipinivo</td>\n      <td>1</td>\n    </tr>\n    <tr>\n      <th>4</th>\n      <td>34610042</td>\n      <td>52</td>\n      <td>60</td>\n      <td>False</td>\n      <td>707</td>\n      <td>0</td>\n      <td>0</td>\n      <td>7</td>\n      <td>7</td>\n      <td>True</td>\n      <td>...</td>\n      <td>n</td>\n      <td>NaN</td>\n      <td>y</td>\n      <td>G464R</td>\n      <td>0</td>\n      <td>0</td>\n      <td>0</td>\n      <td>0</td>\n      <td>ipinivo</td>\n      <td>1</td>\n    </tr>\n    <tr>\n      <th>...</th>\n      <td>...</td>\n      <td>...</td>\n      <td>...</td>\n      <td>...</td>\n      <td>...</td>\n      <td>...</td>\n      <td>...</td>\n      <td>...</td>\n      <td>...</td>\n      <td>...</td>\n      <td>...</td>\n      <td>...</td>\n      <td>...</td>\n      <td>...</td>\n      <td>...</td>\n      <td>...</td>\n      <td>...</td>\n      <td>...</td>\n      <td>...</td>\n      <td>...</td>\n      <td>...</td>\n    </tr>\n    <tr>\n      <th>124</th>\n      <td>34610037</td>\n      <td>88</td>\n      <td>261</td>\n      <td>True</td>\n      <td>747</td>\n      <td>1</td>\n      <td>2</td>\n      <td>3</td>\n      <td>5</td>\n      <td>True</td>\n      <td>...</td>\n      <td>n</td>\n      <td>NaN</td>\n      <td>n</td>\n      <td>NaN</td>\n      <td>0</td>\n      <td>0</td>\n      <td>0</td>\n      <td>0</td>\n      <td>nivo</td>\n      <td>0</td>\n    </tr>\n    <tr>\n      <th>125</th>\n      <td>34610114</td>\n      <td>77</td>\n      <td>21</td>\n      <td>False</td>\n      <td>1343</td>\n      <td>1</td>\n      <td>0</td>\n      <td>4</td>\n      <td>4</td>\n      <td>True</td>\n      <td>...</td>\n      <td>n</td>\n      <td>NaN</td>\n      <td>n</td>\n      <td>NaN</td>\n      <td>0</td>\n      <td>0</td>\n      <td>0</td>\n      <td>0</td>\n      <td>ipinivo</td>\n      <td>0</td>\n    </tr>\n    <tr>\n      <th>126</th>\n      <td>34610005</td>\n      <td>51</td>\n      <td>63</td>\n      <td>False</td>\n      <td>1619</td>\n      <td>0</td>\n      <td>0</td>\n      <td>10</td>\n      <td>10</td>\n      <td>True</td>\n      <td>...</td>\n      <td>n</td>\n      <td>NaN</td>\n      <td>y</td>\n      <td>V600E</td>\n      <td>0</td>\n      <td>0</td>\n      <td>0</td>\n      <td>0</td>\n      <td>ipinivo</td>\n      <td>1</td>\n    </tr>\n    <tr>\n      <th>127</th>\n      <td>34610115</td>\n      <td>71</td>\n      <td>0</td>\n      <td>False</td>\n      <td>1690</td>\n      <td>0</td>\n      <td>0</td>\n      <td>3</td>\n      <td>3</td>\n      <td>True</td>\n      <td>...</td>\n      <td>n</td>\n      <td>NaN</td>\n      <td>y</td>\n      <td>V600K</td>\n      <td>0</td>\n      <td>0</td>\n      <td>0</td>\n      <td>0</td>\n      <td>ipinivo</td>\n      <td>0</td>\n    </tr>\n    <tr>\n      <th>128</th>\n      <td>34610038</td>\n      <td>78</td>\n      <td>153</td>\n      <td>False</td>\n      <td>395</td>\n      <td>1</td>\n      <td>2</td>\n      <td>1</td>\n      <td>3</td>\n      <td>True</td>\n      <td>...</td>\n      <td>y</td>\n      <td>Q61R</td>\n      <td>n</td>\n      <td>NaN</td>\n      <td>0</td>\n      <td>0</td>\n      <td>0</td>\n      <td>0</td>\n      <td>ipinivo</td>\n      <td>0</td>\n    </tr>\n  </tbody>\n</table>\n<p>129 rows × 47 columns</p>\n</div>"
     },
     "metadata": {}
    }
   ],
   "execution_count": null
  },
  {
   "cell_type": "code",
   "metadata": {
    "cell_id": "00037-670feaf7-a615-4859-8488-a2360024835f",
    "deepnote_to_be_reexecuted": false,
    "execution_millis": 0,
    "execution_start": 1633941851251,
    "source_hash": "3eac0eaf",
    "tags": [],
    "deepnote_cell_type": "code"
   },
   "source": "patients_labels = {\n    **studies_labels,\n    'age_at_treatment_start_in_years': 'Age (treatment start, years)',\n    'duration_treatment_in_days': 'Treatment duration (days)',\n    'death_event_observed': 'Death observed',\n    'survival_in_days': 'Survival time (days)',\n    'time': 'Time (days)',\n    'survival_probability': 'Survival probability',\n    'survival_1_year': '1-year Survival',\n    'bmi': 'Body-Mass Index',\n    'sex': 'Sex'\n}",
   "outputs": [],
   "execution_count": null
  },
  {
   "cell_type": "markdown",
   "source": "### Visualisations",
   "metadata": {
    "cell_id": "00038-b9375573-4e1c-4687-a116-d397c0ad13eb",
    "deepnote_app_coordinates": {
     "h": 2,
     "w": 12,
     "x": 0,
     "y": 0
    },
    "is_collapsed": false,
    "tags": [],
    "deepnote_cell_type": "text-cell-h3"
   }
  },
  {
   "cell_type": "code",
   "metadata": {
    "cell_id": "00037-debdbfdd-58bb-42ba-8edd-a9237a08483d",
    "deepnote_app_coordinates": {
     "h": 5,
     "w": 12,
     "x": 0,
     "y": 0
    },
    "deepnote_app_is_code_hidden": true,
    "deepnote_to_be_reexecuted": false,
    "execution_millis": 69,
    "execution_start": 1633941822490,
    "source_hash": "72e6dc4a",
    "tags": [],
    "deepnote_cell_type": "code"
   },
   "source": "px.histogram(patients, x='age_at_treatment_start_in_years', color='survival_1_year',\n             labels=patients_labels) \\\n    .update_layout(legend=top_h_legend, yaxis_title='Patients (count)', barmode='overlay') \\\n    .update_traces(opacity=0.5)",
   "outputs": [
    {
     "data": {
      "text/html": "<html>\n<head><meta charset=\"utf-8\" /></head>\n<body>\n    <div>            <script src=\"https://cdnjs.cloudflare.com/ajax/libs/mathjax/2.7.5/MathJax.js?config=TeX-AMS-MML_SVG\"></script><script type=\"text/javascript\">if (window.MathJax) {MathJax.Hub.Config({SVG: {font: \"STIX-Web\"}});}</script>                <script type=\"text/javascript\">window.PlotlyConfig = {MathJaxConfig: 'local'};</script>\n        <script src=\"https://cdn.plot.ly/plotly-2.4.2.min.js\"></script>                <div id=\"a2f5bab1-be42-468e-aff5-3ebcd973350b\" class=\"plotly-graph-div\" style=\"height:525px; width:100%;\"></div>            <script type=\"text/javascript\">                                    window.PLOTLYENV=window.PLOTLYENV || {};                                    if (document.getElementById(\"a2f5bab1-be42-468e-aff5-3ebcd973350b\")) {                    Plotly.newPlot(                        \"a2f5bab1-be42-468e-aff5-3ebcd973350b\",                        [{\"alignmentgroup\":\"True\",\"bingroup\":\"x\",\"hovertemplate\":\"1-year Survival=True<br>Age (treatment start, years)=%{x}<br>count=%{y}<extra></extra>\",\"legendgroup\":\"True\",\"marker\":{\"color\":\"rgb(76,114,176)\",\"pattern\":{\"shape\":\"\"}},\"name\":\"True\",\"offsetgroup\":\"True\",\"opacity\":0.5,\"orientation\":\"v\",\"showlegend\":true,\"type\":\"histogram\",\"x\":[64,80,55,68,52,36,76,80,49,65,82,57,54,45,73,61,33,66,76,68,76,76,60,79,82,47,76,64,63,69,42,76,74,49,73,30,65,73,52,76,54,66,52,34,60,65,49,42,57,59,66,59,77,45,80,27,64,70,55,43,71,77,77,72,58,41,54,87,80,61,77,62,68,68,90,41,73,56,84,56,65,75,77,80,77,75,72,77,58,79,63,54,77,62,81,88,77,51,71,78],\"xaxis\":\"x\",\"yaxis\":\"y\"},{\"alignmentgroup\":\"True\",\"bingroup\":\"x\",\"hovertemplate\":\"1-year Survival=False<br>Age (treatment start, years)=%{x}<br>count=%{y}<extra></extra>\",\"legendgroup\":\"False\",\"marker\":{\"color\":\"rgb(221,132,82)\",\"pattern\":{\"shape\":\"\"}},\"name\":\"False\",\"offsetgroup\":\"False\",\"opacity\":0.5,\"orientation\":\"v\",\"showlegend\":true,\"type\":\"histogram\",\"x\":[82,81,67,70,90,76,75,66,88,80,55,73,39,61,77,58,70,68,83,73,84,43,74,74,59,68,70,71,68],\"xaxis\":\"x\",\"yaxis\":\"y\"}],                        {\"barmode\":\"overlay\",\"legend\":{\"orientation\":\"h\",\"title\":{\"text\":\"1-year Survival\"},\"tracegroupgap\":0,\"y\":1.02,\"yanchor\":\"bottom\"},\"margin\":{\"t\":60},\"template\":{\"data\":{\"bar\":[{\"error_x\":{\"color\":\"rgb(36,36,36)\"},\"error_y\":{\"color\":\"rgb(36,36,36)\"},\"marker\":{\"line\":{\"color\":\"rgb(234,234,242)\",\"width\":0.5},\"pattern\":{\"fillmode\":\"overlay\",\"size\":10,\"solidity\":0.2}},\"type\":\"bar\"}],\"barpolar\":[{\"marker\":{\"line\":{\"color\":\"rgb(234,234,242)\",\"width\":0.5},\"pattern\":{\"fillmode\":\"overlay\",\"size\":10,\"solidity\":0.2}},\"type\":\"barpolar\"}],\"carpet\":[{\"aaxis\":{\"endlinecolor\":\"rgb(36,36,36)\",\"gridcolor\":\"white\",\"linecolor\":\"white\",\"minorgridcolor\":\"white\",\"startlinecolor\":\"rgb(36,36,36)\"},\"baxis\":{\"endlinecolor\":\"rgb(36,36,36)\",\"gridcolor\":\"white\",\"linecolor\":\"white\",\"minorgridcolor\":\"white\",\"startlinecolor\":\"rgb(36,36,36)\"},\"type\":\"carpet\"}],\"choropleth\":[{\"colorbar\":{\"outlinewidth\":0,\"tickcolor\":\"rgb(36,36,36)\",\"ticklen\":8,\"ticks\":\"outside\",\"tickwidth\":2},\"type\":\"choropleth\"}],\"contour\":[{\"colorbar\":{\"outlinewidth\":0,\"tickcolor\":\"rgb(36,36,36)\",\"ticklen\":8,\"ticks\":\"outside\",\"tickwidth\":2},\"colorscale\":[[0.0,\"rgb(2,4,25)\"],[0.06274509803921569,\"rgb(24,15,41)\"],[0.12549019607843137,\"rgb(47,23,57)\"],[0.18823529411764706,\"rgb(71,28,72)\"],[0.25098039215686274,\"rgb(97,30,82)\"],[0.3137254901960784,\"rgb(123,30,89)\"],[0.3764705882352941,\"rgb(150,27,91)\"],[0.4392156862745098,\"rgb(177,22,88)\"],[0.5019607843137255,\"rgb(203,26,79)\"],[0.5647058823529412,\"rgb(223,47,67)\"],[0.6274509803921569,\"rgb(236,76,61)\"],[0.6901960784313725,\"rgb(242,107,73)\"],[0.7529411764705882,\"rgb(244,135,95)\"],[0.8156862745098039,\"rgb(245,162,122)\"],[0.8784313725490196,\"rgb(246,188,153)\"],[0.9411764705882353,\"rgb(247,212,187)\"],[1.0,\"rgb(250,234,220)\"]],\"type\":\"contour\"}],\"contourcarpet\":[{\"colorbar\":{\"outlinewidth\":0,\"tickcolor\":\"rgb(36,36,36)\",\"ticklen\":8,\"ticks\":\"outside\",\"tickwidth\":2},\"type\":\"contourcarpet\"}],\"heatmap\":[{\"colorbar\":{\"outlinewidth\":0,\"tickcolor\":\"rgb(36,36,36)\",\"ticklen\":8,\"ticks\":\"outside\",\"tickwidth\":2},\"colorscale\":[[0.0,\"rgb(2,4,25)\"],[0.06274509803921569,\"rgb(24,15,41)\"],[0.12549019607843137,\"rgb(47,23,57)\"],[0.18823529411764706,\"rgb(71,28,72)\"],[0.25098039215686274,\"rgb(97,30,82)\"],[0.3137254901960784,\"rgb(123,30,89)\"],[0.3764705882352941,\"rgb(150,27,91)\"],[0.4392156862745098,\"rgb(177,22,88)\"],[0.5019607843137255,\"rgb(203,26,79)\"],[0.5647058823529412,\"rgb(223,47,67)\"],[0.6274509803921569,\"rgb(236,76,61)\"],[0.6901960784313725,\"rgb(242,107,73)\"],[0.7529411764705882,\"rgb(244,135,95)\"],[0.8156862745098039,\"rgb(245,162,122)\"],[0.8784313725490196,\"rgb(246,188,153)\"],[0.9411764705882353,\"rgb(247,212,187)\"],[1.0,\"rgb(250,234,220)\"]],\"type\":\"heatmap\"}],\"heatmapgl\":[{\"colorbar\":{\"outlinewidth\":0,\"tickcolor\":\"rgb(36,36,36)\",\"ticklen\":8,\"ticks\":\"outside\",\"tickwidth\":2},\"colorscale\":[[0.0,\"rgb(2,4,25)\"],[0.06274509803921569,\"rgb(24,15,41)\"],[0.12549019607843137,\"rgb(47,23,57)\"],[0.18823529411764706,\"rgb(71,28,72)\"],[0.25098039215686274,\"rgb(97,30,82)\"],[0.3137254901960784,\"rgb(123,30,89)\"],[0.3764705882352941,\"rgb(150,27,91)\"],[0.4392156862745098,\"rgb(177,22,88)\"],[0.5019607843137255,\"rgb(203,26,79)\"],[0.5647058823529412,\"rgb(223,47,67)\"],[0.6274509803921569,\"rgb(236,76,61)\"],[0.6901960784313725,\"rgb(242,107,73)\"],[0.7529411764705882,\"rgb(244,135,95)\"],[0.8156862745098039,\"rgb(245,162,122)\"],[0.8784313725490196,\"rgb(246,188,153)\"],[0.9411764705882353,\"rgb(247,212,187)\"],[1.0,\"rgb(250,234,220)\"]],\"type\":\"heatmapgl\"}],\"histogram\":[{\"marker\":{\"pattern\":{\"fillmode\":\"overlay\",\"size\":10,\"solidity\":0.2}},\"type\":\"histogram\"}],\"histogram2d\":[{\"colorbar\":{\"outlinewidth\":0,\"tickcolor\":\"rgb(36,36,36)\",\"ticklen\":8,\"ticks\":\"outside\",\"tickwidth\":2},\"colorscale\":[[0.0,\"rgb(2,4,25)\"],[0.06274509803921569,\"rgb(24,15,41)\"],[0.12549019607843137,\"rgb(47,23,57)\"],[0.18823529411764706,\"rgb(71,28,72)\"],[0.25098039215686274,\"rgb(97,30,82)\"],[0.3137254901960784,\"rgb(123,30,89)\"],[0.3764705882352941,\"rgb(150,27,91)\"],[0.4392156862745098,\"rgb(177,22,88)\"],[0.5019607843137255,\"rgb(203,26,79)\"],[0.5647058823529412,\"rgb(223,47,67)\"],[0.6274509803921569,\"rgb(236,76,61)\"],[0.6901960784313725,\"rgb(242,107,73)\"],[0.7529411764705882,\"rgb(244,135,95)\"],[0.8156862745098039,\"rgb(245,162,122)\"],[0.8784313725490196,\"rgb(246,188,153)\"],[0.9411764705882353,\"rgb(247,212,187)\"],[1.0,\"rgb(250,234,220)\"]],\"type\":\"histogram2d\"}],\"histogram2dcontour\":[{\"colorbar\":{\"outlinewidth\":0,\"tickcolor\":\"rgb(36,36,36)\",\"ticklen\":8,\"ticks\":\"outside\",\"tickwidth\":2},\"colorscale\":[[0.0,\"rgb(2,4,25)\"],[0.06274509803921569,\"rgb(24,15,41)\"],[0.12549019607843137,\"rgb(47,23,57)\"],[0.18823529411764706,\"rgb(71,28,72)\"],[0.25098039215686274,\"rgb(97,30,82)\"],[0.3137254901960784,\"rgb(123,30,89)\"],[0.3764705882352941,\"rgb(150,27,91)\"],[0.4392156862745098,\"rgb(177,22,88)\"],[0.5019607843137255,\"rgb(203,26,79)\"],[0.5647058823529412,\"rgb(223,47,67)\"],[0.6274509803921569,\"rgb(236,76,61)\"],[0.6901960784313725,\"rgb(242,107,73)\"],[0.7529411764705882,\"rgb(244,135,95)\"],[0.8156862745098039,\"rgb(245,162,122)\"],[0.8784313725490196,\"rgb(246,188,153)\"],[0.9411764705882353,\"rgb(247,212,187)\"],[1.0,\"rgb(250,234,220)\"]],\"type\":\"histogram2dcontour\"}],\"mesh3d\":[{\"colorbar\":{\"outlinewidth\":0,\"tickcolor\":\"rgb(36,36,36)\",\"ticklen\":8,\"ticks\":\"outside\",\"tickwidth\":2},\"type\":\"mesh3d\"}],\"parcoords\":[{\"line\":{\"colorbar\":{\"outlinewidth\":0,\"tickcolor\":\"rgb(36,36,36)\",\"ticklen\":8,\"ticks\":\"outside\",\"tickwidth\":2}},\"type\":\"parcoords\"}],\"pie\":[{\"automargin\":true,\"type\":\"pie\"}],\"scatter\":[{\"marker\":{\"colorbar\":{\"outlinewidth\":0,\"tickcolor\":\"rgb(36,36,36)\",\"ticklen\":8,\"ticks\":\"outside\",\"tickwidth\":2}},\"type\":\"scatter\"}],\"scatter3d\":[{\"line\":{\"colorbar\":{\"outlinewidth\":0,\"tickcolor\":\"rgb(36,36,36)\",\"ticklen\":8,\"ticks\":\"outside\",\"tickwidth\":2}},\"marker\":{\"colorbar\":{\"outlinewidth\":0,\"tickcolor\":\"rgb(36,36,36)\",\"ticklen\":8,\"ticks\":\"outside\",\"tickwidth\":2}},\"type\":\"scatter3d\"}],\"scattercarpet\":[{\"marker\":{\"colorbar\":{\"outlinewidth\":0,\"tickcolor\":\"rgb(36,36,36)\",\"ticklen\":8,\"ticks\":\"outside\",\"tickwidth\":2}},\"type\":\"scattercarpet\"}],\"scattergeo\":[{\"marker\":{\"colorbar\":{\"outlinewidth\":0,\"tickcolor\":\"rgb(36,36,36)\",\"ticklen\":8,\"ticks\":\"outside\",\"tickwidth\":2}},\"type\":\"scattergeo\"}],\"scattergl\":[{\"marker\":{\"colorbar\":{\"outlinewidth\":0,\"tickcolor\":\"rgb(36,36,36)\",\"ticklen\":8,\"ticks\":\"outside\",\"tickwidth\":2}},\"type\":\"scattergl\"}],\"scattermapbox\":[{\"marker\":{\"colorbar\":{\"outlinewidth\":0,\"tickcolor\":\"rgb(36,36,36)\",\"ticklen\":8,\"ticks\":\"outside\",\"tickwidth\":2}},\"type\":\"scattermapbox\"}],\"scatterpolar\":[{\"marker\":{\"colorbar\":{\"outlinewidth\":0,\"tickcolor\":\"rgb(36,36,36)\",\"ticklen\":8,\"ticks\":\"outside\",\"tickwidth\":2}},\"type\":\"scatterpolar\"}],\"scatterpolargl\":[{\"marker\":{\"colorbar\":{\"outlinewidth\":0,\"tickcolor\":\"rgb(36,36,36)\",\"ticklen\":8,\"ticks\":\"outside\",\"tickwidth\":2}},\"type\":\"scatterpolargl\"}],\"scatterternary\":[{\"marker\":{\"colorbar\":{\"outlinewidth\":0,\"tickcolor\":\"rgb(36,36,36)\",\"ticklen\":8,\"ticks\":\"outside\",\"tickwidth\":2}},\"type\":\"scatterternary\"}],\"surface\":[{\"colorbar\":{\"outlinewidth\":0,\"tickcolor\":\"rgb(36,36,36)\",\"ticklen\":8,\"ticks\":\"outside\",\"tickwidth\":2},\"colorscale\":[[0.0,\"rgb(2,4,25)\"],[0.06274509803921569,\"rgb(24,15,41)\"],[0.12549019607843137,\"rgb(47,23,57)\"],[0.18823529411764706,\"rgb(71,28,72)\"],[0.25098039215686274,\"rgb(97,30,82)\"],[0.3137254901960784,\"rgb(123,30,89)\"],[0.3764705882352941,\"rgb(150,27,91)\"],[0.4392156862745098,\"rgb(177,22,88)\"],[0.5019607843137255,\"rgb(203,26,79)\"],[0.5647058823529412,\"rgb(223,47,67)\"],[0.6274509803921569,\"rgb(236,76,61)\"],[0.6901960784313725,\"rgb(242,107,73)\"],[0.7529411764705882,\"rgb(244,135,95)\"],[0.8156862745098039,\"rgb(245,162,122)\"],[0.8784313725490196,\"rgb(246,188,153)\"],[0.9411764705882353,\"rgb(247,212,187)\"],[1.0,\"rgb(250,234,220)\"]],\"type\":\"surface\"}],\"table\":[{\"cells\":{\"fill\":{\"color\":\"rgb(231,231,240)\"},\"line\":{\"color\":\"white\"}},\"header\":{\"fill\":{\"color\":\"rgb(183,183,191)\"},\"line\":{\"color\":\"white\"}},\"type\":\"table\"}]},\"layout\":{\"annotationdefaults\":{\"arrowcolor\":\"rgb(67,103,167)\"},\"autotypenumbers\":\"strict\",\"coloraxis\":{\"colorbar\":{\"outlinewidth\":0,\"tickcolor\":\"rgb(36,36,36)\",\"ticklen\":8,\"ticks\":\"outside\",\"tickwidth\":2}},\"colorscale\":{\"sequential\":[[0.0,\"rgb(2,4,25)\"],[0.06274509803921569,\"rgb(24,15,41)\"],[0.12549019607843137,\"rgb(47,23,57)\"],[0.18823529411764706,\"rgb(71,28,72)\"],[0.25098039215686274,\"rgb(97,30,82)\"],[0.3137254901960784,\"rgb(123,30,89)\"],[0.3764705882352941,\"rgb(150,27,91)\"],[0.4392156862745098,\"rgb(177,22,88)\"],[0.5019607843137255,\"rgb(203,26,79)\"],[0.5647058823529412,\"rgb(223,47,67)\"],[0.6274509803921569,\"rgb(236,76,61)\"],[0.6901960784313725,\"rgb(242,107,73)\"],[0.7529411764705882,\"rgb(244,135,95)\"],[0.8156862745098039,\"rgb(245,162,122)\"],[0.8784313725490196,\"rgb(246,188,153)\"],[0.9411764705882353,\"rgb(247,212,187)\"],[1.0,\"rgb(250,234,220)\"]],\"sequentialminus\":[[0.0,\"rgb(2,4,25)\"],[0.06274509803921569,\"rgb(24,15,41)\"],[0.12549019607843137,\"rgb(47,23,57)\"],[0.18823529411764706,\"rgb(71,28,72)\"],[0.25098039215686274,\"rgb(97,30,82)\"],[0.3137254901960784,\"rgb(123,30,89)\"],[0.3764705882352941,\"rgb(150,27,91)\"],[0.4392156862745098,\"rgb(177,22,88)\"],[0.5019607843137255,\"rgb(203,26,79)\"],[0.5647058823529412,\"rgb(223,47,67)\"],[0.6274509803921569,\"rgb(236,76,61)\"],[0.6901960784313725,\"rgb(242,107,73)\"],[0.7529411764705882,\"rgb(244,135,95)\"],[0.8156862745098039,\"rgb(245,162,122)\"],[0.8784313725490196,\"rgb(246,188,153)\"],[0.9411764705882353,\"rgb(247,212,187)\"],[1.0,\"rgb(250,234,220)\"]]},\"colorway\":[\"rgb(76,114,176)\",\"rgb(221,132,82)\",\"rgb(85,168,104)\",\"rgb(196,78,82)\",\"rgb(129,114,179)\",\"rgb(147,120,96)\",\"rgb(218,139,195)\",\"rgb(140,140,140)\",\"rgb(204,185,116)\",\"rgb(100,181,205)\"],\"font\":{\"color\":\"rgb(36,36,36)\"},\"geo\":{\"bgcolor\":\"white\",\"lakecolor\":\"white\",\"landcolor\":\"rgb(234,234,242)\",\"showlakes\":true,\"showland\":true,\"subunitcolor\":\"white\"},\"hoverlabel\":{\"align\":\"left\"},\"hovermode\":\"closest\",\"paper_bgcolor\":\"white\",\"plot_bgcolor\":\"rgb(234,234,242)\",\"polar\":{\"angularaxis\":{\"gridcolor\":\"white\",\"linecolor\":\"white\",\"showgrid\":true,\"ticks\":\"\"},\"bgcolor\":\"rgb(234,234,242)\",\"radialaxis\":{\"gridcolor\":\"white\",\"linecolor\":\"white\",\"showgrid\":true,\"ticks\":\"\"}},\"scene\":{\"xaxis\":{\"backgroundcolor\":\"rgb(234,234,242)\",\"gridcolor\":\"white\",\"gridwidth\":2,\"linecolor\":\"white\",\"showbackground\":true,\"showgrid\":true,\"ticks\":\"\",\"zerolinecolor\":\"white\"},\"yaxis\":{\"backgroundcolor\":\"rgb(234,234,242)\",\"gridcolor\":\"white\",\"gridwidth\":2,\"linecolor\":\"white\",\"showbackground\":true,\"showgrid\":true,\"ticks\":\"\",\"zerolinecolor\":\"white\"},\"zaxis\":{\"backgroundcolor\":\"rgb(234,234,242)\",\"gridcolor\":\"white\",\"gridwidth\":2,\"linecolor\":\"white\",\"showbackground\":true,\"showgrid\":true,\"ticks\":\"\",\"zerolinecolor\":\"white\"}},\"shapedefaults\":{\"fillcolor\":\"rgb(67,103,167)\",\"line\":{\"width\":0},\"opacity\":0.5},\"ternary\":{\"aaxis\":{\"gridcolor\":\"white\",\"linecolor\":\"white\",\"showgrid\":true,\"ticks\":\"\"},\"baxis\":{\"gridcolor\":\"white\",\"linecolor\":\"white\",\"showgrid\":true,\"ticks\":\"\"},\"bgcolor\":\"rgb(234,234,242)\",\"caxis\":{\"gridcolor\":\"white\",\"linecolor\":\"white\",\"showgrid\":true,\"ticks\":\"\"}},\"xaxis\":{\"automargin\":true,\"gridcolor\":\"white\",\"linecolor\":\"white\",\"showgrid\":true,\"ticks\":\"\",\"title\":{\"standoff\":15},\"zerolinecolor\":\"white\"},\"yaxis\":{\"automargin\":true,\"gridcolor\":\"white\",\"linecolor\":\"white\",\"showgrid\":true,\"ticks\":\"\",\"title\":{\"standoff\":15},\"zerolinecolor\":\"white\"}}},\"xaxis\":{\"anchor\":\"y\",\"domain\":[0.0,1.0],\"title\":{\"text\":\"Age (treatment start, years)\"}},\"yaxis\":{\"anchor\":\"x\",\"domain\":[0.0,1.0],\"title\":{\"text\":\"Patients (count)\"}}},                        {\"responsive\": true}                    ).then(function(){\n                            \nvar gd = document.getElementById('a2f5bab1-be42-468e-aff5-3ebcd973350b');\nvar x = new MutationObserver(function (mutations, observer) {{\n        var display = window.getComputedStyle(gd).display;\n        if (!display || display === 'none') {{\n            console.log([gd, 'removed!']);\n            Plotly.purge(gd);\n            observer.disconnect();\n        }}\n}});\n\n// Listen for the removal of the full notebook cells\nvar notebookContainer = gd.closest('#notebook-container');\nif (notebookContainer) {{\n    x.observe(notebookContainer, {childList: true});\n}}\n\n// Listen for the clearing of the current output cell\nvar outputEl = gd.closest('.output');\nif (outputEl) {{\n    x.observe(outputEl, {childList: true});\n}}\n\n                        })                };                            </script>        </div>\n</body>\n</html>"
     },
     "metadata": {},
     "output_type": "display_data"
    }
   ],
   "execution_count": null
  },
  {
   "cell_type": "code",
   "metadata": {
    "cell_id": "00039-494015d5-4dd7-40da-bec4-6566123e8a1d",
    "deepnote_app_coordinates": {
     "h": 5,
     "w": 12,
     "x": 0,
     "y": 0
    },
    "deepnote_app_is_code_hidden": true,
    "deepnote_to_be_reexecuted": false,
    "execution_millis": 233,
    "execution_start": 1633941826207,
    "source_hash": "2550a31c",
    "tags": [],
    "deepnote_cell_type": "code"
   },
   "source": "px.histogram(patients, x='duration_treatment_in_days', facet_col='survival_1_year',\n             labels=patients_labels) \\\n    .update_layout(legend=top_h_legend, yaxis_title='Patients (count)')",
   "outputs": [
    {
     "data": {
      "text/html": "<html>\n<head><meta charset=\"utf-8\" /></head>\n<body>\n    <div>            <script src=\"https://cdnjs.cloudflare.com/ajax/libs/mathjax/2.7.5/MathJax.js?config=TeX-AMS-MML_SVG\"></script><script type=\"text/javascript\">if (window.MathJax) {MathJax.Hub.Config({SVG: {font: \"STIX-Web\"}});}</script>                <script type=\"text/javascript\">window.PlotlyConfig = {MathJaxConfig: 'local'};</script>\n        <script src=\"https://cdn.plot.ly/plotly-2.4.2.min.js\"></script>                <div id=\"6f699f9e-3ed4-410c-83db-90ed2363fa6f\" class=\"plotly-graph-div\" style=\"height:525px; width:100%;\"></div>            <script type=\"text/javascript\">                                    window.PLOTLYENV=window.PLOTLYENV || {};                                    if (document.getElementById(\"6f699f9e-3ed4-410c-83db-90ed2363fa6f\")) {                    Plotly.newPlot(                        \"6f699f9e-3ed4-410c-83db-90ed2363fa6f\",                        [{\"alignmentgroup\":\"True\",\"bingroup\":\"x\",\"hovertemplate\":\"1-year Survival=True<br>Treatment duration (days)=%{x}<br>count=%{y}<extra></extra>\",\"legendgroup\":\"\",\"marker\":{\"color\":\"rgb(76,114,176)\",\"pattern\":{\"shape\":\"\"}},\"name\":\"\",\"offsetgroup\":\"\",\"orientation\":\"v\",\"showlegend\":false,\"type\":\"histogram\",\"x\":[63,22,0,63,60,72,734,316,89,0,63,84,77,77,55,49,61,756,210,231,0,63,42,21,93,0,126,63,84,63,192,63,364,20,555,49,84,21,63,98,62,91,357,63,70,21,771,21,63,63,72,21,414,21,63,21,42,21,63,77,105,59,69,0,21,62,0,105,489,84,126,63,63,63,0,63,0,63,737,196,727,78,70,21,70,63,20,0,63,602,42,42,231,371,324,261,21,63,0,153],\"xaxis\":\"x\",\"yaxis\":\"y\"},{\"alignmentgroup\":\"True\",\"bingroup\":\"x\",\"hovertemplate\":\"1-year Survival=False<br>Treatment duration (days)=%{x}<br>count=%{y}<extra></extra>\",\"legendgroup\":\"\",\"marker\":{\"color\":\"rgb(76,114,176)\",\"pattern\":{\"shape\":\"\"}},\"name\":\"\",\"offsetgroup\":\"\",\"orientation\":\"v\",\"showlegend\":false,\"type\":\"histogram\",\"x\":[252,83,0,104,42,92,0,42,21,21,63,42,21,66,378,42,62,532,63,20,63,49,63,70,42,61,322,84,22],\"xaxis\":\"x2\",\"yaxis\":\"y2\"}],                        {\"annotations\":[{\"font\":{},\"showarrow\":false,\"text\":\"1-year Survival=True\",\"x\":0.245,\"xanchor\":\"center\",\"xref\":\"paper\",\"y\":1.0,\"yanchor\":\"bottom\",\"yref\":\"paper\"},{\"font\":{},\"showarrow\":false,\"text\":\"1-year Survival=False\",\"x\":0.755,\"xanchor\":\"center\",\"xref\":\"paper\",\"y\":1.0,\"yanchor\":\"bottom\",\"yref\":\"paper\"}],\"barmode\":\"relative\",\"legend\":{\"orientation\":\"h\",\"tracegroupgap\":0,\"y\":1.02,\"yanchor\":\"bottom\"},\"margin\":{\"t\":60},\"template\":{\"data\":{\"bar\":[{\"error_x\":{\"color\":\"rgb(36,36,36)\"},\"error_y\":{\"color\":\"rgb(36,36,36)\"},\"marker\":{\"line\":{\"color\":\"rgb(234,234,242)\",\"width\":0.5},\"pattern\":{\"fillmode\":\"overlay\",\"size\":10,\"solidity\":0.2}},\"type\":\"bar\"}],\"barpolar\":[{\"marker\":{\"line\":{\"color\":\"rgb(234,234,242)\",\"width\":0.5},\"pattern\":{\"fillmode\":\"overlay\",\"size\":10,\"solidity\":0.2}},\"type\":\"barpolar\"}],\"carpet\":[{\"aaxis\":{\"endlinecolor\":\"rgb(36,36,36)\",\"gridcolor\":\"white\",\"linecolor\":\"white\",\"minorgridcolor\":\"white\",\"startlinecolor\":\"rgb(36,36,36)\"},\"baxis\":{\"endlinecolor\":\"rgb(36,36,36)\",\"gridcolor\":\"white\",\"linecolor\":\"white\",\"minorgridcolor\":\"white\",\"startlinecolor\":\"rgb(36,36,36)\"},\"type\":\"carpet\"}],\"choropleth\":[{\"colorbar\":{\"outlinewidth\":0,\"tickcolor\":\"rgb(36,36,36)\",\"ticklen\":8,\"ticks\":\"outside\",\"tickwidth\":2},\"type\":\"choropleth\"}],\"contour\":[{\"colorbar\":{\"outlinewidth\":0,\"tickcolor\":\"rgb(36,36,36)\",\"ticklen\":8,\"ticks\":\"outside\",\"tickwidth\":2},\"colorscale\":[[0.0,\"rgb(2,4,25)\"],[0.06274509803921569,\"rgb(24,15,41)\"],[0.12549019607843137,\"rgb(47,23,57)\"],[0.18823529411764706,\"rgb(71,28,72)\"],[0.25098039215686274,\"rgb(97,30,82)\"],[0.3137254901960784,\"rgb(123,30,89)\"],[0.3764705882352941,\"rgb(150,27,91)\"],[0.4392156862745098,\"rgb(177,22,88)\"],[0.5019607843137255,\"rgb(203,26,79)\"],[0.5647058823529412,\"rgb(223,47,67)\"],[0.6274509803921569,\"rgb(236,76,61)\"],[0.6901960784313725,\"rgb(242,107,73)\"],[0.7529411764705882,\"rgb(244,135,95)\"],[0.8156862745098039,\"rgb(245,162,122)\"],[0.8784313725490196,\"rgb(246,188,153)\"],[0.9411764705882353,\"rgb(247,212,187)\"],[1.0,\"rgb(250,234,220)\"]],\"type\":\"contour\"}],\"contourcarpet\":[{\"colorbar\":{\"outlinewidth\":0,\"tickcolor\":\"rgb(36,36,36)\",\"ticklen\":8,\"ticks\":\"outside\",\"tickwidth\":2},\"type\":\"contourcarpet\"}],\"heatmap\":[{\"colorbar\":{\"outlinewidth\":0,\"tickcolor\":\"rgb(36,36,36)\",\"ticklen\":8,\"ticks\":\"outside\",\"tickwidth\":2},\"colorscale\":[[0.0,\"rgb(2,4,25)\"],[0.06274509803921569,\"rgb(24,15,41)\"],[0.12549019607843137,\"rgb(47,23,57)\"],[0.18823529411764706,\"rgb(71,28,72)\"],[0.25098039215686274,\"rgb(97,30,82)\"],[0.3137254901960784,\"rgb(123,30,89)\"],[0.3764705882352941,\"rgb(150,27,91)\"],[0.4392156862745098,\"rgb(177,22,88)\"],[0.5019607843137255,\"rgb(203,26,79)\"],[0.5647058823529412,\"rgb(223,47,67)\"],[0.6274509803921569,\"rgb(236,76,61)\"],[0.6901960784313725,\"rgb(242,107,73)\"],[0.7529411764705882,\"rgb(244,135,95)\"],[0.8156862745098039,\"rgb(245,162,122)\"],[0.8784313725490196,\"rgb(246,188,153)\"],[0.9411764705882353,\"rgb(247,212,187)\"],[1.0,\"rgb(250,234,220)\"]],\"type\":\"heatmap\"}],\"heatmapgl\":[{\"colorbar\":{\"outlinewidth\":0,\"tickcolor\":\"rgb(36,36,36)\",\"ticklen\":8,\"ticks\":\"outside\",\"tickwidth\":2},\"colorscale\":[[0.0,\"rgb(2,4,25)\"],[0.06274509803921569,\"rgb(24,15,41)\"],[0.12549019607843137,\"rgb(47,23,57)\"],[0.18823529411764706,\"rgb(71,28,72)\"],[0.25098039215686274,\"rgb(97,30,82)\"],[0.3137254901960784,\"rgb(123,30,89)\"],[0.3764705882352941,\"rgb(150,27,91)\"],[0.4392156862745098,\"rgb(177,22,88)\"],[0.5019607843137255,\"rgb(203,26,79)\"],[0.5647058823529412,\"rgb(223,47,67)\"],[0.6274509803921569,\"rgb(236,76,61)\"],[0.6901960784313725,\"rgb(242,107,73)\"],[0.7529411764705882,\"rgb(244,135,95)\"],[0.8156862745098039,\"rgb(245,162,122)\"],[0.8784313725490196,\"rgb(246,188,153)\"],[0.9411764705882353,\"rgb(247,212,187)\"],[1.0,\"rgb(250,234,220)\"]],\"type\":\"heatmapgl\"}],\"histogram\":[{\"marker\":{\"pattern\":{\"fillmode\":\"overlay\",\"size\":10,\"solidity\":0.2}},\"type\":\"histogram\"}],\"histogram2d\":[{\"colorbar\":{\"outlinewidth\":0,\"tickcolor\":\"rgb(36,36,36)\",\"ticklen\":8,\"ticks\":\"outside\",\"tickwidth\":2},\"colorscale\":[[0.0,\"rgb(2,4,25)\"],[0.06274509803921569,\"rgb(24,15,41)\"],[0.12549019607843137,\"rgb(47,23,57)\"],[0.18823529411764706,\"rgb(71,28,72)\"],[0.25098039215686274,\"rgb(97,30,82)\"],[0.3137254901960784,\"rgb(123,30,89)\"],[0.3764705882352941,\"rgb(150,27,91)\"],[0.4392156862745098,\"rgb(177,22,88)\"],[0.5019607843137255,\"rgb(203,26,79)\"],[0.5647058823529412,\"rgb(223,47,67)\"],[0.6274509803921569,\"rgb(236,76,61)\"],[0.6901960784313725,\"rgb(242,107,73)\"],[0.7529411764705882,\"rgb(244,135,95)\"],[0.8156862745098039,\"rgb(245,162,122)\"],[0.8784313725490196,\"rgb(246,188,153)\"],[0.9411764705882353,\"rgb(247,212,187)\"],[1.0,\"rgb(250,234,220)\"]],\"type\":\"histogram2d\"}],\"histogram2dcontour\":[{\"colorbar\":{\"outlinewidth\":0,\"tickcolor\":\"rgb(36,36,36)\",\"ticklen\":8,\"ticks\":\"outside\",\"tickwidth\":2},\"colorscale\":[[0.0,\"rgb(2,4,25)\"],[0.06274509803921569,\"rgb(24,15,41)\"],[0.12549019607843137,\"rgb(47,23,57)\"],[0.18823529411764706,\"rgb(71,28,72)\"],[0.25098039215686274,\"rgb(97,30,82)\"],[0.3137254901960784,\"rgb(123,30,89)\"],[0.3764705882352941,\"rgb(150,27,91)\"],[0.4392156862745098,\"rgb(177,22,88)\"],[0.5019607843137255,\"rgb(203,26,79)\"],[0.5647058823529412,\"rgb(223,47,67)\"],[0.6274509803921569,\"rgb(236,76,61)\"],[0.6901960784313725,\"rgb(242,107,73)\"],[0.7529411764705882,\"rgb(244,135,95)\"],[0.8156862745098039,\"rgb(245,162,122)\"],[0.8784313725490196,\"rgb(246,188,153)\"],[0.9411764705882353,\"rgb(247,212,187)\"],[1.0,\"rgb(250,234,220)\"]],\"type\":\"histogram2dcontour\"}],\"mesh3d\":[{\"colorbar\":{\"outlinewidth\":0,\"tickcolor\":\"rgb(36,36,36)\",\"ticklen\":8,\"ticks\":\"outside\",\"tickwidth\":2},\"type\":\"mesh3d\"}],\"parcoords\":[{\"line\":{\"colorbar\":{\"outlinewidth\":0,\"tickcolor\":\"rgb(36,36,36)\",\"ticklen\":8,\"ticks\":\"outside\",\"tickwidth\":2}},\"type\":\"parcoords\"}],\"pie\":[{\"automargin\":true,\"type\":\"pie\"}],\"scatter\":[{\"marker\":{\"colorbar\":{\"outlinewidth\":0,\"tickcolor\":\"rgb(36,36,36)\",\"ticklen\":8,\"ticks\":\"outside\",\"tickwidth\":2}},\"type\":\"scatter\"}],\"scatter3d\":[{\"line\":{\"colorbar\":{\"outlinewidth\":0,\"tickcolor\":\"rgb(36,36,36)\",\"ticklen\":8,\"ticks\":\"outside\",\"tickwidth\":2}},\"marker\":{\"colorbar\":{\"outlinewidth\":0,\"tickcolor\":\"rgb(36,36,36)\",\"ticklen\":8,\"ticks\":\"outside\",\"tickwidth\":2}},\"type\":\"scatter3d\"}],\"scattercarpet\":[{\"marker\":{\"colorbar\":{\"outlinewidth\":0,\"tickcolor\":\"rgb(36,36,36)\",\"ticklen\":8,\"ticks\":\"outside\",\"tickwidth\":2}},\"type\":\"scattercarpet\"}],\"scattergeo\":[{\"marker\":{\"colorbar\":{\"outlinewidth\":0,\"tickcolor\":\"rgb(36,36,36)\",\"ticklen\":8,\"ticks\":\"outside\",\"tickwidth\":2}},\"type\":\"scattergeo\"}],\"scattergl\":[{\"marker\":{\"colorbar\":{\"outlinewidth\":0,\"tickcolor\":\"rgb(36,36,36)\",\"ticklen\":8,\"ticks\":\"outside\",\"tickwidth\":2}},\"type\":\"scattergl\"}],\"scattermapbox\":[{\"marker\":{\"colorbar\":{\"outlinewidth\":0,\"tickcolor\":\"rgb(36,36,36)\",\"ticklen\":8,\"ticks\":\"outside\",\"tickwidth\":2}},\"type\":\"scattermapbox\"}],\"scatterpolar\":[{\"marker\":{\"colorbar\":{\"outlinewidth\":0,\"tickcolor\":\"rgb(36,36,36)\",\"ticklen\":8,\"ticks\":\"outside\",\"tickwidth\":2}},\"type\":\"scatterpolar\"}],\"scatterpolargl\":[{\"marker\":{\"colorbar\":{\"outlinewidth\":0,\"tickcolor\":\"rgb(36,36,36)\",\"ticklen\":8,\"ticks\":\"outside\",\"tickwidth\":2}},\"type\":\"scatterpolargl\"}],\"scatterternary\":[{\"marker\":{\"colorbar\":{\"outlinewidth\":0,\"tickcolor\":\"rgb(36,36,36)\",\"ticklen\":8,\"ticks\":\"outside\",\"tickwidth\":2}},\"type\":\"scatterternary\"}],\"surface\":[{\"colorbar\":{\"outlinewidth\":0,\"tickcolor\":\"rgb(36,36,36)\",\"ticklen\":8,\"ticks\":\"outside\",\"tickwidth\":2},\"colorscale\":[[0.0,\"rgb(2,4,25)\"],[0.06274509803921569,\"rgb(24,15,41)\"],[0.12549019607843137,\"rgb(47,23,57)\"],[0.18823529411764706,\"rgb(71,28,72)\"],[0.25098039215686274,\"rgb(97,30,82)\"],[0.3137254901960784,\"rgb(123,30,89)\"],[0.3764705882352941,\"rgb(150,27,91)\"],[0.4392156862745098,\"rgb(177,22,88)\"],[0.5019607843137255,\"rgb(203,26,79)\"],[0.5647058823529412,\"rgb(223,47,67)\"],[0.6274509803921569,\"rgb(236,76,61)\"],[0.6901960784313725,\"rgb(242,107,73)\"],[0.7529411764705882,\"rgb(244,135,95)\"],[0.8156862745098039,\"rgb(245,162,122)\"],[0.8784313725490196,\"rgb(246,188,153)\"],[0.9411764705882353,\"rgb(247,212,187)\"],[1.0,\"rgb(250,234,220)\"]],\"type\":\"surface\"}],\"table\":[{\"cells\":{\"fill\":{\"color\":\"rgb(231,231,240)\"},\"line\":{\"color\":\"white\"}},\"header\":{\"fill\":{\"color\":\"rgb(183,183,191)\"},\"line\":{\"color\":\"white\"}},\"type\":\"table\"}]},\"layout\":{\"annotationdefaults\":{\"arrowcolor\":\"rgb(67,103,167)\"},\"autotypenumbers\":\"strict\",\"coloraxis\":{\"colorbar\":{\"outlinewidth\":0,\"tickcolor\":\"rgb(36,36,36)\",\"ticklen\":8,\"ticks\":\"outside\",\"tickwidth\":2}},\"colorscale\":{\"sequential\":[[0.0,\"rgb(2,4,25)\"],[0.06274509803921569,\"rgb(24,15,41)\"],[0.12549019607843137,\"rgb(47,23,57)\"],[0.18823529411764706,\"rgb(71,28,72)\"],[0.25098039215686274,\"rgb(97,30,82)\"],[0.3137254901960784,\"rgb(123,30,89)\"],[0.3764705882352941,\"rgb(150,27,91)\"],[0.4392156862745098,\"rgb(177,22,88)\"],[0.5019607843137255,\"rgb(203,26,79)\"],[0.5647058823529412,\"rgb(223,47,67)\"],[0.6274509803921569,\"rgb(236,76,61)\"],[0.6901960784313725,\"rgb(242,107,73)\"],[0.7529411764705882,\"rgb(244,135,95)\"],[0.8156862745098039,\"rgb(245,162,122)\"],[0.8784313725490196,\"rgb(246,188,153)\"],[0.9411764705882353,\"rgb(247,212,187)\"],[1.0,\"rgb(250,234,220)\"]],\"sequentialminus\":[[0.0,\"rgb(2,4,25)\"],[0.06274509803921569,\"rgb(24,15,41)\"],[0.12549019607843137,\"rgb(47,23,57)\"],[0.18823529411764706,\"rgb(71,28,72)\"],[0.25098039215686274,\"rgb(97,30,82)\"],[0.3137254901960784,\"rgb(123,30,89)\"],[0.3764705882352941,\"rgb(150,27,91)\"],[0.4392156862745098,\"rgb(177,22,88)\"],[0.5019607843137255,\"rgb(203,26,79)\"],[0.5647058823529412,\"rgb(223,47,67)\"],[0.6274509803921569,\"rgb(236,76,61)\"],[0.6901960784313725,\"rgb(242,107,73)\"],[0.7529411764705882,\"rgb(244,135,95)\"],[0.8156862745098039,\"rgb(245,162,122)\"],[0.8784313725490196,\"rgb(246,188,153)\"],[0.9411764705882353,\"rgb(247,212,187)\"],[1.0,\"rgb(250,234,220)\"]]},\"colorway\":[\"rgb(76,114,176)\",\"rgb(221,132,82)\",\"rgb(85,168,104)\",\"rgb(196,78,82)\",\"rgb(129,114,179)\",\"rgb(147,120,96)\",\"rgb(218,139,195)\",\"rgb(140,140,140)\",\"rgb(204,185,116)\",\"rgb(100,181,205)\"],\"font\":{\"color\":\"rgb(36,36,36)\"},\"geo\":{\"bgcolor\":\"white\",\"lakecolor\":\"white\",\"landcolor\":\"rgb(234,234,242)\",\"showlakes\":true,\"showland\":true,\"subunitcolor\":\"white\"},\"hoverlabel\":{\"align\":\"left\"},\"hovermode\":\"closest\",\"paper_bgcolor\":\"white\",\"plot_bgcolor\":\"rgb(234,234,242)\",\"polar\":{\"angularaxis\":{\"gridcolor\":\"white\",\"linecolor\":\"white\",\"showgrid\":true,\"ticks\":\"\"},\"bgcolor\":\"rgb(234,234,242)\",\"radialaxis\":{\"gridcolor\":\"white\",\"linecolor\":\"white\",\"showgrid\":true,\"ticks\":\"\"}},\"scene\":{\"xaxis\":{\"backgroundcolor\":\"rgb(234,234,242)\",\"gridcolor\":\"white\",\"gridwidth\":2,\"linecolor\":\"white\",\"showbackground\":true,\"showgrid\":true,\"ticks\":\"\",\"zerolinecolor\":\"white\"},\"yaxis\":{\"backgroundcolor\":\"rgb(234,234,242)\",\"gridcolor\":\"white\",\"gridwidth\":2,\"linecolor\":\"white\",\"showbackground\":true,\"showgrid\":true,\"ticks\":\"\",\"zerolinecolor\":\"white\"},\"zaxis\":{\"backgroundcolor\":\"rgb(234,234,242)\",\"gridcolor\":\"white\",\"gridwidth\":2,\"linecolor\":\"white\",\"showbackground\":true,\"showgrid\":true,\"ticks\":\"\",\"zerolinecolor\":\"white\"}},\"shapedefaults\":{\"fillcolor\":\"rgb(67,103,167)\",\"line\":{\"width\":0},\"opacity\":0.5},\"ternary\":{\"aaxis\":{\"gridcolor\":\"white\",\"linecolor\":\"white\",\"showgrid\":true,\"ticks\":\"\"},\"baxis\":{\"gridcolor\":\"white\",\"linecolor\":\"white\",\"showgrid\":true,\"ticks\":\"\"},\"bgcolor\":\"rgb(234,234,242)\",\"caxis\":{\"gridcolor\":\"white\",\"linecolor\":\"white\",\"showgrid\":true,\"ticks\":\"\"}},\"xaxis\":{\"automargin\":true,\"gridcolor\":\"white\",\"linecolor\":\"white\",\"showgrid\":true,\"ticks\":\"\",\"title\":{\"standoff\":15},\"zerolinecolor\":\"white\"},\"yaxis\":{\"automargin\":true,\"gridcolor\":\"white\",\"linecolor\":\"white\",\"showgrid\":true,\"ticks\":\"\",\"title\":{\"standoff\":15},\"zerolinecolor\":\"white\"}}},\"xaxis\":{\"anchor\":\"y\",\"domain\":[0.0,0.49],\"title\":{\"text\":\"Treatment duration (days)\"}},\"xaxis2\":{\"anchor\":\"y2\",\"domain\":[0.51,1.0],\"matches\":\"x\",\"title\":{\"text\":\"Treatment duration (days)\"}},\"yaxis\":{\"anchor\":\"x\",\"domain\":[0.0,1.0],\"title\":{\"text\":\"Patients (count)\"}},\"yaxis2\":{\"anchor\":\"x2\",\"domain\":[0.0,1.0],\"matches\":\"y\",\"showticklabels\":false}},                        {\"responsive\": true}                    ).then(function(){\n                            \nvar gd = document.getElementById('6f699f9e-3ed4-410c-83db-90ed2363fa6f');\nvar x = new MutationObserver(function (mutations, observer) {{\n        var display = window.getComputedStyle(gd).display;\n        if (!display || display === 'none') {{\n            console.log([gd, 'removed!']);\n            Plotly.purge(gd);\n            observer.disconnect();\n        }}\n}});\n\n// Listen for the removal of the full notebook cells\nvar notebookContainer = gd.closest('#notebook-container');\nif (notebookContainer) {{\n    x.observe(notebookContainer, {childList: true});\n}}\n\n// Listen for the clearing of the current output cell\nvar outputEl = gd.closest('.output');\nif (outputEl) {{\n    x.observe(outputEl, {childList: true});\n}}\n\n                        })                };                            </script>        </div>\n</body>\n</html>"
     },
     "metadata": {},
     "output_type": "display_data"
    }
   ],
   "execution_count": null
  },
  {
   "cell_type": "code",
   "metadata": {
    "cell_id": "00040-a159565c-b003-4df3-93c0-a7c7837fe18d",
    "deepnote_app_coordinates": {
     "h": 5,
     "w": 12,
     "x": 0,
     "y": 0
    },
    "deepnote_app_is_code_hidden": true,
    "deepnote_to_be_reexecuted": false,
    "execution_millis": 36,
    "execution_start": 1633941828825,
    "source_hash": "79093f4a",
    "tags": [],
    "deepnote_cell_type": "code"
   },
   "source": "px.scatter(patients, x='age_at_treatment_start_in_years', \n           y='survival_in_days', color='survival_1_year',\n           labels=patients_labels) \\\n    .update_layout(legend=top_h_legend)",
   "outputs": [
    {
     "data": {
      "text/html": "<html>\n<head><meta charset=\"utf-8\" /></head>\n<body>\n    <div>            <script src=\"https://cdnjs.cloudflare.com/ajax/libs/mathjax/2.7.5/MathJax.js?config=TeX-AMS-MML_SVG\"></script><script type=\"text/javascript\">if (window.MathJax) {MathJax.Hub.Config({SVG: {font: \"STIX-Web\"}});}</script>                <script type=\"text/javascript\">window.PlotlyConfig = {MathJaxConfig: 'local'};</script>\n        <script src=\"https://cdn.plot.ly/plotly-2.4.2.min.js\"></script>                <div id=\"012c36c3-7b79-4569-8617-5b3106c5532c\" class=\"plotly-graph-div\" style=\"height:525px; width:100%;\"></div>            <script type=\"text/javascript\">                                    window.PLOTLYENV=window.PLOTLYENV || {};                                    if (document.getElementById(\"012c36c3-7b79-4569-8617-5b3106c5532c\")) {                    Plotly.newPlot(                        \"012c36c3-7b79-4569-8617-5b3106c5532c\",                        [{\"hovertemplate\":\"1-year Survival=True<br>Age (treatment start, years)=%{x}<br>Survival time (days)=%{y}<extra></extra>\",\"legendgroup\":\"True\",\"marker\":{\"color\":\"rgb(76,114,176)\",\"symbol\":\"circle\"},\"mode\":\"markers\",\"name\":\"True\",\"orientation\":\"v\",\"showlegend\":true,\"type\":\"scatter\",\"x\":[64,80,55,68,52,36,76,80,49,65,82,57,54,45,73,61,33,66,76,68,76,76,60,79,82,47,76,64,63,69,42,76,74,49,73,30,65,73,52,76,54,66,52,34,60,65,49,42,57,59,66,59,77,45,80,27,64,70,55,43,71,77,77,72,58,41,54,87,80,61,77,62,68,68,90,41,73,56,84,56,65,75,77,80,77,75,72,77,58,79,63,54,77,62,81,88,77,51,71,78],\"xaxis\":\"x\",\"y\":[768,1312,1145,639,707,744,980,1135,505,1745,2098,1116,953,634,2101,476,367,1160,1549,1338,438,1021,455,437,1072,419,1359,457,961,1926,971,714,925,1112,587,1189,1703,594,498,2419,1492,1428,858,559,1993,782,2066,420,1238,441,997,504,1617,1420,1368,1447,683,424,1014,617,929,605,416,378,824,700,469,479,655,487,526,1577,1814,1791,973,498,455,1212,1057,894,1024,1029,645,2444,1414,944,370,1355,1910,1142,1198,972,483,650,909,747,1343,1619,1690,395],\"yaxis\":\"y\"},{\"hovertemplate\":\"1-year Survival=False<br>Age (treatment start, years)=%{x}<br>Survival time (days)=%{y}<extra></extra>\",\"legendgroup\":\"False\",\"marker\":{\"color\":\"rgb(221,132,82)\",\"symbol\":\"circle\"},\"mode\":\"markers\",\"name\":\"False\",\"orientation\":\"v\",\"showlegend\":true,\"type\":\"scatter\",\"x\":[82,81,67,70,90,76,75,66,88,80,55,73,39,61,77,58,70,68,83,73,84,43,74,74,59,68,70,71,68],\"xaxis\":\"x\",\"y\":[340,245,22,154,213,115,26,90,208,65,77,341,266,284,319,74,100,351,252,63,242,337,97,248,354,114,343,192,231],\"yaxis\":\"y\"}],                        {\"legend\":{\"orientation\":\"h\",\"title\":{\"text\":\"1-year Survival\"},\"tracegroupgap\":0,\"y\":1.02,\"yanchor\":\"bottom\"},\"margin\":{\"t\":60},\"template\":{\"data\":{\"bar\":[{\"error_x\":{\"color\":\"rgb(36,36,36)\"},\"error_y\":{\"color\":\"rgb(36,36,36)\"},\"marker\":{\"line\":{\"color\":\"rgb(234,234,242)\",\"width\":0.5},\"pattern\":{\"fillmode\":\"overlay\",\"size\":10,\"solidity\":0.2}},\"type\":\"bar\"}],\"barpolar\":[{\"marker\":{\"line\":{\"color\":\"rgb(234,234,242)\",\"width\":0.5},\"pattern\":{\"fillmode\":\"overlay\",\"size\":10,\"solidity\":0.2}},\"type\":\"barpolar\"}],\"carpet\":[{\"aaxis\":{\"endlinecolor\":\"rgb(36,36,36)\",\"gridcolor\":\"white\",\"linecolor\":\"white\",\"minorgridcolor\":\"white\",\"startlinecolor\":\"rgb(36,36,36)\"},\"baxis\":{\"endlinecolor\":\"rgb(36,36,36)\",\"gridcolor\":\"white\",\"linecolor\":\"white\",\"minorgridcolor\":\"white\",\"startlinecolor\":\"rgb(36,36,36)\"},\"type\":\"carpet\"}],\"choropleth\":[{\"colorbar\":{\"outlinewidth\":0,\"tickcolor\":\"rgb(36,36,36)\",\"ticklen\":8,\"ticks\":\"outside\",\"tickwidth\":2},\"type\":\"choropleth\"}],\"contour\":[{\"colorbar\":{\"outlinewidth\":0,\"tickcolor\":\"rgb(36,36,36)\",\"ticklen\":8,\"ticks\":\"outside\",\"tickwidth\":2},\"colorscale\":[[0.0,\"rgb(2,4,25)\"],[0.06274509803921569,\"rgb(24,15,41)\"],[0.12549019607843137,\"rgb(47,23,57)\"],[0.18823529411764706,\"rgb(71,28,72)\"],[0.25098039215686274,\"rgb(97,30,82)\"],[0.3137254901960784,\"rgb(123,30,89)\"],[0.3764705882352941,\"rgb(150,27,91)\"],[0.4392156862745098,\"rgb(177,22,88)\"],[0.5019607843137255,\"rgb(203,26,79)\"],[0.5647058823529412,\"rgb(223,47,67)\"],[0.6274509803921569,\"rgb(236,76,61)\"],[0.6901960784313725,\"rgb(242,107,73)\"],[0.7529411764705882,\"rgb(244,135,95)\"],[0.8156862745098039,\"rgb(245,162,122)\"],[0.8784313725490196,\"rgb(246,188,153)\"],[0.9411764705882353,\"rgb(247,212,187)\"],[1.0,\"rgb(250,234,220)\"]],\"type\":\"contour\"}],\"contourcarpet\":[{\"colorbar\":{\"outlinewidth\":0,\"tickcolor\":\"rgb(36,36,36)\",\"ticklen\":8,\"ticks\":\"outside\",\"tickwidth\":2},\"type\":\"contourcarpet\"}],\"heatmap\":[{\"colorbar\":{\"outlinewidth\":0,\"tickcolor\":\"rgb(36,36,36)\",\"ticklen\":8,\"ticks\":\"outside\",\"tickwidth\":2},\"colorscale\":[[0.0,\"rgb(2,4,25)\"],[0.06274509803921569,\"rgb(24,15,41)\"],[0.12549019607843137,\"rgb(47,23,57)\"],[0.18823529411764706,\"rgb(71,28,72)\"],[0.25098039215686274,\"rgb(97,30,82)\"],[0.3137254901960784,\"rgb(123,30,89)\"],[0.3764705882352941,\"rgb(150,27,91)\"],[0.4392156862745098,\"rgb(177,22,88)\"],[0.5019607843137255,\"rgb(203,26,79)\"],[0.5647058823529412,\"rgb(223,47,67)\"],[0.6274509803921569,\"rgb(236,76,61)\"],[0.6901960784313725,\"rgb(242,107,73)\"],[0.7529411764705882,\"rgb(244,135,95)\"],[0.8156862745098039,\"rgb(245,162,122)\"],[0.8784313725490196,\"rgb(246,188,153)\"],[0.9411764705882353,\"rgb(247,212,187)\"],[1.0,\"rgb(250,234,220)\"]],\"type\":\"heatmap\"}],\"heatmapgl\":[{\"colorbar\":{\"outlinewidth\":0,\"tickcolor\":\"rgb(36,36,36)\",\"ticklen\":8,\"ticks\":\"outside\",\"tickwidth\":2},\"colorscale\":[[0.0,\"rgb(2,4,25)\"],[0.06274509803921569,\"rgb(24,15,41)\"],[0.12549019607843137,\"rgb(47,23,57)\"],[0.18823529411764706,\"rgb(71,28,72)\"],[0.25098039215686274,\"rgb(97,30,82)\"],[0.3137254901960784,\"rgb(123,30,89)\"],[0.3764705882352941,\"rgb(150,27,91)\"],[0.4392156862745098,\"rgb(177,22,88)\"],[0.5019607843137255,\"rgb(203,26,79)\"],[0.5647058823529412,\"rgb(223,47,67)\"],[0.6274509803921569,\"rgb(236,76,61)\"],[0.6901960784313725,\"rgb(242,107,73)\"],[0.7529411764705882,\"rgb(244,135,95)\"],[0.8156862745098039,\"rgb(245,162,122)\"],[0.8784313725490196,\"rgb(246,188,153)\"],[0.9411764705882353,\"rgb(247,212,187)\"],[1.0,\"rgb(250,234,220)\"]],\"type\":\"heatmapgl\"}],\"histogram\":[{\"marker\":{\"pattern\":{\"fillmode\":\"overlay\",\"size\":10,\"solidity\":0.2}},\"type\":\"histogram\"}],\"histogram2d\":[{\"colorbar\":{\"outlinewidth\":0,\"tickcolor\":\"rgb(36,36,36)\",\"ticklen\":8,\"ticks\":\"outside\",\"tickwidth\":2},\"colorscale\":[[0.0,\"rgb(2,4,25)\"],[0.06274509803921569,\"rgb(24,15,41)\"],[0.12549019607843137,\"rgb(47,23,57)\"],[0.18823529411764706,\"rgb(71,28,72)\"],[0.25098039215686274,\"rgb(97,30,82)\"],[0.3137254901960784,\"rgb(123,30,89)\"],[0.3764705882352941,\"rgb(150,27,91)\"],[0.4392156862745098,\"rgb(177,22,88)\"],[0.5019607843137255,\"rgb(203,26,79)\"],[0.5647058823529412,\"rgb(223,47,67)\"],[0.6274509803921569,\"rgb(236,76,61)\"],[0.6901960784313725,\"rgb(242,107,73)\"],[0.7529411764705882,\"rgb(244,135,95)\"],[0.8156862745098039,\"rgb(245,162,122)\"],[0.8784313725490196,\"rgb(246,188,153)\"],[0.9411764705882353,\"rgb(247,212,187)\"],[1.0,\"rgb(250,234,220)\"]],\"type\":\"histogram2d\"}],\"histogram2dcontour\":[{\"colorbar\":{\"outlinewidth\":0,\"tickcolor\":\"rgb(36,36,36)\",\"ticklen\":8,\"ticks\":\"outside\",\"tickwidth\":2},\"colorscale\":[[0.0,\"rgb(2,4,25)\"],[0.06274509803921569,\"rgb(24,15,41)\"],[0.12549019607843137,\"rgb(47,23,57)\"],[0.18823529411764706,\"rgb(71,28,72)\"],[0.25098039215686274,\"rgb(97,30,82)\"],[0.3137254901960784,\"rgb(123,30,89)\"],[0.3764705882352941,\"rgb(150,27,91)\"],[0.4392156862745098,\"rgb(177,22,88)\"],[0.5019607843137255,\"rgb(203,26,79)\"],[0.5647058823529412,\"rgb(223,47,67)\"],[0.6274509803921569,\"rgb(236,76,61)\"],[0.6901960784313725,\"rgb(242,107,73)\"],[0.7529411764705882,\"rgb(244,135,95)\"],[0.8156862745098039,\"rgb(245,162,122)\"],[0.8784313725490196,\"rgb(246,188,153)\"],[0.9411764705882353,\"rgb(247,212,187)\"],[1.0,\"rgb(250,234,220)\"]],\"type\":\"histogram2dcontour\"}],\"mesh3d\":[{\"colorbar\":{\"outlinewidth\":0,\"tickcolor\":\"rgb(36,36,36)\",\"ticklen\":8,\"ticks\":\"outside\",\"tickwidth\":2},\"type\":\"mesh3d\"}],\"parcoords\":[{\"line\":{\"colorbar\":{\"outlinewidth\":0,\"tickcolor\":\"rgb(36,36,36)\",\"ticklen\":8,\"ticks\":\"outside\",\"tickwidth\":2}},\"type\":\"parcoords\"}],\"pie\":[{\"automargin\":true,\"type\":\"pie\"}],\"scatter\":[{\"marker\":{\"colorbar\":{\"outlinewidth\":0,\"tickcolor\":\"rgb(36,36,36)\",\"ticklen\":8,\"ticks\":\"outside\",\"tickwidth\":2}},\"type\":\"scatter\"}],\"scatter3d\":[{\"line\":{\"colorbar\":{\"outlinewidth\":0,\"tickcolor\":\"rgb(36,36,36)\",\"ticklen\":8,\"ticks\":\"outside\",\"tickwidth\":2}},\"marker\":{\"colorbar\":{\"outlinewidth\":0,\"tickcolor\":\"rgb(36,36,36)\",\"ticklen\":8,\"ticks\":\"outside\",\"tickwidth\":2}},\"type\":\"scatter3d\"}],\"scattercarpet\":[{\"marker\":{\"colorbar\":{\"outlinewidth\":0,\"tickcolor\":\"rgb(36,36,36)\",\"ticklen\":8,\"ticks\":\"outside\",\"tickwidth\":2}},\"type\":\"scattercarpet\"}],\"scattergeo\":[{\"marker\":{\"colorbar\":{\"outlinewidth\":0,\"tickcolor\":\"rgb(36,36,36)\",\"ticklen\":8,\"ticks\":\"outside\",\"tickwidth\":2}},\"type\":\"scattergeo\"}],\"scattergl\":[{\"marker\":{\"colorbar\":{\"outlinewidth\":0,\"tickcolor\":\"rgb(36,36,36)\",\"ticklen\":8,\"ticks\":\"outside\",\"tickwidth\":2}},\"type\":\"scattergl\"}],\"scattermapbox\":[{\"marker\":{\"colorbar\":{\"outlinewidth\":0,\"tickcolor\":\"rgb(36,36,36)\",\"ticklen\":8,\"ticks\":\"outside\",\"tickwidth\":2}},\"type\":\"scattermapbox\"}],\"scatterpolar\":[{\"marker\":{\"colorbar\":{\"outlinewidth\":0,\"tickcolor\":\"rgb(36,36,36)\",\"ticklen\":8,\"ticks\":\"outside\",\"tickwidth\":2}},\"type\":\"scatterpolar\"}],\"scatterpolargl\":[{\"marker\":{\"colorbar\":{\"outlinewidth\":0,\"tickcolor\":\"rgb(36,36,36)\",\"ticklen\":8,\"ticks\":\"outside\",\"tickwidth\":2}},\"type\":\"scatterpolargl\"}],\"scatterternary\":[{\"marker\":{\"colorbar\":{\"outlinewidth\":0,\"tickcolor\":\"rgb(36,36,36)\",\"ticklen\":8,\"ticks\":\"outside\",\"tickwidth\":2}},\"type\":\"scatterternary\"}],\"surface\":[{\"colorbar\":{\"outlinewidth\":0,\"tickcolor\":\"rgb(36,36,36)\",\"ticklen\":8,\"ticks\":\"outside\",\"tickwidth\":2},\"colorscale\":[[0.0,\"rgb(2,4,25)\"],[0.06274509803921569,\"rgb(24,15,41)\"],[0.12549019607843137,\"rgb(47,23,57)\"],[0.18823529411764706,\"rgb(71,28,72)\"],[0.25098039215686274,\"rgb(97,30,82)\"],[0.3137254901960784,\"rgb(123,30,89)\"],[0.3764705882352941,\"rgb(150,27,91)\"],[0.4392156862745098,\"rgb(177,22,88)\"],[0.5019607843137255,\"rgb(203,26,79)\"],[0.5647058823529412,\"rgb(223,47,67)\"],[0.6274509803921569,\"rgb(236,76,61)\"],[0.6901960784313725,\"rgb(242,107,73)\"],[0.7529411764705882,\"rgb(244,135,95)\"],[0.8156862745098039,\"rgb(245,162,122)\"],[0.8784313725490196,\"rgb(246,188,153)\"],[0.9411764705882353,\"rgb(247,212,187)\"],[1.0,\"rgb(250,234,220)\"]],\"type\":\"surface\"}],\"table\":[{\"cells\":{\"fill\":{\"color\":\"rgb(231,231,240)\"},\"line\":{\"color\":\"white\"}},\"header\":{\"fill\":{\"color\":\"rgb(183,183,191)\"},\"line\":{\"color\":\"white\"}},\"type\":\"table\"}]},\"layout\":{\"annotationdefaults\":{\"arrowcolor\":\"rgb(67,103,167)\"},\"autotypenumbers\":\"strict\",\"coloraxis\":{\"colorbar\":{\"outlinewidth\":0,\"tickcolor\":\"rgb(36,36,36)\",\"ticklen\":8,\"ticks\":\"outside\",\"tickwidth\":2}},\"colorscale\":{\"sequential\":[[0.0,\"rgb(2,4,25)\"],[0.06274509803921569,\"rgb(24,15,41)\"],[0.12549019607843137,\"rgb(47,23,57)\"],[0.18823529411764706,\"rgb(71,28,72)\"],[0.25098039215686274,\"rgb(97,30,82)\"],[0.3137254901960784,\"rgb(123,30,89)\"],[0.3764705882352941,\"rgb(150,27,91)\"],[0.4392156862745098,\"rgb(177,22,88)\"],[0.5019607843137255,\"rgb(203,26,79)\"],[0.5647058823529412,\"rgb(223,47,67)\"],[0.6274509803921569,\"rgb(236,76,61)\"],[0.6901960784313725,\"rgb(242,107,73)\"],[0.7529411764705882,\"rgb(244,135,95)\"],[0.8156862745098039,\"rgb(245,162,122)\"],[0.8784313725490196,\"rgb(246,188,153)\"],[0.9411764705882353,\"rgb(247,212,187)\"],[1.0,\"rgb(250,234,220)\"]],\"sequentialminus\":[[0.0,\"rgb(2,4,25)\"],[0.06274509803921569,\"rgb(24,15,41)\"],[0.12549019607843137,\"rgb(47,23,57)\"],[0.18823529411764706,\"rgb(71,28,72)\"],[0.25098039215686274,\"rgb(97,30,82)\"],[0.3137254901960784,\"rgb(123,30,89)\"],[0.3764705882352941,\"rgb(150,27,91)\"],[0.4392156862745098,\"rgb(177,22,88)\"],[0.5019607843137255,\"rgb(203,26,79)\"],[0.5647058823529412,\"rgb(223,47,67)\"],[0.6274509803921569,\"rgb(236,76,61)\"],[0.6901960784313725,\"rgb(242,107,73)\"],[0.7529411764705882,\"rgb(244,135,95)\"],[0.8156862745098039,\"rgb(245,162,122)\"],[0.8784313725490196,\"rgb(246,188,153)\"],[0.9411764705882353,\"rgb(247,212,187)\"],[1.0,\"rgb(250,234,220)\"]]},\"colorway\":[\"rgb(76,114,176)\",\"rgb(221,132,82)\",\"rgb(85,168,104)\",\"rgb(196,78,82)\",\"rgb(129,114,179)\",\"rgb(147,120,96)\",\"rgb(218,139,195)\",\"rgb(140,140,140)\",\"rgb(204,185,116)\",\"rgb(100,181,205)\"],\"font\":{\"color\":\"rgb(36,36,36)\"},\"geo\":{\"bgcolor\":\"white\",\"lakecolor\":\"white\",\"landcolor\":\"rgb(234,234,242)\",\"showlakes\":true,\"showland\":true,\"subunitcolor\":\"white\"},\"hoverlabel\":{\"align\":\"left\"},\"hovermode\":\"closest\",\"paper_bgcolor\":\"white\",\"plot_bgcolor\":\"rgb(234,234,242)\",\"polar\":{\"angularaxis\":{\"gridcolor\":\"white\",\"linecolor\":\"white\",\"showgrid\":true,\"ticks\":\"\"},\"bgcolor\":\"rgb(234,234,242)\",\"radialaxis\":{\"gridcolor\":\"white\",\"linecolor\":\"white\",\"showgrid\":true,\"ticks\":\"\"}},\"scene\":{\"xaxis\":{\"backgroundcolor\":\"rgb(234,234,242)\",\"gridcolor\":\"white\",\"gridwidth\":2,\"linecolor\":\"white\",\"showbackground\":true,\"showgrid\":true,\"ticks\":\"\",\"zerolinecolor\":\"white\"},\"yaxis\":{\"backgroundcolor\":\"rgb(234,234,242)\",\"gridcolor\":\"white\",\"gridwidth\":2,\"linecolor\":\"white\",\"showbackground\":true,\"showgrid\":true,\"ticks\":\"\",\"zerolinecolor\":\"white\"},\"zaxis\":{\"backgroundcolor\":\"rgb(234,234,242)\",\"gridcolor\":\"white\",\"gridwidth\":2,\"linecolor\":\"white\",\"showbackground\":true,\"showgrid\":true,\"ticks\":\"\",\"zerolinecolor\":\"white\"}},\"shapedefaults\":{\"fillcolor\":\"rgb(67,103,167)\",\"line\":{\"width\":0},\"opacity\":0.5},\"ternary\":{\"aaxis\":{\"gridcolor\":\"white\",\"linecolor\":\"white\",\"showgrid\":true,\"ticks\":\"\"},\"baxis\":{\"gridcolor\":\"white\",\"linecolor\":\"white\",\"showgrid\":true,\"ticks\":\"\"},\"bgcolor\":\"rgb(234,234,242)\",\"caxis\":{\"gridcolor\":\"white\",\"linecolor\":\"white\",\"showgrid\":true,\"ticks\":\"\"}},\"xaxis\":{\"automargin\":true,\"gridcolor\":\"white\",\"linecolor\":\"white\",\"showgrid\":true,\"ticks\":\"\",\"title\":{\"standoff\":15},\"zerolinecolor\":\"white\"},\"yaxis\":{\"automargin\":true,\"gridcolor\":\"white\",\"linecolor\":\"white\",\"showgrid\":true,\"ticks\":\"\",\"title\":{\"standoff\":15},\"zerolinecolor\":\"white\"}}},\"xaxis\":{\"anchor\":\"y\",\"domain\":[0.0,1.0],\"title\":{\"text\":\"Age (treatment start, years)\"}},\"yaxis\":{\"anchor\":\"x\",\"domain\":[0.0,1.0],\"title\":{\"text\":\"Survival time (days)\"}}},                        {\"responsive\": true}                    ).then(function(){\n                            \nvar gd = document.getElementById('012c36c3-7b79-4569-8617-5b3106c5532c');\nvar x = new MutationObserver(function (mutations, observer) {{\n        var display = window.getComputedStyle(gd).display;\n        if (!display || display === 'none') {{\n            console.log([gd, 'removed!']);\n            Plotly.purge(gd);\n            observer.disconnect();\n        }}\n}});\n\n// Listen for the removal of the full notebook cells\nvar notebookContainer = gd.closest('#notebook-container');\nif (notebookContainer) {{\n    x.observe(notebookContainer, {childList: true});\n}}\n\n// Listen for the clearing of the current output cell\nvar outputEl = gd.closest('.output');\nif (outputEl) {{\n    x.observe(outputEl, {childList: true});\n}}\n\n                        })                };                            </script>        </div>\n</body>\n</html>"
     },
     "metadata": {},
     "output_type": "display_data"
    }
   ],
   "execution_count": null
  },
  {
   "cell_type": "code",
   "metadata": {
    "cell_id": "00041-b4c901f1-e11f-4292-b497-a5977ad0a1ac",
    "deepnote_app_is_code_hidden": false,
    "deepnote_to_be_reexecuted": false,
    "execution_millis": 3184,
    "execution_start": 1633940701283,
    "is_output_hidden": false,
    "source_hash": "92107c24",
    "tags": [],
    "deepnote_cell_type": "code"
   },
   "source": "!pip install -q scikit-survival\nfrom sksurv.nonparametric import kaplan_meier_estimator\n\n# Kaplan-Meier\ntime, s_prob = kaplan_meier_estimator(patients.death_event_observed, patients.survival_in_days)\nkm_df = pd.DataFrame(np.array([time, s_prob]).T, columns=['time', 'survival_probability'])",
   "outputs": [
    {
     "output_type": "error",
     "ename": "ContextualVersionConflict",
     "evalue": "(scikit-learn 1.0 (/shared-libs/python3.7/py/lib/python3.7/site-packages), Requirement.parse('scikit-learn<0.25,>=0.24.0'), {'scikit-survival'})",
     "traceback": [
      "\u001b[0;31m---------------------------------------------------------------------------\u001b[0m",
      "\u001b[0;31mContextualVersionConflict\u001b[0m                 Traceback (most recent call last)",
      "\u001b[0;32m/tmp/ipykernel_169/3400697233.py\u001b[0m in \u001b[0;36m<module>\u001b[0;34m\u001b[0m\n\u001b[1;32m      1\u001b[0m \u001b[0mget_ipython\u001b[0m\u001b[0;34m(\u001b[0m\u001b[0;34m)\u001b[0m\u001b[0;34m.\u001b[0m\u001b[0msystem\u001b[0m\u001b[0;34m(\u001b[0m\u001b[0;34m'pip install -q scikit-survival'\u001b[0m\u001b[0;34m)\u001b[0m\u001b[0;34m\u001b[0m\u001b[0;34m\u001b[0m\u001b[0m\n\u001b[0;32m----> 2\u001b[0;31m \u001b[0;32mfrom\u001b[0m \u001b[0msksurv\u001b[0m\u001b[0;34m.\u001b[0m\u001b[0mnonparametric\u001b[0m \u001b[0;32mimport\u001b[0m \u001b[0mkaplan_meier_estimator\u001b[0m\u001b[0;34m\u001b[0m\u001b[0;34m\u001b[0m\u001b[0m\n\u001b[0m\u001b[1;32m      3\u001b[0m \u001b[0;34m\u001b[0m\u001b[0m\n\u001b[1;32m      4\u001b[0m \u001b[0;31m# Kaplan-Meier\u001b[0m\u001b[0;34m\u001b[0m\u001b[0;34m\u001b[0m\u001b[0;34m\u001b[0m\u001b[0m\n\u001b[1;32m      5\u001b[0m \u001b[0mtime\u001b[0m\u001b[0;34m,\u001b[0m \u001b[0ms_prob\u001b[0m \u001b[0;34m=\u001b[0m \u001b[0mkaplan_meier_estimator\u001b[0m\u001b[0;34m(\u001b[0m\u001b[0mpatients\u001b[0m\u001b[0;34m.\u001b[0m\u001b[0mdeath_event_observed\u001b[0m\u001b[0;34m,\u001b[0m \u001b[0mpatients\u001b[0m\u001b[0;34m.\u001b[0m\u001b[0msurvival_in_days\u001b[0m\u001b[0;34m)\u001b[0m\u001b[0;34m\u001b[0m\u001b[0;34m\u001b[0m\u001b[0m\n",
      "\u001b[0;32m~/venv/lib/python3.7/site-packages/sksurv/__init__.py\u001b[0m in \u001b[0;36m<module>\u001b[0;34m\u001b[0m\n\u001b[1;32m    135\u001b[0m \u001b[0;34m\u001b[0m\u001b[0m\n\u001b[1;32m    136\u001b[0m \u001b[0;32mtry\u001b[0m\u001b[0;34m:\u001b[0m\u001b[0;34m\u001b[0m\u001b[0;34m\u001b[0m\u001b[0m\n\u001b[0;32m--> 137\u001b[0;31m     \u001b[0m__version__\u001b[0m \u001b[0;34m=\u001b[0m \u001b[0mget_distribution\u001b[0m\u001b[0;34m(\u001b[0m\u001b[0;34m'scikit-survival'\u001b[0m\u001b[0;34m)\u001b[0m\u001b[0;34m.\u001b[0m\u001b[0mversion\u001b[0m\u001b[0;34m\u001b[0m\u001b[0;34m\u001b[0m\u001b[0m\n\u001b[0m\u001b[1;32m    138\u001b[0m \u001b[0;32mexcept\u001b[0m \u001b[0mDistributionNotFound\u001b[0m\u001b[0;34m:\u001b[0m  \u001b[0;31m# pragma: no cover\u001b[0m\u001b[0;34m\u001b[0m\u001b[0;34m\u001b[0m\u001b[0m\n\u001b[1;32m    139\u001b[0m     \u001b[0;31m# package is not installed\u001b[0m\u001b[0;34m\u001b[0m\u001b[0;34m\u001b[0m\u001b[0;34m\u001b[0m\u001b[0m\n",
      "\u001b[0;32m~/venv/lib/python3.7/site-packages/pkg_resources/__init__.py\u001b[0m in \u001b[0;36mget_distribution\u001b[0;34m(dist)\u001b[0m\n\u001b[1;32m    464\u001b[0m         \u001b[0mdist\u001b[0m \u001b[0;34m=\u001b[0m \u001b[0mRequirement\u001b[0m\u001b[0;34m.\u001b[0m\u001b[0mparse\u001b[0m\u001b[0;34m(\u001b[0m\u001b[0mdist\u001b[0m\u001b[0;34m)\u001b[0m\u001b[0;34m\u001b[0m\u001b[0;34m\u001b[0m\u001b[0m\n\u001b[1;32m    465\u001b[0m     \u001b[0;32mif\u001b[0m \u001b[0misinstance\u001b[0m\u001b[0;34m(\u001b[0m\u001b[0mdist\u001b[0m\u001b[0;34m,\u001b[0m \u001b[0mRequirement\u001b[0m\u001b[0;34m)\u001b[0m\u001b[0;34m:\u001b[0m\u001b[0;34m\u001b[0m\u001b[0;34m\u001b[0m\u001b[0m\n\u001b[0;32m--> 466\u001b[0;31m         \u001b[0mdist\u001b[0m \u001b[0;34m=\u001b[0m \u001b[0mget_provider\u001b[0m\u001b[0;34m(\u001b[0m\u001b[0mdist\u001b[0m\u001b[0;34m)\u001b[0m\u001b[0;34m\u001b[0m\u001b[0;34m\u001b[0m\u001b[0m\n\u001b[0m\u001b[1;32m    467\u001b[0m     \u001b[0;32mif\u001b[0m \u001b[0;32mnot\u001b[0m \u001b[0misinstance\u001b[0m\u001b[0;34m(\u001b[0m\u001b[0mdist\u001b[0m\u001b[0;34m,\u001b[0m \u001b[0mDistribution\u001b[0m\u001b[0;34m)\u001b[0m\u001b[0;34m:\u001b[0m\u001b[0;34m\u001b[0m\u001b[0;34m\u001b[0m\u001b[0m\n\u001b[1;32m    468\u001b[0m         \u001b[0;32mraise\u001b[0m \u001b[0mTypeError\u001b[0m\u001b[0;34m(\u001b[0m\u001b[0;34m\"Expected string, Requirement, or Distribution\"\u001b[0m\u001b[0;34m,\u001b[0m \u001b[0mdist\u001b[0m\u001b[0;34m)\u001b[0m\u001b[0;34m\u001b[0m\u001b[0;34m\u001b[0m\u001b[0m\n",
      "\u001b[0;32m~/venv/lib/python3.7/site-packages/pkg_resources/__init__.py\u001b[0m in \u001b[0;36mget_provider\u001b[0;34m(moduleOrReq)\u001b[0m\n\u001b[1;32m    340\u001b[0m     \u001b[0;34m\"\"\"Return an IResourceProvider for the named module or requirement\"\"\"\u001b[0m\u001b[0;34m\u001b[0m\u001b[0;34m\u001b[0m\u001b[0m\n\u001b[1;32m    341\u001b[0m     \u001b[0;32mif\u001b[0m \u001b[0misinstance\u001b[0m\u001b[0;34m(\u001b[0m\u001b[0mmoduleOrReq\u001b[0m\u001b[0;34m,\u001b[0m \u001b[0mRequirement\u001b[0m\u001b[0;34m)\u001b[0m\u001b[0;34m:\u001b[0m\u001b[0;34m\u001b[0m\u001b[0;34m\u001b[0m\u001b[0m\n\u001b[0;32m--> 342\u001b[0;31m         \u001b[0;32mreturn\u001b[0m \u001b[0mworking_set\u001b[0m\u001b[0;34m.\u001b[0m\u001b[0mfind\u001b[0m\u001b[0;34m(\u001b[0m\u001b[0mmoduleOrReq\u001b[0m\u001b[0;34m)\u001b[0m \u001b[0;32mor\u001b[0m \u001b[0mrequire\u001b[0m\u001b[0;34m(\u001b[0m\u001b[0mstr\u001b[0m\u001b[0;34m(\u001b[0m\u001b[0mmoduleOrReq\u001b[0m\u001b[0;34m)\u001b[0m\u001b[0;34m)\u001b[0m\u001b[0;34m[\u001b[0m\u001b[0;36m0\u001b[0m\u001b[0;34m]\u001b[0m\u001b[0;34m\u001b[0m\u001b[0;34m\u001b[0m\u001b[0m\n\u001b[0m\u001b[1;32m    343\u001b[0m     \u001b[0;32mtry\u001b[0m\u001b[0;34m:\u001b[0m\u001b[0;34m\u001b[0m\u001b[0;34m\u001b[0m\u001b[0m\n\u001b[1;32m    344\u001b[0m         \u001b[0mmodule\u001b[0m \u001b[0;34m=\u001b[0m \u001b[0msys\u001b[0m\u001b[0;34m.\u001b[0m\u001b[0mmodules\u001b[0m\u001b[0;34m[\u001b[0m\u001b[0mmoduleOrReq\u001b[0m\u001b[0;34m]\u001b[0m\u001b[0;34m\u001b[0m\u001b[0;34m\u001b[0m\u001b[0m\n",
      "\u001b[0;32m~/venv/lib/python3.7/site-packages/pkg_resources/__init__.py\u001b[0m in \u001b[0;36mrequire\u001b[0;34m(self, *requirements)\u001b[0m\n\u001b[1;32m    884\u001b[0m         \u001b[0mincluded\u001b[0m\u001b[0;34m,\u001b[0m \u001b[0meven\u001b[0m \u001b[0;32mif\u001b[0m \u001b[0mthey\u001b[0m \u001b[0mwere\u001b[0m \u001b[0malready\u001b[0m \u001b[0mactivated\u001b[0m \u001b[0;32min\u001b[0m \u001b[0mthis\u001b[0m \u001b[0mworking\u001b[0m \u001b[0mset\u001b[0m\u001b[0;34m.\u001b[0m\u001b[0;34m\u001b[0m\u001b[0;34m\u001b[0m\u001b[0m\n\u001b[1;32m    885\u001b[0m         \"\"\"\n\u001b[0;32m--> 886\u001b[0;31m         \u001b[0mneeded\u001b[0m \u001b[0;34m=\u001b[0m \u001b[0mself\u001b[0m\u001b[0;34m.\u001b[0m\u001b[0mresolve\u001b[0m\u001b[0;34m(\u001b[0m\u001b[0mparse_requirements\u001b[0m\u001b[0;34m(\u001b[0m\u001b[0mrequirements\u001b[0m\u001b[0;34m)\u001b[0m\u001b[0;34m)\u001b[0m\u001b[0;34m\u001b[0m\u001b[0;34m\u001b[0m\u001b[0m\n\u001b[0m\u001b[1;32m    887\u001b[0m \u001b[0;34m\u001b[0m\u001b[0m\n\u001b[1;32m    888\u001b[0m         \u001b[0;32mfor\u001b[0m \u001b[0mdist\u001b[0m \u001b[0;32min\u001b[0m \u001b[0mneeded\u001b[0m\u001b[0;34m:\u001b[0m\u001b[0;34m\u001b[0m\u001b[0;34m\u001b[0m\u001b[0m\n",
      "\u001b[0;32m~/venv/lib/python3.7/site-packages/pkg_resources/__init__.py\u001b[0m in \u001b[0;36mresolve\u001b[0;34m(self, requirements, env, installer, replace_conflicting, extras)\u001b[0m\n\u001b[1;32m    775\u001b[0m                 \u001b[0;31m# Oops, the \"best\" so far conflicts with a dependency\u001b[0m\u001b[0;34m\u001b[0m\u001b[0;34m\u001b[0m\u001b[0;34m\u001b[0m\u001b[0m\n\u001b[1;32m    776\u001b[0m                 \u001b[0mdependent_req\u001b[0m \u001b[0;34m=\u001b[0m \u001b[0mrequired_by\u001b[0m\u001b[0;34m[\u001b[0m\u001b[0mreq\u001b[0m\u001b[0;34m]\u001b[0m\u001b[0;34m\u001b[0m\u001b[0;34m\u001b[0m\u001b[0m\n\u001b[0;32m--> 777\u001b[0;31m                 \u001b[0;32mraise\u001b[0m \u001b[0mVersionConflict\u001b[0m\u001b[0;34m(\u001b[0m\u001b[0mdist\u001b[0m\u001b[0;34m,\u001b[0m \u001b[0mreq\u001b[0m\u001b[0;34m)\u001b[0m\u001b[0;34m.\u001b[0m\u001b[0mwith_context\u001b[0m\u001b[0;34m(\u001b[0m\u001b[0mdependent_req\u001b[0m\u001b[0;34m)\u001b[0m\u001b[0;34m\u001b[0m\u001b[0;34m\u001b[0m\u001b[0m\n\u001b[0m\u001b[1;32m    778\u001b[0m \u001b[0;34m\u001b[0m\u001b[0m\n\u001b[1;32m    779\u001b[0m             \u001b[0;31m# push the new requirements onto the stack\u001b[0m\u001b[0;34m\u001b[0m\u001b[0;34m\u001b[0m\u001b[0;34m\u001b[0m\u001b[0m\n",
      "\u001b[0;31mContextualVersionConflict\u001b[0m: (scikit-learn 1.0 (/shared-libs/python3.7/py/lib/python3.7/site-packages), Requirement.parse('scikit-learn<0.25,>=0.24.0'), {'scikit-survival'})"
     ]
    }
   ],
   "execution_count": null
  },
  {
   "cell_type": "code",
   "metadata": {
    "cell_id": "00042-8b55dfb5-6ab4-4dd0-bf95-ddf70458c38d",
    "deepnote_app_coordinates": {
     "h": 5,
     "w": 12,
     "x": 0,
     "y": 0
    },
    "deepnote_app_is_code_hidden": true,
    "deepnote_to_be_reexecuted": true,
    "execution_millis": 63,
    "execution_start": 1633022876905,
    "source_hash": "ecb1676b",
    "tags": [],
    "deepnote_cell_type": "code"
   },
   "source": "px.line(km_df, x='time', y='survival_probability', line_shape='hv',\n        labels=patients_labels)",
   "execution_count": null,
   "outputs": [
    {
     "data": {
      "text/html": "<html>\n<head><meta charset=\"utf-8\" /></head>\n<body>\n    <div>            <script src=\"https://cdnjs.cloudflare.com/ajax/libs/mathjax/2.7.5/MathJax.js?config=TeX-AMS-MML_SVG\"></script><script type=\"text/javascript\">if (window.MathJax) {MathJax.Hub.Config({SVG: {font: \"STIX-Web\"}});}</script>                <script type=\"text/javascript\">window.PlotlyConfig = {MathJaxConfig: 'local'};</script>\n        <script src=\"https://cdn.plot.ly/plotly-2.4.2.min.js\"></script>                <div id=\"1bd452b2-48df-4204-921e-c798296c3e41\" class=\"plotly-graph-div\" style=\"height:525px; width:100%;\"></div>            <script type=\"text/javascript\">                                    window.PLOTLYENV=window.PLOTLYENV || {};                                    if (document.getElementById(\"1bd452b2-48df-4204-921e-c798296c3e41\")) {                    Plotly.newPlot(                        \"1bd452b2-48df-4204-921e-c798296c3e41\",                        [{\"hovertemplate\":\"Time (days)=%{x}<br>Survival probability=%{y}<extra></extra>\",\"legendgroup\":\"\",\"line\":{\"color\":\"rgb(76,114,176)\",\"dash\":\"solid\",\"shape\":\"hv\"},\"marker\":{\"symbol\":\"circle\"},\"mode\":\"lines\",\"name\":\"\",\"orientation\":\"v\",\"showlegend\":false,\"type\":\"scatter\",\"x\":[22.0,26.0,63.0,65.0,74.0,77.0,90.0,97.0,100.0,114.0,115.0,154.0,192.0,208.0,213.0,231.0,242.0,245.0,248.0,252.0,266.0,284.0,319.0,337.0,340.0,341.0,343.0,351.0,354.0,367.0,370.0,378.0,395.0,416.0,419.0,420.0,424.0,437.0,438.0,441.0,455.0,457.0,469.0,476.0,479.0,483.0,487.0,498.0,504.0,505.0,526.0,559.0,587.0,594.0,605.0,617.0,634.0,639.0,645.0,650.0,655.0,683.0,700.0,707.0,714.0,744.0,747.0,768.0,782.0,824.0,858.0,894.0,909.0,925.0,929.0,944.0,953.0,961.0,971.0,972.0,973.0,980.0,997.0,1014.0,1021.0,1024.0,1029.0,1057.0,1072.0,1112.0,1116.0,1135.0,1142.0,1145.0,1160.0,1189.0,1198.0,1212.0,1238.0,1312.0,1338.0,1343.0,1355.0,1359.0,1368.0,1414.0,1420.0,1428.0,1447.0,1492.0,1549.0,1577.0,1617.0,1619.0,1690.0,1703.0,1745.0,1791.0,1814.0,1910.0,1926.0,1993.0,2066.0,2098.0,2101.0,2419.0,2444.0],\"xaxis\":\"x\",\"y\":[0.9922480620155039,0.9844961240310077,0.9767441860465116,0.9689922480620154,0.9689922480620154,0.9611777944486121,0.9533633408352087,0.9455488872218053,0.937734433608402,0.9299199799949988,0.9221055263815955,0.9142910727681921,0.9064766191547888,0.8986621655413856,0.8908477119279823,0.8908477119279823,0.8829641038578231,0.8829641038578231,0.8750094722915364,0.8670548407252497,0.8591002091589631,0.8511455775926764,0.8511455775926764,0.8431159023323681,0.8350862270720598,0.8270565518117515,0.8190268765514432,0.8190268765514432,0.8109176995558844,0.8028085225603256,0.7946993455647668,0.7865901685692079,0.7865901685692079,0.7865901685692079,0.7783102720579531,0.7783102720579531,0.7783102720579531,0.7698503777964536,0.7698503777964536,0.7612964847098264,0.7527425916231991,0.7440903779263808,0.7440903779263808,0.7440903779263808,0.7440903779263808,0.7351254336140147,0.7351254336140147,0.7169741883395946,0.7169741883395946,0.7169741883395946,0.7169741883395946,0.7075403174403894,0.7075403174403894,0.6979789617993031,0.6979789617993031,0.6882848095520906,0.6882848095520906,0.6784521694156322,0.6686195292791738,0.6686195292791738,0.6686195292791738,0.6686195292791738,0.6686195292791738,0.6686195292791738,0.6580065208779171,0.6473935124766604,0.6367805040754037,0.6367805040754037,0.6259876141758206,0.6259876141758206,0.6259876141758206,0.6148092639226809,0.6148092639226809,0.6148092639226809,0.6148092639226809,0.6148092639226809,0.6027541803163537,0.5906990967100266,0.5906990967100266,0.5906990967100266,0.5906990967100266,0.5906990967100266,0.5775724501164705,0.5775724501164705,0.5775724501164705,0.5775724501164705,0.5634853171868005,0.5493981842571305,0.5353110513274605,0.5353110513274605,0.5353110513274605,0.5353110513274605,0.5200164498609616,0.5200164498609616,0.5200164498609616,0.5200164498609616,0.5200164498609616,0.5200164498609616,0.5200164498609616,0.5200164498609616,0.5007565813475927,0.5007565813475927,0.480726318093689,0.4606960548397853,0.4606960548397853,0.4606960548397853,0.4606960548397853,0.43766125209779605,0.43766125209779605,0.41334673809236294,0.41334673809236294,0.41334673809236294,0.41334673809236294,0.41334673809236294,0.41334673809236294,0.41334673809236294,0.41334673809236294,0.41334673809236294,0.41334673809236294,0.41334673809236294,0.41334673809236294,0.41334673809236294,0.41334673809236294,0.41334673809236294,0.27556449206157535,0.27556449206157535,0.27556449206157535],\"yaxis\":\"y\"}],                        {\"legend\":{\"tracegroupgap\":0},\"margin\":{\"t\":60},\"template\":{\"data\":{\"bar\":[{\"error_x\":{\"color\":\"rgb(36,36,36)\"},\"error_y\":{\"color\":\"rgb(36,36,36)\"},\"marker\":{\"line\":{\"color\":\"rgb(234,234,242)\",\"width\":0.5},\"pattern\":{\"fillmode\":\"overlay\",\"size\":10,\"solidity\":0.2}},\"type\":\"bar\"}],\"barpolar\":[{\"marker\":{\"line\":{\"color\":\"rgb(234,234,242)\",\"width\":0.5},\"pattern\":{\"fillmode\":\"overlay\",\"size\":10,\"solidity\":0.2}},\"type\":\"barpolar\"}],\"carpet\":[{\"aaxis\":{\"endlinecolor\":\"rgb(36,36,36)\",\"gridcolor\":\"white\",\"linecolor\":\"white\",\"minorgridcolor\":\"white\",\"startlinecolor\":\"rgb(36,36,36)\"},\"baxis\":{\"endlinecolor\":\"rgb(36,36,36)\",\"gridcolor\":\"white\",\"linecolor\":\"white\",\"minorgridcolor\":\"white\",\"startlinecolor\":\"rgb(36,36,36)\"},\"type\":\"carpet\"}],\"choropleth\":[{\"colorbar\":{\"outlinewidth\":0,\"tickcolor\":\"rgb(36,36,36)\",\"ticklen\":8,\"ticks\":\"outside\",\"tickwidth\":2},\"type\":\"choropleth\"}],\"contour\":[{\"colorbar\":{\"outlinewidth\":0,\"tickcolor\":\"rgb(36,36,36)\",\"ticklen\":8,\"ticks\":\"outside\",\"tickwidth\":2},\"colorscale\":[[0.0,\"rgb(2,4,25)\"],[0.06274509803921569,\"rgb(24,15,41)\"],[0.12549019607843137,\"rgb(47,23,57)\"],[0.18823529411764706,\"rgb(71,28,72)\"],[0.25098039215686274,\"rgb(97,30,82)\"],[0.3137254901960784,\"rgb(123,30,89)\"],[0.3764705882352941,\"rgb(150,27,91)\"],[0.4392156862745098,\"rgb(177,22,88)\"],[0.5019607843137255,\"rgb(203,26,79)\"],[0.5647058823529412,\"rgb(223,47,67)\"],[0.6274509803921569,\"rgb(236,76,61)\"],[0.6901960784313725,\"rgb(242,107,73)\"],[0.7529411764705882,\"rgb(244,135,95)\"],[0.8156862745098039,\"rgb(245,162,122)\"],[0.8784313725490196,\"rgb(246,188,153)\"],[0.9411764705882353,\"rgb(247,212,187)\"],[1.0,\"rgb(250,234,220)\"]],\"type\":\"contour\"}],\"contourcarpet\":[{\"colorbar\":{\"outlinewidth\":0,\"tickcolor\":\"rgb(36,36,36)\",\"ticklen\":8,\"ticks\":\"outside\",\"tickwidth\":2},\"type\":\"contourcarpet\"}],\"heatmap\":[{\"colorbar\":{\"outlinewidth\":0,\"tickcolor\":\"rgb(36,36,36)\",\"ticklen\":8,\"ticks\":\"outside\",\"tickwidth\":2},\"colorscale\":[[0.0,\"rgb(2,4,25)\"],[0.06274509803921569,\"rgb(24,15,41)\"],[0.12549019607843137,\"rgb(47,23,57)\"],[0.18823529411764706,\"rgb(71,28,72)\"],[0.25098039215686274,\"rgb(97,30,82)\"],[0.3137254901960784,\"rgb(123,30,89)\"],[0.3764705882352941,\"rgb(150,27,91)\"],[0.4392156862745098,\"rgb(177,22,88)\"],[0.5019607843137255,\"rgb(203,26,79)\"],[0.5647058823529412,\"rgb(223,47,67)\"],[0.6274509803921569,\"rgb(236,76,61)\"],[0.6901960784313725,\"rgb(242,107,73)\"],[0.7529411764705882,\"rgb(244,135,95)\"],[0.8156862745098039,\"rgb(245,162,122)\"],[0.8784313725490196,\"rgb(246,188,153)\"],[0.9411764705882353,\"rgb(247,212,187)\"],[1.0,\"rgb(250,234,220)\"]],\"type\":\"heatmap\"}],\"heatmapgl\":[{\"colorbar\":{\"outlinewidth\":0,\"tickcolor\":\"rgb(36,36,36)\",\"ticklen\":8,\"ticks\":\"outside\",\"tickwidth\":2},\"colorscale\":[[0.0,\"rgb(2,4,25)\"],[0.06274509803921569,\"rgb(24,15,41)\"],[0.12549019607843137,\"rgb(47,23,57)\"],[0.18823529411764706,\"rgb(71,28,72)\"],[0.25098039215686274,\"rgb(97,30,82)\"],[0.3137254901960784,\"rgb(123,30,89)\"],[0.3764705882352941,\"rgb(150,27,91)\"],[0.4392156862745098,\"rgb(177,22,88)\"],[0.5019607843137255,\"rgb(203,26,79)\"],[0.5647058823529412,\"rgb(223,47,67)\"],[0.6274509803921569,\"rgb(236,76,61)\"],[0.6901960784313725,\"rgb(242,107,73)\"],[0.7529411764705882,\"rgb(244,135,95)\"],[0.8156862745098039,\"rgb(245,162,122)\"],[0.8784313725490196,\"rgb(246,188,153)\"],[0.9411764705882353,\"rgb(247,212,187)\"],[1.0,\"rgb(250,234,220)\"]],\"type\":\"heatmapgl\"}],\"histogram\":[{\"marker\":{\"pattern\":{\"fillmode\":\"overlay\",\"size\":10,\"solidity\":0.2}},\"type\":\"histogram\"}],\"histogram2d\":[{\"colorbar\":{\"outlinewidth\":0,\"tickcolor\":\"rgb(36,36,36)\",\"ticklen\":8,\"ticks\":\"outside\",\"tickwidth\":2},\"colorscale\":[[0.0,\"rgb(2,4,25)\"],[0.06274509803921569,\"rgb(24,15,41)\"],[0.12549019607843137,\"rgb(47,23,57)\"],[0.18823529411764706,\"rgb(71,28,72)\"],[0.25098039215686274,\"rgb(97,30,82)\"],[0.3137254901960784,\"rgb(123,30,89)\"],[0.3764705882352941,\"rgb(150,27,91)\"],[0.4392156862745098,\"rgb(177,22,88)\"],[0.5019607843137255,\"rgb(203,26,79)\"],[0.5647058823529412,\"rgb(223,47,67)\"],[0.6274509803921569,\"rgb(236,76,61)\"],[0.6901960784313725,\"rgb(242,107,73)\"],[0.7529411764705882,\"rgb(244,135,95)\"],[0.8156862745098039,\"rgb(245,162,122)\"],[0.8784313725490196,\"rgb(246,188,153)\"],[0.9411764705882353,\"rgb(247,212,187)\"],[1.0,\"rgb(250,234,220)\"]],\"type\":\"histogram2d\"}],\"histogram2dcontour\":[{\"colorbar\":{\"outlinewidth\":0,\"tickcolor\":\"rgb(36,36,36)\",\"ticklen\":8,\"ticks\":\"outside\",\"tickwidth\":2},\"colorscale\":[[0.0,\"rgb(2,4,25)\"],[0.06274509803921569,\"rgb(24,15,41)\"],[0.12549019607843137,\"rgb(47,23,57)\"],[0.18823529411764706,\"rgb(71,28,72)\"],[0.25098039215686274,\"rgb(97,30,82)\"],[0.3137254901960784,\"rgb(123,30,89)\"],[0.3764705882352941,\"rgb(150,27,91)\"],[0.4392156862745098,\"rgb(177,22,88)\"],[0.5019607843137255,\"rgb(203,26,79)\"],[0.5647058823529412,\"rgb(223,47,67)\"],[0.6274509803921569,\"rgb(236,76,61)\"],[0.6901960784313725,\"rgb(242,107,73)\"],[0.7529411764705882,\"rgb(244,135,95)\"],[0.8156862745098039,\"rgb(245,162,122)\"],[0.8784313725490196,\"rgb(246,188,153)\"],[0.9411764705882353,\"rgb(247,212,187)\"],[1.0,\"rgb(250,234,220)\"]],\"type\":\"histogram2dcontour\"}],\"mesh3d\":[{\"colorbar\":{\"outlinewidth\":0,\"tickcolor\":\"rgb(36,36,36)\",\"ticklen\":8,\"ticks\":\"outside\",\"tickwidth\":2},\"type\":\"mesh3d\"}],\"parcoords\":[{\"line\":{\"colorbar\":{\"outlinewidth\":0,\"tickcolor\":\"rgb(36,36,36)\",\"ticklen\":8,\"ticks\":\"outside\",\"tickwidth\":2}},\"type\":\"parcoords\"}],\"pie\":[{\"automargin\":true,\"type\":\"pie\"}],\"scatter\":[{\"marker\":{\"colorbar\":{\"outlinewidth\":0,\"tickcolor\":\"rgb(36,36,36)\",\"ticklen\":8,\"ticks\":\"outside\",\"tickwidth\":2}},\"type\":\"scatter\"}],\"scatter3d\":[{\"line\":{\"colorbar\":{\"outlinewidth\":0,\"tickcolor\":\"rgb(36,36,36)\",\"ticklen\":8,\"ticks\":\"outside\",\"tickwidth\":2}},\"marker\":{\"colorbar\":{\"outlinewidth\":0,\"tickcolor\":\"rgb(36,36,36)\",\"ticklen\":8,\"ticks\":\"outside\",\"tickwidth\":2}},\"type\":\"scatter3d\"}],\"scattercarpet\":[{\"marker\":{\"colorbar\":{\"outlinewidth\":0,\"tickcolor\":\"rgb(36,36,36)\",\"ticklen\":8,\"ticks\":\"outside\",\"tickwidth\":2}},\"type\":\"scattercarpet\"}],\"scattergeo\":[{\"marker\":{\"colorbar\":{\"outlinewidth\":0,\"tickcolor\":\"rgb(36,36,36)\",\"ticklen\":8,\"ticks\":\"outside\",\"tickwidth\":2}},\"type\":\"scattergeo\"}],\"scattergl\":[{\"marker\":{\"colorbar\":{\"outlinewidth\":0,\"tickcolor\":\"rgb(36,36,36)\",\"ticklen\":8,\"ticks\":\"outside\",\"tickwidth\":2}},\"type\":\"scattergl\"}],\"scattermapbox\":[{\"marker\":{\"colorbar\":{\"outlinewidth\":0,\"tickcolor\":\"rgb(36,36,36)\",\"ticklen\":8,\"ticks\":\"outside\",\"tickwidth\":2}},\"type\":\"scattermapbox\"}],\"scatterpolar\":[{\"marker\":{\"colorbar\":{\"outlinewidth\":0,\"tickcolor\":\"rgb(36,36,36)\",\"ticklen\":8,\"ticks\":\"outside\",\"tickwidth\":2}},\"type\":\"scatterpolar\"}],\"scatterpolargl\":[{\"marker\":{\"colorbar\":{\"outlinewidth\":0,\"tickcolor\":\"rgb(36,36,36)\",\"ticklen\":8,\"ticks\":\"outside\",\"tickwidth\":2}},\"type\":\"scatterpolargl\"}],\"scatterternary\":[{\"marker\":{\"colorbar\":{\"outlinewidth\":0,\"tickcolor\":\"rgb(36,36,36)\",\"ticklen\":8,\"ticks\":\"outside\",\"tickwidth\":2}},\"type\":\"scatterternary\"}],\"surface\":[{\"colorbar\":{\"outlinewidth\":0,\"tickcolor\":\"rgb(36,36,36)\",\"ticklen\":8,\"ticks\":\"outside\",\"tickwidth\":2},\"colorscale\":[[0.0,\"rgb(2,4,25)\"],[0.06274509803921569,\"rgb(24,15,41)\"],[0.12549019607843137,\"rgb(47,23,57)\"],[0.18823529411764706,\"rgb(71,28,72)\"],[0.25098039215686274,\"rgb(97,30,82)\"],[0.3137254901960784,\"rgb(123,30,89)\"],[0.3764705882352941,\"rgb(150,27,91)\"],[0.4392156862745098,\"rgb(177,22,88)\"],[0.5019607843137255,\"rgb(203,26,79)\"],[0.5647058823529412,\"rgb(223,47,67)\"],[0.6274509803921569,\"rgb(236,76,61)\"],[0.6901960784313725,\"rgb(242,107,73)\"],[0.7529411764705882,\"rgb(244,135,95)\"],[0.8156862745098039,\"rgb(245,162,122)\"],[0.8784313725490196,\"rgb(246,188,153)\"],[0.9411764705882353,\"rgb(247,212,187)\"],[1.0,\"rgb(250,234,220)\"]],\"type\":\"surface\"}],\"table\":[{\"cells\":{\"fill\":{\"color\":\"rgb(231,231,240)\"},\"line\":{\"color\":\"white\"}},\"header\":{\"fill\":{\"color\":\"rgb(183,183,191)\"},\"line\":{\"color\":\"white\"}},\"type\":\"table\"}]},\"layout\":{\"annotationdefaults\":{\"arrowcolor\":\"rgb(67,103,167)\"},\"autotypenumbers\":\"strict\",\"coloraxis\":{\"colorbar\":{\"outlinewidth\":0,\"tickcolor\":\"rgb(36,36,36)\",\"ticklen\":8,\"ticks\":\"outside\",\"tickwidth\":2}},\"colorscale\":{\"sequential\":[[0.0,\"rgb(2,4,25)\"],[0.06274509803921569,\"rgb(24,15,41)\"],[0.12549019607843137,\"rgb(47,23,57)\"],[0.18823529411764706,\"rgb(71,28,72)\"],[0.25098039215686274,\"rgb(97,30,82)\"],[0.3137254901960784,\"rgb(123,30,89)\"],[0.3764705882352941,\"rgb(150,27,91)\"],[0.4392156862745098,\"rgb(177,22,88)\"],[0.5019607843137255,\"rgb(203,26,79)\"],[0.5647058823529412,\"rgb(223,47,67)\"],[0.6274509803921569,\"rgb(236,76,61)\"],[0.6901960784313725,\"rgb(242,107,73)\"],[0.7529411764705882,\"rgb(244,135,95)\"],[0.8156862745098039,\"rgb(245,162,122)\"],[0.8784313725490196,\"rgb(246,188,153)\"],[0.9411764705882353,\"rgb(247,212,187)\"],[1.0,\"rgb(250,234,220)\"]],\"sequentialminus\":[[0.0,\"rgb(2,4,25)\"],[0.06274509803921569,\"rgb(24,15,41)\"],[0.12549019607843137,\"rgb(47,23,57)\"],[0.18823529411764706,\"rgb(71,28,72)\"],[0.25098039215686274,\"rgb(97,30,82)\"],[0.3137254901960784,\"rgb(123,30,89)\"],[0.3764705882352941,\"rgb(150,27,91)\"],[0.4392156862745098,\"rgb(177,22,88)\"],[0.5019607843137255,\"rgb(203,26,79)\"],[0.5647058823529412,\"rgb(223,47,67)\"],[0.6274509803921569,\"rgb(236,76,61)\"],[0.6901960784313725,\"rgb(242,107,73)\"],[0.7529411764705882,\"rgb(244,135,95)\"],[0.8156862745098039,\"rgb(245,162,122)\"],[0.8784313725490196,\"rgb(246,188,153)\"],[0.9411764705882353,\"rgb(247,212,187)\"],[1.0,\"rgb(250,234,220)\"]]},\"colorway\":[\"rgb(76,114,176)\",\"rgb(221,132,82)\",\"rgb(85,168,104)\",\"rgb(196,78,82)\",\"rgb(129,114,179)\",\"rgb(147,120,96)\",\"rgb(218,139,195)\",\"rgb(140,140,140)\",\"rgb(204,185,116)\",\"rgb(100,181,205)\"],\"font\":{\"color\":\"rgb(36,36,36)\"},\"geo\":{\"bgcolor\":\"white\",\"lakecolor\":\"white\",\"landcolor\":\"rgb(234,234,242)\",\"showlakes\":true,\"showland\":true,\"subunitcolor\":\"white\"},\"hoverlabel\":{\"align\":\"left\"},\"hovermode\":\"closest\",\"paper_bgcolor\":\"white\",\"plot_bgcolor\":\"rgb(234,234,242)\",\"polar\":{\"angularaxis\":{\"gridcolor\":\"white\",\"linecolor\":\"white\",\"showgrid\":true,\"ticks\":\"\"},\"bgcolor\":\"rgb(234,234,242)\",\"radialaxis\":{\"gridcolor\":\"white\",\"linecolor\":\"white\",\"showgrid\":true,\"ticks\":\"\"}},\"scene\":{\"xaxis\":{\"backgroundcolor\":\"rgb(234,234,242)\",\"gridcolor\":\"white\",\"gridwidth\":2,\"linecolor\":\"white\",\"showbackground\":true,\"showgrid\":true,\"ticks\":\"\",\"zerolinecolor\":\"white\"},\"yaxis\":{\"backgroundcolor\":\"rgb(234,234,242)\",\"gridcolor\":\"white\",\"gridwidth\":2,\"linecolor\":\"white\",\"showbackground\":true,\"showgrid\":true,\"ticks\":\"\",\"zerolinecolor\":\"white\"},\"zaxis\":{\"backgroundcolor\":\"rgb(234,234,242)\",\"gridcolor\":\"white\",\"gridwidth\":2,\"linecolor\":\"white\",\"showbackground\":true,\"showgrid\":true,\"ticks\":\"\",\"zerolinecolor\":\"white\"}},\"shapedefaults\":{\"fillcolor\":\"rgb(67,103,167)\",\"line\":{\"width\":0},\"opacity\":0.5},\"ternary\":{\"aaxis\":{\"gridcolor\":\"white\",\"linecolor\":\"white\",\"showgrid\":true,\"ticks\":\"\"},\"baxis\":{\"gridcolor\":\"white\",\"linecolor\":\"white\",\"showgrid\":true,\"ticks\":\"\"},\"bgcolor\":\"rgb(234,234,242)\",\"caxis\":{\"gridcolor\":\"white\",\"linecolor\":\"white\",\"showgrid\":true,\"ticks\":\"\"}},\"xaxis\":{\"automargin\":true,\"gridcolor\":\"white\",\"linecolor\":\"white\",\"showgrid\":true,\"ticks\":\"\",\"title\":{\"standoff\":15},\"zerolinecolor\":\"white\"},\"yaxis\":{\"automargin\":true,\"gridcolor\":\"white\",\"linecolor\":\"white\",\"showgrid\":true,\"ticks\":\"\",\"title\":{\"standoff\":15},\"zerolinecolor\":\"white\"}}},\"xaxis\":{\"anchor\":\"y\",\"domain\":[0.0,1.0],\"title\":{\"text\":\"Time (days)\"}},\"yaxis\":{\"anchor\":\"x\",\"domain\":[0.0,1.0],\"title\":{\"text\":\"Survival probability\"}}},                        {\"responsive\": true}                    ).then(function(){\n                            \nvar gd = document.getElementById('1bd452b2-48df-4204-921e-c798296c3e41');\nvar x = new MutationObserver(function (mutations, observer) {{\n        var display = window.getComputedStyle(gd).display;\n        if (!display || display === 'none') {{\n            console.log([gd, 'removed!']);\n            Plotly.purge(gd);\n            observer.disconnect();\n        }}\n}});\n\n// Listen for the removal of the full notebook cells\nvar notebookContainer = gd.closest('#notebook-container');\nif (notebookContainer) {{\n    x.observe(notebookContainer, {childList: true});\n}}\n\n// Listen for the clearing of the current output cell\nvar outputEl = gd.closest('.output');\nif (outputEl) {{\n    x.observe(outputEl, {childList: true});\n}}\n\n                        })                };                            </script>        </div>\n</body>\n</html>"
     },
     "metadata": {},
     "output_type": "display_data"
    }
   ]
  },
  {
   "cell_type": "code",
   "source": "px.scatter(patients, x='bmi', y='age_at_treatment_start_in_years', color='sex',\n           labels=patients_labels) \\\n    .update_layout(legend=top_h_legend)",
   "metadata": {
    "tags": [],
    "deepnote_app_coordinates": {
     "x": 0,
     "y": 0,
     "w": 12,
     "h": 5
    },
    "cell_id": "00047-234c01b9-8457-435a-9e12-073f752509a6",
    "deepnote_to_be_reexecuted": false,
    "source_hash": "4b4bd104",
    "execution_start": 1633941834928,
    "execution_millis": 74,
    "deepnote_cell_type": "code"
   },
   "outputs": [
    {
     "data": {
      "text/html": "<html>\n<head><meta charset=\"utf-8\" /></head>\n<body>\n    <div>            <script src=\"https://cdnjs.cloudflare.com/ajax/libs/mathjax/2.7.5/MathJax.js?config=TeX-AMS-MML_SVG\"></script><script type=\"text/javascript\">if (window.MathJax) {MathJax.Hub.Config({SVG: {font: \"STIX-Web\"}});}</script>                <script type=\"text/javascript\">window.PlotlyConfig = {MathJaxConfig: 'local'};</script>\n        <script src=\"https://cdn.plot.ly/plotly-2.4.2.min.js\"></script>                <div id=\"92137dc0-bbd1-417d-93c9-9c9845d809c2\" class=\"plotly-graph-div\" style=\"height:525px; width:100%;\"></div>            <script type=\"text/javascript\">                                    window.PLOTLYENV=window.PLOTLYENV || {};                                    if (document.getElementById(\"92137dc0-bbd1-417d-93c9-9c9845d809c2\")) {                    Plotly.newPlot(                        \"92137dc0-bbd1-417d-93c9-9c9845d809c2\",                        [{\"hovertemplate\":\"sex=female<br>Body-Mass Index=%{x}<br>Age (treatment start, years)=%{y}<extra></extra>\",\"legendgroup\":\"female\",\"marker\":{\"color\":\"rgb(76,114,176)\",\"symbol\":\"circle\"},\"mode\":\"markers\",\"name\":\"female\",\"orientation\":\"v\",\"showlegend\":true,\"type\":\"scatter\",\"x\":[21.88,30.27,30.82,23.71,39.52,20.7,30.47,30.7,37.72,21.08,32.33,21.16,32.37,20.0,19.61,20.52,22.76,23.74,29.21,22.96,25.4,20.07,25.24,24.45,29.81,26.08,22.66,16.56,27.92,25.47,25.86,24.43,41.28,20.31,23.01,null,19.38,null,32.39,28.4,19.61,31.16,25.59,20.94,43.28,20.87,22.15,26.53,18.96,26.18,27.53],\"xaxis\":\"x\",\"y\":[64,55,76,80,65,81,82,57,73,33,68,76,64,73,30,65,73,52,66,66,52,34,49,39,66,77,61,27,77,58,71,72,68,83,54,80,84,61,77,68,68,73,74,59,56,75,80,77,58,51,78],\"yaxis\":\"y\"},{\"hovertemplate\":\"sex=male<br>Body-Mass Index=%{x}<br>Age (treatment start, years)=%{y}<extra></extra>\",\"legendgroup\":\"male\",\"marker\":{\"color\":\"rgb(221,132,82)\",\"symbol\":\"circle\"},\"mode\":\"markers\",\"name\":\"male\",\"orientation\":\"v\",\"showlegend\":true,\"type\":\"scatter\",\"x\":[26.7,25.61,25.46,30.74,34.42,26.4,23.6,19.77,31.44,28.38,24.44,36.01,21.39,32.39,27.96,24.16,19.49,30.79,22.64,22.22,24.86,28.03,23.91,26.12,25.47,26.31,29.07,25.52,25.28,23.88,24.39,31.05,21.88,27.12,37.96,32.32,28.7,25.25,25.86,31.38,31.3,28.07,30.42,25.7,32.47,20.29,21.13,27.68,23.39,21.48,34.72,null,27.17,23.57,28.27,24.62,23.74,25.0,21.63,33.06,31.56,26.03,22.39,22.22,21.67,25.88,26.78,29.98,23.89,27.7,29.26,29.75,36.11,33.49,35.49,23.18,24.86,25.76],\"xaxis\":\"x\",\"y\":[80,68,52,36,82,49,67,54,45,61,66,76,76,76,60,79,82,70,47,63,69,42,90,76,74,49,76,76,54,75,88,80,60,65,55,42,73,57,59,59,45,80,64,70,55,43,77,77,70,58,41,73,87,62,90,43,41,56,74,84,65,68,77,77,75,72,79,63,54,77,62,81,70,71,68,88,77,71],\"yaxis\":\"y\"}],                        {\"legend\":{\"orientation\":\"h\",\"title\":{\"text\":\"sex\"},\"tracegroupgap\":0,\"y\":1.02,\"yanchor\":\"bottom\"},\"margin\":{\"t\":60},\"template\":{\"data\":{\"bar\":[{\"error_x\":{\"color\":\"rgb(36,36,36)\"},\"error_y\":{\"color\":\"rgb(36,36,36)\"},\"marker\":{\"line\":{\"color\":\"rgb(234,234,242)\",\"width\":0.5},\"pattern\":{\"fillmode\":\"overlay\",\"size\":10,\"solidity\":0.2}},\"type\":\"bar\"}],\"barpolar\":[{\"marker\":{\"line\":{\"color\":\"rgb(234,234,242)\",\"width\":0.5},\"pattern\":{\"fillmode\":\"overlay\",\"size\":10,\"solidity\":0.2}},\"type\":\"barpolar\"}],\"carpet\":[{\"aaxis\":{\"endlinecolor\":\"rgb(36,36,36)\",\"gridcolor\":\"white\",\"linecolor\":\"white\",\"minorgridcolor\":\"white\",\"startlinecolor\":\"rgb(36,36,36)\"},\"baxis\":{\"endlinecolor\":\"rgb(36,36,36)\",\"gridcolor\":\"white\",\"linecolor\":\"white\",\"minorgridcolor\":\"white\",\"startlinecolor\":\"rgb(36,36,36)\"},\"type\":\"carpet\"}],\"choropleth\":[{\"colorbar\":{\"outlinewidth\":0,\"tickcolor\":\"rgb(36,36,36)\",\"ticklen\":8,\"ticks\":\"outside\",\"tickwidth\":2},\"type\":\"choropleth\"}],\"contour\":[{\"colorbar\":{\"outlinewidth\":0,\"tickcolor\":\"rgb(36,36,36)\",\"ticklen\":8,\"ticks\":\"outside\",\"tickwidth\":2},\"colorscale\":[[0.0,\"rgb(2,4,25)\"],[0.06274509803921569,\"rgb(24,15,41)\"],[0.12549019607843137,\"rgb(47,23,57)\"],[0.18823529411764706,\"rgb(71,28,72)\"],[0.25098039215686274,\"rgb(97,30,82)\"],[0.3137254901960784,\"rgb(123,30,89)\"],[0.3764705882352941,\"rgb(150,27,91)\"],[0.4392156862745098,\"rgb(177,22,88)\"],[0.5019607843137255,\"rgb(203,26,79)\"],[0.5647058823529412,\"rgb(223,47,67)\"],[0.6274509803921569,\"rgb(236,76,61)\"],[0.6901960784313725,\"rgb(242,107,73)\"],[0.7529411764705882,\"rgb(244,135,95)\"],[0.8156862745098039,\"rgb(245,162,122)\"],[0.8784313725490196,\"rgb(246,188,153)\"],[0.9411764705882353,\"rgb(247,212,187)\"],[1.0,\"rgb(250,234,220)\"]],\"type\":\"contour\"}],\"contourcarpet\":[{\"colorbar\":{\"outlinewidth\":0,\"tickcolor\":\"rgb(36,36,36)\",\"ticklen\":8,\"ticks\":\"outside\",\"tickwidth\":2},\"type\":\"contourcarpet\"}],\"heatmap\":[{\"colorbar\":{\"outlinewidth\":0,\"tickcolor\":\"rgb(36,36,36)\",\"ticklen\":8,\"ticks\":\"outside\",\"tickwidth\":2},\"colorscale\":[[0.0,\"rgb(2,4,25)\"],[0.06274509803921569,\"rgb(24,15,41)\"],[0.12549019607843137,\"rgb(47,23,57)\"],[0.18823529411764706,\"rgb(71,28,72)\"],[0.25098039215686274,\"rgb(97,30,82)\"],[0.3137254901960784,\"rgb(123,30,89)\"],[0.3764705882352941,\"rgb(150,27,91)\"],[0.4392156862745098,\"rgb(177,22,88)\"],[0.5019607843137255,\"rgb(203,26,79)\"],[0.5647058823529412,\"rgb(223,47,67)\"],[0.6274509803921569,\"rgb(236,76,61)\"],[0.6901960784313725,\"rgb(242,107,73)\"],[0.7529411764705882,\"rgb(244,135,95)\"],[0.8156862745098039,\"rgb(245,162,122)\"],[0.8784313725490196,\"rgb(246,188,153)\"],[0.9411764705882353,\"rgb(247,212,187)\"],[1.0,\"rgb(250,234,220)\"]],\"type\":\"heatmap\"}],\"heatmapgl\":[{\"colorbar\":{\"outlinewidth\":0,\"tickcolor\":\"rgb(36,36,36)\",\"ticklen\":8,\"ticks\":\"outside\",\"tickwidth\":2},\"colorscale\":[[0.0,\"rgb(2,4,25)\"],[0.06274509803921569,\"rgb(24,15,41)\"],[0.12549019607843137,\"rgb(47,23,57)\"],[0.18823529411764706,\"rgb(71,28,72)\"],[0.25098039215686274,\"rgb(97,30,82)\"],[0.3137254901960784,\"rgb(123,30,89)\"],[0.3764705882352941,\"rgb(150,27,91)\"],[0.4392156862745098,\"rgb(177,22,88)\"],[0.5019607843137255,\"rgb(203,26,79)\"],[0.5647058823529412,\"rgb(223,47,67)\"],[0.6274509803921569,\"rgb(236,76,61)\"],[0.6901960784313725,\"rgb(242,107,73)\"],[0.7529411764705882,\"rgb(244,135,95)\"],[0.8156862745098039,\"rgb(245,162,122)\"],[0.8784313725490196,\"rgb(246,188,153)\"],[0.9411764705882353,\"rgb(247,212,187)\"],[1.0,\"rgb(250,234,220)\"]],\"type\":\"heatmapgl\"}],\"histogram\":[{\"marker\":{\"pattern\":{\"fillmode\":\"overlay\",\"size\":10,\"solidity\":0.2}},\"type\":\"histogram\"}],\"histogram2d\":[{\"colorbar\":{\"outlinewidth\":0,\"tickcolor\":\"rgb(36,36,36)\",\"ticklen\":8,\"ticks\":\"outside\",\"tickwidth\":2},\"colorscale\":[[0.0,\"rgb(2,4,25)\"],[0.06274509803921569,\"rgb(24,15,41)\"],[0.12549019607843137,\"rgb(47,23,57)\"],[0.18823529411764706,\"rgb(71,28,72)\"],[0.25098039215686274,\"rgb(97,30,82)\"],[0.3137254901960784,\"rgb(123,30,89)\"],[0.3764705882352941,\"rgb(150,27,91)\"],[0.4392156862745098,\"rgb(177,22,88)\"],[0.5019607843137255,\"rgb(203,26,79)\"],[0.5647058823529412,\"rgb(223,47,67)\"],[0.6274509803921569,\"rgb(236,76,61)\"],[0.6901960784313725,\"rgb(242,107,73)\"],[0.7529411764705882,\"rgb(244,135,95)\"],[0.8156862745098039,\"rgb(245,162,122)\"],[0.8784313725490196,\"rgb(246,188,153)\"],[0.9411764705882353,\"rgb(247,212,187)\"],[1.0,\"rgb(250,234,220)\"]],\"type\":\"histogram2d\"}],\"histogram2dcontour\":[{\"colorbar\":{\"outlinewidth\":0,\"tickcolor\":\"rgb(36,36,36)\",\"ticklen\":8,\"ticks\":\"outside\",\"tickwidth\":2},\"colorscale\":[[0.0,\"rgb(2,4,25)\"],[0.06274509803921569,\"rgb(24,15,41)\"],[0.12549019607843137,\"rgb(47,23,57)\"],[0.18823529411764706,\"rgb(71,28,72)\"],[0.25098039215686274,\"rgb(97,30,82)\"],[0.3137254901960784,\"rgb(123,30,89)\"],[0.3764705882352941,\"rgb(150,27,91)\"],[0.4392156862745098,\"rgb(177,22,88)\"],[0.5019607843137255,\"rgb(203,26,79)\"],[0.5647058823529412,\"rgb(223,47,67)\"],[0.6274509803921569,\"rgb(236,76,61)\"],[0.6901960784313725,\"rgb(242,107,73)\"],[0.7529411764705882,\"rgb(244,135,95)\"],[0.8156862745098039,\"rgb(245,162,122)\"],[0.8784313725490196,\"rgb(246,188,153)\"],[0.9411764705882353,\"rgb(247,212,187)\"],[1.0,\"rgb(250,234,220)\"]],\"type\":\"histogram2dcontour\"}],\"mesh3d\":[{\"colorbar\":{\"outlinewidth\":0,\"tickcolor\":\"rgb(36,36,36)\",\"ticklen\":8,\"ticks\":\"outside\",\"tickwidth\":2},\"type\":\"mesh3d\"}],\"parcoords\":[{\"line\":{\"colorbar\":{\"outlinewidth\":0,\"tickcolor\":\"rgb(36,36,36)\",\"ticklen\":8,\"ticks\":\"outside\",\"tickwidth\":2}},\"type\":\"parcoords\"}],\"pie\":[{\"automargin\":true,\"type\":\"pie\"}],\"scatter\":[{\"marker\":{\"colorbar\":{\"outlinewidth\":0,\"tickcolor\":\"rgb(36,36,36)\",\"ticklen\":8,\"ticks\":\"outside\",\"tickwidth\":2}},\"type\":\"scatter\"}],\"scatter3d\":[{\"line\":{\"colorbar\":{\"outlinewidth\":0,\"tickcolor\":\"rgb(36,36,36)\",\"ticklen\":8,\"ticks\":\"outside\",\"tickwidth\":2}},\"marker\":{\"colorbar\":{\"outlinewidth\":0,\"tickcolor\":\"rgb(36,36,36)\",\"ticklen\":8,\"ticks\":\"outside\",\"tickwidth\":2}},\"type\":\"scatter3d\"}],\"scattercarpet\":[{\"marker\":{\"colorbar\":{\"outlinewidth\":0,\"tickcolor\":\"rgb(36,36,36)\",\"ticklen\":8,\"ticks\":\"outside\",\"tickwidth\":2}},\"type\":\"scattercarpet\"}],\"scattergeo\":[{\"marker\":{\"colorbar\":{\"outlinewidth\":0,\"tickcolor\":\"rgb(36,36,36)\",\"ticklen\":8,\"ticks\":\"outside\",\"tickwidth\":2}},\"type\":\"scattergeo\"}],\"scattergl\":[{\"marker\":{\"colorbar\":{\"outlinewidth\":0,\"tickcolor\":\"rgb(36,36,36)\",\"ticklen\":8,\"ticks\":\"outside\",\"tickwidth\":2}},\"type\":\"scattergl\"}],\"scattermapbox\":[{\"marker\":{\"colorbar\":{\"outlinewidth\":0,\"tickcolor\":\"rgb(36,36,36)\",\"ticklen\":8,\"ticks\":\"outside\",\"tickwidth\":2}},\"type\":\"scattermapbox\"}],\"scatterpolar\":[{\"marker\":{\"colorbar\":{\"outlinewidth\":0,\"tickcolor\":\"rgb(36,36,36)\",\"ticklen\":8,\"ticks\":\"outside\",\"tickwidth\":2}},\"type\":\"scatterpolar\"}],\"scatterpolargl\":[{\"marker\":{\"colorbar\":{\"outlinewidth\":0,\"tickcolor\":\"rgb(36,36,36)\",\"ticklen\":8,\"ticks\":\"outside\",\"tickwidth\":2}},\"type\":\"scatterpolargl\"}],\"scatterternary\":[{\"marker\":{\"colorbar\":{\"outlinewidth\":0,\"tickcolor\":\"rgb(36,36,36)\",\"ticklen\":8,\"ticks\":\"outside\",\"tickwidth\":2}},\"type\":\"scatterternary\"}],\"surface\":[{\"colorbar\":{\"outlinewidth\":0,\"tickcolor\":\"rgb(36,36,36)\",\"ticklen\":8,\"ticks\":\"outside\",\"tickwidth\":2},\"colorscale\":[[0.0,\"rgb(2,4,25)\"],[0.06274509803921569,\"rgb(24,15,41)\"],[0.12549019607843137,\"rgb(47,23,57)\"],[0.18823529411764706,\"rgb(71,28,72)\"],[0.25098039215686274,\"rgb(97,30,82)\"],[0.3137254901960784,\"rgb(123,30,89)\"],[0.3764705882352941,\"rgb(150,27,91)\"],[0.4392156862745098,\"rgb(177,22,88)\"],[0.5019607843137255,\"rgb(203,26,79)\"],[0.5647058823529412,\"rgb(223,47,67)\"],[0.6274509803921569,\"rgb(236,76,61)\"],[0.6901960784313725,\"rgb(242,107,73)\"],[0.7529411764705882,\"rgb(244,135,95)\"],[0.8156862745098039,\"rgb(245,162,122)\"],[0.8784313725490196,\"rgb(246,188,153)\"],[0.9411764705882353,\"rgb(247,212,187)\"],[1.0,\"rgb(250,234,220)\"]],\"type\":\"surface\"}],\"table\":[{\"cells\":{\"fill\":{\"color\":\"rgb(231,231,240)\"},\"line\":{\"color\":\"white\"}},\"header\":{\"fill\":{\"color\":\"rgb(183,183,191)\"},\"line\":{\"color\":\"white\"}},\"type\":\"table\"}]},\"layout\":{\"annotationdefaults\":{\"arrowcolor\":\"rgb(67,103,167)\"},\"autotypenumbers\":\"strict\",\"coloraxis\":{\"colorbar\":{\"outlinewidth\":0,\"tickcolor\":\"rgb(36,36,36)\",\"ticklen\":8,\"ticks\":\"outside\",\"tickwidth\":2}},\"colorscale\":{\"sequential\":[[0.0,\"rgb(2,4,25)\"],[0.06274509803921569,\"rgb(24,15,41)\"],[0.12549019607843137,\"rgb(47,23,57)\"],[0.18823529411764706,\"rgb(71,28,72)\"],[0.25098039215686274,\"rgb(97,30,82)\"],[0.3137254901960784,\"rgb(123,30,89)\"],[0.3764705882352941,\"rgb(150,27,91)\"],[0.4392156862745098,\"rgb(177,22,88)\"],[0.5019607843137255,\"rgb(203,26,79)\"],[0.5647058823529412,\"rgb(223,47,67)\"],[0.6274509803921569,\"rgb(236,76,61)\"],[0.6901960784313725,\"rgb(242,107,73)\"],[0.7529411764705882,\"rgb(244,135,95)\"],[0.8156862745098039,\"rgb(245,162,122)\"],[0.8784313725490196,\"rgb(246,188,153)\"],[0.9411764705882353,\"rgb(247,212,187)\"],[1.0,\"rgb(250,234,220)\"]],\"sequentialminus\":[[0.0,\"rgb(2,4,25)\"],[0.06274509803921569,\"rgb(24,15,41)\"],[0.12549019607843137,\"rgb(47,23,57)\"],[0.18823529411764706,\"rgb(71,28,72)\"],[0.25098039215686274,\"rgb(97,30,82)\"],[0.3137254901960784,\"rgb(123,30,89)\"],[0.3764705882352941,\"rgb(150,27,91)\"],[0.4392156862745098,\"rgb(177,22,88)\"],[0.5019607843137255,\"rgb(203,26,79)\"],[0.5647058823529412,\"rgb(223,47,67)\"],[0.6274509803921569,\"rgb(236,76,61)\"],[0.6901960784313725,\"rgb(242,107,73)\"],[0.7529411764705882,\"rgb(244,135,95)\"],[0.8156862745098039,\"rgb(245,162,122)\"],[0.8784313725490196,\"rgb(246,188,153)\"],[0.9411764705882353,\"rgb(247,212,187)\"],[1.0,\"rgb(250,234,220)\"]]},\"colorway\":[\"rgb(76,114,176)\",\"rgb(221,132,82)\",\"rgb(85,168,104)\",\"rgb(196,78,82)\",\"rgb(129,114,179)\",\"rgb(147,120,96)\",\"rgb(218,139,195)\",\"rgb(140,140,140)\",\"rgb(204,185,116)\",\"rgb(100,181,205)\"],\"font\":{\"color\":\"rgb(36,36,36)\"},\"geo\":{\"bgcolor\":\"white\",\"lakecolor\":\"white\",\"landcolor\":\"rgb(234,234,242)\",\"showlakes\":true,\"showland\":true,\"subunitcolor\":\"white\"},\"hoverlabel\":{\"align\":\"left\"},\"hovermode\":\"closest\",\"paper_bgcolor\":\"white\",\"plot_bgcolor\":\"rgb(234,234,242)\",\"polar\":{\"angularaxis\":{\"gridcolor\":\"white\",\"linecolor\":\"white\",\"showgrid\":true,\"ticks\":\"\"},\"bgcolor\":\"rgb(234,234,242)\",\"radialaxis\":{\"gridcolor\":\"white\",\"linecolor\":\"white\",\"showgrid\":true,\"ticks\":\"\"}},\"scene\":{\"xaxis\":{\"backgroundcolor\":\"rgb(234,234,242)\",\"gridcolor\":\"white\",\"gridwidth\":2,\"linecolor\":\"white\",\"showbackground\":true,\"showgrid\":true,\"ticks\":\"\",\"zerolinecolor\":\"white\"},\"yaxis\":{\"backgroundcolor\":\"rgb(234,234,242)\",\"gridcolor\":\"white\",\"gridwidth\":2,\"linecolor\":\"white\",\"showbackground\":true,\"showgrid\":true,\"ticks\":\"\",\"zerolinecolor\":\"white\"},\"zaxis\":{\"backgroundcolor\":\"rgb(234,234,242)\",\"gridcolor\":\"white\",\"gridwidth\":2,\"linecolor\":\"white\",\"showbackground\":true,\"showgrid\":true,\"ticks\":\"\",\"zerolinecolor\":\"white\"}},\"shapedefaults\":{\"fillcolor\":\"rgb(67,103,167)\",\"line\":{\"width\":0},\"opacity\":0.5},\"ternary\":{\"aaxis\":{\"gridcolor\":\"white\",\"linecolor\":\"white\",\"showgrid\":true,\"ticks\":\"\"},\"baxis\":{\"gridcolor\":\"white\",\"linecolor\":\"white\",\"showgrid\":true,\"ticks\":\"\"},\"bgcolor\":\"rgb(234,234,242)\",\"caxis\":{\"gridcolor\":\"white\",\"linecolor\":\"white\",\"showgrid\":true,\"ticks\":\"\"}},\"xaxis\":{\"automargin\":true,\"gridcolor\":\"white\",\"linecolor\":\"white\",\"showgrid\":true,\"ticks\":\"\",\"title\":{\"standoff\":15},\"zerolinecolor\":\"white\"},\"yaxis\":{\"automargin\":true,\"gridcolor\":\"white\",\"linecolor\":\"white\",\"showgrid\":true,\"ticks\":\"\",\"title\":{\"standoff\":15},\"zerolinecolor\":\"white\"}}},\"xaxis\":{\"anchor\":\"y\",\"domain\":[0.0,1.0],\"title\":{\"text\":\"Body-Mass Index\"}},\"yaxis\":{\"anchor\":\"x\",\"domain\":[0.0,1.0],\"title\":{\"text\":\"Age (treatment start, years)\"}}},                        {\"responsive\": true}                    ).then(function(){\n                            \nvar gd = document.getElementById('92137dc0-bbd1-417d-93c9-9c9845d809c2');\nvar x = new MutationObserver(function (mutations, observer) {{\n        var display = window.getComputedStyle(gd).display;\n        if (!display || display === 'none') {{\n            console.log([gd, 'removed!']);\n            Plotly.purge(gd);\n            observer.disconnect();\n        }}\n}});\n\n// Listen for the removal of the full notebook cells\nvar notebookContainer = gd.closest('#notebook-container');\nif (notebookContainer) {{\n    x.observe(notebookContainer, {childList: true});\n}}\n\n// Listen for the clearing of the current output cell\nvar outputEl = gd.closest('.output');\nif (outputEl) {{\n    x.observe(outputEl, {childList: true});\n}}\n\n                        })                };                            </script>        </div>\n</body>\n</html>"
     },
     "metadata": {},
     "output_type": "display_data"
    }
   ],
   "execution_count": null
  },
  {
   "cell_type": "code",
   "source": "px.scatter_matrix(patients, \n                  dimensions=['asat_sang_ul', 'bili_totale_sang_umoll', 'mono_absolus_gl',\n       'alat_sang_ul', 'plaquettes_sang_gl', 'lympho_absolus_gl',\n       'albumine_sang_gl', 'proteine_c_reacsang_mgl', 'potassium_sang_mmoll',\n       'hemoglobine_sang_gl']) \\\n    .update_layout(legend=top_h_legend)",
   "metadata": {
    "tags": [],
    "deepnote_app_coordinates": {
     "x": 0,
     "y": 0,
     "w": 12,
     "h": 5
    },
    "cell_id": "00048-fd1ce390-7c7b-43d7-9b7b-3439ece7065a",
    "deepnote_to_be_reexecuted": false,
    "source_hash": "a2bb42d5",
    "execution_start": 1633941447534,
    "execution_millis": 76,
    "deepnote_cell_type": "code"
   },
   "outputs": [
    {
     "data": {
      "text/html": "<html>\n<head><meta charset=\"utf-8\" /></head>\n<body>\n    <div>            <script src=\"https://cdnjs.cloudflare.com/ajax/libs/mathjax/2.7.5/MathJax.js?config=TeX-AMS-MML_SVG\"></script><script type=\"text/javascript\">if (window.MathJax) {MathJax.Hub.Config({SVG: {font: \"STIX-Web\"}});}</script>                <script type=\"text/javascript\">window.PlotlyConfig = {MathJaxConfig: 'local'};</script>\n        <script src=\"https://cdn.plot.ly/plotly-2.4.2.min.js\"></script>                <div id=\"acb39645-0073-4387-8714-705b7534a934\" class=\"plotly-graph-div\" style=\"height:525px; width:100%;\"></div>            <script type=\"text/javascript\">                                    window.PLOTLYENV=window.PLOTLYENV || {};                                    if (document.getElementById(\"acb39645-0073-4387-8714-705b7534a934\")) {                    Plotly.newPlot(                        \"acb39645-0073-4387-8714-705b7534a934\",                        [{\"dimensions\":[{\"axis\":{\"matches\":true},\"label\":\"asat_sang_ul\",\"values\":[33.0,23.0,31.0,22.0,null,24.0,16.0,18.0,null,null,37.0,17.0,null,31.0,16.0,null,19.0,106.0,25.0,null,18.0,null,18.0,17.0,26.0,23.0,null,15.0,27.0,29.0,40.0,null,23.0,27.0,27.0,26.0,null,57.0,36.0,17.0,18.0,null,18.0,24.0,9.0,null,20.5,59.0,40.0,17.0,25.0,14.0,27.0,22.0,null,14.0,21.0,19.0,null,31.0,11.0,53.0,null,16.0,17.0,23.0,null,35.0,21.0,24.0,null,29.0,86.0,22.0,null,15.0,15.0,18.0,null,16.0,16.0,17.0,18.0,25.0,21.0,null,null,17.0,null,20.0,23.0,28.0,31.0,20.0,16.0,10.0,null,74.0,null,32.0,29.0,17.0,null,null,23.0,25.0,30.0,19.0,19.0,31.0,18.0,null,null,20.0,16.0,null,20.0,20.0,20.0,24.0,16.0,27.0,37.0,null,22.0,20.0,null,16.0,null,18.0,null,30.0,null,null,30.0,null,null,21.0,27.0,26.0,104.0,16.0,31.0,33.0,25.0,19.0]},{\"axis\":{\"matches\":true},\"label\":\"bili_totale_sang_umoll\",\"values\":[null,5.0,22.0,6.0,null,5.0,18.0,3.0,null,null,15.0,3.0,null,11.0,6.0,null,5.0,9.0,15.0,null,6.0,null,8.0,9.0,7.0,6.0,9.0,10.0,4.0,9.0,3.0,null,9.0,3.0,7.0,null,null,12.0,4.0,11.0,6.0,null,9.0,9.0,4.0,null,6.0,6.0,6.0,21.0,7.0,7.0,4.0,7.0,null,3.0,3.0,6.0,null,3.0,6.5,3.0,null,16.0,6.0,9.0,null,12.0,8.0,16.0,null,10.0,11.0,20.0,null,null,7.0,6.0,null,6.0,13.0,3.0,5.0,5.0,8.0,null,null,17.0,null,10.0,7.0,5.0,10.0,7.0,7.0,null,null,7.0,null,9.5,4.0,9.0,null,null,8.0,null,13.0,9.0,4.0,7.0,6.0,null,null,8.0,3.0,null,5.0,6.0,null,15.0,4.0,5.0,12.0,null,6.0,13.0,null,6.0,null,7.0,null,8.0,null,null,19.0,null,null,null,9.0,6.0,8.0,13.0,5.0,11.0,12.0,3.0]},{\"axis\":{\"matches\":true},\"label\":\"mono_absolus_gl\",\"values\":[0.37,0.52,0.51,0.72,null,0.77,null,0.82,null,null,null,0.29,null,0.54,0.9,null,null,0.72,null,0.46,0.66,null,0.66,0.27,null,0.76,null,0.5,0.63,0.72,0.48,null,0.97,0.76,0.33,null,null,1.04,0.4,0.67,0.7,null,0.79,0.7,1.06,0.28,0.745,0.4,null,0.75,0.69,0.5,0.68,1.415,0.56,1.23,null,0.92,null,0.46,0.64,0.63,0.53,null,0.49,null,null,0.59,null,0.37,null,0.77,0.59,0.89,null,0.63,0.72,0.61,0.35,0.47,0.36,0.7,0.83,0.76,0.79,null,0.37,0.35,0.69,0.37,0.52,0.385,0.55,0.34,0.43,0.59,0.735,0.37,0.87,0.595,0.34,null,null,null,0.55,null,0.27,0.52,0.56,0.52,null,1.15,null,0.6,0.4,null,0.7,0.76,0.42,0.59,0.51,0.37,0.93,0.72,0.5,0.56,null,0.23,0.6,null,null,null,null,null,null,null,null,null,null,0.45,0.95,null,0.73,0.72,0.2,0.92]},{\"axis\":{\"matches\":true},\"label\":\"alat_sang_ul\",\"values\":[29.0,16.0,43.0,16.0,null,64.0,13.0,14.0,null,null,23.0,null,null,51.0,37.0,null,31.0,115.0,31.0,null,17.0,null,11.0,17.0,34.0,15.0,null,16.0,38.0,13.0,27.0,null,14.0,20.0,22.0,30.0,null,63.0,33.0,37.0,13.0,null,17.0,21.0,8.0,null,20.5,48.0,55.0,15.0,30.0,12.0,25.0,19.0,null,19.5,20.0,27.0,null,34.0,12.0,54.0,null,12.0,13.0,26.0,null,41.0,13.0,20.0,null,43.0,49.0,22.0,null,21.0,9.0,13.0,null,20.0,13.0,19.0,14.0,44.0,13.0,null,null,16.0,null,17.0,12.0,24.0,42.0,15.0,18.0,9.0,null,94.0,null,22.5,34.0,8.0,null,null,19.0,18.0,27.0,20.0,15.0,59.0,18.0,null,null,33.0,17.0,null,39.0,17.0,11.5,17.0,7.0,16.0,63.0,null,30.0,31.0,null,14.0,null,16.0,null,21.0,null,null,25.0,null,null,21.0,17.0,45.0,125.0,20.0,25.0,31.0,11.0,18.0]},{\"axis\":{\"matches\":true},\"label\":\"plaquettes_sang_gl\",\"values\":[252.0,311.0,259.0,408.0,null,178.0,null,249.0,null,null,null,248.0,null,232.0,290.0,null,null,202.0,null,232.0,458.0,null,229.0,312.0,null,417.0,252.0,283.0,208.0,198.0,215.0,null,320.0,322.0,287.0,null,null,471.0,170.0,496.0,308.0,null,205.0,190.0,287.5,245.0,315.0,257.0,null,240.0,124.0,193.0,228.0,239.0,234.0,421.0,null,230.0,null,422.0,179.5,267.0,254.0,null,301.5,null,null,229.0,null,175.0,null,239.0,442.0,332.0,null,316.0,368.0,250.0,380.0,269.0,259.5,331.0,264.0,221.0,386.0,null,248.0,235.0,335.0,221.0,302.0,269.5,169.0,145.0,298.0,395.0,205.0,236.0,218.0,194.0,433.0,null,null,null,256.0,null,129.0,232.0,351.0,174.0,null,312.0,null,207.0,214.0,null,270.0,262.0,210.0,282.0,233.0,196.0,219.0,255.0,239.0,328.0,null,138.0,264.0,null,null,null,null,null,null,null,null,null,null,280.0,148.0,null,282.0,139.0,48.0,420.0]},{\"axis\":{\"matches\":true},\"label\":\"lympho_absolus_gl\",\"values\":[7.32,1.91,1.46,0.96,null,1.54,null,2.99,null,null,null,1.18,null,1.09,1.3,null,null,1.86,null,1.2,1.33,null,1.16,1.97,null,1.52,null,1.66,1.25,0.96,1.56,null,0.97,1.29,1.26,null,null,0.65,1.07,1.18,7.7,null,1.53,1.08,0.92,0.81,1.845,0.9,null,2.74,1.705,1.66,1.14,2.24,1.49,1.91,null,1.84,null,1.82,1.22,1.31,1.87,null,0.52,null,null,1.3,null,1.59,null,1.96,1.11,2.0,null,1.42,1.17,0.765,1.97,1.06,1.37,3.71,1.1,1.42,1.41,null,2.5,1.09,1.03,2.85,1.48,1.475,0.91,1.01,1.8,1.5,1.605,1.81,0.58,1.935,1.34,null,null,null,1.34,null,0.475,2.37,2.21,1.56,null,1.24,null,1.43,1.1,null,2.34,0.84,1.58,0.94,0.66,1.61,1.86,2.21,1.66,2.07,null,0.72,1.2,null,null,null,null,null,null,null,null,null,null,2.07,1.52,null,1.09,0.94,0.44,3.39]},{\"axis\":{\"matches\":true},\"label\":\"albumine_sang_gl\",\"values\":[null,null,null,null,null,null,46.0,null,null,null,null,43.0,null,39.0,null,null,42.0,null,40.0,null,38.0,null,39.0,null,null,42.0,41.0,null,null,47.0,null,null,null,null,null,null,null,29.0,44.0,41.0,null,null,41.0,35.0,28.0,null,40.0,43.0,null,44.0,null,42.0,40.0,40.0,null,null,40.0,44.0,null,null,null,null,null,33.0,43.0,48.0,null,null,null,45.0,null,46.0,32.0,null,null,38.0,null,42.0,null,37.0,null,46.0,null,43.0,43.0,null,null,39.0,null,49.0,null,null,42.0,40.0,43.0,37.0,null,null,null,null,null,46.0,null,null,null,37.0,null,null,45.0,42.0,null,null,null,null,37.0,null,48.0,43.0,null,41.0,41.0,47.0,40.0,null,45.0,44.0,null,47.0,null,null,null,null,null,null,null,null,null,41.0,null,null,27.0,null,42.0,41.0,null,null]},{\"axis\":{\"matches\":true},\"label\":\"proteine_c_reacsang_mgl\",\"values\":[null,null,null,null,null,null,null,null,null,null,null,null,null,null,null,null,null,null,null,null,null,null,null,null,null,null,null,null,null,null,null,null,null,null,null,null,null,156.0,null,null,null,null,null,null,null,null,null,null,null,null,null,null,null,null,null,null,null,null,null,null,null,null,null,null,null,null,null,null,null,null,null,null,null,null,null,null,null,null,null,null,null,null,null,null,null,null,null,null,null,null,null,null,null,null,null,20.0,null,null,null,null,null,null,null,null,null,null,null,null,3.0,null,null,null,null,null,null,null,null,null,null,null,null,null,null,null,null,null,null,null,null,null,null,null,null,null,null,null,null,null,null,null,null,null,2.0,null,null,null]},{\"axis\":{\"matches\":true},\"label\":\"potassium_sang_mmoll\",\"values\":[4.0,4.1,null,3.9,null,5.3,4.2,null,null,null,null,4.0,null,3.9,4.2,null,4.3,4.3,3.0,null,4.3,null,3.4,3.9,4.4,4.2,4.6,4.0,4.2,4.8,5.8,null,null,4.2,3.4,4.5,null,3.8,4.4,null,4.3,null,4.5,4.3,4.1,null,3.5,4.9,null,4.3,null,4.1,3.4,4.3,null,3.6,4.0,3.9,null,4.3,3.9,4.2,null,4.6,4.8,4.2,null,4.0,4.2,4.0,null,4.2,3.4,null,null,3.7,4.0,4.7,null,3.4,4.1,4.6,4.9,3.8,4.5,null,null,3.7,null,3.3,3.3,3.9,4.1,4.2,3.9,3.6,null,4.1,null,4.2,3.9,3.9,null,null,null,3.8,3.7,4.3,4.2,4.4,4.2,null,null,3.9,3.9,null,null,3.7,null,3.5,3.8,3.9,3.9,null,4.1,3.9,null,3.9,null,3.7,null,4.8,null,null,5.5,null,null,3.6,4.9,3.9,3.7,4.4,4.0,4.2,3.7,3.3]},{\"axis\":{\"matches\":true},\"label\":\"hemoglobine_sang_gl\",\"values\":[144.0,143.0,158.0,123.0,null,137.0,null,132.0,null,null,null,123.0,null,135.0,121.0,null,null,142.0,null,153.0,105.5,null,99.0,132.0,null,143.0,108.0,125.0,158.0,102.0,140.0,null,95.0,99.0,115.0,null,null,109.0,129.0,125.0,137.0,null,114.0,123.0,92.0,124.0,149.5,142.0,null,134.0,156.0,137.0,133.0,133.0,127.0,129.5,null,128.0,null,89.0,129.0,119.0,144.0,null,120.0,null,null,163.0,null,145.0,null,158.0,115.0,137.0,null,141.0,109.0,125.0,96.0,83.0,121.0,140.0,137.0,153.0,142.0,null,166.0,131.0,146.0,134.0,118.0,122.5,156.0,142.0,136.0,83.0,153.0,167.0,142.0,135.0,119.0,null,null,null,133.0,null,146.0,153.0,133.0,152.0,null,138.0,null,136.0,117.0,null,161.0,125.0,146.5,132.0,122.0,127.0,149.0,123.0,152.0,152.0,null,129.0,127.0,null,null,null,null,null,null,null,null,null,null,138.0,92.0,null,131.0,127.0,122.0,125.0]}],\"hovertemplate\":\"%{xaxis.title.text}=%{x}<br>%{yaxis.title.text}=%{y}<extra></extra>\",\"legendgroup\":\"\",\"marker\":{\"color\":\"rgb(76,114,176)\",\"symbol\":\"circle\"},\"name\":\"\",\"showlegend\":false,\"type\":\"splom\"}],                        {\"dragmode\":\"select\",\"legend\":{\"orientation\":\"h\",\"tracegroupgap\":0,\"y\":1.02,\"yanchor\":\"bottom\"},\"margin\":{\"t\":60},\"template\":{\"data\":{\"bar\":[{\"error_x\":{\"color\":\"rgb(36,36,36)\"},\"error_y\":{\"color\":\"rgb(36,36,36)\"},\"marker\":{\"line\":{\"color\":\"rgb(234,234,242)\",\"width\":0.5},\"pattern\":{\"fillmode\":\"overlay\",\"size\":10,\"solidity\":0.2}},\"type\":\"bar\"}],\"barpolar\":[{\"marker\":{\"line\":{\"color\":\"rgb(234,234,242)\",\"width\":0.5},\"pattern\":{\"fillmode\":\"overlay\",\"size\":10,\"solidity\":0.2}},\"type\":\"barpolar\"}],\"carpet\":[{\"aaxis\":{\"endlinecolor\":\"rgb(36,36,36)\",\"gridcolor\":\"white\",\"linecolor\":\"white\",\"minorgridcolor\":\"white\",\"startlinecolor\":\"rgb(36,36,36)\"},\"baxis\":{\"endlinecolor\":\"rgb(36,36,36)\",\"gridcolor\":\"white\",\"linecolor\":\"white\",\"minorgridcolor\":\"white\",\"startlinecolor\":\"rgb(36,36,36)\"},\"type\":\"carpet\"}],\"choropleth\":[{\"colorbar\":{\"outlinewidth\":0,\"tickcolor\":\"rgb(36,36,36)\",\"ticklen\":8,\"ticks\":\"outside\",\"tickwidth\":2},\"type\":\"choropleth\"}],\"contour\":[{\"colorbar\":{\"outlinewidth\":0,\"tickcolor\":\"rgb(36,36,36)\",\"ticklen\":8,\"ticks\":\"outside\",\"tickwidth\":2},\"colorscale\":[[0.0,\"rgb(2,4,25)\"],[0.06274509803921569,\"rgb(24,15,41)\"],[0.12549019607843137,\"rgb(47,23,57)\"],[0.18823529411764706,\"rgb(71,28,72)\"],[0.25098039215686274,\"rgb(97,30,82)\"],[0.3137254901960784,\"rgb(123,30,89)\"],[0.3764705882352941,\"rgb(150,27,91)\"],[0.4392156862745098,\"rgb(177,22,88)\"],[0.5019607843137255,\"rgb(203,26,79)\"],[0.5647058823529412,\"rgb(223,47,67)\"],[0.6274509803921569,\"rgb(236,76,61)\"],[0.6901960784313725,\"rgb(242,107,73)\"],[0.7529411764705882,\"rgb(244,135,95)\"],[0.8156862745098039,\"rgb(245,162,122)\"],[0.8784313725490196,\"rgb(246,188,153)\"],[0.9411764705882353,\"rgb(247,212,187)\"],[1.0,\"rgb(250,234,220)\"]],\"type\":\"contour\"}],\"contourcarpet\":[{\"colorbar\":{\"outlinewidth\":0,\"tickcolor\":\"rgb(36,36,36)\",\"ticklen\":8,\"ticks\":\"outside\",\"tickwidth\":2},\"type\":\"contourcarpet\"}],\"heatmap\":[{\"colorbar\":{\"outlinewidth\":0,\"tickcolor\":\"rgb(36,36,36)\",\"ticklen\":8,\"ticks\":\"outside\",\"tickwidth\":2},\"colorscale\":[[0.0,\"rgb(2,4,25)\"],[0.06274509803921569,\"rgb(24,15,41)\"],[0.12549019607843137,\"rgb(47,23,57)\"],[0.18823529411764706,\"rgb(71,28,72)\"],[0.25098039215686274,\"rgb(97,30,82)\"],[0.3137254901960784,\"rgb(123,30,89)\"],[0.3764705882352941,\"rgb(150,27,91)\"],[0.4392156862745098,\"rgb(177,22,88)\"],[0.5019607843137255,\"rgb(203,26,79)\"],[0.5647058823529412,\"rgb(223,47,67)\"],[0.6274509803921569,\"rgb(236,76,61)\"],[0.6901960784313725,\"rgb(242,107,73)\"],[0.7529411764705882,\"rgb(244,135,95)\"],[0.8156862745098039,\"rgb(245,162,122)\"],[0.8784313725490196,\"rgb(246,188,153)\"],[0.9411764705882353,\"rgb(247,212,187)\"],[1.0,\"rgb(250,234,220)\"]],\"type\":\"heatmap\"}],\"heatmapgl\":[{\"colorbar\":{\"outlinewidth\":0,\"tickcolor\":\"rgb(36,36,36)\",\"ticklen\":8,\"ticks\":\"outside\",\"tickwidth\":2},\"colorscale\":[[0.0,\"rgb(2,4,25)\"],[0.06274509803921569,\"rgb(24,15,41)\"],[0.12549019607843137,\"rgb(47,23,57)\"],[0.18823529411764706,\"rgb(71,28,72)\"],[0.25098039215686274,\"rgb(97,30,82)\"],[0.3137254901960784,\"rgb(123,30,89)\"],[0.3764705882352941,\"rgb(150,27,91)\"],[0.4392156862745098,\"rgb(177,22,88)\"],[0.5019607843137255,\"rgb(203,26,79)\"],[0.5647058823529412,\"rgb(223,47,67)\"],[0.6274509803921569,\"rgb(236,76,61)\"],[0.6901960784313725,\"rgb(242,107,73)\"],[0.7529411764705882,\"rgb(244,135,95)\"],[0.8156862745098039,\"rgb(245,162,122)\"],[0.8784313725490196,\"rgb(246,188,153)\"],[0.9411764705882353,\"rgb(247,212,187)\"],[1.0,\"rgb(250,234,220)\"]],\"type\":\"heatmapgl\"}],\"histogram\":[{\"marker\":{\"pattern\":{\"fillmode\":\"overlay\",\"size\":10,\"solidity\":0.2}},\"type\":\"histogram\"}],\"histogram2d\":[{\"colorbar\":{\"outlinewidth\":0,\"tickcolor\":\"rgb(36,36,36)\",\"ticklen\":8,\"ticks\":\"outside\",\"tickwidth\":2},\"colorscale\":[[0.0,\"rgb(2,4,25)\"],[0.06274509803921569,\"rgb(24,15,41)\"],[0.12549019607843137,\"rgb(47,23,57)\"],[0.18823529411764706,\"rgb(71,28,72)\"],[0.25098039215686274,\"rgb(97,30,82)\"],[0.3137254901960784,\"rgb(123,30,89)\"],[0.3764705882352941,\"rgb(150,27,91)\"],[0.4392156862745098,\"rgb(177,22,88)\"],[0.5019607843137255,\"rgb(203,26,79)\"],[0.5647058823529412,\"rgb(223,47,67)\"],[0.6274509803921569,\"rgb(236,76,61)\"],[0.6901960784313725,\"rgb(242,107,73)\"],[0.7529411764705882,\"rgb(244,135,95)\"],[0.8156862745098039,\"rgb(245,162,122)\"],[0.8784313725490196,\"rgb(246,188,153)\"],[0.9411764705882353,\"rgb(247,212,187)\"],[1.0,\"rgb(250,234,220)\"]],\"type\":\"histogram2d\"}],\"histogram2dcontour\":[{\"colorbar\":{\"outlinewidth\":0,\"tickcolor\":\"rgb(36,36,36)\",\"ticklen\":8,\"ticks\":\"outside\",\"tickwidth\":2},\"colorscale\":[[0.0,\"rgb(2,4,25)\"],[0.06274509803921569,\"rgb(24,15,41)\"],[0.12549019607843137,\"rgb(47,23,57)\"],[0.18823529411764706,\"rgb(71,28,72)\"],[0.25098039215686274,\"rgb(97,30,82)\"],[0.3137254901960784,\"rgb(123,30,89)\"],[0.3764705882352941,\"rgb(150,27,91)\"],[0.4392156862745098,\"rgb(177,22,88)\"],[0.5019607843137255,\"rgb(203,26,79)\"],[0.5647058823529412,\"rgb(223,47,67)\"],[0.6274509803921569,\"rgb(236,76,61)\"],[0.6901960784313725,\"rgb(242,107,73)\"],[0.7529411764705882,\"rgb(244,135,95)\"],[0.8156862745098039,\"rgb(245,162,122)\"],[0.8784313725490196,\"rgb(246,188,153)\"],[0.9411764705882353,\"rgb(247,212,187)\"],[1.0,\"rgb(250,234,220)\"]],\"type\":\"histogram2dcontour\"}],\"mesh3d\":[{\"colorbar\":{\"outlinewidth\":0,\"tickcolor\":\"rgb(36,36,36)\",\"ticklen\":8,\"ticks\":\"outside\",\"tickwidth\":2},\"type\":\"mesh3d\"}],\"parcoords\":[{\"line\":{\"colorbar\":{\"outlinewidth\":0,\"tickcolor\":\"rgb(36,36,36)\",\"ticklen\":8,\"ticks\":\"outside\",\"tickwidth\":2}},\"type\":\"parcoords\"}],\"pie\":[{\"automargin\":true,\"type\":\"pie\"}],\"scatter\":[{\"marker\":{\"colorbar\":{\"outlinewidth\":0,\"tickcolor\":\"rgb(36,36,36)\",\"ticklen\":8,\"ticks\":\"outside\",\"tickwidth\":2}},\"type\":\"scatter\"}],\"scatter3d\":[{\"line\":{\"colorbar\":{\"outlinewidth\":0,\"tickcolor\":\"rgb(36,36,36)\",\"ticklen\":8,\"ticks\":\"outside\",\"tickwidth\":2}},\"marker\":{\"colorbar\":{\"outlinewidth\":0,\"tickcolor\":\"rgb(36,36,36)\",\"ticklen\":8,\"ticks\":\"outside\",\"tickwidth\":2}},\"type\":\"scatter3d\"}],\"scattercarpet\":[{\"marker\":{\"colorbar\":{\"outlinewidth\":0,\"tickcolor\":\"rgb(36,36,36)\",\"ticklen\":8,\"ticks\":\"outside\",\"tickwidth\":2}},\"type\":\"scattercarpet\"}],\"scattergeo\":[{\"marker\":{\"colorbar\":{\"outlinewidth\":0,\"tickcolor\":\"rgb(36,36,36)\",\"ticklen\":8,\"ticks\":\"outside\",\"tickwidth\":2}},\"type\":\"scattergeo\"}],\"scattergl\":[{\"marker\":{\"colorbar\":{\"outlinewidth\":0,\"tickcolor\":\"rgb(36,36,36)\",\"ticklen\":8,\"ticks\":\"outside\",\"tickwidth\":2}},\"type\":\"scattergl\"}],\"scattermapbox\":[{\"marker\":{\"colorbar\":{\"outlinewidth\":0,\"tickcolor\":\"rgb(36,36,36)\",\"ticklen\":8,\"ticks\":\"outside\",\"tickwidth\":2}},\"type\":\"scattermapbox\"}],\"scatterpolar\":[{\"marker\":{\"colorbar\":{\"outlinewidth\":0,\"tickcolor\":\"rgb(36,36,36)\",\"ticklen\":8,\"ticks\":\"outside\",\"tickwidth\":2}},\"type\":\"scatterpolar\"}],\"scatterpolargl\":[{\"marker\":{\"colorbar\":{\"outlinewidth\":0,\"tickcolor\":\"rgb(36,36,36)\",\"ticklen\":8,\"ticks\":\"outside\",\"tickwidth\":2}},\"type\":\"scatterpolargl\"}],\"scatterternary\":[{\"marker\":{\"colorbar\":{\"outlinewidth\":0,\"tickcolor\":\"rgb(36,36,36)\",\"ticklen\":8,\"ticks\":\"outside\",\"tickwidth\":2}},\"type\":\"scatterternary\"}],\"surface\":[{\"colorbar\":{\"outlinewidth\":0,\"tickcolor\":\"rgb(36,36,36)\",\"ticklen\":8,\"ticks\":\"outside\",\"tickwidth\":2},\"colorscale\":[[0.0,\"rgb(2,4,25)\"],[0.06274509803921569,\"rgb(24,15,41)\"],[0.12549019607843137,\"rgb(47,23,57)\"],[0.18823529411764706,\"rgb(71,28,72)\"],[0.25098039215686274,\"rgb(97,30,82)\"],[0.3137254901960784,\"rgb(123,30,89)\"],[0.3764705882352941,\"rgb(150,27,91)\"],[0.4392156862745098,\"rgb(177,22,88)\"],[0.5019607843137255,\"rgb(203,26,79)\"],[0.5647058823529412,\"rgb(223,47,67)\"],[0.6274509803921569,\"rgb(236,76,61)\"],[0.6901960784313725,\"rgb(242,107,73)\"],[0.7529411764705882,\"rgb(244,135,95)\"],[0.8156862745098039,\"rgb(245,162,122)\"],[0.8784313725490196,\"rgb(246,188,153)\"],[0.9411764705882353,\"rgb(247,212,187)\"],[1.0,\"rgb(250,234,220)\"]],\"type\":\"surface\"}],\"table\":[{\"cells\":{\"fill\":{\"color\":\"rgb(231,231,240)\"},\"line\":{\"color\":\"white\"}},\"header\":{\"fill\":{\"color\":\"rgb(183,183,191)\"},\"line\":{\"color\":\"white\"}},\"type\":\"table\"}]},\"layout\":{\"annotationdefaults\":{\"arrowcolor\":\"rgb(67,103,167)\"},\"autotypenumbers\":\"strict\",\"coloraxis\":{\"colorbar\":{\"outlinewidth\":0,\"tickcolor\":\"rgb(36,36,36)\",\"ticklen\":8,\"ticks\":\"outside\",\"tickwidth\":2}},\"colorscale\":{\"sequential\":[[0.0,\"rgb(2,4,25)\"],[0.06274509803921569,\"rgb(24,15,41)\"],[0.12549019607843137,\"rgb(47,23,57)\"],[0.18823529411764706,\"rgb(71,28,72)\"],[0.25098039215686274,\"rgb(97,30,82)\"],[0.3137254901960784,\"rgb(123,30,89)\"],[0.3764705882352941,\"rgb(150,27,91)\"],[0.4392156862745098,\"rgb(177,22,88)\"],[0.5019607843137255,\"rgb(203,26,79)\"],[0.5647058823529412,\"rgb(223,47,67)\"],[0.6274509803921569,\"rgb(236,76,61)\"],[0.6901960784313725,\"rgb(242,107,73)\"],[0.7529411764705882,\"rgb(244,135,95)\"],[0.8156862745098039,\"rgb(245,162,122)\"],[0.8784313725490196,\"rgb(246,188,153)\"],[0.9411764705882353,\"rgb(247,212,187)\"],[1.0,\"rgb(250,234,220)\"]],\"sequentialminus\":[[0.0,\"rgb(2,4,25)\"],[0.06274509803921569,\"rgb(24,15,41)\"],[0.12549019607843137,\"rgb(47,23,57)\"],[0.18823529411764706,\"rgb(71,28,72)\"],[0.25098039215686274,\"rgb(97,30,82)\"],[0.3137254901960784,\"rgb(123,30,89)\"],[0.3764705882352941,\"rgb(150,27,91)\"],[0.4392156862745098,\"rgb(177,22,88)\"],[0.5019607843137255,\"rgb(203,26,79)\"],[0.5647058823529412,\"rgb(223,47,67)\"],[0.6274509803921569,\"rgb(236,76,61)\"],[0.6901960784313725,\"rgb(242,107,73)\"],[0.7529411764705882,\"rgb(244,135,95)\"],[0.8156862745098039,\"rgb(245,162,122)\"],[0.8784313725490196,\"rgb(246,188,153)\"],[0.9411764705882353,\"rgb(247,212,187)\"],[1.0,\"rgb(250,234,220)\"]]},\"colorway\":[\"rgb(76,114,176)\",\"rgb(221,132,82)\",\"rgb(85,168,104)\",\"rgb(196,78,82)\",\"rgb(129,114,179)\",\"rgb(147,120,96)\",\"rgb(218,139,195)\",\"rgb(140,140,140)\",\"rgb(204,185,116)\",\"rgb(100,181,205)\"],\"font\":{\"color\":\"rgb(36,36,36)\"},\"geo\":{\"bgcolor\":\"white\",\"lakecolor\":\"white\",\"landcolor\":\"rgb(234,234,242)\",\"showlakes\":true,\"showland\":true,\"subunitcolor\":\"white\"},\"hoverlabel\":{\"align\":\"left\"},\"hovermode\":\"closest\",\"paper_bgcolor\":\"white\",\"plot_bgcolor\":\"rgb(234,234,242)\",\"polar\":{\"angularaxis\":{\"gridcolor\":\"white\",\"linecolor\":\"white\",\"showgrid\":true,\"ticks\":\"\"},\"bgcolor\":\"rgb(234,234,242)\",\"radialaxis\":{\"gridcolor\":\"white\",\"linecolor\":\"white\",\"showgrid\":true,\"ticks\":\"\"}},\"scene\":{\"xaxis\":{\"backgroundcolor\":\"rgb(234,234,242)\",\"gridcolor\":\"white\",\"gridwidth\":2,\"linecolor\":\"white\",\"showbackground\":true,\"showgrid\":true,\"ticks\":\"\",\"zerolinecolor\":\"white\"},\"yaxis\":{\"backgroundcolor\":\"rgb(234,234,242)\",\"gridcolor\":\"white\",\"gridwidth\":2,\"linecolor\":\"white\",\"showbackground\":true,\"showgrid\":true,\"ticks\":\"\",\"zerolinecolor\":\"white\"},\"zaxis\":{\"backgroundcolor\":\"rgb(234,234,242)\",\"gridcolor\":\"white\",\"gridwidth\":2,\"linecolor\":\"white\",\"showbackground\":true,\"showgrid\":true,\"ticks\":\"\",\"zerolinecolor\":\"white\"}},\"shapedefaults\":{\"fillcolor\":\"rgb(67,103,167)\",\"line\":{\"width\":0},\"opacity\":0.5},\"ternary\":{\"aaxis\":{\"gridcolor\":\"white\",\"linecolor\":\"white\",\"showgrid\":true,\"ticks\":\"\"},\"baxis\":{\"gridcolor\":\"white\",\"linecolor\":\"white\",\"showgrid\":true,\"ticks\":\"\"},\"bgcolor\":\"rgb(234,234,242)\",\"caxis\":{\"gridcolor\":\"white\",\"linecolor\":\"white\",\"showgrid\":true,\"ticks\":\"\"}},\"xaxis\":{\"automargin\":true,\"gridcolor\":\"white\",\"linecolor\":\"white\",\"showgrid\":true,\"ticks\":\"\",\"title\":{\"standoff\":15},\"zerolinecolor\":\"white\"},\"yaxis\":{\"automargin\":true,\"gridcolor\":\"white\",\"linecolor\":\"white\",\"showgrid\":true,\"ticks\":\"\",\"title\":{\"standoff\":15},\"zerolinecolor\":\"white\"}}}},                        {\"responsive\": true}                    ).then(function(){\n                            \nvar gd = document.getElementById('acb39645-0073-4387-8714-705b7534a934');\nvar x = new MutationObserver(function (mutations, observer) {{\n        var display = window.getComputedStyle(gd).display;\n        if (!display || display === 'none') {{\n            console.log([gd, 'removed!']);\n            Plotly.purge(gd);\n            observer.disconnect();\n        }}\n}});\n\n// Listen for the removal of the full notebook cells\nvar notebookContainer = gd.closest('#notebook-container');\nif (notebookContainer) {{\n    x.observe(notebookContainer, {childList: true});\n}}\n\n// Listen for the clearing of the current output cell\nvar outputEl = gd.closest('.output');\nif (outputEl) {{\n    x.observe(outputEl, {childList: true});\n}}\n\n                        })                };                            </script>        </div>\n</body>\n</html>"
     },
     "metadata": {},
     "output_type": "display_data"
    }
   ],
   "execution_count": null
  },
  {
   "cell_type": "code",
   "source": "px.scatter_matrix(patients, \n                  dimensions=['calcium_sang_mmoll', 'ldh_sang_ul',\n       'creatinine_sang_umoll', 'pal_sang_ul', 'neutro_absolus_gl',\n       'eosini_absolus_gl', 'baso_absolus_gl', 'ggt_sang_ul',\n       'gfr_cal_mlmin173m2', 'leucocytes_sang_gl']) \\\n    .update_layout(legend=top_h_legend)",
   "metadata": {
    "tags": [],
    "deepnote_app_coordinates": {
     "x": 0,
     "y": 0,
     "w": 12,
     "h": 5
    },
    "cell_id": "00049-649d6693-bdb7-4b8e-a45b-1aa435a74e88",
    "deepnote_to_be_reexecuted": false,
    "source_hash": "b0b176ba",
    "execution_start": 1633941472797,
    "execution_millis": 43,
    "deepnote_cell_type": "code"
   },
   "outputs": [
    {
     "data": {
      "text/html": "<html>\n<head><meta charset=\"utf-8\" /></head>\n<body>\n    <div>            <script src=\"https://cdnjs.cloudflare.com/ajax/libs/mathjax/2.7.5/MathJax.js?config=TeX-AMS-MML_SVG\"></script><script type=\"text/javascript\">if (window.MathJax) {MathJax.Hub.Config({SVG: {font: \"STIX-Web\"}});}</script>                <script type=\"text/javascript\">window.PlotlyConfig = {MathJaxConfig: 'local'};</script>\n        <script src=\"https://cdn.plot.ly/plotly-2.4.2.min.js\"></script>                <div id=\"10cd913e-f2bb-4b49-bf17-87be9f51124f\" class=\"plotly-graph-div\" style=\"height:525px; width:100%;\"></div>            <script type=\"text/javascript\">                                    window.PLOTLYENV=window.PLOTLYENV || {};                                    if (document.getElementById(\"10cd913e-f2bb-4b49-bf17-87be9f51124f\")) {                    Plotly.newPlot(                        \"10cd913e-f2bb-4b49-bf17-87be9f51124f\",                        [{\"dimensions\":[{\"axis\":{\"matches\":true},\"label\":\"calcium_sang_mmoll\",\"values\":[null,null,null,null,null,null,2.34,null,null,null,null,2.54,null,null,null,null,2.32,2.44,2.2,null,2.26,null,2.25,2.31,null,2.4,2.24,null,null,2.27,null,null,null,null,null,null,null,null,null,2.13,null,null,2.33,2.13,null,null,2.31,null,null,2.37,null,2.36,2.21,2.36,null,null,2.3,2.26,null,null,2.33,null,null,2.21,2.44,2.44,null,null,null,2.4,null,2.36,2.26,null,null,2.28,null,2.49,null,2.35,null,2.44,null,2.3,2.35,null,null,2.24,null,2.36,2.29,2.23,2.28,2.27,2.24,2.2,null,null,null,null,null,2.32,null,null,null,null,null,2.34,2.34,2.59,null,null,null,2.31,2.28,null,null,2.4,null,2.34,2.31,2.31,2.24,null,2.32,2.33,null,2.22,null,null,null,null,null,null,2.36,null,null,null,null,null,2.45,2.25,2.32,2.12,null,null]},{\"axis\":{\"matches\":true},\"label\":\"ldh_sang_ul\",\"values\":[520.0,309.0,null,400.0,null,209.0,155.0,200.0,null,null,237.0,145.0,null,209.0,null,null,159.0,284.0,195.0,null,185.0,null,null,189.0,167.0,310.0,172.0,null,239.0,939.0,476.0,null,null,null,428.0,null,null,null,null,184.0,193.0,null,160.0,261.0,381.0,225.0,249.0,760.0,null,181.0,149.5,150.0,null,252.5,null,169.5,null,161.0,null,158.0,179.0,251.0,null,334.0,220.0,263.0,null,272.0,176.0,185.0,null,189.0,null,177.0,null,191.0,null,156.0,532.0,291.0,254.0,191.0,null,183.0,276.0,null,null,183.0,null,145.0,219.0,184.0,253.0,243.0,135.0,231.0,151.0,197.0,null,304.0,292.0,162.0,null,null,162.0,null,627.0,174.0,177.0,343.0,null,244.0,144.0,147.0,168.0,null,159.0,194.0,null,467.0,178.0,147.0,null,null,256.0,159.0,null,140.0,null,null,null,177.0,null,null,291.0,null,null,249.0,225.0,186.0,null,155.0,376.0,236.0,null,287.0]},{\"axis\":{\"matches\":true},\"label\":\"creatinine_sang_umoll\",\"values\":[58.0,67.0,81.0,51.0,null,73.0,71.0,69.0,null,null,101.0,55.0,null,82.5,49.0,null,51.0,74.0,68.0,null,72.0,null,82.0,75.0,121.0,80.0,103.0,67.0,92.0,91.0,68.0,null,92.0,55.0,79.0,71.0,null,79.0,84.0,82.0,75.0,null,80.0,79.0,64.0,null,69.0,72.0,85.0,138.0,null,72.0,82.0,135.0,null,null,50.0,46.0,null,48.0,83.5,121.0,null,162.0,99.0,89.0,null,73.0,57.0,134.0,null,84.0,68.0,null,null,82.0,70.0,100.0,null,251.0,93.0,88.0,492.0,76.0,84.0,null,null,71.0,null,59.0,82.0,62.0,115.0,63.0,56.0,128.0,null,70.0,null,81.0,62.0,62.0,null,null,78.0,91.0,79.0,76.0,67.0,83.0,65.0,null,null,80.0,53.0,null,90.0,117.0,91.0,94.0,64.0,59.0,90.0,null,81.0,78.0,null,65.0,null,63.0,null,69.0,null,null,90.0,91.0,null,77.0,77.0,52.0,64.0,74.0,69.0,80.0,46.0,63.0]},{\"axis\":{\"matches\":true},\"label\":\"pal_sang_ul\",\"values\":[112.0,41.0,95.0,115.0,null,52.0,81.0,81.0,null,null,91.0,140.0,null,127.0,48.0,null,86.0,60.0,76.0,null,96.0,null,66.0,63.0,159.0,61.0,84.0,70.0,59.0,127.0,null,null,111.0,108.0,81.0,117.0,null,343.0,62.0,136.0,73.0,null,54.0,63.0,53.0,null,64.0,214.0,58.0,38.0,59.0,73.0,null,74.0,null,81.0,74.0,86.0,null,null,55.0,127.0,null,211.0,123.0,58.0,null,115.0,47.0,45.0,null,65.0,279.0,47.0,null,43.0,null,63.0,null,149.0,116.0,65.0,68.0,78.0,161.0,null,null,43.0,null,43.0,56.0,92.0,56.0,67.0,46.0,76.0,null,86.0,null,61.0,103.0,66.0,null,null,47.0,77.0,68.0,96.0,46.0,67.0,75.0,null,null,79.0,125.0,null,60.0,69.0,46.5,96.0,81.0,56.0,59.0,null,74.0,62.0,null,62.0,null,100.0,null,71.0,null,null,123.0,null,null,70.0,81.0,null,174.0,37.0,52.0,97.0,94.0,75.0]},{\"axis\":{\"matches\":true},\"label\":\"neutro_absolus_gl\",\"values\":[10.61,4.56,5.11,6.0,null,10.24,null,6.18,null,null,null,3.28,null,4.96,7.7,null,null,3.36,null,3.93,6.595,null,6.23,4.35,null,5.02,null,4.9,9.25,21.69,7.84,null,5.75,5.32,5.53,null,null,11.18,2.41,6.47,3.8,null,3.6,3.19,7.425,1.63,7.0,3.35,null,4.57,4.275,4.75,3.17,7.15,3.97,7.57,null,7.24,null,3.9,4.315,3.48,6.23,null,5.35,null,null,3.24,null,3.97,null,3.99,5.55,6.88,null,5.61,4.49,2.945,3.36,4.13,2.665,6.96,4.62,6.03,6.25,null,2.99,1.89,6.71,3.94,5.25,4.38,3.9,4.71,4.75,5.16,2.745,3.97,13.76,2.83,2.31,null,null,null,6.0,null,2.36,6.52,4.68,4.23,null,6.15,null,5.4,3.4,null,8.19,6.64,3.745,4.13,3.88,2.16,3.16,3.38,4.97,6.3,null,3.56,2.9,null,null,null,null,null,null,null,null,null,null,2.8,6.46,null,7.1,3.69,1.54,10.63]},{\"axis\":{\"matches\":true},\"label\":\"eosini_absolus_gl\",\"values\":[0.0,0.205,0.15,0.32,null,0.0,null,0.21,null,null,null,0.05,null,0.07,0.0,null,null,0.0,null,0.06,0.155,null,0.25,0.14,null,0.23,null,0.14,0.06,0.24,0.01,null,0.24,0.08,0.08,null,null,0.0,0.07,0.0,0.1,null,0.12,0.38,0.15,0.05,0.3,0.3,null,0.17,0.435,0.22,0.16,0.335,0.12,0.395,null,0.2,null,0.26,0.13,0.29,0.18,null,0.455,null,null,0.22,null,0.12,null,0.21,0.07,1.11,null,0.16,0.13,0.105,0.12,0.12,0.38,0.12,0.28,0.04,0.26,null,0.18,0.11,0.09,0.15,0.07,0.035,0.13,0.07,0.07,0.0,0.545,0.07,0.01,0.285,0.11,null,null,null,0.08,null,0.065,0.03,0.53,0.13,null,0.05,null,0.08,0.05,null,0.12,0.08,0.12,0.18,0.05,0.37,0.25,0.2,0.0,0.38,null,0.0,0.25,null,null,null,null,null,null,null,null,null,null,0.28,0.1,null,0.0,0.11,0.02,0.31]},{\"axis\":{\"matches\":true},\"label\":\"baso_absolus_gl\",\"values\":[0.0,0.045,0.07,0.0,null,0.0,null,0.0,null,null,null,0.05,null,0.0,0.0,null,null,0.06,null,0.06,0.03,null,0.0,0.07,null,0.08,null,0.07,0.0,0.24,0.01,null,0.16,0.08,0.01,null,null,0.0,0.01,0.0,0.0,null,0.06,0.05,0.05,0.01,0.1,0.05,null,0.0,0.075,0.0,0.0,0.225,0.06,0.115,null,0.1,null,0.07,0.065,0.0,0.09,null,0.07,null,null,0.05,null,0.06,null,0.07,0.07,0.11,null,0.0,0.07,0.045,0.06,0.06,0.05,0.12,0.07,0.02,0.09,null,0.06,0.07,0.0,0.07,0.07,0.03,0.03,0.03,0.07,0.02,0.12,0.02,0.02,0.055,0.02,null,null,null,0.0,null,0.015,0.04,0.06,0.07,null,0.02,null,0.0,0.0,null,0.12,0.0,0.06,0.06,0.0,0.05,0.06,0.07,0.07,0.09,null,0.0,0.05,null,null,null,null,null,null,null,null,null,null,0.06,0.1,null,0.09,0.0,0.0,0.15]},{\"axis\":{\"matches\":true},\"label\":\"ggt_sang_ul\",\"values\":[46.0,48.0,28.0,55.0,null,48.0,12.0,13.0,null,null,56.0,17.0,null,220.0,18.0,null,21.0,312.0,null,null,79.0,null,25.0,33.0,255.0,null,23.0,34.0,44.0,31.0,null,null,78.0,117.0,47.0,135.0,null,327.0,17.0,29.0,25.0,null,35.0,15.0,null,null,9.0,226.0,41.0,49.0,98.0,74.0,64.0,50.0,null,38.5,136.0,55.0,null,406.0,24.0,74.0,null,257.0,109.0,70.0,null,38.0,11.0,null,null,36.0,182.0,16.0,null,null,91.0,11.0,null,254.0,33.0,21.0,15.0,38.0,null,null,null,19.0,null,13.0,11.0,60.0,21.0,9.0,14.0,19.0,null,145.0,null,20.0,113.0,21.0,null,null,14.0,101.0,34.0,75.0,8.0,40.0,26.0,null,null,49.0,15.0,null,99.0,null,24.5,75.0,11.0,12.0,46.0,null,null,34.0,null,null,null,15.0,null,78.0,null,null,203.0,null,null,40.0,21.0,20.0,192.0,21.0,18.0,null,44.0,25.0]},{\"axis\":{\"matches\":true},\"label\":\"gfr_cal_mlmin173m2\",\"values\":[null,null,null,null,null,null,null,null,null,null,null,null,null,59.0,null,null,null,null,null,null,null,null,null,null,49.0,null,47.0,null,null,null,null,null,null,null,null,null,null,null,null,null,null,null,null,null,null,null,null,null,null,43.0,null,null,null,43.0,null,null,null,null,null,null,null,51.0,null,null,null,null,null,null,null,null,null,null,null,null,null,null,null,47.0,null,23.0,null,null,null,null,null,null,null,null,null,null,null,null,55.0,null,null,47.0,null,null,null,null,null,null,null,null,null,null,null,null,null,null,null,null,null,null,null,null,null,39.0,null,null,null,null,null,null,null,null,null,null,null,null,null,null,null,null,null,null,null,null,null,null,null,null,null,null,null,null]},{\"axis\":{\"matches\":true},\"label\":\"leucocytes_sang_gl\",\"values\":[18.3,7.25,7.3,8.0,null,12.8,null,10.3,null,null,null,4.9,null,6.8,10.0,null,null,6.0,null,5.7,8.8,null,8.3,6.8,null,7.6,6.8,7.2,11.3,24.1,9.9,null,8.1,7.6,7.2,null,null,13.0,4.0,8.4,12.4,null,6.1,5.4,9.65,2.8,10.0,5.0,null,8.3,7.25,7.2,5.2,11.25,6.2,11.15,null,10.2,null,6.5,6.4,5.7,8.9,null,6.95,null,null,5.4,null,6.1,null,7.0,7.4,11.1,null,7.9,6.5,4.45,5.8,5.9,4.8,11.6,6.9,8.3,8.8,null,6.1,3.5,8.6,7.3,7.4,6.3,5.5,6.2,7.2,7.4,5.8,6.3,15.5,5.7,4.1,null,null,null,7.9,null,3.2,9.5,8.1,6.5,null,8.7,null,7.5,5.0,null,11.7,8.4,5.95,5.9,5.1,4.6,6.2,6.5,7.2,9.4,null,4.5,5.0,null,null,null,null,null,null,null,null,null,null,5.6,9.5,null,9.1,5.5,2.2,15.4]}],\"hovertemplate\":\"%{xaxis.title.text}=%{x}<br>%{yaxis.title.text}=%{y}<extra></extra>\",\"legendgroup\":\"\",\"marker\":{\"color\":\"rgb(76,114,176)\",\"symbol\":\"circle\"},\"name\":\"\",\"showlegend\":false,\"type\":\"splom\"}],                        {\"dragmode\":\"select\",\"legend\":{\"orientation\":\"h\",\"tracegroupgap\":0,\"y\":1.02,\"yanchor\":\"bottom\"},\"margin\":{\"t\":60},\"template\":{\"data\":{\"bar\":[{\"error_x\":{\"color\":\"rgb(36,36,36)\"},\"error_y\":{\"color\":\"rgb(36,36,36)\"},\"marker\":{\"line\":{\"color\":\"rgb(234,234,242)\",\"width\":0.5},\"pattern\":{\"fillmode\":\"overlay\",\"size\":10,\"solidity\":0.2}},\"type\":\"bar\"}],\"barpolar\":[{\"marker\":{\"line\":{\"color\":\"rgb(234,234,242)\",\"width\":0.5},\"pattern\":{\"fillmode\":\"overlay\",\"size\":10,\"solidity\":0.2}},\"type\":\"barpolar\"}],\"carpet\":[{\"aaxis\":{\"endlinecolor\":\"rgb(36,36,36)\",\"gridcolor\":\"white\",\"linecolor\":\"white\",\"minorgridcolor\":\"white\",\"startlinecolor\":\"rgb(36,36,36)\"},\"baxis\":{\"endlinecolor\":\"rgb(36,36,36)\",\"gridcolor\":\"white\",\"linecolor\":\"white\",\"minorgridcolor\":\"white\",\"startlinecolor\":\"rgb(36,36,36)\"},\"type\":\"carpet\"}],\"choropleth\":[{\"colorbar\":{\"outlinewidth\":0,\"tickcolor\":\"rgb(36,36,36)\",\"ticklen\":8,\"ticks\":\"outside\",\"tickwidth\":2},\"type\":\"choropleth\"}],\"contour\":[{\"colorbar\":{\"outlinewidth\":0,\"tickcolor\":\"rgb(36,36,36)\",\"ticklen\":8,\"ticks\":\"outside\",\"tickwidth\":2},\"colorscale\":[[0.0,\"rgb(2,4,25)\"],[0.06274509803921569,\"rgb(24,15,41)\"],[0.12549019607843137,\"rgb(47,23,57)\"],[0.18823529411764706,\"rgb(71,28,72)\"],[0.25098039215686274,\"rgb(97,30,82)\"],[0.3137254901960784,\"rgb(123,30,89)\"],[0.3764705882352941,\"rgb(150,27,91)\"],[0.4392156862745098,\"rgb(177,22,88)\"],[0.5019607843137255,\"rgb(203,26,79)\"],[0.5647058823529412,\"rgb(223,47,67)\"],[0.6274509803921569,\"rgb(236,76,61)\"],[0.6901960784313725,\"rgb(242,107,73)\"],[0.7529411764705882,\"rgb(244,135,95)\"],[0.8156862745098039,\"rgb(245,162,122)\"],[0.8784313725490196,\"rgb(246,188,153)\"],[0.9411764705882353,\"rgb(247,212,187)\"],[1.0,\"rgb(250,234,220)\"]],\"type\":\"contour\"}],\"contourcarpet\":[{\"colorbar\":{\"outlinewidth\":0,\"tickcolor\":\"rgb(36,36,36)\",\"ticklen\":8,\"ticks\":\"outside\",\"tickwidth\":2},\"type\":\"contourcarpet\"}],\"heatmap\":[{\"colorbar\":{\"outlinewidth\":0,\"tickcolor\":\"rgb(36,36,36)\",\"ticklen\":8,\"ticks\":\"outside\",\"tickwidth\":2},\"colorscale\":[[0.0,\"rgb(2,4,25)\"],[0.06274509803921569,\"rgb(24,15,41)\"],[0.12549019607843137,\"rgb(47,23,57)\"],[0.18823529411764706,\"rgb(71,28,72)\"],[0.25098039215686274,\"rgb(97,30,82)\"],[0.3137254901960784,\"rgb(123,30,89)\"],[0.3764705882352941,\"rgb(150,27,91)\"],[0.4392156862745098,\"rgb(177,22,88)\"],[0.5019607843137255,\"rgb(203,26,79)\"],[0.5647058823529412,\"rgb(223,47,67)\"],[0.6274509803921569,\"rgb(236,76,61)\"],[0.6901960784313725,\"rgb(242,107,73)\"],[0.7529411764705882,\"rgb(244,135,95)\"],[0.8156862745098039,\"rgb(245,162,122)\"],[0.8784313725490196,\"rgb(246,188,153)\"],[0.9411764705882353,\"rgb(247,212,187)\"],[1.0,\"rgb(250,234,220)\"]],\"type\":\"heatmap\"}],\"heatmapgl\":[{\"colorbar\":{\"outlinewidth\":0,\"tickcolor\":\"rgb(36,36,36)\",\"ticklen\":8,\"ticks\":\"outside\",\"tickwidth\":2},\"colorscale\":[[0.0,\"rgb(2,4,25)\"],[0.06274509803921569,\"rgb(24,15,41)\"],[0.12549019607843137,\"rgb(47,23,57)\"],[0.18823529411764706,\"rgb(71,28,72)\"],[0.25098039215686274,\"rgb(97,30,82)\"],[0.3137254901960784,\"rgb(123,30,89)\"],[0.3764705882352941,\"rgb(150,27,91)\"],[0.4392156862745098,\"rgb(177,22,88)\"],[0.5019607843137255,\"rgb(203,26,79)\"],[0.5647058823529412,\"rgb(223,47,67)\"],[0.6274509803921569,\"rgb(236,76,61)\"],[0.6901960784313725,\"rgb(242,107,73)\"],[0.7529411764705882,\"rgb(244,135,95)\"],[0.8156862745098039,\"rgb(245,162,122)\"],[0.8784313725490196,\"rgb(246,188,153)\"],[0.9411764705882353,\"rgb(247,212,187)\"],[1.0,\"rgb(250,234,220)\"]],\"type\":\"heatmapgl\"}],\"histogram\":[{\"marker\":{\"pattern\":{\"fillmode\":\"overlay\",\"size\":10,\"solidity\":0.2}},\"type\":\"histogram\"}],\"histogram2d\":[{\"colorbar\":{\"outlinewidth\":0,\"tickcolor\":\"rgb(36,36,36)\",\"ticklen\":8,\"ticks\":\"outside\",\"tickwidth\":2},\"colorscale\":[[0.0,\"rgb(2,4,25)\"],[0.06274509803921569,\"rgb(24,15,41)\"],[0.12549019607843137,\"rgb(47,23,57)\"],[0.18823529411764706,\"rgb(71,28,72)\"],[0.25098039215686274,\"rgb(97,30,82)\"],[0.3137254901960784,\"rgb(123,30,89)\"],[0.3764705882352941,\"rgb(150,27,91)\"],[0.4392156862745098,\"rgb(177,22,88)\"],[0.5019607843137255,\"rgb(203,26,79)\"],[0.5647058823529412,\"rgb(223,47,67)\"],[0.6274509803921569,\"rgb(236,76,61)\"],[0.6901960784313725,\"rgb(242,107,73)\"],[0.7529411764705882,\"rgb(244,135,95)\"],[0.8156862745098039,\"rgb(245,162,122)\"],[0.8784313725490196,\"rgb(246,188,153)\"],[0.9411764705882353,\"rgb(247,212,187)\"],[1.0,\"rgb(250,234,220)\"]],\"type\":\"histogram2d\"}],\"histogram2dcontour\":[{\"colorbar\":{\"outlinewidth\":0,\"tickcolor\":\"rgb(36,36,36)\",\"ticklen\":8,\"ticks\":\"outside\",\"tickwidth\":2},\"colorscale\":[[0.0,\"rgb(2,4,25)\"],[0.06274509803921569,\"rgb(24,15,41)\"],[0.12549019607843137,\"rgb(47,23,57)\"],[0.18823529411764706,\"rgb(71,28,72)\"],[0.25098039215686274,\"rgb(97,30,82)\"],[0.3137254901960784,\"rgb(123,30,89)\"],[0.3764705882352941,\"rgb(150,27,91)\"],[0.4392156862745098,\"rgb(177,22,88)\"],[0.5019607843137255,\"rgb(203,26,79)\"],[0.5647058823529412,\"rgb(223,47,67)\"],[0.6274509803921569,\"rgb(236,76,61)\"],[0.6901960784313725,\"rgb(242,107,73)\"],[0.7529411764705882,\"rgb(244,135,95)\"],[0.8156862745098039,\"rgb(245,162,122)\"],[0.8784313725490196,\"rgb(246,188,153)\"],[0.9411764705882353,\"rgb(247,212,187)\"],[1.0,\"rgb(250,234,220)\"]],\"type\":\"histogram2dcontour\"}],\"mesh3d\":[{\"colorbar\":{\"outlinewidth\":0,\"tickcolor\":\"rgb(36,36,36)\",\"ticklen\":8,\"ticks\":\"outside\",\"tickwidth\":2},\"type\":\"mesh3d\"}],\"parcoords\":[{\"line\":{\"colorbar\":{\"outlinewidth\":0,\"tickcolor\":\"rgb(36,36,36)\",\"ticklen\":8,\"ticks\":\"outside\",\"tickwidth\":2}},\"type\":\"parcoords\"}],\"pie\":[{\"automargin\":true,\"type\":\"pie\"}],\"scatter\":[{\"marker\":{\"colorbar\":{\"outlinewidth\":0,\"tickcolor\":\"rgb(36,36,36)\",\"ticklen\":8,\"ticks\":\"outside\",\"tickwidth\":2}},\"type\":\"scatter\"}],\"scatter3d\":[{\"line\":{\"colorbar\":{\"outlinewidth\":0,\"tickcolor\":\"rgb(36,36,36)\",\"ticklen\":8,\"ticks\":\"outside\",\"tickwidth\":2}},\"marker\":{\"colorbar\":{\"outlinewidth\":0,\"tickcolor\":\"rgb(36,36,36)\",\"ticklen\":8,\"ticks\":\"outside\",\"tickwidth\":2}},\"type\":\"scatter3d\"}],\"scattercarpet\":[{\"marker\":{\"colorbar\":{\"outlinewidth\":0,\"tickcolor\":\"rgb(36,36,36)\",\"ticklen\":8,\"ticks\":\"outside\",\"tickwidth\":2}},\"type\":\"scattercarpet\"}],\"scattergeo\":[{\"marker\":{\"colorbar\":{\"outlinewidth\":0,\"tickcolor\":\"rgb(36,36,36)\",\"ticklen\":8,\"ticks\":\"outside\",\"tickwidth\":2}},\"type\":\"scattergeo\"}],\"scattergl\":[{\"marker\":{\"colorbar\":{\"outlinewidth\":0,\"tickcolor\":\"rgb(36,36,36)\",\"ticklen\":8,\"ticks\":\"outside\",\"tickwidth\":2}},\"type\":\"scattergl\"}],\"scattermapbox\":[{\"marker\":{\"colorbar\":{\"outlinewidth\":0,\"tickcolor\":\"rgb(36,36,36)\",\"ticklen\":8,\"ticks\":\"outside\",\"tickwidth\":2}},\"type\":\"scattermapbox\"}],\"scatterpolar\":[{\"marker\":{\"colorbar\":{\"outlinewidth\":0,\"tickcolor\":\"rgb(36,36,36)\",\"ticklen\":8,\"ticks\":\"outside\",\"tickwidth\":2}},\"type\":\"scatterpolar\"}],\"scatterpolargl\":[{\"marker\":{\"colorbar\":{\"outlinewidth\":0,\"tickcolor\":\"rgb(36,36,36)\",\"ticklen\":8,\"ticks\":\"outside\",\"tickwidth\":2}},\"type\":\"scatterpolargl\"}],\"scatterternary\":[{\"marker\":{\"colorbar\":{\"outlinewidth\":0,\"tickcolor\":\"rgb(36,36,36)\",\"ticklen\":8,\"ticks\":\"outside\",\"tickwidth\":2}},\"type\":\"scatterternary\"}],\"surface\":[{\"colorbar\":{\"outlinewidth\":0,\"tickcolor\":\"rgb(36,36,36)\",\"ticklen\":8,\"ticks\":\"outside\",\"tickwidth\":2},\"colorscale\":[[0.0,\"rgb(2,4,25)\"],[0.06274509803921569,\"rgb(24,15,41)\"],[0.12549019607843137,\"rgb(47,23,57)\"],[0.18823529411764706,\"rgb(71,28,72)\"],[0.25098039215686274,\"rgb(97,30,82)\"],[0.3137254901960784,\"rgb(123,30,89)\"],[0.3764705882352941,\"rgb(150,27,91)\"],[0.4392156862745098,\"rgb(177,22,88)\"],[0.5019607843137255,\"rgb(203,26,79)\"],[0.5647058823529412,\"rgb(223,47,67)\"],[0.6274509803921569,\"rgb(236,76,61)\"],[0.6901960784313725,\"rgb(242,107,73)\"],[0.7529411764705882,\"rgb(244,135,95)\"],[0.8156862745098039,\"rgb(245,162,122)\"],[0.8784313725490196,\"rgb(246,188,153)\"],[0.9411764705882353,\"rgb(247,212,187)\"],[1.0,\"rgb(250,234,220)\"]],\"type\":\"surface\"}],\"table\":[{\"cells\":{\"fill\":{\"color\":\"rgb(231,231,240)\"},\"line\":{\"color\":\"white\"}},\"header\":{\"fill\":{\"color\":\"rgb(183,183,191)\"},\"line\":{\"color\":\"white\"}},\"type\":\"table\"}]},\"layout\":{\"annotationdefaults\":{\"arrowcolor\":\"rgb(67,103,167)\"},\"autotypenumbers\":\"strict\",\"coloraxis\":{\"colorbar\":{\"outlinewidth\":0,\"tickcolor\":\"rgb(36,36,36)\",\"ticklen\":8,\"ticks\":\"outside\",\"tickwidth\":2}},\"colorscale\":{\"sequential\":[[0.0,\"rgb(2,4,25)\"],[0.06274509803921569,\"rgb(24,15,41)\"],[0.12549019607843137,\"rgb(47,23,57)\"],[0.18823529411764706,\"rgb(71,28,72)\"],[0.25098039215686274,\"rgb(97,30,82)\"],[0.3137254901960784,\"rgb(123,30,89)\"],[0.3764705882352941,\"rgb(150,27,91)\"],[0.4392156862745098,\"rgb(177,22,88)\"],[0.5019607843137255,\"rgb(203,26,79)\"],[0.5647058823529412,\"rgb(223,47,67)\"],[0.6274509803921569,\"rgb(236,76,61)\"],[0.6901960784313725,\"rgb(242,107,73)\"],[0.7529411764705882,\"rgb(244,135,95)\"],[0.8156862745098039,\"rgb(245,162,122)\"],[0.8784313725490196,\"rgb(246,188,153)\"],[0.9411764705882353,\"rgb(247,212,187)\"],[1.0,\"rgb(250,234,220)\"]],\"sequentialminus\":[[0.0,\"rgb(2,4,25)\"],[0.06274509803921569,\"rgb(24,15,41)\"],[0.12549019607843137,\"rgb(47,23,57)\"],[0.18823529411764706,\"rgb(71,28,72)\"],[0.25098039215686274,\"rgb(97,30,82)\"],[0.3137254901960784,\"rgb(123,30,89)\"],[0.3764705882352941,\"rgb(150,27,91)\"],[0.4392156862745098,\"rgb(177,22,88)\"],[0.5019607843137255,\"rgb(203,26,79)\"],[0.5647058823529412,\"rgb(223,47,67)\"],[0.6274509803921569,\"rgb(236,76,61)\"],[0.6901960784313725,\"rgb(242,107,73)\"],[0.7529411764705882,\"rgb(244,135,95)\"],[0.8156862745098039,\"rgb(245,162,122)\"],[0.8784313725490196,\"rgb(246,188,153)\"],[0.9411764705882353,\"rgb(247,212,187)\"],[1.0,\"rgb(250,234,220)\"]]},\"colorway\":[\"rgb(76,114,176)\",\"rgb(221,132,82)\",\"rgb(85,168,104)\",\"rgb(196,78,82)\",\"rgb(129,114,179)\",\"rgb(147,120,96)\",\"rgb(218,139,195)\",\"rgb(140,140,140)\",\"rgb(204,185,116)\",\"rgb(100,181,205)\"],\"font\":{\"color\":\"rgb(36,36,36)\"},\"geo\":{\"bgcolor\":\"white\",\"lakecolor\":\"white\",\"landcolor\":\"rgb(234,234,242)\",\"showlakes\":true,\"showland\":true,\"subunitcolor\":\"white\"},\"hoverlabel\":{\"align\":\"left\"},\"hovermode\":\"closest\",\"paper_bgcolor\":\"white\",\"plot_bgcolor\":\"rgb(234,234,242)\",\"polar\":{\"angularaxis\":{\"gridcolor\":\"white\",\"linecolor\":\"white\",\"showgrid\":true,\"ticks\":\"\"},\"bgcolor\":\"rgb(234,234,242)\",\"radialaxis\":{\"gridcolor\":\"white\",\"linecolor\":\"white\",\"showgrid\":true,\"ticks\":\"\"}},\"scene\":{\"xaxis\":{\"backgroundcolor\":\"rgb(234,234,242)\",\"gridcolor\":\"white\",\"gridwidth\":2,\"linecolor\":\"white\",\"showbackground\":true,\"showgrid\":true,\"ticks\":\"\",\"zerolinecolor\":\"white\"},\"yaxis\":{\"backgroundcolor\":\"rgb(234,234,242)\",\"gridcolor\":\"white\",\"gridwidth\":2,\"linecolor\":\"white\",\"showbackground\":true,\"showgrid\":true,\"ticks\":\"\",\"zerolinecolor\":\"white\"},\"zaxis\":{\"backgroundcolor\":\"rgb(234,234,242)\",\"gridcolor\":\"white\",\"gridwidth\":2,\"linecolor\":\"white\",\"showbackground\":true,\"showgrid\":true,\"ticks\":\"\",\"zerolinecolor\":\"white\"}},\"shapedefaults\":{\"fillcolor\":\"rgb(67,103,167)\",\"line\":{\"width\":0},\"opacity\":0.5},\"ternary\":{\"aaxis\":{\"gridcolor\":\"white\",\"linecolor\":\"white\",\"showgrid\":true,\"ticks\":\"\"},\"baxis\":{\"gridcolor\":\"white\",\"linecolor\":\"white\",\"showgrid\":true,\"ticks\":\"\"},\"bgcolor\":\"rgb(234,234,242)\",\"caxis\":{\"gridcolor\":\"white\",\"linecolor\":\"white\",\"showgrid\":true,\"ticks\":\"\"}},\"xaxis\":{\"automargin\":true,\"gridcolor\":\"white\",\"linecolor\":\"white\",\"showgrid\":true,\"ticks\":\"\",\"title\":{\"standoff\":15},\"zerolinecolor\":\"white\"},\"yaxis\":{\"automargin\":true,\"gridcolor\":\"white\",\"linecolor\":\"white\",\"showgrid\":true,\"ticks\":\"\",\"title\":{\"standoff\":15},\"zerolinecolor\":\"white\"}}}},                        {\"responsive\": true}                    ).then(function(){\n                            \nvar gd = document.getElementById('10cd913e-f2bb-4b49-bf17-87be9f51124f');\nvar x = new MutationObserver(function (mutations, observer) {{\n        var display = window.getComputedStyle(gd).display;\n        if (!display || display === 'none') {{\n            console.log([gd, 'removed!']);\n            Plotly.purge(gd);\n            observer.disconnect();\n        }}\n}});\n\n// Listen for the removal of the full notebook cells\nvar notebookContainer = gd.closest('#notebook-container');\nif (notebookContainer) {{\n    x.observe(notebookContainer, {childList: true});\n}}\n\n// Listen for the clearing of the current output cell\nvar outputEl = gd.closest('.output');\nif (outputEl) {{\n    x.observe(outputEl, {childList: true});\n}}\n\n                        })                };                            </script>        </div>\n</body>\n</html>"
     },
     "metadata": {},
     "output_type": "display_data"
    }
   ],
   "execution_count": null
  },
  {
   "cell_type": "code",
   "source": "px.scatter_matrix(patients, \n                  dimensions=['eGFRCKD2', 'eGFRCG', 'X67',\n       'NRAS_MUTATION', 'NRAS_MUT_TYPE', 'BRAF_MUTATION', 'BRAF_MUT_TYPE',\n       'concomittant_tvec', 'concomittant_LAG3', 'prior_targeted_therapy',\n       'prior_treatment', 'immuno_therapy_type', 'nivo_maintenance']) \\\n    .update_layout(legend=top_h_legend)",
   "metadata": {
    "tags": [],
    "deepnote_app_coordinates": {
     "x": 0,
     "y": 0,
     "w": 12,
     "h": 5
    },
    "cell_id": "00050-254e96b5-1a9e-4c58-9dd7-43a38fb41a94",
    "deepnote_to_be_reexecuted": false,
    "source_hash": "1f4e2efe",
    "allow_embed": false,
    "execution_start": 1633941557025,
    "execution_millis": 38,
    "deepnote_cell_type": "code"
   },
   "outputs": [
    {
     "data": {
      "text/html": "<html>\n<head><meta charset=\"utf-8\" /></head>\n<body>\n    <div>            <script src=\"https://cdnjs.cloudflare.com/ajax/libs/mathjax/2.7.5/MathJax.js?config=TeX-AMS-MML_SVG\"></script><script type=\"text/javascript\">if (window.MathJax) {MathJax.Hub.Config({SVG: {font: \"STIX-Web\"}});}</script>                <script type=\"text/javascript\">window.PlotlyConfig = {MathJaxConfig: 'local'};</script>\n        <script src=\"https://cdn.plot.ly/plotly-2.4.2.min.js\"></script>                <div id=\"3eaea3d6-6af4-4a1b-ad59-e4d8f7993841\" class=\"plotly-graph-div\" style=\"height:525px; width:100%;\"></div>            <script type=\"text/javascript\">                                    window.PLOTLYENV=window.PLOTLYENV || {};                                    if (document.getElementById(\"3eaea3d6-6af4-4a1b-ad59-e4d8f7993841\")) {                    Plotly.newPlot(                        \"3eaea3d6-6af4-4a1b-ad59-e4d8f7993841\",                        [{\"dimensions\":[{\"axis\":{\"matches\":true},\"label\":\"eGFRCKD2\",\"values\":[91.3012731094802,81.4737026502211,102.051173724929,90.311606534449,null,85.2379387529555,95.2768408381458,88.6107197896835,null,null,59.294081586576,85.5428008398449,null,64.3122279821491,87.912264370709,null,103.079646428764,91.4434312670064,79.7322162193971,null,83.9207539514962,null,59.8376222072807,93.4940675892377,44.9786937919724,105.42750065557,49.0224966716174,78.1622628934595,79.7389058825012,71.2477258238301,78.3887112783627,null,65.4520509020794,98.8368387844948,71.1091863253966,82.1574635759561,null,87.6065005241589,100.160637996913,79.355613945086,65.0796628250396,null,82.8340043605144,85.1857123559033,80.7350084982483,null,85.6250618099183,94.494015531592,88.965879959214,40.9604823925442,null,89.2477134133144,84.5215696475019,40.2096592787362,null,null,89.4700108907376,100.926056579341,null,106.533280369152,82.5319465586805,50.1328210668087,null,37.2688033961539,74.3288248800851,89.7798320415497,null,94.9505526805121,117.105239166265,43.9410767979475,null,77.6816399237078,86.2764139465568,null,null,98.1584439646674,88.1019338484825,47.2576361609959,null,22.5798889792952,71.9869056344089,92.9996521865484,8.28365453034613,84.2251636309632,78.4282315360185,null,null,72.990951370315,null,118.635218733357,56.5154409837111,91.2642374223085,55.7678896152956,84.5374198444643,102.961047643513,46.4746449984288,null,101.745054756055,null,65.6107728857045,90.4058932718277,99.5511693552113,null,null,85.8181983309247,68.3782279309631,93.0907495396283,91.2368497030121,92.958262948731,91.3863571219421,113.886597827214,null,null,92.7391410355741,115.322290077787,null,80.4289389417687,38.9700896277847,87.4906428074367,65.9121564479439,89.9483744477383,120.7986294738,77.7367969868936,null,84.5391474361176,96.3907428811338,null,89.3514539302039,null,93.8987505006072,null,87.3460562310918,null,null,74.1279228301848,79.8687820616813,null,68.619104890451,61.9733499770492,104.423542556592,101.734728831269,87.1864901644445,81.0642710188807,76.3695510864652,90.255870694246,91.6209351669494]},{\"axis\":{\"matches\":true},\"label\":\"eGFRCG\",\"values\":[90.4377515351913,65.1988779390717,114.748328767123,84.0169489121676,null,106.575379996247,131.535815550839,98.4051014492754,null,null,67.2990337718703,71.8223222914072,null,98.6961295143213,66.1100989656136,null,118.908622078969,91.0840273972603,108.854688154714,null,74.3211226788432,null,68.1888005345807,93.37504,47.9825910336239,126.172052054795,65.9293110254023,74.3349728071969,90.6134553305539,56.8898052084901,55.2522417405318,null,66.8617450863609,119.711503860523,61.0850230622507,122.44028554891,null,78.2260378012832,110.344960861057,63.4994794520548,46.4749881278539,null,70.4501876712329,86.5433715970175,76.0441232876712,null,88.5813913043478,125.16022260274,88.6083079774375,42.3264318046456,null,119.506266438356,113.654589041096,31.8718898021309,null,null,82.3048819726028,114.310060750447,null,142.986792237443,78.364852760233,52.6701234008831,null,47.0793327245053,54.2496273972603,126.23742739726,null,103.582701595046,108.991800048065,75.8503353097526,null,80.0254207436399,90.9874263094279,null,null,105.136643835616,73.2005880234834,38.2236756164384,null,27.0982096818207,72.2803729562528,110.864740348692,7.44532602739726,82.7425522710887,74.9902837573385,null,null,53.872172564152,null,108.71556814488,52.4317407283662,75.602439239947,76.1296009529482,71.9773168080017,108.89715851272,53.2209837328767,null,102.754440704501,null,68.641899543379,75.4860309323906,102.730676093681,null,null,81.9563835616438,76.1215763962065,83.8904362753598,102.355332372026,89.1773952157023,155.599729988447,162.709014120126,null,null,90.481875,136.857763763246,null,105.3179543379,40.0003409436834,152.803846153846,74.1268767123288,74.1011575342466,97.3481532389134,107.364472146119,null,84.7078887874175,123.783719968388,null,74.5578082191781,null,87.2071500761035,null,73.1601704586063,null,null,66.4922648401826,74.614495890411,null,103.935242839352,39.3175839174524,101.372547945205,93.7469178082192,null,82.4382727814175,73.2970479452055,52.5130005955926,86.8613698630137]},{\"axis\":{\"matches\":true},\"label\":\"X67\",\"values\":[136.0,140.0,null,139.0,null,140.0,134.0,null,null,null,null,140.0,null,143.0,137.0,null,142.0,144.0,138.0,null,142.0,null,142.0,139.0,139.0,140.0,138.0,143.0,137.0,138.0,139.0,null,null,137.0,141.0,141.0,null,142.0,141.0,null,143.0,null,141.0,143.0,139.0,null,138.0,143.0,null,138.0,null,139.0,142.0,147.0,null,143.0,139.0,137.0,null,141.0,139.0,139.0,null,141.0,142.0,140.0,null,141.0,143.0,143.0,null,141.0,137.0,null,null,140.0,137.0,130.0,null,137.0,143.0,141.0,145.0,139.0,137.0,null,null,145.0,null,141.0,140.0,139.0,145.0,141.0,141.0,137.0,null,138.0,null,140.0,144.0,144.0,null,null,null,138.0,142.0,141.0,138.0,136.0,143.0,null,null,141.0,142.0,null,null,140.0,null,140.0,136.0,141.0,140.0,null,141.0,140.0,null,141.0,null,142.0,null,141.0,null,null,135.0,null,null,144.0,135.0,139.0,139.0,144.0,141.0,131.0,139.0,138.0]},{\"axis\":{\"matches\":true},\"label\":\"NRAS_MUTATION\",\"values\":[null,\"y\",\"n\",\"n\",\"y\",\"n\",\"y\",\"n\",\"y\",\"y\",null,null,\"n\",\"n\",null,\"n\",\"n\",\"n\",\"y\",\"n\",\"n\",\"y\",\"n\",\"y\",\"y\",\"n\",\"y\",\"n\",\"y\",\"n\",\"y\",\"y\",\"n\",\"y\",\"n\",null,\"n\",\"y\",\"n\",\"n\",null,\"y\",\"y\",\"y\",\"y\",\"y\",\"n\",\"n\",\"n\",\"n\",\"n\",\"n\",\"n\",\"n\",\"n\",\"n\",\"y\",null,null,\"n\",\"n\",\"y\",\"n\",\"y\",\"n\",\"n\",\"n\",\"n\",\"y\",\"y\",\"n\",\"n\",\"n\",\"y\",\"n\",\"y\",\"y\",\"y\",\"n\",\"n\",\"n\",\"y\",\"n\",\"n\",\"y\",\"n\",\"y\",\"n\",\"n\",\"n\",\"n\",\"n\",\"y\",\"y\",\"n\",\"y\",\"n\",\"n\",\"y\",\"y\",\"n\",\"n\",\"n\",\"y\",\"n\",\"y\",\"n\",\"n\",\"n\",\"n\",\"n\",\"n\",\"n\",\"y\",\"n\",\"n\",\"n\",null,\"y\",\"n\",\"y\",\"n\",\"n\",\"n\",\"n\",\"n\",\"n\",\"n\",\"n\",\"n\",\"y\",\"n\",null,\"n\",\"n\",\"n\",\"y\",\"n\",\"n\",null,\"n\",\"n\",\"n\",\"n\",\"n\",\"n\"]},{\"axis\":{\"matches\":true},\"label\":\"NRAS_MUT_TYPE\",\"values\":[null,null,null,null,\"Q61R\",null,\"Q61K\",null,\"Q61K\",\"Q61K\",null,null,null,null,null,null,null,null,\"Q61K\",null,null,null,null,\"Q61R\",\"Q61R\",null,\"Q61K\",null,\"Q61L\",null,\"Q61K\",\"Q61L\",null,null,null,null,null,\"Q61L\",null,null,null,\"G12D\",\"Q61K\",\"Q61R\",\"Q61H\",\"Q61R\",null,null,null,null,null,null,null,null,null,null,\"Q61R\",null,null,null,null,\"Q61K\",null,\"G12D\",null,null,null,null,\"Q61R\",\"Q61R\",null,null,null,\"Q61K\",null,\"Q61R\",\"Q61R\",\"Q61R\",null,null,null,\"Q61L\",null,null,\"Q61K\",null,\"Q61K\",null,null,null,null,null,\"Q61R\",\"Q61K\",null,\"Q61K\",null,null,\"Q61R\",\"Q61R\",null,null,null,\"Q61K\",null,\"Q61R\",null,null,null,null,null,null,null,\"Q61R\",null,null,null,null,null,null,\"G12C\",null,null,null,null,null,null,null,null,null,\"Q61K\",null,null,null,null,null,\"Q61K\",null,null,null,null,null,null,null,null,null]},{\"axis\":{\"matches\":true},\"label\":\"BRAF_MUTATION\",\"values\":[\"n\",\"n\",\"n\",\"n\",\"n\",\"y\",\"n\",\"y\",\"n\",\"n\",\"n\",\"n\",\"y\",\"y\",null,\"n\",\"y\",\"n\",\"n\",\"y\",\"y\",\"n\",\"y\",\"n\",\"n\",\"y\",\"n\",\"n\",\"n\",\"n\",\"n\",\"n\",\"n\",\"n\",\"n\",null,\"y\",\"n\",\"y\",\"y\",\"y\",\"n\",\"n\",\"n\",\"n\",\"n\",\"y\",\"n\",\"y\",\"n\",\"y\",\"y\",\"n\",\"n\",\"n\",\"y\",\"n\",\"y\",\"n\",\"y\",\"n\",\"n\",\"y\",\"n\",\"n\",\"y\",\"n\",\"y\",\"n\",\"n\",\"y\",\"y\",\"n\",\"n\",\"y\",\"n\",\"n\",\"n\",\"y\",\"y\",\"n\",\"n\",\"n\",\"n\",\"n\",\"y\",\"n\",\"n\",\"y\",null,\"y\",\"y\",\"n\",\"n\",\"y\",\"n\",\"y\",\"y\",\"n\",\"n\",\"n\",\"n\",\"y\",\"y\",\"y\",\"n\",\"n\",\"y\",\"n\",\"n\",\"y\",\"y\",\"y\",\"n\",\"y\",\"y\",\"y\",\"y\",\"n\",\"y\",\"n\",\"y\",\"y\",\"n\",\"y\",\"y\",\"y\",\"n\",\"y\",\"y\",\"n\",\"y\",\"n\",\"y\",null,\"y\",\"n\",\"n\",\"y\",\"y\",\"y\",\"y\",\"n\",\"n\",\"n\",\"n\"]},{\"axis\":{\"matches\":true},\"label\":\"BRAF_MUT_TYPE\",\"values\":[null,null,null,null,null,\"G469R\",null,\"V600E\",null,null,null,null,\"V600E\",\"V600E\",null,null,\"V600E\",null,null,\"V600E\",\"V600E\",null,\"V600E\",null,null,\"V600E\",null,null,null,null,null,null,null,null,null,null,\"L597Q\",null,\"V600E\",\"V600E\",\"V600K\",null,null,null,null,null,\"V600E\",null,\"V600E\",null,\"V600K\",\"K601E\",null,null,null,\"V600K\",null,\"V600E\",null,\"V600E\",null,null,\"G464R\",null,null,\"V600E\",null,\"V600E\",null,null,\"V600K\",\"V600E\",null,null,\"V600E\",null,null,null,\"V600E\",\"V600E\",null,null,null,null,null,\"V600E\",null,null,\"L597Q\",null,\"V600E\",\"V600E\",null,null,\"V600E\",null,\"V600E\",\"V600E\",null,null,null,null,\"V600K\",\"V600E\",\"V600E\",null,null,\"V600E\",null,null,\"V600E\",\"V600K\",\"V600E\",null,\"V600E\",\"V600E\",\"V600E\",\"V600E\",null,\"V600K\",null,\"V600E\",\"V600E\",null,\"V600E\",\"V600E\",\"V600K\",null,\"G466E\",\"V600E\",null,\"V600E\",null,\"V600K\",null,\"V600E\",null,null,\"V600K\",\"L584F\",\"V600E\",\"L597R\",null,null,null,null]},{\"axis\":{\"matches\":true},\"label\":\"concomittant_tvec\",\"values\":[0,0,0,0,0,0,0,0,0,0,0,0,0,0,0,0,0,0,1,0,0,0,0,0,0,0,0,0,0,0,0,0,0,0,0,0,0,0,0,0,0,0,0,0,0,0,0,0,0,0,0,0,0,0,0,0,0,0,0,0,0,0,0,0,0,0,0,0,0,1,0,0,0,0,0,0,0,0,0,0,0,0,0,0,0,0,0,0,0,0,0,0,0,0,0,0,0,0,0,0,0,0,0,0,0,0,0,0,1,0,0,0,0,0,0,0,0,1,0,0,0,0,0,0,0,0,0,0,0,0,0,0,0,0,0,0,0,0,0,0,0,0,0,0,0,0]},{\"axis\":{\"matches\":true},\"label\":\"concomittant_LAG3\",\"values\":[0,0,0,0,0,0,0,0,0,0,0,0,0,0,0,0,0,0,0,0,0,0,0,0,0,0,0,0,0,0,0,0,0,0,0,0,0,0,0,0,0,0,0,0,0,0,0,0,0,0,0,0,0,0,0,0,0,0,0,0,0,0,0,0,0,0,0,0,0,0,0,0,0,0,0,0,0,0,0,0,0,0,0,0,0,0,0,0,0,0,0,0,0,0,0,0,0,0,0,0,0,0,0,0,0,0,0,0,0,0,0,0,0,0,0,0,0,0,0,0,0,0,0,0,0,0,1,0,0,0,0,0,0,0,0,0,0,0,0,0,0,0,0,0,0,0]},{\"axis\":{\"matches\":true},\"label\":\"prior_targeted_therapy\",\"values\":[0,0,0,0,0,0,0,0,0,0,0,0,0,0,0,0,0,0,0,0,1,0,0,0,0,0,1,0,0,0,0,0,0,0,0,0,0,0,0,0,0,0,0,0,0,0,0,0,0,0,0,0,0,0,0,0,0,0,0,0,0,0,0,0,0,0,0,0,0,0,0,0,0,0,0,0,0,0,0,1,0,0,0,0,0,0,0,0,0,0,0,0,0,0,0,0,0,0,0,0,0,0,1,1,0,0,0,0,0,0,0,0,0,0,1,0,0,0,0,0,0,0,0,0,1,0,0,0,0,0,0,0,0,0,0,0,0,0,0,0,0,0,0,0,0,0]},{\"axis\":{\"matches\":true},\"label\":\"prior_treatment\",\"values\":[0,0,0,0,0,0,0,0,0,0,0,0,0,0,0,0,0,0,0,0,1,0,0,0,0,0,1,0,0,0,0,0,0,0,0,0,0,0,0,0,0,0,0,0,0,0,0,0,0,0,0,0,0,0,0,0,0,0,0,0,0,0,0,0,0,0,0,0,0,0,0,0,0,0,0,0,0,0,0,1,1,0,0,0,0,0,0,0,0,0,0,0,0,0,0,0,1,0,0,0,1,0,1,1,0,0,0,0,0,0,0,0,0,0,1,0,0,0,0,0,0,0,0,0,1,0,0,0,0,0,0,0,0,0,0,0,0,0,0,0,0,0,0,0,0,0]},{\"axis\":{\"matches\":true},\"label\":\"immuno_therapy_type\",\"values\":[\"ipinivo\",\"ipi\",\"ipinivo\",\"ipi\",\"ipinivo\",\"pembro\",\"pembro\",\"ipinivo\",\"ipi\",\"pembro\",\"pembro\",\"nivo\",\"ipinivo\",\"ipinivo\",\"ipinivo\",\"ipinivo\",\"pembro\",\"pembro\",\"pembro\",\"ipi\",\"ipi\",\"ipi\",\"pembro\",\"ipinivo\",\"pembro\",\"ipinivo\",\"ipi\",\"ipinivo\",\"ipinivo\",\"ipinivo\",\"ipi\",\"ipinivo\",\"pembro\",\"pembro\",\"ipi\",\"nivo\",\"pembro\",\"pembro\",\"ipi\",\"ipinivo\",\"ipi\",\"ipinivo\",\"ipinivo\",\"ipinivo\",\"ipinivo\",\"ipi\",\"pembro\",\"ipinivo\",\"ipinivo\",\"pembro\",\"pembro\",\"pembro\",\"ipinivo\",\"nivo\",\"ipinivo\",\"ipinivo\",\"ipinivo\",\"ipinivo\",\"ipinivo\",\"ipinivo\",\"ipinivo\",\"ipinivo\",\"ipinivo\",\"pembro\",\"ipi\",\"ipinivo\",\"ipi\",\"ipinivo\",\"ipinivo\",\"pembro\",\"pembro\",\"ipinivo\",\"pembro\",\"pembro\",\"pembro\",\"ipinivo\",\"pembro\",\"pembro\",\"pembro\",\"pembro\",\"ipi\",\"nivo\",\"pembro\",\"ipi\",\"pembro\",\"ipinivo\",\"ipinivo\",\"pembro\",\"ipinivo\",\"ipi\",\"pembro\",\"ipinivo\",\"ipi\",\"ipi\",\"ipinivo\",\"ipi\",\"ipi\",\"ipi\",\"ipi\",\"ipinivo\",\"ipi\",\"pembro\",\"ipi\",\"ipinivo\",\"ipinivo\",\"ipi\",\"ipi\",\"ipi\",\"pembro\",\"pembro\",\"ipinivo\",\"ipi\",\"ipinivo\",\"ipi\",\"ipinivo\",\"ipinivo\",\"ipinivo\",\"pembro\",\"ipinivo\",\"ipinivo\",\"ipinivo\",\"ipinivo\",\"ipinivo\",\"pembro\",\"pembro\",\"ipinivo\",\"nivo\",\"ipinivo\",\"ipinivo\",\"ipinivo\",\"pembro\",\"ipinivo\",\"ipinivo\",\"ipinivo\",\"ipinivo\",\"ipinivo\",\"ipinivo\",\"pembro\",\"pembro\",\"ipinivo\",\"ipinivo\",\"ipinivo\",\"nivo\",\"pembro\",\"pembro\",\"ipinivo\"]},{\"axis\":{\"matches\":true},\"label\":\"nivo_maintenance\",\"values\":[1,0,0,0,0,0,0,1,0,0,0,0,1,0,1,1,0,0,0,0,0,0,0,0,0,1,0,1,1,1,0,1,0,0,0,0,0,0,0,0,0,1,1,1,0,0,0,0,0,0,0,0,0,0,0,0,0,1,0,0,1,0,1,0,0,0,0,0,1,0,0,1,0,0,0,0,0,0,0,0,0,0,0,0,0,0,1,0,1,0,0,0,0,0,1,0,0,0,0,1,0,0,0,0,1,0,0,0,0,0,0,0,1,0,0,1,0,0,0,1,0,0,0,0,0,0,0,1,1,0,0,1,0,0,0,0,1,0,0,1,0,0,0,0,0,1]}],\"hovertemplate\":\"%{xaxis.title.text}=%{x}<br>%{yaxis.title.text}=%{y}<extra></extra>\",\"legendgroup\":\"\",\"marker\":{\"color\":\"rgb(76,114,176)\",\"symbol\":\"circle\"},\"name\":\"\",\"showlegend\":false,\"type\":\"splom\"}],                        {\"dragmode\":\"select\",\"legend\":{\"orientation\":\"h\",\"tracegroupgap\":0,\"y\":1.02,\"yanchor\":\"bottom\"},\"margin\":{\"t\":60},\"template\":{\"data\":{\"bar\":[{\"error_x\":{\"color\":\"rgb(36,36,36)\"},\"error_y\":{\"color\":\"rgb(36,36,36)\"},\"marker\":{\"line\":{\"color\":\"rgb(234,234,242)\",\"width\":0.5},\"pattern\":{\"fillmode\":\"overlay\",\"size\":10,\"solidity\":0.2}},\"type\":\"bar\"}],\"barpolar\":[{\"marker\":{\"line\":{\"color\":\"rgb(234,234,242)\",\"width\":0.5},\"pattern\":{\"fillmode\":\"overlay\",\"size\":10,\"solidity\":0.2}},\"type\":\"barpolar\"}],\"carpet\":[{\"aaxis\":{\"endlinecolor\":\"rgb(36,36,36)\",\"gridcolor\":\"white\",\"linecolor\":\"white\",\"minorgridcolor\":\"white\",\"startlinecolor\":\"rgb(36,36,36)\"},\"baxis\":{\"endlinecolor\":\"rgb(36,36,36)\",\"gridcolor\":\"white\",\"linecolor\":\"white\",\"minorgridcolor\":\"white\",\"startlinecolor\":\"rgb(36,36,36)\"},\"type\":\"carpet\"}],\"choropleth\":[{\"colorbar\":{\"outlinewidth\":0,\"tickcolor\":\"rgb(36,36,36)\",\"ticklen\":8,\"ticks\":\"outside\",\"tickwidth\":2},\"type\":\"choropleth\"}],\"contour\":[{\"colorbar\":{\"outlinewidth\":0,\"tickcolor\":\"rgb(36,36,36)\",\"ticklen\":8,\"ticks\":\"outside\",\"tickwidth\":2},\"colorscale\":[[0.0,\"rgb(2,4,25)\"],[0.06274509803921569,\"rgb(24,15,41)\"],[0.12549019607843137,\"rgb(47,23,57)\"],[0.18823529411764706,\"rgb(71,28,72)\"],[0.25098039215686274,\"rgb(97,30,82)\"],[0.3137254901960784,\"rgb(123,30,89)\"],[0.3764705882352941,\"rgb(150,27,91)\"],[0.4392156862745098,\"rgb(177,22,88)\"],[0.5019607843137255,\"rgb(203,26,79)\"],[0.5647058823529412,\"rgb(223,47,67)\"],[0.6274509803921569,\"rgb(236,76,61)\"],[0.6901960784313725,\"rgb(242,107,73)\"],[0.7529411764705882,\"rgb(244,135,95)\"],[0.8156862745098039,\"rgb(245,162,122)\"],[0.8784313725490196,\"rgb(246,188,153)\"],[0.9411764705882353,\"rgb(247,212,187)\"],[1.0,\"rgb(250,234,220)\"]],\"type\":\"contour\"}],\"contourcarpet\":[{\"colorbar\":{\"outlinewidth\":0,\"tickcolor\":\"rgb(36,36,36)\",\"ticklen\":8,\"ticks\":\"outside\",\"tickwidth\":2},\"type\":\"contourcarpet\"}],\"heatmap\":[{\"colorbar\":{\"outlinewidth\":0,\"tickcolor\":\"rgb(36,36,36)\",\"ticklen\":8,\"ticks\":\"outside\",\"tickwidth\":2},\"colorscale\":[[0.0,\"rgb(2,4,25)\"],[0.06274509803921569,\"rgb(24,15,41)\"],[0.12549019607843137,\"rgb(47,23,57)\"],[0.18823529411764706,\"rgb(71,28,72)\"],[0.25098039215686274,\"rgb(97,30,82)\"],[0.3137254901960784,\"rgb(123,30,89)\"],[0.3764705882352941,\"rgb(150,27,91)\"],[0.4392156862745098,\"rgb(177,22,88)\"],[0.5019607843137255,\"rgb(203,26,79)\"],[0.5647058823529412,\"rgb(223,47,67)\"],[0.6274509803921569,\"rgb(236,76,61)\"],[0.6901960784313725,\"rgb(242,107,73)\"],[0.7529411764705882,\"rgb(244,135,95)\"],[0.8156862745098039,\"rgb(245,162,122)\"],[0.8784313725490196,\"rgb(246,188,153)\"],[0.9411764705882353,\"rgb(247,212,187)\"],[1.0,\"rgb(250,234,220)\"]],\"type\":\"heatmap\"}],\"heatmapgl\":[{\"colorbar\":{\"outlinewidth\":0,\"tickcolor\":\"rgb(36,36,36)\",\"ticklen\":8,\"ticks\":\"outside\",\"tickwidth\":2},\"colorscale\":[[0.0,\"rgb(2,4,25)\"],[0.06274509803921569,\"rgb(24,15,41)\"],[0.12549019607843137,\"rgb(47,23,57)\"],[0.18823529411764706,\"rgb(71,28,72)\"],[0.25098039215686274,\"rgb(97,30,82)\"],[0.3137254901960784,\"rgb(123,30,89)\"],[0.3764705882352941,\"rgb(150,27,91)\"],[0.4392156862745098,\"rgb(177,22,88)\"],[0.5019607843137255,\"rgb(203,26,79)\"],[0.5647058823529412,\"rgb(223,47,67)\"],[0.6274509803921569,\"rgb(236,76,61)\"],[0.6901960784313725,\"rgb(242,107,73)\"],[0.7529411764705882,\"rgb(244,135,95)\"],[0.8156862745098039,\"rgb(245,162,122)\"],[0.8784313725490196,\"rgb(246,188,153)\"],[0.9411764705882353,\"rgb(247,212,187)\"],[1.0,\"rgb(250,234,220)\"]],\"type\":\"heatmapgl\"}],\"histogram\":[{\"marker\":{\"pattern\":{\"fillmode\":\"overlay\",\"size\":10,\"solidity\":0.2}},\"type\":\"histogram\"}],\"histogram2d\":[{\"colorbar\":{\"outlinewidth\":0,\"tickcolor\":\"rgb(36,36,36)\",\"ticklen\":8,\"ticks\":\"outside\",\"tickwidth\":2},\"colorscale\":[[0.0,\"rgb(2,4,25)\"],[0.06274509803921569,\"rgb(24,15,41)\"],[0.12549019607843137,\"rgb(47,23,57)\"],[0.18823529411764706,\"rgb(71,28,72)\"],[0.25098039215686274,\"rgb(97,30,82)\"],[0.3137254901960784,\"rgb(123,30,89)\"],[0.3764705882352941,\"rgb(150,27,91)\"],[0.4392156862745098,\"rgb(177,22,88)\"],[0.5019607843137255,\"rgb(203,26,79)\"],[0.5647058823529412,\"rgb(223,47,67)\"],[0.6274509803921569,\"rgb(236,76,61)\"],[0.6901960784313725,\"rgb(242,107,73)\"],[0.7529411764705882,\"rgb(244,135,95)\"],[0.8156862745098039,\"rgb(245,162,122)\"],[0.8784313725490196,\"rgb(246,188,153)\"],[0.9411764705882353,\"rgb(247,212,187)\"],[1.0,\"rgb(250,234,220)\"]],\"type\":\"histogram2d\"}],\"histogram2dcontour\":[{\"colorbar\":{\"outlinewidth\":0,\"tickcolor\":\"rgb(36,36,36)\",\"ticklen\":8,\"ticks\":\"outside\",\"tickwidth\":2},\"colorscale\":[[0.0,\"rgb(2,4,25)\"],[0.06274509803921569,\"rgb(24,15,41)\"],[0.12549019607843137,\"rgb(47,23,57)\"],[0.18823529411764706,\"rgb(71,28,72)\"],[0.25098039215686274,\"rgb(97,30,82)\"],[0.3137254901960784,\"rgb(123,30,89)\"],[0.3764705882352941,\"rgb(150,27,91)\"],[0.4392156862745098,\"rgb(177,22,88)\"],[0.5019607843137255,\"rgb(203,26,79)\"],[0.5647058823529412,\"rgb(223,47,67)\"],[0.6274509803921569,\"rgb(236,76,61)\"],[0.6901960784313725,\"rgb(242,107,73)\"],[0.7529411764705882,\"rgb(244,135,95)\"],[0.8156862745098039,\"rgb(245,162,122)\"],[0.8784313725490196,\"rgb(246,188,153)\"],[0.9411764705882353,\"rgb(247,212,187)\"],[1.0,\"rgb(250,234,220)\"]],\"type\":\"histogram2dcontour\"}],\"mesh3d\":[{\"colorbar\":{\"outlinewidth\":0,\"tickcolor\":\"rgb(36,36,36)\",\"ticklen\":8,\"ticks\":\"outside\",\"tickwidth\":2},\"type\":\"mesh3d\"}],\"parcoords\":[{\"line\":{\"colorbar\":{\"outlinewidth\":0,\"tickcolor\":\"rgb(36,36,36)\",\"ticklen\":8,\"ticks\":\"outside\",\"tickwidth\":2}},\"type\":\"parcoords\"}],\"pie\":[{\"automargin\":true,\"type\":\"pie\"}],\"scatter\":[{\"marker\":{\"colorbar\":{\"outlinewidth\":0,\"tickcolor\":\"rgb(36,36,36)\",\"ticklen\":8,\"ticks\":\"outside\",\"tickwidth\":2}},\"type\":\"scatter\"}],\"scatter3d\":[{\"line\":{\"colorbar\":{\"outlinewidth\":0,\"tickcolor\":\"rgb(36,36,36)\",\"ticklen\":8,\"ticks\":\"outside\",\"tickwidth\":2}},\"marker\":{\"colorbar\":{\"outlinewidth\":0,\"tickcolor\":\"rgb(36,36,36)\",\"ticklen\":8,\"ticks\":\"outside\",\"tickwidth\":2}},\"type\":\"scatter3d\"}],\"scattercarpet\":[{\"marker\":{\"colorbar\":{\"outlinewidth\":0,\"tickcolor\":\"rgb(36,36,36)\",\"ticklen\":8,\"ticks\":\"outside\",\"tickwidth\":2}},\"type\":\"scattercarpet\"}],\"scattergeo\":[{\"marker\":{\"colorbar\":{\"outlinewidth\":0,\"tickcolor\":\"rgb(36,36,36)\",\"ticklen\":8,\"ticks\":\"outside\",\"tickwidth\":2}},\"type\":\"scattergeo\"}],\"scattergl\":[{\"marker\":{\"colorbar\":{\"outlinewidth\":0,\"tickcolor\":\"rgb(36,36,36)\",\"ticklen\":8,\"ticks\":\"outside\",\"tickwidth\":2}},\"type\":\"scattergl\"}],\"scattermapbox\":[{\"marker\":{\"colorbar\":{\"outlinewidth\":0,\"tickcolor\":\"rgb(36,36,36)\",\"ticklen\":8,\"ticks\":\"outside\",\"tickwidth\":2}},\"type\":\"scattermapbox\"}],\"scatterpolar\":[{\"marker\":{\"colorbar\":{\"outlinewidth\":0,\"tickcolor\":\"rgb(36,36,36)\",\"ticklen\":8,\"ticks\":\"outside\",\"tickwidth\":2}},\"type\":\"scatterpolar\"}],\"scatterpolargl\":[{\"marker\":{\"colorbar\":{\"outlinewidth\":0,\"tickcolor\":\"rgb(36,36,36)\",\"ticklen\":8,\"ticks\":\"outside\",\"tickwidth\":2}},\"type\":\"scatterpolargl\"}],\"scatterternary\":[{\"marker\":{\"colorbar\":{\"outlinewidth\":0,\"tickcolor\":\"rgb(36,36,36)\",\"ticklen\":8,\"ticks\":\"outside\",\"tickwidth\":2}},\"type\":\"scatterternary\"}],\"surface\":[{\"colorbar\":{\"outlinewidth\":0,\"tickcolor\":\"rgb(36,36,36)\",\"ticklen\":8,\"ticks\":\"outside\",\"tickwidth\":2},\"colorscale\":[[0.0,\"rgb(2,4,25)\"],[0.06274509803921569,\"rgb(24,15,41)\"],[0.12549019607843137,\"rgb(47,23,57)\"],[0.18823529411764706,\"rgb(71,28,72)\"],[0.25098039215686274,\"rgb(97,30,82)\"],[0.3137254901960784,\"rgb(123,30,89)\"],[0.3764705882352941,\"rgb(150,27,91)\"],[0.4392156862745098,\"rgb(177,22,88)\"],[0.5019607843137255,\"rgb(203,26,79)\"],[0.5647058823529412,\"rgb(223,47,67)\"],[0.6274509803921569,\"rgb(236,76,61)\"],[0.6901960784313725,\"rgb(242,107,73)\"],[0.7529411764705882,\"rgb(244,135,95)\"],[0.8156862745098039,\"rgb(245,162,122)\"],[0.8784313725490196,\"rgb(246,188,153)\"],[0.9411764705882353,\"rgb(247,212,187)\"],[1.0,\"rgb(250,234,220)\"]],\"type\":\"surface\"}],\"table\":[{\"cells\":{\"fill\":{\"color\":\"rgb(231,231,240)\"},\"line\":{\"color\":\"white\"}},\"header\":{\"fill\":{\"color\":\"rgb(183,183,191)\"},\"line\":{\"color\":\"white\"}},\"type\":\"table\"}]},\"layout\":{\"annotationdefaults\":{\"arrowcolor\":\"rgb(67,103,167)\"},\"autotypenumbers\":\"strict\",\"coloraxis\":{\"colorbar\":{\"outlinewidth\":0,\"tickcolor\":\"rgb(36,36,36)\",\"ticklen\":8,\"ticks\":\"outside\",\"tickwidth\":2}},\"colorscale\":{\"sequential\":[[0.0,\"rgb(2,4,25)\"],[0.06274509803921569,\"rgb(24,15,41)\"],[0.12549019607843137,\"rgb(47,23,57)\"],[0.18823529411764706,\"rgb(71,28,72)\"],[0.25098039215686274,\"rgb(97,30,82)\"],[0.3137254901960784,\"rgb(123,30,89)\"],[0.3764705882352941,\"rgb(150,27,91)\"],[0.4392156862745098,\"rgb(177,22,88)\"],[0.5019607843137255,\"rgb(203,26,79)\"],[0.5647058823529412,\"rgb(223,47,67)\"],[0.6274509803921569,\"rgb(236,76,61)\"],[0.6901960784313725,\"rgb(242,107,73)\"],[0.7529411764705882,\"rgb(244,135,95)\"],[0.8156862745098039,\"rgb(245,162,122)\"],[0.8784313725490196,\"rgb(246,188,153)\"],[0.9411764705882353,\"rgb(247,212,187)\"],[1.0,\"rgb(250,234,220)\"]],\"sequentialminus\":[[0.0,\"rgb(2,4,25)\"],[0.06274509803921569,\"rgb(24,15,41)\"],[0.12549019607843137,\"rgb(47,23,57)\"],[0.18823529411764706,\"rgb(71,28,72)\"],[0.25098039215686274,\"rgb(97,30,82)\"],[0.3137254901960784,\"rgb(123,30,89)\"],[0.3764705882352941,\"rgb(150,27,91)\"],[0.4392156862745098,\"rgb(177,22,88)\"],[0.5019607843137255,\"rgb(203,26,79)\"],[0.5647058823529412,\"rgb(223,47,67)\"],[0.6274509803921569,\"rgb(236,76,61)\"],[0.6901960784313725,\"rgb(242,107,73)\"],[0.7529411764705882,\"rgb(244,135,95)\"],[0.8156862745098039,\"rgb(245,162,122)\"],[0.8784313725490196,\"rgb(246,188,153)\"],[0.9411764705882353,\"rgb(247,212,187)\"],[1.0,\"rgb(250,234,220)\"]]},\"colorway\":[\"rgb(76,114,176)\",\"rgb(221,132,82)\",\"rgb(85,168,104)\",\"rgb(196,78,82)\",\"rgb(129,114,179)\",\"rgb(147,120,96)\",\"rgb(218,139,195)\",\"rgb(140,140,140)\",\"rgb(204,185,116)\",\"rgb(100,181,205)\"],\"font\":{\"color\":\"rgb(36,36,36)\"},\"geo\":{\"bgcolor\":\"white\",\"lakecolor\":\"white\",\"landcolor\":\"rgb(234,234,242)\",\"showlakes\":true,\"showland\":true,\"subunitcolor\":\"white\"},\"hoverlabel\":{\"align\":\"left\"},\"hovermode\":\"closest\",\"paper_bgcolor\":\"white\",\"plot_bgcolor\":\"rgb(234,234,242)\",\"polar\":{\"angularaxis\":{\"gridcolor\":\"white\",\"linecolor\":\"white\",\"showgrid\":true,\"ticks\":\"\"},\"bgcolor\":\"rgb(234,234,242)\",\"radialaxis\":{\"gridcolor\":\"white\",\"linecolor\":\"white\",\"showgrid\":true,\"ticks\":\"\"}},\"scene\":{\"xaxis\":{\"backgroundcolor\":\"rgb(234,234,242)\",\"gridcolor\":\"white\",\"gridwidth\":2,\"linecolor\":\"white\",\"showbackground\":true,\"showgrid\":true,\"ticks\":\"\",\"zerolinecolor\":\"white\"},\"yaxis\":{\"backgroundcolor\":\"rgb(234,234,242)\",\"gridcolor\":\"white\",\"gridwidth\":2,\"linecolor\":\"white\",\"showbackground\":true,\"showgrid\":true,\"ticks\":\"\",\"zerolinecolor\":\"white\"},\"zaxis\":{\"backgroundcolor\":\"rgb(234,234,242)\",\"gridcolor\":\"white\",\"gridwidth\":2,\"linecolor\":\"white\",\"showbackground\":true,\"showgrid\":true,\"ticks\":\"\",\"zerolinecolor\":\"white\"}},\"shapedefaults\":{\"fillcolor\":\"rgb(67,103,167)\",\"line\":{\"width\":0},\"opacity\":0.5},\"ternary\":{\"aaxis\":{\"gridcolor\":\"white\",\"linecolor\":\"white\",\"showgrid\":true,\"ticks\":\"\"},\"baxis\":{\"gridcolor\":\"white\",\"linecolor\":\"white\",\"showgrid\":true,\"ticks\":\"\"},\"bgcolor\":\"rgb(234,234,242)\",\"caxis\":{\"gridcolor\":\"white\",\"linecolor\":\"white\",\"showgrid\":true,\"ticks\":\"\"}},\"xaxis\":{\"automargin\":true,\"gridcolor\":\"white\",\"linecolor\":\"white\",\"showgrid\":true,\"ticks\":\"\",\"title\":{\"standoff\":15},\"zerolinecolor\":\"white\"},\"yaxis\":{\"automargin\":true,\"gridcolor\":\"white\",\"linecolor\":\"white\",\"showgrid\":true,\"ticks\":\"\",\"title\":{\"standoff\":15},\"zerolinecolor\":\"white\"}}}},                        {\"responsive\": true}                    ).then(function(){\n                            \nvar gd = document.getElementById('3eaea3d6-6af4-4a1b-ad59-e4d8f7993841');\nvar x = new MutationObserver(function (mutations, observer) {{\n        var display = window.getComputedStyle(gd).display;\n        if (!display || display === 'none') {{\n            console.log([gd, 'removed!']);\n            Plotly.purge(gd);\n            observer.disconnect();\n        }}\n}});\n\n// Listen for the removal of the full notebook cells\nvar notebookContainer = gd.closest('#notebook-container');\nif (notebookContainer) {{\n    x.observe(notebookContainer, {childList: true});\n}}\n\n// Listen for the clearing of the current output cell\nvar outputEl = gd.closest('.output');\nif (outputEl) {{\n    x.observe(outputEl, {childList: true});\n}}\n\n                        })                };                            </script>        </div>\n</body>\n</html>"
     },
     "metadata": {},
     "output_type": "display_data"
    }
   ],
   "execution_count": null
  },
  {
   "cell_type": "code",
   "source": "",
   "metadata": {
    "tags": [],
    "deepnote_app_coordinates": {
     "x": 0,
     "y": 0,
     "w": 12,
     "h": 5
    },
    "cell_id": "00050-ddf9a943-c90c-4955-b7fc-d2f8d546aef1",
    "deepnote_cell_type": "code"
   },
   "outputs": [],
   "execution_count": null
  },
  {
   "cell_type": "markdown",
   "source": "<a style='text-decoration:none;line-height:16px;display:flex;color:#5B5B62;padding:10px;justify-content:end;' href='https://deepnote.com?utm_source=created-in-deepnote-cell&projectId=7360151b-146e-499a-b01b-835ca18c34fa' target=\"_blank\">\n<img alt='Created in deepnote.com' style='display:inline;max-height:16px;margin:0px;margin-right:7.5px;' src='data:image/svg+xml;base64,PD94bWwgdmVyc2lvbj0iMS4wIiBlbmNvZGluZz0iVVRGLTgiPz4KPHN2ZyB3aWR0aD0iODBweCIgaGVpZ2h0PSI4MHB4IiB2aWV3Qm94PSIwIDAgODAgODAiIHZlcnNpb249IjEuMSIgeG1sbnM9Imh0dHA6Ly93d3cudzMub3JnLzIwMDAvc3ZnIiB4bWxuczp4bGluaz0iaHR0cDovL3d3dy53My5vcmcvMTk5OS94bGluayI+CiAgICA8IS0tIEdlbmVyYXRvcjogU2tldGNoIDU0LjEgKDc2NDkwKSAtIGh0dHBzOi8vc2tldGNoYXBwLmNvbSAtLT4KICAgIDx0aXRsZT5Hcm91cCAzPC90aXRsZT4KICAgIDxkZXNjPkNyZWF0ZWQgd2l0aCBTa2V0Y2guPC9kZXNjPgogICAgPGcgaWQ9IkxhbmRpbmciIHN0cm9rZT0ibm9uZSIgc3Ryb2tlLXdpZHRoPSIxIiBmaWxsPSJub25lIiBmaWxsLXJ1bGU9ImV2ZW5vZGQiPgogICAgICAgIDxnIGlkPSJBcnRib2FyZCIgdHJhbnNmb3JtPSJ0cmFuc2xhdGUoLTEyMzUuMDAwMDAwLCAtNzkuMDAwMDAwKSI+CiAgICAgICAgICAgIDxnIGlkPSJHcm91cC0zIiB0cmFuc2Zvcm09InRyYW5zbGF0ZSgxMjM1LjAwMDAwMCwgNzkuMDAwMDAwKSI+CiAgICAgICAgICAgICAgICA8cG9seWdvbiBpZD0iUGF0aC0yMCIgZmlsbD0iIzAyNjVCNCIgcG9pbnRzPSIyLjM3NjIzNzYyIDgwIDM4LjA0NzY2NjcgODAgNTcuODIxNzgyMiA3My44MDU3NTkyIDU3LjgyMTc4MjIgMzIuNzU5MjczOSAzOS4xNDAyMjc4IDMxLjY4MzE2ODMiPjwvcG9seWdvbj4KICAgICAgICAgICAgICAgIDxwYXRoIGQ9Ik0zNS4wMDc3MTgsODAgQzQyLjkwNjIwMDcsNzYuNDU0OTM1OCA0Ny41NjQ5MTY3LDcxLjU0MjI2NzEgNDguOTgzODY2LDY1LjI2MTk5MzkgQzUxLjExMjI4OTksNTUuODQxNTg0MiA0MS42NzcxNzk1LDQ5LjIxMjIyODQgMjUuNjIzOTg0Niw0OS4yMTIyMjg0IEMyNS40ODQ5Mjg5LDQ5LjEyNjg0NDggMjkuODI2MTI5Niw0My4yODM4MjQ4IDM4LjY0NzU4NjksMzEuNjgzMTY4MyBMNzIuODcxMjg3MSwzMi41NTQ0MjUgTDY1LjI4MDk3Myw2Ny42NzYzNDIxIEw1MS4xMTIyODk5LDc3LjM3NjE0NCBMMzUuMDA3NzE4LDgwIFoiIGlkPSJQYXRoLTIyIiBmaWxsPSIjMDAyODY4Ij48L3BhdGg+CiAgICAgICAgICAgICAgICA8cGF0aCBkPSJNMCwzNy43MzA0NDA1IEwyNy4xMTQ1MzcsMC4yNTcxMTE0MzYgQzYyLjM3MTUxMjMsLTEuOTkwNzE3MDEgODAsMTAuNTAwMzkyNyA4MCwzNy43MzA0NDA1IEM4MCw2NC45NjA0ODgyIDY0Ljc3NjUwMzgsNzkuMDUwMzQxNCAzNC4zMjk1MTEzLDgwIEM0Ny4wNTUzNDg5LDc3LjU2NzA4MDggNTMuNDE4MjY3Nyw3MC4zMTM2MTAzIDUzLjQxODI2NzcsNTguMjM5NTg4NSBDNTMuNDE4MjY3Nyw0MC4xMjg1NTU3IDM2LjMwMzk1NDQsMzcuNzMwNDQwNSAyNS4yMjc0MTcsMzcuNzMwNDQwNSBDMTcuODQzMDU4NiwzNy43MzA0NDA1IDkuNDMzOTE5NjYsMzcuNzMwNDQwNSAwLDM3LjczMDQ0MDUgWiIgaWQ9IlBhdGgtMTkiIGZpbGw9IiMzNzkzRUYiPjwvcGF0aD4KICAgICAgICAgICAgPC9nPgogICAgICAgIDwvZz4KICAgIDwvZz4KPC9zdmc+' > </img>\nCreated in <span style='font-weight:600;margin-left:4px;'>Deepnote</span></a>",
   "metadata": {
    "tags": [],
    "created_in_deepnote_cell": true,
    "deepnote_cell_type": "markdown"
   }
  }
 ],
 "nbformat": 4,
 "nbformat_minor": 5,
 "metadata": {
  "deepnote": {},
  "deepnote_app_layout": "article",
  "deepnote_execution_queue": [],
  "deepnote_notebook_id": "bc024147-2b8e-436a-ba0d-2495ff57ca3e",
  "kernelspec": {
   "display_name": "Datascience",
   "language": "python",
   "name": "datascience"
  },
  "language_info": {
   "codemirror_mode": {
    "name": "ipython",
    "version": 3
   },
   "file_extension": ".py",
   "mimetype": "text/x-python",
   "name": "python",
   "nbconvert_exporter": "python",
   "pygments_lexer": "ipython3",
   "version": "3.8.10"
  }
 }
}