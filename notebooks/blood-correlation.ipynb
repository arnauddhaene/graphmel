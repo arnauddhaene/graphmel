{
 "cells": [
  {
   "cell_type": "markdown",
   "id": "d6b207a1-1710-480b-bb91-6b52282edbc0",
   "metadata": {
    "jp-MarkdownHeadingCollapsed": true,
    "tags": []
   },
   "source": [
    "### Import libraries and dataset connection"
   ]
  },
  {
   "cell_type": "code",
   "execution_count": 1,
   "id": "bede4005-e832-4cc0-a8ee-f6f15c70426e",
   "metadata": {},
   "outputs": [],
   "source": [
    "import os, sys\n",
    "from typing import List\n",
    "from collections.abc import Callable"
   ]
  },
  {
   "cell_type": "code",
   "execution_count": 2,
   "id": "981915d9-d952-40b5-810d-0d8d7fca068b",
   "metadata": {},
   "outputs": [],
   "source": [
    "import pandas as pd\n",
    "import numpy as np"
   ]
  },
  {
   "cell_type": "code",
   "execution_count": 3,
   "id": "f7adad77-135f-4050-a596-09be073e3948",
   "metadata": {},
   "outputs": [],
   "source": [
    "from sklearn.preprocessing import OneHotEncoder, StandardScaler, MultiLabelBinarizer\n",
    "from sklearn.base import BaseEstimator, TransformerMixin\n",
    "from sklearn.impute import SimpleImputer\n",
    "from sklearn.model_selection import train_test_split\n",
    "from sklearn.pipeline import Pipeline\n",
    "from sklearn.compose import ColumnTransformer, make_column_selector\n",
    "from sklearn.feature_extraction.text import CountVectorizer"
   ]
  },
  {
   "cell_type": "code",
   "execution_count": 4,
   "id": "56f8fee2-d9ce-4d77-9719-2beefdd60f7a",
   "metadata": {},
   "outputs": [],
   "source": [
    "import torch\n",
    "from torch_geometric.data import Data\n",
    "from torch_geometric.loader import DataLoader"
   ]
  },
  {
   "cell_type": "code",
   "execution_count": 5,
   "id": "548729c2-2adb-42f4-9587-556327285d11",
   "metadata": {},
   "outputs": [],
   "source": [
    "import matplotlib.pyplot as plt\n",
    "from matplotlib import rcParams\n",
    "rcParams['figure.figsize'] = 15, 8.27\n",
    "import seaborn as sns\n",
    "import plotly.express as px\n",
    "import plotly.io as pio\n",
    "pio.templates.default = 'seaborn'"
   ]
  },
  {
   "cell_type": "code",
   "execution_count": 6,
   "id": "0e262a7b-4d16-467c-834a-286ffe223b2d",
   "metadata": {},
   "outputs": [],
   "source": [
    "from ipywidgets import interact, interact_manual, FloatSlider"
   ]
  },
  {
   "cell_type": "code",
   "execution_count": 7,
   "id": "25d2495d-e788-491a-ba00-a3cf898a182d",
   "metadata": {},
   "outputs": [],
   "source": [
    "sys.path.append(os.path.abspath('..'))\n",
    "\n",
    "from src.utils import FILES, DATA_FOLDERS, extract_study_phase, load_dataset, fetch_data, preprocess, create_dataset\n",
    "\n",
    "CONNECTION_DIR = '/Users/arnauddhaene/Downloads/'"
   ]
  },
  {
   "cell_type": "markdown",
   "id": "f1b6edd8-1fd6-4155-a8f1-bd86e1e3a130",
   "metadata": {},
   "source": [
    "### Blood features correlation analysis"
   ]
  },
  {
   "cell_type": "code",
   "execution_count": 67,
   "id": "4f9504bc-2366-4046-b740-1ea74693054a",
   "metadata": {},
   "outputs": [],
   "source": [
    "blood = pd.read_csv(os.path.join(CONNECTION_DIR + DATA_FOLDERS[1], FILES['blood']))\n",
    "blood.rename(columns={feature: feature.replace('-', '_') for feature in blood.columns}, inplace=True)\n",
    "# Listify immunotherapy type to create multi-feature encoding\n",
    "blood['immuno_therapy_type'] = blood.immuno_therapy_type \\\n",
    "    .apply(lambda t: ['ipi', 'nivo'] if t == 'ipinivo' else [t])\n",
    "\n",
    "cv = CountVectorizer(analyzer=set)\n",
    "\n",
    "blood = pd.concat([\n",
    "    blood.drop(columns=['immuno_therapy_type']), \n",
    "    pd.DataFrame(cv.fit_transform(blood['immuno_therapy_type']).todense().astype(bool), columns=cv.get_feature_names())],\n",
    "    axis=1)\n",
    "\n",
    "blood = blood.astype({\n",
    "    f: bool\n",
    "    for f in ['nivo_maintenance', 'prior_targeted_therapy', 'prior_treatment', 'concomittant_tvec', 'concomittant_LAG3']\n",
    "})"
   ]
  },
  {
   "cell_type": "code",
   "execution_count": 66,
   "id": "8059b9d1-7753-4204-93a2-c454b541e331",
   "metadata": {},
   "outputs": [
    {
     "data": {
      "text/html": [
       "<div>\n",
       "<style scoped>\n",
       "    .dataframe tbody tr th:only-of-type {\n",
       "        vertical-align: middle;\n",
       "    }\n",
       "\n",
       "    .dataframe tbody tr th {\n",
       "        vertical-align: top;\n",
       "    }\n",
       "\n",
       "    .dataframe thead th {\n",
       "        text-align: right;\n",
       "    }\n",
       "</style>\n",
       "<table border=\"1\" class=\"dataframe\">\n",
       "  <thead>\n",
       "    <tr style=\"text-align: right;\">\n",
       "      <th></th>\n",
       "      <th>gpcr_id</th>\n",
       "      <th>n_days_to_treatment_start</th>\n",
       "      <th>n_days_to_treatment_end</th>\n",
       "      <th>sex</th>\n",
       "      <th>bmi</th>\n",
       "      <th>has_brain_mets</th>\n",
       "      <th>performance_score_ecog</th>\n",
       "      <th>asat_sang_ul</th>\n",
       "      <th>bili_totale_sang_umoll</th>\n",
       "      <th>mono_absolus_gl</th>\n",
       "      <th>...</th>\n",
       "      <th>BRAF_MUTATION</th>\n",
       "      <th>BRAF_MUT_TYPE</th>\n",
       "      <th>concomittant_tvec</th>\n",
       "      <th>concomittant_LAG3</th>\n",
       "      <th>prior_targeted_therapy</th>\n",
       "      <th>prior_treatment</th>\n",
       "      <th>nivo_maintenance</th>\n",
       "      <th>ipi</th>\n",
       "      <th>nivo</th>\n",
       "      <th>pembro</th>\n",
       "    </tr>\n",
       "  </thead>\n",
       "  <tbody>\n",
       "    <tr>\n",
       "      <th>0</th>\n",
       "      <td>34610001</td>\n",
       "      <td>0.0</td>\n",
       "      <td>-63.0</td>\n",
       "      <td>female</td>\n",
       "      <td>28.40</td>\n",
       "      <td>n</td>\n",
       "      <td>1</td>\n",
       "      <td>33.0</td>\n",
       "      <td>NaN</td>\n",
       "      <td>0.37</td>\n",
       "      <td>...</td>\n",
       "      <td>0</td>\n",
       "      <td>NaN</td>\n",
       "      <td>False</td>\n",
       "      <td>False</td>\n",
       "      <td>False</td>\n",
       "      <td>False</td>\n",
       "      <td>True</td>\n",
       "      <td>True</td>\n",
       "      <td>True</td>\n",
       "      <td>False</td>\n",
       "    </tr>\n",
       "    <tr>\n",
       "      <th>1</th>\n",
       "      <td>34610096</td>\n",
       "      <td>0.0</td>\n",
       "      <td>-63.0</td>\n",
       "      <td>female</td>\n",
       "      <td>19.61</td>\n",
       "      <td>n</td>\n",
       "      <td>0</td>\n",
       "      <td>23.0</td>\n",
       "      <td>5.0</td>\n",
       "      <td>0.52</td>\n",
       "      <td>...</td>\n",
       "      <td>0</td>\n",
       "      <td>NaN</td>\n",
       "      <td>False</td>\n",
       "      <td>False</td>\n",
       "      <td>False</td>\n",
       "      <td>False</td>\n",
       "      <td>False</td>\n",
       "      <td>True</td>\n",
       "      <td>False</td>\n",
       "      <td>False</td>\n",
       "    </tr>\n",
       "    <tr>\n",
       "      <th>2</th>\n",
       "      <td>34610002</td>\n",
       "      <td>0.0</td>\n",
       "      <td>-49.0</td>\n",
       "      <td>male</td>\n",
       "      <td>24.62</td>\n",
       "      <td>y</td>\n",
       "      <td>0</td>\n",
       "      <td>31.0</td>\n",
       "      <td>22.0</td>\n",
       "      <td>0.51</td>\n",
       "      <td>...</td>\n",
       "      <td>0</td>\n",
       "      <td>NaN</td>\n",
       "      <td>False</td>\n",
       "      <td>False</td>\n",
       "      <td>False</td>\n",
       "      <td>False</td>\n",
       "      <td>False</td>\n",
       "      <td>True</td>\n",
       "      <td>True</td>\n",
       "      <td>False</td>\n",
       "    </tr>\n",
       "    <tr>\n",
       "      <th>3</th>\n",
       "      <td>34610097</td>\n",
       "      <td>0.0</td>\n",
       "      <td>-78.0</td>\n",
       "      <td>female</td>\n",
       "      <td>20.87</td>\n",
       "      <td>y</td>\n",
       "      <td>2</td>\n",
       "      <td>22.0</td>\n",
       "      <td>6.0</td>\n",
       "      <td>0.72</td>\n",
       "      <td>...</td>\n",
       "      <td>0</td>\n",
       "      <td>NaN</td>\n",
       "      <td>False</td>\n",
       "      <td>False</td>\n",
       "      <td>False</td>\n",
       "      <td>False</td>\n",
       "      <td>False</td>\n",
       "      <td>True</td>\n",
       "      <td>False</td>\n",
       "      <td>False</td>\n",
       "    </tr>\n",
       "    <tr>\n",
       "      <th>4</th>\n",
       "      <td>34610003</td>\n",
       "      <td>0.0</td>\n",
       "      <td>0.0</td>\n",
       "      <td>female</td>\n",
       "      <td>25.61</td>\n",
       "      <td>n</td>\n",
       "      <td>0</td>\n",
       "      <td>NaN</td>\n",
       "      <td>NaN</td>\n",
       "      <td>NaN</td>\n",
       "      <td>...</td>\n",
       "      <td>0</td>\n",
       "      <td>NaN</td>\n",
       "      <td>False</td>\n",
       "      <td>False</td>\n",
       "      <td>False</td>\n",
       "      <td>False</td>\n",
       "      <td>False</td>\n",
       "      <td>True</td>\n",
       "      <td>True</td>\n",
       "      <td>False</td>\n",
       "    </tr>\n",
       "  </tbody>\n",
       "</table>\n",
       "<p>5 rows × 42 columns</p>\n",
       "</div>"
      ],
      "text/plain": [
       "    gpcr_id  n_days_to_treatment_start  n_days_to_treatment_end     sex  \\\n",
       "0  34610001                        0.0                    -63.0  female   \n",
       "1  34610096                        0.0                    -63.0  female   \n",
       "2  34610002                        0.0                    -49.0    male   \n",
       "3  34610097                        0.0                    -78.0  female   \n",
       "4  34610003                        0.0                      0.0  female   \n",
       "\n",
       "     bmi has_brain_mets  performance_score_ecog  asat_sang_ul  \\\n",
       "0  28.40              n                       1          33.0   \n",
       "1  19.61              n                       0          23.0   \n",
       "2  24.62              y                       0          31.0   \n",
       "3  20.87              y                       2          22.0   \n",
       "4  25.61              n                       0           NaN   \n",
       "\n",
       "   bili_totale_sang_umoll  mono_absolus_gl  ...  BRAF_MUTATION  BRAF_MUT_TYPE  \\\n",
       "0                     NaN             0.37  ...              0            NaN   \n",
       "1                     5.0             0.52  ...              0            NaN   \n",
       "2                    22.0             0.51  ...              0            NaN   \n",
       "3                     6.0             0.72  ...              0            NaN   \n",
       "4                     NaN              NaN  ...              0            NaN   \n",
       "\n",
       "   concomittant_tvec  concomittant_LAG3  prior_targeted_therapy  \\\n",
       "0              False              False                   False   \n",
       "1              False              False                   False   \n",
       "2              False              False                   False   \n",
       "3              False              False                   False   \n",
       "4              False              False                   False   \n",
       "\n",
       "   prior_treatment  nivo_maintenance   ipi   nivo  pembro  \n",
       "0            False              True  True   True   False  \n",
       "1            False             False  True  False   False  \n",
       "2            False             False  True   True   False  \n",
       "3            False             False  True  False   False  \n",
       "4            False             False  True   True   False  \n",
       "\n",
       "[5 rows x 42 columns]"
      ]
     },
     "execution_count": 66,
     "metadata": {},
     "output_type": "execute_result"
    }
   ],
   "source": [
    "blood.head()"
   ]
  },
  {
   "cell_type": "code",
   "execution_count": 59,
   "id": "c2d73f2c-fe64-40f3-8f0b-e4105cf0a731",
   "metadata": {},
   "outputs": [
    {
     "data": {
      "application/vnd.jupyter.widget-view+json": {
       "model_id": "400ed1c9d1c540d48d19ba74df73bf91",
       "version_major": 2,
       "version_minor": 0
      },
      "text/plain": [
       "interactive(children=(Dropdown(description='feature', options=('gpcr_id', 'n_days_to_treatment_start', 'n_days…"
      ]
     },
     "metadata": {},
     "output_type": "display_data"
    }
   ],
   "source": [
    "@interact(feature=blood.columns)\n",
    "def feature_value_counts(feature: str):\n",
    "    print(blood[feature].value_counts())"
   ]
  },
  {
   "cell_type": "code",
   "execution_count": 46,
   "id": "fdea6df9-1e97-479e-92d3-1d8d75d73f3e",
   "metadata": {},
   "outputs": [
    {
     "data": {
      "text/plain": [
       "<matplotlib.axes._subplots.AxesSubplot at 0x7fb47e094850>"
      ]
     },
     "execution_count": 46,
     "metadata": {},
     "output_type": "execute_result"
    },
    {
     "data": {
      "image/png": "[encoded data removed]",
      "text/plain": [
       "<Figure size 1080x595.44 with 2 Axes>"
      ]
     },
     "metadata": {
      "needs_background": "light"
     },
     "output_type": "display_data"
    }
   ],
   "source": [
    "sns.heatmap(blood.isna())"
   ]
  },
  {
   "cell_type": "code",
   "execution_count": 47,
   "id": "e45f973b-f4bc-457a-aa86-e4a2e811902c",
   "metadata": {},
   "outputs": [
    {
     "data": {
      "application/vnd.jupyter.widget-view+json": {
       "model_id": "8c5fe28ed9354191a6970a511fd65ea6",
       "version_major": 2,
       "version_minor": 0
      },
      "text/plain": [
       "interactive(children=(FloatSlider(value=0.3, description='percent_na', max=0.8999999999999999, min=-0.3), Outp…"
      ]
     },
     "metadata": {},
     "output_type": "display_data"
    }
   ],
   "source": [
    "@interact(percent_na=.3)\n",
    "def show_null_features(percent_na: float):\n",
    "    na = blood.isnull().mean()\n",
    "    print(na[na > percent_na])"
   ]
  },
  {
   "cell_type": "code",
   "execution_count": 48,
   "id": "2278b1f7-8cfd-4618-bac0-1d831885ecb9",
   "metadata": {},
   "outputs": [
    {
     "data": {
      "text/plain": [
       "(['gpcr_id',\n",
       "  'n_days_to_treatment_start',\n",
       "  'n_days_to_treatment_end',\n",
       "  'bmi',\n",
       "  'performance_score_ecog',\n",
       "  'asat_sang_ul',\n",
       "  'bili_totale_sang_umoll',\n",
       "  'mono_absolus_gl',\n",
       "  'alat_sang_ul',\n",
       "  'plaquettes_sang_gl',\n",
       "  'lympho_absolus_gl',\n",
       "  'albumine_sang_gl',\n",
       "  'proteine_c_reacsang_mgl',\n",
       "  'potassium_sang_mmoll',\n",
       "  'hemoglobine_sang_gl',\n",
       "  'calcium_sang_mmoll',\n",
       "  'ldh_sang_ul',\n",
       "  'creatinine_sang_umoll',\n",
       "  'pal_sang_ul',\n",
       "  'neutro_absolus_gl',\n",
       "  'eosini_absolus_gl',\n",
       "  'baso_absolus_gl',\n",
       "  'ggt_sang_ul',\n",
       "  'gfr_cal_mlmin173m2',\n",
       "  'leucocytes_sang_gl',\n",
       "  'eGFRCKD2',\n",
       "  'eGFRCG',\n",
       "  'X67',\n",
       "  'concomittant_tvec',\n",
       "  'concomittant_LAG3',\n",
       "  'prior_targeted_therapy',\n",
       "  'prior_treatment',\n",
       "  'nivo_maintenance'],\n",
       " ['sex',\n",
       "  'has_brain_mets',\n",
       "  'NRAS_MUTATION',\n",
       "  'NRAS_MUT_TYPE',\n",
       "  'BRAF_MUTATION',\n",
       "  'BRAF_MUT_TYPE'])"
      ]
     },
     "execution_count": 48,
     "metadata": {},
     "output_type": "execute_result"
    }
   ],
   "source": [
    "numerical = list(blood.select_dtypes(np.number).columns)\n",
    "categorical = list(blood.select_dtypes(object).columns)\n",
    "\n",
    "numerical, categorical"
   ]
  },
  {
   "cell_type": "code",
   "execution_count": null,
   "id": "b85ba3f0-6f35-43a1-9646-d161ebf7063a",
   "metadata": {},
   "outputs": [],
   "source": []
  }
 ],
 "metadata": {
  "kernelspec": {
   "display_name": "Datascience",
   "language": "python",
   "name": "datascience"
  },
  "language_info": {
   "codemirror_mode": {
    "name": "ipython",
    "version": 3
   },
   "file_extension": ".py",
   "mimetype": "text/x-python",
   "name": "python",
   "nbconvert_exporter": "python",
   "pygments_lexer": "ipython3",
   "version": "3.8.10"
  }
 },
 "nbformat": 4,
 "nbformat_minor": 5
}
