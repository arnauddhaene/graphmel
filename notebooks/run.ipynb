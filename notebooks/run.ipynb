{
 "cells": [
  {
   "cell_type": "markdown",
   "id": "79589284-9fd2-481a-b49c-1fbc64723147",
   "metadata": {
    "tags": []
   },
   "source": [
    "## Test runner"
   ]
  },
  {
   "cell_type": "markdown",
   "id": "379d9e57-89c7-4271-97c2-02ddff910794",
   "metadata": {
    "tags": []
   },
   "source": [
    "### Import libraries"
   ]
  },
  {
   "cell_type": "code",
   "execution_count": 3,
   "id": "b67a0916-2989-4479-b091-c2263447e106",
   "metadata": {},
   "outputs": [],
   "source": [
    "import os, sys\n",
    "from typing import List, Tuple\n",
    "from collections.abc import Callable\n",
    "import time\n",
    "import datetime as dt\n",
    "from tqdm.notebook import tqdm"
   ]
  },
  {
   "cell_type": "code",
   "execution_count": 4,
   "id": "3fd71b21-e509-4781-863c-afe3b98a5b2a",
   "metadata": {},
   "outputs": [],
   "source": [
    "import pandas as pd\n",
    "import numpy as np\n",
    "import networkx as nx"
   ]
  },
  {
   "cell_type": "code",
   "execution_count": 5,
   "id": "74b4572d-a189-4915-bb5d-930d5593c03b",
   "metadata": {},
   "outputs": [],
   "source": [
    "from scipy.stats import wasserstein_distance"
   ]
  },
  {
   "cell_type": "code",
   "execution_count": 6,
   "id": "d989082f-b8e4-4625-84e3-91f698c641a3",
   "metadata": {},
   "outputs": [],
   "source": [
    "from sklearn.preprocessing import OneHotEncoder, StandardScaler, MultiLabelBinarizer\n",
    "from sklearn.base import BaseEstimator, TransformerMixin\n",
    "from sklearn.impute import SimpleImputer\n",
    "from sklearn.model_selection import train_test_split\n",
    "from sklearn.pipeline import Pipeline\n",
    "from sklearn.compose import ColumnTransformer, make_column_selector\n",
    "from sklearn.feature_extraction.text import CountVectorizer\n",
    "from sklearn.metrics import ConfusionMatrixDisplay, confusion_matrix"
   ]
  },
  {
   "cell_type": "code",
   "execution_count": 7,
   "id": "1503fd5d-0c95-4112-95ba-df1549c750da",
   "metadata": {},
   "outputs": [],
   "source": [
    "import torch\n",
    "from torch_geometric.data import Data\n",
    "from torch_geometric.loader import DataLoader, DenseDataLoader\n",
    "\n",
    "from torch_geometric.nn import GraphConv, global_add_pool, DenseGraphConv, dense_diff_pool\n",
    "import torch.nn.functional as F\n",
    "from torch.nn import NLLLoss\n",
    "\n",
    "from torch_geometric.utils import to_dense_adj, to_networkx\n",
    "from torch_geometric.transforms import ToDense"
   ]
  },
  {
   "cell_type": "code",
   "execution_count": 8,
   "id": "12f57fad-f38b-4fe2-988b-1770f196486f",
   "metadata": {},
   "outputs": [],
   "source": [
    "import matplotlib.pyplot as plt\n",
    "from matplotlib import rcParams\n",
    "rcParams['figure.figsize'] = 15, 8.27\n",
    "\n",
    "import seaborn as sns\n",
    "import plotly.express as px\n",
    "import plotly.io as pio\n",
    "pio.templates.default = 'seaborn'"
   ]
  },
  {
   "cell_type": "code",
   "execution_count": 9,
   "id": "7d7a647c-a585-4eaa-a74f-5ebb94eedc18",
   "metadata": {},
   "outputs": [],
   "source": [
    "from ipywidgets import interact, interact_manual, FloatSlider"
   ]
  },
  {
   "cell_type": "code",
   "execution_count": 19,
   "id": "837c40be-b6e2-4a26-948e-4eb0268cc031",
   "metadata": {},
   "outputs": [],
   "source": [
    "sys.path.append(os.path.abspath('..'))\n",
    "sys.path.append(os.path.abspath('../src/'))\n",
    "\n",
    "from src.utils import load_dataset, fetch_data, preprocess, create_dataset\n",
    "from src.models import DiffPool, BaselineGNN\n",
    "from src.train import train\n",
    "from src.metrics import evaluate, TrainingMetrics, TestingMetrics\n",
    "\n",
    "CONNECTION_DIR = '/Users/arnauddhaene/Downloads/'"
   ]
  },
  {
   "cell_type": "markdown",
   "id": "6723981b-4554-4dd7-8431-23a95ab89ec6",
   "metadata": {},
   "source": [
    "### Fetch data"
   ]
  },
  {
   "cell_type": "code",
   "execution_count": 96,
   "id": "310be794",
   "metadata": {},
   "outputs": [],
   "source": [
    "import torch\n",
    "import torch.nn.functional as F\n",
    "from torch.nn import Linear, LogSoftmax, ModuleList, Sequential, BatchNorm1d, ReLU\n",
    "\n",
    "from torch_geometric.nn import GATv2Conv as GATConv, GraphConv, GINConv\n",
    "from torch_geometric.nn import global_mean_pool as gap, global_max_pool as gmp\n",
    "\n",
    "from models.custom import SparseModule\n",
    "\n",
    "\n",
    "class BaselineGNN(SparseModule):\n",
    "    def __init__(\n",
    "        self,\n",
    "        num_classes: int,\n",
    "        hidden_dim: int,\n",
    "        node_features_dim: int,\n",
    "        layer_type: str = 'GraphConv',\n",
    "        num_layers: int = 5\n",
    "    ):\n",
    "        super(BaselineGNN, self).__init__()\n",
    "        self.layer_type = layer_type\n",
    "        self.num_layers = num_layers\n",
    "        \n",
    "        self.convs = ModuleList()\n",
    "\n",
    "        feature_extractor = \\\n",
    "            self.create_layer(in_channels=node_features_dim, out_channels=hidden_dim)\n",
    "\n",
    "        self.convs.append(feature_extractor)\n",
    "        \n",
    "        for step in range(num_layers - 1):\n",
    "            layer = \\\n",
    "                self.create_layer(in_channels=hidden_dim, out_channels=hidden_dim)\n",
    "            \n",
    "            self.convs.append(layer)\n",
    "\n",
    "        self.fc1 = Linear(hidden_dim * 2 + 26, hidden_dim)\n",
    "        self.fc2 = Linear(hidden_dim, num_classes)\n",
    "\n",
    "        self.readout = LogSoftmax(dim=-1)\n",
    "\n",
    "    def forward(self, data):\n",
    "        \n",
    "        x, edge_index, batch = data.x, data.edge_index, data.batch\n",
    "        \n",
    "        x, graph_x = x[:, :18], x[:, 18:]\n",
    "        \n",
    "        # This creates an array of indexes when the batch changes\n",
    "        # If batch is [0, 0, 1, 1, 1, 1, 2, 2, 2] you will get [0, 2, 6]\n",
    "        new_batch_index = np.concatenate([np.array([0]), np.where(batch[1:] != batch[:-1])[0] + 1], axis=0)\n",
    "        \n",
    "        for step in range(len(self.convs)):\n",
    "            x = F.relu(self.convs[step](x, edge_index))\n",
    "        \n",
    "        x = torch.cat([gmp(x, batch), gap(x, batch), graph_x[new_batch_index, :]], dim=1)\n",
    "        \n",
    "        x = F.relu(self.fc1(x))\n",
    "        x = F.dropout(x, p=0.5, training=self.training)\n",
    "        x = self.fc2(x)\n",
    "        \n",
    "        return self.readout(x)\n",
    "    \n",
    "    def create_layer(self, **kwargs):\n",
    "        \"\"\"Create layer based on type\n",
    "\n",
    "        Args:\n",
    "            type (str): layer type\n",
    "\n",
    "        Raises:\n",
    "            ValueError: if type is not accepted within framework\n",
    "\n",
    "        Returns:\n",
    "            nn.Module: layer\n",
    "        \"\"\"\n",
    "\n",
    "        if self.layer_type == 'GraphConv':\n",
    "            return GraphConv(**kwargs)\n",
    "        elif self.layer_type == 'GAT':\n",
    "            return GATConv(**kwargs)\n",
    "        elif self.layer_type == 'GIN':\n",
    "            node_features, dim = kwargs['in_channels'], kwargs['out_channels']\n",
    "            return GINConv(Sequential(\n",
    "                Linear(node_features, dim), BatchNorm1d(dim), ReLU(),\n",
    "                Linear(dim, dim), ReLU()))\n",
    "        else:\n",
    "            raise ValueError(f'{self.layer_type} is not a valid layer type')\n",
    "    \n",
    "    def __str__(self) -> str:\n",
    "        \"\"\"Representation\"\"\"\n",
    "        return f'Baseline GNN with {self.num_layers} {self.layer_type} layers'\n"
   ]
  },
  {
   "cell_type": "code",
   "execution_count": 110,
   "id": "2bbd5709",
   "metadata": {},
   "outputs": [
    {
     "data": {
      "text/plain": [
       "Data(x=[60, 18], edge_index=[2, 1690], graph_x=[26])"
      ]
     },
     "execution_count": 110,
     "metadata": {},
     "output_type": "execute_result"
    }
   ],
   "source": [
    "Data(x=dataset_train[0].x[:, :18], edge_index=dataset_train[0].edge_index, graph_x=dataset_train[0].x[0, 18:])"
   ]
  },
  {
   "cell_type": "code",
   "execution_count": 80,
   "id": "335de03c",
   "metadata": {},
   "outputs": [],
   "source": [
    "batch = np.array([0, 0, 0, 0, 0, 0, 0, 1, 1, 1, 1, 1, 1, 2, 2, 2, 2, 2, 2, 2, 3, 3, 3, 3, 3, 3])\n",
    "\n",
    "iddd = np.concatenate([np.array([0]), np.where(batch[1:] != batch[:-1])[0] + 1], axis=0)"
   ]
  },
  {
   "cell_type": "code",
   "execution_count": 46,
   "id": "242d4b47-df74-45e4-92ff-bd8bf45a3268",
   "metadata": {},
   "outputs": [],
   "source": [
    "test_size = 0.2\n",
    "seed = 27\n",
    "verbose = 0\n",
    "connectivity = 'wasserstein'\n",
    "distance = 0.8\n",
    "dense=False\n",
    "\n",
    "labels, lesions, patients = fetch_data(verbose)\n",
    "        \n",
    "X_train, X_test, y_train, y_test = \\\n",
    "    preprocess(labels, lesions, patients,\n",
    "               test_size=test_size, seed=seed, verbose=verbose)\n",
    "    \n",
    "dataset_train = create_dataset(X=X_train, Y=y_train, dense=dense, distance=distance,\n",
    "                               connectivity=connectivity, verbose=verbose)\n",
    "\n",
    "dataset_test = create_dataset(X=X_test, Y=y_test, dense=dense, distance=distance,\n",
    "                              connectivity=connectivity, verbose=verbose)"
   ]
  },
  {
   "cell_type": "code",
   "execution_count": 101,
   "id": "4977dfce",
   "metadata": {},
   "outputs": [],
   "source": [
    "loader_train_args = dict(dataset=dataset_train[:round(len(dataset_train) * .8)], batch_size=4)\n",
    "loader_valid_args = dict(dataset=dataset_train[round(len(dataset_train) * .8):], batch_size=4)\n",
    "        \n",
    "loader_train = DenseDataLoader(**loader_train_args) if model.is_dense() \\\n",
    "    else DataLoader(**loader_train_args)\n",
    "loader_valid = DenseDataLoader(**loader_valid_args) if model.is_dense() \\\n",
    "    else DataLoader(**loader_valid_args)"
   ]
  },
  {
   "cell_type": "code",
   "execution_count": 135,
   "id": "d978936e-e9b0-4403-881d-677ad12948f5",
   "metadata": {},
   "outputs": [],
   "source": [
    "model_args = dict(\n",
    "    num_classes=2,\n",
    "    hidden_dim=16,\n",
    "    node_features_dim=18)\n",
    "\n",
    "model = BaselineGNN(layer_type='GAT', **model_args)\n",
    "\n",
    "model.reset()"
   ]
  },
  {
   "cell_type": "code",
   "execution_count": 136,
   "id": "f13e83fb-969a-468a-88c1-ae3da69d9c75",
   "metadata": {},
   "outputs": [],
   "source": [
    "criterion = NLLLoss()\n",
    "optimizer = torch.optim.Adam(\n",
    "    model.parameters(), lr=0.01, weight_decay=0.01)\n",
    "\n",
    "device = None\n",
    "dense = model.is_dense()"
   ]
  },
  {
   "cell_type": "code",
   "execution_count": 137,
   "metadata": {},
   "outputs": [],
   "source": [
    "metrics = TrainingMetrics()"
   ]
  },
  {
   "cell_type": "code",
   "execution_count": 138,
   "id": "86967471-5bd3-4d47-bdb9-2fe55c8a6062",
   "metadata": {},
   "outputs": [
    {
     "data": {
      "application/vnd.jupyter.widget-view+json": {
       "model_id": "68db4440d4eb4a29b1bd425faf1cecbf",
       "version_major": 2,
       "version_minor": 0
      },
      "text/plain": [
       "  0%|          | 0/50 [00:00<?, ?it/s]"
      ]
     },
     "metadata": {},
     "output_type": "display_data"
    },
    {
     "name": "stdout",
     "output_type": "stream",
     "text": [
      "Epoch: 000, Train: 0.600, Val: 0.692, Loss: 8.568, Val. loss: 0.186\n",
      "Epoch: 010, Train: 0.800, Val: 0.692, Loss: 7.419, Val. loss: 0.226\n",
      "Epoch: 020, Train: 0.860, Val: 0.615, Loss: 4.993, Val. loss: 0.240\n",
      "Epoch: 030, Train: 0.860, Val: 0.692, Loss: 5.106, Val. loss: 0.259\n",
      "Epoch: 040, Train: 0.940, Val: 0.538, Loss: 3.898, Val. loss: 0.287\n"
     ]
    }
   ],
   "source": [
    "for epoch in tqdm(range(50)):\n",
    "    epoch_loss = 0.\n",
    "\n",
    "    model.train()\n",
    "    \n",
    "    for data in loader_train:\n",
    "        data.to(device)\n",
    "        \n",
    "        output = model(data)\n",
    "        \n",
    "        loss = criterion(output, data.y.flatten())\n",
    "\n",
    "        optimizer.zero_grad()\n",
    "        \n",
    "        epoch_loss += loss.item()\n",
    "        loss.backward()\n",
    "        \n",
    "        optimizer.step()\n",
    "        \n",
    "    acc_train, _ = evaluate(model, loader_train)\n",
    "    acc_valid, loss_valid = evaluate(model, loader_valid, validation=True)\n",
    "\n",
    "    \n",
    "    if epoch % 10 == 0:\n",
    "        print(f'Epoch: {epoch:03d}, Train: {acc_train:.3f}, Val: {acc_valid:.3f}, Loss: {epoch_loss:.3f}, Val. loss: {loss_valid:.3f}')\n",
    "        \n",
    "    with torch.no_grad():\n",
    "        metrics.log_metric('Loss - training', epoch_loss, step=epoch)\n",
    "        metrics.log_metric('Loss - validation', loss_valid, step=epoch)\n",
    "        metrics.log_metric('Accuracy - training', acc_train, step=epoch)\n",
    "        metrics.log_metric('Accuracy - validation', acc_valid, step=epoch)"
   ]
  },
  {
   "cell_type": "code",
   "execution_count": 139,
   "id": "04598e4d",
   "metadata": {},
   "outputs": [],
   "source": [
    "training_metrics = pd.DataFrame(metrics.storage) "
   ]
  },
  {
   "cell_type": "code",
   "execution_count": 140,
   "id": "fd388ebc",
   "metadata": {},
   "outputs": [
    {
     "data": {
      "application/vnd.plotly.v1+json": {
       "config": {
        "plotlyServerURL": "https://plot.ly"
       },
       "data": [
        {
         "hovertemplate": "metric=Loss - training<br>step=%{x}<br>value=%{y}<extra></extra>",
         "legendgroup": "Loss - training",
         "line": {
          "color": "rgb(76,114,176)",
          "dash": "solid"
         },
         "marker": {
          "symbol": "circle"
         },
         "mode": "lines",
         "name": "Loss - training",
         "orientation": "v",
         "showlegend": true,
         "type": "scatter",
         "x": [
          0,
          1,
          2,
          3,
          4,
          5,
          6,
          7,
          8,
          9,
          10,
          11,
          12,
          13,
          14,
          15,
          16,
          17,
          18,
          19,
          20,
          21,
          22,
          23,
          24,
          25,
          26,
          27,
          28,
          29,
          30,
          31,
          32,
          33,
          34,
          35,
          36,
          37,
          38,
          39,
          40,
          41,
          42,
          43,
          44,
          45,
          46,
          47,
          48,
          49
         ],
         "xaxis": "x",
         "y": [
          8.567550122737885,
          8.57748931646347,
          8.11414760351181,
          7.69151446223259,
          6.753649428486824,
          6.713485077023506,
          6.289527788758278,
          6.010188430547714,
          5.745610997080803,
          7.3932386338710785,
          7.418526589870453,
          6.2659460455179214,
          6.136237248778343,
          6.249450668692589,
          4.828589119017124,
          4.927280131727457,
          5.366204664111137,
          6.643940977752209,
          6.428053110837936,
          5.853844925761223,
          4.992951110005379,
          5.494775705039501,
          5.606757629662752,
          5.05492652207613,
          4.9096923395991325,
          5.041818805038929,
          5.756124317646027,
          4.4084034115076065,
          4.91053007543087,
          5.311668522655964,
          5.105946499854326,
          5.116562783718109,
          5.392116621136665,
          5.391779579222202,
          4.651098504662514,
          4.786141648888588,
          4.565953674726188,
          3.8976666405797005,
          4.061062000691891,
          4.170324781909585,
          3.8979677855968475,
          4.179328173398972,
          4.247745517641306,
          4.556821703910828,
          5.055001001805067,
          4.427579641342163,
          4.007767543196678,
          3.8911167047917843,
          4.189904570579529,
          3.391767866909504
         ],
         "yaxis": "y"
        },
        {
         "hovertemplate": "metric=Loss - validation<br>step=%{x}<br>value=%{y}<extra></extra>",
         "legendgroup": "Loss - validation",
         "line": {
          "color": "rgb(221,132,82)",
          "dash": "solid"
         },
         "marker": {
          "symbol": "circle"
         },
         "mode": "lines",
         "name": "Loss - validation",
         "orientation": "v",
         "showlegend": true,
         "type": "scatter",
         "x": [
          0,
          1,
          2,
          3,
          4,
          5,
          6,
          7,
          8,
          9,
          10,
          11,
          12,
          13,
          14,
          15,
          16,
          17,
          18,
          19,
          20,
          21,
          22,
          23,
          24,
          25,
          26,
          27,
          28,
          29,
          30,
          31,
          32,
          33,
          34,
          35,
          36,
          37,
          38,
          39,
          40,
          41,
          42,
          43,
          44,
          45,
          46,
          47,
          48,
          49
         ],
         "xaxis": "x",
         "y": [
          0.18646981624456552,
          0.18903294205665588,
          0.20804626666582549,
          0.21123310923576355,
          0.21697782094662005,
          0.2296314537525177,
          0.23776773306039664,
          0.2473214979355152,
          0.24844074020018944,
          0.23911926838067862,
          0.22580290528444144,
          0.22191021992610052,
          0.219497786118434,
          0.22878036132225624,
          0.23890133775197542,
          0.2654622816122495,
          0.27081042528152466,
          0.2429156372180352,
          0.23965112291849577,
          0.2203589929984166,
          0.23966959577340347,
          0.24993001039211565,
          0.22997316488852867,
          0.2271568362529461,
          0.23616230946320754,
          0.24000671735176674,
          0.25829848417868984,
          0.27110106211442214,
          0.2573349498785459,
          0.23906669249901405,
          0.2589236474954165,
          0.2563136907724234,
          0.2830892652273178,
          0.26375466814407933,
          0.259808586193965,
          0.25766676664352417,
          0.27294404002336353,
          0.28449315520433277,
          0.29966776416851926,
          0.28878390101286083,
          0.28695839184981126,
          0.29958903331022996,
          0.3030171784070822,
          0.31135937800774205,
          0.28229676760160005,
          0.2914274357832395,
          0.2942008972167969,
          0.30551615128150356,
          0.318544844022164,
          0.3192146420478821
         ],
         "yaxis": "y"
        },
        {
         "hovertemplate": "metric=Accuracy - training<br>step=%{x}<br>value=%{y}<extra></extra>",
         "legendgroup": "Accuracy - training",
         "line": {
          "color": "rgb(85,168,104)",
          "dash": "solid"
         },
         "marker": {
          "symbol": "circle"
         },
         "mode": "lines",
         "name": "Accuracy - training",
         "orientation": "v",
         "showlegend": true,
         "type": "scatter",
         "x": [
          0,
          1,
          2,
          3,
          4,
          5,
          6,
          7,
          8,
          9,
          10,
          11,
          12,
          13,
          14,
          15,
          16,
          17,
          18,
          19,
          20,
          21,
          22,
          23,
          24,
          25,
          26,
          27,
          28,
          29,
          30,
          31,
          32,
          33,
          34,
          35,
          36,
          37,
          38,
          39,
          40,
          41,
          42,
          43,
          44,
          45,
          46,
          47,
          48,
          49
         ],
         "xaxis": "x",
         "y": [
          0.6,
          0.64,
          0.68,
          0.72,
          0.76,
          0.74,
          0.82,
          0.84,
          0.82,
          0.82,
          0.8,
          0.84,
          0.8,
          0.86,
          0.86,
          0.84,
          0.78,
          0.86,
          0.88,
          0.86,
          0.86,
          0.86,
          0.84,
          0.86,
          0.88,
          0.84,
          0.9,
          0.9,
          0.9,
          0.9,
          0.86,
          0.92,
          0.84,
          0.86,
          0.94,
          0.9,
          0.9,
          0.88,
          0.92,
          0.92,
          0.94,
          0.92,
          0.9,
          0.92,
          0.9,
          0.92,
          0.92,
          0.9,
          0.9,
          0.92
         ],
         "yaxis": "y"
        },
        {
         "hovertemplate": "metric=Accuracy - validation<br>step=%{x}<br>value=%{y}<extra></extra>",
         "legendgroup": "Accuracy - validation",
         "line": {
          "color": "rgb(196,78,82)",
          "dash": "solid"
         },
         "marker": {
          "symbol": "circle"
         },
         "mode": "lines",
         "name": "Accuracy - validation",
         "orientation": "v",
         "showlegend": true,
         "type": "scatter",
         "x": [
          0,
          1,
          2,
          3,
          4,
          5,
          6,
          7,
          8,
          9,
          10,
          11,
          12,
          13,
          14,
          15,
          16,
          17,
          18,
          19,
          20,
          21,
          22,
          23,
          24,
          25,
          26,
          27,
          28,
          29,
          30,
          31,
          32,
          33,
          34,
          35,
          36,
          37,
          38,
          39,
          40,
          41,
          42,
          43,
          44,
          45,
          46,
          47,
          48,
          49
         ],
         "xaxis": "x",
         "y": [
          0.6923076923076923,
          0.6923076923076923,
          0.6153846153846154,
          0.6153846153846154,
          0.6153846153846154,
          0.5384615384615384,
          0.6153846153846154,
          0.6153846153846154,
          0.6153846153846154,
          0.6153846153846154,
          0.6923076923076923,
          0.6923076923076923,
          0.6923076923076923,
          0.6923076923076923,
          0.6923076923076923,
          0.6153846153846154,
          0.46153846153846156,
          0.6153846153846154,
          0.6153846153846154,
          0.6153846153846154,
          0.6153846153846154,
          0.5384615384615384,
          0.6153846153846154,
          0.6153846153846154,
          0.5384615384615384,
          0.46153846153846156,
          0.46153846153846156,
          0.46153846153846156,
          0.6153846153846154,
          0.6153846153846154,
          0.6923076923076923,
          0.46153846153846156,
          0.6153846153846154,
          0.6153846153846154,
          0.5384615384615384,
          0.5384615384615384,
          0.5384615384615384,
          0.38461538461538464,
          0.5384615384615384,
          0.46153846153846156,
          0.5384615384615384,
          0.5384615384615384,
          0.5384615384615384,
          0.6153846153846154,
          0.6153846153846154,
          0.5384615384615384,
          0.46153846153846156,
          0.5384615384615384,
          0.46153846153846156,
          0.46153846153846156
         ],
         "yaxis": "y"
        }
       ],
       "layout": {
        "legend": {
         "title": {
          "text": "metric"
         },
         "tracegroupgap": 0
        },
        "margin": {
         "t": 60
        },
        "template": {
         "data": {
          "bar": [
           {
            "error_x": {
             "color": "rgb(36,36,36)"
            },
            "error_y": {
             "color": "rgb(36,36,36)"
            },
            "marker": {
             "line": {
              "color": "rgb(234,234,242)",
              "width": 0.5
             },
             "pattern": {
              "fillmode": "overlay",
              "size": 10,
              "solidity": 0.2
             }
            },
            "type": "bar"
           }
          ],
          "barpolar": [
           {
            "marker": {
             "line": {
              "color": "rgb(234,234,242)",
              "width": 0.5
             },
             "pattern": {
              "fillmode": "overlay",
              "size": 10,
              "solidity": 0.2
             }
            },
            "type": "barpolar"
           }
          ],
          "carpet": [
           {
            "aaxis": {
             "endlinecolor": "rgb(36,36,36)",
             "gridcolor": "white",
             "linecolor": "white",
             "minorgridcolor": "white",
             "startlinecolor": "rgb(36,36,36)"
            },
            "baxis": {
             "endlinecolor": "rgb(36,36,36)",
             "gridcolor": "white",
             "linecolor": "white",
             "minorgridcolor": "white",
             "startlinecolor": "rgb(36,36,36)"
            },
            "type": "carpet"
           }
          ],
          "choropleth": [
           {
            "colorbar": {
             "outlinewidth": 0,
             "tickcolor": "rgb(36,36,36)",
             "ticklen": 8,
             "ticks": "outside",
             "tickwidth": 2
            },
            "type": "choropleth"
           }
          ],
          "contour": [
           {
            "colorbar": {
             "outlinewidth": 0,
             "tickcolor": "rgb(36,36,36)",
             "ticklen": 8,
             "ticks": "outside",
             "tickwidth": 2
            },
            "colorscale": [
             [
              0,
              "rgb(2,4,25)"
             ],
             [
              0.06274509803921569,
              "rgb(24,15,41)"
             ],
             [
              0.12549019607843137,
              "rgb(47,23,57)"
             ],
             [
              0.18823529411764706,
              "rgb(71,28,72)"
             ],
             [
              0.25098039215686274,
              "rgb(97,30,82)"
             ],
             [
              0.3137254901960784,
              "rgb(123,30,89)"
             ],
             [
              0.3764705882352941,
              "rgb(150,27,91)"
             ],
             [
              0.4392156862745098,
              "rgb(177,22,88)"
             ],
             [
              0.5019607843137255,
              "rgb(203,26,79)"
             ],
             [
              0.5647058823529412,
              "rgb(223,47,67)"
             ],
             [
              0.6274509803921569,
              "rgb(236,76,61)"
             ],
             [
              0.6901960784313725,
              "rgb(242,107,73)"
             ],
             [
              0.7529411764705882,
              "rgb(244,135,95)"
             ],
             [
              0.8156862745098039,
              "rgb(245,162,122)"
             ],
             [
              0.8784313725490196,
              "rgb(246,188,153)"
             ],
             [
              0.9411764705882353,
              "rgb(247,212,187)"
             ],
             [
              1,
              "rgb(250,234,220)"
             ]
            ],
            "type": "contour"
           }
          ],
          "contourcarpet": [
           {
            "colorbar": {
             "outlinewidth": 0,
             "tickcolor": "rgb(36,36,36)",
             "ticklen": 8,
             "ticks": "outside",
             "tickwidth": 2
            },
            "type": "contourcarpet"
           }
          ],
          "heatmap": [
           {
            "colorbar": {
             "outlinewidth": 0,
             "tickcolor": "rgb(36,36,36)",
             "ticklen": 8,
             "ticks": "outside",
             "tickwidth": 2
            },
            "colorscale": [
             [
              0,
              "rgb(2,4,25)"
             ],
             [
              0.06274509803921569,
              "rgb(24,15,41)"
             ],
             [
              0.12549019607843137,
              "rgb(47,23,57)"
             ],
             [
              0.18823529411764706,
              "rgb(71,28,72)"
             ],
             [
              0.25098039215686274,
              "rgb(97,30,82)"
             ],
             [
              0.3137254901960784,
              "rgb(123,30,89)"
             ],
             [
              0.3764705882352941,
              "rgb(150,27,91)"
             ],
             [
              0.4392156862745098,
              "rgb(177,22,88)"
             ],
             [
              0.5019607843137255,
              "rgb(203,26,79)"
             ],
             [
              0.5647058823529412,
              "rgb(223,47,67)"
             ],
             [
              0.6274509803921569,
              "rgb(236,76,61)"
             ],
             [
              0.6901960784313725,
              "rgb(242,107,73)"
             ],
             [
              0.7529411764705882,
              "rgb(244,135,95)"
             ],
             [
              0.8156862745098039,
              "rgb(245,162,122)"
             ],
             [
              0.8784313725490196,
              "rgb(246,188,153)"
             ],
             [
              0.9411764705882353,
              "rgb(247,212,187)"
             ],
             [
              1,
              "rgb(250,234,220)"
             ]
            ],
            "type": "heatmap"
           }
          ],
          "heatmapgl": [
           {
            "colorbar": {
             "outlinewidth": 0,
             "tickcolor": "rgb(36,36,36)",
             "ticklen": 8,
             "ticks": "outside",
             "tickwidth": 2
            },
            "colorscale": [
             [
              0,
              "rgb(2,4,25)"
             ],
             [
              0.06274509803921569,
              "rgb(24,15,41)"
             ],
             [
              0.12549019607843137,
              "rgb(47,23,57)"
             ],
             [
              0.18823529411764706,
              "rgb(71,28,72)"
             ],
             [
              0.25098039215686274,
              "rgb(97,30,82)"
             ],
             [
              0.3137254901960784,
              "rgb(123,30,89)"
             ],
             [
              0.3764705882352941,
              "rgb(150,27,91)"
             ],
             [
              0.4392156862745098,
              "rgb(177,22,88)"
             ],
             [
              0.5019607843137255,
              "rgb(203,26,79)"
             ],
             [
              0.5647058823529412,
              "rgb(223,47,67)"
             ],
             [
              0.6274509803921569,
              "rgb(236,76,61)"
             ],
             [
              0.6901960784313725,
              "rgb(242,107,73)"
             ],
             [
              0.7529411764705882,
              "rgb(244,135,95)"
             ],
             [
              0.8156862745098039,
              "rgb(245,162,122)"
             ],
             [
              0.8784313725490196,
              "rgb(246,188,153)"
             ],
             [
              0.9411764705882353,
              "rgb(247,212,187)"
             ],
             [
              1,
              "rgb(250,234,220)"
             ]
            ],
            "type": "heatmapgl"
           }
          ],
          "histogram": [
           {
            "marker": {
             "pattern": {
              "fillmode": "overlay",
              "size": 10,
              "solidity": 0.2
             }
            },
            "type": "histogram"
           }
          ],
          "histogram2d": [
           {
            "colorbar": {
             "outlinewidth": 0,
             "tickcolor": "rgb(36,36,36)",
             "ticklen": 8,
             "ticks": "outside",
             "tickwidth": 2
            },
            "colorscale": [
             [
              0,
              "rgb(2,4,25)"
             ],
             [
              0.06274509803921569,
              "rgb(24,15,41)"
             ],
             [
              0.12549019607843137,
              "rgb(47,23,57)"
             ],
             [
              0.18823529411764706,
              "rgb(71,28,72)"
             ],
             [
              0.25098039215686274,
              "rgb(97,30,82)"
             ],
             [
              0.3137254901960784,
              "rgb(123,30,89)"
             ],
             [
              0.3764705882352941,
              "rgb(150,27,91)"
             ],
             [
              0.4392156862745098,
              "rgb(177,22,88)"
             ],
             [
              0.5019607843137255,
              "rgb(203,26,79)"
             ],
             [
              0.5647058823529412,
              "rgb(223,47,67)"
             ],
             [
              0.6274509803921569,
              "rgb(236,76,61)"
             ],
             [
              0.6901960784313725,
              "rgb(242,107,73)"
             ],
             [
              0.7529411764705882,
              "rgb(244,135,95)"
             ],
             [
              0.8156862745098039,
              "rgb(245,162,122)"
             ],
             [
              0.8784313725490196,
              "rgb(246,188,153)"
             ],
             [
              0.9411764705882353,
              "rgb(247,212,187)"
             ],
             [
              1,
              "rgb(250,234,220)"
             ]
            ],
            "type": "histogram2d"
           }
          ],
          "histogram2dcontour": [
           {
            "colorbar": {
             "outlinewidth": 0,
             "tickcolor": "rgb(36,36,36)",
             "ticklen": 8,
             "ticks": "outside",
             "tickwidth": 2
            },
            "colorscale": [
             [
              0,
              "rgb(2,4,25)"
             ],
             [
              0.06274509803921569,
              "rgb(24,15,41)"
             ],
             [
              0.12549019607843137,
              "rgb(47,23,57)"
             ],
             [
              0.18823529411764706,
              "rgb(71,28,72)"
             ],
             [
              0.25098039215686274,
              "rgb(97,30,82)"
             ],
             [
              0.3137254901960784,
              "rgb(123,30,89)"
             ],
             [
              0.3764705882352941,
              "rgb(150,27,91)"
             ],
             [
              0.4392156862745098,
              "rgb(177,22,88)"
             ],
             [
              0.5019607843137255,
              "rgb(203,26,79)"
             ],
             [
              0.5647058823529412,
              "rgb(223,47,67)"
             ],
             [
              0.6274509803921569,
              "rgb(236,76,61)"
             ],
             [
              0.6901960784313725,
              "rgb(242,107,73)"
             ],
             [
              0.7529411764705882,
              "rgb(244,135,95)"
             ],
             [
              0.8156862745098039,
              "rgb(245,162,122)"
             ],
             [
              0.8784313725490196,
              "rgb(246,188,153)"
             ],
             [
              0.9411764705882353,
              "rgb(247,212,187)"
             ],
             [
              1,
              "rgb(250,234,220)"
             ]
            ],
            "type": "histogram2dcontour"
           }
          ],
          "mesh3d": [
           {
            "colorbar": {
             "outlinewidth": 0,
             "tickcolor": "rgb(36,36,36)",
             "ticklen": 8,
             "ticks": "outside",
             "tickwidth": 2
            },
            "type": "mesh3d"
           }
          ],
          "parcoords": [
           {
            "line": {
             "colorbar": {
              "outlinewidth": 0,
              "tickcolor": "rgb(36,36,36)",
              "ticklen": 8,
              "ticks": "outside",
              "tickwidth": 2
             }
            },
            "type": "parcoords"
           }
          ],
          "pie": [
           {
            "automargin": true,
            "type": "pie"
           }
          ],
          "scatter": [
           {
            "marker": {
             "colorbar": {
              "outlinewidth": 0,
              "tickcolor": "rgb(36,36,36)",
              "ticklen": 8,
              "ticks": "outside",
              "tickwidth": 2
             }
            },
            "type": "scatter"
           }
          ],
          "scatter3d": [
           {
            "line": {
             "colorbar": {
              "outlinewidth": 0,
              "tickcolor": "rgb(36,36,36)",
              "ticklen": 8,
              "ticks": "outside",
              "tickwidth": 2
             }
            },
            "marker": {
             "colorbar": {
              "outlinewidth": 0,
              "tickcolor": "rgb(36,36,36)",
              "ticklen": 8,
              "ticks": "outside",
              "tickwidth": 2
             }
            },
            "type": "scatter3d"
           }
          ],
          "scattercarpet": [
           {
            "marker": {
             "colorbar": {
              "outlinewidth": 0,
              "tickcolor": "rgb(36,36,36)",
              "ticklen": 8,
              "ticks": "outside",
              "tickwidth": 2
             }
            },
            "type": "scattercarpet"
           }
          ],
          "scattergeo": [
           {
            "marker": {
             "colorbar": {
              "outlinewidth": 0,
              "tickcolor": "rgb(36,36,36)",
              "ticklen": 8,
              "ticks": "outside",
              "tickwidth": 2
             }
            },
            "type": "scattergeo"
           }
          ],
          "scattergl": [
           {
            "marker": {
             "colorbar": {
              "outlinewidth": 0,
              "tickcolor": "rgb(36,36,36)",
              "ticklen": 8,
              "ticks": "outside",
              "tickwidth": 2
             }
            },
            "type": "scattergl"
           }
          ],
          "scattermapbox": [
           {
            "marker": {
             "colorbar": {
              "outlinewidth": 0,
              "tickcolor": "rgb(36,36,36)",
              "ticklen": 8,
              "ticks": "outside",
              "tickwidth": 2
             }
            },
            "type": "scattermapbox"
           }
          ],
          "scatterpolar": [
           {
            "marker": {
             "colorbar": {
              "outlinewidth": 0,
              "tickcolor": "rgb(36,36,36)",
              "ticklen": 8,
              "ticks": "outside",
              "tickwidth": 2
             }
            },
            "type": "scatterpolar"
           }
          ],
          "scatterpolargl": [
           {
            "marker": {
             "colorbar": {
              "outlinewidth": 0,
              "tickcolor": "rgb(36,36,36)",
              "ticklen": 8,
              "ticks": "outside",
              "tickwidth": 2
             }
            },
            "type": "scatterpolargl"
           }
          ],
          "scatterternary": [
           {
            "marker": {
             "colorbar": {
              "outlinewidth": 0,
              "tickcolor": "rgb(36,36,36)",
              "ticklen": 8,
              "ticks": "outside",
              "tickwidth": 2
             }
            },
            "type": "scatterternary"
           }
          ],
          "surface": [
           {
            "colorbar": {
             "outlinewidth": 0,
             "tickcolor": "rgb(36,36,36)",
             "ticklen": 8,
             "ticks": "outside",
             "tickwidth": 2
            },
            "colorscale": [
             [
              0,
              "rgb(2,4,25)"
             ],
             [
              0.06274509803921569,
              "rgb(24,15,41)"
             ],
             [
              0.12549019607843137,
              "rgb(47,23,57)"
             ],
             [
              0.18823529411764706,
              "rgb(71,28,72)"
             ],
             [
              0.25098039215686274,
              "rgb(97,30,82)"
             ],
             [
              0.3137254901960784,
              "rgb(123,30,89)"
             ],
             [
              0.3764705882352941,
              "rgb(150,27,91)"
             ],
             [
              0.4392156862745098,
              "rgb(177,22,88)"
             ],
             [
              0.5019607843137255,
              "rgb(203,26,79)"
             ],
             [
              0.5647058823529412,
              "rgb(223,47,67)"
             ],
             [
              0.6274509803921569,
              "rgb(236,76,61)"
             ],
             [
              0.6901960784313725,
              "rgb(242,107,73)"
             ],
             [
              0.7529411764705882,
              "rgb(244,135,95)"
             ],
             [
              0.8156862745098039,
              "rgb(245,162,122)"
             ],
             [
              0.8784313725490196,
              "rgb(246,188,153)"
             ],
             [
              0.9411764705882353,
              "rgb(247,212,187)"
             ],
             [
              1,
              "rgb(250,234,220)"
             ]
            ],
            "type": "surface"
           }
          ],
          "table": [
           {
            "cells": {
             "fill": {
              "color": "rgb(231,231,240)"
             },
             "line": {
              "color": "white"
             }
            },
            "header": {
             "fill": {
              "color": "rgb(183,183,191)"
             },
             "line": {
              "color": "white"
             }
            },
            "type": "table"
           }
          ]
         },
         "layout": {
          "annotationdefaults": {
           "arrowcolor": "rgb(67,103,167)"
          },
          "autotypenumbers": "strict",
          "coloraxis": {
           "colorbar": {
            "outlinewidth": 0,
            "tickcolor": "rgb(36,36,36)",
            "ticklen": 8,
            "ticks": "outside",
            "tickwidth": 2
           }
          },
          "colorscale": {
           "sequential": [
            [
             0,
             "rgb(2,4,25)"
            ],
            [
             0.06274509803921569,
             "rgb(24,15,41)"
            ],
            [
             0.12549019607843137,
             "rgb(47,23,57)"
            ],
            [
             0.18823529411764706,
             "rgb(71,28,72)"
            ],
            [
             0.25098039215686274,
             "rgb(97,30,82)"
            ],
            [
             0.3137254901960784,
             "rgb(123,30,89)"
            ],
            [
             0.3764705882352941,
             "rgb(150,27,91)"
            ],
            [
             0.4392156862745098,
             "rgb(177,22,88)"
            ],
            [
             0.5019607843137255,
             "rgb(203,26,79)"
            ],
            [
             0.5647058823529412,
             "rgb(223,47,67)"
            ],
            [
             0.6274509803921569,
             "rgb(236,76,61)"
            ],
            [
             0.6901960784313725,
             "rgb(242,107,73)"
            ],
            [
             0.7529411764705882,
             "rgb(244,135,95)"
            ],
            [
             0.8156862745098039,
             "rgb(245,162,122)"
            ],
            [
             0.8784313725490196,
             "rgb(246,188,153)"
            ],
            [
             0.9411764705882353,
             "rgb(247,212,187)"
            ],
            [
             1,
             "rgb(250,234,220)"
            ]
           ],
           "sequentialminus": [
            [
             0,
             "rgb(2,4,25)"
            ],
            [
             0.06274509803921569,
             "rgb(24,15,41)"
            ],
            [
             0.12549019607843137,
             "rgb(47,23,57)"
            ],
            [
             0.18823529411764706,
             "rgb(71,28,72)"
            ],
            [
             0.25098039215686274,
             "rgb(97,30,82)"
            ],
            [
             0.3137254901960784,
             "rgb(123,30,89)"
            ],
            [
             0.3764705882352941,
             "rgb(150,27,91)"
            ],
            [
             0.4392156862745098,
             "rgb(177,22,88)"
            ],
            [
             0.5019607843137255,
             "rgb(203,26,79)"
            ],
            [
             0.5647058823529412,
             "rgb(223,47,67)"
            ],
            [
             0.6274509803921569,
             "rgb(236,76,61)"
            ],
            [
             0.6901960784313725,
             "rgb(242,107,73)"
            ],
            [
             0.7529411764705882,
             "rgb(244,135,95)"
            ],
            [
             0.8156862745098039,
             "rgb(245,162,122)"
            ],
            [
             0.8784313725490196,
             "rgb(246,188,153)"
            ],
            [
             0.9411764705882353,
             "rgb(247,212,187)"
            ],
            [
             1,
             "rgb(250,234,220)"
            ]
           ]
          },
          "colorway": [
           "rgb(76,114,176)",
           "rgb(221,132,82)",
           "rgb(85,168,104)",
           "rgb(196,78,82)",
           "rgb(129,114,179)",
           "rgb(147,120,96)",
           "rgb(218,139,195)",
           "rgb(140,140,140)",
           "rgb(204,185,116)",
           "rgb(100,181,205)"
          ],
          "font": {
           "color": "rgb(36,36,36)"
          },
          "geo": {
           "bgcolor": "white",
           "lakecolor": "white",
           "landcolor": "rgb(234,234,242)",
           "showlakes": true,
           "showland": true,
           "subunitcolor": "white"
          },
          "hoverlabel": {
           "align": "left"
          },
          "hovermode": "closest",
          "paper_bgcolor": "white",
          "plot_bgcolor": "rgb(234,234,242)",
          "polar": {
           "angularaxis": {
            "gridcolor": "white",
            "linecolor": "white",
            "showgrid": true,
            "ticks": ""
           },
           "bgcolor": "rgb(234,234,242)",
           "radialaxis": {
            "gridcolor": "white",
            "linecolor": "white",
            "showgrid": true,
            "ticks": ""
           }
          },
          "scene": {
           "xaxis": {
            "backgroundcolor": "rgb(234,234,242)",
            "gridcolor": "white",
            "gridwidth": 2,
            "linecolor": "white",
            "showbackground": true,
            "showgrid": true,
            "ticks": "",
            "zerolinecolor": "white"
           },
           "yaxis": {
            "backgroundcolor": "rgb(234,234,242)",
            "gridcolor": "white",
            "gridwidth": 2,
            "linecolor": "white",
            "showbackground": true,
            "showgrid": true,
            "ticks": "",
            "zerolinecolor": "white"
           },
           "zaxis": {
            "backgroundcolor": "rgb(234,234,242)",
            "gridcolor": "white",
            "gridwidth": 2,
            "linecolor": "white",
            "showbackground": true,
            "showgrid": true,
            "ticks": "",
            "zerolinecolor": "white"
           }
          },
          "shapedefaults": {
           "fillcolor": "rgb(67,103,167)",
           "line": {
            "width": 0
           },
           "opacity": 0.5
          },
          "ternary": {
           "aaxis": {
            "gridcolor": "white",
            "linecolor": "white",
            "showgrid": true,
            "ticks": ""
           },
           "baxis": {
            "gridcolor": "white",
            "linecolor": "white",
            "showgrid": true,
            "ticks": ""
           },
           "bgcolor": "rgb(234,234,242)",
           "caxis": {
            "gridcolor": "white",
            "linecolor": "white",
            "showgrid": true,
            "ticks": ""
           }
          },
          "xaxis": {
           "automargin": true,
           "gridcolor": "white",
           "linecolor": "white",
           "showgrid": true,
           "ticks": "",
           "title": {
            "standoff": 15
           },
           "zerolinecolor": "white"
          },
          "yaxis": {
           "automargin": true,
           "gridcolor": "white",
           "linecolor": "white",
           "showgrid": true,
           "ticks": "",
           "title": {
            "standoff": 15
           },
           "zerolinecolor": "white"
          }
         }
        },
        "xaxis": {
         "anchor": "y",
         "domain": [
          0,
          1
         ],
         "title": {
          "text": "step"
         }
        },
        "yaxis": {
         "anchor": "x",
         "domain": [
          0,
          1
         ],
         "title": {
          "text": "value"
         }
        }
       }
      }
     },
     "metadata": {},
     "output_type": "display_data"
    }
   ],
   "source": [
    "px.line(training_metrics, x='step', y='value', color='metric')"
   ]
  },
  {
   "cell_type": "code",
   "execution_count": 141,
   "metadata": {},
   "outputs": [
    {
     "data": {
      "text/html": [
       "<div>\n",
       "<style scoped>\n",
       "    .dataframe tbody tr th:only-of-type {\n",
       "        vertical-align: middle;\n",
       "    }\n",
       "\n",
       "    .dataframe tbody tr th {\n",
       "        vertical-align: top;\n",
       "    }\n",
       "\n",
       "    .dataframe thead th {\n",
       "        text-align: right;\n",
       "    }\n",
       "</style>\n",
       "<table border=\"1\" class=\"dataframe\">\n",
       "  <thead>\n",
       "    <tr style=\"text-align: right;\">\n",
       "      <th></th>\n",
       "      <th>metric</th>\n",
       "      <th>value</th>\n",
       "    </tr>\n",
       "  </thead>\n",
       "  <tbody>\n",
       "    <tr>\n",
       "      <th>0</th>\n",
       "      <td>Accuracy - testing</td>\n",
       "      <td>0.444444</td>\n",
       "    </tr>\n",
       "    <tr>\n",
       "      <th>1</th>\n",
       "      <td>ROC AUC - testing</td>\n",
       "      <td>0.425000</td>\n",
       "    </tr>\n",
       "    <tr>\n",
       "      <th>2</th>\n",
       "      <td>Precision - testing</td>\n",
       "      <td>0.333333</td>\n",
       "    </tr>\n",
       "    <tr>\n",
       "      <th>3</th>\n",
       "      <td>Recall - testing</td>\n",
       "      <td>0.250000</td>\n",
       "    </tr>\n",
       "    <tr>\n",
       "      <th>4</th>\n",
       "      <td>Fscore - testing</td>\n",
       "      <td>0.285714</td>\n",
       "    </tr>\n",
       "  </tbody>\n",
       "</table>\n",
       "</div>"
      ],
      "text/plain": [
       "                metric     value\n",
       "0   Accuracy - testing  0.444444\n",
       "1    ROC AUC - testing  0.425000\n",
       "2  Precision - testing  0.333333\n",
       "3     Recall - testing  0.250000\n",
       "4     Fscore - testing  0.285714"
      ]
     },
     "execution_count": 141,
     "metadata": {},
     "output_type": "execute_result"
    }
   ],
   "source": [
    "loader_test_args = dict(dataset=dataset_test, batch_size=len(dataset_test))\n",
    "\n",
    "loader_test = DenseDataLoader(**loader_test_args) if model.is_dense() \\\n",
    "    else DataLoader(**loader_test_args)\n",
    "\n",
    "test_metrics = TestingMetrics(epoch=75)\n",
    "test_metrics.compute_metrics(model, loader_test)\n",
    "pd.DataFrame(test_metrics.storage)"
   ]
  }
 ],
 "metadata": {
  "interpreter": {
   "hash": "947aba3e9b2ee8e94b9a4f86dd9db3bac2e8c16055cb5eb2c317ce168f84ce4b"
  },
  "kernelspec": {
   "display_name": "Python 3.8.10 64-bit ('ds': conda)",
   "name": "python3"
  },
  "language_info": {
   "codemirror_mode": {
    "name": "ipython",
    "version": 3
   },
   "file_extension": ".py",
   "mimetype": "text/x-python",
   "name": "python",
   "nbconvert_exporter": "python",
   "pygments_lexer": "ipython3",
   "version": "3.8.12"
  }
 },
 "nbformat": 4,
 "nbformat_minor": 5
}
