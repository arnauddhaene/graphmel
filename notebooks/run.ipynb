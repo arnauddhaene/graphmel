{
 "cells": [
  {
   "cell_type": "markdown",
   "id": "79589284-9fd2-481a-b49c-1fbc64723147",
   "metadata": {
    "tags": []
   },
   "source": [
    "## Test runner"
   ]
  },
  {
   "cell_type": "markdown",
   "id": "379d9e57-89c7-4271-97c2-02ddff910794",
   "metadata": {
    "tags": []
   },
   "source": [
    "### Import libraries"
   ]
  },
  {
   "cell_type": "code",
   "execution_count": 1,
   "id": "b67a0916-2989-4479-b091-c2263447e106",
   "metadata": {},
   "outputs": [],
   "source": [
    "import os, sys\n",
    "from typing import List, Tuple\n",
    "from collections.abc import Callable\n",
    "import time\n",
    "import datetime as dt\n",
    "from tqdm.notebook import tqdm"
   ]
  },
  {
   "cell_type": "code",
   "execution_count": 2,
   "id": "3fd71b21-e509-4781-863c-afe3b98a5b2a",
   "metadata": {},
   "outputs": [],
   "source": [
    "import pandas as pd\n",
    "import numpy as np\n",
    "import networkx as nx"
   ]
  },
  {
   "cell_type": "code",
   "execution_count": 3,
   "id": "74b4572d-a189-4915-bb5d-930d5593c03b",
   "metadata": {},
   "outputs": [],
   "source": [
    "from scipy.stats import wasserstein_distance"
   ]
  },
  {
   "cell_type": "code",
   "execution_count": 4,
   "id": "d989082f-b8e4-4625-84e3-91f698c641a3",
   "metadata": {},
   "outputs": [],
   "source": [
    "from sklearn.preprocessing import OneHotEncoder, StandardScaler, MultiLabelBinarizer\n",
    "from sklearn.base import BaseEstimator, TransformerMixin\n",
    "from sklearn.impute import SimpleImputer\n",
    "from sklearn.model_selection import train_test_split\n",
    "from sklearn.pipeline import Pipeline\n",
    "from sklearn.compose import ColumnTransformer, make_column_selector\n",
    "from sklearn.feature_extraction.text import CountVectorizer\n",
    "from sklearn.metrics import ConfusionMatrixDisplay, confusion_matrix"
   ]
  },
  {
   "cell_type": "code",
   "execution_count": 5,
   "id": "1503fd5d-0c95-4112-95ba-df1549c750da",
   "metadata": {},
   "outputs": [],
   "source": [
    "import torch\n",
    "from torch_geometric.data import Data\n",
    "from torch_geometric.loader import DataLoader, DenseDataLoader\n",
    "\n",
    "from torch_geometric.nn import GraphConv, global_add_pool, DenseGraphConv, dense_diff_pool\n",
    "import torch.nn.functional as F\n",
    "from torch.nn import NLLLoss\n",
    "\n",
    "from torch_geometric.utils import to_dense_adj, to_networkx\n",
    "from torch_geometric.transforms import ToDense"
   ]
  },
  {
   "cell_type": "code",
   "execution_count": 6,
   "id": "12f57fad-f38b-4fe2-988b-1770f196486f",
   "metadata": {},
   "outputs": [],
   "source": [
    "import matplotlib.pyplot as plt\n",
    "from matplotlib import rcParams\n",
    "rcParams['figure.figsize'] = 15, 8.27\n",
    "\n",
    "import seaborn as sns\n",
    "import plotly.express as px\n",
    "import plotly.io as pio\n",
    "pio.templates.default = 'seaborn'"
   ]
  },
  {
   "cell_type": "code",
   "execution_count": 7,
   "id": "7d7a647c-a585-4eaa-a74f-5ebb94eedc18",
   "metadata": {},
   "outputs": [],
   "source": [
    "from ipywidgets import interact, interact_manual, FloatSlider"
   ]
  },
  {
   "cell_type": "code",
   "execution_count": 8,
   "id": "837c40be-b6e2-4a26-948e-4eb0268cc031",
   "metadata": {},
   "outputs": [],
   "source": [
    "sys.path.append(os.path.abspath('..'))\n",
    "sys.path.append(os.path.abspath('../src/'))\n",
    "\n",
    "from src.utils import load_dataset, fetch_data, preprocess, create_dataset, \\\n",
    "                      DATA_FOLDERS, FILES, standardise_column_names\n",
    "from src.models import DiffPool, BaselineGNN\n",
    "from src.train import train\n",
    "from src.metrics import evaluate, TrainingMetrics, TestingMetrics\n",
    "\n",
    "CONNECTION_DIR = '/Users/adhaene/Downloads/'"
   ]
  },
  {
   "cell_type": "markdown",
   "id": "6723981b-4554-4dd7-8431-23a95ab89ec6",
   "metadata": {},
   "source": [
    "### Fetch data"
   ]
  },
  {
   "cell_type": "markdown",
   "id": "bafa5455",
   "metadata": {},
   "source": [
    "How many patients do we have both pre-01, post-01, and post-02 for?"
   ]
  },
  {
   "cell_type": "code",
   "execution_count": 9,
   "id": "4c736f53",
   "metadata": {},
   "outputs": [],
   "source": [
    "# sum(\n",
    "#     shape[shape.study_name.isin(['pre-01', 'post-01', 'post-02'])].groupby(['gpcr_id']).study_name.unique()\n",
    "#         .apply(len).to_numpy() > 2\n",
    "# )"
   ]
  },
  {
   "cell_type": "markdown",
   "id": "ade20ad5",
   "metadata": {},
   "source": [
    "### Dataset creation"
   ]
  },
  {
   "cell_type": "markdown",
   "id": "810cdf6b",
   "metadata": {},
   "source": [
    "### Placing data into DataLoaders"
   ]
  },
  {
   "cell_type": "code",
   "execution_count": 10,
   "id": "7fadf693",
   "metadata": {},
   "outputs": [],
   "source": [
    "test_size = 0.2\n",
    "seed = 42\n",
    "verbose = 0\n",
    "connectivity = 'wasserstein'\n",
    "distance = 3.0\n",
    "dense=False"
   ]
  },
  {
   "cell_type": "code",
   "execution_count": 21,
   "id": "028087b1",
   "metadata": {},
   "outputs": [],
   "source": [
    "labels, lesions, patients = fetch_data(suspicious=0.5, verbose=verbose)"
   ]
  },
  {
   "cell_type": "code",
   "execution_count": 27,
   "id": "1eda225c",
   "metadata": {},
   "outputs": [
    {
     "data": {
      "text/plain": [
       "(63, 66, 63)"
      ]
     },
     "execution_count": 27,
     "metadata": {},
     "output_type": "execute_result"
    }
   ],
   "source": [
    "len(labels), len(lesions.reset_index().gpcr_id.unique()), len(patients.reset_index().gpcr_id.unique())"
   ]
  },
  {
   "cell_type": "code",
   "execution_count": 22,
   "id": "c7705fde",
   "metadata": {},
   "outputs": [],
   "source": [
    "X_train, X_test, y_train, y_test = \\\n",
    "    preprocess(labels, lesions, patients,\n",
    "               test_size=0., seed=12, verbose=verbose)"
   ]
  },
  {
   "cell_type": "code",
   "execution_count": 23,
   "id": "531956a1",
   "metadata": {},
   "outputs": [
    {
     "data": {
      "text/plain": [
       "61"
      ]
     },
     "execution_count": 23,
     "metadata": {},
     "output_type": "execute_result"
    }
   ],
   "source": [
    "len(X_train.reset_index().gpcr_id.unique())"
   ]
  },
  {
   "cell_type": "code",
   "execution_count": 13,
   "id": "448c822b",
   "metadata": {},
   "outputs": [
    {
     "name": "stdout",
     "output_type": "stream",
     "text": [
      "Post-1 study lesions extracted for 106 patients\n",
      "Post-2 study labels added for 66 patients\n",
      "The intersection of datasets showed 63 potential datapoints.\n",
      "Final dataset split -> Train: 61 | Test: 0\n"
     ]
    }
   ],
   "source": [
    "dataset_train, dataset_test = \\\n",
    "        load_dataset(connectivity='wasserstein', seed=12, test_size=0.,\n",
    "                     suspicious=0.5, distance=2.0, verbose=1)"
   ]
  },
  {
   "cell_type": "code",
   "execution_count": 13,
   "id": "28333724",
   "metadata": {},
   "outputs": [],
   "source": [
    "# edge_index.split(split_sizes, dim=1), edge_weight.split(split_sizes, dim=0)"
   ]
  },
  {
   "cell_type": "code",
   "execution_count": 14,
   "id": "242d4b47-df74-45e4-92ff-bd8bf45a3268",
   "metadata": {},
   "outputs": [],
   "source": [
    "dataset_train = create_dataset(X=X_train, Y=y_train, distance=distance,\n",
    "                               connectivity=connectivity, verbose=verbose)\n",
    "\n",
    "dataset_test = create_dataset(X=X_test, Y=y_test, distance=distance,\n",
    "                              connectivity=connectivity, verbose=verbose)"
   ]
  },
  {
   "cell_type": "code",
   "execution_count": 28,
   "id": "c7a166f9",
   "metadata": {},
   "outputs": [],
   "source": [
    "from torch.utils.data import random_split\n",
    "from torch.utils.data import SubsetRandomSampler\n",
    "from torch_geometric.loader import DataLoader\n",
    "\n",
    "train_length = len(dataset_train)\n",
    "lengths = [round(train_length * 0.8), train_length - round(train_length * 0.8)]\n",
    "\n",
    "split = random_split(range(len(dataset_train)), lengths, generator=torch.Generator().manual_seed(42))"
   ]
  },
  {
   "cell_type": "code",
   "execution_count": 25,
   "id": "2056bf91",
   "metadata": {},
   "outputs": [
    {
     "data": {
      "text/plain": [
       "(array([ 2,  4,  5,  6,  7,  8,  9, 10, 11, 12, 15, 16, 17, 19, 20, 22, 23,\n",
       "        24, 25, 26, 27, 28, 29, 30, 31, 32, 33, 34, 35, 36, 38, 39, 41, 43,\n",
       "        44, 45, 46, 47, 48, 49, 50, 51, 53, 55, 56, 57, 59, 61, 62, 63, 64,\n",
       "        65, 67, 69, 71, 72, 73, 74, 75, 76, 77, 78, 79, 81, 82, 83, 84, 85]),\n",
       " array([ 0,  1,  3, 13, 14, 18, 21, 37, 40, 42, 52, 54, 58, 60, 66, 68, 70,\n",
       "        80]))"
      ]
     },
     "execution_count": 25,
     "metadata": {},
     "output_type": "execute_result"
    }
   ],
   "source": [
    "from sklearn.model_selection import KFold\n",
    "\n",
    "kfold = KFold(n_splits=5, shuffle=True)\n",
    "\n",
    "next(iter(kfold.split(dataset_train)))"
   ]
  },
  {
   "cell_type": "code",
   "execution_count": 32,
   "id": "7b9c34b6",
   "metadata": {},
   "outputs": [
    {
     "data": {
      "text/plain": [
       "(69, 17)"
      ]
     },
     "execution_count": 32,
     "metadata": {},
     "output_type": "execute_result"
    }
   ],
   "source": [
    "len(split[0]), len(split[1])"
   ]
  },
  {
   "cell_type": "code",
   "execution_count": 16,
   "id": "403995ac",
   "metadata": {},
   "outputs": [
    {
     "data": {
      "text/plain": [
       "86"
      ]
     },
     "execution_count": 16,
     "metadata": {},
     "output_type": "execute_result"
    }
   ],
   "source": [
    "len(dataset_train)"
   ]
  },
  {
   "cell_type": "code",
   "execution_count": 33,
   "id": "9d0493ca",
   "metadata": {},
   "outputs": [
    {
     "data": {
      "text/plain": [
       "(69, 17)"
      ]
     },
     "execution_count": 33,
     "metadata": {},
     "output_type": "execute_result"
    }
   ],
   "source": [
    "len(DataLoader(dataset=dataset_train, batch_size=1, sampler=SubsetRandomSampler(split[0]))), \\\n",
    "    len(DataLoader(dataset=dataset_train, batch_size=1, sampler=SubsetRandomSampler(split[1])))"
   ]
  },
  {
   "cell_type": "code",
   "execution_count": 34,
   "id": "70cf2e9d",
   "metadata": {},
   "outputs": [],
   "source": [
    "loader = DataLoader(dataset=dataset_train, batch_size=1, sampler=SubsetRandomSampler(split[0]))"
   ]
  },
  {
   "cell_type": "code",
   "execution_count": 35,
   "id": "7e0f2711",
   "metadata": {},
   "outputs": [
    {
     "data": {
      "text/plain": [
       "Batch(x=[58, 28], edge_index=[2, 1386], y=[1], study_features=[58, 18], patient_features=[2], graph_sizes=[2], split_sizes=[2], edge_weight=[1386], num_nodes=58, batch=[58], ptr=[2])"
      ]
     },
     "execution_count": 35,
     "metadata": {},
     "output_type": "execute_result"
    }
   ],
   "source": [
    "next(iter(loader))"
   ]
  },
  {
   "cell_type": "code",
   "execution_count": 147,
   "id": "bbd799a8",
   "metadata": {},
   "outputs": [],
   "source": [
    "loader_train_args = dict(dataset=dataset_train[:round(len(dataset_train) * .7)], batch_size=1)\n",
    "loader_valid_args = dict(dataset=dataset_train[round(len(dataset_train) * .7):], batch_size=1)\n",
    "        \n",
    "loader_train = DenseDataLoader(**loader_train_args) if dense \\\n",
    "    else DataLoader(**loader_train_args)\n",
    "loader_valid = DenseDataLoader(**loader_valid_args) if dense \\\n",
    "    else DataLoader(**loader_valid_args)"
   ]
  },
  {
   "cell_type": "markdown",
   "id": "c71d1981",
   "metadata": {},
   "source": [
    "## Modeling"
   ]
  },
  {
   "cell_type": "markdown",
   "id": "b3895f5c",
   "metadata": {},
   "source": [
    "### Model"
   ]
  },
  {
   "cell_type": "code",
   "execution_count": 148,
   "id": "071efd18",
   "metadata": {},
   "outputs": [],
   "source": [
    "import torch\n",
    "import torch.nn.functional as F\n",
    "from torch.nn import Linear, LogSoftmax, ModuleList, Sequential, BatchNorm1d, ReLU\n",
    "\n",
    "from torch_geometric.nn import GATv2Conv as GATConv, GraphConv, GINConv\n",
    "from torch_geometric.nn import global_mean_pool as gap, global_max_pool as gmp\n",
    "\n",
    "from models.custom import SparseModule\n",
    "\n",
    "\n",
    "class BaselineGNN(SparseModule):\n",
    "    def __init__(self, lesion_features_dim: int, hidden_dim: int, \n",
    "                 layer_type: str = 'GraphConv', num_layers: int = 10):\n",
    "        super(BaselineGNN, self).__init__()\n",
    "        \n",
    "        self.layer_type = layer_type\n",
    "        self.num_layers = num_layers\n",
    "        \n",
    "        self.convs = ModuleList()\n",
    "\n",
    "        feature_extractor = \\\n",
    "            self.create_layer(in_channels=lesion_features_dim, out_channels=hidden_dim)\n",
    "\n",
    "        self.convs.append(feature_extractor)\n",
    "        \n",
    "        for step in range(num_layers - 1):\n",
    "            layer = \\\n",
    "                self.create_layer(in_channels=hidden_dim, out_channels=hidden_dim)\n",
    "            \n",
    "            self.convs.append(layer)\n",
    "    \n",
    "    def forward(self, x: torch.Tensor, edge_index: torch.Tensor,\n",
    "                edge_weight: torch.Tensor = None) -> torch.Tensor:\n",
    "\n",
    "        # Wasserstein edge weights are added if GraphConv layers are used\n",
    "        if self.layer_type == 'GNN':\n",
    "            conv_kwargs = dict(edge_weight=edge_weight)\n",
    "        else:\n",
    "            conv_kwargs = dict()\n",
    "        \n",
    "        for step in range(len(self.convs)):\n",
    "            x = F.relu(self.convs[step](x, edge_index, **conv_kwargs))\n",
    "        \n",
    "        return x\n",
    "        \n",
    "        \n",
    "    def create_layer(self, **kwargs):\n",
    "        \"\"\"Create layer based on type\n",
    "\n",
    "        Args:\n",
    "            type (str): layer type\n",
    "\n",
    "        Raises:\n",
    "            ValueError: if type is not accepted within framework\n",
    "\n",
    "        Returns:\n",
    "            nn.Module: layer\n",
    "        \"\"\"\n",
    "\n",
    "        if self.layer_type == 'GraphConv':\n",
    "            return GraphConv(**kwargs)\n",
    "        elif self.layer_type == 'GAT':\n",
    "            return GATConv(**kwargs)\n",
    "        elif self.layer_type == 'GIN':\n",
    "            node_features, dim = kwargs['in_channels'], kwargs['out_channels']\n",
    "            return GINConv(Sequential(\n",
    "                Linear(node_features, dim), BatchNorm1d(dim), ReLU(),\n",
    "                Linear(dim, dim), ReLU()))\n",
    "        else:\n",
    "            raise ValueError(f'{self.layer_type} is not a valid layer type')"
   ]
  },
  {
   "cell_type": "code",
   "execution_count": 149,
   "id": "be98a48b",
   "metadata": {},
   "outputs": [],
   "source": [
    "data = next(iter(loader_train))"
   ]
  },
  {
   "cell_type": "code",
   "execution_count": 150,
   "id": "7097a0cb",
   "metadata": {},
   "outputs": [],
   "source": [
    "gnn = BaselineGNN(lesion_features_dim=28, hidden_dim=16)"
   ]
  },
  {
   "cell_type": "code",
   "execution_count": 162,
   "id": "765eff78",
   "metadata": {},
   "outputs": [
    {
     "data": {
      "text/plain": [
       "tensor([[ 0.2495, -0.6099, -0.2123, -1.0354, -0.5818, -1.3415, -0.4875,  1.0000,\n",
       "          0.0000,  0.0000,  1.0000,  1.0000,  0.0000,  0.0000,  0.0000,  1.0000],\n",
       "        [ 0.5462, -0.6099, -0.8766, -0.0798, -0.3491, -0.1645, -0.2000,  1.0000,\n",
       "          0.0000,  0.0000,  1.0000,  1.0000,  0.0000,  0.0000,  0.0000,  1.0000],\n",
       "        [ 0.2495, -0.6099, -0.2123, -1.0354, -0.5818, -1.3415, -0.4875,  1.0000,\n",
       "          0.0000,  0.0000,  1.0000,  1.0000,  0.0000,  0.0000,  0.0000,  1.0000],\n",
       "        [ 0.5462, -0.6099, -0.8766, -0.0798, -0.3491, -0.1645, -0.2000,  1.0000,\n",
       "          0.0000,  0.0000,  1.0000,  1.0000,  0.0000,  0.0000,  0.0000,  1.0000]],\n",
       "       dtype=torch.float64)"
      ]
     },
     "execution_count": 162,
     "metadata": {},
     "output_type": "execute_result"
    }
   ],
   "source": [
    "data.study_features.repeat(2, 1)"
   ]
  },
  {
   "cell_type": "code",
   "execution_count": 73,
   "id": "b20777df",
   "metadata": {},
   "outputs": [
    {
     "data": {
      "text/plain": [
       "Batch(x=[6, 28], edge_index=[2, 6], y=[1], study_features=[2, 16], patient_features=[2], graph_sizes=[2], split_sizes=[2], edge_weight=[6], batch=[6], ptr=[2])"
      ]
     },
     "execution_count": 73,
     "metadata": {},
     "output_type": "execute_result"
    }
   ],
   "source": [
    "data"
   ]
  },
  {
   "cell_type": "code",
   "execution_count": 74,
   "id": "63acf8dc",
   "metadata": {},
   "outputs": [],
   "source": [
    "study_features, patient_features = data.study_features, data.patient_features\n",
    "\n",
    "xes = list(data.x.split(tuple(data.graph_sizes)))\n",
    "edge_indices = list(data.edge_index.split(tuple(data.split_sizes), dim=1))\n",
    "batches = list(data.batch.split(tuple(data.graph_sizes)))\n",
    "\n",
    "study_embeddings = []\n",
    "\n",
    "for i, (x, edge_index, batch) in enumerate(zip(xes, edge_indices, batches)):\n",
    "    study_embeddings.append(torch.cat([\n",
    "        gmp(gnn(x, edge_index), batch), gap(gnn(x, edge_index), batch),\n",
    "        study_features[i, :].reshape(1, -1)], dim=1).t())\n"
   ]
  },
  {
   "cell_type": "code",
   "execution_count": 78,
   "id": "283524c7",
   "metadata": {},
   "outputs": [
    {
     "data": {
      "text/plain": [
       "torch.Size([1, 48, 2])"
      ]
     },
     "execution_count": 78,
     "metadata": {},
     "output_type": "execute_result"
    }
   ],
   "source": [
    "torch.cat(study_embeddings, dim=1).reshape(1, -1, 2).shape"
   ]
  },
  {
   "cell_type": "code",
   "execution_count": 98,
   "id": "0c866665",
   "metadata": {},
   "outputs": [
    {
     "data": {
      "text/plain": [
       "torch.Size([48])"
      ]
     },
     "execution_count": 98,
     "metadata": {},
     "output_type": "execute_result"
    }
   ],
   "source": [
    "\n",
    "study_pooled = torch.cat(study_embeddings, dim=1).reshape(-1, len(xes)).mean(dim=1)\n",
    "study_pooled.shape"
   ]
  },
  {
   "cell_type": "code",
   "execution_count": 99,
   "id": "30fa135d",
   "metadata": {},
   "outputs": [
    {
     "data": {
      "text/plain": [
       "torch.Size([50])"
      ]
     },
     "execution_count": 99,
     "metadata": {},
     "output_type": "execute_result"
    }
   ],
   "source": [
    "\n",
    "patient_pooled = torch.cat([study_pooled.flatten(), patient_features], dim=0)\n",
    "patient_pooled.shape"
   ]
  },
  {
   "cell_type": "code",
   "execution_count": 87,
   "id": "6d261aaf",
   "metadata": {},
   "outputs": [
    {
     "data": {
      "text/plain": [
       "torch.Size([2])"
      ]
     },
     "execution_count": 87,
     "metadata": {},
     "output_type": "execute_result"
    }
   ],
   "source": [
    "\n",
    "patient_pooled = F.relu(fc1(patient_pooled)).to(dtype=torch.float64)\n",
    "patient_pooled = F.dropout(patient_pooled, p=0.5, training=True).to(dtype=torch.float64)\n",
    "patient_pooled = fc2(patient_pooled)\n",
    "patient_pooled.shape"
   ]
  },
  {
   "cell_type": "code",
   "execution_count": 40,
   "id": "0c563427",
   "metadata": {},
   "outputs": [],
   "source": [
    "conv = torch.nn.Conv1d(in_channels=48, out_channels=16, kernel_size=4, padding=1).to(dtype=torch.float64)"
   ]
  },
  {
   "cell_type": "code",
   "execution_count": 46,
   "id": "ae6f648f",
   "metadata": {},
   "outputs": [],
   "source": [
    "fc1 = Linear(16 + data.patient_features.shape[0], 16).to(dtype=torch.float64)\n",
    "fc2 = Linear(16, 2).to(dtype=torch.float64)"
   ]
  },
  {
   "cell_type": "code",
   "execution_count": 88,
   "id": "6a5749b7",
   "metadata": {},
   "outputs": [
    {
     "data": {
      "text/plain": [
       "tensor([-0.6564, -0.7313], dtype=torch.float64, grad_fn=<LogSoftmaxBackward>)"
      ]
     },
     "execution_count": 88,
     "metadata": {},
     "output_type": "execute_result"
    }
   ],
   "source": [
    "LogSoftmax(dim=-1)(patient_pooled)"
   ]
  },
  {
   "cell_type": "code",
   "execution_count": 101,
   "id": "5b2215c5",
   "metadata": {},
   "outputs": [],
   "source": [
    "from torch import nn\n",
    "\n",
    "class TimeGNN(SparseModule):\n",
    "    def __init__(\n",
    "        self,\n",
    "        num_classes: int,\n",
    "        hidden_dim: int,\n",
    "        lesion_features_dim: int,\n",
    "        study_features_dim: int,\n",
    "        patient_features_dim: int,\n",
    "        layer_type: str = 'GraphConv',\n",
    "        num_layers: int = 10,\n",
    "    ):\n",
    "        super(TimeGNN, self).__init__()\n",
    "        \n",
    "        self.gnn = BaselineGNN(lesion_features_dim=lesion_features_dim, hidden_dim=hidden_dim,\n",
    "                               layer_type=layer_type, num_layers=num_layers)\n",
    "        \n",
    "        # self.conv = nn.Conv1d(in_channels=(hidden_dim * 2 + study_features_dim), out_channels=hidden_dim,\n",
    "        #                       kernel_size=4, padding=1).to(dtype=torch.float64)\n",
    "\n",
    "        self.fc1 = Linear(hidden_dim * 2 + study_features_dim + patient_features_dim, hidden_dim).to(dtype=torch.float64)\n",
    "        self.fc2 = Linear(hidden_dim, num_classes).to(dtype=torch.float64)\n",
    "\n",
    "        self.readout = LogSoftmax(dim=-1).to(dtype=torch.float64)\n",
    "\n",
    "    def forward(self, data):\n",
    "        \n",
    "        study_features, patient_features = data.study_features, data.patient_features\n",
    "        \n",
    "        xes = list(data.x.split(tuple(data.graph_sizes)))\n",
    "        edge_indices = list(data.edge_index.split(tuple(data.split_sizes), dim=1))\n",
    "        batches = list(data.batch.split(tuple(data.graph_sizes)))\n",
    "        \n",
    "        study_embeddings = []\n",
    "        \n",
    "        for i, (x, edge_index, batch) in enumerate(zip(xes, edge_indices, batches)):\n",
    "            study_embeddings.append(torch.cat([\n",
    "                gmp(self.gnn(x, edge_index), batch), gap(self.gnn(x, edge_index), batch),\n",
    "                study_features[i, :].reshape(1, -1)], dim=1).t())\n",
    "        \n",
    "        study_pooled = torch.cat(study_embeddings, dim=1).reshape(-1, len(xes)).mean(dim=1)\n",
    "        \n",
    "        patient_pooled = torch.cat([study_pooled.flatten(), patient_features], dim=0)\n",
    "        \n",
    "        patient_pooled = F.relu(self.fc1(patient_pooled)).to(dtype=torch.float64)\n",
    "        patient_pooled = F.dropout(patient_pooled, p=0.5, training=self.training).to(dtype=torch.float64)\n",
    "        patient_pooled = self.fc2(patient_pooled)\n",
    "        \n",
    "        return self.readout(patient_pooled).reshape(1, -1)\n",
    "    \n",
    "    def __str__(self) -> str:\n",
    "        \"\"\"Representation\"\"\"\n",
    "        return f'Baseline GNN with {self.num_layers} {self.layer_type} layers'"
   ]
  },
  {
   "cell_type": "markdown",
   "id": "3931d0e2",
   "metadata": {},
   "source": [
    "### Instantiate model"
   ]
  },
  {
   "cell_type": "code",
   "execution_count": 127,
   "id": "d978936e-e9b0-4403-881d-677ad12948f5",
   "metadata": {},
   "outputs": [],
   "source": [
    "model_args = dict(\n",
    "    num_classes=2,\n",
    "    hidden_dim=64,\n",
    "    lesion_features_dim=loader_train.dataset[0].x.shape[1],\n",
    "    study_features_dim=loader_train.dataset[0].study_features.shape[1],\n",
    "    patient_features_dim=loader_train.dataset[0].patient_features.shape[0],\n",
    "    num_layers=5)\n",
    "\n",
    "# model = BaselineGNN(layer_type='GAT', **model_args)\n",
    "\n",
    "model = TimeGNN(**model_args)\n",
    "\n",
    "model.reset()\n",
    "\n",
    "criterion = NLLLoss()\n",
    "optimizer = torch.optim.Adam(\n",
    "    model.parameters(), lr=0.001, weight_decay=0.01)\n",
    "\n",
    "device = None\n",
    "dense = model.is_dense()"
   ]
  },
  {
   "cell_type": "code",
   "execution_count": 128,
   "id": "ee661100",
   "metadata": {},
   "outputs": [
    {
     "data": {
      "text/plain": [
       "46210"
      ]
     },
     "execution_count": 128,
     "metadata": {},
     "output_type": "execute_result"
    }
   ],
   "source": [
    "model.param_count()"
   ]
  },
  {
   "cell_type": "markdown",
   "id": "0ccf58a5",
   "metadata": {},
   "source": [
    "## Train model"
   ]
  },
  {
   "cell_type": "code",
   "execution_count": 129,
   "id": "86967471-5bd3-4d47-bdb9-2fe55c8a6062",
   "metadata": {},
   "outputs": [
    {
     "data": {
      "application/vnd.jupyter.widget-view+json": {
       "model_id": "025f41ea8d5043f8925e165e673460d6",
       "version_major": 2,
       "version_minor": 0
      },
      "text/plain": [
       "  0%|          | 0/200 [00:00<?, ?it/s]"
      ]
     },
     "metadata": {},
     "output_type": "display_data"
    },
    {
     "name": "stdout",
     "output_type": "stream",
     "text": [
      "Epoch: 000, Train: 0.690, Val: 0.692, Loss: 573.415, Val. loss: 1.881\n",
      "Epoch: 010, Train: 0.897, Val: 0.538, Loss: 64.572, Val. loss: 53.927\n",
      "Epoch: 020, Train: 0.862, Val: 0.538, Loss: 10.109, Val. loss: 3.818\n",
      "Epoch: 030, Train: 1.000, Val: 0.615, Loss: 7.279, Val. loss: 205.207\n",
      "Epoch: 040, Train: 0.690, Val: 0.462, Loss: 2659.334, Val. loss: 1166.282\n",
      "Epoch: 050, Train: 0.862, Val: 0.462, Loss: 21.632, Val. loss: 307.849\n",
      "Epoch: 060, Train: 0.931, Val: 0.462, Loss: 9.257, Val. loss: 323.130\n",
      "Epoch: 070, Train: 0.897, Val: 0.615, Loss: 13.790, Val. loss: 438.445\n",
      "Epoch: 080, Train: 0.931, Val: 0.615, Loss: 8.046, Val. loss: 119.201\n",
      "Epoch: 090, Train: 1.000, Val: 0.615, Loss: 5.940, Val. loss: 3.788\n",
      "Epoch: 100, Train: 0.966, Val: 0.615, Loss: 7.037, Val. loss: 124.940\n",
      "Epoch: 110, Train: 0.966, Val: 0.538, Loss: 5.325, Val. loss: 147.924\n",
      "Epoch: 120, Train: 1.000, Val: 0.615, Loss: 4.597, Val. loss: 160.087\n",
      "Epoch: 130, Train: 1.000, Val: 0.615, Loss: 4.365, Val. loss: 166.396\n",
      "Epoch: 140, Train: 1.000, Val: 0.615, Loss: 3.711, Val. loss: 174.384\n",
      "Epoch: 150, Train: 1.000, Val: 0.615, Loss: 2.889, Val. loss: 174.615\n",
      "Epoch: 160, Train: 1.000, Val: 0.615, Loss: 1.889, Val. loss: 194.796\n",
      "Epoch: 170, Train: 0.724, Val: 0.462, Loss: 25536.172, Val. loss: 340.197\n",
      "Epoch: 180, Train: 0.897, Val: 0.692, Loss: 12.241, Val. loss: 309.423\n",
      "Epoch: 190, Train: 1.000, Val: 0.615, Loss: 4.705, Val. loss: 77.788\n"
     ]
    }
   ],
   "source": [
    "metrics = TrainingMetrics()\n",
    "\n",
    "for epoch in tqdm(range(200)):\n",
    "    epoch_loss = 0.\n",
    "\n",
    "    model.train()\n",
    "    \n",
    "    for data in loader_train:\n",
    "        data.to(device)\n",
    "        \n",
    "        output = model(data)\n",
    "        \n",
    "        loss = criterion(output, data.y.flatten())\n",
    "\n",
    "        optimizer.zero_grad()\n",
    "        \n",
    "        epoch_loss += loss.item()\n",
    "        loss.backward()\n",
    "        \n",
    "        optimizer.step()\n",
    "        \n",
    "    acc_train, _ = evaluate(model, loader_train)\n",
    "    acc_valid, loss_valid = evaluate(model, loader_valid, validation=True)\n",
    "\n",
    "    \n",
    "    if epoch % 10 == 0:\n",
    "        print(f'Epoch: {epoch:03d}, Train: {acc_train:.3f}, Val: {acc_valid:.3f}, Loss: {epoch_loss:.3f}, Val. loss: {loss_valid:.3f}')\n",
    "        \n",
    "    with torch.no_grad():\n",
    "        metrics.log_metric('Loss - training', epoch_loss, step=epoch)\n",
    "        metrics.log_metric('Loss - validation', loss_valid, step=epoch)\n",
    "        metrics.log_metric('Accuracy - training', acc_train, step=epoch)\n",
    "        metrics.log_metric('Accuracy - validation', acc_valid, step=epoch)"
   ]
  },
  {
   "cell_type": "markdown",
   "id": "305e074b",
   "metadata": {},
   "source": [
    " ## Evaluate training metrics"
   ]
  },
  {
   "cell_type": "code",
   "execution_count": 131,
   "id": "04598e4d",
   "metadata": {},
   "outputs": [],
   "source": [
    "training_metrics = pd.DataFrame(metrics.storage)"
   ]
  },
  {
   "cell_type": "code",
   "execution_count": 132,
   "id": "fd388ebc",
   "metadata": {},
   "outputs": [
    {
     "data": {
      "application/vnd.plotly.v1+json": {
       "config": {
        "plotlyServerURL": "https://plot.ly"
       },
       "data": [
        {
         "hovertemplate": "metric=Loss - training<br>step=%{x}<br>value=%{y}<extra></extra>",
         "legendgroup": "Loss - training",
         "line": {
          "color": "rgb(76,114,176)",
          "dash": "solid"
         },
         "marker": {
          "symbol": "circle"
         },
         "mode": "lines",
         "name": "Loss - training",
         "orientation": "v",
         "showlegend": true,
         "type": "scatter",
         "x": [
          0,
          1,
          2,
          3,
          4,
          5,
          6,
          7,
          8,
          9,
          10,
          11,
          12,
          13,
          14,
          15,
          16,
          17,
          18,
          19,
          20,
          21,
          22,
          23,
          24,
          25,
          26,
          27,
          28,
          29,
          30,
          31,
          32,
          33,
          34,
          35,
          36,
          37,
          38,
          39,
          40,
          41,
          42,
          43,
          44,
          45,
          46,
          47,
          48,
          49,
          50,
          51,
          52,
          53,
          54,
          55,
          56,
          57,
          58,
          59,
          60,
          61,
          62,
          63,
          64,
          65,
          66,
          67,
          68,
          69,
          70,
          71,
          72,
          73,
          74,
          75,
          76,
          77,
          78,
          79,
          80,
          81,
          82,
          83,
          84,
          85,
          86,
          87,
          88,
          89,
          90,
          91,
          92,
          93,
          94,
          95,
          96,
          97,
          98,
          99,
          100,
          101,
          102,
          103,
          104,
          105,
          106,
          107,
          108,
          109,
          110,
          111,
          112,
          113,
          114,
          115,
          116,
          117,
          118,
          119,
          120,
          121,
          122,
          123,
          124,
          125,
          126,
          127,
          128,
          129,
          130,
          131,
          132,
          133,
          134,
          135,
          136,
          137,
          138,
          139,
          140,
          141,
          142,
          143,
          144,
          145,
          146,
          147,
          148,
          149,
          150,
          151,
          152,
          153,
          154,
          155,
          156,
          157,
          158,
          159,
          160,
          161,
          162,
          163,
          164,
          165,
          166,
          167,
          168,
          169,
          170,
          171,
          172,
          173,
          174,
          175,
          176,
          177,
          178,
          179,
          180,
          181,
          182,
          183,
          184,
          185,
          186,
          187,
          188,
          189,
          190,
          191,
          192,
          193,
          194,
          195,
          196,
          197,
          198,
          199
         ],
         "xaxis": "x",
         "y": [
          573.4153993189815,
          275.6506807355546,
          2239.246876531218,
          365.0777326085162,
          1030.379303295711,
          90.95190107538467,
          153.38455992123966,
          24.65537611528333,
          196.80595848896564,
          12.85253630266374,
          64.57239973376117,
          13.57609067820664,
          11.430400199200825,
          30.783669258930676,
          12.377796129615467,
          29.928906944815843,
          11.45843113485483,
          10.824915892680707,
          10.74295116647144,
          9.74288783960084,
          10.109241052383599,
          657.1596697781637,
          189.00630212547262,
          240.49171145651914,
          40.165067970992936,
          10.165867028089824,
          8.98834408822955,
          10.118226215562414,
          8.638934611167338,
          7.347364696156926,
          7.279012082312082,
          7.361637169069604,
          6.440920763706082,
          6.381050190554933,
          5.973919649509208,
          6.592808950939225,
          6.219096122915849,
          6.408970270630094,
          3165.6631291093877,
          3721.2803370157562,
          2659.333933656575,
          5469.388975506717,
          64.06730856707125,
          418.89928313320263,
          21.379879993983003,
          16.555707404956777,
          63.152117741147215,
          102.52711154276689,
          17.610273138873385,
          13.911019179860235,
          21.631577488500277,
          14.776161235664937,
          12.817567152922777,
          15.101727750912403,
          10.425879446767366,
          10.231765117982155,
          12.203013161061271,
          9.588582922881695,
          9.073288322013607,
          9.312283812941187,
          9.25712334786374,
          24.505110290528947,
          42.926542228444426,
          18.915221578374258,
          11.477635591037664,
          9.258924425514392,
          9.262876178311144,
          10.784204203169683,
          63.754060743201826,
          27.35538085936777,
          13.790392506560718,
          8.572744993289582,
          9.949007680063632,
          10.028826403519073,
          8.596801359090016,
          8.906113041118203,
          7.915978317904905,
          7.736546238260274,
          8.217701391308118,
          7.757255059960022,
          8.046310698548568,
          7.473316692876381,
          7.409315536542017,
          7.155281197799903,
          6.780835051615218,
          6.530576267076989,
          6.792910879022475,
          6.932050766205009,
          6.717700863128848,
          6.867430306699392,
          5.939992597386182,
          6.302851343731202,
          6.3837575603512455,
          5694.045657865363,
          272.30572000188084,
          59.57932578152275,
          568.9547807619123,
          41.71936479912622,
          11.42688062631976,
          285.6907224119056,
          7.037094832168321,
          7.203774864784979,
          6.996485889083537,
          8.01611413093205,
          5.831657499135323,
          6.1833152602068955,
          995.366600490253,
          118.42239407672876,
          11.887221914365597,
          7.398380208461394,
          5.325063449049069,
          7.429320943928997,
          5.790280492198715,
          4.739528935530882,
          6.436217514791054,
          5.402429734722374,
          5.675291598576124,
          5.985025150986299,
          6.4053033753244755,
          5.250540093230156,
          4.596838923087892,
          4.031005201003092,
          4.337559915468755,
          4.838675300573562,
          4.31229140228041,
          6.482151714315034,
          4.679703244342402,
          3.527088787446941,
          4.575731289381315,
          3.9776364268003457,
          4.364720172031833,
          4.619891964187488,
          4.651953345974205,
          3.814757737655149,
          4.380850789821706,
          4.630090254173038,
          4.345128261728552,
          3.9749320730124174,
          4.686257549628491,
          3.388392891374116,
          3.710763577444453,
          3.2033388346176417,
          3.1355645159133014,
          3.7248236516274913,
          2.9716029098877264,
          2.808782658384448,
          1.9937918948224718,
          2.9829610035405527,
          4.017549278692656,
          2.982509666625849,
          2.8885710463461525,
          2.099347013601327,
          2.8585139571620513,
          2.601408943224014,
          2.729880479362969,
          3.730647679044118,
          2.3489705620208334,
          3.3943497637266944,
          1.794817980405063,
          2.9734640668303496,
          1.8890216265582147,
          3.9495551004805267,
          2.7501501335905725,
          2.9554700569987604,
          2.999505517076937,
          1.8597085994479494,
          1.9010365731046321,
          2.2983237711049473,
          2540.7687970013567,
          9861.256503626904,
          25536.172032837654,
          386.6741400507593,
          55.62011441374722,
          511.97074878043014,
          647.9102290711703,
          23.625616695137825,
          76.03606324293845,
          67.7029086315963,
          9.135680119170962,
          10.259841719854773,
          12.241309946952878,
          12.337397182724052,
          9.96560126314113,
          580.6977600864724,
          160.69784502531485,
          6.206084431924809,
          5.284175778707763,
          8.321676935157937,
          4.441578133416139,
          5.433913002225686,
          4.704742519739959,
          5.169974201016719,
          3.4462539709640936,
          6.431952391298148,
          3.7974499008717735,
          3.418780472850808,
          2.739183384290893,
          1671.9096355125037,
          4.517135891493619,
          3.8697377023445125
         ],
         "yaxis": "y"
        },
        {
         "hovertemplate": "metric=Loss - validation<br>step=%{x}<br>value=%{y}<extra></extra>",
         "legendgroup": "Loss - validation",
         "line": {
          "color": "rgb(221,132,82)",
          "dash": "solid"
         },
         "marker": {
          "symbol": "circle"
         },
         "mode": "lines",
         "name": "Loss - validation",
         "orientation": "v",
         "showlegend": true,
         "type": "scatter",
         "x": [
          0,
          1,
          2,
          3,
          4,
          5,
          6,
          7,
          8,
          9,
          10,
          11,
          12,
          13,
          14,
          15,
          16,
          17,
          18,
          19,
          20,
          21,
          22,
          23,
          24,
          25,
          26,
          27,
          28,
          29,
          30,
          31,
          32,
          33,
          34,
          35,
          36,
          37,
          38,
          39,
          40,
          41,
          42,
          43,
          44,
          45,
          46,
          47,
          48,
          49,
          50,
          51,
          52,
          53,
          54,
          55,
          56,
          57,
          58,
          59,
          60,
          61,
          62,
          63,
          64,
          65,
          66,
          67,
          68,
          69,
          70,
          71,
          72,
          73,
          74,
          75,
          76,
          77,
          78,
          79,
          80,
          81,
          82,
          83,
          84,
          85,
          86,
          87,
          88,
          89,
          90,
          91,
          92,
          93,
          94,
          95,
          96,
          97,
          98,
          99,
          100,
          101,
          102,
          103,
          104,
          105,
          106,
          107,
          108,
          109,
          110,
          111,
          112,
          113,
          114,
          115,
          116,
          117,
          118,
          119,
          120,
          121,
          122,
          123,
          124,
          125,
          126,
          127,
          128,
          129,
          130,
          131,
          132,
          133,
          134,
          135,
          136,
          137,
          138,
          139,
          140,
          141,
          142,
          143,
          144,
          145,
          146,
          147,
          148,
          149,
          150,
          151,
          152,
          153,
          154,
          155,
          156,
          157,
          158,
          159,
          160,
          161,
          162,
          163,
          164,
          165,
          166,
          167,
          168,
          169,
          170,
          171,
          172,
          173,
          174,
          175,
          176,
          177,
          178,
          179,
          180,
          181,
          182,
          183,
          184,
          185,
          186,
          187,
          188,
          189,
          190,
          191,
          192,
          193,
          194,
          195,
          196,
          197,
          198,
          199
         ],
         "xaxis": "x",
         "y": [
          1.8812513824028916,
          2.3962376546858435,
          49.719631854056196,
          117.20662541300247,
          0.5937766268892988,
          163.30795195613595,
          82.61045193730472,
          56.332008474134575,
          118.6218674723707,
          84.40400121561379,
          53.92689527623887,
          40.574735360439256,
          23.171185472449686,
          73.59645108167305,
          67.10652874147532,
          64.08716948570564,
          42.86721802337877,
          32.470008769168395,
          24.747352807243768,
          4.804138739851528,
          3.818084693003894,
          1165.3958081113913,
          931.5698912266101,
          146.46030474889656,
          148.482244627631,
          134.28095632290126,
          207.0927128434839,
          188.9852403850228,
          149.8499242035098,
          192.47905038375106,
          205.2068372024622,
          208.3834537330689,
          226.01244131057953,
          240.96604469504626,
          273.74530296304795,
          278.5993360373501,
          290.88972297064754,
          297.0616680146488,
          1424.1457536419318,
          2190.636872588556,
          1166.2820113084574,
          1545.622487590816,
          1433.5752410132295,
          1138.852435087751,
          878.8318155722102,
          666.8822526673677,
          665.9282907001617,
          449.2126777646726,
          400.14852901914867,
          337.76273391506396,
          307.84903065716037,
          258.8593912283171,
          292.17295018466007,
          348.8995385374019,
          334.65508589874247,
          319.3888877256962,
          362.1182151843972,
          358.43998919544237,
          345.76246431464364,
          343.0651869079844,
          323.13005699019675,
          284.5516441933686,
          363.1519391163395,
          449.67865182262994,
          402.37433594726764,
          367.212356172391,
          318.42062467158735,
          493.7506380102153,
          446.8930742806841,
          362.8514472288335,
          438.44545560976684,
          381.3108325378301,
          321.9542131561102,
          326.72059746373594,
          293.2534873166947,
          243.86909542502877,
          189.34686256812586,
          199.0305195211659,
          180.0848582038295,
          154.3243085715737,
          119.2012196363817,
          115.95063902855165,
          104.21637823654531,
          84.04378766416704,
          61.199975137008444,
          42.01463669421636,
          235.02355198662315,
          159.3853931513217,
          120.08920110066275,
          37.418512496995945,
          3.788169675564312,
          4.37520364489558,
          4.9344598092617025,
          11459.979942408992,
          118.22997740393227,
          143.4195769524187,
          145.30828917032534,
          132.95431212517298,
          133.5522420104492,
          124.46434392736555,
          124.94024243026585,
          125.54275391466655,
          124.9669936884606,
          121.3364530751869,
          119.78230692683236,
          119.89392992301204,
          161.9019579267801,
          144.1917151492572,
          145.83326356298323,
          149.22229558174658,
          147.92418403709854,
          151.5886182960911,
          149.80653768184553,
          149.44294368252625,
          150.241499798854,
          151.3408630107781,
          151.94612175644917,
          155.1277903393714,
          158.05615680634688,
          159.2234572776101,
          160.08667193075786,
          160.61462870360717,
          161.3343348780015,
          161.89947880512017,
          162.23225265968142,
          162.94898897318703,
          164.27717012822765,
          164.88187264916357,
          165.29994592320267,
          165.7424862409368,
          166.39593978820005,
          166.93627994880333,
          167.45404879786585,
          167.97658741225632,
          168.69789955313854,
          169.7870287166938,
          172.21033482661136,
          172.10002314194767,
          172.50172675258156,
          173.42450533615389,
          174.38436300797383,
          173.24541897456703,
          173.32104283221844,
          173.4439713483926,
          173.2038082330002,
          173.2805563018657,
          173.64205975066596,
          174.02103105674178,
          174.14051010948802,
          174.40392281549668,
          174.6146338928616,
          174.87067924156656,
          175.21316955507396,
          175.65191912411333,
          175.95931532187413,
          176.5077772872219,
          177.04087156926715,
          178.27850956577953,
          190.8868856728757,
          193.19370036322408,
          194.79610503851916,
          198.1220751181308,
          200.13567904987832,
          201.62456381646513,
          203.72848707173054,
          202.82614924981004,
          202.80640114058525,
          204.0662843856629,
          130.25846765673185,
          262.21611634597417,
          340.19719997915547,
          333.0116708974396,
          178.538944549871,
          786.0361597444594,
          112.48363564237766,
          133.18325138813177,
          436.4012257919551,
          442.19393233414416,
          338.59573462535377,
          326.27206848983246,
          309.422874920598,
          287.2677074660985,
          279.9421156605557,
          305.65657149039384,
          160.3198470829147,
          116.45230144826918,
          106.22731030072845,
          83.35088688691624,
          80.89532007743102,
          80.18006117819121,
          77.78771584381235,
          73.48119768695466,
          65.75915382249117,
          52.24479936657492,
          49.2366769513926,
          49.86478144347638,
          48.34410557443276,
          35.111921648292416,
          7.386392430836242,
          7.679319923169572
         ],
         "yaxis": "y"
        },
        {
         "hovertemplate": "metric=Accuracy - training<br>step=%{x}<br>value=%{y}<extra></extra>",
         "legendgroup": "Accuracy - training",
         "line": {
          "color": "rgb(85,168,104)",
          "dash": "solid"
         },
         "marker": {
          "symbol": "circle"
         },
         "mode": "lines",
         "name": "Accuracy - training",
         "orientation": "v",
         "showlegend": true,
         "type": "scatter",
         "x": [
          0,
          1,
          2,
          3,
          4,
          5,
          6,
          7,
          8,
          9,
          10,
          11,
          12,
          13,
          14,
          15,
          16,
          17,
          18,
          19,
          20,
          21,
          22,
          23,
          24,
          25,
          26,
          27,
          28,
          29,
          30,
          31,
          32,
          33,
          34,
          35,
          36,
          37,
          38,
          39,
          40,
          41,
          42,
          43,
          44,
          45,
          46,
          47,
          48,
          49,
          50,
          51,
          52,
          53,
          54,
          55,
          56,
          57,
          58,
          59,
          60,
          61,
          62,
          63,
          64,
          65,
          66,
          67,
          68,
          69,
          70,
          71,
          72,
          73,
          74,
          75,
          76,
          77,
          78,
          79,
          80,
          81,
          82,
          83,
          84,
          85,
          86,
          87,
          88,
          89,
          90,
          91,
          92,
          93,
          94,
          95,
          96,
          97,
          98,
          99,
          100,
          101,
          102,
          103,
          104,
          105,
          106,
          107,
          108,
          109,
          110,
          111,
          112,
          113,
          114,
          115,
          116,
          117,
          118,
          119,
          120,
          121,
          122,
          123,
          124,
          125,
          126,
          127,
          128,
          129,
          130,
          131,
          132,
          133,
          134,
          135,
          136,
          137,
          138,
          139,
          140,
          141,
          142,
          143,
          144,
          145,
          146,
          147,
          148,
          149,
          150,
          151,
          152,
          153,
          154,
          155,
          156,
          157,
          158,
          159,
          160,
          161,
          162,
          163,
          164,
          165,
          166,
          167,
          168,
          169,
          170,
          171,
          172,
          173,
          174,
          175,
          176,
          177,
          178,
          179,
          180,
          181,
          182,
          183,
          184,
          185,
          186,
          187,
          188,
          189,
          190,
          191,
          192,
          193,
          194,
          195,
          196,
          197,
          198,
          199
         ],
         "xaxis": "x",
         "y": [
          0.6896551724137931,
          0.7586206896551724,
          0.7931034482758621,
          0.6896551724137931,
          0.6896551724137931,
          0.6896551724137931,
          0.7586206896551724,
          0.6896551724137931,
          0.7586206896551724,
          0.7586206896551724,
          0.896551724137931,
          0.896551724137931,
          0.896551724137931,
          0.8620689655172413,
          0.896551724137931,
          0.8620689655172413,
          0.896551724137931,
          0.8620689655172413,
          0.896551724137931,
          0.896551724137931,
          0.8620689655172413,
          0.6896551724137931,
          0.7241379310344828,
          0.7586206896551724,
          0.896551724137931,
          0.9655172413793104,
          0.9310344827586207,
          0.9655172413793104,
          0.9655172413793104,
          1,
          1,
          1,
          1,
          1,
          1,
          1,
          1,
          1,
          0.896551724137931,
          0.8275862068965517,
          0.6896551724137931,
          0.7931034482758621,
          0.8620689655172413,
          0.7586206896551724,
          0.7931034482758621,
          0.7931034482758621,
          0.8620689655172413,
          0.8275862068965517,
          0.7931034482758621,
          0.7931034482758621,
          0.8620689655172413,
          0.8620689655172413,
          0.8620689655172413,
          0.8620689655172413,
          0.896551724137931,
          0.896551724137931,
          0.9310344827586207,
          0.9310344827586207,
          0.9310344827586207,
          0.9310344827586207,
          0.9310344827586207,
          0.9310344827586207,
          0.8275862068965517,
          0.896551724137931,
          0.9310344827586207,
          0.9310344827586207,
          0.9310344827586207,
          0.8620689655172413,
          0.9310344827586207,
          0.896551724137931,
          0.896551724137931,
          0.896551724137931,
          0.9310344827586207,
          0.9310344827586207,
          0.9655172413793104,
          0.9655172413793104,
          0.9310344827586207,
          0.9655172413793104,
          0.9655172413793104,
          0.9310344827586207,
          0.9310344827586207,
          0.9310344827586207,
          0.9310344827586207,
          0.9655172413793104,
          1,
          0.9655172413793104,
          0.9655172413793104,
          1,
          1,
          1,
          1,
          1,
          1,
          0.896551724137931,
          0.8275862068965517,
          0.8275862068965517,
          0.8620689655172413,
          0.896551724137931,
          0.9310344827586207,
          0.9655172413793104,
          0.9655172413793104,
          0.9655172413793104,
          0.9655172413793104,
          0.9655172413793104,
          0.9655172413793104,
          0.9655172413793104,
          0.9310344827586207,
          0.9655172413793104,
          0.9655172413793104,
          0.9655172413793104,
          0.9655172413793104,
          0.9655172413793104,
          1,
          1,
          1,
          1,
          1,
          1,
          1,
          1,
          1,
          1,
          1,
          1,
          1,
          1,
          1,
          1,
          1,
          1,
          1,
          1,
          1,
          1,
          1,
          1,
          1,
          1,
          1,
          1,
          1,
          1,
          1,
          1,
          1,
          1,
          1,
          1,
          1,
          1,
          1,
          1,
          1,
          1,
          1,
          1,
          1,
          1,
          1,
          1,
          1,
          1,
          1,
          1,
          1,
          1,
          1,
          1,
          0.9655172413793104,
          0.7586206896551724,
          0.7241379310344828,
          0.7931034482758621,
          0.8275862068965517,
          0.8275862068965517,
          0.8275862068965517,
          0.896551724137931,
          0.896551724137931,
          0.896551724137931,
          0.896551724137931,
          0.896551724137931,
          0.896551724137931,
          0.9310344827586207,
          0.9310344827586207,
          0.896551724137931,
          0.9310344827586207,
          0.9310344827586207,
          0.9655172413793104,
          1,
          1,
          1,
          1,
          1,
          1,
          1,
          1,
          1,
          1,
          1,
          0.9655172413793104,
          0.9655172413793104
         ],
         "yaxis": "y"
        },
        {
         "hovertemplate": "metric=Accuracy - validation<br>step=%{x}<br>value=%{y}<extra></extra>",
         "legendgroup": "Accuracy - validation",
         "line": {
          "color": "rgb(196,78,82)",
          "dash": "solid"
         },
         "marker": {
          "symbol": "circle"
         },
         "mode": "lines",
         "name": "Accuracy - validation",
         "orientation": "v",
         "showlegend": true,
         "type": "scatter",
         "x": [
          0,
          1,
          2,
          3,
          4,
          5,
          6,
          7,
          8,
          9,
          10,
          11,
          12,
          13,
          14,
          15,
          16,
          17,
          18,
          19,
          20,
          21,
          22,
          23,
          24,
          25,
          26,
          27,
          28,
          29,
          30,
          31,
          32,
          33,
          34,
          35,
          36,
          37,
          38,
          39,
          40,
          41,
          42,
          43,
          44,
          45,
          46,
          47,
          48,
          49,
          50,
          51,
          52,
          53,
          54,
          55,
          56,
          57,
          58,
          59,
          60,
          61,
          62,
          63,
          64,
          65,
          66,
          67,
          68,
          69,
          70,
          71,
          72,
          73,
          74,
          75,
          76,
          77,
          78,
          79,
          80,
          81,
          82,
          83,
          84,
          85,
          86,
          87,
          88,
          89,
          90,
          91,
          92,
          93,
          94,
          95,
          96,
          97,
          98,
          99,
          100,
          101,
          102,
          103,
          104,
          105,
          106,
          107,
          108,
          109,
          110,
          111,
          112,
          113,
          114,
          115,
          116,
          117,
          118,
          119,
          120,
          121,
          122,
          123,
          124,
          125,
          126,
          127,
          128,
          129,
          130,
          131,
          132,
          133,
          134,
          135,
          136,
          137,
          138,
          139,
          140,
          141,
          142,
          143,
          144,
          145,
          146,
          147,
          148,
          149,
          150,
          151,
          152,
          153,
          154,
          155,
          156,
          157,
          158,
          159,
          160,
          161,
          162,
          163,
          164,
          165,
          166,
          167,
          168,
          169,
          170,
          171,
          172,
          173,
          174,
          175,
          176,
          177,
          178,
          179,
          180,
          181,
          182,
          183,
          184,
          185,
          186,
          187,
          188,
          189,
          190,
          191,
          192,
          193,
          194,
          195,
          196,
          197,
          198,
          199
         ],
         "xaxis": "x",
         "y": [
          0.6923076923076923,
          0.5384615384615384,
          0.6153846153846154,
          0.5384615384615384,
          0.5384615384615384,
          0.46153846153846156,
          0.5384615384615384,
          0.5384615384615384,
          0.46153846153846156,
          0.46153846153846156,
          0.5384615384615384,
          0.5384615384615384,
          0.5384615384615384,
          0.6153846153846154,
          0.6153846153846154,
          0.6153846153846154,
          0.6153846153846154,
          0.5384615384615384,
          0.5384615384615384,
          0.46153846153846156,
          0.5384615384615384,
          0.46153846153846156,
          0.46153846153846156,
          0.5384615384615384,
          0.5384615384615384,
          0.46153846153846156,
          0.38461538461538464,
          0.46153846153846156,
          0.6153846153846154,
          0.6153846153846154,
          0.6153846153846154,
          0.6153846153846154,
          0.6153846153846154,
          0.5384615384615384,
          0.5384615384615384,
          0.5384615384615384,
          0.5384615384615384,
          0.5384615384615384,
          0.46153846153846156,
          0.3076923076923077,
          0.46153846153846156,
          0.5384615384615384,
          0.46153846153846156,
          0.5384615384615384,
          0.5384615384615384,
          0.5384615384615384,
          0.46153846153846156,
          0.5384615384615384,
          0.46153846153846156,
          0.46153846153846156,
          0.46153846153846156,
          0.5384615384615384,
          0.5384615384615384,
          0.6153846153846154,
          0.5384615384615384,
          0.5384615384615384,
          0.5384615384615384,
          0.5384615384615384,
          0.5384615384615384,
          0.46153846153846156,
          0.46153846153846156,
          0.46153846153846156,
          0.6153846153846154,
          0.6153846153846154,
          0.6153846153846154,
          0.6153846153846154,
          0.6153846153846154,
          0.6153846153846154,
          0.6153846153846154,
          0.5384615384615384,
          0.6153846153846154,
          0.6153846153846154,
          0.6153846153846154,
          0.6153846153846154,
          0.6153846153846154,
          0.5384615384615384,
          0.5384615384615384,
          0.5384615384615384,
          0.5384615384615384,
          0.5384615384615384,
          0.6153846153846154,
          0.5384615384615384,
          0.5384615384615384,
          0.5384615384615384,
          0.5384615384615384,
          0.5384615384615384,
          0.6153846153846154,
          0.6153846153846154,
          0.6153846153846154,
          0.6153846153846154,
          0.6153846153846154,
          0.6153846153846154,
          0.6153846153846154,
          0.38461538461538464,
          0.6153846153846154,
          0.5384615384615384,
          0.5384615384615384,
          0.6153846153846154,
          0.6153846153846154,
          0.6153846153846154,
          0.6153846153846154,
          0.6153846153846154,
          0.6153846153846154,
          0.5384615384615384,
          0.5384615384615384,
          0.5384615384615384,
          0.5384615384615384,
          0.5384615384615384,
          0.5384615384615384,
          0.5384615384615384,
          0.5384615384615384,
          0.5384615384615384,
          0.5384615384615384,
          0.5384615384615384,
          0.5384615384615384,
          0.5384615384615384,
          0.5384615384615384,
          0.5384615384615384,
          0.5384615384615384,
          0.6153846153846154,
          0.6153846153846154,
          0.6153846153846154,
          0.6153846153846154,
          0.6153846153846154,
          0.6153846153846154,
          0.6153846153846154,
          0.5384615384615384,
          0.6153846153846154,
          0.6153846153846154,
          0.6153846153846154,
          0.6153846153846154,
          0.6153846153846154,
          0.6153846153846154,
          0.6153846153846154,
          0.6153846153846154,
          0.6153846153846154,
          0.6153846153846154,
          0.6153846153846154,
          0.6153846153846154,
          0.6153846153846154,
          0.6153846153846154,
          0.6153846153846154,
          0.6153846153846154,
          0.6153846153846154,
          0.6153846153846154,
          0.6153846153846154,
          0.6153846153846154,
          0.6153846153846154,
          0.6153846153846154,
          0.6153846153846154,
          0.6153846153846154,
          0.6153846153846154,
          0.6153846153846154,
          0.6153846153846154,
          0.6153846153846154,
          0.6153846153846154,
          0.6923076923076923,
          0.6923076923076923,
          0.6923076923076923,
          0.6153846153846154,
          0.6153846153846154,
          0.6923076923076923,
          0.6923076923076923,
          0.6923076923076923,
          0.6923076923076923,
          0.6923076923076923,
          0.6923076923076923,
          0.6153846153846154,
          0.6153846153846154,
          0.6153846153846154,
          0.46153846153846156,
          0.5384615384615384,
          0.6153846153846154,
          0.46153846153846156,
          0.6153846153846154,
          0.6153846153846154,
          0.6153846153846154,
          0.6153846153846154,
          0.6923076923076923,
          0.6153846153846154,
          0.6923076923076923,
          0.6153846153846154,
          0.6153846153846154,
          0.6153846153846154,
          0.5384615384615384,
          0.5384615384615384,
          0.5384615384615384,
          0.5384615384615384,
          0.5384615384615384,
          0.5384615384615384,
          0.6153846153846154,
          0.5384615384615384,
          0.5384615384615384,
          0.5384615384615384,
          0.5384615384615384,
          0.5384615384615384,
          0.5384615384615384,
          0.5384615384615384,
          0.7692307692307693,
          0.6923076923076923
         ],
         "yaxis": "y"
        }
       ],
       "layout": {
        "legend": {
         "title": {
          "text": "metric"
         },
         "tracegroupgap": 0
        },
        "margin": {
         "t": 60
        },
        "template": {
         "data": {
          "bar": [
           {
            "error_x": {
             "color": "rgb(36,36,36)"
            },
            "error_y": {
             "color": "rgb(36,36,36)"
            },
            "marker": {
             "line": {
              "color": "rgb(234,234,242)",
              "width": 0.5
             },
             "pattern": {
              "fillmode": "overlay",
              "size": 10,
              "solidity": 0.2
             }
            },
            "type": "bar"
           }
          ],
          "barpolar": [
           {
            "marker": {
             "line": {
              "color": "rgb(234,234,242)",
              "width": 0.5
             },
             "pattern": {
              "fillmode": "overlay",
              "size": 10,
              "solidity": 0.2
             }
            },
            "type": "barpolar"
           }
          ],
          "carpet": [
           {
            "aaxis": {
             "endlinecolor": "rgb(36,36,36)",
             "gridcolor": "white",
             "linecolor": "white",
             "minorgridcolor": "white",
             "startlinecolor": "rgb(36,36,36)"
            },
            "baxis": {
             "endlinecolor": "rgb(36,36,36)",
             "gridcolor": "white",
             "linecolor": "white",
             "minorgridcolor": "white",
             "startlinecolor": "rgb(36,36,36)"
            },
            "type": "carpet"
           }
          ],
          "choropleth": [
           {
            "colorbar": {
             "outlinewidth": 0,
             "tickcolor": "rgb(36,36,36)",
             "ticklen": 8,
             "ticks": "outside",
             "tickwidth": 2
            },
            "type": "choropleth"
           }
          ],
          "contour": [
           {
            "colorbar": {
             "outlinewidth": 0,
             "tickcolor": "rgb(36,36,36)",
             "ticklen": 8,
             "ticks": "outside",
             "tickwidth": 2
            },
            "colorscale": [
             [
              0,
              "rgb(2,4,25)"
             ],
             [
              0.06274509803921569,
              "rgb(24,15,41)"
             ],
             [
              0.12549019607843137,
              "rgb(47,23,57)"
             ],
             [
              0.18823529411764706,
              "rgb(71,28,72)"
             ],
             [
              0.25098039215686274,
              "rgb(97,30,82)"
             ],
             [
              0.3137254901960784,
              "rgb(123,30,89)"
             ],
             [
              0.3764705882352941,
              "rgb(150,27,91)"
             ],
             [
              0.4392156862745098,
              "rgb(177,22,88)"
             ],
             [
              0.5019607843137255,
              "rgb(203,26,79)"
             ],
             [
              0.5647058823529412,
              "rgb(223,47,67)"
             ],
             [
              0.6274509803921569,
              "rgb(236,76,61)"
             ],
             [
              0.6901960784313725,
              "rgb(242,107,73)"
             ],
             [
              0.7529411764705882,
              "rgb(244,135,95)"
             ],
             [
              0.8156862745098039,
              "rgb(245,162,122)"
             ],
             [
              0.8784313725490196,
              "rgb(246,188,153)"
             ],
             [
              0.9411764705882353,
              "rgb(247,212,187)"
             ],
             [
              1,
              "rgb(250,234,220)"
             ]
            ],
            "type": "contour"
           }
          ],
          "contourcarpet": [
           {
            "colorbar": {
             "outlinewidth": 0,
             "tickcolor": "rgb(36,36,36)",
             "ticklen": 8,
             "ticks": "outside",
             "tickwidth": 2
            },
            "type": "contourcarpet"
           }
          ],
          "heatmap": [
           {
            "colorbar": {
             "outlinewidth": 0,
             "tickcolor": "rgb(36,36,36)",
             "ticklen": 8,
             "ticks": "outside",
             "tickwidth": 2
            },
            "colorscale": [
             [
              0,
              "rgb(2,4,25)"
             ],
             [
              0.06274509803921569,
              "rgb(24,15,41)"
             ],
             [
              0.12549019607843137,
              "rgb(47,23,57)"
             ],
             [
              0.18823529411764706,
              "rgb(71,28,72)"
             ],
             [
              0.25098039215686274,
              "rgb(97,30,82)"
             ],
             [
              0.3137254901960784,
              "rgb(123,30,89)"
             ],
             [
              0.3764705882352941,
              "rgb(150,27,91)"
             ],
             [
              0.4392156862745098,
              "rgb(177,22,88)"
             ],
             [
              0.5019607843137255,
              "rgb(203,26,79)"
             ],
             [
              0.5647058823529412,
              "rgb(223,47,67)"
             ],
             [
              0.6274509803921569,
              "rgb(236,76,61)"
             ],
             [
              0.6901960784313725,
              "rgb(242,107,73)"
             ],
             [
              0.7529411764705882,
              "rgb(244,135,95)"
             ],
             [
              0.8156862745098039,
              "rgb(245,162,122)"
             ],
             [
              0.8784313725490196,
              "rgb(246,188,153)"
             ],
             [
              0.9411764705882353,
              "rgb(247,212,187)"
             ],
             [
              1,
              "rgb(250,234,220)"
             ]
            ],
            "type": "heatmap"
           }
          ],
          "heatmapgl": [
           {
            "colorbar": {
             "outlinewidth": 0,
             "tickcolor": "rgb(36,36,36)",
             "ticklen": 8,
             "ticks": "outside",
             "tickwidth": 2
            },
            "colorscale": [
             [
              0,
              "rgb(2,4,25)"
             ],
             [
              0.06274509803921569,
              "rgb(24,15,41)"
             ],
             [
              0.12549019607843137,
              "rgb(47,23,57)"
             ],
             [
              0.18823529411764706,
              "rgb(71,28,72)"
             ],
             [
              0.25098039215686274,
              "rgb(97,30,82)"
             ],
             [
              0.3137254901960784,
              "rgb(123,30,89)"
             ],
             [
              0.3764705882352941,
              "rgb(150,27,91)"
             ],
             [
              0.4392156862745098,
              "rgb(177,22,88)"
             ],
             [
              0.5019607843137255,
              "rgb(203,26,79)"
             ],
             [
              0.5647058823529412,
              "rgb(223,47,67)"
             ],
             [
              0.6274509803921569,
              "rgb(236,76,61)"
             ],
             [
              0.6901960784313725,
              "rgb(242,107,73)"
             ],
             [
              0.7529411764705882,
              "rgb(244,135,95)"
             ],
             [
              0.8156862745098039,
              "rgb(245,162,122)"
             ],
             [
              0.8784313725490196,
              "rgb(246,188,153)"
             ],
             [
              0.9411764705882353,
              "rgb(247,212,187)"
             ],
             [
              1,
              "rgb(250,234,220)"
             ]
            ],
            "type": "heatmapgl"
           }
          ],
          "histogram": [
           {
            "marker": {
             "pattern": {
              "fillmode": "overlay",
              "size": 10,
              "solidity": 0.2
             }
            },
            "type": "histogram"
           }
          ],
          "histogram2d": [
           {
            "colorbar": {
             "outlinewidth": 0,
             "tickcolor": "rgb(36,36,36)",
             "ticklen": 8,
             "ticks": "outside",
             "tickwidth": 2
            },
            "colorscale": [
             [
              0,
              "rgb(2,4,25)"
             ],
             [
              0.06274509803921569,
              "rgb(24,15,41)"
             ],
             [
              0.12549019607843137,
              "rgb(47,23,57)"
             ],
             [
              0.18823529411764706,
              "rgb(71,28,72)"
             ],
             [
              0.25098039215686274,
              "rgb(97,30,82)"
             ],
             [
              0.3137254901960784,
              "rgb(123,30,89)"
             ],
             [
              0.3764705882352941,
              "rgb(150,27,91)"
             ],
             [
              0.4392156862745098,
              "rgb(177,22,88)"
             ],
             [
              0.5019607843137255,
              "rgb(203,26,79)"
             ],
             [
              0.5647058823529412,
              "rgb(223,47,67)"
             ],
             [
              0.6274509803921569,
              "rgb(236,76,61)"
             ],
             [
              0.6901960784313725,
              "rgb(242,107,73)"
             ],
             [
              0.7529411764705882,
              "rgb(244,135,95)"
             ],
             [
              0.8156862745098039,
              "rgb(245,162,122)"
             ],
             [
              0.8784313725490196,
              "rgb(246,188,153)"
             ],
             [
              0.9411764705882353,
              "rgb(247,212,187)"
             ],
             [
              1,
              "rgb(250,234,220)"
             ]
            ],
            "type": "histogram2d"
           }
          ],
          "histogram2dcontour": [
           {
            "colorbar": {
             "outlinewidth": 0,
             "tickcolor": "rgb(36,36,36)",
             "ticklen": 8,
             "ticks": "outside",
             "tickwidth": 2
            },
            "colorscale": [
             [
              0,
              "rgb(2,4,25)"
             ],
             [
              0.06274509803921569,
              "rgb(24,15,41)"
             ],
             [
              0.12549019607843137,
              "rgb(47,23,57)"
             ],
             [
              0.18823529411764706,
              "rgb(71,28,72)"
             ],
             [
              0.25098039215686274,
              "rgb(97,30,82)"
             ],
             [
              0.3137254901960784,
              "rgb(123,30,89)"
             ],
             [
              0.3764705882352941,
              "rgb(150,27,91)"
             ],
             [
              0.4392156862745098,
              "rgb(177,22,88)"
             ],
             [
              0.5019607843137255,
              "rgb(203,26,79)"
             ],
             [
              0.5647058823529412,
              "rgb(223,47,67)"
             ],
             [
              0.6274509803921569,
              "rgb(236,76,61)"
             ],
             [
              0.6901960784313725,
              "rgb(242,107,73)"
             ],
             [
              0.7529411764705882,
              "rgb(244,135,95)"
             ],
             [
              0.8156862745098039,
              "rgb(245,162,122)"
             ],
             [
              0.8784313725490196,
              "rgb(246,188,153)"
             ],
             [
              0.9411764705882353,
              "rgb(247,212,187)"
             ],
             [
              1,
              "rgb(250,234,220)"
             ]
            ],
            "type": "histogram2dcontour"
           }
          ],
          "mesh3d": [
           {
            "colorbar": {
             "outlinewidth": 0,
             "tickcolor": "rgb(36,36,36)",
             "ticklen": 8,
             "ticks": "outside",
             "tickwidth": 2
            },
            "type": "mesh3d"
           }
          ],
          "parcoords": [
           {
            "line": {
             "colorbar": {
              "outlinewidth": 0,
              "tickcolor": "rgb(36,36,36)",
              "ticklen": 8,
              "ticks": "outside",
              "tickwidth": 2
             }
            },
            "type": "parcoords"
           }
          ],
          "pie": [
           {
            "automargin": true,
            "type": "pie"
           }
          ],
          "scatter": [
           {
            "marker": {
             "colorbar": {
              "outlinewidth": 0,
              "tickcolor": "rgb(36,36,36)",
              "ticklen": 8,
              "ticks": "outside",
              "tickwidth": 2
             }
            },
            "type": "scatter"
           }
          ],
          "scatter3d": [
           {
            "line": {
             "colorbar": {
              "outlinewidth": 0,
              "tickcolor": "rgb(36,36,36)",
              "ticklen": 8,
              "ticks": "outside",
              "tickwidth": 2
             }
            },
            "marker": {
             "colorbar": {
              "outlinewidth": 0,
              "tickcolor": "rgb(36,36,36)",
              "ticklen": 8,
              "ticks": "outside",
              "tickwidth": 2
             }
            },
            "type": "scatter3d"
           }
          ],
          "scattercarpet": [
           {
            "marker": {
             "colorbar": {
              "outlinewidth": 0,
              "tickcolor": "rgb(36,36,36)",
              "ticklen": 8,
              "ticks": "outside",
              "tickwidth": 2
             }
            },
            "type": "scattercarpet"
           }
          ],
          "scattergeo": [
           {
            "marker": {
             "colorbar": {
              "outlinewidth": 0,
              "tickcolor": "rgb(36,36,36)",
              "ticklen": 8,
              "ticks": "outside",
              "tickwidth": 2
             }
            },
            "type": "scattergeo"
           }
          ],
          "scattergl": [
           {
            "marker": {
             "colorbar": {
              "outlinewidth": 0,
              "tickcolor": "rgb(36,36,36)",
              "ticklen": 8,
              "ticks": "outside",
              "tickwidth": 2
             }
            },
            "type": "scattergl"
           }
          ],
          "scattermapbox": [
           {
            "marker": {
             "colorbar": {
              "outlinewidth": 0,
              "tickcolor": "rgb(36,36,36)",
              "ticklen": 8,
              "ticks": "outside",
              "tickwidth": 2
             }
            },
            "type": "scattermapbox"
           }
          ],
          "scatterpolar": [
           {
            "marker": {
             "colorbar": {
              "outlinewidth": 0,
              "tickcolor": "rgb(36,36,36)",
              "ticklen": 8,
              "ticks": "outside",
              "tickwidth": 2
             }
            },
            "type": "scatterpolar"
           }
          ],
          "scatterpolargl": [
           {
            "marker": {
             "colorbar": {
              "outlinewidth": 0,
              "tickcolor": "rgb(36,36,36)",
              "ticklen": 8,
              "ticks": "outside",
              "tickwidth": 2
             }
            },
            "type": "scatterpolargl"
           }
          ],
          "scatterternary": [
           {
            "marker": {
             "colorbar": {
              "outlinewidth": 0,
              "tickcolor": "rgb(36,36,36)",
              "ticklen": 8,
              "ticks": "outside",
              "tickwidth": 2
             }
            },
            "type": "scatterternary"
           }
          ],
          "surface": [
           {
            "colorbar": {
             "outlinewidth": 0,
             "tickcolor": "rgb(36,36,36)",
             "ticklen": 8,
             "ticks": "outside",
             "tickwidth": 2
            },
            "colorscale": [
             [
              0,
              "rgb(2,4,25)"
             ],
             [
              0.06274509803921569,
              "rgb(24,15,41)"
             ],
             [
              0.12549019607843137,
              "rgb(47,23,57)"
             ],
             [
              0.18823529411764706,
              "rgb(71,28,72)"
             ],
             [
              0.25098039215686274,
              "rgb(97,30,82)"
             ],
             [
              0.3137254901960784,
              "rgb(123,30,89)"
             ],
             [
              0.3764705882352941,
              "rgb(150,27,91)"
             ],
             [
              0.4392156862745098,
              "rgb(177,22,88)"
             ],
             [
              0.5019607843137255,
              "rgb(203,26,79)"
             ],
             [
              0.5647058823529412,
              "rgb(223,47,67)"
             ],
             [
              0.6274509803921569,
              "rgb(236,76,61)"
             ],
             [
              0.6901960784313725,
              "rgb(242,107,73)"
             ],
             [
              0.7529411764705882,
              "rgb(244,135,95)"
             ],
             [
              0.8156862745098039,
              "rgb(245,162,122)"
             ],
             [
              0.8784313725490196,
              "rgb(246,188,153)"
             ],
             [
              0.9411764705882353,
              "rgb(247,212,187)"
             ],
             [
              1,
              "rgb(250,234,220)"
             ]
            ],
            "type": "surface"
           }
          ],
          "table": [
           {
            "cells": {
             "fill": {
              "color": "rgb(231,231,240)"
             },
             "line": {
              "color": "white"
             }
            },
            "header": {
             "fill": {
              "color": "rgb(183,183,191)"
             },
             "line": {
              "color": "white"
             }
            },
            "type": "table"
           }
          ]
         },
         "layout": {
          "annotationdefaults": {
           "arrowcolor": "rgb(67,103,167)"
          },
          "autotypenumbers": "strict",
          "coloraxis": {
           "colorbar": {
            "outlinewidth": 0,
            "tickcolor": "rgb(36,36,36)",
            "ticklen": 8,
            "ticks": "outside",
            "tickwidth": 2
           }
          },
          "colorscale": {
           "sequential": [
            [
             0,
             "rgb(2,4,25)"
            ],
            [
             0.06274509803921569,
             "rgb(24,15,41)"
            ],
            [
             0.12549019607843137,
             "rgb(47,23,57)"
            ],
            [
             0.18823529411764706,
             "rgb(71,28,72)"
            ],
            [
             0.25098039215686274,
             "rgb(97,30,82)"
            ],
            [
             0.3137254901960784,
             "rgb(123,30,89)"
            ],
            [
             0.3764705882352941,
             "rgb(150,27,91)"
            ],
            [
             0.4392156862745098,
             "rgb(177,22,88)"
            ],
            [
             0.5019607843137255,
             "rgb(203,26,79)"
            ],
            [
             0.5647058823529412,
             "rgb(223,47,67)"
            ],
            [
             0.6274509803921569,
             "rgb(236,76,61)"
            ],
            [
             0.6901960784313725,
             "rgb(242,107,73)"
            ],
            [
             0.7529411764705882,
             "rgb(244,135,95)"
            ],
            [
             0.8156862745098039,
             "rgb(245,162,122)"
            ],
            [
             0.8784313725490196,
             "rgb(246,188,153)"
            ],
            [
             0.9411764705882353,
             "rgb(247,212,187)"
            ],
            [
             1,
             "rgb(250,234,220)"
            ]
           ],
           "sequentialminus": [
            [
             0,
             "rgb(2,4,25)"
            ],
            [
             0.06274509803921569,
             "rgb(24,15,41)"
            ],
            [
             0.12549019607843137,
             "rgb(47,23,57)"
            ],
            [
             0.18823529411764706,
             "rgb(71,28,72)"
            ],
            [
             0.25098039215686274,
             "rgb(97,30,82)"
            ],
            [
             0.3137254901960784,
             "rgb(123,30,89)"
            ],
            [
             0.3764705882352941,
             "rgb(150,27,91)"
            ],
            [
             0.4392156862745098,
             "rgb(177,22,88)"
            ],
            [
             0.5019607843137255,
             "rgb(203,26,79)"
            ],
            [
             0.5647058823529412,
             "rgb(223,47,67)"
            ],
            [
             0.6274509803921569,
             "rgb(236,76,61)"
            ],
            [
             0.6901960784313725,
             "rgb(242,107,73)"
            ],
            [
             0.7529411764705882,
             "rgb(244,135,95)"
            ],
            [
             0.8156862745098039,
             "rgb(245,162,122)"
            ],
            [
             0.8784313725490196,
             "rgb(246,188,153)"
            ],
            [
             0.9411764705882353,
             "rgb(247,212,187)"
            ],
            [
             1,
             "rgb(250,234,220)"
            ]
           ]
          },
          "colorway": [
           "rgb(76,114,176)",
           "rgb(221,132,82)",
           "rgb(85,168,104)",
           "rgb(196,78,82)",
           "rgb(129,114,179)",
           "rgb(147,120,96)",
           "rgb(218,139,195)",
           "rgb(140,140,140)",
           "rgb(204,185,116)",
           "rgb(100,181,205)"
          ],
          "font": {
           "color": "rgb(36,36,36)"
          },
          "geo": {
           "bgcolor": "white",
           "lakecolor": "white",
           "landcolor": "rgb(234,234,242)",
           "showlakes": true,
           "showland": true,
           "subunitcolor": "white"
          },
          "hoverlabel": {
           "align": "left"
          },
          "hovermode": "closest",
          "paper_bgcolor": "white",
          "plot_bgcolor": "rgb(234,234,242)",
          "polar": {
           "angularaxis": {
            "gridcolor": "white",
            "linecolor": "white",
            "showgrid": true,
            "ticks": ""
           },
           "bgcolor": "rgb(234,234,242)",
           "radialaxis": {
            "gridcolor": "white",
            "linecolor": "white",
            "showgrid": true,
            "ticks": ""
           }
          },
          "scene": {
           "xaxis": {
            "backgroundcolor": "rgb(234,234,242)",
            "gridcolor": "white",
            "gridwidth": 2,
            "linecolor": "white",
            "showbackground": true,
            "showgrid": true,
            "ticks": "",
            "zerolinecolor": "white"
           },
           "yaxis": {
            "backgroundcolor": "rgb(234,234,242)",
            "gridcolor": "white",
            "gridwidth": 2,
            "linecolor": "white",
            "showbackground": true,
            "showgrid": true,
            "ticks": "",
            "zerolinecolor": "white"
           },
           "zaxis": {
            "backgroundcolor": "rgb(234,234,242)",
            "gridcolor": "white",
            "gridwidth": 2,
            "linecolor": "white",
            "showbackground": true,
            "showgrid": true,
            "ticks": "",
            "zerolinecolor": "white"
           }
          },
          "shapedefaults": {
           "fillcolor": "rgb(67,103,167)",
           "line": {
            "width": 0
           },
           "opacity": 0.5
          },
          "ternary": {
           "aaxis": {
            "gridcolor": "white",
            "linecolor": "white",
            "showgrid": true,
            "ticks": ""
           },
           "baxis": {
            "gridcolor": "white",
            "linecolor": "white",
            "showgrid": true,
            "ticks": ""
           },
           "bgcolor": "rgb(234,234,242)",
           "caxis": {
            "gridcolor": "white",
            "linecolor": "white",
            "showgrid": true,
            "ticks": ""
           }
          },
          "xaxis": {
           "automargin": true,
           "gridcolor": "white",
           "linecolor": "white",
           "showgrid": true,
           "ticks": "",
           "title": {
            "standoff": 15
           },
           "zerolinecolor": "white"
          },
          "yaxis": {
           "automargin": true,
           "gridcolor": "white",
           "linecolor": "white",
           "showgrid": true,
           "ticks": "",
           "title": {
            "standoff": 15
           },
           "zerolinecolor": "white"
          }
         }
        },
        "xaxis": {
         "anchor": "y",
         "domain": [
          0,
          1
         ],
         "title": {
          "text": "step"
         }
        },
        "yaxis": {
         "anchor": "x",
         "domain": [
          0,
          1
         ],
         "title": {
          "text": "value"
         }
        }
       }
      }
     },
     "metadata": {},
     "output_type": "display_data"
    }
   ],
   "source": [
    "px.line(training_metrics, x='step', y='value', color='metric')"
   ]
  },
  {
   "cell_type": "markdown",
   "id": "5670b9fe",
   "metadata": {},
   "source": [
    "## Evaluate testing metrics"
   ]
  },
  {
   "cell_type": "code",
   "execution_count": 107,
   "metadata": {},
   "outputs": [
    {
     "ename": "RuntimeError",
     "evalue": "torch.cat(): Sizes of tensors must match except in dimension 1. Got 2 and 1 in dimension 0 (The offending index is 2)",
     "output_type": "error",
     "traceback": [
      "\u001b[0;31m---------------------------------------------------------------------------\u001b[0m",
      "\u001b[0;31mRuntimeError\u001b[0m                              Traceback (most recent call last)",
      "\u001b[0;32m/var/folders/ly/jtqnskb14y35xzlwblx2dry00000gn/T/ipykernel_58451/1568109332.py\u001b[0m in \u001b[0;36m<module>\u001b[0;34m\u001b[0m\n\u001b[1;32m      5\u001b[0m \u001b[0;34m\u001b[0m\u001b[0m\n\u001b[1;32m      6\u001b[0m \u001b[0mtest_metrics\u001b[0m \u001b[0;34m=\u001b[0m \u001b[0mTestingMetrics\u001b[0m\u001b[0;34m(\u001b[0m\u001b[0mepoch\u001b[0m\u001b[0;34m=\u001b[0m\u001b[0;36m75\u001b[0m\u001b[0;34m)\u001b[0m\u001b[0;34m\u001b[0m\u001b[0;34m\u001b[0m\u001b[0m\n\u001b[0;32m----> 7\u001b[0;31m \u001b[0mtest_metrics\u001b[0m\u001b[0;34m.\u001b[0m\u001b[0mcompute_metrics\u001b[0m\u001b[0;34m(\u001b[0m\u001b[0mmodel\u001b[0m\u001b[0;34m,\u001b[0m \u001b[0mloader_test\u001b[0m\u001b[0;34m)\u001b[0m\u001b[0;34m\u001b[0m\u001b[0;34m\u001b[0m\u001b[0m\n\u001b[0m\u001b[1;32m      8\u001b[0m \u001b[0mpd\u001b[0m\u001b[0;34m.\u001b[0m\u001b[0mDataFrame\u001b[0m\u001b[0;34m(\u001b[0m\u001b[0mtest_metrics\u001b[0m\u001b[0;34m.\u001b[0m\u001b[0mstorage\u001b[0m\u001b[0;34m)\u001b[0m\u001b[0;34m\u001b[0m\u001b[0;34m\u001b[0m\u001b[0m\n",
      "\u001b[0;32m~/development/lts4/graphmel/src/metrics.py\u001b[0m in \u001b[0;36mcompute_metrics\u001b[0;34m(self, model, loader)\u001b[0m\n\u001b[1;32m    150\u001b[0m     \u001b[0;32mdef\u001b[0m \u001b[0mcompute_metrics\u001b[0m\u001b[0;34m(\u001b[0m\u001b[0mself\u001b[0m\u001b[0;34m,\u001b[0m \u001b[0mmodel\u001b[0m\u001b[0;34m:\u001b[0m \u001b[0mnn\u001b[0m\u001b[0;34m.\u001b[0m\u001b[0mModule\u001b[0m\u001b[0;34m,\u001b[0m \u001b[0mloader\u001b[0m\u001b[0;34m:\u001b[0m \u001b[0mDataLoader\u001b[0m\u001b[0;34m)\u001b[0m\u001b[0;34m:\u001b[0m\u001b[0;34m\u001b[0m\u001b[0;34m\u001b[0m\u001b[0m\n\u001b[1;32m    151\u001b[0m \u001b[0;34m\u001b[0m\u001b[0m\n\u001b[0;32m--> 152\u001b[0;31m         \u001b[0mself\u001b[0m\u001b[0;34m.\u001b[0m\u001b[0my_true\u001b[0m\u001b[0;34m,\u001b[0m \u001b[0mself\u001b[0m\u001b[0;34m.\u001b[0m\u001b[0my_pred\u001b[0m\u001b[0;34m,\u001b[0m \u001b[0m_\u001b[0m \u001b[0;34m=\u001b[0m \u001b[0mcompute_predictions\u001b[0m\u001b[0;34m(\u001b[0m\u001b[0mmodel\u001b[0m\u001b[0;34m,\u001b[0m \u001b[0mloader\u001b[0m\u001b[0;34m)\u001b[0m\u001b[0;34m\u001b[0m\u001b[0;34m\u001b[0m\u001b[0m\n\u001b[0m\u001b[1;32m    153\u001b[0m \u001b[0;34m\u001b[0m\u001b[0m\n\u001b[1;32m    154\u001b[0m         \u001b[0;31m# Add testing accuracy\u001b[0m\u001b[0;34m\u001b[0m\u001b[0;34m\u001b[0m\u001b[0;34m\u001b[0m\u001b[0m\n",
      "\u001b[0;32m~/development/lts4/graphmel/src/metrics.py\u001b[0m in \u001b[0;36mcompute_predictions\u001b[0;34m(model, loader, validation, device)\u001b[0m\n\u001b[1;32m     51\u001b[0m             \u001b[0mdata\u001b[0m\u001b[0;34m.\u001b[0m\u001b[0mto\u001b[0m\u001b[0;34m(\u001b[0m\u001b[0mdevice\u001b[0m\u001b[0;34m)\u001b[0m\u001b[0;34m\u001b[0m\u001b[0;34m\u001b[0m\u001b[0m\n\u001b[1;32m     52\u001b[0m \u001b[0;34m\u001b[0m\u001b[0m\n\u001b[0;32m---> 53\u001b[0;31m             \u001b[0mout\u001b[0m \u001b[0;34m=\u001b[0m \u001b[0mmodel\u001b[0m\u001b[0;34m(\u001b[0m\u001b[0mdata\u001b[0m\u001b[0;34m)\u001b[0m\u001b[0;34m\u001b[0m\u001b[0;34m\u001b[0m\u001b[0m\n\u001b[0m\u001b[1;32m     54\u001b[0m \u001b[0;34m\u001b[0m\u001b[0m\n\u001b[1;32m     55\u001b[0m             \u001b[0;32mif\u001b[0m \u001b[0mvalidation\u001b[0m\u001b[0;34m:\u001b[0m\u001b[0;34m\u001b[0m\u001b[0;34m\u001b[0m\u001b[0m\n",
      "\u001b[0;32m~/miniconda3/envs/ds/lib/python3.8/site-packages/torch/nn/modules/module.py\u001b[0m in \u001b[0;36m_call_impl\u001b[0;34m(self, *input, **kwargs)\u001b[0m\n\u001b[1;32m   1049\u001b[0m         if not (self._backward_hooks or self._forward_hooks or self._forward_pre_hooks or _global_backward_hooks\n\u001b[1;32m   1050\u001b[0m                 or _global_forward_hooks or _global_forward_pre_hooks):\n\u001b[0;32m-> 1051\u001b[0;31m             \u001b[0;32mreturn\u001b[0m \u001b[0mforward_call\u001b[0m\u001b[0;34m(\u001b[0m\u001b[0;34m*\u001b[0m\u001b[0minput\u001b[0m\u001b[0;34m,\u001b[0m \u001b[0;34m**\u001b[0m\u001b[0mkwargs\u001b[0m\u001b[0;34m)\u001b[0m\u001b[0;34m\u001b[0m\u001b[0;34m\u001b[0m\u001b[0m\n\u001b[0m\u001b[1;32m   1052\u001b[0m         \u001b[0;31m# Do not call functions when jit is used\u001b[0m\u001b[0;34m\u001b[0m\u001b[0;34m\u001b[0m\u001b[0;34m\u001b[0m\u001b[0m\n\u001b[1;32m   1053\u001b[0m         \u001b[0mfull_backward_hooks\u001b[0m\u001b[0;34m,\u001b[0m \u001b[0mnon_full_backward_hooks\u001b[0m \u001b[0;34m=\u001b[0m \u001b[0;34m[\u001b[0m\u001b[0;34m]\u001b[0m\u001b[0;34m,\u001b[0m \u001b[0;34m[\u001b[0m\u001b[0;34m]\u001b[0m\u001b[0;34m\u001b[0m\u001b[0;34m\u001b[0m\u001b[0m\n",
      "\u001b[0;32m/var/folders/ly/jtqnskb14y35xzlwblx2dry00000gn/T/ipykernel_58451/8481782.py\u001b[0m in \u001b[0;36mforward\u001b[0;34m(self, data)\u001b[0m\n\u001b[1;32m     36\u001b[0m \u001b[0;34m\u001b[0m\u001b[0m\n\u001b[1;32m     37\u001b[0m         \u001b[0;32mfor\u001b[0m \u001b[0mi\u001b[0m\u001b[0;34m,\u001b[0m \u001b[0;34m(\u001b[0m\u001b[0mx\u001b[0m\u001b[0;34m,\u001b[0m \u001b[0medge_index\u001b[0m\u001b[0;34m,\u001b[0m \u001b[0mbatch\u001b[0m\u001b[0;34m)\u001b[0m \u001b[0;32min\u001b[0m \u001b[0menumerate\u001b[0m\u001b[0;34m(\u001b[0m\u001b[0mzip\u001b[0m\u001b[0;34m(\u001b[0m\u001b[0mxes\u001b[0m\u001b[0;34m,\u001b[0m \u001b[0medge_indices\u001b[0m\u001b[0;34m,\u001b[0m \u001b[0mbatches\u001b[0m\u001b[0;34m)\u001b[0m\u001b[0;34m)\u001b[0m\u001b[0;34m:\u001b[0m\u001b[0;34m\u001b[0m\u001b[0;34m\u001b[0m\u001b[0m\n\u001b[0;32m---> 38\u001b[0;31m             study_embeddings.append(torch.cat([\n\u001b[0m\u001b[1;32m     39\u001b[0m                 \u001b[0mgmp\u001b[0m\u001b[0;34m(\u001b[0m\u001b[0mself\u001b[0m\u001b[0;34m.\u001b[0m\u001b[0mgnn\u001b[0m\u001b[0;34m(\u001b[0m\u001b[0mx\u001b[0m\u001b[0;34m,\u001b[0m \u001b[0medge_index\u001b[0m\u001b[0;34m)\u001b[0m\u001b[0;34m,\u001b[0m \u001b[0mbatch\u001b[0m\u001b[0;34m)\u001b[0m\u001b[0;34m,\u001b[0m \u001b[0mgap\u001b[0m\u001b[0;34m(\u001b[0m\u001b[0mself\u001b[0m\u001b[0;34m.\u001b[0m\u001b[0mgnn\u001b[0m\u001b[0;34m(\u001b[0m\u001b[0mx\u001b[0m\u001b[0;34m,\u001b[0m \u001b[0medge_index\u001b[0m\u001b[0;34m)\u001b[0m\u001b[0;34m,\u001b[0m \u001b[0mbatch\u001b[0m\u001b[0;34m)\u001b[0m\u001b[0;34m,\u001b[0m\u001b[0;34m\u001b[0m\u001b[0;34m\u001b[0m\u001b[0m\n\u001b[1;32m     40\u001b[0m                 study_features[i, :].reshape(1, -1)], dim=1).t())\n",
      "\u001b[0;31mRuntimeError\u001b[0m: torch.cat(): Sizes of tensors must match except in dimension 1. Got 2 and 1 in dimension 0 (The offending index is 2)"
     ]
    }
   ],
   "source": [
    "loader_test_args = dict(dataset=dataset_test, batch_size=len(dataset_test))\n",
    "\n",
    "loader_test = DenseDataLoader(**loader_test_args) if model.is_dense() \\\n",
    "    else DataLoader(**loader_test_args)\n",
    "\n",
    "test_metrics = TestingMetrics(epoch=75)\n",
    "test_metrics.compute_metrics(model, loader_test)\n",
    "pd.DataFrame(test_metrics.storage)"
   ]
  },
  {
   "cell_type": "code",
   "execution_count": null,
   "id": "3a1bf5d9",
   "metadata": {},
   "outputs": [],
   "source": []
  }
 ],
 "metadata": {
  "interpreter": {
   "hash": "947aba3e9b2ee8e94b9a4f86dd9db3bac2e8c16055cb5eb2c317ce168f84ce4b"
  },
  "kernelspec": {
   "display_name": "Python 3.8.10 64-bit ('ds': conda)",
   "name": "python3"
  },
  "language_info": {
   "codemirror_mode": {
    "name": "ipython",
    "version": 3
   },
   "file_extension": ".py",
   "mimetype": "text/x-python",
   "name": "python",
   "nbconvert_exporter": "python",
   "pygments_lexer": "ipython3",
   "version": "3.8.12"
  }
 },
 "nbformat": 4,
 "nbformat_minor": 5
}
