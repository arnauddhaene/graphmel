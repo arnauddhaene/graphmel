{
 "cells": [
  {
   "cell_type": "markdown",
   "id": "79589284-9fd2-481a-b49c-1fbc64723147",
   "metadata": {
    "tags": []
   },
   "source": [
    "## Test runner"
   ]
  },
  {
   "cell_type": "markdown",
   "id": "379d9e57-89c7-4271-97c2-02ddff910794",
   "metadata": {
    "tags": []
   },
   "source": [
    "### Import libraries"
   ]
  },
  {
   "cell_type": "code",
   "execution_count": 1,
   "id": "b67a0916-2989-4479-b091-c2263447e106",
   "metadata": {},
   "outputs": [],
   "source": [
    "import os\n",
    "import sys\n",
    "from typing import List, Tuple\n",
    "from collections.abc import Callable\n",
    "import time\n",
    "import datetime as dt\n",
    "from tqdm.notebook import tqdm"
   ]
  },
  {
   "cell_type": "code",
   "execution_count": 2,
   "id": "3fd71b21-e509-4781-863c-afe3b98a5b2a",
   "metadata": {},
   "outputs": [],
   "source": [
    "import pandas as pd\n",
    "import numpy as np\n",
    "import networkx as nx"
   ]
  },
  {
   "cell_type": "code",
   "execution_count": 3,
   "id": "74b4572d-a189-4915-bb5d-930d5593c03b",
   "metadata": {},
   "outputs": [],
   "source": [
    "from scipy.stats import wasserstein_distance"
   ]
  },
  {
   "cell_type": "code",
   "execution_count": 4,
   "id": "d989082f-b8e4-4625-84e3-91f698c641a3",
   "metadata": {},
   "outputs": [],
   "source": [
    "from sklearn.preprocessing import OneHotEncoder, StandardScaler, MultiLabelBinarizer\n",
    "from sklearn.base import BaseEstimator, TransformerMixin\n",
    "from sklearn.impute import SimpleImputer\n",
    "from sklearn.model_selection import train_test_split\n",
    "from sklearn.pipeline import Pipeline\n",
    "from sklearn.compose import ColumnTransformer, make_column_selector\n",
    "from sklearn.feature_extraction.text import CountVectorizer\n",
    "from sklearn.metrics import ConfusionMatrixDisplay, confusion_matrix"
   ]
  },
  {
   "cell_type": "code",
   "execution_count": 5,
   "id": "1503fd5d-0c95-4112-95ba-df1549c750da",
   "metadata": {},
   "outputs": [],
   "source": [
    "import torch\n",
    "from torch_geometric.data import Data\n",
    "from torch_geometric.loader import DataLoader, DenseDataLoader\n",
    "\n",
    "from torch_geometric.nn import GraphConv, global_add_pool, DenseGraphConv, dense_diff_pool\n",
    "import torch.nn.functional as F\n",
    "from torch.nn import NLLLoss\n",
    "\n",
    "from torch_geometric.utils import to_dense_adj, to_networkx\n",
    "from torch_geometric.transforms import ToDense"
   ]
  },
  {
   "cell_type": "code",
   "execution_count": 6,
   "id": "12f57fad-f38b-4fe2-988b-1770f196486f",
   "metadata": {},
   "outputs": [],
   "source": [
    "import matplotlib.pyplot as plt\n",
    "from matplotlib import rcParams\n",
    "rcParams['figure.figsize'] = 15, 8.27\n",
    "\n",
    "import seaborn as sns\n",
    "import plotly.express as px\n",
    "import plotly.io as pio\n",
    "pio.templates.default = 'seaborn'"
   ]
  },
  {
   "cell_type": "code",
   "execution_count": 7,
   "id": "7d7a647c-a585-4eaa-a74f-5ebb94eedc18",
   "metadata": {},
   "outputs": [],
   "source": [
    "from ipywidgets import interact, interact_manual, FloatSlider"
   ]
  },
  {
   "cell_type": "code",
   "execution_count": 8,
   "id": "837c40be-b6e2-4a26-948e-4eb0268cc031",
   "metadata": {},
   "outputs": [],
   "source": [
    "sys.path.append(os.path.abspath('..'))\n",
    "sys.path.append(os.path.abspath('../src/'))\n",
    "\n",
    "from src.utils import load_dataset, fetch_data, preprocess, create_dataset, \\\n",
    "                      DATA_FOLDERS, FILES, standardise_column_names\n",
    "from src.models.baseline import TimeGNN\n",
    "from src.train import train\n",
    "from src.metrics import evaluate, TrainingMetrics, TestingMetrics\n",
    "\n",
    "CONNECTION_DIR = '/Users/adhaene/Downloads/'"
   ]
  },
  {
   "cell_type": "markdown",
   "id": "ade20ad5",
   "metadata": {},
   "source": [
    "### Dataset creation"
   ]
  },
  {
   "cell_type": "markdown",
   "id": "810cdf6b",
   "metadata": {},
   "source": [
    "### Placing data into DataLoaders"
   ]
  },
  {
   "cell_type": "code",
   "execution_count": 9,
   "id": "7fadf693",
   "metadata": {},
   "outputs": [],
   "source": [
    "test_size = 0.0\n",
    "seed = 12\n",
    "verbose = 1\n",
    "connectivity = 'wasserstein'\n",
    "distance = 5.0\n",
    "suspicious = 0.75"
   ]
  },
  {
   "cell_type": "code",
   "execution_count": 10,
   "id": "028087b1",
   "metadata": {},
   "outputs": [],
   "source": [
    "# labels, lesions, patients = fetch_data(suspicious=suspicious, verbose=verbose)"
   ]
  },
  {
   "cell_type": "code",
   "execution_count": 11,
   "id": "1eda225c",
   "metadata": {},
   "outputs": [],
   "source": [
    "# len(labels), len(lesions.reset_index().gpcr_id.unique()), len(patients.reset_index().gpcr_id.unique())"
   ]
  },
  {
   "cell_type": "code",
   "execution_count": 12,
   "id": "c7705fde",
   "metadata": {},
   "outputs": [],
   "source": [
    "# X_train, X_test, y_train, y_test = \\\n",
    "#     preprocess(labels, lesions, patients,\n",
    "#                test_size=test_size, seed=12, verbose=verbose)"
   ]
  },
  {
   "cell_type": "code",
   "execution_count": 13,
   "id": "448c822b",
   "metadata": {},
   "outputs": [
    {
     "name": "stdout",
     "output_type": "stream",
     "text": [
      "Post-1 study lesions extracted for 94 patients\n",
      "Post-2 study labels added for 58 patients\n",
      "The intersection of datasets showed 56 potential datapoints.\n",
      "Final dataset split -> Train: 53 | Test: 0\n"
     ]
    }
   ],
   "source": [
    "dataset_train, _ = \\\n",
    "        load_dataset(connectivity='wasserstein', seed=seed, test_size=test_size,\n",
    "                     suspicious=suspicious, distance=distance, verbose=verbose)"
   ]
  },
  {
   "cell_type": "code",
   "execution_count": 14,
   "id": "bbd799a8",
   "metadata": {},
   "outputs": [
    {
     "data": {
      "text/plain": [
       "(42, 11)"
      ]
     },
     "execution_count": 14,
     "metadata": {},
     "output_type": "execute_result"
    }
   ],
   "source": [
    "loader_train_args = dict(dataset=dataset_train[:round(len(dataset_train) * .8)], batch_size=1)\n",
    "loader_valid_args = dict(dataset=dataset_train[round(len(dataset_train) * .8):], batch_size=1)\n",
    "        \n",
    "loader_train = DataLoader(**loader_train_args)\n",
    "loader_valid = DataLoader(**loader_valid_args)\n",
    "\n",
    "len(loader_train), len(loader_valid)"
   ]
  },
  {
   "cell_type": "markdown",
   "id": "c71d1981",
   "metadata": {},
   "source": [
    "## Modeling"
   ]
  },
  {
   "cell_type": "markdown",
   "id": "b3895f5c",
   "metadata": {},
   "source": [
    "### Model"
   ]
  },
  {
   "cell_type": "code",
   "execution_count": 57,
   "id": "071efd18",
   "metadata": {},
   "outputs": [],
   "source": [
    "import torch\n",
    "# from torch import nn\n",
    "import torch.nn.functional as F\n",
    "from torch.nn import Linear, LogSoftmax, ModuleList, Sequential, BatchNorm1d, ReLU, LSTM\n",
    "\n",
    "from torch_geometric.nn import GATv2Conv as GATConv, GraphConv, GINConv\n",
    "from torch_geometric.nn import global_mean_pool as gap, global_max_pool as gmp\n",
    "\n",
    "from models.custom import SparseModule\n",
    "\n",
    "\n",
    "class BaselineGNN(SparseModule):\n",
    "    def __init__(self, lesion_features_dim: int, hidden_dim: int,\n",
    "                 layer_type: str = 'GraphConv', num_layers: int = 10):\n",
    "        super(BaselineGNN, self).__init__()\n",
    "        \n",
    "        self.layer_type = layer_type\n",
    "        self.num_layers = num_layers\n",
    "        \n",
    "        self.convs = ModuleList()\n",
    "\n",
    "        feature_extractor = \\\n",
    "            self.create_layer(in_channels=lesion_features_dim, out_channels=hidden_dim)\n",
    "\n",
    "        self.convs.append(feature_extractor)\n",
    "        \n",
    "        for step in range(num_layers - 1):\n",
    "            layer = \\\n",
    "                self.create_layer(in_channels=hidden_dim, out_channels=hidden_dim)\n",
    "            \n",
    "            self.convs.append(layer)\n",
    "    \n",
    "    def forward(self, x: torch.Tensor, edge_index: torch.Tensor,\n",
    "                edge_weight: torch.Tensor = None) -> torch.Tensor:\n",
    "\n",
    "        # Wasserstein edge weights are added if GraphConv layers are used\n",
    "        if self.layer_type == 'GNN':\n",
    "            conv_kwargs = dict(edge_weight=edge_weight)\n",
    "        # if self.layer_type == 'GAT':\n",
    "            # conv_kwargs = dict(edge_attr=edge_weight)\n",
    "        else:\n",
    "            conv_kwargs = dict()\n",
    "        \n",
    "        for step in range(len(self.convs)):\n",
    "            x = F.relu(self.convs[step](x, edge_index, **conv_kwargs))\n",
    "        \n",
    "        return x\n",
    "        \n",
    "    def create_layer(self, **kwargs):\n",
    "        \"\"\"Create layer based on type\n",
    "\n",
    "        Args:\n",
    "            type (str): layer type\n",
    "\n",
    "        Raises:\n",
    "            ValueError: if type is not accepted within framework\n",
    "\n",
    "        Returns:\n",
    "            nn.Module: layer\n",
    "        \"\"\"\n",
    "\n",
    "        if self.layer_type == 'GraphConv':\n",
    "            return GraphConv(**kwargs)\n",
    "        elif self.layer_type == 'GAT':\n",
    "            # return GATConv(heads=3, edge_dim=1, **kwargs)\n",
    "            return GATConv(heads=1, **kwargs)\n",
    "        elif self.layer_type == 'GIN':\n",
    "            node_features, dim = kwargs['in_channels'], kwargs['out_channels']\n",
    "            return GINConv(Sequential(\n",
    "                Linear(node_features, dim), BatchNorm1d(dim), ReLU(),\n",
    "                Linear(dim, dim), ReLU()))\n",
    "        else:\n",
    "            raise ValueError(f'{self.layer_type} is not a valid layer type')\n",
    "        \n",
    "\n",
    "class TimeGNN(SparseModule):\n",
    "    def __init__(\n",
    "        self,\n",
    "        num_classes: int,\n",
    "        hidden_dim: int,\n",
    "        lesion_features_dim: int,\n",
    "        study_features_dim: int,\n",
    "        patient_features_dim: int,\n",
    "        layer_type: str = 'GraphConv',\n",
    "        num_layers: int = 10,\n",
    "    ):\n",
    "        super(TimeGNN, self).__init__()\n",
    "        \n",
    "        self.layer_type = layer_type\n",
    "        self.num_layers = num_layers\n",
    "        \n",
    "        self.gnn = BaselineGNN(lesion_features_dim=lesion_features_dim, hidden_dim=hidden_dim,\n",
    "                               layer_type=layer_type, num_layers=num_layers)\n",
    "\n",
    "        self.rnn = LSTM(input_size=(hidden_dim * 2 + study_features_dim),\n",
    "                        hidden_size=hidden_dim).to(dtype=torch.float64)\n",
    "        \n",
    "        self.fc1 = Linear(hidden_dim + patient_features_dim, hidden_dim).to(dtype=torch.float64)\n",
    "        self.fc2 = Linear(hidden_dim, num_classes).to(dtype=torch.float64)\n",
    "\n",
    "        self.readout = LogSoftmax(dim=-1).to(dtype=torch.float64)\n",
    "\n",
    "    def forward(self, data):\n",
    "        \n",
    "        study_features, patient_features = data.study_features, data.patient_features\n",
    "        \n",
    "        xes = list(data.x.split(tuple(data.graph_sizes)))\n",
    "        edge_indices = list(data.edge_index.split(tuple(data.split_sizes), dim=1))\n",
    "        batches = list(data.batch.split(tuple(data.graph_sizes)))\n",
    "        \n",
    "        study_embeddings = []\n",
    "        \n",
    "        for i, (x, edge_index, batch) in enumerate(zip(xes, edge_indices, batches)):\n",
    "            \n",
    "            pooled_lesions_features = [gmp(self.gnn(x, edge_index), batch), gap(self.gnn(x, edge_index), batch)]\n",
    "                \n",
    "            # Size of which will be (len(xes), hidden_dim * 3)\n",
    "            study_embeddings.append(torch.cat([\n",
    "                *pooled_lesions_features, study_features[i, :].reshape(1, -1)\n",
    "            ], dim=1).t())\n",
    "        \n",
    "        # len(xes) here is the sequence length\n",
    "        rnn_output, _ = self.rnn(torch.cat(study_embeddings, dim=1).t().reshape(len(xes), 1, -1))\n",
    "        study_pooled = rnn_output[-1, :, :].flatten()\n",
    "        \n",
    "        patient_pooled = torch.cat([study_pooled, patient_features], dim=0)\n",
    "\n",
    "        patient_pooled = F.relu(self.fc1(patient_pooled)).to(dtype=torch.float64)\n",
    "        patient_pooled = F.dropout(patient_pooled, p=0.25, training=self.training).to(dtype=torch.float64)\n",
    "        patient_pooled = self.fc2(patient_pooled)\n",
    "\n",
    "        return self.readout(patient_pooled).reshape(1, -1)\n",
    "    \n",
    "    def __str__(self) -> str:\n",
    "        \"\"\"Representation\"\"\"\n",
    "        return f'TimeGNN with {self.num_layers} {self.layer_type} layers'"
   ]
  },
  {
   "cell_type": "markdown",
   "id": "fbf9de10",
   "metadata": {},
   "source": [
    "### Experimentation"
   ]
  },
  {
   "cell_type": "code",
   "execution_count": 33,
   "id": "6e532a7c",
   "metadata": {},
   "outputs": [],
   "source": [
    "lesion_features_dim = loader_train.dataset[0].x.shape[1]\n",
    "study_features_dim = loader_train.dataset[0].study_features.shape[1]\n",
    "patient_features_dim = loader_train.dataset[0].patient_features.shape[0]\n",
    "hidden_dim = 64\n",
    "layer_type = \"GAT\"\n",
    "num_layers = 5\n",
    "num_classes = 2\n",
    "\n",
    "gnn = BaselineGNN(lesion_features_dim=lesion_features_dim, hidden_dim=hidden_dim,\n",
    "                               layer_type=layer_type, num_layers=num_layers)\n",
    "\n",
    "fc1 = Linear(hidden_dim * 2, hidden_dim) \\\n",
    "    .to(dtype=torch.float64)\n",
    "fc2 = Linear(hidden_dim, num_classes).to(dtype=torch.float64)\n",
    "\n",
    "sl1 = Linear(study_features_dim, hidden_dim).to(dtype=torch.float64)\n",
    "sl2 = Linear(hidden_dim, hidden_dim).to(dtype=torch.float64)\n",
    "\n",
    "pl1 = Linear(patient_features_dim, hidden_dim).to(dtype=torch.float64)\n",
    "pl2 = Linear(hidden_dim, hidden_dim).to(dtype=torch.float64)\n",
    "\n",
    "readout = LogSoftmax(dim=-1).to(dtype=torch.float64)\n",
    "\n",
    "rnn = torch.nn.RNN(input_size=(hidden_dim * 3), hidden_size=hidden_dim, num_layers=1, nonlinearity='relu', batch_first=False, dropout=0.).to(dtype=torch.float64)"
   ]
  },
  {
   "cell_type": "markdown",
   "id": "3931d0e2",
   "metadata": {},
   "source": [
    "### Instantiate model"
   ]
  },
  {
   "cell_type": "code",
   "execution_count": 58,
   "id": "d978936e-e9b0-4403-881d-677ad12948f5",
   "metadata": {},
   "outputs": [],
   "source": [
    "model_args = dict(\n",
    "    num_classes=2,\n",
    "    hidden_dim=64,\n",
    "    lesion_features_dim=loader_train.dataset[0].x.shape[1],\n",
    "    study_features_dim=loader_train.dataset[0].study_features.shape[1],\n",
    "    patient_features_dim=loader_train.dataset[0].patient_features.shape[0],\n",
    "    num_layers=5, layer_type='GAT')\n",
    "\n",
    "model = TimeGNN(**model_args)\n",
    "\n",
    "model.reset()\n",
    "\n",
    "criterion = NLLLoss()\n",
    "optimizer = torch.optim.Adam(\n",
    "    model.parameters(), lr=0.01, weight_decay=0.01)\n",
    "\n",
    "device = None"
   ]
  },
  {
   "cell_type": "code",
   "execution_count": 59,
   "id": "ee661100",
   "metadata": {},
   "outputs": [
    {
     "data": {
      "text/plain": [
       "97602"
      ]
     },
     "execution_count": 59,
     "metadata": {},
     "output_type": "execute_result"
    }
   ],
   "source": [
    "model.param_count()"
   ]
  },
  {
   "cell_type": "markdown",
   "id": "0ccf58a5",
   "metadata": {},
   "source": [
    "## Train model"
   ]
  },
  {
   "cell_type": "code",
   "execution_count": 60,
   "id": "86967471-5bd3-4d47-bdb9-2fe55c8a6062",
   "metadata": {},
   "outputs": [
    {
     "data": {
      "application/vnd.jupyter.widget-view+json": {
       "model_id": "1a74338b4769462d967bf1f1609bd208",
       "version_major": 2,
       "version_minor": 0
      },
      "text/plain": [
       "  0%|          | 0/100 [00:00<?, ?it/s]"
      ]
     },
     "metadata": {},
     "output_type": "display_data"
    },
    {
     "name": "stdout",
     "output_type": "stream",
     "text": [
      "Epoch: 000, Train: 0.619, Val: 0.545, Loss: 29.064, Val. loss: 0.762\n",
      "Epoch: 005, Train: 0.810, Val: 0.545, Loss: 24.371, Val. loss: 0.702\n",
      "Epoch: 010, Train: 0.929, Val: 0.636, Loss: 12.643, Val. loss: 0.729\n",
      "Epoch: 015, Train: 1.000, Val: 0.455, Loss: 9.786, Val. loss: 1.054\n",
      "Epoch: 020, Train: 1.000, Val: 0.545, Loss: 5.288, Val. loss: 1.184\n",
      "Epoch: 025, Train: 1.000, Val: 0.545, Loss: 2.804, Val. loss: 1.154\n",
      "Epoch: 030, Train: 1.000, Val: 0.545, Loss: 2.017, Val. loss: 1.148\n",
      "Epoch: 035, Train: 1.000, Val: 0.455, Loss: 2.063, Val. loss: 1.260\n"
     ]
    },
    {
     "ename": "KeyboardInterrupt",
     "evalue": "",
     "output_type": "error",
     "traceback": [
      "\u001b[0;31m---------------------------------------------------------------------------\u001b[0m",
      "\u001b[0;31mKeyboardInterrupt\u001b[0m                         Traceback (most recent call last)",
      "\u001b[0;32m/var/folders/ly/jtqnskb14y35xzlwblx2dry00000gn/T/ipykernel_6865/2394334677.py\u001b[0m in \u001b[0;36m<module>\u001b[0;34m\u001b[0m\n\u001b[1;32m     13\u001b[0m         \u001b[0moutput\u001b[0m \u001b[0;34m=\u001b[0m \u001b[0mmodel\u001b[0m\u001b[0;34m(\u001b[0m\u001b[0mdata\u001b[0m\u001b[0;34m)\u001b[0m\u001b[0;34m\u001b[0m\u001b[0;34m\u001b[0m\u001b[0m\n\u001b[1;32m     14\u001b[0m         \u001b[0mloss\u001b[0m \u001b[0;34m=\u001b[0m \u001b[0mcriterion\u001b[0m\u001b[0;34m(\u001b[0m\u001b[0moutput\u001b[0m\u001b[0;34m,\u001b[0m \u001b[0mdata\u001b[0m\u001b[0;34m.\u001b[0m\u001b[0my\u001b[0m\u001b[0;34m.\u001b[0m\u001b[0mflatten\u001b[0m\u001b[0;34m(\u001b[0m\u001b[0;34m)\u001b[0m\u001b[0;34m)\u001b[0m\u001b[0;34m\u001b[0m\u001b[0;34m\u001b[0m\u001b[0m\n\u001b[0;32m---> 15\u001b[0;31m         \u001b[0mloss\u001b[0m\u001b[0;34m.\u001b[0m\u001b[0mbackward\u001b[0m\u001b[0;34m(\u001b[0m\u001b[0;34m)\u001b[0m\u001b[0;34m\u001b[0m\u001b[0;34m\u001b[0m\u001b[0m\n\u001b[0m\u001b[1;32m     16\u001b[0m         \u001b[0moptimizer\u001b[0m\u001b[0;34m.\u001b[0m\u001b[0mstep\u001b[0m\u001b[0;34m(\u001b[0m\u001b[0;34m)\u001b[0m\u001b[0;34m\u001b[0m\u001b[0;34m\u001b[0m\u001b[0m\n\u001b[1;32m     17\u001b[0m \u001b[0;34m\u001b[0m\u001b[0m\n",
      "\u001b[0;32m~/miniconda3/envs/ds/lib/python3.8/site-packages/torch/_tensor.py\u001b[0m in \u001b[0;36mbackward\u001b[0;34m(self, gradient, retain_graph, create_graph, inputs)\u001b[0m\n\u001b[1;32m    305\u001b[0m                 \u001b[0mcreate_graph\u001b[0m\u001b[0;34m=\u001b[0m\u001b[0mcreate_graph\u001b[0m\u001b[0;34m,\u001b[0m\u001b[0;34m\u001b[0m\u001b[0;34m\u001b[0m\u001b[0m\n\u001b[1;32m    306\u001b[0m                 inputs=inputs)\n\u001b[0;32m--> 307\u001b[0;31m         \u001b[0mtorch\u001b[0m\u001b[0;34m.\u001b[0m\u001b[0mautograd\u001b[0m\u001b[0;34m.\u001b[0m\u001b[0mbackward\u001b[0m\u001b[0;34m(\u001b[0m\u001b[0mself\u001b[0m\u001b[0;34m,\u001b[0m \u001b[0mgradient\u001b[0m\u001b[0;34m,\u001b[0m \u001b[0mretain_graph\u001b[0m\u001b[0;34m,\u001b[0m \u001b[0mcreate_graph\u001b[0m\u001b[0;34m,\u001b[0m \u001b[0minputs\u001b[0m\u001b[0;34m=\u001b[0m\u001b[0minputs\u001b[0m\u001b[0;34m)\u001b[0m\u001b[0;34m\u001b[0m\u001b[0;34m\u001b[0m\u001b[0m\n\u001b[0m\u001b[1;32m    308\u001b[0m \u001b[0;34m\u001b[0m\u001b[0m\n\u001b[1;32m    309\u001b[0m     \u001b[0;32mdef\u001b[0m \u001b[0mregister_hook\u001b[0m\u001b[0;34m(\u001b[0m\u001b[0mself\u001b[0m\u001b[0;34m,\u001b[0m \u001b[0mhook\u001b[0m\u001b[0;34m)\u001b[0m\u001b[0;34m:\u001b[0m\u001b[0;34m\u001b[0m\u001b[0;34m\u001b[0m\u001b[0m\n",
      "\u001b[0;32m~/miniconda3/envs/ds/lib/python3.8/site-packages/torch/autograd/__init__.py\u001b[0m in \u001b[0;36mbackward\u001b[0;34m(tensors, grad_tensors, retain_graph, create_graph, grad_variables, inputs)\u001b[0m\n\u001b[1;32m    152\u001b[0m         \u001b[0mretain_graph\u001b[0m \u001b[0;34m=\u001b[0m \u001b[0mcreate_graph\u001b[0m\u001b[0;34m\u001b[0m\u001b[0;34m\u001b[0m\u001b[0m\n\u001b[1;32m    153\u001b[0m \u001b[0;34m\u001b[0m\u001b[0m\n\u001b[0;32m--> 154\u001b[0;31m     Variable._execution_engine.run_backward(\n\u001b[0m\u001b[1;32m    155\u001b[0m         \u001b[0mtensors\u001b[0m\u001b[0;34m,\u001b[0m \u001b[0mgrad_tensors_\u001b[0m\u001b[0;34m,\u001b[0m \u001b[0mretain_graph\u001b[0m\u001b[0;34m,\u001b[0m \u001b[0mcreate_graph\u001b[0m\u001b[0;34m,\u001b[0m \u001b[0minputs\u001b[0m\u001b[0;34m,\u001b[0m\u001b[0;34m\u001b[0m\u001b[0;34m\u001b[0m\u001b[0m\n\u001b[1;32m    156\u001b[0m         allow_unreachable=True, accumulate_grad=True)  # allow_unreachable flag\n",
      "\u001b[0;31mKeyboardInterrupt\u001b[0m: "
     ]
    }
   ],
   "source": [
    "metrics = TrainingMetrics()\n",
    "\n",
    "for epoch in tqdm(range(100)):\n",
    "    epoch_loss = 0.\n",
    "\n",
    "    model.train()\n",
    "    \n",
    "    for data in loader_train:\n",
    "        data.to(device)\n",
    "        \n",
    "        optimizer.zero_grad()\n",
    "\n",
    "        output = model(data)\n",
    "        loss = criterion(output, data.y.flatten())\n",
    "        loss.backward()\n",
    "        optimizer.step()\n",
    "        \n",
    "        epoch_loss += loss.item()\n",
    "        \n",
    "    with torch.no_grad():\n",
    "        acc_train, _ = evaluate(model, loader_train)\n",
    "        acc_valid, loss_valid = evaluate(model, loader_valid, validation=True)\n",
    "\n",
    "        if epoch % 5 == 0:\n",
    "            print(f'Epoch: {epoch:03d}, Train: {acc_train:.3f}, Val: {acc_valid:.3f}, Loss: {epoch_loss:.3f}, Val. loss: {loss_valid:.3f}')\n",
    "        \n",
    "        metrics.log_metric('Loss - training', epoch_loss, step=epoch)\n",
    "        metrics.log_metric('Loss - validation', loss_valid, step=epoch)\n",
    "        metrics.log_metric('Accuracy - training', acc_train, step=epoch)\n",
    "        metrics.log_metric('Accuracy - validation', acc_valid, step=epoch)"
   ]
  },
  {
   "cell_type": "code",
   "execution_count": 88,
   "id": "d34282c8",
   "metadata": {},
   "outputs": [
    {
     "data": {
      "text/plain": [
       "TimeGNN(\n",
       "  (gnn): BaselineGNN(\n",
       "    (convs): ModuleList(\n",
       "      (0): GATv2Conv(28, 64, heads=1)\n",
       "      (1): GATv2Conv(64, 64, heads=1)\n",
       "      (2): GATv2Conv(64, 64, heads=1)\n",
       "      (3): GATv2Conv(64, 64, heads=1)\n",
       "      (4): GATv2Conv(64, 64, heads=1)\n",
       "    )\n",
       "  )\n",
       "  (rnn): LSTM(151, 64)\n",
       "  (fc_readout_1): Linear(in_features=66, out_features=64, bias=True)\n",
       "  (fc_readout_2): Linear(in_features=64, out_features=2, bias=True)\n",
       "  (readout): LogSoftmax(dim=-1)\n",
       ")"
      ]
     },
     "execution_count": 88,
     "metadata": {},
     "output_type": "execute_result"
    }
   ],
   "source": [
    "model"
   ]
  },
  {
   "cell_type": "code",
   "execution_count": 75,
   "id": "5a824c90",
   "metadata": {},
   "outputs": [
    {
     "data": {
      "text/plain": [
       "1    28\n",
       "2    14\n",
       "dtype: int64"
      ]
     },
     "execution_count": 75,
     "metadata": {},
     "output_type": "execute_result"
    }
   ],
   "source": [
    "pd.Series(list(map(lambda d: d.graph_sizes.shape[0], loader_train.dataset))).value_counts()"
   ]
  },
  {
   "cell_type": "markdown",
   "id": "305e074b",
   "metadata": {},
   "source": [
    " ## Evaluate training metrics"
   ]
  },
  {
   "cell_type": "code",
   "execution_count": 76,
   "id": "04598e4d",
   "metadata": {},
   "outputs": [],
   "source": [
    "training_metrics = pd.DataFrame(metrics.storage)"
   ]
  },
  {
   "cell_type": "code",
   "execution_count": 77,
   "id": "fd388ebc",
   "metadata": {},
   "outputs": [
    {
     "data": {
      "application/vnd.plotly.v1+json": {
       "config": {
        "plotlyServerURL": "https://plot.ly"
       },
       "data": [
        {
         "hovertemplate": "metric=Loss - training<br>step=%{x}<br>value=%{y}<extra></extra>",
         "legendgroup": "Loss - training",
         "line": {
          "color": "rgb(76,114,176)",
          "dash": "solid"
         },
         "marker": {
          "symbol": "circle"
         },
         "mode": "lines",
         "name": "Loss - training",
         "orientation": "v",
         "showlegend": true,
         "type": "scatter",
         "x": [
          0,
          1,
          2,
          3,
          4,
          5,
          6,
          7,
          8,
          9,
          10,
          11,
          12,
          13,
          14,
          15,
          16,
          17,
          18,
          19,
          20,
          21,
          22,
          23,
          24,
          25,
          26,
          27,
          28,
          29,
          30,
          31,
          32,
          33,
          34,
          35,
          36,
          37,
          38,
          39,
          40,
          41,
          42,
          43,
          44,
          45,
          46,
          47,
          48,
          49,
          50,
          51,
          52,
          53,
          54,
          55,
          56,
          57,
          58,
          59,
          60,
          61,
          62,
          63,
          64,
          65,
          66,
          67,
          68,
          69,
          70,
          71,
          72,
          73,
          74,
          75,
          76,
          77,
          78,
          79,
          80,
          81,
          82,
          83,
          84,
          85,
          86,
          87,
          88,
          89,
          90,
          91,
          92,
          93,
          94,
          95,
          96,
          97,
          98,
          99
         ],
         "xaxis": "x",
         "y": [
          138.36595325185576,
          90.84869329368567,
          45.06492169097635,
          32.251556172710664,
          53.41946354238307,
          58.70572404514777,
          45.02167346443866,
          33.75909080383925,
          51.87575772439025,
          62.49542161092346,
          37.685347059854905,
          41.16618547863644,
          52.371211977047984,
          43.26464507261215,
          77.10129718763253,
          44.97676487347156,
          57.19904259627596,
          53.95316698836228,
          42.91733459959053,
          51.08858363532433,
          39.49559748787,
          60.230656417828556,
          34.989089931894064,
          31.2589985246038,
          30.80577309734013,
          55.46557176775898,
          83.5257169488119,
          210.4820056146347,
          50.22957341522959,
          57.48667222429662,
          39.267541792223966,
          40.195006527456705,
          29.261555926252417,
          32.37644950315103,
          38.27582057021916,
          38.24443785374098,
          35.924217827942385,
          36.35701449078661,
          62.333756868599956,
          35.90002735452738,
          70.11319356992665,
          42.992369393564395,
          39.813847648208316,
          47.0936468705502,
          85.08306982043942,
          90.08850891764818,
          57.677284839655115,
          98.48586496608596,
          93.0188188108344,
          105.87249948016866,
          30.53654519921444,
          48.05053423621562,
          29.514689828540316,
          44.00948178216852,
          37.12620156004492,
          31.935565179896344,
          47.50064163480802,
          65.01613999223048,
          34.086018086216335,
          35.14023605961218,
          26.851953593547915,
          49.38455626470028,
          65.6366246571318,
          61.50674538225104,
          42.71855723564646,
          45.61523249176208,
          30.392521013424087,
          42.6704789904429,
          32.38213031884695,
          40.90849771901917,
          36.445098554861204,
          48.631327580107296,
          92.38298598624596,
          36.65492405707336,
          36.75043854298041,
          39.5434202024553,
          29.79314175952927,
          29.7611773517256,
          32.07372994229808,
          53.194290980077604,
          36.33566481388462,
          30.042820866505775,
          43.35681546383748,
          53.820316342977065,
          52.32878784864332,
          44.95894568645127,
          36.30544534267482,
          28.26852502844114,
          71.61891212673457,
          66.29077108710112,
          112.81359796823322,
          120.37480463005026,
          46.75170983130537,
          96.86108228289719,
          47.42024727050157,
          37.55929342871053,
          74.54549599957625,
          66.6466871373875,
          34.01716670151061,
          33.35836792836832
         ],
         "yaxis": "y"
        },
        {
         "hovertemplate": "metric=Loss - validation<br>step=%{x}<br>value=%{y}<extra></extra>",
         "legendgroup": "Loss - validation",
         "line": {
          "color": "rgb(221,132,82)",
          "dash": "solid"
         },
         "marker": {
          "symbol": "circle"
         },
         "mode": "lines",
         "name": "Loss - validation",
         "orientation": "v",
         "showlegend": true,
         "type": "scatter",
         "x": [
          0,
          1,
          2,
          3,
          4,
          5,
          6,
          7,
          8,
          9,
          10,
          11,
          12,
          13,
          14,
          15,
          16,
          17,
          18,
          19,
          20,
          21,
          22,
          23,
          24,
          25,
          26,
          27,
          28,
          29,
          30,
          31,
          32,
          33,
          34,
          35,
          36,
          37,
          38,
          39,
          40,
          41,
          42,
          43,
          44,
          45,
          46,
          47,
          48,
          49,
          50,
          51,
          52,
          53,
          54,
          55,
          56,
          57,
          58,
          59,
          60,
          61,
          62,
          63,
          64,
          65,
          66,
          67,
          68,
          69,
          70,
          71,
          72,
          73,
          74,
          75,
          76,
          77,
          78,
          79,
          80,
          81,
          82,
          83,
          84,
          85,
          86,
          87,
          88,
          89,
          90,
          91,
          92,
          93,
          94,
          95,
          96,
          97,
          98,
          99
         ],
         "xaxis": "x",
         "y": [
          9.915763608794883,
          1.0429009259551845,
          2.2493432904207955,
          3.6875330812057623,
          1.930189300572412,
          2.936042281967735,
          1.0748658370578539,
          1.9867096601948229,
          4.002016512196576,
          0.906130710719345,
          3.0967901197153753,
          0.7244567125045988,
          3.168952901910448,
          3.140488718140141,
          1.9728104360342302,
          0.8642325119503617,
          5.833822217078526,
          4.231312515655134,
          1.45871143210109,
          0.9295789394499991,
          3.8526552942015853,
          2.9306543331456862,
          1.8277593291342824,
          1.7044625167708447,
          2.9801650373945168,
          4.39971572238551,
          5.7316212149011,
          3.477777850824943,
          0.7776973323601241,
          0.7967083351462417,
          2.8023885029265245,
          0.6892581607475147,
          0.9359549297577199,
          0.8739275502530952,
          0.7104496969868694,
          1.5753801736223125,
          1.170367103824292,
          1.1751758637528957,
          1.611483871042217,
          0.7471753827424382,
          1.573262803810306,
          0.7877126061935904,
          1.0403279220131643,
          1.55414970337596,
          13.11698881181564,
          1.5868743201390372,
          0.973732043418391,
          2.570071251943817,
          1.1424305459298487,
          1.4675557362934875,
          1.40787572732113,
          1.6772980805512048,
          1.7191695123550652,
          1.4988545833928058,
          0.6902837627237741,
          0.6900354400083095,
          1.1110361974080312,
          1.3105436324361206,
          0.6971896875159496,
          1.5629241678280898,
          1.3034737042624684,
          0.6366673808762292,
          0.8081017660539338,
          1.7564048813177728,
          0.6690195498183096,
          0.664810866351818,
          0.9701749192695452,
          0.8812771191133796,
          2.8117677435681334,
          0.7462680272304444,
          0.8466171999005998,
          0.7661881742106627,
          0.7565171508235212,
          0.7200599236364112,
          0.934556243474655,
          0.7600204461013367,
          0.6906139083987395,
          0.8011363601439822,
          0.8317019860833849,
          2.383226464784349,
          0.6896254134503869,
          2.665171261232684,
          0.6282697190381483,
          0.7646833902130783,
          0.815910453774661,
          0.7391867034727881,
          1.5374292685094424,
          1.292077829253297,
          1.9347587389078091,
          2.7612165878219375,
          10.244707393653785,
          2.6144553515096542,
          0.7571631889714119,
          0.694241854961258,
          0.6898531558124804,
          0.6972722413840261,
          10.772953096678172,
          0.8256621770661167,
          0.7897290642720814,
          0.6933130046283797
         ],
         "yaxis": "y"
        },
        {
         "hovertemplate": "metric=Accuracy - training<br>step=%{x}<br>value=%{y}<extra></extra>",
         "legendgroup": "Accuracy - training",
         "line": {
          "color": "rgb(85,168,104)",
          "dash": "solid"
         },
         "marker": {
          "symbol": "circle"
         },
         "mode": "lines",
         "name": "Accuracy - training",
         "orientation": "v",
         "showlegend": true,
         "type": "scatter",
         "x": [
          0,
          1,
          2,
          3,
          4,
          5,
          6,
          7,
          8,
          9,
          10,
          11,
          12,
          13,
          14,
          15,
          16,
          17,
          18,
          19,
          20,
          21,
          22,
          23,
          24,
          25,
          26,
          27,
          28,
          29,
          30,
          31,
          32,
          33,
          34,
          35,
          36,
          37,
          38,
          39,
          40,
          41,
          42,
          43,
          44,
          45,
          46,
          47,
          48,
          49,
          50,
          51,
          52,
          53,
          54,
          55,
          56,
          57,
          58,
          59,
          60,
          61,
          62,
          63,
          64,
          65,
          66,
          67,
          68,
          69,
          70,
          71,
          72,
          73,
          74,
          75,
          76,
          77,
          78,
          79,
          80,
          81,
          82,
          83,
          84,
          85,
          86,
          87,
          88,
          89,
          90,
          91,
          92,
          93,
          94,
          95,
          96,
          97,
          98,
          99
         ],
         "xaxis": "x",
         "y": [
          0.5952380952380952,
          0.5952380952380952,
          0.5714285714285714,
          0.5952380952380952,
          0.5476190476190477,
          0.5952380952380952,
          0.5238095238095238,
          0.5952380952380952,
          0.6190476190476191,
          0.6428571428571429,
          0.6190476190476191,
          0.42857142857142855,
          0.5952380952380952,
          0.5476190476190477,
          0.5952380952380952,
          0.5476190476190477,
          0.5952380952380952,
          0.5238095238095238,
          0.6190476190476191,
          0.5952380952380952,
          0.5476190476190477,
          0.5952380952380952,
          0.6190476190476191,
          0.6190476190476191,
          0.6904761904761905,
          0.5714285714285714,
          0.5952380952380952,
          0.6190476190476191,
          0.5,
          0.5,
          0.5476190476190477,
          0.5952380952380952,
          0.5714285714285714,
          0.6190476190476191,
          0.5952380952380952,
          0.5714285714285714,
          0.5952380952380952,
          0.6190476190476191,
          0.6428571428571429,
          0.5952380952380952,
          0.5952380952380952,
          0.5714285714285714,
          0.6904761904761905,
          0.5714285714285714,
          0.5952380952380952,
          0.7380952380952381,
          0.5952380952380952,
          0.5952380952380952,
          0.5714285714285714,
          0.5952380952380952,
          0.5952380952380952,
          0.5476190476190477,
          0.6428571428571429,
          0.6428571428571429,
          0.5714285714285714,
          0.5952380952380952,
          0.6428571428571429,
          0.6190476190476191,
          0.5952380952380952,
          0.5714285714285714,
          0.5952380952380952,
          0.47619047619047616,
          0.5952380952380952,
          0.6428571428571429,
          0.5952380952380952,
          0.6666666666666666,
          0.5952380952380952,
          0.5,
          0.5476190476190477,
          0.5952380952380952,
          0.5952380952380952,
          0.6190476190476191,
          0.5952380952380952,
          0.5714285714285714,
          0.5952380952380952,
          0.5714285714285714,
          0.5952380952380952,
          0.5952380952380952,
          0.5714285714285714,
          0.5952380952380952,
          0.5952380952380952,
          0.5952380952380952,
          0.6190476190476191,
          0.6666666666666666,
          0.5952380952380952,
          0.6190476190476191,
          0.6666666666666666,
          0.6190476190476191,
          0.7142857142857143,
          0.47619047619047616,
          0.40476190476190477,
          0.5952380952380952,
          0.47619047619047616,
          0.5952380952380952,
          0.5952380952380952,
          0.47619047619047616,
          0.5952380952380952,
          0.5952380952380952,
          0.5952380952380952,
          0.5952380952380952
         ],
         "yaxis": "y"
        },
        {
         "hovertemplate": "metric=Accuracy - validation<br>step=%{x}<br>value=%{y}<extra></extra>",
         "legendgroup": "Accuracy - validation",
         "line": {
          "color": "rgb(196,78,82)",
          "dash": "solid"
         },
         "marker": {
          "symbol": "circle"
         },
         "mode": "lines",
         "name": "Accuracy - validation",
         "orientation": "v",
         "showlegend": true,
         "type": "scatter",
         "x": [
          0,
          1,
          2,
          3,
          4,
          5,
          6,
          7,
          8,
          9,
          10,
          11,
          12,
          13,
          14,
          15,
          16,
          17,
          18,
          19,
          20,
          21,
          22,
          23,
          24,
          25,
          26,
          27,
          28,
          29,
          30,
          31,
          32,
          33,
          34,
          35,
          36,
          37,
          38,
          39,
          40,
          41,
          42,
          43,
          44,
          45,
          46,
          47,
          48,
          49,
          50,
          51,
          52,
          53,
          54,
          55,
          56,
          57,
          58,
          59,
          60,
          61,
          62,
          63,
          64,
          65,
          66,
          67,
          68,
          69,
          70,
          71,
          72,
          73,
          74,
          75,
          76,
          77,
          78,
          79,
          80,
          81,
          82,
          83,
          84,
          85,
          86,
          87,
          88,
          89,
          90,
          91,
          92,
          93,
          94,
          95,
          96,
          97,
          98,
          99
         ],
         "xaxis": "x",
         "y": [
          0.5454545454545454,
          0.5454545454545454,
          0.5454545454545454,
          0.5454545454545454,
          0.36363636363636365,
          0.5454545454545454,
          0.5454545454545454,
          0.5454545454545454,
          0.5454545454545454,
          0.5454545454545454,
          0.5454545454545454,
          0.45454545454545453,
          0.5454545454545454,
          0.45454545454545453,
          0.5454545454545454,
          0.45454545454545453,
          0.5454545454545454,
          0.5454545454545454,
          0.36363636363636365,
          0.5454545454545454,
          0.45454545454545453,
          0.5454545454545454,
          0.5454545454545454,
          0.45454545454545453,
          0.5454545454545454,
          0.5454545454545454,
          0.45454545454545453,
          0.5454545454545454,
          0.45454545454545453,
          0.45454545454545453,
          0.5454545454545454,
          0.5454545454545454,
          0.45454545454545453,
          0.45454545454545453,
          0.5454545454545454,
          0.45454545454545453,
          0.5454545454545454,
          0.5454545454545454,
          0.36363636363636365,
          0.5454545454545454,
          0.5454545454545454,
          0.5454545454545454,
          0.6363636363636364,
          0.5454545454545454,
          0.5454545454545454,
          0.18181818181818182,
          0.5454545454545454,
          0.5454545454545454,
          0.2727272727272727,
          0.5454545454545454,
          0.5454545454545454,
          0.5454545454545454,
          0.5454545454545454,
          0.36363636363636365,
          0.5454545454545454,
          0.5454545454545454,
          0.36363636363636365,
          0.5454545454545454,
          0.5454545454545454,
          0.5454545454545454,
          0.36363636363636365,
          0.5454545454545454,
          0.5454545454545454,
          0.45454545454545453,
          0.45454545454545453,
          0.6363636363636364,
          0.5454545454545454,
          0.36363636363636365,
          0.5454545454545454,
          0.5454545454545454,
          0.36363636363636365,
          0.45454545454545453,
          0.5454545454545454,
          0.45454545454545453,
          0.6363636363636364,
          0.36363636363636365,
          0.5454545454545454,
          0.5454545454545454,
          0.5454545454545454,
          0.5454545454545454,
          0.5454545454545454,
          0.5454545454545454,
          0.7272727272727273,
          0.2727272727272727,
          0.5454545454545454,
          0.6363636363636364,
          0.45454545454545453,
          0.5454545454545454,
          0.45454545454545453,
          0.36363636363636365,
          0.45454545454545453,
          0.5454545454545454,
          0.45454545454545453,
          0.5454545454545454,
          0.5454545454545454,
          0.45454545454545453,
          0.5454545454545454,
          0.5454545454545454,
          0.5454545454545454,
          0.5454545454545454
         ],
         "yaxis": "y"
        }
       ],
       "layout": {
        "legend": {
         "title": {
          "text": "metric"
         },
         "tracegroupgap": 0
        },
        "margin": {
         "t": 60
        },
        "template": {
         "data": {
          "bar": [
           {
            "error_x": {
             "color": "rgb(36,36,36)"
            },
            "error_y": {
             "color": "rgb(36,36,36)"
            },
            "marker": {
             "line": {
              "color": "rgb(234,234,242)",
              "width": 0.5
             },
             "pattern": {
              "fillmode": "overlay",
              "size": 10,
              "solidity": 0.2
             }
            },
            "type": "bar"
           }
          ],
          "barpolar": [
           {
            "marker": {
             "line": {
              "color": "rgb(234,234,242)",
              "width": 0.5
             },
             "pattern": {
              "fillmode": "overlay",
              "size": 10,
              "solidity": 0.2
             }
            },
            "type": "barpolar"
           }
          ],
          "carpet": [
           {
            "aaxis": {
             "endlinecolor": "rgb(36,36,36)",
             "gridcolor": "white",
             "linecolor": "white",
             "minorgridcolor": "white",
             "startlinecolor": "rgb(36,36,36)"
            },
            "baxis": {
             "endlinecolor": "rgb(36,36,36)",
             "gridcolor": "white",
             "linecolor": "white",
             "minorgridcolor": "white",
             "startlinecolor": "rgb(36,36,36)"
            },
            "type": "carpet"
           }
          ],
          "choropleth": [
           {
            "colorbar": {
             "outlinewidth": 0,
             "tickcolor": "rgb(36,36,36)",
             "ticklen": 8,
             "ticks": "outside",
             "tickwidth": 2
            },
            "type": "choropleth"
           }
          ],
          "contour": [
           {
            "colorbar": {
             "outlinewidth": 0,
             "tickcolor": "rgb(36,36,36)",
             "ticklen": 8,
             "ticks": "outside",
             "tickwidth": 2
            },
            "colorscale": [
             [
              0,
              "rgb(2,4,25)"
             ],
             [
              0.06274509803921569,
              "rgb(24,15,41)"
             ],
             [
              0.12549019607843137,
              "rgb(47,23,57)"
             ],
             [
              0.18823529411764706,
              "rgb(71,28,72)"
             ],
             [
              0.25098039215686274,
              "rgb(97,30,82)"
             ],
             [
              0.3137254901960784,
              "rgb(123,30,89)"
             ],
             [
              0.3764705882352941,
              "rgb(150,27,91)"
             ],
             [
              0.4392156862745098,
              "rgb(177,22,88)"
             ],
             [
              0.5019607843137255,
              "rgb(203,26,79)"
             ],
             [
              0.5647058823529412,
              "rgb(223,47,67)"
             ],
             [
              0.6274509803921569,
              "rgb(236,76,61)"
             ],
             [
              0.6901960784313725,
              "rgb(242,107,73)"
             ],
             [
              0.7529411764705882,
              "rgb(244,135,95)"
             ],
             [
              0.8156862745098039,
              "rgb(245,162,122)"
             ],
             [
              0.8784313725490196,
              "rgb(246,188,153)"
             ],
             [
              0.9411764705882353,
              "rgb(247,212,187)"
             ],
             [
              1,
              "rgb(250,234,220)"
             ]
            ],
            "type": "contour"
           }
          ],
          "contourcarpet": [
           {
            "colorbar": {
             "outlinewidth": 0,
             "tickcolor": "rgb(36,36,36)",
             "ticklen": 8,
             "ticks": "outside",
             "tickwidth": 2
            },
            "type": "contourcarpet"
           }
          ],
          "heatmap": [
           {
            "colorbar": {
             "outlinewidth": 0,
             "tickcolor": "rgb(36,36,36)",
             "ticklen": 8,
             "ticks": "outside",
             "tickwidth": 2
            },
            "colorscale": [
             [
              0,
              "rgb(2,4,25)"
             ],
             [
              0.06274509803921569,
              "rgb(24,15,41)"
             ],
             [
              0.12549019607843137,
              "rgb(47,23,57)"
             ],
             [
              0.18823529411764706,
              "rgb(71,28,72)"
             ],
             [
              0.25098039215686274,
              "rgb(97,30,82)"
             ],
             [
              0.3137254901960784,
              "rgb(123,30,89)"
             ],
             [
              0.3764705882352941,
              "rgb(150,27,91)"
             ],
             [
              0.4392156862745098,
              "rgb(177,22,88)"
             ],
             [
              0.5019607843137255,
              "rgb(203,26,79)"
             ],
             [
              0.5647058823529412,
              "rgb(223,47,67)"
             ],
             [
              0.6274509803921569,
              "rgb(236,76,61)"
             ],
             [
              0.6901960784313725,
              "rgb(242,107,73)"
             ],
             [
              0.7529411764705882,
              "rgb(244,135,95)"
             ],
             [
              0.8156862745098039,
              "rgb(245,162,122)"
             ],
             [
              0.8784313725490196,
              "rgb(246,188,153)"
             ],
             [
              0.9411764705882353,
              "rgb(247,212,187)"
             ],
             [
              1,
              "rgb(250,234,220)"
             ]
            ],
            "type": "heatmap"
           }
          ],
          "heatmapgl": [
           {
            "colorbar": {
             "outlinewidth": 0,
             "tickcolor": "rgb(36,36,36)",
             "ticklen": 8,
             "ticks": "outside",
             "tickwidth": 2
            },
            "colorscale": [
             [
              0,
              "rgb(2,4,25)"
             ],
             [
              0.06274509803921569,
              "rgb(24,15,41)"
             ],
             [
              0.12549019607843137,
              "rgb(47,23,57)"
             ],
             [
              0.18823529411764706,
              "rgb(71,28,72)"
             ],
             [
              0.25098039215686274,
              "rgb(97,30,82)"
             ],
             [
              0.3137254901960784,
              "rgb(123,30,89)"
             ],
             [
              0.3764705882352941,
              "rgb(150,27,91)"
             ],
             [
              0.4392156862745098,
              "rgb(177,22,88)"
             ],
             [
              0.5019607843137255,
              "rgb(203,26,79)"
             ],
             [
              0.5647058823529412,
              "rgb(223,47,67)"
             ],
             [
              0.6274509803921569,
              "rgb(236,76,61)"
             ],
             [
              0.6901960784313725,
              "rgb(242,107,73)"
             ],
             [
              0.7529411764705882,
              "rgb(244,135,95)"
             ],
             [
              0.8156862745098039,
              "rgb(245,162,122)"
             ],
             [
              0.8784313725490196,
              "rgb(246,188,153)"
             ],
             [
              0.9411764705882353,
              "rgb(247,212,187)"
             ],
             [
              1,
              "rgb(250,234,220)"
             ]
            ],
            "type": "heatmapgl"
           }
          ],
          "histogram": [
           {
            "marker": {
             "pattern": {
              "fillmode": "overlay",
              "size": 10,
              "solidity": 0.2
             }
            },
            "type": "histogram"
           }
          ],
          "histogram2d": [
           {
            "colorbar": {
             "outlinewidth": 0,
             "tickcolor": "rgb(36,36,36)",
             "ticklen": 8,
             "ticks": "outside",
             "tickwidth": 2
            },
            "colorscale": [
             [
              0,
              "rgb(2,4,25)"
             ],
             [
              0.06274509803921569,
              "rgb(24,15,41)"
             ],
             [
              0.12549019607843137,
              "rgb(47,23,57)"
             ],
             [
              0.18823529411764706,
              "rgb(71,28,72)"
             ],
             [
              0.25098039215686274,
              "rgb(97,30,82)"
             ],
             [
              0.3137254901960784,
              "rgb(123,30,89)"
             ],
             [
              0.3764705882352941,
              "rgb(150,27,91)"
             ],
             [
              0.4392156862745098,
              "rgb(177,22,88)"
             ],
             [
              0.5019607843137255,
              "rgb(203,26,79)"
             ],
             [
              0.5647058823529412,
              "rgb(223,47,67)"
             ],
             [
              0.6274509803921569,
              "rgb(236,76,61)"
             ],
             [
              0.6901960784313725,
              "rgb(242,107,73)"
             ],
             [
              0.7529411764705882,
              "rgb(244,135,95)"
             ],
             [
              0.8156862745098039,
              "rgb(245,162,122)"
             ],
             [
              0.8784313725490196,
              "rgb(246,188,153)"
             ],
             [
              0.9411764705882353,
              "rgb(247,212,187)"
             ],
             [
              1,
              "rgb(250,234,220)"
             ]
            ],
            "type": "histogram2d"
           }
          ],
          "histogram2dcontour": [
           {
            "colorbar": {
             "outlinewidth": 0,
             "tickcolor": "rgb(36,36,36)",
             "ticklen": 8,
             "ticks": "outside",
             "tickwidth": 2
            },
            "colorscale": [
             [
              0,
              "rgb(2,4,25)"
             ],
             [
              0.06274509803921569,
              "rgb(24,15,41)"
             ],
             [
              0.12549019607843137,
              "rgb(47,23,57)"
             ],
             [
              0.18823529411764706,
              "rgb(71,28,72)"
             ],
             [
              0.25098039215686274,
              "rgb(97,30,82)"
             ],
             [
              0.3137254901960784,
              "rgb(123,30,89)"
             ],
             [
              0.3764705882352941,
              "rgb(150,27,91)"
             ],
             [
              0.4392156862745098,
              "rgb(177,22,88)"
             ],
             [
              0.5019607843137255,
              "rgb(203,26,79)"
             ],
             [
              0.5647058823529412,
              "rgb(223,47,67)"
             ],
             [
              0.6274509803921569,
              "rgb(236,76,61)"
             ],
             [
              0.6901960784313725,
              "rgb(242,107,73)"
             ],
             [
              0.7529411764705882,
              "rgb(244,135,95)"
             ],
             [
              0.8156862745098039,
              "rgb(245,162,122)"
             ],
             [
              0.8784313725490196,
              "rgb(246,188,153)"
             ],
             [
              0.9411764705882353,
              "rgb(247,212,187)"
             ],
             [
              1,
              "rgb(250,234,220)"
             ]
            ],
            "type": "histogram2dcontour"
           }
          ],
          "mesh3d": [
           {
            "colorbar": {
             "outlinewidth": 0,
             "tickcolor": "rgb(36,36,36)",
             "ticklen": 8,
             "ticks": "outside",
             "tickwidth": 2
            },
            "type": "mesh3d"
           }
          ],
          "parcoords": [
           {
            "line": {
             "colorbar": {
              "outlinewidth": 0,
              "tickcolor": "rgb(36,36,36)",
              "ticklen": 8,
              "ticks": "outside",
              "tickwidth": 2
             }
            },
            "type": "parcoords"
           }
          ],
          "pie": [
           {
            "automargin": true,
            "type": "pie"
           }
          ],
          "scatter": [
           {
            "marker": {
             "colorbar": {
              "outlinewidth": 0,
              "tickcolor": "rgb(36,36,36)",
              "ticklen": 8,
              "ticks": "outside",
              "tickwidth": 2
             }
            },
            "type": "scatter"
           }
          ],
          "scatter3d": [
           {
            "line": {
             "colorbar": {
              "outlinewidth": 0,
              "tickcolor": "rgb(36,36,36)",
              "ticklen": 8,
              "ticks": "outside",
              "tickwidth": 2
             }
            },
            "marker": {
             "colorbar": {
              "outlinewidth": 0,
              "tickcolor": "rgb(36,36,36)",
              "ticklen": 8,
              "ticks": "outside",
              "tickwidth": 2
             }
            },
            "type": "scatter3d"
           }
          ],
          "scattercarpet": [
           {
            "marker": {
             "colorbar": {
              "outlinewidth": 0,
              "tickcolor": "rgb(36,36,36)",
              "ticklen": 8,
              "ticks": "outside",
              "tickwidth": 2
             }
            },
            "type": "scattercarpet"
           }
          ],
          "scattergeo": [
           {
            "marker": {
             "colorbar": {
              "outlinewidth": 0,
              "tickcolor": "rgb(36,36,36)",
              "ticklen": 8,
              "ticks": "outside",
              "tickwidth": 2
             }
            },
            "type": "scattergeo"
           }
          ],
          "scattergl": [
           {
            "marker": {
             "colorbar": {
              "outlinewidth": 0,
              "tickcolor": "rgb(36,36,36)",
              "ticklen": 8,
              "ticks": "outside",
              "tickwidth": 2
             }
            },
            "type": "scattergl"
           }
          ],
          "scattermapbox": [
           {
            "marker": {
             "colorbar": {
              "outlinewidth": 0,
              "tickcolor": "rgb(36,36,36)",
              "ticklen": 8,
              "ticks": "outside",
              "tickwidth": 2
             }
            },
            "type": "scattermapbox"
           }
          ],
          "scatterpolar": [
           {
            "marker": {
             "colorbar": {
              "outlinewidth": 0,
              "tickcolor": "rgb(36,36,36)",
              "ticklen": 8,
              "ticks": "outside",
              "tickwidth": 2
             }
            },
            "type": "scatterpolar"
           }
          ],
          "scatterpolargl": [
           {
            "marker": {
             "colorbar": {
              "outlinewidth": 0,
              "tickcolor": "rgb(36,36,36)",
              "ticklen": 8,
              "ticks": "outside",
              "tickwidth": 2
             }
            },
            "type": "scatterpolargl"
           }
          ],
          "scatterternary": [
           {
            "marker": {
             "colorbar": {
              "outlinewidth": 0,
              "tickcolor": "rgb(36,36,36)",
              "ticklen": 8,
              "ticks": "outside",
              "tickwidth": 2
             }
            },
            "type": "scatterternary"
           }
          ],
          "surface": [
           {
            "colorbar": {
             "outlinewidth": 0,
             "tickcolor": "rgb(36,36,36)",
             "ticklen": 8,
             "ticks": "outside",
             "tickwidth": 2
            },
            "colorscale": [
             [
              0,
              "rgb(2,4,25)"
             ],
             [
              0.06274509803921569,
              "rgb(24,15,41)"
             ],
             [
              0.12549019607843137,
              "rgb(47,23,57)"
             ],
             [
              0.18823529411764706,
              "rgb(71,28,72)"
             ],
             [
              0.25098039215686274,
              "rgb(97,30,82)"
             ],
             [
              0.3137254901960784,
              "rgb(123,30,89)"
             ],
             [
              0.3764705882352941,
              "rgb(150,27,91)"
             ],
             [
              0.4392156862745098,
              "rgb(177,22,88)"
             ],
             [
              0.5019607843137255,
              "rgb(203,26,79)"
             ],
             [
              0.5647058823529412,
              "rgb(223,47,67)"
             ],
             [
              0.6274509803921569,
              "rgb(236,76,61)"
             ],
             [
              0.6901960784313725,
              "rgb(242,107,73)"
             ],
             [
              0.7529411764705882,
              "rgb(244,135,95)"
             ],
             [
              0.8156862745098039,
              "rgb(245,162,122)"
             ],
             [
              0.8784313725490196,
              "rgb(246,188,153)"
             ],
             [
              0.9411764705882353,
              "rgb(247,212,187)"
             ],
             [
              1,
              "rgb(250,234,220)"
             ]
            ],
            "type": "surface"
           }
          ],
          "table": [
           {
            "cells": {
             "fill": {
              "color": "rgb(231,231,240)"
             },
             "line": {
              "color": "white"
             }
            },
            "header": {
             "fill": {
              "color": "rgb(183,183,191)"
             },
             "line": {
              "color": "white"
             }
            },
            "type": "table"
           }
          ]
         },
         "layout": {
          "annotationdefaults": {
           "arrowcolor": "rgb(67,103,167)"
          },
          "autotypenumbers": "strict",
          "coloraxis": {
           "colorbar": {
            "outlinewidth": 0,
            "tickcolor": "rgb(36,36,36)",
            "ticklen": 8,
            "ticks": "outside",
            "tickwidth": 2
           }
          },
          "colorscale": {
           "sequential": [
            [
             0,
             "rgb(2,4,25)"
            ],
            [
             0.06274509803921569,
             "rgb(24,15,41)"
            ],
            [
             0.12549019607843137,
             "rgb(47,23,57)"
            ],
            [
             0.18823529411764706,
             "rgb(71,28,72)"
            ],
            [
             0.25098039215686274,
             "rgb(97,30,82)"
            ],
            [
             0.3137254901960784,
             "rgb(123,30,89)"
            ],
            [
             0.3764705882352941,
             "rgb(150,27,91)"
            ],
            [
             0.4392156862745098,
             "rgb(177,22,88)"
            ],
            [
             0.5019607843137255,
             "rgb(203,26,79)"
            ],
            [
             0.5647058823529412,
             "rgb(223,47,67)"
            ],
            [
             0.6274509803921569,
             "rgb(236,76,61)"
            ],
            [
             0.6901960784313725,
             "rgb(242,107,73)"
            ],
            [
             0.7529411764705882,
             "rgb(244,135,95)"
            ],
            [
             0.8156862745098039,
             "rgb(245,162,122)"
            ],
            [
             0.8784313725490196,
             "rgb(246,188,153)"
            ],
            [
             0.9411764705882353,
             "rgb(247,212,187)"
            ],
            [
             1,
             "rgb(250,234,220)"
            ]
           ],
           "sequentialminus": [
            [
             0,
             "rgb(2,4,25)"
            ],
            [
             0.06274509803921569,
             "rgb(24,15,41)"
            ],
            [
             0.12549019607843137,
             "rgb(47,23,57)"
            ],
            [
             0.18823529411764706,
             "rgb(71,28,72)"
            ],
            [
             0.25098039215686274,
             "rgb(97,30,82)"
            ],
            [
             0.3137254901960784,
             "rgb(123,30,89)"
            ],
            [
             0.3764705882352941,
             "rgb(150,27,91)"
            ],
            [
             0.4392156862745098,
             "rgb(177,22,88)"
            ],
            [
             0.5019607843137255,
             "rgb(203,26,79)"
            ],
            [
             0.5647058823529412,
             "rgb(223,47,67)"
            ],
            [
             0.6274509803921569,
             "rgb(236,76,61)"
            ],
            [
             0.6901960784313725,
             "rgb(242,107,73)"
            ],
            [
             0.7529411764705882,
             "rgb(244,135,95)"
            ],
            [
             0.8156862745098039,
             "rgb(245,162,122)"
            ],
            [
             0.8784313725490196,
             "rgb(246,188,153)"
            ],
            [
             0.9411764705882353,
             "rgb(247,212,187)"
            ],
            [
             1,
             "rgb(250,234,220)"
            ]
           ]
          },
          "colorway": [
           "rgb(76,114,176)",
           "rgb(221,132,82)",
           "rgb(85,168,104)",
           "rgb(196,78,82)",
           "rgb(129,114,179)",
           "rgb(147,120,96)",
           "rgb(218,139,195)",
           "rgb(140,140,140)",
           "rgb(204,185,116)",
           "rgb(100,181,205)"
          ],
          "font": {
           "color": "rgb(36,36,36)"
          },
          "geo": {
           "bgcolor": "white",
           "lakecolor": "white",
           "landcolor": "rgb(234,234,242)",
           "showlakes": true,
           "showland": true,
           "subunitcolor": "white"
          },
          "hoverlabel": {
           "align": "left"
          },
          "hovermode": "closest",
          "paper_bgcolor": "white",
          "plot_bgcolor": "rgb(234,234,242)",
          "polar": {
           "angularaxis": {
            "gridcolor": "white",
            "linecolor": "white",
            "showgrid": true,
            "ticks": ""
           },
           "bgcolor": "rgb(234,234,242)",
           "radialaxis": {
            "gridcolor": "white",
            "linecolor": "white",
            "showgrid": true,
            "ticks": ""
           }
          },
          "scene": {
           "xaxis": {
            "backgroundcolor": "rgb(234,234,242)",
            "gridcolor": "white",
            "gridwidth": 2,
            "linecolor": "white",
            "showbackground": true,
            "showgrid": true,
            "ticks": "",
            "zerolinecolor": "white"
           },
           "yaxis": {
            "backgroundcolor": "rgb(234,234,242)",
            "gridcolor": "white",
            "gridwidth": 2,
            "linecolor": "white",
            "showbackground": true,
            "showgrid": true,
            "ticks": "",
            "zerolinecolor": "white"
           },
           "zaxis": {
            "backgroundcolor": "rgb(234,234,242)",
            "gridcolor": "white",
            "gridwidth": 2,
            "linecolor": "white",
            "showbackground": true,
            "showgrid": true,
            "ticks": "",
            "zerolinecolor": "white"
           }
          },
          "shapedefaults": {
           "fillcolor": "rgb(67,103,167)",
           "line": {
            "width": 0
           },
           "opacity": 0.5
          },
          "ternary": {
           "aaxis": {
            "gridcolor": "white",
            "linecolor": "white",
            "showgrid": true,
            "ticks": ""
           },
           "baxis": {
            "gridcolor": "white",
            "linecolor": "white",
            "showgrid": true,
            "ticks": ""
           },
           "bgcolor": "rgb(234,234,242)",
           "caxis": {
            "gridcolor": "white",
            "linecolor": "white",
            "showgrid": true,
            "ticks": ""
           }
          },
          "xaxis": {
           "automargin": true,
           "gridcolor": "white",
           "linecolor": "white",
           "showgrid": true,
           "ticks": "",
           "title": {
            "standoff": 15
           },
           "zerolinecolor": "white"
          },
          "yaxis": {
           "automargin": true,
           "gridcolor": "white",
           "linecolor": "white",
           "showgrid": true,
           "ticks": "",
           "title": {
            "standoff": 15
           },
           "zerolinecolor": "white"
          }
         }
        },
        "xaxis": {
         "anchor": "y",
         "domain": [
          0,
          1
         ],
         "title": {
          "text": "step"
         }
        },
        "yaxis": {
         "anchor": "x",
         "domain": [
          0,
          1
         ],
         "title": {
          "text": "value"
         }
        }
       }
      }
     },
     "metadata": {},
     "output_type": "display_data"
    }
   ],
   "source": [
    "px.line(training_metrics, x='step', y='value', color='metric')"
   ]
  },
  {
   "cell_type": "markdown",
   "id": "5670b9fe",
   "metadata": {},
   "source": [
    "## Evaluate testing metrics"
   ]
  },
  {
   "cell_type": "code",
   "execution_count": null,
   "metadata": {},
   "outputs": [
    {
     "ename": "RuntimeError",
     "evalue": "torch.cat(): Sizes of tensors must match except in dimension 1. Got 2 and 1 in dimension 0 (The offending index is 2)",
     "output_type": "error",
     "traceback": [
      "\u001b[0;31m---------------------------------------------------------------------------\u001b[0m",
      "\u001b[0;31mRuntimeError\u001b[0m                              Traceback (most recent call last)",
      "\u001b[0;32m/var/folders/ly/jtqnskb14y35xzlwblx2dry00000gn/T/ipykernel_5669/46681243.py\u001b[0m in \u001b[0;36m<module>\u001b[0;34m\u001b[0m\n\u001b[1;32m      4\u001b[0m \u001b[0;34m\u001b[0m\u001b[0m\n\u001b[1;32m      5\u001b[0m \u001b[0mtest_metrics\u001b[0m \u001b[0;34m=\u001b[0m \u001b[0mTestingMetrics\u001b[0m\u001b[0;34m(\u001b[0m\u001b[0mepoch\u001b[0m\u001b[0;34m=\u001b[0m\u001b[0;36m200\u001b[0m\u001b[0;34m)\u001b[0m\u001b[0;34m\u001b[0m\u001b[0;34m\u001b[0m\u001b[0m\n\u001b[0;32m----> 6\u001b[0;31m \u001b[0mtest_metrics\u001b[0m\u001b[0;34m.\u001b[0m\u001b[0mcompute_metrics\u001b[0m\u001b[0;34m(\u001b[0m\u001b[0;34m[\u001b[0m\u001b[0mmodel\u001b[0m\u001b[0;34m,\u001b[0m \u001b[0mmodel\u001b[0m\u001b[0;34m]\u001b[0m\u001b[0;34m,\u001b[0m \u001b[0mloader_test\u001b[0m\u001b[0;34m)\u001b[0m\u001b[0;34m\u001b[0m\u001b[0;34m\u001b[0m\u001b[0m\n\u001b[0m\u001b[1;32m      7\u001b[0m \u001b[0mpd\u001b[0m\u001b[0;34m.\u001b[0m\u001b[0mDataFrame\u001b[0m\u001b[0;34m(\u001b[0m\u001b[0mtest_metrics\u001b[0m\u001b[0;34m.\u001b[0m\u001b[0mstorage\u001b[0m\u001b[0;34m)\u001b[0m\u001b[0;34m\u001b[0m\u001b[0;34m\u001b[0m\u001b[0m\n",
      "\u001b[0;32m~/development/lts4/graphmel/src/metrics.py\u001b[0m in \u001b[0;36mcompute_metrics\u001b[0;34m(self, models, loader)\u001b[0m\n\u001b[1;32m    157\u001b[0m \u001b[0;34m\u001b[0m\u001b[0m\n\u001b[1;32m    158\u001b[0m         \u001b[0;32mfor\u001b[0m \u001b[0mmodel\u001b[0m \u001b[0;32min\u001b[0m \u001b[0mmodels\u001b[0m\u001b[0;34m:\u001b[0m\u001b[0;34m\u001b[0m\u001b[0;34m\u001b[0m\u001b[0m\n\u001b[0;32m--> 159\u001b[0;31m             \u001b[0my_true\u001b[0m\u001b[0;34m,\u001b[0m \u001b[0my_pred\u001b[0m\u001b[0;34m,\u001b[0m \u001b[0m_\u001b[0m \u001b[0;34m=\u001b[0m \u001b[0mcompute_predictions\u001b[0m\u001b[0;34m(\u001b[0m\u001b[0mmodel\u001b[0m\u001b[0;34m,\u001b[0m \u001b[0mloader\u001b[0m\u001b[0;34m)\u001b[0m\u001b[0;34m\u001b[0m\u001b[0;34m\u001b[0m\u001b[0m\n\u001b[0m\u001b[1;32m    160\u001b[0m             \u001b[0mpredictions\u001b[0m\u001b[0;34m.\u001b[0m\u001b[0mappend\u001b[0m\u001b[0;34m(\u001b[0m\u001b[0my_pred\u001b[0m\u001b[0;34m.\u001b[0m\u001b[0munsqueeze\u001b[0m\u001b[0;34m(\u001b[0m\u001b[0mdim\u001b[0m\u001b[0;34m=\u001b[0m\u001b[0;36m0\u001b[0m\u001b[0;34m)\u001b[0m\u001b[0;34m)\u001b[0m\u001b[0;34m\u001b[0m\u001b[0;34m\u001b[0m\u001b[0m\n\u001b[1;32m    161\u001b[0m \u001b[0;34m\u001b[0m\u001b[0m\n",
      "\u001b[0;32m~/development/lts4/graphmel/src/metrics.py\u001b[0m in \u001b[0;36mcompute_predictions\u001b[0;34m(model, loader, validation, device)\u001b[0m\n\u001b[1;32m     51\u001b[0m             \u001b[0mdata\u001b[0m\u001b[0;34m.\u001b[0m\u001b[0mto\u001b[0m\u001b[0;34m(\u001b[0m\u001b[0mdevice\u001b[0m\u001b[0;34m)\u001b[0m\u001b[0;34m\u001b[0m\u001b[0;34m\u001b[0m\u001b[0m\n\u001b[1;32m     52\u001b[0m \u001b[0;34m\u001b[0m\u001b[0m\n\u001b[0;32m---> 53\u001b[0;31m             \u001b[0mout\u001b[0m \u001b[0;34m=\u001b[0m \u001b[0mmodel\u001b[0m\u001b[0;34m(\u001b[0m\u001b[0mdata\u001b[0m\u001b[0;34m)\u001b[0m\u001b[0;34m\u001b[0m\u001b[0;34m\u001b[0m\u001b[0m\n\u001b[0m\u001b[1;32m     54\u001b[0m \u001b[0;34m\u001b[0m\u001b[0m\n\u001b[1;32m     55\u001b[0m             \u001b[0;32mif\u001b[0m \u001b[0mvalidation\u001b[0m\u001b[0;34m:\u001b[0m\u001b[0;34m\u001b[0m\u001b[0;34m\u001b[0m\u001b[0m\n",
      "\u001b[0;32m~/miniconda3/envs/ds/lib/python3.8/site-packages/torch/nn/modules/module.py\u001b[0m in \u001b[0;36m_call_impl\u001b[0;34m(self, *input, **kwargs)\u001b[0m\n\u001b[1;32m   1049\u001b[0m         if not (self._backward_hooks or self._forward_hooks or self._forward_pre_hooks or _global_backward_hooks\n\u001b[1;32m   1050\u001b[0m                 or _global_forward_hooks or _global_forward_pre_hooks):\n\u001b[0;32m-> 1051\u001b[0;31m             \u001b[0;32mreturn\u001b[0m \u001b[0mforward_call\u001b[0m\u001b[0;34m(\u001b[0m\u001b[0;34m*\u001b[0m\u001b[0minput\u001b[0m\u001b[0;34m,\u001b[0m \u001b[0;34m**\u001b[0m\u001b[0mkwargs\u001b[0m\u001b[0;34m)\u001b[0m\u001b[0;34m\u001b[0m\u001b[0;34m\u001b[0m\u001b[0m\n\u001b[0m\u001b[1;32m   1052\u001b[0m         \u001b[0;31m# Do not call functions when jit is used\u001b[0m\u001b[0;34m\u001b[0m\u001b[0;34m\u001b[0m\u001b[0;34m\u001b[0m\u001b[0m\n\u001b[1;32m   1053\u001b[0m         \u001b[0mfull_backward_hooks\u001b[0m\u001b[0;34m,\u001b[0m \u001b[0mnon_full_backward_hooks\u001b[0m \u001b[0;34m=\u001b[0m \u001b[0;34m[\u001b[0m\u001b[0;34m]\u001b[0m\u001b[0;34m,\u001b[0m \u001b[0;34m[\u001b[0m\u001b[0;34m]\u001b[0m\u001b[0;34m\u001b[0m\u001b[0;34m\u001b[0m\u001b[0m\n",
      "\u001b[0;32m/var/folders/ly/jtqnskb14y35xzlwblx2dry00000gn/T/ipykernel_5669/2727666877.py\u001b[0m in \u001b[0;36mforward\u001b[0;34m(self, data)\u001b[0m\n\u001b[1;32m    123\u001b[0m \u001b[0;34m\u001b[0m\u001b[0m\n\u001b[1;32m    124\u001b[0m             \u001b[0;31m# Size of which will be (len(xes), hidden_dim * 3)\u001b[0m\u001b[0;34m\u001b[0m\u001b[0;34m\u001b[0m\u001b[0;34m\u001b[0m\u001b[0m\n\u001b[0;32m--> 125\u001b[0;31m             study_embeddings.append(torch.cat([\n\u001b[0m\u001b[1;32m    126\u001b[0m                 \u001b[0;34m*\u001b[0m\u001b[0mpooled_lesions_features\u001b[0m\u001b[0;34m,\u001b[0m \u001b[0mstudy_feat_embedding\u001b[0m\u001b[0;34m\u001b[0m\u001b[0;34m\u001b[0m\u001b[0m\n\u001b[1;32m    127\u001b[0m             ], dim=1).t())\n",
      "\u001b[0;31mRuntimeError\u001b[0m: torch.cat(): Sizes of tensors must match except in dimension 1. Got 2 and 1 in dimension 0 (The offending index is 2)"
     ]
    }
   ],
   "source": [
    "loader_test_args = dict(dataset=dataset_test, batch_size=len(dataset_test))\n",
    "\n",
    "loader_test = DataLoader(**loader_test_args)\n",
    "\n",
    "test_metrics = TestingMetrics(epoch=200)\n",
    "test_metrics.compute_metrics([model, model], loader_test)\n",
    "pd.DataFrame(test_metrics.storage)"
   ]
  },
  {
   "cell_type": "code",
   "execution_count": null,
   "id": "3a1bf5d9",
   "metadata": {},
   "outputs": [],
   "source": []
  }
 ],
 "metadata": {
  "interpreter": {
   "hash": "947aba3e9b2ee8e94b9a4f86dd9db3bac2e8c16055cb5eb2c317ce168f84ce4b"
  },
  "kernelspec": {
   "display_name": "Python 3.8.10 64-bit ('ds': conda)",
   "name": "python3"
  },
  "language_info": {
   "codemirror_mode": {
    "name": "ipython",
    "version": 3
   },
   "file_extension": ".py",
   "mimetype": "text/x-python",
   "name": "python",
   "nbconvert_exporter": "python",
   "pygments_lexer": "ipython3",
   "version": "3.8.12"
  }
 },
 "nbformat": 4,
 "nbformat_minor": 5
}
