{
 "cells": [
  {
   "cell_type": "markdown",
   "source": "# Graph Representation with post-1 studies",
   "metadata": {
    "tags": [],
    "is_collapsed": false,
    "cell_id": "00000-ea849223-f70c-484a-b23c-c8a59f687d0a",
    "deepnote_app_coordinates": {
     "x": 0,
     "y": 0,
     "w": 12,
     "h": 2
    },
    "deepnote_cell_type": "text-cell-h1"
   }
  },
  {
   "cell_type": "markdown",
   "source": "### Data import",
   "metadata": {
    "tags": [],
    "is_collapsed": false,
    "cell_id": "00001-18b24a73-9e5b-41a7-aa3a-c09ecdbd4e01",
    "deepnote_cell_type": "text-cell-h3"
   }
  },
  {
   "cell_type": "code",
   "metadata": {
    "tags": [],
    "cell_id": "00002-4679b70f-4320-4b5a-be3e-f2a22d727f72",
    "deepnote_to_be_reexecuted": false,
    "source_hash": "8cc6a5d9",
    "execution_start": 1633197111579,
    "execution_millis": 12635,
    "deepnote_cell_type": "code"
   },
   "source": "!pip install -q networkx\n\n!pip install -q torch-scatter -f https://pytorch-geometric.com/whl/torch-1.9.0+cu102.html\n!pip install -q torch-sparse -f https://pytorch-geometric.com/whl/torch-1.9.0+cu102.html\n!pip install -q git+https://github.com/rusty1s/pytorch_geometric.git",
   "execution_count": 1,
   "outputs": []
  },
  {
   "cell_type": "code",
   "metadata": {
    "tags": [],
    "cell_id": "00001-1b48a264-ef7a-4dbd-8810-a94c0a934322",
    "deepnote_to_be_reexecuted": false,
    "source_hash": "d044e74f",
    "execution_start": 1633197124219,
    "execution_millis": 3309,
    "deepnote_cell_type": "code"
   },
   "source": "import os\n\nimport pandas as pd\nimport numpy as np\n\nimport networkx as nx\nimport torch\nfrom torch_geometric.data import Data\nfrom torch_geometric.utils import to_networkx\n\nimport matplotlib.pyplot as plt\nimport seaborn as sns\n\nimport plotly.express as px\nimport plotly.io as pio\npio.templates.default = 'seaborn'",
   "execution_count": 2,
   "outputs": []
  },
  {
   "cell_type": "code",
   "metadata": {
    "tags": [],
    "cell_id": "00002-abc90b96-3e6a-4680-9bf8-feaef9b34c4b",
    "deepnote_to_be_reexecuted": false,
    "source_hash": "d88af069",
    "execution_start": 1633197127533,
    "execution_millis": 3,
    "deepnote_cell_type": "code"
   },
   "source": "DATA_DIR = '/datasets/data2021-09-20/'\n\nlesions_file = 'melanoma_lesion-info_organ-overlap_2021-09-17_anonymized_cleaned_all.csv'\nlesion_mapping_file = 'melanoma_lesion_mapping_2021-09-20_anonymized.csv'\npatients_file = 'melanoma_patient-level_summary_anonymized.csv'\nstudies_file = 'melanoma_study_level_summary_anonymized.csv'",
   "execution_count": 3,
   "outputs": []
  },
  {
   "cell_type": "code",
   "metadata": {
    "tags": [],
    "cell_id": "00002-c180b2d0-6a18-4fb0-aae0-f9b3ec522a4a",
    "deepnote_to_be_reexecuted": false,
    "source_hash": "544b45ff",
    "execution_start": 1633197127542,
    "execution_millis": 2,
    "deepnote_cell_type": "code"
   },
   "source": "def extract_study_phase(n: str) -> int:\n    status, number = n.split('-')\n    sign = -1 if status == 'pre' else 1\n    return sign * int(number)\n\ndef classify_response(row):\n    # Compare current vs. baseline\n    if row.tmtv < row.baseline:\n        return 'response'\n    elif row.tmtv == row.baseline:\n        return 'baseline'\n    else:\n        return 'progression'",
   "execution_count": 4,
   "outputs": []
  },
  {
   "cell_type": "code",
   "metadata": {
    "tags": [],
    "cell_id": "00004-74c4e607-e213-4aa2-8af7-6048f8cb657f",
    "deepnote_to_be_reexecuted": false,
    "source_hash": "70d56afd",
    "execution_start": 1633197127549,
    "execution_millis": 156,
    "deepnote_cell_type": "code"
   },
   "source": "lesions = pd.read_csv(os.path.join(DATA_DIR, lesions_file))\nlesions['study_phase'] = lesions.study_name.apply(extract_study_phase)\n\n# Sorting by PARS classification allows for visualization consistency\nlesions.sort_values(by='pars_classification_petct', inplace=True)\nn_lesions, f_lesions = lesions.shape\n\nprint(f'Imported {n_lesions} lesions with {f_lesions} features. Null values: {lesions.isna().sum().sum()}')",
   "execution_count": 5,
   "outputs": [
    {
     "name": "stdout",
     "text": "Imported 20892 lesions with 18 features. Null values: 0\n",
     "output_type": "stream"
    }
   ]
  },
  {
   "cell_type": "code",
   "metadata": {
    "tags": [],
    "cell_id": "00000-1d10023b-7506-4262-b0f7-105d04f9d240",
    "deepnote_to_be_reexecuted": false,
    "source_hash": "2246af0b",
    "execution_start": 1633197127702,
    "execution_millis": 55,
    "deepnote_cell_type": "code"
   },
   "source": "studies = pd.read_csv(os.path.join(DATA_DIR, studies_file))\nstudies.rename(columns={'is_malignant': 'malignant_lesions'}, inplace=True)\nstudies['study_phase'] = studies.study_name.apply(extract_study_phase)\n\nn_studies, f_studies = studies.shape\n\nprint(f'Imported {n_studies} studies with {f_studies} features. Null values: {studies.isna().sum().sum()}')",
   "execution_count": 6,
   "outputs": [
    {
     "name": "stdout",
     "text": "Imported 472 studies with 23 features. Null values: 1043\n",
     "output_type": "stream"
    }
   ]
  },
  {
   "cell_type": "code",
   "metadata": {
    "tags": [],
    "cell_id": "00006-9d5c802c-c6de-4237-8112-ecca43338f04",
    "deepnote_to_be_reexecuted": false,
    "source_hash": "e443b8ed",
    "execution_start": 1633197127759,
    "execution_millis": 109,
    "deepnote_cell_type": "code"
   },
   "source": "# Compute TMTV by summing `vol_ccm` per study\nlabels = lesions.groupby(['gpcr_id', 'study_phase']).vol_ccm.sum().to_frame('tmtv').reset_index()\n\n# Find `labels` id of each patient's baseline TMTV\nbaseline_idx = labels.groupby('gpcr_id').study_phase.idxmin().to_dict()\nlabels['baseline'] = labels.gpcr_id.apply(\n    lambda i: labels.loc[baseline_idx[i]].tmtv)\nlabels['response'] = labels.apply(classify_response, axis=1)\n\nprint(f'Response computed for {labels.shape[0]} studies: \\n{labels.response.value_counts()}')",
   "execution_count": 7,
   "outputs": [
    {
     "name": "stdout",
     "text": "Response computed for 460 studies: \nprogression    198\nresponse       137\nbaseline       125\nName: response, dtype: int64\n",
     "output_type": "stream"
    }
   ]
  },
  {
   "cell_type": "markdown",
   "source": "### Create post-1 dataset",
   "metadata": {
    "tags": [],
    "is_collapsed": false,
    "cell_id": "00008-dc735ac5-8985-4b64-bce3-a09b2cb89fad",
    "deepnote_cell_type": "text-cell-h3"
   }
  },
  {
   "cell_type": "code",
   "metadata": {
    "tags": [],
    "cell_id": "00007-7cb3a7df-dc61-439d-b6a9-f3f26161e4d5",
    "deepnote_to_be_reexecuted": false,
    "source_hash": "8a676092",
    "execution_start": 1633197127854,
    "execution_millis": 8,
    "deepnote_cell_type": "code"
   },
   "source": "# Select only `post-1` phases\npost1_labels = labels[labels.study_phase == 1][['gpcr_id', 'response']]",
   "execution_count": 8,
   "outputs": []
  },
  {
   "cell_type": "code",
   "metadata": {
    "tags": [],
    "cell_id": "00008-b3bcffad-5857-4c18-b078-d4be7f66b3a9",
    "deepnote_to_be_reexecuted": false,
    "source_hash": "d84f2ff0",
    "execution_start": 1633197127865,
    "execution_millis": 59,
    "deepnote_cell_type": "code"
   },
   "source": "df = lesions[lesions.study_phase == 1].merge(post1_labels, on='gpcr_id')\ndf = df[df.response != 'baseline']\nunwanted_features = ['study_name', 'roi_id', 'roi_name', 'lesion_label_id', 'study_phase']\ndf = df[[ feature for feature in list(df.columns) if feature not in unwanted_features ]]\n\ndf.head()",
   "execution_count": 9,
   "outputs": [
    {
     "output_type": "execute_result",
     "execution_count": 9,
     "data": {
      "application/vnd.deepnote.dataframe.v2+json": {
       "row_count": 5,
       "column_count": 14,
       "columns": [
        {
         "name": "gpcr_id",
         "dtype": "int64",
         "stats": {
          "unique_count": 1,
          "nan_count": 0,
          "min": "34610086",
          "max": "34610086",
          "histogram": [
           {
            "bin_start": 34610085.5,
            "bin_end": 34610085.6,
            "count": 0
           },
           {
            "bin_start": 34610085.6,
            "bin_end": 34610085.7,
            "count": 0
           },
           {
            "bin_start": 34610085.7,
            "bin_end": 34610085.8,
            "count": 0
           },
           {
            "bin_start": 34610085.8,
            "bin_end": 34610085.9,
            "count": 0
           },
           {
            "bin_start": 34610085.9,
            "bin_end": 34610086,
            "count": 0
           },
           {
            "bin_start": 34610086,
            "bin_end": 34610086.1,
            "count": 5
           },
           {
            "bin_start": 34610086.1,
            "bin_end": 34610086.2,
            "count": 0
           },
           {
            "bin_start": 34610086.2,
            "bin_end": 34610086.3,
            "count": 0
           },
           {
            "bin_start": 34610086.3,
            "bin_end": 34610086.4,
            "count": 0
           },
           {
            "bin_start": 34610086.4,
            "bin_end": 34610086.5,
            "count": 0
           }
          ]
         }
        },
        {
         "name": "pars_bodypart_petct",
         "dtype": "object",
         "stats": {
          "unique_count": 1,
          "nan_count": 0,
          "categories": [
           {
            "name": "thorax",
            "count": 5
           }
          ]
         }
        },
        {
         "name": "pars_region_petct",
         "dtype": "object",
         "stats": {
          "unique_count": 4,
          "nan_count": 0,
          "categories": [
           {
            "name": "lymph nodes",
            "count": 2
           },
           {
            "name": "bones",
            "count": 1
           },
           {
            "name": "2 others",
            "count": 2
           }
          ]
         }
        },
        {
         "name": "pars_subregion_petct",
         "dtype": "object",
         "stats": {
          "unique_count": 4,
          "nan_count": 0,
          "categories": [
           {
            "name": "IASLC station 4",
            "count": 2
           },
           {
            "name": "scapula",
            "count": 1
           },
           {
            "name": "2 others",
            "count": 2
           }
          ]
         }
        },
        {
         "name": "pars_laterality_petct",
         "dtype": "object",
         "stats": {
          "unique_count": 3,
          "nan_count": 0,
          "categories": [
           {
            "name": "left",
            "count": 2
           },
           {
            "name": "not specified",
            "count": 2
           },
           {
            "name": "right",
            "count": 1
           }
          ]
         }
        },
        {
         "name": "pars_classification_petct",
         "dtype": "object",
         "stats": {
          "unique_count": 1,
          "nan_count": 0,
          "categories": [
           {
            "name": "benign",
            "count": 5
           }
          ]
         }
        },
        {
         "name": "vol_ccm",
         "dtype": "float64",
         "stats": {
          "unique_count": 5,
          "nan_count": 0,
          "min": "1.64",
          "max": "9.72",
          "histogram": [
           {
            "bin_start": 1.64,
            "bin_end": 2.448,
            "count": 2
           },
           {
            "bin_start": 2.448,
            "bin_end": 3.2560000000000002,
            "count": 1
           },
           {
            "bin_start": 3.2560000000000002,
            "bin_end": 4.064,
            "count": 0
           },
           {
            "bin_start": 4.064,
            "bin_end": 4.872,
            "count": 0
           },
           {
            "bin_start": 4.872,
            "bin_end": 5.68,
            "count": 0
           },
           {
            "bin_start": 5.68,
            "bin_end": 6.488,
            "count": 0
           },
           {
            "bin_start": 6.488,
            "bin_end": 7.296,
            "count": 0
           },
           {
            "bin_start": 7.296,
            "bin_end": 8.104000000000001,
            "count": 0
           },
           {
            "bin_start": 8.104000000000001,
            "bin_end": 8.912,
            "count": 0
           },
           {
            "bin_start": 8.912,
            "bin_end": 9.72,
            "count": 2
           }
          ]
         }
        },
        {
         "name": "max_suv_val",
         "dtype": "float64",
         "stats": {
          "unique_count": 5,
          "nan_count": 0,
          "min": "5.1",
          "max": "6.02",
          "histogram": [
           {
            "bin_start": 5.1,
            "bin_end": 5.191999999999999,
            "count": 1
           },
           {
            "bin_start": 5.191999999999999,
            "bin_end": 5.284,
            "count": 0
           },
           {
            "bin_start": 5.284,
            "bin_end": 5.3759999999999994,
            "count": 0
           },
           {
            "bin_start": 5.3759999999999994,
            "bin_end": 5.468,
            "count": 0
           },
           {
            "bin_start": 5.468,
            "bin_end": 5.56,
            "count": 1
           },
           {
            "bin_start": 5.56,
            "bin_end": 5.651999999999999,
            "count": 1
           },
           {
            "bin_start": 5.651999999999999,
            "bin_end": 5.744,
            "count": 0
           },
           {
            "bin_start": 5.744,
            "bin_end": 5.835999999999999,
            "count": 0
           },
           {
            "bin_start": 5.835999999999999,
            "bin_end": 5.928,
            "count": 1
           },
           {
            "bin_start": 5.928,
            "bin_end": 6.02,
            "count": 1
           }
          ]
         }
        },
        {
         "name": "mean_suv_val",
         "dtype": "float64",
         "stats": {
          "unique_count": 4,
          "nan_count": 0,
          "min": "3.01",
          "max": "3.51",
          "histogram": [
           {
            "bin_start": 3.01,
            "bin_end": 3.0599999999999996,
            "count": 2
           },
           {
            "bin_start": 3.0599999999999996,
            "bin_end": 3.11,
            "count": 0
           },
           {
            "bin_start": 3.11,
            "bin_end": 3.1599999999999997,
            "count": 0
           },
           {
            "bin_start": 3.1599999999999997,
            "bin_end": 3.21,
            "count": 0
           },
           {
            "bin_start": 3.21,
            "bin_end": 3.26,
            "count": 1
           },
           {
            "bin_start": 3.26,
            "bin_end": 3.3099999999999996,
            "count": 0
           },
           {
            "bin_start": 3.3099999999999996,
            "bin_end": 3.36,
            "count": 1
           },
           {
            "bin_start": 3.36,
            "bin_end": 3.4099999999999997,
            "count": 0
           },
           {
            "bin_start": 3.4099999999999997,
            "bin_end": 3.46,
            "count": 0
           },
           {
            "bin_start": 3.46,
            "bin_end": 3.51,
            "count": 1
           }
          ]
         }
        },
        {
         "name": "min_suv_val",
         "dtype": "float64",
         "stats": {
          "unique_count": 5,
          "nan_count": 0,
          "min": "2.49",
          "max": "2.91",
          "histogram": [
           {
            "bin_start": 2.49,
            "bin_end": 2.532,
            "count": 1
           },
           {
            "bin_start": 2.532,
            "bin_end": 2.5740000000000003,
            "count": 0
           },
           {
            "bin_start": 2.5740000000000003,
            "bin_end": 2.616,
            "count": 1
           },
           {
            "bin_start": 2.616,
            "bin_end": 2.6580000000000004,
            "count": 1
           },
           {
            "bin_start": 2.6580000000000004,
            "bin_end": 2.7,
            "count": 0
           },
           {
            "bin_start": 2.7,
            "bin_end": 2.742,
            "count": 0
           },
           {
            "bin_start": 2.742,
            "bin_end": 2.7840000000000003,
            "count": 0
           },
           {
            "bin_start": 2.7840000000000003,
            "bin_end": 2.826,
            "count": 0
           },
           {
            "bin_start": 2.826,
            "bin_end": 2.8680000000000003,
            "count": 1
           },
           {
            "bin_start": 2.8680000000000003,
            "bin_end": 2.91,
            "count": 1
           }
          ]
         }
        },
        {
         "name": "sd_suv_val",
         "dtype": "float64",
         "stats": {
          "unique_count": 5,
          "nan_count": 0,
          "min": "0.37",
          "max": "0.67",
          "histogram": [
           {
            "bin_start": 0.37,
            "bin_end": 0.4,
            "count": 2
           },
           {
            "bin_start": 0.4,
            "bin_end": 0.43,
            "count": 1
           },
           {
            "bin_start": 0.43,
            "bin_end": 0.46,
            "count": 0
           },
           {
            "bin_start": 0.46,
            "bin_end": 0.49,
            "count": 0
           },
           {
            "bin_start": 0.49,
            "bin_end": 0.52,
            "count": 0
           },
           {
            "bin_start": 0.52,
            "bin_end": 0.55,
            "count": 0
           },
           {
            "bin_start": 0.55,
            "bin_end": 0.5800000000000001,
            "count": 1
           },
           {
            "bin_start": 0.5800000000000001,
            "bin_end": 0.6100000000000001,
            "count": 0
           },
           {
            "bin_start": 0.6100000000000001,
            "bin_end": 0.6400000000000001,
            "count": 0
           },
           {
            "bin_start": 0.6400000000000001,
            "bin_end": 0.67,
            "count": 1
           }
          ]
         }
        },
        {
         "name": "is_malignant",
         "dtype": "bool",
         "stats": {
          "unique_count": 1,
          "nan_count": 0,
          "categories": [
           {
            "name": "False",
            "count": 5
           }
          ]
         }
        },
        {
         "name": "assigned_organ",
         "dtype": "object",
         "stats": {
          "unique_count": 2,
          "nan_count": 0,
          "categories": [
           {
            "name": "other_thorax",
            "count": 4
           },
           {
            "name": "bones_thorax",
            "count": 1
           }
          ]
         }
        },
        {
         "name": "response",
         "dtype": "object",
         "stats": {
          "unique_count": 1,
          "nan_count": 0,
          "categories": [
           {
            "name": "progression",
            "count": 5
           }
          ]
         }
        },
        {
         "name": "_deepnote_index_column",
         "dtype": "int64"
        }
       ],
       "rows_top": [
        {
         "gpcr_id": 34610086,
         "pars_bodypart_petct": "thorax",
         "pars_region_petct": "bones",
         "pars_subregion_petct": "scapula",
         "pars_laterality_petct": "left",
         "pars_classification_petct": "benign",
         "vol_ccm": 2.08,
         "max_suv_val": 5.92,
         "mean_suv_val": 3.21,
         "min_suv_val": 2.49,
         "sd_suv_val": 0.67,
         "is_malignant": "False",
         "assigned_organ": "bones_thorax",
         "response": "progression",
         "_deepnote_index_column": 0
        },
        {
         "gpcr_id": 34610086,
         "pars_bodypart_petct": "thorax",
         "pars_region_petct": "lymph nodes",
         "pars_subregion_petct": "IASLC station 4",
         "pars_laterality_petct": "left",
         "pars_classification_petct": "benign",
         "vol_ccm": 1.64,
         "max_suv_val": 5.1,
         "mean_suv_val": 3.34,
         "min_suv_val": 2.91,
         "sd_suv_val": 0.4,
         "is_malignant": "False",
         "assigned_organ": "other_thorax",
         "response": "progression",
         "_deepnote_index_column": 1
        },
        {
         "gpcr_id": 34610086,
         "pars_bodypart_petct": "thorax",
         "pars_region_petct": "heart",
         "pars_subregion_petct": "atrium",
         "pars_laterality_petct": "not specified",
         "pars_classification_petct": "benign",
         "vol_ccm": 9.66,
         "max_suv_val": 5.51,
         "mean_suv_val": 3.01,
         "min_suv_val": 2.59,
         "sd_suv_val": 0.38,
         "is_malignant": "False",
         "assigned_organ": "other_thorax",
         "response": "progression",
         "_deepnote_index_column": 2
        },
        {
         "gpcr_id": 34610086,
         "pars_bodypart_petct": "thorax",
         "pars_region_petct": "oesophagus",
         "pars_subregion_petct": "not specified",
         "pars_laterality_petct": "not specified",
         "pars_classification_petct": "benign",
         "vol_ccm": 9.72,
         "max_suv_val": 6.02,
         "mean_suv_val": 3.51,
         "min_suv_val": 2.83,
         "sd_suv_val": 0.58,
         "is_malignant": "False",
         "assigned_organ": "other_thorax",
         "response": "progression",
         "_deepnote_index_column": 3
        },
        {
         "gpcr_id": 34610086,
         "pars_bodypart_petct": "thorax",
         "pars_region_petct": "lymph nodes",
         "pars_subregion_petct": "IASLC station 4",
         "pars_laterality_petct": "right",
         "pars_classification_petct": "benign",
         "vol_ccm": 2.53,
         "max_suv_val": 5.58,
         "mean_suv_val": 3.01,
         "min_suv_val": 2.62,
         "sd_suv_val": 0.37,
         "is_malignant": "False",
         "assigned_organ": "other_thorax",
         "response": "progression",
         "_deepnote_index_column": 4
        }
       ],
       "rows_bottom": null
      },
      "text/plain": "    gpcr_id pars_bodypart_petct pars_region_petct pars_subregion_petct  \\\n0  34610086              thorax             bones              scapula   \n1  34610086              thorax       lymph nodes      IASLC station 4   \n2  34610086              thorax             heart               atrium   \n3  34610086              thorax        oesophagus        not specified   \n4  34610086              thorax       lymph nodes      IASLC station 4   \n\n  pars_laterality_petct pars_classification_petct  vol_ccm  max_suv_val  \\\n0                  left                    benign     2.08         5.92   \n1                  left                    benign     1.64         5.10   \n2         not specified                    benign     9.66         5.51   \n3         not specified                    benign     9.72         6.02   \n4                 right                    benign     2.53         5.58   \n\n   mean_suv_val  min_suv_val  sd_suv_val  is_malignant assigned_organ  \\\n0          3.21         2.49        0.67         False   bones_thorax   \n1          3.34         2.91        0.40         False   other_thorax   \n2          3.01         2.59        0.38         False   other_thorax   \n3          3.51         2.83        0.58         False   other_thorax   \n4          3.01         2.62        0.37         False   other_thorax   \n\n      response  \n0  progression  \n1  progression  \n2  progression  \n3  progression  \n4  progression  ",
      "text/html": "<div>\n<style scoped>\n    .dataframe tbody tr th:only-of-type {\n        vertical-align: middle;\n    }\n\n    .dataframe tbody tr th {\n        vertical-align: top;\n    }\n\n    .dataframe thead th {\n        text-align: right;\n    }\n</style>\n<table border=\"1\" class=\"dataframe\">\n  <thead>\n    <tr style=\"text-align: right;\">\n      <th></th>\n      <th>gpcr_id</th>\n      <th>pars_bodypart_petct</th>\n      <th>pars_region_petct</th>\n      <th>pars_subregion_petct</th>\n      <th>pars_laterality_petct</th>\n      <th>pars_classification_petct</th>\n      <th>vol_ccm</th>\n      <th>max_suv_val</th>\n      <th>mean_suv_val</th>\n      <th>min_suv_val</th>\n      <th>sd_suv_val</th>\n      <th>is_malignant</th>\n      <th>assigned_organ</th>\n      <th>response</th>\n    </tr>\n  </thead>\n  <tbody>\n    <tr>\n      <th>0</th>\n      <td>34610086</td>\n      <td>thorax</td>\n      <td>bones</td>\n      <td>scapula</td>\n      <td>left</td>\n      <td>benign</td>\n      <td>2.08</td>\n      <td>5.92</td>\n      <td>3.21</td>\n      <td>2.49</td>\n      <td>0.67</td>\n      <td>False</td>\n      <td>bones_thorax</td>\n      <td>progression</td>\n    </tr>\n    <tr>\n      <th>1</th>\n      <td>34610086</td>\n      <td>thorax</td>\n      <td>lymph nodes</td>\n      <td>IASLC station 4</td>\n      <td>left</td>\n      <td>benign</td>\n      <td>1.64</td>\n      <td>5.10</td>\n      <td>3.34</td>\n      <td>2.91</td>\n      <td>0.40</td>\n      <td>False</td>\n      <td>other_thorax</td>\n      <td>progression</td>\n    </tr>\n    <tr>\n      <th>2</th>\n      <td>34610086</td>\n      <td>thorax</td>\n      <td>heart</td>\n      <td>atrium</td>\n      <td>not specified</td>\n      <td>benign</td>\n      <td>9.66</td>\n      <td>5.51</td>\n      <td>3.01</td>\n      <td>2.59</td>\n      <td>0.38</td>\n      <td>False</td>\n      <td>other_thorax</td>\n      <td>progression</td>\n    </tr>\n    <tr>\n      <th>3</th>\n      <td>34610086</td>\n      <td>thorax</td>\n      <td>oesophagus</td>\n      <td>not specified</td>\n      <td>not specified</td>\n      <td>benign</td>\n      <td>9.72</td>\n      <td>6.02</td>\n      <td>3.51</td>\n      <td>2.83</td>\n      <td>0.58</td>\n      <td>False</td>\n      <td>other_thorax</td>\n      <td>progression</td>\n    </tr>\n    <tr>\n      <th>4</th>\n      <td>34610086</td>\n      <td>thorax</td>\n      <td>lymph nodes</td>\n      <td>IASLC station 4</td>\n      <td>right</td>\n      <td>benign</td>\n      <td>2.53</td>\n      <td>5.58</td>\n      <td>3.01</td>\n      <td>2.62</td>\n      <td>0.37</td>\n      <td>False</td>\n      <td>other_thorax</td>\n      <td>progression</td>\n    </tr>\n  </tbody>\n</table>\n</div>"
     },
     "metadata": {}
    }
   ]
  },
  {
   "cell_type": "code",
   "metadata": {
    "tags": [],
    "cell_id": "00009-c95d88d3-a22e-4bf8-a9e9-7fa5642635c1",
    "deepnote_to_be_reexecuted": false,
    "source_hash": "2756c58e",
    "execution_start": 1633197127971,
    "execution_millis": 6,
    "deepnote_cell_type": "code"
   },
   "source": "print(f'Total patients with non-baseline post-1 studies: {len(df.gpcr_id.unique())}')",
   "execution_count": 10,
   "outputs": [
    {
     "name": "stdout",
     "text": "Total patients with non-baseline post-1 studies: 64\n",
     "output_type": "stream"
    }
   ]
  },
  {
   "cell_type": "code",
   "metadata": {
    "tags": [],
    "cell_id": "00014-1fc94766-7547-4592-9767-7820615854b7",
    "deepnote_to_be_reexecuted": false,
    "source_hash": "b2ea41be",
    "execution_start": 1633197127972,
    "execution_millis": 0,
    "deepnote_cell_type": "code"
   },
   "source": "patients = list(df[df.response == 'progression'].gpcr_id.unique())",
   "execution_count": 11,
   "outputs": []
  },
  {
   "cell_type": "code",
   "metadata": {
    "deepnote_variable_name": "patient",
    "deepnote_variable_value": "34610073",
    "deepnote_variable_options": [
     "34610086",
     "34610089",
     "34610068",
     "34610060",
     "34610079",
     "34610078",
     "34610080",
     "34610073",
     "34610075",
     "34610131",
     "34610126",
     "34610134",
     "34610133",
     "34610119",
     "34610123",
     "34610122",
     "34610149",
     "34610140",
     "34610139",
     "34610141",
     "34610145",
     "34610143",
     "34610099",
     "34610104",
     "34610102",
     "34610105",
     "34610094",
     "34610118",
     "34610114",
     "34610023",
     "34610006",
     "34610020",
     "34610046",
     "34610004",
     "34610052",
     "34610035",
     "34610031",
     "34610039",
     "34610037",
     "34610036",
     "34610038"
    ],
    "deepnote_variable_custom_options": [
     "Option 1",
     "Option 2"
    ],
    "deepnote_variable_selected_variable": "patients",
    "deepnote_variable_select_type": "from-variable",
    "cell_id": "00013-94afe7bb-3f42-44d9-936c-c0f9a1590805",
    "deepnote_to_be_reexecuted": false,
    "source_hash": "7a348f21",
    "execution_start": 1633197127972,
    "execution_millis": 1,
    "deepnote_app_coordinates": {
     "x": 0,
     "y": 3,
     "w": 8,
     "h": 4
    },
    "deepnote_cell_type": "input-select"
   },
   "source": "patient = '34610073'",
   "execution_count": 12,
   "outputs": []
  },
  {
   "cell_type": "code",
   "metadata": {
    "tags": [],
    "cell_id": "00014-da412e81-d364-4686-bc07-86ca23855c27",
    "deepnote_to_be_reexecuted": false,
    "source_hash": "2efe4dc3",
    "execution_start": 1633197128019,
    "execution_millis": 243,
    "deepnote_app_coordinates": {
     "x": 0,
     "y": 8,
     "w": 12,
     "h": 28
    },
    "deepnote_cell_type": "code"
   },
   "source": "pdf = df[df.gpcr_id == int(patient)].reset_index()\n\nnum_nodes = pdf.shape[0]\nedge_index = []\n\nfor i in range(num_nodes):\n    source = pdf.loc[i].assigned_organ\n    targets = list(pdf[pdf.assigned_organ == source].index)\n\n    edge_index.extend([ [i, j] for j in targets if i != j  ])\n\nx = torch.tensor(list(pdf.is_malignant.astype(int)))\n\nG1 = Data(x=x, edge_index=torch.tensor(edge_index).t(), num_nodes=num_nodes)\n\nG = to_networkx(G1, to_undirected=True)\npos = nx.kamada_kawai_layout(G)\n\nnx.draw_networkx(G, pos, node_color=G1.x, alpha=0.5)",
   "execution_count": 13,
   "outputs": [
    {
     "data": {
      "text/plain": "<Figure size 432x288 with 1 Axes>",
      "image/png": "[encoded data removed]"
     },
     "metadata": {
      "image/png": {
       "width": 349,
       "height": 231
      }
     },
     "output_type": "display_data"
    }
   ]
  },
  {
   "cell_type": "markdown",
   "source": "### Lesion classifier baselines",
   "metadata": {
    "tags": [],
    "is_collapsed": false,
    "cell_id": "00017-5f26a9fa-3325-4150-b9c5-348d7b627208",
    "deepnote_cell_type": "text-cell-h3"
   }
  },
  {
   "cell_type": "code",
   "metadata": {
    "tags": [],
    "cell_id": "00018-4efee48f-d3c1-4171-9ea3-9900f3950a26",
    "deepnote_to_be_reexecuted": false,
    "source_hash": "66385105",
    "execution_start": 1633197128260,
    "execution_millis": 428,
    "deepnote_cell_type": "code"
   },
   "source": "from sklearn.preprocessing import OneHotEncoder, StandardScaler\nfrom sklearn.model_selection import train_test_split\nfrom sklearn.linear_model import LogisticRegression\nfrom sklearn.datasets import make_moons, make_circles, make_classification\nfrom sklearn.neural_network import MLPClassifier\nfrom sklearn.neighbors import KNeighborsClassifier\nfrom sklearn.svm import SVC\nfrom sklearn.gaussian_process import GaussianProcessClassifier\nfrom sklearn.gaussian_process.kernels import RBF\nfrom sklearn.tree import DecisionTreeClassifier\nfrom sklearn.ensemble import RandomForestClassifier, AdaBoostClassifier\nfrom sklearn.naive_bayes import GaussianNB\nfrom sklearn.discriminant_analysis import QuadraticDiscriminantAnalysis",
   "execution_count": 14,
   "outputs": []
  },
  {
   "cell_type": "code",
   "metadata": {
    "tags": [],
    "cell_id": "00017-9838d312-c71b-48d5-a221-5f7821f7752b",
    "deepnote_to_be_reexecuted": false,
    "source_hash": "87e2b57f",
    "execution_start": 1633197128693,
    "execution_millis": 4,
    "deepnote_cell_type": "code"
   },
   "source": "x_features = list(df.columns)\nx_features.remove('response')\nx_features.remove('gpcr_id')\nx_features.remove('is_malignant')\n\nx_features_categorical = ['pars_bodypart_petct', 'pars_region_petct', \n                          'pars_subregion_petct', 'pars_laterality_petct',\n                          'pars_classification_petct', 'assigned_organ']\nx_features_numerical = ['vol_ccm', 'max_suv_val', 'mean_suv_val',\n                        'min_suv_val', 'sd_suv_val']",
   "execution_count": 15,
   "outputs": []
  },
  {
   "cell_type": "code",
   "metadata": {
    "tags": [],
    "cell_id": "00019-796fdd6d-d24d-4830-b82c-0018bd636746",
    "deepnote_to_be_reexecuted": false,
    "source_hash": "2473dca6",
    "execution_start": 1633197128699,
    "execution_millis": 24,
    "deepnote_cell_type": "code"
   },
   "source": "y = (df.response == 'response').astype(int)\n\nencoder = OneHotEncoder(drop='if_binary')\nscaler = StandardScaler()\nX = np.concatenate((   \n        encoder.fit_transform(df[x_features_categorical]).todense(),\n        scaler.fit_transform(df[x_features_numerical])\n    ),\n    axis=1)\n\nX_train, X_test, y_train, y_test = \\\n    train_test_split(X, y, test_size=0.33, random_state=27)",
   "execution_count": 16,
   "outputs": []
  },
  {
   "cell_type": "code",
   "metadata": {
    "tags": [],
    "cell_id": "00025-8a182538-021d-4e06-b8d2-9152086d04eb",
    "deepnote_to_be_reexecuted": false,
    "source_hash": "712ab35",
    "execution_start": 1633197128730,
    "execution_millis": 4,
    "deepnote_cell_type": "code"
   },
   "source": "names = [\"Nearest Neighbors\", \"Linear SVM\", \"RBF SVM\", \"Gaussian Process\",\n         \"Decision Tree\", \"Random Forest\", \"Neural Net\", \"AdaBoost\",\n         \"Naive Bayes\", \"Logistic Regression\"]\n\nclassifiers = [\n    KNeighborsClassifier(3),\n    SVC(kernel=\"linear\", C=0.025),\n    SVC(gamma=2, C=1),\n    GaussianProcessClassifier(1.0 * RBF(1.0)),\n    DecisionTreeClassifier(max_depth=5),\n    RandomForestClassifier(max_depth=5, n_estimators=10, max_features=1),\n    MLPClassifier(alpha=1, max_iter=1000),\n    AdaBoostClassifier(),\n    GaussianNB(),\n    LogisticRegression(penalty='l2', solver='liblinear')]",
   "execution_count": 17,
   "outputs": []
  },
  {
   "cell_type": "code",
   "metadata": {
    "tags": [],
    "cell_id": "00026-1c4851a9-9895-415a-9329-462303cf3757",
    "deepnote_to_be_reexecuted": false,
    "source_hash": "bf7edfdb",
    "execution_start": 1633197128750,
    "execution_millis": 107565,
    "deepnote_cell_type": "code"
   },
   "source": "scores = []\n\nfor name, clf in zip(names, classifiers):\n\n    clf.fit(X_train, y_train)\n    scores.append(clf.score(X_test, y_test))",
   "execution_count": 18,
   "outputs": []
  },
  {
   "cell_type": "code",
   "metadata": {
    "tags": [],
    "cell_id": "00026-6014d4f0-d01e-43ad-b383-cdc990f37585",
    "deepnote_to_be_reexecuted": false,
    "source_hash": "2085789e",
    "execution_start": 1633197236316,
    "execution_millis": 4,
    "deepnote_cell_type": "code"
   },
   "source": "list(zip(names, scores))",
   "execution_count": 19,
   "outputs": [
    {
     "output_type": "execute_result",
     "execution_count": 19,
     "data": {
      "text/plain": "[('Nearest Neighbors', 0.6790697674418604),\n ('Linear SVM', 0.6666666666666666),\n ('RBF SVM', 0.6751937984496124),\n ('Gaussian Process', 0.7077519379844961),\n ('Decision Tree', 0.7054263565891473),\n ('Random Forest', 0.6674418604651163),\n ('Neural Net', 0.6829457364341085),\n ('AdaBoost', 0.689922480620155),\n ('Naive Bayes', 0.3612403100775194),\n ('Logistic Regression', 0.6643410852713179)]"
     },
     "metadata": {}
    }
   ]
  },
  {
   "cell_type": "markdown",
   "source": "<a style='text-decoration:none;line-height:16px;display:flex;color:#5B5B62;padding:10px;justify-content:end;' href='https://deepnote.com?utm_source=created-in-deepnote-cell&projectId=7360151b-146e-499a-b01b-835ca18c34fa' target=\"_blank\">\n<img alt='Created in deepnote.com' style='display:inline;max-height:16px;margin:0px;margin-right:7.5px;' src='data:image/svg+xml;base64,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' > </img>\nCreated in <span style='font-weight:600;margin-left:4px;'>Deepnote</span></a>",
   "metadata": {
    "tags": [],
    "created_in_deepnote_cell": true,
    "deepnote_cell_type": "markdown"
   }
  }
 ],
 "nbformat": 4,
 "nbformat_minor": 2,
 "metadata": {
  "orig_nbformat": 2,
  "deepnote": {
   "is_reactive": false
  },
  "deepnote_notebook_id": "5d1f710d-3389-4009-b8ed-f923d75ae5a1",
  "deepnote_app_layout": "dashboard",
  "deepnote_execution_queue": []
 }
}