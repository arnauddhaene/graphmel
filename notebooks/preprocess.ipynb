{
 "cells": [
  {
   "cell_type": "markdown",
   "id": "c9d0495b-5f2a-4b7c-ac4a-ccf4dd7afaa0",
   "metadata": {
    "tags": []
   },
   "source": [
    "### Import libraries and dataset connection"
   ]
  },
  {
   "cell_type": "code",
   "execution_count": 2,
   "id": "b72b4756-0a37-46e0-a578-8d2f2b801ce8",
   "metadata": {},
   "outputs": [],
   "source": [
    "import os, sys\n",
    "from typing import List\n",
    "from collections.abc import Callable"
   ]
  },
  {
   "cell_type": "code",
   "execution_count": 3,
   "id": "6bf62774-aa47-4218-bbc9-105eb3690166",
   "metadata": {},
   "outputs": [],
   "source": [
    "import pandas as pd\n",
    "import numpy as np"
   ]
  },
  {
   "cell_type": "code",
   "execution_count": 4,
   "id": "b6c1f588-4e2d-41cb-bdac-eccd5cf8236f",
   "metadata": {},
   "outputs": [],
   "source": [
    "from sklearn.preprocessing import OneHotEncoder, StandardScaler\n",
    "from sklearn.impute import SimpleImputer\n",
    "from sklearn.model_selection import train_test_split\n",
    "from sklearn.pipeline import Pipeline\n",
    "from sklearn.compose import ColumnTransformer, make_column_selector\n",
    "from sklearn.feature_extraction.text import CountVectorizer\n",
    "from sklearn.base import BaseEstimator"
   ]
  },
  {
   "cell_type": "code",
   "execution_count": 5,
   "id": "2b5189c4-05a0-462e-b35c-8b8abf2c50f9",
   "metadata": {},
   "outputs": [],
   "source": [
    "import torch\n",
    "from torch_geometric.data import Data\n",
    "from torch_geometric.loader import DataLoader"
   ]
  },
  {
   "cell_type": "code",
   "execution_count": 6,
   "id": "2b664558-7cff-44eb-a023-14e97a0169bd",
   "metadata": {},
   "outputs": [],
   "source": [
    "import matplotlib.pyplot as plt\n",
    "from matplotlib import rcParams\n",
    "rcParams['figure.figsize'] = 15, 8.27\n",
    "import seaborn as sns\n",
    "import plotly.express as px\n",
    "import plotly.io as pio\n",
    "pio.templates.default = 'seaborn'"
   ]
  },
  {
   "cell_type": "code",
   "execution_count": 7,
   "id": "c23b8aae-db20-47d0-af60-640754ba9b2a",
   "metadata": {},
   "outputs": [],
   "source": [
    "from ipywidgets import interact, interact_manual, FloatSlider"
   ]
  },
  {
   "cell_type": "code",
   "execution_count": 8,
   "id": "88e9ceed-e61a-4fe6-8b55-00d2a4f005ea",
   "metadata": {},
   "outputs": [],
   "source": [
    "sys.path.append(os.path.abspath('..'))\n",
    "\n",
    "from src.utils import FILES, DATA_FOLDERS, extract_study_phase, load_dataset, fetch_data, preprocess, create_dataset, Preprocessor\n",
    "\n",
    "CONNECTION_DIR = '/Users/arnauddhaene/Downloads/'"
   ]
  },
  {
   "cell_type": "markdown",
   "id": "7e1008dc-0f5b-4746-a247-ab568a5435c4",
   "metadata": {
    "tags": []
   },
   "source": [
    "### Testing my implementation"
   ]
  },
  {
   "cell_type": "code",
   "execution_count": 28,
   "id": "688dc6b0",
   "metadata": {},
   "outputs": [
    {
     "name": "stderr",
     "output_type": "stream",
     "text": [
      "/Users/adhaene/miniconda3/envs/ds/lib/python3.8/site-packages/sklearn/preprocessing/_encoders.py:170: UserWarning: Found unknown categories in columns [3] during transform. These unknown categories will be encoded as all zeros\n",
      "  warnings.warn(\n"
     ]
    }
   ],
   "source": [
    "test_size = 0.2\n",
    "seed = 42\n",
    "verbose = 0\n",
    "connectivity = 'wasserstein'\n",
    "distance = 0.8\n",
    "dense=False\n",
    "\n",
    "labels, lesions, patients = fetch_data(verbose)\n",
    "        \n",
    "X_train, X_test, y_train, y_test = \\\n",
    "    preprocess(labels, lesions, patients,\n",
    "               test_size=test_size, seed=seed, verbose=verbose)\n",
    "    \n",
    "# dataset_train = create_dataset(X=X_train, Y=y_train, dense=dense, distance=distance,\n",
    "#                                connectivity=connectivity, verbose=verbose)\n",
    "\n",
    "# dataset_test = create_dataset(X=X_test, Y=y_test, dense=dense, distance=distance,\n",
    "#                               connectivity=connectivity, verbose=verbose)"
   ]
  },
  {
   "cell_type": "code",
   "execution_count": 29,
   "id": "534583f5",
   "metadata": {},
   "outputs": [
    {
     "data": {
      "text/plain": [
       "[(0, 'sex'),\n",
       " (1, 'NRAS_MUTATION'),\n",
       " (2, 'BRAF_MUTATION'),\n",
       " (3, 'immuno_therapy_type'),\n",
       " (4, 'concomittant_tvec'),\n",
       " (5, 'concomittant_LAG3'),\n",
       " (6, 'prior_targeted_therapy'),\n",
       " (7, 'prior_treatment'),\n",
       " (8, 'nivo_maintenance')]"
      ]
     },
     "execution_count": 29,
     "metadata": {},
     "output_type": "execute_result"
    }
   ],
   "source": [
    "categorical = list(patients.select_dtypes([bool, object]).columns)\n",
    "list(enumerate(categorical))"
   ]
  },
  {
   "cell_type": "code",
   "execution_count": 39,
   "id": "9b3d2a09",
   "metadata": {},
   "outputs": [
    {
     "data": {
      "text/plain": [
       "Index(['age_at_treatment_start_in_years', 'sex', 'bmi',\n",
       "       'performance_score_ecog', 'ldh_sang_ul', 'neutro_absolus_gl',\n",
       "       'eosini_absolus_gl', 'leucocytes_sang_gl', 'NRAS_MUTATION',\n",
       "       'BRAF_MUTATION', 'immuno_therapy_type', 'lympho_absolus_gl',\n",
       "       'concomittant_tvec', 'concomittant_LAG3', 'prior_targeted_therapy',\n",
       "       'prior_treatment', 'nivo_maintenance'],\n",
       "      dtype='object')"
      ]
     },
     "execution_count": 39,
     "metadata": {},
     "output_type": "execute_result"
    }
   ],
   "source": [
    "patients.columns"
   ]
  },
  {
   "cell_type": "code",
   "execution_count": 47,
   "id": "95169455",
   "metadata": {},
   "outputs": [
    {
     "name": "stdout",
     "output_type": "stream",
     "text": [
      "[[2.03454628e+04 1.60306095e+02]\n",
      " [1.60306095e+02 7.86530103e+00]]\n",
      "(0.40073619755241535, 0.0005340385458460288)\n"
     ]
    },
    {
     "data": {
      "application/vnd.plotly.v1+json": {
       "config": {
        "plotlyServerURL": "https://plot.ly"
       },
       "data": [
        {
         "hovertemplate": "x=%{x}<br>y=%{y}<extra></extra>",
         "legendgroup": "",
         "marker": {
          "color": "rgb(76,114,176)",
          "symbol": "circle"
         },
         "mode": "markers",
         "name": "",
         "orientation": "v",
         "showlegend": false,
         "type": "scatter",
         "x": [
          161,
          158,
          179,
          145,
          209,
          220,
          272,
          284,
          185,
          189,
          177,
          191,
          156,
          532,
          291,
          254,
          191,
          183,
          276,
          183,
          145,
          184,
          243,
          135,
          231,
          151,
          197,
          304,
          292,
          162,
          627,
          185,
          174,
          177,
          343,
          244,
          147,
          168,
          159,
          194,
          467,
          178,
          147,
          256,
          159,
          186,
          236,
          287,
          189,
          520,
          309,
          310,
          239,
          939,
          428,
          400,
          184,
          193,
          160,
          261,
          381,
          225,
          249,
          760,
          209,
          181,
          149.5,
          150,
          252.5,
          200,
          169.5
         ],
         "xaxis": "x",
         "y": [
          7.24,
          3.9,
          4.315,
          3.28,
          4.96,
          5.35,
          3.24,
          3.36,
          3.97,
          3.99,
          6.88,
          5.61,
          2.945,
          3.36,
          4.13,
          2.665,
          6.96,
          6.03,
          6.25,
          1.89,
          3.94,
          4.38,
          4.71,
          4.75,
          5.16,
          2.745,
          3.97,
          2.83,
          2.31,
          6,
          2.36,
          6.595,
          6.52,
          4.68,
          4.23,
          6.15,
          5.4,
          3.4,
          8.19,
          6.64,
          4.13,
          3.88,
          2.16,
          4.97,
          6.3,
          2.8,
          3.69,
          10.63,
          4.35,
          10.61,
          4.56,
          5.02,
          9.25,
          21.69,
          5.53,
          6,
          6.47,
          3.8,
          3.6,
          3.19,
          7.425,
          1.63,
          7,
          3.35,
          10.24,
          4.57,
          4.275,
          4.75,
          7.15,
          6.18,
          7.57
         ],
         "yaxis": "y"
        }
       ],
       "layout": {
        "legend": {
         "tracegroupgap": 0
        },
        "margin": {
         "t": 60
        },
        "template": {
         "data": {
          "bar": [
           {
            "error_x": {
             "color": "rgb(36,36,36)"
            },
            "error_y": {
             "color": "rgb(36,36,36)"
            },
            "marker": {
             "line": {
              "color": "rgb(234,234,242)",
              "width": 0.5
             },
             "pattern": {
              "fillmode": "overlay",
              "size": 10,
              "solidity": 0.2
             }
            },
            "type": "bar"
           }
          ],
          "barpolar": [
           {
            "marker": {
             "line": {
              "color": "rgb(234,234,242)",
              "width": 0.5
             },
             "pattern": {
              "fillmode": "overlay",
              "size": 10,
              "solidity": 0.2
             }
            },
            "type": "barpolar"
           }
          ],
          "carpet": [
           {
            "aaxis": {
             "endlinecolor": "rgb(36,36,36)",
             "gridcolor": "white",
             "linecolor": "white",
             "minorgridcolor": "white",
             "startlinecolor": "rgb(36,36,36)"
            },
            "baxis": {
             "endlinecolor": "rgb(36,36,36)",
             "gridcolor": "white",
             "linecolor": "white",
             "minorgridcolor": "white",
             "startlinecolor": "rgb(36,36,36)"
            },
            "type": "carpet"
           }
          ],
          "choropleth": [
           {
            "colorbar": {
             "outlinewidth": 0,
             "tickcolor": "rgb(36,36,36)",
             "ticklen": 8,
             "ticks": "outside",
             "tickwidth": 2
            },
            "type": "choropleth"
           }
          ],
          "contour": [
           {
            "colorbar": {
             "outlinewidth": 0,
             "tickcolor": "rgb(36,36,36)",
             "ticklen": 8,
             "ticks": "outside",
             "tickwidth": 2
            },
            "colorscale": [
             [
              0,
              "rgb(2,4,25)"
             ],
             [
              0.06274509803921569,
              "rgb(24,15,41)"
             ],
             [
              0.12549019607843137,
              "rgb(47,23,57)"
             ],
             [
              0.18823529411764706,
              "rgb(71,28,72)"
             ],
             [
              0.25098039215686274,
              "rgb(97,30,82)"
             ],
             [
              0.3137254901960784,
              "rgb(123,30,89)"
             ],
             [
              0.3764705882352941,
              "rgb(150,27,91)"
             ],
             [
              0.4392156862745098,
              "rgb(177,22,88)"
             ],
             [
              0.5019607843137255,
              "rgb(203,26,79)"
             ],
             [
              0.5647058823529412,
              "rgb(223,47,67)"
             ],
             [
              0.6274509803921569,
              "rgb(236,76,61)"
             ],
             [
              0.6901960784313725,
              "rgb(242,107,73)"
             ],
             [
              0.7529411764705882,
              "rgb(244,135,95)"
             ],
             [
              0.8156862745098039,
              "rgb(245,162,122)"
             ],
             [
              0.8784313725490196,
              "rgb(246,188,153)"
             ],
             [
              0.9411764705882353,
              "rgb(247,212,187)"
             ],
             [
              1,
              "rgb(250,234,220)"
             ]
            ],
            "type": "contour"
           }
          ],
          "contourcarpet": [
           {
            "colorbar": {
             "outlinewidth": 0,
             "tickcolor": "rgb(36,36,36)",
             "ticklen": 8,
             "ticks": "outside",
             "tickwidth": 2
            },
            "type": "contourcarpet"
           }
          ],
          "heatmap": [
           {
            "colorbar": {
             "outlinewidth": 0,
             "tickcolor": "rgb(36,36,36)",
             "ticklen": 8,
             "ticks": "outside",
             "tickwidth": 2
            },
            "colorscale": [
             [
              0,
              "rgb(2,4,25)"
             ],
             [
              0.06274509803921569,
              "rgb(24,15,41)"
             ],
             [
              0.12549019607843137,
              "rgb(47,23,57)"
             ],
             [
              0.18823529411764706,
              "rgb(71,28,72)"
             ],
             [
              0.25098039215686274,
              "rgb(97,30,82)"
             ],
             [
              0.3137254901960784,
              "rgb(123,30,89)"
             ],
             [
              0.3764705882352941,
              "rgb(150,27,91)"
             ],
             [
              0.4392156862745098,
              "rgb(177,22,88)"
             ],
             [
              0.5019607843137255,
              "rgb(203,26,79)"
             ],
             [
              0.5647058823529412,
              "rgb(223,47,67)"
             ],
             [
              0.6274509803921569,
              "rgb(236,76,61)"
             ],
             [
              0.6901960784313725,
              "rgb(242,107,73)"
             ],
             [
              0.7529411764705882,
              "rgb(244,135,95)"
             ],
             [
              0.8156862745098039,
              "rgb(245,162,122)"
             ],
             [
              0.8784313725490196,
              "rgb(246,188,153)"
             ],
             [
              0.9411764705882353,
              "rgb(247,212,187)"
             ],
             [
              1,
              "rgb(250,234,220)"
             ]
            ],
            "type": "heatmap"
           }
          ],
          "heatmapgl": [
           {
            "colorbar": {
             "outlinewidth": 0,
             "tickcolor": "rgb(36,36,36)",
             "ticklen": 8,
             "ticks": "outside",
             "tickwidth": 2
            },
            "colorscale": [
             [
              0,
              "rgb(2,4,25)"
             ],
             [
              0.06274509803921569,
              "rgb(24,15,41)"
             ],
             [
              0.12549019607843137,
              "rgb(47,23,57)"
             ],
             [
              0.18823529411764706,
              "rgb(71,28,72)"
             ],
             [
              0.25098039215686274,
              "rgb(97,30,82)"
             ],
             [
              0.3137254901960784,
              "rgb(123,30,89)"
             ],
             [
              0.3764705882352941,
              "rgb(150,27,91)"
             ],
             [
              0.4392156862745098,
              "rgb(177,22,88)"
             ],
             [
              0.5019607843137255,
              "rgb(203,26,79)"
             ],
             [
              0.5647058823529412,
              "rgb(223,47,67)"
             ],
             [
              0.6274509803921569,
              "rgb(236,76,61)"
             ],
             [
              0.6901960784313725,
              "rgb(242,107,73)"
             ],
             [
              0.7529411764705882,
              "rgb(244,135,95)"
             ],
             [
              0.8156862745098039,
              "rgb(245,162,122)"
             ],
             [
              0.8784313725490196,
              "rgb(246,188,153)"
             ],
             [
              0.9411764705882353,
              "rgb(247,212,187)"
             ],
             [
              1,
              "rgb(250,234,220)"
             ]
            ],
            "type": "heatmapgl"
           }
          ],
          "histogram": [
           {
            "marker": {
             "pattern": {
              "fillmode": "overlay",
              "size": 10,
              "solidity": 0.2
             }
            },
            "type": "histogram"
           }
          ],
          "histogram2d": [
           {
            "colorbar": {
             "outlinewidth": 0,
             "tickcolor": "rgb(36,36,36)",
             "ticklen": 8,
             "ticks": "outside",
             "tickwidth": 2
            },
            "colorscale": [
             [
              0,
              "rgb(2,4,25)"
             ],
             [
              0.06274509803921569,
              "rgb(24,15,41)"
             ],
             [
              0.12549019607843137,
              "rgb(47,23,57)"
             ],
             [
              0.18823529411764706,
              "rgb(71,28,72)"
             ],
             [
              0.25098039215686274,
              "rgb(97,30,82)"
             ],
             [
              0.3137254901960784,
              "rgb(123,30,89)"
             ],
             [
              0.3764705882352941,
              "rgb(150,27,91)"
             ],
             [
              0.4392156862745098,
              "rgb(177,22,88)"
             ],
             [
              0.5019607843137255,
              "rgb(203,26,79)"
             ],
             [
              0.5647058823529412,
              "rgb(223,47,67)"
             ],
             [
              0.6274509803921569,
              "rgb(236,76,61)"
             ],
             [
              0.6901960784313725,
              "rgb(242,107,73)"
             ],
             [
              0.7529411764705882,
              "rgb(244,135,95)"
             ],
             [
              0.8156862745098039,
              "rgb(245,162,122)"
             ],
             [
              0.8784313725490196,
              "rgb(246,188,153)"
             ],
             [
              0.9411764705882353,
              "rgb(247,212,187)"
             ],
             [
              1,
              "rgb(250,234,220)"
             ]
            ],
            "type": "histogram2d"
           }
          ],
          "histogram2dcontour": [
           {
            "colorbar": {
             "outlinewidth": 0,
             "tickcolor": "rgb(36,36,36)",
             "ticklen": 8,
             "ticks": "outside",
             "tickwidth": 2
            },
            "colorscale": [
             [
              0,
              "rgb(2,4,25)"
             ],
             [
              0.06274509803921569,
              "rgb(24,15,41)"
             ],
             [
              0.12549019607843137,
              "rgb(47,23,57)"
             ],
             [
              0.18823529411764706,
              "rgb(71,28,72)"
             ],
             [
              0.25098039215686274,
              "rgb(97,30,82)"
             ],
             [
              0.3137254901960784,
              "rgb(123,30,89)"
             ],
             [
              0.3764705882352941,
              "rgb(150,27,91)"
             ],
             [
              0.4392156862745098,
              "rgb(177,22,88)"
             ],
             [
              0.5019607843137255,
              "rgb(203,26,79)"
             ],
             [
              0.5647058823529412,
              "rgb(223,47,67)"
             ],
             [
              0.6274509803921569,
              "rgb(236,76,61)"
             ],
             [
              0.6901960784313725,
              "rgb(242,107,73)"
             ],
             [
              0.7529411764705882,
              "rgb(244,135,95)"
             ],
             [
              0.8156862745098039,
              "rgb(245,162,122)"
             ],
             [
              0.8784313725490196,
              "rgb(246,188,153)"
             ],
             [
              0.9411764705882353,
              "rgb(247,212,187)"
             ],
             [
              1,
              "rgb(250,234,220)"
             ]
            ],
            "type": "histogram2dcontour"
           }
          ],
          "mesh3d": [
           {
            "colorbar": {
             "outlinewidth": 0,
             "tickcolor": "rgb(36,36,36)",
             "ticklen": 8,
             "ticks": "outside",
             "tickwidth": 2
            },
            "type": "mesh3d"
           }
          ],
          "parcoords": [
           {
            "line": {
             "colorbar": {
              "outlinewidth": 0,
              "tickcolor": "rgb(36,36,36)",
              "ticklen": 8,
              "ticks": "outside",
              "tickwidth": 2
             }
            },
            "type": "parcoords"
           }
          ],
          "pie": [
           {
            "automargin": true,
            "type": "pie"
           }
          ],
          "scatter": [
           {
            "marker": {
             "colorbar": {
              "outlinewidth": 0,
              "tickcolor": "rgb(36,36,36)",
              "ticklen": 8,
              "ticks": "outside",
              "tickwidth": 2
             }
            },
            "type": "scatter"
           }
          ],
          "scatter3d": [
           {
            "line": {
             "colorbar": {
              "outlinewidth": 0,
              "tickcolor": "rgb(36,36,36)",
              "ticklen": 8,
              "ticks": "outside",
              "tickwidth": 2
             }
            },
            "marker": {
             "colorbar": {
              "outlinewidth": 0,
              "tickcolor": "rgb(36,36,36)",
              "ticklen": 8,
              "ticks": "outside",
              "tickwidth": 2
             }
            },
            "type": "scatter3d"
           }
          ],
          "scattercarpet": [
           {
            "marker": {
             "colorbar": {
              "outlinewidth": 0,
              "tickcolor": "rgb(36,36,36)",
              "ticklen": 8,
              "ticks": "outside",
              "tickwidth": 2
             }
            },
            "type": "scattercarpet"
           }
          ],
          "scattergeo": [
           {
            "marker": {
             "colorbar": {
              "outlinewidth": 0,
              "tickcolor": "rgb(36,36,36)",
              "ticklen": 8,
              "ticks": "outside",
              "tickwidth": 2
             }
            },
            "type": "scattergeo"
           }
          ],
          "scattergl": [
           {
            "marker": {
             "colorbar": {
              "outlinewidth": 0,
              "tickcolor": "rgb(36,36,36)",
              "ticklen": 8,
              "ticks": "outside",
              "tickwidth": 2
             }
            },
            "type": "scattergl"
           }
          ],
          "scattermapbox": [
           {
            "marker": {
             "colorbar": {
              "outlinewidth": 0,
              "tickcolor": "rgb(36,36,36)",
              "ticklen": 8,
              "ticks": "outside",
              "tickwidth": 2
             }
            },
            "type": "scattermapbox"
           }
          ],
          "scatterpolar": [
           {
            "marker": {
             "colorbar": {
              "outlinewidth": 0,
              "tickcolor": "rgb(36,36,36)",
              "ticklen": 8,
              "ticks": "outside",
              "tickwidth": 2
             }
            },
            "type": "scatterpolar"
           }
          ],
          "scatterpolargl": [
           {
            "marker": {
             "colorbar": {
              "outlinewidth": 0,
              "tickcolor": "rgb(36,36,36)",
              "ticklen": 8,
              "ticks": "outside",
              "tickwidth": 2
             }
            },
            "type": "scatterpolargl"
           }
          ],
          "scatterternary": [
           {
            "marker": {
             "colorbar": {
              "outlinewidth": 0,
              "tickcolor": "rgb(36,36,36)",
              "ticklen": 8,
              "ticks": "outside",
              "tickwidth": 2
             }
            },
            "type": "scatterternary"
           }
          ],
          "surface": [
           {
            "colorbar": {
             "outlinewidth": 0,
             "tickcolor": "rgb(36,36,36)",
             "ticklen": 8,
             "ticks": "outside",
             "tickwidth": 2
            },
            "colorscale": [
             [
              0,
              "rgb(2,4,25)"
             ],
             [
              0.06274509803921569,
              "rgb(24,15,41)"
             ],
             [
              0.12549019607843137,
              "rgb(47,23,57)"
             ],
             [
              0.18823529411764706,
              "rgb(71,28,72)"
             ],
             [
              0.25098039215686274,
              "rgb(97,30,82)"
             ],
             [
              0.3137254901960784,
              "rgb(123,30,89)"
             ],
             [
              0.3764705882352941,
              "rgb(150,27,91)"
             ],
             [
              0.4392156862745098,
              "rgb(177,22,88)"
             ],
             [
              0.5019607843137255,
              "rgb(203,26,79)"
             ],
             [
              0.5647058823529412,
              "rgb(223,47,67)"
             ],
             [
              0.6274509803921569,
              "rgb(236,76,61)"
             ],
             [
              0.6901960784313725,
              "rgb(242,107,73)"
             ],
             [
              0.7529411764705882,
              "rgb(244,135,95)"
             ],
             [
              0.8156862745098039,
              "rgb(245,162,122)"
             ],
             [
              0.8784313725490196,
              "rgb(246,188,153)"
             ],
             [
              0.9411764705882353,
              "rgb(247,212,187)"
             ],
             [
              1,
              "rgb(250,234,220)"
             ]
            ],
            "type": "surface"
           }
          ],
          "table": [
           {
            "cells": {
             "fill": {
              "color": "rgb(231,231,240)"
             },
             "line": {
              "color": "white"
             }
            },
            "header": {
             "fill": {
              "color": "rgb(183,183,191)"
             },
             "line": {
              "color": "white"
             }
            },
            "type": "table"
           }
          ]
         },
         "layout": {
          "annotationdefaults": {
           "arrowcolor": "rgb(67,103,167)"
          },
          "autotypenumbers": "strict",
          "coloraxis": {
           "colorbar": {
            "outlinewidth": 0,
            "tickcolor": "rgb(36,36,36)",
            "ticklen": 8,
            "ticks": "outside",
            "tickwidth": 2
           }
          },
          "colorscale": {
           "sequential": [
            [
             0,
             "rgb(2,4,25)"
            ],
            [
             0.06274509803921569,
             "rgb(24,15,41)"
            ],
            [
             0.12549019607843137,
             "rgb(47,23,57)"
            ],
            [
             0.18823529411764706,
             "rgb(71,28,72)"
            ],
            [
             0.25098039215686274,
             "rgb(97,30,82)"
            ],
            [
             0.3137254901960784,
             "rgb(123,30,89)"
            ],
            [
             0.3764705882352941,
             "rgb(150,27,91)"
            ],
            [
             0.4392156862745098,
             "rgb(177,22,88)"
            ],
            [
             0.5019607843137255,
             "rgb(203,26,79)"
            ],
            [
             0.5647058823529412,
             "rgb(223,47,67)"
            ],
            [
             0.6274509803921569,
             "rgb(236,76,61)"
            ],
            [
             0.6901960784313725,
             "rgb(242,107,73)"
            ],
            [
             0.7529411764705882,
             "rgb(244,135,95)"
            ],
            [
             0.8156862745098039,
             "rgb(245,162,122)"
            ],
            [
             0.8784313725490196,
             "rgb(246,188,153)"
            ],
            [
             0.9411764705882353,
             "rgb(247,212,187)"
            ],
            [
             1,
             "rgb(250,234,220)"
            ]
           ],
           "sequentialminus": [
            [
             0,
             "rgb(2,4,25)"
            ],
            [
             0.06274509803921569,
             "rgb(24,15,41)"
            ],
            [
             0.12549019607843137,
             "rgb(47,23,57)"
            ],
            [
             0.18823529411764706,
             "rgb(71,28,72)"
            ],
            [
             0.25098039215686274,
             "rgb(97,30,82)"
            ],
            [
             0.3137254901960784,
             "rgb(123,30,89)"
            ],
            [
             0.3764705882352941,
             "rgb(150,27,91)"
            ],
            [
             0.4392156862745098,
             "rgb(177,22,88)"
            ],
            [
             0.5019607843137255,
             "rgb(203,26,79)"
            ],
            [
             0.5647058823529412,
             "rgb(223,47,67)"
            ],
            [
             0.6274509803921569,
             "rgb(236,76,61)"
            ],
            [
             0.6901960784313725,
             "rgb(242,107,73)"
            ],
            [
             0.7529411764705882,
             "rgb(244,135,95)"
            ],
            [
             0.8156862745098039,
             "rgb(245,162,122)"
            ],
            [
             0.8784313725490196,
             "rgb(246,188,153)"
            ],
            [
             0.9411764705882353,
             "rgb(247,212,187)"
            ],
            [
             1,
             "rgb(250,234,220)"
            ]
           ]
          },
          "colorway": [
           "rgb(76,114,176)",
           "rgb(221,132,82)",
           "rgb(85,168,104)",
           "rgb(196,78,82)",
           "rgb(129,114,179)",
           "rgb(147,120,96)",
           "rgb(218,139,195)",
           "rgb(140,140,140)",
           "rgb(204,185,116)",
           "rgb(100,181,205)"
          ],
          "font": {
           "color": "rgb(36,36,36)"
          },
          "geo": {
           "bgcolor": "white",
           "lakecolor": "white",
           "landcolor": "rgb(234,234,242)",
           "showlakes": true,
           "showland": true,
           "subunitcolor": "white"
          },
          "hoverlabel": {
           "align": "left"
          },
          "hovermode": "closest",
          "paper_bgcolor": "white",
          "plot_bgcolor": "rgb(234,234,242)",
          "polar": {
           "angularaxis": {
            "gridcolor": "white",
            "linecolor": "white",
            "showgrid": true,
            "ticks": ""
           },
           "bgcolor": "rgb(234,234,242)",
           "radialaxis": {
            "gridcolor": "white",
            "linecolor": "white",
            "showgrid": true,
            "ticks": ""
           }
          },
          "scene": {
           "xaxis": {
            "backgroundcolor": "rgb(234,234,242)",
            "gridcolor": "white",
            "gridwidth": 2,
            "linecolor": "white",
            "showbackground": true,
            "showgrid": true,
            "ticks": "",
            "zerolinecolor": "white"
           },
           "yaxis": {
            "backgroundcolor": "rgb(234,234,242)",
            "gridcolor": "white",
            "gridwidth": 2,
            "linecolor": "white",
            "showbackground": true,
            "showgrid": true,
            "ticks": "",
            "zerolinecolor": "white"
           },
           "zaxis": {
            "backgroundcolor": "rgb(234,234,242)",
            "gridcolor": "white",
            "gridwidth": 2,
            "linecolor": "white",
            "showbackground": true,
            "showgrid": true,
            "ticks": "",
            "zerolinecolor": "white"
           }
          },
          "shapedefaults": {
           "fillcolor": "rgb(67,103,167)",
           "line": {
            "width": 0
           },
           "opacity": 0.5
          },
          "ternary": {
           "aaxis": {
            "gridcolor": "white",
            "linecolor": "white",
            "showgrid": true,
            "ticks": ""
           },
           "baxis": {
            "gridcolor": "white",
            "linecolor": "white",
            "showgrid": true,
            "ticks": ""
           },
           "bgcolor": "rgb(234,234,242)",
           "caxis": {
            "gridcolor": "white",
            "linecolor": "white",
            "showgrid": true,
            "ticks": ""
           }
          },
          "xaxis": {
           "automargin": true,
           "gridcolor": "white",
           "linecolor": "white",
           "showgrid": true,
           "ticks": "",
           "title": {
            "standoff": 15
           },
           "zerolinecolor": "white"
          },
          "yaxis": {
           "automargin": true,
           "gridcolor": "white",
           "linecolor": "white",
           "showgrid": true,
           "ticks": "",
           "title": {
            "standoff": 15
           },
           "zerolinecolor": "white"
          }
         }
        },
        "xaxis": {
         "anchor": "y",
         "domain": [
          0,
          1
         ],
         "title": {
          "text": "x"
         }
        },
        "yaxis": {
         "anchor": "x",
         "domain": [
          0,
          1
         ],
         "title": {
          "text": "y"
         }
        }
       }
      }
     },
     "metadata": {},
     "output_type": "display_data"
    }
   ],
   "source": [
    "from scipy.stats import pearsonr\n",
    "\n",
    "wona = patients[['ldh_sang_ul', 'neutro_absolus_gl']].dropna()\n",
    "x, y = wona.ldh_sang_ul, wona.neutro_absolus_gl\n",
    "\n",
    "print(np.cov(x, y))\n",
    "print(pearsonr(x, y))\n",
    "\n",
    "px.scatter(x=x, y=y)"
   ]
  },
  {
   "cell_type": "code",
   "execution_count": 48,
   "id": "eba8568b",
   "metadata": {},
   "outputs": [],
   "source": [
    "def correlation_matrix(df: pd.DataFrame):\n",
    "    \"\"\"\n",
    "    A function to calculate and plot\n",
    "    correlation matrix of a DataFrame.\n",
    "    \"\"\"\n",
    "    # Create the matrix\n",
    "    matrix = df.corr()\n",
    "    \n",
    "    # Create cmap\n",
    "    cmap = sns.diverging_palette(250, 15, s=75, l=40,\n",
    "                             n=9, center=\"light\", as_cmap=True)\n",
    "    # Create a mask\n",
    "    mask = np.triu(np.ones_like(matrix, dtype=bool))\n",
    "    \n",
    "    # Make figsize bigger\n",
    "    fig, ax = plt.subplots(figsize=(16,12))\n",
    "    \n",
    "    # Plot the matrix\n",
    "    _ = sns.heatmap(matrix, mask=mask, center=0, annot=True,\n",
    "             fmt='.2f', square=True, cmap=cmap, ax=ax)"
   ]
  },
  {
   "cell_type": "code",
   "execution_count": 49,
   "id": "ff3831d2",
   "metadata": {},
   "outputs": [
    {
     "data": {
      "image/png": "[encoded data removed]",
      "text/plain": [
       "<Figure size 1152x864 with 2 Axes>"
      ]
     },
     "metadata": {
      "needs_background": "light"
     },
     "output_type": "display_data"
    }
   ],
   "source": [
    "X = pd.concat([X_train, X_test])\n",
    "\n",
    "correlation_matrix(X)"
   ]
  },
  {
   "cell_type": "code",
   "execution_count": 27,
   "id": "331b1a0d-aa1a-4314-bb53-fa6b43841a56",
   "metadata": {},
   "outputs": [],
   "source": [
    "from typing import List, Tuple\n",
    "\n",
    "def preprocess(\n",
    "    labels: pd.Series, lesions: pd.DataFrame, patients: pd.DataFrame,\n",
    "    test_size: float = 0.2, seed: int = 27, verbose: int = 1\n",
    ") -> Tuple[pd.DataFrame, pd.DataFrame, pd.Series, pd.Series]:\n",
    "    \"\"\"\n",
    "    Preprocess filtered raw data into train, validation, and test splits.\n",
    "    Imputation, standardization, and one-hot encoding of features using sklearn pipelines.\n",
    "\n",
    "    Args:\n",
    "        labels (pd.Series): `gpcr_id` indexed Series with progression labels. 1 is NPD.\n",
    "        lesions (pd.DataFrame): gpcr_id` indexed lesion-level data.\n",
    "        patients (pd.DataFrame): `gpcr_id` indexed patient-level data including blood screens.\n",
    "        test_size (float, optional): Ratio of test set. Defaults to 0.2.\n",
    "        seed (int, optional): Random seed. Defaults to 27.\n",
    "        verbose (int, optional): tuneable parameter for output verbosity. Defaults to 1.\n",
    "\n",
    "    Returns:\n",
    "        Tuple[pd.DataFrame, pd.DataFrame, pd.DataFrame, pd.Series, pd.Series, pd.Series]:\n",
    "            * X_train (pd.DataFrame): `gpcr_id` indexed training dataset.\n",
    "            * X_test (pd.DataFrame): `gpcr_id` indexed testing dataset.\n",
    "            * y_train (pd.Series): `gpcr_id` indexed training Series with progression labels. 1 is NPD.\n",
    "            * y_test (pd.Series): `gpcr_id` indexed test Series with progression labels. 1 is NPD.\n",
    "    \"\"\"\n",
    "    \n",
    "    I_train, I_test, y_train, y_test = \\\n",
    "        train_test_split(labels.index, labels, test_size=test_size, random_state=seed)\n",
    "        \n",
    "    lesions_pp = Preprocessor(\n",
    "        pipe=ColumnTransformer(\n",
    "            [('scaler', StandardScaler(), make_column_selector(dtype_include=np.number)),\n",
    "             ('one-hot', OneHotEncoder(),\n",
    "              make_column_selector(dtype_include=object))]),\n",
    "        feats_out_fn=lambda c: c.transformers_[0][-1] + list(c.transformers_[1][1].categories_[0])\n",
    "    )\n",
    "    \n",
    "    patients_numerical = list(patients.select_dtypes(np.number).columns)\n",
    "    patients_categorical = list(patients.select_dtypes([bool, object]).columns)\n",
    "    patients_categorical.remove('immuno_therapy_type')\n",
    "\n",
    "    features_range = list(range(len(patients_numerical) + len(patients_categorical) + 1))\n",
    "    bp = np.cumsum([len(patients_numerical), len(patients_categorical), 1])\n",
    "\n",
    "    clf_patients = Pipeline([\n",
    "        ('imputers', ColumnTransformer([\n",
    "            ('median', SimpleImputer(strategy='median'), patients_numerical),\n",
    "            ('frequent', SimpleImputer(strategy='most_frequent'), patients_categorical)\n",
    "        ], remainder='passthrough')),\n",
    "        ('preprocess', ColumnTransformer([\n",
    "            ('scaler', StandardScaler(), features_range[0:bp[0]]),\n",
    "            ('one-hot', OneHotEncoder(drop='if_binary', handle_unknown='ignore'),\n",
    "             features_range[bp[0]:bp[1]]),\n",
    "            ('count-vec', CountVectorizer(analyzer=set), features_range[bp[1]:bp[2]][0])\n",
    "        ], remainder='passthrough')),\n",
    "    ])\n",
    "\n",
    "    patients_pp = Preprocessor(\n",
    "        pipe=clf_patients,\n",
    "        feats_out_fn=lambda c: (c.named_steps['imputers'].transformers_[0][2] \\\n",
    "                                + list(c.named_steps['preprocess'].transformers_[1][1] \\\n",
    "                                .get_feature_names_out()) \\\n",
    "                                + list(c.named_steps['preprocess'].transformers_[2][1] \\\n",
    "                                .get_feature_names_out()))\n",
    "    )\n",
    "\n",
    "    lesions_pp.fit(lesions.loc[I_train])\n",
    "\n",
    "    lesions_train = lesions_pp.transform(lesions.loc[I_train])\n",
    "    lesions_test = lesions_pp.transform(lesions.loc[I_test])\n",
    "    \n",
    "    patients_pp.fit(patients.loc[I_train])\n",
    "\n",
    "    patients_train = patients_pp.transform(patients.loc[I_train])\n",
    "    patients_test = patients_pp.transform(patients.loc[I_test])\n",
    "    \n",
    "    X_train = pd.merge(lesions_train, patients_train, left_index=True, right_index=True)\n",
    "    X_test = pd.merge(lesions_test, patients_test, left_index=True, right_index=True)\n",
    "    \n",
    "    return X_train, X_test, y_train, y_test"
   ]
  },
  {
   "cell_type": "markdown",
   "id": "f70fab31",
   "metadata": {},
   "source": [
    "### Next"
   ]
  },
  {
   "cell_type": "code",
   "execution_count": 9,
   "id": "78e8b9e7",
   "metadata": {},
   "outputs": [
    {
     "data": {
      "text/plain": [
       "<AxesSubplot:ylabel='Count'>"
      ]
     },
     "execution_count": 9,
     "metadata": {},
     "output_type": "execute_result"
    },
    {
     "data": {
      "image/png": "[encoded data removed]",
      "text/plain": [
       "<Figure size 1080x595.44 with 1 Axes>"
      ]
     },
     "metadata": {
      "needs_background": "light"
     },
     "output_type": "display_data"
    }
   ],
   "source": [
    "sns.histplot(lesions.groupby('gpcr_id').size().to_frame('lesions_per_study'))"
   ]
  },
  {
   "cell_type": "code",
   "execution_count": 15,
   "id": "b31e0500-d983-4672-8f18-fa60e2d587cd",
   "metadata": {},
   "outputs": [],
   "source": [
    "seed = 27\n",
    "test_size, val_size = 0.2, 0.2\n",
    "\n",
    "I_train, I_test, y_train, y_test = \\\n",
    "    train_test_split(labels.index, labels, test_size=test_size, random_state=seed)\n",
    "\n",
    "# Account for already taken up test size\n",
    "val_size = val_size / (1 - test_size)\n",
    "# Compute validation set indices\n",
    "I_train, I_val, y_train, y_val = \\\n",
    "    train_test_split(I_train, y_train, test_size=val_size, random_state=seed)\n",
    "\n",
    "lesions_pp = Preprocessor(\n",
    "    pipe=ColumnTransformer(\n",
    "        [('scaler', StandardScaler(), make_column_selector(dtype_include=np.number)),\n",
    "         ('one-hot', OneHotEncoder(handle_unknown='ignore'), make_column_selector(dtype_include=[bool, object]))]),\n",
    "    feats_out_fn=lambda c: c.transformers_[0][-1] + list(c.transformers_[1][1].categories_[0])\n",
    ")\n",
    "\n",
    "patients_numerical = list(patients.select_dtypes(np.number).columns)\n",
    "patients_categorical = list(patients.select_dtypes([bool, object]).columns)\n",
    "patients_categorical.remove('immuno_therapy_type')\n",
    "\n",
    "features_range = list(range(len(patients_numerical) + len(patients_categorical) + 1))\n",
    "bp = np.cumsum([len(patients_numerical), len(patients_categorical), 1])\n",
    "\n",
    "clf_patients = Pipeline([\n",
    "    ('imputers', ColumnTransformer([\n",
    "        ('median', SimpleImputer(strategy='median'), patients_numerical),\n",
    "        ('frequent', SimpleImputer(strategy='most_frequent'), patients_categorical)\n",
    "    ], remainder='passthrough')),\n",
    "    ('preprocess', ColumnTransformer([\n",
    "        ('scaler', StandardScaler(), features_range[0:bp[0]]),\n",
    "        ('one-hot', OneHotEncoder(handle_unknown='ignore'), features_range[bp[0]:bp[1]]),\n",
    "        ('count-vec', CountVectorizer(analyzer=set), features_range[bp[1]:bp[2]][0])\n",
    "    ], remainder='passthrough')),\n",
    "])\n",
    "\n",
    "patients_pp = Preprocessor(\n",
    "    pipe=clf_patients,\n",
    "    feats_out_fn=lambda c: (c.named_steps['imputers'].transformers_[0][2] \\\n",
    "                            + list(c.named_steps['preprocess'].transformers_[1][1].get_feature_names()) \\\n",
    "                            + c.named_steps['preprocess'].transformers_[2][1].get_feature_names())\n",
    ")"
   ]
  },
  {
   "cell_type": "code",
   "execution_count": 18,
   "id": "193c0c01",
   "metadata": {},
   "outputs": [
    {
     "data": {
      "text/plain": [
       "array(['x0_female', 'x0_male', 'x1_n', 'x1_y', 'x2_n', 'x2_y', 'x3_False',\n",
       "       'x3_True', 'x4_False', 'x5_False', 'x5_True', 'x6_False',\n",
       "       'x6_True', 'x7_False', 'x7_True'], dtype=object)"
      ]
     },
     "execution_count": 18,
     "metadata": {},
     "output_type": "execute_result"
    }
   ],
   "source": [
    "patients_pp.pipe.named_steps['preprocess'].transformers_[1][1].get_feature_names_out()"
   ]
  },
  {
   "cell_type": "code",
   "execution_count": 16,
   "id": "e8733457-5671-468a-80e5-1802b003006d",
   "metadata": {},
   "outputs": [
    {
     "name": "stderr",
     "output_type": "stream",
     "text": [
      "/Users/adhaene/miniconda3/envs/ds/lib/python3.8/site-packages/sklearn/utils/deprecation.py:87: FutureWarning: Function get_feature_names is deprecated; get_feature_names is deprecated in 1.0 and will be removed in 1.2. Please use get_feature_names_out instead.\n",
      "  warnings.warn(msg, category=FutureWarning)\n",
      "/Users/adhaene/miniconda3/envs/ds/lib/python3.8/site-packages/sklearn/utils/deprecation.py:87: FutureWarning: Function get_feature_names is deprecated; get_feature_names is deprecated in 1.0 and will be removed in 1.2. Please use get_feature_names_out instead.\n",
      "  warnings.warn(msg, category=FutureWarning)\n",
      "/Users/adhaene/miniconda3/envs/ds/lib/python3.8/site-packages/sklearn/utils/deprecation.py:87: FutureWarning: Function get_feature_names is deprecated; get_feature_names is deprecated in 1.0 and will be removed in 1.2. Please use get_feature_names_out instead.\n",
      "  warnings.warn(msg, category=FutureWarning)\n"
     ]
    }
   ],
   "source": [
    "lesions_pp.fit(lesions.loc[I_train])\n",
    "\n",
    "lesions_train = lesions_pp.transform(lesions.loc[I_train])\n",
    "lesions_val = lesions_pp.transform(lesions.loc[I_val])\n",
    "lesions_test = lesions_pp.transform(lesions.loc[I_test])\n",
    "\n",
    "patients_pp.fit(patients.loc[I_train])\n",
    "\n",
    "patients_train = patients_pp.transform(patients.loc[I_train])\n",
    "patients_val = patients_pp.transform(patients.loc[I_val])\n",
    "patients_test = patients_pp.transform(patients.loc[I_test])\n",
    "\n",
    "X_train = pd.merge(lesions_train, patients_train, left_index=True, right_index=True)\n",
    "X_val = pd.merge(lesions_val, patients_val, left_index=True, right_index=True)\n",
    "X_test = pd.merge(lesions_test, patients_test, left_index=True, right_index=True)"
   ]
  },
  {
   "cell_type": "code",
   "execution_count": 12,
   "id": "a05f4319-fc3c-4c56-b8f8-fd11bebe328b",
   "metadata": {},
   "outputs": [
    {
     "name": "stdout",
     "output_type": "stream",
     "text": [
      "Processed and split dataset into \n",
      "\t Train: 70 \n",
      "\t Validation: 11 \n",
      "\t Test: 21\n"
     ]
    }
   ],
   "source": [
    "X_train, X_val, X_test, y_train, y_val, y_test = preprocess(labels, lesions, patients)"
   ]
  },
  {
   "cell_type": "code",
   "execution_count": 14,
   "id": "59cb1b2b-2063-4051-bc39-0a857d83e006",
   "metadata": {},
   "outputs": [],
   "source": [
    "X_raw = pd.merge(lesions, patients, left_index=True, right_index=True)\n",
    "X_raw.dropna(inplace=True)\n",
    "\n",
    "numerical = list(X_raw.select_dtypes(np.number).columns)\n",
    "categorical = list(X_raw.select_dtypes([bool, object]).columns)\n",
    "categorical.remove('immuno_therapy_type')\n",
    "\n",
    "ct = ColumnTransformer([\n",
    "            ('one-hot', OneHotEncoder(drop='if_binary'), categorical),\n",
    "            ('count-vec', CountVectorizer(analyzer=set), 'immuno_therapy_type')\n",
    "        ], remainder='passthrough')\n",
    "\n",
    "X_raw = pd.DataFrame(ct.fit_transform(X_raw), index=X_raw.index,\n",
    "                     columns=[*list(map(lambda s: s[3:], ct.transformers_[0][1].get_feature_names())), *ct.transformers_[1][1].get_feature_names(), *numerical])"
   ]
  },
  {
   "cell_type": "code",
   "execution_count": 15,
   "id": "c33668a5-3bdb-4348-a85e-f2faebf149cb",
   "metadata": {},
   "outputs": [
    {
     "data": {
      "application/vnd.jupyter.widget-view+json": {
       "model_id": "a1307af9cbed4f2096f452daa3b033d4",
       "version_major": 2,
       "version_minor": 0
      },
      "text/plain": [
       "interactive(children=(Dropdown(description='feature', index=19, options=('vol_ccm', 'max_suv_val', 'mean_suv_v…"
      ]
     },
     "metadata": {},
     "output_type": "display_data"
    }
   ],
   "source": [
    "@interact(feature=X_train.columns)\n",
    "def show_distribution(feature: str = 'bmi'):\n",
    "    fig, ax = plt.subplots(1, 4)\n",
    "    \n",
    "    sns.histplot(X_raw, x=feature, ax=ax[0])\n",
    "    sns.histplot(X_train, x=feature, ax=ax[1])\n",
    "    sns.histplot(X_val, x=feature, ax=ax[2])\n",
    "    sns.histplot(X_test, x=feature, ax=ax[3])\n",
    "    \n",
    "    plt.show()"
   ]
  },
  {
   "cell_type": "code",
   "execution_count": null,
   "id": "7830daaa-ef2b-4256-990a-5630f106e278",
   "metadata": {},
   "outputs": [],
   "source": [
    "loader_train, loader_val, loader_test = load_dataset(batch_size=8)"
   ]
  },
  {
   "cell_type": "markdown",
   "id": "d099fc81-e95b-4d91-87a8-516e21d2b90a",
   "metadata": {
    "jp-MarkdownHeadingCollapsed": true,
    "tags": []
   },
   "source": [
    "### Fetch data"
   ]
  },
  {
   "cell_type": "code",
   "execution_count": null,
   "id": "cfa19c27-ce79-4f70-a315-58129229b17d",
   "metadata": {},
   "outputs": [],
   "source": [
    "lesions = pd.read_csv(os.path.join(CONNECTION_DIR + DATA_FOLDERS[0], FILES['lesions']))\n",
    "lesions['study_phase'] = lesions.study_name.apply(extract_study_phase)\n",
    "lesions = lesions[(lesions.pars_classification_petct != 'benign')]\n",
    "\n",
    "progression = pd.read_csv(os.path.join(CONNECTION_DIR + DATA_FOLDERS[1], FILES['progression']))\n",
    "\n",
    "studies = pd.read_csv(os.path.join(CONNECTION_DIR + DATA_FOLDERS[0], FILES['studies']))\n",
    "studies.rename(columns={'is_malignant': 'malignant_lesions'}, inplace=True)\n",
    "studies.drop(columns=['n_days_to_treatment_start', 'n_days_to_treatment_end'], inplace=True)\n",
    "\n",
    "patients = pd.read_csv(os.path.join(CONNECTION_DIR + DATA_FOLDERS[0], FILES['patients']))\n",
    "patients['age_at_treatment_start_in_years'] = \\\n",
    "    patients.age_at_treatment_start_in_years.apply(lambda a: 90 if a == '90 or older' else int(a))\n",
    "\n",
    "blood = pd.read_csv(os.path.join(CONNECTION_DIR + DATA_FOLDERS[1], FILES['blood']))\n",
    "blood.drop(columns=['n_days_to_treatment_start', 'n_days_to_treatment_end'], inplace=True)\n",
    "blood.rename(columns={feature: feature.replace('-', '_') for feature in blood.columns}, inplace=True)"
   ]
  },
  {
   "cell_type": "markdown",
   "id": "587b3542-31bf-4b4d-b624-b113a618e298",
   "metadata": {
    "jp-MarkdownHeadingCollapsed": true,
    "tags": []
   },
   "source": [
    "### Create DataFrame"
   ]
  },
  {
   "cell_type": "markdown",
   "id": "4daafb7d-8ffe-40cd-aa28-0c0af3475d74",
   "metadata": {},
   "source": [
    "Filter lesions"
   ]
  },
  {
   "cell_type": "code",
   "execution_count": null,
   "id": "58f4170a-a753-4dc8-a7cb-3a8052953337",
   "metadata": {},
   "outputs": [],
   "source": [
    "lesions = pd.read_csv(os.path.join(CONNECTION_DIR + DATA_FOLDERS[0], FILES['lesions']))\n",
    "# Filter out benign lesions and non-post-1 studies\n",
    "lesions = lesions[(lesions.pars_classification_petct != 'benign') & (lesions.study_name == 'post-01')]\n",
    "\n",
    "# Keep only radiomics features\n",
    "radiomics_features = ['vol_ccm', 'max_suv_val', 'mean_suv_val', 'min_suv_val', 'sd_suv_val']\n",
    "lesions = lesions[['gpcr_id', 'study_name', *radiomics_features, 'assigned_organ']]\n",
    "\n",
    "print(f'Post-1 study lesions extracted for {len(lesions.gpcr_id.unique())} patients')\n",
    "\n",
    "progression = pd.read_csv(os.path.join(CONNECTION_DIR + DATA_FOLDERS[1], FILES['progression']))\n",
    "progression['prediction_score'] = progression.prediction_score.eq('NPD').mul(1)\n",
    "\n",
    "# Add prediction score label from progression df\n",
    "lesions = lesions.merge(progression[['gpcr_id', 'study_name', 'prediction_score']],\n",
    "                        on=['gpcr_id', 'study_name'], how='inner')\n",
    "lesions = lesions[lesions.prediction_score.notna()]\n",
    "lesions.drop(columns='prediction_score', inplace=True)\n",
    "\n",
    "print(f'Post-1 study labels added for {len(lesions.gpcr_id.unique())} patients')"
   ]
  },
  {
   "cell_type": "markdown",
   "id": "8af05d76-1623-4e58-a88d-c9110fcbdf2e",
   "metadata": {},
   "source": [
    "Fetch patient-level information"
   ]
  },
  {
   "cell_type": "code",
   "execution_count": null,
   "id": "c0d22321-5543-4071-a674-a7662f2a603d",
   "metadata": {},
   "outputs": [],
   "source": [
    "patients = pd.read_csv(os.path.join(CONNECTION_DIR + DATA_FOLDERS[0], FILES['patients']))\n",
    "patients['age_at_treatment_start_in_years'] = \\\n",
    "    patients.age_at_treatment_start_in_years.apply(lambda a: 90 if a == '90 or older' else int(a))\n",
    "\n",
    "blood = pd.read_csv(os.path.join(CONNECTION_DIR + DATA_FOLDERS[1], FILES['blood']))\n",
    "blood.rename(columns={feature: feature.replace('-', '_') for feature in blood.columns}, inplace=True)\n",
    "blood['immuno_therapy_type'] = blood.immuno_therapy_type \\\n",
    "    .apply(lambda t: ['ipi', 'nivo'] if t == 'ipinivo' else [t])\n",
    "\n",
    "# Filter in the patient information that we want access to\n",
    "patient_features = ['age_at_treatment_start_in_years']\n",
    "blood_features = ['sex', 'bmi', 'performance_score_ecog', 'ldh_sang_ul', 'neutro_absolus_gl', 'eosini_absolus_gl', \n",
    "                 'leucocytes_sang_gl', 'NRAS_MUTATION', 'BRAF_MUTATION', 'immuno_therapy_type']\n",
    "\n",
    "patients = patients[['gpcr_id', *patient_features]]\n",
    "blood = blood[['gpcr_id', *blood_features]]\n",
    "\n",
    "patients = patients.merge(blood, on='gpcr_id', how='inner')"
   ]
  },
  {
   "cell_type": "markdown",
   "id": "24ebe4f5-a57f-451a-b2a4-dd22e04d46ef",
   "metadata": {},
   "source": [
    "Find out who could be a potential patient and split the patients into train-test datasets"
   ]
  },
  {
   "cell_type": "code",
   "execution_count": null,
   "id": "adc58112-b3e9-45c2-90d9-cd30112ee169",
   "metadata": {},
   "outputs": [],
   "source": [
    "potential_patients = list(set(lesions.gpcr_id) & set(patients.gpcr_id))\n",
    "\n",
    "progression.set_index('gpcr_id', inplace=True)\n",
    "y = progression[progression.study_name == 'post-01'].loc[potential_patients].prediction_score\n",
    "\n",
    "print(f'The intersection of datasets showed {len(potential_patients)} potential datapoints.')"
   ]
  },
  {
   "cell_type": "code",
   "execution_count": null,
   "id": "d511eaea-4009-43cc-aa31-9764e0a24ef4",
   "metadata": {},
   "outputs": [],
   "source": [
    "class Preprocessor:\n",
    "    \n",
    "    def __init__(self, clf, feature_callback: Callable) -> None:\n",
    "        self.clf = clf\n",
    "        self.feature_callback = feature_callback\n",
    "        \n",
    "    def get_feature_names(self) -> List[str]:\n",
    "        return self.feature_callback(self.clf)\n",
    "    \n",
    "    def fit(self, df: pd.DataFrame) -> None:\n",
    "        \n",
    "        self.clf.fit(df) \n",
    "    \n",
    "    def transform(self, df: pd.DataFrame, index: List = None, columns: List[str] = None) -> pd.DataFrame:\n",
    "        \n",
    "        if index == None:\n",
    "            index = df.index\n",
    "           \n",
    "        if columns == None:\n",
    "            columns = self.get_feature_names()\n",
    "    \n",
    "        return pd.DataFrame(self.clf.transform(df), index=index, columns=columns)"
   ]
  },
  {
   "cell_type": "markdown",
   "id": "fedacf9b-2e9b-479b-806a-a924dbdd34e1",
   "metadata": {
    "tags": []
   },
   "source": [
    "### Split the dataset into training and testing patients"
   ]
  },
  {
   "cell_type": "code",
   "execution_count": null,
   "id": "88ba7673-fccf-426f-88ba-bee07df2ce6d",
   "metadata": {},
   "outputs": [],
   "source": [
    "I_train, I_test, y_train, y_test = train_test_split(potential_patients, y, test_size=0.3, random_state=27)"
   ]
  },
  {
   "cell_type": "code",
   "execution_count": null,
   "id": "81cf3b9e-2dca-4f56-9a7e-51caaeaed94f",
   "metadata": {},
   "outputs": [],
   "source": [
    "lesions.set_index('gpcr_id', inplace=True)\n",
    "lesions.drop(columns=['study_name'], inplace=True)\n",
    "\n",
    "patients.set_index('gpcr_id', inplace=True)"
   ]
  },
  {
   "cell_type": "code",
   "execution_count": null,
   "id": "c06c2084-d3d3-4956-aa13-b0a6b27cc0eb",
   "metadata": {},
   "outputs": [],
   "source": [
    "lesions_pp = Preprocessor(\n",
    "    clf=ColumnTransformer(\n",
    "        [('scaler', StandardScaler(), make_column_selector(dtype_include=np.number)),\n",
    "         ('one-hot', OneHotEncoder(), make_column_selector(dtype_include=object))]),\n",
    "    feature_callback=lambda c: c.transformers_[0][-1] + list(c.transformers_[1][1].categories_[0])\n",
    ")\n",
    "\n",
    "lesions_pp.fit(lesions.loc[I_train])\n",
    "\n",
    "lesions_train = lesions_pp.transform(lesions.loc[I_train])\n",
    "lesions_test = lesions_pp.transform(lesions.loc[I_test])"
   ]
  },
  {
   "cell_type": "code",
   "execution_count": null,
   "id": "14293f9b-6376-47e4-8b75-d2f03eeac436",
   "metadata": {},
   "outputs": [],
   "source": [
    "patients_numerical = list(patients.select_dtypes(np.number).columns)\n",
    "patients_categorical = list(patients.select_dtypes(object).columns)\n",
    "patients_categorical.remove('immuno_therapy_type')\n",
    "\n",
    "features_range = list(range(len(patients_numerical) + len(patients_categorical) + 1))\n",
    "bp = np.cumsum([len(patients_numerical), len(patients_categorical), 1])\n",
    "\n",
    "clf_patients = Pipeline([\n",
    "    ('imputers', ColumnTransformer([\n",
    "        ('median', SimpleImputer(strategy='median'), patients_numerical),\n",
    "        ('frequent', SimpleImputer(strategy='most_frequent'), patients_categorical)\n",
    "    ], remainder='passthrough')),\n",
    "    ('preprocess', ColumnTransformer([\n",
    "        ('scaler', StandardScaler(), features_range[0:bp[0]]),\n",
    "        ('one-hot', OneHotEncoder(drop='if_binary'), features_range[bp[0]:bp[1]]),\n",
    "        ('count-vec', CountVectorizer(analyzer=set), features_range[bp[1]:bp[2]][0])\n",
    "    ], remainder='passthrough')),\n",
    "])\n",
    "\n",
    "patients_pp = Preprocessor(\n",
    "    clf=clf_patients,\n",
    "    feature_callback=lambda c: c.named_steps['imputers'].transformers_[0][2] \\\n",
    "        + c.named_steps['imputers'].transformers_[1][2] \\\n",
    "        + c.named_steps['preprocess'].transformers_[2][1].get_feature_names()\n",
    ")\n",
    "\n",
    "patients_pp.fit(patients.loc[I_train])\n",
    "\n",
    "patients_train = patients_pp.transform(patients.loc[I_train])\n",
    "patients_test = patients_pp.transform(patients.loc[I_test])"
   ]
  },
  {
   "cell_type": "code",
   "execution_count": null,
   "id": "6c14d6d9-0ff4-4fcc-8b54-4718d8800abb",
   "metadata": {},
   "outputs": [],
   "source": [
    "X_train = pd.merge(lesions_train, patients_train, left_index=True, right_index=True)\n",
    "X_test = pd.merge(lesions_test, patients_test, left_index=True, right_index=True)"
   ]
  },
  {
   "cell_type": "code",
   "execution_count": null,
   "id": "99168f9a-1f78-4d80-a896-0bd72aa75dd5",
   "metadata": {},
   "outputs": [],
   "source": [
    "@interact(feature=X_train.columns)\n",
    "def show_distribution(feature: str = 'bmi'):\n",
    "    fig, ax = plt.subplots(1, 2)\n",
    "    \n",
    "    sns.histplot(X_train, x=feature, ax=ax[0])\n",
    "    sns.histplot(X_test, x=feature, ax=ax[1])\n",
    "    \n",
    "    plt.show()"
   ]
  }
 ],
 "metadata": {
  "interpreter": {
   "hash": "947aba3e9b2ee8e94b9a4f86dd9db3bac2e8c16055cb5eb2c317ce168f84ce4b"
  },
  "kernelspec": {
   "display_name": "Python 3.8.10 64-bit ('ds': conda)",
   "name": "python3"
  },
  "language_info": {
   "codemirror_mode": {
    "name": "ipython",
    "version": 3
   },
   "file_extension": ".py",
   "mimetype": "text/x-python",
   "name": "python",
   "nbconvert_exporter": "python",
   "pygments_lexer": "ipython3",
   "version": "3.8.12"
  }
 },
 "nbformat": 4,
 "nbformat_minor": 5
}
