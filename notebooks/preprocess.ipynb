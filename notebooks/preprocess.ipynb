{
 "cells": [
  {
   "cell_type": "markdown",
   "id": "c9d0495b-5f2a-4b7c-ac4a-ccf4dd7afaa0",
   "metadata": {
    "jp-MarkdownHeadingCollapsed": true,
    "tags": []
   },
   "source": [
    "### Import libraries and dataset connection"
   ]
  },
  {
   "cell_type": "code",
   "execution_count": 1,
   "id": "b72b4756-0a37-46e0-a578-8d2f2b801ce8",
   "metadata": {},
   "outputs": [],
   "source": [
    "import os, sys\n",
    "from typing import List\n",
    "from collections.abc import Callable"
   ]
  },
  {
   "cell_type": "code",
   "execution_count": 2,
   "id": "6bf62774-aa47-4218-bbc9-105eb3690166",
   "metadata": {},
   "outputs": [],
   "source": [
    "import pandas as pd\n",
    "import numpy as np"
   ]
  },
  {
   "cell_type": "code",
   "execution_count": 3,
   "id": "b6c1f588-4e2d-41cb-bdac-eccd5cf8236f",
   "metadata": {},
   "outputs": [],
   "source": [
    "from sklearn.preprocessing import OneHotEncoder, StandardScaler, MultiLabelBinarizer\n",
    "from sklearn.base import BaseEstimator, TransformerMixin\n",
    "from sklearn.impute import SimpleImputer\n",
    "from sklearn.model_selection import train_test_split\n",
    "from sklearn.pipeline import Pipeline\n",
    "from sklearn.compose import ColumnTransformer, make_column_selector\n",
    "from sklearn.feature_extraction.text import CountVectorizer"
   ]
  },
  {
   "cell_type": "code",
   "execution_count": 4,
   "id": "2b5189c4-05a0-462e-b35c-8b8abf2c50f9",
   "metadata": {},
   "outputs": [],
   "source": [
    "import torch\n",
    "from torch_geometric.data import Data\n",
    "from torch_geometric.loader import DataLoader"
   ]
  },
  {
   "cell_type": "code",
   "execution_count": 5,
   "id": "2b664558-7cff-44eb-a023-14e97a0169bd",
   "metadata": {},
   "outputs": [],
   "source": [
    "import matplotlib.pyplot as plt\n",
    "from matplotlib import rcParams\n",
    "rcParams['figure.figsize'] = 15, 8.27\n",
    "import seaborn as sns\n",
    "import plotly.express as px\n",
    "import plotly.io as pio\n",
    "pio.templates.default = 'seaborn'"
   ]
  },
  {
   "cell_type": "code",
   "execution_count": 6,
   "id": "c23b8aae-db20-47d0-af60-640754ba9b2a",
   "metadata": {},
   "outputs": [],
   "source": [
    "from ipywidgets import interact, interact_manual, FloatSlider"
   ]
  },
  {
   "cell_type": "code",
   "execution_count": 7,
   "id": "88e9ceed-e61a-4fe6-8b55-00d2a4f005ea",
   "metadata": {},
   "outputs": [],
   "source": [
    "sys.path.append(os.path.abspath('..'))\n",
    "\n",
    "from src.utils import FILES, DATA_FOLDERS, extract_study_phase, load_dataset, fetch_data, preprocess, create_dataset\n",
    "\n",
    "CONNECTION_DIR = '/Users/arnauddhaene/Downloads/'"
   ]
  },
  {
   "cell_type": "markdown",
   "id": "7e1008dc-0f5b-4746-a247-ab568a5435c4",
   "metadata": {
    "tags": []
   },
   "source": [
    "### Testing my implementation"
   ]
  },
  {
   "cell_type": "code",
   "execution_count": 8,
   "id": "331b1a0d-aa1a-4314-bb53-fa6b43841a56",
   "metadata": {},
   "outputs": [
    {
     "name": "stdout",
     "output_type": "stream",
     "text": [
      "Post-1 study lesions extracted for 102 patients\n",
      "Post-1 study labels added for 102 patients\n",
      "The intersection of datasets showed 102 potential datapoints.\n"
     ]
    }
   ],
   "source": [
    "labels, lesions, patients = fetch_data()"
   ]
  },
  {
   "cell_type": "code",
   "execution_count": 12,
   "id": "a05f4319-fc3c-4c56-b8f8-fd11bebe328b",
   "metadata": {},
   "outputs": [
    {
     "name": "stdout",
     "output_type": "stream",
     "text": [
      "Processed and split dataset into \n",
      "\t Train: 70 \n",
      "\t Validation: 11 \n",
      "\t Test: 21\n"
     ]
    }
   ],
   "source": [
    "X_train, X_val, X_test, y_train, y_val, y_test = preprocess(labels, lesions, patients)"
   ]
  },
  {
   "cell_type": "code",
   "execution_count": 14,
   "id": "59cb1b2b-2063-4051-bc39-0a857d83e006",
   "metadata": {},
   "outputs": [],
   "source": [
    "X_raw = pd.merge(lesions, patients, left_index=True, right_index=True)\n",
    "X_raw.dropna(inplace=True)\n",
    "\n",
    "numerical = list(X_raw.select_dtypes(np.number).columns)\n",
    "categorical = list(X_raw.select_dtypes([bool, object]).columns)\n",
    "categorical.remove('immuno_therapy_type')\n",
    "\n",
    "ct = ColumnTransformer([\n",
    "            ('one-hot', OneHotEncoder(drop='if_binary'), categorical),\n",
    "            ('count-vec', CountVectorizer(analyzer=set), 'immuno_therapy_type')\n",
    "        ], remainder='passthrough')\n",
    "\n",
    "X_raw = pd.DataFrame(ct.fit_transform(X_raw), index=X_raw.index,\n",
    "                     columns=[*list(map(lambda s: s[3:], ct.transformers_[0][1].get_feature_names())), *ct.transformers_[1][1].get_feature_names(), *numerical])"
   ]
  },
  {
   "cell_type": "code",
   "execution_count": 15,
   "id": "c33668a5-3bdb-4348-a85e-f2faebf149cb",
   "metadata": {},
   "outputs": [
    {
     "data": {
      "application/vnd.jupyter.widget-view+json": {
       "model_id": "a1307af9cbed4f2096f452daa3b033d4",
       "version_major": 2,
       "version_minor": 0
      },
      "text/plain": [
       "interactive(children=(Dropdown(description='feature', index=19, options=('vol_ccm', 'max_suv_val', 'mean_suv_v…"
      ]
     },
     "metadata": {},
     "output_type": "display_data"
    }
   ],
   "source": [
    "@interact(feature=X_train.columns)\n",
    "def show_distribution(feature: str = 'bmi'):\n",
    "    fig, ax = plt.subplots(1, 4)\n",
    "    \n",
    "    sns.histplot(X_raw, x=feature, ax=ax[0])\n",
    "    sns.histplot(X_train, x=feature, ax=ax[1])\n",
    "    sns.histplot(X_val, x=feature, ax=ax[2])\n",
    "    sns.histplot(X_test, x=feature, ax=ax[3])\n",
    "    \n",
    "    plt.show()"
   ]
  },
  {
   "cell_type": "code",
   "execution_count": null,
   "id": "7830daaa-ef2b-4256-990a-5630f106e278",
   "metadata": {},
   "outputs": [],
   "source": [
    "loader_train, loader_val, loader_test = load_dataset(batch_size=8)"
   ]
  },
  {
   "cell_type": "markdown",
   "id": "d099fc81-e95b-4d91-87a8-516e21d2b90a",
   "metadata": {
    "jp-MarkdownHeadingCollapsed": true,
    "tags": []
   },
   "source": [
    "### Fetch data"
   ]
  },
  {
   "cell_type": "code",
   "execution_count": null,
   "id": "cfa19c27-ce79-4f70-a315-58129229b17d",
   "metadata": {},
   "outputs": [],
   "source": [
    "lesions = pd.read_csv(os.path.join(CONNECTION_DIR + DATA_FOLDERS[0], FILES['lesions']))\n",
    "lesions['study_phase'] = lesions.study_name.apply(extract_study_phase)\n",
    "lesions = lesions[(lesions.pars_classification_petct != 'benign')]\n",
    "\n",
    "progression = pd.read_csv(os.path.join(CONNECTION_DIR + DATA_FOLDERS[1], FILES['progression']))\n",
    "\n",
    "studies = pd.read_csv(os.path.join(CONNECTION_DIR + DATA_FOLDERS[0], FILES['studies']))\n",
    "studies.rename(columns={'is_malignant': 'malignant_lesions'}, inplace=True)\n",
    "studies.drop(columns=['n_days_to_treatment_start', 'n_days_to_treatment_end'], inplace=True)\n",
    "\n",
    "patients = pd.read_csv(os.path.join(CONNECTION_DIR + DATA_FOLDERS[0], FILES['patients']))\n",
    "patients['age_at_treatment_start_in_years'] = \\\n",
    "    patients.age_at_treatment_start_in_years.apply(lambda a: 90 if a == '90 or older' else int(a))\n",
    "\n",
    "blood = pd.read_csv(os.path.join(CONNECTION_DIR + DATA_FOLDERS[1], FILES['blood']))\n",
    "blood.drop(columns=['n_days_to_treatment_start', 'n_days_to_treatment_end'], inplace=True)\n",
    "blood.rename(columns={feature: feature.replace('-', '_') for feature in blood.columns}, inplace=True)"
   ]
  },
  {
   "cell_type": "markdown",
   "id": "587b3542-31bf-4b4d-b624-b113a618e298",
   "metadata": {
    "jp-MarkdownHeadingCollapsed": true,
    "tags": []
   },
   "source": [
    "### Create DataFrame"
   ]
  },
  {
   "cell_type": "markdown",
   "id": "4daafb7d-8ffe-40cd-aa28-0c0af3475d74",
   "metadata": {},
   "source": [
    "Filter lesions"
   ]
  },
  {
   "cell_type": "code",
   "execution_count": null,
   "id": "58f4170a-a753-4dc8-a7cb-3a8052953337",
   "metadata": {},
   "outputs": [],
   "source": [
    "lesions = pd.read_csv(os.path.join(CONNECTION_DIR + DATA_FOLDERS[0], FILES['lesions']))\n",
    "# Filter out benign lesions and non-post-1 studies\n",
    "lesions = lesions[(lesions.pars_classification_petct != 'benign') & (lesions.study_name == 'post-01')]\n",
    "\n",
    "# Keep only radiomics features\n",
    "radiomics_features = ['vol_ccm', 'max_suv_val', 'mean_suv_val', 'min_suv_val', 'sd_suv_val']\n",
    "lesions = lesions[['gpcr_id', 'study_name', *radiomics_features, 'assigned_organ']]\n",
    "\n",
    "print(f'Post-1 study lesions extracted for {len(lesions.gpcr_id.unique())} patients')\n",
    "\n",
    "progression = pd.read_csv(os.path.join(CONNECTION_DIR + DATA_FOLDERS[1], FILES['progression']))\n",
    "progression['prediction_score'] = progression.prediction_score.eq('NPD').mul(1)\n",
    "\n",
    "# Add prediction score label from progression df\n",
    "lesions = lesions.merge(progression[['gpcr_id', 'study_name', 'prediction_score']],\n",
    "                        on=['gpcr_id', 'study_name'], how='inner')\n",
    "lesions = lesions[lesions.prediction_score.notna()]\n",
    "lesions.drop(columns='prediction_score', inplace=True)\n",
    "\n",
    "print(f'Post-1 study labels added for {len(lesions.gpcr_id.unique())} patients')"
   ]
  },
  {
   "cell_type": "markdown",
   "id": "8af05d76-1623-4e58-a88d-c9110fcbdf2e",
   "metadata": {},
   "source": [
    "Fetch patient-level information"
   ]
  },
  {
   "cell_type": "code",
   "execution_count": null,
   "id": "c0d22321-5543-4071-a674-a7662f2a603d",
   "metadata": {},
   "outputs": [],
   "source": [
    "patients = pd.read_csv(os.path.join(CONNECTION_DIR + DATA_FOLDERS[0], FILES['patients']))\n",
    "patients['age_at_treatment_start_in_years'] = \\\n",
    "    patients.age_at_treatment_start_in_years.apply(lambda a: 90 if a == '90 or older' else int(a))\n",
    "\n",
    "blood = pd.read_csv(os.path.join(CONNECTION_DIR + DATA_FOLDERS[1], FILES['blood']))\n",
    "blood.rename(columns={feature: feature.replace('-', '_') for feature in blood.columns}, inplace=True)\n",
    "blood['immuno_therapy_type'] = blood.immuno_therapy_type \\\n",
    "    .apply(lambda t: ['ipi', 'nivo'] if t == 'ipinivo' else [t])\n",
    "\n",
    "# Filter in the patient information that we want access to\n",
    "patient_features = ['age_at_treatment_start_in_years']\n",
    "blood_features = ['sex', 'bmi', 'performance_score_ecog', 'ldh_sang_ul', 'neutro_absolus_gl', 'eosini_absolus_gl', \n",
    "                 'leucocytes_sang_gl', 'NRAS_MUTATION', 'BRAF_MUTATION', 'immuno_therapy_type']\n",
    "\n",
    "patients = patients[['gpcr_id', *patient_features]]\n",
    "blood = blood[['gpcr_id', *blood_features]]\n",
    "\n",
    "patients = patients.merge(blood, on='gpcr_id', how='inner')"
   ]
  },
  {
   "cell_type": "markdown",
   "id": "24ebe4f5-a57f-451a-b2a4-dd22e04d46ef",
   "metadata": {},
   "source": [
    "Find out who could be a potential patient and split the patients into train-test datasets"
   ]
  },
  {
   "cell_type": "code",
   "execution_count": null,
   "id": "adc58112-b3e9-45c2-90d9-cd30112ee169",
   "metadata": {},
   "outputs": [],
   "source": [
    "potential_patients = list(set(lesions.gpcr_id) & set(patients.gpcr_id))\n",
    "\n",
    "progression.set_index('gpcr_id', inplace=True)\n",
    "y = progression[progression.study_name == 'post-01'].loc[potential_patients].prediction_score\n",
    "\n",
    "print(f'The intersection of datasets showed {len(potential_patients)} potential datapoints.')"
   ]
  },
  {
   "cell_type": "code",
   "execution_count": null,
   "id": "d511eaea-4009-43cc-aa31-9764e0a24ef4",
   "metadata": {},
   "outputs": [],
   "source": [
    "class Preprocessor:\n",
    "    \n",
    "    def __init__(self, clf, feature_callback: Callable) -> None:\n",
    "        self.clf = clf\n",
    "        self.feature_callback = feature_callback\n",
    "        \n",
    "    def get_feature_names(self) -> List[str]:\n",
    "        return self.feature_callback(self.clf)\n",
    "    \n",
    "    def fit(self, df: pd.DataFrame) -> None:\n",
    "        \n",
    "        self.clf.fit(df) \n",
    "    \n",
    "    def transform(self, df: pd.DataFrame, index: List = None, columns: List[str] = None) -> pd.DataFrame:\n",
    "        \n",
    "        if index == None:\n",
    "            index = df.index\n",
    "           \n",
    "        if columns == None:\n",
    "            columns = self.get_feature_names()\n",
    "    \n",
    "        return pd.DataFrame(self.clf.transform(df), index=index, columns=columns)"
   ]
  },
  {
   "cell_type": "markdown",
   "id": "fedacf9b-2e9b-479b-806a-a924dbdd34e1",
   "metadata": {
    "tags": []
   },
   "source": [
    "### Split the dataset into training and testing patients"
   ]
  },
  {
   "cell_type": "code",
   "execution_count": null,
   "id": "88ba7673-fccf-426f-88ba-bee07df2ce6d",
   "metadata": {},
   "outputs": [],
   "source": [
    "I_train, I_test, y_train, y_test = train_test_split(potential_patients, y, test_size=0.3, random_state=27)"
   ]
  },
  {
   "cell_type": "code",
   "execution_count": null,
   "id": "81cf3b9e-2dca-4f56-9a7e-51caaeaed94f",
   "metadata": {},
   "outputs": [],
   "source": [
    "lesions.set_index('gpcr_id', inplace=True)\n",
    "lesions.drop(columns=['study_name'], inplace=True)\n",
    "\n",
    "patients.set_index('gpcr_id', inplace=True)"
   ]
  },
  {
   "cell_type": "code",
   "execution_count": null,
   "id": "c06c2084-d3d3-4956-aa13-b0a6b27cc0eb",
   "metadata": {},
   "outputs": [],
   "source": [
    "lesions_pp = Preprocessor(\n",
    "    clf=ColumnTransformer(\n",
    "        [('scaler', StandardScaler(), make_column_selector(dtype_include=np.number)),\n",
    "         ('one-hot', OneHotEncoder(), make_column_selector(dtype_include=object))]),\n",
    "    feature_callback=lambda c: c.transformers_[0][-1] + list(c.transformers_[1][1].categories_[0])\n",
    ")\n",
    "\n",
    "lesions_pp.fit(lesions.loc[I_train])\n",
    "\n",
    "lesions_train = lesions_pp.transform(lesions.loc[I_train])\n",
    "lesions_test = lesions_pp.transform(lesions.loc[I_test])"
   ]
  },
  {
   "cell_type": "code",
   "execution_count": null,
   "id": "14293f9b-6376-47e4-8b75-d2f03eeac436",
   "metadata": {},
   "outputs": [],
   "source": [
    "patients_numerical = list(patients.select_dtypes(np.number).columns)\n",
    "patients_categorical = list(patients.select_dtypes(object).columns)\n",
    "patients_categorical.remove('immuno_therapy_type')\n",
    "\n",
    "features_range = list(range(len(patients_numerical) + len(patients_categorical) + 1))\n",
    "bp = np.cumsum([len(patients_numerical), len(patients_categorical), 1])\n",
    "\n",
    "clf_patients = Pipeline([\n",
    "    ('imputers', ColumnTransformer([\n",
    "        ('median', SimpleImputer(strategy='median'), patients_numerical),\n",
    "        ('frequent', SimpleImputer(strategy='most_frequent'), patients_categorical)\n",
    "    ], remainder='passthrough')),\n",
    "    ('preprocess', ColumnTransformer([\n",
    "        ('scaler', StandardScaler(), features_range[0:bp[0]]),\n",
    "        ('one-hot', OneHotEncoder(drop='if_binary'), features_range[bp[0]:bp[1]]),\n",
    "        ('count-vec', CountVectorizer(analyzer=set), features_range[bp[1]:bp[2]][0])\n",
    "    ], remainder='passthrough')),\n",
    "])\n",
    "\n",
    "patients_pp = Preprocessor(\n",
    "    clf=clf_patients,\n",
    "    feature_callback=lambda c: c.named_steps['imputers'].transformers_[0][2] \\\n",
    "        + c.named_steps['imputers'].transformers_[1][2] \\\n",
    "        + c.named_steps['preprocess'].transformers_[2][1].get_feature_names()\n",
    ")\n",
    "\n",
    "patients_pp.fit(patients.loc[I_train])\n",
    "\n",
    "patients_train = patients_pp.transform(patients.loc[I_train])\n",
    "patients_test = patients_pp.transform(patients.loc[I_test])"
   ]
  },
  {
   "cell_type": "code",
   "execution_count": null,
   "id": "6c14d6d9-0ff4-4fcc-8b54-4718d8800abb",
   "metadata": {},
   "outputs": [],
   "source": [
    "X_train = pd.merge(lesions_train, patients_train, left_index=True, right_index=True)\n",
    "X_test = pd.merge(lesions_test, patients_test, left_index=True, right_index=True)"
   ]
  },
  {
   "cell_type": "code",
   "execution_count": null,
   "id": "99168f9a-1f78-4d80-a896-0bd72aa75dd5",
   "metadata": {},
   "outputs": [],
   "source": [
    "@interact(feature=X_train.columns)\n",
    "def show_distribution(feature: str = 'bmi'):\n",
    "    fig, ax = plt.subplots(1, 2)\n",
    "    \n",
    "    sns.histplot(X_train, x=feature, ax=ax[0])\n",
    "    sns.histplot(X_test, x=feature, ax=ax[1])\n",
    "    \n",
    "    plt.show()"
   ]
  }
 ],
 "metadata": {
  "kernelspec": {
   "display_name": "Datascience",
   "language": "python",
   "name": "datascience"
  },
  "language_info": {
   "codemirror_mode": {
    "name": "ipython",
    "version": 3
   },
   "file_extension": ".py",
   "mimetype": "text/x-python",
   "name": "python",
   "nbconvert_exporter": "python",
   "pygments_lexer": "ipython3",
   "version": "3.8.10"
  }
 },
 "nbformat": 4,
 "nbformat_minor": 5
}
