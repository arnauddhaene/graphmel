{
 "cells": [
  {
   "cell_type": "code",
   "execution_count": 3,
   "metadata": {},
   "outputs": [],
   "source": [
    "import os, sys\n",
    "sys.path.append(os.path.abspath('..'))\n",
    "\n",
    "import pandas as pd\n",
    "import numpy as np\n",
    "\n",
    "import matplotlib as mpl\n",
    "import matplotlib.pyplot as plt\n",
    "plt.style.use('../assets/graphmel.mplstyle')\n",
    "\n",
    "import seaborn as sns\n",
    "\n",
    "from src.utils import FILES, extract_study_phase, CONNECTION_DIR, DATA_FOLDERS, standardise_column_names"
   ]
  },
  {
   "cell_type": "code",
   "execution_count": 3,
   "metadata": {},
   "outputs": [],
   "source": [
    "# LESIONS\n",
    "lesions = pd.read_csv(os.path.join(CONNECTION_DIR + DATA_FOLDERS[4], FILES[DATA_FOLDERS[4]]['lesions']))\n",
    "shape = pd.read_csv(os.path.join(CONNECTION_DIR + DATA_FOLDERS[4], FILES[DATA_FOLDERS[4]]['shape']),\n",
    "                    index_col=0)\n",
    "shape = standardise_column_names(shape)\n",
    "\n",
    "# Merge with radiomics\n",
    "lesions = lesions.merge(shape, on=['gpcr_id', 'study_name', 'roi_id'], how='inner')\n",
    "\n",
    "lesions = lesions[(lesions.study_name.isin(['pre-01', 'post-01']))]\n",
    "\n",
    "# LABELS\n",
    "progression = pd.read_csv(os.path.join(CONNECTION_DIR + DATA_FOLDERS[1],\n",
    "                                        FILES[DATA_FOLDERS[1]]['progression']))\n",
    "\n",
    "# PATIENT-LEVEL\n",
    "patients = pd.read_csv(os.path.join(CONNECTION_DIR + DATA_FOLDERS[2], FILES[DATA_FOLDERS[2]]['patients']))\n",
    "studies = pd.read_csv(os.path.join(CONNECTION_DIR + DATA_FOLDERS[0], FILES[DATA_FOLDERS[0]]['studies']))\n",
    "# Fix encoding for 90+ patients\n",
    "patients['age_at_treatment_start_in_years'] = \\\n",
    "    patients.age_at_treatment_start_in_years.apply(lambda a: 90 if a == '90 or older' else int(a))\n",
    "\n",
    "blood = pd.read_csv(os.path.join(CONNECTION_DIR + DATA_FOLDERS[4], FILES[DATA_FOLDERS[4]]['blood']))\n",
    "blood.rename(columns={feature: feature.replace('-', '_') for feature in blood.columns}, inplace=True)\n",
    "# Listify immunotherapy type to create multi-feature encoding\n",
    "blood['immuno_therapy_type'] = blood.immuno_therapy_type \\\n",
    "    .apply(lambda t: ['ipi', 'nivo'] if t == 'ipinivo' else [t])\n",
    "    \n",
    "radiomics = pd.read_csv(os.path.join(CONNECTION_DIR, DATA_FOLDERS[3],\n",
    "                                    FILES[DATA_FOLDERS[3]]['radiomics']))"
   ]
  },
  {
   "cell_type": "code",
   "execution_count": 51,
   "metadata": {},
   "outputs": [],
   "source": [
    "potential_patients = list(set(lesions[lesions.study_name == 'post-01'].gpcr_id) \\\n",
    "                              & set(patients.gpcr_id) & set(radiomics.gpcr_id) & set(blood.gpcr_id) \\\n",
    "                              & set(progression[progression.study_name == 'post-02'].gpcr_id) \\\n",
    "                              & set(studies[studies.study_name.isin(['pre-01', 'post-01'])].gpcr_id))"
   ]
  },
  {
   "cell_type": "code",
   "execution_count": 70,
   "metadata": {},
   "outputs": [],
   "source": [
    "def unhash(l: list) -> str:\n",
    "    if len(l) == 1:\n",
    "        return l[0]\n",
    "    elif len(l) == 2:\n",
    "        return l[0] + ' ' + l[1]\n",
    "\n",
    "blood['immunotherapy_type'] = blood.immuno_therapy_type.apply(unhash)"
   ]
  },
  {
   "cell_type": "code",
   "execution_count": 71,
   "metadata": {},
   "outputs": [],
   "source": [
    "patients = patients[patients.gpcr_id.isin(potential_patients)]\n",
    "blood = blood[blood.gpcr_id.isin(potential_patients)]\n",
    "progression = progression[(progression.gpcr_id.isin(potential_patients))\n",
    "                          & (progression.study_name == 'post-02')]\n",
    "\n",
    "cohort = patients.merge(\n",
    "    blood[['gpcr_id', 'sex', 'NRAS_MUTATION', 'BRAF_MUTATION', 'immunotherapy_type']].drop_duplicates(), \n",
    "    on='gpcr_id')\n",
    "\n",
    "cohort = cohort.merge(\n",
    "    progression[['gpcr_id', 'pseudorecist']],\n",
    "    on='gpcr_id')"
   ]
  },
  {
   "cell_type": "code",
   "execution_count": 72,
   "metadata": {},
   "outputs": [],
   "source": [
    "age_bins = [0, 18, 25, 40, 50, 60, 75, 90, 100]\n",
    "cohort['age'] = pd.cut(cohort.age_at_treatment_start_in_years, age_bins)\n",
    "\n",
    "cohort.rename(columns={'sex': 'gender'}, inplace=True)"
   ]
  },
  {
   "cell_type": "code",
   "execution_count": 75,
   "metadata": {},
   "outputs": [
    {
     "name": "stdout",
     "output_type": "stream",
     "text": [
      "\\begin{tabular}{lrr}\n",
      "\\toprule\n",
      "pseudorecist &  NPD &  PD \\\\\n",
      "gender &      &     \\\\\n",
      "\\midrule\n",
      "female &   24 &   5 \\\\\n",
      "male   &   21 &  11 \\\\\n",
      "\\bottomrule\n",
      "\\end{tabular}\n",
      "\n"
     ]
    }
   ],
   "source": [
    "print(cohort.pivot_table(index=['gender'], columns='pseudorecist', values='gpcr_id', aggfunc=pd.Series.nunique).to_latex())"
   ]
  },
  {
   "cell_type": "code",
   "execution_count": 76,
   "metadata": {},
   "outputs": [
    {
     "name": "stdout",
     "output_type": "stream",
     "text": [
      "\\begin{tabular}{lrr}\n",
      "\\toprule\n",
      "pseudorecist &   NPD &   PD \\\\\n",
      "age      &       &      \\\\\n",
      "\\midrule\n",
      "(25, 40] &   2.0 &  NaN \\\\\n",
      "(40, 50] &   5.0 &  NaN \\\\\n",
      "(50, 60] &  10.0 &  3.0 \\\\\n",
      "(60, 75] &  13.0 &  9.0 \\\\\n",
      "(75, 90] &  15.0 &  4.0 \\\\\n",
      "\\bottomrule\n",
      "\\end{tabular}\n",
      "\n"
     ]
    }
   ],
   "source": [
    "print(cohort.pivot_table(index=['age'], columns='pseudorecist', values='gpcr_id', aggfunc=pd.Series.nunique).to_latex())"
   ]
  },
  {
   "cell_type": "code",
   "execution_count": 77,
   "metadata": {},
   "outputs": [
    {
     "name": "stdout",
     "output_type": "stream",
     "text": [
      "\\begin{tabular}{lrr}\n",
      "\\toprule\n",
      "pseudorecist &  NPD &  PD \\\\\n",
      "NRAS\\_MUTATION &      &     \\\\\n",
      "\\midrule\n",
      "n             &   26 &  12 \\\\\n",
      "y             &   14 &   4 \\\\\n",
      "\\bottomrule\n",
      "\\end{tabular}\n",
      "\n"
     ]
    }
   ],
   "source": [
    "print(cohort.pivot_table(index=['NRAS_MUTATION'], columns='pseudorecist', values='gpcr_id', aggfunc=pd.Series.nunique).to_latex())"
   ]
  },
  {
   "cell_type": "code",
   "execution_count": 64,
   "metadata": {},
   "outputs": [
    {
     "data": {
      "text/html": [
       "<div>\n",
       "<style scoped>\n",
       "    .dataframe tbody tr th:only-of-type {\n",
       "        vertical-align: middle;\n",
       "    }\n",
       "\n",
       "    .dataframe tbody tr th {\n",
       "        vertical-align: top;\n",
       "    }\n",
       "\n",
       "    .dataframe thead th {\n",
       "        text-align: right;\n",
       "    }\n",
       "</style>\n",
       "<table border=\"1\" class=\"dataframe\">\n",
       "  <thead>\n",
       "    <tr style=\"text-align: right;\">\n",
       "      <th>pseudorecist</th>\n",
       "      <th>NPD</th>\n",
       "      <th>PD</th>\n",
       "    </tr>\n",
       "    <tr>\n",
       "      <th>BRAF_MUTATION</th>\n",
       "      <th></th>\n",
       "      <th></th>\n",
       "    </tr>\n",
       "  </thead>\n",
       "  <tbody>\n",
       "    <tr>\n",
       "      <th>n</th>\n",
       "      <td>27</td>\n",
       "      <td>10</td>\n",
       "    </tr>\n",
       "    <tr>\n",
       "      <th>y</th>\n",
       "      <td>15</td>\n",
       "      <td>6</td>\n",
       "    </tr>\n",
       "  </tbody>\n",
       "</table>\n",
       "</div>"
      ],
      "text/plain": [
       "pseudorecist   NPD  PD\n",
       "BRAF_MUTATION         \n",
       "n               27  10\n",
       "y               15   6"
      ]
     },
     "execution_count": 64,
     "metadata": {},
     "output_type": "execute_result"
    }
   ],
   "source": [
    "cohort.pivot_table(index=['BRAF_MUTATION'], columns='pseudorecist', values='gpcr_id', aggfunc=pd.Series.nunique)"
   ]
  },
  {
   "cell_type": "code",
   "execution_count": 78,
   "metadata": {},
   "outputs": [
    {
     "name": "stdout",
     "output_type": "stream",
     "text": [
      "\\begin{tabular}{lrr}\n",
      "\\toprule\n",
      "pseudorecist &  NPD &  PD \\\\\n",
      "immunotherapy\\_type &      &     \\\\\n",
      "\\midrule\n",
      "ipi                &    7 &   6 \\\\\n",
      "ipi nivo           &   20 &   5 \\\\\n",
      "nivo               &   14 &   2 \\\\\n",
      "pembro             &   14 &   5 \\\\\n",
      "\\bottomrule\n",
      "\\end{tabular}\n",
      "\n"
     ]
    }
   ],
   "source": [
    "print(cohort.pivot_table(index=['immunotherapy_type'], columns='pseudorecist', values='gpcr_id', aggfunc=pd.Series.nunique).to_latex())"
   ]
  },
  {
   "cell_type": "code",
   "execution_count": 33,
   "metadata": {},
   "outputs": [
    {
     "data": {
      "text/plain": [
       "Text(0.5, 0, 'Metabolic Tumour Volume (ccm)')"
      ]
     },
     "execution_count": 33,
     "metadata": {},
     "output_type": "execute_result"
    },
    {
     "data": {
      "image/png": "[encoded data removed]",
      "text/plain": [
       "<Figure size 678x419 with 1 Axes>"
      ]
     },
     "metadata": {
      "needs_background": "light"
     },
     "output_type": "display_data"
    }
   ],
   "source": [
    "fig, ax = plt.subplots()\n",
    "\n",
    "sns.barplot(data=organ, x='mtv', y='pseudorecist', ax=ax)\n",
    "\n",
    "ax.set_xlabel('Metabolic Tumour Volume (ccm)')"
   ]
  },
  {
   "cell_type": "code",
   "execution_count": 24,
   "metadata": {},
   "outputs": [],
   "source": [
    "organ = lesions[lesions.study_name.isin(['pre-01', 'post-01'])].groupby(['gpcr_id', 'study_name', 'assigned_organ']).mtv.mean().reset_index().merge(\n",
    "    progression[['gpcr_id', 'study_name', 'pseudorecist']], on=['gpcr_id', 'study_name'], how='inner'\n",
    ")"
   ]
  },
  {
   "cell_type": "code",
   "execution_count": 25,
   "metadata": {},
   "outputs": [
    {
     "data": {
      "text/plain": [
       "<AxesSubplot:xlabel='assigned_organ', ylabel='mtv'>"
      ]
     },
     "execution_count": 25,
     "metadata": {},
     "output_type": "execute_result"
    },
    {
     "data": {
      "image/png": "[encoded data removed]",
      "text/plain": [
       "<Figure size 678x419 with 1 Axes>"
      ]
     },
     "metadata": {
      "needs_background": "light"
     },
     "output_type": "display_data"
    }
   ],
   "source": [
    "sns.barplot(data=organ, y='mtv', x='assigned_organ', hue='pseudorecist')"
   ]
  },
  {
   "cell_type": "code",
   "execution_count": 34,
   "metadata": {},
   "outputs": [
    {
     "data": {
      "text/plain": [
       "Index(['gpcr_id', 'n_days_to_treatment_start', 'n_days_to_treatment_end',\n",
       "       'sex', 'bmi', 'has_brain_mets', 'performance_score_ecog',\n",
       "       'eosini_absolus_gl', 'hemoglobine_sang_gl', 'gfr_cal_mlmin173m2',\n",
       "       'potassium_sang_mmoll', 'asat_sang_ul', 'plaquettes_sang_gl',\n",
       "       'pal_sang_ul', 'proteine_c_reacsang_mgl', 'mono_absolus_gl',\n",
       "       'alat_sang_ul', 'bili_totale_sang_umoll', 'baso_absolus_gl',\n",
       "       'ggt_sang_ul', 'leucocytes_sang_gl', 'neutro_absolus_gl',\n",
       "       'creatinine_sang_umoll', 'lympho_absolus_gl', 'albumine_sang_gl',\n",
       "       'ldh_sang_ul', 'calcium_sang_mmoll', 'eGFRCKD2', 'eGFRCG', 'X67',\n",
       "       'NRAS_MUTATION', 'NRAS_MUT_TYPE', 'BRAF_MUTATION', 'BRAF_MUT_TYPE',\n",
       "       'concomittant_tvec', 'concomittant_LAG3', 'prior_targeted_therapy',\n",
       "       'prior_treatment', 'immuno_therapy_type', 'nivo_maintenance'],\n",
       "      dtype='object')"
      ]
     },
     "execution_count": 34,
     "metadata": {},
     "output_type": "execute_result"
    }
   ],
   "source": [
    "blood.columns"
   ]
  },
  {
   "cell_type": "code",
   "execution_count": 64,
   "metadata": {},
   "outputs": [],
   "source": [
    "from src.utils import load_dataset, preprocess, fetch_data\n",
    "import networkx as nx\n",
    "\n",
    "import torch\n",
    "from torch_geometric.data import Data\n",
    "from torch_geometric.utils import to_networkx\n",
    "\n",
    "\n",
    "plt.style.use('../assets/graphmel.mplstyle')"
   ]
  },
  {
   "cell_type": "code",
   "execution_count": 30,
   "metadata": {},
   "outputs": [],
   "source": [
    "dataset_train, dataset_test = load_dataset(test_size=0, seed=12, dense=False, distance=1.0, suspicious=0.5)"
   ]
  },
  {
   "cell_type": "code",
   "execution_count": 44,
   "metadata": {},
   "outputs": [],
   "source": [
    "graph = dataset_train[23]"
   ]
  },
  {
   "cell_type": "code",
   "execution_count": 50,
   "metadata": {},
   "outputs": [],
   "source": [
    "X_train, _, _, _ = preprocess(*fetch_data(suspicious=0.5))\n",
    "\n",
    "# list(enumerate(X_train.columns))"
   ]
  },
  {
   "cell_type": "code",
   "execution_count": 51,
   "metadata": {},
   "outputs": [
    {
     "data": {
      "text/plain": [
       "Data(x=[9, 19], edge_index=[2, 48], y=[1], study_features=[9, 13], patient_features=[2], graph_sizes=[1], split_sizes=[1], aux_y=[9, 1], edge_weight=[48], num_nodes=9)"
      ]
     },
     "execution_count": 51,
     "metadata": {},
     "output_type": "execute_result"
    }
   ],
   "source": [
    "graph"
   ]
  },
  {
   "cell_type": "code",
   "execution_count": 107,
   "metadata": {},
   "outputs": [
    {
     "data": {
      "image/png": "[encoded data removed]",
      "text/plain": [
       "<Figure size 500x309.017 with 3 Axes>"
      ]
     },
     "metadata": {
      "needs_background": "light"
     },
     "output_type": "display_data"
    }
   ],
   "source": [
    "fig, ax = plt.subplots()\n",
    "\n",
    "edge_cmap = plt.cm.Reds\n",
    "edge_sm = plt.cm.ScalarMappable(cmap=edge_cmap, norm=plt.Normalize(min(graph.edge_weight), max(graph.edge_weight)))\n",
    "\n",
    "node_cmap = plt.cm.Blues\n",
    "node_sm = plt.cm.ScalarMappable(cmap=node_cmap, norm=plt.Normalize(graph.x[:, 2].min(), graph.x[:, 2].max()))\n",
    "\n",
    "nx.draw_networkx(to_networkx(graph), width=2.0,\n",
    "                 node_color=graph.x[:, 2], cmap=node_cmap,\n",
    "                 edge_color=reordered_edge_weights, edge_cmap=edge_cmap,\n",
    "                 ax=ax)\n",
    "\n",
    "plt.colorbar(node_sm, label='Metabolic Tumor Volume')\n",
    "plt.colorbar(edge_sm, label='Edge weight')\n",
    "\n",
    "plt.tight_layout()\n",
    "\n",
    "ax.grid(False)\n",
    "\n",
    "#########\n",
    "filename = '../report/figures/example_graph.png'\n",
    "\n",
    "# Set accurate dimensions for LaTeX report\n",
    "golden_ratio = (5 ** 0.5 - 1) / 2\n",
    "latex_width = 5.0  # in inches\n",
    "fig.set_size_inches(latex_width, latex_width * golden_ratio)\n",
    "\n",
    "plt.savefig(filename, bbox_inches='tight')"
   ]
  },
  {
   "cell_type": "code",
   "execution_count": 100,
   "metadata": {},
   "outputs": [],
   "source": [
    "i, j = graph.edge_index.numpy()\n",
    "\n",
    "old_order = dict(zip(zip(i, j), graph.edge_weight.numpy()))"
   ]
  },
  {
   "cell_type": "code",
   "execution_count": 102,
   "metadata": {},
   "outputs": [
    {
     "data": {
      "text/plain": [
       "[0.515134,\n",
       " 0.49528268,\n",
       " 0.9300367,\n",
       " 0.30051956,\n",
       " 0.12912636,\n",
       " 0.05645708,\n",
       " 0.9711315,\n",
       " 0.5007433,\n",
       " 0.083531424,\n",
       " 0.42316738,\n",
       " 0.24521227,\n",
       " 0.8012414,\n",
       " 0.31627008,\n",
       " 0.30051956,\n",
       " 0.17849454,\n",
       " 0.8490554,\n",
       " 0.37866724,\n",
       " 0.11229284,\n",
       " 0.12912636,\n",
       " 0.42316738,\n",
       " 0.55713916,\n",
       " 0.09356767,\n",
       " 0.05645708,\n",
       " 0.24521227,\n",
       " 0.17849454,\n",
       " 0.16376951,\n",
       " 0.47038817,\n",
       " 0.96134824,\n",
       " 0.515134,\n",
       " 0.9711315,\n",
       " 0.8490554,\n",
       " 0.6340466,\n",
       " 0.49528268,\n",
       " 0.16376951,\n",
       " 0.49096006,\n",
       " 0.9300367,\n",
       " 0.5007433,\n",
       " 0.8012414,\n",
       " 0.37866724,\n",
       " 0.55713916,\n",
       " 0.47038817,\n",
       " 0.6340466,\n",
       " 0.083531424,\n",
       " 0.31627008,\n",
       " 0.11229284,\n",
       " 0.09356767,\n",
       " 0.96134824,\n",
       " 0.49096006]"
      ]
     },
     "execution_count": 102,
     "metadata": {},
     "output_type": "execute_result"
    }
   ],
   "source": [
    "reordered_edge_weights = []\n",
    "\n",
    "for e in to_networkx(graph).edges:\n",
    "    reordered_edge_weights.append(old_order[e])\n",
    "    \n",
    "reordered_edge_weights"
   ]
  },
  {
   "cell_type": "code",
   "execution_count": 78,
   "metadata": {},
   "outputs": [
    {
     "data": {
      "text/plain": [
       "[((0, 5), 0.515134),\n",
       " ((0, 6), 0.49528268),\n",
       " ((0, 7), 0.9300367),\n",
       " ((1, 2), 0.30051956),\n",
       " ((1, 3), 0.12912636),\n",
       " ((1, 4), 0.05645708),\n",
       " ((1, 5), 0.9711315),\n",
       " ((1, 7), 0.5007433),\n",
       " ((1, 8), 0.083531424),\n",
       " ((2, 3), 0.42316738),\n",
       " ((2, 4), 0.24521227),\n",
       " ((2, 7), 0.8012414),\n",
       " ((2, 8), 0.31627008),\n",
       " ((2, 1), 0.17849454),\n",
       " ((3, 4), 0.8490554),\n",
       " ((3, 5), 0.37866724),\n",
       " ((3, 7), 0.11229284),\n",
       " ((3, 8), 0.55713916),\n",
       " ((3, 1), 0.09356767),\n",
       " ((3, 2), 0.16376951),\n",
       " ((4, 7), 0.47038817),\n",
       " ((4, 8), 0.96134824),\n",
       " ((4, 1), 0.6340466),\n",
       " ((4, 2), 0.49096006),\n",
       " ((4, 3), 0.515134),\n",
       " ((5, 6), 0.49528268),\n",
       " ((5, 7), 0.9300367),\n",
       " ((5, 8), 0.30051956),\n",
       " ((5, 0), 0.12912636),\n",
       " ((5, 1), 0.05645708),\n",
       " ((5, 3), 0.9711315),\n",
       " ((6, 7), 0.5007433),\n",
       " ((6, 0), 0.083531424),\n",
       " ((6, 5), 0.42316738),\n",
       " ((7, 8), 0.24521227),\n",
       " ((7, 0), 0.8012414),\n",
       " ((7, 1), 0.31627008),\n",
       " ((7, 2), 0.17849454),\n",
       " ((7, 3), 0.8490554),\n",
       " ((7, 4), 0.37866724),\n",
       " ((7, 5), 0.11229284),\n",
       " ((7, 6), 0.55713916),\n",
       " ((8, 1), 0.09356767),\n",
       " ((8, 2), 0.16376951),\n",
       " ((8, 3), 0.47038817),\n",
       " ((8, 4), 0.96134824),\n",
       " ((8, 5), 0.6340466),\n",
       " ((8, 7), 0.49096006)]"
      ]
     },
     "execution_count": 78,
     "metadata": {},
     "output_type": "execute_result"
    }
   ],
   "source": [
    "list(zip(list(to_networkx(graph).edges), graph.edge_weight.numpy()))"
   ]
  },
  {
   "cell_type": "code",
   "execution_count": null,
   "metadata": {},
   "outputs": [],
   "source": []
  }
 ],
 "metadata": {
  "interpreter": {
   "hash": "e9cd456f33e8c0f0b0c9106ed30df5302e2e2620523c78dbe8f958bc614398aa"
  },
  "kernelspec": {
   "display_name": "Python 3.8.12 64-bit ('ds': conda)",
   "language": "python",
   "name": "python3"
  },
  "language_info": {
   "codemirror_mode": {
    "name": "ipython",
    "version": 3
   },
   "file_extension": ".py",
   "mimetype": "text/x-python",
   "name": "python",
   "nbconvert_exporter": "python",
   "pygments_lexer": "ipython3",
   "version": "3.8.12"
  },
  "orig_nbformat": 4
 },
 "nbformat": 4,
 "nbformat_minor": 2
}
