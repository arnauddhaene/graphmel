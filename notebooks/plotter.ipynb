{
 "cells": [
  {
   "cell_type": "code",
   "metadata": {
    "cell_id": "00000-96f23b87-5f98-4a62-8e0d-9282865f36b8",
    "deepnote_cell_type": "code"
   },
   "source": "import pandas as pd\nimport numpy as np\n\nimport seaborn as sns\nimport matplotlib as mpl\nimport matplotlib.pyplot as plt",
   "execution_count": null,
   "outputs": []
  },
  {
   "cell_type": "markdown",
   "source": "## Testing Metrics",
   "metadata": {
    "cell_id": "00001-2b7395d5-1891-4f05-bcb1-2053cc910b43",
    "deepnote_cell_type": "markdown"
   }
  },
  {
   "cell_type": "code",
   "metadata": {
    "cell_id": "00002-3ddfe2c1-03dd-43fd-a622-0c31d1fd9807",
    "deepnote_cell_type": "code"
   },
   "source": "mlp = pd.read_csv(\"../MLP_testing_metrics.csv\")\nmlp[\"model\"] = \"MLP\"\n\nsmlp = pd.read_csv(\"../SiameseMLP_testing_metrics.csv\")\nsmlp[\"model\"] = \"SiameseMLP\"\n\ncnn = pd.read_csv(\"../ConvNet_testing_metrics.csv\")\ncnn[\"model\"] = \"ConvNet\"\n\nscnn = pd.read_csv(\"../SiameseConvNet_testing_metrics.csv\")\nscnn[\"model\"] = \"SiameseConvNet\"",
   "execution_count": null,
   "outputs": []
  },
  {
   "cell_type": "code",
   "metadata": {
    "cell_id": "00003-6e02555c-9198-473e-9a6d-f2a0e24e9eb7",
    "deepnote_cell_type": "code"
   },
   "source": "test = pd.concat([mlp, smlp, cnn, scnn])",
   "execution_count": null,
   "outputs": []
  },
  {
   "cell_type": "code",
   "metadata": {
    "cell_id": "00004-62404757-bcf3-4038-8f87-4b71c106d98a",
    "deepnote_cell_type": "code"
   },
   "source": "fig, ax = plt.subplots()\n\np = sns.barplot(data=test, y=\"accuracy\", x=\"model\", ci=\"sd\", capsize=.2)\n\nfor bar in p.patches:\n    p.annotate(format(bar.get_height(), '.4f'), \n                (bar.get_x() + bar.get_width() / 2., bar.get_height() + .03),\n                ha='center', va='center', xytext=(0, 9), textcoords='offset points')",
   "execution_count": null,
   "outputs": []
  },
  {
   "cell_type": "code",
   "metadata": {
    "cell_id": "00005-3a4a6712-8158-4339-8362-9f39f8409284",
    "deepnote_cell_type": "code"
   },
   "source": "metrics = test[['accuracy', 'precision', 'recall', 'model']]\n\ntable = metrics.groupby(by='model', as_index=True).agg(\n    {'accuracy': ['mean', 'std'], 'precision': ['mean', 'std'], 'recall': ['mean', 'std']}\n)\n\ntable = table * 100\n\nprint(table.to_latex(float_format=\"%.2f\"))",
   "execution_count": null,
   "outputs": []
  },
  {
   "cell_type": "markdown",
   "source": "## Training Metrics",
   "metadata": {
    "cell_id": "00006-89ba54a8-fb2b-4a77-9a97-363ca9385023",
    "deepnote_cell_type": "markdown"
   }
  },
  {
   "cell_type": "code",
   "metadata": {
    "cell_id": "00007-5b3920b7-18c7-484f-940f-55c72391d688",
    "deepnote_cell_type": "code"
   },
   "source": "mlp = pd.read_csv(\"../MLP_training_metrics.csv\")\nmlp[\"model\"] = \"MLP\"\n\nsmlp = pd.read_csv(\"../SiameseMLP_training_metrics.csv\")\nsmlp[\"model\"] = \"SiameseMLP\"\n\ncnn = pd.read_csv(\"../ConvNet_training_metrics.csv\")\ncnn[\"model\"] = \"ConvNet\"\n\nscnn = pd.read_csv(\"../SiameseConvNet_training_metrics.csv\")\nscnn[\"model\"] = \"SiameseConvNet\"",
   "execution_count": null,
   "outputs": []
  },
  {
   "cell_type": "code",
   "metadata": {
    "cell_id": "00008-70cbe8a9-193d-4846-ada4-810acf3c0ffa",
    "deepnote_cell_type": "code"
   },
   "source": "train = pd.concat([mlp, smlp, cnn, scnn])",
   "execution_count": null,
   "outputs": []
  },
  {
   "cell_type": "code",
   "metadata": {
    "cell_id": "00009-00fb123f-d4c8-4726-82eb-55fad08b30bb",
    "deepnote_cell_type": "code"
   },
   "source": "SMALL_SIZE = 10\nMEDIUM_SIZE = 12\nLARGE_SIZE = 16\n\nmpl.rcParams['font.family'] = 'serif'\nmpl.rcParams['font.size'] = SMALL_SIZE\nmpl.rcParams['axes.titlesize'] = SMALL_SIZE\nmpl.rcParams['axes.labelsize'] = MEDIUM_SIZE\nmpl.rcParams['xtick.labelsize'] = SMALL_SIZE\nmpl.rcParams['ytick.labelsize'] = SMALL_SIZE\nmpl.rcParams['legend.fontsize'] = SMALL_SIZE\nmpl.rcParams['figure.titlesize'] = LARGE_SIZE\n\nmpl.rcParams['axes.grid'] = True\nmpl.rcParams['axes.facecolor'] = '#F5F5F5'\nmpl.rcParams['axes.axisbelow'] = True\nmpl.rcParams['grid.linestyle'] = ':'",
   "execution_count": null,
   "outputs": []
  },
  {
   "cell_type": "code",
   "metadata": {
    "cell_id": "00010-5d6d2e63-6b6a-4fc9-8922-af825f2becd0",
    "deepnote_cell_type": "code"
   },
   "source": "fig, axes = plt.subplots(1, 2, figsize=(6, 3.25), dpi=100)\n\ng = sns.lineplot(data=train, x='epoch', y='loss', hue='model', ax=axes[0], legend='brief')\nsns.lineplot(data=train, x='epoch', y='accuracy', hue='model', ax=axes[1], legend=False)\n\nh,l = g.axes.get_legend_handles_labels()\ng.axes.legend_.remove()\nlgd = fig.legend(h,l, ncol=4, bbox_to_anchor=(1.0, 1.10))\n\nplt.tight_layout()\nfig.savefig('../figures/training.png', bbox_extra_artists=(lgd,), bbox_inches='tight', dpi=fig.dpi)\nplt.show()",
   "execution_count": null,
   "outputs": []
  },
  {
   "cell_type": "code",
   "metadata": {
    "cell_id": "00011-0b0d3914-c83e-4be9-8505-9362c51b57a0",
    "deepnote_cell_type": "code"
   },
   "source": "metrics = train[train.epoch == 24][['accuracy', 'model']]\n\ntable = metrics.groupby(by='model', as_index=True).agg(\n    {'accuracy': ['mean', 'std']}\n)\n\ntable = table * 100\n\nprint(table.to_latex(float_format=\"%.2f\"))",
   "execution_count": null,
   "outputs": []
  },
  {
   "cell_type": "code",
   "metadata": {
    "cell_id": "00012-c0f7c094-9b28-47da-96b2-f16df0ca9339",
    "deepnote_cell_type": "code"
   },
   "source": "",
   "execution_count": null,
   "outputs": []
  },
  {
   "cell_type": "markdown",
   "source": "<a style='text-decoration:none;line-height:16px;display:flex;color:#5B5B62;padding:10px;justify-content:end;' href='https://deepnote.com?utm_source=created-in-deepnote-cell&projectId=7360151b-146e-499a-b01b-835ca18c34fa' target=\"_blank\">\n<img alt='Created in deepnote.com' style='display:inline;max-height:16px;margin:0px;margin-right:7.5px;' src='data:image/svg+xml;base64,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' > </img>\nCreated in <span style='font-weight:600;margin-left:4px;'>Deepnote</span></a>",
   "metadata": {
    "tags": [],
    "created_in_deepnote_cell": true,
    "deepnote_cell_type": "markdown"
   }
  }
 ],
 "nbformat": 4,
 "nbformat_minor": 2,
 "metadata": {
  "language_info": {
   "codemirror_mode": {
    "name": "ipython",
    "version": 3
   },
   "file_extension": ".py",
   "mimetype": "text/x-python",
   "name": "python",
   "nbconvert_exporter": "python",
   "pygments_lexer": "ipython3",
   "version": "3.8.5"
  },
  "orig_nbformat": 2,
  "kernelspec": {
   "name": "python385jvsc74a57bd0cd2edb166c77106dd34676ef998b71cb296d61cfffa45bb0b64ff16e7b773021",
   "display_name": "Python 3.8.5 64-bit ('ds': conda)"
  },
  "deepnote_notebook_id": "99da1601-3dc5-4389-9639-73d649c8c025",
  "deepnote": {},
  "deepnote_execution_queue": []
 }
}