{
 "metadata": {
  "language_info": {
   "codemirror_mode": {
    "name": "ipython",
    "version": 3
   },
   "file_extension": ".py",
   "mimetype": "text/x-python",
   "name": "python",
   "nbconvert_exporter": "python",
   "pygments_lexer": "ipython3",
   "version": "3.8.5"
  },
  "orig_nbformat": 2,
  "kernelspec": {
   "name": "python385jvsc74a57bd0cd2edb166c77106dd34676ef998b71cb296d61cfffa45bb0b64ff16e7b773021",
   "display_name": "Python 3.8.5 64-bit ('ds': conda)"
  }
 },
 "nbformat": 4,
 "nbformat_minor": 2,
 "cells": [
  {
   "cell_type": "code",
   "execution_count": null,
   "metadata": {},
   "outputs": [],
   "source": [
    "import pandas as pd\n",
    "import numpy as np\n",
    "\n",
    "import seaborn as sns\n",
    "import matplotlib as mpl\n",
    "import matplotlib.pyplot as plt"
   ]
  },
  {
   "source": [
    "## Testing Metrics"
   ],
   "cell_type": "markdown",
   "metadata": {}
  },
  {
   "cell_type": "code",
   "execution_count": null,
   "metadata": {},
   "outputs": [],
   "source": [
    "mlp = pd.read_csv(\"../MLP_testing_metrics.csv\")\n",
    "mlp[\"model\"] = \"MLP\"\n",
    "\n",
    "smlp = pd.read_csv(\"../SiameseMLP_testing_metrics.csv\")\n",
    "smlp[\"model\"] = \"SiameseMLP\"\n",
    "\n",
    "cnn = pd.read_csv(\"../ConvNet_testing_metrics.csv\")\n",
    "cnn[\"model\"] = \"ConvNet\"\n",
    "\n",
    "scnn = pd.read_csv(\"../SiameseConvNet_testing_metrics.csv\")\n",
    "scnn[\"model\"] = \"SiameseConvNet\""
   ]
  },
  {
   "cell_type": "code",
   "execution_count": null,
   "metadata": {},
   "outputs": [],
   "source": [
    "test = pd.concat([mlp, smlp, cnn, scnn])"
   ]
  },
  {
   "cell_type": "code",
   "execution_count": null,
   "metadata": {},
   "outputs": [],
   "source": [
    "fig, ax = plt.subplots()\n",
    "\n",
    "p = sns.barplot(data=test, y=\"accuracy\", x=\"model\", ci=\"sd\", capsize=.2)\n",
    "\n",
    "for bar in p.patches:\n",
    "    p.annotate(format(bar.get_height(), '.4f'), \n",
    "                (bar.get_x() + bar.get_width() / 2., bar.get_height() + .03),\n",
    "                ha='center', va='center', xytext=(0, 9), textcoords='offset points')"
   ]
  },
  {
   "cell_type": "code",
   "execution_count": null,
   "metadata": {},
   "outputs": [],
   "source": [
    "metrics = test[['accuracy', 'precision', 'recall', 'model']]\n",
    "\n",
    "table = metrics.groupby(by='model', as_index=True).agg(\n",
    "    {'accuracy': ['mean', 'std'], 'precision': ['mean', 'std'], 'recall': ['mean', 'std']}\n",
    ")\n",
    "\n",
    "table = table * 100\n",
    "\n",
    "print(table.to_latex(float_format=\"%.2f\"))"
   ]
  },
  {
   "source": [
    "## Training Metrics"
   ],
   "cell_type": "markdown",
   "metadata": {}
  },
  {
   "cell_type": "code",
   "execution_count": null,
   "metadata": {},
   "outputs": [],
   "source": [
    "mlp = pd.read_csv(\"../MLP_training_metrics.csv\")\n",
    "mlp[\"model\"] = \"MLP\"\n",
    "\n",
    "smlp = pd.read_csv(\"../SiameseMLP_training_metrics.csv\")\n",
    "smlp[\"model\"] = \"SiameseMLP\"\n",
    "\n",
    "cnn = pd.read_csv(\"../ConvNet_training_metrics.csv\")\n",
    "cnn[\"model\"] = \"ConvNet\"\n",
    "\n",
    "scnn = pd.read_csv(\"../SiameseConvNet_training_metrics.csv\")\n",
    "scnn[\"model\"] = \"SiameseConvNet\""
   ]
  },
  {
   "cell_type": "code",
   "execution_count": null,
   "metadata": {},
   "outputs": [],
   "source": [
    "train = pd.concat([mlp, smlp, cnn, scnn])"
   ]
  },
  {
   "cell_type": "code",
   "execution_count": null,
   "metadata": {},
   "outputs": [],
   "source": [
    "SMALL_SIZE = 10\n",
    "MEDIUM_SIZE = 12\n",
    "LARGE_SIZE = 16\n",
    "\n",
    "mpl.rcParams['font.family'] = 'serif'\n",
    "mpl.rcParams['font.size'] = SMALL_SIZE\n",
    "mpl.rcParams['axes.titlesize'] = SMALL_SIZE\n",
    "mpl.rcParams['axes.labelsize'] = MEDIUM_SIZE\n",
    "mpl.rcParams['xtick.labelsize'] = SMALL_SIZE\n",
    "mpl.rcParams['ytick.labelsize'] = SMALL_SIZE\n",
    "mpl.rcParams['legend.fontsize'] = SMALL_SIZE\n",
    "mpl.rcParams['figure.titlesize'] = LARGE_SIZE\n",
    "\n",
    "mpl.rcParams['axes.grid'] = True\n",
    "mpl.rcParams['axes.facecolor'] = '#F5F5F5'\n",
    "mpl.rcParams['axes.axisbelow'] = True\n",
    "mpl.rcParams['grid.linestyle'] = ':'"
   ]
  },
  {
   "cell_type": "code",
   "execution_count": null,
   "metadata": {},
   "outputs": [],
   "source": [
    "fig, axes = plt.subplots(1, 2, figsize=(6, 3.25), dpi=100)\n",
    "\n",
    "g = sns.lineplot(data=train, x='epoch', y='loss', hue='model', ax=axes[0], legend='brief')\n",
    "sns.lineplot(data=train, x='epoch', y='accuracy', hue='model', ax=axes[1], legend=False)\n",
    "\n",
    "h,l = g.axes.get_legend_handles_labels()\n",
    "g.axes.legend_.remove()\n",
    "lgd = fig.legend(h,l, ncol=4, bbox_to_anchor=(1.0, 1.10))\n",
    "\n",
    "plt.tight_layout()\n",
    "fig.savefig('../figures/training.png', bbox_extra_artists=(lgd,), bbox_inches='tight', dpi=fig.dpi)\n",
    "plt.show()"
   ]
  },
  {
   "cell_type": "code",
   "execution_count": null,
   "metadata": {},
   "outputs": [],
   "source": [
    "metrics = train[train.epoch == 24][['accuracy', 'model']]\n",
    "\n",
    "table = metrics.groupby(by='model', as_index=True).agg(\n",
    "    {'accuracy': ['mean', 'std']}\n",
    ")\n",
    "\n",
    "table = table * 100\n",
    "\n",
    "print(table.to_latex(float_format=\"%.2f\"))"
   ]
  },
  {
   "cell_type": "code",
   "execution_count": null,
   "metadata": {},
   "outputs": [],
   "source": []
  }
 ]
}