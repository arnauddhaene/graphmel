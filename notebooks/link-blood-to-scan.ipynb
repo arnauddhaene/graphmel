{
 "cells": [
  {
   "cell_type": "markdown",
   "id": "c9d0495b-5f2a-4b7c-ac4a-ccf4dd7afaa0",
   "metadata": {
    "tags": []
   },
   "source": [
    "### Import libraries and dataset connection"
   ]
  },
  {
   "cell_type": "code",
   "execution_count": 1,
   "id": "b72b4756-0a37-46e0-a578-8d2f2b801ce8",
   "metadata": {},
   "outputs": [],
   "source": [
    "import os, sys\n",
    "from typing import List\n",
    "from collections.abc import Callable"
   ]
  },
  {
   "cell_type": "code",
   "execution_count": 2,
   "id": "6bf62774-aa47-4218-bbc9-105eb3690166",
   "metadata": {},
   "outputs": [],
   "source": [
    "import pandas as pd\n",
    "import numpy as np"
   ]
  },
  {
   "cell_type": "code",
   "execution_count": 3,
   "id": "b6c1f588-4e2d-41cb-bdac-eccd5cf8236f",
   "metadata": {},
   "outputs": [],
   "source": [
    "from sklearn.preprocessing import OneHotEncoder, StandardScaler\n",
    "from sklearn.impute import SimpleImputer\n",
    "from sklearn.model_selection import train_test_split\n",
    "from sklearn.pipeline import Pipeline\n",
    "from sklearn.compose import ColumnTransformer, make_column_selector\n",
    "from sklearn.feature_extraction.text import CountVectorizer\n",
    "from sklearn.base import BaseEstimator"
   ]
  },
  {
   "cell_type": "code",
   "execution_count": 4,
   "id": "2b5189c4-05a0-462e-b35c-8b8abf2c50f9",
   "metadata": {},
   "outputs": [],
   "source": [
    "import torch\n",
    "from torch_geometric.data import Data\n",
    "from torch_geometric.loader import DataLoader"
   ]
  },
  {
   "cell_type": "code",
   "execution_count": 5,
   "id": "2b664558-7cff-44eb-a023-14e97a0169bd",
   "metadata": {},
   "outputs": [],
   "source": [
    "import matplotlib.pyplot as plt\n",
    "from matplotlib import rcParams\n",
    "rcParams['figure.figsize'] = 15, 8.27\n",
    "import seaborn as sns\n",
    "import plotly.express as px\n",
    "import plotly.io as pio\n",
    "pio.templates.default = 'seaborn'\n",
    "\n",
    "top_h_legend = dict(orientation='h', yanchor=\"bottom\", y=1.02)"
   ]
  },
  {
   "cell_type": "code",
   "execution_count": 6,
   "id": "c23b8aae-db20-47d0-af60-640754ba9b2a",
   "metadata": {},
   "outputs": [],
   "source": [
    "from ipywidgets import interact, interact_manual, FloatSlider"
   ]
  },
  {
   "cell_type": "code",
   "execution_count": 50,
   "id": "88e9ceed-e61a-4fe6-8b55-00d2a4f005ea",
   "metadata": {},
   "outputs": [],
   "source": [
    "sys.path.append(os.path.abspath('..'))\n",
    "\n",
    "from src.utils import FILES, DATA_FOLDERS, extract_study_phase, load_dataset, fetch_data, preprocess, \\\n",
    "    create_dataset, Preprocessor, standardise_column_names\n",
    "\n",
    "CONNECTION_DIR = '/Users/adhaene/Downloads/'"
   ]
  },
  {
   "cell_type": "markdown",
   "id": "d099fc81-e95b-4d91-87a8-516e21d2b90a",
   "metadata": {
    "tags": []
   },
   "source": [
    "### Fetch data"
   ]
  },
  {
   "cell_type": "code",
   "execution_count": 9,
   "metadata": {},
   "outputs": [],
   "source": [
    "suspicious, verbose = .5, 1"
   ]
  },
  {
   "cell_type": "code",
   "execution_count": null,
   "metadata": {},
   "outputs": [],
   "source": [
    "dataset_train, dataset_test = load_dataset()"
   ]
  }
 ],
 "metadata": {
  "interpreter": {
   "hash": "e9cd456f33e8c0f0b0c9106ed30df5302e2e2620523c78dbe8f958bc614398aa"
  },
  "kernelspec": {
   "display_name": "Python 3.8.12 64-bit ('ds': conda)",
   "language": "python",
   "name": "python3"
  },
  "language_info": {
   "codemirror_mode": {
    "name": "ipython",
    "version": 3
   },
   "file_extension": ".py",
   "mimetype": "text/x-python",
   "name": "python",
   "nbconvert_exporter": "python",
   "pygments_lexer": "ipython3",
   "version": "3.8.12"
  },
  "orig_nbformat": 4
 },
 "nbformat": 4,
 "nbformat_minor": 2
}
