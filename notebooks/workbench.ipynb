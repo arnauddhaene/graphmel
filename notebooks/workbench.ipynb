{
 "cells": [
  {
   "cell_type": "code",
   "execution_count": null,
   "metadata": {},
   "outputs": [],
   "source": [
    "import json\n",
    "import math\n",
    "import pandas as pd\n",
    "import numpy as np\n",
    "\n",
    "import seaborn as sns\n",
    "\n",
    "import matplotlib as mpl\n",
    "import matplotlib.pyplot as plt\n",
    "\n",
    "import plotly.express as px\n",
    "import plotly.graph_objects as go"
   ]
  },
  {
   "cell_type": "code",
   "execution_count": null,
   "metadata": {},
   "outputs": [],
   "source": [
    "SMALL_SIZE = 10\n",
    "MEDIUM_SIZE = 12\n",
    "LARGE_SIZE = 16\n",
    "\n",
    "mpl.rcParams['font.family'] = 'serif'\n",
    "mpl.rcParams['font.size'] = SMALL_SIZE\n",
    "mpl.rcParams['axes.titlesize'] = SMALL_SIZE\n",
    "mpl.rcParams['axes.labelsize'] = MEDIUM_SIZE\n",
    "mpl.rcParams['xtick.labelsize'] = SMALL_SIZE\n",
    "mpl.rcParams['ytick.labelsize'] = SMALL_SIZE\n",
    "mpl.rcParams['legend.fontsize'] = SMALL_SIZE\n",
    "mpl.rcParams['figure.titlesize'] = LARGE_SIZE\n",
    "\n",
    "mpl.rcParams['axes.grid'] = True\n",
    "mpl.rcParams['axes.facecolor'] = '#F5F5F5'\n",
    "mpl.rcParams['axes.axisbelow'] = True\n",
    "mpl.rcParams['grid.linestyle'] = ':'"
   ]
  },
  {
   "cell_type": "code",
   "execution_count": null,
   "metadata": {},
   "outputs": [],
   "source": [
    "z_data = np.empty((5, 5))\n",
    "\n",
    "for datapoint in tuning:\n",
    "    \n",
    "    print(f\"{math.log10(float(datapoint['learning_rate']))} {math.log10(float(datapoint['decay']))}\")\n",
    "    \n",
    "    z_data[int(-1 * math.log10(float(datapoint['learning_rate']))) - 1, int(-1 * math.log10(float(datapoint['decay']))) - 1] = float(datapoint['train_accuracy'])\n",
    "    \n",
    "    \n",
    "z_data = pd.DataFrame(z_data)"
   ]
  },
  {
   "cell_type": "code",
   "execution_count": null,
   "metadata": {},
   "outputs": [],
   "source": [
    "mlp = pd.read_csv('../MLPhyperparameters.csv')\n",
    "mlp['model'] = 'MLP'\n",
    "\n",
    "smlp = pd.read_csv('../SiameseMLPhyperparameters.csv')\n",
    "smlp['model'] = 'SiameseMLP'\n",
    "\n",
    "cnn = pd.read_csv('../ConvNethyperparameters.csv')\n",
    "cnn['model'] = 'ConvNet'\n",
    "\n",
    "scnn = pd.read_csv('../SiameseConvNethyperparameters.csv')\n",
    "scnn['model'] = 'SiameseConvNet'"
   ]
  },
  {
   "cell_type": "code",
   "execution_count": null,
   "metadata": {},
   "outputs": [],
   "source": [
    "hypers = pd.concat([mlp, smlp, cnn, scnn])"
   ]
  },
  {
   "cell_type": "code",
   "execution_count": null,
   "metadata": {},
   "outputs": [],
   "source": [
    "hypers[hypers.model == 'ConvNet'].test_accuracy.argmax()"
   ]
  },
  {
   "cell_type": "code",
   "execution_count": null,
   "metadata": {},
   "outputs": [],
   "source": [
    "hypers[hypers.model == 'ConvNet'].iloc[5]"
   ]
  },
  {
   "cell_type": "code",
   "execution_count": null,
   "metadata": {},
   "outputs": [],
   "source": [
    "best = hypers[(hypers.model.isin(['SiameseConvNet', 'SiameseMLP'])) & (hypers.learning_rate == 0.005) & (hypers.decay == 0.001)]\n",
    "\n",
    "\n",
    "\n",
    "best = pd.melt(best.copy(), id_vars=[\"learning_rate\", \"decay\", \"gamma\", \"model\"], var_name=\"dataset\", value_name=\"accuracy\")"
   ]
  },
  {
   "cell_type": "code",
   "execution_count": null,
   "metadata": {},
   "outputs": [],
   "source": [
    "fig, ax = plt.subplots(figsize=(6, 3.25), dpi=100)\n",
    "\n",
    "palette = sns.color_palette(\"blend:#C53212,#5A9\", n_colors=2)\n",
    "palette1 = sns.color_palette(\"blend:#FF5733,#5A6\", n_colors=2)\n",
    "\n",
    "sConv = best[best.model == 'SiameseConvNet'].copy()\n",
    "sConv.rename(columns={'dataset': 'SiameseConvNet'}, inplace=True)\n",
    "sns.lineplot(data=sConv, x=\"gamma\", y=\"accuracy\", hue=\"SiameseConvNet\", palette=palette, ax=ax)\n",
    "\n",
    "sMLP = best[best.model == 'SiameseMLP'].copy()\n",
    "sMLP.rename(columns={'dataset': 'SiameseMLP'}, inplace=True)\n",
    "sns.lineplot(data=sMLP, x=\"gamma\", y=\"accuracy\", hue=\"SiameseMLP\", palette=palette1, ax=ax, linestyle='--', legend=False)\n",
    "\n",
    "lgd = ax.legend().set_title('')\n",
    "\n",
    "plt.tight_layout()\n",
    "\n",
    "plt.savefig('../figures/gamma.png', dpi=fig.dpi)"
   ]
  },
  {
   "cell_type": "code",
   "execution_count": null,
   "metadata": {},
   "outputs": [],
   "source": [
    "surface = np.zeros((5, 4))\n",
    "\n",
    "learning_rates = [5e-4, 1e-3, 5e-3, 1e-2, 5e-2]\n",
    "learning_rates = dict(zip(learning_rates, range(len(learning_rates))))\n",
    "weight_decays = [1e-4, 1e-3, 1e-2, 1e-1]\n",
    "weight_decays = dict(zip(weight_decays, range(len(weight_decays))))\n",
    "\n",
    "\n",
    "for index, row in mlparams.iterrows():\n",
    "    if row.gamma == .5:\n",
    "        surface[learning_rates[row.learning_rate], weight_decays[row.decay]] = row.test_accuracy"
   ]
  },
  {
   "cell_type": "code",
   "execution_count": null,
   "metadata": {},
   "outputs": [],
   "source": [
    "fig = go.Figure(data=go.Surface(x=list(learning_rates.keys()), y=list(weight_decays.keys()),z=surface))\n",
    "\n",
    "fig.layout.scene.yaxis.type = 'log'\n",
    "fig.layout.scene.xaxis.type = 'log'\n",
    "\n",
    "\n",
    "fig.show()"
   ]
  },
  {
   "cell_type": "code",
   "execution_count": null,
   "metadata": {},
   "outputs": [],
   "source": [
    "px.line(mlparams[mlparams.gamma == .5], x='learning_rate', y='test_accuracy', color='decay', log_x=True)"
   ]
  },
  {
   "cell_type": "code",
   "execution_count": null,
   "metadata": {},
   "outputs": [],
   "source": [
    "sns.lineplot(data=mlparams, x=\"gamma\", y=\"test_accuracy\")\n",
    "sns.lineplot(data=mlparams, x=\"gamma\", y=\"train_accuracy\")"
   ]
  },
  {
   "cell_type": "code",
   "execution_count": null,
   "metadata": {},
   "outputs": [],
   "source": [
    "params1 = pd.read_csv('../hyperparameters.csv')\n",
    "params2 = pd.read_csv('../hyperparameters-run-1.csv')\n",
    "\n",
    "params = pd.concat([params1, params2])"
   ]
  },
  {
   "cell_type": "code",
   "execution_count": null,
   "metadata": {},
   "outputs": [],
   "source": [
    "params.shape"
   ]
  },
  {
   "cell_type": "code",
   "execution_count": null,
   "metadata": {},
   "outputs": [],
   "source": [
    "fig = px.scatter_3d(params, x='learning_rate', y='decay', z='gamma',\n",
    "                    log_x=True, log_y=True,\n",
    "                    color='test_accuracy')\n",
    "fig.show()"
   ]
  },
  {
   "cell_type": "code",
   "execution_count": null,
   "metadata": {},
   "outputs": [],
   "source": [
    "import seaborn as sns\n",
    "import matplotlib.pyplot as plt"
   ]
  },
  {
   "cell_type": "code",
   "execution_count": null,
   "metadata": {},
   "outputs": [],
   "source": [
    "params.iloc[156]"
   ]
  },
  {
   "cell_type": "code",
   "execution_count": null,
   "metadata": {},
   "outputs": [],
   "source": [
    "fig, ax = plt.subplots()\n",
    "ax.set(xscale=\"log\")\n",
    "\n",
    "sns.scatterplot(data=params[params['learning_rate'] == .01], x='decay', y='test_accuracy', label='test')\n",
    "sns.scatterplot(data=params[params['learning_rate'] == .01], x='decay', y='train_accuracy', label='train')"
   ]
  },
  {
   "cell_type": "code",
   "execution_count": null,
   "metadata": {},
   "outputs": [],
   "source": [
    "fig, ax = plt.subplots()\n",
    "ax.set(xscale=\"log\")\n",
    "\n",
    "sns.scatterplot(data=params[params['decay'] == 1e-4], x='learning_rate', y='test_accuracy', label='test')\n",
    "sns.scatterplot(data=params[params['decay'] == 1e-4], x='learning_rate', y='train_accuracy', label='train')"
   ]
  },
  {
   "cell_type": "code",
   "execution_count": null,
   "metadata": {},
   "outputs": [],
   "source": [
    "sns.scatterplot(data=params[(params['decay'] == 1e-4) & (params['learning_rate'] == .01)], x='gamma', y='test_accuracy', label='test')\n",
    "sns.scatterplot(data=params[(params['decay'] == 1e-4) & (params['learning_rate'] == .01)], x='gamma', y='train_accuracy', label='train')"
   ]
  },
  {
   "cell_type": "code",
   "execution_count": null,
   "metadata": {},
   "outputs": [],
   "source": [
    "sns.scatterplot(data=params[(params['decay'].isin([1e-4, 1e-3])) & (params['learning_rate'].isin([1e-2, 5e-3]))], x='gamma', y='test_accuracy', label='test')\n",
    "sns.scatterplot(data=params[(params['decay'].isin([1e-4, 1e-3])) & (params['learning_rate'].isin([1e-2, 5e-3]))], x='gamma', y='train_accuracy', label='train')"
   ]
  },
  {
   "cell_type": "code",
   "execution_count": null,
   "metadata": {},
   "outputs": [],
   "source": [
    "fig, ax = plt.subplots()\n",
    "ax.set(xscale=\"log\", yscale=\"log\")\n",
    "\n",
    "sns.scatterplot(data=params, x='learning_rate', y='train_accuracy', ax=ax)"
   ]
  },
  {
   "cell_type": "code",
   "execution_count": null,
   "metadata": {},
   "outputs": [],
   "source": []
  },
  {
   "cell_type": "code",
   "execution_count": null,
   "metadata": {},
   "outputs": [],
   "source": [
    "import sys, os\n",
    "\n",
    "sys.path.append(os.path.abspath('..'))"
   ]
  },
  {
   "cell_type": "code",
   "execution_count": null,
   "metadata": {},
   "outputs": [],
   "source": [
    "import matplotlib as mpl\n",
    "import matplotlib.pyplot as plt\n",
    "\n",
    "mpl.rcParams['figure.figsize'] = [8.3, 5.1]"
   ]
  },
  {
   "cell_type": "code",
   "execution_count": null,
   "metadata": {},
   "outputs": [],
   "source": [
    "from utils import load_dataset\n",
    "from metrics import TrainingMetrics"
   ]
  },
  {
   "cell_type": "code",
   "execution_count": null,
   "metadata": {},
   "outputs": [],
   "source": [
    "import torch\n",
    "from torch import nn\n",
    "from torch.nn import functional as F\n",
    "from torch.utils.data import TensorDataset, DataLoader"
   ]
  },
  {
   "cell_type": "code",
   "execution_count": null,
   "metadata": {},
   "outputs": [],
   "source": [
    "class Net(nn.Module):\n",
    "    def __init__(self, nb_hidden):\n",
    "        super().__init__()\n",
    "        # Convolutional layers\n",
    "        self.conv1 = nn.Conv2d(2, 24, kernel_size=3)\n",
    "        self.conv2 = nn.Conv2d(24, 49, kernel_size=3)\n",
    "        \n",
    "        # fully connected layers\n",
    "        self.fc1 = nn.Linear(196, 128)\n",
    "        self.fc2 = nn.Linear(128, 20)\n",
    "        self.fc3 = nn.Linear(20, 10)\n",
    "        self.classifier = nn.Linear(10, 1)\n",
    "        \n",
    "        # Regularizers\n",
    "        self.drop = nn.Dropout(0.2)\n",
    "        self.pool = nn.MaxPool2d(2,2)\n",
    "        \n",
    "        # Activation functions\n",
    "        self.relu = nn.ReLU()\n",
    "        self.sigmoid = nn.Sigmoid()\n",
    "\n",
    "    def forward(self, x):\n",
    "        x = self.pool(self.relu(self.conv1(x)))\n",
    "        x = self.pool(self.relu(self.conv2(x)))\n",
    "        \n",
    "        x = self.relu(self.fc1(x.flatten(start_dim=1)))\n",
    "        x = self.drop(x)\n",
    "        \n",
    "        x = self.relu(self.fc2(x))\n",
    "        x = self.drop(x)\n",
    "        \n",
    "        x = self.relu(self.fc3(x.flatten(start_dim=1)))\n",
    "        \n",
    "        x = self.sigmoid(self.classifier(x))\n",
    "        \n",
    "        return x.squeeze(), None"
   ]
  },
  {
   "cell_type": "code",
   "execution_count": null,
   "metadata": {},
   "outputs": [],
   "source": [
    "train_loader, test_loader = load_dataset()"
   ]
  },
  {
   "cell_type": "code",
   "execution_count": null,
   "metadata": {},
   "outputs": [],
   "source": [
    "model = Net(200)"
   ]
  },
  {
   "cell_type": "code",
   "execution_count": null,
   "metadata": {},
   "outputs": [],
   "source": [
    "def accuracy(model, load):\n",
    "    \n",
    "    accuracy = 0.\n",
    "    counter = 0\n",
    "    \n",
    "    model.eval()\n",
    "    \n",
    "    with torch.no_grad():\n",
    "            for (input, target, _) in load:\n",
    "                output, _ = model(input)\n",
    "                \n",
    "                accuracy += (output >= 0.5) == target\n",
    "                counter += target.size(0)\n",
    "                \n",
    "    return (accuracy.sum() / counter).float().item()"
   ]
  },
  {
   "cell_type": "code",
   "execution_count": null,
   "metadata": {},
   "outputs": [],
   "source": [
    "criterion = nn.BCELoss()\n",
    "eta = 1e-2\n",
    "epochs = 25\n",
    "decay = 1e-3\n",
    "\n",
    "optimizer = torch.optim.Adam(model.parameters(), lr=eta, weight_decay=decay)\n",
    "\n",
    "metrics = TrainingMetrics()\n",
    "\n",
    "for epoch in range(epochs):\n",
    "    \n",
    "    acc_loss = 0.\n",
    "    \n",
    "    model.train()\n",
    "    \n",
    "    for input, target, classes in train_loader:\n",
    "        \n",
    "        output, aux = model(input)\n",
    "        loss = criterion(output, target.float())\n",
    "        \n",
    "        acc_loss += loss.item()\n",
    "        \n",
    "        optimizer.zero_grad()\n",
    "        loss.backward()\n",
    "        optimizer.step()\n",
    "        \n",
    "    metrics.add_entry(epoch, acc_loss, accuracy(model, train_loader))\n",
    "    print(metrics)"
   ]
  },
  {
   "cell_type": "code",
   "execution_count": null,
   "metadata": {},
   "outputs": [],
   "source": [
    "print(f\"{4.555:06.3f}\")"
   ]
  },
  {
   "cell_type": "code",
   "execution_count": null,
   "metadata": {},
   "outputs": [],
   "source": [
    "import pandas as pd\n",
    "import seaborn as sns\n",
    "\n",
    "training_stats = pd.DataFrame.from_dict(stats, orient='index')\n",
    "training_stats['epoch'] = training_stats.index"
   ]
  },
  {
   "cell_type": "code",
   "execution_count": null,
   "metadata": {},
   "outputs": [],
   "source": [
    "ax_loss = sns.lineplot(data=training_stats, x=\"epoch\", y=\"loss\", label='loss')\n",
    "\n",
    "ax_acc = ax_loss.twinx()\n",
    "\n",
    "sns.lineplot(data=training_stats, x=\"epoch\", y=\"accuracy\", label='accuracy', ax=ax_acc, color='r')\n",
    "\n",
    "plt.show()"
   ]
  },
  {
   "cell_type": "code",
   "execution_count": null,
   "metadata": {},
   "outputs": [],
   "source": []
  },
  {
   "cell_type": "code",
   "execution_count": null,
   "metadata": {},
   "outputs": [],
   "source": []
  },
  {
   "cell_type": "code",
   "execution_count": null,
   "metadata": {},
   "outputs": [],
   "source": [
    "import pandas as pd"
   ]
  },
  {
   "cell_type": "code",
   "execution_count": null,
   "metadata": {},
   "outputs": [],
   "source": [
    "tm = pd.read_csv('../testing_metrics.csv')"
   ]
  },
  {
   "cell_type": "code",
   "execution_count": null,
   "metadata": {},
   "outputs": [],
   "source": [
    "tm.accuracy.mean()"
   ]
  },
  {
   "cell_type": "code",
   "execution_count": null,
   "metadata": {},
   "outputs": [],
   "source": [
    "import sys, os\n",
    "\n",
    "sys.path.append(os.path.abspath('../src'))\n",
    "\n",
    "import torch\n",
    "from models.siamese_convnet import SiameseConvNet"
   ]
  },
  {
   "cell_type": "code",
   "execution_count": null,
   "metadata": {},
   "outputs": [],
   "source": [
    "model = SiameseConvNet()\n",
    "\n",
    "x = torch.randn(1, 2, 14, 14)\n",
    "\n",
    "y = model(x)"
   ]
  },
  {
   "cell_type": "code",
   "execution_count": null,
   "metadata": {},
   "outputs": [],
   "source": [
    "from torchviz import make_dot\n",
    "\n",
    "make_dot(y, params=dict(model.named_parameters()))"
   ]
  },
  {
   "cell_type": "code",
   "execution_count": null,
   "metadata": {},
   "outputs": [],
   "source": [
    "import matplotlib.pyplot as plt\n",
    "\n",
    "plt.subplot(121), plt.imshow(x[0, 0, :, :])\n",
    "plt.subplot(122), plt.imshow(x[0, 1, :, :])"
   ]
  },
  {
   "cell_type": "code",
   "execution_count": null,
   "metadata": {},
   "outputs": [],
   "source": []
  }
 ],
 "metadata": {
  "kernelspec": {
   "name": "python385jvsc74a57bd0cd2edb166c77106dd34676ef998b71cb296d61cfffa45bb0b64ff16e7b773021",
   "display_name": "Python 3.8.5 64-bit ('ds': conda)"
  },
  "language_info": {
   "codemirror_mode": {
    "name": "ipython",
    "version": 3
   },
   "file_extension": ".py",
   "mimetype": "text/x-python",
   "name": "python",
   "nbconvert_exporter": "python",
   "pygments_lexer": "ipython3",
   "version": "3.8.5"
  }
 },
 "nbformat": 4,
 "nbformat_minor": 4
}